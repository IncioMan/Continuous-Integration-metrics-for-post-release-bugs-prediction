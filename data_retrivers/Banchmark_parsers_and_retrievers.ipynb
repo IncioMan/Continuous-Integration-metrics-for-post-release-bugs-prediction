{
 "cells": [
  {
   "cell_type": "code",
   "execution_count": 1,
   "metadata": {},
   "outputs": [],
   "source": [
    "import pandas as pd\n",
    "import pickle\n",
    "import json\n",
    "import seaborn as sns\n",
    "import pprint\n",
    "import numpy as np\n",
    "import math\n",
    "import ast\n",
    "import glob\n",
    "import re\n",
    "pp = pprint.PrettyPrinter(depth=6)\n",
    "import matplotlib\n",
    "import matplotlib.pyplot as plt\n",
    "import log_parser as lp\n",
    "import test as lr\n",
    "matplotlib.rcParams['figure.figsize'] = (15.0, 5.0)\n",
    "pd.set_option('display.max_columns', 120)\n",
    "pd.set_option('display.max_rows', 450)"
   ]
  },
  {
   "cell_type": "code",
   "execution_count": 2,
   "metadata": {},
   "outputs": [],
   "source": [
    "pkl_folder = \"../../pkl\"\n",
    "csv_folder = \"../../csv\""
   ]
  },
  {
   "cell_type": "code",
   "execution_count": 4,
   "metadata": {},
   "outputs": [],
   "source": [
    "folder  = \"../logs/test/logs6\"\n",
    "log_files = glob.glob(f\"{folder}/*.log\")\n",
    "job_ids = list(map(lambda x: re.search(\"/(\\d*)\\.log\", x)[1], log_files))\n",
    "metrics = lp.load_jobs_log_metrics(folder)"
   ]
  },
  {
   "cell_type": "code",
   "execution_count": 5,
   "metadata": {},
   "outputs": [
    {
     "data": {
      "text/plain": [
       "['94705857']"
      ]
     },
     "execution_count": 5,
     "metadata": {},
     "output_type": "execute_result"
    }
   ],
   "source": [
    "job_ids[:1]"
   ]
  },
  {
   "cell_type": "code",
   "execution_count": 14,
   "metadata": {},
   "outputs": [],
   "source": [
    "def load_and_extract_metrics(job_id):\n",
    "    with open(f\"{folder}/{job_id}.log\", \"r\") as f:\n",
    "        log = f.read()\n",
    "    lp.joblogmetric(job_id, log=log)"
   ]
  },
  {
   "cell_type": "code",
   "execution_count": 15,
   "metadata": {},
   "outputs": [
    {
     "name": "stdout",
     "output_type": "stream",
     "text": [
      " "
     ]
    }
   ],
   "source": [
    "%prun load_and_extract_metrics(94705857)"
   ]
  },
  {
   "cell_type": "code",
   "execution_count": 4,
   "metadata": {},
   "outputs": [
    {
     "name": "stdout",
     "output_type": "stream",
     "text": [
      "4.1 s ± 808 ms per loop (mean ± std. dev. of 7 runs, 1 loop each)\n"
     ]
    }
   ],
   "source": [
    "%%timeit\n",
    "lr.multithread_fetching(job_ids[:30], False)"
   ]
  },
  {
   "cell_type": "code",
   "execution_count": 5,
   "metadata": {},
   "outputs": [
    {
     "name": "stdout",
     "output_type": "stream",
     "text": [
      "36.6 s ± 1.03 s per loop (mean ± std. dev. of 7 runs, 1 loop each)\n"
     ]
    }
   ],
   "source": [
    "%%timeit\n",
    "lr.singlethread_fetching(job_ids[:30], False)"
   ]
  },
  {
   "cell_type": "code",
   "execution_count": 4,
   "metadata": {},
   "outputs": [],
   "source": [
    "JOB_LOG_METRICS_COLUMNS = [\"job_id\", \"build_target\",\"build_tool\", \"build_canceled_open_pr_on_branch\"\\\n",
    ", \"errors\", \"failures\", \"suspected_words\", \"warnings\", \"skipped_words\", \"lines\", \"words\",\\\n",
    "    \"exceptions\", \"error_classes\", \"tests_total\", \"tests_passed\", \"tests_failed\", \"tests_skipped\", \"failed_tasks\"\n",
    "    ]"
   ]
  },
  {
   "cell_type": "code",
   "execution_count": 9,
   "metadata": {
    "scrolled": true
   },
   "outputs": [
    {
     "name": "stdout",
     "output_type": "stream",
     "text": [
      "4.06 s ± 18.4 ms per loop (mean ± std. dev. of 7 runs, 1 loop each)\n"
     ]
    }
   ],
   "source": [
    "%%timeit\n",
    "lp.multiprocess_parsing(job_ids[:100], folder)"
   ]
  },
  {
   "cell_type": "code",
   "execution_count": 10,
   "metadata": {},
   "outputs": [
    {
     "name": "stdout",
     "output_type": "stream",
     "text": [
      "10.8 s ± 25.9 ms per loop (mean ± std. dev. of 7 runs, 1 loop each)\n"
     ]
    }
   ],
   "source": [
    "%%timeit\n",
    "lp.singleprocess_parsing(job_ids[:100], metrics, folder)"
   ]
  },
  {
   "cell_type": "markdown",
   "metadata": {},
   "source": [
    "# Goal"
   ]
  },
  {
   "cell_type": "markdown",
   "metadata": {},
   "source": [
    "Calculate ci metrics for each release and output a dataset with one entry for release and a list of metrics as features"
   ]
  },
  {
   "cell_type": "code",
   "execution_count": 3,
   "metadata": {},
   "outputs": [
    {
     "data": {
      "text/html": [
       "<div>\n",
       "<style scoped>\n",
       "    .dataframe tbody tr th:only-of-type {\n",
       "        vertical-align: middle;\n",
       "    }\n",
       "\n",
       "    .dataframe tbody tr th {\n",
       "        vertical-align: top;\n",
       "    }\n",
       "\n",
       "    .dataframe thead th {\n",
       "        text-align: right;\n",
       "    }\n",
       "</style>\n",
       "<table border=\"1\" class=\"dataframe\">\n",
       "  <thead>\n",
       "    <tr style=\"text-align: right;\">\n",
       "      <th></th>\n",
       "      <th>actual_release_date</th>\n",
       "      <th>Tag</th>\n",
       "      <th>Sha</th>\n",
       "      <th>Date</th>\n",
       "      <th>month</th>\n",
       "      <th>year</th>\n",
       "      <th>major_version</th>\n",
       "      <th>jira_version</th>\n",
       "    </tr>\n",
       "  </thead>\n",
       "  <tbody>\n",
       "    <tr>\n",
       "      <th>0</th>\n",
       "      <td>NaN</td>\n",
       "      <td>4.5.6</td>\n",
       "      <td>12d931e5a31e1692a428bbb34ba11cd63aebf998</td>\n",
       "      <td>2015-10-16 09:31:18</td>\n",
       "      <td>10</td>\n",
       "      <td>2015</td>\n",
       "      <td>4</td>\n",
       "      <td>4.5.6</td>\n",
       "    </tr>\n",
       "    <tr>\n",
       "      <th>1</th>\n",
       "      <td>NaN</td>\n",
       "      <td>4.5.7</td>\n",
       "      <td>e2afb0bff1b8be759789d2c1bc9348de6f519f83</td>\n",
       "      <td>2016-04-08 13:44:39</td>\n",
       "      <td>4</td>\n",
       "      <td>2016</td>\n",
       "      <td>4</td>\n",
       "      <td>4.5.7</td>\n",
       "    </tr>\n",
       "  </tbody>\n",
       "</table>\n",
       "</div>"
      ],
      "text/plain": [
       "  actual_release_date    Tag                                       Sha  \\\n",
       "0                 NaN  4.5.6  12d931e5a31e1692a428bbb34ba11cd63aebf998   \n",
       "1                 NaN  4.5.7  e2afb0bff1b8be759789d2c1bc9348de6f519f83   \n",
       "\n",
       "                 Date  month  year  major_version jira_version  \n",
       "0 2015-10-16 09:31:18     10  2015              4        4.5.6  \n",
       "1 2016-04-08 13:44:39      4  2016              4        4.5.7  "
      ]
     },
     "execution_count": 3,
     "metadata": {},
     "output_type": "execute_result"
    }
   ],
   "source": [
    "tags = pd.read_csv(f\"{csv_folder}/tags_updated.csv\", index_col=0)\n",
    "tags.Date = pd.to_datetime(tags.Date)\n",
    "tags.head(2)"
   ]
  },
  {
   "cell_type": "markdown",
   "metadata": {},
   "source": [
    "### Import builds and jobs"
   ]
  },
  {
   "cell_type": "code",
   "execution_count": 4,
   "metadata": {},
   "outputs": [
    {
     "data": {
      "text/html": [
       "<div>\n",
       "<style scoped>\n",
       "    .dataframe tbody tr th:only-of-type {\n",
       "        vertical-align: middle;\n",
       "    }\n",
       "\n",
       "    .dataframe tbody tr th {\n",
       "        vertical-align: top;\n",
       "    }\n",
       "\n",
       "    .dataframe thead th {\n",
       "        text-align: right;\n",
       "    }\n",
       "</style>\n",
       "<table border=\"1\" class=\"dataframe\">\n",
       "  <thead>\n",
       "    <tr style=\"text-align: right;\">\n",
       "      <th></th>\n",
       "      <th>number</th>\n",
       "      <th>pull_request_number</th>\n",
       "      <th>id</th>\n",
       "      <th>event_type</th>\n",
       "      <th>finished_at</th>\n",
       "      <th>pull_request_title</th>\n",
       "      <th>started_at</th>\n",
       "      <th>duration</th>\n",
       "      <th>state</th>\n",
       "      <th>started_at_day</th>\n",
       "      <th>started_at_month</th>\n",
       "      <th>started_at_year</th>\n",
       "    </tr>\n",
       "  </thead>\n",
       "  <tbody>\n",
       "    <tr>\n",
       "      <th>0</th>\n",
       "      <td>6995</td>\n",
       "      <td>NaN</td>\n",
       "      <td>99118995</td>\n",
       "      <td>push</td>\n",
       "      <td>2015-12-28 16:34:08+00:00</td>\n",
       "      <td>NaN</td>\n",
       "      <td>2015-12-28 16:18:41+00:00</td>\n",
       "      <td>5361.0</td>\n",
       "      <td>failed</td>\n",
       "      <td>28.0</td>\n",
       "      <td>12.0</td>\n",
       "      <td>2015.0</td>\n",
       "    </tr>\n",
       "    <tr>\n",
       "      <th>1</th>\n",
       "      <td>6994</td>\n",
       "      <td>NaN</td>\n",
       "      <td>99100662</td>\n",
       "      <td>push</td>\n",
       "      <td>2015-12-28 14:36:03+00:00</td>\n",
       "      <td>NaN</td>\n",
       "      <td>2015-12-28 14:18:30+00:00</td>\n",
       "      <td>5953.0</td>\n",
       "      <td>passed</td>\n",
       "      <td>28.0</td>\n",
       "      <td>12.0</td>\n",
       "      <td>2015.0</td>\n",
       "    </tr>\n",
       "  </tbody>\n",
       "</table>\n",
       "</div>"
      ],
      "text/plain": [
       "   number  pull_request_number        id event_type  \\\n",
       "0    6995                  NaN  99118995       push   \n",
       "1    6994                  NaN  99100662       push   \n",
       "\n",
       "                 finished_at pull_request_title                 started_at  \\\n",
       "0  2015-12-28 16:34:08+00:00                NaN  2015-12-28 16:18:41+00:00   \n",
       "1  2015-12-28 14:36:03+00:00                NaN  2015-12-28 14:18:30+00:00   \n",
       "\n",
       "   duration   state  started_at_day  started_at_month  started_at_year  \n",
       "0    5361.0  failed            28.0              12.0           2015.0  \n",
       "1    5953.0  passed            28.0              12.0           2015.0  "
      ]
     },
     "execution_count": 4,
     "metadata": {},
     "output_type": "execute_result"
    }
   ],
   "source": [
    "builds = pd.read_csv(f\"{csv_folder}/builds_cleaned.csv\", index_col=0)\n",
    "builds.head(2)"
   ]
  },
  {
   "cell_type": "code",
   "execution_count": 5,
   "metadata": {},
   "outputs": [
    {
     "data": {
      "text/plain": [
       "(136983, 13)"
      ]
     },
     "execution_count": 5,
     "metadata": {},
     "output_type": "execute_result"
    }
   ],
   "source": [
    "jobs = pd.read_csv(f\"{csv_folder}/allJobs.csv\", index_col=0)\n",
    "for datefield in [\"started_at\",\"created_at\",\"finished_at\",\"updated_at\"]:\n",
    "    jobs[f\"{datefield}\"] = pd.to_datetime(jobs[f\"{datefield}\"])\n",
    "jobs.shape"
   ]
  },
  {
   "cell_type": "markdown",
   "metadata": {},
   "source": [
    "### Import tag comparison pairs"
   ]
  },
  {
   "cell_type": "code",
   "execution_count": 6,
   "metadata": {
    "scrolled": true
   },
   "outputs": [
    {
     "data": {
      "text/html": [
       "<div>\n",
       "<style scoped>\n",
       "    .dataframe tbody tr th:only-of-type {\n",
       "        vertical-align: middle;\n",
       "    }\n",
       "\n",
       "    .dataframe tbody tr th {\n",
       "        vertical-align: top;\n",
       "    }\n",
       "\n",
       "    .dataframe thead th {\n",
       "        text-align: right;\n",
       "    }\n",
       "</style>\n",
       "<table border=\"1\" class=\"dataframe\">\n",
       "  <thead>\n",
       "    <tr style=\"text-align: right;\">\n",
       "      <th></th>\n",
       "      <th>from_tag</th>\n",
       "      <th>to_tag</th>\n",
       "    </tr>\n",
       "  </thead>\n",
       "  <tbody>\n",
       "    <tr>\n",
       "      <th>2</th>\n",
       "      <td>5.1.1</td>\n",
       "      <td>5.1.2</td>\n",
       "    </tr>\n",
       "    <tr>\n",
       "      <th>3</th>\n",
       "      <td>5.1.2</td>\n",
       "      <td>5.2</td>\n",
       "    </tr>\n",
       "    <tr>\n",
       "      <th>4</th>\n",
       "      <td>5.2</td>\n",
       "      <td>5.3</td>\n",
       "    </tr>\n",
       "    <tr>\n",
       "      <th>5</th>\n",
       "      <td>5.3</td>\n",
       "      <td>5.4</td>\n",
       "    </tr>\n",
       "    <tr>\n",
       "      <th>6</th>\n",
       "      <td>5.4</td>\n",
       "      <td>5.5</td>\n",
       "    </tr>\n",
       "    <tr>\n",
       "      <th>7</th>\n",
       "      <td>5.5</td>\n",
       "      <td>5.6</td>\n",
       "    </tr>\n",
       "    <tr>\n",
       "      <th>8</th>\n",
       "      <td>5.6</td>\n",
       "      <td>5.6.1</td>\n",
       "    </tr>\n",
       "    <tr>\n",
       "      <th>9</th>\n",
       "      <td>5.6.1</td>\n",
       "      <td>5.6.2</td>\n",
       "    </tr>\n",
       "    <tr>\n",
       "      <th>10</th>\n",
       "      <td>5.6.1</td>\n",
       "      <td>6.0</td>\n",
       "    </tr>\n",
       "    <tr>\n",
       "      <th>11</th>\n",
       "      <td>5.6.2</td>\n",
       "      <td>5.6.3</td>\n",
       "    </tr>\n",
       "    <tr>\n",
       "      <th>12</th>\n",
       "      <td>5.6.3</td>\n",
       "      <td>5.6.4</td>\n",
       "    </tr>\n",
       "    <tr>\n",
       "      <th>13</th>\n",
       "      <td>5.6.4</td>\n",
       "      <td>5.6.5</td>\n",
       "    </tr>\n",
       "    <tr>\n",
       "      <th>14</th>\n",
       "      <td>5.6.5</td>\n",
       "      <td>5.6.6</td>\n",
       "    </tr>\n",
       "    <tr>\n",
       "      <th>15</th>\n",
       "      <td>5.6.6</td>\n",
       "      <td>5.6.7</td>\n",
       "    </tr>\n",
       "    <tr>\n",
       "      <th>16</th>\n",
       "      <td>6.0</td>\n",
       "      <td>6.1</td>\n",
       "    </tr>\n",
       "    <tr>\n",
       "      <th>17</th>\n",
       "      <td>6.1</td>\n",
       "      <td>6.1.1</td>\n",
       "    </tr>\n",
       "    <tr>\n",
       "      <th>18</th>\n",
       "      <td>6.1.1</td>\n",
       "      <td>6.2</td>\n",
       "    </tr>\n",
       "    <tr>\n",
       "      <th>19</th>\n",
       "      <td>6.2</td>\n",
       "      <td>6.3</td>\n",
       "    </tr>\n",
       "    <tr>\n",
       "      <th>20</th>\n",
       "      <td>6.3</td>\n",
       "      <td>6.3.1</td>\n",
       "    </tr>\n",
       "    <tr>\n",
       "      <th>21</th>\n",
       "      <td>6.3.1</td>\n",
       "      <td>6.3.2</td>\n",
       "    </tr>\n",
       "    <tr>\n",
       "      <th>22</th>\n",
       "      <td>6.3.2</td>\n",
       "      <td>6.4</td>\n",
       "    </tr>\n",
       "    <tr>\n",
       "      <th>23</th>\n",
       "      <td>6.4</td>\n",
       "      <td>6.5</td>\n",
       "    </tr>\n",
       "    <tr>\n",
       "      <th>24</th>\n",
       "      <td>6.5</td>\n",
       "      <td>6.6</td>\n",
       "    </tr>\n",
       "    <tr>\n",
       "      <th>25</th>\n",
       "      <td>6.6</td>\n",
       "      <td>6.7</td>\n",
       "    </tr>\n",
       "    <tr>\n",
       "      <th>26</th>\n",
       "      <td>6.7</td>\n",
       "      <td>6.7.1</td>\n",
       "    </tr>\n",
       "    <tr>\n",
       "      <th>27</th>\n",
       "      <td>6.7.1</td>\n",
       "      <td>6.7.2</td>\n",
       "    </tr>\n",
       "    <tr>\n",
       "      <th>28</th>\n",
       "      <td>6.7.1</td>\n",
       "      <td>7.0</td>\n",
       "    </tr>\n",
       "    <tr>\n",
       "      <th>29</th>\n",
       "      <td>6.7.2</td>\n",
       "      <td>6.7.3</td>\n",
       "    </tr>\n",
       "    <tr>\n",
       "      <th>30</th>\n",
       "      <td>6.7.3</td>\n",
       "      <td>6.7.4</td>\n",
       "    </tr>\n",
       "    <tr>\n",
       "      <th>31</th>\n",
       "      <td>6.7.4</td>\n",
       "      <td>6.7.5</td>\n",
       "    </tr>\n",
       "    <tr>\n",
       "      <th>32</th>\n",
       "      <td>6.7.5</td>\n",
       "      <td>6.7.6</td>\n",
       "    </tr>\n",
       "    <tr>\n",
       "      <th>33</th>\n",
       "      <td>6.7.6</td>\n",
       "      <td>6.7.7</td>\n",
       "    </tr>\n",
       "    <tr>\n",
       "      <th>34</th>\n",
       "      <td>7.0</td>\n",
       "      <td>7.1</td>\n",
       "    </tr>\n",
       "    <tr>\n",
       "      <th>35</th>\n",
       "      <td>7.1</td>\n",
       "      <td>7.2</td>\n",
       "    </tr>\n",
       "    <tr>\n",
       "      <th>36</th>\n",
       "      <td>7.2</td>\n",
       "      <td>7.3</td>\n",
       "    </tr>\n",
       "    <tr>\n",
       "      <th>37</th>\n",
       "      <td>7.3</td>\n",
       "      <td>7.4</td>\n",
       "    </tr>\n",
       "    <tr>\n",
       "      <th>38</th>\n",
       "      <td>7.4</td>\n",
       "      <td>7.5</td>\n",
       "    </tr>\n",
       "    <tr>\n",
       "      <th>39</th>\n",
       "      <td>7.5</td>\n",
       "      <td>7.6</td>\n",
       "    </tr>\n",
       "    <tr>\n",
       "      <th>40</th>\n",
       "      <td>7.6</td>\n",
       "      <td>7.7</td>\n",
       "    </tr>\n",
       "    <tr>\n",
       "      <th>41</th>\n",
       "      <td>7.7</td>\n",
       "      <td>7.8</td>\n",
       "    </tr>\n",
       "    <tr>\n",
       "      <th>42</th>\n",
       "      <td>7.8</td>\n",
       "      <td>7.9</td>\n",
       "    </tr>\n",
       "    <tr>\n",
       "      <th>43</th>\n",
       "      <td>7.9</td>\n",
       "      <td>7.9.1</td>\n",
       "    </tr>\n",
       "    <tr>\n",
       "      <th>44</th>\n",
       "      <td>7.9</td>\n",
       "      <td>8.0</td>\n",
       "    </tr>\n",
       "    <tr>\n",
       "      <th>45</th>\n",
       "      <td>7.9.1</td>\n",
       "      <td>7.9.3</td>\n",
       "    </tr>\n",
       "    <tr>\n",
       "      <th>46</th>\n",
       "      <td>7.9.3</td>\n",
       "      <td>7.9.4</td>\n",
       "    </tr>\n",
       "    <tr>\n",
       "      <th>47</th>\n",
       "      <td>8.0</td>\n",
       "      <td>8.1</td>\n",
       "    </tr>\n",
       "    <tr>\n",
       "      <th>48</th>\n",
       "      <td>8.1</td>\n",
       "      <td>8.2</td>\n",
       "    </tr>\n",
       "    <tr>\n",
       "      <th>49</th>\n",
       "      <td>8.2</td>\n",
       "      <td>8.3</td>\n",
       "    </tr>\n",
       "    <tr>\n",
       "      <th>50</th>\n",
       "      <td>8.3</td>\n",
       "      <td>8.3.1</td>\n",
       "    </tr>\n",
       "    <tr>\n",
       "      <th>51</th>\n",
       "      <td>8.3</td>\n",
       "      <td>8.4</td>\n",
       "    </tr>\n",
       "    <tr>\n",
       "      <th>52</th>\n",
       "      <td>8.4</td>\n",
       "      <td>8.4.1</td>\n",
       "    </tr>\n",
       "    <tr>\n",
       "      <th>53</th>\n",
       "      <td>8.4.1</td>\n",
       "      <td>8.4.2</td>\n",
       "    </tr>\n",
       "  </tbody>\n",
       "</table>\n",
       "</div>"
      ],
      "text/plain": [
       "   from_tag to_tag\n",
       "2     5.1.1  5.1.2\n",
       "3     5.1.2    5.2\n",
       "4       5.2    5.3\n",
       "5       5.3    5.4\n",
       "6       5.4    5.5\n",
       "7       5.5    5.6\n",
       "8       5.6  5.6.1\n",
       "9     5.6.1  5.6.2\n",
       "10    5.6.1    6.0\n",
       "11    5.6.2  5.6.3\n",
       "12    5.6.3  5.6.4\n",
       "13    5.6.4  5.6.5\n",
       "14    5.6.5  5.6.6\n",
       "15    5.6.6  5.6.7\n",
       "16      6.0    6.1\n",
       "17      6.1  6.1.1\n",
       "18    6.1.1    6.2\n",
       "19      6.2    6.3\n",
       "20      6.3  6.3.1\n",
       "21    6.3.1  6.3.2\n",
       "22    6.3.2    6.4\n",
       "23      6.4    6.5\n",
       "24      6.5    6.6\n",
       "25      6.6    6.7\n",
       "26      6.7  6.7.1\n",
       "27    6.7.1  6.7.2\n",
       "28    6.7.1    7.0\n",
       "29    6.7.2  6.7.3\n",
       "30    6.7.3  6.7.4\n",
       "31    6.7.4  6.7.5\n",
       "32    6.7.5  6.7.6\n",
       "33    6.7.6  6.7.7\n",
       "34      7.0    7.1\n",
       "35      7.1    7.2\n",
       "36      7.2    7.3\n",
       "37      7.3    7.4\n",
       "38      7.4    7.5\n",
       "39      7.5    7.6\n",
       "40      7.6    7.7\n",
       "41      7.7    7.8\n",
       "42      7.8    7.9\n",
       "43      7.9  7.9.1\n",
       "44      7.9    8.0\n",
       "45    7.9.1  7.9.3\n",
       "46    7.9.3  7.9.4\n",
       "47      8.0    8.1\n",
       "48      8.1    8.2\n",
       "49      8.2    8.3\n",
       "50      8.3  8.3.1\n",
       "51      8.3    8.4\n",
       "52      8.4  8.4.1\n",
       "53    8.4.1  8.4.2"
      ]
     },
     "execution_count": 6,
     "metadata": {},
     "output_type": "execute_result"
    }
   ],
   "source": [
    "tags_comparison = pd.read_csv(f\"{csv_folder}/tags_comparison_final_updated_no_rc_and_milestones.csv\", index_col=0)\n",
    "tags_comparison.from_commit_date = pd.to_datetime(tags_comparison.from_commit_date)\n",
    "tags_comparison.to_commit_date = pd.to_datetime(tags_comparison.to_commit_date)\n",
    "tags_comparison.from_author_date = pd.to_datetime(tags_comparison.from_author_date)\n",
    "tags_comparison.to_author_date = pd.to_datetime(tags_comparison.to_author_date)\n",
    "tags_comparison = tags_comparison[2:]\n",
    "tags_comparison[[\"from_tag\", \"to_tag\"]]"
   ]
  },
  {
   "cell_type": "markdown",
   "metadata": {},
   "source": [
    "## Import release commits"
   ]
  },
  {
   "cell_type": "code",
   "execution_count": 7,
   "metadata": {},
   "outputs": [],
   "source": [
    "def replace_tags_with_jira(df):\n",
    "    df = df.merge(tags[[\"Tag\",\"jira_version\"]], left_on=\"to_tag\", right_on=\"Tag\")\\\n",
    "    .drop(columns=[\"to_tag\", \"Tag\"]).rename(columns={\"jira_version\":\"to_tag\"})\n",
    "    df = df.merge(tags[[\"Tag\",\"jira_version\"]], left_on=\"from_tag\", right_on=\"Tag\")\\\n",
    "    .drop(columns=[\"from_tag\", \"Tag\"]).rename(columns={\"jira_version\":\"from_tag\"})\n",
    "    return df"
   ]
  },
  {
   "cell_type": "markdown",
   "metadata": {},
   "source": [
    "### Import tags difference commits (git log tag1...tag2) (1)"
   ]
  },
  {
   "cell_type": "code",
   "execution_count": 8,
   "metadata": {},
   "outputs": [
    {
     "data": {
      "text/html": [
       "<div>\n",
       "<style scoped>\n",
       "    .dataframe tbody tr th:only-of-type {\n",
       "        vertical-align: middle;\n",
       "    }\n",
       "\n",
       "    .dataframe tbody tr th {\n",
       "        vertical-align: top;\n",
       "    }\n",
       "\n",
       "    .dataframe thead th {\n",
       "        text-align: right;\n",
       "    }\n",
       "</style>\n",
       "<table border=\"1\" class=\"dataframe\">\n",
       "  <thead>\n",
       "    <tr style=\"text-align: right;\">\n",
       "      <th></th>\n",
       "      <th>from_tag</th>\n",
       "      <th>to_tag</th>\n",
       "      <th>ahead_sha</th>\n",
       "    </tr>\n",
       "  </thead>\n",
       "  <tbody>\n",
       "    <tr>\n",
       "      <th>15603</th>\n",
       "      <td>8.4.1.35646</td>\n",
       "      <td>8.4.2.36762</td>\n",
       "      <td>7721c3eeab3202e91fb9c87dfaec4ba3a7b4d0df</td>\n",
       "    </tr>\n",
       "    <tr>\n",
       "      <th>15604</th>\n",
       "      <td>8.4.1.35646</td>\n",
       "      <td>8.4.2.36762</td>\n",
       "      <td>fd2cb0c84d052b9ea773503be71a3bb3cda13cd6</td>\n",
       "    </tr>\n",
       "  </tbody>\n",
       "</table>\n",
       "</div>"
      ],
      "text/plain": [
       "          from_tag       to_tag                                 ahead_sha\n",
       "15603  8.4.1.35646  8.4.2.36762  7721c3eeab3202e91fb9c87dfaec4ba3a7b4d0df\n",
       "15604  8.4.1.35646  8.4.2.36762  fd2cb0c84d052b9ea773503be71a3bb3cda13cd6"
      ]
     },
     "execution_count": 8,
     "metadata": {},
     "output_type": "execute_result"
    }
   ],
   "source": [
    "tags_comparison_commits = pd.read_csv(f\"{csv_folder}/tags_comparison_commits_no_rc_and_milestones.csv\", index_col=0)\n",
    "tags_comparison_commits.tail(2)"
   ]
  },
  {
   "cell_type": "code",
   "execution_count": 9,
   "metadata": {},
   "outputs": [
    {
     "data": {
      "text/html": [
       "<div>\n",
       "<style scoped>\n",
       "    .dataframe tbody tr th:only-of-type {\n",
       "        vertical-align: middle;\n",
       "    }\n",
       "\n",
       "    .dataframe tbody tr th {\n",
       "        vertical-align: top;\n",
       "    }\n",
       "\n",
       "    .dataframe thead th {\n",
       "        text-align: right;\n",
       "    }\n",
       "</style>\n",
       "<table border=\"1\" class=\"dataframe\">\n",
       "  <thead>\n",
       "    <tr style=\"text-align: right;\">\n",
       "      <th></th>\n",
       "      <th>commitsha</th>\n",
       "      <th>to_tag</th>\n",
       "      <th>from_tag</th>\n",
       "    </tr>\n",
       "  </thead>\n",
       "  <tbody>\n",
       "    <tr>\n",
       "      <th>15603</th>\n",
       "      <td>7721c3eeab3202e91fb9c87dfaec4ba3a7b4d0df</td>\n",
       "      <td>8.4.2</td>\n",
       "      <td>8.4.1</td>\n",
       "    </tr>\n",
       "    <tr>\n",
       "      <th>15604</th>\n",
       "      <td>fd2cb0c84d052b9ea773503be71a3bb3cda13cd6</td>\n",
       "      <td>8.4.2</td>\n",
       "      <td>8.4.1</td>\n",
       "    </tr>\n",
       "  </tbody>\n",
       "</table>\n",
       "</div>"
      ],
      "text/plain": [
       "                                      commitsha to_tag from_tag\n",
       "15603  7721c3eeab3202e91fb9c87dfaec4ba3a7b4d0df  8.4.2    8.4.1\n",
       "15604  fd2cb0c84d052b9ea773503be71a3bb3cda13cd6  8.4.2    8.4.1"
      ]
     },
     "execution_count": 9,
     "metadata": {},
     "output_type": "execute_result"
    }
   ],
   "source": [
    "tags_comparison_commits  = replace_tags_with_jira(tags_comparison_commits)\n",
    "tags_comparison_commits.rename(columns={\"ahead_sha\": \"commitsha\"}, inplace=True)\n",
    "tags_comparison_commits.tail(2)"
   ]
  },
  {
   "cell_type": "code",
   "execution_count": 10,
   "metadata": {},
   "outputs": [
    {
     "data": {
      "text/plain": [
       "(15605, 3)"
      ]
     },
     "execution_count": 10,
     "metadata": {},
     "output_type": "execute_result"
    }
   ],
   "source": [
    "tags_comparison_commits.shape"
   ]
  },
  {
   "cell_type": "markdown",
   "metadata": {},
   "source": [
    "### Import tags commits (1) + iterative PRs"
   ]
  },
  {
   "cell_type": "code",
   "execution_count": 11,
   "metadata": {},
   "outputs": [
    {
     "data": {
      "text/html": [
       "<div>\n",
       "<style scoped>\n",
       "    .dataframe tbody tr th:only-of-type {\n",
       "        vertical-align: middle;\n",
       "    }\n",
       "\n",
       "    .dataframe tbody tr th {\n",
       "        vertical-align: top;\n",
       "    }\n",
       "\n",
       "    .dataframe thead th {\n",
       "        text-align: right;\n",
       "    }\n",
       "</style>\n",
       "<table border=\"1\" class=\"dataframe\">\n",
       "  <thead>\n",
       "    <tr style=\"text-align: right;\">\n",
       "      <th></th>\n",
       "      <th>from_tag</th>\n",
       "      <th>to_tag</th>\n",
       "      <th>commitsha</th>\n",
       "    </tr>\n",
       "  </thead>\n",
       "  <tbody>\n",
       "    <tr>\n",
       "      <th>122451</th>\n",
       "      <td>8.4.1.35646</td>\n",
       "      <td>8.4.2.36762</td>\n",
       "      <td>ed1a72601c559e86ccd96004c99157421b6bcb20</td>\n",
       "    </tr>\n",
       "    <tr>\n",
       "      <th>122452</th>\n",
       "      <td>8.4.1.35646</td>\n",
       "      <td>8.4.2.36762</td>\n",
       "      <td>7721c3eeab3202e91fb9c87dfaec4ba3a7b4d0df</td>\n",
       "    </tr>\n",
       "  </tbody>\n",
       "</table>\n",
       "</div>"
      ],
      "text/plain": [
       "           from_tag       to_tag                                 commitsha\n",
       "122451  8.4.1.35646  8.4.2.36762  ed1a72601c559e86ccd96004c99157421b6bcb20\n",
       "122452  8.4.1.35646  8.4.2.36762  7721c3eeab3202e91fb9c87dfaec4ba3a7b4d0df"
      ]
     },
     "execution_count": 11,
     "metadata": {},
     "output_type": "execute_result"
    }
   ],
   "source": [
    "tags_iterative_pr_commits = pd.read_csv(f\"{csv_folder}/commits_for_tags/tags_pairs_iterative_commits.csv\", index_col=0)\n",
    "tags_iterative_pr_commits.tail(2)"
   ]
  },
  {
   "cell_type": "code",
   "execution_count": 12,
   "metadata": {},
   "outputs": [
    {
     "data": {
      "text/html": [
       "<div>\n",
       "<style scoped>\n",
       "    .dataframe tbody tr th:only-of-type {\n",
       "        vertical-align: middle;\n",
       "    }\n",
       "\n",
       "    .dataframe tbody tr th {\n",
       "        vertical-align: top;\n",
       "    }\n",
       "\n",
       "    .dataframe thead th {\n",
       "        text-align: right;\n",
       "    }\n",
       "</style>\n",
       "<table border=\"1\" class=\"dataframe\">\n",
       "  <thead>\n",
       "    <tr style=\"text-align: right;\">\n",
       "      <th></th>\n",
       "      <th>commitsha</th>\n",
       "      <th>to_tag</th>\n",
       "      <th>from_tag</th>\n",
       "    </tr>\n",
       "  </thead>\n",
       "  <tbody>\n",
       "    <tr>\n",
       "      <th>122451</th>\n",
       "      <td>ed1a72601c559e86ccd96004c99157421b6bcb20</td>\n",
       "      <td>8.4.2</td>\n",
       "      <td>8.4.1</td>\n",
       "    </tr>\n",
       "    <tr>\n",
       "      <th>122452</th>\n",
       "      <td>7721c3eeab3202e91fb9c87dfaec4ba3a7b4d0df</td>\n",
       "      <td>8.4.2</td>\n",
       "      <td>8.4.1</td>\n",
       "    </tr>\n",
       "  </tbody>\n",
       "</table>\n",
       "</div>"
      ],
      "text/plain": [
       "                                       commitsha to_tag from_tag\n",
       "122451  ed1a72601c559e86ccd96004c99157421b6bcb20  8.4.2    8.4.1\n",
       "122452  7721c3eeab3202e91fb9c87dfaec4ba3a7b4d0df  8.4.2    8.4.1"
      ]
     },
     "execution_count": 12,
     "metadata": {},
     "output_type": "execute_result"
    }
   ],
   "source": [
    "tags_iterative_pr_commits  = replace_tags_with_jira(tags_iterative_pr_commits)\n",
    "tags_iterative_pr_commits.tail(2)"
   ]
  },
  {
   "cell_type": "code",
   "execution_count": 13,
   "metadata": {},
   "outputs": [
    {
     "data": {
      "text/plain": [
       "(122453, 3)"
      ]
     },
     "execution_count": 13,
     "metadata": {},
     "output_type": "execute_result"
    }
   ],
   "source": [
    "tags_iterative_pr_commits.shape"
   ]
  },
  {
   "cell_type": "markdown",
   "metadata": {},
   "source": [
    "### Import tags commits the ones nor in (1) or (2) assigned using Jira FixVersion for the issue in commitmessage"
   ]
  },
  {
   "cell_type": "code",
   "execution_count": 14,
   "metadata": {},
   "outputs": [
    {
     "data": {
      "text/html": [
       "<div>\n",
       "<style scoped>\n",
       "    .dataframe tbody tr th:only-of-type {\n",
       "        vertical-align: middle;\n",
       "    }\n",
       "\n",
       "    .dataframe tbody tr th {\n",
       "        vertical-align: top;\n",
       "    }\n",
       "\n",
       "    .dataframe thead th {\n",
       "        text-align: right;\n",
       "    }\n",
       "</style>\n",
       "<table border=\"1\" class=\"dataframe\">\n",
       "  <thead>\n",
       "    <tr style=\"text-align: right;\">\n",
       "      <th></th>\n",
       "      <th>from_tag</th>\n",
       "      <th>to_tag</th>\n",
       "      <th>commitsha</th>\n",
       "    </tr>\n",
       "  </thead>\n",
       "  <tbody>\n",
       "    <tr>\n",
       "      <th>3245</th>\n",
       "      <td>8.4</td>\n",
       "      <td>8.4.1</td>\n",
       "      <td>34a0bc1a4e14e13a7d40a410b268d6ea7b0f3a40</td>\n",
       "    </tr>\n",
       "    <tr>\n",
       "      <th>3246</th>\n",
       "      <td>8.4.1</td>\n",
       "      <td>8.4.2</td>\n",
       "      <td>df64c184d1427f74592459b42093e8b0b6878c98</td>\n",
       "    </tr>\n",
       "  </tbody>\n",
       "</table>\n",
       "</div>"
      ],
      "text/plain": [
       "     from_tag to_tag                                 commitsha\n",
       "3245      8.4  8.4.1  34a0bc1a4e14e13a7d40a410b268d6ea7b0f3a40\n",
       "3246    8.4.1  8.4.2  df64c184d1427f74592459b42093e8b0b6878c98"
      ]
     },
     "execution_count": 14,
     "metadata": {},
     "output_type": "execute_result"
    }
   ],
   "source": [
    "tags_fix_commits = pd.read_csv(f\"{csv_folder}/commits_for_tags/tags_fix_commits.csv\", index_col=0)\n",
    "tags_fix_commits.tail(2)"
   ]
  },
  {
   "cell_type": "code",
   "execution_count": 15,
   "metadata": {
    "scrolled": true
   },
   "outputs": [
    {
     "data": {
      "text/plain": [
       "(3247, 3)"
      ]
     },
     "execution_count": 15,
     "metadata": {},
     "output_type": "execute_result"
    }
   ],
   "source": [
    "tags_fix_commits.shape"
   ]
  }
 ],
 "metadata": {
  "kernelspec": {
   "display_name": "Python 3",
   "language": "python",
   "name": "python3"
  },
  "language_info": {
   "codemirror_mode": {
    "name": "ipython",
    "version": 3
   },
   "file_extension": ".py",
   "mimetype": "text/x-python",
   "name": "python",
   "nbconvert_exporter": "python",
   "pygments_lexer": "ipython3",
   "version": "3.8.2"
  }
 },
 "nbformat": 4,
 "nbformat_minor": 4
}
