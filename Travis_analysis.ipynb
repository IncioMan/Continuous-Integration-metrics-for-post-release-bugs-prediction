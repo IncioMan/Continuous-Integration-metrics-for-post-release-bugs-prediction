{
 "cells": [
  {
   "cell_type": "code",
   "execution_count": 24,
   "metadata": {},
   "outputs": [],
   "source": [
    "import pandas as pd\n",
    "import seaborn as sns\n",
    "import matplotlib\n",
    "import matplotlib.pyplot as plt\n",
    "from ast import literal_eval\n",
    "import pickle\n",
    "import pprint\n",
    "pp = pprint.PrettyPrinter(depth=6)\n",
    "matplotlib.rcParams['figure.figsize'] = (15.0, 5.0)"
   ]
  },
  {
   "cell_type": "markdown",
   "metadata": {},
   "source": [
    "import os\n",
    "thedir = 'rtp-torrent'\n",
    "dirs = [name for name in os.listdir(thedir) if os.path.isdir(os.path.join(thedir, name))]\n",
    "projects = [dirname.replace(\"@\", \"/\") for dirname in dirs if \"@\" in dirname]\n",
    "projects"
   ]
  },
  {
   "cell_type": "code",
   "execution_count": 4,
   "metadata": {},
   "outputs": [],
   "source": [
    "folder = \"../../tmp\""
   ]
  },
  {
   "cell_type": "code",
   "execution_count": 5,
   "metadata": {},
   "outputs": [
    {
     "name": "stdout",
     "output_type": "stream",
     "text": [
      "Index(['tr_build_id', 'gh_project_name', 'gh_is_pr', 'gh_pr_created_at',\n",
      "       'gh_pull_req_num', 'gh_lang', 'git_merged_with', 'git_branch',\n",
      "       'gh_num_commits_in_push', 'gh_commits_in_push',\n",
      "       'git_prev_commit_resolution_status', 'git_prev_built_commit',\n",
      "       'tr_prev_build', 'gh_first_commit_created_at', 'gh_team_size',\n",
      "       'git_all_built_commits', 'git_num_all_built_commits',\n",
      "       'git_trigger_commit', 'tr_virtual_merged_into', 'tr_original_commit',\n",
      "       'gh_num_issue_comments', 'gh_num_commit_comments', 'gh_num_pr_comments',\n",
      "       'git_diff_src_churn', 'git_diff_test_churn', 'gh_diff_files_added',\n",
      "       'gh_diff_files_deleted', 'gh_diff_files_modified',\n",
      "       'gh_diff_tests_added', 'gh_diff_tests_deleted', 'gh_diff_src_files',\n",
      "       'gh_diff_doc_files', 'gh_diff_other_files',\n",
      "       'gh_num_commits_on_files_touched', 'gh_sloc', 'gh_test_lines_per_kloc',\n",
      "       'gh_test_cases_per_kloc', 'gh_asserts_cases_per_kloc',\n",
      "       'gh_by_core_team_member', 'gh_description_complexity', 'gh_pushed_at',\n",
      "       'gh_build_started_at', 'tr_status', 'tr_duration', 'tr_jobs',\n",
      "       'tr_build_number', 'tr_job_id', 'tr_log_lan', 'tr_log_status',\n",
      "       'tr_log_setup_time', 'tr_log_analyzer', 'tr_log_frameworks',\n",
      "       'tr_log_bool_tests_ran', 'tr_log_bool_tests_failed',\n",
      "       'tr_log_num_tests_ok', 'tr_log_num_tests_failed',\n",
      "       'tr_log_num_tests_run', 'tr_log_num_tests_skipped',\n",
      "       'tr_log_tests_failed', 'tr_log_testduration', 'tr_log_buildduration',\n",
      "       'build_successful'],\n",
      "      dtype='object')\n"
     ]
    }
   ],
   "source": [
    "for chunk in  pd.read_csv(f\"{folder}/travistorrent_8_2_2017.csv\", chunksize=10):\n",
    "    cols = print(chunk.columns)\n",
    "    break"
   ]
  },
  {
   "cell_type": "code",
   "execution_count": 11,
   "metadata": {},
   "outputs": [
    {
     "data": {
      "text/html": [
       "<div>\n",
       "<style scoped>\n",
       "    .dataframe tbody tr th:only-of-type {\n",
       "        vertical-align: middle;\n",
       "    }\n",
       "\n",
       "    .dataframe tbody tr th {\n",
       "        vertical-align: top;\n",
       "    }\n",
       "\n",
       "    .dataframe thead th {\n",
       "        text-align: right;\n",
       "    }\n",
       "</style>\n",
       "<table border=\"1\" class=\"dataframe\">\n",
       "  <thead>\n",
       "    <tr style=\"text-align: right;\">\n",
       "      <th></th>\n",
       "      <th>tr_build_id</th>\n",
       "      <th>gh_project_name</th>\n",
       "      <th>gh_is_pr</th>\n",
       "      <th>gh_pr_created_at</th>\n",
       "      <th>gh_pull_req_num</th>\n",
       "      <th>gh_lang</th>\n",
       "      <th>git_merged_with</th>\n",
       "      <th>git_branch</th>\n",
       "      <th>gh_num_commits_in_push</th>\n",
       "      <th>gh_commits_in_push</th>\n",
       "      <th>...</th>\n",
       "      <th>tr_log_bool_tests_ran</th>\n",
       "      <th>tr_log_bool_tests_failed</th>\n",
       "      <th>tr_log_num_tests_ok</th>\n",
       "      <th>tr_log_num_tests_failed</th>\n",
       "      <th>tr_log_num_tests_run</th>\n",
       "      <th>tr_log_num_tests_skipped</th>\n",
       "      <th>tr_log_tests_failed</th>\n",
       "      <th>tr_log_testduration</th>\n",
       "      <th>tr_log_buildduration</th>\n",
       "      <th>build_successful</th>\n",
       "    </tr>\n",
       "  </thead>\n",
       "  <tbody>\n",
       "    <tr>\n",
       "      <th>146754</th>\n",
       "      <td>1053608</td>\n",
       "      <td>adamfisk/LittleProxy</td>\n",
       "      <td>False</td>\n",
       "      <td>NaN</td>\n",
       "      <td>NaN</td>\n",
       "      <td>java</td>\n",
       "      <td>NaN</td>\n",
       "      <td>master</td>\n",
       "      <td>1.0</td>\n",
       "      <td>e8f1b0f7334229a4cbf91131e3757f10bb43ce24</td>\n",
       "      <td>...</td>\n",
       "      <td>True</td>\n",
       "      <td>False</td>\n",
       "      <td>0.0</td>\n",
       "      <td>0.0</td>\n",
       "      <td>NaN</td>\n",
       "      <td>0.0</td>\n",
       "      <td>NaN</td>\n",
       "      <td>0.03</td>\n",
       "      <td>NaN</td>\n",
       "      <td>False</td>\n",
       "    </tr>\n",
       "    <tr>\n",
       "      <th>151226</th>\n",
       "      <td>1104002</td>\n",
       "      <td>Graylog2/graylog2-server</td>\n",
       "      <td>False</td>\n",
       "      <td>NaN</td>\n",
       "      <td>NaN</td>\n",
       "      <td>java</td>\n",
       "      <td>NaN</td>\n",
       "      <td>master</td>\n",
       "      <td>1.0</td>\n",
       "      <td>9bace34b804cb936aefd11efe4e28ef69041d125</td>\n",
       "      <td>...</td>\n",
       "      <td>False</td>\n",
       "      <td>NaN</td>\n",
       "      <td>NaN</td>\n",
       "      <td>NaN</td>\n",
       "      <td>NaN</td>\n",
       "      <td>NaN</td>\n",
       "      <td>NaN</td>\n",
       "      <td>NaN</td>\n",
       "      <td>NaN</td>\n",
       "      <td>False</td>\n",
       "    </tr>\n",
       "    <tr>\n",
       "      <th>151227</th>\n",
       "      <td>1104009</td>\n",
       "      <td>Graylog2/graylog2-server</td>\n",
       "      <td>False</td>\n",
       "      <td>NaN</td>\n",
       "      <td>NaN</td>\n",
       "      <td>java</td>\n",
       "      <td>NaN</td>\n",
       "      <td>develop</td>\n",
       "      <td>1.0</td>\n",
       "      <td>e67571d90c1a7811aa97e084d4bed790fcd3d564</td>\n",
       "      <td>...</td>\n",
       "      <td>False</td>\n",
       "      <td>NaN</td>\n",
       "      <td>NaN</td>\n",
       "      <td>NaN</td>\n",
       "      <td>NaN</td>\n",
       "      <td>NaN</td>\n",
       "      <td>NaN</td>\n",
       "      <td>NaN</td>\n",
       "      <td>NaN</td>\n",
       "      <td>False</td>\n",
       "    </tr>\n",
       "    <tr>\n",
       "      <th>151233</th>\n",
       "      <td>1104095</td>\n",
       "      <td>Graylog2/graylog2-server</td>\n",
       "      <td>False</td>\n",
       "      <td>NaN</td>\n",
       "      <td>NaN</td>\n",
       "      <td>java</td>\n",
       "      <td>NaN</td>\n",
       "      <td>develop</td>\n",
       "      <td>10.0</td>\n",
       "      <td>e67571d90c1a7811aa97e084d4bed790fcd3d564#ef267...</td>\n",
       "      <td>...</td>\n",
       "      <td>False</td>\n",
       "      <td>NaN</td>\n",
       "      <td>NaN</td>\n",
       "      <td>NaN</td>\n",
       "      <td>NaN</td>\n",
       "      <td>NaN</td>\n",
       "      <td>NaN</td>\n",
       "      <td>NaN</td>\n",
       "      <td>NaN</td>\n",
       "      <td>False</td>\n",
       "    </tr>\n",
       "    <tr>\n",
       "      <th>151234</th>\n",
       "      <td>1104114</td>\n",
       "      <td>Graylog2/graylog2-server</td>\n",
       "      <td>False</td>\n",
       "      <td>NaN</td>\n",
       "      <td>NaN</td>\n",
       "      <td>java</td>\n",
       "      <td>NaN</td>\n",
       "      <td>develop</td>\n",
       "      <td>1.0</td>\n",
       "      <td>5bb2792d334e8b4e7770a7de7fc0babadf5841d9</td>\n",
       "      <td>...</td>\n",
       "      <td>False</td>\n",
       "      <td>NaN</td>\n",
       "      <td>NaN</td>\n",
       "      <td>NaN</td>\n",
       "      <td>NaN</td>\n",
       "      <td>NaN</td>\n",
       "      <td>NaN</td>\n",
       "      <td>NaN</td>\n",
       "      <td>0.0</td>\n",
       "      <td>True</td>\n",
       "    </tr>\n",
       "    <tr>\n",
       "      <th>...</th>\n",
       "      <td>...</td>\n",
       "      <td>...</td>\n",
       "      <td>...</td>\n",
       "      <td>...</td>\n",
       "      <td>...</td>\n",
       "      <td>...</td>\n",
       "      <td>...</td>\n",
       "      <td>...</td>\n",
       "      <td>...</td>\n",
       "      <td>...</td>\n",
       "      <td>...</td>\n",
       "      <td>...</td>\n",
       "      <td>...</td>\n",
       "      <td>...</td>\n",
       "      <td>...</td>\n",
       "      <td>...</td>\n",
       "      <td>...</td>\n",
       "      <td>...</td>\n",
       "      <td>...</td>\n",
       "      <td>...</td>\n",
       "      <td>...</td>\n",
       "    </tr>\n",
       "    <tr>\n",
       "      <th>3702126</th>\n",
       "      <td>156625515</td>\n",
       "      <td>DSpace/DSpace</td>\n",
       "      <td>False</td>\n",
       "      <td>NaN</td>\n",
       "      <td>NaN</td>\n",
       "      <td>java</td>\n",
       "      <td>NaN</td>\n",
       "      <td>master</td>\n",
       "      <td>NaN</td>\n",
       "      <td>NaN</td>\n",
       "      <td>...</td>\n",
       "      <td>True</td>\n",
       "      <td>False</td>\n",
       "      <td>14.0</td>\n",
       "      <td>0.0</td>\n",
       "      <td>14.0</td>\n",
       "      <td>0.0</td>\n",
       "      <td>NaN</td>\n",
       "      <td>211.63</td>\n",
       "      <td>NaN</td>\n",
       "      <td>True</td>\n",
       "    </tr>\n",
       "    <tr>\n",
       "      <th>3702186</th>\n",
       "      <td>156630332</td>\n",
       "      <td>facebook/buck</td>\n",
       "      <td>False</td>\n",
       "      <td>NaN</td>\n",
       "      <td>NaN</td>\n",
       "      <td>java</td>\n",
       "      <td>NaN</td>\n",
       "      <td>master</td>\n",
       "      <td>NaN</td>\n",
       "      <td>NaN</td>\n",
       "      <td>...</td>\n",
       "      <td>False</td>\n",
       "      <td>NaN</td>\n",
       "      <td>NaN</td>\n",
       "      <td>NaN</td>\n",
       "      <td>NaN</td>\n",
       "      <td>NaN</td>\n",
       "      <td>NaN</td>\n",
       "      <td>NaN</td>\n",
       "      <td>NaN</td>\n",
       "      <td>False</td>\n",
       "    </tr>\n",
       "    <tr>\n",
       "      <th>3702253</th>\n",
       "      <td>156635590</td>\n",
       "      <td>DSpace/DSpace</td>\n",
       "      <td>False</td>\n",
       "      <td>NaN</td>\n",
       "      <td>NaN</td>\n",
       "      <td>java</td>\n",
       "      <td>NaN</td>\n",
       "      <td>master</td>\n",
       "      <td>NaN</td>\n",
       "      <td>NaN</td>\n",
       "      <td>...</td>\n",
       "      <td>True</td>\n",
       "      <td>False</td>\n",
       "      <td>14.0</td>\n",
       "      <td>0.0</td>\n",
       "      <td>14.0</td>\n",
       "      <td>0.0</td>\n",
       "      <td>NaN</td>\n",
       "      <td>256.01</td>\n",
       "      <td>NaN</td>\n",
       "      <td>True</td>\n",
       "    </tr>\n",
       "    <tr>\n",
       "      <th>3702265</th>\n",
       "      <td>156637933</td>\n",
       "      <td>facebook/buck</td>\n",
       "      <td>False</td>\n",
       "      <td>NaN</td>\n",
       "      <td>NaN</td>\n",
       "      <td>java</td>\n",
       "      <td>NaN</td>\n",
       "      <td>master</td>\n",
       "      <td>NaN</td>\n",
       "      <td>NaN</td>\n",
       "      <td>...</td>\n",
       "      <td>False</td>\n",
       "      <td>NaN</td>\n",
       "      <td>NaN</td>\n",
       "      <td>NaN</td>\n",
       "      <td>NaN</td>\n",
       "      <td>NaN</td>\n",
       "      <td>NaN</td>\n",
       "      <td>NaN</td>\n",
       "      <td>NaN</td>\n",
       "      <td>False</td>\n",
       "    </tr>\n",
       "    <tr>\n",
       "      <th>3702522</th>\n",
       "      <td>156661290</td>\n",
       "      <td>facebook/buck</td>\n",
       "      <td>False</td>\n",
       "      <td>NaN</td>\n",
       "      <td>NaN</td>\n",
       "      <td>java</td>\n",
       "      <td>NaN</td>\n",
       "      <td>master</td>\n",
       "      <td>NaN</td>\n",
       "      <td>NaN</td>\n",
       "      <td>...</td>\n",
       "      <td>False</td>\n",
       "      <td>NaN</td>\n",
       "      <td>NaN</td>\n",
       "      <td>NaN</td>\n",
       "      <td>NaN</td>\n",
       "      <td>NaN</td>\n",
       "      <td>NaN</td>\n",
       "      <td>NaN</td>\n",
       "      <td>12.0</td>\n",
       "      <td>True</td>\n",
       "    </tr>\n",
       "  </tbody>\n",
       "</table>\n",
       "<p>78123 rows × 62 columns</p>\n",
       "</div>"
      ],
      "text/plain": [
       "         tr_build_id           gh_project_name  gh_is_pr gh_pr_created_at  \\\n",
       "146754       1053608      adamfisk/LittleProxy     False              NaN   \n",
       "151226       1104002  Graylog2/graylog2-server     False              NaN   \n",
       "151227       1104009  Graylog2/graylog2-server     False              NaN   \n",
       "151233       1104095  Graylog2/graylog2-server     False              NaN   \n",
       "151234       1104114  Graylog2/graylog2-server     False              NaN   \n",
       "...              ...                       ...       ...              ...   \n",
       "3702126    156625515             DSpace/DSpace     False              NaN   \n",
       "3702186    156630332             facebook/buck     False              NaN   \n",
       "3702253    156635590             DSpace/DSpace     False              NaN   \n",
       "3702265    156637933             facebook/buck     False              NaN   \n",
       "3702522    156661290             facebook/buck     False              NaN   \n",
       "\n",
       "         gh_pull_req_num gh_lang git_merged_with git_branch  \\\n",
       "146754               NaN    java             NaN     master   \n",
       "151226               NaN    java             NaN     master   \n",
       "151227               NaN    java             NaN    develop   \n",
       "151233               NaN    java             NaN    develop   \n",
       "151234               NaN    java             NaN    develop   \n",
       "...                  ...     ...             ...        ...   \n",
       "3702126              NaN    java             NaN     master   \n",
       "3702186              NaN    java             NaN     master   \n",
       "3702253              NaN    java             NaN     master   \n",
       "3702265              NaN    java             NaN     master   \n",
       "3702522              NaN    java             NaN     master   \n",
       "\n",
       "         gh_num_commits_in_push  \\\n",
       "146754                      1.0   \n",
       "151226                      1.0   \n",
       "151227                      1.0   \n",
       "151233                     10.0   \n",
       "151234                      1.0   \n",
       "...                         ...   \n",
       "3702126                     NaN   \n",
       "3702186                     NaN   \n",
       "3702253                     NaN   \n",
       "3702265                     NaN   \n",
       "3702522                     NaN   \n",
       "\n",
       "                                        gh_commits_in_push  ...  \\\n",
       "146754            e8f1b0f7334229a4cbf91131e3757f10bb43ce24  ...   \n",
       "151226            9bace34b804cb936aefd11efe4e28ef69041d125  ...   \n",
       "151227            e67571d90c1a7811aa97e084d4bed790fcd3d564  ...   \n",
       "151233   e67571d90c1a7811aa97e084d4bed790fcd3d564#ef267...  ...   \n",
       "151234            5bb2792d334e8b4e7770a7de7fc0babadf5841d9  ...   \n",
       "...                                                    ...  ...   \n",
       "3702126                                                NaN  ...   \n",
       "3702186                                                NaN  ...   \n",
       "3702253                                                NaN  ...   \n",
       "3702265                                                NaN  ...   \n",
       "3702522                                                NaN  ...   \n",
       "\n",
       "        tr_log_bool_tests_ran tr_log_bool_tests_failed  tr_log_num_tests_ok  \\\n",
       "146754                   True                    False                  0.0   \n",
       "151226                  False                      NaN                  NaN   \n",
       "151227                  False                      NaN                  NaN   \n",
       "151233                  False                      NaN                  NaN   \n",
       "151234                  False                      NaN                  NaN   \n",
       "...                       ...                      ...                  ...   \n",
       "3702126                  True                    False                 14.0   \n",
       "3702186                 False                      NaN                  NaN   \n",
       "3702253                  True                    False                 14.0   \n",
       "3702265                 False                      NaN                  NaN   \n",
       "3702522                 False                      NaN                  NaN   \n",
       "\n",
       "        tr_log_num_tests_failed  tr_log_num_tests_run  \\\n",
       "146754                      0.0                   NaN   \n",
       "151226                      NaN                   NaN   \n",
       "151227                      NaN                   NaN   \n",
       "151233                      NaN                   NaN   \n",
       "151234                      NaN                   NaN   \n",
       "...                         ...                   ...   \n",
       "3702126                     0.0                  14.0   \n",
       "3702186                     NaN                   NaN   \n",
       "3702253                     0.0                  14.0   \n",
       "3702265                     NaN                   NaN   \n",
       "3702522                     NaN                   NaN   \n",
       "\n",
       "        tr_log_num_tests_skipped  tr_log_tests_failed tr_log_testduration  \\\n",
       "146754                       0.0                  NaN                0.03   \n",
       "151226                       NaN                  NaN                 NaN   \n",
       "151227                       NaN                  NaN                 NaN   \n",
       "151233                       NaN                  NaN                 NaN   \n",
       "151234                       NaN                  NaN                 NaN   \n",
       "...                          ...                  ...                 ...   \n",
       "3702126                      0.0                  NaN              211.63   \n",
       "3702186                      NaN                  NaN                 NaN   \n",
       "3702253                      0.0                  NaN              256.01   \n",
       "3702265                      NaN                  NaN                 NaN   \n",
       "3702522                      NaN                  NaN                 NaN   \n",
       "\n",
       "        tr_log_buildduration build_successful  \n",
       "146754                   NaN            False  \n",
       "151226                   NaN            False  \n",
       "151227                   NaN            False  \n",
       "151233                   NaN            False  \n",
       "151234                   0.0             True  \n",
       "...                      ...              ...  \n",
       "3702126                  NaN             True  \n",
       "3702186                  NaN            False  \n",
       "3702253                  NaN             True  \n",
       "3702265                  NaN            False  \n",
       "3702522                 12.0             True  \n",
       "\n",
       "[78123 rows x 62 columns]"
      ]
     },
     "execution_count": 11,
     "metadata": {},
     "output_type": "execute_result"
    }
   ],
   "source": [
    "df = pd.read_csv(f\"{folder}travis_projects.csv\", index_col=0)\n",
    "df"
   ]
  },
  {
   "cell_type": "code",
   "execution_count": 12,
   "metadata": {},
   "outputs": [
    {
     "data": {
      "text/plain": [
       "Index(['tr_build_id', 'gh_project_name', 'gh_is_pr', 'gh_pr_created_at',\n",
       "       'gh_pull_req_num', 'gh_lang', 'git_merged_with', 'git_branch',\n",
       "       'gh_num_commits_in_push', 'gh_commits_in_push',\n",
       "       'git_prev_commit_resolution_status', 'git_prev_built_commit',\n",
       "       'tr_prev_build', 'gh_first_commit_created_at', 'gh_team_size',\n",
       "       'git_all_built_commits', 'git_num_all_built_commits',\n",
       "       'git_trigger_commit', 'tr_virtual_merged_into', 'tr_original_commit',\n",
       "       'gh_num_issue_comments', 'gh_num_commit_comments', 'gh_num_pr_comments',\n",
       "       'git_diff_src_churn', 'git_diff_test_churn', 'gh_diff_files_added',\n",
       "       'gh_diff_files_deleted', 'gh_diff_files_modified',\n",
       "       'gh_diff_tests_added', 'gh_diff_tests_deleted', 'gh_diff_src_files',\n",
       "       'gh_diff_doc_files', 'gh_diff_other_files',\n",
       "       'gh_num_commits_on_files_touched', 'gh_sloc', 'gh_test_lines_per_kloc',\n",
       "       'gh_test_cases_per_kloc', 'gh_asserts_cases_per_kloc',\n",
       "       'gh_by_core_team_member', 'gh_description_complexity', 'gh_pushed_at',\n",
       "       'gh_build_started_at', 'tr_status', 'tr_duration', 'tr_jobs',\n",
       "       'tr_build_number', 'tr_job_id', 'tr_log_lan', 'tr_log_status',\n",
       "       'tr_log_setup_time', 'tr_log_analyzer', 'tr_log_frameworks',\n",
       "       'tr_log_bool_tests_ran', 'tr_log_bool_tests_failed',\n",
       "       'tr_log_num_tests_ok', 'tr_log_num_tests_failed',\n",
       "       'tr_log_num_tests_run', 'tr_log_num_tests_skipped',\n",
       "       'tr_log_tests_failed', 'tr_log_testduration', 'tr_log_buildduration',\n",
       "       'build_successful'],\n",
       "      dtype='object')"
      ]
     },
     "execution_count": 12,
     "metadata": {},
     "output_type": "execute_result"
    }
   ],
   "source": [
    "df.columns"
   ]
  },
  {
   "cell_type": "markdown",
   "metadata": {},
   "source": [
    "#### Number of builds per project"
   ]
  },
  {
   "cell_type": "code",
   "execution_count": 13,
   "metadata": {},
   "outputs": [
    {
     "data": {
      "text/plain": [
       "Text(0.5, 1.0, 'Number of builds')"
      ]
     },
     "execution_count": 13,
     "metadata": {},
     "output_type": "execute_result"
    },
    {
     "data": {
      "image/png": "[encoded data removed]",
      "text/plain": [
       "<Figure size 1080x360 with 1 Axes>"
      ]
     },
     "metadata": {
      "needs_background": "light"
     },
     "output_type": "display_data"
    }
   ],
   "source": [
    "plt.figure(figsize=(15,5))\n",
    "\n",
    "data=df.groupby(\"gh_project_name\").count().tr_build_id\n",
    "data=data.sort_values()\n",
    "\n",
    "ax = sns.barplot(x=data.index,y=data.values)\n",
    "ax.tick_params(axis='x', labelrotation= 90)\n",
    "ax.set_title(\"Number of builds\")"
   ]
  },
  {
   "cell_type": "markdown",
   "metadata": {},
   "source": [
    "#### Number of builds with test results"
   ]
  },
  {
   "cell_type": "code",
   "execution_count": 14,
   "metadata": {
    "scrolled": false
   },
   "outputs": [
    {
     "data": {
      "text/plain": [
       "Text(0.5, 1.0, 'Number of builds with test results')"
      ]
     },
     "execution_count": 14,
     "metadata": {},
     "output_type": "execute_result"
    },
    {
     "data": {
      "image/png": "[encoded data removed]",
      "text/plain": [
       "<Figure size 1080x360 with 1 Axes>"
      ]
     },
     "metadata": {
      "needs_background": "light"
     },
     "output_type": "display_data"
    }
   ],
   "source": [
    "plt.figure(figsize=(15,5))\n",
    "ax = sns.barplot(x=\"gh_project_name\",y=\"tr_log_bool_tests_ran\",\n",
    "                 data=df.groupby(df.gh_project_name).sum().tr_log_bool_tests_ran.reset_index().sort_values(by=\"tr_log_bool_tests_ran\"))\n",
    "ax.tick_params(axis='x', labelrotation= 90)\n",
    "ax.set_title(\"Number of builds with test results\")"
   ]
  },
  {
   "cell_type": "markdown",
   "metadata": {},
   "source": [
    "#### Percentage of builds with test results"
   ]
  },
  {
   "cell_type": "code",
   "execution_count": 15,
   "metadata": {
    "scrolled": true
   },
   "outputs": [
    {
     "data": {
      "text/plain": [
       "Text(0.5, 1.0, 'Percentage of builds with test results')"
      ]
     },
     "execution_count": 15,
     "metadata": {},
     "output_type": "execute_result"
    },
    {
     "data": {
      "image/png": "[encoded data removed]",
      "text/plain": [
       "<Figure size 1080x360 with 1 Axes>"
      ]
     },
     "metadata": {
      "needs_background": "light"
     },
     "output_type": "display_data"
    }
   ],
   "source": [
    "plt.figure(figsize=(15,5))\n",
    "\n",
    "data=df.groupby(\"gh_project_name\").sum().tr_log_bool_tests_ran/df.groupby(\"gh_project_name\").tr_log_bool_tests_ran.count()\n",
    "data=data.sort_values()\n",
    "\n",
    "ax = sns.barplot(x=data.index,y=data.values)\n",
    "ax.tick_params(axis='x', labelrotation= 90)\n",
    "ax.set_title(\"Percentage of builds with test results\")"
   ]
  },
  {
   "cell_type": "markdown",
   "metadata": {},
   "source": [
    "## In depth analysis of a project"
   ]
  },
  {
   "cell_type": "code",
   "execution_count": 1,
   "metadata": {},
   "outputs": [],
   "source": [
    "project='SonarSource/sonarqube'"
   ]
  },
  {
   "cell_type": "code",
   "execution_count": 86,
   "metadata": {
    "scrolled": true
   },
   "outputs": [
    {
     "data": {
      "text/html": [
       "<div>\n",
       "<style scoped>\n",
       "    .dataframe tbody tr th:only-of-type {\n",
       "        vertical-align: middle;\n",
       "    }\n",
       "\n",
       "    .dataframe tbody tr th {\n",
       "        vertical-align: top;\n",
       "    }\n",
       "\n",
       "    .dataframe thead th {\n",
       "        text-align: right;\n",
       "    }\n",
       "</style>\n",
       "<table border=\"1\" class=\"dataframe\">\n",
       "  <thead>\n",
       "    <tr style=\"text-align: right;\">\n",
       "      <th></th>\n",
       "      <th>tr_build_id</th>\n",
       "      <th>gh_project_name</th>\n",
       "      <th>gh_is_pr</th>\n",
       "      <th>gh_pr_created_at</th>\n",
       "      <th>gh_pull_req_num</th>\n",
       "      <th>gh_lang</th>\n",
       "      <th>git_merged_with</th>\n",
       "      <th>git_branch</th>\n",
       "      <th>gh_num_commits_in_push</th>\n",
       "      <th>gh_commits_in_push</th>\n",
       "      <th>...</th>\n",
       "      <th>tr_log_bool_tests_ran</th>\n",
       "      <th>tr_log_bool_tests_failed</th>\n",
       "      <th>tr_log_num_tests_ok</th>\n",
       "      <th>tr_log_num_tests_failed</th>\n",
       "      <th>tr_log_num_tests_run</th>\n",
       "      <th>tr_log_num_tests_skipped</th>\n",
       "      <th>tr_log_tests_failed</th>\n",
       "      <th>tr_log_testduration</th>\n",
       "      <th>tr_log_buildduration</th>\n",
       "      <th>build_successful</th>\n",
       "    </tr>\n",
       "  </thead>\n",
       "  <tbody>\n",
       "    <tr>\n",
       "      <th>2310262</th>\n",
       "      <td>54731125</td>\n",
       "      <td>SonarSource/sonarqube</td>\n",
       "      <td>False</td>\n",
       "      <td>NaN</td>\n",
       "      <td>NaN</td>\n",
       "      <td>java</td>\n",
       "      <td>NaN</td>\n",
       "      <td>master</td>\n",
       "      <td>1.0</td>\n",
       "      <td>a056b278e321bac091ea3d5fe1f21ad75854e273</td>\n",
       "      <td>...</td>\n",
       "      <td>False</td>\n",
       "      <td>NaN</td>\n",
       "      <td>NaN</td>\n",
       "      <td>NaN</td>\n",
       "      <td>NaN</td>\n",
       "      <td>NaN</td>\n",
       "      <td>NaN</td>\n",
       "      <td>NaN</td>\n",
       "      <td>90.00</td>\n",
       "      <td>False</td>\n",
       "    </tr>\n",
       "    <tr>\n",
       "      <th>2310263</th>\n",
       "      <td>54731125</td>\n",
       "      <td>SonarSource/sonarqube</td>\n",
       "      <td>False</td>\n",
       "      <td>NaN</td>\n",
       "      <td>NaN</td>\n",
       "      <td>java</td>\n",
       "      <td>NaN</td>\n",
       "      <td>master</td>\n",
       "      <td>1.0</td>\n",
       "      <td>a056b278e321bac091ea3d5fe1f21ad75854e273</td>\n",
       "      <td>...</td>\n",
       "      <td>False</td>\n",
       "      <td>NaN</td>\n",
       "      <td>NaN</td>\n",
       "      <td>NaN</td>\n",
       "      <td>NaN</td>\n",
       "      <td>NaN</td>\n",
       "      <td>NaN</td>\n",
       "      <td>NaN</td>\n",
       "      <td>108.00</td>\n",
       "      <td>False</td>\n",
       "    </tr>\n",
       "    <tr>\n",
       "      <th>2310282</th>\n",
       "      <td>54734500</td>\n",
       "      <td>SonarSource/sonarqube</td>\n",
       "      <td>False</td>\n",
       "      <td>NaN</td>\n",
       "      <td>NaN</td>\n",
       "      <td>java</td>\n",
       "      <td>NaN</td>\n",
       "      <td>master</td>\n",
       "      <td>1.0</td>\n",
       "      <td>0a5224287f9dd6a3f0d3098d2f21bb4c69023f12</td>\n",
       "      <td>...</td>\n",
       "      <td>False</td>\n",
       "      <td>NaN</td>\n",
       "      <td>NaN</td>\n",
       "      <td>NaN</td>\n",
       "      <td>NaN</td>\n",
       "      <td>NaN</td>\n",
       "      <td>NaN</td>\n",
       "      <td>NaN</td>\n",
       "      <td>79.00</td>\n",
       "      <td>False</td>\n",
       "    </tr>\n",
       "    <tr>\n",
       "      <th>2310283</th>\n",
       "      <td>54734500</td>\n",
       "      <td>SonarSource/sonarqube</td>\n",
       "      <td>False</td>\n",
       "      <td>NaN</td>\n",
       "      <td>NaN</td>\n",
       "      <td>java</td>\n",
       "      <td>NaN</td>\n",
       "      <td>master</td>\n",
       "      <td>1.0</td>\n",
       "      <td>0a5224287f9dd6a3f0d3098d2f21bb4c69023f12</td>\n",
       "      <td>...</td>\n",
       "      <td>False</td>\n",
       "      <td>NaN</td>\n",
       "      <td>NaN</td>\n",
       "      <td>NaN</td>\n",
       "      <td>NaN</td>\n",
       "      <td>NaN</td>\n",
       "      <td>NaN</td>\n",
       "      <td>NaN</td>\n",
       "      <td>105.00</td>\n",
       "      <td>False</td>\n",
       "    </tr>\n",
       "    <tr>\n",
       "      <th>2310327</th>\n",
       "      <td>54738299</td>\n",
       "      <td>SonarSource/sonarqube</td>\n",
       "      <td>False</td>\n",
       "      <td>NaN</td>\n",
       "      <td>NaN</td>\n",
       "      <td>java</td>\n",
       "      <td>NaN</td>\n",
       "      <td>latest-silver-master#476</td>\n",
       "      <td>1.0</td>\n",
       "      <td>0a5224287f9dd6a3f0d3098d2f21bb4c69023f12</td>\n",
       "      <td>...</td>\n",
       "      <td>False</td>\n",
       "      <td>NaN</td>\n",
       "      <td>NaN</td>\n",
       "      <td>NaN</td>\n",
       "      <td>NaN</td>\n",
       "      <td>NaN</td>\n",
       "      <td>NaN</td>\n",
       "      <td>NaN</td>\n",
       "      <td>105.00</td>\n",
       "      <td>False</td>\n",
       "    </tr>\n",
       "    <tr>\n",
       "      <th>2310328</th>\n",
       "      <td>54738299</td>\n",
       "      <td>SonarSource/sonarqube</td>\n",
       "      <td>False</td>\n",
       "      <td>NaN</td>\n",
       "      <td>NaN</td>\n",
       "      <td>java</td>\n",
       "      <td>NaN</td>\n",
       "      <td>latest-silver-master#476</td>\n",
       "      <td>1.0</td>\n",
       "      <td>0a5224287f9dd6a3f0d3098d2f21bb4c69023f12</td>\n",
       "      <td>...</td>\n",
       "      <td>False</td>\n",
       "      <td>NaN</td>\n",
       "      <td>NaN</td>\n",
       "      <td>NaN</td>\n",
       "      <td>NaN</td>\n",
       "      <td>NaN</td>\n",
       "      <td>NaN</td>\n",
       "      <td>NaN</td>\n",
       "      <td>59.54</td>\n",
       "      <td>False</td>\n",
       "    </tr>\n",
       "    <tr>\n",
       "      <th>2310522</th>\n",
       "      <td>54745798</td>\n",
       "      <td>SonarSource/sonarqube</td>\n",
       "      <td>False</td>\n",
       "      <td>NaN</td>\n",
       "      <td>NaN</td>\n",
       "      <td>java</td>\n",
       "      <td>NaN</td>\n",
       "      <td>master</td>\n",
       "      <td>1.0</td>\n",
       "      <td>dd574e51443d8c9dc64aa7d889f7f6f1281d9ec5</td>\n",
       "      <td>...</td>\n",
       "      <td>False</td>\n",
       "      <td>NaN</td>\n",
       "      <td>NaN</td>\n",
       "      <td>NaN</td>\n",
       "      <td>NaN</td>\n",
       "      <td>NaN</td>\n",
       "      <td>NaN</td>\n",
       "      <td>NaN</td>\n",
       "      <td>89.00</td>\n",
       "      <td>False</td>\n",
       "    </tr>\n",
       "    <tr>\n",
       "      <th>2310523</th>\n",
       "      <td>54745798</td>\n",
       "      <td>SonarSource/sonarqube</td>\n",
       "      <td>False</td>\n",
       "      <td>NaN</td>\n",
       "      <td>NaN</td>\n",
       "      <td>java</td>\n",
       "      <td>NaN</td>\n",
       "      <td>master</td>\n",
       "      <td>1.0</td>\n",
       "      <td>dd574e51443d8c9dc64aa7d889f7f6f1281d9ec5</td>\n",
       "      <td>...</td>\n",
       "      <td>False</td>\n",
       "      <td>NaN</td>\n",
       "      <td>NaN</td>\n",
       "      <td>NaN</td>\n",
       "      <td>NaN</td>\n",
       "      <td>NaN</td>\n",
       "      <td>NaN</td>\n",
       "      <td>NaN</td>\n",
       "      <td>76.00</td>\n",
       "      <td>False</td>\n",
       "    </tr>\n",
       "    <tr>\n",
       "      <th>2310847</th>\n",
       "      <td>54755692</td>\n",
       "      <td>SonarSource/sonarqube</td>\n",
       "      <td>False</td>\n",
       "      <td>NaN</td>\n",
       "      <td>NaN</td>\n",
       "      <td>java</td>\n",
       "      <td>NaN</td>\n",
       "      <td>latest-silver-master#477</td>\n",
       "      <td>1.0</td>\n",
       "      <td>dd574e51443d8c9dc64aa7d889f7f6f1281d9ec5</td>\n",
       "      <td>...</td>\n",
       "      <td>False</td>\n",
       "      <td>NaN</td>\n",
       "      <td>NaN</td>\n",
       "      <td>NaN</td>\n",
       "      <td>NaN</td>\n",
       "      <td>NaN</td>\n",
       "      <td>NaN</td>\n",
       "      <td>NaN</td>\n",
       "      <td>79.00</td>\n",
       "      <td>False</td>\n",
       "    </tr>\n",
       "    <tr>\n",
       "      <th>2310848</th>\n",
       "      <td>54755692</td>\n",
       "      <td>SonarSource/sonarqube</td>\n",
       "      <td>False</td>\n",
       "      <td>NaN</td>\n",
       "      <td>NaN</td>\n",
       "      <td>java</td>\n",
       "      <td>NaN</td>\n",
       "      <td>latest-silver-master#477</td>\n",
       "      <td>1.0</td>\n",
       "      <td>dd574e51443d8c9dc64aa7d889f7f6f1281d9ec5</td>\n",
       "      <td>...</td>\n",
       "      <td>False</td>\n",
       "      <td>NaN</td>\n",
       "      <td>NaN</td>\n",
       "      <td>NaN</td>\n",
       "      <td>NaN</td>\n",
       "      <td>NaN</td>\n",
       "      <td>NaN</td>\n",
       "      <td>NaN</td>\n",
       "      <td>60.00</td>\n",
       "      <td>False</td>\n",
       "    </tr>\n",
       "  </tbody>\n",
       "</table>\n",
       "<p>10 rows × 62 columns</p>\n",
       "</div>"
      ],
      "text/plain": [
       "         tr_build_id        gh_project_name  gh_is_pr gh_pr_created_at  \\\n",
       "2310262     54731125  SonarSource/sonarqube     False              NaN   \n",
       "2310263     54731125  SonarSource/sonarqube     False              NaN   \n",
       "2310282     54734500  SonarSource/sonarqube     False              NaN   \n",
       "2310283     54734500  SonarSource/sonarqube     False              NaN   \n",
       "2310327     54738299  SonarSource/sonarqube     False              NaN   \n",
       "2310328     54738299  SonarSource/sonarqube     False              NaN   \n",
       "2310522     54745798  SonarSource/sonarqube     False              NaN   \n",
       "2310523     54745798  SonarSource/sonarqube     False              NaN   \n",
       "2310847     54755692  SonarSource/sonarqube     False              NaN   \n",
       "2310848     54755692  SonarSource/sonarqube     False              NaN   \n",
       "\n",
       "         gh_pull_req_num gh_lang git_merged_with                git_branch  \\\n",
       "2310262              NaN    java             NaN                    master   \n",
       "2310263              NaN    java             NaN                    master   \n",
       "2310282              NaN    java             NaN                    master   \n",
       "2310283              NaN    java             NaN                    master   \n",
       "2310327              NaN    java             NaN  latest-silver-master#476   \n",
       "2310328              NaN    java             NaN  latest-silver-master#476   \n",
       "2310522              NaN    java             NaN                    master   \n",
       "2310523              NaN    java             NaN                    master   \n",
       "2310847              NaN    java             NaN  latest-silver-master#477   \n",
       "2310848              NaN    java             NaN  latest-silver-master#477   \n",
       "\n",
       "         gh_num_commits_in_push                        gh_commits_in_push  \\\n",
       "2310262                     1.0  a056b278e321bac091ea3d5fe1f21ad75854e273   \n",
       "2310263                     1.0  a056b278e321bac091ea3d5fe1f21ad75854e273   \n",
       "2310282                     1.0  0a5224287f9dd6a3f0d3098d2f21bb4c69023f12   \n",
       "2310283                     1.0  0a5224287f9dd6a3f0d3098d2f21bb4c69023f12   \n",
       "2310327                     1.0  0a5224287f9dd6a3f0d3098d2f21bb4c69023f12   \n",
       "2310328                     1.0  0a5224287f9dd6a3f0d3098d2f21bb4c69023f12   \n",
       "2310522                     1.0  dd574e51443d8c9dc64aa7d889f7f6f1281d9ec5   \n",
       "2310523                     1.0  dd574e51443d8c9dc64aa7d889f7f6f1281d9ec5   \n",
       "2310847                     1.0  dd574e51443d8c9dc64aa7d889f7f6f1281d9ec5   \n",
       "2310848                     1.0  dd574e51443d8c9dc64aa7d889f7f6f1281d9ec5   \n",
       "\n",
       "         ... tr_log_bool_tests_ran tr_log_bool_tests_failed  \\\n",
       "2310262  ...                 False                      NaN   \n",
       "2310263  ...                 False                      NaN   \n",
       "2310282  ...                 False                      NaN   \n",
       "2310283  ...                 False                      NaN   \n",
       "2310327  ...                 False                      NaN   \n",
       "2310328  ...                 False                      NaN   \n",
       "2310522  ...                 False                      NaN   \n",
       "2310523  ...                 False                      NaN   \n",
       "2310847  ...                 False                      NaN   \n",
       "2310848  ...                 False                      NaN   \n",
       "\n",
       "         tr_log_num_tests_ok tr_log_num_tests_failed  tr_log_num_tests_run  \\\n",
       "2310262                  NaN                     NaN                   NaN   \n",
       "2310263                  NaN                     NaN                   NaN   \n",
       "2310282                  NaN                     NaN                   NaN   \n",
       "2310283                  NaN                     NaN                   NaN   \n",
       "2310327                  NaN                     NaN                   NaN   \n",
       "2310328                  NaN                     NaN                   NaN   \n",
       "2310522                  NaN                     NaN                   NaN   \n",
       "2310523                  NaN                     NaN                   NaN   \n",
       "2310847                  NaN                     NaN                   NaN   \n",
       "2310848                  NaN                     NaN                   NaN   \n",
       "\n",
       "        tr_log_num_tests_skipped  tr_log_tests_failed tr_log_testduration  \\\n",
       "2310262                      NaN                  NaN                 NaN   \n",
       "2310263                      NaN                  NaN                 NaN   \n",
       "2310282                      NaN                  NaN                 NaN   \n",
       "2310283                      NaN                  NaN                 NaN   \n",
       "2310327                      NaN                  NaN                 NaN   \n",
       "2310328                      NaN                  NaN                 NaN   \n",
       "2310522                      NaN                  NaN                 NaN   \n",
       "2310523                      NaN                  NaN                 NaN   \n",
       "2310847                      NaN                  NaN                 NaN   \n",
       "2310848                      NaN                  NaN                 NaN   \n",
       "\n",
       "        tr_log_buildduration build_successful  \n",
       "2310262                90.00            False  \n",
       "2310263               108.00            False  \n",
       "2310282                79.00            False  \n",
       "2310283               105.00            False  \n",
       "2310327               105.00            False  \n",
       "2310328                59.54            False  \n",
       "2310522                89.00            False  \n",
       "2310523                76.00            False  \n",
       "2310847                79.00            False  \n",
       "2310848                60.00            False  \n",
       "\n",
       "[10 rows x 62 columns]"
      ]
     },
     "execution_count": 86,
     "metadata": {},
     "output_type": "execute_result"
    }
   ],
   "source": [
    "project_df = df[df.gh_project_name == project]\n",
    "project_df.sort_values(by=\"tr_build_id\").head(10)"
   ]
  },
  {
   "cell_type": "code",
   "execution_count": 87,
   "metadata": {},
   "outputs": [
    {
     "data": {
      "text/plain": [
       "(30142, 62)"
      ]
     },
     "execution_count": 87,
     "metadata": {},
     "output_type": "execute_result"
    }
   ],
   "source": [
    "project_df.shape"
   ]
  },
  {
   "cell_type": "markdown",
   "metadata": {},
   "source": [
    "**Count lines containing the project name**\n",
    "\n",
    "Make sure all lines for the project are correctly imported in pandas"
   ]
  },
  {
   "cell_type": "code",
   "execution_count": 91,
   "metadata": {},
   "outputs": [
    {
     "data": {
      "text/plain": [
       "True"
      ]
     },
     "execution_count": 91,
     "metadata": {},
     "output_type": "execute_result"
    }
   ],
   "source": [
    "num_rows = 0\n",
    "for row in open(f\"{folder}travistorrent_8_2_2017.csv\"):\n",
    "    if(project in row):\n",
    "        num_rows += 1\n",
    "num_rows == len(project_df)"
   ]
  },
  {
   "cell_type": "markdown",
   "metadata": {},
   "source": [
    "### Missing builds from TraviTorrent\n",
    "TraviCI uses an incremental build_number. All the builds up to the highest build_number for the project should be present in the dataset"
   ]
  },
  {
   "cell_type": "code",
   "execution_count": 105,
   "metadata": {
    "scrolled": false
   },
   "outputs": [
    {
     "data": {
      "text/plain": [
       "8222"
      ]
     },
     "execution_count": 105,
     "metadata": {},
     "output_type": "execute_result"
    }
   ],
   "source": [
    "max_build_number = project_df.tr_build_number.max()\n",
    "n_missing_builds = max_build_number - len(project_df.tr_build_number.unique())\n",
    "n_missing_builds"
   ]
  },
  {
   "cell_type": "markdown",
   "metadata": {},
   "source": [
    "Let's plot the distribution of build_numbers to visualize if older builds are the ones more affected by this problem"
   ]
  },
  {
   "cell_type": "code",
   "execution_count": 99,
   "metadata": {},
   "outputs": [
    {
     "data": {
      "text/plain": [
       "<matplotlib.lines.Line2D at 0x13421b250>"
      ]
     },
     "execution_count": 99,
     "metadata": {},
     "output_type": "execute_result"
    },
    {
     "data": {
      "image/png": "[encoded data removed]",
      "text/plain": [
       "<Figure size 1080x360 with 1 Axes>"
      ]
     },
     "metadata": {
      "needs_background": "light"
     },
     "output_type": "display_data"
    }
   ],
   "source": [
    "missing_build_numbers = []\n",
    "build_numbers = project_df.tr_build_number.unique()\n",
    "for i in range(0, project_df.tr_build_number.max()):\n",
    "    if i not in build_numbers:\n",
    "        missing_build_numbers.append(i)\n",
    "sns.distplot(missing_build_numbers)\n",
    "plt.axvline(max_build_number, 0, 10, color=\"r\")"
   ]
  },
  {
   "cell_type": "markdown",
   "metadata": {},
   "source": [
    "The problem seems to affect builds up until the very last build present in the dataset (the red line)"
   ]
  },
  {
   "cell_type": "markdown",
   "metadata": {},
   "source": [
    "**Total number of builds for the project in TravisTorrent**"
   ]
  },
  {
   "cell_type": "code",
   "execution_count": 100,
   "metadata": {},
   "outputs": [
    {
     "data": {
      "text/plain": [
       "4690"
      ]
     },
     "execution_count": 100,
     "metadata": {},
     "output_type": "execute_result"
    }
   ],
   "source": [
    "len(project_df.tr_build_id.unique())"
   ]
  },
  {
   "cell_type": "code",
   "execution_count": 106,
   "metadata": {},
   "outputs": [
    {
     "data": {
      "text/plain": [
       "True"
      ]
     },
     "execution_count": 106,
     "metadata": {},
     "output_type": "execute_result"
    }
   ],
   "source": [
    "len(project_df.tr_build_id.unique()) + n_missing_builds == max_build_number"
   ]
  },
  {
   "cell_type": "code",
   "execution_count": 19,
   "metadata": {},
   "outputs": [
    {
     "data": {
      "text/html": [
       "<div>\n",
       "<style scoped>\n",
       "    .dataframe tbody tr th:only-of-type {\n",
       "        vertical-align: middle;\n",
       "    }\n",
       "\n",
       "    .dataframe tbody tr th {\n",
       "        vertical-align: top;\n",
       "    }\n",
       "\n",
       "    .dataframe thead th {\n",
       "        text-align: right;\n",
       "    }\n",
       "</style>\n",
       "<table border=\"1\" class=\"dataframe\">\n",
       "  <thead>\n",
       "    <tr style=\"text-align: right;\">\n",
       "      <th></th>\n",
       "      <th>tr_log_setup_time</th>\n",
       "      <th>tr_log_num_tests_ok</th>\n",
       "      <th>tr_log_num_tests_failed</th>\n",
       "      <th>tr_log_num_tests_run</th>\n",
       "      <th>tr_log_num_tests_skipped</th>\n",
       "      <th>tr_log_testduration</th>\n",
       "      <th>tr_log_buildduration</th>\n",
       "    </tr>\n",
       "  </thead>\n",
       "  <tbody>\n",
       "    <tr>\n",
       "      <th>count</th>\n",
       "      <td>29929.000000</td>\n",
       "      <td>16846.000000</td>\n",
       "      <td>16846.000000</td>\n",
       "      <td>15755.000000</td>\n",
       "      <td>16846.000000</td>\n",
       "      <td>16853.000000</td>\n",
       "      <td>22978.000000</td>\n",
       "    </tr>\n",
       "    <tr>\n",
       "      <th>mean</th>\n",
       "      <td>3.917839</td>\n",
       "      <td>133.656536</td>\n",
       "      <td>0.023448</td>\n",
       "      <td>142.937036</td>\n",
       "      <td>5.219518</td>\n",
       "      <td>279.699226</td>\n",
       "      <td>469.346592</td>\n",
       "    </tr>\n",
       "    <tr>\n",
       "      <th>std</th>\n",
       "      <td>4.571636</td>\n",
       "      <td>222.944923</td>\n",
       "      <td>0.460602</td>\n",
       "      <td>227.670216</td>\n",
       "      <td>9.492445</td>\n",
       "      <td>237.153014</td>\n",
       "      <td>320.560954</td>\n",
       "    </tr>\n",
       "    <tr>\n",
       "      <th>min</th>\n",
       "      <td>0.000000</td>\n",
       "      <td>0.000000</td>\n",
       "      <td>0.000000</td>\n",
       "      <td>1.000000</td>\n",
       "      <td>0.000000</td>\n",
       "      <td>0.000000</td>\n",
       "      <td>0.000000</td>\n",
       "    </tr>\n",
       "    <tr>\n",
       "      <th>25%</th>\n",
       "      <td>3.000000</td>\n",
       "      <td>4.000000</td>\n",
       "      <td>0.000000</td>\n",
       "      <td>17.000000</td>\n",
       "      <td>0.000000</td>\n",
       "      <td>51.900000</td>\n",
       "      <td>133.000000</td>\n",
       "    </tr>\n",
       "    <tr>\n",
       "      <th>50%</th>\n",
       "      <td>4.000000</td>\n",
       "      <td>49.000000</td>\n",
       "      <td>0.000000</td>\n",
       "      <td>49.000000</td>\n",
       "      <td>0.000000</td>\n",
       "      <td>245.940000</td>\n",
       "      <td>452.000000</td>\n",
       "    </tr>\n",
       "    <tr>\n",
       "      <th>75%</th>\n",
       "      <td>4.000000</td>\n",
       "      <td>98.000000</td>\n",
       "      <td>0.000000</td>\n",
       "      <td>98.000000</td>\n",
       "      <td>4.000000</td>\n",
       "      <td>433.800000</td>\n",
       "      <td>737.000000</td>\n",
       "    </tr>\n",
       "    <tr>\n",
       "      <th>max</th>\n",
       "      <td>385.000000</td>\n",
       "      <td>5597.000000</td>\n",
       "      <td>21.000000</td>\n",
       "      <td>5598.000000</td>\n",
       "      <td>26.000000</td>\n",
       "      <td>1216.600000</td>\n",
       "      <td>2723.000000</td>\n",
       "    </tr>\n",
       "  </tbody>\n",
       "</table>\n",
       "</div>"
      ],
      "text/plain": [
       "       tr_log_setup_time  tr_log_num_tests_ok  tr_log_num_tests_failed  \\\n",
       "count       29929.000000         16846.000000             16846.000000   \n",
       "mean            3.917839           133.656536                 0.023448   \n",
       "std             4.571636           222.944923                 0.460602   \n",
       "min             0.000000             0.000000                 0.000000   \n",
       "25%             3.000000             4.000000                 0.000000   \n",
       "50%             4.000000            49.000000                 0.000000   \n",
       "75%             4.000000            98.000000                 0.000000   \n",
       "max           385.000000          5597.000000                21.000000   \n",
       "\n",
       "       tr_log_num_tests_run  tr_log_num_tests_skipped  tr_log_testduration  \\\n",
       "count          15755.000000              16846.000000         16853.000000   \n",
       "mean             142.937036                  5.219518           279.699226   \n",
       "std              227.670216                  9.492445           237.153014   \n",
       "min                1.000000                  0.000000             0.000000   \n",
       "25%               17.000000                  0.000000            51.900000   \n",
       "50%               49.000000                  0.000000           245.940000   \n",
       "75%               98.000000                  4.000000           433.800000   \n",
       "max             5598.000000                 26.000000          1216.600000   \n",
       "\n",
       "       tr_log_buildduration  \n",
       "count          22978.000000  \n",
       "mean             469.346592  \n",
       "std              320.560954  \n",
       "min                0.000000  \n",
       "25%              133.000000  \n",
       "50%              452.000000  \n",
       "75%              737.000000  \n",
       "max             2723.000000  "
      ]
     },
     "execution_count": 19,
     "metadata": {},
     "output_type": "execute_result"
    }
   ],
   "source": [
    "project_df[[col for col in project_df if col.startswith(\"tr_log\")]].describe()"
   ]
  },
  {
   "cell_type": "markdown",
   "metadata": {},
   "source": [
    "plt.figure(figsize=(15,5))\n",
    "plt.locator_params(axis='x', nbins=6)\n",
    "ax = sns.lineplot(x=\"tr_build_id\", y=\"tr_log_num_tests_run\", data=project_df[[\"tr_build_id\",\"tr_log_num_tests_run\"]])\n",
    "for ind, label in enumerate(ax.get_xticklabels()):\n",
    "    if ind % 20 == 0:  # every 10th label is kept\n",
    "        label.set_visible(True)\n",
    "    else:\n",
    "        label.set_visible(False)"
   ]
  },
  {
   "cell_type": "markdown",
   "metadata": {},
   "source": [
    "## Import RTPTorrent dataset \n",
    "This dataset contains class specific test metrics for the project's builds"
   ]
  },
  {
   "cell_type": "code",
   "execution_count": 107,
   "metadata": {
    "scrolled": true
   },
   "outputs": [
    {
     "data": {
      "text/html": [
       "<div>\n",
       "<style scoped>\n",
       "    .dataframe tbody tr th:only-of-type {\n",
       "        vertical-align: middle;\n",
       "    }\n",
       "\n",
       "    .dataframe tbody tr th {\n",
       "        vertical-align: top;\n",
       "    }\n",
       "\n",
       "    .dataframe thead th {\n",
       "        text-align: right;\n",
       "    }\n",
       "</style>\n",
       "<table border=\"1\" class=\"dataframe\">\n",
       "  <thead>\n",
       "    <tr style=\"text-align: right;\">\n",
       "      <th></th>\n",
       "      <th>travisJobId</th>\n",
       "      <th>testName</th>\n",
       "      <th>index</th>\n",
       "      <th>duration</th>\n",
       "      <th>count</th>\n",
       "      <th>failures</th>\n",
       "      <th>errors</th>\n",
       "      <th>skipped</th>\n",
       "    </tr>\n",
       "  </thead>\n",
       "  <tbody>\n",
       "    <tr>\n",
       "      <th>0</th>\n",
       "      <td>137788147</td>\n",
       "      <td>org.sonar.test.TestUtilsTest</td>\n",
       "      <td>0</td>\n",
       "      <td>0.298</td>\n",
       "      <td>4</td>\n",
       "      <td>0</td>\n",
       "      <td>0</td>\n",
       "      <td>0</td>\n",
       "    </tr>\n",
       "    <tr>\n",
       "      <th>1</th>\n",
       "      <td>137788147</td>\n",
       "      <td>org.sonar.test.JsonAssertTest</td>\n",
       "      <td>1</td>\n",
       "      <td>0.266</td>\n",
       "      <td>7</td>\n",
       "      <td>0</td>\n",
       "      <td>0</td>\n",
       "      <td>0</td>\n",
       "    </tr>\n",
       "    <tr>\n",
       "      <th>2</th>\n",
       "      <td>137788147</td>\n",
       "      <td>org.sonar.test.i18n.I18nMatchersTest</td>\n",
       "      <td>2</td>\n",
       "      <td>0.015</td>\n",
       "      <td>2</td>\n",
       "      <td>0</td>\n",
       "      <td>0</td>\n",
       "      <td>0</td>\n",
       "    </tr>\n",
       "    <tr>\n",
       "      <th>3</th>\n",
       "      <td>137788147</td>\n",
       "      <td>org.sonar.test.JsonComparisonTest</td>\n",
       "      <td>3</td>\n",
       "      <td>0.038</td>\n",
       "      <td>12</td>\n",
       "      <td>0</td>\n",
       "      <td>0</td>\n",
       "      <td>0</td>\n",
       "    </tr>\n",
       "    <tr>\n",
       "      <th>4</th>\n",
       "      <td>137788147</td>\n",
       "      <td>org.sonar.test.i18n.BundleSynchronizedMatcherTest</td>\n",
       "      <td>4</td>\n",
       "      <td>0.025</td>\n",
       "      <td>9</td>\n",
       "      <td>0</td>\n",
       "      <td>0</td>\n",
       "      <td>0</td>\n",
       "    </tr>\n",
       "    <tr>\n",
       "      <th>...</th>\n",
       "      <td>...</td>\n",
       "      <td>...</td>\n",
       "      <td>...</td>\n",
       "      <td>...</td>\n",
       "      <td>...</td>\n",
       "      <td>...</td>\n",
       "      <td>...</td>\n",
       "      <td>...</td>\n",
       "    </tr>\n",
       "    <tr>\n",
       "      <th>17134768</th>\n",
       "      <td>100821699</td>\n",
       "      <td>org.sonar.application.PropsBuilderTest</td>\n",
       "      <td>1421</td>\n",
       "      <td>0.198</td>\n",
       "      <td>7</td>\n",
       "      <td>0</td>\n",
       "      <td>0</td>\n",
       "      <td>0</td>\n",
       "    </tr>\n",
       "    <tr>\n",
       "      <th>17134769</th>\n",
       "      <td>100821699</td>\n",
       "      <td>org.sonar.application.CommandLineParserTest</td>\n",
       "      <td>1422</td>\n",
       "      <td>0.005</td>\n",
       "      <td>2</td>\n",
       "      <td>0</td>\n",
       "      <td>0</td>\n",
       "      <td>0</td>\n",
       "    </tr>\n",
       "    <tr>\n",
       "      <th>17134770</th>\n",
       "      <td>100821699</td>\n",
       "      <td>org.sonar.application.JdbcSettingsTest</td>\n",
       "      <td>1423</td>\n",
       "      <td>0.033</td>\n",
       "      <td>10</td>\n",
       "      <td>0</td>\n",
       "      <td>0</td>\n",
       "      <td>0</td>\n",
       "    </tr>\n",
       "    <tr>\n",
       "      <th>17134771</th>\n",
       "      <td>100821699</td>\n",
       "      <td>org.sonar.application.AppTest</td>\n",
       "      <td>1424</td>\n",
       "      <td>0.052</td>\n",
       "      <td>6</td>\n",
       "      <td>0</td>\n",
       "      <td>0</td>\n",
       "      <td>0</td>\n",
       "    </tr>\n",
       "    <tr>\n",
       "      <th>17134772</th>\n",
       "      <td>95537922</td>\n",
       "      <td>it.PluginsSuite</td>\n",
       "      <td>0</td>\n",
       "      <td>214.441</td>\n",
       "      <td>2</td>\n",
       "      <td>0</td>\n",
       "      <td>0</td>\n",
       "      <td>0</td>\n",
       "    </tr>\n",
       "  </tbody>\n",
       "</table>\n",
       "<p>17134773 rows × 8 columns</p>\n",
       "</div>"
      ],
      "text/plain": [
       "          travisJobId                                           testName  \\\n",
       "0           137788147                       org.sonar.test.TestUtilsTest   \n",
       "1           137788147                      org.sonar.test.JsonAssertTest   \n",
       "2           137788147               org.sonar.test.i18n.I18nMatchersTest   \n",
       "3           137788147                  org.sonar.test.JsonComparisonTest   \n",
       "4           137788147  org.sonar.test.i18n.BundleSynchronizedMatcherTest   \n",
       "...               ...                                                ...   \n",
       "17134768    100821699             org.sonar.application.PropsBuilderTest   \n",
       "17134769    100821699        org.sonar.application.CommandLineParserTest   \n",
       "17134770    100821699             org.sonar.application.JdbcSettingsTest   \n",
       "17134771    100821699                      org.sonar.application.AppTest   \n",
       "17134772     95537922                                    it.PluginsSuite   \n",
       "\n",
       "          index  duration  count  failures  errors  skipped  \n",
       "0             0     0.298      4         0       0        0  \n",
       "1             1     0.266      7         0       0        0  \n",
       "2             2     0.015      2         0       0        0  \n",
       "3             3     0.038     12         0       0        0  \n",
       "4             4     0.025      9         0       0        0  \n",
       "...         ...       ...    ...       ...     ...      ...  \n",
       "17134768   1421     0.198      7         0       0        0  \n",
       "17134769   1422     0.005      2         0       0        0  \n",
       "17134770   1423     0.033     10         0       0        0  \n",
       "17134771   1424     0.052      6         0       0        0  \n",
       "17134772      0   214.441      2         0       0        0  \n",
       "\n",
       "[17134773 rows x 8 columns]"
      ]
     },
     "execution_count": 107,
     "metadata": {},
     "output_type": "execute_result"
    }
   ],
   "source": [
    "sonar_rtp = pd.read_csv(f\"{folder}rtp-torrent/SonarSource@sonarqube/SonarSource@sonarqube.csv\")\n",
    "sonar_rtp"
   ]
  },
  {
   "cell_type": "markdown",
   "metadata": {},
   "source": [
    "## TravisTorrent and RTPTorrent merging"
   ]
  },
  {
   "cell_type": "markdown",
   "metadata": {},
   "source": [
    "**Are all the jobs' builds from RTPTorrent present in TravisTorrent dataset?**"
   ]
  },
  {
   "cell_type": "code",
   "execution_count": 21,
   "metadata": {
    "scrolled": true
   },
   "outputs": [],
   "source": [
    "jobIds = sonar_rtp.travisJobId.unique()"
   ]
  },
  {
   "cell_type": "code",
   "execution_count": 22,
   "metadata": {},
   "outputs": [],
   "source": [
    "jobIds2 = []\n",
    "for index, row in project_df.iterrows():\n",
    "   jobIds2 = jobIds2 + literal_eval(row.tr_jobs)"
   ]
  },
  {
   "cell_type": "code",
   "execution_count": 40,
   "metadata": {},
   "outputs": [
    {
     "data": {
      "text/plain": [
       "32321"
      ]
     },
     "execution_count": 40,
     "metadata": {},
     "output_type": "execute_result"
    }
   ],
   "source": [
    "len(set(jobIds) - set(jobIds2))"
   ]
  },
  {
   "cell_type": "code",
   "execution_count": 110,
   "metadata": {
    "scrolled": true
   },
   "outputs": [
    {
     "data": {
      "text/plain": [
       "0.6063181195715385"
      ]
     },
     "execution_count": 110,
     "metadata": {},
     "output_type": "execute_result"
    }
   ],
   "source": [
    "(len(set(jobIds) - set(jobIds2)))/len(jobIds)"
   ]
  },
  {
   "cell_type": "markdown",
   "metadata": {},
   "source": [
    "More than 60% of the builds are missing from TravisTorrent"
   ]
  },
  {
   "cell_type": "code",
   "execution_count": 39,
   "metadata": {},
   "outputs": [
    {
     "data": {
      "text/plain": [
       "156501166"
      ]
     },
     "execution_count": 39,
     "metadata": {},
     "output_type": "execute_result"
    }
   ],
   "source": [
    "jobIds2[-1]"
   ]
  },
  {
   "cell_type": "markdown",
   "metadata": {},
   "source": [
    "### TravisCI info for the project"
   ]
  },
  {
   "cell_type": "code",
   "execution_count": 2,
   "metadata": {},
   "outputs": [],
   "source": [
    "from travispy import TravisPy"
   ]
  },
  {
   "cell_type": "code",
   "execution_count": 4,
   "metadata": {},
   "outputs": [],
   "source": [
    "t = TravisPy()\n",
    "repo = t.repo(project)"
   ]
  },
  {
   "cell_type": "code",
   "execution_count": 5,
   "metadata": {
    "scrolled": false
   },
   "outputs": [
    {
     "data": {
      "text/plain": [
       "'39427'"
      ]
     },
     "execution_count": 5,
     "metadata": {},
     "output_type": "execute_result"
    }
   ],
   "source": [
    "repo.last_build_number"
   ]
  },
  {
   "cell_type": "code",
   "execution_count": 36,
   "metadata": {},
   "outputs": [
    {
     "name": "stdout",
     "output_type": "stream",
     "text": [
      "2015-03-17T15:04:32Z\n"
     ]
    }
   ],
   "source": [
    "builds = t.builds(repository_id = repo.id, number = 1)\n",
    "print(builds[0].started_at)"
   ]
  },
  {
   "cell_type": "markdown",
   "metadata": {},
   "source": [
    "* To this day, the project has over 39420 builds on TraviCI\n",
    "* The first available build on TravisCI dates 17/3/2015"
   ]
  },
  {
   "cell_type": "code",
   "execution_count": 16,
   "metadata": {},
   "outputs": [
    {
     "data": {
      "text/plain": [
       "9"
      ]
     },
     "execution_count": 16,
     "metadata": {},
     "output_type": "execute_result"
    }
   ],
   "source": [
    "builds = t.builds(repository_id = repo.id, after_number = 10)\n",
    "len(builds)"
   ]
  },
  {
   "cell_type": "code",
   "execution_count": 17,
   "metadata": {},
   "outputs": [
    {
     "name": "stdout",
     "output_type": "stream",
     "text": [
      "['repository_id',\n",
      " 'commit_id',\n",
      " 'number',\n",
      " 'pull_request',\n",
      " 'pull_request_title',\n",
      " 'pull_request_number',\n",
      " 'config',\n",
      " 'started_at',\n",
      " 'finished_at',\n",
      " 'duration',\n",
      " 'job_ids',\n",
      " 'jobs',\n",
      " 'commit']\n"
     ]
    }
   ],
   "source": [
    "pp.pprint(builds[0].__slots__)"
   ]
  },
  {
   "cell_type": "code",
   "execution_count": 18,
   "metadata": {},
   "outputs": [
    {
     "data": {
      "text/plain": [
       "['repository_id',\n",
       " 'commit_id',\n",
       " 'number',\n",
       " 'pull_request',\n",
       " 'pull_request_title',\n",
       " 'pull_request_number',\n",
       " 'config',\n",
       " 'started_at',\n",
       " 'finished_at',\n",
       " 'duration',\n",
       " 'job_ids',\n",
       " 'jobs',\n",
       " 'commit']"
      ]
     },
     "execution_count": 18,
     "metadata": {},
     "output_type": "execute_result"
    }
   ],
   "source": [
    "builds[0].__slots__"
   ]
  },
  {
   "cell_type": "code",
   "execution_count": 19,
   "metadata": {},
   "outputs": [
    {
     "name": "stdout",
     "output_type": "stream",
     "text": [
      "repository_id 234484\n",
      "commit_id 15725502\n",
      "number 9\n",
      "pull_request False\n",
      "pull_request_title None\n",
      "pull_request_number None\n",
      "config {'jdk': ['oraclejdk8', 'openjdk7'], 'sudo': False, 'cache': {'directories': ['$HOME/.m2/repository']}, 'script': 'mvn clean install', '.result': 'configured', 'install': True, 'language': 'java', 'group': 'stable', 'dist': 'precise'}\n",
      "started_at 2015-03-18T08:18:56Z\n",
      "finished_at 2015-03-18T08:21:19Z\n",
      "duration 242\n",
      "job_ids [54834267, 54834268]\n"
     ]
    },
    {
     "ename": "AttributeError",
     "evalue": "jobs",
     "output_type": "error",
     "traceback": [
      "\u001b[0;31m---------------------------------------------------------------------------\u001b[0m",
      "\u001b[0;31mAttributeError\u001b[0m                            Traceback (most recent call last)",
      "\u001b[0;32m<ipython-input-19-64cdfc55bb27>\u001b[0m in \u001b[0;36m<module>\u001b[0;34m\u001b[0m\n\u001b[1;32m      1\u001b[0m \u001b[0;32mfor\u001b[0m \u001b[0mslot\u001b[0m \u001b[0;32min\u001b[0m \u001b[0;34m(\u001b[0m\u001b[0mbuilds\u001b[0m\u001b[0;34m[\u001b[0m\u001b[0;36m0\u001b[0m\u001b[0;34m]\u001b[0m\u001b[0;34m.\u001b[0m\u001b[0m__slots__\u001b[0m\u001b[0;34m)\u001b[0m\u001b[0;34m:\u001b[0m\u001b[0;34m\u001b[0m\u001b[0;34m\u001b[0m\u001b[0m\n\u001b[0;32m----> 2\u001b[0;31m     \u001b[0mprint\u001b[0m\u001b[0;34m(\u001b[0m\u001b[0mslot\u001b[0m\u001b[0;34m,\u001b[0m \u001b[0mgetattr\u001b[0m\u001b[0;34m(\u001b[0m\u001b[0mbuilds\u001b[0m\u001b[0;34m[\u001b[0m\u001b[0;36m0\u001b[0m\u001b[0;34m]\u001b[0m\u001b[0;34m,\u001b[0m \u001b[0mslot\u001b[0m\u001b[0;34m)\u001b[0m\u001b[0;34m)\u001b[0m\u001b[0;34m\u001b[0m\u001b[0;34m\u001b[0m\u001b[0m\n\u001b[0m",
      "\u001b[0;31mAttributeError\u001b[0m: jobs"
     ]
    }
   ],
   "source": [
    "for slot in (builds[0].__slots__):\n",
    "    print(slot, getattr(builds[0], slot))"
   ]
  },
  {
   "cell_type": "code",
   "execution_count": 20,
   "metadata": {},
   "outputs": [
    {
     "data": {
      "text/plain": [
       "[54834267, 54834268]"
      ]
     },
     "execution_count": 20,
     "metadata": {},
     "output_type": "execute_result"
    }
   ],
   "source": [
    "builds[0].job_ids"
   ]
  },
  {
   "cell_type": "markdown",
   "metadata": {},
   "source": [
    "## TravisCI builds for the project"
   ]
  },
  {
   "cell_type": "code",
   "execution_count": 21,
   "metadata": {},
   "outputs": [],
   "source": [
    "import glob"
   ]
  },
  {
   "cell_type": "code",
   "execution_count": 23,
   "metadata": {},
   "outputs": [],
   "source": [
    "v2_files = glob.glob(\"../travis-api-python/builds/v2/*.pkl\")\n",
    "v3_files = glob.glob(\"../travis-api-python/builds/v3/*.pkl\")"
   ]
  },
  {
   "cell_type": "code",
   "execution_count": 43,
   "metadata": {},
   "outputs": [
    {
     "data": {
      "text/plain": [
       "dict_keys(['id', 'repository_id', 'commit_id', 'number', 'event_type', 'pull_request', 'pull_request_title', 'pull_request_number', 'config', 'state', 'started_at', 'finished_at', 'duration', 'job_ids'])"
      ]
     },
     "execution_count": 43,
     "metadata": {},
     "output_type": "execute_result"
    }
   ],
   "source": [
    "with open(v2_files[0], 'rb') as f:\n",
    "    builds2 = pickle.load(f)\n",
    "v2_fields = builds2[0].keys()\n",
    "v2_fields"
   ]
  },
  {
   "cell_type": "code",
   "execution_count": 44,
   "metadata": {},
   "outputs": [
    {
     "name": "stdout",
     "output_type": "stream",
     "text": [
      "{'commit_id': 28112504,\n",
      " 'config': {'.result': 'configured',\n",
      "            'before_cache': ['find ~/.m2/repository -type d -name \\\\*-SNAPSHOT '\n",
      "                             '-exec rm -rf {} \\\\;',\n",
      "                             'find ~/.m2/repository -name maven-metadata-\\\\* '\n",
      "                             '-exec rm {} \\\\;',\n",
      "                             'find ~/.m2/repository -name '\n",
      "                             'resolver-status.properties -exec rm {} \\\\;'],\n",
      "            'cache': {'directories': ['$HOME/.m2/repository',\n",
      "                                      '$HOME/.sonar',\n",
      "                                      'server/sonar-web/node',\n",
      "                                      'server/sonar-web/node_modules']},\n",
      "            'dist': 'precise',\n",
      "            'env': ['TARGET=CI',\n",
      "                    'TARGET=IT IT_CATEGORY=Category1',\n",
      "                    'TARGET=IT IT_CATEGORY=Category2',\n",
      "                    'TARGET=IT IT_CATEGORY=Category3',\n",
      "                    'TARGET=IT IT_CATEGORY=Category4',\n",
      "                    'TARGET=IT IT_CATEGORY=Plugins',\n",
      "                    'TARGET=POSTGRES',\n",
      "                    'TARGET=MYSQL',\n",
      "                    'TARGET=WEB'],\n",
      "            'group': 'stable',\n",
      "            'install': True,\n",
      "            'jdk': 'oraclejdk7',\n",
      "            'language': 'java',\n",
      "            'matrix': {'fast_finish': True},\n",
      "            'notifications': {'email': False},\n",
      "            'script': './travis.sh',\n",
      "            'sudo': False},\n",
      " 'duration': 5361,\n",
      " 'event_type': 'push',\n",
      " 'finished_at': '2015-12-28T16:34:08Z',\n",
      " 'id': 99118995,\n",
      " 'job_ids': [99118996,\n",
      "             99118997,\n",
      "             99118998,\n",
      "             99118999,\n",
      "             99119000,\n",
      "             99119001,\n",
      "             99119002,\n",
      "             99119003,\n",
      "             99119004],\n",
      " 'number': '6995',\n",
      " 'pull_request': False,\n",
      " 'pull_request_number': None,\n",
      " 'pull_request_title': None,\n",
      " 'repository_id': 234484,\n",
      " 'started_at': '2015-12-28T16:18:41Z',\n",
      " 'state': 'failed'}\n"
     ]
    }
   ],
   "source": [
    "pp.pprint(builds2[0])"
   ]
  },
  {
   "cell_type": "code",
   "execution_count": 74,
   "metadata": {},
   "outputs": [
    {
     "data": {
      "text/plain": [
       "dict_keys(['@type', '@href', '@representation', '@permissions', 'id', 'number', 'state', 'duration', 'event_type', 'previous_state', 'pull_request_title', 'pull_request_number', 'started_at', 'finished_at', 'private', 'repository', 'branch', 'tag', 'commit', 'jobs', 'stages', 'created_by', 'updated_at'])"
      ]
     },
     "execution_count": 74,
     "metadata": {},
     "output_type": "execute_result"
    }
   ],
   "source": [
    "with open(v3_files[0], 'rb') as f:\n",
    "    builds3 = pickle.load(f)\n",
    "v3_fields = builds3[0].keys()\n",
    "v3_fields"
   ]
  },
  {
   "cell_type": "code",
   "execution_count": 75,
   "metadata": {},
   "outputs": [
    {
     "name": "stdout",
     "output_type": "stream",
     "text": [
      "{'@href': '/build/264330283',\n",
      " '@permissions': {'cancel': False, 'read': True, 'restart': False},\n",
      " '@representation': 'standard',\n",
      " '@type': 'build',\n",
      " 'branch': {'@href': '/repo/234484/branch/janos%2Fvalidate-branch-config2',\n",
      "            '@representation': 'minimal',\n",
      "            '@type': 'branch',\n",
      "            'name': 'janos/validate-branch-config2'},\n",
      " 'commit': {'@representation': 'minimal',\n",
      "            '@type': 'commit',\n",
      "            'committed_at': '2017-08-14T11:50:13Z',\n",
      "            'compare_url': 'https://github.com/SonarSource/sonarqube/compare/5857120b9aed...a23fba6ffb44',\n",
      "            'id': 76913412,\n",
      "            'message': 'Add incrementalMode param to '\n",
      "                       'BrnachConfigurationValidator.validate',\n",
      "            'ref': 'refs/heads/janos/validate-branch-config2',\n",
      "            'sha': 'a23fba6ffb44e00b09009e8032bd42517479225e'},\n",
      " 'created_by': {'@href': '/user/437829',\n",
      "                '@representation': 'minimal',\n",
      "                '@type': 'user',\n",
      "                'id': 437829,\n",
      "                'login': 'janos-ss'},\n",
      " 'duration': 365,\n",
      " 'event_type': 'push',\n",
      " 'finished_at': '2017-08-14T11:54:45Z',\n",
      " 'id': 264330283,\n",
      " 'jobs': [{'@href': '/job/264330284',\n",
      "           '@representation': 'minimal',\n",
      "           '@type': 'job',\n",
      "           'id': 264330284},\n",
      "          {'@href': '/job/264330285',\n",
      "           '@representation': 'minimal',\n",
      "           '@type': 'job',\n",
      "           'id': 264330285}],\n",
      " 'number': '28427',\n",
      " 'previous_state': 'failed',\n",
      " 'private': False,\n",
      " 'pull_request_number': None,\n",
      " 'pull_request_title': None,\n",
      " 'repository': {'@href': '/repo/234484',\n",
      "                '@representation': 'minimal',\n",
      "                '@type': 'repository',\n",
      "                'id': 234484,\n",
      "                'name': 'sonarqube',\n",
      "                'slug': 'SonarSource/sonarqube'},\n",
      " 'stages': [],\n",
      " 'started_at': '2017-08-14T11:51:17Z',\n",
      " 'state': 'failed',\n",
      " 'tag': None,\n",
      " 'updated_at': '2019-04-10T10:45:46.396Z'}\n"
     ]
    }
   ],
   "source": [
    "pp.pprint(builds3[0])"
   ]
  },
  {
   "cell_type": "code",
   "execution_count": 45,
   "metadata": {},
   "outputs": [
    {
     "data": {
      "text/plain": [
       "{'duration',\n",
       " 'event_type',\n",
       " 'finished_at',\n",
       " 'id',\n",
       " 'number',\n",
       " 'pull_request_number',\n",
       " 'pull_request_title',\n",
       " 'started_at',\n",
       " 'state'}"
      ]
     },
     "execution_count": 45,
     "metadata": {},
     "output_type": "execute_result"
    }
   ],
   "source": [
    "common_fields = set(v3_fields).intersection(set(v2_fields))\n",
    "common_fields"
   ]
  },
  {
   "cell_type": "code",
   "execution_count": 46,
   "metadata": {},
   "outputs": [
    {
     "data": {
      "text/plain": [
       "{'@href',\n",
       " '@permissions',\n",
       " '@representation',\n",
       " '@type',\n",
       " 'branch',\n",
       " 'commit',\n",
       " 'commit_id',\n",
       " 'config',\n",
       " 'created_by',\n",
       " 'job_ids',\n",
       " 'jobs',\n",
       " 'previous_state',\n",
       " 'private',\n",
       " 'pull_request',\n",
       " 'repository',\n",
       " 'repository_id',\n",
       " 'stages',\n",
       " 'tag',\n",
       " 'updated_at'}"
      ]
     },
     "execution_count": 46,
     "metadata": {},
     "output_type": "execute_result"
    }
   ],
   "source": [
    "uncommon_fields = set(v3_fields).symmetric_difference(set(v2_fields))\n",
    "uncommon_fields"
   ]
  },
  {
   "cell_type": "markdown",
   "metadata": {},
   "source": [
    "## Builds retrival"
   ]
  },
  {
   "cell_type": "code",
   "execution_count": 66,
   "metadata": {},
   "outputs": [],
   "source": [
    "builds_tuple = []"
   ]
  },
  {
   "cell_type": "markdown",
   "metadata": {},
   "source": [
    "#### Version 2 retrieval"
   ]
  },
  {
   "cell_type": "code",
   "execution_count": 67,
   "metadata": {},
   "outputs": [],
   "source": [
    "for v2_file in v2_files:\n",
    "    with open(v2_file, 'rb') as f:\n",
    "        builds2 = pickle.load(f)\n",
    "        for build in builds2:\n",
    "            build_values = []\n",
    "            for field in common_fields:\n",
    "                build_values.append(build[field])\n",
    "            builds_tuple.append(tuple(build_values))"
   ]
  },
  {
   "cell_type": "markdown",
   "metadata": {},
   "source": [
    "#### Version 3 retrieval"
   ]
  },
  {
   "cell_type": "code",
   "execution_count": 68,
   "metadata": {},
   "outputs": [],
   "source": [
    "for v3_file in v3_files:\n",
    "    with open(v3_file, 'rb') as f:\n",
    "        builds3 = pickle.load(f)\n",
    "        for build in builds3:\n",
    "            build_values = []\n",
    "            for field in common_fields:\n",
    "                build_values.append(build[field])\n",
    "            builds_tuple.append(tuple(build_values))"
   ]
  },
  {
   "cell_type": "code",
   "execution_count": 69,
   "metadata": {},
   "outputs": [
    {
     "data": {
      "text/html": [
       "<div>\n",
       "<style scoped>\n",
       "    .dataframe tbody tr th:only-of-type {\n",
       "        vertical-align: middle;\n",
       "    }\n",
       "\n",
       "    .dataframe tbody tr th {\n",
       "        vertical-align: top;\n",
       "    }\n",
       "\n",
       "    .dataframe thead th {\n",
       "        text-align: right;\n",
       "    }\n",
       "</style>\n",
       "<table border=\"1\" class=\"dataframe\">\n",
       "  <thead>\n",
       "    <tr style=\"text-align: right;\">\n",
       "      <th></th>\n",
       "      <th>finished_at</th>\n",
       "      <th>pull_request_number</th>\n",
       "      <th>number</th>\n",
       "      <th>duration</th>\n",
       "      <th>id</th>\n",
       "      <th>state</th>\n",
       "      <th>event_type</th>\n",
       "      <th>pull_request_title</th>\n",
       "      <th>started_at</th>\n",
       "    </tr>\n",
       "  </thead>\n",
       "  <tbody>\n",
       "    <tr>\n",
       "      <th>0</th>\n",
       "      <td>2015-12-28T16:34:08Z</td>\n",
       "      <td>NaN</td>\n",
       "      <td>6995</td>\n",
       "      <td>5361.0</td>\n",
       "      <td>99118995</td>\n",
       "      <td>failed</td>\n",
       "      <td>push</td>\n",
       "      <td>None</td>\n",
       "      <td>2015-12-28T16:18:41Z</td>\n",
       "    </tr>\n",
       "    <tr>\n",
       "      <th>1</th>\n",
       "      <td>2015-12-28T14:36:03Z</td>\n",
       "      <td>NaN</td>\n",
       "      <td>6994</td>\n",
       "      <td>5953.0</td>\n",
       "      <td>99100662</td>\n",
       "      <td>passed</td>\n",
       "      <td>push</td>\n",
       "      <td>None</td>\n",
       "      <td>2015-12-28T14:18:30Z</td>\n",
       "    </tr>\n",
       "    <tr>\n",
       "      <th>2</th>\n",
       "      <td>2015-12-28T13:27:51Z</td>\n",
       "      <td>NaN</td>\n",
       "      <td>6993</td>\n",
       "      <td>5166.0</td>\n",
       "      <td>99093472</td>\n",
       "      <td>passed</td>\n",
       "      <td>push</td>\n",
       "      <td>None</td>\n",
       "      <td>2015-12-28T13:11:39Z</td>\n",
       "    </tr>\n",
       "    <tr>\n",
       "      <th>3</th>\n",
       "      <td>2015-12-28T12:18:41Z</td>\n",
       "      <td>NaN</td>\n",
       "      <td>6992</td>\n",
       "      <td>5243.0</td>\n",
       "      <td>99086186</td>\n",
       "      <td>passed</td>\n",
       "      <td>push</td>\n",
       "      <td>None</td>\n",
       "      <td>2015-12-28T12:10:56Z</td>\n",
       "    </tr>\n",
       "    <tr>\n",
       "      <th>4</th>\n",
       "      <td>2015-12-28T10:56:34Z</td>\n",
       "      <td>NaN</td>\n",
       "      <td>6991</td>\n",
       "      <td>5045.0</td>\n",
       "      <td>99078711</td>\n",
       "      <td>passed</td>\n",
       "      <td>push</td>\n",
       "      <td>None</td>\n",
       "      <td>2015-12-28T10:41:16Z</td>\n",
       "    </tr>\n",
       "    <tr>\n",
       "      <th>...</th>\n",
       "      <td>...</td>\n",
       "      <td>...</td>\n",
       "      <td>...</td>\n",
       "      <td>...</td>\n",
       "      <td>...</td>\n",
       "      <td>...</td>\n",
       "      <td>...</td>\n",
       "      <td>...</td>\n",
       "      <td>...</td>\n",
       "    </tr>\n",
       "    <tr>\n",
       "      <th>39378</th>\n",
       "      <td>2018-02-07T13:38:25Z</td>\n",
       "      <td>NaN</td>\n",
       "      <td>36432</td>\n",
       "      <td>191.0</td>\n",
       "      <td>338500570</td>\n",
       "      <td>passed</td>\n",
       "      <td>push</td>\n",
       "      <td>None</td>\n",
       "      <td>2018-02-07T13:36:19Z</td>\n",
       "    </tr>\n",
       "    <tr>\n",
       "      <th>39379</th>\n",
       "      <td>2018-02-07T13:45:47Z</td>\n",
       "      <td>NaN</td>\n",
       "      <td>36431</td>\n",
       "      <td>859.0</td>\n",
       "      <td>338500019</td>\n",
       "      <td>failed</td>\n",
       "      <td>push</td>\n",
       "      <td>None</td>\n",
       "      <td>2018-02-07T13:35:06Z</td>\n",
       "    </tr>\n",
       "    <tr>\n",
       "      <th>39380</th>\n",
       "      <td>2018-02-07T13:57:02Z</td>\n",
       "      <td>NaN</td>\n",
       "      <td>36430</td>\n",
       "      <td>1543.0</td>\n",
       "      <td>338499772</td>\n",
       "      <td>passed</td>\n",
       "      <td>push</td>\n",
       "      <td>None</td>\n",
       "      <td>2018-02-07T13:34:31Z</td>\n",
       "    </tr>\n",
       "    <tr>\n",
       "      <th>39381</th>\n",
       "      <td>2018-02-07T13:48:27Z</td>\n",
       "      <td>3028.0</td>\n",
       "      <td>36429</td>\n",
       "      <td>1331.0</td>\n",
       "      <td>338498110</td>\n",
       "      <td>passed</td>\n",
       "      <td>pull_request</td>\n",
       "      <td>SONAR-10364 upgrade protobuf to 3.2.0</td>\n",
       "      <td>2018-02-07T13:29:37Z</td>\n",
       "    </tr>\n",
       "    <tr>\n",
       "      <th>39382</th>\n",
       "      <td>2018-02-07T13:31:50Z</td>\n",
       "      <td>NaN</td>\n",
       "      <td>36428</td>\n",
       "      <td>203.0</td>\n",
       "      <td>338498094</td>\n",
       "      <td>passed</td>\n",
       "      <td>push</td>\n",
       "      <td>None</td>\n",
       "      <td>2018-02-07T13:29:33Z</td>\n",
       "    </tr>\n",
       "  </tbody>\n",
       "</table>\n",
       "<p>39383 rows × 9 columns</p>\n",
       "</div>"
      ],
      "text/plain": [
       "                finished_at  pull_request_number number  duration         id  \\\n",
       "0      2015-12-28T16:34:08Z                  NaN   6995    5361.0   99118995   \n",
       "1      2015-12-28T14:36:03Z                  NaN   6994    5953.0   99100662   \n",
       "2      2015-12-28T13:27:51Z                  NaN   6993    5166.0   99093472   \n",
       "3      2015-12-28T12:18:41Z                  NaN   6992    5243.0   99086186   \n",
       "4      2015-12-28T10:56:34Z                  NaN   6991    5045.0   99078711   \n",
       "...                     ...                  ...    ...       ...        ...   \n",
       "39378  2018-02-07T13:38:25Z                  NaN  36432     191.0  338500570   \n",
       "39379  2018-02-07T13:45:47Z                  NaN  36431     859.0  338500019   \n",
       "39380  2018-02-07T13:57:02Z                  NaN  36430    1543.0  338499772   \n",
       "39381  2018-02-07T13:48:27Z               3028.0  36429    1331.0  338498110   \n",
       "39382  2018-02-07T13:31:50Z                  NaN  36428     203.0  338498094   \n",
       "\n",
       "        state    event_type                     pull_request_title  \\\n",
       "0      failed          push                                   None   \n",
       "1      passed          push                                   None   \n",
       "2      passed          push                                   None   \n",
       "3      passed          push                                   None   \n",
       "4      passed          push                                   None   \n",
       "...       ...           ...                                    ...   \n",
       "39378  passed          push                                   None   \n",
       "39379  failed          push                                   None   \n",
       "39380  passed          push                                   None   \n",
       "39381  passed  pull_request  SONAR-10364 upgrade protobuf to 3.2.0   \n",
       "39382  passed          push                                   None   \n",
       "\n",
       "                 started_at  \n",
       "0      2015-12-28T16:18:41Z  \n",
       "1      2015-12-28T14:18:30Z  \n",
       "2      2015-12-28T13:11:39Z  \n",
       "3      2015-12-28T12:10:56Z  \n",
       "4      2015-12-28T10:41:16Z  \n",
       "...                     ...  \n",
       "39378  2018-02-07T13:36:19Z  \n",
       "39379  2018-02-07T13:35:06Z  \n",
       "39380  2018-02-07T13:34:31Z  \n",
       "39381  2018-02-07T13:29:37Z  \n",
       "39382  2018-02-07T13:29:33Z  \n",
       "\n",
       "[39383 rows x 9 columns]"
      ]
     },
     "execution_count": 69,
     "metadata": {},
     "output_type": "execute_result"
    }
   ],
   "source": [
    "pd.DataFrame(builds_tuple, columns = common_fields)"
   ]
  },
  {
   "cell_type": "markdown",
   "metadata": {},
   "source": [
    "## Jobs"
   ]
  },
  {
   "cell_type": "code",
   "execution_count": 71,
   "metadata": {},
   "outputs": [],
   "source": [
    "job_tuples = []"
   ]
  },
  {
   "cell_type": "code",
   "execution_count": 73,
   "metadata": {},
   "outputs": [],
   "source": [
    "for v2_file in v2_files:\n",
    "    with open(v2_file, 'rb') as f:\n",
    "        builds2 = pickle.load(f)\n",
    "        for build in builds2:\n",
    "            build_values = []\n",
    "            for job in build[\"job_ids\"]:\n",
    "                job_tuples.append((build[\"id\"], job))"
   ]
  },
  {
   "cell_type": "code",
   "execution_count": 76,
   "metadata": {},
   "outputs": [],
   "source": [
    "for v3_file in v3_files:\n",
    "    with open(v3_file, 'rb') as f:\n",
    "        builds3 = pickle.load(f)\n",
    "        for build in builds3:\n",
    "            build_values = []\n",
    "            for job in build[\"jobs\"]:\n",
    "                job_tuples.append((build[\"id\"], job[\"id\"]))"
   ]
  },
  {
   "cell_type": "code",
   "execution_count": 77,
   "metadata": {},
   "outputs": [
    {
     "data": {
      "text/html": [
       "<div>\n",
       "<style scoped>\n",
       "    .dataframe tbody tr th:only-of-type {\n",
       "        vertical-align: middle;\n",
       "    }\n",
       "\n",
       "    .dataframe tbody tr th {\n",
       "        vertical-align: top;\n",
       "    }\n",
       "\n",
       "    .dataframe thead th {\n",
       "        text-align: right;\n",
       "    }\n",
       "</style>\n",
       "<table border=\"1\" class=\"dataframe\">\n",
       "  <thead>\n",
       "    <tr style=\"text-align: right;\">\n",
       "      <th></th>\n",
       "      <th>build_id</th>\n",
       "      <th>job_id</th>\n",
       "    </tr>\n",
       "  </thead>\n",
       "  <tbody>\n",
       "    <tr>\n",
       "      <th>0</th>\n",
       "      <td>99118995</td>\n",
       "      <td>99118996</td>\n",
       "    </tr>\n",
       "    <tr>\n",
       "      <th>1</th>\n",
       "      <td>99118995</td>\n",
       "      <td>99118997</td>\n",
       "    </tr>\n",
       "    <tr>\n",
       "      <th>2</th>\n",
       "      <td>99118995</td>\n",
       "      <td>99118998</td>\n",
       "    </tr>\n",
       "    <tr>\n",
       "      <th>3</th>\n",
       "      <td>99118995</td>\n",
       "      <td>99118999</td>\n",
       "    </tr>\n",
       "    <tr>\n",
       "      <th>4</th>\n",
       "      <td>99118995</td>\n",
       "      <td>99119000</td>\n",
       "    </tr>\n",
       "    <tr>\n",
       "      <th>...</th>\n",
       "      <td>...</td>\n",
       "      <td>...</td>\n",
       "    </tr>\n",
       "    <tr>\n",
       "      <th>136661</th>\n",
       "      <td>338499772</td>\n",
       "      <td>338499774</td>\n",
       "    </tr>\n",
       "    <tr>\n",
       "      <th>136662</th>\n",
       "      <td>338498110</td>\n",
       "      <td>338498111</td>\n",
       "    </tr>\n",
       "    <tr>\n",
       "      <th>136663</th>\n",
       "      <td>338498110</td>\n",
       "      <td>338498112</td>\n",
       "    </tr>\n",
       "    <tr>\n",
       "      <th>136664</th>\n",
       "      <td>338498094</td>\n",
       "      <td>338498095</td>\n",
       "    </tr>\n",
       "    <tr>\n",
       "      <th>136665</th>\n",
       "      <td>338498094</td>\n",
       "      <td>338498096</td>\n",
       "    </tr>\n",
       "  </tbody>\n",
       "</table>\n",
       "<p>136666 rows × 2 columns</p>\n",
       "</div>"
      ],
      "text/plain": [
       "         build_id     job_id\n",
       "0        99118995   99118996\n",
       "1        99118995   99118997\n",
       "2        99118995   99118998\n",
       "3        99118995   99118999\n",
       "4        99118995   99119000\n",
       "...           ...        ...\n",
       "136661  338499772  338499774\n",
       "136662  338498110  338498111\n",
       "136663  338498110  338498112\n",
       "136664  338498094  338498095\n",
       "136665  338498094  338498096\n",
       "\n",
       "[136666 rows x 2 columns]"
      ]
     },
     "execution_count": 77,
     "metadata": {},
     "output_type": "execute_result"
    }
   ],
   "source": [
    "pd.DataFrame(job_tuples, columns = [\"build_id\", \"job_id\"])"
   ]
  },
  {
   "cell_type": "code",
   "execution_count": null,
   "metadata": {},
   "outputs": [],
   "source": []
  }
 ],
 "metadata": {
  "kernelspec": {
   "display_name": "Python 3",
   "language": "python",
   "name": "python3"
  },
  "language_info": {
   "codemirror_mode": {
    "name": "ipython",
    "version": 3
   },
   "file_extension": ".py",
   "mimetype": "text/x-python",
   "name": "python",
   "nbconvert_exporter": "python",
   "pygments_lexer": "ipython3",
   "version": "3.8.2"
  }
 },
 "nbformat": 4,
 "nbformat_minor": 4
}
