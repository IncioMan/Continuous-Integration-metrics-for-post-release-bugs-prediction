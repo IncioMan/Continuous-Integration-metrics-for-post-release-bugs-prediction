{
 "cells": [
  {
   "cell_type": "code",
   "execution_count": 1,
   "metadata": {},
   "outputs": [],
   "source": [
    "from github import Github\n",
    "import pickle\n",
    "import pandas as pd\n",
    "import pprint\n",
    "pp = pprint.PrettyPrinter(depth=6)"
   ]
  },
  {
   "cell_type": "code",
   "execution_count": 4,
   "metadata": {},
   "outputs": [],
   "source": [
    "#using an access token\n",
    "g = Github(\"3eccda0bf7e78b97af1eb5b82ede22021331293c\")\n",
    "repo = g.get_repo(\"SonarSource/sonarqube\")"
   ]
  },
  {
   "cell_type": "code",
   "execution_count": 5,
   "metadata": {},
   "outputs": [],
   "source": [
    "#returned commits in a paginated list\n",
    "commits = repo.get_commits()"
   ]
  },
  {
   "cell_type": "code",
   "execution_count": 26,
   "metadata": {},
   "outputs": [
    {
     "ename": "RateLimitExceededException",
     "evalue": "403 {\"message\": \"API rate limit exceeded for user ID 16037020.\", \"documentation_url\": \"https://docs.github.com/rest/overview/resources-in-the-rest-api#rate-limiting\"}",
     "output_type": "error",
     "traceback": [
      "\u001b[0;31m---------------------------------------------------------------------------\u001b[0m",
      "\u001b[0;31mRateLimitExceededException\u001b[0m                Traceback (most recent call last)",
      "\u001b[0;32m<ipython-input-26-083209ae5623>\u001b[0m in \u001b[0;36m<module>\u001b[0;34m\u001b[0m\n\u001b[1;32m      5\u001b[0m     \u001b[0mi\u001b[0m\u001b[0;34m+=\u001b[0m\u001b[0;36m1\u001b[0m\u001b[0;34m\u001b[0m\u001b[0;34m\u001b[0m\u001b[0m\n\u001b[1;32m      6\u001b[0m     \u001b[0mcommits_list\u001b[0m\u001b[0;34m.\u001b[0m\u001b[0mappend\u001b[0m\u001b[0;34m(\u001b[0m\u001b[0;34m(\u001b[0m\u001b[0mcommit\u001b[0m\u001b[0;34m.\u001b[0m\u001b[0msha\u001b[0m\u001b[0;34m,\u001b[0m \u001b[0mcommit\u001b[0m\u001b[0;34m.\u001b[0m\u001b[0mcommit\u001b[0m\u001b[0;34m.\u001b[0m\u001b[0mmessage\u001b[0m\u001b[0;34m,\u001b[0m \u001b[0mcommit\u001b[0m\u001b[0;34m.\u001b[0m\u001b[0mcommit\u001b[0m\u001b[0;34m.\u001b[0m\u001b[0mauthor\u001b[0m\u001b[0;34m.\u001b[0m\u001b[0mdate\u001b[0m\u001b[0;34m)\u001b[0m\u001b[0;34m)\u001b[0m\u001b[0;34m\u001b[0m\u001b[0;34m\u001b[0m\u001b[0m\n\u001b[0;32m----> 7\u001b[0;31m     \u001b[0;32mfor\u001b[0m \u001b[0mparent\u001b[0m \u001b[0;32min\u001b[0m \u001b[0mcommit\u001b[0m\u001b[0;34m.\u001b[0m\u001b[0mcommit\u001b[0m\u001b[0;34m.\u001b[0m\u001b[0mparents\u001b[0m\u001b[0;34m:\u001b[0m\u001b[0;34m\u001b[0m\u001b[0;34m\u001b[0m\u001b[0m\n\u001b[0m\u001b[1;32m      8\u001b[0m         \u001b[0mparents\u001b[0m\u001b[0;34m.\u001b[0m\u001b[0mappend\u001b[0m\u001b[0;34m(\u001b[0m\u001b[0;34m(\u001b[0m\u001b[0mcommit\u001b[0m\u001b[0;34m.\u001b[0m\u001b[0msha\u001b[0m\u001b[0;34m,\u001b[0m \u001b[0mparent\u001b[0m\u001b[0;34m.\u001b[0m\u001b[0msha\u001b[0m\u001b[0;34m)\u001b[0m\u001b[0;34m)\u001b[0m\u001b[0;34m\u001b[0m\u001b[0;34m\u001b[0m\u001b[0m\n",
      "\u001b[0;32m~/Library/Python/3.8/lib/python/site-packages/github/GitCommit.py\u001b[0m in \u001b[0;36mparents\u001b[0;34m(self)\u001b[0m\n\u001b[1;32m     81\u001b[0m         \u001b[0;34m:\u001b[0m\u001b[0mtype\u001b[0m\u001b[0;34m:\u001b[0m \u001b[0mlist\u001b[0m \u001b[0mof\u001b[0m \u001b[0;34m:\u001b[0m\u001b[0;32mclass\u001b[0m\u001b[0;34m:\u001b[0m\u001b[0;31m`\u001b[0m\u001b[0mgithub\u001b[0m\u001b[0;34m.\u001b[0m\u001b[0mGitCommit\u001b[0m\u001b[0;34m.\u001b[0m\u001b[0mGitCommit\u001b[0m\u001b[0;31m`\u001b[0m\u001b[0;34m\u001b[0m\u001b[0;34m\u001b[0m\u001b[0m\n\u001b[1;32m     82\u001b[0m         \"\"\"\n\u001b[0;32m---> 83\u001b[0;31m         \u001b[0mself\u001b[0m\u001b[0;34m.\u001b[0m\u001b[0m_completeIfNotSet\u001b[0m\u001b[0;34m(\u001b[0m\u001b[0mself\u001b[0m\u001b[0;34m.\u001b[0m\u001b[0m_parents\u001b[0m\u001b[0;34m)\u001b[0m\u001b[0;34m\u001b[0m\u001b[0;34m\u001b[0m\u001b[0m\n\u001b[0m\u001b[1;32m     84\u001b[0m         \u001b[0;32mreturn\u001b[0m \u001b[0mself\u001b[0m\u001b[0;34m.\u001b[0m\u001b[0m_parents\u001b[0m\u001b[0;34m.\u001b[0m\u001b[0mvalue\u001b[0m\u001b[0;34m\u001b[0m\u001b[0;34m\u001b[0m\u001b[0m\n\u001b[1;32m     85\u001b[0m \u001b[0;34m\u001b[0m\u001b[0m\n",
      "\u001b[0;32m~/Library/Python/3.8/lib/python/site-packages/github/GithubObject.py\u001b[0m in \u001b[0;36m_completeIfNotSet\u001b[0;34m(self, value)\u001b[0m\n\u001b[1;32m    297\u001b[0m     \u001b[0;32mdef\u001b[0m \u001b[0m_completeIfNotSet\u001b[0m\u001b[0;34m(\u001b[0m\u001b[0mself\u001b[0m\u001b[0;34m,\u001b[0m \u001b[0mvalue\u001b[0m\u001b[0;34m)\u001b[0m\u001b[0;34m:\u001b[0m\u001b[0;34m\u001b[0m\u001b[0;34m\u001b[0m\u001b[0m\n\u001b[1;32m    298\u001b[0m         \u001b[0;32mif\u001b[0m \u001b[0mvalue\u001b[0m \u001b[0;32mis\u001b[0m \u001b[0mNotSet\u001b[0m\u001b[0;34m:\u001b[0m\u001b[0;34m\u001b[0m\u001b[0;34m\u001b[0m\u001b[0m\n\u001b[0;32m--> 299\u001b[0;31m             \u001b[0mself\u001b[0m\u001b[0;34m.\u001b[0m\u001b[0m_completeIfNeeded\u001b[0m\u001b[0;34m(\u001b[0m\u001b[0;34m)\u001b[0m\u001b[0;34m\u001b[0m\u001b[0;34m\u001b[0m\u001b[0m\n\u001b[0m\u001b[1;32m    300\u001b[0m \u001b[0;34m\u001b[0m\u001b[0m\n\u001b[1;32m    301\u001b[0m     \u001b[0;32mdef\u001b[0m \u001b[0m_completeIfNeeded\u001b[0m\u001b[0;34m(\u001b[0m\u001b[0mself\u001b[0m\u001b[0;34m)\u001b[0m\u001b[0;34m:\u001b[0m\u001b[0;34m\u001b[0m\u001b[0;34m\u001b[0m\u001b[0m\n",
      "\u001b[0;32m~/Library/Python/3.8/lib/python/site-packages/github/GithubObject.py\u001b[0m in \u001b[0;36m_completeIfNeeded\u001b[0;34m(self)\u001b[0m\n\u001b[1;32m    301\u001b[0m     \u001b[0;32mdef\u001b[0m \u001b[0m_completeIfNeeded\u001b[0m\u001b[0;34m(\u001b[0m\u001b[0mself\u001b[0m\u001b[0;34m)\u001b[0m\u001b[0;34m:\u001b[0m\u001b[0;34m\u001b[0m\u001b[0;34m\u001b[0m\u001b[0m\n\u001b[1;32m    302\u001b[0m         \u001b[0;32mif\u001b[0m \u001b[0;32mnot\u001b[0m \u001b[0mself\u001b[0m\u001b[0;34m.\u001b[0m\u001b[0m__completed\u001b[0m\u001b[0;34m:\u001b[0m\u001b[0;34m\u001b[0m\u001b[0;34m\u001b[0m\u001b[0m\n\u001b[0;32m--> 303\u001b[0;31m             \u001b[0mself\u001b[0m\u001b[0;34m.\u001b[0m\u001b[0m__complete\u001b[0m\u001b[0;34m(\u001b[0m\u001b[0;34m)\u001b[0m\u001b[0;34m\u001b[0m\u001b[0;34m\u001b[0m\u001b[0m\n\u001b[0m\u001b[1;32m    304\u001b[0m \u001b[0;34m\u001b[0m\u001b[0m\n\u001b[1;32m    305\u001b[0m     \u001b[0;32mdef\u001b[0m \u001b[0m__complete\u001b[0m\u001b[0;34m(\u001b[0m\u001b[0mself\u001b[0m\u001b[0;34m)\u001b[0m\u001b[0;34m:\u001b[0m\u001b[0;34m\u001b[0m\u001b[0;34m\u001b[0m\u001b[0m\n",
      "\u001b[0;32m~/Library/Python/3.8/lib/python/site-packages/github/GithubObject.py\u001b[0m in \u001b[0;36m__complete\u001b[0;34m(self)\u001b[0m\n\u001b[1;32m    308\u001b[0m                 \u001b[0;36m400\u001b[0m\u001b[0;34m,\u001b[0m \u001b[0;34m\"Returned object contains no URL\"\u001b[0m\u001b[0;34m\u001b[0m\u001b[0;34m\u001b[0m\u001b[0m\n\u001b[1;32m    309\u001b[0m             )\n\u001b[0;32m--> 310\u001b[0;31m         \u001b[0mheaders\u001b[0m\u001b[0;34m,\u001b[0m \u001b[0mdata\u001b[0m \u001b[0;34m=\u001b[0m \u001b[0mself\u001b[0m\u001b[0;34m.\u001b[0m\u001b[0m_requester\u001b[0m\u001b[0;34m.\u001b[0m\u001b[0mrequestJsonAndCheck\u001b[0m\u001b[0;34m(\u001b[0m\u001b[0;34m\"GET\"\u001b[0m\u001b[0;34m,\u001b[0m \u001b[0mself\u001b[0m\u001b[0;34m.\u001b[0m\u001b[0m_url\u001b[0m\u001b[0;34m.\u001b[0m\u001b[0mvalue\u001b[0m\u001b[0;34m)\u001b[0m\u001b[0;34m\u001b[0m\u001b[0;34m\u001b[0m\u001b[0m\n\u001b[0m\u001b[1;32m    311\u001b[0m         \u001b[0mself\u001b[0m\u001b[0;34m.\u001b[0m\u001b[0m_storeAndUseAttributes\u001b[0m\u001b[0;34m(\u001b[0m\u001b[0mheaders\u001b[0m\u001b[0;34m,\u001b[0m \u001b[0mdata\u001b[0m\u001b[0;34m)\u001b[0m\u001b[0;34m\u001b[0m\u001b[0;34m\u001b[0m\u001b[0m\n\u001b[1;32m    312\u001b[0m         \u001b[0mself\u001b[0m\u001b[0;34m.\u001b[0m\u001b[0m__completed\u001b[0m \u001b[0;34m=\u001b[0m \u001b[0;32mTrue\u001b[0m\u001b[0;34m\u001b[0m\u001b[0;34m\u001b[0m\u001b[0m\n",
      "\u001b[0;32m~/Library/Python/3.8/lib/python/site-packages/github/Requester.py\u001b[0m in \u001b[0;36mrequestJsonAndCheck\u001b[0;34m(self, verb, url, parameters, headers, input)\u001b[0m\n\u001b[1;32m    315\u001b[0m \u001b[0;34m\u001b[0m\u001b[0m\n\u001b[1;32m    316\u001b[0m     \u001b[0;32mdef\u001b[0m \u001b[0mrequestJsonAndCheck\u001b[0m\u001b[0;34m(\u001b[0m\u001b[0mself\u001b[0m\u001b[0;34m,\u001b[0m \u001b[0mverb\u001b[0m\u001b[0;34m,\u001b[0m \u001b[0murl\u001b[0m\u001b[0;34m,\u001b[0m \u001b[0mparameters\u001b[0m\u001b[0;34m=\u001b[0m\u001b[0;32mNone\u001b[0m\u001b[0;34m,\u001b[0m \u001b[0mheaders\u001b[0m\u001b[0;34m=\u001b[0m\u001b[0;32mNone\u001b[0m\u001b[0;34m,\u001b[0m \u001b[0minput\u001b[0m\u001b[0;34m=\u001b[0m\u001b[0;32mNone\u001b[0m\u001b[0;34m)\u001b[0m\u001b[0;34m:\u001b[0m\u001b[0;34m\u001b[0m\u001b[0;34m\u001b[0m\u001b[0m\n\u001b[0;32m--> 317\u001b[0;31m         return self.__check(\n\u001b[0m\u001b[1;32m    318\u001b[0m             *self.requestJson(\n\u001b[1;32m    319\u001b[0m                 \u001b[0mverb\u001b[0m\u001b[0;34m,\u001b[0m \u001b[0murl\u001b[0m\u001b[0;34m,\u001b[0m \u001b[0mparameters\u001b[0m\u001b[0;34m,\u001b[0m \u001b[0mheaders\u001b[0m\u001b[0;34m,\u001b[0m \u001b[0minput\u001b[0m\u001b[0;34m,\u001b[0m \u001b[0mself\u001b[0m\u001b[0;34m.\u001b[0m\u001b[0m__customConnection\u001b[0m\u001b[0;34m(\u001b[0m\u001b[0murl\u001b[0m\u001b[0;34m)\u001b[0m\u001b[0;34m\u001b[0m\u001b[0;34m\u001b[0m\u001b[0m\n",
      "\u001b[0;32m~/Library/Python/3.8/lib/python/site-packages/github/Requester.py\u001b[0m in \u001b[0;36m__check\u001b[0;34m(self, status, responseHeaders, output)\u001b[0m\n\u001b[1;32m    340\u001b[0m         \u001b[0moutput\u001b[0m \u001b[0;34m=\u001b[0m \u001b[0mself\u001b[0m\u001b[0;34m.\u001b[0m\u001b[0m__structuredFromJson\u001b[0m\u001b[0;34m(\u001b[0m\u001b[0moutput\u001b[0m\u001b[0;34m)\u001b[0m\u001b[0;34m\u001b[0m\u001b[0;34m\u001b[0m\u001b[0m\n\u001b[1;32m    341\u001b[0m         \u001b[0;32mif\u001b[0m \u001b[0mstatus\u001b[0m \u001b[0;34m>=\u001b[0m \u001b[0;36m400\u001b[0m\u001b[0;34m:\u001b[0m\u001b[0;34m\u001b[0m\u001b[0;34m\u001b[0m\u001b[0m\n\u001b[0;32m--> 342\u001b[0;31m             \u001b[0;32mraise\u001b[0m \u001b[0mself\u001b[0m\u001b[0;34m.\u001b[0m\u001b[0m__createException\u001b[0m\u001b[0;34m(\u001b[0m\u001b[0mstatus\u001b[0m\u001b[0;34m,\u001b[0m \u001b[0mresponseHeaders\u001b[0m\u001b[0;34m,\u001b[0m \u001b[0moutput\u001b[0m\u001b[0;34m)\u001b[0m\u001b[0;34m\u001b[0m\u001b[0;34m\u001b[0m\u001b[0m\n\u001b[0m\u001b[1;32m    343\u001b[0m         \u001b[0;32mreturn\u001b[0m \u001b[0mresponseHeaders\u001b[0m\u001b[0;34m,\u001b[0m \u001b[0moutput\u001b[0m\u001b[0;34m\u001b[0m\u001b[0;34m\u001b[0m\u001b[0m\n\u001b[1;32m    344\u001b[0m \u001b[0;34m\u001b[0m\u001b[0m\n",
      "\u001b[0;31mRateLimitExceededException\u001b[0m: 403 {\"message\": \"API rate limit exceeded for user ID 16037020.\", \"documentation_url\": \"https://docs.github.com/rest/overview/resources-in-the-rest-api#rate-limiting\"}"
     ]
    }
   ],
   "source": [
    "commits_list = []\n",
    "parents = []\n",
    "i=0\n",
    "for commit in commits:\n",
    "    i+=1\n",
    "    commits_list.append((commit.sha, commit.commit.message, commit.commit.author.date))\n",
    "    for parent in commit.commit.parents:\n",
    "        parents.append((commit.sha, parent.sha))"
   ]
  },
  {
   "cell_type": "code",
   "execution_count": 16,
   "metadata": {},
   "outputs": [
    {
     "data": {
      "text/plain": [
       "501"
      ]
     },
     "execution_count": 16,
     "metadata": {},
     "output_type": "execute_result"
    }
   ],
   "source": [
    "len(commits_list)"
   ]
  },
  {
   "cell_type": "code",
   "execution_count": 18,
   "metadata": {
    "scrolled": true
   },
   "outputs": [
    {
     "data": {
      "text/html": [
       "<div>\n",
       "<style scoped>\n",
       "    .dataframe tbody tr th:only-of-type {\n",
       "        vertical-align: middle;\n",
       "    }\n",
       "\n",
       "    .dataframe tbody tr th {\n",
       "        vertical-align: top;\n",
       "    }\n",
       "\n",
       "    .dataframe thead th {\n",
       "        text-align: right;\n",
       "    }\n",
       "</style>\n",
       "<table border=\"1\" class=\"dataframe\">\n",
       "  <thead>\n",
       "    <tr style=\"text-align: right;\">\n",
       "      <th></th>\n",
       "      <th>commit_sha</th>\n",
       "      <th>parent_sha</th>\n",
       "    </tr>\n",
       "  </thead>\n",
       "  <tbody>\n",
       "    <tr>\n",
       "      <th>0</th>\n",
       "      <td>6dc2cc9ff6340e6588b7608ed90354aa6767fcdf</td>\n",
       "      <td>0ecd8610552ccd59049308c1be46b03470c48538</td>\n",
       "    </tr>\n",
       "    <tr>\n",
       "      <th>1</th>\n",
       "      <td>0ecd8610552ccd59049308c1be46b03470c48538</td>\n",
       "      <td>bc413ee3db73258a22059816bd4766bcea66a9ca</td>\n",
       "    </tr>\n",
       "    <tr>\n",
       "      <th>2</th>\n",
       "      <td>bc413ee3db73258a22059816bd4766bcea66a9ca</td>\n",
       "      <td>27282ea04940d30eb33c20a02989a79d88dec4a0</td>\n",
       "    </tr>\n",
       "    <tr>\n",
       "      <th>3</th>\n",
       "      <td>27282ea04940d30eb33c20a02989a79d88dec4a0</td>\n",
       "      <td>626469caaa8b060f79f101cffff214d23c7e611b</td>\n",
       "    </tr>\n",
       "    <tr>\n",
       "      <th>4</th>\n",
       "      <td>626469caaa8b060f79f101cffff214d23c7e611b</td>\n",
       "      <td>dae0f392c72132be88af4a73d98875fdf477de50</td>\n",
       "    </tr>\n",
       "    <tr>\n",
       "      <th>...</th>\n",
       "      <td>...</td>\n",
       "      <td>...</td>\n",
       "    </tr>\n",
       "    <tr>\n",
       "      <th>496</th>\n",
       "      <td>88597f3717a873db1373e4d4b2bcca7f5fd74425</td>\n",
       "      <td>9ea4d1c0a65d82acd4c4d3628a82b6a673fcb0c9</td>\n",
       "    </tr>\n",
       "    <tr>\n",
       "      <th>497</th>\n",
       "      <td>9ea4d1c0a65d82acd4c4d3628a82b6a673fcb0c9</td>\n",
       "      <td>74384e67058fcfea16c80839740d28d9083b944a</td>\n",
       "    </tr>\n",
       "    <tr>\n",
       "      <th>498</th>\n",
       "      <td>74384e67058fcfea16c80839740d28d9083b944a</td>\n",
       "      <td>7294268682b6d1add416c7de5d41422367fec324</td>\n",
       "    </tr>\n",
       "    <tr>\n",
       "      <th>499</th>\n",
       "      <td>7294268682b6d1add416c7de5d41422367fec324</td>\n",
       "      <td>4f5231d18118c6643c19f1d1259f1165b2764774</td>\n",
       "    </tr>\n",
       "    <tr>\n",
       "      <th>500</th>\n",
       "      <td>4f5231d18118c6643c19f1d1259f1165b2764774</td>\n",
       "      <td>50d6bfbc6596c3987e0e2cf26f7a466f3cfdda90</td>\n",
       "    </tr>\n",
       "  </tbody>\n",
       "</table>\n",
       "<p>501 rows × 2 columns</p>\n",
       "</div>"
      ],
      "text/plain": [
       "                                   commit_sha  \\\n",
       "0    6dc2cc9ff6340e6588b7608ed90354aa6767fcdf   \n",
       "1    0ecd8610552ccd59049308c1be46b03470c48538   \n",
       "2    bc413ee3db73258a22059816bd4766bcea66a9ca   \n",
       "3    27282ea04940d30eb33c20a02989a79d88dec4a0   \n",
       "4    626469caaa8b060f79f101cffff214d23c7e611b   \n",
       "..                                        ...   \n",
       "496  88597f3717a873db1373e4d4b2bcca7f5fd74425   \n",
       "497  9ea4d1c0a65d82acd4c4d3628a82b6a673fcb0c9   \n",
       "498  74384e67058fcfea16c80839740d28d9083b944a   \n",
       "499  7294268682b6d1add416c7de5d41422367fec324   \n",
       "500  4f5231d18118c6643c19f1d1259f1165b2764774   \n",
       "\n",
       "                                   parent_sha  \n",
       "0    0ecd8610552ccd59049308c1be46b03470c48538  \n",
       "1    bc413ee3db73258a22059816bd4766bcea66a9ca  \n",
       "2    27282ea04940d30eb33c20a02989a79d88dec4a0  \n",
       "3    626469caaa8b060f79f101cffff214d23c7e611b  \n",
       "4    dae0f392c72132be88af4a73d98875fdf477de50  \n",
       "..                                        ...  \n",
       "496  9ea4d1c0a65d82acd4c4d3628a82b6a673fcb0c9  \n",
       "497  74384e67058fcfea16c80839740d28d9083b944a  \n",
       "498  7294268682b6d1add416c7de5d41422367fec324  \n",
       "499  4f5231d18118c6643c19f1d1259f1165b2764774  \n",
       "500  50d6bfbc6596c3987e0e2cf26f7a466f3cfdda90  \n",
       "\n",
       "[501 rows x 2 columns]"
      ]
     },
     "execution_count": 18,
     "metadata": {},
     "output_type": "execute_result"
    }
   ],
   "source": [
    "# Create pandas df\n",
    "parentsDf = pd.DataFrame(parents, columns=[\"commit_sha\", \"parent_sha\"])\n",
    "parentsDf"
   ]
  },
  {
   "cell_type": "code",
   "execution_count": 24,
   "metadata": {},
   "outputs": [
    {
     "data": {
      "text/plain": [
       "501"
      ]
     },
     "execution_count": 24,
     "metadata": {},
     "output_type": "execute_result"
    }
   ],
   "source": [
    "(parentsDf.groupby(\"commit_sha\").count().parent_sha == 1).sum()"
   ]
  },
  {
   "cell_type": "code",
   "execution_count": 80,
   "metadata": {},
   "outputs": [],
   "source": [
    "# Create pandas df\n",
    "commitsDf = pd.DataFrame(commits_list, columns=[\"Sha\", \"Message\", \"Date\"])\n",
    "commitsDf.Date = pd.to_datetime(commitsDf.Date)"
   ]
  },
  {
   "cell_type": "code",
   "execution_count": 81,
   "metadata": {},
   "outputs": [
    {
     "data": {
      "text/html": [
       "<div>\n",
       "<style scoped>\n",
       "    .dataframe tbody tr th:only-of-type {\n",
       "        vertical-align: middle;\n",
       "    }\n",
       "\n",
       "    .dataframe tbody tr th {\n",
       "        vertical-align: top;\n",
       "    }\n",
       "\n",
       "    .dataframe thead th {\n",
       "        text-align: right;\n",
       "    }\n",
       "</style>\n",
       "<table border=\"1\" class=\"dataframe\">\n",
       "  <thead>\n",
       "    <tr style=\"text-align: right;\">\n",
       "      <th></th>\n",
       "      <th>Sha</th>\n",
       "      <th>Message</th>\n",
       "      <th>Date</th>\n",
       "    </tr>\n",
       "  </thead>\n",
       "  <tbody>\n",
       "    <tr>\n",
       "      <th>0</th>\n",
       "      <td>4b3d914bf578d1eb88fc9ca79efef00843511865</td>\n",
       "      <td>Upgrade Gradle plugins</td>\n",
       "      <td>2020-09-24 18:16:15</td>\n",
       "    </tr>\n",
       "    <tr>\n",
       "      <th>1</th>\n",
       "      <td>ad7d964270d6a6c3da52bf54931ce9fbf50c3076</td>\n",
       "      <td>SONAR-13905 upgrade Hazelcast from 3.12.7 to 3...</td>\n",
       "      <td>2020-09-24 08:38:51</td>\n",
       "    </tr>\n",
       "    <tr>\n",
       "      <th>2</th>\n",
       "      <td>552f5bbe1d4eca4783a4da1325b16b0cd4d7783f</td>\n",
       "      <td>SONAR-13905 upgrade Tomcat from 8.5.56 zo 8.5....</td>\n",
       "      <td>2020-09-24 08:13:42</td>\n",
       "    </tr>\n",
       "    <tr>\n",
       "      <th>3</th>\n",
       "      <td>9a9609134d2c5136baed9436f9f54eb20821a25e</td>\n",
       "      <td>SONAR-10558 Make it explicit that the project'...</td>\n",
       "      <td>2020-09-28 09:05:10</td>\n",
       "    </tr>\n",
       "    <tr>\n",
       "      <th>4</th>\n",
       "      <td>c87841b757f4a849ddae0195d3f0bb98e2d5223f</td>\n",
       "      <td>Fix issue with BBS repos fetch</td>\n",
       "      <td>2020-09-25 12:04:29</td>\n",
       "    </tr>\n",
       "    <tr>\n",
       "      <th>...</th>\n",
       "      <td>...</td>\n",
       "      <td>...</td>\n",
       "      <td>...</td>\n",
       "    </tr>\n",
       "    <tr>\n",
       "      <th>26995</th>\n",
       "      <td>3f099f35475a66e24290c29004cdc6acef49800d</td>\n",
       "      <td>Improve message when database must be upgraded</td>\n",
       "      <td>2012-03-26 08:57:03</td>\n",
       "    </tr>\n",
       "    <tr>\n",
       "      <th>26996</th>\n",
       "      <td>2796325b4b87e9b273f7b4fe0649ae3f6297a51b</td>\n",
       "      <td>SONAR-3354 Display empty table instead of mess...</td>\n",
       "      <td>2012-03-27 08:34:42</td>\n",
       "    </tr>\n",
       "    <tr>\n",
       "      <th>26997</th>\n",
       "      <td>c3d0fe433d773d015f2fb99521a82b8ab29c0da6</td>\n",
       "      <td>Fix violations</td>\n",
       "      <td>2012-03-27 07:37:20</td>\n",
       "    </tr>\n",
       "    <tr>\n",
       "      <th>26998</th>\n",
       "      <td>2d4f0cd2bb0b768f401ca776eb256d7f31957976</td>\n",
       "      <td>Improve DB readme file.</td>\n",
       "      <td>2012-03-27 07:36:25</td>\n",
       "    </tr>\n",
       "    <tr>\n",
       "      <th>26999</th>\n",
       "      <td>2d407aeb481218fdcf9cdc498008942d92252f04</td>\n",
       "      <td>SONAR-3295 sonar.jacoco.excludes must exclude ...</td>\n",
       "      <td>2012-03-26 19:27:05</td>\n",
       "    </tr>\n",
       "  </tbody>\n",
       "</table>\n",
       "<p>27000 rows × 3 columns</p>\n",
       "</div>"
      ],
      "text/plain": [
       "                                            Sha  \\\n",
       "0      4b3d914bf578d1eb88fc9ca79efef00843511865   \n",
       "1      ad7d964270d6a6c3da52bf54931ce9fbf50c3076   \n",
       "2      552f5bbe1d4eca4783a4da1325b16b0cd4d7783f   \n",
       "3      9a9609134d2c5136baed9436f9f54eb20821a25e   \n",
       "4      c87841b757f4a849ddae0195d3f0bb98e2d5223f   \n",
       "...                                         ...   \n",
       "26995  3f099f35475a66e24290c29004cdc6acef49800d   \n",
       "26996  2796325b4b87e9b273f7b4fe0649ae3f6297a51b   \n",
       "26997  c3d0fe433d773d015f2fb99521a82b8ab29c0da6   \n",
       "26998  2d4f0cd2bb0b768f401ca776eb256d7f31957976   \n",
       "26999  2d407aeb481218fdcf9cdc498008942d92252f04   \n",
       "\n",
       "                                                 Message                Date  \n",
       "0                                 Upgrade Gradle plugins 2020-09-24 18:16:15  \n",
       "1      SONAR-13905 upgrade Hazelcast from 3.12.7 to 3... 2020-09-24 08:38:51  \n",
       "2      SONAR-13905 upgrade Tomcat from 8.5.56 zo 8.5.... 2020-09-24 08:13:42  \n",
       "3      SONAR-10558 Make it explicit that the project'... 2020-09-28 09:05:10  \n",
       "4                         Fix issue with BBS repos fetch 2020-09-25 12:04:29  \n",
       "...                                                  ...                 ...  \n",
       "26995     Improve message when database must be upgraded 2012-03-26 08:57:03  \n",
       "26996  SONAR-3354 Display empty table instead of mess... 2012-03-27 08:34:42  \n",
       "26997                                     Fix violations 2012-03-27 07:37:20  \n",
       "26998                            Improve DB readme file. 2012-03-27 07:36:25  \n",
       "26999  SONAR-3295 sonar.jacoco.excludes must exclude ... 2012-03-26 19:27:05  \n",
       "\n",
       "[27000 rows x 3 columns]"
      ]
     },
     "execution_count": 81,
     "metadata": {},
     "output_type": "execute_result"
    }
   ],
   "source": [
    "commitsDf"
   ]
  },
  {
   "cell_type": "code",
   "execution_count": 14,
   "metadata": {},
   "outputs": [
    {
     "name": "stdout",
     "output_type": "stream",
     "text": [
      "'0ecd8610552ccd59049308c1be46b03470c48538'\n"
     ]
    }
   ],
   "source": [
    "pp.pprint(commits[0].commit.parents[0].sha)"
   ]
  },
  {
   "cell_type": "code",
   "execution_count": 18,
   "metadata": {},
   "outputs": [
    {
     "name": "stdout",
     "output_type": "stream",
     "text": [
      "{'_CompletableGithubObject__completed': False,\n",
      " '_author': <github.GithubObject._ValuedAttribute object at 0x111c77460>,\n",
      " '_comments_url': <github.GithubObject._ValuedAttribute object at 0x111c5b100>,\n",
      " '_commit': <github.GithubObject._ValuedAttribute object at 0x111c55580>,\n",
      " '_committer': <github.GithubObject._ValuedAttribute object at 0x111c58a90>,\n",
      " '_files': NotSet,\n",
      " '_headers': {'access-control-allow-origin': '*',\n",
      "              'access-control-expose-headers': 'ETag, Link, Location, '\n",
      "                                               'Retry-After, X-GitHub-OTP, '\n",
      "                                               'X-RateLimit-Limit, '\n",
      "                                               'X-RateLimit-Remaining, '\n",
      "                                               'X-RateLimit-Used, '\n",
      "                                               'X-RateLimit-Reset, '\n",
      "                                               'X-OAuth-Scopes, '\n",
      "                                               'X-Accepted-OAuth-Scopes, '\n",
      "                                               'X-Poll-Interval, '\n",
      "                                               'X-GitHub-Media-Type, '\n",
      "                                               'Deprecation, Sunset',\n",
      "              'cache-control': 'private, max-age=60, s-maxage=60',\n",
      "              'content-encoding': 'gzip',\n",
      "              'content-security-policy': \"default-src 'none'\",\n",
      "              'content-type': 'application/json; charset=utf-8',\n",
      "              'date': 'Tue, 29 Sep 2020 14:15:21 GMT',\n",
      "              'etag': 'W/\"1a622fc57c5242ab55f60f1378533b52718193113c6dc951651db22b6074abcd\"',\n",
      "              'last-modified': 'Mon, 28 Sep 2020 20:07:24 GMT',\n",
      "              'link': '<https://api.github.com/repositories/1222504/commits?page=2>; '\n",
      "                      'rel=\"next\", '\n",
      "                      '<https://api.github.com/repositories/1222504/commits?page=1004>; '\n",
      "                      'rel=\"last\"',\n",
      "              'referrer-policy': 'origin-when-cross-origin, '\n",
      "                                 'strict-origin-when-cross-origin',\n",
      "              'server': 'GitHub.com',\n",
      "              'status': '200 OK',\n",
      "              'strict-transport-security': 'max-age=31536000; '\n",
      "                                           'includeSubdomains; preload',\n",
      "              'transfer-encoding': 'chunked',\n",
      "              'vary': 'Accept, Authorization, Cookie, X-GitHub-OTP, '\n",
      "                      'Accept-Encoding, Accept, X-Requested-With, '\n",
      "                      'Accept-Encoding',\n",
      "              'x-accepted-oauth-scopes': '',\n",
      "              'x-content-type-options': 'nosniff',\n",
      "              'x-frame-options': 'deny',\n",
      "              'x-github-media-type': 'github.v3; format=json',\n",
      "              'x-github-request-id': '8F6C:F68C:D567CE6:FDEB87E:5F734178',\n",
      "              'x-oauth-scopes': 'repo',\n",
      "              'x-ratelimit-limit': '5000',\n",
      "              'x-ratelimit-remaining': '4858',\n",
      "              'x-ratelimit-reset': '1601390002',\n",
      "              'x-ratelimit-used': '142',\n",
      "              'x-xss-protection': '1; mode=block'},\n",
      " '_html_url': <github.GithubObject._ValuedAttribute object at 0x111c55670>,\n",
      " '_parents': <github.GithubObject._ValuedAttribute object at 0x111c58700>,\n",
      " '_rawData': {'author': {'avatar_url': 'https://avatars1.githubusercontent.com/u/414010?v=4',\n",
      "                         'events_url': 'https://api.github.com/users/simonbrandhof/events{/privacy}',\n",
      "                         'followers_url': 'https://api.github.com/users/simonbrandhof/followers',\n",
      "                         'following_url': 'https://api.github.com/users/simonbrandhof/following{/other_user}',\n",
      "                         'gists_url': 'https://api.github.com/users/simonbrandhof/gists{/gist_id}',\n",
      "                         'gravatar_id': '',\n",
      "                         'html_url': 'https://github.com/simonbrandhof',\n",
      "                         'id': 414010,\n",
      "                         'login': 'simonbrandhof',\n",
      "                         'node_id': 'MDQ6VXNlcjQxNDAxMA==',\n",
      "                         'organizations_url': 'https://api.github.com/users/simonbrandhof/orgs',\n",
      "                         'received_events_url': 'https://api.github.com/users/simonbrandhof/received_events',\n",
      "                         'repos_url': 'https://api.github.com/users/simonbrandhof/repos',\n",
      "                         'site_admin': False,\n",
      "                         'starred_url': 'https://api.github.com/users/simonbrandhof/starred{/owner}{/repo}',\n",
      "                         'subscriptions_url': 'https://api.github.com/users/simonbrandhof/subscriptions',\n",
      "                         'type': 'User',\n",
      "                         'url': 'https://api.github.com/users/simonbrandhof'},\n",
      "              'comments_url': 'https://api.github.com/repos/SonarSource/sonarqube/commits/4b3d914bf578d1eb88fc9ca79efef00843511865/comments',\n",
      "              'commit': {'author': {'date': '2020-09-24T18:16:15Z',\n",
      "                                    'email': 'simon@brandhof.net',\n",
      "                                    'name': 'Simon Brandhof'},\n",
      "                         'comment_count': 0,\n",
      "                         'committer': {'date': '2020-09-28T20:07:24Z',\n",
      "                                       'email': 'sonartech@sonarsource.com',\n",
      "                                       'name': 'sonartech'},\n",
      "                         'message': 'Upgrade Gradle plugins',\n",
      "                         'tree': {'sha': '393613e091446bf4f57c02d2873b7a8e3a633bc2',\n",
      "                                  'url': 'https://api.github.com/repos/SonarSource/sonarqube/git/trees/393613e091446bf4f57c02d2873b7a8e3a633bc2'},\n",
      "                         'url': 'https://api.github.com/repos/SonarSource/sonarqube/git/commits/4b3d914bf578d1eb88fc9ca79efef00843511865',\n",
      "                         'verification': {'payload': None,\n",
      "                                          'reason': 'unsigned',\n",
      "                                          'signature': None,\n",
      "                                          'verified': False}},\n",
      "              'committer': None,\n",
      "              'html_url': 'https://github.com/SonarSource/sonarqube/commit/4b3d914bf578d1eb88fc9ca79efef00843511865',\n",
      "              'node_id': 'MDY6Q29tbWl0MTIyMjUwNDo0YjNkOTE0YmY1NzhkMWViODhmYzljYTc5ZWZlZjAwODQzNTExODY1',\n",
      "              'parents': [{'html_url': 'https://github.com/SonarSource/sonarqube/commit/ad7d964270d6a6c3da52bf54931ce9fbf50c3076',\n",
      "                           'sha': 'ad7d964270d6a6c3da52bf54931ce9fbf50c3076',\n",
      "                           'url': 'https://api.github.com/repos/SonarSource/sonarqube/commits/ad7d964270d6a6c3da52bf54931ce9fbf50c3076'}],\n",
      "              'sha': '4b3d914bf578d1eb88fc9ca79efef00843511865',\n",
      "              'url': 'https://api.github.com/repos/SonarSource/sonarqube/commits/4b3d914bf578d1eb88fc9ca79efef00843511865'},\n",
      " '_requester': <github.Requester.Requester object at 0x111c5b790>,\n",
      " '_sha': <github.GithubObject._ValuedAttribute object at 0x111c58730>,\n",
      " '_stats': NotSet,\n",
      " '_url': <github.GithubObject._ValuedAttribute object at 0x111c600a0>}\n"
     ]
    }
   ],
   "source": [
    "pp.pprint(commits_list[0].__dict__)"
   ]
  },
  {
   "cell_type": "code",
   "execution_count": 30,
   "metadata": {},
   "outputs": [],
   "source": [
    "# Dump tags objects retrieved from Github APIs\n",
    "\n",
    "tags = repo.get_tags()\n",
    "f = open('pkl/tags.pkl', 'wb')\n",
    "for tag in tags:\n",
    "    pickle.dump(tag, f)"
   ]
  },
  {
   "cell_type": "code",
   "execution_count": 31,
   "metadata": {},
   "outputs": [],
   "source": [
    "tmp = []\n",
    "for tag in tags:\n",
    "    tmp.append((tag.name, tag.commit.sha, repo.get_commit(sha=tag.commit.sha).commit.author.date))"
   ]
  },
  {
   "cell_type": "code",
   "execution_count": 27,
   "metadata": {},
   "outputs": [
    {
     "ename": "NameError",
     "evalue": "name 'tmp' is not defined",
     "output_type": "error",
     "traceback": [
      "\u001b[0;31m---------------------------------------------------------------------------\u001b[0m",
      "\u001b[0;31mNameError\u001b[0m                                 Traceback (most recent call last)",
      "\u001b[0;32m<ipython-input-27-5025e30ebcd4>\u001b[0m in \u001b[0;36m<module>\u001b[0;34m\u001b[0m\n\u001b[1;32m      1\u001b[0m \u001b[0;31m# Create a file with tags pandas df\u001b[0m\u001b[0;34m\u001b[0m\u001b[0;34m\u001b[0m\u001b[0;34m\u001b[0m\u001b[0m\n\u001b[0;32m----> 2\u001b[0;31m \u001b[0mtagsDf\u001b[0m \u001b[0;34m=\u001b[0m \u001b[0mpd\u001b[0m\u001b[0;34m.\u001b[0m\u001b[0mDataFrame\u001b[0m\u001b[0;34m(\u001b[0m\u001b[0mtmp\u001b[0m\u001b[0;34m,\u001b[0m \u001b[0mcolumns\u001b[0m\u001b[0;34m=\u001b[0m\u001b[0;34m[\u001b[0m\u001b[0;34m\"Tag\"\u001b[0m\u001b[0;34m,\u001b[0m \u001b[0;34m\"Sha\"\u001b[0m\u001b[0;34m,\u001b[0m \u001b[0;34m\"Date\"\u001b[0m\u001b[0;34m]\u001b[0m\u001b[0;34m)\u001b[0m\u001b[0;34m\u001b[0m\u001b[0;34m\u001b[0m\u001b[0m\n\u001b[0m\u001b[1;32m      3\u001b[0m \u001b[0mtagsDf\u001b[0m\u001b[0;34m.\u001b[0m\u001b[0mDate\u001b[0m \u001b[0;34m=\u001b[0m \u001b[0mpd\u001b[0m\u001b[0;34m.\u001b[0m\u001b[0mto_datetime\u001b[0m\u001b[0;34m(\u001b[0m\u001b[0mtagsDf\u001b[0m\u001b[0;34m.\u001b[0m\u001b[0mDate\u001b[0m\u001b[0;34m)\u001b[0m\u001b[0;34m\u001b[0m\u001b[0;34m\u001b[0m\u001b[0m\n\u001b[1;32m      4\u001b[0m \u001b[0;31m#tagsDf.to_csv(\"csv/tags.csv\")\u001b[0m\u001b[0;34m\u001b[0m\u001b[0;34m\u001b[0m\u001b[0;34m\u001b[0m\u001b[0m\n",
      "\u001b[0;31mNameError\u001b[0m: name 'tmp' is not defined"
     ]
    }
   ],
   "source": [
    "# Create a file with tags pandas df\n",
    "tagsDf = pd.DataFrame(tmp, columns=[\"Tag\", \"Sha\", \"Date\"])\n",
    "tagsDf.Date = pd.to_datetime(tagsDf.Date)\n",
    "#tagsDf.to_csv(\"csv/tags.csv\")"
   ]
  },
  {
   "cell_type": "code",
   "execution_count": null,
   "metadata": {},
   "outputs": [],
   "source": [
    "tags = pd.read_csv(\"csv/tags.csv\")"
   ]
  },
  {
   "cell_type": "code",
   "execution_count": 58,
   "metadata": {},
   "outputs": [
    {
     "data": {
      "text/html": [
       "<div>\n",
       "<style scoped>\n",
       "    .dataframe tbody tr th:only-of-type {\n",
       "        vertical-align: middle;\n",
       "    }\n",
       "\n",
       "    .dataframe tbody tr th {\n",
       "        vertical-align: top;\n",
       "    }\n",
       "\n",
       "    .dataframe thead th {\n",
       "        text-align: right;\n",
       "    }\n",
       "</style>\n",
       "<table border=\"1\" class=\"dataframe\">\n",
       "  <thead>\n",
       "    <tr style=\"text-align: right;\">\n",
       "      <th></th>\n",
       "      <th>Tag</th>\n",
       "      <th>Sha</th>\n",
       "      <th>Date</th>\n",
       "    </tr>\n",
       "  </thead>\n",
       "  <tbody>\n",
       "    <tr>\n",
       "      <th>1</th>\n",
       "      <td>8.4.2.36762</td>\n",
       "      <td>2de1f343e3dbd9e88007b42e475512677c04eb8a</td>\n",
       "      <td>2020-08-27 14:11:31</td>\n",
       "    </tr>\n",
       "    <tr>\n",
       "      <th>2</th>\n",
       "      <td>8.4.1.35646</td>\n",
       "      <td>a0d372f704998d38856c26e28662fd7de062f873</td>\n",
       "      <td>2020-07-14 08:13:18</td>\n",
       "    </tr>\n",
       "    <tr>\n",
       "      <th>3</th>\n",
       "      <td>8.4.0.35506</td>\n",
       "      <td>74b4533439f380827d68e8c01667eeaecad89fc7</td>\n",
       "      <td>2020-07-03 07:09:27</td>\n",
       "    </tr>\n",
       "    <tr>\n",
       "      <th>4</th>\n",
       "      <td>8.3.1.34397</td>\n",
       "      <td>b77ce511a2039330aea8832ad12e86a8cfa9ff7d</td>\n",
       "      <td>2020-05-07 12:09:22</td>\n",
       "    </tr>\n",
       "    <tr>\n",
       "      <th>5</th>\n",
       "      <td>8.3.0.34182</td>\n",
       "      <td>9c58e36328ae79ad3c36c13aa253879351ce3613</td>\n",
       "      <td>2020-04-28 13:54:13</td>\n",
       "    </tr>\n",
       "    <tr>\n",
       "      <th>...</th>\n",
       "      <td>...</td>\n",
       "      <td>...</td>\n",
       "      <td>...</td>\n",
       "    </tr>\n",
       "    <tr>\n",
       "      <th>116</th>\n",
       "      <td>5.1</td>\n",
       "      <td>4aa9af3a6a4362b61db365fba32eb0a55d411e7a</td>\n",
       "      <td>2015-04-02 08:09:45</td>\n",
       "    </tr>\n",
       "    <tr>\n",
       "      <th>117</th>\n",
       "      <td>5.1-RC2</td>\n",
       "      <td>dfc9f94b72103ee941cc11da6529623fa91df509</td>\n",
       "      <td>2015-03-23 15:22:47</td>\n",
       "    </tr>\n",
       "    <tr>\n",
       "      <th>125</th>\n",
       "      <td>4.5.7</td>\n",
       "      <td>e2afb0bff1b8be759789d2c1bc9348de6f519f83</td>\n",
       "      <td>2016-04-08 13:44:39</td>\n",
       "    </tr>\n",
       "    <tr>\n",
       "      <th>126</th>\n",
       "      <td>4.5.6</td>\n",
       "      <td>12d931e5a31e1692a428bbb34ba11cd63aebf998</td>\n",
       "      <td>2015-10-16 09:31:18</td>\n",
       "    </tr>\n",
       "    <tr>\n",
       "      <th>127</th>\n",
       "      <td>4.5.5</td>\n",
       "      <td>cc8a9472c671598fb3158b51b15863448a477a50</td>\n",
       "      <td>2015-07-30 10:02:58</td>\n",
       "    </tr>\n",
       "  </tbody>\n",
       "</table>\n",
       "<p>120 rows × 3 columns</p>\n",
       "</div>"
      ],
      "text/plain": [
       "             Tag                                       Sha                Date\n",
       "1    8.4.2.36762  2de1f343e3dbd9e88007b42e475512677c04eb8a 2020-08-27 14:11:31\n",
       "2    8.4.1.35646  a0d372f704998d38856c26e28662fd7de062f873 2020-07-14 08:13:18\n",
       "3    8.4.0.35506  74b4533439f380827d68e8c01667eeaecad89fc7 2020-07-03 07:09:27\n",
       "4    8.3.1.34397  b77ce511a2039330aea8832ad12e86a8cfa9ff7d 2020-05-07 12:09:22\n",
       "5    8.3.0.34182  9c58e36328ae79ad3c36c13aa253879351ce3613 2020-04-28 13:54:13\n",
       "..           ...                                       ...                 ...\n",
       "116          5.1  4aa9af3a6a4362b61db365fba32eb0a55d411e7a 2015-04-02 08:09:45\n",
       "117      5.1-RC2  dfc9f94b72103ee941cc11da6529623fa91df509 2015-03-23 15:22:47\n",
       "125        4.5.7  e2afb0bff1b8be759789d2c1bc9348de6f519f83 2016-04-08 13:44:39\n",
       "126        4.5.6  12d931e5a31e1692a428bbb34ba11cd63aebf998 2015-10-16 09:31:18\n",
       "127        4.5.5  cc8a9472c671598fb3158b51b15863448a477a50 2015-07-30 10:02:58\n",
       "\n",
       "[120 rows x 3 columns]"
      ]
     },
     "execution_count": 58,
     "metadata": {},
     "output_type": "execute_result"
    }
   ],
   "source": [
    "import datetime\n",
    "tagsDf[tagsDf.Date > pd.to_datetime(datetime.date(2015,3,10))]"
   ]
  },
  {
   "cell_type": "markdown",
   "metadata": {},
   "source": [
    "Get commits differences between two tags\n",
    "https://stackoverflow.com/questions/40293833/how-to-get-all-commits-in-a-git-tag-through-github-api"
   ]
  },
  {
   "cell_type": "code",
   "execution_count": null,
   "metadata": {},
   "outputs": [],
   "source": []
  }
 ],
 "metadata": {
  "kernelspec": {
   "display_name": "Python 3",
   "language": "python",
   "name": "python3"
  },
  "language_info": {
   "codemirror_mode": {
    "name": "ipython",
    "version": 3
   },
   "file_extension": ".py",
   "mimetype": "text/x-python",
   "name": "python",
   "nbconvert_exporter": "python",
   "pygments_lexer": "ipython3",
   "version": "3.8.2"
  }
 },
 "nbformat": 4,
 "nbformat_minor": 4
}
