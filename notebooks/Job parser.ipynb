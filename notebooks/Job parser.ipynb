{
 "cells": [
  {
   "cell_type": "code",
   "execution_count": 63,
   "metadata": {},
   "outputs": [],
   "source": [
    "import pickle\n",
    "import pprint\n",
    "import glob\n",
    "import pandas as pd\n",
    "import seaborn as sns\n",
    "pp = pprint.PrettyPrinter(depth=6)"
   ]
  },
  {
   "cell_type": "code",
   "execution_count": 64,
   "metadata": {},
   "outputs": [],
   "source": [
    "csv_folder = \"../csv\""
   ]
  },
  {
   "cell_type": "code",
   "execution_count": 65,
   "metadata": {},
   "outputs": [],
   "source": [
    "fields = {\n",
    "    'id': None,\n",
    "    \"build\": [\"id\"],\n",
    " 'started_at': None,\n",
    "\"created_at\":None,\n",
    "'finished_at': None,\n",
    " 'number': None,\n",
    " 'state': None,\n",
    " 'updated_at': None,\n",
    "\"commit\": [\"sha\", \"id\", \"message\", \"ref\", \"compare_url\"],}"
   ]
  },
  {
   "cell_type": "code",
   "execution_count": 66,
   "metadata": {},
   "outputs": [],
   "source": [
    "job_files = glob.glob(\"../jobs/*.pkl\")\n",
    "jobs = []\n",
    "for job_file in job_files:\n",
    "    with open(job_file, \"rb\") as f:\n",
    "        jobs = jobs + pickle.load(f)"
   ]
  },
  {
   "cell_type": "code",
   "execution_count": 67,
   "metadata": {},
   "outputs": [
    {
     "data": {
      "text/plain": [
       "136983"
      ]
     },
     "execution_count": 67,
     "metadata": {},
     "output_type": "execute_result"
    }
   ],
   "source": [
    "len(jobs)"
   ]
  },
  {
   "cell_type": "code",
   "execution_count": 68,
   "metadata": {},
   "outputs": [
    {
     "name": "stdout",
     "output_type": "stream",
     "text": [
      "{'@href': '/job/241946101',\n",
      " '@permissions': {'cancel': False,\n",
      "                  'debug': False,\n",
      "                  'delete_log': False,\n",
      "                  'read': True,\n",
      "                  'restart': False},\n",
      " '@representation': 'standard',\n",
      " '@type': 'job',\n",
      " 'allow_failure': False,\n",
      " 'build': {'@href': '/build/241946099',\n",
      "           '@representation': 'minimal',\n",
      "           '@type': 'build',\n",
      "           'duration': 40,\n",
      "           'event_type': 'push',\n",
      "           'finished_at': '2017-06-12T09:21:43Z',\n",
      "           'id': 241946099,\n",
      "           'number': '25614',\n",
      "           'previous_state': 'canceled',\n",
      "           'private': False,\n",
      "           'pull_request_number': None,\n",
      "           'pull_request_title': None,\n",
      "           'started_at': '2017-06-12T09:21:03Z',\n",
      "           'state': 'canceled'},\n",
      " 'commit': {'@representation': 'minimal',\n",
      "            '@type': 'commit',\n",
      "            'committed_at': '2017-06-12T09:13:40Z',\n",
      "            'compare_url': 'https://github.com/SonarSource/sonarqube/compare/faddae08a6af...2e4b539138fd',\n",
      "            'id': 70181895,\n",
      "            'message': 'SONAR-9304 Add test on organization deletion',\n",
      "            'ref': 'refs/heads/feature/atlas/MMF-324/builtin-profiles',\n",
      "            'sha': '2e4b539138fde6f664a865c81fb6ab0763f74bdb'},\n",
      " 'created_at': '2017-06-12T09:13:51.063Z',\n",
      " 'finished_at': '2017-06-12T09:21:43Z',\n",
      " 'id': 241946101,\n",
      " 'number': '25614.1',\n",
      " 'owner': {'@href': '/org/10425',\n",
      "           '@representation': 'minimal',\n",
      "           '@type': 'organization',\n",
      "           'id': 10425,\n",
      "           'login': 'SonarSource',\n",
      "           'vcs_type': 'GithubOrganization'},\n",
      " 'private': False,\n",
      " 'queue': 'builds.gce',\n",
      " 'repository': {'@href': '/repo/234484',\n",
      "                '@representation': 'minimal',\n",
      "                '@type': 'repository',\n",
      "                'id': 234484,\n",
      "                'name': 'sonarqube',\n",
      "                'slug': 'SonarSource/sonarqube'},\n",
      " 'stage': None,\n",
      " 'started_at': '2017-06-12T09:21:03Z',\n",
      " 'state': 'canceled',\n",
      " 'updated_at': '2018-06-02T14:51:19.734Z'}\n"
     ]
    }
   ],
   "source": [
    "pp.pprint(jobs[0])"
   ]
  },
  {
   "cell_type": "code",
   "execution_count": 69,
   "metadata": {},
   "outputs": [],
   "source": [
    "job_tuples = []\n",
    "for job in jobs:\n",
    "    job_values = []\n",
    "    for field, subfields in fields.items():\n",
    "        if not subfields:\n",
    "            job_values.append(job[field])\n",
    "            continue\n",
    "        for subfield in subfields:\n",
    "            job_values.append(job[field][subfield])\n",
    "    job_tuples.append(tuple(job_values))"
   ]
  },
  {
   "cell_type": "code",
   "execution_count": 70,
   "metadata": {},
   "outputs": [
    {
     "data": {
      "text/plain": [
       "136983"
      ]
     },
     "execution_count": 70,
     "metadata": {},
     "output_type": "execute_result"
    }
   ],
   "source": [
    "len(job_tuples)"
   ]
  },
  {
   "cell_type": "code",
   "execution_count": 71,
   "metadata": {},
   "outputs": [],
   "source": [
    "columns = []\n",
    "for field, subfields in fields.items():\n",
    "        if not subfields:\n",
    "            columns.append(field)\n",
    "            continue\n",
    "        for subfield in subfields:\n",
    "            columns.append(f\"{field}{subfield}\")"
   ]
  },
  {
   "cell_type": "code",
   "execution_count": 72,
   "metadata": {},
   "outputs": [
    {
     "data": {
      "text/plain": [
       "['id',\n",
       " 'buildid',\n",
       " 'started_at',\n",
       " 'created_at',\n",
       " 'finished_at',\n",
       " 'number',\n",
       " 'state',\n",
       " 'updated_at',\n",
       " 'commitsha',\n",
       " 'commitid',\n",
       " 'commitmessage',\n",
       " 'commitref',\n",
       " 'commitcompare_url']"
      ]
     },
     "execution_count": 72,
     "metadata": {},
     "output_type": "execute_result"
    }
   ],
   "source": [
    "columns"
   ]
  },
  {
   "cell_type": "code",
   "execution_count": 73,
   "metadata": {
    "scrolled": true
   },
   "outputs": [
    {
     "data": {
      "text/html": [
       "<div>\n",
       "<style scoped>\n",
       "    .dataframe tbody tr th:only-of-type {\n",
       "        vertical-align: middle;\n",
       "    }\n",
       "\n",
       "    .dataframe tbody tr th {\n",
       "        vertical-align: top;\n",
       "    }\n",
       "\n",
       "    .dataframe thead th {\n",
       "        text-align: right;\n",
       "    }\n",
       "</style>\n",
       "<table border=\"1\" class=\"dataframe\">\n",
       "  <thead>\n",
       "    <tr style=\"text-align: right;\">\n",
       "      <th></th>\n",
       "      <th>id</th>\n",
       "      <th>buildid</th>\n",
       "      <th>started_at</th>\n",
       "      <th>created_at</th>\n",
       "      <th>finished_at</th>\n",
       "      <th>number</th>\n",
       "      <th>state</th>\n",
       "      <th>updated_at</th>\n",
       "      <th>commitsha</th>\n",
       "      <th>commitid</th>\n",
       "      <th>commitmessage</th>\n",
       "      <th>commitref</th>\n",
       "      <th>commitcompare_url</th>\n",
       "    </tr>\n",
       "  </thead>\n",
       "  <tbody>\n",
       "    <tr>\n",
       "      <th>0</th>\n",
       "      <td>241946101</td>\n",
       "      <td>241946099</td>\n",
       "      <td>2017-06-12T09:21:03Z</td>\n",
       "      <td>2017-06-12T09:13:51.063Z</td>\n",
       "      <td>2017-06-12T09:21:43Z</td>\n",
       "      <td>25614.1</td>\n",
       "      <td>canceled</td>\n",
       "      <td>2018-06-02T14:51:19.734Z</td>\n",
       "      <td>2e4b539138fde6f664a865c81fb6ab0763f74bdb</td>\n",
       "      <td>70181895</td>\n",
       "      <td>SONAR-9304 Add test on organization deletion</td>\n",
       "      <td>refs/heads/feature/atlas/MMF-324/builtin-profiles</td>\n",
       "      <td>https://github.com/SonarSource/sonarqube/compa...</td>\n",
       "    </tr>\n",
       "    <tr>\n",
       "      <th>1</th>\n",
       "      <td>241946103</td>\n",
       "      <td>241946099</td>\n",
       "      <td>2017-06-12T09:22:43Z</td>\n",
       "      <td>2017-06-12T09:13:51.107Z</td>\n",
       "      <td>2017-06-12T09:21:43Z</td>\n",
       "      <td>25614.2</td>\n",
       "      <td>canceled</td>\n",
       "      <td>2018-06-02T14:51:19.764Z</td>\n",
       "      <td>2e4b539138fde6f664a865c81fb6ab0763f74bdb</td>\n",
       "      <td>70181895</td>\n",
       "      <td>SONAR-9304 Add test on organization deletion</td>\n",
       "      <td>refs/heads/feature/atlas/MMF-324/builtin-profiles</td>\n",
       "      <td>https://github.com/SonarSource/sonarqube/compa...</td>\n",
       "    </tr>\n",
       "    <tr>\n",
       "      <th>2</th>\n",
       "      <td>241952024</td>\n",
       "      <td>241952022</td>\n",
       "      <td>2017-06-12T09:36:43Z</td>\n",
       "      <td>2017-06-12T09:32:52.227Z</td>\n",
       "      <td>2017-06-12T09:37:23Z</td>\n",
       "      <td>25615.1</td>\n",
       "      <td>canceled</td>\n",
       "      <td>2018-06-02T14:51:25.661Z</td>\n",
       "      <td>464f5da96733c14818f4b4bfeb878951b859ee0c</td>\n",
       "      <td>70183628</td>\n",
       "      <td>SONAR-9304 Add comments to make tests clearer</td>\n",
       "      <td>refs/heads/feature/atlas/MMF-324/builtin-profiles</td>\n",
       "      <td>https://github.com/SonarSource/sonarqube/compa...</td>\n",
       "    </tr>\n",
       "    <tr>\n",
       "      <th>3</th>\n",
       "      <td>241952025</td>\n",
       "      <td>241952022</td>\n",
       "      <td>None</td>\n",
       "      <td>2017-06-12T09:32:52.237Z</td>\n",
       "      <td>2017-06-12T09:37:24Z</td>\n",
       "      <td>25615.2</td>\n",
       "      <td>canceled</td>\n",
       "      <td>2018-06-02T14:51:25.669Z</td>\n",
       "      <td>464f5da96733c14818f4b4bfeb878951b859ee0c</td>\n",
       "      <td>70183628</td>\n",
       "      <td>SONAR-9304 Add comments to make tests clearer</td>\n",
       "      <td>refs/heads/feature/atlas/MMF-324/builtin-profiles</td>\n",
       "      <td>https://github.com/SonarSource/sonarqube/compa...</td>\n",
       "    </tr>\n",
       "    <tr>\n",
       "      <th>4</th>\n",
       "      <td>241952045</td>\n",
       "      <td>241952044</td>\n",
       "      <td>2017-06-12T09:42:16Z</td>\n",
       "      <td>2017-06-12T09:32:59.994Z</td>\n",
       "      <td>2017-06-12T09:53:48Z</td>\n",
       "      <td>25616.1</td>\n",
       "      <td>passed</td>\n",
       "      <td>2018-06-02T14:51:26.125Z</td>\n",
       "      <td>7358e9a93e47ac9fcaebe960c00ab8bd28e9890e</td>\n",
       "      <td>70183633</td>\n",
       "      <td>SONAR-9304 Add comments to make tests clearer</td>\n",
       "      <td>refs/pull/2104/merge</td>\n",
       "      <td>https://github.com/SonarSource/sonarqube/pull/...</td>\n",
       "    </tr>\n",
       "    <tr>\n",
       "      <th>...</th>\n",
       "      <td>...</td>\n",
       "      <td>...</td>\n",
       "      <td>...</td>\n",
       "      <td>...</td>\n",
       "      <td>...</td>\n",
       "      <td>...</td>\n",
       "      <td>...</td>\n",
       "      <td>...</td>\n",
       "      <td>...</td>\n",
       "      <td>...</td>\n",
       "      <td>...</td>\n",
       "      <td>...</td>\n",
       "      <td>...</td>\n",
       "    </tr>\n",
       "    <tr>\n",
       "      <th>136978</th>\n",
       "      <td>315411337</td>\n",
       "      <td>315411335</td>\n",
       "      <td>2017-12-12T15:23:15Z</td>\n",
       "      <td>2017-12-12T15:22:41.091Z</td>\n",
       "      <td>2017-12-12T15:26:39Z</td>\n",
       "      <td>34811.2</td>\n",
       "      <td>passed</td>\n",
       "      <td>2018-06-03T16:57:36.971Z</td>\n",
       "      <td>abd0650045b3fcc95ac8459a6fc2450a1bd889c0</td>\n",
       "      <td>93642638</td>\n",
       "      <td>SONAR-10134 Fix ITs on quality gates by settin...</td>\n",
       "      <td>refs/pull/2866/merge</td>\n",
       "      <td>https://github.com/SonarSource/sonarqube/pull/...</td>\n",
       "    </tr>\n",
       "    <tr>\n",
       "      <th>136979</th>\n",
       "      <td>315421139</td>\n",
       "      <td>315421138</td>\n",
       "      <td>2017-12-12T15:43:05Z</td>\n",
       "      <td>2017-12-12T15:42:34.642Z</td>\n",
       "      <td>2017-12-12T15:44:59Z</td>\n",
       "      <td>34812.1</td>\n",
       "      <td>passed</td>\n",
       "      <td>2018-06-03T16:57:47.762Z</td>\n",
       "      <td>04d5e19040df59e2a4a1025514c9b8b7c42378f8</td>\n",
       "      <td>93645831</td>\n",
       "      <td>SONAR-10187 Provide more options to populate e...</td>\n",
       "      <td>refs/heads/feature/stas/MMF-1128</td>\n",
       "      <td>https://github.com/SonarSource/sonarqube/compa...</td>\n",
       "    </tr>\n",
       "    <tr>\n",
       "      <th>136980</th>\n",
       "      <td>315421140</td>\n",
       "      <td>315421138</td>\n",
       "      <td>2017-12-12T15:43:26Z</td>\n",
       "      <td>2017-12-12T15:42:34.682Z</td>\n",
       "      <td>2017-12-12T15:44:25Z</td>\n",
       "      <td>34812.2</td>\n",
       "      <td>passed</td>\n",
       "      <td>2018-06-03T16:57:47.778Z</td>\n",
       "      <td>04d5e19040df59e2a4a1025514c9b8b7c42378f8</td>\n",
       "      <td>93645831</td>\n",
       "      <td>SONAR-10187 Provide more options to populate e...</td>\n",
       "      <td>refs/heads/feature/stas/MMF-1128</td>\n",
       "      <td>https://github.com/SonarSource/sonarqube/compa...</td>\n",
       "    </tr>\n",
       "    <tr>\n",
       "      <th>136981</th>\n",
       "      <td>315421147</td>\n",
       "      <td>315421146</td>\n",
       "      <td>2017-12-12T15:43:25Z</td>\n",
       "      <td>2017-12-12T15:42:40.583Z</td>\n",
       "      <td>2017-12-12T16:01:05Z</td>\n",
       "      <td>34813.1</td>\n",
       "      <td>passed</td>\n",
       "      <td>2018-06-03T16:57:47.837Z</td>\n",
       "      <td>a5005e0ca38a67e7d70c255154990ed10be31020</td>\n",
       "      <td>93645838</td>\n",
       "      <td>SONAR-10187 Provide more options to populate e...</td>\n",
       "      <td>refs/pull/2895/merge</td>\n",
       "      <td>https://github.com/SonarSource/sonarqube/pull/...</td>\n",
       "    </tr>\n",
       "    <tr>\n",
       "      <th>136982</th>\n",
       "      <td>315421148</td>\n",
       "      <td>315421146</td>\n",
       "      <td>2017-12-12T15:43:23Z</td>\n",
       "      <td>2017-12-12T15:42:40.646Z</td>\n",
       "      <td>2017-12-12T15:46:39Z</td>\n",
       "      <td>34813.2</td>\n",
       "      <td>passed</td>\n",
       "      <td>2018-06-03T16:57:47.977Z</td>\n",
       "      <td>a5005e0ca38a67e7d70c255154990ed10be31020</td>\n",
       "      <td>93645838</td>\n",
       "      <td>SONAR-10187 Provide more options to populate e...</td>\n",
       "      <td>refs/pull/2895/merge</td>\n",
       "      <td>https://github.com/SonarSource/sonarqube/pull/...</td>\n",
       "    </tr>\n",
       "  </tbody>\n",
       "</table>\n",
       "<p>136983 rows × 13 columns</p>\n",
       "</div>"
      ],
      "text/plain": [
       "               id    buildid            started_at                created_at  \\\n",
       "0       241946101  241946099  2017-06-12T09:21:03Z  2017-06-12T09:13:51.063Z   \n",
       "1       241946103  241946099  2017-06-12T09:22:43Z  2017-06-12T09:13:51.107Z   \n",
       "2       241952024  241952022  2017-06-12T09:36:43Z  2017-06-12T09:32:52.227Z   \n",
       "3       241952025  241952022                  None  2017-06-12T09:32:52.237Z   \n",
       "4       241952045  241952044  2017-06-12T09:42:16Z  2017-06-12T09:32:59.994Z   \n",
       "...           ...        ...                   ...                       ...   \n",
       "136978  315411337  315411335  2017-12-12T15:23:15Z  2017-12-12T15:22:41.091Z   \n",
       "136979  315421139  315421138  2017-12-12T15:43:05Z  2017-12-12T15:42:34.642Z   \n",
       "136980  315421140  315421138  2017-12-12T15:43:26Z  2017-12-12T15:42:34.682Z   \n",
       "136981  315421147  315421146  2017-12-12T15:43:25Z  2017-12-12T15:42:40.583Z   \n",
       "136982  315421148  315421146  2017-12-12T15:43:23Z  2017-12-12T15:42:40.646Z   \n",
       "\n",
       "                 finished_at   number     state                updated_at  \\\n",
       "0       2017-06-12T09:21:43Z  25614.1  canceled  2018-06-02T14:51:19.734Z   \n",
       "1       2017-06-12T09:21:43Z  25614.2  canceled  2018-06-02T14:51:19.764Z   \n",
       "2       2017-06-12T09:37:23Z  25615.1  canceled  2018-06-02T14:51:25.661Z   \n",
       "3       2017-06-12T09:37:24Z  25615.2  canceled  2018-06-02T14:51:25.669Z   \n",
       "4       2017-06-12T09:53:48Z  25616.1    passed  2018-06-02T14:51:26.125Z   \n",
       "...                      ...      ...       ...                       ...   \n",
       "136978  2017-12-12T15:26:39Z  34811.2    passed  2018-06-03T16:57:36.971Z   \n",
       "136979  2017-12-12T15:44:59Z  34812.1    passed  2018-06-03T16:57:47.762Z   \n",
       "136980  2017-12-12T15:44:25Z  34812.2    passed  2018-06-03T16:57:47.778Z   \n",
       "136981  2017-12-12T16:01:05Z  34813.1    passed  2018-06-03T16:57:47.837Z   \n",
       "136982  2017-12-12T15:46:39Z  34813.2    passed  2018-06-03T16:57:47.977Z   \n",
       "\n",
       "                                       commitsha  commitid  \\\n",
       "0       2e4b539138fde6f664a865c81fb6ab0763f74bdb  70181895   \n",
       "1       2e4b539138fde6f664a865c81fb6ab0763f74bdb  70181895   \n",
       "2       464f5da96733c14818f4b4bfeb878951b859ee0c  70183628   \n",
       "3       464f5da96733c14818f4b4bfeb878951b859ee0c  70183628   \n",
       "4       7358e9a93e47ac9fcaebe960c00ab8bd28e9890e  70183633   \n",
       "...                                          ...       ...   \n",
       "136978  abd0650045b3fcc95ac8459a6fc2450a1bd889c0  93642638   \n",
       "136979  04d5e19040df59e2a4a1025514c9b8b7c42378f8  93645831   \n",
       "136980  04d5e19040df59e2a4a1025514c9b8b7c42378f8  93645831   \n",
       "136981  a5005e0ca38a67e7d70c255154990ed10be31020  93645838   \n",
       "136982  a5005e0ca38a67e7d70c255154990ed10be31020  93645838   \n",
       "\n",
       "                                            commitmessage  \\\n",
       "0            SONAR-9304 Add test on organization deletion   \n",
       "1            SONAR-9304 Add test on organization deletion   \n",
       "2           SONAR-9304 Add comments to make tests clearer   \n",
       "3           SONAR-9304 Add comments to make tests clearer   \n",
       "4           SONAR-9304 Add comments to make tests clearer   \n",
       "...                                                   ...   \n",
       "136978  SONAR-10134 Fix ITs on quality gates by settin...   \n",
       "136979  SONAR-10187 Provide more options to populate e...   \n",
       "136980  SONAR-10187 Provide more options to populate e...   \n",
       "136981  SONAR-10187 Provide more options to populate e...   \n",
       "136982  SONAR-10187 Provide more options to populate e...   \n",
       "\n",
       "                                                commitref  \\\n",
       "0       refs/heads/feature/atlas/MMF-324/builtin-profiles   \n",
       "1       refs/heads/feature/atlas/MMF-324/builtin-profiles   \n",
       "2       refs/heads/feature/atlas/MMF-324/builtin-profiles   \n",
       "3       refs/heads/feature/atlas/MMF-324/builtin-profiles   \n",
       "4                                    refs/pull/2104/merge   \n",
       "...                                                   ...   \n",
       "136978                               refs/pull/2866/merge   \n",
       "136979                   refs/heads/feature/stas/MMF-1128   \n",
       "136980                   refs/heads/feature/stas/MMF-1128   \n",
       "136981                               refs/pull/2895/merge   \n",
       "136982                               refs/pull/2895/merge   \n",
       "\n",
       "                                        commitcompare_url  \n",
       "0       https://github.com/SonarSource/sonarqube/compa...  \n",
       "1       https://github.com/SonarSource/sonarqube/compa...  \n",
       "2       https://github.com/SonarSource/sonarqube/compa...  \n",
       "3       https://github.com/SonarSource/sonarqube/compa...  \n",
       "4       https://github.com/SonarSource/sonarqube/pull/...  \n",
       "...                                                   ...  \n",
       "136978  https://github.com/SonarSource/sonarqube/pull/...  \n",
       "136979  https://github.com/SonarSource/sonarqube/compa...  \n",
       "136980  https://github.com/SonarSource/sonarqube/compa...  \n",
       "136981  https://github.com/SonarSource/sonarqube/pull/...  \n",
       "136982  https://github.com/SonarSource/sonarqube/pull/...  \n",
       "\n",
       "[136983 rows x 13 columns]"
      ]
     },
     "execution_count": 73,
     "metadata": {},
     "output_type": "execute_result"
    }
   ],
   "source": [
    "jobsDf = pd.DataFrame(job_tuples, columns = columns)\n",
    "jobsDf.to_csv(f\"{csv_folder}/allJobs.csv\")\n",
    "jobsDf"
   ]
  },
  {
   "cell_type": "markdown",
   "metadata": {},
   "source": [
    "**Jobs with no commits**"
   ]
  },
  {
   "cell_type": "code",
   "execution_count": 74,
   "metadata": {},
   "outputs": [
    {
     "data": {
      "text/plain": [
       "0"
      ]
     },
     "execution_count": 74,
     "metadata": {},
     "output_type": "execute_result"
    }
   ],
   "source": [
    "jobsDf[\"commitsha\"].isna().sum()"
   ]
  },
  {
   "cell_type": "code",
   "execution_count": 75,
   "metadata": {},
   "outputs": [],
   "source": [
    "job_id_build_id = pd.read_csv(\"../csv/job_id_build_id.csv\", index_col=0)"
   ]
  },
  {
   "cell_type": "code",
   "execution_count": 76,
   "metadata": {},
   "outputs": [
    {
     "data": {
      "text/html": [
       "<div>\n",
       "<style scoped>\n",
       "    .dataframe tbody tr th:only-of-type {\n",
       "        vertical-align: middle;\n",
       "    }\n",
       "\n",
       "    .dataframe tbody tr th {\n",
       "        vertical-align: top;\n",
       "    }\n",
       "\n",
       "    .dataframe thead th {\n",
       "        text-align: right;\n",
       "    }\n",
       "</style>\n",
       "<table border=\"1\" class=\"dataframe\">\n",
       "  <thead>\n",
       "    <tr style=\"text-align: right;\">\n",
       "      <th></th>\n",
       "      <th>build_id</th>\n",
       "      <th>build_number</th>\n",
       "      <th>job_id</th>\n",
       "    </tr>\n",
       "  </thead>\n",
       "  <tbody>\n",
       "    <tr>\n",
       "      <th>0</th>\n",
       "      <td>99118995</td>\n",
       "      <td>6995</td>\n",
       "      <td>99118996</td>\n",
       "    </tr>\n",
       "    <tr>\n",
       "      <th>1</th>\n",
       "      <td>99118995</td>\n",
       "      <td>6995</td>\n",
       "      <td>99118997</td>\n",
       "    </tr>\n",
       "    <tr>\n",
       "      <th>2</th>\n",
       "      <td>99118995</td>\n",
       "      <td>6995</td>\n",
       "      <td>99118998</td>\n",
       "    </tr>\n",
       "    <tr>\n",
       "      <th>3</th>\n",
       "      <td>99118995</td>\n",
       "      <td>6995</td>\n",
       "      <td>99118999</td>\n",
       "    </tr>\n",
       "    <tr>\n",
       "      <th>4</th>\n",
       "      <td>99118995</td>\n",
       "      <td>6995</td>\n",
       "      <td>99119000</td>\n",
       "    </tr>\n",
       "    <tr>\n",
       "      <th>...</th>\n",
       "      <td>...</td>\n",
       "      <td>...</td>\n",
       "      <td>...</td>\n",
       "    </tr>\n",
       "    <tr>\n",
       "      <th>136978</th>\n",
       "      <td>148005355</td>\n",
       "      <td>12164</td>\n",
       "      <td>148005357</td>\n",
       "    </tr>\n",
       "    <tr>\n",
       "      <th>136979</th>\n",
       "      <td>148010751</td>\n",
       "      <td>12165</td>\n",
       "      <td>148010752</td>\n",
       "    </tr>\n",
       "    <tr>\n",
       "      <th>136980</th>\n",
       "      <td>148010751</td>\n",
       "      <td>12165</td>\n",
       "      <td>148010753</td>\n",
       "    </tr>\n",
       "    <tr>\n",
       "      <th>136981</th>\n",
       "      <td>148010754</td>\n",
       "      <td>12166</td>\n",
       "      <td>148010755</td>\n",
       "    </tr>\n",
       "    <tr>\n",
       "      <th>136982</th>\n",
       "      <td>148010754</td>\n",
       "      <td>12166</td>\n",
       "      <td>148010756</td>\n",
       "    </tr>\n",
       "  </tbody>\n",
       "</table>\n",
       "<p>136983 rows × 3 columns</p>\n",
       "</div>"
      ],
      "text/plain": [
       "         build_id  build_number     job_id\n",
       "0        99118995          6995   99118996\n",
       "1        99118995          6995   99118997\n",
       "2        99118995          6995   99118998\n",
       "3        99118995          6995   99118999\n",
       "4        99118995          6995   99119000\n",
       "...           ...           ...        ...\n",
       "136978  148005355         12164  148005357\n",
       "136979  148010751         12165  148010752\n",
       "136980  148010751         12165  148010753\n",
       "136981  148010754         12166  148010755\n",
       "136982  148010754         12166  148010756\n",
       "\n",
       "[136983 rows x 3 columns]"
      ]
     },
     "execution_count": 76,
     "metadata": {},
     "output_type": "execute_result"
    }
   ],
   "source": [
    "job_id_build_id"
   ]
  },
  {
   "cell_type": "code",
   "execution_count": 77,
   "metadata": {},
   "outputs": [
    {
     "data": {
      "text/plain": [
       "136983"
      ]
     },
     "execution_count": 77,
     "metadata": {},
     "output_type": "execute_result"
    }
   ],
   "source": [
    "len(job_id_build_id.job_id.unique())"
   ]
  },
  {
   "cell_type": "code",
   "execution_count": 78,
   "metadata": {},
   "outputs": [],
   "source": [
    "x = job_id_build_id[~job_id_build_id.job_id.isin(jobsDf.id.unique())]"
   ]
  },
  {
   "cell_type": "code",
   "execution_count": 85,
   "metadata": {},
   "outputs": [],
   "source": [
    "sha = ['5b439c4050cab4a483ec83d2e7618a2e9c31e51b', '4631e667d0e94795420c5bb05750e20675dfb9c5', '601bf5ff1c54b03104170d279ad5af54452bdfa3', '1a18ab678042941f503052edaa9acf80462dca0a', 'b1475f61a88b92e53a3b92e0de29d2b868da167f', '7a1c8d3b84437d505aae669713212becd2cd8f74', 'dd81a2a59f9c843e525e9e31b991e2b83e519786', 'b0799dce5768a2f5512ce830878ac8ed78b7836e', '0f9c3c763570e72dcfde36bb301c80893a5db835', 'e33b71a9e95e0178f1b91b9eb06d2581e9d5dbba', '13e53de4d1f2860b2a7d06bf4d3332ec3c3d0ffe', '58417a6d200500acc05365b50910ec650c7c4399', '4fdec49cf5f1b25312220b70e423aae376a5d157', '3e82dd9e480d7ae1e1814e4e1fb77c1db639ed10', '9a483d41f6a9a675ac95941dbcbeeb78ece5a707', '7b0d951d4f5ab1361cc2799d24ba29bf69155417', 'e692faa1b1ec639605be4e767b93d66197363d0c', '6ac532315f6d5e1f758e8a6e3421964e6aa2acdf', '272d2f1fe54198a93595aee39309f7957f438cd3', '2bc2485d15b7f6926e31e704e4ddebf3326187cb', '91444c09ed804cc6fb00f0077b191490e5eff655']"
   ]
  },
  {
   "cell_type": "code",
   "execution_count": 91,
   "metadata": {},
   "outputs": [
    {
     "data": {
      "text/plain": [
       "'https://github.com/SonarSource/sonarqube/compare/e96686ffd551...1644704e694e'"
      ]
     },
     "execution_count": 91,
     "metadata": {},
     "output_type": "execute_result"
    }
   ],
   "source": [
    "jobsDf[jobsDf.commitmessage == \"use try-with-ressource to write log4j ES properties\"].commitcompare_url[86679]"
   ]
  },
  {
   "cell_type": "markdown",
   "metadata": {},
   "source": [
    "These are the same commit, one on master and one on the branch. They have different shas, and this is a problem when I call compare with the api and use the sha to fidn the related job"
   ]
  },
  {
   "cell_type": "markdown",
   "metadata": {},
   "source": [
    "https://github.com/SonarSource/sonarqube/commit/ed1a72601c559e86ccd96004c99157421b6bcb20"
   ]
  },
  {
   "cell_type": "markdown",
   "metadata": {},
   "source": [
    "https://github.com/SonarSource/sonarqube/commit/1644704e694e384915bfc169fe330afb8d07edca"
   ]
  }
 ],
 "metadata": {
  "kernelspec": {
   "display_name": "Python 3",
   "language": "python",
   "name": "python3"
  },
  "language_info": {
   "codemirror_mode": {
    "name": "ipython",
    "version": 3
   },
   "file_extension": ".py",
   "mimetype": "text/x-python",
   "name": "python",
   "nbconvert_exporter": "python",
   "pygments_lexer": "ipython3",
   "version": "3.8.2"
  }
 },
 "nbformat": 4,
 "nbformat_minor": 4
}
