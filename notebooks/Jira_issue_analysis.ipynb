{
 "cells": [
  {
   "cell_type": "code",
   "execution_count": 2,
   "metadata": {},
   "outputs": [],
   "source": [
    "import pandas as pd\n",
    "import pickle\n",
    "import json\n",
    "import seaborn as sns\n",
    "import pprint\n",
    "pp = pprint.PrettyPrinter(depth=6)\n",
    "from jira import JIRA\n",
    "import matplotlib\n",
    "import matplotlib.pyplot as plt\n",
    "matplotlib.rcParams['figure.figsize'] = (15.0, 5.0)\n",
    "pd.set_option('display.max_columns', 120)"
   ]
  },
  {
   "cell_type": "code",
   "execution_count": 3,
   "metadata": {},
   "outputs": [],
   "source": [
    "jira = JIRA('https://jira.sonarsource.com/')"
   ]
  },
  {
   "cell_type": "code",
   "execution_count": 4,
   "metadata": {},
   "outputs": [],
   "source": [
    "pkl_folder = \"../pkl\"\n",
    "csv_folder = \"../csv\""
   ]
  },
  {
   "cell_type": "code",
   "execution_count": 94,
   "metadata": {},
   "outputs": [],
   "source": [
    "issue_fields = ['issuetype',\n",
    " 'customfield_12130',\n",
    " 'customfield_11041',\n",
    " 'customfield_12132',\n",
    " 'customfield_12131',\n",
    " 'project',\n",
    " 'customfield_12134',\n",
    " 'customfield_12530',\n",
    " 'fixVersions',\n",
    " 'customfield_12133',\n",
    " 'customfield_12136',\n",
    " 'customfield_12532',\n",
    " 'resolution',\n",
    " 'customfield_10431',\n",
    " 'customfield_12135',\n",
    " 'customfield_12531',\n",
    " 'customfield_12138',\n",
    " 'customfield_10432',\n",
    " 'customfield_12534',\n",
    " 'customfield_12137',\n",
    " 'customfield_10433',\n",
    " 'customfield_12533',\n",
    " 'customfield_11832',\n",
    " 'customfield_11831',\n",
    " 'customfield_11833',\n",
    " 'resolutiondate',\n",
    " 'workratio',\n",
    " 'lastViewed',\n",
    " 'watches',\n",
    " 'created',\n",
    " 'customfield_11032',\n",
    " 'customfield_11033',\n",
    " 'priority',\n",
    " 'customfield_11630',\n",
    " 'customfield_11233',\n",
    " 'customfield_11036',\n",
    " 'customfield_11830',\n",
    " 'labels',\n",
    " 'customfield_11631',\n",
    " 'customfield_11038',\n",
    " 'customfield_10930',\n",
    " 'customfield_11347',\n",
    " 'customfield_10931',\n",
    " 'customfield_10932',\n",
    " 'versions',\n",
    " 'issuelinks',\n",
    " 'assignee',\n",
    " 'updated',\n",
    " 'status',\n",
    " 'components',\n",
    " 'customfield_12031',\n",
    " 'customfield_11140',\n",
    " 'customfield_12030',\n",
    " 'customfield_12033',\n",
    " 'customfield_11141',\n",
    " 'description',\n",
    " 'customfield_12032',\n",
    " 'customfield_12034',\n",
    " 'customfield_12430',\n",
    " 'customfield_11344',\n",
    " 'customfield_11343',\n",
    " 'customfield_10530',\n",
    " 'customfield_11345',\n",
    " 'customfield_10730',\n",
    " 'customfield_11337',\n",
    " 'customfield_11930',\n",
    " 'customfield_11139',\n",
    " 'customfield_11338',\n",
    " 'summary',\n",
    " 'creator',\n",
    " 'subtasks',\n",
    " 'customfield_11130',\n",
    " 'customfield_11131',\n",
    " 'reporter',\n",
    " 'customfield_11132',\n",
    " 'customfield_11133',\n",
    " 'customfield_10243',\n",
    " 'customfield_11335',\n",
    " 'customfield_11334',\n",
    " 'customfield_11730',\n",
    " 'customfield_10434',\n",
    " 'customfield_12536',\n",
    " 'customfield_12535',\n",
    " 'customfield_12139',\n",
    " 'environment',\n",
    " 'customfield_12538',\n",
    " 'customfield_10437',\n",
    " 'customfield_12537',\n",
    " 'customfield_10438',\n",
    " 'duedate',\n",
    " 'votes',\n",
    " #'__module__',\n",
    " #'__dict__',\n",
    " #'__weakref__',\n",
    " #'__doc__'\n",
    "       ]"
   ]
  },
  {
   "cell_type": "markdown",
   "metadata": {},
   "source": [
    "| Field          | Description                                                     | Type of variable |\n",
    "|----------------|-----------------------------------------------------------------|------------------|\n",
    "| fixVersions    | Search for issues that are assigned to a particular fix version | list of versions |\n",
    "| issuetype      | Type of issue                                                   | Categorical      |\n",
    "| project        | The project the issue belongs to                                | String           |\n",
    "| resolution     | The resolution of the issue                                     | Categorical      |\n",
    "| resolutiondate | The date the issue was resolved                                 | Date             |\n",
    "| workratio      | calculated as workRatio = (timeSpent / originalEstimate) x 100  | Number           |\n",
    "| lastViewed     | The date at which the issue was last viewed                     | Date             |\n",
    "| watches        | Users watching the issue                                        | ?                |\n",
    "| created        | The date of the creation of the issue                           | Date             |\n",
    "| priority       | Priority assigned to the issue                                  | Categorical      |\n",
    "| labels         | Labels assigned to the issue                                    | Strings          |\n",
    "| versions       | The versions affected by the issue                              | List             |\n",
    "| assignee       | The user the issue is assigned to                               | User             |\n",
    "| status         | The status of the issue                                         | Categorical      |\n",
    "| description    | The description of the issue                                    | String           |\n",
    "| summary        | A summary of the issue reported                                 | String           |\n",
    "| creator        | The user that created the issue                                 | User             |\n",
    "| subtasks       | The subtasks of the issue                                       | List of issues   |\n",
    "| reporter       | The user who reported the issue. May be the same as the creator | User             |\n",
    "| duedate        | The date the issue is due to be resolved                        | Date             |"
   ]
  },
  {
   "cell_type": "markdown",
   "metadata": {},
   "source": [
    "Issues are retrieved and proccesed here given that pickle cannot serialize issues.\n",
    "Therefore they need to be processed into a dataframe to be saved as csv"
   ]
  },
  {
   "cell_type": "code",
   "execution_count": 6,
   "metadata": {},
   "outputs": [
    {
     "name": "stdout",
     "output_type": "stream",
     "text": [
      "Issues downloaded: 1000\n",
      "Issues downloaded: 2000\n",
      "Issues downloaded: 3000\n",
      "Issues downloaded: 4000\n",
      "Issues downloaded: 5000\n",
      "Issues downloaded: 6000\n",
      "Issues downloaded: 7000\n",
      "Issues downloaded: 8000\n",
      "Issues downloaded: 9000\n",
      "Issues downloaded: 10000\n",
      "Issues downloaded: 11000\n"
     ]
    }
   ],
   "source": [
    "#download all issues\n",
    "size = 100\n",
    "initial = 0\n",
    "issue_tuples = []\n",
    "all_issues = []\n",
    "while True:\n",
    "    start= initial*size\n",
    "    issues = jira.search_issues('project=SONAR',  start, size)\n",
    "    all_issues = all_issues + issues\n",
    "    if len(issues) == 0:\n",
    "        break\n",
    "    initial += 1\n",
    "    if(initial % 10 == 0):\n",
    "        print(f\"Issues downloaded: {len(all_issues)}\")"
   ]
  },
  {
   "cell_type": "code",
   "execution_count": 7,
   "metadata": {},
   "outputs": [
    {
     "ename": "NameError",
     "evalue": "name 'issue_fields' is not defined",
     "output_type": "error",
     "traceback": [
      "\u001b[0;31m---------------------------------------------------------------------------\u001b[0m",
      "\u001b[0;31mNameError\u001b[0m                                 Traceback (most recent call last)",
      "\u001b[0;32m<ipython-input-7-d4c99d7e8ae9>\u001b[0m in \u001b[0;36m<module>\u001b[0;34m\u001b[0m\n\u001b[1;32m      4\u001b[0m     \u001b[0mvalues\u001b[0m\u001b[0;34m.\u001b[0m\u001b[0mappend\u001b[0m\u001b[0;34m(\u001b[0m\u001b[0missue\u001b[0m\u001b[0;34m.\u001b[0m\u001b[0mkey\u001b[0m\u001b[0;34m)\u001b[0m\u001b[0;34m\u001b[0m\u001b[0;34m\u001b[0m\u001b[0m\n\u001b[1;32m      5\u001b[0m     \u001b[0mvalues\u001b[0m\u001b[0;34m.\u001b[0m\u001b[0mappend\u001b[0m\u001b[0;34m(\u001b[0m\u001b[0missue\u001b[0m\u001b[0;34m.\u001b[0m\u001b[0mid\u001b[0m\u001b[0;34m)\u001b[0m\u001b[0;34m\u001b[0m\u001b[0;34m\u001b[0m\u001b[0m\n\u001b[0;32m----> 6\u001b[0;31m     \u001b[0;32mfor\u001b[0m \u001b[0mfield\u001b[0m \u001b[0;32min\u001b[0m \u001b[0missue_fields\u001b[0m\u001b[0;34m:\u001b[0m\u001b[0;34m\u001b[0m\u001b[0;34m\u001b[0m\u001b[0m\n\u001b[0m\u001b[1;32m      7\u001b[0m         \u001b[0mvalues\u001b[0m\u001b[0;34m.\u001b[0m\u001b[0mappend\u001b[0m\u001b[0;34m(\u001b[0m\u001b[0mgetattr\u001b[0m\u001b[0;34m(\u001b[0m\u001b[0missue\u001b[0m\u001b[0;34m.\u001b[0m\u001b[0mfields\u001b[0m\u001b[0;34m,\u001b[0m \u001b[0mfield\u001b[0m\u001b[0;34m)\u001b[0m\u001b[0;34m)\u001b[0m\u001b[0;34m\u001b[0m\u001b[0;34m\u001b[0m\u001b[0m\n\u001b[1;32m      8\u001b[0m     \u001b[0missue_tuples\u001b[0m\u001b[0;34m.\u001b[0m\u001b[0mappend\u001b[0m\u001b[0;34m(\u001b[0m\u001b[0mvalues\u001b[0m\u001b[0;34m)\u001b[0m\u001b[0;34m\u001b[0m\u001b[0;34m\u001b[0m\u001b[0m\n",
      "\u001b[0;31mNameError\u001b[0m: name 'issue_fields' is not defined"
     ]
    }
   ],
   "source": [
    "#create tuples for dataframe creation\n",
    "for issue in all_issues:\n",
    "    values = []\n",
    "    values.append(issue.key)\n",
    "    values.append(issue.id)\n",
    "    for field in issue_fields:\n",
    "        values.append(getattr(issue.fields, field))\n",
    "    issue_tuples.append(values)"
   ]
  },
  {
   "cell_type": "code",
   "execution_count": null,
   "metadata": {},
   "outputs": [],
   "source": [
    "issues_df = pd.DataFrame(issue_tuples, columns=([\"issue_key\", \"issue_id\"] + issue_fields))\n",
    "issues_df"
   ]
  },
  {
   "cell_type": "code",
   "execution_count": null,
   "metadata": {
    "scrolled": true
   },
   "outputs": [],
   "source": [
    "def extract_features(df, field, fields_to_extract):\n",
    "    for fte in fields_to_extract:\n",
    "        df[f\"{field}_{fte}\"] = issues_df[field].apply(lambda x: getattr(x,fte) if x else None)\n",
    "    return df"
   ]
  },
  {
   "cell_type": "markdown",
   "metadata": {},
   "source": [
    "#### Extract features"
   ]
  },
  {
   "cell_type": "code",
   "execution_count": null,
   "metadata": {},
   "outputs": [],
   "source": [
    "extract_features(issues_df, \"issuetype\", [\"id\", \"name\"])\n",
    "extract_features(issues_df, \"priority\", [\"id\", \"name\"])\n",
    "extract_features(issues_df, \"assignee\", [\"key\", \"name\"])\n",
    "extract_features(issues_df, \"reporter\", [\"key\", \"name\"])\n",
    "extract_features(issues_df, \"creator\", [\"key\", \"name\"])\n",
    "extract_features(issues_df, \"status\", [\"id\", \"name\"])\n",
    "extract_features(issues_df, \"resolution\", [\"id\", \"name\"])\n",
    "extract_features(issues_df, \"votes\", [\"votes\"])"
   ]
  },
  {
   "cell_type": "markdown",
   "metadata": {},
   "source": [
    "#### Type of columns"
   ]
  },
  {
   "cell_type": "code",
   "execution_count": null,
   "metadata": {},
   "outputs": [],
   "source": [
    "issues_df[\"issue_id\"] = pd.to_numeric(issues_df.issue_id)\n",
    "issues_df['created'] = pd.to_datetime(issues_df['created'],errors='coerce', utc=True)\n",
    "issues_df['resolutiondate'] = pd.to_datetime(issues_df['resolutiondate'],errors='coerce', utc=True)\n",
    "issues_df['updated'] = pd.to_datetime(issues_df['updated'],errors='coerce', utc=True)\n",
    "issues_df['duedate'] = pd.to_datetime(issues_df['duedate'],errors='coerce', utc=True)"
   ]
  },
  {
   "cell_type": "markdown",
   "metadata": {},
   "source": [
    "#### Rename columns"
   ]
  },
  {
   "cell_type": "code",
   "execution_count": null,
   "metadata": {},
   "outputs": [],
   "source": [
    "issues_df = issues_df.rename(columns={\"customfield_11630\": \"edition\"})"
   ]
  },
  {
   "cell_type": "code",
   "execution_count": null,
   "metadata": {
    "scrolled": true
   },
   "outputs": [],
   "source": [
    "#issues_df.to_csv(\"csv/issues.csv\")\n",
    "#issues_df = pd.read_csv(\"csv/issues.csv\", index_col=0)\n",
    "issues_df"
   ]
  },
  {
   "cell_type": "markdown",
   "metadata": {},
   "source": [
    "### Extract versions"
   ]
  },
  {
   "cell_type": "code",
   "execution_count": null,
   "metadata": {},
   "outputs": [],
   "source": [
    "def extract_versions(all_issues, version_field, prefix):\n",
    "    values = []\n",
    "    for issue in all_issues:\n",
    "        for version in getattr(issue.fields, version_field):\n",
    "            values.append((issue.id,version.name,version.id))\n",
    "    return pd.DataFrame(values, columns=[\"issue_id\", f\"{prefix}_name\", f\"{prefix}_id\"])"
   ]
  },
  {
   "cell_type": "code",
   "execution_count": null,
   "metadata": {},
   "outputs": [],
   "source": [
    "issues_fixversions = extract_versions(all_issues, \"fixVersions\", \"fixVersion\")\n",
    "issues_fixversions.to_csv(f\"{csv_folder}/issues_fixversions.csv\")\n",
    "issues_fixversions = pd.read_csv(f\"{csv_folder}/issues_fixversions.csv\", index_col=0)\n",
    "issues_fixversions"
   ]
  },
  {
   "cell_type": "code",
   "execution_count": null,
   "metadata": {
    "scrolled": true
   },
   "outputs": [],
   "source": [
    "issues_versions = extract_versions(all_issues, \"versions\", \"version\")\n",
    "issues_versions.to_csv(f\"{csv_folder}/issues_versions.csv\")\n",
    "issues_versions = pd.read_csv(f\"{csv_folder}/issues_versions.csv\", index_col=0)\n",
    "issues_versions"
   ]
  },
  {
   "cell_type": "markdown",
   "metadata": {},
   "source": [
    "### Extract labels"
   ]
  },
  {
   "cell_type": "code",
   "execution_count": null,
   "metadata": {},
   "outputs": [],
   "source": [
    "def extract_labels(all_issues, field, column):\n",
    "    values = []\n",
    "    for issue in all_issues:\n",
    "        for value in getattr(issue.fields, field):\n",
    "            values.append((issue.id, value))\n",
    "    return pd.DataFrame(values, columns=[\"issue_id\", column])"
   ]
  },
  {
   "cell_type": "code",
   "execution_count": null,
   "metadata": {
    "scrolled": true
   },
   "outputs": [],
   "source": [
    "issues_labels = extract_labels(all_issues, \"labels\", \"label\")\n",
    "issues_labels.to_csv(f\"{csv_folder}/issues_labels.csv\")\n",
    "issues_labels = pd.read_csv(f\"{csv_folder}/issues_labels.csv\", index_col=0)\n",
    "issues_labels"
   ]
  },
  {
   "cell_type": "markdown",
   "metadata": {},
   "source": [
    "### Extract subtasks"
   ]
  },
  {
   "cell_type": "code",
   "execution_count": null,
   "metadata": {},
   "outputs": [],
   "source": [
    "def extract_subtasks(all_issues, field, prefix):\n",
    "    values = []\n",
    "    for issue in all_issues:\n",
    "        for subtask in getattr(issue.fields, field):\n",
    "            values.append((issue.id,subtask.key,subtask.id))\n",
    "    return pd.DataFrame(values, columns=[\"issue_id\", f\"{prefix}_key\", f\"{prefix}_id\"])"
   ]
  },
  {
   "cell_type": "code",
   "execution_count": null,
   "metadata": {},
   "outputs": [],
   "source": [
    "issues_substaks = extract_subtasks(all_issues, \"subtasks\", \"subtask\")\n",
    "issues_substaks.to_csv(f\"{csv_folder}/issues_subtasks.csv\")\n",
    "issues_substaks = pd.read_csv(f\"{csv_folder}/issues_subtasks.csv\", index_col=0)\n",
    "issues_substaks"
   ]
  },
  {
   "cell_type": "markdown",
   "metadata": {},
   "source": [
    "## Field analysis"
   ]
  },
  {
   "cell_type": "markdown",
   "metadata": {},
   "source": [
    "### Workratio"
   ]
  },
  {
   "cell_type": "code",
   "execution_count": null,
   "metadata": {},
   "outputs": [],
   "source": [
    "sns.distplot(issues_df.workratio)"
   ]
  },
  {
   "cell_type": "code",
   "execution_count": null,
   "metadata": {},
   "outputs": [],
   "source": [
    "sns.barplot(x=\"workratio\", y=\"issue_id\", data=issues_df.groupby(\"workratio\").count().reset_index())"
   ]
  },
  {
   "cell_type": "markdown",
   "metadata": {},
   "source": [
    "### IssueType"
   ]
  },
  {
   "cell_type": "code",
   "execution_count": null,
   "metadata": {},
   "outputs": [],
   "source": [
    "sns.countplot(x=\"issuetype_name\", data=issues_df[[\"issue_id\", \"issuetype_name\"]])"
   ]
  },
  {
   "cell_type": "markdown",
   "metadata": {},
   "source": [
    "### Resolution"
   ]
  },
  {
   "cell_type": "code",
   "execution_count": null,
   "metadata": {},
   "outputs": [],
   "source": [
    "issues_df.resolution_name.unique()"
   ]
  },
  {
   "cell_type": "code",
   "execution_count": null,
   "metadata": {},
   "outputs": [],
   "source": [
    "ax = sns.countplot(x=\"resolution_name\", data=issues_df[[\"issue_id\", \"resolution_name\"]])\n",
    "ax.tick_params(axis='x', labelrotation= 60)"
   ]
  },
  {
   "cell_type": "markdown",
   "metadata": {},
   "source": [
    "### Watches"
   ]
  },
  {
   "cell_type": "code",
   "execution_count": null,
   "metadata": {},
   "outputs": [],
   "source": [
    "pp.pprint(issues_df.watches[0])"
   ]
  },
  {
   "cell_type": "markdown",
   "metadata": {},
   "source": [
    "### Priority"
   ]
  },
  {
   "cell_type": "code",
   "execution_count": null,
   "metadata": {},
   "outputs": [],
   "source": [
    "issues_df.priority_name.unique()"
   ]
  },
  {
   "cell_type": "code",
   "execution_count": null,
   "metadata": {},
   "outputs": [],
   "source": [
    "ax = sns.countplot(x=\"priority_name\", data=issues_df[[\"issue_id\", \"priority_name\"]])"
   ]
  },
  {
   "cell_type": "markdown",
   "metadata": {},
   "source": [
    "### Labels"
   ]
  },
  {
   "cell_type": "code",
   "execution_count": null,
   "metadata": {},
   "outputs": [],
   "source": [
    "len(issues_labels.label.unique())"
   ]
  },
  {
   "cell_type": "code",
   "execution_count": null,
   "metadata": {},
   "outputs": [],
   "source": [
    "sns.distplot(issues_labels.groupby(\"issue_id\").count().label)"
   ]
  },
  {
   "cell_type": "markdown",
   "metadata": {},
   "source": [
    "### Versions"
   ]
  },
  {
   "cell_type": "code",
   "execution_count": null,
   "metadata": {},
   "outputs": [],
   "source": [
    "len(issues_versions.version_name.unique())"
   ]
  },
  {
   "cell_type": "code",
   "execution_count": null,
   "metadata": {},
   "outputs": [],
   "source": [
    "top_versions = issues_versions.groupby(\"version_name\").count().issue_id.reset_index().sort_values(by=\"issue_id\", ascending=False)\n",
    "top_versions.head(10)"
   ]
  },
  {
   "cell_type": "code",
   "execution_count": null,
   "metadata": {
    "scrolled": true
   },
   "outputs": [],
   "source": [
    "ax = sns.barplot(x=\"version_name\", y=\"issue_id\", data=top_versions[[\"issue_id\", \"version_name\"]].head(20))"
   ]
  },
  {
   "cell_type": "code",
   "execution_count": null,
   "metadata": {},
   "outputs": [],
   "source": [
    "version_merged = pd.merge(issues_df, issues_versions, on=\"issue_id\")"
   ]
  },
  {
   "cell_type": "code",
   "execution_count": null,
   "metadata": {},
   "outputs": [],
   "source": [
    "top_versions.head(10).version_name.values"
   ]
  },
  {
   "cell_type": "code",
   "execution_count": null,
   "metadata": {},
   "outputs": [],
   "source": [
    "versions_sorted = issues_versions.sort_values(by=\"version_name\").version_name.unique()"
   ]
  },
  {
   "cell_type": "code",
   "execution_count": null,
   "metadata": {
    "scrolled": true
   },
   "outputs": [],
   "source": [
    "f, axes = plt.subplots(5,1, figsize=(15,20), sharey=True)\n",
    "for i in range(5):\n",
    "    data = version_merged[version_merged.version_name.isin(versions_sorted[30*i:30*(i+1)])]\n",
    "    ax = sns.countplot(ax=axes[i], x=\"version_name\", \n",
    "                       hue=\"issuetype_name\", data=data.sort_values(by=\"version_name\").head(3000),\n",
    "                      palette={\"Bug\":\"r\",\"Improvement\":\"orange\",\n",
    "                               \"New Feature\": \"green\",\n",
    "                               \"Task\": \"yellow\",\n",
    "                               \"Sub-task\": \"pink\",\n",
    "                              \"Documentation\": \"grey\"})\n",
    "    ax.tick_params(axis='x', labelrotation= 60)\n",
    "    if i > 0:\n",
    "        ax.get_legend().remove()"
   ]
  },
  {
   "cell_type": "markdown",
   "metadata": {},
   "source": [
    "## No version issues\n",
    "Ideally all bugs would be labeled with a version. Why is it not the case?"
   ]
  },
  {
   "cell_type": "code",
   "execution_count": null,
   "metadata": {},
   "outputs": [],
   "source": [
    "no_version_issues = issues_df[~issues_df.issue_id.isin(version_merged.issue_id.unique())]\n",
    "bug_no_version = no_version_issues[no_version_issues.issuetype_name == \"Bug\"]\n",
    "bug_no_version"
   ]
  },
  {
   "cell_type": "code",
   "execution_count": null,
   "metadata": {},
   "outputs": [],
   "source": [
    "bug_no_version[bug_no_version.status_name == \"Resolved\"][[\"summary\", \"description\", \"status_name\", \"resolution_name\", \"resolutiondate\",\"issue_id\", \"issue_key\"]]"
   ]
  },
  {
   "cell_type": "code",
   "execution_count": null,
   "metadata": {},
   "outputs": [],
   "source": [
    "bug_no_version[bug_no_version.resolution_name == \"Fixed\"]"
   ]
  },
  {
   "cell_type": "markdown",
   "metadata": {},
   "source": [
    "### Status"
   ]
  },
  {
   "cell_type": "code",
   "execution_count": null,
   "metadata": {},
   "outputs": [],
   "source": [
    "issues_df.status.unique()"
   ]
  },
  {
   "cell_type": "code",
   "execution_count": null,
   "metadata": {
    "scrolled": true
   },
   "outputs": [],
   "source": [
    "ax = sns.countplot(x=\"status\", data=issues_df[[\"issue_id\", \"status\"]])"
   ]
  },
  {
   "cell_type": "markdown",
   "metadata": {},
   "source": [
    "### Edition"
   ]
  },
  {
   "cell_type": "code",
   "execution_count": null,
   "metadata": {},
   "outputs": [],
   "source": [
    "ax = sns.countplot(x=\"edition\", data=issues_df)"
   ]
  },
  {
   "cell_type": "code",
   "execution_count": null,
   "metadata": {},
   "outputs": [],
   "source": [
    "issues_df.edition.describe()"
   ]
  },
  {
   "cell_type": "code",
   "execution_count": null,
   "metadata": {},
   "outputs": [],
   "source": [
    "issues_df.edition.isna().sum()"
   ]
  },
  {
   "cell_type": "code",
   "execution_count": null,
   "metadata": {},
   "outputs": [],
   "source": [
    "issues_df[(issues_df.edition.isna()) & (issues_df.resolution==\"Fixed\") & (issues_df.issuetype_name==\"Bug\")]"
   ]
  }
 ],
 "metadata": {
  "kernelspec": {
   "display_name": "Python 3",
   "language": "python",
   "name": "python3"
  },
  "language_info": {
   "codemirror_mode": {
    "name": "ipython",
    "version": 3
   },
   "file_extension": ".py",
   "mimetype": "text/x-python",
   "name": "python",
   "nbconvert_exporter": "python",
   "pygments_lexer": "ipython3",
   "version": "3.8.2"
  }
 },
 "nbformat": 4,
 "nbformat_minor": 4
}
