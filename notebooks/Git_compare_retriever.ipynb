{
 "cells": [
  {
   "cell_type": "code",
   "execution_count": 12,
   "metadata": {},
   "outputs": [],
   "source": [
    "import git\n",
    "import pandas as pd\n",
    "g = git.Git(\"../../sonarqube/\") "
   ]
  },
  {
   "cell_type": "code",
   "execution_count": 13,
   "metadata": {},
   "outputs": [],
   "source": [
    "csv_folder = \"../csv\""
   ]
  },
  {
   "cell_type": "code",
   "execution_count": 14,
   "metadata": {},
   "outputs": [],
   "source": [
    "tags_final = pd.read_csv(f\"{csv_folder}/tags_comparison_final.csv\", index_col=0)"
   ]
  },
  {
   "cell_type": "code",
   "execution_count": 15,
   "metadata": {},
   "outputs": [],
   "source": [
    "data = []\n",
    "for i, row in tags_final.iterrows():\n",
    "    loginfo = g.log(\"--right-only\", f'{row.from_sha}...{row.to_sha}')\n",
    "    for line in loginfo.split(\"\\n\"):\n",
    "        if line.startswith(\"commit\"):\n",
    "            data.append((row.from_tag, row.to_tag, line.replace(\"commit \", \"\")))"
   ]
  },
  {
   "cell_type": "code",
   "execution_count": 16,
   "metadata": {},
   "outputs": [],
   "source": [
    "tags_commmits = pd.DataFrame(data, columns=[\"from_tag\", \"to_tag\", \"commitsha\"])\n",
    "tags_commmits.to_csv(f\"{csv_folder}/tags_compare_commits.csv\")"
   ]
  },
  {
   "cell_type": "code",
   "execution_count": 17,
   "metadata": {},
   "outputs": [
    {
     "data": {
      "text/html": [
       "<div>\n",
       "<style scoped>\n",
       "    .dataframe tbody tr th:only-of-type {\n",
       "        vertical-align: middle;\n",
       "    }\n",
       "\n",
       "    .dataframe tbody tr th {\n",
       "        vertical-align: top;\n",
       "    }\n",
       "\n",
       "    .dataframe thead th {\n",
       "        text-align: right;\n",
       "    }\n",
       "</style>\n",
       "<table border=\"1\" class=\"dataframe\">\n",
       "  <thead>\n",
       "    <tr style=\"text-align: right;\">\n",
       "      <th></th>\n",
       "      <th>from_tag</th>\n",
       "      <th>to_tag</th>\n",
       "      <th>commitsha</th>\n",
       "    </tr>\n",
       "  </thead>\n",
       "  <tbody>\n",
       "    <tr>\n",
       "      <th>10</th>\n",
       "      <td>5.3-RC1</td>\n",
       "      <td>5.3-RC2</td>\n",
       "      <td>40</td>\n",
       "    </tr>\n",
       "    <tr>\n",
       "      <th>29</th>\n",
       "      <td>5.4-RC2</td>\n",
       "      <td>5.4-RC3</td>\n",
       "      <td>11</td>\n",
       "    </tr>\n",
       "    <tr>\n",
       "      <th>30</th>\n",
       "      <td>5.4-RC2</td>\n",
       "      <td>5.5-M1</td>\n",
       "      <td>36</td>\n",
       "    </tr>\n",
       "    <tr>\n",
       "      <th>106</th>\n",
       "      <td>7.9</td>\n",
       "      <td>7.9.1</td>\n",
       "      <td>17</td>\n",
       "    </tr>\n",
       "    <tr>\n",
       "      <th>107</th>\n",
       "      <td>7.9</td>\n",
       "      <td>8.0</td>\n",
       "      <td>415</td>\n",
       "    </tr>\n",
       "    <tr>\n",
       "      <th>112</th>\n",
       "      <td>8.1.0.31237</td>\n",
       "      <td>8.2.0.32929</td>\n",
       "      <td>262</td>\n",
       "    </tr>\n",
       "  </tbody>\n",
       "</table>\n",
       "</div>"
      ],
      "text/plain": [
       "        from_tag       to_tag  commitsha\n",
       "10       5.3-RC1      5.3-RC2         40\n",
       "29       5.4-RC2      5.4-RC3         11\n",
       "30       5.4-RC2       5.5-M1         36\n",
       "106          7.9        7.9.1         17\n",
       "107          7.9          8.0        415\n",
       "112  8.1.0.31237  8.2.0.32929        262"
      ]
     },
     "execution_count": 17,
     "metadata": {},
     "output_type": "execute_result"
    }
   ],
   "source": [
    "count = tags_commmits.groupby([\"from_tag\", \"to_tag\"]).count().reset_index()\n",
    "count[count.from_tag.isin(tags_final[tags_final.behind_by>0].from_tag)]"
   ]
  },
  {
   "cell_type": "code",
   "execution_count": 18,
   "metadata": {},
   "outputs": [
    {
     "data": {
      "text/html": [
       "<div>\n",
       "<style scoped>\n",
       "    .dataframe tbody tr th:only-of-type {\n",
       "        vertical-align: middle;\n",
       "    }\n",
       "\n",
       "    .dataframe tbody tr th {\n",
       "        vertical-align: top;\n",
       "    }\n",
       "\n",
       "    .dataframe thead th {\n",
       "        text-align: right;\n",
       "    }\n",
       "</style>\n",
       "<table border=\"1\" class=\"dataframe\">\n",
       "  <thead>\n",
       "    <tr style=\"text-align: right;\">\n",
       "      <th></th>\n",
       "      <th>from_tag</th>\n",
       "      <th>from_date</th>\n",
       "      <th>from_sha</th>\n",
       "      <th>to_sha</th>\n",
       "      <th>ahead_by</th>\n",
       "      <th>behind_by</th>\n",
       "      <th>to_tag</th>\n",
       "      <th>to_date</th>\n",
       "      <th>diff_dates</th>\n",
       "      <th>diff_days</th>\n",
       "    </tr>\n",
       "  </thead>\n",
       "  <tbody>\n",
       "    <tr>\n",
       "      <th>2153</th>\n",
       "      <td>5.3-RC1</td>\n",
       "      <td>2015-12-09 12:47:34</td>\n",
       "      <td>c979578645aaf77c447b250136db32a7067619a1</td>\n",
       "      <td>29a84111f6cc9298f83df515830ff40a41d0976c</td>\n",
       "      <td>40</td>\n",
       "      <td>1</td>\n",
       "      <td>5.3-RC2</td>\n",
       "      <td>2015-12-17 16:02:01</td>\n",
       "      <td>8 days 03:14:27</td>\n",
       "      <td>8.135035</td>\n",
       "    </tr>\n",
       "    <tr>\n",
       "      <th>1669</th>\n",
       "      <td>5.4-RC2</td>\n",
       "      <td>2016-02-15 15:38:37</td>\n",
       "      <td>e8f951d9f2a99975e31f82d97fce68f47e9242d3</td>\n",
       "      <td>8909ccd99b9bc5874f24395519d66e2bcb9bdacb</td>\n",
       "      <td>36</td>\n",
       "      <td>1</td>\n",
       "      <td>5.5-M1</td>\n",
       "      <td>2016-02-12 15:43:47</td>\n",
       "      <td>-3 days +00:05:10</td>\n",
       "      <td>-2.996412</td>\n",
       "    </tr>\n",
       "    <tr>\n",
       "      <th>113</th>\n",
       "      <td>7.9</td>\n",
       "      <td>2019-07-01 07:56:26</td>\n",
       "      <td>6502ec4ffee7e5a57498baaf330b80eb490d01c2</td>\n",
       "      <td>87ca68d63f4afd37d74b2f454430dfde9e862c6a</td>\n",
       "      <td>415</td>\n",
       "      <td>1</td>\n",
       "      <td>8.0</td>\n",
       "      <td>2019-10-15 08:15:12</td>\n",
       "      <td>106 days 00:18:46</td>\n",
       "      <td>106.013032</td>\n",
       "    </tr>\n",
       "    <tr>\n",
       "      <th>41</th>\n",
       "      <td>8.1.0.31237</td>\n",
       "      <td>2019-12-17 12:29:34</td>\n",
       "      <td>65a7a7c34de5bff9aed7c3e58eb6dcc87ae34b57</td>\n",
       "      <td>749367809478e5b7f60c6ef952436db9789b5882</td>\n",
       "      <td>262</td>\n",
       "      <td>1</td>\n",
       "      <td>8.2.0.32929</td>\n",
       "      <td>2020-02-25 14:32:24</td>\n",
       "      <td>70 days 02:02:50</td>\n",
       "      <td>70.085301</td>\n",
       "    </tr>\n",
       "  </tbody>\n",
       "</table>\n",
       "</div>"
      ],
      "text/plain": [
       "         from_tag            from_date  \\\n",
       "2153      5.3-RC1  2015-12-09 12:47:34   \n",
       "1669      5.4-RC2  2016-02-15 15:38:37   \n",
       "113           7.9  2019-07-01 07:56:26   \n",
       "41    8.1.0.31237  2019-12-17 12:29:34   \n",
       "\n",
       "                                      from_sha  \\\n",
       "2153  c979578645aaf77c447b250136db32a7067619a1   \n",
       "1669  e8f951d9f2a99975e31f82d97fce68f47e9242d3   \n",
       "113   6502ec4ffee7e5a57498baaf330b80eb490d01c2   \n",
       "41    65a7a7c34de5bff9aed7c3e58eb6dcc87ae34b57   \n",
       "\n",
       "                                        to_sha  ahead_by  behind_by  \\\n",
       "2153  29a84111f6cc9298f83df515830ff40a41d0976c        40          1   \n",
       "1669  8909ccd99b9bc5874f24395519d66e2bcb9bdacb        36          1   \n",
       "113   87ca68d63f4afd37d74b2f454430dfde9e862c6a       415          1   \n",
       "41    749367809478e5b7f60c6ef952436db9789b5882       262          1   \n",
       "\n",
       "           to_tag              to_date         diff_dates   diff_days  \n",
       "2153      5.3-RC2  2015-12-17 16:02:01    8 days 03:14:27    8.135035  \n",
       "1669       5.5-M1  2016-02-12 15:43:47  -3 days +00:05:10   -2.996412  \n",
       "113           8.0  2019-10-15 08:15:12  106 days 00:18:46  106.013032  \n",
       "41    8.2.0.32929  2020-02-25 14:32:24   70 days 02:02:50   70.085301  "
      ]
     },
     "execution_count": 18,
     "metadata": {},
     "output_type": "execute_result"
    }
   ],
   "source": [
    "tags_final[tags_final.behind_by>0]"
   ]
  },
  {
   "cell_type": "code",
   "execution_count": null,
   "metadata": {},
   "outputs": [],
   "source": []
  }
 ],
 "metadata": {
  "kernelspec": {
   "display_name": "Python 3",
   "language": "python",
   "name": "python3"
  },
  "language_info": {
   "codemirror_mode": {
    "name": "ipython",
    "version": 3
   },
   "file_extension": ".py",
   "mimetype": "text/x-python",
   "name": "python",
   "nbconvert_exporter": "python",
   "pygments_lexer": "ipython3",
   "version": "3.8.2"
  }
 },
 "nbformat": 4,
 "nbformat_minor": 4
}
