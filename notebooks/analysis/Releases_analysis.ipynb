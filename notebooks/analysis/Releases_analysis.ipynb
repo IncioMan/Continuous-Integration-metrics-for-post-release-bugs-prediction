{
 "cells": [
  {
   "cell_type": "code",
   "execution_count": 35,
   "metadata": {},
   "outputs": [],
   "source": [
    "import pandas as pd\n",
    "import pickle\n",
    "import json\n",
    "import seaborn as sns\n",
    "import pprint\n",
    "import numpy as np\n",
    "pp = pprint.PrettyPrinter(depth=6)\n",
    "import matplotlib\n",
    "import matplotlib.pyplot as plt\n",
    "matplotlib.rcParams['figure.figsize'] = (15.0, 5.0)\n",
    "pd.set_option('display.max_columns', 120)\n",
    "pd.set_option('display.max_rows', 200)"
   ]
  },
  {
   "cell_type": "code",
   "execution_count": 36,
   "metadata": {},
   "outputs": [],
   "source": [
    "pkl_folder = \"../../pkl\"\n",
    "csv_folder = \"../../csv\"\n",
    "figure_folder = \"../../figures/tags_analysis\""
   ]
  },
  {
   "cell_type": "code",
   "execution_count": 37,
   "metadata": {},
   "outputs": [],
   "source": [
    "import git\n",
    "git = git.Git(\"../../../sonarqube/\") "
   ]
  },
  {
   "cell_type": "markdown",
   "metadata": {},
   "source": [
    "### Import tags"
   ]
  },
  {
   "cell_type": "code",
   "execution_count": 38,
   "metadata": {},
   "outputs": [
    {
     "data": {
      "text/html": [
       "<div>\n",
       "<style scoped>\n",
       "    .dataframe tbody tr th:only-of-type {\n",
       "        vertical-align: middle;\n",
       "    }\n",
       "\n",
       "    .dataframe tbody tr th {\n",
       "        vertical-align: top;\n",
       "    }\n",
       "\n",
       "    .dataframe thead th {\n",
       "        text-align: right;\n",
       "    }\n",
       "</style>\n",
       "<table border=\"1\" class=\"dataframe\">\n",
       "  <thead>\n",
       "    <tr style=\"text-align: right;\">\n",
       "      <th></th>\n",
       "      <th>Tag</th>\n",
       "      <th>Sha</th>\n",
       "      <th>Date</th>\n",
       "      <th>Tag_number</th>\n",
       "      <th>month</th>\n",
       "      <th>year</th>\n",
       "    </tr>\n",
       "  </thead>\n",
       "  <tbody>\n",
       "    <tr>\n",
       "      <th>1</th>\n",
       "      <td>8.4.2.36762</td>\n",
       "      <td>2de1f343e3dbd9e88007b42e475512677c04eb8a</td>\n",
       "      <td>2020-08-27 14:11:31</td>\n",
       "      <td>8.4.2.36762</td>\n",
       "      <td>8</td>\n",
       "      <td>2020</td>\n",
       "    </tr>\n",
       "    <tr>\n",
       "      <th>2</th>\n",
       "      <td>8.4.1.35646</td>\n",
       "      <td>a0d372f704998d38856c26e28662fd7de062f873</td>\n",
       "      <td>2020-07-14 08:13:18</td>\n",
       "      <td>8.4.1.35646</td>\n",
       "      <td>7</td>\n",
       "      <td>2020</td>\n",
       "    </tr>\n",
       "    <tr>\n",
       "      <th>3</th>\n",
       "      <td>8.4.0.35506</td>\n",
       "      <td>74b4533439f380827d68e8c01667eeaecad89fc7</td>\n",
       "      <td>2020-07-03 07:09:27</td>\n",
       "      <td>8.4.0.35506</td>\n",
       "      <td>7</td>\n",
       "      <td>2020</td>\n",
       "    </tr>\n",
       "    <tr>\n",
       "      <th>4</th>\n",
       "      <td>8.3.1.34397</td>\n",
       "      <td>b77ce511a2039330aea8832ad12e86a8cfa9ff7d</td>\n",
       "      <td>2020-05-07 12:09:22</td>\n",
       "      <td>8.3.1.34397</td>\n",
       "      <td>5</td>\n",
       "      <td>2020</td>\n",
       "    </tr>\n",
       "    <tr>\n",
       "      <th>5</th>\n",
       "      <td>8.3.0.34182</td>\n",
       "      <td>9c58e36328ae79ad3c36c13aa253879351ce3613</td>\n",
       "      <td>2020-04-28 13:54:13</td>\n",
       "      <td>8.3.0.34182</td>\n",
       "      <td>4</td>\n",
       "      <td>2020</td>\n",
       "    </tr>\n",
       "  </tbody>\n",
       "</table>\n",
       "</div>"
      ],
      "text/plain": [
       "           Tag                                       Sha                Date  \\\n",
       "1  8.4.2.36762  2de1f343e3dbd9e88007b42e475512677c04eb8a 2020-08-27 14:11:31   \n",
       "2  8.4.1.35646  a0d372f704998d38856c26e28662fd7de062f873 2020-07-14 08:13:18   \n",
       "3  8.4.0.35506  74b4533439f380827d68e8c01667eeaecad89fc7 2020-07-03 07:09:27   \n",
       "4  8.3.1.34397  b77ce511a2039330aea8832ad12e86a8cfa9ff7d 2020-05-07 12:09:22   \n",
       "5  8.3.0.34182  9c58e36328ae79ad3c36c13aa253879351ce3613 2020-04-28 13:54:13   \n",
       "\n",
       "    Tag_number  month  year  \n",
       "1  8.4.2.36762      8  2020  \n",
       "2  8.4.1.35646      7  2020  \n",
       "3  8.4.0.35506      7  2020  \n",
       "4  8.3.1.34397      5  2020  \n",
       "5  8.3.0.34182      4  2020  "
      ]
     },
     "execution_count": 38,
     "metadata": {},
     "output_type": "execute_result"
    }
   ],
   "source": [
    "alltags = pd.read_csv(f\"{csv_folder}/tags.csv\", index_col=0)\n",
    "alltags.Date = pd.to_datetime(alltags.Date)\n",
    "alltags[\"month\"] = alltags.Date.dt.month\n",
    "alltags[\"year\"] = alltags.Date.dt.year\n",
    "tags = alltags.tail(-1)\n",
    "tags.head()"
   ]
  },
  {
   "cell_type": "markdown",
   "metadata": {},
   "source": [
    "### Shape"
   ]
  },
  {
   "cell_type": "code",
   "execution_count": 39,
   "metadata": {},
   "outputs": [
    {
     "data": {
      "text/plain": [
       "(185, 6)"
      ]
     },
     "execution_count": 39,
     "metadata": {},
     "output_type": "execute_result"
    }
   ],
   "source": [
    "tags.shape"
   ]
  },
  {
   "cell_type": "markdown",
   "metadata": {},
   "source": [
    "### Columns"
   ]
  },
  {
   "cell_type": "code",
   "execution_count": 40,
   "metadata": {},
   "outputs": [
    {
     "data": {
      "text/plain": [
       "Index(['Tag', 'Sha', 'Date', 'Tag_number', 'month', 'year'], dtype='object')"
      ]
     },
     "execution_count": 40,
     "metadata": {},
     "output_type": "execute_result"
    }
   ],
   "source": [
    "tags.columns"
   ]
  },
  {
   "cell_type": "markdown",
   "metadata": {},
   "source": [
    "### Filter the ones after the project started using TravisCI"
   ]
  },
  {
   "cell_type": "code",
   "execution_count": 41,
   "metadata": {},
   "outputs": [],
   "source": [
    "tags = tags[tags.Date > \"2015-03-10\"]"
   ]
  },
  {
   "cell_type": "code",
   "execution_count": 42,
   "metadata": {
    "scrolled": true
   },
   "outputs": [
    {
     "data": {
      "text/plain": [
       "120"
      ]
     },
     "execution_count": 42,
     "metadata": {},
     "output_type": "execute_result"
    }
   ],
   "source": [
    "tags.Tag.nunique()"
   ]
  },
  {
   "cell_type": "markdown",
   "metadata": {},
   "source": [
    "### Statistical summary"
   ]
  },
  {
   "cell_type": "code",
   "execution_count": 43,
   "metadata": {
    "scrolled": true
   },
   "outputs": [
    {
     "data": {
      "text/html": [
       "<div>\n",
       "<style scoped>\n",
       "    .dataframe tbody tr th:only-of-type {\n",
       "        vertical-align: middle;\n",
       "    }\n",
       "\n",
       "    .dataframe tbody tr th {\n",
       "        vertical-align: top;\n",
       "    }\n",
       "\n",
       "    .dataframe thead th {\n",
       "        text-align: right;\n",
       "    }\n",
       "</style>\n",
       "<table border=\"1\" class=\"dataframe\">\n",
       "  <thead>\n",
       "    <tr style=\"text-align: right;\">\n",
       "      <th></th>\n",
       "      <th>month</th>\n",
       "      <th>year</th>\n",
       "    </tr>\n",
       "  </thead>\n",
       "  <tbody>\n",
       "    <tr>\n",
       "      <th>count</th>\n",
       "      <td>120.000000</td>\n",
       "      <td>120.00000</td>\n",
       "    </tr>\n",
       "    <tr>\n",
       "      <th>mean</th>\n",
       "      <td>5.566667</td>\n",
       "      <td>2016.75000</td>\n",
       "    </tr>\n",
       "    <tr>\n",
       "      <th>std</th>\n",
       "      <td>3.633951</td>\n",
       "      <td>1.34258</td>\n",
       "    </tr>\n",
       "    <tr>\n",
       "      <th>min</th>\n",
       "      <td>1.000000</td>\n",
       "      <td>2015.00000</td>\n",
       "    </tr>\n",
       "    <tr>\n",
       "      <th>25%</th>\n",
       "      <td>2.000000</td>\n",
       "      <td>2016.00000</td>\n",
       "    </tr>\n",
       "    <tr>\n",
       "      <th>50%</th>\n",
       "      <td>5.000000</td>\n",
       "      <td>2016.00000</td>\n",
       "    </tr>\n",
       "    <tr>\n",
       "      <th>75%</th>\n",
       "      <td>8.250000</td>\n",
       "      <td>2017.00000</td>\n",
       "    </tr>\n",
       "    <tr>\n",
       "      <th>max</th>\n",
       "      <td>12.000000</td>\n",
       "      <td>2020.00000</td>\n",
       "    </tr>\n",
       "  </tbody>\n",
       "</table>\n",
       "</div>"
      ],
      "text/plain": [
       "            month        year\n",
       "count  120.000000   120.00000\n",
       "mean     5.566667  2016.75000\n",
       "std      3.633951     1.34258\n",
       "min      1.000000  2015.00000\n",
       "25%      2.000000  2016.00000\n",
       "50%      5.000000  2016.00000\n",
       "75%      8.250000  2017.00000\n",
       "max     12.000000  2020.00000"
      ]
     },
     "execution_count": 43,
     "metadata": {},
     "output_type": "execute_result"
    }
   ],
   "source": [
    "tags.describe()"
   ]
  },
  {
   "cell_type": "markdown",
   "metadata": {},
   "source": [
    "**Distribution over the years**"
   ]
  },
  {
   "cell_type": "code",
   "execution_count": 44,
   "metadata": {},
   "outputs": [
    {
     "data": {
      "text/plain": [
       "<AxesSubplot:xlabel='year', ylabel='Tag'>"
      ]
     },
     "execution_count": 44,
     "metadata": {},
     "output_type": "execute_result"
    },
    {
     "data": {
      "image/png": "[encoded data removed]",
      "text/plain": [
       "<Figure size 1080x360 with 1 Axes>"
      ]
     },
     "metadata": {
      "needs_background": "light"
     },
     "output_type": "display_data"
    }
   ],
   "source": [
    "sns.barplot(x=\"year\", y=\"Tag\", data=tags.groupby(\"year\").Tag.count().reset_index())"
   ]
  },
  {
   "cell_type": "markdown",
   "metadata": {},
   "source": [
    "**Distribution overtime of the releases**"
   ]
  },
  {
   "cell_type": "code",
   "execution_count": 73,
   "metadata": {},
   "outputs": [
    {
     "data": {
      "image/png": "[encoded data removed]",
      "text/plain": [
       "<Figure size 1080x360 with 1 Axes>"
      ]
     },
     "metadata": {
      "needs_background": "light"
     },
     "output_type": "display_data"
    }
   ],
   "source": [
    "time_group = [\"year\", \"month\"]\n",
    "x = tags.groupby(time_group).Tag.count().reset_index()\n",
    "ax = sns.barplot(x=x.index, y=x.Tag)\n",
    "ax.set_xticklabels(list(x[time_group[1]].astype(int).astype(str) + \"/\" + x[time_group[0]].astype(int).astype(str)),\n",
    "                      rotation=90)\n",
    "ax.set(ylabel=\"Number of tags\")\n",
    "plt.savefig(f\"{figure_folder}/time_distribution.png\", transparent=True, bbox_inches='tight', pad_inches=0.2)\n",
    "plt.show()"
   ]
  },
  {
   "cell_type": "markdown",
   "metadata": {},
   "source": [
    "**Major version counts**"
   ]
  },
  {
   "cell_type": "code",
   "execution_count": 46,
   "metadata": {},
   "outputs": [],
   "source": [
    "tags[\"major_version\"] = tags.Tag.apply(lambda s: s.split(\".\")[0])"
   ]
  },
  {
   "cell_type": "code",
   "execution_count": 47,
   "metadata": {},
   "outputs": [
    {
     "data": {
      "text/plain": [
       "5    0.466667\n",
       "6    0.350000\n",
       "7    0.091667\n",
       "8    0.066667\n",
       "4    0.025000\n",
       "Name: major_version, dtype: float64"
      ]
     },
     "execution_count": 47,
     "metadata": {},
     "output_type": "execute_result"
    }
   ],
   "source": [
    "tags.major_version.value_counts(normalize=True)"
   ]
  },
  {
   "cell_type": "code",
   "execution_count": 50,
   "metadata": {},
   "outputs": [
    {
     "data": {
      "image/png": "[encoded data removed]",
      "text/plain": [
       "<Figure size 1080x360 with 1 Axes>"
      ]
     },
     "metadata": {
      "needs_background": "light"
     },
     "output_type": "display_data"
    }
   ],
   "source": [
    "ax = sns.countplot(x=tags.major_version.sort_values())\n",
    "ax.set_xlabel(\"Major version\")\n",
    "ax.set_ylabel(\"Number of tags\")\n",
    "plt.savefig(f\"{figure_folder}/major_version.png\", transparent=True, bbox_inches='tight', pad_inches=0.2)\n",
    "plt.show()"
   ]
  },
  {
   "cell_type": "markdown",
   "metadata": {},
   "source": [
    "**Types of releases**"
   ]
  },
  {
   "cell_type": "code",
   "execution_count": 52,
   "metadata": {},
   "outputs": [],
   "source": [
    "def type_of_release(tag):\n",
    "    if \"RC\" in tag:\n",
    "        return \"Release candidate\"\n",
    "    if \"M\" in tag:\n",
    "        return \"Milestone\"\n",
    "    return \"Normal version\""
   ]
  },
  {
   "cell_type": "code",
   "execution_count": 53,
   "metadata": {},
   "outputs": [],
   "source": [
    "tags[\"type_of_release\"] = tags.Tag.apply(type_of_release)"
   ]
  },
  {
   "cell_type": "code",
   "execution_count": 68,
   "metadata": {},
   "outputs": [
    {
     "data": {
      "text/plain": [
       "Normal version       0.483333\n",
       "Release candidate    0.266667\n",
       "Milestone            0.250000\n",
       "Name: type_of_release, dtype: float64"
      ]
     },
     "execution_count": 68,
     "metadata": {},
     "output_type": "execute_result"
    }
   ],
   "source": [
    "tags.type_of_release.value_counts(normalize=True)"
   ]
  },
  {
   "cell_type": "code",
   "execution_count": 55,
   "metadata": {},
   "outputs": [
    {
     "data": {
      "image/png": "[encoded data removed]",
      "text/plain": [
       "<Figure size 1080x360 with 1 Axes>"
      ]
     },
     "metadata": {
      "needs_background": "light"
     },
     "output_type": "display_data"
    }
   ],
   "source": [
    "ax = sns.countplot(x=tags.type_of_release.sort_index())\n",
    "ax.set_xlabel(\"\")\n",
    "ax.set_ylabel(\"Number of tags\")\n",
    "plt.savefig(f\"{figure_folder}/type_of_releases.png\", transparent=True, bbox_inches='tight', pad_inches=0.2)\n",
    "plt.show()"
   ]
  },
  {
   "cell_type": "code",
   "execution_count": 74,
   "metadata": {},
   "outputs": [
    {
     "data": {
      "image/png": "[encoded data removed]",
      "text/plain": [
       "<Figure size 1080x360 with 1 Axes>"
      ]
     },
     "metadata": {
      "needs_background": "light"
     },
     "output_type": "display_data"
    }
   ],
   "source": [
    "ax =sns.countplot(x=\"major_version\", hue=\"type_of_release\", data=tags, order=[\"4\",\"5\",\"6\",\"7\",\"8\"])\n",
    "ax.legend(loc=\"upper right\")\n",
    "ax.set(xlabel=\"Major version\", ylabel=\"Number of tags\")\n",
    "plt.savefig(f\"{figure_folder}/major_type_of_releases.png\", transparent=True, bbox_inches='tight', pad_inches=0.2)\n",
    "plt.show()"
   ]
  },
  {
   "cell_type": "code",
   "execution_count": 71,
   "metadata": {},
   "outputs": [
    {
     "data": {
      "text/html": [
       "<div>\n",
       "<style scoped>\n",
       "    .dataframe tbody tr th:only-of-type {\n",
       "        vertical-align: middle;\n",
       "    }\n",
       "\n",
       "    .dataframe tbody tr th {\n",
       "        vertical-align: top;\n",
       "    }\n",
       "\n",
       "    .dataframe thead th {\n",
       "        text-align: right;\n",
       "    }\n",
       "</style>\n",
       "<table border=\"1\" class=\"dataframe\">\n",
       "  <thead>\n",
       "    <tr style=\"text-align: right;\">\n",
       "      <th></th>\n",
       "      <th>Tag</th>\n",
       "      <th>Sha</th>\n",
       "      <th>Date</th>\n",
       "      <th>Tag_number</th>\n",
       "      <th>month</th>\n",
       "      <th>year</th>\n",
       "      <th>major_version</th>\n",
       "      <th>type_of_release</th>\n",
       "    </tr>\n",
       "  </thead>\n",
       "  <tbody>\n",
       "    <tr>\n",
       "      <th>19</th>\n",
       "      <td>7.0-RC1</td>\n",
       "      <td>b19047de0e815b1c6474770e8bc0fff41daa4d01</td>\n",
       "      <td>2018-01-24 14:36:36</td>\n",
       "      <td>7.0</td>\n",
       "      <td>1</td>\n",
       "      <td>2018</td>\n",
       "      <td>7</td>\n",
       "      <td>Release candidate</td>\n",
       "    </tr>\n",
       "    <tr>\n",
       "      <th>28</th>\n",
       "      <td>6.7-RC1</td>\n",
       "      <td>3f72c27bf24dcecfad0e0901797e6d166532de72</td>\n",
       "      <td>2017-10-27 14:27:52</td>\n",
       "      <td>6.7</td>\n",
       "      <td>10</td>\n",
       "      <td>2017</td>\n",
       "      <td>6</td>\n",
       "      <td>Release candidate</td>\n",
       "    </tr>\n",
       "    <tr>\n",
       "      <th>30</th>\n",
       "      <td>6.6-RC1</td>\n",
       "      <td>868e9ce285262e5277c158ea3c2082c379e81943</td>\n",
       "      <td>2017-10-10 17:03:23</td>\n",
       "      <td>6.6</td>\n",
       "      <td>10</td>\n",
       "      <td>2017</td>\n",
       "      <td>6</td>\n",
       "      <td>Release candidate</td>\n",
       "    </tr>\n",
       "    <tr>\n",
       "      <th>32</th>\n",
       "      <td>6.5-RC2</td>\n",
       "      <td>fa58d92ea7145838c8030fc4611a4bdefe94b5de</td>\n",
       "      <td>2017-07-24 15:42:40</td>\n",
       "      <td>6.5</td>\n",
       "      <td>7</td>\n",
       "      <td>2017</td>\n",
       "      <td>6</td>\n",
       "      <td>Release candidate</td>\n",
       "    </tr>\n",
       "    <tr>\n",
       "      <th>33</th>\n",
       "      <td>6.5-RC1</td>\n",
       "      <td>3861f8769afa40e556c63ff7f39a41f9f89f68fa</td>\n",
       "      <td>2017-07-13 17:11:40</td>\n",
       "      <td>6.5</td>\n",
       "      <td>7</td>\n",
       "      <td>2017</td>\n",
       "      <td>6</td>\n",
       "      <td>Release candidate</td>\n",
       "    </tr>\n",
       "    <tr>\n",
       "      <th>39</th>\n",
       "      <td>6.4-RC3</td>\n",
       "      <td>1f978d91e82d8ddbe49806ee6d32bc93e8f6a42f</td>\n",
       "      <td>2017-05-29 09:55:18</td>\n",
       "      <td>6.4</td>\n",
       "      <td>5</td>\n",
       "      <td>2017</td>\n",
       "      <td>6</td>\n",
       "      <td>Release candidate</td>\n",
       "    </tr>\n",
       "    <tr>\n",
       "      <th>40</th>\n",
       "      <td>6.4-RC2</td>\n",
       "      <td>8e826b1066ffea29958f8c5ac09244baa624dafd</td>\n",
       "      <td>2017-05-22 10:00:44</td>\n",
       "      <td>6.4</td>\n",
       "      <td>5</td>\n",
       "      <td>2017</td>\n",
       "      <td>6</td>\n",
       "      <td>Release candidate</td>\n",
       "    </tr>\n",
       "    <tr>\n",
       "      <th>41</th>\n",
       "      <td>6.4-RC1</td>\n",
       "      <td>04b7bf3ccc22daea116a67e6ba174237805e5ccf</td>\n",
       "      <td>2017-05-16 15:00:32</td>\n",
       "      <td>6.4</td>\n",
       "      <td>5</td>\n",
       "      <td>2017</td>\n",
       "      <td>6</td>\n",
       "      <td>Release candidate</td>\n",
       "    </tr>\n",
       "    <tr>\n",
       "      <th>48</th>\n",
       "      <td>6.3-RC4</td>\n",
       "      <td>e23682d9e420ef59da282322ca9dc6e3fc59d75b</td>\n",
       "      <td>2017-03-04 17:53:45</td>\n",
       "      <td>6.3</td>\n",
       "      <td>3</td>\n",
       "      <td>2017</td>\n",
       "      <td>6</td>\n",
       "      <td>Release candidate</td>\n",
       "    </tr>\n",
       "    <tr>\n",
       "      <th>49</th>\n",
       "      <td>6.3-RC1</td>\n",
       "      <td>534fc279a64c7b836f39d476d15192999944b9eb</td>\n",
       "      <td>2017-02-14 11:06:25</td>\n",
       "      <td>6.3</td>\n",
       "      <td>2</td>\n",
       "      <td>2017</td>\n",
       "      <td>6</td>\n",
       "      <td>Release candidate</td>\n",
       "    </tr>\n",
       "    <tr>\n",
       "      <th>52</th>\n",
       "      <td>6.2-RC3</td>\n",
       "      <td>e52bc616764bb8cdcd53803f77119f19c6dbb2ce</td>\n",
       "      <td>2016-12-09 10:07:17</td>\n",
       "      <td>6.2</td>\n",
       "      <td>12</td>\n",
       "      <td>2016</td>\n",
       "      <td>6</td>\n",
       "      <td>Release candidate</td>\n",
       "    </tr>\n",
       "    <tr>\n",
       "      <th>53</th>\n",
       "      <td>6.2-RC2</td>\n",
       "      <td>b7608b6a0818d0b4372681d3cd224a930eb80410</td>\n",
       "      <td>2016-12-02 07:39:58</td>\n",
       "      <td>6.2</td>\n",
       "      <td>12</td>\n",
       "      <td>2016</td>\n",
       "      <td>6</td>\n",
       "      <td>Release candidate</td>\n",
       "    </tr>\n",
       "    <tr>\n",
       "      <th>54</th>\n",
       "      <td>6.2-RC1</td>\n",
       "      <td>e50f57556a830a9d0d527f68e6c106192acaa4b9</td>\n",
       "      <td>2016-11-21 11:08:08</td>\n",
       "      <td>6.2</td>\n",
       "      <td>11</td>\n",
       "      <td>2016</td>\n",
       "      <td>6</td>\n",
       "      <td>Release candidate</td>\n",
       "    </tr>\n",
       "    <tr>\n",
       "      <th>57</th>\n",
       "      <td>6.1-RC2</td>\n",
       "      <td>879e50736fb84d12259e23bd8ea0d2293dc43046</td>\n",
       "      <td>2016-10-03 07:39:32</td>\n",
       "      <td>6.1</td>\n",
       "      <td>10</td>\n",
       "      <td>2016</td>\n",
       "      <td>6</td>\n",
       "      <td>Release candidate</td>\n",
       "    </tr>\n",
       "    <tr>\n",
       "      <th>58</th>\n",
       "      <td>6.1-RC1</td>\n",
       "      <td>12e24a98549f51fc560d782a9d93164021feaccc</td>\n",
       "      <td>2016-09-19 14:58:22</td>\n",
       "      <td>6.1</td>\n",
       "      <td>9</td>\n",
       "      <td>2016</td>\n",
       "      <td>6</td>\n",
       "      <td>Release candidate</td>\n",
       "    </tr>\n",
       "    <tr>\n",
       "      <th>60</th>\n",
       "      <td>6.0-RC2</td>\n",
       "      <td>f6e1edf894578320cfad5ef62e9820a10026238a</td>\n",
       "      <td>2016-07-29 08:11:06</td>\n",
       "      <td>6.0</td>\n",
       "      <td>7</td>\n",
       "      <td>2016</td>\n",
       "      <td>6</td>\n",
       "      <td>Release candidate</td>\n",
       "    </tr>\n",
       "    <tr>\n",
       "      <th>61</th>\n",
       "      <td>6.0-RC1</td>\n",
       "      <td>41affbb82c5e897eea64f77538ce4b20322ba61c</td>\n",
       "      <td>2016-07-20 08:30:19</td>\n",
       "      <td>6.0</td>\n",
       "      <td>7</td>\n",
       "      <td>2016</td>\n",
       "      <td>6</td>\n",
       "      <td>Release candidate</td>\n",
       "    </tr>\n",
       "    <tr>\n",
       "      <th>70</th>\n",
       "      <td>5.6-RC2</td>\n",
       "      <td>ad239bd651c1ccd555c4f84111416bb0b2aefe0b</td>\n",
       "      <td>2016-05-27 15:14:46</td>\n",
       "      <td>5.6</td>\n",
       "      <td>5</td>\n",
       "      <td>2016</td>\n",
       "      <td>5</td>\n",
       "      <td>Release candidate</td>\n",
       "    </tr>\n",
       "    <tr>\n",
       "      <th>71</th>\n",
       "      <td>5.6-RC1</td>\n",
       "      <td>a28bb3e5d6988747f1bcd7896be07a6afe56914f</td>\n",
       "      <td>2016-05-20 11:21:25</td>\n",
       "      <td>5.6</td>\n",
       "      <td>5</td>\n",
       "      <td>2016</td>\n",
       "      <td>5</td>\n",
       "      <td>Release candidate</td>\n",
       "    </tr>\n",
       "    <tr>\n",
       "      <th>73</th>\n",
       "      <td>5.5-RC2</td>\n",
       "      <td>23454578ad135cd6d2280d04198a4d5eacf20979</td>\n",
       "      <td>2016-04-28 06:45:25</td>\n",
       "      <td>5.5</td>\n",
       "      <td>4</td>\n",
       "      <td>2016</td>\n",
       "      <td>5</td>\n",
       "      <td>Release candidate</td>\n",
       "    </tr>\n",
       "    <tr>\n",
       "      <th>74</th>\n",
       "      <td>5.5-RC1</td>\n",
       "      <td>4c34f8c245f13967643c7ec5cd24d0d06903c44f</td>\n",
       "      <td>2016-04-07 13:38:57</td>\n",
       "      <td>5.5</td>\n",
       "      <td>4</td>\n",
       "      <td>2016</td>\n",
       "      <td>5</td>\n",
       "      <td>Release candidate</td>\n",
       "    </tr>\n",
       "    <tr>\n",
       "      <th>88</th>\n",
       "      <td>5.4-RC4</td>\n",
       "      <td>ca9cfe39623b1ae2fdab458348f1b92838b7f151</td>\n",
       "      <td>2016-03-04 16:25:47</td>\n",
       "      <td>5.4</td>\n",
       "      <td>3</td>\n",
       "      <td>2016</td>\n",
       "      <td>5</td>\n",
       "      <td>Release candidate</td>\n",
       "    </tr>\n",
       "    <tr>\n",
       "      <th>89</th>\n",
       "      <td>5.4-RC3</td>\n",
       "      <td>19310ef05676362f6b88be6d1edc22a12af372b4</td>\n",
       "      <td>2016-03-01 09:36:10</td>\n",
       "      <td>5.4</td>\n",
       "      <td>3</td>\n",
       "      <td>2016</td>\n",
       "      <td>5</td>\n",
       "      <td>Release candidate</td>\n",
       "    </tr>\n",
       "    <tr>\n",
       "      <th>90</th>\n",
       "      <td>5.4-RC2</td>\n",
       "      <td>e8f951d9f2a99975e31f82d97fce68f47e9242d3</td>\n",
       "      <td>2016-02-15 15:38:37</td>\n",
       "      <td>5.4</td>\n",
       "      <td>2</td>\n",
       "      <td>2016</td>\n",
       "      <td>5</td>\n",
       "      <td>Release candidate</td>\n",
       "    </tr>\n",
       "    <tr>\n",
       "      <th>91</th>\n",
       "      <td>5.4-RC1</td>\n",
       "      <td>6bb02b28a33282bda2b9ed6bc995a4aee68ff172</td>\n",
       "      <td>2016-02-09 11:54:50</td>\n",
       "      <td>5.4</td>\n",
       "      <td>2</td>\n",
       "      <td>2016</td>\n",
       "      <td>5</td>\n",
       "      <td>Release candidate</td>\n",
       "    </tr>\n",
       "    <tr>\n",
       "      <th>107</th>\n",
       "      <td>5.3-RC3</td>\n",
       "      <td>e735681d1b11ff0e90c254a3b5302e290ffa05a6</td>\n",
       "      <td>2016-01-07 13:18:48</td>\n",
       "      <td>5.3</td>\n",
       "      <td>1</td>\n",
       "      <td>2016</td>\n",
       "      <td>5</td>\n",
       "      <td>Release candidate</td>\n",
       "    </tr>\n",
       "    <tr>\n",
       "      <th>108</th>\n",
       "      <td>5.3-RC2</td>\n",
       "      <td>29a84111f6cc9298f83df515830ff40a41d0976c</td>\n",
       "      <td>2015-12-17 16:02:01</td>\n",
       "      <td>5.3</td>\n",
       "      <td>12</td>\n",
       "      <td>2015</td>\n",
       "      <td>5</td>\n",
       "      <td>Release candidate</td>\n",
       "    </tr>\n",
       "    <tr>\n",
       "      <th>109</th>\n",
       "      <td>5.3-RC1</td>\n",
       "      <td>c979578645aaf77c447b250136db32a7067619a1</td>\n",
       "      <td>2015-12-09 12:47:34</td>\n",
       "      <td>5.3</td>\n",
       "      <td>12</td>\n",
       "      <td>2015</td>\n",
       "      <td>5</td>\n",
       "      <td>Release candidate</td>\n",
       "    </tr>\n",
       "    <tr>\n",
       "      <th>111</th>\n",
       "      <td>5.2-RC3</td>\n",
       "      <td>ef358b002383f918448dcb5e8ac40b64a35a4c26</td>\n",
       "      <td>2015-10-20 13:47:33</td>\n",
       "      <td>5.2</td>\n",
       "      <td>10</td>\n",
       "      <td>2015</td>\n",
       "      <td>5</td>\n",
       "      <td>Release candidate</td>\n",
       "    </tr>\n",
       "    <tr>\n",
       "      <th>112</th>\n",
       "      <td>5.2-RC2</td>\n",
       "      <td>3d2b3bbd084ccf75d1921382315d3ac3037ed3bc</td>\n",
       "      <td>2015-10-13 10:06:23</td>\n",
       "      <td>5.2</td>\n",
       "      <td>10</td>\n",
       "      <td>2015</td>\n",
       "      <td>5</td>\n",
       "      <td>Release candidate</td>\n",
       "    </tr>\n",
       "    <tr>\n",
       "      <th>113</th>\n",
       "      <td>5.2-RC1</td>\n",
       "      <td>d5dd7720eb79dc0cae1a1b38f83e757a031f8ca9</td>\n",
       "      <td>2015-10-12 15:58:42</td>\n",
       "      <td>5.2</td>\n",
       "      <td>10</td>\n",
       "      <td>2015</td>\n",
       "      <td>5</td>\n",
       "      <td>Release candidate</td>\n",
       "    </tr>\n",
       "    <tr>\n",
       "      <th>117</th>\n",
       "      <td>5.1-RC2</td>\n",
       "      <td>dfc9f94b72103ee941cc11da6529623fa91df509</td>\n",
       "      <td>2015-03-23 15:22:47</td>\n",
       "      <td>5.1</td>\n",
       "      <td>3</td>\n",
       "      <td>2015</td>\n",
       "      <td>5</td>\n",
       "      <td>Release candidate</td>\n",
       "    </tr>\n",
       "  </tbody>\n",
       "</table>\n",
       "</div>"
      ],
      "text/plain": [
       "         Tag                                       Sha                Date  \\\n",
       "19   7.0-RC1  b19047de0e815b1c6474770e8bc0fff41daa4d01 2018-01-24 14:36:36   \n",
       "28   6.7-RC1  3f72c27bf24dcecfad0e0901797e6d166532de72 2017-10-27 14:27:52   \n",
       "30   6.6-RC1  868e9ce285262e5277c158ea3c2082c379e81943 2017-10-10 17:03:23   \n",
       "32   6.5-RC2  fa58d92ea7145838c8030fc4611a4bdefe94b5de 2017-07-24 15:42:40   \n",
       "33   6.5-RC1  3861f8769afa40e556c63ff7f39a41f9f89f68fa 2017-07-13 17:11:40   \n",
       "39   6.4-RC3  1f978d91e82d8ddbe49806ee6d32bc93e8f6a42f 2017-05-29 09:55:18   \n",
       "40   6.4-RC2  8e826b1066ffea29958f8c5ac09244baa624dafd 2017-05-22 10:00:44   \n",
       "41   6.4-RC1  04b7bf3ccc22daea116a67e6ba174237805e5ccf 2017-05-16 15:00:32   \n",
       "48   6.3-RC4  e23682d9e420ef59da282322ca9dc6e3fc59d75b 2017-03-04 17:53:45   \n",
       "49   6.3-RC1  534fc279a64c7b836f39d476d15192999944b9eb 2017-02-14 11:06:25   \n",
       "52   6.2-RC3  e52bc616764bb8cdcd53803f77119f19c6dbb2ce 2016-12-09 10:07:17   \n",
       "53   6.2-RC2  b7608b6a0818d0b4372681d3cd224a930eb80410 2016-12-02 07:39:58   \n",
       "54   6.2-RC1  e50f57556a830a9d0d527f68e6c106192acaa4b9 2016-11-21 11:08:08   \n",
       "57   6.1-RC2  879e50736fb84d12259e23bd8ea0d2293dc43046 2016-10-03 07:39:32   \n",
       "58   6.1-RC1  12e24a98549f51fc560d782a9d93164021feaccc 2016-09-19 14:58:22   \n",
       "60   6.0-RC2  f6e1edf894578320cfad5ef62e9820a10026238a 2016-07-29 08:11:06   \n",
       "61   6.0-RC1  41affbb82c5e897eea64f77538ce4b20322ba61c 2016-07-20 08:30:19   \n",
       "70   5.6-RC2  ad239bd651c1ccd555c4f84111416bb0b2aefe0b 2016-05-27 15:14:46   \n",
       "71   5.6-RC1  a28bb3e5d6988747f1bcd7896be07a6afe56914f 2016-05-20 11:21:25   \n",
       "73   5.5-RC2  23454578ad135cd6d2280d04198a4d5eacf20979 2016-04-28 06:45:25   \n",
       "74   5.5-RC1  4c34f8c245f13967643c7ec5cd24d0d06903c44f 2016-04-07 13:38:57   \n",
       "88   5.4-RC4  ca9cfe39623b1ae2fdab458348f1b92838b7f151 2016-03-04 16:25:47   \n",
       "89   5.4-RC3  19310ef05676362f6b88be6d1edc22a12af372b4 2016-03-01 09:36:10   \n",
       "90   5.4-RC2  e8f951d9f2a99975e31f82d97fce68f47e9242d3 2016-02-15 15:38:37   \n",
       "91   5.4-RC1  6bb02b28a33282bda2b9ed6bc995a4aee68ff172 2016-02-09 11:54:50   \n",
       "107  5.3-RC3  e735681d1b11ff0e90c254a3b5302e290ffa05a6 2016-01-07 13:18:48   \n",
       "108  5.3-RC2  29a84111f6cc9298f83df515830ff40a41d0976c 2015-12-17 16:02:01   \n",
       "109  5.3-RC1  c979578645aaf77c447b250136db32a7067619a1 2015-12-09 12:47:34   \n",
       "111  5.2-RC3  ef358b002383f918448dcb5e8ac40b64a35a4c26 2015-10-20 13:47:33   \n",
       "112  5.2-RC2  3d2b3bbd084ccf75d1921382315d3ac3037ed3bc 2015-10-13 10:06:23   \n",
       "113  5.2-RC1  d5dd7720eb79dc0cae1a1b38f83e757a031f8ca9 2015-10-12 15:58:42   \n",
       "117  5.1-RC2  dfc9f94b72103ee941cc11da6529623fa91df509 2015-03-23 15:22:47   \n",
       "\n",
       "    Tag_number  month  year major_version    type_of_release  \n",
       "19         7.0      1  2018             7  Release candidate  \n",
       "28         6.7     10  2017             6  Release candidate  \n",
       "30         6.6     10  2017             6  Release candidate  \n",
       "32         6.5      7  2017             6  Release candidate  \n",
       "33         6.5      7  2017             6  Release candidate  \n",
       "39         6.4      5  2017             6  Release candidate  \n",
       "40         6.4      5  2017             6  Release candidate  \n",
       "41         6.4      5  2017             6  Release candidate  \n",
       "48         6.3      3  2017             6  Release candidate  \n",
       "49         6.3      2  2017             6  Release candidate  \n",
       "52         6.2     12  2016             6  Release candidate  \n",
       "53         6.2     12  2016             6  Release candidate  \n",
       "54         6.2     11  2016             6  Release candidate  \n",
       "57         6.1     10  2016             6  Release candidate  \n",
       "58         6.1      9  2016             6  Release candidate  \n",
       "60         6.0      7  2016             6  Release candidate  \n",
       "61         6.0      7  2016             6  Release candidate  \n",
       "70         5.6      5  2016             5  Release candidate  \n",
       "71         5.6      5  2016             5  Release candidate  \n",
       "73         5.5      4  2016             5  Release candidate  \n",
       "74         5.5      4  2016             5  Release candidate  \n",
       "88         5.4      3  2016             5  Release candidate  \n",
       "89         5.4      3  2016             5  Release candidate  \n",
       "90         5.4      2  2016             5  Release candidate  \n",
       "91         5.4      2  2016             5  Release candidate  \n",
       "107        5.3      1  2016             5  Release candidate  \n",
       "108        5.3     12  2015             5  Release candidate  \n",
       "109        5.3     12  2015             5  Release candidate  \n",
       "111        5.2     10  2015             5  Release candidate  \n",
       "112        5.2     10  2015             5  Release candidate  \n",
       "113        5.2     10  2015             5  Release candidate  \n",
       "117        5.1      3  2015             5  Release candidate  "
      ]
     },
     "execution_count": 71,
     "metadata": {},
     "output_type": "execute_result"
    }
   ],
   "source": [
    "tags[tags.type_of_release==\"Release candidate\"]"
   ]
  },
  {
   "cell_type": "markdown",
   "metadata": {},
   "source": [
    "### Import tag comparison pairs"
   ]
  },
  {
   "cell_type": "code",
   "execution_count": null,
   "metadata": {},
   "outputs": [],
   "source": [
    "tags_comparison = pd.read_csv(f\"{csv_folder}/tags_comparison_final.csv\", index_col=0)\n",
    "tags_comparison.from_commit_date = pd.to_datetime(tags_comparison.from_commit_date)\n",
    "tags_comparison.to_commit_date = pd.to_datetime(tags_comparison.to_commit_date)\n",
    "tags_comparison.from_author_date = pd.to_datetime(tags_comparison.from_author_date)\n",
    "tags_comparison.to_author_date = pd.to_datetime(tags_comparison.to_author_date)\n",
    "tags_comparison.head()"
   ]
  },
  {
   "cell_type": "markdown",
   "metadata": {},
   "source": [
    "### Statistical summary"
   ]
  },
  {
   "cell_type": "code",
   "execution_count": null,
   "metadata": {},
   "outputs": [],
   "source": [
    "tags_comparison.describe()"
   ]
  },
  {
   "cell_type": "markdown",
   "metadata": {},
   "source": [
    "**Distribution of time difference in days between tag pairs**"
   ]
  },
  {
   "cell_type": "code",
   "execution_count": null,
   "metadata": {},
   "outputs": [],
   "source": [
    "tags_comparison.diff_commit_days.describe()"
   ]
  },
  {
   "cell_type": "code",
   "execution_count": null,
   "metadata": {},
   "outputs": [],
   "source": [
    "sns.boxplot(x=tags_comparison.diff_commit_days)"
   ]
  },
  {
   "cell_type": "markdown",
   "metadata": {},
   "source": [
    "**Do pairs with negative days difference have a behind_by == 1 situation?**"
   ]
  },
  {
   "cell_type": "code",
   "execution_count": null,
   "metadata": {},
   "outputs": [],
   "source": [
    "tags_comparison[tags_comparison.diff_commit_days < 0]"
   ]
  },
  {
   "cell_type": "markdown",
   "metadata": {},
   "source": [
    "Yes, this is the reason for the negative difference in days"
   ]
  },
  {
   "cell_type": "markdown",
   "metadata": {},
   "source": [
    "**Pairs below the median**"
   ]
  },
  {
   "cell_type": "code",
   "execution_count": null,
   "metadata": {},
   "outputs": [],
   "source": [
    "len(tags_comparison[tags_comparison.diff_commit_days > tags_comparison.diff_commit_days.median()])"
   ]
  },
  {
   "cell_type": "markdown",
   "metadata": {},
   "source": [
    "These could possibly be the versions with no bugs/issues reported"
   ]
  },
  {
   "cell_type": "markdown",
   "metadata": {},
   "source": [
    "**Pais with smallest difference in days**"
   ]
  },
  {
   "cell_type": "code",
   "execution_count": null,
   "metadata": {},
   "outputs": [],
   "source": [
    "tags_comparison.loc[tags_comparison.diff_commit_days.idxmin()]"
   ]
  },
  {
   "cell_type": "markdown",
   "metadata": {},
   "source": [
    "**Difference in days: pairs outliers**"
   ]
  },
  {
   "cell_type": "code",
   "execution_count": null,
   "metadata": {},
   "outputs": [],
   "source": [
    "tags_comparison[tags_comparison.diff_commit_days > 100]"
   ]
  },
  {
   "cell_type": "markdown",
   "metadata": {},
   "source": [
    "**Investigate the maximum difference in days value**"
   ]
  },
  {
   "cell_type": "code",
   "execution_count": null,
   "metadata": {},
   "outputs": [],
   "source": [
    "tags_comparison.loc[tags_comparison.diff_commit_days.idxmax()].to_frame()"
   ]
  },
  {
   "cell_type": "code",
   "execution_count": null,
   "metadata": {},
   "outputs": [],
   "source": [
    "compare_tags[compare_tags.to_tag==\"7.5\"]"
   ]
  },
  {
   "cell_type": "markdown",
   "metadata": {},
   "source": [
    "We confirm that this is the best pairing. There seem to miss versions between 7.0 and 7.5 but they are not present on GitHub"
   ]
  },
  {
   "cell_type": "markdown",
   "metadata": {},
   "source": [
    "### Ahead by distribution"
   ]
  },
  {
   "cell_type": "code",
   "execution_count": null,
   "metadata": {},
   "outputs": [],
   "source": [
    "sns.boxplot(x=tags_comparison.ahead_by)"
   ]
  },
  {
   "cell_type": "code",
   "execution_count": null,
   "metadata": {},
   "outputs": [],
   "source": [
    "tags_comparison"
   ]
  },
  {
   "cell_type": "markdown",
   "metadata": {},
   "source": [
    "**Let's investigate the outliers**"
   ]
  },
  {
   "cell_type": "code",
   "execution_count": null,
   "metadata": {},
   "outputs": [],
   "source": [
    "tags_comparison[tags_comparison.ahead_by > 200][[\"from_tag\", \"to_tag\", \"ahead_by\"]]"
   ]
  },
  {
   "cell_type": "markdown",
   "metadata": {},
   "source": [
    "**Investigate the pairs with smallest ahead_by**"
   ]
  },
  {
   "cell_type": "code",
   "execution_count": null,
   "metadata": {},
   "outputs": [],
   "source": [
    "tags_comparison.sort_values(by=\"ahead_by\").head(5)[[\"from_tag\", \"to_tag\", \"ahead_by\"]]"
   ]
  },
  {
   "cell_type": "markdown",
   "metadata": {},
   "source": [
    "**Investigate minumum ahead_by**"
   ]
  },
  {
   "cell_type": "code",
   "execution_count": null,
   "metadata": {},
   "outputs": [],
   "source": [
    "tags_comparison.loc[tags_comparison.ahead_by.idxmin()].to_frame()"
   ]
  },
  {
   "cell_type": "markdown",
   "metadata": {},
   "source": [
    "We would expect 6.5-M3 to be paired with 6.5-M2 if it exists. Let's see how 6.5-M3 performed when compared with the other tags."
   ]
  },
  {
   "cell_type": "code",
   "execution_count": null,
   "metadata": {},
   "outputs": [],
   "source": [
    "compare_tags[(compare_tags.ahead_by>0)&(compare_tags.behind_by<2)]\\\n",
    "[compare_tags.to_tag==\"6.5-M3\"].sort_values(by=\"ahead_by\").head(5)"
   ]
  },
  {
   "cell_type": "markdown",
   "metadata": {},
   "source": [
    "6.5-M2 is in the list and is a fast-forward of only 67 commits. However, 6.5-M3 seems more similar to 6.5-RC1. Let's see if 6.5-M2 has been used as \"from_tag\" and with which tag."
   ]
  },
  {
   "cell_type": "code",
   "execution_count": null,
   "metadata": {},
   "outputs": [],
   "source": [
    "tags_comparison[tags_comparison.from_tag==\"6.5-M2\"]"
   ]
  },
  {
   "cell_type": "markdown",
   "metadata": {},
   "source": [
    "It has been correclty paired with 6.5-RC1."
   ]
  },
  {
   "cell_type": "markdown",
   "metadata": {},
   "source": [
    "**Investigate maximum ahead_by**"
   ]
  },
  {
   "cell_type": "code",
   "execution_count": null,
   "metadata": {
    "scrolled": true
   },
   "outputs": [],
   "source": [
    "tags_comparison.loc[tags_comparison.ahead_by.idxmax()].to_frame()"
   ]
  },
  {
   "cell_type": "markdown",
   "metadata": {},
   "source": [
    "**Number of ahead commits distribution over time**"
   ]
  },
  {
   "cell_type": "code",
   "execution_count": null,
   "metadata": {},
   "outputs": [],
   "source": [
    "tags_comparison[\"to_commit_date_month\"] = tags_comparison.to_commit_date.dt.month\n",
    "tags_comparison[\"to_commit_date_year\"] = tags_comparison.to_commit_date.dt.year\n",
    "\n",
    "data = tags_comparison.groupby([\"to_commit_date_year\",\"to_commit_date_month\"]).ahead_by.mean().reset_index()\n",
    "ax = sns.barplot(y = data.ahead_by, x= data.apply(lambda row: f\"{str(int(row.to_commit_date_month))}/{str(int(row.to_commit_date_year))}\", axis=1))\n",
    "ax.tick_params(axis='x', labelrotation= 60)"
   ]
  },
  {
   "cell_type": "code",
   "execution_count": null,
   "metadata": {},
   "outputs": [],
   "source": [
    "data = tags_comparison.groupby([\"to_commit_date_year\"]).ahead_by.mean().reset_index()\n",
    "sns.barplot(y=data.ahead_by, x=data.to_commit_date_year)"
   ]
  },
  {
   "cell_type": "markdown",
   "metadata": {},
   "source": [
    "* The difference in days between 2 tags is negative: we should not worry about this. Some tags have been compared with one behind of it of at most 1 commit. The negative difference is be due to this extra commit.\n",
    "* Tag 7.5 has a 320 days difference with its tag comparison (7.0). We double checked on GitHub and there are no versions between 7.0 and 7.5 and our comparisons with other tags confirm that 7.0 is the most similar to 7.5\n",
    "* All the outliers in number of ahead_commits are changes to at least minor version in some cases major."
   ]
  },
  {
   "cell_type": "markdown",
   "metadata": {},
   "source": [
    "### Versions on Jira"
   ]
  },
  {
   "cell_type": "code",
   "execution_count": null,
   "metadata": {},
   "outputs": [],
   "source": [
    "map_versions = {\"8.5.0.37579\": \"8.5\",\n",
    "               \"8.4.0.35506\": \"8.4\",\n",
    "               \"8.3.0.34182\": \"8.3\",\n",
    "               \"8.3.1.34397\": \"8.3.1\",\n",
    "               \"8.2.0.32929\": \"8.2\",\n",
    "               \"8.1.0.31237\": \"8.1\",\n",
    "               \"8.4.2.36762\": \"8.4.2\",\n",
    "               \"8.4.1.35646\": \"8.4.1\",\n",
    "                 '6.3.0.18401':\"6.3\",\n",
    "                 '6.3.0.18587':\"6.3\",\n",
    "                 '6.3.0.18800':\"6.3\"}"
   ]
  },
  {
   "cell_type": "code",
   "execution_count": null,
   "metadata": {},
   "outputs": [],
   "source": [
    "def replace_versions(tag):\n",
    "    if(tag in map_versions):\n",
    "        return map_versions[tag]\n",
    "    return tag"
   ]
  },
  {
   "cell_type": "code",
   "execution_count": null,
   "metadata": {},
   "outputs": [],
   "source": [
    "jira_versions = ['4.5', '4.5.1', '4.5.2', '4.5.4', '4.5.5', '4.5.6', '4.5.7', '5.0',\n",
    "       '5.0.1', '5.1', '5.1.1', '5.1.2', '5.2', '5.3', '5.4', '5.5',\n",
    "       '5.6', '5.6.1', '5.6.2', '5.6.3', '5.6.4', '5.6.5', '5.6.6',\n",
    "       '5.6.7', '6.0', '6.1', '6.1.1', '6.2', '6.3', '6.3.1', '6.3.2',\n",
    "       '6.4', '6.5', '6.5-M1', '6.6', '6.6-M1', '6.7', '6.7.1', '6.7.2',\n",
    "       '6.7.3', '6.7.4', '6.7.5', '6.7.6', '6.7.7', '7.0', '7.1', '7.2',\n",
    "       '7.2.1', '7.3', '7.4', '7.5', '7.6', '7.7', '7.8', '7.9', '7.9.1',\n",
    "       '7.9.2', '7.9.3', '7.9.4', '8.0', '8.1', '8.2', '8.3', '8.3.1',\n",
    "       '8.4', '8.4.1', '8.4.2']"
   ]
  },
  {
   "cell_type": "markdown",
   "metadata": {},
   "source": [
    "**Github tags not present on Jira**"
   ]
  },
  {
   "cell_type": "code",
   "execution_count": null,
   "metadata": {},
   "outputs": [],
   "source": [
    "github_no_jira = pd.Series(list(set(tags.Tag.apply(replace_versions)).difference(set(jira_versions))))"
   ]
  },
  {
   "cell_type": "code",
   "execution_count": null,
   "metadata": {},
   "outputs": [],
   "source": [
    "def type_of_version(tag):\n",
    "    if \"M\" in tag:\n",
    "        return \"Milestone\"\n",
    "    if \"RC\" in tag:\n",
    "        return \"Release candidates\"\n",
    "    return \"Normal semantic version\""
   ]
  },
  {
   "cell_type": "code",
   "execution_count": null,
   "metadata": {},
   "outputs": [],
   "source": [
    "github_no_jira.apply(type_of_version).value_counts(normalize=True)"
   ]
  },
  {
   "cell_type": "code",
   "execution_count": null,
   "metadata": {},
   "outputs": [],
   "source": [
    "sns.countplot(x=github_no_jira.apply(type_of_version))"
   ]
  },
  {
   "cell_type": "markdown",
   "metadata": {},
   "source": [
    "**Investigate the only semantic version**"
   ]
  },
  {
   "cell_type": "code",
   "execution_count": null,
   "metadata": {},
   "outputs": [],
   "source": [
    "tags_comparison[(tags_comparison.from_tag==\"6.2.1\") | (tags_comparison.to_tag==\"6.2.1\")]"
   ]
  },
  {
   "cell_type": "code",
   "execution_count": null,
   "metadata": {},
   "outputs": [],
   "source": [
    "sns.boxplot(x=tags_comparison[tags_comparison.to_tag.isin(github_no_jira.values)].ahead_by)"
   ]
  },
  {
   "cell_type": "code",
   "execution_count": null,
   "metadata": {},
   "outputs": [],
   "source": [
    "sns.boxplot(x=tags_comparison[tags_comparison.from_tag.isin(github_no_jira.values)].ahead_by)"
   ]
  },
  {
   "cell_type": "code",
   "execution_count": null,
   "metadata": {},
   "outputs": [],
   "source": [
    "tags_comparison[tags_comparison.from_tag.isin(github_no_jira.values)]"
   ]
  },
  {
   "cell_type": "markdown",
   "metadata": {},
   "source": [
    "**Jira affected versions not present in Github tags**"
   ]
  },
  {
   "cell_type": "code",
   "execution_count": null,
   "metadata": {},
   "outputs": [],
   "source": [
    "jira_no_github = set(set(jira_versions)).difference(tags.Tag.apply(replace_versions))"
   ]
  },
  {
   "cell_type": "code",
   "execution_count": null,
   "metadata": {},
   "outputs": [],
   "source": [
    "jira_no_github"
   ]
  },
  {
   "cell_type": "code",
   "execution_count": null,
   "metadata": {},
   "outputs": [],
   "source": [
    "alltags"
   ]
  },
  {
   "cell_type": "code",
   "execution_count": null,
   "metadata": {},
   "outputs": [],
   "source": [
    "before_travis_versions = ['4.5',\n",
    " '4.5.1',\n",
    " '4.5.2',\n",
    " '4.5.4',\n",
    " '5.0',\n",
    " '5.0.1']"
   ]
  },
  {
   "cell_type": "markdown",
   "metadata": {},
   "source": [
    "**Intersection of versions**"
   ]
  },
  {
   "cell_type": "code",
   "execution_count": null,
   "metadata": {
    "scrolled": true
   },
   "outputs": [],
   "source": [
    "pd.Series(list(set(tags.Tag.apply(replace_versions)).intersection(set(jira_versions))))"
   ]
  },
  {
   "cell_type": "markdown",
   "metadata": {},
   "source": [
    "### Retrieving missing versions commits"
   ]
  },
  {
   "cell_type": "markdown",
   "metadata": {},
   "source": [
    "Versions retrived by inspecting commit history on the file containing the sw version: gradle.properties"
   ]
  },
  {
   "cell_type": "code",
   "execution_count": null,
   "metadata": {},
   "outputs": [],
   "source": [
    "missing_vers = {\n",
    "\"7.0\": \"3b827a9a9a4b133c9fbe168aec8db44d78efeaeb\",\n",
    "\"7.1\": \"ecdde3879059a41f229782061bdad49677dd63f8\",\n",
    "\"7.2\": \"d7828ea4d821aaceedd431004c83a196cea8b38a\",\n",
    " \"7.3\": \"87c1e3d93bf8a583932c11d4e1b740e91f80ffa0\",\n",
    "\"7.4\": \"86937350807da2beb38dcd4216eafea0009fb99f\",\n",
    "\"7.5\": \"cb851ba202973bd468e070572c1e3b0b0437d2f4\"}\n",
    "\n",
    "pairs = {\n",
    "    \"7.0\": \"7.1\",\n",
    "    \"7.1\": \"7.2\",\n",
    "    \"7.2\": \"7.3\",\n",
    "    \"7.3\": \"7.4\",\n",
    "    \"7.4\": \"7.5\"\n",
    "}"
   ]
  },
  {
   "cell_type": "code",
   "execution_count": null,
   "metadata": {},
   "outputs": [],
   "source": [
    "for pair in pairs:\n",
    "    print(git.rev_list(\"--left-right\", \"--count\", f\"{missing_vers[pair]}...{missing_vers[pairs[pair]]}\"))"
   ]
  },
  {
   "cell_type": "code",
   "execution_count": null,
   "metadata": {},
   "outputs": [],
   "source": [
    "new_versions = [(\"7.1\",\"ecdde3879059a41f229782061bdad49677dd63f8\",\"2018-03-23 20:20:52\",\"7.1\",3,2018,7),\n",
    "(\"7.2\", \"d7828ea4d821aaceedd431004c83a196cea8b38a\",\"2018-06-13 20:20:50\",\"7.2\",6,2018,7),\n",
    " (\"7.3\", \"87c1e3d93bf8a583932c11d4e1b740e91f80ffa0\",\"2018-07-20 20:21:18\",\"7.3\",7,2018,7),\n",
    "(\"7.4\", \"86937350807da2beb38dcd4216eafea0009fb99f\",\"2018-08-03 20:21:25\",\"7.4\",8,2018,7)]\n",
    "\n",
    "df = pd.DataFrame(new_versions, columns=tags.columns)\n",
    "tags_updated = tags.append(df).sort_values(by=\"Tag\")\n",
    "#tags_updated = pd.read_csv(f\"{csv_folder}/tags_updated.csv\", index_col=0)\n",
    "tags_updated.Date = pd.to_datetime(tags_updated.Date)\n",
    "tags_updated"
   ]
  },
  {
   "cell_type": "markdown",
   "metadata": {},
   "source": [
    "### Add actual release dates"
   ]
  },
  {
   "cell_type": "code",
   "execution_count": null,
   "metadata": {},
   "outputs": [],
   "source": [
    "release_dates = {'4.5.6':None,\n",
    " '4.5.7':None,\n",
    " '5.1': \"2015-04-23\",\n",
    " '5.1.1': \"\",\n",
    " '5.1.2':None,\n",
    " '5.2': \"2015-11-26\",\n",
    " '5.3':\"2016-01-28\",\n",
    " '5.4':\"2016-04-01\",\n",
    " '5.5':\"2016-05-19\",\n",
    " '5.6':\"2016-06-08\",\n",
    " '5.6.1':None,\n",
    " '5.6.2':None,\n",
    " '5.6.3':None,\n",
    " '5.6.4':None,\n",
    " '5.6.5':None,\n",
    " '5.6.6':None,\n",
    " '5.6.7':None,\n",
    " '6.0':\"2016-08-16\",\n",
    " '6.1':\"2016-10-25\",\n",
    " '6.1.1':None,\n",
    " '6.2':\"2017-01-05\",\n",
    " '6.3':\"2017-04-12\",\n",
    " '6.3.1':None,\n",
    " '6.3.2':None,\n",
    " '6.4':\"2017-06-29\",\n",
    " '6.5':\"2017-08-10\",\n",
    " '6.5-M1':None,\n",
    " '6.6':\"2017-10-20\",\n",
    " '6.7':\"2017-11-08\",\n",
    " '6.7.1':None,\n",
    " '6.7.2':None,\n",
    " '6.7.3':None,\n",
    " '6.7.4':None,\n",
    " '6.7.5':None,\n",
    " '6.7.6':None,\n",
    " '6.7.7':None,\n",
    " '7.0':\"2019-07-01\",\n",
    " '7.1':\"2019-07-01\",\n",
    " '7.2':\"2018-06-18\",\n",
    " '7.3':\"2018-08-13\",\n",
    " '7.4':\"2018-10-29\",\n",
    " '7.5':\"2018-12-20\",\n",
    " '7.6':\"2019-01-28\",\n",
    " '7.7':\"2019-03-20\",\n",
    " '7.8':\"2019-06-19\",\n",
    " '7.9':\"2019-07-01\",\n",
    " '7.9.1':None,\n",
    " '7.9.2':None,\n",
    " '7.9.3':None,\n",
    " '7.9.4':None,\n",
    " '8.0':\"2019-10-16\",\n",
    " '8.1':\"2019-12-16\",\n",
    " '8.2':\"2020-02-26\",\n",
    " '8.3':\"2020-04-30\",\n",
    " '8.3.1':None,\n",
    " '8.4':\"2020-07-07 00:00:00\",\n",
    " '8.4.1':None,\n",
    " '8.4.2':None}\n",
    "#Taken from https://blog.sonarsource.com/search?q=5.2%20in%20screenshots and https://www.sonarqube.org/whats-new/"
   ]
  },
  {
   "cell_type": "code",
   "execution_count": null,
   "metadata": {},
   "outputs": [],
   "source": [
    "tags_updated[\"jira_version\"] = tags_updated.Tag.apply(replace_versions)"
   ]
  },
  {
   "cell_type": "code",
   "execution_count": null,
   "metadata": {},
   "outputs": [],
   "source": [
    "tags_updated"
   ]
  },
  {
   "cell_type": "code",
   "execution_count": null,
   "metadata": {},
   "outputs": [],
   "source": [
    "release_dates_series = pd.Series(release_dates)\n",
    "release_dates_series.index.name=\"version_name\"\n",
    "release_dates_df = release_dates_series.reset_index()\n",
    "release_dates_df.rename(columns={0:\"actual_release_date\"}, inplace=True)\n",
    "release_dates_df.actual_release_date = pd.to_datetime(release_dates_df.actual_release_date)\n",
    "tags_updated = release_dates_df.merge(tags_updated, left_on=\"version_name\", right_on=\"jira_version\")"
   ]
  },
  {
   "cell_type": "code",
   "execution_count": null,
   "metadata": {},
   "outputs": [],
   "source": [
    "tags_updated = tags_updated.drop(columns=[\"version_name\", \"Tag_number\"])\n",
    "tags_updated"
   ]
  },
  {
   "cell_type": "code",
   "execution_count": null,
   "metadata": {},
   "outputs": [],
   "source": [
    "tags_updated.actual_release_date.notna().sum()"
   ]
  },
  {
   "cell_type": "markdown",
   "metadata": {},
   "source": [
    "**Only one tag for jira version (i.e 6.3.0.x mapped to 6.3)**"
   ]
  },
  {
   "cell_type": "code",
   "execution_count": null,
   "metadata": {},
   "outputs": [],
   "source": [
    "tags_updated = tags_updated.drop_duplicates(subset='jira_version', keep=\"first\")\n",
    "tags_updated"
   ]
  },
  {
   "cell_type": "code",
   "execution_count": null,
   "metadata": {},
   "outputs": [],
   "source": [
    "tags_updated.to_csv(f\"{csv_folder}/tags_updated.csv\")"
   ]
  },
  {
   "cell_type": "markdown",
   "metadata": {},
   "source": [
    "### Export versions without RC and Milestones"
   ]
  },
  {
   "cell_type": "code",
   "execution_count": null,
   "metadata": {
    "scrolled": true
   },
   "outputs": [],
   "source": [
    "tags_updated[(~tags_updated.Tag.str.contains(\"RC\")) & (~tags_updated.Tag.str.contains(\"M\"))].to_csv(f\"{csv_folder}/tags_no_rc_and_milestones.csv\")"
   ]
  },
  {
   "cell_type": "code",
   "execution_count": null,
   "metadata": {},
   "outputs": [],
   "source": [
    "pd.read_csv(f\"{csv_folder}/tags_no_rc_and_milestones.csv\", index_col=0)"
   ]
  },
  {
   "cell_type": "code",
   "execution_count": null,
   "metadata": {},
   "outputs": [],
   "source": []
  }
 ],
 "metadata": {
  "kernelspec": {
   "display_name": "Python 3",
   "language": "python",
   "name": "python3"
  },
  "language_info": {
   "codemirror_mode": {
    "name": "ipython",
    "version": 3
   },
   "file_extension": ".py",
   "mimetype": "text/x-python",
   "name": "python",
   "nbconvert_exporter": "python",
   "pygments_lexer": "ipython3",
   "version": "3.8.2"
  }
 },
 "nbformat": 4,
 "nbformat_minor": 4
}
