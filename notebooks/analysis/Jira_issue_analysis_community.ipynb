{
 "cells": [
  {
   "cell_type": "code",
   "execution_count": 351,
   "metadata": {},
   "outputs": [],
   "source": [
    "import pandas as pd\n",
    "import pickle\n",
    "import json\n",
    "import seaborn as sns\n",
    "import pprint\n",
    "pp = pprint.PrettyPrinter(depth=6)\n",
    "import matplotlib\n",
    "import matplotlib.pyplot as plt\n",
    "matplotlib.rcParams['figure.figsize'] = (15.0, 5.0)\n",
    "pd.set_option('display.max_columns', 120)"
   ]
  },
  {
   "cell_type": "code",
   "execution_count": 352,
   "metadata": {},
   "outputs": [],
   "source": [
    "pkl_folder = \"../../pkl\"\n",
    "csv_folder = \"../../csv\""
   ]
  },
  {
   "cell_type": "markdown",
   "metadata": {},
   "source": [
    "| Field          | Description                                                     | Type of variable |\n",
    "|----------------|-----------------------------------------------------------------|------------------|\n",
    "| fixVersions    | Search for issues that are assigned to a particular fix version | list of versions |\n",
    "| issuetype      | Type of issue                                                   | Categorical      |\n",
    "| project        | The project the issue belongs to                                | String           |\n",
    "| resolution     | The resolution of the issue                                     | Categorical      |\n",
    "| resolutiondate | The date the issue was resolved                                 | Date             |\n",
    "| workratio      | calculated as workRatio = (timeSpent / originalEstimate) x 100  | Number           |\n",
    "| lastViewed     | The date at which the issue was last viewed                     | Date             |\n",
    "| watches        | Users watching the issue                                        | ?                |\n",
    "| created        | The date of the creation of the issue                           | Date             |\n",
    "| priority       | Priority assigned to the issue                                  | Categorical      |\n",
    "| labels         | Labels assigned to the issue                                    | Strings          |\n",
    "| versions       | The versions affected by the issue                              | List             |\n",
    "| assignee       | The user the issue is assigned to                               | User             |\n",
    "| status         | The status of the issue                                         | Categorical      |\n",
    "| description    | The description of the issue                                    | String           |\n",
    "| summary        | A summary of the issue reported                                 | String           |\n",
    "| creator        | The user that created the issue                                 | User             |\n",
    "| subtasks       | The subtasks of the issue                                       | List of issues   |\n",
    "| reporter       | The user who reported the issue. May be the same as the creator | User             |\n",
    "| duedate        | The date the issue is due to be resolved                        | Date             |"
   ]
  },
  {
   "cell_type": "markdown",
   "metadata": {},
   "source": [
    "### Import tags"
   ]
  },
  {
   "cell_type": "code",
   "execution_count": 353,
   "metadata": {},
   "outputs": [
    {
     "data": {
      "text/html": [
       "<div>\n",
       "<style scoped>\n",
       "    .dataframe tbody tr th:only-of-type {\n",
       "        vertical-align: middle;\n",
       "    }\n",
       "\n",
       "    .dataframe tbody tr th {\n",
       "        vertical-align: top;\n",
       "    }\n",
       "\n",
       "    .dataframe thead th {\n",
       "        text-align: right;\n",
       "    }\n",
       "</style>\n",
       "<table border=\"1\" class=\"dataframe\">\n",
       "  <thead>\n",
       "    <tr style=\"text-align: right;\">\n",
       "      <th></th>\n",
       "      <th>release_date</th>\n",
       "      <th>Tag</th>\n",
       "      <th>Sha</th>\n",
       "      <th>Date</th>\n",
       "      <th>month</th>\n",
       "      <th>year</th>\n",
       "      <th>major_version</th>\n",
       "      <th>jira_version</th>\n",
       "    </tr>\n",
       "  </thead>\n",
       "  <tbody>\n",
       "    <tr>\n",
       "      <th>0</th>\n",
       "      <td>NaN</td>\n",
       "      <td>4.5.6</td>\n",
       "      <td>12d931e5a31e1692a428bbb34ba11cd63aebf998</td>\n",
       "      <td>2015-10-16 09:31:18</td>\n",
       "      <td>10</td>\n",
       "      <td>2015</td>\n",
       "      <td>4</td>\n",
       "      <td>4.5.6</td>\n",
       "    </tr>\n",
       "    <tr>\n",
       "      <th>1</th>\n",
       "      <td>NaN</td>\n",
       "      <td>4.5.7</td>\n",
       "      <td>e2afb0bff1b8be759789d2c1bc9348de6f519f83</td>\n",
       "      <td>2016-04-08 13:44:39</td>\n",
       "      <td>4</td>\n",
       "      <td>2016</td>\n",
       "      <td>4</td>\n",
       "      <td>4.5.7</td>\n",
       "    </tr>\n",
       "    <tr>\n",
       "      <th>2</th>\n",
       "      <td>2015-04-23 00:00:00</td>\n",
       "      <td>5.1</td>\n",
       "      <td>4aa9af3a6a4362b61db365fba32eb0a55d411e7a</td>\n",
       "      <td>2015-04-02 08:09:45</td>\n",
       "      <td>4</td>\n",
       "      <td>2015</td>\n",
       "      <td>5</td>\n",
       "      <td>5.1</td>\n",
       "    </tr>\n",
       "    <tr>\n",
       "      <th>3</th>\n",
       "      <td>NaN</td>\n",
       "      <td>5.1.1</td>\n",
       "      <td>0a231d24c0f1e7ce1d200274b8e9bbe00f9f49fb</td>\n",
       "      <td>2015-06-02 08:34:06</td>\n",
       "      <td>6</td>\n",
       "      <td>2015</td>\n",
       "      <td>5</td>\n",
       "      <td>5.1.1</td>\n",
       "    </tr>\n",
       "    <tr>\n",
       "      <th>4</th>\n",
       "      <td>NaN</td>\n",
       "      <td>5.1.2</td>\n",
       "      <td>2a52a7106b2bfbd659c591c2d6fc09ad0ab2db5c</td>\n",
       "      <td>2015-07-27 08:03:21</td>\n",
       "      <td>7</td>\n",
       "      <td>2015</td>\n",
       "      <td>5</td>\n",
       "      <td>5.1.2</td>\n",
       "    </tr>\n",
       "  </tbody>\n",
       "</table>\n",
       "</div>"
      ],
      "text/plain": [
       "          release_date    Tag                                       Sha  \\\n",
       "0                  NaN  4.5.6  12d931e5a31e1692a428bbb34ba11cd63aebf998   \n",
       "1                  NaN  4.5.7  e2afb0bff1b8be759789d2c1bc9348de6f519f83   \n",
       "2  2015-04-23 00:00:00    5.1  4aa9af3a6a4362b61db365fba32eb0a55d411e7a   \n",
       "3                  NaN  5.1.1  0a231d24c0f1e7ce1d200274b8e9bbe00f9f49fb   \n",
       "4                  NaN  5.1.2  2a52a7106b2bfbd659c591c2d6fc09ad0ab2db5c   \n",
       "\n",
       "                 Date  month  year  major_version jira_version  \n",
       "0 2015-10-16 09:31:18     10  2015              4        4.5.6  \n",
       "1 2016-04-08 13:44:39      4  2016              4        4.5.7  \n",
       "2 2015-04-02 08:09:45      4  2015              5          5.1  \n",
       "3 2015-06-02 08:34:06      6  2015              5        5.1.1  \n",
       "4 2015-07-27 08:03:21      7  2015              5        5.1.2  "
      ]
     },
     "execution_count": 353,
     "metadata": {},
     "output_type": "execute_result"
    }
   ],
   "source": [
    "tags = pd.read_csv(f\"{csv_folder}/tags_updated.csv\", index_col=0)\n",
    "tags.Date = pd.to_datetime(tags.Date)\n",
    "tags = tags[tags.Date > \"2015-03-10\"]\n",
    "tags[\"month\"] = tags.Date.dt.month\n",
    "tags[\"year\"] = tags.Date.dt.year\n",
    "tags.head()"
   ]
  },
  {
   "cell_type": "markdown",
   "metadata": {},
   "source": [
    "### Import issues"
   ]
  },
  {
   "cell_type": "code",
   "execution_count": 354,
   "metadata": {
    "scrolled": true
   },
   "outputs": [
    {
     "data": {
      "text/html": [
       "<div>\n",
       "<style scoped>\n",
       "    .dataframe tbody tr th:only-of-type {\n",
       "        vertical-align: middle;\n",
       "    }\n",
       "\n",
       "    .dataframe tbody tr th {\n",
       "        vertical-align: top;\n",
       "    }\n",
       "\n",
       "    .dataframe thead th {\n",
       "        text-align: right;\n",
       "    }\n",
       "</style>\n",
       "<table border=\"1\" class=\"dataframe\">\n",
       "  <thead>\n",
       "    <tr style=\"text-align: right;\">\n",
       "      <th></th>\n",
       "      <th>updated</th>\n",
       "      <th>environment</th>\n",
       "      <th>creator</th>\n",
       "      <th>issue_id</th>\n",
       "      <th>reporter</th>\n",
       "      <th>issuetype_name</th>\n",
       "      <th>issue_key</th>\n",
       "      <th>assignee</th>\n",
       "      <th>votes</th>\n",
       "      <th>created</th>\n",
       "      <th>project</th>\n",
       "      <th>resolutiondate</th>\n",
       "      <th>status_id</th>\n",
       "      <th>summary</th>\n",
       "      <th>reporter_name</th>\n",
       "      <th>resolution_name</th>\n",
       "      <th>lastViewed</th>\n",
       "      <th>issuetype_id</th>\n",
       "      <th>edition</th>\n",
       "      <th>duedate</th>\n",
       "      <th>status_name</th>\n",
       "      <th>votes_votes</th>\n",
       "      <th>description</th>\n",
       "      <th>priority_id</th>\n",
       "      <th>priority_name</th>\n",
       "      <th>status</th>\n",
       "      <th>assignee_name</th>\n",
       "      <th>creator_name</th>\n",
       "      <th>created_month</th>\n",
       "      <th>created_year</th>\n",
       "    </tr>\n",
       "  </thead>\n",
       "  <tbody>\n",
       "    <tr>\n",
       "      <th>0</th>\n",
       "      <td>2020-09-29 08:54:53+00:00</td>\n",
       "      <td>NaN</td>\n",
       "      <td>Julien Lancelot</td>\n",
       "      <td>97898</td>\n",
       "      <td>Julien Lancelot</td>\n",
       "      <td>Task</td>\n",
       "      <td>SONAR-13913</td>\n",
       "      <td>NaN</td>\n",
       "      <td>0</td>\n",
       "      <td>2020-09-29 08:54:53+00:00</td>\n",
       "      <td>SONAR</td>\n",
       "      <td>NaT</td>\n",
       "      <td>1</td>\n",
       "      <td>Remove table clean up used in Integration Tests</td>\n",
       "      <td>julien.lancelot</td>\n",
       "      <td>NaN</td>\n",
       "      <td>NaT</td>\n",
       "      <td>3</td>\n",
       "      <td>Community</td>\n",
       "      <td>NaT</td>\n",
       "      <td>Open</td>\n",
       "      <td>0</td>\n",
       "      <td>- Remove org.sonar.server.platform.BackendClea...</td>\n",
       "      <td>3</td>\n",
       "      <td>Major</td>\n",
       "      <td>Open</td>\n",
       "      <td>NaN</td>\n",
       "      <td>julien.lancelot</td>\n",
       "      <td>9</td>\n",
       "      <td>2020</td>\n",
       "    </tr>\n",
       "    <tr>\n",
       "      <th>1</th>\n",
       "      <td>2020-09-28 10:18:24+00:00</td>\n",
       "      <td>NaN</td>\n",
       "      <td>Malena Ebert</td>\n",
       "      <td>97868</td>\n",
       "      <td>Malena Ebert</td>\n",
       "      <td>Task</td>\n",
       "      <td>SONAR-13912</td>\n",
       "      <td>Malena Ebert</td>\n",
       "      <td>0</td>\n",
       "      <td>2020-09-28 10:14:16+00:00</td>\n",
       "      <td>SONAR</td>\n",
       "      <td>NaT</td>\n",
       "      <td>1</td>\n",
       "      <td>Add OWASP Dependency Check task to Cirrus CI</td>\n",
       "      <td>malena.ebert</td>\n",
       "      <td>NaN</td>\n",
       "      <td>NaT</td>\n",
       "      <td>3</td>\n",
       "      <td>Community</td>\n",
       "      <td>NaT</td>\n",
       "      <td>Open</td>\n",
       "      <td>0</td>\n",
       "      <td>The goal of this task is to detect vulnerabili...</td>\n",
       "      <td>3</td>\n",
       "      <td>Major</td>\n",
       "      <td>Open</td>\n",
       "      <td>malena.ebert</td>\n",
       "      <td>malena.ebert</td>\n",
       "      <td>9</td>\n",
       "      <td>2020</td>\n",
       "    </tr>\n",
       "    <tr>\n",
       "      <th>3</th>\n",
       "      <td>2020-09-28 15:38:40+00:00</td>\n",
       "      <td>NaN</td>\n",
       "      <td>Jeremy Davis</td>\n",
       "      <td>97858</td>\n",
       "      <td>Jeremy Davis</td>\n",
       "      <td>New Feature</td>\n",
       "      <td>SONAR-13909</td>\n",
       "      <td>Julien Lancelot</td>\n",
       "      <td>0</td>\n",
       "      <td>2020-09-28 09:20:49+00:00</td>\n",
       "      <td>SONAR</td>\n",
       "      <td>NaT</td>\n",
       "      <td>10002</td>\n",
       "      <td>C# and VB.NET analysis updates</td>\n",
       "      <td>jeremy.davis</td>\n",
       "      <td>NaN</td>\n",
       "      <td>NaT</td>\n",
       "      <td>2</td>\n",
       "      <td>Community</td>\n",
       "      <td>2020-10-05 00:00:00+00:00</td>\n",
       "      <td>In Review</td>\n",
       "      <td>0</td>\n",
       "      <td>The C# analysis now improves complexity rules ...</td>\n",
       "      <td>3</td>\n",
       "      <td>Major</td>\n",
       "      <td>In Review</td>\n",
       "      <td>julien.lancelot</td>\n",
       "      <td>jeremy.davis</td>\n",
       "      <td>9</td>\n",
       "      <td>2020</td>\n",
       "    </tr>\n",
       "    <tr>\n",
       "      <th>4</th>\n",
       "      <td>2020-09-28 20:02:41+00:00</td>\n",
       "      <td>NaN</td>\n",
       "      <td>Jeremy Davis</td>\n",
       "      <td>97855</td>\n",
       "      <td>Jeremy Davis</td>\n",
       "      <td>Improvement</td>\n",
       "      <td>SONAR-13907</td>\n",
       "      <td>Julien Lancelot</td>\n",
       "      <td>0</td>\n",
       "      <td>2020-09-28 09:00:01+00:00</td>\n",
       "      <td>SONAR</td>\n",
       "      <td>NaT</td>\n",
       "      <td>10002</td>\n",
       "      <td>JavaScript/TypeScript analysis updates</td>\n",
       "      <td>jeremy.davis</td>\n",
       "      <td>NaN</td>\n",
       "      <td>NaT</td>\n",
       "      <td>4</td>\n",
       "      <td>Community</td>\n",
       "      <td>2020-10-05 00:00:00+00:00</td>\n",
       "      <td>In Review</td>\n",
       "      <td>0</td>\n",
       "      <td>The changes are:\\r\\n* a new rule to detect XXE...</td>\n",
       "      <td>3</td>\n",
       "      <td>Major</td>\n",
       "      <td>In Review</td>\n",
       "      <td>julien.lancelot</td>\n",
       "      <td>jeremy.davis</td>\n",
       "      <td>9</td>\n",
       "      <td>2020</td>\n",
       "    </tr>\n",
       "    <tr>\n",
       "      <th>5</th>\n",
       "      <td>2020-09-24 12:57:08+00:00</td>\n",
       "      <td>NaN</td>\n",
       "      <td>Mathieu Cutivel</td>\n",
       "      <td>97813</td>\n",
       "      <td>Mathieu Cutivel</td>\n",
       "      <td>Improvement</td>\n",
       "      <td>SONAR-13906</td>\n",
       "      <td>Mathieu Cutivel</td>\n",
       "      <td>0</td>\n",
       "      <td>2020-09-24 12:57:00+00:00</td>\n",
       "      <td>SONAR</td>\n",
       "      <td>NaT</td>\n",
       "      <td>3</td>\n",
       "      <td>Prevent ALM binding configuration modal from c...</td>\n",
       "      <td>mathieu.cutivel</td>\n",
       "      <td>NaN</td>\n",
       "      <td>NaT</td>\n",
       "      <td>4</td>\n",
       "      <td>Community</td>\n",
       "      <td>2020-10-01 00:00:00+00:00</td>\n",
       "      <td>In Progress</td>\n",
       "      <td>0</td>\n",
       "      <td>When clicking outside of the ALM configuration...</td>\n",
       "      <td>3</td>\n",
       "      <td>Major</td>\n",
       "      <td>In Progress</td>\n",
       "      <td>mathieu.cutivel</td>\n",
       "      <td>mathieu.cutivel</td>\n",
       "      <td>9</td>\n",
       "      <td>2020</td>\n",
       "    </tr>\n",
       "  </tbody>\n",
       "</table>\n",
       "</div>"
      ],
      "text/plain": [
       "                    updated environment          creator  issue_id  \\\n",
       "0 2020-09-29 08:54:53+00:00         NaN  Julien Lancelot     97898   \n",
       "1 2020-09-28 10:18:24+00:00         NaN     Malena Ebert     97868   \n",
       "3 2020-09-28 15:38:40+00:00         NaN     Jeremy Davis     97858   \n",
       "4 2020-09-28 20:02:41+00:00         NaN     Jeremy Davis     97855   \n",
       "5 2020-09-24 12:57:08+00:00         NaN  Mathieu Cutivel     97813   \n",
       "\n",
       "          reporter issuetype_name    issue_key         assignee  votes  \\\n",
       "0  Julien Lancelot           Task  SONAR-13913              NaN      0   \n",
       "1     Malena Ebert           Task  SONAR-13912     Malena Ebert      0   \n",
       "3     Jeremy Davis    New Feature  SONAR-13909  Julien Lancelot      0   \n",
       "4     Jeremy Davis    Improvement  SONAR-13907  Julien Lancelot      0   \n",
       "5  Mathieu Cutivel    Improvement  SONAR-13906  Mathieu Cutivel      0   \n",
       "\n",
       "                    created project resolutiondate  status_id  \\\n",
       "0 2020-09-29 08:54:53+00:00   SONAR            NaT          1   \n",
       "1 2020-09-28 10:14:16+00:00   SONAR            NaT          1   \n",
       "3 2020-09-28 09:20:49+00:00   SONAR            NaT      10002   \n",
       "4 2020-09-28 09:00:01+00:00   SONAR            NaT      10002   \n",
       "5 2020-09-24 12:57:00+00:00   SONAR            NaT          3   \n",
       "\n",
       "                                             summary    reporter_name  \\\n",
       "0    Remove table clean up used in Integration Tests  julien.lancelot   \n",
       "1       Add OWASP Dependency Check task to Cirrus CI     malena.ebert   \n",
       "3                     C# and VB.NET analysis updates     jeremy.davis   \n",
       "4             JavaScript/TypeScript analysis updates     jeremy.davis   \n",
       "5  Prevent ALM binding configuration modal from c...  mathieu.cutivel   \n",
       "\n",
       "  resolution_name lastViewed  issuetype_id    edition  \\\n",
       "0             NaN        NaT             3  Community   \n",
       "1             NaN        NaT             3  Community   \n",
       "3             NaN        NaT             2  Community   \n",
       "4             NaN        NaT             4  Community   \n",
       "5             NaN        NaT             4  Community   \n",
       "\n",
       "                    duedate  status_name  votes_votes  \\\n",
       "0                       NaT         Open            0   \n",
       "1                       NaT         Open            0   \n",
       "3 2020-10-05 00:00:00+00:00    In Review            0   \n",
       "4 2020-10-05 00:00:00+00:00    In Review            0   \n",
       "5 2020-10-01 00:00:00+00:00  In Progress            0   \n",
       "\n",
       "                                         description  priority_id  \\\n",
       "0  - Remove org.sonar.server.platform.BackendClea...            3   \n",
       "1  The goal of this task is to detect vulnerabili...            3   \n",
       "3  The C# analysis now improves complexity rules ...            3   \n",
       "4  The changes are:\\r\\n* a new rule to detect XXE...            3   \n",
       "5  When clicking outside of the ALM configuration...            3   \n",
       "\n",
       "  priority_name       status    assignee_name     creator_name  created_month  \\\n",
       "0         Major         Open              NaN  julien.lancelot              9   \n",
       "1         Major         Open     malena.ebert     malena.ebert              9   \n",
       "3         Major    In Review  julien.lancelot     jeremy.davis              9   \n",
       "4         Major    In Review  julien.lancelot     jeremy.davis              9   \n",
       "5         Major  In Progress  mathieu.cutivel  mathieu.cutivel              9   \n",
       "\n",
       "   created_year  \n",
       "0          2020  \n",
       "1          2020  \n",
       "3          2020  \n",
       "4          2020  \n",
       "5          2020  "
      ]
     },
     "execution_count": 354,
     "metadata": {},
     "output_type": "execute_result"
    }
   ],
   "source": [
    "issues = pd.read_csv(f\"{csv_folder}/issues_community.csv\", index_col=0)\n",
    "for date_field in [\"created\", \"duedate\", \"lastViewed\", \"resolutiondate\", \"updated\"]:\n",
    "    issues[date_field] = pd.to_datetime(issues[date_field], errors=\"coerce\")\n",
    "issues = issues[issues.created > '2015-03-17 15:04:32+0000']\n",
    "issues.head()"
   ]
  },
  {
   "cell_type": "markdown",
   "metadata": {},
   "source": [
    "We filter only issues in the timeframe in which the project was using TravisCI"
   ]
  },
  {
   "cell_type": "markdown",
   "metadata": {},
   "source": [
    "### Import versions"
   ]
  },
  {
   "cell_type": "code",
   "execution_count": 355,
   "metadata": {
    "scrolled": false
   },
   "outputs": [
    {
     "data": {
      "text/html": [
       "<div>\n",
       "<style scoped>\n",
       "    .dataframe tbody tr th:only-of-type {\n",
       "        vertical-align: middle;\n",
       "    }\n",
       "\n",
       "    .dataframe tbody tr th {\n",
       "        vertical-align: top;\n",
       "    }\n",
       "\n",
       "    .dataframe thead th {\n",
       "        text-align: right;\n",
       "    }\n",
       "</style>\n",
       "<table border=\"1\" class=\"dataframe\">\n",
       "  <thead>\n",
       "    <tr style=\"text-align: right;\">\n",
       "      <th></th>\n",
       "      <th>issue_id</th>\n",
       "      <th>version_name</th>\n",
       "      <th>version_id</th>\n",
       "    </tr>\n",
       "  </thead>\n",
       "  <tbody>\n",
       "    <tr>\n",
       "      <th>0</th>\n",
       "      <td>97777</td>\n",
       "      <td>8.4.2</td>\n",
       "      <td>16404</td>\n",
       "    </tr>\n",
       "    <tr>\n",
       "      <th>1</th>\n",
       "      <td>97773</td>\n",
       "      <td>8.4.2</td>\n",
       "      <td>16404</td>\n",
       "    </tr>\n",
       "    <tr>\n",
       "      <th>2</th>\n",
       "      <td>97525</td>\n",
       "      <td>8.4.2</td>\n",
       "      <td>16404</td>\n",
       "    </tr>\n",
       "    <tr>\n",
       "      <th>3</th>\n",
       "      <td>97521</td>\n",
       "      <td>8.4</td>\n",
       "      <td>15833</td>\n",
       "    </tr>\n",
       "    <tr>\n",
       "      <th>4</th>\n",
       "      <td>97347</td>\n",
       "      <td>8.4.2</td>\n",
       "      <td>16404</td>\n",
       "    </tr>\n",
       "  </tbody>\n",
       "</table>\n",
       "</div>"
      ],
      "text/plain": [
       "   issue_id version_name  version_id\n",
       "0     97777        8.4.2       16404\n",
       "1     97773        8.4.2       16404\n",
       "2     97525        8.4.2       16404\n",
       "3     97521          8.4       15833\n",
       "4     97347        8.4.2       16404"
      ]
     },
     "execution_count": 355,
     "metadata": {},
     "output_type": "execute_result"
    }
   ],
   "source": [
    "versions = pd.read_csv(f\"{csv_folder}/issues_versions.csv\", index_col=0)\n",
    "versions.head()"
   ]
  },
  {
   "cell_type": "markdown",
   "metadata": {},
   "source": [
    "### Import fixVersions"
   ]
  },
  {
   "cell_type": "code",
   "execution_count": 356,
   "metadata": {},
   "outputs": [
    {
     "data": {
      "text/html": [
       "<div>\n",
       "<style scoped>\n",
       "    .dataframe tbody tr th:only-of-type {\n",
       "        vertical-align: middle;\n",
       "    }\n",
       "\n",
       "    .dataframe tbody tr th {\n",
       "        vertical-align: top;\n",
       "    }\n",
       "\n",
       "    .dataframe thead th {\n",
       "        text-align: right;\n",
       "    }\n",
       "</style>\n",
       "<table border=\"1\" class=\"dataframe\">\n",
       "  <thead>\n",
       "    <tr style=\"text-align: right;\">\n",
       "      <th></th>\n",
       "      <th>issue_id</th>\n",
       "      <th>fixVersion_name</th>\n",
       "      <th>fixVersion_id</th>\n",
       "    </tr>\n",
       "  </thead>\n",
       "  <tbody>\n",
       "    <tr>\n",
       "      <th>1</th>\n",
       "      <td>97858</td>\n",
       "      <td>8.5</td>\n",
       "      <td>16342</td>\n",
       "    </tr>\n",
       "    <tr>\n",
       "      <th>2</th>\n",
       "      <td>97855</td>\n",
       "      <td>8.5</td>\n",
       "      <td>16342</td>\n",
       "    </tr>\n",
       "    <tr>\n",
       "      <th>3</th>\n",
       "      <td>97786</td>\n",
       "      <td>8.6</td>\n",
       "      <td>16435</td>\n",
       "    </tr>\n",
       "    <tr>\n",
       "      <th>5</th>\n",
       "      <td>97575</td>\n",
       "      <td>8.5</td>\n",
       "      <td>16342</td>\n",
       "    </tr>\n",
       "    <tr>\n",
       "      <th>7</th>\n",
       "      <td>97413</td>\n",
       "      <td>8.5</td>\n",
       "      <td>16342</td>\n",
       "    </tr>\n",
       "  </tbody>\n",
       "</table>\n",
       "</div>"
      ],
      "text/plain": [
       "   issue_id fixVersion_name  fixVersion_id\n",
       "1     97858             8.5          16342\n",
       "2     97855             8.5          16342\n",
       "3     97786             8.6          16435\n",
       "5     97575             8.5          16342\n",
       "7     97413             8.5          16342"
      ]
     },
     "execution_count": 356,
     "metadata": {},
     "output_type": "execute_result"
    }
   ],
   "source": [
    "fixversions = pd.read_csv(f\"{csv_folder}/issues_fixversions.csv\", index_col=0)\n",
    "fixversions = fixversions[fixversions.issue_id.isin(issues.issue_id)]\n",
    "fixversions.head(5)"
   ]
  },
  {
   "cell_type": "markdown",
   "metadata": {},
   "source": [
    "### Import labels"
   ]
  },
  {
   "cell_type": "code",
   "execution_count": 357,
   "metadata": {
    "scrolled": true
   },
   "outputs": [
    {
     "data": {
      "text/html": [
       "<div>\n",
       "<style scoped>\n",
       "    .dataframe tbody tr th:only-of-type {\n",
       "        vertical-align: middle;\n",
       "    }\n",
       "\n",
       "    .dataframe tbody tr th {\n",
       "        vertical-align: top;\n",
       "    }\n",
       "\n",
       "    .dataframe thead th {\n",
       "        text-align: right;\n",
       "    }\n",
       "</style>\n",
       "<table border=\"1\" class=\"dataframe\">\n",
       "  <thead>\n",
       "    <tr style=\"text-align: right;\">\n",
       "      <th></th>\n",
       "      <th>issue_id</th>\n",
       "      <th>label</th>\n",
       "    </tr>\n",
       "  </thead>\n",
       "  <tbody>\n",
       "    <tr>\n",
       "      <th>7</th>\n",
       "      <td>97868</td>\n",
       "      <td>trello:5f71b7467b498d57987bfe0a</td>\n",
       "    </tr>\n",
       "    <tr>\n",
       "      <th>8</th>\n",
       "      <td>97813</td>\n",
       "      <td>hardening</td>\n",
       "    </tr>\n",
       "    <tr>\n",
       "      <th>9</th>\n",
       "      <td>97813</td>\n",
       "      <td>usability-testing-findings</td>\n",
       "    </tr>\n",
       "    <tr>\n",
       "      <th>10</th>\n",
       "      <td>97673</td>\n",
       "      <td>hardening</td>\n",
       "    </tr>\n",
       "    <tr>\n",
       "      <th>11</th>\n",
       "      <td>97673</td>\n",
       "      <td>usability-testing-findings</td>\n",
       "    </tr>\n",
       "  </tbody>\n",
       "</table>\n",
       "</div>"
      ],
      "text/plain": [
       "    issue_id                            label\n",
       "7      97868  trello:5f71b7467b498d57987bfe0a\n",
       "8      97813                        hardening\n",
       "9      97813       usability-testing-findings\n",
       "10     97673                        hardening\n",
       "11     97673       usability-testing-findings"
      ]
     },
     "execution_count": 357,
     "metadata": {},
     "output_type": "execute_result"
    }
   ],
   "source": [
    "labels = pd.read_csv(f\"{csv_folder}/issues_labels.csv\", index_col=0)\n",
    "labels = labels[labels.issue_id.isin(issues.issue_id)]\n",
    "labels.head()"
   ]
  },
  {
   "cell_type": "markdown",
   "metadata": {},
   "source": [
    "### Import components"
   ]
  },
  {
   "cell_type": "code",
   "execution_count": 358,
   "metadata": {},
   "outputs": [
    {
     "data": {
      "text/html": [
       "<div>\n",
       "<style scoped>\n",
       "    .dataframe tbody tr th:only-of-type {\n",
       "        vertical-align: middle;\n",
       "    }\n",
       "\n",
       "    .dataframe tbody tr th {\n",
       "        vertical-align: top;\n",
       "    }\n",
       "\n",
       "    .dataframe thead th {\n",
       "        text-align: right;\n",
       "    }\n",
       "</style>\n",
       "<table border=\"1\" class=\"dataframe\">\n",
       "  <thead>\n",
       "    <tr style=\"text-align: right;\">\n",
       "      <th></th>\n",
       "      <th>issue_id</th>\n",
       "      <th>component_name</th>\n",
       "      <th>component_id</th>\n",
       "    </tr>\n",
       "  </thead>\n",
       "  <tbody>\n",
       "    <tr>\n",
       "      <th>30</th>\n",
       "      <td>97898</td>\n",
       "      <td>Database</td>\n",
       "      <td>11077</td>\n",
       "    </tr>\n",
       "    <tr>\n",
       "      <th>31</th>\n",
       "      <td>97813</td>\n",
       "      <td>UX/UI</td>\n",
       "      <td>11968</td>\n",
       "    </tr>\n",
       "    <tr>\n",
       "      <th>32</th>\n",
       "      <td>97786</td>\n",
       "      <td>Organizations</td>\n",
       "      <td>11974</td>\n",
       "    </tr>\n",
       "    <tr>\n",
       "      <th>33</th>\n",
       "      <td>97786</td>\n",
       "      <td>Quality Profile</td>\n",
       "      <td>11074</td>\n",
       "    </tr>\n",
       "    <tr>\n",
       "      <th>37</th>\n",
       "      <td>97673</td>\n",
       "      <td>UX/UI</td>\n",
       "      <td>11968</td>\n",
       "    </tr>\n",
       "  </tbody>\n",
       "</table>\n",
       "</div>"
      ],
      "text/plain": [
       "    issue_id   component_name  component_id\n",
       "30     97898         Database         11077\n",
       "31     97813            UX/UI         11968\n",
       "32     97786    Organizations         11974\n",
       "33     97786  Quality Profile         11074\n",
       "37     97673            UX/UI         11968"
      ]
     },
     "execution_count": 358,
     "metadata": {},
     "output_type": "execute_result"
    }
   ],
   "source": [
    "components = pd.read_csv(f\"{csv_folder}/issues_components.csv\", index_col=0)\n",
    "components = components[components.issue_id.isin(issues.issue_id)]\n",
    "components.head()"
   ]
  },
  {
   "cell_type": "markdown",
   "metadata": {},
   "source": [
    "### Import subtasks"
   ]
  },
  {
   "cell_type": "code",
   "execution_count": 359,
   "metadata": {},
   "outputs": [
    {
     "data": {
      "text/html": [
       "<div>\n",
       "<style scoped>\n",
       "    .dataframe tbody tr th:only-of-type {\n",
       "        vertical-align: middle;\n",
       "    }\n",
       "\n",
       "    .dataframe tbody tr th {\n",
       "        vertical-align: top;\n",
       "    }\n",
       "\n",
       "    .dataframe thead th {\n",
       "        text-align: right;\n",
       "    }\n",
       "</style>\n",
       "<table border=\"1\" class=\"dataframe\">\n",
       "  <thead>\n",
       "    <tr style=\"text-align: right;\">\n",
       "      <th></th>\n",
       "      <th>issue_id</th>\n",
       "      <th>subtask_key</th>\n",
       "      <th>subtask_id</th>\n",
       "    </tr>\n",
       "  </thead>\n",
       "  <tbody>\n",
       "    <tr>\n",
       "      <th>0</th>\n",
       "      <td>97393</td>\n",
       "      <td>SONAR-13858</td>\n",
       "      <td>97372</td>\n",
       "    </tr>\n",
       "    <tr>\n",
       "      <th>1</th>\n",
       "      <td>97393</td>\n",
       "      <td>SONAR-13868</td>\n",
       "      <td>97394</td>\n",
       "    </tr>\n",
       "    <tr>\n",
       "      <th>2</th>\n",
       "      <td>97387</td>\n",
       "      <td>SONAR-13863</td>\n",
       "      <td>97388</td>\n",
       "    </tr>\n",
       "    <tr>\n",
       "      <th>3</th>\n",
       "      <td>97387</td>\n",
       "      <td>SONAR-13864</td>\n",
       "      <td>97389</td>\n",
       "    </tr>\n",
       "    <tr>\n",
       "      <th>4</th>\n",
       "      <td>97387</td>\n",
       "      <td>SONAR-13865</td>\n",
       "      <td>97390</td>\n",
       "    </tr>\n",
       "  </tbody>\n",
       "</table>\n",
       "</div>"
      ],
      "text/plain": [
       "   issue_id  subtask_key  subtask_id\n",
       "0     97393  SONAR-13858       97372\n",
       "1     97393  SONAR-13868       97394\n",
       "2     97387  SONAR-13863       97388\n",
       "3     97387  SONAR-13864       97389\n",
       "4     97387  SONAR-13865       97390"
      ]
     },
     "execution_count": 359,
     "metadata": {},
     "output_type": "execute_result"
    }
   ],
   "source": [
    "substaks = pd.read_csv(f\"{csv_folder}/issues_subtasks.csv\", index_col=0)\n",
    "substaks = substaks[substaks.issue_id.isin(issues.issue_id)]\n",
    "substaks.head()"
   ]
  },
  {
   "cell_type": "markdown",
   "metadata": {},
   "source": [
    "## Analysis"
   ]
  },
  {
   "cell_type": "markdown",
   "metadata": {},
   "source": [
    "### Shape"
   ]
  },
  {
   "cell_type": "code",
   "execution_count": 360,
   "metadata": {},
   "outputs": [
    {
     "data": {
      "text/plain": [
       "(4478, 30)"
      ]
     },
     "execution_count": 360,
     "metadata": {},
     "output_type": "execute_result"
    }
   ],
   "source": [
    "issues.shape"
   ]
  },
  {
   "cell_type": "code",
   "execution_count": 361,
   "metadata": {},
   "outputs": [
    {
     "data": {
      "text/plain": [
       "(4120, 3)"
      ]
     },
     "execution_count": 361,
     "metadata": {},
     "output_type": "execute_result"
    }
   ],
   "source": [
    "fixversions.shape"
   ]
  },
  {
   "cell_type": "code",
   "execution_count": 362,
   "metadata": {},
   "outputs": [
    {
     "data": {
      "text/plain": [
       "(3335, 3)"
      ]
     },
     "execution_count": 362,
     "metadata": {},
     "output_type": "execute_result"
    }
   ],
   "source": [
    "versions.shape"
   ]
  },
  {
   "cell_type": "code",
   "execution_count": 363,
   "metadata": {},
   "outputs": [
    {
     "data": {
      "text/plain": [
       "(2153, 2)"
      ]
     },
     "execution_count": 363,
     "metadata": {},
     "output_type": "execute_result"
    }
   ],
   "source": [
    "labels.shape"
   ]
  },
  {
   "cell_type": "code",
   "execution_count": 364,
   "metadata": {},
   "outputs": [
    {
     "data": {
      "text/plain": [
       "(327, 3)"
      ]
     },
     "execution_count": 364,
     "metadata": {},
     "output_type": "execute_result"
    }
   ],
   "source": [
    "substaks.shape"
   ]
  },
  {
   "cell_type": "markdown",
   "metadata": {},
   "source": [
    "### Columns"
   ]
  },
  {
   "cell_type": "code",
   "execution_count": 365,
   "metadata": {},
   "outputs": [
    {
     "data": {
      "text/plain": [
       "Index(['updated', 'environment', 'creator', 'issue_id', 'reporter',\n",
       "       'issuetype_name', 'issue_key', 'assignee', 'votes', 'created',\n",
       "       'project', 'resolutiondate', 'status_id', 'summary', 'reporter_name',\n",
       "       'resolution_name', 'lastViewed', 'issuetype_id', 'edition', 'duedate',\n",
       "       'status_name', 'votes_votes', 'description', 'priority_id',\n",
       "       'priority_name', 'status', 'assignee_name', 'creator_name',\n",
       "       'created_month', 'created_year'],\n",
       "      dtype='object')"
      ]
     },
     "execution_count": 365,
     "metadata": {},
     "output_type": "execute_result"
    }
   ],
   "source": [
    "issues.columns"
   ]
  },
  {
   "cell_type": "code",
   "execution_count": 366,
   "metadata": {},
   "outputs": [
    {
     "data": {
      "text/plain": [
       "Index(['issue_id', 'version_name', 'version_id'], dtype='object')"
      ]
     },
     "execution_count": 366,
     "metadata": {},
     "output_type": "execute_result"
    }
   ],
   "source": [
    "versions.columns"
   ]
  },
  {
   "cell_type": "code",
   "execution_count": 367,
   "metadata": {},
   "outputs": [
    {
     "data": {
      "text/plain": [
       "Index(['issue_id', 'fixVersion_name', 'fixVersion_id'], dtype='object')"
      ]
     },
     "execution_count": 367,
     "metadata": {},
     "output_type": "execute_result"
    }
   ],
   "source": [
    "fixversions.columns"
   ]
  },
  {
   "cell_type": "code",
   "execution_count": 368,
   "metadata": {},
   "outputs": [
    {
     "data": {
      "text/plain": [
       "Index(['issue_id', 'label'], dtype='object')"
      ]
     },
     "execution_count": 368,
     "metadata": {},
     "output_type": "execute_result"
    }
   ],
   "source": [
    "labels.columns"
   ]
  },
  {
   "cell_type": "code",
   "execution_count": 369,
   "metadata": {},
   "outputs": [
    {
     "data": {
      "text/plain": [
       "Index(['issue_id', 'subtask_key', 'subtask_id'], dtype='object')"
      ]
     },
     "execution_count": 369,
     "metadata": {},
     "output_type": "execute_result"
    }
   ],
   "source": [
    "substaks.columns"
   ]
  },
  {
   "cell_type": "markdown",
   "metadata": {},
   "source": [
    "### Describe"
   ]
  },
  {
   "cell_type": "code",
   "execution_count": 370,
   "metadata": {},
   "outputs": [],
   "source": [
    "issues = issues[focus_columns]"
   ]
  },
  {
   "cell_type": "code",
   "execution_count": 371,
   "metadata": {},
   "outputs": [
    {
     "data": {
      "text/html": [
       "<div>\n",
       "<style scoped>\n",
       "    .dataframe tbody tr th:only-of-type {\n",
       "        vertical-align: middle;\n",
       "    }\n",
       "\n",
       "    .dataframe tbody tr th {\n",
       "        vertical-align: top;\n",
       "    }\n",
       "\n",
       "    .dataframe thead th {\n",
       "        text-align: right;\n",
       "    }\n",
       "</style>\n",
       "<table border=\"1\" class=\"dataframe\">\n",
       "  <thead>\n",
       "    <tr style=\"text-align: right;\">\n",
       "      <th></th>\n",
       "      <th>created_month</th>\n",
       "      <th>votes_votes</th>\n",
       "      <th>issuetype_id</th>\n",
       "      <th>issue_id</th>\n",
       "      <th>votes</th>\n",
       "      <th>status_id</th>\n",
       "      <th>priority_id</th>\n",
       "      <th>created_year</th>\n",
       "    </tr>\n",
       "  </thead>\n",
       "  <tbody>\n",
       "    <tr>\n",
       "      <th>count</th>\n",
       "      <td>4478.000000</td>\n",
       "      <td>4478.000000</td>\n",
       "      <td>4478.000000</td>\n",
       "      <td>4478.000000</td>\n",
       "      <td>4478.000000</td>\n",
       "      <td>4478.000000</td>\n",
       "      <td>4478.000000</td>\n",
       "      <td>4478.000000</td>\n",
       "    </tr>\n",
       "    <tr>\n",
       "      <th>mean</th>\n",
       "      <td>6.224877</td>\n",
       "      <td>0.145154</td>\n",
       "      <td>3.225994</td>\n",
       "      <td>66027.045333</td>\n",
       "      <td>0.145154</td>\n",
       "      <td>59.072130</td>\n",
       "      <td>3.055159</td>\n",
       "      <td>2017.369361</td>\n",
       "    </tr>\n",
       "    <tr>\n",
       "      <th>std</th>\n",
       "      <td>3.326965</td>\n",
       "      <td>0.649676</td>\n",
       "      <td>1.375566</td>\n",
       "      <td>18303.765986</td>\n",
       "      <td>0.649676</td>\n",
       "      <td>729.896774</td>\n",
       "      <td>0.304598</td>\n",
       "      <td>1.553533</td>\n",
       "    </tr>\n",
       "    <tr>\n",
       "      <th>min</th>\n",
       "      <td>1.000000</td>\n",
       "      <td>0.000000</td>\n",
       "      <td>1.000000</td>\n",
       "      <td>26987.000000</td>\n",
       "      <td>0.000000</td>\n",
       "      <td>1.000000</td>\n",
       "      <td>1.000000</td>\n",
       "      <td>2015.000000</td>\n",
       "    </tr>\n",
       "    <tr>\n",
       "      <th>25%</th>\n",
       "      <td>3.000000</td>\n",
       "      <td>0.000000</td>\n",
       "      <td>2.000000</td>\n",
       "      <td>51324.750000</td>\n",
       "      <td>0.000000</td>\n",
       "      <td>6.000000</td>\n",
       "      <td>3.000000</td>\n",
       "      <td>2016.000000</td>\n",
       "    </tr>\n",
       "    <tr>\n",
       "      <th>50%</th>\n",
       "      <td>6.000000</td>\n",
       "      <td>0.000000</td>\n",
       "      <td>4.000000</td>\n",
       "      <td>64374.500000</td>\n",
       "      <td>0.000000</td>\n",
       "      <td>6.000000</td>\n",
       "      <td>3.000000</td>\n",
       "      <td>2017.000000</td>\n",
       "    </tr>\n",
       "    <tr>\n",
       "      <th>75%</th>\n",
       "      <td>9.000000</td>\n",
       "      <td>0.000000</td>\n",
       "      <td>4.000000</td>\n",
       "      <td>82515.750000</td>\n",
       "      <td>0.000000</td>\n",
       "      <td>6.000000</td>\n",
       "      <td>3.000000</td>\n",
       "      <td>2019.000000</td>\n",
       "    </tr>\n",
       "    <tr>\n",
       "      <th>max</th>\n",
       "      <td>12.000000</td>\n",
       "      <td>14.000000</td>\n",
       "      <td>6.000000</td>\n",
       "      <td>97898.000000</td>\n",
       "      <td>14.000000</td>\n",
       "      <td>10002.000000</td>\n",
       "      <td>5.000000</td>\n",
       "      <td>2020.000000</td>\n",
       "    </tr>\n",
       "  </tbody>\n",
       "</table>\n",
       "</div>"
      ],
      "text/plain": [
       "       created_month  votes_votes  issuetype_id      issue_id        votes  \\\n",
       "count    4478.000000  4478.000000   4478.000000   4478.000000  4478.000000   \n",
       "mean        6.224877     0.145154      3.225994  66027.045333     0.145154   \n",
       "std         3.326965     0.649676      1.375566  18303.765986     0.649676   \n",
       "min         1.000000     0.000000      1.000000  26987.000000     0.000000   \n",
       "25%         3.000000     0.000000      2.000000  51324.750000     0.000000   \n",
       "50%         6.000000     0.000000      4.000000  64374.500000     0.000000   \n",
       "75%         9.000000     0.000000      4.000000  82515.750000     0.000000   \n",
       "max        12.000000    14.000000      6.000000  97898.000000    14.000000   \n",
       "\n",
       "          status_id  priority_id  created_year  \n",
       "count   4478.000000  4478.000000   4478.000000  \n",
       "mean      59.072130     3.055159   2017.369361  \n",
       "std      729.896774     0.304598      1.553533  \n",
       "min        1.000000     1.000000   2015.000000  \n",
       "25%        6.000000     3.000000   2016.000000  \n",
       "50%        6.000000     3.000000   2017.000000  \n",
       "75%        6.000000     3.000000   2019.000000  \n",
       "max    10002.000000     5.000000   2020.000000  "
      ]
     },
     "execution_count": 371,
     "metadata": {},
     "output_type": "execute_result"
    }
   ],
   "source": [
    "issues.describe()"
   ]
  },
  {
   "cell_type": "code",
   "execution_count": 372,
   "metadata": {
    "scrolled": true
   },
   "outputs": [
    {
     "data": {
      "text/html": [
       "<div>\n",
       "<style scoped>\n",
       "    .dataframe tbody tr th:only-of-type {\n",
       "        vertical-align: middle;\n",
       "    }\n",
       "\n",
       "    .dataframe tbody tr th {\n",
       "        vertical-align: top;\n",
       "    }\n",
       "\n",
       "    .dataframe thead th {\n",
       "        text-align: right;\n",
       "    }\n",
       "</style>\n",
       "<table border=\"1\" class=\"dataframe\">\n",
       "  <thead>\n",
       "    <tr style=\"text-align: right;\">\n",
       "      <th></th>\n",
       "      <th>priority_name</th>\n",
       "      <th>status</th>\n",
       "      <th>assignee</th>\n",
       "      <th>assignee_name</th>\n",
       "      <th>reporter_name</th>\n",
       "      <th>issue_key</th>\n",
       "      <th>creator_name</th>\n",
       "      <th>environment</th>\n",
       "      <th>resolution_name</th>\n",
       "      <th>creator</th>\n",
       "      <th>edition</th>\n",
       "      <th>issuetype_name</th>\n",
       "      <th>description</th>\n",
       "      <th>status_name</th>\n",
       "      <th>project</th>\n",
       "      <th>summary</th>\n",
       "      <th>reporter</th>\n",
       "    </tr>\n",
       "  </thead>\n",
       "  <tbody>\n",
       "    <tr>\n",
       "      <th>count</th>\n",
       "      <td>4478</td>\n",
       "      <td>4478</td>\n",
       "      <td>3896</td>\n",
       "      <td>3896</td>\n",
       "      <td>4478</td>\n",
       "      <td>4478</td>\n",
       "      <td>4478</td>\n",
       "      <td>5</td>\n",
       "      <td>4006</td>\n",
       "      <td>4478</td>\n",
       "      <td>1869</td>\n",
       "      <td>4478</td>\n",
       "      <td>3916</td>\n",
       "      <td>4478</td>\n",
       "      <td>4478</td>\n",
       "      <td>4478</td>\n",
       "      <td>4478</td>\n",
       "    </tr>\n",
       "    <tr>\n",
       "      <th>unique</th>\n",
       "      <td>5</td>\n",
       "      <td>7</td>\n",
       "      <td>53</td>\n",
       "      <td>53</td>\n",
       "      <td>76</td>\n",
       "      <td>4478</td>\n",
       "      <td>74</td>\n",
       "      <td>5</td>\n",
       "      <td>9</td>\n",
       "      <td>74</td>\n",
       "      <td>1</td>\n",
       "      <td>6</td>\n",
       "      <td>3883</td>\n",
       "      <td>7</td>\n",
       "      <td>1</td>\n",
       "      <td>4462</td>\n",
       "      <td>76</td>\n",
       "    </tr>\n",
       "    <tr>\n",
       "      <th>top</th>\n",
       "      <td>Major</td>\n",
       "      <td>Closed</td>\n",
       "      <td>Stas Vilchik</td>\n",
       "      <td>stas.vilchik</td>\n",
       "      <td>stas.vilchik</td>\n",
       "      <td>SONAR-13594</td>\n",
       "      <td>stas.vilchik</td>\n",
       "      <td>MySQL 5.6.25</td>\n",
       "      <td>Fixed</td>\n",
       "      <td>Stas Vilchik</td>\n",
       "      <td>Community</td>\n",
       "      <td>Improvement</td>\n",
       "      <td>Template names are unique by organization. Con...</td>\n",
       "      <td>Closed</td>\n",
       "      <td>SONAR</td>\n",
       "      <td>Upgrade code analyzers to latest released vers...</td>\n",
       "      <td>Stas Vilchik</td>\n",
       "    </tr>\n",
       "    <tr>\n",
       "      <th>freq</th>\n",
       "      <td>4163</td>\n",
       "      <td>3994</td>\n",
       "      <td>607</td>\n",
       "      <td>607</td>\n",
       "      <td>631</td>\n",
       "      <td>1</td>\n",
       "      <td>657</td>\n",
       "      <td>1</td>\n",
       "      <td>3816</td>\n",
       "      <td>657</td>\n",
       "      <td>1869</td>\n",
       "      <td>2442</td>\n",
       "      <td>8</td>\n",
       "      <td>3994</td>\n",
       "      <td>4478</td>\n",
       "      <td>10</td>\n",
       "      <td>631</td>\n",
       "    </tr>\n",
       "  </tbody>\n",
       "</table>\n",
       "</div>"
      ],
      "text/plain": [
       "       priority_name  status      assignee assignee_name reporter_name  \\\n",
       "count           4478    4478          3896          3896          4478   \n",
       "unique             5       7            53            53            76   \n",
       "top            Major  Closed  Stas Vilchik  stas.vilchik  stas.vilchik   \n",
       "freq            4163    3994           607           607           631   \n",
       "\n",
       "          issue_key  creator_name   environment resolution_name       creator  \\\n",
       "count          4478          4478             5            4006          4478   \n",
       "unique         4478            74             5               9            74   \n",
       "top     SONAR-13594  stas.vilchik  MySQL 5.6.25           Fixed  Stas Vilchik   \n",
       "freq              1           657             1            3816           657   \n",
       "\n",
       "          edition issuetype_name  \\\n",
       "count        1869           4478   \n",
       "unique          1              6   \n",
       "top     Community    Improvement   \n",
       "freq         1869           2442   \n",
       "\n",
       "                                              description status_name project  \\\n",
       "count                                                3916        4478    4478   \n",
       "unique                                               3883           7       1   \n",
       "top     Template names are unique by organization. Con...      Closed   SONAR   \n",
       "freq                                                    8        3994    4478   \n",
       "\n",
       "                                                  summary      reporter  \n",
       "count                                                4478          4478  \n",
       "unique                                               4462            76  \n",
       "top     Upgrade code analyzers to latest released vers...  Stas Vilchik  \n",
       "freq                                                   10           631  "
      ]
     },
     "execution_count": 372,
     "metadata": {},
     "output_type": "execute_result"
    }
   ],
   "source": [
    "issues.describe(include = ['O'])"
   ]
  },
  {
   "cell_type": "markdown",
   "metadata": {},
   "source": [
    "* Votes has 75% percentile to 0 (most of the issues did not get votes) but has also a value of 14\n",
    "* There are 6 issuetypes\n",
    "* There are 7 statuses\n",
    "    \n",
    "We therefore safely remove one of each columns and keep the one in the more human readable form"
   ]
  },
  {
   "cell_type": "code",
   "execution_count": 373,
   "metadata": {},
   "outputs": [],
   "source": [
    "duplicated_columns = [\"issuetype\", \"assignee_key\", \"creator_key\", \"resolution\", \"priority\", \"reporter_key\", \"resolution_id\"]"
   ]
  },
  {
   "cell_type": "code",
   "execution_count": 374,
   "metadata": {},
   "outputs": [],
   "source": [
    "issues = issues[set(issues.columns) - set(duplicated_columns)]"
   ]
  },
  {
   "cell_type": "code",
   "execution_count": 375,
   "metadata": {},
   "outputs": [
    {
     "data": {
      "text/html": [
       "<div>\n",
       "<style scoped>\n",
       "    .dataframe tbody tr th:only-of-type {\n",
       "        vertical-align: middle;\n",
       "    }\n",
       "\n",
       "    .dataframe tbody tr th {\n",
       "        vertical-align: top;\n",
       "    }\n",
       "\n",
       "    .dataframe thead th {\n",
       "        text-align: right;\n",
       "    }\n",
       "</style>\n",
       "<table border=\"1\" class=\"dataframe\">\n",
       "  <thead>\n",
       "    <tr style=\"text-align: right;\">\n",
       "      <th></th>\n",
       "      <th>issue_id</th>\n",
       "      <th>fixVersion_id</th>\n",
       "    </tr>\n",
       "  </thead>\n",
       "  <tbody>\n",
       "    <tr>\n",
       "      <th>count</th>\n",
       "      <td>4120.000000</td>\n",
       "      <td>4120.000000</td>\n",
       "    </tr>\n",
       "    <tr>\n",
       "      <th>mean</th>\n",
       "      <td>63110.689806</td>\n",
       "      <td>13841.400243</td>\n",
       "    </tr>\n",
       "    <tr>\n",
       "      <th>std</th>\n",
       "      <td>16983.063655</td>\n",
       "      <td>1117.370133</td>\n",
       "    </tr>\n",
       "    <tr>\n",
       "      <th>min</th>\n",
       "      <td>26987.000000</td>\n",
       "      <td>11624.000000</td>\n",
       "    </tr>\n",
       "    <tr>\n",
       "      <th>25%</th>\n",
       "      <td>50473.500000</td>\n",
       "      <td>13287.000000</td>\n",
       "    </tr>\n",
       "    <tr>\n",
       "      <th>50%</th>\n",
       "      <td>61860.000000</td>\n",
       "      <td>13961.000000</td>\n",
       "    </tr>\n",
       "    <tr>\n",
       "      <th>75%</th>\n",
       "      <td>75037.750000</td>\n",
       "      <td>14549.000000</td>\n",
       "    </tr>\n",
       "    <tr>\n",
       "      <th>max</th>\n",
       "      <td>97858.000000</td>\n",
       "      <td>16435.000000</td>\n",
       "    </tr>\n",
       "  </tbody>\n",
       "</table>\n",
       "</div>"
      ],
      "text/plain": [
       "           issue_id  fixVersion_id\n",
       "count   4120.000000    4120.000000\n",
       "mean   63110.689806   13841.400243\n",
       "std    16983.063655    1117.370133\n",
       "min    26987.000000   11624.000000\n",
       "25%    50473.500000   13287.000000\n",
       "50%    61860.000000   13961.000000\n",
       "75%    75037.750000   14549.000000\n",
       "max    97858.000000   16435.000000"
      ]
     },
     "execution_count": 375,
     "metadata": {},
     "output_type": "execute_result"
    }
   ],
   "source": [
    "fixversions.describe()"
   ]
  },
  {
   "cell_type": "code",
   "execution_count": 376,
   "metadata": {},
   "outputs": [
    {
     "data": {
      "text/html": [
       "<div>\n",
       "<style scoped>\n",
       "    .dataframe tbody tr th:only-of-type {\n",
       "        vertical-align: middle;\n",
       "    }\n",
       "\n",
       "    .dataframe tbody tr th {\n",
       "        vertical-align: top;\n",
       "    }\n",
       "\n",
       "    .dataframe thead th {\n",
       "        text-align: right;\n",
       "    }\n",
       "</style>\n",
       "<table border=\"1\" class=\"dataframe\">\n",
       "  <thead>\n",
       "    <tr style=\"text-align: right;\">\n",
       "      <th></th>\n",
       "      <th>issue_id</th>\n",
       "      <th>version_id</th>\n",
       "    </tr>\n",
       "  </thead>\n",
       "  <tbody>\n",
       "    <tr>\n",
       "      <th>count</th>\n",
       "      <td>3335.000000</td>\n",
       "      <td>3335.000000</td>\n",
       "    </tr>\n",
       "    <tr>\n",
       "      <th>mean</th>\n",
       "      <td>40027.932834</td>\n",
       "      <td>12169.017091</td>\n",
       "    </tr>\n",
       "    <tr>\n",
       "      <th>std</th>\n",
       "      <td>18698.712548</td>\n",
       "      <td>1127.057544</td>\n",
       "    </tr>\n",
       "    <tr>\n",
       "      <th>min</th>\n",
       "      <td>26470.000000</td>\n",
       "      <td>11523.000000</td>\n",
       "    </tr>\n",
       "    <tr>\n",
       "      <th>25%</th>\n",
       "      <td>28845.000000</td>\n",
       "      <td>11556.000000</td>\n",
       "    </tr>\n",
       "    <tr>\n",
       "      <th>50%</th>\n",
       "      <td>30915.000000</td>\n",
       "      <td>11584.000000</td>\n",
       "    </tr>\n",
       "    <tr>\n",
       "      <th>75%</th>\n",
       "      <td>45677.500000</td>\n",
       "      <td>11647.000000</td>\n",
       "    </tr>\n",
       "    <tr>\n",
       "      <th>max</th>\n",
       "      <td>97777.000000</td>\n",
       "      <td>16404.000000</td>\n",
       "    </tr>\n",
       "  </tbody>\n",
       "</table>\n",
       "</div>"
      ],
      "text/plain": [
       "           issue_id    version_id\n",
       "count   3335.000000   3335.000000\n",
       "mean   40027.932834  12169.017091\n",
       "std    18698.712548   1127.057544\n",
       "min    26470.000000  11523.000000\n",
       "25%    28845.000000  11556.000000\n",
       "50%    30915.000000  11584.000000\n",
       "75%    45677.500000  11647.000000\n",
       "max    97777.000000  16404.000000"
      ]
     },
     "execution_count": 376,
     "metadata": {},
     "output_type": "execute_result"
    }
   ],
   "source": [
    "versions.describe()"
   ]
  },
  {
   "cell_type": "code",
   "execution_count": 377,
   "metadata": {},
   "outputs": [
    {
     "data": {
      "text/html": [
       "<div>\n",
       "<style scoped>\n",
       "    .dataframe tbody tr th:only-of-type {\n",
       "        vertical-align: middle;\n",
       "    }\n",
       "\n",
       "    .dataframe tbody tr th {\n",
       "        vertical-align: top;\n",
       "    }\n",
       "\n",
       "    .dataframe thead th {\n",
       "        text-align: right;\n",
       "    }\n",
       "</style>\n",
       "<table border=\"1\" class=\"dataframe\">\n",
       "  <thead>\n",
       "    <tr style=\"text-align: right;\">\n",
       "      <th></th>\n",
       "      <th>issue_id</th>\n",
       "    </tr>\n",
       "  </thead>\n",
       "  <tbody>\n",
       "    <tr>\n",
       "      <th>count</th>\n",
       "      <td>2153.000000</td>\n",
       "    </tr>\n",
       "    <tr>\n",
       "      <th>mean</th>\n",
       "      <td>63120.827682</td>\n",
       "    </tr>\n",
       "    <tr>\n",
       "      <th>std</th>\n",
       "      <td>13997.199729</td>\n",
       "    </tr>\n",
       "    <tr>\n",
       "      <th>min</th>\n",
       "      <td>27851.000000</td>\n",
       "    </tr>\n",
       "    <tr>\n",
       "      <th>25%</th>\n",
       "      <td>53032.000000</td>\n",
       "    </tr>\n",
       "    <tr>\n",
       "      <th>50%</th>\n",
       "      <td>59859.000000</td>\n",
       "    </tr>\n",
       "    <tr>\n",
       "      <th>75%</th>\n",
       "      <td>67364.000000</td>\n",
       "    </tr>\n",
       "    <tr>\n",
       "      <th>max</th>\n",
       "      <td>97868.000000</td>\n",
       "    </tr>\n",
       "  </tbody>\n",
       "</table>\n",
       "</div>"
      ],
      "text/plain": [
       "           issue_id\n",
       "count   2153.000000\n",
       "mean   63120.827682\n",
       "std    13997.199729\n",
       "min    27851.000000\n",
       "25%    53032.000000\n",
       "50%    59859.000000\n",
       "75%    67364.000000\n",
       "max    97868.000000"
      ]
     },
     "execution_count": 377,
     "metadata": {},
     "output_type": "execute_result"
    }
   ],
   "source": [
    "labels.describe()"
   ]
  },
  {
   "cell_type": "code",
   "execution_count": 378,
   "metadata": {
    "scrolled": true
   },
   "outputs": [
    {
     "data": {
      "text/html": [
       "<div>\n",
       "<style scoped>\n",
       "    .dataframe tbody tr th:only-of-type {\n",
       "        vertical-align: middle;\n",
       "    }\n",
       "\n",
       "    .dataframe tbody tr th {\n",
       "        vertical-align: top;\n",
       "    }\n",
       "\n",
       "    .dataframe thead th {\n",
       "        text-align: right;\n",
       "    }\n",
       "</style>\n",
       "<table border=\"1\" class=\"dataframe\">\n",
       "  <thead>\n",
       "    <tr style=\"text-align: right;\">\n",
       "      <th></th>\n",
       "      <th>issue_id</th>\n",
       "      <th>subtask_id</th>\n",
       "    </tr>\n",
       "  </thead>\n",
       "  <tbody>\n",
       "    <tr>\n",
       "      <th>count</th>\n",
       "      <td>327.000000</td>\n",
       "      <td>327.000000</td>\n",
       "    </tr>\n",
       "    <tr>\n",
       "      <th>mean</th>\n",
       "      <td>63831.709480</td>\n",
       "      <td>64812.807339</td>\n",
       "    </tr>\n",
       "    <tr>\n",
       "      <th>std</th>\n",
       "      <td>17465.431463</td>\n",
       "      <td>16634.620483</td>\n",
       "    </tr>\n",
       "    <tr>\n",
       "      <th>min</th>\n",
       "      <td>26991.000000</td>\n",
       "      <td>29633.000000</td>\n",
       "    </tr>\n",
       "    <tr>\n",
       "      <th>25%</th>\n",
       "      <td>57685.000000</td>\n",
       "      <td>57717.500000</td>\n",
       "    </tr>\n",
       "    <tr>\n",
       "      <th>50%</th>\n",
       "      <td>61889.000000</td>\n",
       "      <td>61948.000000</td>\n",
       "    </tr>\n",
       "    <tr>\n",
       "      <th>75%</th>\n",
       "      <td>74858.500000</td>\n",
       "      <td>74894.500000</td>\n",
       "    </tr>\n",
       "    <tr>\n",
       "      <th>max</th>\n",
       "      <td>97393.000000</td>\n",
       "      <td>97553.000000</td>\n",
       "    </tr>\n",
       "  </tbody>\n",
       "</table>\n",
       "</div>"
      ],
      "text/plain": [
       "           issue_id    subtask_id\n",
       "count    327.000000    327.000000\n",
       "mean   63831.709480  64812.807339\n",
       "std    17465.431463  16634.620483\n",
       "min    26991.000000  29633.000000\n",
       "25%    57685.000000  57717.500000\n",
       "50%    61889.000000  61948.000000\n",
       "75%    74858.500000  74894.500000\n",
       "max    97393.000000  97553.000000"
      ]
     },
     "execution_count": 378,
     "metadata": {},
     "output_type": "execute_result"
    }
   ],
   "source": [
    "substaks.describe()"
   ]
  },
  {
   "cell_type": "markdown",
   "metadata": {},
   "source": [
    "We do not detect anomalies in the statistical summaries of the other datasets"
   ]
  },
  {
   "cell_type": "markdown",
   "metadata": {},
   "source": [
    "### Missing values"
   ]
  },
  {
   "cell_type": "code",
   "execution_count": 379,
   "metadata": {},
   "outputs": [
    {
     "data": {
      "text/plain": [
       "lastViewed         4478\n",
       "environment        4473\n",
       "edition            2609\n",
       "duedate             820\n",
       "assignee_name       582\n",
       "assignee            582\n",
       "description         562\n",
       "resolutiondate      472\n",
       "resolution_name     472\n",
       "issuetype_id          0\n",
       "reporter_name         0\n",
       "reporter              0\n",
       "issue_key             0\n",
       "created               0\n",
       "status                0\n",
       "dtype: int64"
      ]
     },
     "execution_count": 379,
     "metadata": {},
     "output_type": "execute_result"
    }
   ],
   "source": [
    "issues.isna().sum().sort_values(ascending=False).head(15)"
   ]
  },
  {
   "cell_type": "code",
   "execution_count": 380,
   "metadata": {},
   "outputs": [
    {
     "data": {
      "text/plain": [
       "issue_id           0\n",
       "fixVersion_name    0\n",
       "fixVersion_id      0\n",
       "dtype: int64"
      ]
     },
     "execution_count": 380,
     "metadata": {},
     "output_type": "execute_result"
    }
   ],
   "source": [
    "fixversions.isna().sum()"
   ]
  },
  {
   "cell_type": "code",
   "execution_count": 381,
   "metadata": {
    "scrolled": true
   },
   "outputs": [
    {
     "data": {
      "text/plain": [
       "issue_id        0\n",
       "version_name    0\n",
       "version_id      0\n",
       "dtype: int64"
      ]
     },
     "execution_count": 381,
     "metadata": {},
     "output_type": "execute_result"
    }
   ],
   "source": [
    "versions.isna().sum()"
   ]
  },
  {
   "cell_type": "code",
   "execution_count": 382,
   "metadata": {},
   "outputs": [
    {
     "data": {
      "text/plain": [
       "issue_id    0\n",
       "label       0\n",
       "dtype: int64"
      ]
     },
     "execution_count": 382,
     "metadata": {},
     "output_type": "execute_result"
    }
   ],
   "source": [
    "labels.isna().sum()"
   ]
  },
  {
   "cell_type": "code",
   "execution_count": 383,
   "metadata": {},
   "outputs": [
    {
     "data": {
      "text/plain": [
       "issue_id       0\n",
       "subtask_key    0\n",
       "subtask_id     0\n",
       "dtype: int64"
      ]
     },
     "execution_count": 383,
     "metadata": {},
     "output_type": "execute_result"
    }
   ],
   "source": [
    "substaks.isna().sum()"
   ]
  },
  {
   "cell_type": "markdown",
   "metadata": {},
   "source": [
    "* There are missing values only in the issues dataset\n",
    "* All fields presenting missing values are fields which are optional in an issue. We therefore not worry about their absence even though that has to be taken into account when working with those fields."
   ]
  },
  {
   "cell_type": "markdown",
   "metadata": {},
   "source": [
    "## In depth analysis"
   ]
  },
  {
   "cell_type": "markdown",
   "metadata": {},
   "source": [
    "### IssueType"
   ]
  },
  {
   "cell_type": "code",
   "execution_count": 384,
   "metadata": {},
   "outputs": [
    {
     "data": {
      "text/plain": [
       "array(['Task', 'New Feature', 'Improvement', 'Documentation', 'Sub-task',\n",
       "       'Bug'], dtype=object)"
      ]
     },
     "execution_count": 384,
     "metadata": {},
     "output_type": "execute_result"
    }
   ],
   "source": [
    "issues.issuetype_name.unique()"
   ]
  },
  {
   "cell_type": "code",
   "execution_count": 385,
   "metadata": {},
   "outputs": [
    {
     "data": {
      "text/plain": [
       "Improvement      2442\n",
       "Bug              1001\n",
       "Task              366\n",
       "Sub-task          299\n",
       "New Feature       284\n",
       "Documentation      86\n",
       "Name: issuetype_name, dtype: int64"
      ]
     },
     "execution_count": 385,
     "metadata": {},
     "output_type": "execute_result"
    }
   ],
   "source": [
    "issues.issuetype_name.value_counts()"
   ]
  },
  {
   "cell_type": "code",
   "execution_count": 386,
   "metadata": {},
   "outputs": [
    {
     "data": {
      "text/plain": [
       "<AxesSubplot:xlabel='issuetype_name', ylabel='count'>"
      ]
     },
     "execution_count": 386,
     "metadata": {},
     "output_type": "execute_result"
    },
    {
     "data": {
      "image/png": "[encoded data removed]",
      "text/plain": [
       "<Figure size 1080x360 with 1 Axes>"
      ]
     },
     "metadata": {
      "needs_background": "light"
     },
     "output_type": "display_data"
    }
   ],
   "source": [
    "sns.countplot(x=\"issuetype_name\", data=issues[[\"issue_id\", \"issuetype_name\"]])"
   ]
  },
  {
   "cell_type": "code",
   "execution_count": 387,
   "metadata": {},
   "outputs": [
    {
     "data": {
      "text/plain": [
       "Improvement      0.545333\n",
       "Bug              0.223537\n",
       "Task             0.081733\n",
       "Sub-task         0.066771\n",
       "New Feature      0.063421\n",
       "Documentation    0.019205\n",
       "Name: issuetype_name, dtype: float64"
      ]
     },
     "execution_count": 387,
     "metadata": {},
     "output_type": "execute_result"
    }
   ],
   "source": [
    "issues.issuetype_name.value_counts(normalize=True)"
   ]
  },
  {
   "cell_type": "markdown",
   "metadata": {},
   "source": [
    "* We see that issues can only have one of these 6 issue types.\n",
    "* 54% is Improvement, followed by 22% Bug"
   ]
  },
  {
   "cell_type": "code",
   "execution_count": 388,
   "metadata": {},
   "outputs": [],
   "source": [
    "issues[\"created_month\"] = issues.created.dt.month\n",
    "issues[\"created_year\"] = issues.created.dt.year"
   ]
  },
  {
   "cell_type": "code",
   "execution_count": 389,
   "metadata": {
    "scrolled": false
   },
   "outputs": [
    {
     "data": {
      "image/png": "[encoded data removed]",
      "text/plain": [
       "<Figure size 1080x1440 with 6 Axes>"
      ]
     },
     "metadata": {
      "needs_background": "light"
     },
     "output_type": "display_data"
    }
   ],
   "source": [
    "time_group = [\"created_year\", \"created_month\"]\n",
    "f, axes = plt.subplots(len(issues.issuetype_name.unique()),1, figsize=(15,20), sharex=True)\n",
    "x = issues.groupby(time_group+[\"issuetype_name\"]).size().unstack(fill_value=0).reset_index()\n",
    "for i, issuetype in enumerate(issues.issuetype_name.unique()):\n",
    "    ax = sns.barplot(x=x.index, y=x[issuetype], ax=axes[i])\n",
    "    ax.set_xticklabels(list(x[time_group[1]].astype(int).astype(str) + \"/\" + x[time_group[0]].astype(int).astype(str)),\n",
    "                      rotation=90)\n",
    "    ax.set_ylabel(issuetype)"
   ]
  },
  {
   "cell_type": "markdown",
   "metadata": {},
   "source": [
    "* New Feature, Improvement have decresed in number over time\n",
    "* Documentation has increased after 1/2019\n",
    "* Bug has been quite consistent\n",
    "\n",
    "To note that the y-axis is not the same for the different plots. We are interested in seeing their trend overtime and using the same axis would penalize the types with fewer observations. "
   ]
  },
  {
   "cell_type": "markdown",
   "metadata": {},
   "source": [
    "### Resolution"
   ]
  },
  {
   "cell_type": "code",
   "execution_count": 390,
   "metadata": {},
   "outputs": [
    {
     "data": {
      "text/plain": [
       "array([nan, 'Fixed', 'Duplicate', \"Won't Do\", \"Won't Fix\", 'Done',\n",
       "       'Not an issue', 'Canceled', 'Cannot Reproduce', 'Moved To GitHub'],\n",
       "      dtype=object)"
      ]
     },
     "execution_count": 390,
     "metadata": {},
     "output_type": "execute_result"
    }
   ],
   "source": [
    "issues.resolution_name.unique()"
   ]
  },
  {
   "cell_type": "code",
   "execution_count": 391,
   "metadata": {},
   "outputs": [
    {
     "data": {
      "image/png": "[encoded data removed]",
      "text/plain": [
       "<Figure size 1080x360 with 1 Axes>"
      ]
     },
     "metadata": {
      "needs_background": "light"
     },
     "output_type": "display_data"
    }
   ],
   "source": [
    "ax = sns.countplot(x=\"resolution_name\", data=issues[[\"issue_id\", \"resolution_name\"]])\n",
    "ax.tick_params(axis='x', labelrotation= 60)"
   ]
  },
  {
   "cell_type": "code",
   "execution_count": 392,
   "metadata": {},
   "outputs": [
    {
     "name": "stderr",
     "output_type": "stream",
     "text": [
      "/Users/alexincerti/Library/Python/3.8/lib/python/site-packages/seaborn/_decorators.py:36: FutureWarning: Pass the following variable as a keyword arg: x. From version 0.12, the only valid positional argument will be `data`, and passing other arguments without an explicit keyword will result in an error or misinterpretation.\n",
      "  warnings.warn(\n"
     ]
    },
    {
     "data": {
      "image/png": "[encoded data removed]",
      "text/plain": [
       "<Figure size 1080x360 with 1 Axes>"
      ]
     },
     "metadata": {
      "needs_background": "light"
     },
     "output_type": "display_data"
    }
   ],
   "source": [
    "ax = sns.countplot(issues[~(issues.resolution_name == \"Fixed\") & ~(issues.resolution_name == \"Won't Fix\")].resolution_name)\n",
    "ax.tick_params(axis='x', labelrotation= 60)"
   ]
  },
  {
   "cell_type": "code",
   "execution_count": 393,
   "metadata": {},
   "outputs": [
    {
     "data": {
      "text/plain": [
       "Fixed               0.952571\n",
       "Won't Fix           0.028707\n",
       "Duplicate           0.008238\n",
       "Won't Do            0.004993\n",
       "Cannot Reproduce    0.002247\n",
       "Canceled            0.001997\n",
       "Done                0.000499\n",
       "Not an issue        0.000499\n",
       "Moved To GitHub     0.000250\n",
       "Name: resolution_name, dtype: float64"
      ]
     },
     "execution_count": 393,
     "metadata": {},
     "output_type": "execute_result"
    }
   ],
   "source": [
    "issues.resolution_name.value_counts(normalize=True)"
   ]
  },
  {
   "cell_type": "markdown",
   "metadata": {},
   "source": [
    "* 95% of the resolution are Fixed\n",
    "* 0.01% are duplicates (may need to be removed)"
   ]
  },
  {
   "cell_type": "markdown",
   "metadata": {},
   "source": [
    "### Priority"
   ]
  },
  {
   "cell_type": "code",
   "execution_count": 394,
   "metadata": {},
   "outputs": [
    {
     "data": {
      "text/plain": [
       "array(['Major', 'Minor', 'Trivial', 'Blocker', 'Critical'], dtype=object)"
      ]
     },
     "execution_count": 394,
     "metadata": {},
     "output_type": "execute_result"
    }
   ],
   "source": [
    "issues.priority_name.unique()"
   ]
  },
  {
   "cell_type": "code",
   "execution_count": 395,
   "metadata": {
    "scrolled": true
   },
   "outputs": [
    {
     "data": {
      "image/png": "[encoded data removed]",
      "text/plain": [
       "<Figure size 1080x360 with 1 Axes>"
      ]
     },
     "metadata": {
      "needs_background": "light"
     },
     "output_type": "display_data"
    }
   ],
   "source": [
    "ax = sns.countplot(x=\"priority_name\", data=issues[[\"issue_id\", \"priority_name\"]])"
   ]
  },
  {
   "cell_type": "code",
   "execution_count": 396,
   "metadata": {},
   "outputs": [
    {
     "data": {
      "text/plain": [
       "0"
      ]
     },
     "execution_count": 396,
     "metadata": {},
     "output_type": "execute_result"
    }
   ],
   "source": [
    "issues.priority_name.isna().sum()"
   ]
  },
  {
   "cell_type": "code",
   "execution_count": 397,
   "metadata": {},
   "outputs": [
    {
     "data": {
      "text/plain": [
       "Major       0.929656\n",
       "Minor       0.053149\n",
       "Critical    0.008709\n",
       "Trivial     0.006923\n",
       "Blocker     0.001563\n",
       "Name: priority_name, dtype: float64"
      ]
     },
     "execution_count": 397,
     "metadata": {},
     "output_type": "execute_result"
    }
   ],
   "source": [
    "issues.priority_name.value_counts(normalize=True)"
   ]
  },
  {
   "cell_type": "markdown",
   "metadata": {},
   "source": [
    "Every issue has a priority. With issue with Major priority representing the 93%"
   ]
  },
  {
   "cell_type": "markdown",
   "metadata": {},
   "source": [
    "## Labels"
   ]
  },
  {
   "cell_type": "code",
   "execution_count": 398,
   "metadata": {},
   "outputs": [],
   "source": [
    "labels_merge = labels.merge(issues, on=\"issue_id\")"
   ]
  },
  {
   "cell_type": "markdown",
   "metadata": {},
   "source": [
    "**Number of labels**"
   ]
  },
  {
   "cell_type": "code",
   "execution_count": 399,
   "metadata": {},
   "outputs": [
    {
     "data": {
      "text/plain": [
       "100"
      ]
     },
     "execution_count": 399,
     "metadata": {},
     "output_type": "execute_result"
    }
   ],
   "source": [
    "labels.label = labels.label.str.lower()\n",
    "len(labels.label.unique())"
   ]
  },
  {
   "cell_type": "markdown",
   "metadata": {},
   "source": [
    "**Number of issues with their number of labels**"
   ]
  },
  {
   "cell_type": "code",
   "execution_count": 400,
   "metadata": {},
   "outputs": [
    {
     "name": "stderr",
     "output_type": "stream",
     "text": [
      "/Users/alexincerti/Library/Python/3.8/lib/python/site-packages/seaborn/_decorators.py:36: FutureWarning: Pass the following variable as a keyword arg: x. From version 0.12, the only valid positional argument will be `data`, and passing other arguments without an explicit keyword will result in an error or misinterpretation.\n",
      "  warnings.warn(\n"
     ]
    },
    {
     "data": {
      "text/plain": [
       "<AxesSubplot:xlabel='label', ylabel='count'>"
      ]
     },
     "execution_count": 400,
     "metadata": {},
     "output_type": "execute_result"
    },
    {
     "data": {
      "image/png": "[encoded data removed]",
      "text/plain": [
       "<Figure size 1080x360 with 1 Axes>"
      ]
     },
     "metadata": {
      "needs_background": "light"
     },
     "output_type": "display_data"
    }
   ],
   "source": [
    "sns.countplot(labels_merge.groupby(\"issue_id\").count().label)"
   ]
  },
  {
   "cell_type": "markdown",
   "metadata": {},
   "source": [
    "**Top labels**"
   ]
  },
  {
   "cell_type": "code",
   "execution_count": 401,
   "metadata": {},
   "outputs": [
    {
     "data": {
      "text/plain": [
       "<AxesSubplot:>"
      ]
     },
     "execution_count": 401,
     "metadata": {},
     "output_type": "execute_result"
    },
    {
     "data": {
      "image/png": "[encoded data removed]",
      "text/plain": [
       "<Figure size 1080x360 with 1 Axes>"
      ]
     },
     "metadata": {
      "needs_background": "light"
     },
     "output_type": "display_data"
    }
   ],
   "source": [
    "vals = labels.label.value_counts().head(20)\n",
    "sns.barplot(x = vals.values, y=vals.index)"
   ]
  },
  {
   "cell_type": "markdown",
   "metadata": {},
   "source": [
    "* Lambda label seems to be the most popular ones by far"
   ]
  },
  {
   "cell_type": "markdown",
   "metadata": {},
   "source": [
    "### Versions\n",
    "No need to filter only the versions after the project moved to TravisCI, since we are merging the dataframe with the issues which are filtered already"
   ]
  },
  {
   "cell_type": "code",
   "execution_count": 402,
   "metadata": {},
   "outputs": [],
   "source": [
    "versions_merged = versions.merge(issues, on=\"issue_id\")"
   ]
  },
  {
   "cell_type": "code",
   "execution_count": 403,
   "metadata": {},
   "outputs": [
    {
     "data": {
      "text/plain": [
       "array(['3.5', '4.4', '4.5', '4.5.1', '4.5.2', '4.5.4', '4.5.5', '4.5.6',\n",
       "       '4.5.7', '5.0', '5.1', '5.1.1', '5.1.2', '5.2', '5.3', '5.4',\n",
       "       '5.5', '5.6', '5.6.1', '5.6.2', '5.6.3', '5.6.4', '5.6.5', '5.6.6',\n",
       "       '5.6.7', '6.0', '6.1', '6.1.1', '6.2', '6.3', '6.3.1', '6.3.2',\n",
       "       '6.4', '6.5', '6.5-M1', '6.6', '6.6-M1', '6.7', '6.7.1', '6.7.2',\n",
       "       '6.7.3', '6.7.4', '6.7.5', '6.7.6', '6.7.7', '7.0', '7.1', '7.2',\n",
       "       '7.2.1', '7.3', '7.4', '7.5', '7.6', '7.7', '7.8', '7.9', '7.9.1',\n",
       "       '8.0', '8.1', '8.2', '8.3', '8.3.1', '8.4', '8.4.1'], dtype=object)"
      ]
     },
     "execution_count": 403,
     "metadata": {},
     "output_type": "execute_result"
    }
   ],
   "source": [
    "versions_merged.version_name.sort_values().unique()"
   ]
  },
  {
   "cell_type": "code",
   "execution_count": 404,
   "metadata": {},
   "outputs": [
    {
     "data": {
      "text/plain": [
       "64"
      ]
     },
     "execution_count": 404,
     "metadata": {},
     "output_type": "execute_result"
    }
   ],
   "source": [
    "len(versions_merged.version_name.unique())"
   ]
  },
  {
   "cell_type": "markdown",
   "metadata": {},
   "source": [
    "**Number of versions per tags**"
   ]
  },
  {
   "cell_type": "code",
   "execution_count": 405,
   "metadata": {},
   "outputs": [
    {
     "name": "stderr",
     "output_type": "stream",
     "text": [
      "/Users/alexincerti/Library/Python/3.8/lib/python/site-packages/seaborn/_decorators.py:36: FutureWarning: Pass the following variable as a keyword arg: x. From version 0.12, the only valid positional argument will be `data`, and passing other arguments without an explicit keyword will result in an error or misinterpretation.\n",
      "  warnings.warn(\n"
     ]
    },
    {
     "data": {
      "text/plain": [
       "<AxesSubplot:ylabel='count'>"
      ]
     },
     "execution_count": 405,
     "metadata": {},
     "output_type": "execute_result"
    },
    {
     "data": {
      "image/png": "[encoded data removed]",
      "text/plain": [
       "<Figure size 1080x360 with 1 Axes>"
      ]
     },
     "metadata": {
      "needs_background": "light"
     },
     "output_type": "display_data"
    }
   ],
   "source": [
    "sns.countplot(versions.groupby(\"issue_id\").count().version_name.values)"
   ]
  },
  {
   "cell_type": "markdown",
   "metadata": {},
   "source": [
    "**Distribution of missing tags on Jira**"
   ]
  },
  {
   "cell_type": "code",
   "execution_count": 406,
   "metadata": {},
   "outputs": [],
   "source": [
    "#Versions on Jira have a slightly different format at times. This functions formats the versions to match Jira's\n",
    "def polish_version(version):\n",
    "    splits = version.split(\".\")\n",
    "    major = splits[0]\n",
    "    release = splits[1]\n",
    "    if(len(splits)>2):\n",
    "        modification = splits[2]\n",
    "        if(modification != \"0\"):\n",
    "            return f\"{major}.{release}.{modification}\"\n",
    "    \"\"\"if(\"-\" in release):\n",
    "        release = release.split(\"-\")[0]\"\"\"\n",
    "    return f\"{major}.{release}\"\n",
    "releases = set(map(lambda version: polish_version(version), tags.Tag.unique()))"
   ]
  },
  {
   "cell_type": "code",
   "execution_count": 407,
   "metadata": {
    "scrolled": true
   },
   "outputs": [
    {
     "name": "stderr",
     "output_type": "stream",
     "text": [
      "/Users/alexincerti/Library/Python/3.8/lib/python/site-packages/seaborn/_decorators.py:36: FutureWarning: Pass the following variable as a keyword arg: x. From version 0.12, the only valid positional argument will be `data`, and passing other arguments without an explicit keyword will result in an error or misinterpretation.\n",
      "  warnings.warn(\n"
     ]
    },
    {
     "data": {
      "text/plain": [
       "<AxesSubplot:ylabel='count'>"
      ]
     },
     "execution_count": 407,
     "metadata": {},
     "output_type": "execute_result"
    },
    {
     "data": {
      "image/png": "[encoded data removed]",
      "text/plain": [
       "<Figure size 1080x360 with 1 Axes>"
      ]
     },
     "metadata": {
      "needs_background": "light"
     },
     "output_type": "display_data"
    }
   ],
   "source": [
    "def type_of_version(version):\n",
    "    if \"RC\" in version: \n",
    "        return \"Release candidates\"\n",
    "    if \"M\" in version:\n",
    "        return \"Milestones\"\n",
    "    return \"Normal releases\"\n",
    "        \n",
    "    \n",
    "tags_not_on_jira = releases.difference(set(versions_merged.version_name.sort_values().unique()))\n",
    "tags_not_on_jira_type = list(map(lambda v: type_of_version(v), tags_not_on_jira))\n",
    "github_tags_type = list(map(lambda v: type_of_version(v), tags.Tag.unique()))\n",
    "sns.countplot(github_tags_type)"
   ]
  },
  {
   "cell_type": "markdown",
   "metadata": {},
   "source": [
    "**Percentage of missing tags for each type**"
   ]
  },
  {
   "cell_type": "code",
   "execution_count": 408,
   "metadata": {},
   "outputs": [
    {
     "data": {
      "text/plain": [
       "<AxesSubplot:xlabel='Release type', ylabel='% missing on jira'>"
      ]
     },
     "execution_count": 408,
     "metadata": {},
     "output_type": "execute_result"
    },
    {
     "data": {
      "image/png": "[encoded data removed]",
      "text/plain": [
       "<Figure size 1080x360 with 1 Axes>"
      ]
     },
     "metadata": {
      "needs_background": "light"
     },
     "output_type": "display_data"
    }
   ],
   "source": [
    "data = []\n",
    "for typ in set(github_tags_type):\n",
    "    data.append((typ,tags_not_on_jira_type.count(typ) / github_tags_type.count(typ) * 100))\n",
    "data = pd.DataFrame(data, columns=[\"Release type\", \"% missing on jira\"])\n",
    "sns.barplot(x=\"Release type\", y=\"% missing on jira\", data=data)"
   ]
  },
  {
   "cell_type": "code",
   "execution_count": 409,
   "metadata": {},
   "outputs": [
    {
     "data": {
      "text/html": [
       "<div>\n",
       "<style scoped>\n",
       "    .dataframe tbody tr th:only-of-type {\n",
       "        vertical-align: middle;\n",
       "    }\n",
       "\n",
       "    .dataframe tbody tr th {\n",
       "        vertical-align: top;\n",
       "    }\n",
       "\n",
       "    .dataframe thead th {\n",
       "        text-align: right;\n",
       "    }\n",
       "</style>\n",
       "<table border=\"1\" class=\"dataframe\">\n",
       "  <thead>\n",
       "    <tr style=\"text-align: right;\">\n",
       "      <th></th>\n",
       "      <th>Release type</th>\n",
       "      <th>% missing on jira</th>\n",
       "    </tr>\n",
       "  </thead>\n",
       "  <tbody>\n",
       "    <tr>\n",
       "      <th>0</th>\n",
       "      <td>Normal releases</td>\n",
       "      <td>5.084746</td>\n",
       "    </tr>\n",
       "    <tr>\n",
       "      <th>1</th>\n",
       "      <td>Milestones</td>\n",
       "      <td>0.000000</td>\n",
       "    </tr>\n",
       "  </tbody>\n",
       "</table>\n",
       "</div>"
      ],
      "text/plain": [
       "      Release type  % missing on jira\n",
       "0  Normal releases           5.084746\n",
       "1       Milestones           0.000000"
      ]
     },
     "execution_count": 409,
     "metadata": {},
     "output_type": "execute_result"
    }
   ],
   "source": [
    "data"
   ]
  },
  {
   "cell_type": "markdown",
   "metadata": {},
   "source": [
    "**Tags present on Jira but not on Github**"
   ]
  },
  {
   "cell_type": "code",
   "execution_count": 410,
   "metadata": {},
   "outputs": [
    {
     "data": {
      "text/plain": [
       "{'3.5',\n",
       " '4.4',\n",
       " '4.5',\n",
       " '4.5.1',\n",
       " '4.5.2',\n",
       " '4.5.4',\n",
       " '4.5.5',\n",
       " '5.0',\n",
       " '6.6-M1',\n",
       " '7.2.1'}"
      ]
     },
     "execution_count": 410,
     "metadata": {},
     "output_type": "execute_result"
    }
   ],
   "source": [
    "set(versions_merged.version_name.sort_values().unique()).difference(set(releases))"
   ]
  },
  {
   "cell_type": "code",
   "execution_count": 411,
   "metadata": {},
   "outputs": [
    {
     "data": {
      "text/plain": [
       "86"
      ]
     },
     "execution_count": 411,
     "metadata": {},
     "output_type": "execute_result"
    }
   ],
   "source": [
    "len(set(versions.version_name.sort_values().unique()).difference(set(releases)))"
   ]
  },
  {
   "cell_type": "code",
   "execution_count": 412,
   "metadata": {},
   "outputs": [
    {
     "data": {
      "text/plain": [
       "57"
      ]
     },
     "execution_count": 412,
     "metadata": {},
     "output_type": "execute_result"
    }
   ],
   "source": [
    "len(set(set(versions.version_name.sort_values().unique())).intersection(set(releases)))"
   ]
  },
  {
   "cell_type": "markdown",
   "metadata": {},
   "source": [
    "* 55 versions are both present in Jira version field and on Github as tag\n",
    "* 13 versions used on Jira do not correspond to a Tag on Github\n",
    "* 100% of the release candidates are not used on Jira\n",
    "* 96% of the milestones are not used on Jira\n",
    "* Only 1.7% of normal releases are not used on Jira"
   ]
  },
  {
   "cell_type": "markdown",
   "metadata": {},
   "source": [
    "**Percentage of issues with a version**"
   ]
  },
  {
   "cell_type": "code",
   "execution_count": 413,
   "metadata": {},
   "outputs": [
    {
     "data": {
      "text/plain": [
       "74.47521214828048"
      ]
     },
     "execution_count": 413,
     "metadata": {},
     "output_type": "execute_result"
    }
   ],
   "source": [
    "len(versions.issue_id)/(len(issues.issue_id))*100"
   ]
  },
  {
   "cell_type": "markdown",
   "metadata": {},
   "source": [
    "**Top versions**"
   ]
  },
  {
   "cell_type": "code",
   "execution_count": 414,
   "metadata": {},
   "outputs": [],
   "source": [
    "top_versions = versions_merged.groupby(\"version_name\").count().issue_id.reset_index().sort_values(by=\"issue_id\", ascending=False)"
   ]
  },
  {
   "cell_type": "code",
   "execution_count": 415,
   "metadata": {
    "scrolled": true
   },
   "outputs": [
    {
     "data": {
      "image/png": "[encoded data removed]",
      "text/plain": [
       "<Figure size 1080x360 with 1 Axes>"
      ]
     },
     "metadata": {
      "needs_background": "light"
     },
     "output_type": "display_data"
    }
   ],
   "source": [
    "ax = sns.barplot(x=\"version_name\", y=\"issue_id\", data=top_versions[[\"issue_id\", \"version_name\"]].head(30))"
   ]
  },
  {
   "cell_type": "code",
   "execution_count": 416,
   "metadata": {},
   "outputs": [
    {
     "data": {
      "text/plain": [
       "array(['5.2', '6.7', '5.6', '5.4', '6.2', '6.4', '6.0', '7.9.1', '5.1',\n",
       "       '5.3'], dtype=object)"
      ]
     },
     "execution_count": 416,
     "metadata": {},
     "output_type": "execute_result"
    }
   ],
   "source": [
    "top_versions.head(10).version_name.values"
   ]
  },
  {
   "cell_type": "markdown",
   "metadata": {},
   "source": [
    "**Distribution of issuetypes for each version**"
   ]
  },
  {
   "cell_type": "code",
   "execution_count": 417,
   "metadata": {},
   "outputs": [],
   "source": [
    "versions_sorted = versions_merged.sort_values(by=\"version_name\").version_name.unique()"
   ]
  },
  {
   "cell_type": "code",
   "execution_count": 418,
   "metadata": {
    "scrolled": false
   },
   "outputs": [
    {
     "data": {
      "image/png": "[encoded data removed]",
      "text/plain": [
       "<Figure size 1080x648 with 2 Axes>"
      ]
     },
     "metadata": {
      "needs_background": "light"
     },
     "output_type": "display_data"
    }
   ],
   "source": [
    "f, axes = plt.subplots(2,1, figsize=(15,9), sharey=True)\n",
    "for i in range(2):\n",
    "    data = versions_merged[versions_merged.version_name.isin(versions_sorted[32*i:32*(i+1)])]\n",
    "    ax = sns.countplot(ax=axes[i], x=\"version_name\", \n",
    "                       hue=\"issuetype_name\", data=data.sort_values(by=\"version_name\").head(3000),\n",
    "                      palette={\"Bug\":\"r\",\"Improvement\":\"orange\",\n",
    "                               \"New Feature\": \"green\",\n",
    "                               \"Task\": \"yellow\",\n",
    "                               \"Sub-task\": \"pink\",\n",
    "                              \"Documentation\": \"grey\"})\n",
    "    ax.tick_params(axis='x', labelrotation= 60)\n",
    "    if i > 0:\n",
    "        ax.get_legend().remove()"
   ]
  },
  {
   "cell_type": "markdown",
   "metadata": {},
   "source": [
    "**Percentage of issuestype with a version**"
   ]
  },
  {
   "cell_type": "code",
   "execution_count": 419,
   "metadata": {
    "scrolled": true
   },
   "outputs": [
    {
     "data": {
      "text/plain": [
       "<AxesSubplot:xlabel='issuetype', ylabel='percentage_of_issue_with_version'>"
      ]
     },
     "execution_count": 419,
     "metadata": {},
     "output_type": "execute_result"
    },
    {
     "data": {
      "image/png": "[encoded data removed]",
      "text/plain": [
       "<Figure size 1080x360 with 1 Axes>"
      ]
     },
     "metadata": {
      "needs_background": "light"
     },
     "output_type": "display_data"
    }
   ],
   "source": [
    "data = []\n",
    "for issuetype in issues.issuetype_name.unique():\n",
    "    data.append((issuetype, len(set(issues[issues.issuetype_name == issuetype].issue_id).intersection(set(versions.issue_id)))\\\n",
    "                 /len(issues[issues.issuetype_name == issuetype].issue_id)))\n",
    "sns.barplot(x=\"issuetype\", y=\"percentage_of_issue_with_version\", data=pd.DataFrame(data, columns=[\"issuetype\", \"percentage_of_issue_with_version\"]))"
   ]
  },
  {
   "cell_type": "code",
   "execution_count": 420,
   "metadata": {},
   "outputs": [
    {
     "data": {
      "text/plain": [
       "[('Task', 0.02185792349726776),\n",
       " ('New Feature', 0.0),\n",
       " ('Improvement', 0.03276003276003276),\n",
       " ('Documentation', 0.05813953488372093),\n",
       " ('Sub-task', 0.010033444816053512),\n",
       " ('Bug', 0.5404595404595405)]"
      ]
     },
     "execution_count": 420,
     "metadata": {},
     "output_type": "execute_result"
    }
   ],
   "source": [
    "data"
   ]
  },
  {
   "cell_type": "markdown",
   "metadata": {},
   "source": [
    "* We have 55 versions we can use for our Travis analysis\n",
    "* Only 74% of issues have a version\n",
    "* 54% of issues with type Bug have a version"
   ]
  },
  {
   "cell_type": "markdown",
   "metadata": {},
   "source": [
    "## FixVersions"
   ]
  },
  {
   "cell_type": "code",
   "execution_count": 421,
   "metadata": {},
   "outputs": [],
   "source": [
    "fixversions = fixversions[fixversions.fixVersion_name > \"4.4\"]\n",
    "fixversions_merged = fixversions.merge(issues, on=\"issue_id\")"
   ]
  },
  {
   "cell_type": "code",
   "execution_count": 422,
   "metadata": {},
   "outputs": [
    {
     "data": {
      "text/plain": [
       "array(['8.5', '8.6', '8.4.2', '9.0', '8.4.1', '8.4', '7.9.4', '8.3.1',\n",
       "       '8.3', '8.2', '7.9.3', '8.1', '7.9.2', '8.0', '7.9.1', '7.9',\n",
       "       '7.8', '6.7.7', '7.7', '7.6', '7.5', '6.7.6', '7.4', '6.7.5',\n",
       "       '7.3', '7.2.1', '7.2', '6.7.4', '7.1', '6.7.3', '6.7.2', '7.0',\n",
       "       '6.7.1', '6.7', '6.6', '6.6-M3', '6.6-M2', '6.6-M1', '5.6.7',\n",
       "       '6.5', '6.5-M4', '6.5-M3', '6.5-M2', '6.5-M1', '6.4', '6.3.1',\n",
       "       '6.3.2', '6.3', '5.6.6', '5.6.5', '6.2', '6.2.1', '5.6.4', '6.1.1',\n",
       "       '5.6.3', '6.1', '5.6.2', '6.0', '5.6.1', '5.6', '5.5', '4.5.7',\n",
       "       '5.4', '5.3', '5.2', '4.5.6', '4.5.5', '5.1.2', '5.1.1', '5.1'],\n",
       "      dtype=object)"
      ]
     },
     "execution_count": 422,
     "metadata": {},
     "output_type": "execute_result"
    }
   ],
   "source": [
    "fixversions.fixVersion_name.unique()"
   ]
  },
  {
   "cell_type": "code",
   "execution_count": 423,
   "metadata": {},
   "outputs": [
    {
     "data": {
      "text/plain": [
       "70"
      ]
     },
     "execution_count": 423,
     "metadata": {},
     "output_type": "execute_result"
    }
   ],
   "source": [
    "len(fixversions.fixVersion_name.unique())"
   ]
  },
  {
   "cell_type": "code",
   "execution_count": 424,
   "metadata": {},
   "outputs": [
    {
     "data": {
      "text/plain": [
       "{'4.5.5',\n",
       " '6.2.1',\n",
       " '6.5-M2',\n",
       " '6.5-M3',\n",
       " '6.5-M4',\n",
       " '6.6-M1',\n",
       " '6.6-M2',\n",
       " '6.6-M3',\n",
       " '7.2.1',\n",
       " '7.9.2',\n",
       " '8.5',\n",
       " '8.6',\n",
       " '9.0'}"
      ]
     },
     "execution_count": 424,
     "metadata": {},
     "output_type": "execute_result"
    }
   ],
   "source": [
    "set(fixversions.fixVersion_name.unique()) - set(tags.Tag.apply(polish_version))"
   ]
  },
  {
   "cell_type": "code",
   "execution_count": 425,
   "metadata": {},
   "outputs": [
    {
     "data": {
      "text/plain": [
       "{'6.2.1',\n",
       " '6.5-M2',\n",
       " '6.5-M3',\n",
       " '6.5-M4',\n",
       " '6.6-M2',\n",
       " '6.6-M3',\n",
       " '8.5',\n",
       " '8.6',\n",
       " '9.0'}"
      ]
     },
     "execution_count": 425,
     "metadata": {},
     "output_type": "execute_result"
    }
   ],
   "source": [
    "set(fixversions.fixVersion_name.unique()) - set(versions.version_name.unique())"
   ]
  },
  {
   "cell_type": "markdown",
   "metadata": {},
   "source": [
    "**How many fixversions each issue has?**"
   ]
  },
  {
   "cell_type": "code",
   "execution_count": 426,
   "metadata": {},
   "outputs": [
    {
     "data": {
      "text/plain": [
       "1    3218\n",
       "2     442\n",
       "3       6\n",
       "Name: fixVersion_id, dtype: int64"
      ]
     },
     "execution_count": 426,
     "metadata": {},
     "output_type": "execute_result"
    }
   ],
   "source": [
    "fixversions.groupby(\"issue_id\").fixVersion_id.count().value_counts()"
   ]
  },
  {
   "cell_type": "code",
   "execution_count": 427,
   "metadata": {},
   "outputs": [
    {
     "name": "stderr",
     "output_type": "stream",
     "text": [
      "/Users/alexincerti/Library/Python/3.8/lib/python/site-packages/seaborn/_decorators.py:36: FutureWarning: Pass the following variable as a keyword arg: x. From version 0.12, the only valid positional argument will be `data`, and passing other arguments without an explicit keyword will result in an error or misinterpretation.\n",
      "  warnings.warn(\n"
     ]
    },
    {
     "data": {
      "text/plain": [
       "<AxesSubplot:xlabel='fixVersion_id', ylabel='count'>"
      ]
     },
     "execution_count": 427,
     "metadata": {},
     "output_type": "execute_result"
    },
    {
     "data": {
      "image/png": "[encoded data removed]",
      "text/plain": [
       "<Figure size 1080x360 with 1 Axes>"
      ]
     },
     "metadata": {
      "needs_background": "light"
     },
     "output_type": "display_data"
    }
   ],
   "source": [
    "sns.countplot(fixversions.groupby(\"issue_id\").fixVersion_id.count())"
   ]
  },
  {
   "cell_type": "markdown",
   "metadata": {},
   "source": [
    "**Percentage of issues with a fixversion**"
   ]
  },
  {
   "cell_type": "code",
   "execution_count": 428,
   "metadata": {},
   "outputs": [
    {
     "data": {
      "text/plain": [
       "92.00535953550693"
      ]
     },
     "execution_count": 428,
     "metadata": {},
     "output_type": "execute_result"
    }
   ],
   "source": [
    "len(fixversions_merged.issue_id)/(len(issues.issue_id))*100"
   ]
  },
  {
   "cell_type": "markdown",
   "metadata": {},
   "source": [
    "**Top fixversions**"
   ]
  },
  {
   "cell_type": "code",
   "execution_count": 429,
   "metadata": {},
   "outputs": [],
   "source": [
    "top_fixversions = fixversions.groupby(\"fixVersion_name\").count().issue_id.reset_index().sort_values(by=\"issue_id\", ascending=False)"
   ]
  },
  {
   "cell_type": "code",
   "execution_count": 430,
   "metadata": {
    "scrolled": true
   },
   "outputs": [
    {
     "data": {
      "image/png": "[encoded data removed]",
      "text/plain": [
       "<Figure size 1080x360 with 1 Axes>"
      ]
     },
     "metadata": {
      "needs_background": "light"
     },
     "output_type": "display_data"
    }
   ],
   "source": [
    "ax = sns.barplot(x=\"fixVersion_name\", y=\"issue_id\", data=top_fixversions[[\"issue_id\", \"fixVersion_name\"]].head(30))"
   ]
  },
  {
   "cell_type": "code",
   "execution_count": 431,
   "metadata": {},
   "outputs": [
    {
     "data": {
      "text/plain": [
       "array(['5.2', '6.4', '6.3', '6.6', '6.2', '6.1', '6.7', '5.5', '7.2',\n",
       "       '5.6'], dtype=object)"
      ]
     },
     "execution_count": 431,
     "metadata": {},
     "output_type": "execute_result"
    }
   ],
   "source": [
    "top_fixversions.head(10).fixVersion_name.values"
   ]
  },
  {
   "cell_type": "markdown",
   "metadata": {},
   "source": [
    "**Distribution of issuetypes for each version**"
   ]
  },
  {
   "cell_type": "code",
   "execution_count": 432,
   "metadata": {},
   "outputs": [],
   "source": [
    "fixversions_sorted = fixversions.sort_values(by=\"fixVersion_name\").fixVersion_name.unique()"
   ]
  },
  {
   "cell_type": "code",
   "execution_count": 433,
   "metadata": {
    "scrolled": false
   },
   "outputs": [
    {
     "data": {
      "image/png": "[encoded data removed]",
      "text/plain": [
       "<Figure size 1080x648 with 2 Axes>"
      ]
     },
     "metadata": {
      "needs_background": "light"
     },
     "output_type": "display_data"
    }
   ],
   "source": [
    "f, axes = plt.subplots(2,1, figsize=(15,9), sharey=True)\n",
    "for i in range(2):\n",
    "    data = fixversions_merged[fixversions_merged.fixVersion_name.isin(fixversions_sorted[32*i:32*(i+1)])]\n",
    "    ax = sns.countplot(ax=axes[i], x=\"fixVersion_name\", \n",
    "                       hue=\"issuetype_name\", data=data.sort_values(by=\"fixVersion_name\").head(3000),\n",
    "                      palette={\"Bug\":\"r\",\"Improvement\":\"orange\",\n",
    "                               \"New Feature\": \"green\",\n",
    "                               \"Task\": \"yellow\",\n",
    "                               \"Sub-task\": \"pink\",\n",
    "                              \"Documentation\": \"grey\"})\n",
    "    ax.tick_params(axis='x', labelrotation= 60)\n",
    "    if i > 0:\n",
    "        ax.get_legend().remove()"
   ]
  },
  {
   "cell_type": "markdown",
   "metadata": {},
   "source": [
    "**Percentage of issuestype with a version**"
   ]
  },
  {
   "cell_type": "code",
   "execution_count": 434,
   "metadata": {
    "scrolled": true
   },
   "outputs": [
    {
     "data": {
      "text/plain": [
       "<AxesSubplot:xlabel='issuetype', ylabel='percentage_of_issue_with_fixversion'>"
      ]
     },
     "execution_count": 434,
     "metadata": {},
     "output_type": "execute_result"
    },
    {
     "data": {
      "image/png": "[encoded data removed]",
      "text/plain": [
       "<Figure size 1080x360 with 1 Axes>"
      ]
     },
     "metadata": {
      "needs_background": "light"
     },
     "output_type": "display_data"
    }
   ],
   "source": [
    "data = []\n",
    "for issuetype in issues.issuetype_name.unique():\n",
    "    issuetype_ids = issues[issues.issuetype_name == issuetype].issue_id\n",
    "    data.append((issuetype, len(set(issuetype_ids).intersection(set(fixversions.issue_id)))\\\n",
    "                 /len(issuetype_ids)))\n",
    "sns.barplot(x=\"issuetype\", y=\"percentage_of_issue_with_fixversion\", data=pd.DataFrame(data, columns=[\"issuetype\", \"percentage_of_issue_with_fixversion\"]))"
   ]
  },
  {
   "cell_type": "code",
   "execution_count": 435,
   "metadata": {},
   "outputs": [
    {
     "data": {
      "text/plain": [
       "[('Task', 0.7704918032786885),\n",
       " ('New Feature', 0.9014084507042254),\n",
       " ('Improvement', 0.7960687960687961),\n",
       " ('Documentation', 0.6744186046511628),\n",
       " ('Sub-task', 0.7090301003344481),\n",
       " ('Bug', 0.913086913086913)]"
      ]
     },
     "execution_count": 435,
     "metadata": {},
     "output_type": "execute_result"
    }
   ],
   "source": [
    "data"
   ]
  },
  {
   "cell_type": "markdown",
   "metadata": {},
   "source": [
    "* We have 70 (but 13 not on Github) fix versions we can use for our Travis analysis\n",
    "* 92% of issues have a fixversion\n",
    "* The issuetypes with most issues with a fixversion are Bug and New Feature"
   ]
  },
  {
   "cell_type": "markdown",
   "metadata": {},
   "source": [
    "## No version issues\n",
    "Ideally all bugs would be labeled with a version. Why is it not the case?"
   ]
  },
  {
   "cell_type": "code",
   "execution_count": 436,
   "metadata": {},
   "outputs": [
    {
     "data": {
      "text/html": [
       "<div>\n",
       "<style scoped>\n",
       "    .dataframe tbody tr th:only-of-type {\n",
       "        vertical-align: middle;\n",
       "    }\n",
       "\n",
       "    .dataframe tbody tr th {\n",
       "        vertical-align: top;\n",
       "    }\n",
       "\n",
       "    .dataframe thead th {\n",
       "        text-align: right;\n",
       "    }\n",
       "</style>\n",
       "<table border=\"1\" class=\"dataframe\">\n",
       "  <thead>\n",
       "    <tr style=\"text-align: right;\">\n",
       "      <th></th>\n",
       "      <th>created_month</th>\n",
       "      <th>votes_votes</th>\n",
       "      <th>priority_name</th>\n",
       "      <th>status</th>\n",
       "      <th>resolutiondate</th>\n",
       "      <th>assignee</th>\n",
       "      <th>created</th>\n",
       "      <th>assignee_name</th>\n",
       "      <th>reporter_name</th>\n",
       "      <th>issuetype_id</th>\n",
       "      <th>updated</th>\n",
       "      <th>issue_key</th>\n",
       "      <th>issue_id</th>\n",
       "      <th>duedate</th>\n",
       "      <th>creator_name</th>\n",
       "      <th>environment</th>\n",
       "      <th>resolution_name</th>\n",
       "      <th>votes</th>\n",
       "      <th>creator</th>\n",
       "      <th>edition</th>\n",
       "      <th>lastViewed</th>\n",
       "      <th>status_id</th>\n",
       "      <th>priority_id</th>\n",
       "      <th>issuetype_name</th>\n",
       "      <th>description</th>\n",
       "      <th>status_name</th>\n",
       "      <th>project</th>\n",
       "      <th>summary</th>\n",
       "      <th>created_year</th>\n",
       "      <th>reporter</th>\n",
       "    </tr>\n",
       "  </thead>\n",
       "  <tbody>\n",
       "    <tr>\n",
       "      <th>43</th>\n",
       "      <td>9</td>\n",
       "      <td>0</td>\n",
       "      <td>Major</td>\n",
       "      <td>Closed</td>\n",
       "      <td>2020-09-18 09:41:58+00:00</td>\n",
       "      <td>Jeremy Davis</td>\n",
       "      <td>2020-09-08 07:52:57+00:00</td>\n",
       "      <td>jeremy.davis</td>\n",
       "      <td>jacek.poreda</td>\n",
       "      <td>1</td>\n",
       "      <td>2020-09-18 09:41:58+00:00</td>\n",
       "      <td>SONAR-13857</td>\n",
       "      <td>97360</td>\n",
       "      <td>2020-09-21 00:00:00+00:00</td>\n",
       "      <td>jacek.poreda</td>\n",
       "      <td>NaN</td>\n",
       "      <td>Fixed</td>\n",
       "      <td>0</td>\n",
       "      <td>Jacek Poreda</td>\n",
       "      <td>Community</td>\n",
       "      <td>NaT</td>\n",
       "      <td>6</td>\n",
       "      <td>3</td>\n",
       "      <td>Bug</td>\n",
       "      <td>Facet `Security Review` is not working while c...</td>\n",
       "      <td>Closed</td>\n",
       "      <td>SONAR</td>\n",
       "      <td>Projects page - Security Review facet on new c...</td>\n",
       "      <td>2020</td>\n",
       "      <td>Jacek Poreda</td>\n",
       "    </tr>\n",
       "    <tr>\n",
       "      <th>46</th>\n",
       "      <td>9</td>\n",
       "      <td>0</td>\n",
       "      <td>Major</td>\n",
       "      <td>Open</td>\n",
       "      <td>NaT</td>\n",
       "      <td>NaN</td>\n",
       "      <td>2020-09-04 22:18:18+00:00</td>\n",
       "      <td>NaN</td>\n",
       "      <td>duarte.meneses</td>\n",
       "      <td>1</td>\n",
       "      <td>2020-09-04 22:20:07+00:00</td>\n",
       "      <td>SONAR-13854</td>\n",
       "      <td>97337</td>\n",
       "      <td>NaT</td>\n",
       "      <td>duarte.meneses</td>\n",
       "      <td>NaN</td>\n",
       "      <td>NaN</td>\n",
       "      <td>0</td>\n",
       "      <td>Duarte Meneses</td>\n",
       "      <td>Community</td>\n",
       "      <td>NaT</td>\n",
       "      <td>1</td>\n",
       "      <td>3</td>\n",
       "      <td>Bug</td>\n",
       "      <td>All plugins extending a base plugin share the ...</td>\n",
       "      <td>Open</td>\n",
       "      <td>SONAR</td>\n",
       "      <td>Identification of the plugin that created a ru...</td>\n",
       "      <td>2020</td>\n",
       "      <td>Duarte Meneses</td>\n",
       "    </tr>\n",
       "    <tr>\n",
       "      <th>52</th>\n",
       "      <td>9</td>\n",
       "      <td>0</td>\n",
       "      <td>Major</td>\n",
       "      <td>Closed</td>\n",
       "      <td>2020-09-04 13:22:54+00:00</td>\n",
       "      <td>Jeremy Davis</td>\n",
       "      <td>2020-09-02 15:59:37+00:00</td>\n",
       "      <td>jeremy.davis</td>\n",
       "      <td>jeremy.davis</td>\n",
       "      <td>1</td>\n",
       "      <td>2020-09-04 13:22:54+00:00</td>\n",
       "      <td>SONAR-13847</td>\n",
       "      <td>97230</td>\n",
       "      <td>2020-09-10 00:00:00+00:00</td>\n",
       "      <td>jeremy.davis</td>\n",
       "      <td>NaN</td>\n",
       "      <td>Fixed</td>\n",
       "      <td>0</td>\n",
       "      <td>Jeremy Davis</td>\n",
       "      <td>Community</td>\n",
       "      <td>NaT</td>\n",
       "      <td>6</td>\n",
       "      <td>3</td>\n",
       "      <td>Bug</td>\n",
       "      <td>When a new project is analyzed, the page is su...</td>\n",
       "      <td>Closed</td>\n",
       "      <td>SONAR</td>\n",
       "      <td>Project overview isn't refreshed after first a...</td>\n",
       "      <td>2020</td>\n",
       "      <td>Jeremy Davis</td>\n",
       "    </tr>\n",
       "    <tr>\n",
       "      <th>67</th>\n",
       "      <td>8</td>\n",
       "      <td>0</td>\n",
       "      <td>Major</td>\n",
       "      <td>Closed</td>\n",
       "      <td>2020-08-28 14:35:24+00:00</td>\n",
       "      <td>Duarte Meneses</td>\n",
       "      <td>2020-08-27 17:28:16+00:00</td>\n",
       "      <td>duarte.meneses</td>\n",
       "      <td>duarte.meneses</td>\n",
       "      <td>1</td>\n",
       "      <td>2020-08-28 14:35:24+00:00</td>\n",
       "      <td>SONAR-13827</td>\n",
       "      <td>97063</td>\n",
       "      <td>2020-09-03 00:00:00+00:00</td>\n",
       "      <td>duarte.meneses</td>\n",
       "      <td>NaN</td>\n",
       "      <td>Fixed</td>\n",
       "      <td>0</td>\n",
       "      <td>Duarte Meneses</td>\n",
       "      <td>Community</td>\n",
       "      <td>NaT</td>\n",
       "      <td>6</td>\n",
       "      <td>3</td>\n",
       "      <td>Bug</td>\n",
       "      <td>Due to a mistake implementing the new SCM API ...</td>\n",
       "      <td>Closed</td>\n",
       "      <td>SONAR</td>\n",
       "      <td>New Code Period set to \"reference branch\" is n...</td>\n",
       "      <td>2020</td>\n",
       "      <td>Duarte Meneses</td>\n",
       "    </tr>\n",
       "    <tr>\n",
       "      <th>68</th>\n",
       "      <td>8</td>\n",
       "      <td>0</td>\n",
       "      <td>Minor</td>\n",
       "      <td>Closed</td>\n",
       "      <td>2020-08-28 12:04:45+00:00</td>\n",
       "      <td>Julien Lancelot</td>\n",
       "      <td>2020-08-27 15:49:37+00:00</td>\n",
       "      <td>julien.lancelot</td>\n",
       "      <td>julien.lancelot</td>\n",
       "      <td>1</td>\n",
       "      <td>2020-08-28 12:04:45+00:00</td>\n",
       "      <td>SONAR-13826</td>\n",
       "      <td>97061</td>\n",
       "      <td>2020-09-03 00:00:00+00:00</td>\n",
       "      <td>julien.lancelot</td>\n",
       "      <td>NaN</td>\n",
       "      <td>Fixed</td>\n",
       "      <td>0</td>\n",
       "      <td>Julien Lancelot</td>\n",
       "      <td>Community</td>\n",
       "      <td>NaT</td>\n",
       "      <td>6</td>\n",
       "      <td>4</td>\n",
       "      <td>Bug</td>\n",
       "      <td>When requesting {{api/qualityprofiles/backup}}...</td>\n",
       "      <td>Closed</td>\n",
       "      <td>SONAR</td>\n",
       "      <td>api/qualityprofiles/backup is returning HTTP c...</td>\n",
       "      <td>2020</td>\n",
       "      <td>Julien Lancelot</td>\n",
       "    </tr>\n",
       "  </tbody>\n",
       "</table>\n",
       "</div>"
      ],
      "text/plain": [
       "    created_month  votes_votes priority_name  status  \\\n",
       "43              9            0         Major  Closed   \n",
       "46              9            0         Major    Open   \n",
       "52              9            0         Major  Closed   \n",
       "67              8            0         Major  Closed   \n",
       "68              8            0         Minor  Closed   \n",
       "\n",
       "              resolutiondate         assignee                   created  \\\n",
       "43 2020-09-18 09:41:58+00:00     Jeremy Davis 2020-09-08 07:52:57+00:00   \n",
       "46                       NaT              NaN 2020-09-04 22:18:18+00:00   \n",
       "52 2020-09-04 13:22:54+00:00     Jeremy Davis 2020-09-02 15:59:37+00:00   \n",
       "67 2020-08-28 14:35:24+00:00   Duarte Meneses 2020-08-27 17:28:16+00:00   \n",
       "68 2020-08-28 12:04:45+00:00  Julien Lancelot 2020-08-27 15:49:37+00:00   \n",
       "\n",
       "      assignee_name    reporter_name  issuetype_id                   updated  \\\n",
       "43     jeremy.davis     jacek.poreda             1 2020-09-18 09:41:58+00:00   \n",
       "46              NaN   duarte.meneses             1 2020-09-04 22:20:07+00:00   \n",
       "52     jeremy.davis     jeremy.davis             1 2020-09-04 13:22:54+00:00   \n",
       "67   duarte.meneses   duarte.meneses             1 2020-08-28 14:35:24+00:00   \n",
       "68  julien.lancelot  julien.lancelot             1 2020-08-28 12:04:45+00:00   \n",
       "\n",
       "      issue_key  issue_id                   duedate     creator_name  \\\n",
       "43  SONAR-13857     97360 2020-09-21 00:00:00+00:00     jacek.poreda   \n",
       "46  SONAR-13854     97337                       NaT   duarte.meneses   \n",
       "52  SONAR-13847     97230 2020-09-10 00:00:00+00:00     jeremy.davis   \n",
       "67  SONAR-13827     97063 2020-09-03 00:00:00+00:00   duarte.meneses   \n",
       "68  SONAR-13826     97061 2020-09-03 00:00:00+00:00  julien.lancelot   \n",
       "\n",
       "   environment resolution_name  votes          creator    edition lastViewed  \\\n",
       "43         NaN           Fixed      0     Jacek Poreda  Community        NaT   \n",
       "46         NaN             NaN      0   Duarte Meneses  Community        NaT   \n",
       "52         NaN           Fixed      0     Jeremy Davis  Community        NaT   \n",
       "67         NaN           Fixed      0   Duarte Meneses  Community        NaT   \n",
       "68         NaN           Fixed      0  Julien Lancelot  Community        NaT   \n",
       "\n",
       "    status_id  priority_id issuetype_name  \\\n",
       "43          6            3            Bug   \n",
       "46          1            3            Bug   \n",
       "52          6            3            Bug   \n",
       "67          6            3            Bug   \n",
       "68          6            4            Bug   \n",
       "\n",
       "                                          description status_name project  \\\n",
       "43  Facet `Security Review` is not working while c...      Closed   SONAR   \n",
       "46  All plugins extending a base plugin share the ...        Open   SONAR   \n",
       "52  When a new project is analyzed, the page is su...      Closed   SONAR   \n",
       "67  Due to a mistake implementing the new SCM API ...      Closed   SONAR   \n",
       "68  When requesting {{api/qualityprofiles/backup}}...      Closed   SONAR   \n",
       "\n",
       "                                              summary  created_year  \\\n",
       "43  Projects page - Security Review facet on new c...          2020   \n",
       "46  Identification of the plugin that created a ru...          2020   \n",
       "52  Project overview isn't refreshed after first a...          2020   \n",
       "67  New Code Period set to \"reference branch\" is n...          2020   \n",
       "68  api/qualityprofiles/backup is returning HTTP c...          2020   \n",
       "\n",
       "           reporter  \n",
       "43     Jacek Poreda  \n",
       "46   Duarte Meneses  \n",
       "52     Jeremy Davis  \n",
       "67   Duarte Meneses  \n",
       "68  Julien Lancelot  "
      ]
     },
     "execution_count": 436,
     "metadata": {},
     "output_type": "execute_result"
    }
   ],
   "source": [
    "no_version_issues = issues[~issues.issue_id.isin(versions.issue_id.unique())]\n",
    "bug_no_version = no_version_issues[no_version_issues.issuetype_name == \"Bug\"]\n",
    "bug_no_version.head()"
   ]
  },
  {
   "cell_type": "code",
   "execution_count": 444,
   "metadata": {},
   "outputs": [
    {
     "data": {
      "text/plain": [
       "460"
      ]
     },
     "execution_count": 444,
     "metadata": {},
     "output_type": "execute_result"
    }
   ],
   "source": [
    "len(bug_no_version)"
   ]
  },
  {
   "cell_type": "markdown",
   "metadata": {},
   "source": [
    "**Issues with no version and their resolution type distribution**"
   ]
  },
  {
   "cell_type": "code",
   "execution_count": 445,
   "metadata": {},
   "outputs": [
    {
     "data": {
      "text/plain": [
       "Fixed               0.949647\n",
       "Won't Fix           0.030330\n",
       "Duplicate           0.007951\n",
       "Won't Do            0.005889\n",
       "Cannot Reproduce    0.002356\n",
       "Canceled            0.002356\n",
       "Done                0.000589\n",
       "Not an issue        0.000589\n",
       "Moved To GitHub     0.000294\n",
       "Name: resolution_name, dtype: float64"
      ]
     },
     "execution_count": 445,
     "metadata": {},
     "output_type": "execute_result"
    }
   ],
   "source": [
    "no_version_issues.resolution_name.value_counts(normalize=True)"
   ]
  },
  {
   "cell_type": "code",
   "execution_count": 446,
   "metadata": {},
   "outputs": [
    {
     "name": "stderr",
     "output_type": "stream",
     "text": [
      "/Users/alexincerti/Library/Python/3.8/lib/python/site-packages/seaborn/_decorators.py:36: FutureWarning: Pass the following variable as a keyword arg: x. From version 0.12, the only valid positional argument will be `data`, and passing other arguments without an explicit keyword will result in an error or misinterpretation.\n",
      "  warnings.warn(\n"
     ]
    },
    {
     "data": {
      "text/plain": [
       "<AxesSubplot:xlabel='resolution_name', ylabel='count'>"
      ]
     },
     "execution_count": 446,
     "metadata": {},
     "output_type": "execute_result"
    },
    {
     "data": {
      "image/png": "[encoded data removed]",
      "text/plain": [
       "<Figure size 1080x360 with 1 Axes>"
      ]
     },
     "metadata": {
      "needs_background": "light"
     },
     "output_type": "display_data"
    }
   ],
   "source": [
    "sns.countplot(no_version_issues.resolution_name)"
   ]
  },
  {
   "cell_type": "markdown",
   "metadata": {},
   "source": [
    "**Percentage of issues with no versions over the years**"
   ]
  },
  {
   "cell_type": "code",
   "execution_count": 447,
   "metadata": {},
   "outputs": [
    {
     "name": "stderr",
     "output_type": "stream",
     "text": [
      "/Users/alexincerti/Library/Python/3.8/lib/python/site-packages/seaborn/_decorators.py:36: FutureWarning: Pass the following variables as keyword args: x, y. From version 0.12, the only valid positional argument will be `data`, and passing other arguments without an explicit keyword will result in an error or misinterpretation.\n",
      "  warnings.warn(\n"
     ]
    },
    {
     "data": {
      "text/plain": [
       "<AxesSubplot:>"
      ]
     },
     "execution_count": 447,
     "metadata": {},
     "output_type": "execute_result"
    },
    {
     "data": {
      "image/png": "[encoded data removed]",
      "text/plain": [
       "<Figure size 1080x360 with 1 Axes>"
      ]
     },
     "metadata": {
      "needs_background": "light"
     },
     "output_type": "display_data"
    }
   ],
   "source": [
    "x = no_version_issues.created_year.value_counts(normalize=True).sort_index()\n",
    "sns.barplot(x.index, x.values)"
   ]
  },
  {
   "cell_type": "markdown",
   "metadata": {},
   "source": [
    "**Bugs with no version resolution type distribution**"
   ]
  },
  {
   "cell_type": "code",
   "execution_count": 450,
   "metadata": {},
   "outputs": [
    {
     "data": {
      "text/plain": [
       "Fixed               415\n",
       "Won't Fix            14\n",
       "Cannot Reproduce      6\n",
       "Duplicate             2\n",
       "Name: resolution_name, dtype: int64"
      ]
     },
     "execution_count": 450,
     "metadata": {},
     "output_type": "execute_result"
    }
   ],
   "source": [
    "bug_no_version.resolution_name.value_counts()"
   ]
  },
  {
   "cell_type": "code",
   "execution_count": 448,
   "metadata": {},
   "outputs": [
    {
     "data": {
      "text/plain": [
       "Fixed               0.949657\n",
       "Won't Fix           0.032037\n",
       "Cannot Reproduce    0.013730\n",
       "Duplicate           0.004577\n",
       "Name: resolution_name, dtype: float64"
      ]
     },
     "execution_count": 448,
     "metadata": {},
     "output_type": "execute_result"
    }
   ],
   "source": [
    "bug_no_version.resolution_name.value_counts(normalize=True)"
   ]
  },
  {
   "cell_type": "code",
   "execution_count": 449,
   "metadata": {},
   "outputs": [
    {
     "name": "stderr",
     "output_type": "stream",
     "text": [
      "/Users/alexincerti/Library/Python/3.8/lib/python/site-packages/seaborn/_decorators.py:36: FutureWarning: Pass the following variable as a keyword arg: x. From version 0.12, the only valid positional argument will be `data`, and passing other arguments without an explicit keyword will result in an error or misinterpretation.\n",
      "  warnings.warn(\n"
     ]
    },
    {
     "data": {
      "text/plain": [
       "<AxesSubplot:xlabel='resolution_name', ylabel='count'>"
      ]
     },
     "execution_count": 449,
     "metadata": {},
     "output_type": "execute_result"
    },
    {
     "data": {
      "image/png": "[encoded data removed]",
      "text/plain": [
       "<Figure size 1080x360 with 1 Axes>"
      ]
     },
     "metadata": {
      "needs_background": "light"
     },
     "output_type": "display_data"
    }
   ],
   "source": [
    "sns.countplot(bug_no_version.resolution_name)"
   ]
  },
  {
   "cell_type": "markdown",
   "metadata": {},
   "source": [
    "* 94% of the issues with no version have been fixed\n",
    "* 94% of the issues with no version AND of type Bug have been fixed\n",
    "\n",
    "This means that for almost 415 bug issues a solution has been found. This can possibly be exploited for identifying in which version the bug was introduced."
   ]
  },
  {
   "cell_type": "markdown",
   "metadata": {},
   "source": [
    "### Status"
   ]
  },
  {
   "cell_type": "code",
   "execution_count": 442,
   "metadata": {},
   "outputs": [
    {
     "data": {
      "text/plain": [
       "array(['Open', 'In Review', 'In Progress', 'To Do', 'Closed', 'Resolved',\n",
       "       'Reopened'], dtype=object)"
      ]
     },
     "execution_count": 442,
     "metadata": {},
     "output_type": "execute_result"
    }
   ],
   "source": [
    "issues.status.unique()"
   ]
  },
  {
   "cell_type": "code",
   "execution_count": 443,
   "metadata": {
    "scrolled": true
   },
   "outputs": [
    {
     "data": {
      "image/png": "[encoded data removed]",
      "text/plain": [
       "<Figure size 1080x360 with 1 Axes>"
      ]
     },
     "metadata": {
      "needs_background": "light"
     },
     "output_type": "display_data"
    }
   ],
   "source": [
    "ax = sns.countplot(x=\"status\", data=issues[[\"issue_id\", \"status\"]])"
   ]
  },
  {
   "cell_type": "markdown",
   "metadata": {},
   "source": [
    "### Further analysis\n",
    "* Time between issue reported and closed\n",
    "* Number of subtasks per issue"
   ]
  }
 ],
 "metadata": {
  "kernelspec": {
   "display_name": "Python 3",
   "language": "python",
   "name": "python3"
  },
  "language_info": {
   "codemirror_mode": {
    "name": "ipython",
    "version": 3
   },
   "file_extension": ".py",
   "mimetype": "text/x-python",
   "name": "python",
   "nbconvert_exporter": "python",
   "pygments_lexer": "ipython3",
   "version": "3.8.2"
  }
 },
 "nbformat": 4,
 "nbformat_minor": 4
}
