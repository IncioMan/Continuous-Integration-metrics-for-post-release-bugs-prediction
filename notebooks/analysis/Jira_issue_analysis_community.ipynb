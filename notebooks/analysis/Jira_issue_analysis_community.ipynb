{
 "cells": [
  {
   "cell_type": "code",
   "execution_count": 151,
   "metadata": {},
   "outputs": [],
   "source": [
    "import pandas as pd\n",
    "import pickle\n",
    "import json\n",
    "import seaborn as sns\n",
    "import pprint\n",
    "import numpy as np\n",
    "pp = pprint.PrettyPrinter(depth=6)\n",
    "import matplotlib\n",
    "import matplotlib.pyplot as plt\n",
    "matplotlib.rcParams['figure.figsize'] = (15.0, 5.0)\n",
    "pd.set_option('display.max_columns', 120)"
   ]
  },
  {
   "cell_type": "code",
   "execution_count": 108,
   "metadata": {},
   "outputs": [],
   "source": [
    "pkl_folder = \"../../pkl\"\n",
    "csv_folder = \"../../csv\"\n",
    "figure_folder = \"../../figures\""
   ]
  },
  {
   "cell_type": "markdown",
   "metadata": {},
   "source": [
    "| Field          | Description                                                     | Type of variable |\n",
    "|----------------|-----------------------------------------------------------------|------------------|\n",
    "| fixVersions    | Search for issues that are assigned to a particular fix version | list of versions |\n",
    "| issuetype      | Type of issue                                                   | Categorical      |\n",
    "| project        | The project the issue belongs to                                | String           |\n",
    "| resolution     | The resolution of the issue                                     | Categorical      |\n",
    "| resolutiondate | The date the issue was resolved                                 | Date             |\n",
    "| workratio      | calculated as workRatio = (timeSpent / originalEstimate) x 100  | Number           |\n",
    "| lastViewed     | The date at which the issue was last viewed                     | Date             |\n",
    "| watches        | Users watching the issue                                        | ?                |\n",
    "| created        | The date of the creation of the issue                           | Date             |\n",
    "| priority       | Priority assigned to the issue                                  | Categorical      |\n",
    "| labels         | Labels assigned to the issue                                    | Strings          |\n",
    "| versions       | The versions affected by the issue                              | List             |\n",
    "| assignee       | The user the issue is assigned to                               | User             |\n",
    "| status         | The status of the issue                                         | Categorical      |\n",
    "| description    | The description of the issue                                    | String           |\n",
    "| summary        | A summary of the issue reported                                 | String           |\n",
    "| creator        | The user that created the issue                                 | User             |\n",
    "| subtasks       | The subtasks of the issue                                       | List of issues   |\n",
    "| reporter       | The user who reported the issue. May be the same as the creator | User             |\n",
    "| duedate        | The date the issue is due to be resolved                        | Date             |"
   ]
  },
  {
   "cell_type": "markdown",
   "metadata": {},
   "source": [
    "### Import tags"
   ]
  },
  {
   "cell_type": "code",
   "execution_count": 3,
   "metadata": {},
   "outputs": [
    {
     "data": {
      "text/html": [
       "<div>\n",
       "<style scoped>\n",
       "    .dataframe tbody tr th:only-of-type {\n",
       "        vertical-align: middle;\n",
       "    }\n",
       "\n",
       "    .dataframe tbody tr th {\n",
       "        vertical-align: top;\n",
       "    }\n",
       "\n",
       "    .dataframe thead th {\n",
       "        text-align: right;\n",
       "    }\n",
       "</style>\n",
       "<table border=\"1\" class=\"dataframe\">\n",
       "  <thead>\n",
       "    <tr style=\"text-align: right;\">\n",
       "      <th></th>\n",
       "      <th>actual_release_date</th>\n",
       "      <th>Tag</th>\n",
       "      <th>Sha</th>\n",
       "      <th>Date</th>\n",
       "      <th>month</th>\n",
       "      <th>year</th>\n",
       "      <th>major_version</th>\n",
       "      <th>jira_version</th>\n",
       "    </tr>\n",
       "  </thead>\n",
       "  <tbody>\n",
       "    <tr>\n",
       "      <th>0</th>\n",
       "      <td>NaN</td>\n",
       "      <td>4.5.6</td>\n",
       "      <td>12d931e5a31e1692a428bbb34ba11cd63aebf998</td>\n",
       "      <td>2015-10-16 09:31:18</td>\n",
       "      <td>10</td>\n",
       "      <td>2015</td>\n",
       "      <td>4</td>\n",
       "      <td>4.5.6</td>\n",
       "    </tr>\n",
       "    <tr>\n",
       "      <th>1</th>\n",
       "      <td>NaN</td>\n",
       "      <td>4.5.7</td>\n",
       "      <td>e2afb0bff1b8be759789d2c1bc9348de6f519f83</td>\n",
       "      <td>2016-04-08 13:44:39</td>\n",
       "      <td>4</td>\n",
       "      <td>2016</td>\n",
       "      <td>4</td>\n",
       "      <td>4.5.7</td>\n",
       "    </tr>\n",
       "    <tr>\n",
       "      <th>2</th>\n",
       "      <td>2015-04-23 00:00:00</td>\n",
       "      <td>5.1</td>\n",
       "      <td>4aa9af3a6a4362b61db365fba32eb0a55d411e7a</td>\n",
       "      <td>2015-04-02 08:09:45</td>\n",
       "      <td>4</td>\n",
       "      <td>2015</td>\n",
       "      <td>5</td>\n",
       "      <td>5.1</td>\n",
       "    </tr>\n",
       "    <tr>\n",
       "      <th>3</th>\n",
       "      <td>NaN</td>\n",
       "      <td>5.1.1</td>\n",
       "      <td>0a231d24c0f1e7ce1d200274b8e9bbe00f9f49fb</td>\n",
       "      <td>2015-06-02 08:34:06</td>\n",
       "      <td>6</td>\n",
       "      <td>2015</td>\n",
       "      <td>5</td>\n",
       "      <td>5.1.1</td>\n",
       "    </tr>\n",
       "    <tr>\n",
       "      <th>4</th>\n",
       "      <td>NaN</td>\n",
       "      <td>5.1.2</td>\n",
       "      <td>2a52a7106b2bfbd659c591c2d6fc09ad0ab2db5c</td>\n",
       "      <td>2015-07-27 08:03:21</td>\n",
       "      <td>7</td>\n",
       "      <td>2015</td>\n",
       "      <td>5</td>\n",
       "      <td>5.1.2</td>\n",
       "    </tr>\n",
       "  </tbody>\n",
       "</table>\n",
       "</div>"
      ],
      "text/plain": [
       "   actual_release_date    Tag                                       Sha  \\\n",
       "0                  NaN  4.5.6  12d931e5a31e1692a428bbb34ba11cd63aebf998   \n",
       "1                  NaN  4.5.7  e2afb0bff1b8be759789d2c1bc9348de6f519f83   \n",
       "2  2015-04-23 00:00:00    5.1  4aa9af3a6a4362b61db365fba32eb0a55d411e7a   \n",
       "3                  NaN  5.1.1  0a231d24c0f1e7ce1d200274b8e9bbe00f9f49fb   \n",
       "4                  NaN  5.1.2  2a52a7106b2bfbd659c591c2d6fc09ad0ab2db5c   \n",
       "\n",
       "                 Date  month  year  major_version jira_version  \n",
       "0 2015-10-16 09:31:18     10  2015              4        4.5.6  \n",
       "1 2016-04-08 13:44:39      4  2016              4        4.5.7  \n",
       "2 2015-04-02 08:09:45      4  2015              5          5.1  \n",
       "3 2015-06-02 08:34:06      6  2015              5        5.1.1  \n",
       "4 2015-07-27 08:03:21      7  2015              5        5.1.2  "
      ]
     },
     "execution_count": 3,
     "metadata": {},
     "output_type": "execute_result"
    }
   ],
   "source": [
    "tags = pd.read_csv(f\"{csv_folder}/tags_updated.csv\", index_col=0)\n",
    "tags.Date = pd.to_datetime(tags.Date)\n",
    "tags = tags[tags.Date > \"2015-03-10\"]\n",
    "tags[\"month\"] = tags.Date.dt.month\n",
    "tags[\"year\"] = tags.Date.dt.year\n",
    "tags.head()"
   ]
  },
  {
   "cell_type": "markdown",
   "metadata": {},
   "source": [
    "### Import issues"
   ]
  },
  {
   "cell_type": "code",
   "execution_count": 48,
   "metadata": {
    "scrolled": true
   },
   "outputs": [
    {
     "data": {
      "text/html": [
       "<div>\n",
       "<style scoped>\n",
       "    .dataframe tbody tr th:only-of-type {\n",
       "        vertical-align: middle;\n",
       "    }\n",
       "\n",
       "    .dataframe tbody tr th {\n",
       "        vertical-align: top;\n",
       "    }\n",
       "\n",
       "    .dataframe thead th {\n",
       "        text-align: right;\n",
       "    }\n",
       "</style>\n",
       "<table border=\"1\" class=\"dataframe\">\n",
       "  <thead>\n",
       "    <tr style=\"text-align: right;\">\n",
       "      <th></th>\n",
       "      <th>issue_key</th>\n",
       "      <th>issue_id</th>\n",
       "      <th>issuetype</th>\n",
       "      <th>customfield_12130</th>\n",
       "      <th>customfield_11041</th>\n",
       "      <th>customfield_12132</th>\n",
       "      <th>customfield_12131</th>\n",
       "      <th>project</th>\n",
       "      <th>customfield_12134</th>\n",
       "      <th>customfield_12530</th>\n",
       "      <th>fixVersions</th>\n",
       "      <th>customfield_12133</th>\n",
       "      <th>customfield_12136</th>\n",
       "      <th>customfield_12532</th>\n",
       "      <th>resolution</th>\n",
       "      <th>customfield_10431</th>\n",
       "      <th>customfield_12135</th>\n",
       "      <th>customfield_12531</th>\n",
       "      <th>customfield_12138</th>\n",
       "      <th>customfield_10432</th>\n",
       "      <th>customfield_12534</th>\n",
       "      <th>customfield_12137</th>\n",
       "      <th>customfield_10433</th>\n",
       "      <th>customfield_12533</th>\n",
       "      <th>customfield_11832</th>\n",
       "      <th>customfield_11831</th>\n",
       "      <th>customfield_11833</th>\n",
       "      <th>resolutiondate</th>\n",
       "      <th>workratio</th>\n",
       "      <th>lastViewed</th>\n",
       "      <th>watches</th>\n",
       "      <th>created</th>\n",
       "      <th>customfield_11032</th>\n",
       "      <th>customfield_11033</th>\n",
       "      <th>priority</th>\n",
       "      <th>edition</th>\n",
       "      <th>customfield_11233</th>\n",
       "      <th>customfield_11036</th>\n",
       "      <th>customfield_11830</th>\n",
       "      <th>labels</th>\n",
       "      <th>customfield_11631</th>\n",
       "      <th>customfield_11038</th>\n",
       "      <th>customfield_10930</th>\n",
       "      <th>customfield_11347</th>\n",
       "      <th>customfield_10931</th>\n",
       "      <th>customfield_10932</th>\n",
       "      <th>versions</th>\n",
       "      <th>issuelinks</th>\n",
       "      <th>assignee</th>\n",
       "      <th>updated</th>\n",
       "      <th>status</th>\n",
       "      <th>components</th>\n",
       "      <th>customfield_12031</th>\n",
       "      <th>customfield_11140</th>\n",
       "      <th>customfield_12030</th>\n",
       "      <th>customfield_12033</th>\n",
       "      <th>customfield_11141</th>\n",
       "      <th>description</th>\n",
       "      <th>customfield_12032</th>\n",
       "      <th>customfield_12034</th>\n",
       "      <th>customfield_12430</th>\n",
       "      <th>customfield_11344</th>\n",
       "      <th>customfield_11343</th>\n",
       "      <th>customfield_10530</th>\n",
       "      <th>customfield_11345</th>\n",
       "      <th>customfield_10730</th>\n",
       "      <th>customfield_11337</th>\n",
       "      <th>customfield_11930</th>\n",
       "      <th>customfield_11139</th>\n",
       "      <th>customfield_11338</th>\n",
       "      <th>summary</th>\n",
       "      <th>creator</th>\n",
       "      <th>subtasks</th>\n",
       "      <th>customfield_11130</th>\n",
       "      <th>customfield_11131</th>\n",
       "      <th>reporter</th>\n",
       "      <th>customfield_11132</th>\n",
       "      <th>customfield_11133</th>\n",
       "      <th>customfield_10243</th>\n",
       "      <th>customfield_11335</th>\n",
       "      <th>customfield_11334</th>\n",
       "      <th>customfield_11730</th>\n",
       "      <th>customfield_10434</th>\n",
       "      <th>customfield_12536</th>\n",
       "      <th>customfield_12535</th>\n",
       "      <th>customfield_12139</th>\n",
       "      <th>environment</th>\n",
       "      <th>customfield_12538</th>\n",
       "      <th>customfield_10437</th>\n",
       "      <th>customfield_12537</th>\n",
       "      <th>customfield_10438</th>\n",
       "      <th>duedate</th>\n",
       "      <th>votes</th>\n",
       "      <th>issuetype_id</th>\n",
       "      <th>issuetype_name</th>\n",
       "      <th>priority_id</th>\n",
       "      <th>priority_name</th>\n",
       "      <th>assignee_key</th>\n",
       "      <th>assignee_name</th>\n",
       "      <th>reporter_key</th>\n",
       "      <th>reporter_name</th>\n",
       "      <th>creator_key</th>\n",
       "      <th>creator_name</th>\n",
       "      <th>status_id</th>\n",
       "      <th>status_name</th>\n",
       "      <th>resolution_id</th>\n",
       "      <th>resolution_name</th>\n",
       "      <th>votes_votes</th>\n",
       "    </tr>\n",
       "  </thead>\n",
       "  <tbody>\n",
       "    <tr>\n",
       "      <th>1</th>\n",
       "      <td>SONAR-14168</td>\n",
       "      <td>99609</td>\n",
       "      <td>Sub-task</td>\n",
       "      <td>P3-Medium</td>\n",
       "      <td>0|i0duvz:</td>\n",
       "      <td>No root cause identified</td>\n",
       "      <td>NaN</td>\n",
       "      <td>SONAR</td>\n",
       "      <td>Not captured yet</td>\n",
       "      <td>NaN</td>\n",
       "      <td>[]</td>\n",
       "      <td>Not assessed yet</td>\n",
       "      <td>Not captured yet</td>\n",
       "      <td>NaN</td>\n",
       "      <td>Fixed</td>\n",
       "      <td>NaN</td>\n",
       "      <td>No action plan</td>\n",
       "      <td>NaN</td>\n",
       "      <td>Not captured yet</td>\n",
       "      <td>NaN</td>\n",
       "      <td>NaN</td>\n",
       "      <td>Not captured yet</td>\n",
       "      <td>NaN</td>\n",
       "      <td>NaN</td>\n",
       "      <td>NaN</td>\n",
       "      <td>NaN</td>\n",
       "      <td>NaN</td>\n",
       "      <td>2020-11-19 14:02:04+00:00</td>\n",
       "      <td>-1</td>\n",
       "      <td>NaT</td>\n",
       "      <td>&lt;JIRA Watchers at 5037154944&gt;</td>\n",
       "      <td>2020-11-19 11:10:36+00:00</td>\n",
       "      <td>NaN</td>\n",
       "      <td>NaN</td>\n",
       "      <td>Major</td>\n",
       "      <td>Community</td>\n",
       "      <td>NaN</td>\n",
       "      <td>NaN</td>\n",
       "      <td>NaN</td>\n",
       "      <td>[]</td>\n",
       "      <td>None</td>\n",
       "      <td>NaN</td>\n",
       "      <td>NaN</td>\n",
       "      <td>NaN</td>\n",
       "      <td>NaN</td>\n",
       "      <td>NaN</td>\n",
       "      <td>[]</td>\n",
       "      <td>[]</td>\n",
       "      <td>Jeremy Davis</td>\n",
       "      <td>2020-11-19 14:02:04+00:00</td>\n",
       "      <td>Resolved</td>\n",
       "      <td>[]</td>\n",
       "      <td>NaN</td>\n",
       "      <td>NaN</td>\n",
       "      <td>NaN</td>\n",
       "      <td>NaN</td>\n",
       "      <td>NaN</td>\n",
       "      <td>NaN</td>\n",
       "      <td>NaN</td>\n",
       "      <td>SonarQube</td>\n",
       "      <td>NaN</td>\n",
       "      <td>NaN</td>\n",
       "      <td>NaN</td>\n",
       "      <td>NaN</td>\n",
       "      <td>NaN</td>\n",
       "      <td>NaN</td>\n",
       "      <td>NaN</td>\n",
       "      <td>{}</td>\n",
       "      <td>NaN</td>\n",
       "      <td>NaN</td>\n",
       "      <td>[UI] Realign projects' API</td>\n",
       "      <td>Jeremy Davis</td>\n",
       "      <td>[]</td>\n",
       "      <td>NaN</td>\n",
       "      <td>NaN</td>\n",
       "      <td>Jeremy Davis</td>\n",
       "      <td>NaN</td>\n",
       "      <td>NaN</td>\n",
       "      <td>NaN</td>\n",
       "      <td>NaN</td>\n",
       "      <td>NaN</td>\n",
       "      <td>NaN</td>\n",
       "      <td>NaN</td>\n",
       "      <td>New</td>\n",
       "      <td>NaN</td>\n",
       "      <td>NaN</td>\n",
       "      <td>NaN</td>\n",
       "      <td>NaN</td>\n",
       "      <td></td>\n",
       "      <td>NaN</td>\n",
       "      <td>[]</td>\n",
       "      <td>2020-11-26 00:00:00+00:00</td>\n",
       "      <td>0</td>\n",
       "      <td>5</td>\n",
       "      <td>Sub-task</td>\n",
       "      <td>3</td>\n",
       "      <td>Major</td>\n",
       "      <td>jeremy.davis</td>\n",
       "      <td>jeremy.davis</td>\n",
       "      <td>jeremy.davis</td>\n",
       "      <td>jeremy.davis</td>\n",
       "      <td>jeremy.davis</td>\n",
       "      <td>jeremy.davis</td>\n",
       "      <td>5</td>\n",
       "      <td>Resolved</td>\n",
       "      <td>1.0</td>\n",
       "      <td>Fixed</td>\n",
       "      <td>0</td>\n",
       "    </tr>\n",
       "    <tr>\n",
       "      <th>2</th>\n",
       "      <td>SONAR-14167</td>\n",
       "      <td>99607</td>\n",
       "      <td>Documentation</td>\n",
       "      <td>P3-Medium</td>\n",
       "      <td>0|i0duvj:</td>\n",
       "      <td>No root cause identified</td>\n",
       "      <td>NaN</td>\n",
       "      <td>SONAR</td>\n",
       "      <td>Not captured yet</td>\n",
       "      <td>NaN</td>\n",
       "      <td>[&lt;JIRA Version: name='8.6', id='16435'&gt;]</td>\n",
       "      <td>Not assessed yet</td>\n",
       "      <td>Not captured yet</td>\n",
       "      <td>NaN</td>\n",
       "      <td>NaN</td>\n",
       "      <td>NaN</td>\n",
       "      <td>No action plan</td>\n",
       "      <td>NaN</td>\n",
       "      <td>Not captured yet</td>\n",
       "      <td>NaN</td>\n",
       "      <td>NaN</td>\n",
       "      <td>Not captured yet</td>\n",
       "      <td>NaN</td>\n",
       "      <td>NaN</td>\n",
       "      <td>NaN</td>\n",
       "      <td>NaN</td>\n",
       "      <td>NaN</td>\n",
       "      <td>NaT</td>\n",
       "      <td>-1</td>\n",
       "      <td>NaT</td>\n",
       "      <td>&lt;JIRA Watchers at 5037155760&gt;</td>\n",
       "      <td>2020-11-19 09:46:02+00:00</td>\n",
       "      <td>NaN</td>\n",
       "      <td>NaN</td>\n",
       "      <td>Major</td>\n",
       "      <td>Community</td>\n",
       "      <td>NaN</td>\n",
       "      <td>NaN</td>\n",
       "      <td>NaN</td>\n",
       "      <td>[]</td>\n",
       "      <td>None</td>\n",
       "      <td>NaN</td>\n",
       "      <td>NaN</td>\n",
       "      <td>NaN</td>\n",
       "      <td>NaN</td>\n",
       "      <td>NaN</td>\n",
       "      <td>[]</td>\n",
       "      <td>[&lt;JIRA IssueLink: id='55366'&gt;]</td>\n",
       "      <td>Mike Birnstiehl</td>\n",
       "      <td>2020-11-19 09:46:47+00:00</td>\n",
       "      <td>Open</td>\n",
       "      <td>[&lt;JIRA Component: name='Documentation', id='11...</td>\n",
       "      <td>NaN</td>\n",
       "      <td>NaN</td>\n",
       "      <td>NaN</td>\n",
       "      <td>NaN</td>\n",
       "      <td>NaN</td>\n",
       "      <td>* Add insights on how to quickly analyze a pro...</td>\n",
       "      <td>NaN</td>\n",
       "      <td>SonarQube</td>\n",
       "      <td>NaN</td>\n",
       "      <td>NaN</td>\n",
       "      <td>NaN</td>\n",
       "      <td>NaN</td>\n",
       "      <td>NaN</td>\n",
       "      <td>NaN</td>\n",
       "      <td>NaN</td>\n",
       "      <td>{}</td>\n",
       "      <td>NaN</td>\n",
       "      <td>NaN</td>\n",
       "      <td>Improve the Azure DevOps integration page</td>\n",
       "      <td>Philippe Perrin</td>\n",
       "      <td>[]</td>\n",
       "      <td>NaN</td>\n",
       "      <td>NaN</td>\n",
       "      <td>Philippe Perrin</td>\n",
       "      <td>NaN</td>\n",
       "      <td>NaN</td>\n",
       "      <td>NaN</td>\n",
       "      <td>NaN</td>\n",
       "      <td>NaN</td>\n",
       "      <td>NaN</td>\n",
       "      <td>NaN</td>\n",
       "      <td>New</td>\n",
       "      <td>NaN</td>\n",
       "      <td>NaN</td>\n",
       "      <td>NaN</td>\n",
       "      <td>NaN</td>\n",
       "      <td></td>\n",
       "      <td>NaN</td>\n",
       "      <td>[]</td>\n",
       "      <td>NaT</td>\n",
       "      <td>0</td>\n",
       "      <td>6</td>\n",
       "      <td>Documentation</td>\n",
       "      <td>3</td>\n",
       "      <td>Major</td>\n",
       "      <td>michael.birnstiehl</td>\n",
       "      <td>michael.birnstiehl</td>\n",
       "      <td>philippe.perrin</td>\n",
       "      <td>philippe.perrin</td>\n",
       "      <td>philippe.perrin</td>\n",
       "      <td>philippe.perrin</td>\n",
       "      <td>1</td>\n",
       "      <td>Open</td>\n",
       "      <td>NaN</td>\n",
       "      <td>NaN</td>\n",
       "      <td>0</td>\n",
       "    </tr>\n",
       "    <tr>\n",
       "      <th>3</th>\n",
       "      <td>SONAR-14166</td>\n",
       "      <td>99584</td>\n",
       "      <td>Task</td>\n",
       "      <td>P3-Medium</td>\n",
       "      <td>0|i0duqf:</td>\n",
       "      <td>No root cause identified</td>\n",
       "      <td>NaN</td>\n",
       "      <td>SONAR</td>\n",
       "      <td>Not captured yet</td>\n",
       "      <td>NaN</td>\n",
       "      <td>[&lt;JIRA Version: name='8.6', id='16435'&gt;]</td>\n",
       "      <td>Not assessed yet</td>\n",
       "      <td>Not captured yet</td>\n",
       "      <td>NaN</td>\n",
       "      <td>NaN</td>\n",
       "      <td>NaN</td>\n",
       "      <td>No action plan</td>\n",
       "      <td>NaN</td>\n",
       "      <td>Not captured yet</td>\n",
       "      <td>NaN</td>\n",
       "      <td>NaN</td>\n",
       "      <td>Not captured yet</td>\n",
       "      <td>NaN</td>\n",
       "      <td>NaN</td>\n",
       "      <td>NaN</td>\n",
       "      <td>NaN</td>\n",
       "      <td>NaN</td>\n",
       "      <td>NaT</td>\n",
       "      <td>-1</td>\n",
       "      <td>NaT</td>\n",
       "      <td>&lt;JIRA Watchers at 5037157008&gt;</td>\n",
       "      <td>2020-11-18 13:24:30+00:00</td>\n",
       "      <td>NaN</td>\n",
       "      <td>NaN</td>\n",
       "      <td>Major</td>\n",
       "      <td>Community</td>\n",
       "      <td>NaN</td>\n",
       "      <td>NaN</td>\n",
       "      <td>NaN</td>\n",
       "      <td>['analyzer-upgrade']</td>\n",
       "      <td>None</td>\n",
       "      <td>NaN</td>\n",
       "      <td>NaN</td>\n",
       "      <td>NaN</td>\n",
       "      <td>NaN</td>\n",
       "      <td>NaN</td>\n",
       "      <td>[]</td>\n",
       "      <td>[]</td>\n",
       "      <td>NaN</td>\n",
       "      <td>2020-11-18 13:25:07+00:00</td>\n",
       "      <td>Open</td>\n",
       "      <td>[]</td>\n",
       "      <td>NaN</td>\n",
       "      <td>NaN</td>\n",
       "      <td>NaN</td>\n",
       "      <td>NaN</td>\n",
       "      <td>NaN</td>\n",
       "      <td>NaN</td>\n",
       "      <td>NaN</td>\n",
       "      <td>SonarQube</td>\n",
       "      <td>NaN</td>\n",
       "      <td>NaN</td>\n",
       "      <td>NaN</td>\n",
       "      <td>NaN</td>\n",
       "      <td>NaN</td>\n",
       "      <td>NaN</td>\n",
       "      <td>NaN</td>\n",
       "      <td>{}</td>\n",
       "      <td>NaN</td>\n",
       "      <td>NaN</td>\n",
       "      <td>Improve LITS analysis</td>\n",
       "      <td>Malena Ebert</td>\n",
       "      <td>[]</td>\n",
       "      <td>NaN</td>\n",
       "      <td>NaN</td>\n",
       "      <td>SonarQube Technical user</td>\n",
       "      <td>NaN</td>\n",
       "      <td>NaN</td>\n",
       "      <td>NaN</td>\n",
       "      <td>NaN</td>\n",
       "      <td>NaN</td>\n",
       "      <td>NaN</td>\n",
       "      <td>NaN</td>\n",
       "      <td>New</td>\n",
       "      <td>NaN</td>\n",
       "      <td>NaN</td>\n",
       "      <td>NaN</td>\n",
       "      <td>NaN</td>\n",
       "      <td></td>\n",
       "      <td>NaN</td>\n",
       "      <td>[]</td>\n",
       "      <td>NaT</td>\n",
       "      <td>0</td>\n",
       "      <td>3</td>\n",
       "      <td>Task</td>\n",
       "      <td>3</td>\n",
       "      <td>Major</td>\n",
       "      <td>NaN</td>\n",
       "      <td>NaN</td>\n",
       "      <td>sonarqube.tech</td>\n",
       "      <td>sonarqube.tech</td>\n",
       "      <td>malena.ebert</td>\n",
       "      <td>malena.ebert</td>\n",
       "      <td>1</td>\n",
       "      <td>Open</td>\n",
       "      <td>NaN</td>\n",
       "      <td>NaN</td>\n",
       "      <td>0</td>\n",
       "    </tr>\n",
       "    <tr>\n",
       "      <th>4</th>\n",
       "      <td>SONAR-14165</td>\n",
       "      <td>99583</td>\n",
       "      <td>Task</td>\n",
       "      <td>P3-Medium</td>\n",
       "      <td>0|i0duq7:</td>\n",
       "      <td>No root cause identified</td>\n",
       "      <td>NaN</td>\n",
       "      <td>SONAR</td>\n",
       "      <td>Not captured yet</td>\n",
       "      <td>NaN</td>\n",
       "      <td>[&lt;JIRA Version: name='8.6', id='16435'&gt;]</td>\n",
       "      <td>Not assessed yet</td>\n",
       "      <td>Not captured yet</td>\n",
       "      <td>NaN</td>\n",
       "      <td>NaN</td>\n",
       "      <td>NaN</td>\n",
       "      <td>No action plan</td>\n",
       "      <td>NaN</td>\n",
       "      <td>Not captured yet</td>\n",
       "      <td>NaN</td>\n",
       "      <td>NaN</td>\n",
       "      <td>Not captured yet</td>\n",
       "      <td>NaN</td>\n",
       "      <td>NaN</td>\n",
       "      <td>NaN</td>\n",
       "      <td>NaN</td>\n",
       "      <td>NaN</td>\n",
       "      <td>NaT</td>\n",
       "      <td>-1</td>\n",
       "      <td>NaT</td>\n",
       "      <td>&lt;JIRA Watchers at 5037157920&gt;</td>\n",
       "      <td>2020-11-18 13:23:19+00:00</td>\n",
       "      <td>NaN</td>\n",
       "      <td>NaN</td>\n",
       "      <td>Major</td>\n",
       "      <td>Community</td>\n",
       "      <td>NaN</td>\n",
       "      <td>NaN</td>\n",
       "      <td>NaN</td>\n",
       "      <td>['analyzer-upgrade']</td>\n",
       "      <td>None</td>\n",
       "      <td>NaN</td>\n",
       "      <td>NaN</td>\n",
       "      <td>NaN</td>\n",
       "      <td>NaN</td>\n",
       "      <td>NaN</td>\n",
       "      <td>[]</td>\n",
       "      <td>[]</td>\n",
       "      <td>NaN</td>\n",
       "      <td>2020-11-18 13:24:05+00:00</td>\n",
       "      <td>Open</td>\n",
       "      <td>[]</td>\n",
       "      <td>NaN</td>\n",
       "      <td>NaN</td>\n",
       "      <td>NaN</td>\n",
       "      <td>NaN</td>\n",
       "      <td>NaN</td>\n",
       "      <td>NaN</td>\n",
       "      <td>NaN</td>\n",
       "      <td>SonarQube</td>\n",
       "      <td>NaN</td>\n",
       "      <td>NaN</td>\n",
       "      <td>NaN</td>\n",
       "      <td>NaN</td>\n",
       "      <td>NaN</td>\n",
       "      <td>NaN</td>\n",
       "      <td>NaN</td>\n",
       "      <td>{}</td>\n",
       "      <td>NaN</td>\n",
       "      <td>NaN</td>\n",
       "      <td>Improve Slang analysis</td>\n",
       "      <td>Malena Ebert</td>\n",
       "      <td>[]</td>\n",
       "      <td>NaN</td>\n",
       "      <td>NaN</td>\n",
       "      <td>SonarQube Technical user</td>\n",
       "      <td>NaN</td>\n",
       "      <td>NaN</td>\n",
       "      <td>NaN</td>\n",
       "      <td>NaN</td>\n",
       "      <td>NaN</td>\n",
       "      <td>NaN</td>\n",
       "      <td>NaN</td>\n",
       "      <td>New</td>\n",
       "      <td>NaN</td>\n",
       "      <td>NaN</td>\n",
       "      <td>NaN</td>\n",
       "      <td>NaN</td>\n",
       "      <td></td>\n",
       "      <td>NaN</td>\n",
       "      <td>[]</td>\n",
       "      <td>NaT</td>\n",
       "      <td>0</td>\n",
       "      <td>3</td>\n",
       "      <td>Task</td>\n",
       "      <td>3</td>\n",
       "      <td>Major</td>\n",
       "      <td>NaN</td>\n",
       "      <td>NaN</td>\n",
       "      <td>sonarqube.tech</td>\n",
       "      <td>sonarqube.tech</td>\n",
       "      <td>malena.ebert</td>\n",
       "      <td>malena.ebert</td>\n",
       "      <td>1</td>\n",
       "      <td>Open</td>\n",
       "      <td>NaN</td>\n",
       "      <td>NaN</td>\n",
       "      <td>0</td>\n",
       "    </tr>\n",
       "    <tr>\n",
       "      <th>5</th>\n",
       "      <td>SONAR-14164</td>\n",
       "      <td>99582</td>\n",
       "      <td>Task</td>\n",
       "      <td>P3-Medium</td>\n",
       "      <td>0|i0dupz:</td>\n",
       "      <td>No root cause identified</td>\n",
       "      <td>NaN</td>\n",
       "      <td>SONAR</td>\n",
       "      <td>Not captured yet</td>\n",
       "      <td>NaN</td>\n",
       "      <td>[&lt;JIRA Version: name='8.6', id='16435'&gt;]</td>\n",
       "      <td>Not assessed yet</td>\n",
       "      <td>Not captured yet</td>\n",
       "      <td>NaN</td>\n",
       "      <td>NaN</td>\n",
       "      <td>NaN</td>\n",
       "      <td>No action plan</td>\n",
       "      <td>NaN</td>\n",
       "      <td>Not captured yet</td>\n",
       "      <td>NaN</td>\n",
       "      <td>NaN</td>\n",
       "      <td>Not captured yet</td>\n",
       "      <td>NaN</td>\n",
       "      <td>NaN</td>\n",
       "      <td>NaN</td>\n",
       "      <td>NaN</td>\n",
       "      <td>NaN</td>\n",
       "      <td>NaT</td>\n",
       "      <td>-1</td>\n",
       "      <td>NaT</td>\n",
       "      <td>&lt;JIRA Watchers at 5039080016&gt;</td>\n",
       "      <td>2020-11-18 13:22:08+00:00</td>\n",
       "      <td>NaN</td>\n",
       "      <td>NaN</td>\n",
       "      <td>Major</td>\n",
       "      <td>Community</td>\n",
       "      <td>NaN</td>\n",
       "      <td>NaN</td>\n",
       "      <td>NaN</td>\n",
       "      <td>['analyzer-upgrade']</td>\n",
       "      <td>None</td>\n",
       "      <td>NaN</td>\n",
       "      <td>NaN</td>\n",
       "      <td>NaN</td>\n",
       "      <td>NaN</td>\n",
       "      <td>NaN</td>\n",
       "      <td>[]</td>\n",
       "      <td>[]</td>\n",
       "      <td>NaN</td>\n",
       "      <td>2020-11-18 13:22:46+00:00</td>\n",
       "      <td>Open</td>\n",
       "      <td>[]</td>\n",
       "      <td>NaN</td>\n",
       "      <td>NaN</td>\n",
       "      <td>NaN</td>\n",
       "      <td>NaN</td>\n",
       "      <td>NaN</td>\n",
       "      <td>NaN</td>\n",
       "      <td>NaN</td>\n",
       "      <td>SonarQube</td>\n",
       "      <td>NaN</td>\n",
       "      <td>NaN</td>\n",
       "      <td>NaN</td>\n",
       "      <td>NaN</td>\n",
       "      <td>NaN</td>\n",
       "      <td>NaN</td>\n",
       "      <td>NaN</td>\n",
       "      <td>{}</td>\n",
       "      <td>NaN</td>\n",
       "      <td>NaN</td>\n",
       "      <td>Improve SonarTSQL analysis</td>\n",
       "      <td>Malena Ebert</td>\n",
       "      <td>[]</td>\n",
       "      <td>NaN</td>\n",
       "      <td>NaN</td>\n",
       "      <td>SonarQube Technical user</td>\n",
       "      <td>NaN</td>\n",
       "      <td>NaN</td>\n",
       "      <td>NaN</td>\n",
       "      <td>NaN</td>\n",
       "      <td>NaN</td>\n",
       "      <td>NaN</td>\n",
       "      <td>NaN</td>\n",
       "      <td>New</td>\n",
       "      <td>NaN</td>\n",
       "      <td>NaN</td>\n",
       "      <td>NaN</td>\n",
       "      <td>NaN</td>\n",
       "      <td></td>\n",
       "      <td>NaN</td>\n",
       "      <td>[]</td>\n",
       "      <td>NaT</td>\n",
       "      <td>0</td>\n",
       "      <td>3</td>\n",
       "      <td>Task</td>\n",
       "      <td>3</td>\n",
       "      <td>Major</td>\n",
       "      <td>NaN</td>\n",
       "      <td>NaN</td>\n",
       "      <td>sonarqube.tech</td>\n",
       "      <td>sonarqube.tech</td>\n",
       "      <td>malena.ebert</td>\n",
       "      <td>malena.ebert</td>\n",
       "      <td>1</td>\n",
       "      <td>Open</td>\n",
       "      <td>NaN</td>\n",
       "      <td>NaN</td>\n",
       "      <td>0</td>\n",
       "    </tr>\n",
       "  </tbody>\n",
       "</table>\n",
       "</div>"
      ],
      "text/plain": [
       "     issue_key  issue_id      issuetype customfield_12130 customfield_11041  \\\n",
       "1  SONAR-14168     99609       Sub-task         P3-Medium         0|i0duvz:   \n",
       "2  SONAR-14167     99607  Documentation         P3-Medium         0|i0duvj:   \n",
       "3  SONAR-14166     99584           Task         P3-Medium         0|i0duqf:   \n",
       "4  SONAR-14165     99583           Task         P3-Medium         0|i0duq7:   \n",
       "5  SONAR-14164     99582           Task         P3-Medium         0|i0dupz:   \n",
       "\n",
       "          customfield_12132  customfield_12131 project customfield_12134  \\\n",
       "1  No root cause identified                NaN   SONAR  Not captured yet   \n",
       "2  No root cause identified                NaN   SONAR  Not captured yet   \n",
       "3  No root cause identified                NaN   SONAR  Not captured yet   \n",
       "4  No root cause identified                NaN   SONAR  Not captured yet   \n",
       "5  No root cause identified                NaN   SONAR  Not captured yet   \n",
       "\n",
       "   customfield_12530                               fixVersions  \\\n",
       "1                NaN                                        []   \n",
       "2                NaN  [<JIRA Version: name='8.6', id='16435'>]   \n",
       "3                NaN  [<JIRA Version: name='8.6', id='16435'>]   \n",
       "4                NaN  [<JIRA Version: name='8.6', id='16435'>]   \n",
       "5                NaN  [<JIRA Version: name='8.6', id='16435'>]   \n",
       "\n",
       "  customfield_12133 customfield_12136  customfield_12532 resolution  \\\n",
       "1  Not assessed yet  Not captured yet                NaN      Fixed   \n",
       "2  Not assessed yet  Not captured yet                NaN        NaN   \n",
       "3  Not assessed yet  Not captured yet                NaN        NaN   \n",
       "4  Not assessed yet  Not captured yet                NaN        NaN   \n",
       "5  Not assessed yet  Not captured yet                NaN        NaN   \n",
       "\n",
       "   customfield_10431 customfield_12135  customfield_12531 customfield_12138  \\\n",
       "1                NaN  No action plan                  NaN  Not captured yet   \n",
       "2                NaN  No action plan                  NaN  Not captured yet   \n",
       "3                NaN  No action plan                  NaN  Not captured yet   \n",
       "4                NaN  No action plan                  NaN  Not captured yet   \n",
       "5                NaN  No action plan                  NaN  Not captured yet   \n",
       "\n",
       "   customfield_10432  customfield_12534 customfield_12137  customfield_10433  \\\n",
       "1                NaN                NaN  Not captured yet                NaN   \n",
       "2                NaN                NaN  Not captured yet                NaN   \n",
       "3                NaN                NaN  Not captured yet                NaN   \n",
       "4                NaN                NaN  Not captured yet                NaN   \n",
       "5                NaN                NaN  Not captured yet                NaN   \n",
       "\n",
       "   customfield_12533  customfield_11832  customfield_11831  customfield_11833  \\\n",
       "1                NaN                NaN                NaN                NaN   \n",
       "2                NaN                NaN                NaN                NaN   \n",
       "3                NaN                NaN                NaN                NaN   \n",
       "4                NaN                NaN                NaN                NaN   \n",
       "5                NaN                NaN                NaN                NaN   \n",
       "\n",
       "             resolutiondate  workratio lastViewed  \\\n",
       "1 2020-11-19 14:02:04+00:00         -1        NaT   \n",
       "2                       NaT         -1        NaT   \n",
       "3                       NaT         -1        NaT   \n",
       "4                       NaT         -1        NaT   \n",
       "5                       NaT         -1        NaT   \n",
       "\n",
       "                         watches                   created  customfield_11032  \\\n",
       "1  <JIRA Watchers at 5037154944> 2020-11-19 11:10:36+00:00                NaN   \n",
       "2  <JIRA Watchers at 5037155760> 2020-11-19 09:46:02+00:00                NaN   \n",
       "3  <JIRA Watchers at 5037157008> 2020-11-18 13:24:30+00:00                NaN   \n",
       "4  <JIRA Watchers at 5037157920> 2020-11-18 13:23:19+00:00                NaN   \n",
       "5  <JIRA Watchers at 5039080016> 2020-11-18 13:22:08+00:00                NaN   \n",
       "\n",
       "   customfield_11033 priority    edition  customfield_11233  \\\n",
       "1                NaN    Major  Community                NaN   \n",
       "2                NaN    Major  Community                NaN   \n",
       "3                NaN    Major  Community                NaN   \n",
       "4                NaN    Major  Community                NaN   \n",
       "5                NaN    Major  Community                NaN   \n",
       "\n",
       "   customfield_11036  customfield_11830                labels  \\\n",
       "1                NaN                NaN                    []   \n",
       "2                NaN                NaN                    []   \n",
       "3                NaN                NaN  ['analyzer-upgrade']   \n",
       "4                NaN                NaN  ['analyzer-upgrade']   \n",
       "5                NaN                NaN  ['analyzer-upgrade']   \n",
       "\n",
       "  customfield_11631 customfield_11038 customfield_10930  customfield_11347  \\\n",
       "1              None               NaN               NaN                NaN   \n",
       "2              None               NaN               NaN                NaN   \n",
       "3              None               NaN               NaN                NaN   \n",
       "4              None               NaN               NaN                NaN   \n",
       "5              None               NaN               NaN                NaN   \n",
       "\n",
       "  customfield_10931 customfield_10932 versions  \\\n",
       "1               NaN               NaN       []   \n",
       "2               NaN               NaN       []   \n",
       "3               NaN               NaN       []   \n",
       "4               NaN               NaN       []   \n",
       "5               NaN               NaN       []   \n",
       "\n",
       "                       issuelinks         assignee                   updated  \\\n",
       "1                              []     Jeremy Davis 2020-11-19 14:02:04+00:00   \n",
       "2  [<JIRA IssueLink: id='55366'>]  Mike Birnstiehl 2020-11-19 09:46:47+00:00   \n",
       "3                              []              NaN 2020-11-18 13:25:07+00:00   \n",
       "4                              []              NaN 2020-11-18 13:24:05+00:00   \n",
       "5                              []              NaN 2020-11-18 13:22:46+00:00   \n",
       "\n",
       "     status                                         components  \\\n",
       "1  Resolved                                                 []   \n",
       "2      Open  [<JIRA Component: name='Documentation', id='11...   \n",
       "3      Open                                                 []   \n",
       "4      Open                                                 []   \n",
       "5      Open                                                 []   \n",
       "\n",
       "   customfield_12031  customfield_11140  customfield_12030  customfield_12033  \\\n",
       "1                NaN                NaN                NaN                NaN   \n",
       "2                NaN                NaN                NaN                NaN   \n",
       "3                NaN                NaN                NaN                NaN   \n",
       "4                NaN                NaN                NaN                NaN   \n",
       "5                NaN                NaN                NaN                NaN   \n",
       "\n",
       "   customfield_11141                                        description  \\\n",
       "1                NaN                                                NaN   \n",
       "2                NaN  * Add insights on how to quickly analyze a pro...   \n",
       "3                NaN                                                NaN   \n",
       "4                NaN                                                NaN   \n",
       "5                NaN                                                NaN   \n",
       "\n",
       "   customfield_12032 customfield_12034 customfield_12430  customfield_11344  \\\n",
       "1                NaN         SonarQube               NaN                NaN   \n",
       "2                NaN         SonarQube               NaN                NaN   \n",
       "3                NaN         SonarQube               NaN                NaN   \n",
       "4                NaN         SonarQube               NaN                NaN   \n",
       "5                NaN         SonarQube               NaN                NaN   \n",
       "\n",
       "   customfield_11343  customfield_10530  customfield_11345  customfield_10730  \\\n",
       "1                NaN                NaN                NaN                NaN   \n",
       "2                NaN                NaN                NaN                NaN   \n",
       "3                NaN                NaN                NaN                NaN   \n",
       "4                NaN                NaN                NaN                NaN   \n",
       "5                NaN                NaN                NaN                NaN   \n",
       "\n",
       "   customfield_11337 customfield_11930  customfield_11139  customfield_11338  \\\n",
       "1                NaN                {}                NaN                NaN   \n",
       "2                NaN                {}                NaN                NaN   \n",
       "3                NaN                {}                NaN                NaN   \n",
       "4                NaN                {}                NaN                NaN   \n",
       "5                NaN                {}                NaN                NaN   \n",
       "\n",
       "                                     summary          creator subtasks  \\\n",
       "1                 [UI] Realign projects' API     Jeremy Davis       []   \n",
       "2  Improve the Azure DevOps integration page  Philippe Perrin       []   \n",
       "3                      Improve LITS analysis     Malena Ebert       []   \n",
       "4                     Improve Slang analysis     Malena Ebert       []   \n",
       "5                 Improve SonarTSQL analysis     Malena Ebert       []   \n",
       "\n",
       "   customfield_11130  customfield_11131                  reporter  \\\n",
       "1                NaN                NaN              Jeremy Davis   \n",
       "2                NaN                NaN           Philippe Perrin   \n",
       "3                NaN                NaN  SonarQube Technical user   \n",
       "4                NaN                NaN  SonarQube Technical user   \n",
       "5                NaN                NaN  SonarQube Technical user   \n",
       "\n",
       "   customfield_11132  customfield_11133  customfield_10243  customfield_11335  \\\n",
       "1                NaN                NaN                NaN                NaN   \n",
       "2                NaN                NaN                NaN                NaN   \n",
       "3                NaN                NaN                NaN                NaN   \n",
       "4                NaN                NaN                NaN                NaN   \n",
       "5                NaN                NaN                NaN                NaN   \n",
       "\n",
       "   customfield_11334 customfield_11730  customfield_10434 customfield_12536  \\\n",
       "1                NaN               NaN                NaN               New   \n",
       "2                NaN               NaN                NaN               New   \n",
       "3                NaN               NaN                NaN               New   \n",
       "4                NaN               NaN                NaN               New   \n",
       "5                NaN               NaN                NaN               New   \n",
       "\n",
       "   customfield_12535  customfield_12139 environment  customfield_12538  \\\n",
       "1                NaN                NaN         NaN                NaN   \n",
       "2                NaN                NaN         NaN                NaN   \n",
       "3                NaN                NaN         NaN                NaN   \n",
       "4                NaN                NaN         NaN                NaN   \n",
       "5                NaN                NaN         NaN                NaN   \n",
       "\n",
       "  customfield_10437  customfield_12537 customfield_10438  \\\n",
       "1                                  NaN                []   \n",
       "2                                  NaN                []   \n",
       "3                                  NaN                []   \n",
       "4                                  NaN                []   \n",
       "5                                  NaN                []   \n",
       "\n",
       "                    duedate  votes  issuetype_id issuetype_name  priority_id  \\\n",
       "1 2020-11-26 00:00:00+00:00      0             5       Sub-task            3   \n",
       "2                       NaT      0             6  Documentation            3   \n",
       "3                       NaT      0             3           Task            3   \n",
       "4                       NaT      0             3           Task            3   \n",
       "5                       NaT      0             3           Task            3   \n",
       "\n",
       "  priority_name        assignee_key       assignee_name     reporter_key  \\\n",
       "1         Major        jeremy.davis        jeremy.davis     jeremy.davis   \n",
       "2         Major  michael.birnstiehl  michael.birnstiehl  philippe.perrin   \n",
       "3         Major                 NaN                 NaN   sonarqube.tech   \n",
       "4         Major                 NaN                 NaN   sonarqube.tech   \n",
       "5         Major                 NaN                 NaN   sonarqube.tech   \n",
       "\n",
       "     reporter_name      creator_key     creator_name  status_id status_name  \\\n",
       "1     jeremy.davis     jeremy.davis     jeremy.davis          5    Resolved   \n",
       "2  philippe.perrin  philippe.perrin  philippe.perrin          1        Open   \n",
       "3   sonarqube.tech     malena.ebert     malena.ebert          1        Open   \n",
       "4   sonarqube.tech     malena.ebert     malena.ebert          1        Open   \n",
       "5   sonarqube.tech     malena.ebert     malena.ebert          1        Open   \n",
       "\n",
       "   resolution_id resolution_name  votes_votes  \n",
       "1            1.0           Fixed            0  \n",
       "2            NaN             NaN            0  \n",
       "3            NaN             NaN            0  \n",
       "4            NaN             NaN            0  \n",
       "5            NaN             NaN            0  "
      ]
     },
     "execution_count": 48,
     "metadata": {},
     "output_type": "execute_result"
    }
   ],
   "source": [
    "issues = pd.read_csv(f\"{csv_folder}/issues_community.csv\", index_col=0)\n",
    "for date_field in [\"created\", \"duedate\", \"lastViewed\", \"resolutiondate\", \"updated\"]:\n",
    "    issues[date_field] = pd.to_datetime(issues[date_field], errors=\"coerce\")\n",
    "issues.head()"
   ]
  },
  {
   "cell_type": "code",
   "execution_count": 49,
   "metadata": {},
   "outputs": [
    {
     "data": {
      "text/plain": [
       "(7163, 108)"
      ]
     },
     "execution_count": 49,
     "metadata": {},
     "output_type": "execute_result"
    }
   ],
   "source": [
    "issues.shape"
   ]
  },
  {
   "cell_type": "markdown",
   "metadata": {},
   "source": [
    "We filter only issues in the timeframe in which the project was using TravisCI"
   ]
  },
  {
   "cell_type": "markdown",
   "metadata": {},
   "source": [
    "### Import versions"
   ]
  },
  {
   "cell_type": "code",
   "execution_count": 50,
   "metadata": {
    "scrolled": false
   },
   "outputs": [
    {
     "data": {
      "text/html": [
       "<div>\n",
       "<style scoped>\n",
       "    .dataframe tbody tr th:only-of-type {\n",
       "        vertical-align: middle;\n",
       "    }\n",
       "\n",
       "    .dataframe tbody tr th {\n",
       "        vertical-align: top;\n",
       "    }\n",
       "\n",
       "    .dataframe thead th {\n",
       "        text-align: right;\n",
       "    }\n",
       "</style>\n",
       "<table border=\"1\" class=\"dataframe\">\n",
       "  <thead>\n",
       "    <tr style=\"text-align: right;\">\n",
       "      <th></th>\n",
       "      <th>issue_id</th>\n",
       "      <th>version_name</th>\n",
       "      <th>version_id</th>\n",
       "    </tr>\n",
       "  </thead>\n",
       "  <tbody>\n",
       "    <tr>\n",
       "      <th>0</th>\n",
       "      <td>99500</td>\n",
       "      <td>8.5</td>\n",
       "      <td>16342</td>\n",
       "    </tr>\n",
       "    <tr>\n",
       "      <th>1</th>\n",
       "      <td>99361</td>\n",
       "      <td>8.5</td>\n",
       "      <td>16342</td>\n",
       "    </tr>\n",
       "    <tr>\n",
       "      <th>2</th>\n",
       "      <td>99004</td>\n",
       "      <td>8.5.1</td>\n",
       "      <td>16458</td>\n",
       "    </tr>\n",
       "    <tr>\n",
       "      <th>3</th>\n",
       "      <td>98951</td>\n",
       "      <td>8.4</td>\n",
       "      <td>15833</td>\n",
       "    </tr>\n",
       "    <tr>\n",
       "      <th>4</th>\n",
       "      <td>98652</td>\n",
       "      <td>8.1</td>\n",
       "      <td>15243</td>\n",
       "    </tr>\n",
       "  </tbody>\n",
       "</table>\n",
       "</div>"
      ],
      "text/plain": [
       "   issue_id version_name  version_id\n",
       "0     99500          8.5       16342\n",
       "1     99361          8.5       16342\n",
       "2     99004        8.5.1       16458\n",
       "3     98951          8.4       15833\n",
       "4     98652          8.1       15243"
      ]
     },
     "execution_count": 50,
     "metadata": {},
     "output_type": "execute_result"
    }
   ],
   "source": [
    "versions = pd.read_csv(f\"{csv_folder}/issues_versions.csv\", index_col=0)\n",
    "versions.head()"
   ]
  },
  {
   "cell_type": "markdown",
   "metadata": {},
   "source": [
    "### Import fixVersions"
   ]
  },
  {
   "cell_type": "code",
   "execution_count": 51,
   "metadata": {},
   "outputs": [
    {
     "data": {
      "text/html": [
       "<div>\n",
       "<style scoped>\n",
       "    .dataframe tbody tr th:only-of-type {\n",
       "        vertical-align: middle;\n",
       "    }\n",
       "\n",
       "    .dataframe tbody tr th {\n",
       "        vertical-align: top;\n",
       "    }\n",
       "\n",
       "    .dataframe thead th {\n",
       "        text-align: right;\n",
       "    }\n",
       "</style>\n",
       "<table border=\"1\" class=\"dataframe\">\n",
       "  <thead>\n",
       "    <tr style=\"text-align: right;\">\n",
       "      <th></th>\n",
       "      <th>issue_id</th>\n",
       "      <th>fixVersion_name</th>\n",
       "      <th>fixVersion_id</th>\n",
       "    </tr>\n",
       "  </thead>\n",
       "  <tbody>\n",
       "    <tr>\n",
       "      <th>0</th>\n",
       "      <td>99607</td>\n",
       "      <td>8.6</td>\n",
       "      <td>16435</td>\n",
       "    </tr>\n",
       "    <tr>\n",
       "      <th>1</th>\n",
       "      <td>99584</td>\n",
       "      <td>8.6</td>\n",
       "      <td>16435</td>\n",
       "    </tr>\n",
       "    <tr>\n",
       "      <th>2</th>\n",
       "      <td>99583</td>\n",
       "      <td>8.6</td>\n",
       "      <td>16435</td>\n",
       "    </tr>\n",
       "    <tr>\n",
       "      <th>3</th>\n",
       "      <td>99582</td>\n",
       "      <td>8.6</td>\n",
       "      <td>16435</td>\n",
       "    </tr>\n",
       "    <tr>\n",
       "      <th>4</th>\n",
       "      <td>99581</td>\n",
       "      <td>8.6</td>\n",
       "      <td>16435</td>\n",
       "    </tr>\n",
       "  </tbody>\n",
       "</table>\n",
       "</div>"
      ],
      "text/plain": [
       "   issue_id fixVersion_name  fixVersion_id\n",
       "0     99607             8.6          16435\n",
       "1     99584             8.6          16435\n",
       "2     99583             8.6          16435\n",
       "3     99582             8.6          16435\n",
       "4     99581             8.6          16435"
      ]
     },
     "execution_count": 51,
     "metadata": {},
     "output_type": "execute_result"
    }
   ],
   "source": [
    "fixversions = pd.read_csv(f\"{csv_folder}/issues_fixversions.csv\", index_col=0)\n",
    "fixversions = fixversions[fixversions.issue_id.isin(issues.issue_id)]\n",
    "fixversions.head(5)"
   ]
  },
  {
   "cell_type": "markdown",
   "metadata": {},
   "source": [
    "### Import labels"
   ]
  },
  {
   "cell_type": "code",
   "execution_count": 52,
   "metadata": {
    "scrolled": true
   },
   "outputs": [
    {
     "data": {
      "text/html": [
       "<div>\n",
       "<style scoped>\n",
       "    .dataframe tbody tr th:only-of-type {\n",
       "        vertical-align: middle;\n",
       "    }\n",
       "\n",
       "    .dataframe tbody tr th {\n",
       "        vertical-align: top;\n",
       "    }\n",
       "\n",
       "    .dataframe thead th {\n",
       "        text-align: right;\n",
       "    }\n",
       "</style>\n",
       "<table border=\"1\" class=\"dataframe\">\n",
       "  <thead>\n",
       "    <tr style=\"text-align: right;\">\n",
       "      <th></th>\n",
       "      <th>issue_id</th>\n",
       "      <th>label</th>\n",
       "    </tr>\n",
       "  </thead>\n",
       "  <tbody>\n",
       "    <tr>\n",
       "      <th>0</th>\n",
       "      <td>99584</td>\n",
       "      <td>analyzer-upgrade</td>\n",
       "    </tr>\n",
       "    <tr>\n",
       "      <th>1</th>\n",
       "      <td>99583</td>\n",
       "      <td>analyzer-upgrade</td>\n",
       "    </tr>\n",
       "    <tr>\n",
       "      <th>2</th>\n",
       "      <td>99582</td>\n",
       "      <td>analyzer-upgrade</td>\n",
       "    </tr>\n",
       "    <tr>\n",
       "      <th>3</th>\n",
       "      <td>99581</td>\n",
       "      <td>analyzer-upgrade</td>\n",
       "    </tr>\n",
       "    <tr>\n",
       "      <th>4</th>\n",
       "      <td>99554</td>\n",
       "      <td>Events</td>\n",
       "    </tr>\n",
       "  </tbody>\n",
       "</table>\n",
       "</div>"
      ],
      "text/plain": [
       "   issue_id             label\n",
       "0     99584  analyzer-upgrade\n",
       "1     99583  analyzer-upgrade\n",
       "2     99582  analyzer-upgrade\n",
       "3     99581  analyzer-upgrade\n",
       "4     99554            Events"
      ]
     },
     "execution_count": 52,
     "metadata": {},
     "output_type": "execute_result"
    }
   ],
   "source": [
    "labels = pd.read_csv(f\"{csv_folder}/issues_labels.csv\", index_col=0)\n",
    "labels = labels[labels.issue_id.isin(issues.issue_id)]\n",
    "labels.head()"
   ]
  },
  {
   "cell_type": "markdown",
   "metadata": {},
   "source": [
    "### Import components"
   ]
  },
  {
   "cell_type": "code",
   "execution_count": 53,
   "metadata": {},
   "outputs": [
    {
     "data": {
      "text/html": [
       "<div>\n",
       "<style scoped>\n",
       "    .dataframe tbody tr th:only-of-type {\n",
       "        vertical-align: middle;\n",
       "    }\n",
       "\n",
       "    .dataframe tbody tr th {\n",
       "        vertical-align: top;\n",
       "    }\n",
       "\n",
       "    .dataframe thead th {\n",
       "        text-align: right;\n",
       "    }\n",
       "</style>\n",
       "<table border=\"1\" class=\"dataframe\">\n",
       "  <thead>\n",
       "    <tr style=\"text-align: right;\">\n",
       "      <th></th>\n",
       "      <th>issue_id</th>\n",
       "      <th>component_name</th>\n",
       "      <th>component_id</th>\n",
       "    </tr>\n",
       "  </thead>\n",
       "  <tbody>\n",
       "    <tr>\n",
       "      <th>0</th>\n",
       "      <td>99607</td>\n",
       "      <td>Documentation</td>\n",
       "      <td>11067</td>\n",
       "    </tr>\n",
       "    <tr>\n",
       "      <th>1</th>\n",
       "      <td>99569</td>\n",
       "      <td>Authentication &amp; Authorization</td>\n",
       "      <td>11086</td>\n",
       "    </tr>\n",
       "    <tr>\n",
       "      <th>2</th>\n",
       "      <td>99563</td>\n",
       "      <td>Web API</td>\n",
       "      <td>11100</td>\n",
       "    </tr>\n",
       "    <tr>\n",
       "      <th>3</th>\n",
       "      <td>99554</td>\n",
       "      <td>Web API</td>\n",
       "      <td>11100</td>\n",
       "    </tr>\n",
       "    <tr>\n",
       "      <th>4</th>\n",
       "      <td>99553</td>\n",
       "      <td>Issues</td>\n",
       "      <td>11096</td>\n",
       "    </tr>\n",
       "  </tbody>\n",
       "</table>\n",
       "</div>"
      ],
      "text/plain": [
       "   issue_id                  component_name  component_id\n",
       "0     99607                   Documentation         11067\n",
       "1     99569  Authentication & Authorization         11086\n",
       "2     99563                         Web API         11100\n",
       "3     99554                         Web API         11100\n",
       "4     99553                          Issues         11096"
      ]
     },
     "execution_count": 53,
     "metadata": {},
     "output_type": "execute_result"
    }
   ],
   "source": [
    "components = pd.read_csv(f\"{csv_folder}/issues_components.csv\", index_col=0)\n",
    "components = components[components.issue_id.isin(issues.issue_id)]\n",
    "components.head()"
   ]
  },
  {
   "cell_type": "markdown",
   "metadata": {},
   "source": [
    "### Import subtasks"
   ]
  },
  {
   "cell_type": "code",
   "execution_count": 54,
   "metadata": {},
   "outputs": [
    {
     "data": {
      "text/html": [
       "<div>\n",
       "<style scoped>\n",
       "    .dataframe tbody tr th:only-of-type {\n",
       "        vertical-align: middle;\n",
       "    }\n",
       "\n",
       "    .dataframe tbody tr th {\n",
       "        vertical-align: top;\n",
       "    }\n",
       "\n",
       "    .dataframe thead th {\n",
       "        text-align: right;\n",
       "    }\n",
       "</style>\n",
       "<table border=\"1\" class=\"dataframe\">\n",
       "  <thead>\n",
       "    <tr style=\"text-align: right;\">\n",
       "      <th></th>\n",
       "      <th>issue_id</th>\n",
       "      <th>subtask_key</th>\n",
       "      <th>subtask_id</th>\n",
       "    </tr>\n",
       "  </thead>\n",
       "  <tbody>\n",
       "    <tr>\n",
       "      <th>4</th>\n",
       "      <td>98843</td>\n",
       "      <td>SONAR-14098</td>\n",
       "      <td>99040</td>\n",
       "    </tr>\n",
       "    <tr>\n",
       "      <th>5</th>\n",
       "      <td>98843</td>\n",
       "      <td>SONAR-14109</td>\n",
       "      <td>99112</td>\n",
       "    </tr>\n",
       "    <tr>\n",
       "      <th>22</th>\n",
       "      <td>98734</td>\n",
       "      <td>SONAR-14034</td>\n",
       "      <td>98735</td>\n",
       "    </tr>\n",
       "    <tr>\n",
       "      <th>23</th>\n",
       "      <td>98734</td>\n",
       "      <td>SONAR-14035</td>\n",
       "      <td>98736</td>\n",
       "    </tr>\n",
       "    <tr>\n",
       "      <th>24</th>\n",
       "      <td>98734</td>\n",
       "      <td>SONAR-14036</td>\n",
       "      <td>98737</td>\n",
       "    </tr>\n",
       "  </tbody>\n",
       "</table>\n",
       "</div>"
      ],
      "text/plain": [
       "    issue_id  subtask_key  subtask_id\n",
       "4      98843  SONAR-14098       99040\n",
       "5      98843  SONAR-14109       99112\n",
       "22     98734  SONAR-14034       98735\n",
       "23     98734  SONAR-14035       98736\n",
       "24     98734  SONAR-14036       98737"
      ]
     },
     "execution_count": 54,
     "metadata": {},
     "output_type": "execute_result"
    }
   ],
   "source": [
    "substaks = pd.read_csv(f\"{csv_folder}/issues_subtasks.csv\", index_col=0)\n",
    "substaks = substaks[substaks.issue_id.isin(issues.issue_id)]\n",
    "substaks.head()"
   ]
  },
  {
   "cell_type": "markdown",
   "metadata": {},
   "source": [
    "## Analysis"
   ]
  },
  {
   "cell_type": "markdown",
   "metadata": {},
   "source": [
    "### Shape"
   ]
  },
  {
   "cell_type": "code",
   "execution_count": 55,
   "metadata": {},
   "outputs": [
    {
     "data": {
      "text/plain": [
       "(7163, 108)"
      ]
     },
     "execution_count": 55,
     "metadata": {},
     "output_type": "execute_result"
    }
   ],
   "source": [
    "issues.shape"
   ]
  },
  {
   "cell_type": "code",
   "execution_count": 56,
   "metadata": {},
   "outputs": [
    {
     "data": {
      "text/plain": [
       "(6707, 3)"
      ]
     },
     "execution_count": 56,
     "metadata": {},
     "output_type": "execute_result"
    }
   ],
   "source": [
    "fixversions.shape"
   ]
  },
  {
   "cell_type": "code",
   "execution_count": 57,
   "metadata": {},
   "outputs": [
    {
     "data": {
      "text/plain": [
       "(3351, 3)"
      ]
     },
     "execution_count": 57,
     "metadata": {},
     "output_type": "execute_result"
    }
   ],
   "source": [
    "versions.shape"
   ]
  },
  {
   "cell_type": "code",
   "execution_count": 58,
   "metadata": {},
   "outputs": [
    {
     "data": {
      "text/plain": [
       "(2279, 2)"
      ]
     },
     "execution_count": 58,
     "metadata": {},
     "output_type": "execute_result"
    }
   ],
   "source": [
    "labels.shape"
   ]
  },
  {
   "cell_type": "code",
   "execution_count": 59,
   "metadata": {},
   "outputs": [
    {
     "data": {
      "text/plain": [
       "(750, 3)"
      ]
     },
     "execution_count": 59,
     "metadata": {},
     "output_type": "execute_result"
    }
   ],
   "source": [
    "substaks.shape"
   ]
  },
  {
   "cell_type": "markdown",
   "metadata": {},
   "source": [
    "### Select only issues affecting the analysed release"
   ]
  },
  {
   "cell_type": "code",
   "execution_count": 60,
   "metadata": {},
   "outputs": [],
   "source": [
    "versions_issues = versions.merge(issues[[\"issue_id\",\"issuetype_name\"]], on=\"issue_id\")"
   ]
  },
  {
   "cell_type": "code",
   "execution_count": 61,
   "metadata": {},
   "outputs": [
    {
     "data": {
      "text/plain": [
       "54"
      ]
     },
     "execution_count": 61,
     "metadata": {},
     "output_type": "execute_result"
    }
   ],
   "source": [
    "versions_issues[versions_issues.version_name > \"5.2\"].version_name.nunique()"
   ]
  },
  {
   "cell_type": "markdown",
   "metadata": {},
   "source": [
    "### Columns"
   ]
  },
  {
   "cell_type": "code",
   "execution_count": 62,
   "metadata": {},
   "outputs": [
    {
     "data": {
      "text/plain": [
       "Index(['issue_key', 'issue_id', 'issuetype', 'customfield_12130',\n",
       "       'customfield_11041', 'customfield_12132', 'customfield_12131',\n",
       "       'project', 'customfield_12134', 'customfield_12530',\n",
       "       ...\n",
       "       'assignee_name', 'reporter_key', 'reporter_name', 'creator_key',\n",
       "       'creator_name', 'status_id', 'status_name', 'resolution_id',\n",
       "       'resolution_name', 'votes_votes'],\n",
       "      dtype='object', length=108)"
      ]
     },
     "execution_count": 62,
     "metadata": {},
     "output_type": "execute_result"
    }
   ],
   "source": [
    "issues.columns"
   ]
  },
  {
   "cell_type": "code",
   "execution_count": 63,
   "metadata": {},
   "outputs": [
    {
     "data": {
      "text/plain": [
       "Index(['issue_id', 'version_name', 'version_id'], dtype='object')"
      ]
     },
     "execution_count": 63,
     "metadata": {},
     "output_type": "execute_result"
    }
   ],
   "source": [
    "versions.columns"
   ]
  },
  {
   "cell_type": "code",
   "execution_count": 64,
   "metadata": {},
   "outputs": [
    {
     "data": {
      "text/plain": [
       "Index(['issue_id', 'fixVersion_name', 'fixVersion_id'], dtype='object')"
      ]
     },
     "execution_count": 64,
     "metadata": {},
     "output_type": "execute_result"
    }
   ],
   "source": [
    "fixversions.columns"
   ]
  },
  {
   "cell_type": "code",
   "execution_count": 65,
   "metadata": {},
   "outputs": [
    {
     "data": {
      "text/plain": [
       "Index(['issue_id', 'label'], dtype='object')"
      ]
     },
     "execution_count": 65,
     "metadata": {},
     "output_type": "execute_result"
    }
   ],
   "source": [
    "labels.columns"
   ]
  },
  {
   "cell_type": "code",
   "execution_count": 66,
   "metadata": {},
   "outputs": [
    {
     "data": {
      "text/plain": [
       "Index(['issue_id', 'subtask_key', 'subtask_id'], dtype='object')"
      ]
     },
     "execution_count": 66,
     "metadata": {},
     "output_type": "execute_result"
    }
   ],
   "source": [
    "substaks.columns"
   ]
  },
  {
   "cell_type": "markdown",
   "metadata": {},
   "source": [
    "### Describe"
   ]
  },
  {
   "cell_type": "code",
   "execution_count": 67,
   "metadata": {},
   "outputs": [
    {
     "data": {
      "text/html": [
       "<div>\n",
       "<style scoped>\n",
       "    .dataframe tbody tr th:only-of-type {\n",
       "        vertical-align: middle;\n",
       "    }\n",
       "\n",
       "    .dataframe tbody tr th {\n",
       "        vertical-align: top;\n",
       "    }\n",
       "\n",
       "    .dataframe thead th {\n",
       "        text-align: right;\n",
       "    }\n",
       "</style>\n",
       "<table border=\"1\" class=\"dataframe\">\n",
       "  <thead>\n",
       "    <tr style=\"text-align: right;\">\n",
       "      <th></th>\n",
       "      <th>issue_id</th>\n",
       "      <th>customfield_12131</th>\n",
       "      <th>customfield_12530</th>\n",
       "      <th>customfield_12532</th>\n",
       "      <th>customfield_10431</th>\n",
       "      <th>customfield_12531</th>\n",
       "      <th>customfield_10432</th>\n",
       "      <th>customfield_12534</th>\n",
       "      <th>customfield_10433</th>\n",
       "      <th>customfield_12533</th>\n",
       "      <th>customfield_11832</th>\n",
       "      <th>customfield_11831</th>\n",
       "      <th>customfield_11833</th>\n",
       "      <th>workratio</th>\n",
       "      <th>customfield_11032</th>\n",
       "      <th>customfield_11033</th>\n",
       "      <th>customfield_11233</th>\n",
       "      <th>customfield_11036</th>\n",
       "      <th>customfield_11830</th>\n",
       "      <th>customfield_11347</th>\n",
       "      <th>customfield_12031</th>\n",
       "      <th>customfield_11140</th>\n",
       "      <th>customfield_12030</th>\n",
       "      <th>customfield_12033</th>\n",
       "      <th>customfield_11141</th>\n",
       "      <th>customfield_12032</th>\n",
       "      <th>customfield_11344</th>\n",
       "      <th>customfield_11343</th>\n",
       "      <th>customfield_10530</th>\n",
       "      <th>customfield_11345</th>\n",
       "      <th>customfield_10730</th>\n",
       "      <th>customfield_11337</th>\n",
       "      <th>customfield_11139</th>\n",
       "      <th>customfield_11338</th>\n",
       "      <th>customfield_11130</th>\n",
       "      <th>customfield_11131</th>\n",
       "      <th>customfield_11132</th>\n",
       "      <th>customfield_11133</th>\n",
       "      <th>customfield_10243</th>\n",
       "      <th>customfield_11335</th>\n",
       "      <th>customfield_11334</th>\n",
       "      <th>customfield_10434</th>\n",
       "      <th>customfield_12535</th>\n",
       "      <th>customfield_12139</th>\n",
       "      <th>customfield_12538</th>\n",
       "      <th>customfield_12537</th>\n",
       "      <th>votes</th>\n",
       "      <th>issuetype_id</th>\n",
       "      <th>priority_id</th>\n",
       "      <th>status_id</th>\n",
       "      <th>resolution_id</th>\n",
       "      <th>votes_votes</th>\n",
       "    </tr>\n",
       "  </thead>\n",
       "  <tbody>\n",
       "    <tr>\n",
       "      <th>count</th>\n",
       "      <td>7163.000000</td>\n",
       "      <td>0.0</td>\n",
       "      <td>0.0</td>\n",
       "      <td>0.0</td>\n",
       "      <td>0.0</td>\n",
       "      <td>0.0</td>\n",
       "      <td>0.0</td>\n",
       "      <td>0.0</td>\n",
       "      <td>0.0</td>\n",
       "      <td>0.0</td>\n",
       "      <td>0.0</td>\n",
       "      <td>0.0</td>\n",
       "      <td>0.0</td>\n",
       "      <td>7163.000000</td>\n",
       "      <td>0.0</td>\n",
       "      <td>0.0</td>\n",
       "      <td>0.0</td>\n",
       "      <td>0.0</td>\n",
       "      <td>0.0</td>\n",
       "      <td>0.0</td>\n",
       "      <td>0.0</td>\n",
       "      <td>0.0</td>\n",
       "      <td>0.0</td>\n",
       "      <td>0.0</td>\n",
       "      <td>0.0</td>\n",
       "      <td>0.0</td>\n",
       "      <td>0.0</td>\n",
       "      <td>0.0</td>\n",
       "      <td>0.0</td>\n",
       "      <td>0.0</td>\n",
       "      <td>0.0</td>\n",
       "      <td>0.0</td>\n",
       "      <td>0.0</td>\n",
       "      <td>0.0</td>\n",
       "      <td>0.0</td>\n",
       "      <td>0.0</td>\n",
       "      <td>0.0</td>\n",
       "      <td>0.0</td>\n",
       "      <td>0.0</td>\n",
       "      <td>0.0</td>\n",
       "      <td>0.0</td>\n",
       "      <td>0.0</td>\n",
       "      <td>0.0</td>\n",
       "      <td>0.0</td>\n",
       "      <td>0.0</td>\n",
       "      <td>0.0</td>\n",
       "      <td>7163.000000</td>\n",
       "      <td>7163.000000</td>\n",
       "      <td>7163.000000</td>\n",
       "      <td>7163.000000</td>\n",
       "      <td>6638.000000</td>\n",
       "      <td>7163.000000</td>\n",
       "    </tr>\n",
       "    <tr>\n",
       "      <th>mean</th>\n",
       "      <td>53804.984364</td>\n",
       "      <td>NaN</td>\n",
       "      <td>NaN</td>\n",
       "      <td>NaN</td>\n",
       "      <td>NaN</td>\n",
       "      <td>NaN</td>\n",
       "      <td>NaN</td>\n",
       "      <td>NaN</td>\n",
       "      <td>NaN</td>\n",
       "      <td>NaN</td>\n",
       "      <td>NaN</td>\n",
       "      <td>NaN</td>\n",
       "      <td>NaN</td>\n",
       "      <td>-0.828005</td>\n",
       "      <td>NaN</td>\n",
       "      <td>NaN</td>\n",
       "      <td>NaN</td>\n",
       "      <td>NaN</td>\n",
       "      <td>NaN</td>\n",
       "      <td>NaN</td>\n",
       "      <td>NaN</td>\n",
       "      <td>NaN</td>\n",
       "      <td>NaN</td>\n",
       "      <td>NaN</td>\n",
       "      <td>NaN</td>\n",
       "      <td>NaN</td>\n",
       "      <td>NaN</td>\n",
       "      <td>NaN</td>\n",
       "      <td>NaN</td>\n",
       "      <td>NaN</td>\n",
       "      <td>NaN</td>\n",
       "      <td>NaN</td>\n",
       "      <td>NaN</td>\n",
       "      <td>NaN</td>\n",
       "      <td>NaN</td>\n",
       "      <td>NaN</td>\n",
       "      <td>NaN</td>\n",
       "      <td>NaN</td>\n",
       "      <td>NaN</td>\n",
       "      <td>NaN</td>\n",
       "      <td>NaN</td>\n",
       "      <td>NaN</td>\n",
       "      <td>NaN</td>\n",
       "      <td>NaN</td>\n",
       "      <td>NaN</td>\n",
       "      <td>NaN</td>\n",
       "      <td>0.326120</td>\n",
       "      <td>3.162641</td>\n",
       "      <td>3.081670</td>\n",
       "      <td>43.327796</td>\n",
       "      <td>69.454354</td>\n",
       "      <td>0.326120</td>\n",
       "    </tr>\n",
       "    <tr>\n",
       "      <th>std</th>\n",
       "      <td>23579.040919</td>\n",
       "      <td>NaN</td>\n",
       "      <td>NaN</td>\n",
       "      <td>NaN</td>\n",
       "      <td>NaN</td>\n",
       "      <td>NaN</td>\n",
       "      <td>NaN</td>\n",
       "      <td>NaN</td>\n",
       "      <td>NaN</td>\n",
       "      <td>NaN</td>\n",
       "      <td>NaN</td>\n",
       "      <td>NaN</td>\n",
       "      <td>NaN</td>\n",
       "      <td>3.774207</td>\n",
       "      <td>NaN</td>\n",
       "      <td>NaN</td>\n",
       "      <td>NaN</td>\n",
       "      <td>NaN</td>\n",
       "      <td>NaN</td>\n",
       "      <td>NaN</td>\n",
       "      <td>NaN</td>\n",
       "      <td>NaN</td>\n",
       "      <td>NaN</td>\n",
       "      <td>NaN</td>\n",
       "      <td>NaN</td>\n",
       "      <td>NaN</td>\n",
       "      <td>NaN</td>\n",
       "      <td>NaN</td>\n",
       "      <td>NaN</td>\n",
       "      <td>NaN</td>\n",
       "      <td>NaN</td>\n",
       "      <td>NaN</td>\n",
       "      <td>NaN</td>\n",
       "      <td>NaN</td>\n",
       "      <td>NaN</td>\n",
       "      <td>NaN</td>\n",
       "      <td>NaN</td>\n",
       "      <td>NaN</td>\n",
       "      <td>NaN</td>\n",
       "      <td>NaN</td>\n",
       "      <td>NaN</td>\n",
       "      <td>NaN</td>\n",
       "      <td>NaN</td>\n",
       "      <td>NaN</td>\n",
       "      <td>NaN</td>\n",
       "      <td>NaN</td>\n",
       "      <td>2.942628</td>\n",
       "      <td>1.414782</td>\n",
       "      <td>0.374267</td>\n",
       "      <td>612.561906</td>\n",
       "      <td>837.571479</td>\n",
       "      <td>2.942628</td>\n",
       "    </tr>\n",
       "    <tr>\n",
       "      <th>min</th>\n",
       "      <td>26471.000000</td>\n",
       "      <td>NaN</td>\n",
       "      <td>NaN</td>\n",
       "      <td>NaN</td>\n",
       "      <td>NaN</td>\n",
       "      <td>NaN</td>\n",
       "      <td>NaN</td>\n",
       "      <td>NaN</td>\n",
       "      <td>NaN</td>\n",
       "      <td>NaN</td>\n",
       "      <td>NaN</td>\n",
       "      <td>NaN</td>\n",
       "      <td>NaN</td>\n",
       "      <td>-1.000000</td>\n",
       "      <td>NaN</td>\n",
       "      <td>NaN</td>\n",
       "      <td>NaN</td>\n",
       "      <td>NaN</td>\n",
       "      <td>NaN</td>\n",
       "      <td>NaN</td>\n",
       "      <td>NaN</td>\n",
       "      <td>NaN</td>\n",
       "      <td>NaN</td>\n",
       "      <td>NaN</td>\n",
       "      <td>NaN</td>\n",
       "      <td>NaN</td>\n",
       "      <td>NaN</td>\n",
       "      <td>NaN</td>\n",
       "      <td>NaN</td>\n",
       "      <td>NaN</td>\n",
       "      <td>NaN</td>\n",
       "      <td>NaN</td>\n",
       "      <td>NaN</td>\n",
       "      <td>NaN</td>\n",
       "      <td>NaN</td>\n",
       "      <td>NaN</td>\n",
       "      <td>NaN</td>\n",
       "      <td>NaN</td>\n",
       "      <td>NaN</td>\n",
       "      <td>NaN</td>\n",
       "      <td>NaN</td>\n",
       "      <td>NaN</td>\n",
       "      <td>NaN</td>\n",
       "      <td>NaN</td>\n",
       "      <td>NaN</td>\n",
       "      <td>NaN</td>\n",
       "      <td>0.000000</td>\n",
       "      <td>1.000000</td>\n",
       "      <td>1.000000</td>\n",
       "      <td>1.000000</td>\n",
       "      <td>1.000000</td>\n",
       "      <td>0.000000</td>\n",
       "    </tr>\n",
       "    <tr>\n",
       "      <th>25%</th>\n",
       "      <td>30346.500000</td>\n",
       "      <td>NaN</td>\n",
       "      <td>NaN</td>\n",
       "      <td>NaN</td>\n",
       "      <td>NaN</td>\n",
       "      <td>NaN</td>\n",
       "      <td>NaN</td>\n",
       "      <td>NaN</td>\n",
       "      <td>NaN</td>\n",
       "      <td>NaN</td>\n",
       "      <td>NaN</td>\n",
       "      <td>NaN</td>\n",
       "      <td>NaN</td>\n",
       "      <td>-1.000000</td>\n",
       "      <td>NaN</td>\n",
       "      <td>NaN</td>\n",
       "      <td>NaN</td>\n",
       "      <td>NaN</td>\n",
       "      <td>NaN</td>\n",
       "      <td>NaN</td>\n",
       "      <td>NaN</td>\n",
       "      <td>NaN</td>\n",
       "      <td>NaN</td>\n",
       "      <td>NaN</td>\n",
       "      <td>NaN</td>\n",
       "      <td>NaN</td>\n",
       "      <td>NaN</td>\n",
       "      <td>NaN</td>\n",
       "      <td>NaN</td>\n",
       "      <td>NaN</td>\n",
       "      <td>NaN</td>\n",
       "      <td>NaN</td>\n",
       "      <td>NaN</td>\n",
       "      <td>NaN</td>\n",
       "      <td>NaN</td>\n",
       "      <td>NaN</td>\n",
       "      <td>NaN</td>\n",
       "      <td>NaN</td>\n",
       "      <td>NaN</td>\n",
       "      <td>NaN</td>\n",
       "      <td>NaN</td>\n",
       "      <td>NaN</td>\n",
       "      <td>NaN</td>\n",
       "      <td>NaN</td>\n",
       "      <td>NaN</td>\n",
       "      <td>NaN</td>\n",
       "      <td>0.000000</td>\n",
       "      <td>2.000000</td>\n",
       "      <td>3.000000</td>\n",
       "      <td>6.000000</td>\n",
       "      <td>1.000000</td>\n",
       "      <td>0.000000</td>\n",
       "    </tr>\n",
       "    <tr>\n",
       "      <th>50%</th>\n",
       "      <td>50710.000000</td>\n",
       "      <td>NaN</td>\n",
       "      <td>NaN</td>\n",
       "      <td>NaN</td>\n",
       "      <td>NaN</td>\n",
       "      <td>NaN</td>\n",
       "      <td>NaN</td>\n",
       "      <td>NaN</td>\n",
       "      <td>NaN</td>\n",
       "      <td>NaN</td>\n",
       "      <td>NaN</td>\n",
       "      <td>NaN</td>\n",
       "      <td>NaN</td>\n",
       "      <td>-1.000000</td>\n",
       "      <td>NaN</td>\n",
       "      <td>NaN</td>\n",
       "      <td>NaN</td>\n",
       "      <td>NaN</td>\n",
       "      <td>NaN</td>\n",
       "      <td>NaN</td>\n",
       "      <td>NaN</td>\n",
       "      <td>NaN</td>\n",
       "      <td>NaN</td>\n",
       "      <td>NaN</td>\n",
       "      <td>NaN</td>\n",
       "      <td>NaN</td>\n",
       "      <td>NaN</td>\n",
       "      <td>NaN</td>\n",
       "      <td>NaN</td>\n",
       "      <td>NaN</td>\n",
       "      <td>NaN</td>\n",
       "      <td>NaN</td>\n",
       "      <td>NaN</td>\n",
       "      <td>NaN</td>\n",
       "      <td>NaN</td>\n",
       "      <td>NaN</td>\n",
       "      <td>NaN</td>\n",
       "      <td>NaN</td>\n",
       "      <td>NaN</td>\n",
       "      <td>NaN</td>\n",
       "      <td>NaN</td>\n",
       "      <td>NaN</td>\n",
       "      <td>NaN</td>\n",
       "      <td>NaN</td>\n",
       "      <td>NaN</td>\n",
       "      <td>NaN</td>\n",
       "      <td>0.000000</td>\n",
       "      <td>4.000000</td>\n",
       "      <td>3.000000</td>\n",
       "      <td>6.000000</td>\n",
       "      <td>1.000000</td>\n",
       "      <td>0.000000</td>\n",
       "    </tr>\n",
       "    <tr>\n",
       "      <th>75%</th>\n",
       "      <td>73601.000000</td>\n",
       "      <td>NaN</td>\n",
       "      <td>NaN</td>\n",
       "      <td>NaN</td>\n",
       "      <td>NaN</td>\n",
       "      <td>NaN</td>\n",
       "      <td>NaN</td>\n",
       "      <td>NaN</td>\n",
       "      <td>NaN</td>\n",
       "      <td>NaN</td>\n",
       "      <td>NaN</td>\n",
       "      <td>NaN</td>\n",
       "      <td>NaN</td>\n",
       "      <td>-1.000000</td>\n",
       "      <td>NaN</td>\n",
       "      <td>NaN</td>\n",
       "      <td>NaN</td>\n",
       "      <td>NaN</td>\n",
       "      <td>NaN</td>\n",
       "      <td>NaN</td>\n",
       "      <td>NaN</td>\n",
       "      <td>NaN</td>\n",
       "      <td>NaN</td>\n",
       "      <td>NaN</td>\n",
       "      <td>NaN</td>\n",
       "      <td>NaN</td>\n",
       "      <td>NaN</td>\n",
       "      <td>NaN</td>\n",
       "      <td>NaN</td>\n",
       "      <td>NaN</td>\n",
       "      <td>NaN</td>\n",
       "      <td>NaN</td>\n",
       "      <td>NaN</td>\n",
       "      <td>NaN</td>\n",
       "      <td>NaN</td>\n",
       "      <td>NaN</td>\n",
       "      <td>NaN</td>\n",
       "      <td>NaN</td>\n",
       "      <td>NaN</td>\n",
       "      <td>NaN</td>\n",
       "      <td>NaN</td>\n",
       "      <td>NaN</td>\n",
       "      <td>NaN</td>\n",
       "      <td>NaN</td>\n",
       "      <td>NaN</td>\n",
       "      <td>NaN</td>\n",
       "      <td>0.000000</td>\n",
       "      <td>4.000000</td>\n",
       "      <td>3.000000</td>\n",
       "      <td>6.000000</td>\n",
       "      <td>1.000000</td>\n",
       "      <td>0.000000</td>\n",
       "    </tr>\n",
       "    <tr>\n",
       "      <th>max</th>\n",
       "      <td>99609.000000</td>\n",
       "      <td>NaN</td>\n",
       "      <td>NaN</td>\n",
       "      <td>NaN</td>\n",
       "      <td>NaN</td>\n",
       "      <td>NaN</td>\n",
       "      <td>NaN</td>\n",
       "      <td>NaN</td>\n",
       "      <td>NaN</td>\n",
       "      <td>NaN</td>\n",
       "      <td>NaN</td>\n",
       "      <td>NaN</td>\n",
       "      <td>NaN</td>\n",
       "      <td>100.000000</td>\n",
       "      <td>NaN</td>\n",
       "      <td>NaN</td>\n",
       "      <td>NaN</td>\n",
       "      <td>NaN</td>\n",
       "      <td>NaN</td>\n",
       "      <td>NaN</td>\n",
       "      <td>NaN</td>\n",
       "      <td>NaN</td>\n",
       "      <td>NaN</td>\n",
       "      <td>NaN</td>\n",
       "      <td>NaN</td>\n",
       "      <td>NaN</td>\n",
       "      <td>NaN</td>\n",
       "      <td>NaN</td>\n",
       "      <td>NaN</td>\n",
       "      <td>NaN</td>\n",
       "      <td>NaN</td>\n",
       "      <td>NaN</td>\n",
       "      <td>NaN</td>\n",
       "      <td>NaN</td>\n",
       "      <td>NaN</td>\n",
       "      <td>NaN</td>\n",
       "      <td>NaN</td>\n",
       "      <td>NaN</td>\n",
       "      <td>NaN</td>\n",
       "      <td>NaN</td>\n",
       "      <td>NaN</td>\n",
       "      <td>NaN</td>\n",
       "      <td>NaN</td>\n",
       "      <td>NaN</td>\n",
       "      <td>NaN</td>\n",
       "      <td>NaN</td>\n",
       "      <td>192.000000</td>\n",
       "      <td>6.000000</td>\n",
       "      <td>5.000000</td>\n",
       "      <td>10002.000000</td>\n",
       "      <td>10601.000000</td>\n",
       "      <td>192.000000</td>\n",
       "    </tr>\n",
       "  </tbody>\n",
       "</table>\n",
       "</div>"
      ],
      "text/plain": [
       "           issue_id  customfield_12131  customfield_12530  customfield_12532  \\\n",
       "count   7163.000000                0.0                0.0                0.0   \n",
       "mean   53804.984364                NaN                NaN                NaN   \n",
       "std    23579.040919                NaN                NaN                NaN   \n",
       "min    26471.000000                NaN                NaN                NaN   \n",
       "25%    30346.500000                NaN                NaN                NaN   \n",
       "50%    50710.000000                NaN                NaN                NaN   \n",
       "75%    73601.000000                NaN                NaN                NaN   \n",
       "max    99609.000000                NaN                NaN                NaN   \n",
       "\n",
       "       customfield_10431  customfield_12531  customfield_10432  \\\n",
       "count                0.0                0.0                0.0   \n",
       "mean                 NaN                NaN                NaN   \n",
       "std                  NaN                NaN                NaN   \n",
       "min                  NaN                NaN                NaN   \n",
       "25%                  NaN                NaN                NaN   \n",
       "50%                  NaN                NaN                NaN   \n",
       "75%                  NaN                NaN                NaN   \n",
       "max                  NaN                NaN                NaN   \n",
       "\n",
       "       customfield_12534  customfield_10433  customfield_12533  \\\n",
       "count                0.0                0.0                0.0   \n",
       "mean                 NaN                NaN                NaN   \n",
       "std                  NaN                NaN                NaN   \n",
       "min                  NaN                NaN                NaN   \n",
       "25%                  NaN                NaN                NaN   \n",
       "50%                  NaN                NaN                NaN   \n",
       "75%                  NaN                NaN                NaN   \n",
       "max                  NaN                NaN                NaN   \n",
       "\n",
       "       customfield_11832  customfield_11831  customfield_11833    workratio  \\\n",
       "count                0.0                0.0                0.0  7163.000000   \n",
       "mean                 NaN                NaN                NaN    -0.828005   \n",
       "std                  NaN                NaN                NaN     3.774207   \n",
       "min                  NaN                NaN                NaN    -1.000000   \n",
       "25%                  NaN                NaN                NaN    -1.000000   \n",
       "50%                  NaN                NaN                NaN    -1.000000   \n",
       "75%                  NaN                NaN                NaN    -1.000000   \n",
       "max                  NaN                NaN                NaN   100.000000   \n",
       "\n",
       "       customfield_11032  customfield_11033  customfield_11233  \\\n",
       "count                0.0                0.0                0.0   \n",
       "mean                 NaN                NaN                NaN   \n",
       "std                  NaN                NaN                NaN   \n",
       "min                  NaN                NaN                NaN   \n",
       "25%                  NaN                NaN                NaN   \n",
       "50%                  NaN                NaN                NaN   \n",
       "75%                  NaN                NaN                NaN   \n",
       "max                  NaN                NaN                NaN   \n",
       "\n",
       "       customfield_11036  customfield_11830  customfield_11347  \\\n",
       "count                0.0                0.0                0.0   \n",
       "mean                 NaN                NaN                NaN   \n",
       "std                  NaN                NaN                NaN   \n",
       "min                  NaN                NaN                NaN   \n",
       "25%                  NaN                NaN                NaN   \n",
       "50%                  NaN                NaN                NaN   \n",
       "75%                  NaN                NaN                NaN   \n",
       "max                  NaN                NaN                NaN   \n",
       "\n",
       "       customfield_12031  customfield_11140  customfield_12030  \\\n",
       "count                0.0                0.0                0.0   \n",
       "mean                 NaN                NaN                NaN   \n",
       "std                  NaN                NaN                NaN   \n",
       "min                  NaN                NaN                NaN   \n",
       "25%                  NaN                NaN                NaN   \n",
       "50%                  NaN                NaN                NaN   \n",
       "75%                  NaN                NaN                NaN   \n",
       "max                  NaN                NaN                NaN   \n",
       "\n",
       "       customfield_12033  customfield_11141  customfield_12032  \\\n",
       "count                0.0                0.0                0.0   \n",
       "mean                 NaN                NaN                NaN   \n",
       "std                  NaN                NaN                NaN   \n",
       "min                  NaN                NaN                NaN   \n",
       "25%                  NaN                NaN                NaN   \n",
       "50%                  NaN                NaN                NaN   \n",
       "75%                  NaN                NaN                NaN   \n",
       "max                  NaN                NaN                NaN   \n",
       "\n",
       "       customfield_11344  customfield_11343  customfield_10530  \\\n",
       "count                0.0                0.0                0.0   \n",
       "mean                 NaN                NaN                NaN   \n",
       "std                  NaN                NaN                NaN   \n",
       "min                  NaN                NaN                NaN   \n",
       "25%                  NaN                NaN                NaN   \n",
       "50%                  NaN                NaN                NaN   \n",
       "75%                  NaN                NaN                NaN   \n",
       "max                  NaN                NaN                NaN   \n",
       "\n",
       "       customfield_11345  customfield_10730  customfield_11337  \\\n",
       "count                0.0                0.0                0.0   \n",
       "mean                 NaN                NaN                NaN   \n",
       "std                  NaN                NaN                NaN   \n",
       "min                  NaN                NaN                NaN   \n",
       "25%                  NaN                NaN                NaN   \n",
       "50%                  NaN                NaN                NaN   \n",
       "75%                  NaN                NaN                NaN   \n",
       "max                  NaN                NaN                NaN   \n",
       "\n",
       "       customfield_11139  customfield_11338  customfield_11130  \\\n",
       "count                0.0                0.0                0.0   \n",
       "mean                 NaN                NaN                NaN   \n",
       "std                  NaN                NaN                NaN   \n",
       "min                  NaN                NaN                NaN   \n",
       "25%                  NaN                NaN                NaN   \n",
       "50%                  NaN                NaN                NaN   \n",
       "75%                  NaN                NaN                NaN   \n",
       "max                  NaN                NaN                NaN   \n",
       "\n",
       "       customfield_11131  customfield_11132  customfield_11133  \\\n",
       "count                0.0                0.0                0.0   \n",
       "mean                 NaN                NaN                NaN   \n",
       "std                  NaN                NaN                NaN   \n",
       "min                  NaN                NaN                NaN   \n",
       "25%                  NaN                NaN                NaN   \n",
       "50%                  NaN                NaN                NaN   \n",
       "75%                  NaN                NaN                NaN   \n",
       "max                  NaN                NaN                NaN   \n",
       "\n",
       "       customfield_10243  customfield_11335  customfield_11334  \\\n",
       "count                0.0                0.0                0.0   \n",
       "mean                 NaN                NaN                NaN   \n",
       "std                  NaN                NaN                NaN   \n",
       "min                  NaN                NaN                NaN   \n",
       "25%                  NaN                NaN                NaN   \n",
       "50%                  NaN                NaN                NaN   \n",
       "75%                  NaN                NaN                NaN   \n",
       "max                  NaN                NaN                NaN   \n",
       "\n",
       "       customfield_10434  customfield_12535  customfield_12139  \\\n",
       "count                0.0                0.0                0.0   \n",
       "mean                 NaN                NaN                NaN   \n",
       "std                  NaN                NaN                NaN   \n",
       "min                  NaN                NaN                NaN   \n",
       "25%                  NaN                NaN                NaN   \n",
       "50%                  NaN                NaN                NaN   \n",
       "75%                  NaN                NaN                NaN   \n",
       "max                  NaN                NaN                NaN   \n",
       "\n",
       "       customfield_12538  customfield_12537        votes  issuetype_id  \\\n",
       "count                0.0                0.0  7163.000000   7163.000000   \n",
       "mean                 NaN                NaN     0.326120      3.162641   \n",
       "std                  NaN                NaN     2.942628      1.414782   \n",
       "min                  NaN                NaN     0.000000      1.000000   \n",
       "25%                  NaN                NaN     0.000000      2.000000   \n",
       "50%                  NaN                NaN     0.000000      4.000000   \n",
       "75%                  NaN                NaN     0.000000      4.000000   \n",
       "max                  NaN                NaN   192.000000      6.000000   \n",
       "\n",
       "       priority_id     status_id  resolution_id  votes_votes  \n",
       "count  7163.000000   7163.000000    6638.000000  7163.000000  \n",
       "mean      3.081670     43.327796      69.454354     0.326120  \n",
       "std       0.374267    612.561906     837.571479     2.942628  \n",
       "min       1.000000      1.000000       1.000000     0.000000  \n",
       "25%       3.000000      6.000000       1.000000     0.000000  \n",
       "50%       3.000000      6.000000       1.000000     0.000000  \n",
       "75%       3.000000      6.000000       1.000000     0.000000  \n",
       "max       5.000000  10002.000000   10601.000000   192.000000  "
      ]
     },
     "execution_count": 67,
     "metadata": {},
     "output_type": "execute_result"
    }
   ],
   "source": [
    "issues.describe()"
   ]
  },
  {
   "cell_type": "code",
   "execution_count": 68,
   "metadata": {
    "scrolled": true
   },
   "outputs": [
    {
     "data": {
      "text/html": [
       "<div>\n",
       "<style scoped>\n",
       "    .dataframe tbody tr th:only-of-type {\n",
       "        vertical-align: middle;\n",
       "    }\n",
       "\n",
       "    .dataframe tbody tr th {\n",
       "        vertical-align: top;\n",
       "    }\n",
       "\n",
       "    .dataframe thead th {\n",
       "        text-align: right;\n",
       "    }\n",
       "</style>\n",
       "<table border=\"1\" class=\"dataframe\">\n",
       "  <thead>\n",
       "    <tr style=\"text-align: right;\">\n",
       "      <th></th>\n",
       "      <th>issue_key</th>\n",
       "      <th>issuetype</th>\n",
       "      <th>customfield_12130</th>\n",
       "      <th>customfield_11041</th>\n",
       "      <th>customfield_12132</th>\n",
       "      <th>project</th>\n",
       "      <th>customfield_12134</th>\n",
       "      <th>fixVersions</th>\n",
       "      <th>customfield_12133</th>\n",
       "      <th>customfield_12136</th>\n",
       "      <th>resolution</th>\n",
       "      <th>customfield_12135</th>\n",
       "      <th>customfield_12138</th>\n",
       "      <th>customfield_12137</th>\n",
       "      <th>watches</th>\n",
       "      <th>priority</th>\n",
       "      <th>edition</th>\n",
       "      <th>labels</th>\n",
       "      <th>customfield_11631</th>\n",
       "      <th>customfield_11038</th>\n",
       "      <th>customfield_10930</th>\n",
       "      <th>customfield_10931</th>\n",
       "      <th>customfield_10932</th>\n",
       "      <th>versions</th>\n",
       "      <th>issuelinks</th>\n",
       "      <th>assignee</th>\n",
       "      <th>status</th>\n",
       "      <th>components</th>\n",
       "      <th>description</th>\n",
       "      <th>customfield_12034</th>\n",
       "      <th>customfield_12430</th>\n",
       "      <th>customfield_11930</th>\n",
       "      <th>summary</th>\n",
       "      <th>creator</th>\n",
       "      <th>subtasks</th>\n",
       "      <th>reporter</th>\n",
       "      <th>customfield_11730</th>\n",
       "      <th>customfield_12536</th>\n",
       "      <th>environment</th>\n",
       "      <th>customfield_10437</th>\n",
       "      <th>customfield_10438</th>\n",
       "      <th>issuetype_name</th>\n",
       "      <th>priority_name</th>\n",
       "      <th>assignee_key</th>\n",
       "      <th>assignee_name</th>\n",
       "      <th>reporter_key</th>\n",
       "      <th>reporter_name</th>\n",
       "      <th>creator_key</th>\n",
       "      <th>creator_name</th>\n",
       "      <th>status_name</th>\n",
       "      <th>resolution_name</th>\n",
       "    </tr>\n",
       "  </thead>\n",
       "  <tbody>\n",
       "    <tr>\n",
       "      <th>count</th>\n",
       "      <td>7163</td>\n",
       "      <td>7163</td>\n",
       "      <td>916</td>\n",
       "      <td>7163</td>\n",
       "      <td>916</td>\n",
       "      <td>7163</td>\n",
       "      <td>916</td>\n",
       "      <td>7163</td>\n",
       "      <td>916</td>\n",
       "      <td>916</td>\n",
       "      <td>6638</td>\n",
       "      <td>916</td>\n",
       "      <td>916</td>\n",
       "      <td>916</td>\n",
       "      <td>7163</td>\n",
       "      <td>7163</td>\n",
       "      <td>2049</td>\n",
       "      <td>7163</td>\n",
       "      <td>1810</td>\n",
       "      <td>2</td>\n",
       "      <td>1</td>\n",
       "      <td>4</td>\n",
       "      <td>9</td>\n",
       "      <td>7163</td>\n",
       "      <td>7163</td>\n",
       "      <td>6464</td>\n",
       "      <td>7163</td>\n",
       "      <td>7163</td>\n",
       "      <td>6063</td>\n",
       "      <td>1055</td>\n",
       "      <td>2</td>\n",
       "      <td>7163</td>\n",
       "      <td>7163</td>\n",
       "      <td>7162</td>\n",
       "      <td>7163</td>\n",
       "      <td>7162</td>\n",
       "      <td>95</td>\n",
       "      <td>231</td>\n",
       "      <td>75</td>\n",
       "      <td>4468</td>\n",
       "      <td>7163</td>\n",
       "      <td>7163</td>\n",
       "      <td>7163</td>\n",
       "      <td>6464</td>\n",
       "      <td>6464</td>\n",
       "      <td>7162</td>\n",
       "      <td>7162</td>\n",
       "      <td>7162</td>\n",
       "      <td>7162</td>\n",
       "      <td>7163</td>\n",
       "      <td>6638</td>\n",
       "    </tr>\n",
       "    <tr>\n",
       "      <th>unique</th>\n",
       "      <td>7163</td>\n",
       "      <td>6</td>\n",
       "      <td>1</td>\n",
       "      <td>7163</td>\n",
       "      <td>1</td>\n",
       "      <td>1</td>\n",
       "      <td>1</td>\n",
       "      <td>181</td>\n",
       "      <td>1</td>\n",
       "      <td>1</td>\n",
       "      <td>12</td>\n",
       "      <td>1</td>\n",
       "      <td>1</td>\n",
       "      <td>1</td>\n",
       "      <td>7163</td>\n",
       "      <td>5</td>\n",
       "      <td>2</td>\n",
       "      <td>198</td>\n",
       "      <td>29</td>\n",
       "      <td>2</td>\n",
       "      <td>1</td>\n",
       "      <td>1</td>\n",
       "      <td>1</td>\n",
       "      <td>213</td>\n",
       "      <td>3137</td>\n",
       "      <td>67</td>\n",
       "      <td>7</td>\n",
       "      <td>377</td>\n",
       "      <td>6020</td>\n",
       "      <td>1</td>\n",
       "      <td>2</td>\n",
       "      <td>1</td>\n",
       "      <td>7141</td>\n",
       "      <td>232</td>\n",
       "      <td>163</td>\n",
       "      <td>234</td>\n",
       "      <td>3</td>\n",
       "      <td>1</td>\n",
       "      <td>73</td>\n",
       "      <td>2</td>\n",
       "      <td>1</td>\n",
       "      <td>6</td>\n",
       "      <td>5</td>\n",
       "      <td>67</td>\n",
       "      <td>67</td>\n",
       "      <td>235</td>\n",
       "      <td>235</td>\n",
       "      <td>233</td>\n",
       "      <td>233</td>\n",
       "      <td>7</td>\n",
       "      <td>12</td>\n",
       "    </tr>\n",
       "    <tr>\n",
       "      <th>top</th>\n",
       "      <td>SONAR-4882</td>\n",
       "      <td>Improvement</td>\n",
       "      <td>P3-Medium</td>\n",
       "      <td>0|i03c9b:</td>\n",
       "      <td>No root cause identified</td>\n",
       "      <td>SONAR</td>\n",
       "      <td>Not captured yet</td>\n",
       "      <td>[]</td>\n",
       "      <td>Not assessed yet</td>\n",
       "      <td>Not captured yet</td>\n",
       "      <td>Fixed</td>\n",
       "      <td>No action plan</td>\n",
       "      <td>Not captured yet</td>\n",
       "      <td>Not captured yet</td>\n",
       "      <td>&lt;JIRA Watchers at 5201105440&gt;</td>\n",
       "      <td>Major</td>\n",
       "      <td>Community</td>\n",
       "      <td>[]</td>\n",
       "      <td>None</td>\n",
       "      <td>MMF-29</td>\n",
       "      <td>https://github.com/SonarSource/sonar/pull/4</td>\n",
       "      <td>yes</td>\n",
       "      <td>[&lt;JIRA CustomFieldOption: value='Yes', id='107...</td>\n",
       "      <td>[]</td>\n",
       "      <td>[]</td>\n",
       "      <td>Simon Brandhof</td>\n",
       "      <td>Closed</td>\n",
       "      <td>[]</td>\n",
       "      <td>Template names are unique by organization. Con...</td>\n",
       "      <td>SonarQube</td>\n",
       "      <td>https://sonarsource.productboard.com/feature-b...</td>\n",
       "      <td>{}</td>\n",
       "      <td>Upgrade code analyzers to latest released vers...</td>\n",
       "      <td>Simon Brandhof</td>\n",
       "      <td>[]</td>\n",
       "      <td>Simon Brandhof</td>\n",
       "      <td>Minutes</td>\n",
       "      <td>New</td>\n",
       "      <td>MySQL</td>\n",
       "      <td></td>\n",
       "      <td>[]</td>\n",
       "      <td>Improvement</td>\n",
       "      <td>Major</td>\n",
       "      <td>simon.brandhof</td>\n",
       "      <td>simon.brandhof</td>\n",
       "      <td>simon.brandhof</td>\n",
       "      <td>simon.brandhof</td>\n",
       "      <td>simon.brandhof</td>\n",
       "      <td>simon.brandhof</td>\n",
       "      <td>Closed</td>\n",
       "      <td>Fixed</td>\n",
       "    </tr>\n",
       "    <tr>\n",
       "      <th>freq</th>\n",
       "      <td>1</td>\n",
       "      <td>3667</td>\n",
       "      <td>916</td>\n",
       "      <td>1</td>\n",
       "      <td>916</td>\n",
       "      <td>7163</td>\n",
       "      <td>916</td>\n",
       "      <td>986</td>\n",
       "      <td>916</td>\n",
       "      <td>916</td>\n",
       "      <td>6343</td>\n",
       "      <td>916</td>\n",
       "      <td>916</td>\n",
       "      <td>916</td>\n",
       "      <td>1</td>\n",
       "      <td>6430</td>\n",
       "      <td>2033</td>\n",
       "      <td>5101</td>\n",
       "      <td>1782</td>\n",
       "      <td>1</td>\n",
       "      <td>1</td>\n",
       "      <td>4</td>\n",
       "      <td>9</td>\n",
       "      <td>5958</td>\n",
       "      <td>3814</td>\n",
       "      <td>953</td>\n",
       "      <td>6608</td>\n",
       "      <td>1324</td>\n",
       "      <td>8</td>\n",
       "      <td>1055</td>\n",
       "      <td>1</td>\n",
       "      <td>7163</td>\n",
       "      <td>10</td>\n",
       "      <td>835</td>\n",
       "      <td>7001</td>\n",
       "      <td>834</td>\n",
       "      <td>49</td>\n",
       "      <td>231</td>\n",
       "      <td>2</td>\n",
       "      <td>4072</td>\n",
       "      <td>7163</td>\n",
       "      <td>3667</td>\n",
       "      <td>6430</td>\n",
       "      <td>953</td>\n",
       "      <td>953</td>\n",
       "      <td>834</td>\n",
       "      <td>834</td>\n",
       "      <td>835</td>\n",
       "      <td>835</td>\n",
       "      <td>6608</td>\n",
       "      <td>6343</td>\n",
       "    </tr>\n",
       "  </tbody>\n",
       "</table>\n",
       "</div>"
      ],
      "text/plain": [
       "         issue_key    issuetype customfield_12130 customfield_11041  \\\n",
       "count         7163         7163               916              7163   \n",
       "unique        7163            6                 1              7163   \n",
       "top     SONAR-4882  Improvement         P3-Medium         0|i03c9b:   \n",
       "freq             1         3667               916                 1   \n",
       "\n",
       "               customfield_12132 project customfield_12134 fixVersions  \\\n",
       "count                        916    7163               916        7163   \n",
       "unique                         1       1                 1         181   \n",
       "top     No root cause identified   SONAR  Not captured yet          []   \n",
       "freq                         916    7163               916         986   \n",
       "\n",
       "       customfield_12133 customfield_12136 resolution customfield_12135  \\\n",
       "count                916               916       6638               916   \n",
       "unique                 1                 1         12                 1   \n",
       "top     Not assessed yet  Not captured yet      Fixed  No action plan     \n",
       "freq                 916               916       6343               916   \n",
       "\n",
       "       customfield_12138 customfield_12137                        watches  \\\n",
       "count                916               916                           7163   \n",
       "unique                 1                 1                           7163   \n",
       "top     Not captured yet  Not captured yet  <JIRA Watchers at 5201105440>   \n",
       "freq                 916               916                              1   \n",
       "\n",
       "       priority    edition labels customfield_11631 customfield_11038  \\\n",
       "count      7163       2049   7163              1810                 2   \n",
       "unique        5          2    198                29                 2   \n",
       "top       Major  Community     []              None            MMF-29   \n",
       "freq       6430       2033   5101              1782                 1   \n",
       "\n",
       "                                  customfield_10930 customfield_10931  \\\n",
       "count                                             1                 4   \n",
       "unique                                            1                 1   \n",
       "top     https://github.com/SonarSource/sonar/pull/4               yes   \n",
       "freq                                              1                 4   \n",
       "\n",
       "                                        customfield_10932 versions issuelinks  \\\n",
       "count                                                   9     7163       7163   \n",
       "unique                                                  1      213       3137   \n",
       "top     [<JIRA CustomFieldOption: value='Yes', id='107...       []         []   \n",
       "freq                                                    9     5958       3814   \n",
       "\n",
       "              assignee  status components  \\\n",
       "count             6464    7163       7163   \n",
       "unique              67       7        377   \n",
       "top     Simon Brandhof  Closed         []   \n",
       "freq               953    6608       1324   \n",
       "\n",
       "                                              description customfield_12034  \\\n",
       "count                                                6063              1055   \n",
       "unique                                               6020                 1   \n",
       "top     Template names are unique by organization. Con...         SonarQube   \n",
       "freq                                                    8              1055   \n",
       "\n",
       "                                        customfield_12430 customfield_11930  \\\n",
       "count                                                   2              7163   \n",
       "unique                                                  2                 1   \n",
       "top     https://sonarsource.productboard.com/feature-b...                {}   \n",
       "freq                                                    1              7163   \n",
       "\n",
       "                                                  summary         creator  \\\n",
       "count                                                7163            7162   \n",
       "unique                                               7141             232   \n",
       "top     Upgrade code analyzers to latest released vers...  Simon Brandhof   \n",
       "freq                                                   10             835   \n",
       "\n",
       "       subtasks        reporter customfield_11730 customfield_12536  \\\n",
       "count      7163            7162                95               231   \n",
       "unique      163             234                 3                 1   \n",
       "top          []  Simon Brandhof           Minutes               New   \n",
       "freq       7001             834                49               231   \n",
       "\n",
       "       environment customfield_10437 customfield_10438 issuetype_name  \\\n",
       "count           75              4468              7163           7163   \n",
       "unique          73                 2                 1              6   \n",
       "top          MySQL                                  []    Improvement   \n",
       "freq             2              4072              7163           3667   \n",
       "\n",
       "       priority_name    assignee_key   assignee_name    reporter_key  \\\n",
       "count           7163            6464            6464            7162   \n",
       "unique             5              67              67             235   \n",
       "top            Major  simon.brandhof  simon.brandhof  simon.brandhof   \n",
       "freq            6430             953             953             834   \n",
       "\n",
       "         reporter_name     creator_key    creator_name status_name  \\\n",
       "count             7162            7162            7162        7163   \n",
       "unique             235             233             233           7   \n",
       "top     simon.brandhof  simon.brandhof  simon.brandhof      Closed   \n",
       "freq               834             835             835        6608   \n",
       "\n",
       "       resolution_name  \n",
       "count             6638  \n",
       "unique              12  \n",
       "top              Fixed  \n",
       "freq              6343  "
      ]
     },
     "execution_count": 68,
     "metadata": {},
     "output_type": "execute_result"
    }
   ],
   "source": [
    "issues.describe(include = ['O'])"
   ]
  },
  {
   "cell_type": "markdown",
   "metadata": {},
   "source": [
    "* Votes has 75% percentile to 0 (most of the issues did not get votes) but has also a value of 14\n",
    "* There are 6 issuetypes\n",
    "* There are 7 statuses\n",
    "    \n",
    "We therefore safely remove one of each columns and keep the one in the more human readable form"
   ]
  },
  {
   "cell_type": "code",
   "execution_count": 69,
   "metadata": {},
   "outputs": [],
   "source": [
    "duplicated_columns = [\"issuetype\", \"assignee_key\", \"creator_key\", \"resolution\", \"priority\", \"reporter_key\", \"resolution_id\"]"
   ]
  },
  {
   "cell_type": "code",
   "execution_count": 70,
   "metadata": {},
   "outputs": [],
   "source": [
    "issues = issues[set(issues.columns) - set(duplicated_columns)]"
   ]
  },
  {
   "cell_type": "code",
   "execution_count": 71,
   "metadata": {},
   "outputs": [
    {
     "data": {
      "text/html": [
       "<div>\n",
       "<style scoped>\n",
       "    .dataframe tbody tr th:only-of-type {\n",
       "        vertical-align: middle;\n",
       "    }\n",
       "\n",
       "    .dataframe tbody tr th {\n",
       "        vertical-align: top;\n",
       "    }\n",
       "\n",
       "    .dataframe thead th {\n",
       "        text-align: right;\n",
       "    }\n",
       "</style>\n",
       "<table border=\"1\" class=\"dataframe\">\n",
       "  <thead>\n",
       "    <tr style=\"text-align: right;\">\n",
       "      <th></th>\n",
       "      <th>issue_id</th>\n",
       "      <th>fixVersion_id</th>\n",
       "    </tr>\n",
       "  </thead>\n",
       "  <tbody>\n",
       "    <tr>\n",
       "      <th>count</th>\n",
       "      <td>6707.000000</td>\n",
       "      <td>6707.000000</td>\n",
       "    </tr>\n",
       "    <tr>\n",
       "      <th>mean</th>\n",
       "      <td>51066.175936</td>\n",
       "      <td>13062.324884</td>\n",
       "    </tr>\n",
       "    <tr>\n",
       "      <th>std</th>\n",
       "      <td>21787.321803</td>\n",
       "      <td>1442.283546</td>\n",
       "    </tr>\n",
       "    <tr>\n",
       "      <th>min</th>\n",
       "      <td>26471.000000</td>\n",
       "      <td>11545.000000</td>\n",
       "    </tr>\n",
       "    <tr>\n",
       "      <th>25%</th>\n",
       "      <td>30030.500000</td>\n",
       "      <td>11618.000000</td>\n",
       "    </tr>\n",
       "    <tr>\n",
       "      <th>50%</th>\n",
       "      <td>48857.000000</td>\n",
       "      <td>13026.000000</td>\n",
       "    </tr>\n",
       "    <tr>\n",
       "      <th>75%</th>\n",
       "      <td>65551.000000</td>\n",
       "      <td>14041.000000</td>\n",
       "    </tr>\n",
       "    <tr>\n",
       "      <th>max</th>\n",
       "      <td>99607.000000</td>\n",
       "      <td>16510.000000</td>\n",
       "    </tr>\n",
       "  </tbody>\n",
       "</table>\n",
       "</div>"
      ],
      "text/plain": [
       "           issue_id  fixVersion_id\n",
       "count   6707.000000    6707.000000\n",
       "mean   51066.175936   13062.324884\n",
       "std    21787.321803    1442.283546\n",
       "min    26471.000000   11545.000000\n",
       "25%    30030.500000   11618.000000\n",
       "50%    48857.000000   13026.000000\n",
       "75%    65551.000000   14041.000000\n",
       "max    99607.000000   16510.000000"
      ]
     },
     "execution_count": 71,
     "metadata": {},
     "output_type": "execute_result"
    }
   ],
   "source": [
    "fixversions.describe()"
   ]
  },
  {
   "cell_type": "code",
   "execution_count": 72,
   "metadata": {},
   "outputs": [
    {
     "data": {
      "text/html": [
       "<div>\n",
       "<style scoped>\n",
       "    .dataframe tbody tr th:only-of-type {\n",
       "        vertical-align: middle;\n",
       "    }\n",
       "\n",
       "    .dataframe tbody tr th {\n",
       "        vertical-align: top;\n",
       "    }\n",
       "\n",
       "    .dataframe thead th {\n",
       "        text-align: right;\n",
       "    }\n",
       "</style>\n",
       "<table border=\"1\" class=\"dataframe\">\n",
       "  <thead>\n",
       "    <tr style=\"text-align: right;\">\n",
       "      <th></th>\n",
       "      <th>issue_id</th>\n",
       "      <th>version_id</th>\n",
       "    </tr>\n",
       "  </thead>\n",
       "  <tbody>\n",
       "    <tr>\n",
       "      <th>count</th>\n",
       "      <td>3351.000000</td>\n",
       "      <td>3351.000000</td>\n",
       "    </tr>\n",
       "    <tr>\n",
       "      <th>mean</th>\n",
       "      <td>40305.948672</td>\n",
       "      <td>12188.098478</td>\n",
       "    </tr>\n",
       "    <tr>\n",
       "      <th>std</th>\n",
       "      <td>19081.372449</td>\n",
       "      <td>1157.858738</td>\n",
       "    </tr>\n",
       "    <tr>\n",
       "      <th>min</th>\n",
       "      <td>26470.000000</td>\n",
       "      <td>11523.000000</td>\n",
       "    </tr>\n",
       "    <tr>\n",
       "      <th>25%</th>\n",
       "      <td>28849.500000</td>\n",
       "      <td>11556.000000</td>\n",
       "    </tr>\n",
       "    <tr>\n",
       "      <th>50%</th>\n",
       "      <td>30946.000000</td>\n",
       "      <td>11585.000000</td>\n",
       "    </tr>\n",
       "    <tr>\n",
       "      <th>75%</th>\n",
       "      <td>46216.000000</td>\n",
       "      <td>11647.000000</td>\n",
       "    </tr>\n",
       "    <tr>\n",
       "      <th>max</th>\n",
       "      <td>99500.000000</td>\n",
       "      <td>16458.000000</td>\n",
       "    </tr>\n",
       "  </tbody>\n",
       "</table>\n",
       "</div>"
      ],
      "text/plain": [
       "           issue_id    version_id\n",
       "count   3351.000000   3351.000000\n",
       "mean   40305.948672  12188.098478\n",
       "std    19081.372449   1157.858738\n",
       "min    26470.000000  11523.000000\n",
       "25%    28849.500000  11556.000000\n",
       "50%    30946.000000  11585.000000\n",
       "75%    46216.000000  11647.000000\n",
       "max    99500.000000  16458.000000"
      ]
     },
     "execution_count": 72,
     "metadata": {},
     "output_type": "execute_result"
    }
   ],
   "source": [
    "versions.describe()"
   ]
  },
  {
   "cell_type": "code",
   "execution_count": 73,
   "metadata": {},
   "outputs": [
    {
     "data": {
      "text/html": [
       "<div>\n",
       "<style scoped>\n",
       "    .dataframe tbody tr th:only-of-type {\n",
       "        vertical-align: middle;\n",
       "    }\n",
       "\n",
       "    .dataframe tbody tr th {\n",
       "        vertical-align: top;\n",
       "    }\n",
       "\n",
       "    .dataframe thead th {\n",
       "        text-align: right;\n",
       "    }\n",
       "</style>\n",
       "<table border=\"1\" class=\"dataframe\">\n",
       "  <thead>\n",
       "    <tr style=\"text-align: right;\">\n",
       "      <th></th>\n",
       "      <th>issue_id</th>\n",
       "    </tr>\n",
       "  </thead>\n",
       "  <tbody>\n",
       "    <tr>\n",
       "      <th>count</th>\n",
       "      <td>2279.000000</td>\n",
       "    </tr>\n",
       "    <tr>\n",
       "      <th>mean</th>\n",
       "      <td>62288.368144</td>\n",
       "    </tr>\n",
       "    <tr>\n",
       "      <th>std</th>\n",
       "      <td>15590.103878</td>\n",
       "    </tr>\n",
       "    <tr>\n",
       "      <th>min</th>\n",
       "      <td>26510.000000</td>\n",
       "    </tr>\n",
       "    <tr>\n",
       "      <th>25%</th>\n",
       "      <td>52377.500000</td>\n",
       "    </tr>\n",
       "    <tr>\n",
       "      <th>50%</th>\n",
       "      <td>59541.000000</td>\n",
       "    </tr>\n",
       "    <tr>\n",
       "      <th>75%</th>\n",
       "      <td>67327.500000</td>\n",
       "    </tr>\n",
       "    <tr>\n",
       "      <th>max</th>\n",
       "      <td>99584.000000</td>\n",
       "    </tr>\n",
       "  </tbody>\n",
       "</table>\n",
       "</div>"
      ],
      "text/plain": [
       "           issue_id\n",
       "count   2279.000000\n",
       "mean   62288.368144\n",
       "std    15590.103878\n",
       "min    26510.000000\n",
       "25%    52377.500000\n",
       "50%    59541.000000\n",
       "75%    67327.500000\n",
       "max    99584.000000"
      ]
     },
     "execution_count": 73,
     "metadata": {},
     "output_type": "execute_result"
    }
   ],
   "source": [
    "labels.describe()"
   ]
  },
  {
   "cell_type": "code",
   "execution_count": 74,
   "metadata": {
    "scrolled": true
   },
   "outputs": [
    {
     "data": {
      "text/html": [
       "<div>\n",
       "<style scoped>\n",
       "    .dataframe tbody tr th:only-of-type {\n",
       "        vertical-align: middle;\n",
       "    }\n",
       "\n",
       "    .dataframe tbody tr th {\n",
       "        vertical-align: top;\n",
       "    }\n",
       "\n",
       "    .dataframe thead th {\n",
       "        text-align: right;\n",
       "    }\n",
       "</style>\n",
       "<table border=\"1\" class=\"dataframe\">\n",
       "  <thead>\n",
       "    <tr style=\"text-align: right;\">\n",
       "      <th></th>\n",
       "      <th>issue_id</th>\n",
       "      <th>subtask_id</th>\n",
       "    </tr>\n",
       "  </thead>\n",
       "  <tbody>\n",
       "    <tr>\n",
       "      <th>count</th>\n",
       "      <td>750.000000</td>\n",
       "      <td>750.000000</td>\n",
       "    </tr>\n",
       "    <tr>\n",
       "      <th>mean</th>\n",
       "      <td>45821.753333</td>\n",
       "      <td>46701.014667</td>\n",
       "    </tr>\n",
       "    <tr>\n",
       "      <th>std</th>\n",
       "      <td>21404.698536</td>\n",
       "      <td>21502.956104</td>\n",
       "    </tr>\n",
       "    <tr>\n",
       "      <th>min</th>\n",
       "      <td>26567.000000</td>\n",
       "      <td>26526.000000</td>\n",
       "    </tr>\n",
       "    <tr>\n",
       "      <th>25%</th>\n",
       "      <td>29310.000000</td>\n",
       "      <td>29228.250000</td>\n",
       "    </tr>\n",
       "    <tr>\n",
       "      <th>50%</th>\n",
       "      <td>31873.000000</td>\n",
       "      <td>31902.500000</td>\n",
       "    </tr>\n",
       "    <tr>\n",
       "      <th>75%</th>\n",
       "      <td>61672.000000</td>\n",
       "      <td>61896.750000</td>\n",
       "    </tr>\n",
       "    <tr>\n",
       "      <th>max</th>\n",
       "      <td>98843.000000</td>\n",
       "      <td>99621.000000</td>\n",
       "    </tr>\n",
       "  </tbody>\n",
       "</table>\n",
       "</div>"
      ],
      "text/plain": [
       "           issue_id    subtask_id\n",
       "count    750.000000    750.000000\n",
       "mean   45821.753333  46701.014667\n",
       "std    21404.698536  21502.956104\n",
       "min    26567.000000  26526.000000\n",
       "25%    29310.000000  29228.250000\n",
       "50%    31873.000000  31902.500000\n",
       "75%    61672.000000  61896.750000\n",
       "max    98843.000000  99621.000000"
      ]
     },
     "execution_count": 74,
     "metadata": {},
     "output_type": "execute_result"
    }
   ],
   "source": [
    "substaks.describe()"
   ]
  },
  {
   "cell_type": "markdown",
   "metadata": {},
   "source": [
    "We do not detect anomalies in the statistical summaries of the other datasets"
   ]
  },
  {
   "cell_type": "markdown",
   "metadata": {},
   "source": [
    "### Filter only the needed columns"
   ]
  },
  {
   "cell_type": "code",
   "execution_count": 86,
   "metadata": {},
   "outputs": [],
   "source": [
    "issues_cols = [\"issue_id\", \"issuetype_name\", \"resolution_name\", \"resolutiondate\", \"created\", \"priority_name\", \"versions\", \"status\", \"edition\"]\n",
    "issues = issues[issues_cols]"
   ]
  },
  {
   "cell_type": "markdown",
   "metadata": {},
   "source": [
    "### Missing values"
   ]
  },
  {
   "cell_type": "code",
   "execution_count": 87,
   "metadata": {},
   "outputs": [
    {
     "data": {
      "text/plain": [
       "edition            5114\n",
       "resolutiondate      525\n",
       "resolution_name     525\n",
       "status                0\n",
       "versions              0\n",
       "priority_name         0\n",
       "created               0\n",
       "issuetype_name        0\n",
       "issue_id              0\n",
       "dtype: int64"
      ]
     },
     "execution_count": 87,
     "metadata": {},
     "output_type": "execute_result"
    }
   ],
   "source": [
    "issues.isna().sum().sort_values(ascending=False).head(15)"
   ]
  },
  {
   "cell_type": "code",
   "execution_count": 89,
   "metadata": {},
   "outputs": [
    {
     "data": {
      "text/plain": [
       "Open           484\n",
       "To Do           23\n",
       "In Progress     12\n",
       "In Review        4\n",
       "Reopened         2\n",
       "Name: status, dtype: int64"
      ]
     },
     "execution_count": 89,
     "metadata": {},
     "output_type": "execute_result"
    }
   ],
   "source": [
    "issues[issues.resolution_name.isna()].status.value_counts()"
   ]
  },
  {
   "cell_type": "markdown",
   "metadata": {},
   "source": [
    "Drop edition columns"
   ]
  },
  {
   "cell_type": "code",
   "execution_count": 90,
   "metadata": {},
   "outputs": [],
   "source": [
    "issues = issues.drop(columns=[\"edition\"])"
   ]
  },
  {
   "cell_type": "code",
   "execution_count": 91,
   "metadata": {},
   "outputs": [
    {
     "data": {
      "text/plain": [
       "issue_id           0\n",
       "fixVersion_name    0\n",
       "fixVersion_id      0\n",
       "dtype: int64"
      ]
     },
     "execution_count": 91,
     "metadata": {},
     "output_type": "execute_result"
    }
   ],
   "source": [
    "fixversions.isna().sum()"
   ]
  },
  {
   "cell_type": "code",
   "execution_count": 92,
   "metadata": {
    "scrolled": true
   },
   "outputs": [
    {
     "data": {
      "text/plain": [
       "issue_id        0\n",
       "version_name    0\n",
       "version_id      0\n",
       "dtype: int64"
      ]
     },
     "execution_count": 92,
     "metadata": {},
     "output_type": "execute_result"
    }
   ],
   "source": [
    "versions.isna().sum()"
   ]
  },
  {
   "cell_type": "code",
   "execution_count": 93,
   "metadata": {},
   "outputs": [
    {
     "data": {
      "text/plain": [
       "issue_id    0\n",
       "label       0\n",
       "dtype: int64"
      ]
     },
     "execution_count": 93,
     "metadata": {},
     "output_type": "execute_result"
    }
   ],
   "source": [
    "labels.isna().sum()"
   ]
  },
  {
   "cell_type": "code",
   "execution_count": 94,
   "metadata": {},
   "outputs": [
    {
     "data": {
      "text/plain": [
       "issue_id       0\n",
       "subtask_key    0\n",
       "subtask_id     0\n",
       "dtype: int64"
      ]
     },
     "execution_count": 94,
     "metadata": {},
     "output_type": "execute_result"
    }
   ],
   "source": [
    "substaks.isna().sum()"
   ]
  },
  {
   "cell_type": "markdown",
   "metadata": {},
   "source": [
    "* There are missing values only in the issues dataset\n",
    "* All fields presenting missing values are fields which are optional in an issue. We therefore not worry about their absence even though that has to be taken into account when working with those fields."
   ]
  },
  {
   "cell_type": "markdown",
   "metadata": {},
   "source": [
    "## In depth analysis"
   ]
  },
  {
   "cell_type": "markdown",
   "metadata": {},
   "source": [
    "### IssueType"
   ]
  },
  {
   "cell_type": "code",
   "execution_count": 56,
   "metadata": {},
   "outputs": [
    {
     "data": {
      "text/plain": [
       "array(['Task', 'New Feature', 'Improvement', 'Documentation', 'Sub-task',\n",
       "       'Bug'], dtype=object)"
      ]
     },
     "execution_count": 56,
     "metadata": {},
     "output_type": "execute_result"
    }
   ],
   "source": [
    "issues.issuetype_name.unique()"
   ]
  },
  {
   "cell_type": "code",
   "execution_count": 57,
   "metadata": {},
   "outputs": [
    {
     "data": {
      "text/plain": [
       "Improvement      2442\n",
       "Bug              1001\n",
       "Task              366\n",
       "Sub-task          299\n",
       "New Feature       284\n",
       "Documentation      86\n",
       "Name: issuetype_name, dtype: int64"
      ]
     },
     "execution_count": 57,
     "metadata": {},
     "output_type": "execute_result"
    }
   ],
   "source": [
    "issues.issuetype_name.value_counts()"
   ]
  },
  {
   "cell_type": "code",
   "execution_count": 113,
   "metadata": {},
   "outputs": [
    {
     "data": {
      "image/png": "[encoded data removed]",
      "text/plain": [
       "<Figure size 1080x360 with 1 Axes>"
      ]
     },
     "metadata": {
      "needs_background": "light"
     },
     "output_type": "display_data"
    }
   ],
   "source": [
    "plt.figure()\n",
    "ax = sns.countplot(x=\"issuetype_name\", data=issues[[\"issue_id\", \"issuetype_name\"]],\\\n",
    "              order=issues.issuetype_name.value_counts().index)\n",
    "ax.set(xlabel=\"issue type\")\n",
    "plt.savefig(f\"{figure_folder}/issues/issuetype_dist.png\", transparent=True, bbox_inches='tight', pad_inches=0.2)\n",
    "plt.show()"
   ]
  },
  {
   "cell_type": "code",
   "execution_count": 59,
   "metadata": {},
   "outputs": [
    {
     "data": {
      "text/plain": [
       "Improvement      0.545333\n",
       "Bug              0.223537\n",
       "Task             0.081733\n",
       "Sub-task         0.066771\n",
       "New Feature      0.063421\n",
       "Documentation    0.019205\n",
       "Name: issuetype_name, dtype: float64"
      ]
     },
     "execution_count": 59,
     "metadata": {},
     "output_type": "execute_result"
    }
   ],
   "source": [
    "issues.issuetype_name.value_counts(normalize=True)"
   ]
  },
  {
   "cell_type": "markdown",
   "metadata": {},
   "source": [
    "* We see that issues can only have one of these 6 issue types.\n",
    "* 54% is Improvement, followed by 22% Bug"
   ]
  },
  {
   "cell_type": "markdown",
   "metadata": {},
   "source": [
    "**Focus only on bugs**"
   ]
  },
  {
   "cell_type": "code",
   "execution_count": 114,
   "metadata": {},
   "outputs": [],
   "source": [
    "issues = issues[issues.issuetype_name==\"Bug\"]"
   ]
  },
  {
   "cell_type": "code",
   "execution_count": 115,
   "metadata": {},
   "outputs": [
    {
     "data": {
      "text/plain": [
       "(1736, 8)"
      ]
     },
     "execution_count": 115,
     "metadata": {},
     "output_type": "execute_result"
    }
   ],
   "source": [
    "issues.shape"
   ]
  },
  {
   "cell_type": "markdown",
   "metadata": {},
   "source": [
    "### Versions"
   ]
  },
  {
   "cell_type": "code",
   "execution_count": 116,
   "metadata": {},
   "outputs": [],
   "source": [
    "versions_merged = versions.merge(issues, on=\"issue_id\")"
   ]
  },
  {
   "cell_type": "code",
   "execution_count": 117,
   "metadata": {},
   "outputs": [
    {
     "data": {
      "text/plain": [
       "array(['1.10', '1.10.1', '1.12', '1.5', '1.7', '1.9', '1.9.1', '1.9.2',\n",
       "       '2.0', '2.0.1', '2.1', '2.1.2', '2.10', '2.11', '2.12', '2.13',\n",
       "       '2.13.1', '2.14', '2.2', '2.3', '2.4', '2.4.1', '2.5', '2.6',\n",
       "       '2.7', '2.8', '2.9', '3.0', '3.0.1', '3.1', '3.1.1', '3.2',\n",
       "       '3.2.1', '3.3', '3.3.1', '3.3.2', '3.4', '3.4.1', '3.5', '3.5.1',\n",
       "       '3.6', '3.6.1', '3.6.2', '3.6.3', '3.7', '3.7.1', '3.7.2', '3.7.3',\n",
       "       '4.0', '4.1', '4.2', '4.3', '4.3.1', '4.3.2', '4.3.3', '4.4',\n",
       "       '4.5', '4.5.1', '4.5.2', '4.5.4', '4.5.5', '4.5.6', '4.5.7', '5.0',\n",
       "       '5.0.1', '5.1', '5.1.1', '5.1.2', '5.2', '5.3', '5.4', '5.5',\n",
       "       '5.6', '5.6.1', '5.6.2', '5.6.3', '5.6.4', '5.6.5', '5.6.6',\n",
       "       '5.6.7', '6.0', '6.1', '6.1.1', '6.2', '6.3', '6.3.1', '6.3.2',\n",
       "       '6.4', '6.5', '6.5-M1', '6.6', '6.6-M1', '6.7', '6.7.1', '6.7.2',\n",
       "       '6.7.3', '6.7.4', '6.7.5', '6.7.6', '6.7.7', '7.0', '7.1', '7.2',\n",
       "       '7.2.1', '7.3', '7.4', '7.5', '7.6', '7.7', '7.8', '7.9', '7.9.1',\n",
       "       '7.9.4', '8.0', '8.1', '8.2', '8.3', '8.3.1', '8.4', '8.4.1',\n",
       "       '8.4.2', '8.5', '8.5.1'], dtype=object)"
      ]
     },
     "execution_count": 117,
     "metadata": {},
     "output_type": "execute_result"
    }
   ],
   "source": [
    "versions_merged.version_name.sort_values().unique()"
   ]
  },
  {
   "cell_type": "code",
   "execution_count": 175,
   "metadata": {},
   "outputs": [
    {
     "data": {
      "text/plain": [
       "123"
      ]
     },
     "execution_count": 175,
     "metadata": {},
     "output_type": "execute_result"
    }
   ],
   "source": [
    "len(versions_merged.version_name.unique())"
   ]
  },
  {
   "cell_type": "markdown",
   "metadata": {},
   "source": [
    "**How many issues have a version**"
   ]
  },
  {
   "cell_type": "code",
   "execution_count": 176,
   "metadata": {},
   "outputs": [
    {
     "data": {
      "text/plain": [
       "0.5535714285714286"
      ]
     },
     "execution_count": 176,
     "metadata": {},
     "output_type": "execute_result"
    }
   ],
   "source": [
    "versions_merged.issue_id.nunique() / issues.issue_id.nunique()"
   ]
  },
  {
   "cell_type": "markdown",
   "metadata": {},
   "source": [
    "**Issues with version and critical or blocker priority**"
   ]
  },
  {
   "cell_type": "code",
   "execution_count": 177,
   "metadata": {},
   "outputs": [
    {
     "data": {
      "text/plain": [
       "88"
      ]
     },
     "execution_count": 177,
     "metadata": {},
     "output_type": "execute_result"
    }
   ],
   "source": [
    "len(versions_merged[versions_merged.priority_name.isin([\"Blocker\", \"Critical\"])])"
   ]
  },
  {
   "cell_type": "markdown",
   "metadata": {},
   "source": [
    "**Number of versions per tags**"
   ]
  },
  {
   "cell_type": "code",
   "execution_count": 178,
   "metadata": {
    "scrolled": false
   },
   "outputs": [
    {
     "name": "stderr",
     "output_type": "stream",
     "text": [
      "/Users/alexincerti/Library/Python/3.8/lib/python/site-packages/seaborn/_decorators.py:36: FutureWarning: Pass the following variable as a keyword arg: x. From version 0.12, the only valid positional argument will be `data`, and passing other arguments without an explicit keyword will result in an error or misinterpretation.\n",
      "  warnings.warn(\n"
     ]
    },
    {
     "data": {
      "text/plain": [
       "<AxesSubplot:ylabel='count'>"
      ]
     },
     "execution_count": 178,
     "metadata": {},
     "output_type": "execute_result"
    },
    {
     "data": {
      "image/png": "[encoded data removed]",
      "text/plain": [
       "<Figure size 1080x360 with 1 Axes>"
      ]
     },
     "metadata": {
      "needs_background": "light"
     },
     "output_type": "display_data"
    }
   ],
   "source": [
    "sns.countplot(versions.groupby(\"issue_id\").count().version_name.values)"
   ]
  },
  {
   "cell_type": "markdown",
   "metadata": {},
   "source": [
    "**Distribution of missing tags on Jira**"
   ]
  },
  {
   "cell_type": "code",
   "execution_count": 179,
   "metadata": {},
   "outputs": [],
   "source": [
    "#Versions on Jira have a slightly different format at times. This functions formats the versions to match Jira's\n",
    "def polish_version(version):\n",
    "    if \"latest\" in version:\n",
    "        return None\n",
    "    splits = version.split(\".\")\n",
    "    major = splits[0]\n",
    "    release = splits[1]\n",
    "    if(len(splits)>2):\n",
    "        modification = splits[2]\n",
    "        if(modification != \"0\"):\n",
    "            return f\"{major}.{release}.{modification}\"\n",
    "    \"\"\"if(\"-\" in release):\n",
    "        release = release.split(\"-\")[0]\"\"\"\n",
    "    return f\"{major}.{release}\"\n",
    "releases = set(map(lambda version: polish_version(version), tags.Tag.unique()))"
   ]
  },
  {
   "cell_type": "markdown",
   "metadata": {},
   "source": [
    "### Type of version"
   ]
  },
  {
   "cell_type": "code",
   "execution_count": 185,
   "metadata": {
    "scrolled": true
   },
   "outputs": [],
   "source": [
    "def type_of_version(version):\n",
    "    if \"RC\" in version: \n",
    "        return \"Release candidates\"\n",
    "    if \"M\" in version:\n",
    "        return \"Milestones\"\n",
    "    return \"Normal releases\""
   ]
  },
  {
   "cell_type": "code",
   "execution_count": 193,
   "metadata": {},
   "outputs": [
    {
     "data": {
      "text/plain": [
       "<AxesSubplot:>"
      ]
     },
     "execution_count": 193,
     "metadata": {},
     "output_type": "execute_result"
    },
    {
     "data": {
      "image/png": "[encoded data removed]",
      "text/plain": [
       "<Figure size 1080x360 with 1 Axes>"
      ]
     },
     "metadata": {
      "needs_background": "light"
     },
     "output_type": "display_data"
    }
   ],
   "source": [
    "pd.Series(map(type_of_version,versions_merged.version_name.unique())).value_counts(normalize=True).plot(kind=\"bar\")"
   ]
  },
  {
   "cell_type": "code",
   "execution_count": 197,
   "metadata": {},
   "outputs": [
    {
     "data": {
      "text/plain": [
       "Normal releases    121\n",
       "Milestones           2\n",
       "dtype: int64"
      ]
     },
     "execution_count": 197,
     "metadata": {},
     "output_type": "execute_result"
    }
   ],
   "source": [
    "pd.Series(map(type_of_version,versions_merged.version_name.unique())).value_counts()"
   ]
  },
  {
   "cell_type": "markdown",
   "metadata": {},
   "source": [
    "**Tags present on Jira but not on Github**"
   ]
  },
  {
   "cell_type": "code",
   "execution_count": 200,
   "metadata": {},
   "outputs": [
    {
     "data": {
      "text/plain": [
       "88"
      ]
     },
     "execution_count": 200,
     "metadata": {},
     "output_type": "execute_result"
    }
   ],
   "source": [
    "len(set(versions.version_name.sort_values().unique()).difference(set(releases)))"
   ]
  },
  {
   "cell_type": "code",
   "execution_count": 201,
   "metadata": {},
   "outputs": [
    {
     "data": {
      "text/plain": [
       "57"
      ]
     },
     "execution_count": 201,
     "metadata": {},
     "output_type": "execute_result"
    }
   ],
   "source": [
    "len(set(set(versions.version_name.sort_values().unique())).intersection(set(releases)))"
   ]
  },
  {
   "cell_type": "markdown",
   "metadata": {},
   "source": [
    "**Report time distribution**"
   ]
  },
  {
   "cell_type": "code",
   "execution_count": 134,
   "metadata": {},
   "outputs": [
    {
     "data": {
      "text/plain": [
       "(186, 4)"
      ]
     },
     "execution_count": 134,
     "metadata": {},
     "output_type": "execute_result"
    }
   ],
   "source": [
    "all_tags = pd.read_csv(f\"{csv_folder}/tags.csv\", index_col=0)\n",
    "all_tags.shape"
   ]
  },
  {
   "cell_type": "code",
   "execution_count": 137,
   "metadata": {},
   "outputs": [],
   "source": [
    "all_tags = all_tags[all_tags.Tag.apply(lambda x: not \"RC\" in x and not \"M\" in x)]\n",
    "all_tags[\"jira_version\"] = all_tags.Tag.apply(polish_version)\n",
    "all_tags.Date = pd.to_datetime(all_tags.Date)"
   ]
  },
  {
   "cell_type": "code",
   "execution_count": 139,
   "metadata": {},
   "outputs": [],
   "source": [
    "versions_merged_all_tags = versions_merged.merge(all_tags[[\"jira_version\", \"Date\"]], left_on=\"version_name\", right_on=\"jira_version\")"
   ]
  },
  {
   "cell_type": "code",
   "execution_count": 163,
   "metadata": {},
   "outputs": [],
   "source": [
    "versions_merged_all_tags.created = pd.to_datetime(versions_merged_all_tags.created)\n",
    "report_time = (versions_merged_all_tags.created.dt.tz_localize(None) - versions_merged_all_tags.Date)\\\n",
    "            / np.timedelta64(1, 'D')"
   ]
  },
  {
   "cell_type": "code",
   "execution_count": 173,
   "metadata": {},
   "outputs": [
    {
     "data": {
      "image/png": "[encoded data removed]",
      "text/plain": [
       "<Figure size 1080x360 with 1 Axes>"
      ]
     },
     "metadata": {
      "needs_background": "light"
     },
     "output_type": "display_data"
    }
   ],
   "source": [
    "plt.figure()\n",
    "ax = sns.boxplot(x=report_time)\n",
    "ax.set(xlabel=\"days from issue creation since the release\")\n",
    "plt.savefig(f\"{figure_folder}/issues/opening_time_since_release.png\", transparent=True, bbox_inches='tight', pad_inches=0.2)\n",
    "plt.show()"
   ]
  },
  {
   "cell_type": "code",
   "execution_count": 165,
   "metadata": {},
   "outputs": [
    {
     "data": {
      "text/plain": [
       "count    1081.000000\n",
       "mean       67.376757\n",
       "std       138.711320\n",
       "min      -303.976921\n",
       "25%         8.911076\n",
       "50%        31.021574\n",
       "75%        70.572222\n",
       "max      2240.976551\n",
       "dtype: float64"
      ]
     },
     "execution_count": 165,
     "metadata": {},
     "output_type": "execute_result"
    }
   ],
   "source": [
    "report_time.describe()"
   ]
  },
  {
   "cell_type": "code",
   "execution_count": 172,
   "metadata": {},
   "outputs": [
    {
     "data": {
      "text/plain": [
       "171.93756944444445"
      ]
     },
     "execution_count": 172,
     "metadata": {},
     "output_type": "execute_result"
    }
   ],
   "source": [
    "report_time.quantile(0.9)"
   ]
  },
  {
   "cell_type": "markdown",
   "metadata": {},
   "source": [
    "**End of chapter for now, export csv**"
   ]
  },
  {
   "cell_type": "code",
   "execution_count": 210,
   "metadata": {},
   "outputs": [],
   "source": [
    "issues.to_csv(f\"{csv_folder}/issues_community_final.csv\")"
   ]
  },
  {
   "cell_type": "markdown",
   "metadata": {},
   "source": [
    "**Top versions**"
   ]
  },
  {
   "cell_type": "code",
   "execution_count": 202,
   "metadata": {},
   "outputs": [],
   "source": [
    "top_versions = versions_merged.groupby(\"version_name\").count().issue_id.reset_index().sort_values(by=\"issue_id\", ascending=False)"
   ]
  },
  {
   "cell_type": "code",
   "execution_count": 203,
   "metadata": {
    "scrolled": true
   },
   "outputs": [
    {
     "data": {
      "image/png": "[encoded data removed]",
      "text/plain": [
       "<Figure size 1080x360 with 1 Axes>"
      ]
     },
     "metadata": {
      "needs_background": "light"
     },
     "output_type": "display_data"
    }
   ],
   "source": [
    "ax = sns.barplot(x=\"version_name\", y=\"issue_id\", data=top_versions[[\"issue_id\", \"version_name\"]].head(30))"
   ]
  },
  {
   "cell_type": "code",
   "execution_count": 204,
   "metadata": {},
   "outputs": [
    {
     "data": {
      "text/plain": [
       "array(['6.7', '5.2', '5.6', '4.5', '6.2', '6.4', '4.4', '5.0', '6.0',\n",
       "       '5.4'], dtype=object)"
      ]
     },
     "execution_count": 204,
     "metadata": {},
     "output_type": "execute_result"
    }
   ],
   "source": [
    "top_versions.head(10).version_name.values"
   ]
  },
  {
   "cell_type": "markdown",
   "metadata": {},
   "source": [
    "**Distribution of issuetypes for each version**"
   ]
  },
  {
   "cell_type": "code",
   "execution_count": 205,
   "metadata": {},
   "outputs": [],
   "source": [
    "versions_sorted = versions_merged.sort_values(by=\"version_name\").version_name.unique()"
   ]
  },
  {
   "cell_type": "code",
   "execution_count": 209,
   "metadata": {
    "scrolled": false
   },
   "outputs": [
    {
     "data": {
      "image/png": "[encoded data removed]",
      "text/plain": [
       "<Figure size 1080x648 with 4 Axes>"
      ]
     },
     "metadata": {
      "needs_background": "light"
     },
     "output_type": "display_data"
    }
   ],
   "source": [
    "f, axes = plt.subplots(4,1, figsize=(15,9), sharey=True)\n",
    "for i in range(4):\n",
    "    data = versions_merged[versions_merged.version_name.isin(versions_sorted[32*i:32*(i+1)])]\n",
    "    ax = sns.countplot(ax=axes[i], x=\"version_name\", \n",
    "                       hue=\"issuetype_name\", data=data.sort_values(by=\"version_name\").head(3000),\n",
    "                      palette={\"Bug\":\"r\",\"Improvement\":\"orange\",\n",
    "                               \"New Feature\": \"green\",\n",
    "                               \"Task\": \"yellow\",\n",
    "                               \"Sub-task\": \"pink\",\n",
    "                              \"Documentation\": \"grey\"})\n",
    "    ax.tick_params(axis='x', labelrotation= 60)\n",
    "    if i > 0:\n",
    "        ax.get_legend().remove()"
   ]
  },
  {
   "cell_type": "markdown",
   "metadata": {},
   "source": [
    "**Time distribution of creation**"
   ]
  },
  {
   "cell_type": "code",
   "execution_count": 60,
   "metadata": {},
   "outputs": [],
   "source": [
    "issues[\"created_month\"] = issues.created.dt.month\n",
    "issues[\"created_year\"] = issues.created.dt.year"
   ]
  },
  {
   "cell_type": "code",
   "execution_count": 61,
   "metadata": {
    "scrolled": false
   },
   "outputs": [
    {
     "data": {
      "image/png": "[encoded data removed]",
      "text/plain": [
       "<Figure size 1080x1440 with 6 Axes>"
      ]
     },
     "metadata": {
      "needs_background": "light"
     },
     "output_type": "display_data"
    }
   ],
   "source": [
    "time_group = [\"created_year\", \"created_month\"]\n",
    "f, axes = plt.subplots(len(issues.issuetype_name.unique()),1, figsize=(15,20), sharex=True)\n",
    "x = issues.groupby(time_group+[\"issuetype_name\"]).size().unstack(fill_value=0).reset_index()\n",
    "for i, issuetype in enumerate(issues.issuetype_name.unique()):\n",
    "    ax = sns.barplot(x=x.index, y=x[issuetype], ax=axes[i])\n",
    "    ax.set_xticklabels(list(x[time_group[1]].astype(int).astype(str) + \"/\" + x[time_group[0]].astype(int).astype(str)),\n",
    "                      rotation=90)\n",
    "    ax.set_ylabel(issuetype)"
   ]
  },
  {
   "cell_type": "markdown",
   "metadata": {},
   "source": [
    "* New Feature, Improvement have decresed in number over time\n",
    "* Documentation has increased after 1/2019\n",
    "* Bug has been quite consistent\n",
    "\n",
    "To note that the y-axis is not the same for the different plots. We are interested in seeing their trend overtime and using the same axis would penalize the types with fewer observations. "
   ]
  },
  {
   "cell_type": "markdown",
   "metadata": {},
   "source": [
    "### Resolution"
   ]
  },
  {
   "cell_type": "code",
   "execution_count": 62,
   "metadata": {},
   "outputs": [
    {
     "data": {
      "text/plain": [
       "array([nan, 'Fixed', 'Duplicate', \"Won't Do\", \"Won't Fix\", 'Done',\n",
       "       'Not an issue', 'Canceled', 'Cannot Reproduce', 'Moved To GitHub'],\n",
       "      dtype=object)"
      ]
     },
     "execution_count": 62,
     "metadata": {},
     "output_type": "execute_result"
    }
   ],
   "source": [
    "issues.resolution_name.unique()"
   ]
  },
  {
   "cell_type": "code",
   "execution_count": 63,
   "metadata": {},
   "outputs": [
    {
     "data": {
      "image/png": "[encoded data removed]",
      "text/plain": [
       "<Figure size 1080x360 with 1 Axes>"
      ]
     },
     "metadata": {
      "needs_background": "light"
     },
     "output_type": "display_data"
    }
   ],
   "source": [
    "ax = sns.countplot(x=\"resolution_name\", data=issues[[\"issue_id\", \"resolution_name\"]])\n",
    "ax.tick_params(axis='x', labelrotation= 60)"
   ]
  },
  {
   "cell_type": "code",
   "execution_count": 64,
   "metadata": {},
   "outputs": [
    {
     "name": "stderr",
     "output_type": "stream",
     "text": [
      "/Users/alexincerti/Library/Python/3.8/lib/python/site-packages/seaborn/_decorators.py:36: FutureWarning: Pass the following variable as a keyword arg: x. From version 0.12, the only valid positional argument will be `data`, and passing other arguments without an explicit keyword will result in an error or misinterpretation.\n",
      "  warnings.warn(\n"
     ]
    },
    {
     "data": {
      "image/png": "[encoded data removed]",
      "text/plain": [
       "<Figure size 1080x360 with 1 Axes>"
      ]
     },
     "metadata": {
      "needs_background": "light"
     },
     "output_type": "display_data"
    }
   ],
   "source": [
    "ax = sns.countplot(issues[~(issues.resolution_name == \"Fixed\") & ~(issues.resolution_name == \"Won't Fix\")].resolution_name)\n",
    "ax.tick_params(axis='x', labelrotation= 60)"
   ]
  },
  {
   "cell_type": "code",
   "execution_count": 65,
   "metadata": {},
   "outputs": [
    {
     "data": {
      "text/plain": [
       "Fixed               0.952571\n",
       "Won't Fix           0.028707\n",
       "Duplicate           0.008238\n",
       "Won't Do            0.004993\n",
       "Cannot Reproduce    0.002247\n",
       "Canceled            0.001997\n",
       "Not an issue        0.000499\n",
       "Done                0.000499\n",
       "Moved To GitHub     0.000250\n",
       "Name: resolution_name, dtype: float64"
      ]
     },
     "execution_count": 65,
     "metadata": {},
     "output_type": "execute_result"
    }
   ],
   "source": [
    "issues.resolution_name.value_counts(normalize=True)"
   ]
  },
  {
   "cell_type": "markdown",
   "metadata": {},
   "source": [
    "* 95% of the resolution are Fixed\n",
    "* 0.01% are duplicates (may need to be removed)"
   ]
  },
  {
   "cell_type": "markdown",
   "metadata": {},
   "source": [
    "### Priority"
   ]
  },
  {
   "cell_type": "code",
   "execution_count": 66,
   "metadata": {},
   "outputs": [
    {
     "data": {
      "text/plain": [
       "array(['Major', 'Minor', 'Trivial', 'Blocker', 'Critical'], dtype=object)"
      ]
     },
     "execution_count": 66,
     "metadata": {},
     "output_type": "execute_result"
    }
   ],
   "source": [
    "issues.priority_name.unique()"
   ]
  },
  {
   "cell_type": "code",
   "execution_count": 67,
   "metadata": {
    "scrolled": true
   },
   "outputs": [
    {
     "data": {
      "image/png": "[encoded data removed]",
      "text/plain": [
       "<Figure size 1080x360 with 1 Axes>"
      ]
     },
     "metadata": {
      "needs_background": "light"
     },
     "output_type": "display_data"
    }
   ],
   "source": [
    "ax = sns.countplot(x=\"priority_name\", data=issues[[\"issue_id\", \"priority_name\"]])"
   ]
  },
  {
   "cell_type": "code",
   "execution_count": 68,
   "metadata": {},
   "outputs": [
    {
     "data": {
      "text/plain": [
       "0"
      ]
     },
     "execution_count": 68,
     "metadata": {},
     "output_type": "execute_result"
    }
   ],
   "source": [
    "issues.priority_name.isna().sum()"
   ]
  },
  {
   "cell_type": "code",
   "execution_count": 69,
   "metadata": {},
   "outputs": [
    {
     "data": {
      "text/plain": [
       "Major       0.929656\n",
       "Minor       0.053149\n",
       "Critical    0.008709\n",
       "Trivial     0.006923\n",
       "Blocker     0.001563\n",
       "Name: priority_name, dtype: float64"
      ]
     },
     "execution_count": 69,
     "metadata": {},
     "output_type": "execute_result"
    }
   ],
   "source": [
    "issues.priority_name.value_counts(normalize=True)"
   ]
  },
  {
   "cell_type": "markdown",
   "metadata": {},
   "source": [
    "Every issue has a priority. With issue with Major priority representing the 93%"
   ]
  },
  {
   "cell_type": "markdown",
   "metadata": {},
   "source": [
    "## Labels"
   ]
  },
  {
   "cell_type": "code",
   "execution_count": 70,
   "metadata": {},
   "outputs": [],
   "source": [
    "labels_merge = labels.merge(issues, on=\"issue_id\")"
   ]
  },
  {
   "cell_type": "markdown",
   "metadata": {},
   "source": [
    "**Number of labels**"
   ]
  },
  {
   "cell_type": "code",
   "execution_count": 71,
   "metadata": {},
   "outputs": [
    {
     "data": {
      "text/plain": [
       "100"
      ]
     },
     "execution_count": 71,
     "metadata": {},
     "output_type": "execute_result"
    }
   ],
   "source": [
    "labels.label = labels.label.str.lower()\n",
    "len(labels.label.unique())"
   ]
  },
  {
   "cell_type": "markdown",
   "metadata": {},
   "source": [
    "**Number of issues with their number of labels**"
   ]
  },
  {
   "cell_type": "code",
   "execution_count": 72,
   "metadata": {},
   "outputs": [
    {
     "name": "stderr",
     "output_type": "stream",
     "text": [
      "/Users/alexincerti/Library/Python/3.8/lib/python/site-packages/seaborn/_decorators.py:36: FutureWarning: Pass the following variable as a keyword arg: x. From version 0.12, the only valid positional argument will be `data`, and passing other arguments without an explicit keyword will result in an error or misinterpretation.\n",
      "  warnings.warn(\n"
     ]
    },
    {
     "data": {
      "text/plain": [
       "<AxesSubplot:xlabel='label', ylabel='count'>"
      ]
     },
     "execution_count": 72,
     "metadata": {},
     "output_type": "execute_result"
    },
    {
     "data": {
      "image/png": "[encoded data removed]",
      "text/plain": [
       "<Figure size 1080x360 with 1 Axes>"
      ]
     },
     "metadata": {
      "needs_background": "light"
     },
     "output_type": "display_data"
    }
   ],
   "source": [
    "sns.countplot(labels_merge.groupby(\"issue_id\").count().label)"
   ]
  },
  {
   "cell_type": "markdown",
   "metadata": {},
   "source": [
    "**Top labels**"
   ]
  },
  {
   "cell_type": "code",
   "execution_count": 73,
   "metadata": {},
   "outputs": [
    {
     "data": {
      "text/plain": [
       "<AxesSubplot:>"
      ]
     },
     "execution_count": 73,
     "metadata": {},
     "output_type": "execute_result"
    },
    {
     "data": {
      "image/png": "[encoded data removed]",
      "text/plain": [
       "<Figure size 1080x360 with 1 Axes>"
      ]
     },
     "metadata": {
      "needs_background": "light"
     },
     "output_type": "display_data"
    }
   ],
   "source": [
    "vals = labels.label.value_counts().head(20)\n",
    "sns.barplot(x = vals.values, y=vals.index)"
   ]
  },
  {
   "cell_type": "markdown",
   "metadata": {},
   "source": [
    "* Lambda label seems to be the most popular ones by far"
   ]
  },
  {
   "cell_type": "markdown",
   "metadata": {},
   "source": [
    "## FixVersions"
   ]
  },
  {
   "cell_type": "code",
   "execution_count": 421,
   "metadata": {},
   "outputs": [],
   "source": [
    "fixversions = fixversions[fixversions.fixVersion_name > \"4.4\"]\n",
    "fixversions_merged = fixversions.merge(issues, on=\"issue_id\")"
   ]
  },
  {
   "cell_type": "code",
   "execution_count": 422,
   "metadata": {},
   "outputs": [
    {
     "data": {
      "text/plain": [
       "array(['8.5', '8.6', '8.4.2', '9.0', '8.4.1', '8.4', '7.9.4', '8.3.1',\n",
       "       '8.3', '8.2', '7.9.3', '8.1', '7.9.2', '8.0', '7.9.1', '7.9',\n",
       "       '7.8', '6.7.7', '7.7', '7.6', '7.5', '6.7.6', '7.4', '6.7.5',\n",
       "       '7.3', '7.2.1', '7.2', '6.7.4', '7.1', '6.7.3', '6.7.2', '7.0',\n",
       "       '6.7.1', '6.7', '6.6', '6.6-M3', '6.6-M2', '6.6-M1', '5.6.7',\n",
       "       '6.5', '6.5-M4', '6.5-M3', '6.5-M2', '6.5-M1', '6.4', '6.3.1',\n",
       "       '6.3.2', '6.3', '5.6.6', '5.6.5', '6.2', '6.2.1', '5.6.4', '6.1.1',\n",
       "       '5.6.3', '6.1', '5.6.2', '6.0', '5.6.1', '5.6', '5.5', '4.5.7',\n",
       "       '5.4', '5.3', '5.2', '4.5.6', '4.5.5', '5.1.2', '5.1.1', '5.1'],\n",
       "      dtype=object)"
      ]
     },
     "execution_count": 422,
     "metadata": {},
     "output_type": "execute_result"
    }
   ],
   "source": [
    "fixversions.fixVersion_name.unique()"
   ]
  },
  {
   "cell_type": "code",
   "execution_count": 423,
   "metadata": {},
   "outputs": [
    {
     "data": {
      "text/plain": [
       "70"
      ]
     },
     "execution_count": 423,
     "metadata": {},
     "output_type": "execute_result"
    }
   ],
   "source": [
    "len(fixversions.fixVersion_name.unique())"
   ]
  },
  {
   "cell_type": "code",
   "execution_count": 424,
   "metadata": {},
   "outputs": [
    {
     "data": {
      "text/plain": [
       "{'4.5.5',\n",
       " '6.2.1',\n",
       " '6.5-M2',\n",
       " '6.5-M3',\n",
       " '6.5-M4',\n",
       " '6.6-M1',\n",
       " '6.6-M2',\n",
       " '6.6-M3',\n",
       " '7.2.1',\n",
       " '7.9.2',\n",
       " '8.5',\n",
       " '8.6',\n",
       " '9.0'}"
      ]
     },
     "execution_count": 424,
     "metadata": {},
     "output_type": "execute_result"
    }
   ],
   "source": [
    "set(fixversions.fixVersion_name.unique()) - set(tags.Tag.apply(polish_version))"
   ]
  },
  {
   "cell_type": "code",
   "execution_count": 425,
   "metadata": {},
   "outputs": [
    {
     "data": {
      "text/plain": [
       "{'6.2.1',\n",
       " '6.5-M2',\n",
       " '6.5-M3',\n",
       " '6.5-M4',\n",
       " '6.6-M2',\n",
       " '6.6-M3',\n",
       " '8.5',\n",
       " '8.6',\n",
       " '9.0'}"
      ]
     },
     "execution_count": 425,
     "metadata": {},
     "output_type": "execute_result"
    }
   ],
   "source": [
    "set(fixversions.fixVersion_name.unique()) - set(versions.version_name.unique())"
   ]
  },
  {
   "cell_type": "markdown",
   "metadata": {},
   "source": [
    "**How many fixversions each issue has?**"
   ]
  },
  {
   "cell_type": "code",
   "execution_count": 426,
   "metadata": {},
   "outputs": [
    {
     "data": {
      "text/plain": [
       "1    3218\n",
       "2     442\n",
       "3       6\n",
       "Name: fixVersion_id, dtype: int64"
      ]
     },
     "execution_count": 426,
     "metadata": {},
     "output_type": "execute_result"
    }
   ],
   "source": [
    "fixversions.groupby(\"issue_id\").fixVersion_id.count().value_counts()"
   ]
  },
  {
   "cell_type": "code",
   "execution_count": 427,
   "metadata": {},
   "outputs": [
    {
     "name": "stderr",
     "output_type": "stream",
     "text": [
      "/Users/alexincerti/Library/Python/3.8/lib/python/site-packages/seaborn/_decorators.py:36: FutureWarning: Pass the following variable as a keyword arg: x. From version 0.12, the only valid positional argument will be `data`, and passing other arguments without an explicit keyword will result in an error or misinterpretation.\n",
      "  warnings.warn(\n"
     ]
    },
    {
     "data": {
      "text/plain": [
       "<AxesSubplot:xlabel='fixVersion_id', ylabel='count'>"
      ]
     },
     "execution_count": 427,
     "metadata": {},
     "output_type": "execute_result"
    },
    {
     "data": {
      "image/png": "[encoded data removed]",
      "text/plain": [
       "<Figure size 1080x360 with 1 Axes>"
      ]
     },
     "metadata": {
      "needs_background": "light"
     },
     "output_type": "display_data"
    }
   ],
   "source": [
    "sns.countplot(fixversions.groupby(\"issue_id\").fixVersion_id.count())"
   ]
  },
  {
   "cell_type": "markdown",
   "metadata": {},
   "source": [
    "**Percentage of issues with a fixversion**"
   ]
  },
  {
   "cell_type": "code",
   "execution_count": 428,
   "metadata": {},
   "outputs": [
    {
     "data": {
      "text/plain": [
       "92.00535953550693"
      ]
     },
     "execution_count": 428,
     "metadata": {},
     "output_type": "execute_result"
    }
   ],
   "source": [
    "len(fixversions_merged.issue_id)/(len(issues.issue_id))*100"
   ]
  },
  {
   "cell_type": "markdown",
   "metadata": {},
   "source": [
    "**Top fixversions**"
   ]
  },
  {
   "cell_type": "code",
   "execution_count": 429,
   "metadata": {},
   "outputs": [],
   "source": [
    "top_fixversions = fixversions.groupby(\"fixVersion_name\").count().issue_id.reset_index().sort_values(by=\"issue_id\", ascending=False)"
   ]
  },
  {
   "cell_type": "code",
   "execution_count": 430,
   "metadata": {
    "scrolled": true
   },
   "outputs": [
    {
     "data": {
      "image/png": "[encoded data removed]",
      "text/plain": [
       "<Figure size 1080x360 with 1 Axes>"
      ]
     },
     "metadata": {
      "needs_background": "light"
     },
     "output_type": "display_data"
    }
   ],
   "source": [
    "ax = sns.barplot(x=\"fixVersion_name\", y=\"issue_id\", data=top_fixversions[[\"issue_id\", \"fixVersion_name\"]].head(30))"
   ]
  },
  {
   "cell_type": "code",
   "execution_count": 431,
   "metadata": {},
   "outputs": [
    {
     "data": {
      "text/plain": [
       "array(['5.2', '6.4', '6.3', '6.6', '6.2', '6.1', '6.7', '5.5', '7.2',\n",
       "       '5.6'], dtype=object)"
      ]
     },
     "execution_count": 431,
     "metadata": {},
     "output_type": "execute_result"
    }
   ],
   "source": [
    "top_fixversions.head(10).fixVersion_name.values"
   ]
  },
  {
   "cell_type": "markdown",
   "metadata": {},
   "source": [
    "**Distribution of issuetypes for each version**"
   ]
  },
  {
   "cell_type": "code",
   "execution_count": 432,
   "metadata": {},
   "outputs": [],
   "source": [
    "fixversions_sorted = fixversions.sort_values(by=\"fixVersion_name\").fixVersion_name.unique()"
   ]
  },
  {
   "cell_type": "code",
   "execution_count": 433,
   "metadata": {
    "scrolled": false
   },
   "outputs": [
    {
     "data": {
      "image/png": "[encoded data removed]",
      "text/plain": [
       "<Figure size 1080x648 with 2 Axes>"
      ]
     },
     "metadata": {
      "needs_background": "light"
     },
     "output_type": "display_data"
    }
   ],
   "source": [
    "f, axes = plt.subplots(2,1, figsize=(15,9), sharey=True)\n",
    "for i in range(2):\n",
    "    data = fixversions_merged[fixversions_merged.fixVersion_name.isin(fixversions_sorted[32*i:32*(i+1)])]\n",
    "    ax = sns.countplot(ax=axes[i], x=\"fixVersion_name\", \n",
    "                       hue=\"issuetype_name\", data=data.sort_values(by=\"fixVersion_name\").head(3000),\n",
    "                      palette={\"Bug\":\"r\",\"Improvement\":\"orange\",\n",
    "                               \"New Feature\": \"green\",\n",
    "                               \"Task\": \"yellow\",\n",
    "                               \"Sub-task\": \"pink\",\n",
    "                              \"Documentation\": \"grey\"})\n",
    "    ax.tick_params(axis='x', labelrotation= 60)\n",
    "    if i > 0:\n",
    "        ax.get_legend().remove()"
   ]
  },
  {
   "cell_type": "markdown",
   "metadata": {},
   "source": [
    "**Percentage of issuestype with a version**"
   ]
  },
  {
   "cell_type": "code",
   "execution_count": 434,
   "metadata": {
    "scrolled": true
   },
   "outputs": [
    {
     "data": {
      "text/plain": [
       "<AxesSubplot:xlabel='issuetype', ylabel='percentage_of_issue_with_fixversion'>"
      ]
     },
     "execution_count": 434,
     "metadata": {},
     "output_type": "execute_result"
    },
    {
     "data": {
      "image/png": "[encoded data removed]",
      "text/plain": [
       "<Figure size 1080x360 with 1 Axes>"
      ]
     },
     "metadata": {
      "needs_background": "light"
     },
     "output_type": "display_data"
    }
   ],
   "source": [
    "data = []\n",
    "for issuetype in issues.issuetype_name.unique():\n",
    "    issuetype_ids = issues[issues.issuetype_name == issuetype].issue_id\n",
    "    data.append((issuetype, len(set(issuetype_ids).intersection(set(fixversions.issue_id)))\\\n",
    "                 /len(issuetype_ids)))\n",
    "sns.barplot(x=\"issuetype\", y=\"percentage_of_issue_with_fixversion\", data=pd.DataFrame(data, columns=[\"issuetype\", \"percentage_of_issue_with_fixversion\"]))"
   ]
  },
  {
   "cell_type": "code",
   "execution_count": 435,
   "metadata": {},
   "outputs": [
    {
     "data": {
      "text/plain": [
       "[('Task', 0.7704918032786885),\n",
       " ('New Feature', 0.9014084507042254),\n",
       " ('Improvement', 0.7960687960687961),\n",
       " ('Documentation', 0.6744186046511628),\n",
       " ('Sub-task', 0.7090301003344481),\n",
       " ('Bug', 0.913086913086913)]"
      ]
     },
     "execution_count": 435,
     "metadata": {},
     "output_type": "execute_result"
    }
   ],
   "source": [
    "data"
   ]
  },
  {
   "cell_type": "markdown",
   "metadata": {},
   "source": [
    "* We have 70 (but 13 not on Github) fix versions we can use for our Travis analysis\n",
    "* 92% of issues have a fixversion\n",
    "* The issuetypes with most issues with a fixversion are Bug and New Feature"
   ]
  },
  {
   "cell_type": "markdown",
   "metadata": {},
   "source": [
    "## No version issues\n",
    "Ideally all bugs would be labeled with a version. Why is it not the case?"
   ]
  },
  {
   "cell_type": "code",
   "execution_count": 436,
   "metadata": {},
   "outputs": [
    {
     "data": {
      "text/html": [
       "<div>\n",
       "<style scoped>\n",
       "    .dataframe tbody tr th:only-of-type {\n",
       "        vertical-align: middle;\n",
       "    }\n",
       "\n",
       "    .dataframe tbody tr th {\n",
       "        vertical-align: top;\n",
       "    }\n",
       "\n",
       "    .dataframe thead th {\n",
       "        text-align: right;\n",
       "    }\n",
       "</style>\n",
       "<table border=\"1\" class=\"dataframe\">\n",
       "  <thead>\n",
       "    <tr style=\"text-align: right;\">\n",
       "      <th></th>\n",
       "      <th>created_month</th>\n",
       "      <th>votes_votes</th>\n",
       "      <th>priority_name</th>\n",
       "      <th>status</th>\n",
       "      <th>resolutiondate</th>\n",
       "      <th>assignee</th>\n",
       "      <th>created</th>\n",
       "      <th>assignee_name</th>\n",
       "      <th>reporter_name</th>\n",
       "      <th>issuetype_id</th>\n",
       "      <th>updated</th>\n",
       "      <th>issue_key</th>\n",
       "      <th>issue_id</th>\n",
       "      <th>duedate</th>\n",
       "      <th>creator_name</th>\n",
       "      <th>environment</th>\n",
       "      <th>resolution_name</th>\n",
       "      <th>votes</th>\n",
       "      <th>creator</th>\n",
       "      <th>edition</th>\n",
       "      <th>lastViewed</th>\n",
       "      <th>status_id</th>\n",
       "      <th>priority_id</th>\n",
       "      <th>issuetype_name</th>\n",
       "      <th>description</th>\n",
       "      <th>status_name</th>\n",
       "      <th>project</th>\n",
       "      <th>summary</th>\n",
       "      <th>created_year</th>\n",
       "      <th>reporter</th>\n",
       "    </tr>\n",
       "  </thead>\n",
       "  <tbody>\n",
       "    <tr>\n",
       "      <th>43</th>\n",
       "      <td>9</td>\n",
       "      <td>0</td>\n",
       "      <td>Major</td>\n",
       "      <td>Closed</td>\n",
       "      <td>2020-09-18 09:41:58+00:00</td>\n",
       "      <td>Jeremy Davis</td>\n",
       "      <td>2020-09-08 07:52:57+00:00</td>\n",
       "      <td>jeremy.davis</td>\n",
       "      <td>jacek.poreda</td>\n",
       "      <td>1</td>\n",
       "      <td>2020-09-18 09:41:58+00:00</td>\n",
       "      <td>SONAR-13857</td>\n",
       "      <td>97360</td>\n",
       "      <td>2020-09-21 00:00:00+00:00</td>\n",
       "      <td>jacek.poreda</td>\n",
       "      <td>NaN</td>\n",
       "      <td>Fixed</td>\n",
       "      <td>0</td>\n",
       "      <td>Jacek Poreda</td>\n",
       "      <td>Community</td>\n",
       "      <td>NaT</td>\n",
       "      <td>6</td>\n",
       "      <td>3</td>\n",
       "      <td>Bug</td>\n",
       "      <td>Facet `Security Review` is not working while c...</td>\n",
       "      <td>Closed</td>\n",
       "      <td>SONAR</td>\n",
       "      <td>Projects page - Security Review facet on new c...</td>\n",
       "      <td>2020</td>\n",
       "      <td>Jacek Poreda</td>\n",
       "    </tr>\n",
       "    <tr>\n",
       "      <th>46</th>\n",
       "      <td>9</td>\n",
       "      <td>0</td>\n",
       "      <td>Major</td>\n",
       "      <td>Open</td>\n",
       "      <td>NaT</td>\n",
       "      <td>NaN</td>\n",
       "      <td>2020-09-04 22:18:18+00:00</td>\n",
       "      <td>NaN</td>\n",
       "      <td>duarte.meneses</td>\n",
       "      <td>1</td>\n",
       "      <td>2020-09-04 22:20:07+00:00</td>\n",
       "      <td>SONAR-13854</td>\n",
       "      <td>97337</td>\n",
       "      <td>NaT</td>\n",
       "      <td>duarte.meneses</td>\n",
       "      <td>NaN</td>\n",
       "      <td>NaN</td>\n",
       "      <td>0</td>\n",
       "      <td>Duarte Meneses</td>\n",
       "      <td>Community</td>\n",
       "      <td>NaT</td>\n",
       "      <td>1</td>\n",
       "      <td>3</td>\n",
       "      <td>Bug</td>\n",
       "      <td>All plugins extending a base plugin share the ...</td>\n",
       "      <td>Open</td>\n",
       "      <td>SONAR</td>\n",
       "      <td>Identification of the plugin that created a ru...</td>\n",
       "      <td>2020</td>\n",
       "      <td>Duarte Meneses</td>\n",
       "    </tr>\n",
       "    <tr>\n",
       "      <th>52</th>\n",
       "      <td>9</td>\n",
       "      <td>0</td>\n",
       "      <td>Major</td>\n",
       "      <td>Closed</td>\n",
       "      <td>2020-09-04 13:22:54+00:00</td>\n",
       "      <td>Jeremy Davis</td>\n",
       "      <td>2020-09-02 15:59:37+00:00</td>\n",
       "      <td>jeremy.davis</td>\n",
       "      <td>jeremy.davis</td>\n",
       "      <td>1</td>\n",
       "      <td>2020-09-04 13:22:54+00:00</td>\n",
       "      <td>SONAR-13847</td>\n",
       "      <td>97230</td>\n",
       "      <td>2020-09-10 00:00:00+00:00</td>\n",
       "      <td>jeremy.davis</td>\n",
       "      <td>NaN</td>\n",
       "      <td>Fixed</td>\n",
       "      <td>0</td>\n",
       "      <td>Jeremy Davis</td>\n",
       "      <td>Community</td>\n",
       "      <td>NaT</td>\n",
       "      <td>6</td>\n",
       "      <td>3</td>\n",
       "      <td>Bug</td>\n",
       "      <td>When a new project is analyzed, the page is su...</td>\n",
       "      <td>Closed</td>\n",
       "      <td>SONAR</td>\n",
       "      <td>Project overview isn't refreshed after first a...</td>\n",
       "      <td>2020</td>\n",
       "      <td>Jeremy Davis</td>\n",
       "    </tr>\n",
       "    <tr>\n",
       "      <th>67</th>\n",
       "      <td>8</td>\n",
       "      <td>0</td>\n",
       "      <td>Major</td>\n",
       "      <td>Closed</td>\n",
       "      <td>2020-08-28 14:35:24+00:00</td>\n",
       "      <td>Duarte Meneses</td>\n",
       "      <td>2020-08-27 17:28:16+00:00</td>\n",
       "      <td>duarte.meneses</td>\n",
       "      <td>duarte.meneses</td>\n",
       "      <td>1</td>\n",
       "      <td>2020-08-28 14:35:24+00:00</td>\n",
       "      <td>SONAR-13827</td>\n",
       "      <td>97063</td>\n",
       "      <td>2020-09-03 00:00:00+00:00</td>\n",
       "      <td>duarte.meneses</td>\n",
       "      <td>NaN</td>\n",
       "      <td>Fixed</td>\n",
       "      <td>0</td>\n",
       "      <td>Duarte Meneses</td>\n",
       "      <td>Community</td>\n",
       "      <td>NaT</td>\n",
       "      <td>6</td>\n",
       "      <td>3</td>\n",
       "      <td>Bug</td>\n",
       "      <td>Due to a mistake implementing the new SCM API ...</td>\n",
       "      <td>Closed</td>\n",
       "      <td>SONAR</td>\n",
       "      <td>New Code Period set to \"reference branch\" is n...</td>\n",
       "      <td>2020</td>\n",
       "      <td>Duarte Meneses</td>\n",
       "    </tr>\n",
       "    <tr>\n",
       "      <th>68</th>\n",
       "      <td>8</td>\n",
       "      <td>0</td>\n",
       "      <td>Minor</td>\n",
       "      <td>Closed</td>\n",
       "      <td>2020-08-28 12:04:45+00:00</td>\n",
       "      <td>Julien Lancelot</td>\n",
       "      <td>2020-08-27 15:49:37+00:00</td>\n",
       "      <td>julien.lancelot</td>\n",
       "      <td>julien.lancelot</td>\n",
       "      <td>1</td>\n",
       "      <td>2020-08-28 12:04:45+00:00</td>\n",
       "      <td>SONAR-13826</td>\n",
       "      <td>97061</td>\n",
       "      <td>2020-09-03 00:00:00+00:00</td>\n",
       "      <td>julien.lancelot</td>\n",
       "      <td>NaN</td>\n",
       "      <td>Fixed</td>\n",
       "      <td>0</td>\n",
       "      <td>Julien Lancelot</td>\n",
       "      <td>Community</td>\n",
       "      <td>NaT</td>\n",
       "      <td>6</td>\n",
       "      <td>4</td>\n",
       "      <td>Bug</td>\n",
       "      <td>When requesting {{api/qualityprofiles/backup}}...</td>\n",
       "      <td>Closed</td>\n",
       "      <td>SONAR</td>\n",
       "      <td>api/qualityprofiles/backup is returning HTTP c...</td>\n",
       "      <td>2020</td>\n",
       "      <td>Julien Lancelot</td>\n",
       "    </tr>\n",
       "  </tbody>\n",
       "</table>\n",
       "</div>"
      ],
      "text/plain": [
       "    created_month  votes_votes priority_name  status  \\\n",
       "43              9            0         Major  Closed   \n",
       "46              9            0         Major    Open   \n",
       "52              9            0         Major  Closed   \n",
       "67              8            0         Major  Closed   \n",
       "68              8            0         Minor  Closed   \n",
       "\n",
       "              resolutiondate         assignee                   created  \\\n",
       "43 2020-09-18 09:41:58+00:00     Jeremy Davis 2020-09-08 07:52:57+00:00   \n",
       "46                       NaT              NaN 2020-09-04 22:18:18+00:00   \n",
       "52 2020-09-04 13:22:54+00:00     Jeremy Davis 2020-09-02 15:59:37+00:00   \n",
       "67 2020-08-28 14:35:24+00:00   Duarte Meneses 2020-08-27 17:28:16+00:00   \n",
       "68 2020-08-28 12:04:45+00:00  Julien Lancelot 2020-08-27 15:49:37+00:00   \n",
       "\n",
       "      assignee_name    reporter_name  issuetype_id                   updated  \\\n",
       "43     jeremy.davis     jacek.poreda             1 2020-09-18 09:41:58+00:00   \n",
       "46              NaN   duarte.meneses             1 2020-09-04 22:20:07+00:00   \n",
       "52     jeremy.davis     jeremy.davis             1 2020-09-04 13:22:54+00:00   \n",
       "67   duarte.meneses   duarte.meneses             1 2020-08-28 14:35:24+00:00   \n",
       "68  julien.lancelot  julien.lancelot             1 2020-08-28 12:04:45+00:00   \n",
       "\n",
       "      issue_key  issue_id                   duedate     creator_name  \\\n",
       "43  SONAR-13857     97360 2020-09-21 00:00:00+00:00     jacek.poreda   \n",
       "46  SONAR-13854     97337                       NaT   duarte.meneses   \n",
       "52  SONAR-13847     97230 2020-09-10 00:00:00+00:00     jeremy.davis   \n",
       "67  SONAR-13827     97063 2020-09-03 00:00:00+00:00   duarte.meneses   \n",
       "68  SONAR-13826     97061 2020-09-03 00:00:00+00:00  julien.lancelot   \n",
       "\n",
       "   environment resolution_name  votes          creator    edition lastViewed  \\\n",
       "43         NaN           Fixed      0     Jacek Poreda  Community        NaT   \n",
       "46         NaN             NaN      0   Duarte Meneses  Community        NaT   \n",
       "52         NaN           Fixed      0     Jeremy Davis  Community        NaT   \n",
       "67         NaN           Fixed      0   Duarte Meneses  Community        NaT   \n",
       "68         NaN           Fixed      0  Julien Lancelot  Community        NaT   \n",
       "\n",
       "    status_id  priority_id issuetype_name  \\\n",
       "43          6            3            Bug   \n",
       "46          1            3            Bug   \n",
       "52          6            3            Bug   \n",
       "67          6            3            Bug   \n",
       "68          6            4            Bug   \n",
       "\n",
       "                                          description status_name project  \\\n",
       "43  Facet `Security Review` is not working while c...      Closed   SONAR   \n",
       "46  All plugins extending a base plugin share the ...        Open   SONAR   \n",
       "52  When a new project is analyzed, the page is su...      Closed   SONAR   \n",
       "67  Due to a mistake implementing the new SCM API ...      Closed   SONAR   \n",
       "68  When requesting {{api/qualityprofiles/backup}}...      Closed   SONAR   \n",
       "\n",
       "                                              summary  created_year  \\\n",
       "43  Projects page - Security Review facet on new c...          2020   \n",
       "46  Identification of the plugin that created a ru...          2020   \n",
       "52  Project overview isn't refreshed after first a...          2020   \n",
       "67  New Code Period set to \"reference branch\" is n...          2020   \n",
       "68  api/qualityprofiles/backup is returning HTTP c...          2020   \n",
       "\n",
       "           reporter  \n",
       "43     Jacek Poreda  \n",
       "46   Duarte Meneses  \n",
       "52     Jeremy Davis  \n",
       "67   Duarte Meneses  \n",
       "68  Julien Lancelot  "
      ]
     },
     "execution_count": 436,
     "metadata": {},
     "output_type": "execute_result"
    }
   ],
   "source": [
    "no_version_issues = issues[~issues.issue_id.isin(versions.issue_id.unique())]\n",
    "bug_no_version = no_version_issues[no_version_issues.issuetype_name == \"Bug\"]\n",
    "bug_no_version.head()"
   ]
  },
  {
   "cell_type": "code",
   "execution_count": 444,
   "metadata": {},
   "outputs": [
    {
     "data": {
      "text/plain": [
       "460"
      ]
     },
     "execution_count": 444,
     "metadata": {},
     "output_type": "execute_result"
    }
   ],
   "source": [
    "len(bug_no_version)"
   ]
  },
  {
   "cell_type": "markdown",
   "metadata": {},
   "source": [
    "**Issues with no version and their resolution type distribution**"
   ]
  },
  {
   "cell_type": "code",
   "execution_count": 445,
   "metadata": {},
   "outputs": [
    {
     "data": {
      "text/plain": [
       "Fixed               0.949647\n",
       "Won't Fix           0.030330\n",
       "Duplicate           0.007951\n",
       "Won't Do            0.005889\n",
       "Cannot Reproduce    0.002356\n",
       "Canceled            0.002356\n",
       "Done                0.000589\n",
       "Not an issue        0.000589\n",
       "Moved To GitHub     0.000294\n",
       "Name: resolution_name, dtype: float64"
      ]
     },
     "execution_count": 445,
     "metadata": {},
     "output_type": "execute_result"
    }
   ],
   "source": [
    "no_version_issues.resolution_name.value_counts(normalize=True)"
   ]
  },
  {
   "cell_type": "code",
   "execution_count": 446,
   "metadata": {},
   "outputs": [
    {
     "name": "stderr",
     "output_type": "stream",
     "text": [
      "/Users/alexincerti/Library/Python/3.8/lib/python/site-packages/seaborn/_decorators.py:36: FutureWarning: Pass the following variable as a keyword arg: x. From version 0.12, the only valid positional argument will be `data`, and passing other arguments without an explicit keyword will result in an error or misinterpretation.\n",
      "  warnings.warn(\n"
     ]
    },
    {
     "data": {
      "text/plain": [
       "<AxesSubplot:xlabel='resolution_name', ylabel='count'>"
      ]
     },
     "execution_count": 446,
     "metadata": {},
     "output_type": "execute_result"
    },
    {
     "data": {
      "image/png": "[encoded data removed]",
      "text/plain": [
       "<Figure size 1080x360 with 1 Axes>"
      ]
     },
     "metadata": {
      "needs_background": "light"
     },
     "output_type": "display_data"
    }
   ],
   "source": [
    "sns.countplot(no_version_issues.resolution_name)"
   ]
  },
  {
   "cell_type": "markdown",
   "metadata": {},
   "source": [
    "**Percentage of issues with no versions over the years**"
   ]
  },
  {
   "cell_type": "code",
   "execution_count": 447,
   "metadata": {},
   "outputs": [
    {
     "name": "stderr",
     "output_type": "stream",
     "text": [
      "/Users/alexincerti/Library/Python/3.8/lib/python/site-packages/seaborn/_decorators.py:36: FutureWarning: Pass the following variables as keyword args: x, y. From version 0.12, the only valid positional argument will be `data`, and passing other arguments without an explicit keyword will result in an error or misinterpretation.\n",
      "  warnings.warn(\n"
     ]
    },
    {
     "data": {
      "text/plain": [
       "<AxesSubplot:>"
      ]
     },
     "execution_count": 447,
     "metadata": {},
     "output_type": "execute_result"
    },
    {
     "data": {
      "image/png": "[encoded data removed]",
      "text/plain": [
       "<Figure size 1080x360 with 1 Axes>"
      ]
     },
     "metadata": {
      "needs_background": "light"
     },
     "output_type": "display_data"
    }
   ],
   "source": [
    "x = no_version_issues.created_year.value_counts(normalize=True).sort_index()\n",
    "sns.barplot(x.index, x.values)"
   ]
  },
  {
   "cell_type": "markdown",
   "metadata": {},
   "source": [
    "**Bugs with no version resolution type distribution**"
   ]
  },
  {
   "cell_type": "code",
   "execution_count": 450,
   "metadata": {},
   "outputs": [
    {
     "data": {
      "text/plain": [
       "Fixed               415\n",
       "Won't Fix            14\n",
       "Cannot Reproduce      6\n",
       "Duplicate             2\n",
       "Name: resolution_name, dtype: int64"
      ]
     },
     "execution_count": 450,
     "metadata": {},
     "output_type": "execute_result"
    }
   ],
   "source": [
    "bug_no_version.resolution_name.value_counts()"
   ]
  },
  {
   "cell_type": "code",
   "execution_count": 448,
   "metadata": {},
   "outputs": [
    {
     "data": {
      "text/plain": [
       "Fixed               0.949657\n",
       "Won't Fix           0.032037\n",
       "Cannot Reproduce    0.013730\n",
       "Duplicate           0.004577\n",
       "Name: resolution_name, dtype: float64"
      ]
     },
     "execution_count": 448,
     "metadata": {},
     "output_type": "execute_result"
    }
   ],
   "source": [
    "bug_no_version.resolution_name.value_counts(normalize=True)"
   ]
  },
  {
   "cell_type": "code",
   "execution_count": 449,
   "metadata": {},
   "outputs": [
    {
     "name": "stderr",
     "output_type": "stream",
     "text": [
      "/Users/alexincerti/Library/Python/3.8/lib/python/site-packages/seaborn/_decorators.py:36: FutureWarning: Pass the following variable as a keyword arg: x. From version 0.12, the only valid positional argument will be `data`, and passing other arguments without an explicit keyword will result in an error or misinterpretation.\n",
      "  warnings.warn(\n"
     ]
    },
    {
     "data": {
      "text/plain": [
       "<AxesSubplot:xlabel='resolution_name', ylabel='count'>"
      ]
     },
     "execution_count": 449,
     "metadata": {},
     "output_type": "execute_result"
    },
    {
     "data": {
      "image/png": "[encoded data removed]",
      "text/plain": [
       "<Figure size 1080x360 with 1 Axes>"
      ]
     },
     "metadata": {
      "needs_background": "light"
     },
     "output_type": "display_data"
    }
   ],
   "source": [
    "sns.countplot(bug_no_version.resolution_name)"
   ]
  },
  {
   "cell_type": "markdown",
   "metadata": {},
   "source": [
    "* 94% of the issues with no version have been fixed\n",
    "* 94% of the issues with no version AND of type Bug have been fixed\n",
    "\n",
    "This means that for almost 415 bug issues a solution has been found. This can possibly be exploited for identifying in which version the bug was introduced."
   ]
  },
  {
   "cell_type": "markdown",
   "metadata": {},
   "source": [
    "### Status"
   ]
  },
  {
   "cell_type": "code",
   "execution_count": 442,
   "metadata": {},
   "outputs": [
    {
     "data": {
      "text/plain": [
       "array(['Open', 'In Review', 'In Progress', 'To Do', 'Closed', 'Resolved',\n",
       "       'Reopened'], dtype=object)"
      ]
     },
     "execution_count": 442,
     "metadata": {},
     "output_type": "execute_result"
    }
   ],
   "source": [
    "issues.status.unique()"
   ]
  },
  {
   "cell_type": "code",
   "execution_count": 443,
   "metadata": {
    "scrolled": true
   },
   "outputs": [
    {
     "data": {
      "image/png": "[encoded data removed]",
      "text/plain": [
       "<Figure size 1080x360 with 1 Axes>"
      ]
     },
     "metadata": {
      "needs_background": "light"
     },
     "output_type": "display_data"
    }
   ],
   "source": [
    "ax = sns.countplot(x=\"status\", data=issues[[\"issue_id\", \"status\"]])"
   ]
  },
  {
   "cell_type": "markdown",
   "metadata": {},
   "source": [
    "### Further analysis\n",
    "* Time between issue reported and closed\n",
    "* Number of subtasks per issue"
   ]
  }
 ],
 "metadata": {
  "kernelspec": {
   "display_name": "Python 3",
   "language": "python",
   "name": "python3"
  },
  "language_info": {
   "codemirror_mode": {
    "name": "ipython",
    "version": 3
   },
   "file_extension": ".py",
   "mimetype": "text/x-python",
   "name": "python",
   "nbconvert_exporter": "python",
   "pygments_lexer": "ipython3",
   "version": "3.8.2"
  }
 },
 "nbformat": 4,
 "nbformat_minor": 4
}
