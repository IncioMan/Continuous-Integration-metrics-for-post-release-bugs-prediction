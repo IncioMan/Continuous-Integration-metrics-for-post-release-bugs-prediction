{
 "cells": [
  {
   "cell_type": "code",
   "execution_count": 1,
   "metadata": {},
   "outputs": [],
   "source": [
    "import pandas as pd\n",
    "import pickle\n",
    "import json\n",
    "import seaborn as sns\n",
    "import pprint\n",
    "pp = pprint.PrettyPrinter(depth=6)\n",
    "import matplotlib\n",
    "import matplotlib.pyplot as plt\n",
    "matplotlib.rcParams['figure.figsize'] = (15.0, 5.0)\n",
    "pd.set_option('display.max_columns', 120)"
   ]
  },
  {
   "cell_type": "code",
   "execution_count": 2,
   "metadata": {},
   "outputs": [],
   "source": [
    "pkl_folder = \"../../pkl\"\n",
    "csv_folder = \"../../csv\""
   ]
  },
  {
   "cell_type": "markdown",
   "metadata": {},
   "source": [
    "| Field          | Description                                                     | Type of variable |\n",
    "|----------------|-----------------------------------------------------------------|------------------|\n",
    "| fixVersions    | Search for issues that are assigned to a particular fix version | list of versions |\n",
    "| issuetype      | Type of issue                                                   | Categorical      |\n",
    "| project        | The project the issue belongs to                                | String           |\n",
    "| resolution     | The resolution of the issue                                     | Categorical      |\n",
    "| resolutiondate | The date the issue was resolved                                 | Date             |\n",
    "| workratio      | calculated as workRatio = (timeSpent / originalEstimate) x 100  | Number           |\n",
    "| lastViewed     | The date at which the issue was last viewed                     | Date             |\n",
    "| watches        | Users watching the issue                                        | ?                |\n",
    "| created        | The date of the creation of the issue                           | Date             |\n",
    "| priority       | Priority assigned to the issue                                  | Categorical      |\n",
    "| labels         | Labels assigned to the issue                                    | Strings          |\n",
    "| versions       | The versions affected by the issue                              | List             |\n",
    "| assignee       | The user the issue is assigned to                               | User             |\n",
    "| status         | The status of the issue                                         | Categorical      |\n",
    "| description    | The description of the issue                                    | String           |\n",
    "| summary        | A summary of the issue reported                                 | String           |\n",
    "| creator        | The user that created the issue                                 | User             |\n",
    "| subtasks       | The subtasks of the issue                                       | List of issues   |\n",
    "| reporter       | The user who reported the issue. May be the same as the creator | User             |\n",
    "| duedate        | The date the issue is due to be resolved                        | Date             |"
   ]
  },
  {
   "cell_type": "markdown",
   "metadata": {},
   "source": [
    "### Import tags"
   ]
  },
  {
   "cell_type": "code",
   "execution_count": 3,
   "metadata": {},
   "outputs": [
    {
     "data": {
      "text/html": [
       "<div>\n",
       "<style scoped>\n",
       "    .dataframe tbody tr th:only-of-type {\n",
       "        vertical-align: middle;\n",
       "    }\n",
       "\n",
       "    .dataframe tbody tr th {\n",
       "        vertical-align: top;\n",
       "    }\n",
       "\n",
       "    .dataframe thead th {\n",
       "        text-align: right;\n",
       "    }\n",
       "</style>\n",
       "<table border=\"1\" class=\"dataframe\">\n",
       "  <thead>\n",
       "    <tr style=\"text-align: right;\">\n",
       "      <th></th>\n",
       "      <th>Tag</th>\n",
       "      <th>Sha</th>\n",
       "      <th>Date</th>\n",
       "      <th>Tag_number</th>\n",
       "      <th>month</th>\n",
       "      <th>year</th>\n",
       "    </tr>\n",
       "  </thead>\n",
       "  <tbody>\n",
       "    <tr>\n",
       "      <th>1</th>\n",
       "      <td>8.4.2.36762</td>\n",
       "      <td>2de1f343e3dbd9e88007b42e475512677c04eb8a</td>\n",
       "      <td>2020-08-27 14:11:31</td>\n",
       "      <td>8.4.2.36762</td>\n",
       "      <td>8</td>\n",
       "      <td>2020</td>\n",
       "    </tr>\n",
       "    <tr>\n",
       "      <th>2</th>\n",
       "      <td>8.4.1.35646</td>\n",
       "      <td>a0d372f704998d38856c26e28662fd7de062f873</td>\n",
       "      <td>2020-07-14 08:13:18</td>\n",
       "      <td>8.4.1.35646</td>\n",
       "      <td>7</td>\n",
       "      <td>2020</td>\n",
       "    </tr>\n",
       "    <tr>\n",
       "      <th>3</th>\n",
       "      <td>8.4.0.35506</td>\n",
       "      <td>74b4533439f380827d68e8c01667eeaecad89fc7</td>\n",
       "      <td>2020-07-03 07:09:27</td>\n",
       "      <td>8.4.0.35506</td>\n",
       "      <td>7</td>\n",
       "      <td>2020</td>\n",
       "    </tr>\n",
       "    <tr>\n",
       "      <th>4</th>\n",
       "      <td>8.3.1.34397</td>\n",
       "      <td>b77ce511a2039330aea8832ad12e86a8cfa9ff7d</td>\n",
       "      <td>2020-05-07 12:09:22</td>\n",
       "      <td>8.3.1.34397</td>\n",
       "      <td>5</td>\n",
       "      <td>2020</td>\n",
       "    </tr>\n",
       "    <tr>\n",
       "      <th>5</th>\n",
       "      <td>8.3.0.34182</td>\n",
       "      <td>9c58e36328ae79ad3c36c13aa253879351ce3613</td>\n",
       "      <td>2020-04-28 13:54:13</td>\n",
       "      <td>8.3.0.34182</td>\n",
       "      <td>4</td>\n",
       "      <td>2020</td>\n",
       "    </tr>\n",
       "  </tbody>\n",
       "</table>\n",
       "</div>"
      ],
      "text/plain": [
       "           Tag                                       Sha                Date  \\\n",
       "1  8.4.2.36762  2de1f343e3dbd9e88007b42e475512677c04eb8a 2020-08-27 14:11:31   \n",
       "2  8.4.1.35646  a0d372f704998d38856c26e28662fd7de062f873 2020-07-14 08:13:18   \n",
       "3  8.4.0.35506  74b4533439f380827d68e8c01667eeaecad89fc7 2020-07-03 07:09:27   \n",
       "4  8.3.1.34397  b77ce511a2039330aea8832ad12e86a8cfa9ff7d 2020-05-07 12:09:22   \n",
       "5  8.3.0.34182  9c58e36328ae79ad3c36c13aa253879351ce3613 2020-04-28 13:54:13   \n",
       "\n",
       "    Tag_number  month  year  \n",
       "1  8.4.2.36762      8  2020  \n",
       "2  8.4.1.35646      7  2020  \n",
       "3  8.4.0.35506      7  2020  \n",
       "4  8.3.1.34397      5  2020  \n",
       "5  8.3.0.34182      4  2020  "
      ]
     },
     "execution_count": 3,
     "metadata": {},
     "output_type": "execute_result"
    }
   ],
   "source": [
    "tags = pd.read_csv(f\"{csv_folder}/tags.csv\", index_col=0)\n",
    "tags.Date = pd.to_datetime(tags.Date)\n",
    "tags = tags[tags.Date > \"2015-03-10\"]\n",
    "tags[\"month\"] = tags.Date.dt.month\n",
    "tags[\"year\"] = tags.Date.dt.year\n",
    "tags.head()"
   ]
  },
  {
   "cell_type": "markdown",
   "metadata": {},
   "source": [
    "### Import issues"
   ]
  },
  {
   "cell_type": "code",
   "execution_count": 4,
   "metadata": {
    "scrolled": true
   },
   "outputs": [
    {
     "name": "stderr",
     "output_type": "stream",
     "text": [
      "/Library/Python/3.8/site-packages/IPython/core/interactiveshell.py:3145: DtypeWarning: Columns (4,6,9,12,13,17,19,22,41,42,43,60,61,82,84,89) have mixed types.Specify dtype option on import or set low_memory=False.\n",
      "  has_raised = await self.run_ast_nodes(code_ast.body, cell_name,\n"
     ]
    },
    {
     "data": {
      "text/html": [
       "<div>\n",
       "<style scoped>\n",
       "    .dataframe tbody tr th:only-of-type {\n",
       "        vertical-align: middle;\n",
       "    }\n",
       "\n",
       "    .dataframe tbody tr th {\n",
       "        vertical-align: top;\n",
       "    }\n",
       "\n",
       "    .dataframe thead th {\n",
       "        text-align: right;\n",
       "    }\n",
       "</style>\n",
       "<table border=\"1\" class=\"dataframe\">\n",
       "  <thead>\n",
       "    <tr style=\"text-align: right;\">\n",
       "      <th></th>\n",
       "      <th>issue_key</th>\n",
       "      <th>issue_id</th>\n",
       "      <th>issuetype</th>\n",
       "      <th>customfield_12130</th>\n",
       "      <th>customfield_11041</th>\n",
       "      <th>customfield_12132</th>\n",
       "      <th>customfield_12131</th>\n",
       "      <th>project</th>\n",
       "      <th>customfield_12134</th>\n",
       "      <th>customfield_12530</th>\n",
       "      <th>fixVersions</th>\n",
       "      <th>customfield_12133</th>\n",
       "      <th>customfield_12136</th>\n",
       "      <th>customfield_12532</th>\n",
       "      <th>resolution</th>\n",
       "      <th>customfield_10431</th>\n",
       "      <th>customfield_12135</th>\n",
       "      <th>customfield_12531</th>\n",
       "      <th>customfield_12138</th>\n",
       "      <th>customfield_10432</th>\n",
       "      <th>customfield_12534</th>\n",
       "      <th>customfield_12137</th>\n",
       "      <th>customfield_10433</th>\n",
       "      <th>customfield_12533</th>\n",
       "      <th>customfield_11832</th>\n",
       "      <th>customfield_11831</th>\n",
       "      <th>customfield_11833</th>\n",
       "      <th>resolutiondate</th>\n",
       "      <th>workratio</th>\n",
       "      <th>lastViewed</th>\n",
       "      <th>watches</th>\n",
       "      <th>created</th>\n",
       "      <th>customfield_11032</th>\n",
       "      <th>customfield_11033</th>\n",
       "      <th>priority</th>\n",
       "      <th>edition</th>\n",
       "      <th>customfield_11233</th>\n",
       "      <th>customfield_11036</th>\n",
       "      <th>customfield_11830</th>\n",
       "      <th>labels</th>\n",
       "      <th>customfield_11631</th>\n",
       "      <th>customfield_11038</th>\n",
       "      <th>customfield_10930</th>\n",
       "      <th>customfield_11347</th>\n",
       "      <th>customfield_10931</th>\n",
       "      <th>customfield_10932</th>\n",
       "      <th>versions</th>\n",
       "      <th>issuelinks</th>\n",
       "      <th>assignee</th>\n",
       "      <th>updated</th>\n",
       "      <th>status</th>\n",
       "      <th>components</th>\n",
       "      <th>customfield_12031</th>\n",
       "      <th>customfield_11140</th>\n",
       "      <th>customfield_12030</th>\n",
       "      <th>customfield_12033</th>\n",
       "      <th>customfield_11141</th>\n",
       "      <th>description</th>\n",
       "      <th>customfield_12032</th>\n",
       "      <th>customfield_12034</th>\n",
       "      <th>customfield_12430</th>\n",
       "      <th>customfield_11344</th>\n",
       "      <th>customfield_11343</th>\n",
       "      <th>customfield_10530</th>\n",
       "      <th>customfield_11345</th>\n",
       "      <th>customfield_10730</th>\n",
       "      <th>customfield_11337</th>\n",
       "      <th>customfield_11930</th>\n",
       "      <th>customfield_11139</th>\n",
       "      <th>customfield_11338</th>\n",
       "      <th>summary</th>\n",
       "      <th>creator</th>\n",
       "      <th>subtasks</th>\n",
       "      <th>customfield_11130</th>\n",
       "      <th>customfield_11131</th>\n",
       "      <th>reporter</th>\n",
       "      <th>customfield_11132</th>\n",
       "      <th>customfield_11133</th>\n",
       "      <th>customfield_10243</th>\n",
       "      <th>customfield_11335</th>\n",
       "      <th>customfield_11334</th>\n",
       "      <th>customfield_11730</th>\n",
       "      <th>customfield_10434</th>\n",
       "      <th>customfield_12536</th>\n",
       "      <th>customfield_12535</th>\n",
       "      <th>customfield_12139</th>\n",
       "      <th>environment</th>\n",
       "      <th>customfield_12538</th>\n",
       "      <th>customfield_10437</th>\n",
       "      <th>customfield_12537</th>\n",
       "      <th>customfield_10438</th>\n",
       "      <th>duedate</th>\n",
       "      <th>votes</th>\n",
       "      <th>issuetype_id</th>\n",
       "      <th>issuetype_name</th>\n",
       "      <th>priority_id</th>\n",
       "      <th>priority_name</th>\n",
       "      <th>assignee_key</th>\n",
       "      <th>assignee_name</th>\n",
       "      <th>reporter_key</th>\n",
       "      <th>reporter_name</th>\n",
       "      <th>creator_key</th>\n",
       "      <th>creator_name</th>\n",
       "      <th>status_id</th>\n",
       "      <th>status_name</th>\n",
       "      <th>resolution_id</th>\n",
       "      <th>resolution_name</th>\n",
       "      <th>votes_votes</th>\n",
       "    </tr>\n",
       "  </thead>\n",
       "  <tbody>\n",
       "    <tr>\n",
       "      <th>0</th>\n",
       "      <td>SONAR-13913</td>\n",
       "      <td>97898</td>\n",
       "      <td>Task</td>\n",
       "      <td>P3-Medium</td>\n",
       "      <td>0|i0dkhb:</td>\n",
       "      <td>No root cause identified</td>\n",
       "      <td>NaN</td>\n",
       "      <td>SONAR</td>\n",
       "      <td>Not captured yet</td>\n",
       "      <td>NaN</td>\n",
       "      <td>[]</td>\n",
       "      <td>Not assessed yet</td>\n",
       "      <td>Not captured yet</td>\n",
       "      <td>NaN</td>\n",
       "      <td>NaN</td>\n",
       "      <td>NaN</td>\n",
       "      <td>No action plan</td>\n",
       "      <td>NaN</td>\n",
       "      <td>Not captured yet</td>\n",
       "      <td>NaN</td>\n",
       "      <td>NaN</td>\n",
       "      <td>Not captured yet</td>\n",
       "      <td>NaN</td>\n",
       "      <td>NaN</td>\n",
       "      <td>NaN</td>\n",
       "      <td>NaN</td>\n",
       "      <td>NaN</td>\n",
       "      <td>NaT</td>\n",
       "      <td>-1</td>\n",
       "      <td>NaT</td>\n",
       "      <td>&lt;JIRA Watchers at 5060633888&gt;</td>\n",
       "      <td>2020-09-29 08:54:53+00:00</td>\n",
       "      <td>NaN</td>\n",
       "      <td>NaN</td>\n",
       "      <td>Major</td>\n",
       "      <td>Community</td>\n",
       "      <td>NaN</td>\n",
       "      <td>NaN</td>\n",
       "      <td>NaN</td>\n",
       "      <td>[]</td>\n",
       "      <td>None</td>\n",
       "      <td>NaN</td>\n",
       "      <td>NaN</td>\n",
       "      <td>NaN</td>\n",
       "      <td>NaN</td>\n",
       "      <td>NaN</td>\n",
       "      <td>[]</td>\n",
       "      <td>[]</td>\n",
       "      <td>NaN</td>\n",
       "      <td>2020-09-29 08:54:53+00:00</td>\n",
       "      <td>Open</td>\n",
       "      <td>[&lt;JIRA Component: name='Database', id='11077'&gt;]</td>\n",
       "      <td>NaN</td>\n",
       "      <td>NaN</td>\n",
       "      <td>NaN</td>\n",
       "      <td>NaN</td>\n",
       "      <td>NaN</td>\n",
       "      <td>- Remove org.sonar.server.platform.BackendClea...</td>\n",
       "      <td>NaN</td>\n",
       "      <td>SonarQube</td>\n",
       "      <td>NaN</td>\n",
       "      <td>NaN</td>\n",
       "      <td>NaN</td>\n",
       "      <td>NaN</td>\n",
       "      <td>NaN</td>\n",
       "      <td>NaN</td>\n",
       "      <td>NaN</td>\n",
       "      <td>{}</td>\n",
       "      <td>NaN</td>\n",
       "      <td>NaN</td>\n",
       "      <td>Remove table clean up used in Integration Tests</td>\n",
       "      <td>Julien Lancelot</td>\n",
       "      <td>[]</td>\n",
       "      <td>NaN</td>\n",
       "      <td>NaN</td>\n",
       "      <td>Julien Lancelot</td>\n",
       "      <td>NaN</td>\n",
       "      <td>NaN</td>\n",
       "      <td>NaN</td>\n",
       "      <td>NaN</td>\n",
       "      <td>NaN</td>\n",
       "      <td>NaN</td>\n",
       "      <td>NaN</td>\n",
       "      <td>New</td>\n",
       "      <td>NaN</td>\n",
       "      <td>NaN</td>\n",
       "      <td>NaN</td>\n",
       "      <td>NaN</td>\n",
       "      <td></td>\n",
       "      <td>NaN</td>\n",
       "      <td>[]</td>\n",
       "      <td>NaT</td>\n",
       "      <td>0</td>\n",
       "      <td>3</td>\n",
       "      <td>Task</td>\n",
       "      <td>3</td>\n",
       "      <td>Major</td>\n",
       "      <td>NaN</td>\n",
       "      <td>NaN</td>\n",
       "      <td>julien.lancelot</td>\n",
       "      <td>julien.lancelot</td>\n",
       "      <td>julien.lancelot</td>\n",
       "      <td>julien.lancelot</td>\n",
       "      <td>1</td>\n",
       "      <td>Open</td>\n",
       "      <td>NaN</td>\n",
       "      <td>NaN</td>\n",
       "      <td>0</td>\n",
       "    </tr>\n",
       "    <tr>\n",
       "      <th>1</th>\n",
       "      <td>SONAR-13912</td>\n",
       "      <td>97868</td>\n",
       "      <td>Task</td>\n",
       "      <td>P3-Medium</td>\n",
       "      <td>0|i0dkav:</td>\n",
       "      <td>No root cause identified</td>\n",
       "      <td>NaN</td>\n",
       "      <td>SONAR</td>\n",
       "      <td>Not captured yet</td>\n",
       "      <td>NaN</td>\n",
       "      <td>[]</td>\n",
       "      <td>Not assessed yet</td>\n",
       "      <td>Not captured yet</td>\n",
       "      <td>NaN</td>\n",
       "      <td>NaN</td>\n",
       "      <td>NaN</td>\n",
       "      <td>No action plan</td>\n",
       "      <td>NaN</td>\n",
       "      <td>Not captured yet</td>\n",
       "      <td>NaN</td>\n",
       "      <td>NaN</td>\n",
       "      <td>Not captured yet</td>\n",
       "      <td>NaN</td>\n",
       "      <td>NaN</td>\n",
       "      <td>NaN</td>\n",
       "      <td>NaN</td>\n",
       "      <td>NaN</td>\n",
       "      <td>NaT</td>\n",
       "      <td>-1</td>\n",
       "      <td>NaT</td>\n",
       "      <td>&lt;JIRA Watchers at 5061570768&gt;</td>\n",
       "      <td>2020-09-28 10:14:16+00:00</td>\n",
       "      <td>NaN</td>\n",
       "      <td>NaN</td>\n",
       "      <td>Major</td>\n",
       "      <td>Community</td>\n",
       "      <td>NaN</td>\n",
       "      <td>NaN</td>\n",
       "      <td>NaN</td>\n",
       "      <td>['trello:5f71b7467b498d57987bfe0a']</td>\n",
       "      <td>None</td>\n",
       "      <td>NaN</td>\n",
       "      <td>NaN</td>\n",
       "      <td>NaN</td>\n",
       "      <td>NaN</td>\n",
       "      <td>NaN</td>\n",
       "      <td>[]</td>\n",
       "      <td>[&lt;JIRA IssueLink: id='53803'&gt;]</td>\n",
       "      <td>Malena Ebert</td>\n",
       "      <td>2020-09-28 10:18:24+00:00</td>\n",
       "      <td>Open</td>\n",
       "      <td>[]</td>\n",
       "      <td>NaN</td>\n",
       "      <td>NaN</td>\n",
       "      <td>NaN</td>\n",
       "      <td>NaN</td>\n",
       "      <td>NaN</td>\n",
       "      <td>The goal of this task is to detect vulnerabili...</td>\n",
       "      <td>NaN</td>\n",
       "      <td>SonarQube</td>\n",
       "      <td>NaN</td>\n",
       "      <td>NaN</td>\n",
       "      <td>NaN</td>\n",
       "      <td>NaN</td>\n",
       "      <td>NaN</td>\n",
       "      <td>NaN</td>\n",
       "      <td>NaN</td>\n",
       "      <td>{}</td>\n",
       "      <td>NaN</td>\n",
       "      <td>NaN</td>\n",
       "      <td>Add OWASP Dependency Check task to Cirrus CI</td>\n",
       "      <td>Malena Ebert</td>\n",
       "      <td>[]</td>\n",
       "      <td>NaN</td>\n",
       "      <td>NaN</td>\n",
       "      <td>Malena Ebert</td>\n",
       "      <td>NaN</td>\n",
       "      <td>NaN</td>\n",
       "      <td>NaN</td>\n",
       "      <td>NaN</td>\n",
       "      <td>NaN</td>\n",
       "      <td>NaN</td>\n",
       "      <td>NaN</td>\n",
       "      <td>New</td>\n",
       "      <td>NaN</td>\n",
       "      <td>NaN</td>\n",
       "      <td>NaN</td>\n",
       "      <td>NaN</td>\n",
       "      <td></td>\n",
       "      <td>NaN</td>\n",
       "      <td>[]</td>\n",
       "      <td>NaT</td>\n",
       "      <td>0</td>\n",
       "      <td>3</td>\n",
       "      <td>Task</td>\n",
       "      <td>3</td>\n",
       "      <td>Major</td>\n",
       "      <td>malena.ebert</td>\n",
       "      <td>malena.ebert</td>\n",
       "      <td>malena.ebert</td>\n",
       "      <td>malena.ebert</td>\n",
       "      <td>malena.ebert</td>\n",
       "      <td>malena.ebert</td>\n",
       "      <td>1</td>\n",
       "      <td>Open</td>\n",
       "      <td>NaN</td>\n",
       "      <td>NaN</td>\n",
       "      <td>0</td>\n",
       "    </tr>\n",
       "    <tr>\n",
       "      <th>2</th>\n",
       "      <td>SONAR-13910</td>\n",
       "      <td>97864</td>\n",
       "      <td>Improvement</td>\n",
       "      <td>P3-Medium</td>\n",
       "      <td>0|i0dka7:</td>\n",
       "      <td>No root cause identified</td>\n",
       "      <td>NaN</td>\n",
       "      <td>SONAR</td>\n",
       "      <td>Not captured yet</td>\n",
       "      <td>NaN</td>\n",
       "      <td>[&lt;JIRA Version: name='8.5', id='16342'&gt;]</td>\n",
       "      <td>Not assessed yet</td>\n",
       "      <td>Not captured yet</td>\n",
       "      <td>NaN</td>\n",
       "      <td>NaN</td>\n",
       "      <td>NaN</td>\n",
       "      <td>No action plan</td>\n",
       "      <td>NaN</td>\n",
       "      <td>Not captured yet</td>\n",
       "      <td>NaN</td>\n",
       "      <td>NaN</td>\n",
       "      <td>Not captured yet</td>\n",
       "      <td>NaN</td>\n",
       "      <td>NaN</td>\n",
       "      <td>NaN</td>\n",
       "      <td>NaN</td>\n",
       "      <td>NaN</td>\n",
       "      <td>NaT</td>\n",
       "      <td>-1</td>\n",
       "      <td>NaT</td>\n",
       "      <td>&lt;JIRA Watchers at 5061573984&gt;</td>\n",
       "      <td>2020-09-28 09:56:03+00:00</td>\n",
       "      <td>NaN</td>\n",
       "      <td>NaN</td>\n",
       "      <td>Major</td>\n",
       "      <td>Developer</td>\n",
       "      <td>NaN</td>\n",
       "      <td>NaN</td>\n",
       "      <td>NaN</td>\n",
       "      <td>[]</td>\n",
       "      <td>None</td>\n",
       "      <td>NaN</td>\n",
       "      <td>NaN</td>\n",
       "      <td>NaN</td>\n",
       "      <td>NaN</td>\n",
       "      <td>NaN</td>\n",
       "      <td>[]</td>\n",
       "      <td>[]</td>\n",
       "      <td>Julien Lancelot</td>\n",
       "      <td>2020-09-28 19:33:18+00:00</td>\n",
       "      <td>In Review</td>\n",
       "      <td>[]</td>\n",
       "      <td>NaN</td>\n",
       "      <td>NaN</td>\n",
       "      <td>NaN</td>\n",
       "      <td>NaN</td>\n",
       "      <td>NaN</td>\n",
       "      <td>The changes are:\\r\\n * faster analysis for pro...</td>\n",
       "      <td>NaN</td>\n",
       "      <td>SonarQube</td>\n",
       "      <td>NaN</td>\n",
       "      <td>NaN</td>\n",
       "      <td>NaN</td>\n",
       "      <td>NaN</td>\n",
       "      <td>NaN</td>\n",
       "      <td>NaN</td>\n",
       "      <td>NaN</td>\n",
       "      <td>{}</td>\n",
       "      <td>NaN</td>\n",
       "      <td>NaN</td>\n",
       "      <td>C/C++/Objective-C analysis updates</td>\n",
       "      <td>Evgeny Mandrikov</td>\n",
       "      <td>[]</td>\n",
       "      <td>NaN</td>\n",
       "      <td>NaN</td>\n",
       "      <td>Evgeny Mandrikov</td>\n",
       "      <td>NaN</td>\n",
       "      <td>NaN</td>\n",
       "      <td>NaN</td>\n",
       "      <td>NaN</td>\n",
       "      <td>NaN</td>\n",
       "      <td>NaN</td>\n",
       "      <td>NaN</td>\n",
       "      <td>New</td>\n",
       "      <td>NaN</td>\n",
       "      <td>NaN</td>\n",
       "      <td>NaN</td>\n",
       "      <td>NaN</td>\n",
       "      <td></td>\n",
       "      <td>NaN</td>\n",
       "      <td>[]</td>\n",
       "      <td>2020-10-05 00:00:00+00:00</td>\n",
       "      <td>0</td>\n",
       "      <td>4</td>\n",
       "      <td>Improvement</td>\n",
       "      <td>3</td>\n",
       "      <td>Major</td>\n",
       "      <td>julien.lancelot</td>\n",
       "      <td>julien.lancelot</td>\n",
       "      <td>evgeny.mandrikov</td>\n",
       "      <td>evgeny.mandrikov</td>\n",
       "      <td>evgeny.mandrikov</td>\n",
       "      <td>evgeny.mandrikov</td>\n",
       "      <td>10002</td>\n",
       "      <td>In Review</td>\n",
       "      <td>NaN</td>\n",
       "      <td>NaN</td>\n",
       "      <td>0</td>\n",
       "    </tr>\n",
       "    <tr>\n",
       "      <th>3</th>\n",
       "      <td>SONAR-13909</td>\n",
       "      <td>97858</td>\n",
       "      <td>New Feature</td>\n",
       "      <td>P3-Medium</td>\n",
       "      <td>0|i0dk8v:</td>\n",
       "      <td>No root cause identified</td>\n",
       "      <td>NaN</td>\n",
       "      <td>SONAR</td>\n",
       "      <td>Not captured yet</td>\n",
       "      <td>NaN</td>\n",
       "      <td>[&lt;JIRA Version: name='8.5', id='16342'&gt;]</td>\n",
       "      <td>Not assessed yet</td>\n",
       "      <td>Not captured yet</td>\n",
       "      <td>NaN</td>\n",
       "      <td>NaN</td>\n",
       "      <td>NaN</td>\n",
       "      <td>No action plan</td>\n",
       "      <td>NaN</td>\n",
       "      <td>Not captured yet</td>\n",
       "      <td>NaN</td>\n",
       "      <td>NaN</td>\n",
       "      <td>Not captured yet</td>\n",
       "      <td>NaN</td>\n",
       "      <td>NaN</td>\n",
       "      <td>NaN</td>\n",
       "      <td>NaN</td>\n",
       "      <td>NaN</td>\n",
       "      <td>NaT</td>\n",
       "      <td>-1</td>\n",
       "      <td>NaT</td>\n",
       "      <td>&lt;JIRA Watchers at 5061573264&gt;</td>\n",
       "      <td>2020-09-28 09:20:49+00:00</td>\n",
       "      <td>NaN</td>\n",
       "      <td>NaN</td>\n",
       "      <td>Major</td>\n",
       "      <td>Community</td>\n",
       "      <td>NaN</td>\n",
       "      <td>NaN</td>\n",
       "      <td>NaN</td>\n",
       "      <td>[]</td>\n",
       "      <td>None</td>\n",
       "      <td>NaN</td>\n",
       "      <td>NaN</td>\n",
       "      <td>NaN</td>\n",
       "      <td>NaN</td>\n",
       "      <td>NaN</td>\n",
       "      <td>[]</td>\n",
       "      <td>[]</td>\n",
       "      <td>Julien Lancelot</td>\n",
       "      <td>2020-09-28 15:38:40+00:00</td>\n",
       "      <td>In Review</td>\n",
       "      <td>[]</td>\n",
       "      <td>NaN</td>\n",
       "      <td>NaN</td>\n",
       "      <td>NaN</td>\n",
       "      <td>NaN</td>\n",
       "      <td>NaN</td>\n",
       "      <td>The C# analysis now improves complexity rules ...</td>\n",
       "      <td>NaN</td>\n",
       "      <td>SonarQube</td>\n",
       "      <td>NaN</td>\n",
       "      <td>NaN</td>\n",
       "      <td>NaN</td>\n",
       "      <td>NaN</td>\n",
       "      <td>NaN</td>\n",
       "      <td>NaN</td>\n",
       "      <td>NaN</td>\n",
       "      <td>{}</td>\n",
       "      <td>NaN</td>\n",
       "      <td>NaN</td>\n",
       "      <td>C# and VB.NET analysis updates</td>\n",
       "      <td>Jeremy Davis</td>\n",
       "      <td>[]</td>\n",
       "      <td>NaN</td>\n",
       "      <td>NaN</td>\n",
       "      <td>Jeremy Davis</td>\n",
       "      <td>NaN</td>\n",
       "      <td>NaN</td>\n",
       "      <td>NaN</td>\n",
       "      <td>NaN</td>\n",
       "      <td>NaN</td>\n",
       "      <td>NaN</td>\n",
       "      <td>NaN</td>\n",
       "      <td>New</td>\n",
       "      <td>NaN</td>\n",
       "      <td>NaN</td>\n",
       "      <td>NaN</td>\n",
       "      <td>NaN</td>\n",
       "      <td></td>\n",
       "      <td>NaN</td>\n",
       "      <td>[]</td>\n",
       "      <td>2020-10-05 00:00:00+00:00</td>\n",
       "      <td>0</td>\n",
       "      <td>2</td>\n",
       "      <td>New Feature</td>\n",
       "      <td>3</td>\n",
       "      <td>Major</td>\n",
       "      <td>julien.lancelot</td>\n",
       "      <td>julien.lancelot</td>\n",
       "      <td>jeremy.davis</td>\n",
       "      <td>jeremy.davis</td>\n",
       "      <td>jeremy.davis</td>\n",
       "      <td>jeremy.davis</td>\n",
       "      <td>10002</td>\n",
       "      <td>In Review</td>\n",
       "      <td>NaN</td>\n",
       "      <td>NaN</td>\n",
       "      <td>0</td>\n",
       "    </tr>\n",
       "    <tr>\n",
       "      <th>4</th>\n",
       "      <td>SONAR-13907</td>\n",
       "      <td>97855</td>\n",
       "      <td>Improvement</td>\n",
       "      <td>P3-Medium</td>\n",
       "      <td>0|i0dk87:</td>\n",
       "      <td>No root cause identified</td>\n",
       "      <td>NaN</td>\n",
       "      <td>SONAR</td>\n",
       "      <td>Not captured yet</td>\n",
       "      <td>NaN</td>\n",
       "      <td>[&lt;JIRA Version: name='8.5', id='16342'&gt;]</td>\n",
       "      <td>Not assessed yet</td>\n",
       "      <td>Not captured yet</td>\n",
       "      <td>NaN</td>\n",
       "      <td>NaN</td>\n",
       "      <td>NaN</td>\n",
       "      <td>No action plan</td>\n",
       "      <td>NaN</td>\n",
       "      <td>Not captured yet</td>\n",
       "      <td>NaN</td>\n",
       "      <td>NaN</td>\n",
       "      <td>Not captured yet</td>\n",
       "      <td>NaN</td>\n",
       "      <td>NaN</td>\n",
       "      <td>NaN</td>\n",
       "      <td>NaN</td>\n",
       "      <td>NaN</td>\n",
       "      <td>NaT</td>\n",
       "      <td>-1</td>\n",
       "      <td>NaT</td>\n",
       "      <td>&lt;JIRA Watchers at 5061573936&gt;</td>\n",
       "      <td>2020-09-28 09:00:01+00:00</td>\n",
       "      <td>NaN</td>\n",
       "      <td>NaN</td>\n",
       "      <td>Major</td>\n",
       "      <td>Community</td>\n",
       "      <td>NaN</td>\n",
       "      <td>NaN</td>\n",
       "      <td>NaN</td>\n",
       "      <td>[]</td>\n",
       "      <td>None</td>\n",
       "      <td>NaN</td>\n",
       "      <td>NaN</td>\n",
       "      <td>NaN</td>\n",
       "      <td>NaN</td>\n",
       "      <td>NaN</td>\n",
       "      <td>[]</td>\n",
       "      <td>[]</td>\n",
       "      <td>Julien Lancelot</td>\n",
       "      <td>2020-09-28 20:02:41+00:00</td>\n",
       "      <td>In Review</td>\n",
       "      <td>[]</td>\n",
       "      <td>NaN</td>\n",
       "      <td>NaN</td>\n",
       "      <td>NaN</td>\n",
       "      <td>NaN</td>\n",
       "      <td>NaN</td>\n",
       "      <td>The changes are:\\r\\n* a new rule to detect XXE...</td>\n",
       "      <td>NaN</td>\n",
       "      <td>SonarQube</td>\n",
       "      <td>NaN</td>\n",
       "      <td>NaN</td>\n",
       "      <td>NaN</td>\n",
       "      <td>NaN</td>\n",
       "      <td>NaN</td>\n",
       "      <td>NaN</td>\n",
       "      <td>NaN</td>\n",
       "      <td>{}</td>\n",
       "      <td>NaN</td>\n",
       "      <td>NaN</td>\n",
       "      <td>JavaScript/TypeScript analysis updates</td>\n",
       "      <td>Jeremy Davis</td>\n",
       "      <td>[]</td>\n",
       "      <td>NaN</td>\n",
       "      <td>NaN</td>\n",
       "      <td>Jeremy Davis</td>\n",
       "      <td>NaN</td>\n",
       "      <td>NaN</td>\n",
       "      <td>NaN</td>\n",
       "      <td>NaN</td>\n",
       "      <td>NaN</td>\n",
       "      <td>NaN</td>\n",
       "      <td>NaN</td>\n",
       "      <td>New</td>\n",
       "      <td>NaN</td>\n",
       "      <td>NaN</td>\n",
       "      <td>NaN</td>\n",
       "      <td>NaN</td>\n",
       "      <td></td>\n",
       "      <td>NaN</td>\n",
       "      <td>[]</td>\n",
       "      <td>2020-10-05 00:00:00+00:00</td>\n",
       "      <td>0</td>\n",
       "      <td>4</td>\n",
       "      <td>Improvement</td>\n",
       "      <td>3</td>\n",
       "      <td>Major</td>\n",
       "      <td>julien.lancelot</td>\n",
       "      <td>julien.lancelot</td>\n",
       "      <td>jeremy.davis</td>\n",
       "      <td>jeremy.davis</td>\n",
       "      <td>jeremy.davis</td>\n",
       "      <td>jeremy.davis</td>\n",
       "      <td>10002</td>\n",
       "      <td>In Review</td>\n",
       "      <td>NaN</td>\n",
       "      <td>NaN</td>\n",
       "      <td>0</td>\n",
       "    </tr>\n",
       "  </tbody>\n",
       "</table>\n",
       "</div>"
      ],
      "text/plain": [
       "     issue_key  issue_id    issuetype customfield_12130 customfield_11041  \\\n",
       "0  SONAR-13913     97898         Task         P3-Medium         0|i0dkhb:   \n",
       "1  SONAR-13912     97868         Task         P3-Medium         0|i0dkav:   \n",
       "2  SONAR-13910     97864  Improvement         P3-Medium         0|i0dka7:   \n",
       "3  SONAR-13909     97858  New Feature         P3-Medium         0|i0dk8v:   \n",
       "4  SONAR-13907     97855  Improvement         P3-Medium         0|i0dk87:   \n",
       "\n",
       "          customfield_12132  customfield_12131 project customfield_12134  \\\n",
       "0  No root cause identified                NaN   SONAR  Not captured yet   \n",
       "1  No root cause identified                NaN   SONAR  Not captured yet   \n",
       "2  No root cause identified                NaN   SONAR  Not captured yet   \n",
       "3  No root cause identified                NaN   SONAR  Not captured yet   \n",
       "4  No root cause identified                NaN   SONAR  Not captured yet   \n",
       "\n",
       "   customfield_12530                               fixVersions  \\\n",
       "0                NaN                                        []   \n",
       "1                NaN                                        []   \n",
       "2                NaN  [<JIRA Version: name='8.5', id='16342'>]   \n",
       "3                NaN  [<JIRA Version: name='8.5', id='16342'>]   \n",
       "4                NaN  [<JIRA Version: name='8.5', id='16342'>]   \n",
       "\n",
       "  customfield_12133 customfield_12136  customfield_12532 resolution  \\\n",
       "0  Not assessed yet  Not captured yet                NaN        NaN   \n",
       "1  Not assessed yet  Not captured yet                NaN        NaN   \n",
       "2  Not assessed yet  Not captured yet                NaN        NaN   \n",
       "3  Not assessed yet  Not captured yet                NaN        NaN   \n",
       "4  Not assessed yet  Not captured yet                NaN        NaN   \n",
       "\n",
       "   customfield_10431 customfield_12135  customfield_12531 customfield_12138  \\\n",
       "0                NaN  No action plan                  NaN  Not captured yet   \n",
       "1                NaN  No action plan                  NaN  Not captured yet   \n",
       "2                NaN  No action plan                  NaN  Not captured yet   \n",
       "3                NaN  No action plan                  NaN  Not captured yet   \n",
       "4                NaN  No action plan                  NaN  Not captured yet   \n",
       "\n",
       "   customfield_10432  customfield_12534 customfield_12137  customfield_10433  \\\n",
       "0                NaN                NaN  Not captured yet                NaN   \n",
       "1                NaN                NaN  Not captured yet                NaN   \n",
       "2                NaN                NaN  Not captured yet                NaN   \n",
       "3                NaN                NaN  Not captured yet                NaN   \n",
       "4                NaN                NaN  Not captured yet                NaN   \n",
       "\n",
       "   customfield_12533  customfield_11832  customfield_11831  customfield_11833  \\\n",
       "0                NaN                NaN                NaN                NaN   \n",
       "1                NaN                NaN                NaN                NaN   \n",
       "2                NaN                NaN                NaN                NaN   \n",
       "3                NaN                NaN                NaN                NaN   \n",
       "4                NaN                NaN                NaN                NaN   \n",
       "\n",
       "  resolutiondate  workratio lastViewed                        watches  \\\n",
       "0            NaT         -1        NaT  <JIRA Watchers at 5060633888>   \n",
       "1            NaT         -1        NaT  <JIRA Watchers at 5061570768>   \n",
       "2            NaT         -1        NaT  <JIRA Watchers at 5061573984>   \n",
       "3            NaT         -1        NaT  <JIRA Watchers at 5061573264>   \n",
       "4            NaT         -1        NaT  <JIRA Watchers at 5061573936>   \n",
       "\n",
       "                    created  customfield_11032  customfield_11033 priority  \\\n",
       "0 2020-09-29 08:54:53+00:00                NaN                NaN    Major   \n",
       "1 2020-09-28 10:14:16+00:00                NaN                NaN    Major   \n",
       "2 2020-09-28 09:56:03+00:00                NaN                NaN    Major   \n",
       "3 2020-09-28 09:20:49+00:00                NaN                NaN    Major   \n",
       "4 2020-09-28 09:00:01+00:00                NaN                NaN    Major   \n",
       "\n",
       "     edition  customfield_11233  customfield_11036  customfield_11830  \\\n",
       "0  Community                NaN                NaN                NaN   \n",
       "1  Community                NaN                NaN                NaN   \n",
       "2  Developer                NaN                NaN                NaN   \n",
       "3  Community                NaN                NaN                NaN   \n",
       "4  Community                NaN                NaN                NaN   \n",
       "\n",
       "                                labels customfield_11631 customfield_11038  \\\n",
       "0                                   []              None               NaN   \n",
       "1  ['trello:5f71b7467b498d57987bfe0a']              None               NaN   \n",
       "2                                   []              None               NaN   \n",
       "3                                   []              None               NaN   \n",
       "4                                   []              None               NaN   \n",
       "\n",
       "  customfield_10930  customfield_11347 customfield_10931 customfield_10932  \\\n",
       "0               NaN                NaN               NaN               NaN   \n",
       "1               NaN                NaN               NaN               NaN   \n",
       "2               NaN                NaN               NaN               NaN   \n",
       "3               NaN                NaN               NaN               NaN   \n",
       "4               NaN                NaN               NaN               NaN   \n",
       "\n",
       "  versions                      issuelinks         assignee  \\\n",
       "0       []                              []              NaN   \n",
       "1       []  [<JIRA IssueLink: id='53803'>]     Malena Ebert   \n",
       "2       []                              []  Julien Lancelot   \n",
       "3       []                              []  Julien Lancelot   \n",
       "4       []                              []  Julien Lancelot   \n",
       "\n",
       "                    updated     status  \\\n",
       "0 2020-09-29 08:54:53+00:00       Open   \n",
       "1 2020-09-28 10:18:24+00:00       Open   \n",
       "2 2020-09-28 19:33:18+00:00  In Review   \n",
       "3 2020-09-28 15:38:40+00:00  In Review   \n",
       "4 2020-09-28 20:02:41+00:00  In Review   \n",
       "\n",
       "                                        components  customfield_12031  \\\n",
       "0  [<JIRA Component: name='Database', id='11077'>]                NaN   \n",
       "1                                               []                NaN   \n",
       "2                                               []                NaN   \n",
       "3                                               []                NaN   \n",
       "4                                               []                NaN   \n",
       "\n",
       "   customfield_11140  customfield_12030  customfield_12033  customfield_11141  \\\n",
       "0                NaN                NaN                NaN                NaN   \n",
       "1                NaN                NaN                NaN                NaN   \n",
       "2                NaN                NaN                NaN                NaN   \n",
       "3                NaN                NaN                NaN                NaN   \n",
       "4                NaN                NaN                NaN                NaN   \n",
       "\n",
       "                                         description  customfield_12032  \\\n",
       "0  - Remove org.sonar.server.platform.BackendClea...                NaN   \n",
       "1  The goal of this task is to detect vulnerabili...                NaN   \n",
       "2  The changes are:\\r\\n * faster analysis for pro...                NaN   \n",
       "3  The C# analysis now improves complexity rules ...                NaN   \n",
       "4  The changes are:\\r\\n* a new rule to detect XXE...                NaN   \n",
       "\n",
       "  customfield_12034 customfield_12430  customfield_11344  customfield_11343  \\\n",
       "0         SonarQube               NaN                NaN                NaN   \n",
       "1         SonarQube               NaN                NaN                NaN   \n",
       "2         SonarQube               NaN                NaN                NaN   \n",
       "3         SonarQube               NaN                NaN                NaN   \n",
       "4         SonarQube               NaN                NaN                NaN   \n",
       "\n",
       "   customfield_10530  customfield_11345  customfield_10730  customfield_11337  \\\n",
       "0                NaN                NaN                NaN                NaN   \n",
       "1                NaN                NaN                NaN                NaN   \n",
       "2                NaN                NaN                NaN                NaN   \n",
       "3                NaN                NaN                NaN                NaN   \n",
       "4                NaN                NaN                NaN                NaN   \n",
       "\n",
       "  customfield_11930  customfield_11139  customfield_11338  \\\n",
       "0                {}                NaN                NaN   \n",
       "1                {}                NaN                NaN   \n",
       "2                {}                NaN                NaN   \n",
       "3                {}                NaN                NaN   \n",
       "4                {}                NaN                NaN   \n",
       "\n",
       "                                           summary           creator subtasks  \\\n",
       "0  Remove table clean up used in Integration Tests   Julien Lancelot       []   \n",
       "1     Add OWASP Dependency Check task to Cirrus CI      Malena Ebert       []   \n",
       "2               C/C++/Objective-C analysis updates  Evgeny Mandrikov       []   \n",
       "3                   C# and VB.NET analysis updates      Jeremy Davis       []   \n",
       "4           JavaScript/TypeScript analysis updates      Jeremy Davis       []   \n",
       "\n",
       "   customfield_11130  customfield_11131          reporter  customfield_11132  \\\n",
       "0                NaN                NaN   Julien Lancelot                NaN   \n",
       "1                NaN                NaN      Malena Ebert                NaN   \n",
       "2                NaN                NaN  Evgeny Mandrikov                NaN   \n",
       "3                NaN                NaN      Jeremy Davis                NaN   \n",
       "4                NaN                NaN      Jeremy Davis                NaN   \n",
       "\n",
       "   customfield_11133  customfield_10243  customfield_11335  customfield_11334  \\\n",
       "0                NaN                NaN                NaN                NaN   \n",
       "1                NaN                NaN                NaN                NaN   \n",
       "2                NaN                NaN                NaN                NaN   \n",
       "3                NaN                NaN                NaN                NaN   \n",
       "4                NaN                NaN                NaN                NaN   \n",
       "\n",
       "  customfield_11730  customfield_10434 customfield_12536  customfield_12535  \\\n",
       "0               NaN                NaN               New                NaN   \n",
       "1               NaN                NaN               New                NaN   \n",
       "2               NaN                NaN               New                NaN   \n",
       "3               NaN                NaN               New                NaN   \n",
       "4               NaN                NaN               New                NaN   \n",
       "\n",
       "   customfield_12139 environment  customfield_12538 customfield_10437  \\\n",
       "0                NaN         NaN                NaN                     \n",
       "1                NaN         NaN                NaN                     \n",
       "2                NaN         NaN                NaN                     \n",
       "3                NaN         NaN                NaN                     \n",
       "4                NaN         NaN                NaN                     \n",
       "\n",
       "   customfield_12537 customfield_10438                   duedate  votes  \\\n",
       "0                NaN                []                       NaT      0   \n",
       "1                NaN                []                       NaT      0   \n",
       "2                NaN                [] 2020-10-05 00:00:00+00:00      0   \n",
       "3                NaN                [] 2020-10-05 00:00:00+00:00      0   \n",
       "4                NaN                [] 2020-10-05 00:00:00+00:00      0   \n",
       "\n",
       "   issuetype_id issuetype_name  priority_id priority_name     assignee_key  \\\n",
       "0             3           Task            3         Major              NaN   \n",
       "1             3           Task            3         Major     malena.ebert   \n",
       "2             4    Improvement            3         Major  julien.lancelot   \n",
       "3             2    New Feature            3         Major  julien.lancelot   \n",
       "4             4    Improvement            3         Major  julien.lancelot   \n",
       "\n",
       "     assignee_name      reporter_key     reporter_name       creator_key  \\\n",
       "0              NaN   julien.lancelot   julien.lancelot   julien.lancelot   \n",
       "1     malena.ebert      malena.ebert      malena.ebert      malena.ebert   \n",
       "2  julien.lancelot  evgeny.mandrikov  evgeny.mandrikov  evgeny.mandrikov   \n",
       "3  julien.lancelot      jeremy.davis      jeremy.davis      jeremy.davis   \n",
       "4  julien.lancelot      jeremy.davis      jeremy.davis      jeremy.davis   \n",
       "\n",
       "       creator_name  status_id status_name  resolution_id resolution_name  \\\n",
       "0   julien.lancelot          1        Open            NaN             NaN   \n",
       "1      malena.ebert          1        Open            NaN             NaN   \n",
       "2  evgeny.mandrikov      10002   In Review            NaN             NaN   \n",
       "3      jeremy.davis      10002   In Review            NaN             NaN   \n",
       "4      jeremy.davis      10002   In Review            NaN             NaN   \n",
       "\n",
       "   votes_votes  \n",
       "0            0  \n",
       "1            0  \n",
       "2            0  \n",
       "3            0  \n",
       "4            0  "
      ]
     },
     "execution_count": 4,
     "metadata": {},
     "output_type": "execute_result"
    }
   ],
   "source": [
    "issues = pd.read_csv(f\"{csv_folder}/issues.csv\", index_col=0)\n",
    "for date_field in [\"created\", \"duedate\", \"lastViewed\", \"resolutiondate\", \"updated\"]:\n",
    "    issues[date_field] = pd.to_datetime(issues[date_field], errors=\"coerce\")\n",
    "issues = issues[issues.created > '2015-03-17 15:04:32+0000']\n",
    "issues.head()"
   ]
  },
  {
   "cell_type": "markdown",
   "metadata": {},
   "source": [
    "We filter only issues in the timeframe in which the project was using TravisCI"
   ]
  },
  {
   "cell_type": "markdown",
   "metadata": {},
   "source": [
    "### Import versions"
   ]
  },
  {
   "cell_type": "code",
   "execution_count": 5,
   "metadata": {
    "scrolled": false
   },
   "outputs": [
    {
     "data": {
      "text/html": [
       "<div>\n",
       "<style scoped>\n",
       "    .dataframe tbody tr th:only-of-type {\n",
       "        vertical-align: middle;\n",
       "    }\n",
       "\n",
       "    .dataframe tbody tr th {\n",
       "        vertical-align: top;\n",
       "    }\n",
       "\n",
       "    .dataframe thead th {\n",
       "        text-align: right;\n",
       "    }\n",
       "</style>\n",
       "<table border=\"1\" class=\"dataframe\">\n",
       "  <thead>\n",
       "    <tr style=\"text-align: right;\">\n",
       "      <th></th>\n",
       "      <th>issue_id</th>\n",
       "      <th>version_name</th>\n",
       "      <th>version_id</th>\n",
       "    </tr>\n",
       "  </thead>\n",
       "  <tbody>\n",
       "    <tr>\n",
       "      <th>0</th>\n",
       "      <td>97777</td>\n",
       "      <td>8.4.2</td>\n",
       "      <td>16404</td>\n",
       "    </tr>\n",
       "    <tr>\n",
       "      <th>1</th>\n",
       "      <td>97773</td>\n",
       "      <td>8.4.2</td>\n",
       "      <td>16404</td>\n",
       "    </tr>\n",
       "    <tr>\n",
       "      <th>2</th>\n",
       "      <td>97525</td>\n",
       "      <td>8.4.2</td>\n",
       "      <td>16404</td>\n",
       "    </tr>\n",
       "    <tr>\n",
       "      <th>3</th>\n",
       "      <td>97521</td>\n",
       "      <td>8.4</td>\n",
       "      <td>15833</td>\n",
       "    </tr>\n",
       "    <tr>\n",
       "      <th>4</th>\n",
       "      <td>97347</td>\n",
       "      <td>8.4.2</td>\n",
       "      <td>16404</td>\n",
       "    </tr>\n",
       "  </tbody>\n",
       "</table>\n",
       "</div>"
      ],
      "text/plain": [
       "   issue_id version_name  version_id\n",
       "0     97777        8.4.2       16404\n",
       "1     97773        8.4.2       16404\n",
       "2     97525        8.4.2       16404\n",
       "3     97521          8.4       15833\n",
       "4     97347        8.4.2       16404"
      ]
     },
     "execution_count": 5,
     "metadata": {},
     "output_type": "execute_result"
    }
   ],
   "source": [
    "versions = pd.read_csv(f\"{csv_folder}/issues_versions.csv\", index_col=0)\n",
    "versions.head()"
   ]
  },
  {
   "cell_type": "markdown",
   "metadata": {},
   "source": [
    "### Import fixVersions"
   ]
  },
  {
   "cell_type": "code",
   "execution_count": 6,
   "metadata": {},
   "outputs": [
    {
     "data": {
      "text/html": [
       "<div>\n",
       "<style scoped>\n",
       "    .dataframe tbody tr th:only-of-type {\n",
       "        vertical-align: middle;\n",
       "    }\n",
       "\n",
       "    .dataframe tbody tr th {\n",
       "        vertical-align: top;\n",
       "    }\n",
       "\n",
       "    .dataframe thead th {\n",
       "        text-align: right;\n",
       "    }\n",
       "</style>\n",
       "<table border=\"1\" class=\"dataframe\">\n",
       "  <thead>\n",
       "    <tr style=\"text-align: right;\">\n",
       "      <th></th>\n",
       "      <th>issue_id</th>\n",
       "      <th>fixVersion_name</th>\n",
       "      <th>fixVersion_id</th>\n",
       "    </tr>\n",
       "  </thead>\n",
       "  <tbody>\n",
       "    <tr>\n",
       "      <th>0</th>\n",
       "      <td>97864</td>\n",
       "      <td>8.5</td>\n",
       "      <td>16342</td>\n",
       "    </tr>\n",
       "    <tr>\n",
       "      <th>1</th>\n",
       "      <td>97858</td>\n",
       "      <td>8.5</td>\n",
       "      <td>16342</td>\n",
       "    </tr>\n",
       "    <tr>\n",
       "      <th>2</th>\n",
       "      <td>97855</td>\n",
       "      <td>8.5</td>\n",
       "      <td>16342</td>\n",
       "    </tr>\n",
       "    <tr>\n",
       "      <th>3</th>\n",
       "      <td>97786</td>\n",
       "      <td>8.6</td>\n",
       "      <td>16435</td>\n",
       "    </tr>\n",
       "    <tr>\n",
       "      <th>4</th>\n",
       "      <td>97773</td>\n",
       "      <td>8.5</td>\n",
       "      <td>16342</td>\n",
       "    </tr>\n",
       "  </tbody>\n",
       "</table>\n",
       "</div>"
      ],
      "text/plain": [
       "   issue_id fixVersion_name  fixVersion_id\n",
       "0     97864             8.5          16342\n",
       "1     97858             8.5          16342\n",
       "2     97855             8.5          16342\n",
       "3     97786             8.6          16435\n",
       "4     97773             8.5          16342"
      ]
     },
     "execution_count": 6,
     "metadata": {},
     "output_type": "execute_result"
    }
   ],
   "source": [
    "fixversions = pd.read_csv(f\"{csv_folder}/issues_fixversions.csv\", index_col=0)\n",
    "fixversions.head(5)"
   ]
  },
  {
   "cell_type": "markdown",
   "metadata": {},
   "source": [
    "### Import labels"
   ]
  },
  {
   "cell_type": "code",
   "execution_count": 7,
   "metadata": {
    "scrolled": true
   },
   "outputs": [
    {
     "data": {
      "text/html": [
       "<div>\n",
       "<style scoped>\n",
       "    .dataframe tbody tr th:only-of-type {\n",
       "        vertical-align: middle;\n",
       "    }\n",
       "\n",
       "    .dataframe tbody tr th {\n",
       "        vertical-align: top;\n",
       "    }\n",
       "\n",
       "    .dataframe thead th {\n",
       "        text-align: right;\n",
       "    }\n",
       "</style>\n",
       "<table border=\"1\" class=\"dataframe\">\n",
       "  <thead>\n",
       "    <tr style=\"text-align: right;\">\n",
       "      <th></th>\n",
       "      <th>issue_id</th>\n",
       "      <th>label</th>\n",
       "    </tr>\n",
       "  </thead>\n",
       "  <tbody>\n",
       "    <tr>\n",
       "      <th>0</th>\n",
       "      <td>98118</td>\n",
       "      <td>compute_engine</td>\n",
       "    </tr>\n",
       "    <tr>\n",
       "      <th>1</th>\n",
       "      <td>98118</td>\n",
       "      <td>governance</td>\n",
       "    </tr>\n",
       "    <tr>\n",
       "      <th>2</th>\n",
       "      <td>98118</td>\n",
       "      <td>web_api</td>\n",
       "    </tr>\n",
       "    <tr>\n",
       "      <th>3</th>\n",
       "      <td>98084</td>\n",
       "      <td>hardening</td>\n",
       "    </tr>\n",
       "    <tr>\n",
       "      <th>4</th>\n",
       "      <td>98084</td>\n",
       "      <td>usability-testing-findings</td>\n",
       "    </tr>\n",
       "  </tbody>\n",
       "</table>\n",
       "</div>"
      ],
      "text/plain": [
       "   issue_id                       label\n",
       "0     98118              compute_engine\n",
       "1     98118                  governance\n",
       "2     98118                     web_api\n",
       "3     98084                   hardening\n",
       "4     98084  usability-testing-findings"
      ]
     },
     "execution_count": 7,
     "metadata": {},
     "output_type": "execute_result"
    }
   ],
   "source": [
    "labels = pd.read_csv(f\"{csv_folder}/issues_labels.csv\", index_col=0)\n",
    "labels.head()"
   ]
  },
  {
   "cell_type": "markdown",
   "metadata": {},
   "source": [
    "### Import components"
   ]
  },
  {
   "cell_type": "code",
   "execution_count": 8,
   "metadata": {},
   "outputs": [
    {
     "data": {
      "text/html": [
       "<div>\n",
       "<style scoped>\n",
       "    .dataframe tbody tr th:only-of-type {\n",
       "        vertical-align: middle;\n",
       "    }\n",
       "\n",
       "    .dataframe tbody tr th {\n",
       "        vertical-align: top;\n",
       "    }\n",
       "\n",
       "    .dataframe thead th {\n",
       "        text-align: right;\n",
       "    }\n",
       "</style>\n",
       "<table border=\"1\" class=\"dataframe\">\n",
       "  <thead>\n",
       "    <tr style=\"text-align: right;\">\n",
       "      <th></th>\n",
       "      <th>issue_id</th>\n",
       "      <th>component_name</th>\n",
       "      <th>component_id</th>\n",
       "    </tr>\n",
       "  </thead>\n",
       "  <tbody>\n",
       "    <tr>\n",
       "      <th>0</th>\n",
       "      <td>98308</td>\n",
       "      <td>Database</td>\n",
       "      <td>11077</td>\n",
       "    </tr>\n",
       "    <tr>\n",
       "      <th>1</th>\n",
       "      <td>98294</td>\n",
       "      <td>Branch &amp; PR</td>\n",
       "      <td>11094</td>\n",
       "    </tr>\n",
       "    <tr>\n",
       "      <th>2</th>\n",
       "      <td>98268</td>\n",
       "      <td>Scanner</td>\n",
       "      <td>11105</td>\n",
       "    </tr>\n",
       "    <tr>\n",
       "      <th>3</th>\n",
       "      <td>98244</td>\n",
       "      <td>ElasticSearch</td>\n",
       "      <td>11119</td>\n",
       "    </tr>\n",
       "    <tr>\n",
       "      <th>4</th>\n",
       "      <td>98244</td>\n",
       "      <td>Web API</td>\n",
       "      <td>11100</td>\n",
       "    </tr>\n",
       "  </tbody>\n",
       "</table>\n",
       "</div>"
      ],
      "text/plain": [
       "   issue_id component_name  component_id\n",
       "0     98308       Database         11077\n",
       "1     98294    Branch & PR         11094\n",
       "2     98268        Scanner         11105\n",
       "3     98244  ElasticSearch         11119\n",
       "4     98244        Web API         11100"
      ]
     },
     "execution_count": 8,
     "metadata": {},
     "output_type": "execute_result"
    }
   ],
   "source": [
    "components = pd.read_csv(f\"{csv_folder}/issues_components.csv\", index_col=0)\n",
    "components.head()"
   ]
  },
  {
   "cell_type": "markdown",
   "metadata": {},
   "source": [
    "### Import subtasks"
   ]
  },
  {
   "cell_type": "code",
   "execution_count": 9,
   "metadata": {},
   "outputs": [
    {
     "data": {
      "text/html": [
       "<div>\n",
       "<style scoped>\n",
       "    .dataframe tbody tr th:only-of-type {\n",
       "        vertical-align: middle;\n",
       "    }\n",
       "\n",
       "    .dataframe tbody tr th {\n",
       "        vertical-align: top;\n",
       "    }\n",
       "\n",
       "    .dataframe thead th {\n",
       "        text-align: right;\n",
       "    }\n",
       "</style>\n",
       "<table border=\"1\" class=\"dataframe\">\n",
       "  <thead>\n",
       "    <tr style=\"text-align: right;\">\n",
       "      <th></th>\n",
       "      <th>issue_id</th>\n",
       "      <th>subtask_key</th>\n",
       "      <th>subtask_id</th>\n",
       "    </tr>\n",
       "  </thead>\n",
       "  <tbody>\n",
       "    <tr>\n",
       "      <th>0</th>\n",
       "      <td>97393</td>\n",
       "      <td>SONAR-13858</td>\n",
       "      <td>97372</td>\n",
       "    </tr>\n",
       "    <tr>\n",
       "      <th>1</th>\n",
       "      <td>97393</td>\n",
       "      <td>SONAR-13868</td>\n",
       "      <td>97394</td>\n",
       "    </tr>\n",
       "    <tr>\n",
       "      <th>2</th>\n",
       "      <td>97387</td>\n",
       "      <td>SONAR-13863</td>\n",
       "      <td>97388</td>\n",
       "    </tr>\n",
       "    <tr>\n",
       "      <th>3</th>\n",
       "      <td>97387</td>\n",
       "      <td>SONAR-13864</td>\n",
       "      <td>97389</td>\n",
       "    </tr>\n",
       "    <tr>\n",
       "      <th>4</th>\n",
       "      <td>97387</td>\n",
       "      <td>SONAR-13865</td>\n",
       "      <td>97390</td>\n",
       "    </tr>\n",
       "  </tbody>\n",
       "</table>\n",
       "</div>"
      ],
      "text/plain": [
       "   issue_id  subtask_key  subtask_id\n",
       "0     97393  SONAR-13858       97372\n",
       "1     97393  SONAR-13868       97394\n",
       "2     97387  SONAR-13863       97388\n",
       "3     97387  SONAR-13864       97389\n",
       "4     97387  SONAR-13865       97390"
      ]
     },
     "execution_count": 9,
     "metadata": {},
     "output_type": "execute_result"
    }
   ],
   "source": [
    "substaks = pd.read_csv(f\"{csv_folder}/issues_subtasks.csv\", index_col=0)\n",
    "substaks.head()"
   ]
  },
  {
   "cell_type": "markdown",
   "metadata": {},
   "source": [
    "## Analysis"
   ]
  },
  {
   "cell_type": "markdown",
   "metadata": {},
   "source": [
    "### Shape"
   ]
  },
  {
   "cell_type": "code",
   "execution_count": 10,
   "metadata": {},
   "outputs": [
    {
     "data": {
      "text/plain": [
       "(5779, 108)"
      ]
     },
     "execution_count": 10,
     "metadata": {},
     "output_type": "execute_result"
    }
   ],
   "source": [
    "issues.shape"
   ]
  },
  {
   "cell_type": "code",
   "execution_count": 11,
   "metadata": {},
   "outputs": [
    {
     "data": {
      "text/plain": [
       "(8519, 3)"
      ]
     },
     "execution_count": 11,
     "metadata": {},
     "output_type": "execute_result"
    }
   ],
   "source": [
    "fixversions.shape"
   ]
  },
  {
   "cell_type": "code",
   "execution_count": 12,
   "metadata": {},
   "outputs": [
    {
     "data": {
      "text/plain": [
       "(3335, 3)"
      ]
     },
     "execution_count": 12,
     "metadata": {},
     "output_type": "execute_result"
    }
   ],
   "source": [
    "versions.shape"
   ]
  },
  {
   "cell_type": "code",
   "execution_count": 13,
   "metadata": {},
   "outputs": [
    {
     "data": {
      "text/plain": [
       "(2983, 2)"
      ]
     },
     "execution_count": 13,
     "metadata": {},
     "output_type": "execute_result"
    }
   ],
   "source": [
    "labels.shape"
   ]
  },
  {
   "cell_type": "code",
   "execution_count": 14,
   "metadata": {},
   "outputs": [
    {
     "data": {
      "text/plain": [
       "(851, 3)"
      ]
     },
     "execution_count": 14,
     "metadata": {},
     "output_type": "execute_result"
    }
   ],
   "source": [
    "substaks.shape"
   ]
  },
  {
   "cell_type": "markdown",
   "metadata": {},
   "source": [
    "### Columns"
   ]
  },
  {
   "cell_type": "code",
   "execution_count": 15,
   "metadata": {},
   "outputs": [
    {
     "data": {
      "text/plain": [
       "Index(['issue_key', 'issue_id', 'issuetype', 'customfield_12130',\n",
       "       'customfield_11041', 'customfield_12132', 'customfield_12131',\n",
       "       'project', 'customfield_12134', 'customfield_12530',\n",
       "       ...\n",
       "       'assignee_name', 'reporter_key', 'reporter_name', 'creator_key',\n",
       "       'creator_name', 'status_id', 'status_name', 'resolution_id',\n",
       "       'resolution_name', 'votes_votes'],\n",
       "      dtype='object', length=108)"
      ]
     },
     "execution_count": 15,
     "metadata": {},
     "output_type": "execute_result"
    }
   ],
   "source": [
    "issues.columns"
   ]
  },
  {
   "cell_type": "code",
   "execution_count": 16,
   "metadata": {},
   "outputs": [
    {
     "data": {
      "text/plain": [
       "Index(['issue_id', 'version_name', 'version_id'], dtype='object')"
      ]
     },
     "execution_count": 16,
     "metadata": {},
     "output_type": "execute_result"
    }
   ],
   "source": [
    "versions.columns"
   ]
  },
  {
   "cell_type": "code",
   "execution_count": 17,
   "metadata": {},
   "outputs": [
    {
     "data": {
      "text/plain": [
       "Index(['issue_id', 'fixVersion_name', 'fixVersion_id'], dtype='object')"
      ]
     },
     "execution_count": 17,
     "metadata": {},
     "output_type": "execute_result"
    }
   ],
   "source": [
    "fixversions.columns"
   ]
  },
  {
   "cell_type": "code",
   "execution_count": 18,
   "metadata": {},
   "outputs": [
    {
     "data": {
      "text/plain": [
       "Index(['issue_id', 'label'], dtype='object')"
      ]
     },
     "execution_count": 18,
     "metadata": {},
     "output_type": "execute_result"
    }
   ],
   "source": [
    "labels.columns"
   ]
  },
  {
   "cell_type": "code",
   "execution_count": 19,
   "metadata": {},
   "outputs": [
    {
     "data": {
      "text/plain": [
       "Index(['issue_id', 'subtask_key', 'subtask_id'], dtype='object')"
      ]
     },
     "execution_count": 19,
     "metadata": {},
     "output_type": "execute_result"
    }
   ],
   "source": [
    "substaks.columns"
   ]
  },
  {
   "cell_type": "markdown",
   "metadata": {},
   "source": [
    "We have four datasets, related to each other via the primary key \"issue_id\". They represent different aspects of the Jira issues and will therefore analyzed in combination."
   ]
  },
  {
   "cell_type": "markdown",
   "metadata": {},
   "source": [
    "### Preliminary analysis of issue fields\n",
    "We analyse the fields with no clear name or description in order to decide whether to keep them or exclude them from the analysis."
   ]
  },
  {
   "cell_type": "code",
   "execution_count": 20,
   "metadata": {},
   "outputs": [
    {
     "data": {
      "text/plain": [
       "65"
      ]
     },
     "execution_count": 20,
     "metadata": {},
     "output_type": "execute_result"
    }
   ],
   "source": [
    "customfields = [col for col in issues.columns if col.startswith(\"customfield\")]\n",
    "len(customfields)"
   ]
  },
  {
   "cell_type": "markdown",
   "metadata": {},
   "source": [
    "There are 65 customfields for which are not Jira default fields and have been defined by the project admins. We do not have descriptions for them. We let pandas describe them and manually select the ones which appear to possibly be useful to our analysis"
   ]
  },
  {
   "cell_type": "code",
   "execution_count": 21,
   "metadata": {},
   "outputs": [
    {
     "data": {
      "text/html": [
       "<div>\n",
       "<style scoped>\n",
       "    .dataframe tbody tr th:only-of-type {\n",
       "        vertical-align: middle;\n",
       "    }\n",
       "\n",
       "    .dataframe tbody tr th {\n",
       "        vertical-align: top;\n",
       "    }\n",
       "\n",
       "    .dataframe thead th {\n",
       "        text-align: right;\n",
       "    }\n",
       "</style>\n",
       "<table border=\"1\" class=\"dataframe\">\n",
       "  <thead>\n",
       "    <tr style=\"text-align: right;\">\n",
       "      <th></th>\n",
       "      <th>customfield_12130</th>\n",
       "      <th>customfield_11041</th>\n",
       "      <th>customfield_12132</th>\n",
       "      <th>customfield_12134</th>\n",
       "      <th>customfield_12133</th>\n",
       "      <th>customfield_12136</th>\n",
       "      <th>customfield_12135</th>\n",
       "      <th>customfield_12138</th>\n",
       "      <th>customfield_12137</th>\n",
       "      <th>customfield_11631</th>\n",
       "      <th>customfield_11038</th>\n",
       "      <th>customfield_10930</th>\n",
       "      <th>customfield_10931</th>\n",
       "      <th>customfield_10932</th>\n",
       "      <th>customfield_12034</th>\n",
       "      <th>customfield_12430</th>\n",
       "      <th>customfield_11930</th>\n",
       "      <th>customfield_11730</th>\n",
       "      <th>customfield_12536</th>\n",
       "      <th>customfield_10437</th>\n",
       "      <th>customfield_10438</th>\n",
       "    </tr>\n",
       "  </thead>\n",
       "  <tbody>\n",
       "    <tr>\n",
       "      <th>count</th>\n",
       "      <td>899</td>\n",
       "      <td>5779</td>\n",
       "      <td>899</td>\n",
       "      <td>899</td>\n",
       "      <td>899</td>\n",
       "      <td>899</td>\n",
       "      <td>899</td>\n",
       "      <td>899</td>\n",
       "      <td>899</td>\n",
       "      <td>2005</td>\n",
       "      <td>2</td>\n",
       "      <td>0</td>\n",
       "      <td>0</td>\n",
       "      <td>0</td>\n",
       "      <td>1058</td>\n",
       "      <td>1</td>\n",
       "      <td>5779</td>\n",
       "      <td>108</td>\n",
       "      <td>99</td>\n",
       "      <td>5523</td>\n",
       "      <td>5779</td>\n",
       "    </tr>\n",
       "    <tr>\n",
       "      <th>unique</th>\n",
       "      <td>1</td>\n",
       "      <td>5779</td>\n",
       "      <td>1</td>\n",
       "      <td>1</td>\n",
       "      <td>1</td>\n",
       "      <td>1</td>\n",
       "      <td>1</td>\n",
       "      <td>1</td>\n",
       "      <td>1</td>\n",
       "      <td>35</td>\n",
       "      <td>2</td>\n",
       "      <td>0</td>\n",
       "      <td>0</td>\n",
       "      <td>0</td>\n",
       "      <td>1</td>\n",
       "      <td>1</td>\n",
       "      <td>1</td>\n",
       "      <td>3</td>\n",
       "      <td>1</td>\n",
       "      <td>3</td>\n",
       "      <td>1</td>\n",
       "    </tr>\n",
       "    <tr>\n",
       "      <th>top</th>\n",
       "      <td>P3-Medium</td>\n",
       "      <td>0|i0brfz:</td>\n",
       "      <td>No root cause identified</td>\n",
       "      <td>Not captured yet</td>\n",
       "      <td>Not assessed yet</td>\n",
       "      <td>Not captured yet</td>\n",
       "      <td>No action plan</td>\n",
       "      <td>Not captured yet</td>\n",
       "      <td>Not captured yet</td>\n",
       "      <td>None</td>\n",
       "      <td>MMF-29</td>\n",
       "      <td>NaN</td>\n",
       "      <td>NaN</td>\n",
       "      <td>NaN</td>\n",
       "      <td>SonarQube</td>\n",
       "      <td>https://sonarsource.productboard.com/feature-b...</td>\n",
       "      <td>{}</td>\n",
       "      <td>Minutes</td>\n",
       "      <td>New</td>\n",
       "      <td></td>\n",
       "      <td>[]</td>\n",
       "    </tr>\n",
       "    <tr>\n",
       "      <th>freq</th>\n",
       "      <td>899</td>\n",
       "      <td>1</td>\n",
       "      <td>899</td>\n",
       "      <td>899</td>\n",
       "      <td>899</td>\n",
       "      <td>899</td>\n",
       "      <td>899</td>\n",
       "      <td>899</td>\n",
       "      <td>899</td>\n",
       "      <td>1971</td>\n",
       "      <td>1</td>\n",
       "      <td>NaN</td>\n",
       "      <td>NaN</td>\n",
       "      <td>NaN</td>\n",
       "      <td>1058</td>\n",
       "      <td>1</td>\n",
       "      <td>5779</td>\n",
       "      <td>57</td>\n",
       "      <td>99</td>\n",
       "      <td>4986</td>\n",
       "      <td>5779</td>\n",
       "    </tr>\n",
       "  </tbody>\n",
       "</table>\n",
       "</div>"
      ],
      "text/plain": [
       "       customfield_12130 customfield_11041         customfield_12132  \\\n",
       "count                899              5779                       899   \n",
       "unique                 1              5779                         1   \n",
       "top            P3-Medium         0|i0brfz:  No root cause identified   \n",
       "freq                 899                 1                       899   \n",
       "\n",
       "       customfield_12134 customfield_12133 customfield_12136  \\\n",
       "count                899               899               899   \n",
       "unique                 1                 1                 1   \n",
       "top     Not captured yet  Not assessed yet  Not captured yet   \n",
       "freq                 899               899               899   \n",
       "\n",
       "       customfield_12135 customfield_12138 customfield_12137  \\\n",
       "count                899               899               899   \n",
       "unique                 1                 1                 1   \n",
       "top     No action plan    Not captured yet  Not captured yet   \n",
       "freq                 899               899               899   \n",
       "\n",
       "       customfield_11631 customfield_11038 customfield_10930  \\\n",
       "count               2005                 2                 0   \n",
       "unique                35                 2                 0   \n",
       "top                 None            MMF-29               NaN   \n",
       "freq                1971                 1               NaN   \n",
       "\n",
       "       customfield_10931 customfield_10932 customfield_12034  \\\n",
       "count                  0                 0              1058   \n",
       "unique                 0                 0                 1   \n",
       "top                  NaN               NaN         SonarQube   \n",
       "freq                 NaN               NaN              1058   \n",
       "\n",
       "                                        customfield_12430 customfield_11930  \\\n",
       "count                                                   1              5779   \n",
       "unique                                                  1                 1   \n",
       "top     https://sonarsource.productboard.com/feature-b...                {}   \n",
       "freq                                                    1              5779   \n",
       "\n",
       "       customfield_11730 customfield_12536 customfield_10437 customfield_10438  \n",
       "count                108                99              5523              5779  \n",
       "unique                 3                 1                 3                 1  \n",
       "top              Minutes               New                                  []  \n",
       "freq                  57                99              4986              5779  "
      ]
     },
     "execution_count": 21,
     "metadata": {},
     "output_type": "execute_result"
    }
   ],
   "source": [
    "issues[customfields].describe(include = ['O'])"
   ]
  },
  {
   "cell_type": "markdown",
   "metadata": {},
   "source": [
    "We selected the ones which have more than only one unique value.\n",
    "We selected the ones which have less unique values than all issues (otherwise it acts like a not informative id).\n",
    "We further list their values here:"
   ]
  },
  {
   "cell_type": "code",
   "execution_count": 22,
   "metadata": {},
   "outputs": [
    {
     "data": {
      "text/plain": [
       "Series([], Name: customfield_10930, dtype: int64)"
      ]
     },
     "execution_count": 22,
     "metadata": {},
     "output_type": "execute_result"
    }
   ],
   "source": [
    "issues.customfield_10930.value_counts().head(10)"
   ]
  },
  {
   "cell_type": "code",
   "execution_count": 23,
   "metadata": {},
   "outputs": [
    {
     "data": {
      "text/plain": [
       "         4986\n",
       "< 4.5     536\n",
       "5.6         1\n",
       "Name: customfield_10437, dtype: int64"
      ]
     },
     "execution_count": 23,
     "metadata": {},
     "output_type": "execute_result"
    }
   ],
   "source": [
    "issues.customfield_10437.value_counts().head(10)"
   ]
  },
  {
   "cell_type": "code",
   "execution_count": 24,
   "metadata": {},
   "outputs": [
    {
     "data": {
      "text/plain": [
       "Minutes    57\n",
       "Hours      43\n",
       "Days        8\n",
       "Name: customfield_11730, dtype: int64"
      ]
     },
     "execution_count": 24,
     "metadata": {},
     "output_type": "execute_result"
    }
   ],
   "source": [
    "issues.customfield_11730.value_counts().head(10)"
   ]
  },
  {
   "cell_type": "code",
   "execution_count": 25,
   "metadata": {},
   "outputs": [
    {
     "data": {
      "text/plain": [
       "None                                                                                                                                                                                                                                                                                                                                                                                                                                                                                                                                                            1971\n",
       "The issues.indexStructure hash has to be manually updated to avoid the index to be dropped.                                                                                                                                                                                                                                                                                                                                                                                                                                                                        1\n",
       "The ws api/system/migrate_hotspots must be executed to migrate all security hotposts to new statuses, then api/system/migrate_es must be executed after to reindex all issues.                                                                                                                                                                                                                                                                                                                                                                                     1\n",
       "The issues.indexStructure hash has to be manually updated to avoid the index to be dropped. See procedure in SONAR-10987\\nThe expected hash for issues index is : 3df7b19612c4abf778fc6ae0ce27a3873b629b920b7e1a5c89bffb42d08b2b88                                                                                                                                                                                                                                                                                                                                 1\n",
       "3 BlueGreen deployments are required to deploy this ticket\\n(with 5 deployments, we could have achieved instantaneous rollback but the cost of 5 deployments far exceeds the risk to have to rollback -- it never happened so far)\\n\\n1. add tmp columns & drop usage of columns to be replaced => 7.4.0.18036\\n2. - once blue is down, call api/system/migrate_data as root\\n3. add target columns & drop usage of tmp columns => 7.4.0.18307\\n4. - once blue is down, call api/system/migrate_data as root\\n5 - drop tmp columns => 7.4.0.18060 (or later)       1\n",
       "Name: customfield_11631, dtype: int64"
      ]
     },
     "execution_count": 25,
     "metadata": {},
     "output_type": "execute_result"
    }
   ],
   "source": [
    "issues.customfield_11631.value_counts().head(5)"
   ]
  },
  {
   "cell_type": "markdown",
   "metadata": {},
   "source": [
    "By filtering only customfields with more than 1 unique value and less unique values than the number of issues we obtained 4 to further analyze.\n",
    "The three customfields which have been analysed did not clearly show their meaning and are therefore not included in the analysis."
   ]
  },
  {
   "cell_type": "code",
   "execution_count": 26,
   "metadata": {},
   "outputs": [],
   "source": [
    "columns_to_ignore = [\"fixVersions\", \"issuelinks\", \"versions\", \"subtasks\", \"components\", \"labels\", \"watches\"]"
   ]
  },
  {
   "cell_type": "markdown",
   "metadata": {},
   "source": [
    "We also ignore the columns containing complex objects which we have mapped to a separate dataframe (except *watches*, *components* and *issuelinks*)"
   ]
  },
  {
   "cell_type": "code",
   "execution_count": 27,
   "metadata": {},
   "outputs": [
    {
     "data": {
      "text/plain": [
       "36"
      ]
     },
     "execution_count": 27,
     "metadata": {},
     "output_type": "execute_result"
    }
   ],
   "source": [
    "focus_columns = set(issues.columns) - set(customfields) - set(columns_to_ignore)\n",
    "len(focus_columns)"
   ]
  },
  {
   "cell_type": "markdown",
   "metadata": {},
   "source": [
    "### Describe"
   ]
  },
  {
   "cell_type": "code",
   "execution_count": 28,
   "metadata": {},
   "outputs": [],
   "source": [
    "issues = issues[focus_columns]"
   ]
  },
  {
   "cell_type": "code",
   "execution_count": 29,
   "metadata": {},
   "outputs": [
    {
     "data": {
      "text/html": [
       "<div>\n",
       "<style scoped>\n",
       "    .dataframe tbody tr th:only-of-type {\n",
       "        vertical-align: middle;\n",
       "    }\n",
       "\n",
       "    .dataframe tbody tr th {\n",
       "        vertical-align: top;\n",
       "    }\n",
       "\n",
       "    .dataframe thead th {\n",
       "        text-align: right;\n",
       "    }\n",
       "</style>\n",
       "<table border=\"1\" class=\"dataframe\">\n",
       "  <thead>\n",
       "    <tr style=\"text-align: right;\">\n",
       "      <th></th>\n",
       "      <th>issuetype_id</th>\n",
       "      <th>priority_id</th>\n",
       "      <th>issue_id</th>\n",
       "      <th>workratio</th>\n",
       "      <th>resolution_id</th>\n",
       "      <th>votes_votes</th>\n",
       "      <th>votes</th>\n",
       "      <th>status_id</th>\n",
       "    </tr>\n",
       "  </thead>\n",
       "  <tbody>\n",
       "    <tr>\n",
       "      <th>count</th>\n",
       "      <td>5779.000000</td>\n",
       "      <td>5779.000000</td>\n",
       "      <td>5779.000000</td>\n",
       "      <td>5779.0</td>\n",
       "      <td>5214.000000</td>\n",
       "      <td>5779.000000</td>\n",
       "      <td>5779.000000</td>\n",
       "      <td>5779.000000</td>\n",
       "    </tr>\n",
       "    <tr>\n",
       "      <th>mean</th>\n",
       "      <td>3.251255</td>\n",
       "      <td>3.051566</td>\n",
       "      <td>65170.063852</td>\n",
       "      <td>-1.0</td>\n",
       "      <td>130.734944</td>\n",
       "      <td>0.170964</td>\n",
       "      <td>0.170964</td>\n",
       "      <td>52.236027</td>\n",
       "    </tr>\n",
       "    <tr>\n",
       "      <th>std</th>\n",
       "      <td>1.381351</td>\n",
       "      <td>0.296113</td>\n",
       "      <td>18123.937562</td>\n",
       "      <td>0.0</td>\n",
       "      <td>1144.406832</td>\n",
       "      <td>0.933130</td>\n",
       "      <td>0.933130</td>\n",
       "      <td>681.697087</td>\n",
       "    </tr>\n",
       "    <tr>\n",
       "      <th>min</th>\n",
       "      <td>1.000000</td>\n",
       "      <td>1.000000</td>\n",
       "      <td>26987.000000</td>\n",
       "      <td>-1.0</td>\n",
       "      <td>1.000000</td>\n",
       "      <td>0.000000</td>\n",
       "      <td>0.000000</td>\n",
       "      <td>1.000000</td>\n",
       "    </tr>\n",
       "    <tr>\n",
       "      <th>25%</th>\n",
       "      <td>2.000000</td>\n",
       "      <td>3.000000</td>\n",
       "      <td>50797.000000</td>\n",
       "      <td>-1.0</td>\n",
       "      <td>1.000000</td>\n",
       "      <td>0.000000</td>\n",
       "      <td>0.000000</td>\n",
       "      <td>6.000000</td>\n",
       "    </tr>\n",
       "    <tr>\n",
       "      <th>50%</th>\n",
       "      <td>4.000000</td>\n",
       "      <td>3.000000</td>\n",
       "      <td>63586.000000</td>\n",
       "      <td>-1.0</td>\n",
       "      <td>1.000000</td>\n",
       "      <td>0.000000</td>\n",
       "      <td>0.000000</td>\n",
       "      <td>6.000000</td>\n",
       "    </tr>\n",
       "    <tr>\n",
       "      <th>75%</th>\n",
       "      <td>4.000000</td>\n",
       "      <td>3.000000</td>\n",
       "      <td>80710.000000</td>\n",
       "      <td>-1.0</td>\n",
       "      <td>1.000000</td>\n",
       "      <td>0.000000</td>\n",
       "      <td>0.000000</td>\n",
       "      <td>6.000000</td>\n",
       "    </tr>\n",
       "    <tr>\n",
       "      <th>max</th>\n",
       "      <td>6.000000</td>\n",
       "      <td>5.000000</td>\n",
       "      <td>97898.000000</td>\n",
       "      <td>-1.0</td>\n",
       "      <td>10601.000000</td>\n",
       "      <td>47.000000</td>\n",
       "      <td>47.000000</td>\n",
       "      <td>10002.000000</td>\n",
       "    </tr>\n",
       "  </tbody>\n",
       "</table>\n",
       "</div>"
      ],
      "text/plain": [
       "       issuetype_id  priority_id      issue_id  workratio  resolution_id  \\\n",
       "count   5779.000000  5779.000000   5779.000000     5779.0    5214.000000   \n",
       "mean       3.251255     3.051566  65170.063852       -1.0     130.734944   \n",
       "std        1.381351     0.296113  18123.937562        0.0    1144.406832   \n",
       "min        1.000000     1.000000  26987.000000       -1.0       1.000000   \n",
       "25%        2.000000     3.000000  50797.000000       -1.0       1.000000   \n",
       "50%        4.000000     3.000000  63586.000000       -1.0       1.000000   \n",
       "75%        4.000000     3.000000  80710.000000       -1.0       1.000000   \n",
       "max        6.000000     5.000000  97898.000000       -1.0   10601.000000   \n",
       "\n",
       "       votes_votes        votes     status_id  \n",
       "count  5779.000000  5779.000000   5779.000000  \n",
       "mean      0.170964     0.170964     52.236027  \n",
       "std       0.933130     0.933130    681.697087  \n",
       "min       0.000000     0.000000      1.000000  \n",
       "25%       0.000000     0.000000      6.000000  \n",
       "50%       0.000000     0.000000      6.000000  \n",
       "75%       0.000000     0.000000      6.000000  \n",
       "max      47.000000    47.000000  10002.000000  "
      ]
     },
     "execution_count": 29,
     "metadata": {},
     "output_type": "execute_result"
    }
   ],
   "source": [
    "issues.describe()"
   ]
  },
  {
   "cell_type": "code",
   "execution_count": 30,
   "metadata": {
    "scrolled": true
   },
   "outputs": [
    {
     "data": {
      "text/html": [
       "<div>\n",
       "<style scoped>\n",
       "    .dataframe tbody tr th:only-of-type {\n",
       "        vertical-align: middle;\n",
       "    }\n",
       "\n",
       "    .dataframe tbody tr th {\n",
       "        vertical-align: top;\n",
       "    }\n",
       "\n",
       "    .dataframe thead th {\n",
       "        text-align: right;\n",
       "    }\n",
       "</style>\n",
       "<table border=\"1\" class=\"dataframe\">\n",
       "  <thead>\n",
       "    <tr style=\"text-align: right;\">\n",
       "      <th></th>\n",
       "      <th>assignee_key</th>\n",
       "      <th>reporter</th>\n",
       "      <th>edition</th>\n",
       "      <th>reporter_name</th>\n",
       "      <th>reporter_key</th>\n",
       "      <th>description</th>\n",
       "      <th>assignee_name</th>\n",
       "      <th>issue_key</th>\n",
       "      <th>status</th>\n",
       "      <th>summary</th>\n",
       "      <th>status_name</th>\n",
       "      <th>resolution</th>\n",
       "      <th>environment</th>\n",
       "      <th>issuetype_name</th>\n",
       "      <th>creator</th>\n",
       "      <th>creator_name</th>\n",
       "      <th>resolution_name</th>\n",
       "      <th>project</th>\n",
       "      <th>issuetype</th>\n",
       "      <th>priority</th>\n",
       "      <th>assignee</th>\n",
       "      <th>creator_key</th>\n",
       "      <th>priority_name</th>\n",
       "    </tr>\n",
       "  </thead>\n",
       "  <tbody>\n",
       "    <tr>\n",
       "      <th>count</th>\n",
       "      <td>4593</td>\n",
       "      <td>5779</td>\n",
       "      <td>2315</td>\n",
       "      <td>5779</td>\n",
       "      <td>5779</td>\n",
       "      <td>5036</td>\n",
       "      <td>4593</td>\n",
       "      <td>5779</td>\n",
       "      <td>5779</td>\n",
       "      <td>5779</td>\n",
       "      <td>5779</td>\n",
       "      <td>5214</td>\n",
       "      <td>8</td>\n",
       "      <td>5779</td>\n",
       "      <td>5779</td>\n",
       "      <td>5779</td>\n",
       "      <td>5214</td>\n",
       "      <td>5779</td>\n",
       "      <td>5779</td>\n",
       "      <td>5779</td>\n",
       "      <td>4593</td>\n",
       "      <td>5779</td>\n",
       "      <td>5779</td>\n",
       "    </tr>\n",
       "    <tr>\n",
       "      <th>unique</th>\n",
       "      <td>55</td>\n",
       "      <td>79</td>\n",
       "      <td>5</td>\n",
       "      <td>79</td>\n",
       "      <td>79</td>\n",
       "      <td>4991</td>\n",
       "      <td>55</td>\n",
       "      <td>5779</td>\n",
       "      <td>7</td>\n",
       "      <td>5758</td>\n",
       "      <td>7</td>\n",
       "      <td>11</td>\n",
       "      <td>8</td>\n",
       "      <td>6</td>\n",
       "      <td>78</td>\n",
       "      <td>78</td>\n",
       "      <td>11</td>\n",
       "      <td>1</td>\n",
       "      <td>6</td>\n",
       "      <td>5</td>\n",
       "      <td>55</td>\n",
       "      <td>78</td>\n",
       "      <td>5</td>\n",
       "    </tr>\n",
       "    <tr>\n",
       "      <th>top</th>\n",
       "      <td>stas.vilchik</td>\n",
       "      <td>Stas Vilchik</td>\n",
       "      <td>Community</td>\n",
       "      <td>stas.vilchik</td>\n",
       "      <td>stas.vilchik</td>\n",
       "      <td>Template names are unique by organization. Con...</td>\n",
       "      <td>stas.vilchik</td>\n",
       "      <td>SONAR-9001</td>\n",
       "      <td>Closed</td>\n",
       "      <td>Upgrade code analyzers to latest released vers...</td>\n",
       "      <td>Closed</td>\n",
       "      <td>Fixed</td>\n",
       "      <td>SQ 5.3\\nSQ Scanner 2.4\\n</td>\n",
       "      <td>Improvement</td>\n",
       "      <td>Stas Vilchik</td>\n",
       "      <td>stas.vilchik</td>\n",
       "      <td>Fixed</td>\n",
       "      <td>SONAR</td>\n",
       "      <td>Improvement</td>\n",
       "      <td>Major</td>\n",
       "      <td>Stas Vilchik</td>\n",
       "      <td>stas.vilchik</td>\n",
       "      <td>Major</td>\n",
       "    </tr>\n",
       "    <tr>\n",
       "      <th>freq</th>\n",
       "      <td>698</td>\n",
       "      <td>781</td>\n",
       "      <td>1869</td>\n",
       "      <td>781</td>\n",
       "      <td>781</td>\n",
       "      <td>8</td>\n",
       "      <td>698</td>\n",
       "      <td>1</td>\n",
       "      <td>5202</td>\n",
       "      <td>10</td>\n",
       "      <td>5202</td>\n",
       "      <td>4443</td>\n",
       "      <td>1</td>\n",
       "      <td>3150</td>\n",
       "      <td>815</td>\n",
       "      <td>815</td>\n",
       "      <td>4443</td>\n",
       "      <td>5779</td>\n",
       "      <td>3150</td>\n",
       "      <td>5380</td>\n",
       "      <td>698</td>\n",
       "      <td>815</td>\n",
       "      <td>5380</td>\n",
       "    </tr>\n",
       "  </tbody>\n",
       "</table>\n",
       "</div>"
      ],
      "text/plain": [
       "        assignee_key      reporter    edition reporter_name  reporter_key  \\\n",
       "count           4593          5779       2315          5779          5779   \n",
       "unique            55            79          5            79            79   \n",
       "top     stas.vilchik  Stas Vilchik  Community  stas.vilchik  stas.vilchik   \n",
       "freq             698           781       1869           781           781   \n",
       "\n",
       "                                              description assignee_name  \\\n",
       "count                                                5036          4593   \n",
       "unique                                               4991            55   \n",
       "top     Template names are unique by organization. Con...  stas.vilchik   \n",
       "freq                                                    8           698   \n",
       "\n",
       "         issue_key  status                                            summary  \\\n",
       "count         5779    5779                                               5779   \n",
       "unique        5779       7                                               5758   \n",
       "top     SONAR-9001  Closed  Upgrade code analyzers to latest released vers...   \n",
       "freq             1    5202                                                 10   \n",
       "\n",
       "       status_name resolution               environment issuetype_name  \\\n",
       "count         5779       5214                         8           5779   \n",
       "unique           7         11                         8              6   \n",
       "top         Closed      Fixed  SQ 5.3\\nSQ Scanner 2.4\\n    Improvement   \n",
       "freq          5202       4443                         1           3150   \n",
       "\n",
       "             creator  creator_name resolution_name project    issuetype  \\\n",
       "count           5779          5779            5214    5779         5779   \n",
       "unique            78            78              11       1            6   \n",
       "top     Stas Vilchik  stas.vilchik           Fixed   SONAR  Improvement   \n",
       "freq             815           815            4443    5779         3150   \n",
       "\n",
       "       priority      assignee   creator_key priority_name  \n",
       "count      5779          4593          5779          5779  \n",
       "unique        5            55            78             5  \n",
       "top       Major  Stas Vilchik  stas.vilchik         Major  \n",
       "freq       5380           698           815          5380  "
      ]
     },
     "execution_count": 30,
     "metadata": {},
     "output_type": "execute_result"
    }
   ],
   "source": [
    "issues.describe(include = ['O'])"
   ]
  },
  {
   "cell_type": "markdown",
   "metadata": {},
   "source": [
    "* Workratio seems to be not used much as 75% percentile is -1\n",
    "* Votes has 75% percentile to 0 (most of the issues did not get votes) but has also a value of 192\n",
    "* There are 6 issuetypes\n",
    "* There are 7 statuses\n",
    "* Some fields represent the same information:\n",
    "    * issuetype_name and issuetype\n",
    "    * assignee_key and assignee_name\n",
    "    * creator_key and creator\n",
    "    * resolution and resolution_name\n",
    "    * priority_name and priority\n",
    "    * reporter_key and reporter\n",
    "    \n",
    "We therefore safely remove one of each columns and keep the one in the more human readable form"
   ]
  },
  {
   "cell_type": "code",
   "execution_count": 31,
   "metadata": {},
   "outputs": [],
   "source": [
    "duplicated_columns = [\"issuetype\", \"assignee_key\", \"creator_key\", \"resolution\", \"priority\", \"reporter_key\", \"resolution_id\"]"
   ]
  },
  {
   "cell_type": "code",
   "execution_count": 32,
   "metadata": {},
   "outputs": [],
   "source": [
    "issues = issues[set(issues.columns) - set(duplicated_columns)]"
   ]
  },
  {
   "cell_type": "code",
   "execution_count": 33,
   "metadata": {},
   "outputs": [
    {
     "data": {
      "text/html": [
       "<div>\n",
       "<style scoped>\n",
       "    .dataframe tbody tr th:only-of-type {\n",
       "        vertical-align: middle;\n",
       "    }\n",
       "\n",
       "    .dataframe tbody tr th {\n",
       "        vertical-align: top;\n",
       "    }\n",
       "\n",
       "    .dataframe thead th {\n",
       "        text-align: right;\n",
       "    }\n",
       "</style>\n",
       "<table border=\"1\" class=\"dataframe\">\n",
       "  <thead>\n",
       "    <tr style=\"text-align: right;\">\n",
       "      <th></th>\n",
       "      <th>issue_id</th>\n",
       "      <th>fixVersion_id</th>\n",
       "    </tr>\n",
       "  </thead>\n",
       "  <tbody>\n",
       "    <tr>\n",
       "      <th>count</th>\n",
       "      <td>8519.000000</td>\n",
       "      <td>8519.000000</td>\n",
       "    </tr>\n",
       "    <tr>\n",
       "      <th>mean</th>\n",
       "      <td>48539.681418</td>\n",
       "      <td>12878.145557</td>\n",
       "    </tr>\n",
       "    <tr>\n",
       "      <th>std</th>\n",
       "      <td>21349.658119</td>\n",
       "      <td>1409.572044</td>\n",
       "    </tr>\n",
       "    <tr>\n",
       "      <th>min</th>\n",
       "      <td>26471.000000</td>\n",
       "      <td>11524.000000</td>\n",
       "    </tr>\n",
       "    <tr>\n",
       "      <th>25%</th>\n",
       "      <td>29577.500000</td>\n",
       "      <td>11600.000000</td>\n",
       "    </tr>\n",
       "    <tr>\n",
       "      <th>50%</th>\n",
       "      <td>42895.000000</td>\n",
       "      <td>12781.000000</td>\n",
       "    </tr>\n",
       "    <tr>\n",
       "      <th>75%</th>\n",
       "      <td>64170.000000</td>\n",
       "      <td>14014.000000</td>\n",
       "    </tr>\n",
       "    <tr>\n",
       "      <th>max</th>\n",
       "      <td>97864.000000</td>\n",
       "      <td>16435.000000</td>\n",
       "    </tr>\n",
       "  </tbody>\n",
       "</table>\n",
       "</div>"
      ],
      "text/plain": [
       "           issue_id  fixVersion_id\n",
       "count   8519.000000    8519.000000\n",
       "mean   48539.681418   12878.145557\n",
       "std    21349.658119    1409.572044\n",
       "min    26471.000000   11524.000000\n",
       "25%    29577.500000   11600.000000\n",
       "50%    42895.000000   12781.000000\n",
       "75%    64170.000000   14014.000000\n",
       "max    97864.000000   16435.000000"
      ]
     },
     "execution_count": 33,
     "metadata": {},
     "output_type": "execute_result"
    }
   ],
   "source": [
    "fixversions.describe()"
   ]
  },
  {
   "cell_type": "code",
   "execution_count": 34,
   "metadata": {},
   "outputs": [
    {
     "data": {
      "text/html": [
       "<div>\n",
       "<style scoped>\n",
       "    .dataframe tbody tr th:only-of-type {\n",
       "        vertical-align: middle;\n",
       "    }\n",
       "\n",
       "    .dataframe tbody tr th {\n",
       "        vertical-align: top;\n",
       "    }\n",
       "\n",
       "    .dataframe thead th {\n",
       "        text-align: right;\n",
       "    }\n",
       "</style>\n",
       "<table border=\"1\" class=\"dataframe\">\n",
       "  <thead>\n",
       "    <tr style=\"text-align: right;\">\n",
       "      <th></th>\n",
       "      <th>issue_id</th>\n",
       "      <th>version_id</th>\n",
       "    </tr>\n",
       "  </thead>\n",
       "  <tbody>\n",
       "    <tr>\n",
       "      <th>count</th>\n",
       "      <td>3335.000000</td>\n",
       "      <td>3335.000000</td>\n",
       "    </tr>\n",
       "    <tr>\n",
       "      <th>mean</th>\n",
       "      <td>40027.932834</td>\n",
       "      <td>12169.017091</td>\n",
       "    </tr>\n",
       "    <tr>\n",
       "      <th>std</th>\n",
       "      <td>18698.712548</td>\n",
       "      <td>1127.057544</td>\n",
       "    </tr>\n",
       "    <tr>\n",
       "      <th>min</th>\n",
       "      <td>26470.000000</td>\n",
       "      <td>11523.000000</td>\n",
       "    </tr>\n",
       "    <tr>\n",
       "      <th>25%</th>\n",
       "      <td>28845.000000</td>\n",
       "      <td>11556.000000</td>\n",
       "    </tr>\n",
       "    <tr>\n",
       "      <th>50%</th>\n",
       "      <td>30915.000000</td>\n",
       "      <td>11584.000000</td>\n",
       "    </tr>\n",
       "    <tr>\n",
       "      <th>75%</th>\n",
       "      <td>45677.500000</td>\n",
       "      <td>11647.000000</td>\n",
       "    </tr>\n",
       "    <tr>\n",
       "      <th>max</th>\n",
       "      <td>97777.000000</td>\n",
       "      <td>16404.000000</td>\n",
       "    </tr>\n",
       "  </tbody>\n",
       "</table>\n",
       "</div>"
      ],
      "text/plain": [
       "           issue_id    version_id\n",
       "count   3335.000000   3335.000000\n",
       "mean   40027.932834  12169.017091\n",
       "std    18698.712548   1127.057544\n",
       "min    26470.000000  11523.000000\n",
       "25%    28845.000000  11556.000000\n",
       "50%    30915.000000  11584.000000\n",
       "75%    45677.500000  11647.000000\n",
       "max    97777.000000  16404.000000"
      ]
     },
     "execution_count": 34,
     "metadata": {},
     "output_type": "execute_result"
    }
   ],
   "source": [
    "versions.describe()"
   ]
  },
  {
   "cell_type": "code",
   "execution_count": 35,
   "metadata": {},
   "outputs": [
    {
     "data": {
      "text/html": [
       "<div>\n",
       "<style scoped>\n",
       "    .dataframe tbody tr th:only-of-type {\n",
       "        vertical-align: middle;\n",
       "    }\n",
       "\n",
       "    .dataframe tbody tr th {\n",
       "        vertical-align: top;\n",
       "    }\n",
       "\n",
       "    .dataframe thead th {\n",
       "        text-align: right;\n",
       "    }\n",
       "</style>\n",
       "<table border=\"1\" class=\"dataframe\">\n",
       "  <thead>\n",
       "    <tr style=\"text-align: right;\">\n",
       "      <th></th>\n",
       "      <th>issue_id</th>\n",
       "    </tr>\n",
       "  </thead>\n",
       "  <tbody>\n",
       "    <tr>\n",
       "      <th>count</th>\n",
       "      <td>2983.000000</td>\n",
       "    </tr>\n",
       "    <tr>\n",
       "      <th>mean</th>\n",
       "      <td>60033.104593</td>\n",
       "    </tr>\n",
       "    <tr>\n",
       "      <th>std</th>\n",
       "      <td>15994.760287</td>\n",
       "    </tr>\n",
       "    <tr>\n",
       "      <th>min</th>\n",
       "      <td>26487.000000</td>\n",
       "    </tr>\n",
       "    <tr>\n",
       "      <th>25%</th>\n",
       "      <td>51106.500000</td>\n",
       "    </tr>\n",
       "    <tr>\n",
       "      <th>50%</th>\n",
       "      <td>58705.000000</td>\n",
       "    </tr>\n",
       "    <tr>\n",
       "      <th>75%</th>\n",
       "      <td>65826.500000</td>\n",
       "    </tr>\n",
       "    <tr>\n",
       "      <th>max</th>\n",
       "      <td>98118.000000</td>\n",
       "    </tr>\n",
       "  </tbody>\n",
       "</table>\n",
       "</div>"
      ],
      "text/plain": [
       "           issue_id\n",
       "count   2983.000000\n",
       "mean   60033.104593\n",
       "std    15994.760287\n",
       "min    26487.000000\n",
       "25%    51106.500000\n",
       "50%    58705.000000\n",
       "75%    65826.500000\n",
       "max    98118.000000"
      ]
     },
     "execution_count": 35,
     "metadata": {},
     "output_type": "execute_result"
    }
   ],
   "source": [
    "labels.describe()"
   ]
  },
  {
   "cell_type": "code",
   "execution_count": 36,
   "metadata": {
    "scrolled": true
   },
   "outputs": [
    {
     "data": {
      "text/html": [
       "<div>\n",
       "<style scoped>\n",
       "    .dataframe tbody tr th:only-of-type {\n",
       "        vertical-align: middle;\n",
       "    }\n",
       "\n",
       "    .dataframe tbody tr th {\n",
       "        vertical-align: top;\n",
       "    }\n",
       "\n",
       "    .dataframe thead th {\n",
       "        text-align: right;\n",
       "    }\n",
       "</style>\n",
       "<table border=\"1\" class=\"dataframe\">\n",
       "  <thead>\n",
       "    <tr style=\"text-align: right;\">\n",
       "      <th></th>\n",
       "      <th>issue_id</th>\n",
       "      <th>subtask_id</th>\n",
       "    </tr>\n",
       "  </thead>\n",
       "  <tbody>\n",
       "    <tr>\n",
       "      <th>count</th>\n",
       "      <td>851.000000</td>\n",
       "      <td>851.000000</td>\n",
       "    </tr>\n",
       "    <tr>\n",
       "      <th>mean</th>\n",
       "      <td>45203.332550</td>\n",
       "      <td>46077.115159</td>\n",
       "    </tr>\n",
       "    <tr>\n",
       "      <th>std</th>\n",
       "      <td>20054.718815</td>\n",
       "      <td>20040.685090</td>\n",
       "    </tr>\n",
       "    <tr>\n",
       "      <th>min</th>\n",
       "      <td>26567.000000</td>\n",
       "      <td>26526.000000</td>\n",
       "    </tr>\n",
       "    <tr>\n",
       "      <th>25%</th>\n",
       "      <td>29310.000000</td>\n",
       "      <td>29334.500000</td>\n",
       "    </tr>\n",
       "    <tr>\n",
       "      <th>50%</th>\n",
       "      <td>32147.000000</td>\n",
       "      <td>39324.000000</td>\n",
       "    </tr>\n",
       "    <tr>\n",
       "      <th>75%</th>\n",
       "      <td>61027.000000</td>\n",
       "      <td>61197.500000</td>\n",
       "    </tr>\n",
       "    <tr>\n",
       "      <th>max</th>\n",
       "      <td>97393.000000</td>\n",
       "      <td>97553.000000</td>\n",
       "    </tr>\n",
       "  </tbody>\n",
       "</table>\n",
       "</div>"
      ],
      "text/plain": [
       "           issue_id    subtask_id\n",
       "count    851.000000    851.000000\n",
       "mean   45203.332550  46077.115159\n",
       "std    20054.718815  20040.685090\n",
       "min    26567.000000  26526.000000\n",
       "25%    29310.000000  29334.500000\n",
       "50%    32147.000000  39324.000000\n",
       "75%    61027.000000  61197.500000\n",
       "max    97393.000000  97553.000000"
      ]
     },
     "execution_count": 36,
     "metadata": {},
     "output_type": "execute_result"
    }
   ],
   "source": [
    "substaks.describe()"
   ]
  },
  {
   "cell_type": "markdown",
   "metadata": {},
   "source": [
    "We do not detect anomalies in the statistical summaries of the other datasetsm"
   ]
  },
  {
   "cell_type": "markdown",
   "metadata": {},
   "source": [
    "### Missing values"
   ]
  },
  {
   "cell_type": "code",
   "execution_count": 37,
   "metadata": {},
   "outputs": [
    {
     "data": {
      "text/plain": [
       "lastViewed         5779\n",
       "environment        5771\n",
       "edition            3464\n",
       "duedate            1535\n",
       "assignee_name      1186\n",
       "assignee           1186\n",
       "description         743\n",
       "resolutiondate      565\n",
       "resolution_name     565\n",
       "summary               0\n",
       "issue_key             0\n",
       "priority_id           0\n",
       "reporter              0\n",
       "reporter_name         0\n",
       "updated               0\n",
       "dtype: int64"
      ]
     },
     "execution_count": 37,
     "metadata": {},
     "output_type": "execute_result"
    }
   ],
   "source": [
    "issues.isna().sum().sort_values(ascending=False).head(15)"
   ]
  },
  {
   "cell_type": "code",
   "execution_count": 38,
   "metadata": {},
   "outputs": [
    {
     "data": {
      "text/plain": [
       "issue_id           0\n",
       "fixVersion_name    0\n",
       "fixVersion_id      0\n",
       "dtype: int64"
      ]
     },
     "execution_count": 38,
     "metadata": {},
     "output_type": "execute_result"
    }
   ],
   "source": [
    "fixversions.isna().sum()"
   ]
  },
  {
   "cell_type": "code",
   "execution_count": 39,
   "metadata": {
    "scrolled": true
   },
   "outputs": [
    {
     "data": {
      "text/plain": [
       "issue_id        0\n",
       "version_name    0\n",
       "version_id      0\n",
       "dtype: int64"
      ]
     },
     "execution_count": 39,
     "metadata": {},
     "output_type": "execute_result"
    }
   ],
   "source": [
    "versions.isna().sum()"
   ]
  },
  {
   "cell_type": "code",
   "execution_count": 40,
   "metadata": {},
   "outputs": [
    {
     "data": {
      "text/plain": [
       "issue_id    0\n",
       "label       0\n",
       "dtype: int64"
      ]
     },
     "execution_count": 40,
     "metadata": {},
     "output_type": "execute_result"
    }
   ],
   "source": [
    "labels.isna().sum()"
   ]
  },
  {
   "cell_type": "code",
   "execution_count": 41,
   "metadata": {},
   "outputs": [
    {
     "data": {
      "text/plain": [
       "issue_id       0\n",
       "subtask_key    0\n",
       "subtask_id     0\n",
       "dtype: int64"
      ]
     },
     "execution_count": 41,
     "metadata": {},
     "output_type": "execute_result"
    }
   ],
   "source": [
    "substaks.isna().sum()"
   ]
  },
  {
   "cell_type": "markdown",
   "metadata": {},
   "source": [
    "* There are missing values only in the issues dataset\n",
    "* All fields presenting missing values are fields which are optional in an issue. We therefore not worry about their absence even though that has to be taken into account when working with those fields."
   ]
  },
  {
   "cell_type": "markdown",
   "metadata": {},
   "source": [
    "## In depth analysis"
   ]
  },
  {
   "cell_type": "markdown",
   "metadata": {},
   "source": [
    "### Workratio"
   ]
  },
  {
   "cell_type": "code",
   "execution_count": 42,
   "metadata": {
    "scrolled": true
   },
   "outputs": [
    {
     "data": {
      "text/plain": [
       "-1    5779\n",
       "Name: workratio, dtype: int64"
      ]
     },
     "execution_count": 42,
     "metadata": {},
     "output_type": "execute_result"
    }
   ],
   "source": [
    "issues.workratio.value_counts()"
   ]
  },
  {
   "cell_type": "markdown",
   "metadata": {},
   "source": [
    "As seen in the statistical summary, this field seems to not be used often. It should represent a percentage of the expected work, but most of the entries have the negative value -1. We therefore decide to ignore this field."
   ]
  },
  {
   "cell_type": "code",
   "execution_count": 43,
   "metadata": {},
   "outputs": [],
   "source": [
    "issues = issues[set(issues.columns) - set([\"workratio\"])]"
   ]
  },
  {
   "cell_type": "code",
   "execution_count": 44,
   "metadata": {},
   "outputs": [
    {
     "data": {
      "text/plain": [
       "28"
      ]
     },
     "execution_count": 44,
     "metadata": {},
     "output_type": "execute_result"
    }
   ],
   "source": [
    "len(issues.columns)"
   ]
  },
  {
   "cell_type": "markdown",
   "metadata": {},
   "source": [
    "### IssueType"
   ]
  },
  {
   "cell_type": "code",
   "execution_count": 45,
   "metadata": {},
   "outputs": [
    {
     "data": {
      "text/plain": [
       "array(['Task', 'Improvement', 'New Feature', 'Bug', 'Documentation',\n",
       "       'Sub-task'], dtype=object)"
      ]
     },
     "execution_count": 45,
     "metadata": {},
     "output_type": "execute_result"
    }
   ],
   "source": [
    "issues.issuetype_name.unique()"
   ]
  },
  {
   "cell_type": "code",
   "execution_count": 46,
   "metadata": {},
   "outputs": [
    {
     "data": {
      "text/plain": [
       "Improvement      3150\n",
       "Bug              1279\n",
       "Sub-task          466\n",
       "Task              416\n",
       "New Feature       369\n",
       "Documentation      99\n",
       "Name: issuetype_name, dtype: int64"
      ]
     },
     "execution_count": 46,
     "metadata": {},
     "output_type": "execute_result"
    }
   ],
   "source": [
    "issues.issuetype_name.value_counts()"
   ]
  },
  {
   "cell_type": "code",
   "execution_count": 47,
   "metadata": {},
   "outputs": [
    {
     "data": {
      "text/plain": [
       "<AxesSubplot:xlabel='issuetype_name', ylabel='count'>"
      ]
     },
     "execution_count": 47,
     "metadata": {},
     "output_type": "execute_result"
    },
    {
     "data": {
      "image/png": "[encoded data removed]",
      "text/plain": [
       "<Figure size 1080x360 with 1 Axes>"
      ]
     },
     "metadata": {
      "needs_background": "light"
     },
     "output_type": "display_data"
    }
   ],
   "source": [
    "sns.countplot(x=\"issuetype_name\", data=issues[[\"issue_id\", \"issuetype_name\"]])"
   ]
  },
  {
   "cell_type": "code",
   "execution_count": 48,
   "metadata": {},
   "outputs": [
    {
     "data": {
      "text/plain": [
       "Improvement      0.545077\n",
       "Bug              0.221319\n",
       "Sub-task         0.080637\n",
       "Task             0.071985\n",
       "New Feature      0.063852\n",
       "Documentation    0.017131\n",
       "Name: issuetype_name, dtype: float64"
      ]
     },
     "execution_count": 48,
     "metadata": {},
     "output_type": "execute_result"
    }
   ],
   "source": [
    "issues.issuetype_name.value_counts(normalize=True)"
   ]
  },
  {
   "cell_type": "markdown",
   "metadata": {},
   "source": [
    "* We see that issues can only have one of these 6 issue types.\n",
    "* 54% is Improvement, followed by 22% Bug"
   ]
  },
  {
   "cell_type": "code",
   "execution_count": 49,
   "metadata": {},
   "outputs": [],
   "source": [
    "issues[\"created_month\"] = issues.created.dt.month\n",
    "issues[\"created_year\"] = issues.created.dt.year"
   ]
  },
  {
   "cell_type": "code",
   "execution_count": 50,
   "metadata": {
    "scrolled": false
   },
   "outputs": [
    {
     "data": {
      "image/png": "[encoded data removed]",
      "text/plain": [
       "<Figure size 1080x1440 with 6 Axes>"
      ]
     },
     "metadata": {
      "needs_background": "light"
     },
     "output_type": "display_data"
    }
   ],
   "source": [
    "time_group = [\"created_year\", \"created_month\"]\n",
    "f, axes = plt.subplots(len(issues.issuetype_name.unique()),1, figsize=(15,20), sharex=True)\n",
    "x = issues.groupby(time_group+[\"issuetype_name\"]).size().unstack(fill_value=0).reset_index()\n",
    "for i, issuetype in enumerate(issues.issuetype_name.unique()):\n",
    "    ax = sns.barplot(x=x.index, y=x[issuetype], ax=axes[i])\n",
    "    ax.set_xticklabels(list(x[time_group[1]].astype(int).astype(str) + \"/\" + x[time_group[0]].astype(int).astype(str)),\n",
    "                      rotation=90)\n",
    "    ax.set_ylabel(issuetype)"
   ]
  },
  {
   "cell_type": "markdown",
   "metadata": {},
   "source": [
    "* New Feature, Improvement and Sub-task have decresed in number over time\n",
    "* Documentation has increased after 1/2019\n",
    "* Bug has been quite consistent\n",
    "\n",
    "To note that the y-axis is not the same for the different plots. We are interested in seeing their trend overtime and using the same axis would penalize the types with fewer observations. "
   ]
  },
  {
   "cell_type": "markdown",
   "metadata": {},
   "source": [
    "### Resolution"
   ]
  },
  {
   "cell_type": "code",
   "execution_count": 51,
   "metadata": {},
   "outputs": [
    {
     "data": {
      "text/plain": [
       "array([nan, 'Fixed', 'Duplicate', \"Won't Do\", \"Won't Fix\", 'Done',\n",
       "       'Not an issue', 'Canceled', 'Cannot Reproduce', 'Moved To GitHub',\n",
       "       'Incomplete', 'Not A Bug'], dtype=object)"
      ]
     },
     "execution_count": 51,
     "metadata": {},
     "output_type": "execute_result"
    }
   ],
   "source": [
    "issues.resolution_name.unique()"
   ]
  },
  {
   "cell_type": "code",
   "execution_count": 52,
   "metadata": {},
   "outputs": [
    {
     "data": {
      "image/png": "[encoded data removed]",
      "text/plain": [
       "<Figure size 1080x360 with 1 Axes>"
      ]
     },
     "metadata": {
      "needs_background": "light"
     },
     "output_type": "display_data"
    }
   ],
   "source": [
    "ax = sns.countplot(x=\"resolution_name\", data=issues[[\"issue_id\", \"resolution_name\"]])\n",
    "ax.tick_params(axis='x', labelrotation= 60)"
   ]
  },
  {
   "cell_type": "code",
   "execution_count": 53,
   "metadata": {},
   "outputs": [
    {
     "name": "stderr",
     "output_type": "stream",
     "text": [
      "/Users/alexincerti/Library/Python/3.8/lib/python/site-packages/seaborn/_decorators.py:36: FutureWarning: Pass the following variable as a keyword arg: x. From version 0.12, the only valid positional argument will be `data`, and passing other arguments without an explicit keyword will result in an error or misinterpretation.\n",
      "  warnings.warn(\n"
     ]
    },
    {
     "data": {
      "image/png": "[encoded data removed]",
      "text/plain": [
       "<Figure size 1080x360 with 1 Axes>"
      ]
     },
     "metadata": {
      "needs_background": "light"
     },
     "output_type": "display_data"
    }
   ],
   "source": [
    "ax = sns.countplot(issues[~(issues.resolution_name == \"Fixed\") & ~(issues.resolution_name == \"Won't Fix\")].resolution_name)\n",
    "ax.tick_params(axis='x', labelrotation= 60)"
   ]
  },
  {
   "cell_type": "code",
   "execution_count": 54,
   "metadata": {},
   "outputs": [
    {
     "data": {
      "text/plain": [
       "Fixed               0.852129\n",
       "Won't Fix           0.096855\n",
       "Duplicate           0.029536\n",
       "Cannot Reproduce    0.008439\n",
       "Won't Do            0.005562\n",
       "Done                0.003644\n",
       "Canceled            0.001726\n",
       "Not an issue        0.001343\n",
       "Incomplete          0.000384\n",
       "Moved To GitHub     0.000192\n",
       "Not A Bug           0.000192\n",
       "Name: resolution_name, dtype: float64"
      ]
     },
     "execution_count": 54,
     "metadata": {},
     "output_type": "execute_result"
    }
   ],
   "source": [
    "issues.resolution_name.value_counts(normalize=True)"
   ]
  },
  {
   "cell_type": "markdown",
   "metadata": {},
   "source": [
    "* 85% of the resolution are Fixed\n",
    "* 3% are duplicates (may need to be removed)"
   ]
  },
  {
   "cell_type": "markdown",
   "metadata": {},
   "source": [
    "### Priority"
   ]
  },
  {
   "cell_type": "code",
   "execution_count": 55,
   "metadata": {},
   "outputs": [
    {
     "data": {
      "text/plain": [
       "array(['Major', 'Minor', 'Trivial', 'Blocker', 'Critical'], dtype=object)"
      ]
     },
     "execution_count": 55,
     "metadata": {},
     "output_type": "execute_result"
    }
   ],
   "source": [
    "issues.priority_name.unique()"
   ]
  },
  {
   "cell_type": "code",
   "execution_count": 56,
   "metadata": {
    "scrolled": true
   },
   "outputs": [
    {
     "data": {
      "image/png": "[encoded data removed]",
      "text/plain": [
       "<Figure size 1080x360 with 1 Axes>"
      ]
     },
     "metadata": {
      "needs_background": "light"
     },
     "output_type": "display_data"
    }
   ],
   "source": [
    "ax = sns.countplot(x=\"priority_name\", data=issues[[\"issue_id\", \"priority_name\"]])"
   ]
  },
  {
   "cell_type": "code",
   "execution_count": 57,
   "metadata": {},
   "outputs": [
    {
     "data": {
      "text/plain": [
       "0"
      ]
     },
     "execution_count": 57,
     "metadata": {},
     "output_type": "execute_result"
    }
   ],
   "source": [
    "issues.priority_name.isna().sum()"
   ]
  },
  {
   "cell_type": "code",
   "execution_count": 58,
   "metadata": {},
   "outputs": [
    {
     "data": {
      "text/plain": [
       "Major       0.930957\n",
       "Minor       0.052085\n",
       "Critical    0.009863\n",
       "Trivial     0.005883\n",
       "Blocker     0.001211\n",
       "Name: priority_name, dtype: float64"
      ]
     },
     "execution_count": 58,
     "metadata": {},
     "output_type": "execute_result"
    }
   ],
   "source": [
    "issues.priority_name.value_counts(normalize=True)"
   ]
  },
  {
   "cell_type": "markdown",
   "metadata": {},
   "source": [
    "Every issue has a priority. We have 5 values. Issue with Major priority represents the 93%"
   ]
  },
  {
   "cell_type": "markdown",
   "metadata": {},
   "source": [
    "## Labels"
   ]
  },
  {
   "cell_type": "code",
   "execution_count": 62,
   "metadata": {},
   "outputs": [],
   "source": [
    "labels_merge = labels.merge(issues, on=\"issue_id\")"
   ]
  },
  {
   "cell_type": "markdown",
   "metadata": {},
   "source": [
    "**Number of labels**"
   ]
  },
  {
   "cell_type": "code",
   "execution_count": 63,
   "metadata": {},
   "outputs": [
    {
     "data": {
      "text/plain": [
       "192"
      ]
     },
     "execution_count": 63,
     "metadata": {},
     "output_type": "execute_result"
    }
   ],
   "source": [
    "labels.label = labels.label.str.lower()\n",
    "len(labels.label.unique())"
   ]
  },
  {
   "cell_type": "markdown",
   "metadata": {},
   "source": [
    "**Number of issues with their number of labels**"
   ]
  },
  {
   "cell_type": "code",
   "execution_count": 64,
   "metadata": {},
   "outputs": [
    {
     "name": "stderr",
     "output_type": "stream",
     "text": [
      "/Users/alexincerti/Library/Python/3.8/lib/python/site-packages/seaborn/_decorators.py:36: FutureWarning: Pass the following variable as a keyword arg: x. From version 0.12, the only valid positional argument will be `data`, and passing other arguments without an explicit keyword will result in an error or misinterpretation.\n",
      "  warnings.warn(\n"
     ]
    },
    {
     "data": {
      "text/plain": [
       "<AxesSubplot:xlabel='label', ylabel='count'>"
      ]
     },
     "execution_count": 64,
     "metadata": {},
     "output_type": "execute_result"
    },
    {
     "data": {
      "image/png": "[encoded data removed]",
      "text/plain": [
       "<Figure size 1080x360 with 1 Axes>"
      ]
     },
     "metadata": {
      "needs_background": "light"
     },
     "output_type": "display_data"
    }
   ],
   "source": [
    "sns.countplot(labels_merge.groupby(\"issue_id\").count().label)"
   ]
  },
  {
   "cell_type": "markdown",
   "metadata": {},
   "source": [
    "**Top labels**"
   ]
  },
  {
   "cell_type": "code",
   "execution_count": 65,
   "metadata": {},
   "outputs": [
    {
     "data": {
      "text/plain": [
       "<AxesSubplot:>"
      ]
     },
     "execution_count": 65,
     "metadata": {},
     "output_type": "execute_result"
    },
    {
     "data": {
      "image/png": "[encoded data removed]",
      "text/plain": [
       "<Figure size 1080x360 with 1 Axes>"
      ]
     },
     "metadata": {
      "needs_background": "light"
     },
     "output_type": "display_data"
    }
   ],
   "source": [
    "vals = labels.label.value_counts().head(20)\n",
    "sns.barplot(x = vals.values, y=vals.index)"
   ]
  },
  {
   "cell_type": "markdown",
   "metadata": {},
   "source": [
    "* Each issue has at least one label\n",
    "* Lambda label seems to be the most popular ones by far"
   ]
  },
  {
   "cell_type": "markdown",
   "metadata": {},
   "source": [
    "### Versions\n",
    "We filter only the versions after the project moved to TravisCI"
   ]
  },
  {
   "cell_type": "code",
   "execution_count": 66,
   "metadata": {},
   "outputs": [],
   "source": [
    "versions = versions[versions.version_name > \"4.4\"]\n",
    "versions_merged = versions.merge(issues, on=\"issue_id\")"
   ]
  },
  {
   "cell_type": "code",
   "execution_count": 67,
   "metadata": {},
   "outputs": [
    {
     "data": {
      "text/plain": [
       "array(['4.5', '4.5.1', '4.5.2', '4.5.4', '4.5.5', '4.5.6', '4.5.7', '5.0',\n",
       "       '5.0.1', '5.1', '5.1.1', '5.1.2', '5.2', '5.3', '5.4', '5.5',\n",
       "       '5.6', '5.6.1', '5.6.2', '5.6.3', '5.6.4', '5.6.5', '5.6.6',\n",
       "       '5.6.7', '6.0', '6.1', '6.1.1', '6.2', '6.3', '6.3.1', '6.3.2',\n",
       "       '6.4', '6.5', '6.5-M1', '6.6', '6.6-M1', '6.7', '6.7.1', '6.7.2',\n",
       "       '6.7.3', '6.7.4', '6.7.5', '6.7.6', '6.7.7', '7.0', '7.1', '7.2',\n",
       "       '7.2.1', '7.3', '7.4', '7.5', '7.6', '7.7', '7.8', '7.9', '7.9.1',\n",
       "       '7.9.2', '7.9.3', '7.9.4', '8.0', '8.1', '8.2', '8.3', '8.3.1',\n",
       "       '8.4', '8.4.1', '8.4.2', 'DEV-MAVEN-PLUGIN-0.8 '], dtype=object)"
      ]
     },
     "execution_count": 67,
     "metadata": {},
     "output_type": "execute_result"
    }
   ],
   "source": [
    "versions.version_name.sort_values().unique()"
   ]
  },
  {
   "cell_type": "code",
   "execution_count": 68,
   "metadata": {},
   "outputs": [
    {
     "data": {
      "text/plain": [
       "68"
      ]
     },
     "execution_count": 68,
     "metadata": {},
     "output_type": "execute_result"
    }
   ],
   "source": [
    "len(versions.version_name.unique())"
   ]
  },
  {
   "cell_type": "markdown",
   "metadata": {},
   "source": [
    "**Number of versions per tags**"
   ]
  },
  {
   "cell_type": "code",
   "execution_count": 69,
   "metadata": {},
   "outputs": [
    {
     "name": "stderr",
     "output_type": "stream",
     "text": [
      "/Users/alexincerti/Library/Python/3.8/lib/python/site-packages/seaborn/_decorators.py:36: FutureWarning: Pass the following variable as a keyword arg: x. From version 0.12, the only valid positional argument will be `data`, and passing other arguments without an explicit keyword will result in an error or misinterpretation.\n",
      "  warnings.warn(\n"
     ]
    },
    {
     "data": {
      "text/plain": [
       "<AxesSubplot:ylabel='count'>"
      ]
     },
     "execution_count": 69,
     "metadata": {},
     "output_type": "execute_result"
    },
    {
     "data": {
      "image/png": "[encoded data removed]",
      "text/plain": [
       "<Figure size 1080x360 with 1 Axes>"
      ]
     },
     "metadata": {
      "needs_background": "light"
     },
     "output_type": "display_data"
    }
   ],
   "source": [
    "sns.countplot(versions.groupby(\"issue_id\").count().version_name.values)"
   ]
  },
  {
   "cell_type": "markdown",
   "metadata": {},
   "source": [
    "**Distribution of missing tags on Jira**"
   ]
  },
  {
   "cell_type": "code",
   "execution_count": 70,
   "metadata": {},
   "outputs": [],
   "source": [
    "#Versions on Jira have a slightly different format at times. This functions formats the versions to match Jira's\n",
    "def polish_version(version):\n",
    "    splits = version.split(\".\")\n",
    "    major = splits[0]\n",
    "    release = splits[1]\n",
    "    if(len(splits)>2):\n",
    "        modification = splits[2]\n",
    "        if(modification != \"0\"):\n",
    "            return f\"{major}.{release}.{modification}\"\n",
    "    \"\"\"if(\"-\" in release):\n",
    "        release = release.split(\"-\")[0]\"\"\"\n",
    "    return f\"{major}.{release}\"\n",
    "releases = set(map(lambda version: polish_version(version), tags.Tag.unique()))"
   ]
  },
  {
   "cell_type": "code",
   "execution_count": 71,
   "metadata": {
    "scrolled": true
   },
   "outputs": [
    {
     "name": "stderr",
     "output_type": "stream",
     "text": [
      "/Users/alexincerti/Library/Python/3.8/lib/python/site-packages/seaborn/_decorators.py:36: FutureWarning: Pass the following variable as a keyword arg: x. From version 0.12, the only valid positional argument will be `data`, and passing other arguments without an explicit keyword will result in an error or misinterpretation.\n",
      "  warnings.warn(\n"
     ]
    },
    {
     "data": {
      "text/plain": [
       "<AxesSubplot:ylabel='count'>"
      ]
     },
     "execution_count": 71,
     "metadata": {},
     "output_type": "execute_result"
    },
    {
     "data": {
      "image/png": "[encoded data removed]",
      "text/plain": [
       "<Figure size 1080x360 with 1 Axes>"
      ]
     },
     "metadata": {
      "needs_background": "light"
     },
     "output_type": "display_data"
    }
   ],
   "source": [
    "def type_of_version(version):\n",
    "    if \"RC\" in version: \n",
    "        return \"Release candidates\"\n",
    "    if \"M\" in version:\n",
    "        return \"Milestones\"\n",
    "    return \"Normal releases\"\n",
    "        \n",
    "    \n",
    "tags_not_on_jira = releases.difference(set(versions.version_name.sort_values().unique()))\n",
    "tags_not_on_jira_type = list(map(lambda v: type_of_version(v), tags_not_on_jira))\n",
    "github_tags_type = list(map(lambda v: type_of_version(v), tags.Tag.unique()))\n",
    "sns.countplot(github_tags_type)"
   ]
  },
  {
   "cell_type": "markdown",
   "metadata": {},
   "source": [
    "**Percentage of missing tags for each type**"
   ]
  },
  {
   "cell_type": "code",
   "execution_count": 72,
   "metadata": {},
   "outputs": [
    {
     "data": {
      "text/plain": [
       "<AxesSubplot:xlabel='Release type', ylabel='% missing on jira'>"
      ]
     },
     "execution_count": 72,
     "metadata": {},
     "output_type": "execute_result"
    },
    {
     "data": {
      "image/png": "[encoded data removed]",
      "text/plain": [
       "<Figure size 1080x360 with 1 Axes>"
      ]
     },
     "metadata": {
      "needs_background": "light"
     },
     "output_type": "display_data"
    }
   ],
   "source": [
    "data = []\n",
    "for typ in set(github_tags_type):\n",
    "    data.append((typ,tags_not_on_jira_type.count(typ) / github_tags_type.count(typ) * 100))\n",
    "data = pd.DataFrame(data, columns=[\"Release type\", \"% missing on jira\"])\n",
    "sns.barplot(x=\"Release type\", y=\"% missing on jira\", data=data)"
   ]
  },
  {
   "cell_type": "code",
   "execution_count": 73,
   "metadata": {},
   "outputs": [
    {
     "data": {
      "text/html": [
       "<div>\n",
       "<style scoped>\n",
       "    .dataframe tbody tr th:only-of-type {\n",
       "        vertical-align: middle;\n",
       "    }\n",
       "\n",
       "    .dataframe tbody tr th {\n",
       "        vertical-align: top;\n",
       "    }\n",
       "\n",
       "    .dataframe thead th {\n",
       "        text-align: right;\n",
       "    }\n",
       "</style>\n",
       "<table border=\"1\" class=\"dataframe\">\n",
       "  <thead>\n",
       "    <tr style=\"text-align: right;\">\n",
       "      <th></th>\n",
       "      <th>Release type</th>\n",
       "      <th>% missing on jira</th>\n",
       "    </tr>\n",
       "  </thead>\n",
       "  <tbody>\n",
       "    <tr>\n",
       "      <th>0</th>\n",
       "      <td>Milestones</td>\n",
       "      <td>96.666667</td>\n",
       "    </tr>\n",
       "    <tr>\n",
       "      <th>1</th>\n",
       "      <td>Normal releases</td>\n",
       "      <td>1.724138</td>\n",
       "    </tr>\n",
       "    <tr>\n",
       "      <th>2</th>\n",
       "      <td>Release candidates</td>\n",
       "      <td>100.000000</td>\n",
       "    </tr>\n",
       "  </tbody>\n",
       "</table>\n",
       "</div>"
      ],
      "text/plain": [
       "         Release type  % missing on jira\n",
       "0          Milestones          96.666667\n",
       "1     Normal releases           1.724138\n",
       "2  Release candidates         100.000000"
      ]
     },
     "execution_count": 73,
     "metadata": {},
     "output_type": "execute_result"
    }
   ],
   "source": [
    "data"
   ]
  },
  {
   "cell_type": "markdown",
   "metadata": {},
   "source": [
    "**Tags present on Jira but not on Github**"
   ]
  },
  {
   "cell_type": "code",
   "execution_count": 74,
   "metadata": {},
   "outputs": [
    {
     "data": {
      "text/plain": [
       "{'4.5',\n",
       " '4.5.1',\n",
       " '4.5.2',\n",
       " '4.5.4',\n",
       " '5.0',\n",
       " '5.0.1',\n",
       " '6.6-M1',\n",
       " '7.1',\n",
       " '7.2',\n",
       " '7.2.1',\n",
       " '7.3',\n",
       " '7.4',\n",
       " 'DEV-MAVEN-PLUGIN-0.8 '}"
      ]
     },
     "execution_count": 74,
     "metadata": {},
     "output_type": "execute_result"
    }
   ],
   "source": [
    "set(versions.version_name.sort_values().unique()).difference(set(releases))"
   ]
  },
  {
   "cell_type": "code",
   "execution_count": 75,
   "metadata": {},
   "outputs": [
    {
     "data": {
      "text/plain": [
       "13"
      ]
     },
     "execution_count": 75,
     "metadata": {},
     "output_type": "execute_result"
    }
   ],
   "source": [
    "len(set(versions.version_name.sort_values().unique()).difference(set(releases)))"
   ]
  },
  {
   "cell_type": "code",
   "execution_count": 76,
   "metadata": {},
   "outputs": [
    {
     "data": {
      "text/plain": [
       "55"
      ]
     },
     "execution_count": 76,
     "metadata": {},
     "output_type": "execute_result"
    }
   ],
   "source": [
    "len(set(set(versions.version_name.sort_values().unique())).intersection(set(releases)))"
   ]
  },
  {
   "cell_type": "markdown",
   "metadata": {},
   "source": [
    "* 55 versions are both present in Jira version field and on Github as tag\n",
    "* 13 versions used on Jira do not correspond to a Tag on Github\n",
    "* 100% of the release candidates are not used on Jira\n",
    "* 96% of the milestones are not used on Jira\n",
    "* Only 1.7% of normal releases are not used on Jira"
   ]
  },
  {
   "cell_type": "markdown",
   "metadata": {},
   "source": [
    "**Percentage of issues with a version**"
   ]
  },
  {
   "cell_type": "code",
   "execution_count": 77,
   "metadata": {},
   "outputs": [
    {
     "data": {
      "text/plain": [
       "19.43242775566707"
      ]
     },
     "execution_count": 77,
     "metadata": {},
     "output_type": "execute_result"
    }
   ],
   "source": [
    "len(versions.issue_id)/(len(issues.issue_id))*100"
   ]
  },
  {
   "cell_type": "markdown",
   "metadata": {},
   "source": [
    "**Top versions**"
   ]
  },
  {
   "cell_type": "code",
   "execution_count": 78,
   "metadata": {},
   "outputs": [],
   "source": [
    "top_versions = versions.groupby(\"version_name\").count().issue_id.reset_index().sort_values(by=\"issue_id\", ascending=False)"
   ]
  },
  {
   "cell_type": "code",
   "execution_count": 79,
   "metadata": {
    "scrolled": true
   },
   "outputs": [
    {
     "data": {
      "image/png": "[encoded data removed]",
      "text/plain": [
       "<Figure size 1080x360 with 1 Axes>"
      ]
     },
     "metadata": {
      "needs_background": "light"
     },
     "output_type": "display_data"
    }
   ],
   "source": [
    "ax = sns.barplot(x=\"version_name\", y=\"issue_id\", data=top_versions[[\"issue_id\", \"version_name\"]].head(30))"
   ]
  },
  {
   "cell_type": "code",
   "execution_count": 80,
   "metadata": {},
   "outputs": [
    {
     "data": {
      "text/plain": [
       "array(['5.2', '6.7', '5.0', '5.6', '5.1', '5.4', '4.5', '6.0', '6.4',\n",
       "       '7.9.1'], dtype=object)"
      ]
     },
     "execution_count": 80,
     "metadata": {},
     "output_type": "execute_result"
    }
   ],
   "source": [
    "top_versions.head(10).version_name.values"
   ]
  },
  {
   "cell_type": "markdown",
   "metadata": {},
   "source": [
    "**Distribution of issuetypes for each version**"
   ]
  },
  {
   "cell_type": "code",
   "execution_count": 81,
   "metadata": {},
   "outputs": [],
   "source": [
    "versions_sorted = versions.sort_values(by=\"version_name\").version_name.unique()"
   ]
  },
  {
   "cell_type": "code",
   "execution_count": 82,
   "metadata": {
    "scrolled": false
   },
   "outputs": [
    {
     "data": {
      "image/png": "[encoded data removed]",
      "text/plain": [
       "<Figure size 1080x648 with 2 Axes>"
      ]
     },
     "metadata": {
      "needs_background": "light"
     },
     "output_type": "display_data"
    }
   ],
   "source": [
    "f, axes = plt.subplots(2,1, figsize=(15,9), sharey=True)\n",
    "for i in range(2):\n",
    "    data = versions_merged[versions_merged.version_name.isin(versions_sorted[32*i:32*(i+1)])]\n",
    "    ax = sns.countplot(ax=axes[i], x=\"version_name\", \n",
    "                       hue=\"issuetype_name\", data=data.sort_values(by=\"version_name\").head(3000),\n",
    "                      palette={\"Bug\":\"r\",\"Improvement\":\"orange\",\n",
    "                               \"New Feature\": \"green\",\n",
    "                               \"Task\": \"yellow\",\n",
    "                               \"Sub-task\": \"pink\",\n",
    "                              \"Documentation\": \"grey\"})\n",
    "    ax.tick_params(axis='x', labelrotation= 60)\n",
    "    if i > 0:\n",
    "        ax.get_legend().remove()"
   ]
  },
  {
   "cell_type": "markdown",
   "metadata": {},
   "source": [
    "**Percentage of issuestype with a version**"
   ]
  },
  {
   "cell_type": "code",
   "execution_count": 83,
   "metadata": {
    "scrolled": true
   },
   "outputs": [
    {
     "data": {
      "text/plain": [
       "<AxesSubplot:xlabel='issuetype', ylabel='percentage_of_issue_with_version'>"
      ]
     },
     "execution_count": 83,
     "metadata": {},
     "output_type": "execute_result"
    },
    {
     "data": {
      "image/png": "[encoded data removed]",
      "text/plain": [
       "<Figure size 1080x360 with 1 Axes>"
      ]
     },
     "metadata": {
      "needs_background": "light"
     },
     "output_type": "display_data"
    }
   ],
   "source": [
    "data = []\n",
    "for issuetype in issues.issuetype_name.unique():\n",
    "    data.append((issuetype, len(set(issues[issues.issuetype_name == issuetype].issue_id).intersection(set(versions.issue_id)))\\\n",
    "                 /len(issues[issues.issuetype_name == issuetype].issue_id)))\n",
    "sns.barplot(x=\"issuetype\", y=\"percentage_of_issue_with_version\", data=pd.DataFrame(data, columns=[\"issuetype\", \"percentage_of_issue_with_version\"]))"
   ]
  },
  {
   "cell_type": "code",
   "execution_count": 84,
   "metadata": {},
   "outputs": [
    {
     "data": {
      "text/plain": [
       "[('Task', 0.021634615384615384),\n",
       " ('Improvement', 0.03428571428571429),\n",
       " ('New Feature', 0.005420054200542005),\n",
       " ('Bug', 0.5355746677091477),\n",
       " ('Documentation', 0.050505050505050504),\n",
       " ('Sub-task', 0.008583690987124463)]"
      ]
     },
     "execution_count": 84,
     "metadata": {},
     "output_type": "execute_result"
    }
   ],
   "source": [
    "data"
   ]
  },
  {
   "cell_type": "markdown",
   "metadata": {},
   "source": [
    "* We have 63 versions we can use for our Travis analysis\n",
    "* Only 17% of issues have a version\n",
    "* 52% of issues with type Bug have a version"
   ]
  },
  {
   "cell_type": "markdown",
   "metadata": {},
   "source": [
    "## FixVersions"
   ]
  },
  {
   "cell_type": "code",
   "execution_count": 85,
   "metadata": {},
   "outputs": [],
   "source": [
    "fixversions = fixversions[fixversions.fixVersion_name > \"4.4\"]\n",
    "fixversions_merged = fixversions.merge(issues, on=\"issue_id\")"
   ]
  },
  {
   "cell_type": "code",
   "execution_count": 86,
   "metadata": {},
   "outputs": [
    {
     "data": {
      "text/plain": [
       "array(['8.5', '8.6', '8.4.2', '9.0', '8.4.1', '8.2', '8.4', '7.9.4',\n",
       "       '8.3.1', '8.3', '7.9.3', '8.1', '7.9.2', '8.0', '7.9.1', '7.9',\n",
       "       '7.8', '6.7.7', '7.7', '7.6', '7.5', '6.7.6', '7.4', '6.7.5',\n",
       "       '7.3', '7.2.1', '7.2', '6.7.4', '7.1', '6.7.3', '6.7.2', '7.0',\n",
       "       '6.7.1', '6.7', '6.6', '6.6-M3', '6.4', '6.6-M1', '6.6-M2',\n",
       "       '5.6.7', '6.5', '6.5-M4', '6.5-M3', '6.3', '6.5-M2', '6.5-M1',\n",
       "       '6.3.1', '6.3.2', '5.6.6', '5.6.5', '6.2', '6.2.1', '5.6.4',\n",
       "       '6.1.1', '5.6.3', '6.1', '5.6.2', '6.0', '5.6.1', '5.6', '5.5',\n",
       "       '4.5.7', '5.4', '5.3', '5.2', '4.5.6', '4.5.5', '5.1.2', '5.1.1',\n",
       "       '5.1', '4.5.4', '5.0.1', '5.0', '4.5.2', '4.5.1', '4.4.1', '4.5',\n",
       "       'DEV-MAVEN-PLUGIN-0.9'], dtype=object)"
      ]
     },
     "execution_count": 86,
     "metadata": {},
     "output_type": "execute_result"
    }
   ],
   "source": [
    "fixversions.fixVersion_name.unique()"
   ]
  },
  {
   "cell_type": "code",
   "execution_count": 87,
   "metadata": {},
   "outputs": [
    {
     "data": {
      "text/plain": [
       "78"
      ]
     },
     "execution_count": 87,
     "metadata": {},
     "output_type": "execute_result"
    }
   ],
   "source": [
    "len(fixversions.fixVersion_name.unique())"
   ]
  },
  {
   "cell_type": "code",
   "execution_count": 88,
   "metadata": {},
   "outputs": [
    {
     "data": {
      "text/plain": [
       "{'4.4.1',\n",
       " '6.2.1',\n",
       " '6.5-M2',\n",
       " '6.5-M3',\n",
       " '6.5-M4',\n",
       " '6.6-M2',\n",
       " '6.6-M3',\n",
       " '8.5',\n",
       " '8.6',\n",
       " '9.0',\n",
       " 'DEV-MAVEN-PLUGIN-0.9'}"
      ]
     },
     "execution_count": 88,
     "metadata": {},
     "output_type": "execute_result"
    }
   ],
   "source": [
    "set(fixversions.fixVersion_name.unique()) - set(versions.version_name.unique())"
   ]
  },
  {
   "cell_type": "markdown",
   "metadata": {},
   "source": [
    "**How many fixversions each issue has?**"
   ]
  },
  {
   "cell_type": "code",
   "execution_count": 89,
   "metadata": {},
   "outputs": [
    {
     "data": {
      "text/plain": [
       "1    4520\n",
       "2     511\n",
       "3      15\n",
       "Name: fixVersion_id, dtype: int64"
      ]
     },
     "execution_count": 89,
     "metadata": {},
     "output_type": "execute_result"
    }
   ],
   "source": [
    "fixversions.groupby(\"issue_id\").fixVersion_id.count().value_counts()"
   ]
  },
  {
   "cell_type": "code",
   "execution_count": 90,
   "metadata": {},
   "outputs": [
    {
     "name": "stderr",
     "output_type": "stream",
     "text": [
      "/Users/alexincerti/Library/Python/3.8/lib/python/site-packages/seaborn/_decorators.py:36: FutureWarning: Pass the following variable as a keyword arg: x. From version 0.12, the only valid positional argument will be `data`, and passing other arguments without an explicit keyword will result in an error or misinterpretation.\n",
      "  warnings.warn(\n"
     ]
    },
    {
     "data": {
      "text/plain": [
       "<AxesSubplot:xlabel='fixVersion_id', ylabel='count'>"
      ]
     },
     "execution_count": 90,
     "metadata": {},
     "output_type": "execute_result"
    },
    {
     "data": {
      "image/png": "[encoded data removed]",
      "text/plain": [
       "<Figure size 1080x360 with 1 Axes>"
      ]
     },
     "metadata": {
      "needs_background": "light"
     },
     "output_type": "display_data"
    }
   ],
   "source": [
    "sns.countplot(fixversions.groupby(\"issue_id\").fixVersion_id.count())"
   ]
  },
  {
   "cell_type": "markdown",
   "metadata": {},
   "source": [
    "**Percentage of issues with a fixversion**"
   ]
  },
  {
   "cell_type": "code",
   "execution_count": 91,
   "metadata": {},
   "outputs": [
    {
     "data": {
      "text/plain": [
       "96.67762588683163"
      ]
     },
     "execution_count": 91,
     "metadata": {},
     "output_type": "execute_result"
    }
   ],
   "source": [
    "len(fixversions.issue_id)/(len(issues.issue_id))*100"
   ]
  },
  {
   "cell_type": "markdown",
   "metadata": {},
   "source": [
    "**Top fixversions**"
   ]
  },
  {
   "cell_type": "code",
   "execution_count": 92,
   "metadata": {},
   "outputs": [],
   "source": [
    "top_fixversions = fixversions.groupby(\"fixVersion_name\").count().issue_id.reset_index().sort_values(by=\"issue_id\", ascending=False)"
   ]
  },
  {
   "cell_type": "code",
   "execution_count": 93,
   "metadata": {
    "scrolled": true
   },
   "outputs": [
    {
     "data": {
      "image/png": "[encoded data removed]",
      "text/plain": [
       "<Figure size 1080x360 with 1 Axes>"
      ]
     },
     "metadata": {
      "needs_background": "light"
     },
     "output_type": "display_data"
    }
   ],
   "source": [
    "ax = sns.barplot(x=\"fixVersion_name\", y=\"issue_id\", data=top_fixversions[[\"issue_id\", \"fixVersion_name\"]].head(30))"
   ]
  },
  {
   "cell_type": "code",
   "execution_count": 94,
   "metadata": {},
   "outputs": [
    {
     "data": {
      "text/plain": [
       "array(['5.2', '6.4', '5.1', '6.6', '6.3', '7.2', '7.8', '6.2', '6.1',\n",
       "       '6.7'], dtype=object)"
      ]
     },
     "execution_count": 94,
     "metadata": {},
     "output_type": "execute_result"
    }
   ],
   "source": [
    "top_fixversions.head(10).fixVersion_name.values"
   ]
  },
  {
   "cell_type": "markdown",
   "metadata": {},
   "source": [
    "**Distribution of issuetypes for each version**"
   ]
  },
  {
   "cell_type": "code",
   "execution_count": 95,
   "metadata": {},
   "outputs": [],
   "source": [
    "fixversions_sorted = fixversions.sort_values(by=\"fixVersion_name\").fixVersion_name.unique()"
   ]
  },
  {
   "cell_type": "code",
   "execution_count": 96,
   "metadata": {
    "scrolled": false
   },
   "outputs": [
    {
     "data": {
      "image/png": "[encoded data removed]",
      "text/plain": [
       "<Figure size 1080x648 with 2 Axes>"
      ]
     },
     "metadata": {
      "needs_background": "light"
     },
     "output_type": "display_data"
    }
   ],
   "source": [
    "f, axes = plt.subplots(2,1, figsize=(15,9), sharey=True)\n",
    "for i in range(2):\n",
    "    data = fixversions_merged[fixversions_merged.fixVersion_name.isin(fixversions_sorted[32*i:32*(i+1)])]\n",
    "    ax = sns.countplot(ax=axes[i], x=\"fixVersion_name\", \n",
    "                       hue=\"issuetype_name\", data=data.sort_values(by=\"fixVersion_name\").head(3000),\n",
    "                      palette={\"Bug\":\"r\",\"Improvement\":\"orange\",\n",
    "                               \"New Feature\": \"green\",\n",
    "                               \"Task\": \"yellow\",\n",
    "                               \"Sub-task\": \"pink\",\n",
    "                              \"Documentation\": \"grey\"})\n",
    "    ax.tick_params(axis='x', labelrotation= 60)\n",
    "    if i > 0:\n",
    "        ax.get_legend().remove()"
   ]
  },
  {
   "cell_type": "markdown",
   "metadata": {},
   "source": [
    "**Percentage of issuestype with a version**"
   ]
  },
  {
   "cell_type": "code",
   "execution_count": 97,
   "metadata": {
    "scrolled": true
   },
   "outputs": [
    {
     "data": {
      "text/plain": [
       "<AxesSubplot:xlabel='issuetype', ylabel='percentage_of_issue_with_fixversion'>"
      ]
     },
     "execution_count": 97,
     "metadata": {},
     "output_type": "execute_result"
    },
    {
     "data": {
      "image/png": "[encoded data removed]",
      "text/plain": [
       "<Figure size 1080x360 with 1 Axes>"
      ]
     },
     "metadata": {
      "needs_background": "light"
     },
     "output_type": "display_data"
    }
   ],
   "source": [
    "data = []\n",
    "for issuetype in issues.issuetype_name.unique():\n",
    "    issuetype_ids = issues[issues.issuetype_name == issuetype].issue_id\n",
    "    data.append((issuetype, len(set(issuetype_ids).intersection(set(fixversions.issue_id)))\\\n",
    "                 /len(issuetype_ids)))\n",
    "sns.barplot(x=\"issuetype\", y=\"percentage_of_issue_with_fixversion\", data=pd.DataFrame(data, columns=[\"issuetype\", \"percentage_of_issue_with_fixversion\"]))"
   ]
  },
  {
   "cell_type": "code",
   "execution_count": 98,
   "metadata": {},
   "outputs": [
    {
     "data": {
      "text/plain": [
       "[('Task', 0.7403846153846154),\n",
       " ('Improvement', 0.6984126984126984),\n",
       " ('New Feature', 0.7940379403794038),\n",
       " ('Bug', 0.8373729476153244),\n",
       " ('Documentation', 0.6767676767676768),\n",
       " ('Sub-task', 0.6437768240343348)]"
      ]
     },
     "execution_count": 98,
     "metadata": {},
     "output_type": "execute_result"
    }
   ],
   "source": [
    "data"
   ]
  },
  {
   "cell_type": "markdown",
   "metadata": {},
   "source": [
    "* We have 72 fix versions we can use for our Travis analysis (? more than versions)\n",
    "* 92% of issues have a fixversion\n",
    "* The issuetypes with most issues with a fixversion are Bug and New Feature"
   ]
  },
  {
   "cell_type": "markdown",
   "metadata": {},
   "source": [
    "## No version issues\n",
    "Ideally all bugs would be labeled with a version. Why is it not the case?"
   ]
  },
  {
   "cell_type": "code",
   "execution_count": 99,
   "metadata": {},
   "outputs": [
    {
     "data": {
      "text/html": [
       "<div>\n",
       "<style scoped>\n",
       "    .dataframe tbody tr th:only-of-type {\n",
       "        vertical-align: middle;\n",
       "    }\n",
       "\n",
       "    .dataframe tbody tr th {\n",
       "        vertical-align: top;\n",
       "    }\n",
       "\n",
       "    .dataframe thead th {\n",
       "        text-align: right;\n",
       "    }\n",
       "</style>\n",
       "<table border=\"1\" class=\"dataframe\">\n",
       "  <thead>\n",
       "    <tr style=\"text-align: right;\">\n",
       "      <th></th>\n",
       "      <th>updated</th>\n",
       "      <th>environment</th>\n",
       "      <th>creator</th>\n",
       "      <th>issue_id</th>\n",
       "      <th>reporter</th>\n",
       "      <th>issuetype_name</th>\n",
       "      <th>issue_key</th>\n",
       "      <th>assignee</th>\n",
       "      <th>votes</th>\n",
       "      <th>created</th>\n",
       "      <th>project</th>\n",
       "      <th>resolutiondate</th>\n",
       "      <th>status_id</th>\n",
       "      <th>summary</th>\n",
       "      <th>reporter_name</th>\n",
       "      <th>resolution_name</th>\n",
       "      <th>lastViewed</th>\n",
       "      <th>issuetype_id</th>\n",
       "      <th>edition</th>\n",
       "      <th>duedate</th>\n",
       "      <th>status_name</th>\n",
       "      <th>votes_votes</th>\n",
       "      <th>description</th>\n",
       "      <th>priority_id</th>\n",
       "      <th>priority_name</th>\n",
       "      <th>status</th>\n",
       "      <th>assignee_name</th>\n",
       "      <th>creator_name</th>\n",
       "      <th>created_month</th>\n",
       "      <th>created_year</th>\n",
       "    </tr>\n",
       "  </thead>\n",
       "  <tbody>\n",
       "    <tr>\n",
       "      <th>35</th>\n",
       "      <td>2020-09-15 12:37:57+00:00</td>\n",
       "      <td>NaN</td>\n",
       "      <td>Julien Lancelot</td>\n",
       "      <td>97392</td>\n",
       "      <td>Julien Lancelot</td>\n",
       "      <td>Bug</td>\n",
       "      <td>SONAR-13866</td>\n",
       "      <td>Jacek Poreda</td>\n",
       "      <td>0</td>\n",
       "      <td>2020-09-09 08:44:19+00:00</td>\n",
       "      <td>SONAR</td>\n",
       "      <td>2020-09-15 12:37:57+00:00</td>\n",
       "      <td>6</td>\n",
       "      <td>It should not be possible to use a description...</td>\n",
       "      <td>julien.lancelot</td>\n",
       "      <td>Fixed</td>\n",
       "      <td>NaT</td>\n",
       "      <td>1</td>\n",
       "      <td>Enterprise</td>\n",
       "      <td>NaT</td>\n",
       "      <td>Closed</td>\n",
       "      <td>0</td>\n",
       "      <td>When using {{api/views/add_sub_view}} with a d...</td>\n",
       "      <td>3</td>\n",
       "      <td>Major</td>\n",
       "      <td>Closed</td>\n",
       "      <td>jacek.poreda</td>\n",
       "      <td>julien.lancelot</td>\n",
       "      <td>9</td>\n",
       "      <td>2020</td>\n",
       "    </tr>\n",
       "    <tr>\n",
       "      <th>43</th>\n",
       "      <td>2020-09-18 09:41:58+00:00</td>\n",
       "      <td>NaN</td>\n",
       "      <td>Jacek Poreda</td>\n",
       "      <td>97360</td>\n",
       "      <td>Jacek Poreda</td>\n",
       "      <td>Bug</td>\n",
       "      <td>SONAR-13857</td>\n",
       "      <td>Jeremy Davis</td>\n",
       "      <td>0</td>\n",
       "      <td>2020-09-08 07:52:57+00:00</td>\n",
       "      <td>SONAR</td>\n",
       "      <td>2020-09-18 09:41:58+00:00</td>\n",
       "      <td>6</td>\n",
       "      <td>Projects page - Security Review facet on new c...</td>\n",
       "      <td>jacek.poreda</td>\n",
       "      <td>Fixed</td>\n",
       "      <td>NaT</td>\n",
       "      <td>1</td>\n",
       "      <td>Community</td>\n",
       "      <td>2020-09-21 00:00:00+00:00</td>\n",
       "      <td>Closed</td>\n",
       "      <td>0</td>\n",
       "      <td>Facet `Security Review` is not working while c...</td>\n",
       "      <td>3</td>\n",
       "      <td>Major</td>\n",
       "      <td>Closed</td>\n",
       "      <td>jeremy.davis</td>\n",
       "      <td>jacek.poreda</td>\n",
       "      <td>9</td>\n",
       "      <td>2020</td>\n",
       "    </tr>\n",
       "    <tr>\n",
       "      <th>46</th>\n",
       "      <td>2020-09-04 22:20:07+00:00</td>\n",
       "      <td>NaN</td>\n",
       "      <td>Duarte Meneses</td>\n",
       "      <td>97337</td>\n",
       "      <td>Duarte Meneses</td>\n",
       "      <td>Bug</td>\n",
       "      <td>SONAR-13854</td>\n",
       "      <td>NaN</td>\n",
       "      <td>0</td>\n",
       "      <td>2020-09-04 22:18:18+00:00</td>\n",
       "      <td>SONAR</td>\n",
       "      <td>NaT</td>\n",
       "      <td>1</td>\n",
       "      <td>Identification of the plugin that created a ru...</td>\n",
       "      <td>duarte.meneses</td>\n",
       "      <td>NaN</td>\n",
       "      <td>NaT</td>\n",
       "      <td>1</td>\n",
       "      <td>Community</td>\n",
       "      <td>NaT</td>\n",
       "      <td>Open</td>\n",
       "      <td>0</td>\n",
       "      <td>All plugins extending a base plugin share the ...</td>\n",
       "      <td>3</td>\n",
       "      <td>Major</td>\n",
       "      <td>Open</td>\n",
       "      <td>NaN</td>\n",
       "      <td>duarte.meneses</td>\n",
       "      <td>9</td>\n",
       "      <td>2020</td>\n",
       "    </tr>\n",
       "    <tr>\n",
       "      <th>52</th>\n",
       "      <td>2020-09-04 13:22:54+00:00</td>\n",
       "      <td>NaN</td>\n",
       "      <td>Jeremy Davis</td>\n",
       "      <td>97230</td>\n",
       "      <td>Jeremy Davis</td>\n",
       "      <td>Bug</td>\n",
       "      <td>SONAR-13847</td>\n",
       "      <td>Jeremy Davis</td>\n",
       "      <td>0</td>\n",
       "      <td>2020-09-02 15:59:37+00:00</td>\n",
       "      <td>SONAR</td>\n",
       "      <td>2020-09-04 13:22:54+00:00</td>\n",
       "      <td>6</td>\n",
       "      <td>Project overview isn't refreshed after first a...</td>\n",
       "      <td>jeremy.davis</td>\n",
       "      <td>Fixed</td>\n",
       "      <td>NaT</td>\n",
       "      <td>1</td>\n",
       "      <td>Community</td>\n",
       "      <td>2020-09-10 00:00:00+00:00</td>\n",
       "      <td>Closed</td>\n",
       "      <td>0</td>\n",
       "      <td>When a new project is analyzed, the page is su...</td>\n",
       "      <td>3</td>\n",
       "      <td>Major</td>\n",
       "      <td>Closed</td>\n",
       "      <td>jeremy.davis</td>\n",
       "      <td>jeremy.davis</td>\n",
       "      <td>9</td>\n",
       "      <td>2020</td>\n",
       "    </tr>\n",
       "    <tr>\n",
       "      <th>67</th>\n",
       "      <td>2020-08-28 14:35:24+00:00</td>\n",
       "      <td>NaN</td>\n",
       "      <td>Duarte Meneses</td>\n",
       "      <td>97063</td>\n",
       "      <td>Duarte Meneses</td>\n",
       "      <td>Bug</td>\n",
       "      <td>SONAR-13827</td>\n",
       "      <td>Duarte Meneses</td>\n",
       "      <td>0</td>\n",
       "      <td>2020-08-27 17:28:16+00:00</td>\n",
       "      <td>SONAR</td>\n",
       "      <td>2020-08-28 14:35:24+00:00</td>\n",
       "      <td>6</td>\n",
       "      <td>New Code Period set to \"reference branch\" is n...</td>\n",
       "      <td>duarte.meneses</td>\n",
       "      <td>Fixed</td>\n",
       "      <td>NaT</td>\n",
       "      <td>1</td>\n",
       "      <td>Community</td>\n",
       "      <td>2020-09-03 00:00:00+00:00</td>\n",
       "      <td>Closed</td>\n",
       "      <td>0</td>\n",
       "      <td>Due to a mistake implementing the new SCM API ...</td>\n",
       "      <td>3</td>\n",
       "      <td>Major</td>\n",
       "      <td>Closed</td>\n",
       "      <td>duarte.meneses</td>\n",
       "      <td>duarte.meneses</td>\n",
       "      <td>8</td>\n",
       "      <td>2020</td>\n",
       "    </tr>\n",
       "  </tbody>\n",
       "</table>\n",
       "</div>"
      ],
      "text/plain": [
       "                     updated environment          creator  issue_id  \\\n",
       "35 2020-09-15 12:37:57+00:00         NaN  Julien Lancelot     97392   \n",
       "43 2020-09-18 09:41:58+00:00         NaN     Jacek Poreda     97360   \n",
       "46 2020-09-04 22:20:07+00:00         NaN   Duarte Meneses     97337   \n",
       "52 2020-09-04 13:22:54+00:00         NaN     Jeremy Davis     97230   \n",
       "67 2020-08-28 14:35:24+00:00         NaN   Duarte Meneses     97063   \n",
       "\n",
       "           reporter issuetype_name    issue_key        assignee  votes  \\\n",
       "35  Julien Lancelot            Bug  SONAR-13866    Jacek Poreda      0   \n",
       "43     Jacek Poreda            Bug  SONAR-13857    Jeremy Davis      0   \n",
       "46   Duarte Meneses            Bug  SONAR-13854             NaN      0   \n",
       "52     Jeremy Davis            Bug  SONAR-13847    Jeremy Davis      0   \n",
       "67   Duarte Meneses            Bug  SONAR-13827  Duarte Meneses      0   \n",
       "\n",
       "                     created project            resolutiondate  status_id  \\\n",
       "35 2020-09-09 08:44:19+00:00   SONAR 2020-09-15 12:37:57+00:00          6   \n",
       "43 2020-09-08 07:52:57+00:00   SONAR 2020-09-18 09:41:58+00:00          6   \n",
       "46 2020-09-04 22:18:18+00:00   SONAR                       NaT          1   \n",
       "52 2020-09-02 15:59:37+00:00   SONAR 2020-09-04 13:22:54+00:00          6   \n",
       "67 2020-08-27 17:28:16+00:00   SONAR 2020-08-28 14:35:24+00:00          6   \n",
       "\n",
       "                                              summary    reporter_name  \\\n",
       "35  It should not be possible to use a description...  julien.lancelot   \n",
       "43  Projects page - Security Review facet on new c...     jacek.poreda   \n",
       "46  Identification of the plugin that created a ru...   duarte.meneses   \n",
       "52  Project overview isn't refreshed after first a...     jeremy.davis   \n",
       "67  New Code Period set to \"reference branch\" is n...   duarte.meneses   \n",
       "\n",
       "   resolution_name lastViewed  issuetype_id     edition  \\\n",
       "35           Fixed        NaT             1  Enterprise   \n",
       "43           Fixed        NaT             1   Community   \n",
       "46             NaN        NaT             1   Community   \n",
       "52           Fixed        NaT             1   Community   \n",
       "67           Fixed        NaT             1   Community   \n",
       "\n",
       "                     duedate status_name  votes_votes  \\\n",
       "35                       NaT      Closed            0   \n",
       "43 2020-09-21 00:00:00+00:00      Closed            0   \n",
       "46                       NaT        Open            0   \n",
       "52 2020-09-10 00:00:00+00:00      Closed            0   \n",
       "67 2020-09-03 00:00:00+00:00      Closed            0   \n",
       "\n",
       "                                          description  priority_id  \\\n",
       "35  When using {{api/views/add_sub_view}} with a d...            3   \n",
       "43  Facet `Security Review` is not working while c...            3   \n",
       "46  All plugins extending a base plugin share the ...            3   \n",
       "52  When a new project is analyzed, the page is su...            3   \n",
       "67  Due to a mistake implementing the new SCM API ...            3   \n",
       "\n",
       "   priority_name  status   assignee_name     creator_name  created_month  \\\n",
       "35         Major  Closed    jacek.poreda  julien.lancelot              9   \n",
       "43         Major  Closed    jeremy.davis     jacek.poreda              9   \n",
       "46         Major    Open             NaN   duarte.meneses              9   \n",
       "52         Major  Closed    jeremy.davis     jeremy.davis              9   \n",
       "67         Major  Closed  duarte.meneses   duarte.meneses              8   \n",
       "\n",
       "    created_year  \n",
       "35          2020  \n",
       "43          2020  \n",
       "46          2020  \n",
       "52          2020  \n",
       "67          2020  "
      ]
     },
     "execution_count": 99,
     "metadata": {},
     "output_type": "execute_result"
    }
   ],
   "source": [
    "no_version_issues = issues[~issues.issue_id.isin(versions.issue_id.unique())]\n",
    "bug_no_version = no_version_issues[no_version_issues.issuetype_name == \"Bug\"]\n",
    "bug_no_version.head()"
   ]
  },
  {
   "cell_type": "markdown",
   "metadata": {},
   "source": [
    "**Issues with no version and their resolution type distribution**"
   ]
  },
  {
   "cell_type": "code",
   "execution_count": 100,
   "metadata": {},
   "outputs": [
    {
     "data": {
      "text/plain": [
       "Fixed               0.847019\n",
       "Won't Fix           0.100337\n",
       "Duplicate           0.031271\n",
       "Cannot Reproduce    0.006524\n",
       "Won't Do            0.006074\n",
       "Done                0.004274\n",
       "Canceled            0.002025\n",
       "Not an issue        0.001575\n",
       "Incomplete          0.000450\n",
       "Moved To GitHub     0.000225\n",
       "Not A Bug           0.000225\n",
       "Name: resolution_name, dtype: float64"
      ]
     },
     "execution_count": 100,
     "metadata": {},
     "output_type": "execute_result"
    }
   ],
   "source": [
    "no_version_issues.resolution_name.value_counts(normalize=True)"
   ]
  },
  {
   "cell_type": "code",
   "execution_count": 101,
   "metadata": {},
   "outputs": [
    {
     "name": "stderr",
     "output_type": "stream",
     "text": [
      "/Users/alexincerti/Library/Python/3.8/lib/python/site-packages/seaborn/_decorators.py:36: FutureWarning: Pass the following variable as a keyword arg: x. From version 0.12, the only valid positional argument will be `data`, and passing other arguments without an explicit keyword will result in an error or misinterpretation.\n",
      "  warnings.warn(\n"
     ]
    },
    {
     "data": {
      "text/plain": [
       "<AxesSubplot:xlabel='resolution_name', ylabel='count'>"
      ]
     },
     "execution_count": 101,
     "metadata": {},
     "output_type": "execute_result"
    },
    {
     "data": {
      "image/png": "[encoded data removed]",
      "text/plain": [
       "<Figure size 1080x360 with 1 Axes>"
      ]
     },
     "metadata": {
      "needs_background": "light"
     },
     "output_type": "display_data"
    }
   ],
   "source": [
    "sns.countplot(no_version_issues.resolution_name)"
   ]
  },
  {
   "cell_type": "markdown",
   "metadata": {},
   "source": [
    "**Percentage of issues with no versions over the years**"
   ]
  },
  {
   "cell_type": "code",
   "execution_count": 102,
   "metadata": {},
   "outputs": [
    {
     "name": "stderr",
     "output_type": "stream",
     "text": [
      "/Users/alexincerti/Library/Python/3.8/lib/python/site-packages/seaborn/_decorators.py:36: FutureWarning: Pass the following variables as keyword args: x, y. From version 0.12, the only valid positional argument will be `data`, and passing other arguments without an explicit keyword will result in an error or misinterpretation.\n",
      "  warnings.warn(\n"
     ]
    },
    {
     "data": {
      "text/plain": [
       "<AxesSubplot:>"
      ]
     },
     "execution_count": 102,
     "metadata": {},
     "output_type": "execute_result"
    },
    {
     "data": {
      "image/png": "[encoded data removed]",
      "text/plain": [
       "<Figure size 1080x360 with 1 Axes>"
      ]
     },
     "metadata": {
      "needs_background": "light"
     },
     "output_type": "display_data"
    }
   ],
   "source": [
    "x = no_version_issues.created_year.value_counts(normalize=True).sort_index()\n",
    "sns.barplot(x.index, x.values)"
   ]
  },
  {
   "cell_type": "markdown",
   "metadata": {},
   "source": [
    "**Bugs with no version resolution type distribution**"
   ]
  },
  {
   "cell_type": "code",
   "execution_count": 103,
   "metadata": {},
   "outputs": [
    {
     "data": {
      "text/plain": [
       "Fixed               0.868561\n",
       "Won't Fix           0.072824\n",
       "Cannot Reproduce    0.033748\n",
       "Duplicate           0.021314\n",
       "Not an issue        0.001776\n",
       "Done                0.001776\n",
       "Name: resolution_name, dtype: float64"
      ]
     },
     "execution_count": 103,
     "metadata": {},
     "output_type": "execute_result"
    }
   ],
   "source": [
    "bug_no_version.resolution_name.value_counts(normalize=True)"
   ]
  },
  {
   "cell_type": "code",
   "execution_count": 104,
   "metadata": {},
   "outputs": [
    {
     "name": "stderr",
     "output_type": "stream",
     "text": [
      "/Users/alexincerti/Library/Python/3.8/lib/python/site-packages/seaborn/_decorators.py:36: FutureWarning: Pass the following variable as a keyword arg: x. From version 0.12, the only valid positional argument will be `data`, and passing other arguments without an explicit keyword will result in an error or misinterpretation.\n",
      "  warnings.warn(\n"
     ]
    },
    {
     "data": {
      "text/plain": [
       "<AxesSubplot:xlabel='resolution_name', ylabel='count'>"
      ]
     },
     "execution_count": 104,
     "metadata": {},
     "output_type": "execute_result"
    },
    {
     "data": {
      "image/png": "[encoded data removed]",
      "text/plain": [
       "<Figure size 1080x360 with 1 Axes>"
      ]
     },
     "metadata": {
      "needs_background": "light"
     },
     "output_type": "display_data"
    }
   ],
   "source": [
    "sns.countplot(bug_no_version.resolution_name)"
   ]
  },
  {
   "cell_type": "markdown",
   "metadata": {},
   "source": [
    "* 84% of the issues with no version have been fixed\n",
    "* 86% of the issues with no version AND of type Bug have been fixed\n",
    "\n",
    "This means that for almost 500 bug issues a solution has been found. This can possibly be exploited for identifying in which version the bug was introduced."
   ]
  },
  {
   "cell_type": "markdown",
   "metadata": {},
   "source": [
    "### Status"
   ]
  },
  {
   "cell_type": "code",
   "execution_count": 105,
   "metadata": {},
   "outputs": [
    {
     "data": {
      "text/plain": [
       "array(['Open', 'In Review', 'In Progress', 'Closed', 'To Do', 'Resolved',\n",
       "       'Reopened'], dtype=object)"
      ]
     },
     "execution_count": 105,
     "metadata": {},
     "output_type": "execute_result"
    }
   ],
   "source": [
    "issues.status.unique()"
   ]
  },
  {
   "cell_type": "code",
   "execution_count": 106,
   "metadata": {
    "scrolled": true
   },
   "outputs": [
    {
     "data": {
      "image/png": "[encoded data removed]",
      "text/plain": [
       "<Figure size 1080x360 with 1 Axes>"
      ]
     },
     "metadata": {
      "needs_background": "light"
     },
     "output_type": "display_data"
    }
   ],
   "source": [
    "ax = sns.countplot(x=\"status\", data=issues[[\"issue_id\", \"status\"]])"
   ]
  },
  {
   "cell_type": "markdown",
   "metadata": {},
   "source": [
    "### Edition"
   ]
  },
  {
   "cell_type": "code",
   "execution_count": 107,
   "metadata": {},
   "outputs": [
    {
     "data": {
      "image/png": "[encoded data removed]",
      "text/plain": [
       "<Figure size 1080x360 with 1 Axes>"
      ]
     },
     "metadata": {
      "needs_background": "light"
     },
     "output_type": "display_data"
    }
   ],
   "source": [
    "ax = sns.countplot(x=\"edition\", data=issues)"
   ]
  },
  {
   "cell_type": "code",
   "execution_count": 108,
   "metadata": {},
   "outputs": [
    {
     "data": {
      "text/plain": [
       "count          2315\n",
       "unique            5\n",
       "top       Community\n",
       "freq           1869\n",
       "Name: edition, dtype: object"
      ]
     },
     "execution_count": 108,
     "metadata": {},
     "output_type": "execute_result"
    }
   ],
   "source": [
    "issues.edition.describe()"
   ]
  },
  {
   "cell_type": "code",
   "execution_count": 109,
   "metadata": {},
   "outputs": [
    {
     "data": {
      "text/plain": [
       "3464"
      ]
     },
     "execution_count": 109,
     "metadata": {},
     "output_type": "execute_result"
    }
   ],
   "source": [
    "issues.edition.isna().sum()"
   ]
  },
  {
   "cell_type": "code",
   "execution_count": 110,
   "metadata": {
    "scrolled": true
   },
   "outputs": [
    {
     "data": {
      "text/html": [
       "<div>\n",
       "<style scoped>\n",
       "    .dataframe tbody tr th:only-of-type {\n",
       "        vertical-align: middle;\n",
       "    }\n",
       "\n",
       "    .dataframe tbody tr th {\n",
       "        vertical-align: top;\n",
       "    }\n",
       "\n",
       "    .dataframe thead th {\n",
       "        text-align: right;\n",
       "    }\n",
       "</style>\n",
       "<table border=\"1\" class=\"dataframe\">\n",
       "  <thead>\n",
       "    <tr style=\"text-align: right;\">\n",
       "      <th></th>\n",
       "      <th>updated</th>\n",
       "      <th>environment</th>\n",
       "      <th>creator</th>\n",
       "      <th>issue_id</th>\n",
       "      <th>reporter</th>\n",
       "      <th>issuetype_name</th>\n",
       "      <th>issue_key</th>\n",
       "      <th>assignee</th>\n",
       "      <th>votes</th>\n",
       "      <th>created</th>\n",
       "      <th>project</th>\n",
       "      <th>resolutiondate</th>\n",
       "      <th>status_id</th>\n",
       "      <th>summary</th>\n",
       "      <th>reporter_name</th>\n",
       "      <th>resolution_name</th>\n",
       "      <th>lastViewed</th>\n",
       "      <th>issuetype_id</th>\n",
       "      <th>edition</th>\n",
       "      <th>duedate</th>\n",
       "      <th>status_name</th>\n",
       "      <th>votes_votes</th>\n",
       "      <th>description</th>\n",
       "      <th>priority_id</th>\n",
       "      <th>priority_name</th>\n",
       "      <th>status</th>\n",
       "      <th>assignee_name</th>\n",
       "      <th>creator_name</th>\n",
       "      <th>created_month</th>\n",
       "      <th>created_year</th>\n",
       "    </tr>\n",
       "  </thead>\n",
       "  <tbody>\n",
       "    <tr>\n",
       "      <th>1537</th>\n",
       "      <td>2018-12-17 16:42:19+00:00</td>\n",
       "      <td>NaN</td>\n",
       "      <td>Janos Gyerik</td>\n",
       "      <td>79313</td>\n",
       "      <td>Janos Gyerik</td>\n",
       "      <td>Bug</td>\n",
       "      <td>SONAR-11537</td>\n",
       "      <td>Janos Gyerik</td>\n",
       "      <td>0</td>\n",
       "      <td>2018-11-27 14:36:47+00:00</td>\n",
       "      <td>SONAR</td>\n",
       "      <td>2018-12-03 17:05:12+00:00</td>\n",
       "      <td>6</td>\n",
       "      <td>Fix intermittent failures to create Check Run ...</td>\n",
       "      <td>janos.gyerik</td>\n",
       "      <td>Fixed</td>\n",
       "      <td>NaT</td>\n",
       "      <td>1</td>\n",
       "      <td>NaN</td>\n",
       "      <td>2018-12-10 00:00:00+00:00</td>\n",
       "      <td>Closed</td>\n",
       "      <td>0</td>\n",
       "      <td>Sometimes, Check Run is not created at the end...</td>\n",
       "      <td>3</td>\n",
       "      <td>Major</td>\n",
       "      <td>Closed</td>\n",
       "      <td>janos.gyerik</td>\n",
       "      <td>janos.gyerik</td>\n",
       "      <td>11</td>\n",
       "      <td>2018</td>\n",
       "    </tr>\n",
       "    <tr>\n",
       "      <th>1682</th>\n",
       "      <td>2018-11-19 20:05:22+00:00</td>\n",
       "      <td>NaN</td>\n",
       "      <td>Jean-Baptiste Lievremont</td>\n",
       "      <td>76901</td>\n",
       "      <td>Jean-Baptiste Lievremont</td>\n",
       "      <td>Bug</td>\n",
       "      <td>SONAR-11300</td>\n",
       "      <td>Fabrice Bellingard</td>\n",
       "      <td>0</td>\n",
       "      <td>2018-09-21 12:10:27+00:00</td>\n",
       "      <td>SONAR</td>\n",
       "      <td>2018-09-24 09:26:19+00:00</td>\n",
       "      <td>6</td>\n",
       "      <td>Coupons with periods larger than 1 year have a...</td>\n",
       "      <td>jeanbaptiste.lievremont</td>\n",
       "      <td>Fixed</td>\n",
       "      <td>NaT</td>\n",
       "      <td>1</td>\n",
       "      <td>NaN</td>\n",
       "      <td>2018-09-28 00:00:00+00:00</td>\n",
       "      <td>Closed</td>\n",
       "      <td>0</td>\n",
       "      <td>When the duration of a SonarCloud coupon excee...</td>\n",
       "      <td>3</td>\n",
       "      <td>Major</td>\n",
       "      <td>Closed</td>\n",
       "      <td>fabrice.bellingard</td>\n",
       "      <td>jeanbaptiste.lievremont</td>\n",
       "      <td>9</td>\n",
       "      <td>2018</td>\n",
       "    </tr>\n",
       "    <tr>\n",
       "      <th>1693</th>\n",
       "      <td>2018-10-11 16:09:12+00:00</td>\n",
       "      <td>NaN</td>\n",
       "      <td>Sebastien Lesaint</td>\n",
       "      <td>76792</td>\n",
       "      <td>Sebastien Lesaint</td>\n",
       "      <td>Bug</td>\n",
       "      <td>SONAR-11280</td>\n",
       "      <td>Sebastien Lesaint</td>\n",
       "      <td>0</td>\n",
       "      <td>2018-09-18 15:09:28+00:00</td>\n",
       "      <td>SONAR</td>\n",
       "      <td>2018-10-11 16:07:18+00:00</td>\n",
       "      <td>6</td>\n",
       "      <td>PostProjectAnalysisTasks API fails when consum...</td>\n",
       "      <td>sebastien.lesaint</td>\n",
       "      <td>Fixed</td>\n",
       "      <td>NaT</td>\n",
       "      <td>1</td>\n",
       "      <td>NaN</td>\n",
       "      <td>2018-10-17 00:00:00+00:00</td>\n",
       "      <td>Closed</td>\n",
       "      <td>0</td>\n",
       "      <td>If a Billing exception is raised on a PR, the ...</td>\n",
       "      <td>3</td>\n",
       "      <td>Major</td>\n",
       "      <td>Closed</td>\n",
       "      <td>sebastien.lesaint</td>\n",
       "      <td>sebastien.lesaint</td>\n",
       "      <td>9</td>\n",
       "      <td>2018</td>\n",
       "    </tr>\n",
       "    <tr>\n",
       "      <th>1699</th>\n",
       "      <td>2018-10-11 09:16:06+00:00</td>\n",
       "      <td>NaN</td>\n",
       "      <td>Julien Lancelot</td>\n",
       "      <td>76729</td>\n",
       "      <td>Julien Lancelot</td>\n",
       "      <td>Bug</td>\n",
       "      <td>SONAR-11269</td>\n",
       "      <td>Janos Gyerik</td>\n",
       "      <td>0</td>\n",
       "      <td>2018-09-17 08:24:45+00:00</td>\n",
       "      <td>SONAR</td>\n",
       "      <td>2018-10-11 09:16:06+00:00</td>\n",
       "      <td>6</td>\n",
       "      <td>Fail to automatically create project from an e...</td>\n",
       "      <td>julien.lancelot</td>\n",
       "      <td>Fixed</td>\n",
       "      <td>NaT</td>\n",
       "      <td>1</td>\n",
       "      <td>NaN</td>\n",
       "      <td>2018-10-16 00:00:00+00:00</td>\n",
       "      <td>Closed</td>\n",
       "      <td>0</td>\n",
       "      <td>Here's the error when trying to automatically ...</td>\n",
       "      <td>3</td>\n",
       "      <td>Major</td>\n",
       "      <td>Closed</td>\n",
       "      <td>janos.gyerik</td>\n",
       "      <td>julien.lancelot</td>\n",
       "      <td>9</td>\n",
       "      <td>2018</td>\n",
       "    </tr>\n",
       "    <tr>\n",
       "      <th>1701</th>\n",
       "      <td>2018-10-11 08:45:10+00:00</td>\n",
       "      <td>NaN</td>\n",
       "      <td>Julien Lancelot</td>\n",
       "      <td>76715</td>\n",
       "      <td>Julien Lancelot</td>\n",
       "      <td>Bug</td>\n",
       "      <td>SONAR-11267</td>\n",
       "      <td>Stas Vilchik</td>\n",
       "      <td>0</td>\n",
       "      <td>2018-09-14 15:29:41+00:00</td>\n",
       "      <td>SONAR</td>\n",
       "      <td>2018-10-11 08:45:10+00:00</td>\n",
       "      <td>6</td>\n",
       "      <td>Missing localization message when selecting ma...</td>\n",
       "      <td>julien.lancelot</td>\n",
       "      <td>Fixed</td>\n",
       "      <td>NaT</td>\n",
       "      <td>1</td>\n",
       "      <td>NaN</td>\n",
       "      <td>2018-10-17 00:00:00+00:00</td>\n",
       "      <td>Closed</td>\n",
       "      <td>0</td>\n",
       "      <td>When selecting marketing badge, instead of dis...</td>\n",
       "      <td>3</td>\n",
       "      <td>Major</td>\n",
       "      <td>Closed</td>\n",
       "      <td>stas.vilchik</td>\n",
       "      <td>julien.lancelot</td>\n",
       "      <td>9</td>\n",
       "      <td>2018</td>\n",
       "    </tr>\n",
       "    <tr>\n",
       "      <th>...</th>\n",
       "      <td>...</td>\n",
       "      <td>...</td>\n",
       "      <td>...</td>\n",
       "      <td>...</td>\n",
       "      <td>...</td>\n",
       "      <td>...</td>\n",
       "      <td>...</td>\n",
       "      <td>...</td>\n",
       "      <td>...</td>\n",
       "      <td>...</td>\n",
       "      <td>...</td>\n",
       "      <td>...</td>\n",
       "      <td>...</td>\n",
       "      <td>...</td>\n",
       "      <td>...</td>\n",
       "      <td>...</td>\n",
       "      <td>...</td>\n",
       "      <td>...</td>\n",
       "      <td>...</td>\n",
       "      <td>...</td>\n",
       "      <td>...</td>\n",
       "      <td>...</td>\n",
       "      <td>...</td>\n",
       "      <td>...</td>\n",
       "      <td>...</td>\n",
       "      <td>...</td>\n",
       "      <td>...</td>\n",
       "      <td>...</td>\n",
       "      <td>...</td>\n",
       "      <td>...</td>\n",
       "    </tr>\n",
       "    <tr>\n",
       "      <th>5758</th>\n",
       "      <td>2016-02-01 15:07:36+00:00</td>\n",
       "      <td>NaN</td>\n",
       "      <td>OLD - Julien HENRY</td>\n",
       "      <td>27726</td>\n",
       "      <td>OLD - Julien HENRY</td>\n",
       "      <td>Bug</td>\n",
       "      <td>SONAR-6347</td>\n",
       "      <td>Julien Lancelot</td>\n",
       "      <td>0</td>\n",
       "      <td>2015-03-27 02:55:20+00:00</td>\n",
       "      <td>SONAR</td>\n",
       "      <td>2015-09-25 09:54:07+00:00</td>\n",
       "      <td>6</td>\n",
       "      <td>Increase max value of duplications_index id co...</td>\n",
       "      <td>henryju</td>\n",
       "      <td>Fixed</td>\n",
       "      <td>NaT</td>\n",
       "      <td>1</td>\n",
       "      <td>NaN</td>\n",
       "      <td>2015-09-25 00:00:00+00:00</td>\n",
       "      <td>Closed</td>\n",
       "      <td>0</td>\n",
       "      <td>When an instance contains too much data the cr...</td>\n",
       "      <td>3</td>\n",
       "      <td>Major</td>\n",
       "      <td>Closed</td>\n",
       "      <td>julien.lancelot</td>\n",
       "      <td>henryju</td>\n",
       "      <td>3</td>\n",
       "      <td>2015</td>\n",
       "    </tr>\n",
       "    <tr>\n",
       "      <th>5765</th>\n",
       "      <td>2015-04-01 02:45:43+00:00</td>\n",
       "      <td>NaN</td>\n",
       "      <td>OLD - Teryk Bellahsene</td>\n",
       "      <td>27863</td>\n",
       "      <td>OLD - Teryk Bellahsene</td>\n",
       "      <td>Bug</td>\n",
       "      <td>SONAR-6340</td>\n",
       "      <td>OLD - Teryk Bellahsene</td>\n",
       "      <td>0</td>\n",
       "      <td>2015-03-25 09:36:28+00:00</td>\n",
       "      <td>SONAR</td>\n",
       "      <td>2015-03-30 04:52:32+00:00</td>\n",
       "      <td>6</td>\n",
       "      <td>Cancel report processing when several reports ...</td>\n",
       "      <td>bteryk</td>\n",
       "      <td>Fixed</td>\n",
       "      <td>NaT</td>\n",
       "      <td>1</td>\n",
       "      <td>NaN</td>\n",
       "      <td>2015-04-01 00:00:00+00:00</td>\n",
       "      <td>Closed</td>\n",
       "      <td>0</td>\n",
       "      <td>When 2 reports for the same project are in the...</td>\n",
       "      <td>3</td>\n",
       "      <td>Major</td>\n",
       "      <td>Closed</td>\n",
       "      <td>bteryk</td>\n",
       "      <td>bteryk</td>\n",
       "      <td>3</td>\n",
       "      <td>2015</td>\n",
       "    </tr>\n",
       "    <tr>\n",
       "      <th>5769</th>\n",
       "      <td>2016-05-17 08:04:51+00:00</td>\n",
       "      <td>NaN</td>\n",
       "      <td>OLD - Julien HENRY</td>\n",
       "      <td>27851</td>\n",
       "      <td>OLD - Julien HENRY</td>\n",
       "      <td>Bug</td>\n",
       "      <td>SONAR-6336</td>\n",
       "      <td>Stas Vilchik</td>\n",
       "      <td>2</td>\n",
       "      <td>2015-03-24 10:44:52+00:00</td>\n",
       "      <td>SONAR</td>\n",
       "      <td>2016-05-16 10:34:07+00:00</td>\n",
       "      <td>6</td>\n",
       "      <td>Incorrect quality status when multiple conditi...</td>\n",
       "      <td>henryju</td>\n",
       "      <td>Fixed</td>\n",
       "      <td>NaT</td>\n",
       "      <td>1</td>\n",
       "      <td>NaN</td>\n",
       "      <td>2016-05-16 00:00:00+00:00</td>\n",
       "      <td>Closed</td>\n",
       "      <td>2</td>\n",
       "      <td>If several conditions are declared on the same...</td>\n",
       "      <td>3</td>\n",
       "      <td>Major</td>\n",
       "      <td>Closed</td>\n",
       "      <td>stas.vilchik</td>\n",
       "      <td>henryju</td>\n",
       "      <td>3</td>\n",
       "      <td>2015</td>\n",
       "    </tr>\n",
       "    <tr>\n",
       "      <th>5770</th>\n",
       "      <td>2018-11-08 21:00:18+00:00</td>\n",
       "      <td>NaN</td>\n",
       "      <td>OLD - Julien HENRY</td>\n",
       "      <td>29701</td>\n",
       "      <td>OLD - Julien HENRY</td>\n",
       "      <td>Bug</td>\n",
       "      <td>SONAR-6335</td>\n",
       "      <td>OLD - Julien HENRY</td>\n",
       "      <td>0</td>\n",
       "      <td>2015-03-24 05:21:51+00:00</td>\n",
       "      <td>SONAR</td>\n",
       "      <td>2015-03-24 08:00:46+00:00</td>\n",
       "      <td>6</td>\n",
       "      <td>Wrong line checksum on blank lines after migra...</td>\n",
       "      <td>henryju</td>\n",
       "      <td>Fixed</td>\n",
       "      <td>NaT</td>\n",
       "      <td>1</td>\n",
       "      <td>NaN</td>\n",
       "      <td>2015-03-31 00:00:00+00:00</td>\n",
       "      <td>Closed</td>\n",
       "      <td>0</td>\n",
       "      <td>The FileSource migration is buggy and generate...</td>\n",
       "      <td>3</td>\n",
       "      <td>Major</td>\n",
       "      <td>Closed</td>\n",
       "      <td>henryju</td>\n",
       "      <td>henryju</td>\n",
       "      <td>3</td>\n",
       "      <td>2015</td>\n",
       "    </tr>\n",
       "    <tr>\n",
       "      <th>5771</th>\n",
       "      <td>2015-09-29 05:24:57+00:00</td>\n",
       "      <td>NaN</td>\n",
       "      <td>Julien Lancelot</td>\n",
       "      <td>26987</td>\n",
       "      <td>Julien Lancelot</td>\n",
       "      <td>Bug</td>\n",
       "      <td>SONAR-6332</td>\n",
       "      <td>Julien Lancelot</td>\n",
       "      <td>2</td>\n",
       "      <td>2015-03-23 02:54:39+00:00</td>\n",
       "      <td>SONAR</td>\n",
       "      <td>2015-09-29 05:24:49+00:00</td>\n",
       "      <td>6</td>\n",
       "      <td>Prevent provisioning multiple projects with th...</td>\n",
       "      <td>julien.lancelot</td>\n",
       "      <td>Fixed</td>\n",
       "      <td>NaT</td>\n",
       "      <td>1</td>\n",
       "      <td>NaN</td>\n",
       "      <td>2015-10-02 00:00:00+00:00</td>\n",
       "      <td>Closed</td>\n",
       "      <td>2</td>\n",
       "      <td>On MySQL, If multiple users provision the same...</td>\n",
       "      <td>3</td>\n",
       "      <td>Major</td>\n",
       "      <td>Closed</td>\n",
       "      <td>julien.lancelot</td>\n",
       "      <td>julien.lancelot</td>\n",
       "      <td>3</td>\n",
       "      <td>2015</td>\n",
       "    </tr>\n",
       "  </tbody>\n",
       "</table>\n",
       "<p>634 rows × 30 columns</p>\n",
       "</div>"
      ],
      "text/plain": [
       "                       updated environment                   creator  \\\n",
       "1537 2018-12-17 16:42:19+00:00         NaN              Janos Gyerik   \n",
       "1682 2018-11-19 20:05:22+00:00         NaN  Jean-Baptiste Lievremont   \n",
       "1693 2018-10-11 16:09:12+00:00         NaN         Sebastien Lesaint   \n",
       "1699 2018-10-11 09:16:06+00:00         NaN           Julien Lancelot   \n",
       "1701 2018-10-11 08:45:10+00:00         NaN           Julien Lancelot   \n",
       "...                        ...         ...                       ...   \n",
       "5758 2016-02-01 15:07:36+00:00         NaN        OLD - Julien HENRY   \n",
       "5765 2015-04-01 02:45:43+00:00         NaN    OLD - Teryk Bellahsene   \n",
       "5769 2016-05-17 08:04:51+00:00         NaN        OLD - Julien HENRY   \n",
       "5770 2018-11-08 21:00:18+00:00         NaN        OLD - Julien HENRY   \n",
       "5771 2015-09-29 05:24:57+00:00         NaN           Julien Lancelot   \n",
       "\n",
       "      issue_id                  reporter issuetype_name    issue_key  \\\n",
       "1537     79313              Janos Gyerik            Bug  SONAR-11537   \n",
       "1682     76901  Jean-Baptiste Lievremont            Bug  SONAR-11300   \n",
       "1693     76792         Sebastien Lesaint            Bug  SONAR-11280   \n",
       "1699     76729           Julien Lancelot            Bug  SONAR-11269   \n",
       "1701     76715           Julien Lancelot            Bug  SONAR-11267   \n",
       "...        ...                       ...            ...          ...   \n",
       "5758     27726        OLD - Julien HENRY            Bug   SONAR-6347   \n",
       "5765     27863    OLD - Teryk Bellahsene            Bug   SONAR-6340   \n",
       "5769     27851        OLD - Julien HENRY            Bug   SONAR-6336   \n",
       "5770     29701        OLD - Julien HENRY            Bug   SONAR-6335   \n",
       "5771     26987           Julien Lancelot            Bug   SONAR-6332   \n",
       "\n",
       "                    assignee  votes                   created project  \\\n",
       "1537            Janos Gyerik      0 2018-11-27 14:36:47+00:00   SONAR   \n",
       "1682      Fabrice Bellingard      0 2018-09-21 12:10:27+00:00   SONAR   \n",
       "1693       Sebastien Lesaint      0 2018-09-18 15:09:28+00:00   SONAR   \n",
       "1699            Janos Gyerik      0 2018-09-17 08:24:45+00:00   SONAR   \n",
       "1701            Stas Vilchik      0 2018-09-14 15:29:41+00:00   SONAR   \n",
       "...                      ...    ...                       ...     ...   \n",
       "5758         Julien Lancelot      0 2015-03-27 02:55:20+00:00   SONAR   \n",
       "5765  OLD - Teryk Bellahsene      0 2015-03-25 09:36:28+00:00   SONAR   \n",
       "5769            Stas Vilchik      2 2015-03-24 10:44:52+00:00   SONAR   \n",
       "5770      OLD - Julien HENRY      0 2015-03-24 05:21:51+00:00   SONAR   \n",
       "5771         Julien Lancelot      2 2015-03-23 02:54:39+00:00   SONAR   \n",
       "\n",
       "                resolutiondate  status_id  \\\n",
       "1537 2018-12-03 17:05:12+00:00          6   \n",
       "1682 2018-09-24 09:26:19+00:00          6   \n",
       "1693 2018-10-11 16:07:18+00:00          6   \n",
       "1699 2018-10-11 09:16:06+00:00          6   \n",
       "1701 2018-10-11 08:45:10+00:00          6   \n",
       "...                        ...        ...   \n",
       "5758 2015-09-25 09:54:07+00:00          6   \n",
       "5765 2015-03-30 04:52:32+00:00          6   \n",
       "5769 2016-05-16 10:34:07+00:00          6   \n",
       "5770 2015-03-24 08:00:46+00:00          6   \n",
       "5771 2015-09-29 05:24:49+00:00          6   \n",
       "\n",
       "                                                summary  \\\n",
       "1537  Fix intermittent failures to create Check Run ...   \n",
       "1682  Coupons with periods larger than 1 year have a...   \n",
       "1693  PostProjectAnalysisTasks API fails when consum...   \n",
       "1699  Fail to automatically create project from an e...   \n",
       "1701  Missing localization message when selecting ma...   \n",
       "...                                                 ...   \n",
       "5758  Increase max value of duplications_index id co...   \n",
       "5765  Cancel report processing when several reports ...   \n",
       "5769  Incorrect quality status when multiple conditi...   \n",
       "5770  Wrong line checksum on blank lines after migra...   \n",
       "5771  Prevent provisioning multiple projects with th...   \n",
       "\n",
       "                reporter_name resolution_name lastViewed  issuetype_id  \\\n",
       "1537             janos.gyerik           Fixed        NaT             1   \n",
       "1682  jeanbaptiste.lievremont           Fixed        NaT             1   \n",
       "1693        sebastien.lesaint           Fixed        NaT             1   \n",
       "1699          julien.lancelot           Fixed        NaT             1   \n",
       "1701          julien.lancelot           Fixed        NaT             1   \n",
       "...                       ...             ...        ...           ...   \n",
       "5758                  henryju           Fixed        NaT             1   \n",
       "5765                   bteryk           Fixed        NaT             1   \n",
       "5769                  henryju           Fixed        NaT             1   \n",
       "5770                  henryju           Fixed        NaT             1   \n",
       "5771          julien.lancelot           Fixed        NaT             1   \n",
       "\n",
       "     edition                   duedate status_name  votes_votes  \\\n",
       "1537     NaN 2018-12-10 00:00:00+00:00      Closed            0   \n",
       "1682     NaN 2018-09-28 00:00:00+00:00      Closed            0   \n",
       "1693     NaN 2018-10-17 00:00:00+00:00      Closed            0   \n",
       "1699     NaN 2018-10-16 00:00:00+00:00      Closed            0   \n",
       "1701     NaN 2018-10-17 00:00:00+00:00      Closed            0   \n",
       "...      ...                       ...         ...          ...   \n",
       "5758     NaN 2015-09-25 00:00:00+00:00      Closed            0   \n",
       "5765     NaN 2015-04-01 00:00:00+00:00      Closed            0   \n",
       "5769     NaN 2016-05-16 00:00:00+00:00      Closed            2   \n",
       "5770     NaN 2015-03-31 00:00:00+00:00      Closed            0   \n",
       "5771     NaN 2015-10-02 00:00:00+00:00      Closed            2   \n",
       "\n",
       "                                            description  priority_id  \\\n",
       "1537  Sometimes, Check Run is not created at the end...            3   \n",
       "1682  When the duration of a SonarCloud coupon excee...            3   \n",
       "1693  If a Billing exception is raised on a PR, the ...            3   \n",
       "1699  Here's the error when trying to automatically ...            3   \n",
       "1701  When selecting marketing badge, instead of dis...            3   \n",
       "...                                                 ...          ...   \n",
       "5758  When an instance contains too much data the cr...            3   \n",
       "5765  When 2 reports for the same project are in the...            3   \n",
       "5769  If several conditions are declared on the same...            3   \n",
       "5770  The FileSource migration is buggy and generate...            3   \n",
       "5771  On MySQL, If multiple users provision the same...            3   \n",
       "\n",
       "     priority_name  status       assignee_name             creator_name  \\\n",
       "1537         Major  Closed        janos.gyerik             janos.gyerik   \n",
       "1682         Major  Closed  fabrice.bellingard  jeanbaptiste.lievremont   \n",
       "1693         Major  Closed   sebastien.lesaint        sebastien.lesaint   \n",
       "1699         Major  Closed        janos.gyerik          julien.lancelot   \n",
       "1701         Major  Closed        stas.vilchik          julien.lancelot   \n",
       "...            ...     ...                 ...                      ...   \n",
       "5758         Major  Closed     julien.lancelot                  henryju   \n",
       "5765         Major  Closed              bteryk                   bteryk   \n",
       "5769         Major  Closed        stas.vilchik                  henryju   \n",
       "5770         Major  Closed             henryju                  henryju   \n",
       "5771         Major  Closed     julien.lancelot          julien.lancelot   \n",
       "\n",
       "      created_month  created_year  \n",
       "1537             11          2018  \n",
       "1682              9          2018  \n",
       "1693              9          2018  \n",
       "1699              9          2018  \n",
       "1701              9          2018  \n",
       "...             ...           ...  \n",
       "5758              3          2015  \n",
       "5765              3          2015  \n",
       "5769              3          2015  \n",
       "5770              3          2015  \n",
       "5771              3          2015  \n",
       "\n",
       "[634 rows x 30 columns]"
      ]
     },
     "execution_count": 110,
     "metadata": {},
     "output_type": "execute_result"
    }
   ],
   "source": [
    "issues[(issues.edition.isna()) & (issues.resolution_name==\"Fixed\") & (issues.issuetype_name==\"Bug\")]"
   ]
  },
  {
   "cell_type": "markdown",
   "metadata": {},
   "source": [
    "### Further analysis\n",
    "* Time between issue reported and closed\n",
    "* Number of subtasks per issue"
   ]
  },
  {
   "cell_type": "markdown",
   "metadata": {},
   "source": [
    "### Versions on Jira and not on Github (after Travis)"
   ]
  },
  {
   "cell_type": "code",
   "execution_count": 111,
   "metadata": {},
   "outputs": [],
   "source": [
    "jira_not_github = {'6.6-M1',\n",
    " '7.1',\n",
    " '7.2',\n",
    " '7.2.1',\n",
    " '7.3',\n",
    " '7.4'}"
   ]
  },
  {
   "cell_type": "code",
   "execution_count": 112,
   "metadata": {},
   "outputs": [],
   "source": [
    "focus_versions = {'7.1','7.2','7.3','7.4'}"
   ]
  },
  {
   "cell_type": "code",
   "execution_count": 113,
   "metadata": {},
   "outputs": [
    {
     "name": "stderr",
     "output_type": "stream",
     "text": [
      "/Users/alexincerti/Library/Python/3.8/lib/python/site-packages/seaborn/_decorators.py:36: FutureWarning: Pass the following variable as a keyword arg: x. From version 0.12, the only valid positional argument will be `data`, and passing other arguments without an explicit keyword will result in an error or misinterpretation.\n",
      "  warnings.warn(\n"
     ]
    },
    {
     "data": {
      "text/plain": [
       "<AxesSubplot:xlabel='version_name', ylabel='count'>"
      ]
     },
     "execution_count": 113,
     "metadata": {},
     "output_type": "execute_result"
    },
    {
     "data": {
      "image/png": "[encoded data removed]",
      "text/plain": [
       "<Figure size 1080x360 with 1 Axes>"
      ]
     },
     "metadata": {
      "needs_background": "light"
     },
     "output_type": "display_data"
    }
   ],
   "source": [
    "sns.countplot(versions_merged[versions_merged.version_name.isin(jira_not_github)].version_name)"
   ]
  },
  {
   "cell_type": "code",
   "execution_count": 116,
   "metadata": {},
   "outputs": [
    {
     "data": {
      "text/plain": [
       "(102, 32)"
      ]
     },
     "execution_count": 116,
     "metadata": {},
     "output_type": "execute_result"
    }
   ],
   "source": [
    "versions_merged[versions_merged.version_name.isin(focus_versions)].shape"
   ]
  },
  {
   "cell_type": "code",
   "execution_count": 117,
   "metadata": {},
   "outputs": [
    {
     "data": {
      "text/plain": [
       "(1004, 32)"
      ]
     },
     "execution_count": 117,
     "metadata": {},
     "output_type": "execute_result"
    }
   ],
   "source": [
    "versions_merged.shape"
   ]
  },
  {
   "cell_type": "code",
   "execution_count": 118,
   "metadata": {},
   "outputs": [
    {
     "data": {
      "text/plain": [
       "0.10159362549800798"
      ]
     },
     "execution_count": 118,
     "metadata": {},
     "output_type": "execute_result"
    }
   ],
   "source": [
    "102/1004"
   ]
  },
  {
   "cell_type": "markdown",
   "metadata": {},
   "source": [
    "# Issues community edition"
   ]
  },
  {
   "cell_type": "code",
   "execution_count": 119,
   "metadata": {},
   "outputs": [
    {
     "data": {
      "text/plain": [
       "(5779, 30)"
      ]
     },
     "execution_count": 119,
     "metadata": {},
     "output_type": "execute_result"
    }
   ],
   "source": [
    "issues.shape"
   ]
  },
  {
   "cell_type": "code",
   "execution_count": 128,
   "metadata": {},
   "outputs": [],
   "source": [
    "import git\n",
    "git = git.Git(\"../../../sonarqube/\")"
   ]
  },
  {
   "cell_type": "code",
   "execution_count": 144,
   "metadata": {},
   "outputs": [],
   "source": [
    "tmp = issues[(issues.edition.isna()) & (issues.resolution_name.isin([\"Fixed\", \"Done\"]))]\n",
    "issues_comm = []\n",
    "i=0\n",
    "for j, row in tmp.iterrows():\n",
    "    res = git.log(\"--all\", f\"--grep={row.issue_key}\")\n",
    "    if res != \"\":\n",
    "        issues_comm.append((row.issue_id, res))\n",
    "        i+=1"
   ]
  },
  {
   "cell_type": "code",
   "execution_count": 146,
   "metadata": {},
   "outputs": [
    {
     "data": {
      "text/plain": [
       "(2960, 30)"
      ]
     },
     "execution_count": 146,
     "metadata": {},
     "output_type": "execute_result"
    }
   ],
   "source": [
    "tmp.shape"
   ]
  },
  {
   "cell_type": "code",
   "execution_count": 152,
   "metadata": {},
   "outputs": [],
   "source": [
    "ids = list(map(lambda x: x[0], issues_comm))"
   ]
  },
  {
   "cell_type": "code",
   "execution_count": 154,
   "metadata": {},
   "outputs": [],
   "source": [
    "issues_community = issues[(issues.edition==\"Community\") | (issues.issue_id.isin(ids))]"
   ]
  },
  {
   "cell_type": "code",
   "execution_count": 160,
   "metadata": {},
   "outputs": [],
   "source": [
    "issues_community.to_csv(f\"{csv_folder}/issues_community.csv\")"
   ]
  },
  {
   "cell_type": "code",
   "execution_count": 158,
   "metadata": {},
   "outputs": [
    {
     "name": "stderr",
     "output_type": "stream",
     "text": [
      "/Users/alexincerti/Library/Python/3.8/lib/python/site-packages/seaborn/_decorators.py:36: FutureWarning: Pass the following variable as a keyword arg: x. From version 0.12, the only valid positional argument will be `data`, and passing other arguments without an explicit keyword will result in an error or misinterpretation.\n",
      "  warnings.warn(\n"
     ]
    },
    {
     "data": {
      "text/plain": [
       "<AxesSubplot:xlabel='issuetype_name', ylabel='count'>"
      ]
     },
     "execution_count": 158,
     "metadata": {},
     "output_type": "execute_result"
    },
    {
     "data": {
      "image/png": "[encoded data removed]",
      "text/plain": [
       "<Figure size 1080x360 with 1 Axes>"
      ]
     },
     "metadata": {
      "needs_background": "light"
     },
     "output_type": "display_data"
    }
   ],
   "source": [
    "sns.countplot(issues_community.issuetype_name)"
   ]
  },
  {
   "cell_type": "code",
   "execution_count": 159,
   "metadata": {},
   "outputs": [
    {
     "name": "stderr",
     "output_type": "stream",
     "text": [
      "/Users/alexincerti/Library/Python/3.8/lib/python/site-packages/seaborn/_decorators.py:36: FutureWarning: Pass the following variable as a keyword arg: x. From version 0.12, the only valid positional argument will be `data`, and passing other arguments without an explicit keyword will result in an error or misinterpretation.\n",
      "  warnings.warn(\n"
     ]
    },
    {
     "data": {
      "text/plain": [
       "<AxesSubplot:xlabel='issuetype_name', ylabel='count'>"
      ]
     },
     "execution_count": 159,
     "metadata": {},
     "output_type": "execute_result"
    },
    {
     "data": {
      "image/png": "[encoded data removed]",
      "text/plain": [
       "<Figure size 1080x360 with 1 Axes>"
      ]
     },
     "metadata": {
      "needs_background": "light"
     },
     "output_type": "display_data"
    }
   ],
   "source": [
    "sns.countplot(issues.issuetype_name)"
   ]
  },
  {
   "cell_type": "code",
   "execution_count": null,
   "metadata": {},
   "outputs": [],
   "source": []
  }
 ],
 "metadata": {
  "kernelspec": {
   "display_name": "Python 3",
   "language": "python",
   "name": "python3"
  },
  "language_info": {
   "codemirror_mode": {
    "name": "ipython",
    "version": 3
   },
   "file_extension": ".py",
   "mimetype": "text/x-python",
   "name": "python",
   "nbconvert_exporter": "python",
   "pygments_lexer": "ipython3",
   "version": "3.8.2"
  }
 },
 "nbformat": 4,
 "nbformat_minor": 4
}
