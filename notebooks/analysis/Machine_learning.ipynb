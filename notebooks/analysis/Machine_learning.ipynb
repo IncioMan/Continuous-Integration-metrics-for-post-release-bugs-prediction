{
 "cells": [
  {
   "cell_type": "code",
   "execution_count": 3,
   "metadata": {},
   "outputs": [],
   "source": [
    "import pandas as pd\n",
    "import pickle\n",
    "import json\n",
    "import seaborn as sns\n",
    "import pprint\n",
    "import numpy as np\n",
    "import math\n",
    "import ast\n",
    "pp = pprint.PrettyPrinter(depth=6)\n",
    "import matplotlib\n",
    "import matplotlib.pyplot as plt\n",
    "from scipy import stats\n",
    "matplotlib.rcParams['figure.figsize'] = (14.0, 5.0)\n",
    "pd.set_option('display.max_columns', 120)\n",
    "pd.set_option('display.max_rows', 450)"
   ]
  },
  {
   "cell_type": "code",
   "execution_count": 4,
   "metadata": {},
   "outputs": [],
   "source": [
    "pkl_folder = \"../../pkl\"\n",
    "csv_folder = \"../../csv\"\n",
    "figure_folder = \"../../figures\""
   ]
  },
  {
   "cell_type": "markdown",
   "metadata": {},
   "source": [
    "### Import"
   ]
  },
  {
   "cell_type": "code",
   "execution_count": 2,
   "metadata": {},
   "outputs": [],
   "source": [
    "methods= [\"direct_and_pr\", \"iterative_pr_head_ref_cherry_picked\"]"
   ]
  },
  {
   "cell_type": "code",
   "execution_count": 6,
   "metadata": {},
   "outputs": [],
   "source": [
    "direct_and_pr = pd.read_csv(f\"{csv_folder}/final_datasets/{methods[0]}_with_sw_metrics.csv\", index_col=0)"
   ]
  },
  {
   "cell_type": "code",
   "execution_count": 7,
   "metadata": {},
   "outputs": [],
   "source": [
    "iterative_pr_head_ref_cherry_picked = pd.read_csv(f\"{csv_folder}/final_datasets/{methods[1]}_with_sw_metrics.csv\", index_col=0)"
   ]
  },
  {
   "cell_type": "code",
   "execution_count": 10,
   "metadata": {},
   "outputs": [],
   "source": [
    "methods_df = {\"direct_and_pr\":direct_and_pr,\n",
    "             \"iterative_pr_head_ref_cherry_picked\": iterative_pr_head_ref_cherry_picked}"
   ]
  },
  {
   "cell_type": "markdown",
   "metadata": {},
   "source": [
    "**Extracting the dependent variables** "
   ]
  },
  {
   "cell_type": "code",
   "execution_count": 12,
   "metadata": {},
   "outputs": [],
   "source": [
    "dep_var_cols = [\"post_release_bugs\", \"fix_time\", \"dde\", \"critical_post_release_bugs\", \"minor_post_release_bugs\"]"
   ]
  },
  {
   "cell_type": "code",
   "execution_count": 13,
   "metadata": {},
   "outputs": [],
   "source": [
    "methods_dep_var = {}\n",
    "for method in methods:\n",
    "    methods_dep_var[method] = methods_df[method]\\\n",
    "    [dep_var_cols]"
   ]
  },
  {
   "cell_type": "markdown",
   "metadata": {},
   "source": [
    "**Extracting the independent variables**"
   ]
  },
  {
   "cell_type": "code",
   "execution_count": 17,
   "metadata": {},
   "outputs": [],
   "source": [
    "extra_info_cols = ['version_name','from_author_date', 'to_author_date', 'ahead_by', 'behind_by',\n",
    "       'from_sha', 'to_sha', 'ahead_behind_sum', 'diff_author_dates',\n",
    "       'diff_author_days', 'from_commit_date','to_commit_date', 'diff_commit_dates', 'diff_commit_days', 'to_tag',\n",
    "       'from_tag']"
   ]
  },
  {
   "cell_type": "code",
   "execution_count": 18,
   "metadata": {},
   "outputs": [],
   "source": [
    "methods_indep_var = {}\n",
    "for method in methods:\n",
    "    methods_indep_var[method] = methods_df[method].drop(columns=extra_info_cols + dep_var_cols)"
   ]
  },
  {
   "cell_type": "code",
   "execution_count": 19,
   "metadata": {},
   "outputs": [
    {
     "data": {
      "text/plain": [
       "Index(['ratio_passed_builds', 'ratio_canceled_builds', 'ratio_failed_builds',\n",
       "       'ratio_errored_builds', 'ratio_pr_builds', 'mean_all_build_duration',\n",
       "       'median_all_build_duration', 'max_all_build_duration',\n",
       "       'min_all_build_duration', 'mean_failed_build_duration',\n",
       "       ...\n",
       "       'mean_n_warnings', 'median_n_warnings', 'max_n_warnings',\n",
       "       'min_n_warnings', 'mean_n_error_classes', 'median_n_error_classes',\n",
       "       'max_n_error_classes', 'min_n_error_classes', 'pre_release_bugs',\n",
       "       'pre_release_after_tagging_bugs'],\n",
       "      dtype='object', length=267)"
      ]
     },
     "execution_count": 19,
     "metadata": {},
     "output_type": "execute_result"
    }
   ],
   "source": [
    "methods_indep_var[methods[0]].columns"
   ]
  },
  {
   "cell_type": "markdown",
   "metadata": {},
   "source": [
    "**Correlation**"
   ]
  },
  {
   "cell_type": "code",
   "execution_count": 181,
   "metadata": {},
   "outputs": [],
   "source": [
    "corr_x = tags_comparison_with_metrics_x.corr()"
   ]
  },
  {
   "cell_type": "code",
   "execution_count": 182,
   "metadata": {
    "scrolled": false
   },
   "outputs": [
    {
     "data": {
      "text/plain": [
       "canceled_gp1_bs3_n_bursts_mean    0.811390\n",
       "canceled_gp2_bs2_n_bursts_mean    0.812558\n",
       "canceled_gp2_bs3_n_bursts_mean    0.903717\n",
       "canceled_gp3_bs3_n_bursts_mean    1.000000\n",
       "Name: canceled_gp3_bs3_n_bursts_mean, dtype: float64"
      ]
     },
     "execution_count": 182,
     "metadata": {},
     "output_type": "execute_result"
    }
   ],
   "source": [
    "corr_x.loc[\"canceled_gp3_bs3_n_bursts_mean\"][corr_x.loc[\"canceled_gp3_bs3_n_bursts_mean\"] > 0.8]"
   ]
  },
  {
   "cell_type": "markdown",
   "metadata": {},
   "source": [
    "**Check for normal distribution**"
   ]
  },
  {
   "cell_type": "code",
   "execution_count": 21,
   "metadata": {},
   "outputs": [],
   "source": [
    "alpha = 0.05"
   ]
  },
  {
   "cell_type": "code",
   "execution_count": 27,
   "metadata": {},
   "outputs": [
    {
     "name": "stdout",
     "output_type": "stream",
     "text": [
      "Index(['not_passed_gp1_bs2_burst_size_mean',\n",
      "       'not_passed_gp1_bs3_burst_size_median',\n",
      "       'not_passed_gp2_bs2_burst_size_mean',\n",
      "       'not_passed_gp2_bs3_burst_size_median',\n",
      "       'not_passed_gp3_bs2_burst_size_mean',\n",
      "       'not_passed_gp3_bs3_burst_size_median',\n",
      "       'canceled_gp1_bs2_burst_size_mean',\n",
      "       'canceled_gp1_bs3_burst_size_median',\n",
      "       'canceled_gp2_bs2_burst_size_mean',\n",
      "       'canceled_gp2_bs3_burst_size_median',\n",
      "       'canceled_gp3_bs2_burst_size_mean',\n",
      "       'canceled_gp3_bs3_burst_size_median', 'failed_gp1_bs2_burst_size_mean',\n",
      "       'failed_gp1_bs3_burst_size_median', 'failed_gp2_bs2_burst_size_mean',\n",
      "       'failed_gp2_bs3_burst_size_median', 'failed_gp3_bs2_burst_size_mean',\n",
      "       'failed_gp3_bs3_burst_size_median'],\n",
      "      dtype='object')\n",
      "Index(['not_passed_gp1_bs2_burst_size_mean',\n",
      "       'not_passed_gp1_bs3_burst_size_median',\n",
      "       'not_passed_gp2_bs2_burst_size_mean',\n",
      "       'not_passed_gp2_bs3_burst_size_median',\n",
      "       'not_passed_gp3_bs2_burst_size_mean',\n",
      "       'not_passed_gp3_bs3_burst_size_median',\n",
      "       'canceled_gp1_bs2_burst_size_mean',\n",
      "       'canceled_gp1_bs3_burst_size_median',\n",
      "       'canceled_gp2_bs2_burst_size_mean',\n",
      "       'canceled_gp2_bs3_burst_size_median',\n",
      "       'canceled_gp3_bs2_burst_size_mean',\n",
      "       'canceled_gp3_bs3_burst_size_median', 'failed_gp1_bs2_burst_size_mean',\n",
      "       'failed_gp1_bs3_burst_size_median', 'failed_gp2_bs2_burst_size_mean',\n",
      "       'failed_gp2_bs3_burst_size_median', 'failed_gp3_bs2_burst_size_mean',\n",
      "       'failed_gp3_bs3_burst_size_median'],\n",
      "      dtype='object')\n"
     ]
    }
   ],
   "source": [
    "for method in methods:\n",
    "    df = methods_indep_var[method]\n",
    "    k2, p_val = stats.normaltest(df)\n",
    "    cols = df.columns\n",
    "    print(cols[p_val > alpha])"
   ]
  },
  {
   "cell_type": "markdown",
   "metadata": {},
   "source": [
    "### Spearman correlation with Number of post release bugs\n",
    "https://statistics.laerd.com/statistical-guides/spearmans-rank-order-correlation-statistical-guide-2.php#:~:text=The%20Spearman%20correlation%20coefficient%2C%20rs%2C%20can%20take%20values%20from,the%20association%20between%20the%20ranks."
   ]
  },
  {
   "cell_type": "code",
   "execution_count": 187,
   "metadata": {},
   "outputs": [
    {
     "name": "stderr",
     "output_type": "stream",
     "text": [
      "/Users/alexincerti/Library/Python/3.8/lib/python/site-packages/scipy/stats/stats.py:4196: SpearmanRConstantInputWarning: An input array is constant; the correlation coefficent is not defined.\n",
      "  warnings.warn(SpearmanRConstantInputWarning())\n"
     ]
    }
   ],
   "source": [
    "data = []\n",
    "for col in tags_comparison_with_metrics_x.columns.values:\n",
    "    corr, p_val = stats.spearmanr(tags_comparison_with_metrics_x[f\"{col}\"],tags_comparison_with_metrics_y.post_release_bugs)\n",
    "    data.append((col, corr, p_val))\n",
    "spearman_corr_post_release_bugs_df = pd.DataFrame(data, columns=[\"metric\", \"corr\", \"p_val\"])"
   ]
  },
  {
   "cell_type": "markdown",
   "metadata": {},
   "source": [
    "top_spearm = spearman_corr_post_release_bugs_df[spearman_corr_post_release_bugs_df.p_val< 0.05].sort_values(by=\"corr\", ascending=False)\n",
    "print(top_spearm[~top_spearm.metric.str.contains(\"pre_release\")].head(10).to_latex(index=False))"
   ]
  },
  {
   "cell_type": "markdown",
   "metadata": {},
   "source": [
    "print( top_spearm[(~top_spearm.metric.str.contains(\"pre_release\")) & (~top_spearm.metric.str.contains(\"burst\"))].head(10).to_latex(index=False))"
   ]
  },
  {
   "cell_type": "code",
   "execution_count": 212,
   "metadata": {},
   "outputs": [
    {
     "data": {
      "text/html": [
       "<div>\n",
       "<style scoped>\n",
       "    .dataframe tbody tr th:only-of-type {\n",
       "        vertical-align: middle;\n",
       "    }\n",
       "\n",
       "    .dataframe tbody tr th {\n",
       "        vertical-align: top;\n",
       "    }\n",
       "\n",
       "    .dataframe thead th {\n",
       "        text-align: right;\n",
       "    }\n",
       "</style>\n",
       "<table border=\"1\" class=\"dataframe\">\n",
       "  <thead>\n",
       "    <tr style=\"text-align: right;\">\n",
       "      <th></th>\n",
       "      <th>metric</th>\n",
       "      <th>corr</th>\n",
       "      <th>p_val</th>\n",
       "    </tr>\n",
       "  </thead>\n",
       "  <tbody>\n",
       "    <tr>\n",
       "      <th>27</th>\n",
       "      <td>max_failed_tests</td>\n",
       "      <td>0.576088</td>\n",
       "      <td>0.000015</td>\n",
       "    </tr>\n",
       "    <tr>\n",
       "      <th>25</th>\n",
       "      <td>mean_failed_tests</td>\n",
       "      <td>0.547622</td>\n",
       "      <td>0.000047</td>\n",
       "    </tr>\n",
       "    <tr>\n",
       "      <th>31</th>\n",
       "      <td>max_failures_over_tests_total</td>\n",
       "      <td>0.441308</td>\n",
       "      <td>0.001503</td>\n",
       "    </tr>\n",
       "    <tr>\n",
       "      <th>39</th>\n",
       "      <td>max_n_exceptions</td>\n",
       "      <td>0.422700</td>\n",
       "      <td>0.002480</td>\n",
       "    </tr>\n",
       "    <tr>\n",
       "      <th>47</th>\n",
       "      <td>max_n_error_classes</td>\n",
       "      <td>0.409754</td>\n",
       "      <td>0.003458</td>\n",
       "    </tr>\n",
       "    <tr>\n",
       "      <th>19</th>\n",
       "      <td>max_n_builds_per_pull_request</td>\n",
       "      <td>0.370912</td>\n",
       "      <td>0.008699</td>\n",
       "    </tr>\n",
       "    <tr>\n",
       "      <th>35</th>\n",
       "      <td>max_skipped_over_tests_total</td>\n",
       "      <td>0.360732</td>\n",
       "      <td>0.010887</td>\n",
       "    </tr>\n",
       "    <tr>\n",
       "      <th>23</th>\n",
       "      <td>max_errors_over_tests_total</td>\n",
       "      <td>0.352604</td>\n",
       "      <td>0.012959</td>\n",
       "    </tr>\n",
       "    <tr>\n",
       "      <th>43</th>\n",
       "      <td>max_n_warnings</td>\n",
       "      <td>0.346307</td>\n",
       "      <td>0.014788</td>\n",
       "    </tr>\n",
       "    <tr>\n",
       "      <th>7</th>\n",
       "      <td>max_all_build_duration</td>\n",
       "      <td>0.315716</td>\n",
       "      <td>0.027118</td>\n",
       "    </tr>\n",
       "  </tbody>\n",
       "</table>\n",
       "</div>"
      ],
      "text/plain": [
       "                           metric      corr     p_val\n",
       "27               max_failed_tests  0.576088  0.000015\n",
       "25              mean_failed_tests  0.547622  0.000047\n",
       "31  max_failures_over_tests_total  0.441308  0.001503\n",
       "39               max_n_exceptions  0.422700  0.002480\n",
       "47            max_n_error_classes  0.409754  0.003458\n",
       "19  max_n_builds_per_pull_request  0.370912  0.008699\n",
       "35   max_skipped_over_tests_total  0.360732  0.010887\n",
       "23    max_errors_over_tests_total  0.352604  0.012959\n",
       "43                 max_n_warnings  0.346307  0.014788\n",
       "7          max_all_build_duration  0.315716  0.027118"
      ]
     },
     "execution_count": 212,
     "metadata": {},
     "output_type": "execute_result"
    }
   ],
   "source": [
    "top_spearm[(~top_spearm.metric.str.contains(\"pre_release\")) & (~top_spearm.metric.str.contains(\"burst\"))].head(10)"
   ]
  },
  {
   "cell_type": "code",
   "execution_count": 207,
   "metadata": {},
   "outputs": [
    {
     "data": {
      "text/plain": [
       "<AxesSubplot:xlabel='post_release_bugs', ylabel='max_failed_tests'>"
      ]
     },
     "execution_count": 207,
     "metadata": {},
     "output_type": "execute_result"
    },
    {
     "data": {
      "image/png": "[encoded data removed]",
      "text/plain": [
       "<Figure size 1008x360 with 1 Axes>"
      ]
     },
     "metadata": {
      "needs_background": "light"
     },
     "output_type": "display_data"
    }
   ],
   "source": [
    "x = pd.DataFrame({\"post_release_bugs\": tags_comparison_with_metrics.post_release_bugs.rank(),\n",
    "                  \"max_failed_tests\": tags_comparison_with_metrics.max_failed_tests.rank()})\n",
    "x.plot.scatter(x=\"post_release_bugs\", y=\"max_failed_tests\", c='DarkBlue')"
   ]
  },
  {
   "cell_type": "code",
   "execution_count": 210,
   "metadata": {},
   "outputs": [
    {
     "data": {
      "text/plain": [
       "<AxesSubplot:xlabel='post_release_bugs', ylabel='canceled_gp3_bs3_n_bursts_max'>"
      ]
     },
     "execution_count": 210,
     "metadata": {},
     "output_type": "execute_result"
    },
    {
     "data": {
      "image/png": "[encoded data removed]",
      "text/plain": [
       "<Figure size 1008x360 with 1 Axes>"
      ]
     },
     "metadata": {
      "needs_background": "light"
     },
     "output_type": "display_data"
    }
   ],
   "source": [
    "x = pd.DataFrame({\"post_release_bugs\": tags_comparison_with_metrics.post_release_bugs.rank(),\n",
    "                  \"canceled_gp3_bs3_n_bursts_max\": tags_comparison_with_metrics.canceled_gp3_bs3_n_bursts_max.rank()})\n",
    "x.plot.scatter(x=\"post_release_bugs\", y=\"canceled_gp3_bs3_n_bursts_max\", c='DarkBlue')"
   ]
  },
  {
   "cell_type": "markdown",
   "metadata": {},
   "source": [
    "### Spearman correlation with Fix Time"
   ]
  },
  {
   "cell_type": "code",
   "execution_count": null,
   "metadata": {},
   "outputs": [],
   "source": [
    "data = []\n",
    "for col in tags_comparison_with_metrics_x.columns.values:\n",
    "    corr, p_val = stats.spearmanr(tags_comparison_with_metrics_x[f\"{col}\"],tags_comparison_with_metrics_y.fix_time)\n",
    "    data.append((col, corr, p_val))\n",
    "spearman_corr_fix_time_df = pd.DataFrame(data, columns=[\"metric\", \"corr\", \"p_val\"])"
   ]
  },
  {
   "cell_type": "code",
   "execution_count": null,
   "metadata": {},
   "outputs": [],
   "source": [
    "spearman_corr_fix_time_df[spearman_corr_fix_time_df.p_val< 0.05].sort_values(by=\"corr\", ascending=False)"
   ]
  },
  {
   "cell_type": "markdown",
   "metadata": {},
   "source": [
    "### Spearman correlation with DDE"
   ]
  },
  {
   "cell_type": "code",
   "execution_count": null,
   "metadata": {},
   "outputs": [],
   "source": [
    "data = []\n",
    "for col in tags_comparison_with_metrics_x.columns.values:\n",
    "    corr, p_val = stats.spearmanr(tags_comparison_x[f\"{col}\"],tags_comparison_with_metrics_y.dde)\n",
    "    data.append((col, corr, p_val))\n",
    "spearman_corr_dde_df = pd.DataFrame(data, columns=[\"metric\", \"corr\", \"p_val\"])"
   ]
  },
  {
   "cell_type": "code",
   "execution_count": null,
   "metadata": {},
   "outputs": [],
   "source": [
    "spearman_corr_dde_df[spearman_corr_dde_df.p_val< 0.05].sort_values(by=\"corr\", ascending=False)"
   ]
  },
  {
   "cell_type": "markdown",
   "metadata": {},
   "source": [
    "## Features types"
   ]
  },
  {
   "cell_type": "code",
   "execution_count": null,
   "metadata": {},
   "outputs": [],
   "source": []
  },
  {
   "cell_type": "markdown",
   "metadata": {},
   "source": [
    "## ML"
   ]
  },
  {
   "cell_type": "code",
   "execution_count": 217,
   "metadata": {},
   "outputs": [],
   "source": [
    "X_train = tags_comparison_with_metrics_x"
   ]
  },
  {
   "cell_type": "code",
   "execution_count": 218,
   "metadata": {},
   "outputs": [],
   "source": [
    "from sklearn import preprocessing"
   ]
  },
  {
   "cell_type": "code",
   "execution_count": 220,
   "metadata": {},
   "outputs": [],
   "source": [
    "scaler = preprocessing.StandardScaler().fit(X_train)"
   ]
  },
  {
   "cell_type": "code",
   "execution_count": 221,
   "metadata": {},
   "outputs": [
    {
     "data": {
      "text/plain": [
       "array([[-3.62850881, -0.90083371,  5.75420084, ...,  0.        ,\n",
       "        -0.62284655, -0.50167092],\n",
       "       [-0.40151633, -0.55895307,  0.84634212, ...,  0.        ,\n",
       "         0.11256263,  2.01238447],\n",
       "       [-0.51611015,  0.16448049,  0.37963883, ...,  0.        ,\n",
       "         0.48026722,  0.05700806],\n",
       "       ...,\n",
       "       [ 1.59945034, -0.90083371, -0.94170058, ...,  0.        ,\n",
       "        -0.62284655, -0.50167092],\n",
       "       [ 1.59945034, -0.90083371, -0.94170058, ...,  0.        ,\n",
       "         0.48026722,  0.05700806],\n",
       "       [ 1.59945034, -0.90083371, -0.94170058, ...,  0.        ,\n",
       "        -0.62284655, -0.50167092]])"
      ]
     },
     "execution_count": 221,
     "metadata": {},
     "output_type": "execute_result"
    }
   ],
   "source": [
    "scaler.transform(X_train)"
   ]
  },
  {
   "cell_type": "code",
   "execution_count": null,
   "metadata": {},
   "outputs": [],
   "source": []
  },
  {
   "cell_type": "code",
   "execution_count": null,
   "metadata": {},
   "outputs": [],
   "source": []
  }
 ],
 "metadata": {
  "kernelspec": {
   "display_name": "Python 3",
   "language": "python",
   "name": "python3"
  },
  "language_info": {
   "codemirror_mode": {
    "name": "ipython",
    "version": 3
   },
   "file_extension": ".py",
   "mimetype": "text/x-python",
   "name": "python",
   "nbconvert_exporter": "python",
   "pygments_lexer": "ipython3",
   "version": "3.8.2"
  }
 },
 "nbformat": 4,
 "nbformat_minor": 4
}
