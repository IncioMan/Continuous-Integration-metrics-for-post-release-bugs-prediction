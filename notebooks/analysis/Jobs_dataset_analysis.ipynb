{
 "cells": [
  {
   "cell_type": "code",
   "execution_count": 2,
   "metadata": {},
   "outputs": [],
   "source": [
    "import pandas as pd\n",
    "import seaborn as sns\n",
    "import matplotlib\n",
    "import matplotlib.pyplot as plt\n",
    "from ast import literal_eval\n",
    "import pickle\n",
    "import pprint\n",
    "from matplotlib.cbook import boxplot_stats\n",
    "pp = pprint.PrettyPrinter(depth=6)\n",
    "matplotlib.rcParams['figure.figsize'] = (15.0, 5.0)\n",
    "pd.set_option('display.max_columns', 150)"
   ]
  },
  {
   "cell_type": "code",
   "execution_count": 3,
   "metadata": {},
   "outputs": [],
   "source": [
    "csv_folder = \"../../csv\""
   ]
  },
  {
   "cell_type": "markdown",
   "metadata": {},
   "source": [
    "### Impor other df"
   ]
  },
  {
   "cell_type": "code",
   "execution_count": 93,
   "metadata": {},
   "outputs": [
    {
     "data": {
      "text/html": [
       "<div>\n",
       "<style scoped>\n",
       "    .dataframe tbody tr th:only-of-type {\n",
       "        vertical-align: middle;\n",
       "    }\n",
       "\n",
       "    .dataframe tbody tr th {\n",
       "        vertical-align: top;\n",
       "    }\n",
       "\n",
       "    .dataframe thead th {\n",
       "        text-align: right;\n",
       "    }\n",
       "</style>\n",
       "<table border=\"1\" class=\"dataframe\">\n",
       "  <thead>\n",
       "    <tr style=\"text-align: right;\">\n",
       "      <th></th>\n",
       "      <th>number</th>\n",
       "      <th>pull_request_number</th>\n",
       "      <th>id</th>\n",
       "      <th>event_type</th>\n",
       "      <th>finished_at</th>\n",
       "      <th>pull_request_title</th>\n",
       "      <th>started_at</th>\n",
       "      <th>duration</th>\n",
       "      <th>state</th>\n",
       "      <th>started_at_day</th>\n",
       "      <th>started_at_month</th>\n",
       "      <th>started_at_year</th>\n",
       "    </tr>\n",
       "  </thead>\n",
       "  <tbody>\n",
       "    <tr>\n",
       "      <th>0</th>\n",
       "      <td>6995</td>\n",
       "      <td>NaN</td>\n",
       "      <td>99118995</td>\n",
       "      <td>push</td>\n",
       "      <td>2015-12-28 16:34:08+00:00</td>\n",
       "      <td>NaN</td>\n",
       "      <td>2015-12-28 16:18:41+00:00</td>\n",
       "      <td>5361.0</td>\n",
       "      <td>failed</td>\n",
       "      <td>28.0</td>\n",
       "      <td>12.0</td>\n",
       "      <td>2015.0</td>\n",
       "    </tr>\n",
       "    <tr>\n",
       "      <th>1</th>\n",
       "      <td>6994</td>\n",
       "      <td>NaN</td>\n",
       "      <td>99100662</td>\n",
       "      <td>push</td>\n",
       "      <td>2015-12-28 14:36:03+00:00</td>\n",
       "      <td>NaN</td>\n",
       "      <td>2015-12-28 14:18:30+00:00</td>\n",
       "      <td>5953.0</td>\n",
       "      <td>passed</td>\n",
       "      <td>28.0</td>\n",
       "      <td>12.0</td>\n",
       "      <td>2015.0</td>\n",
       "    </tr>\n",
       "    <tr>\n",
       "      <th>2</th>\n",
       "      <td>6993</td>\n",
       "      <td>NaN</td>\n",
       "      <td>99093472</td>\n",
       "      <td>push</td>\n",
       "      <td>2015-12-28 13:27:51+00:00</td>\n",
       "      <td>NaN</td>\n",
       "      <td>2015-12-28 13:11:39+00:00</td>\n",
       "      <td>5166.0</td>\n",
       "      <td>passed</td>\n",
       "      <td>28.0</td>\n",
       "      <td>12.0</td>\n",
       "      <td>2015.0</td>\n",
       "    </tr>\n",
       "    <tr>\n",
       "      <th>3</th>\n",
       "      <td>6992</td>\n",
       "      <td>NaN</td>\n",
       "      <td>99086186</td>\n",
       "      <td>push</td>\n",
       "      <td>2015-12-28 12:18:41+00:00</td>\n",
       "      <td>NaN</td>\n",
       "      <td>2015-12-28 12:10:56+00:00</td>\n",
       "      <td>5243.0</td>\n",
       "      <td>passed</td>\n",
       "      <td>28.0</td>\n",
       "      <td>12.0</td>\n",
       "      <td>2015.0</td>\n",
       "    </tr>\n",
       "    <tr>\n",
       "      <th>4</th>\n",
       "      <td>6991</td>\n",
       "      <td>NaN</td>\n",
       "      <td>99078711</td>\n",
       "      <td>push</td>\n",
       "      <td>2015-12-28 10:56:34+00:00</td>\n",
       "      <td>NaN</td>\n",
       "      <td>2015-12-28 10:41:16+00:00</td>\n",
       "      <td>5045.0</td>\n",
       "      <td>passed</td>\n",
       "      <td>28.0</td>\n",
       "      <td>12.0</td>\n",
       "      <td>2015.0</td>\n",
       "    </tr>\n",
       "  </tbody>\n",
       "</table>\n",
       "</div>"
      ],
      "text/plain": [
       "   number  pull_request_number        id event_type               finished_at  \\\n",
       "0    6995                  NaN  99118995       push 2015-12-28 16:34:08+00:00   \n",
       "1    6994                  NaN  99100662       push 2015-12-28 14:36:03+00:00   \n",
       "2    6993                  NaN  99093472       push 2015-12-28 13:27:51+00:00   \n",
       "3    6992                  NaN  99086186       push 2015-12-28 12:18:41+00:00   \n",
       "4    6991                  NaN  99078711       push 2015-12-28 10:56:34+00:00   \n",
       "\n",
       "  pull_request_title                started_at  duration   state  \\\n",
       "0                NaN 2015-12-28 16:18:41+00:00    5361.0  failed   \n",
       "1                NaN 2015-12-28 14:18:30+00:00    5953.0  passed   \n",
       "2                NaN 2015-12-28 13:11:39+00:00    5166.0  passed   \n",
       "3                NaN 2015-12-28 12:10:56+00:00    5243.0  passed   \n",
       "4                NaN 2015-12-28 10:41:16+00:00    5045.0  passed   \n",
       "\n",
       "   started_at_day  started_at_month  started_at_year  \n",
       "0            28.0              12.0           2015.0  \n",
       "1            28.0              12.0           2015.0  \n",
       "2            28.0              12.0           2015.0  \n",
       "3            28.0              12.0           2015.0  \n",
       "4            28.0              12.0           2015.0  "
      ]
     },
     "execution_count": 93,
     "metadata": {},
     "output_type": "execute_result"
    }
   ],
   "source": [
    "builds = pd.read_csv(f\"{csv_folder}/builds_cleaned.csv\", index_col=0)\n",
    "builds[\"started_at\"] = pd.to_datetime(builds.started_at)\n",
    "builds[\"finished_at\"] = pd.to_datetime(builds.finished_at)\n",
    "builds.head()"
   ]
  },
  {
   "cell_type": "markdown",
   "metadata": {},
   "source": [
    "### Import main df"
   ]
  },
  {
   "cell_type": "code",
   "execution_count": 6,
   "metadata": {},
   "outputs": [
    {
     "data": {
      "text/html": [
       "<div>\n",
       "<style scoped>\n",
       "    .dataframe tbody tr th:only-of-type {\n",
       "        vertical-align: middle;\n",
       "    }\n",
       "\n",
       "    .dataframe tbody tr th {\n",
       "        vertical-align: top;\n",
       "    }\n",
       "\n",
       "    .dataframe thead th {\n",
       "        text-align: right;\n",
       "    }\n",
       "</style>\n",
       "<table border=\"1\" class=\"dataframe\">\n",
       "  <thead>\n",
       "    <tr style=\"text-align: right;\">\n",
       "      <th></th>\n",
       "      <th>id</th>\n",
       "      <th>buildid</th>\n",
       "      <th>started_at</th>\n",
       "      <th>created_at</th>\n",
       "      <th>finished_at</th>\n",
       "      <th>number</th>\n",
       "      <th>state</th>\n",
       "      <th>updated_at</th>\n",
       "      <th>commitsha</th>\n",
       "      <th>commitid</th>\n",
       "      <th>commitmessage</th>\n",
       "      <th>commitref</th>\n",
       "      <th>commitcompare_url</th>\n",
       "    </tr>\n",
       "  </thead>\n",
       "  <tbody>\n",
       "    <tr>\n",
       "      <th>0</th>\n",
       "      <td>241946101</td>\n",
       "      <td>241946099</td>\n",
       "      <td>2017-06-12 09:21:03+00:00</td>\n",
       "      <td>2017-06-12 09:13:51.063000+00:00</td>\n",
       "      <td>2017-06-12 09:21:43+00:00</td>\n",
       "      <td>25614.1</td>\n",
       "      <td>canceled</td>\n",
       "      <td>2018-06-02T14:51:19.734Z</td>\n",
       "      <td>2e4b539138fde6f664a865c81fb6ab0763f74bdb</td>\n",
       "      <td>70181895</td>\n",
       "      <td>SONAR-9304 Add test on organization deletion</td>\n",
       "      <td>refs/heads/feature/atlas/MMF-324/builtin-profiles</td>\n",
       "      <td>https://github.com/SonarSource/sonarqube/compa...</td>\n",
       "    </tr>\n",
       "    <tr>\n",
       "      <th>1</th>\n",
       "      <td>241946103</td>\n",
       "      <td>241946099</td>\n",
       "      <td>2017-06-12 09:22:43+00:00</td>\n",
       "      <td>2017-06-12 09:13:51.107000+00:00</td>\n",
       "      <td>2017-06-12 09:21:43+00:00</td>\n",
       "      <td>25614.2</td>\n",
       "      <td>canceled</td>\n",
       "      <td>2018-06-02T14:51:19.764Z</td>\n",
       "      <td>2e4b539138fde6f664a865c81fb6ab0763f74bdb</td>\n",
       "      <td>70181895</td>\n",
       "      <td>SONAR-9304 Add test on organization deletion</td>\n",
       "      <td>refs/heads/feature/atlas/MMF-324/builtin-profiles</td>\n",
       "      <td>https://github.com/SonarSource/sonarqube/compa...</td>\n",
       "    </tr>\n",
       "    <tr>\n",
       "      <th>2</th>\n",
       "      <td>241952024</td>\n",
       "      <td>241952022</td>\n",
       "      <td>2017-06-12 09:36:43+00:00</td>\n",
       "      <td>2017-06-12 09:32:52.227000+00:00</td>\n",
       "      <td>2017-06-12 09:37:23+00:00</td>\n",
       "      <td>25615.1</td>\n",
       "      <td>canceled</td>\n",
       "      <td>2018-06-02T14:51:25.661Z</td>\n",
       "      <td>464f5da96733c14818f4b4bfeb878951b859ee0c</td>\n",
       "      <td>70183628</td>\n",
       "      <td>SONAR-9304 Add comments to make tests clearer</td>\n",
       "      <td>refs/heads/feature/atlas/MMF-324/builtin-profiles</td>\n",
       "      <td>https://github.com/SonarSource/sonarqube/compa...</td>\n",
       "    </tr>\n",
       "    <tr>\n",
       "      <th>3</th>\n",
       "      <td>241952025</td>\n",
       "      <td>241952022</td>\n",
       "      <td>NaT</td>\n",
       "      <td>2017-06-12 09:32:52.237000+00:00</td>\n",
       "      <td>2017-06-12 09:37:24+00:00</td>\n",
       "      <td>25615.2</td>\n",
       "      <td>canceled</td>\n",
       "      <td>2018-06-02T14:51:25.669Z</td>\n",
       "      <td>464f5da96733c14818f4b4bfeb878951b859ee0c</td>\n",
       "      <td>70183628</td>\n",
       "      <td>SONAR-9304 Add comments to make tests clearer</td>\n",
       "      <td>refs/heads/feature/atlas/MMF-324/builtin-profiles</td>\n",
       "      <td>https://github.com/SonarSource/sonarqube/compa...</td>\n",
       "    </tr>\n",
       "    <tr>\n",
       "      <th>4</th>\n",
       "      <td>241952045</td>\n",
       "      <td>241952044</td>\n",
       "      <td>2017-06-12 09:42:16+00:00</td>\n",
       "      <td>2017-06-12 09:32:59.994000+00:00</td>\n",
       "      <td>2017-06-12 09:53:48+00:00</td>\n",
       "      <td>25616.1</td>\n",
       "      <td>passed</td>\n",
       "      <td>2018-06-02T14:51:26.125Z</td>\n",
       "      <td>7358e9a93e47ac9fcaebe960c00ab8bd28e9890e</td>\n",
       "      <td>70183633</td>\n",
       "      <td>SONAR-9304 Add comments to make tests clearer</td>\n",
       "      <td>refs/pull/2104/merge</td>\n",
       "      <td>https://github.com/SonarSource/sonarqube/pull/...</td>\n",
       "    </tr>\n",
       "    <tr>\n",
       "      <th>...</th>\n",
       "      <td>...</td>\n",
       "      <td>...</td>\n",
       "      <td>...</td>\n",
       "      <td>...</td>\n",
       "      <td>...</td>\n",
       "      <td>...</td>\n",
       "      <td>...</td>\n",
       "      <td>...</td>\n",
       "      <td>...</td>\n",
       "      <td>...</td>\n",
       "      <td>...</td>\n",
       "      <td>...</td>\n",
       "      <td>...</td>\n",
       "    </tr>\n",
       "    <tr>\n",
       "      <th>136978</th>\n",
       "      <td>315411337</td>\n",
       "      <td>315411335</td>\n",
       "      <td>2017-12-12 15:23:15+00:00</td>\n",
       "      <td>2017-12-12 15:22:41.091000+00:00</td>\n",
       "      <td>2017-12-12 15:26:39+00:00</td>\n",
       "      <td>34811.2</td>\n",
       "      <td>passed</td>\n",
       "      <td>2018-06-03T16:57:36.971Z</td>\n",
       "      <td>abd0650045b3fcc95ac8459a6fc2450a1bd889c0</td>\n",
       "      <td>93642638</td>\n",
       "      <td>SONAR-10134 Fix ITs on quality gates by settin...</td>\n",
       "      <td>refs/pull/2866/merge</td>\n",
       "      <td>https://github.com/SonarSource/sonarqube/pull/...</td>\n",
       "    </tr>\n",
       "    <tr>\n",
       "      <th>136979</th>\n",
       "      <td>315421139</td>\n",
       "      <td>315421138</td>\n",
       "      <td>2017-12-12 15:43:05+00:00</td>\n",
       "      <td>2017-12-12 15:42:34.642000+00:00</td>\n",
       "      <td>2017-12-12 15:44:59+00:00</td>\n",
       "      <td>34812.1</td>\n",
       "      <td>passed</td>\n",
       "      <td>2018-06-03T16:57:47.762Z</td>\n",
       "      <td>04d5e19040df59e2a4a1025514c9b8b7c42378f8</td>\n",
       "      <td>93645831</td>\n",
       "      <td>SONAR-10187 Provide more options to populate e...</td>\n",
       "      <td>refs/heads/feature/stas/MMF-1128</td>\n",
       "      <td>https://github.com/SonarSource/sonarqube/compa...</td>\n",
       "    </tr>\n",
       "    <tr>\n",
       "      <th>136980</th>\n",
       "      <td>315421140</td>\n",
       "      <td>315421138</td>\n",
       "      <td>2017-12-12 15:43:26+00:00</td>\n",
       "      <td>2017-12-12 15:42:34.682000+00:00</td>\n",
       "      <td>2017-12-12 15:44:25+00:00</td>\n",
       "      <td>34812.2</td>\n",
       "      <td>passed</td>\n",
       "      <td>2018-06-03T16:57:47.778Z</td>\n",
       "      <td>04d5e19040df59e2a4a1025514c9b8b7c42378f8</td>\n",
       "      <td>93645831</td>\n",
       "      <td>SONAR-10187 Provide more options to populate e...</td>\n",
       "      <td>refs/heads/feature/stas/MMF-1128</td>\n",
       "      <td>https://github.com/SonarSource/sonarqube/compa...</td>\n",
       "    </tr>\n",
       "    <tr>\n",
       "      <th>136981</th>\n",
       "      <td>315421147</td>\n",
       "      <td>315421146</td>\n",
       "      <td>2017-12-12 15:43:25+00:00</td>\n",
       "      <td>2017-12-12 15:42:40.583000+00:00</td>\n",
       "      <td>2017-12-12 16:01:05+00:00</td>\n",
       "      <td>34813.1</td>\n",
       "      <td>passed</td>\n",
       "      <td>2018-06-03T16:57:47.837Z</td>\n",
       "      <td>a5005e0ca38a67e7d70c255154990ed10be31020</td>\n",
       "      <td>93645838</td>\n",
       "      <td>SONAR-10187 Provide more options to populate e...</td>\n",
       "      <td>refs/pull/2895/merge</td>\n",
       "      <td>https://github.com/SonarSource/sonarqube/pull/...</td>\n",
       "    </tr>\n",
       "    <tr>\n",
       "      <th>136982</th>\n",
       "      <td>315421148</td>\n",
       "      <td>315421146</td>\n",
       "      <td>2017-12-12 15:43:23+00:00</td>\n",
       "      <td>2017-12-12 15:42:40.646000+00:00</td>\n",
       "      <td>2017-12-12 15:46:39+00:00</td>\n",
       "      <td>34813.2</td>\n",
       "      <td>passed</td>\n",
       "      <td>2018-06-03T16:57:47.977Z</td>\n",
       "      <td>a5005e0ca38a67e7d70c255154990ed10be31020</td>\n",
       "      <td>93645838</td>\n",
       "      <td>SONAR-10187 Provide more options to populate e...</td>\n",
       "      <td>refs/pull/2895/merge</td>\n",
       "      <td>https://github.com/SonarSource/sonarqube/pull/...</td>\n",
       "    </tr>\n",
       "  </tbody>\n",
       "</table>\n",
       "<p>136983 rows × 13 columns</p>\n",
       "</div>"
      ],
      "text/plain": [
       "               id    buildid                started_at  \\\n",
       "0       241946101  241946099 2017-06-12 09:21:03+00:00   \n",
       "1       241946103  241946099 2017-06-12 09:22:43+00:00   \n",
       "2       241952024  241952022 2017-06-12 09:36:43+00:00   \n",
       "3       241952025  241952022                       NaT   \n",
       "4       241952045  241952044 2017-06-12 09:42:16+00:00   \n",
       "...           ...        ...                       ...   \n",
       "136978  315411337  315411335 2017-12-12 15:23:15+00:00   \n",
       "136979  315421139  315421138 2017-12-12 15:43:05+00:00   \n",
       "136980  315421140  315421138 2017-12-12 15:43:26+00:00   \n",
       "136981  315421147  315421146 2017-12-12 15:43:25+00:00   \n",
       "136982  315421148  315421146 2017-12-12 15:43:23+00:00   \n",
       "\n",
       "                             created_at               finished_at   number  \\\n",
       "0      2017-06-12 09:13:51.063000+00:00 2017-06-12 09:21:43+00:00  25614.1   \n",
       "1      2017-06-12 09:13:51.107000+00:00 2017-06-12 09:21:43+00:00  25614.2   \n",
       "2      2017-06-12 09:32:52.227000+00:00 2017-06-12 09:37:23+00:00  25615.1   \n",
       "3      2017-06-12 09:32:52.237000+00:00 2017-06-12 09:37:24+00:00  25615.2   \n",
       "4      2017-06-12 09:32:59.994000+00:00 2017-06-12 09:53:48+00:00  25616.1   \n",
       "...                                 ...                       ...      ...   \n",
       "136978 2017-12-12 15:22:41.091000+00:00 2017-12-12 15:26:39+00:00  34811.2   \n",
       "136979 2017-12-12 15:42:34.642000+00:00 2017-12-12 15:44:59+00:00  34812.1   \n",
       "136980 2017-12-12 15:42:34.682000+00:00 2017-12-12 15:44:25+00:00  34812.2   \n",
       "136981 2017-12-12 15:42:40.583000+00:00 2017-12-12 16:01:05+00:00  34813.1   \n",
       "136982 2017-12-12 15:42:40.646000+00:00 2017-12-12 15:46:39+00:00  34813.2   \n",
       "\n",
       "           state                updated_at  \\\n",
       "0       canceled  2018-06-02T14:51:19.734Z   \n",
       "1       canceled  2018-06-02T14:51:19.764Z   \n",
       "2       canceled  2018-06-02T14:51:25.661Z   \n",
       "3       canceled  2018-06-02T14:51:25.669Z   \n",
       "4         passed  2018-06-02T14:51:26.125Z   \n",
       "...          ...                       ...   \n",
       "136978    passed  2018-06-03T16:57:36.971Z   \n",
       "136979    passed  2018-06-03T16:57:47.762Z   \n",
       "136980    passed  2018-06-03T16:57:47.778Z   \n",
       "136981    passed  2018-06-03T16:57:47.837Z   \n",
       "136982    passed  2018-06-03T16:57:47.977Z   \n",
       "\n",
       "                                       commitsha  commitid  \\\n",
       "0       2e4b539138fde6f664a865c81fb6ab0763f74bdb  70181895   \n",
       "1       2e4b539138fde6f664a865c81fb6ab0763f74bdb  70181895   \n",
       "2       464f5da96733c14818f4b4bfeb878951b859ee0c  70183628   \n",
       "3       464f5da96733c14818f4b4bfeb878951b859ee0c  70183628   \n",
       "4       7358e9a93e47ac9fcaebe960c00ab8bd28e9890e  70183633   \n",
       "...                                          ...       ...   \n",
       "136978  abd0650045b3fcc95ac8459a6fc2450a1bd889c0  93642638   \n",
       "136979  04d5e19040df59e2a4a1025514c9b8b7c42378f8  93645831   \n",
       "136980  04d5e19040df59e2a4a1025514c9b8b7c42378f8  93645831   \n",
       "136981  a5005e0ca38a67e7d70c255154990ed10be31020  93645838   \n",
       "136982  a5005e0ca38a67e7d70c255154990ed10be31020  93645838   \n",
       "\n",
       "                                            commitmessage  \\\n",
       "0            SONAR-9304 Add test on organization deletion   \n",
       "1            SONAR-9304 Add test on organization deletion   \n",
       "2           SONAR-9304 Add comments to make tests clearer   \n",
       "3           SONAR-9304 Add comments to make tests clearer   \n",
       "4           SONAR-9304 Add comments to make tests clearer   \n",
       "...                                                   ...   \n",
       "136978  SONAR-10134 Fix ITs on quality gates by settin...   \n",
       "136979  SONAR-10187 Provide more options to populate e...   \n",
       "136980  SONAR-10187 Provide more options to populate e...   \n",
       "136981  SONAR-10187 Provide more options to populate e...   \n",
       "136982  SONAR-10187 Provide more options to populate e...   \n",
       "\n",
       "                                                commitref  \\\n",
       "0       refs/heads/feature/atlas/MMF-324/builtin-profiles   \n",
       "1       refs/heads/feature/atlas/MMF-324/builtin-profiles   \n",
       "2       refs/heads/feature/atlas/MMF-324/builtin-profiles   \n",
       "3       refs/heads/feature/atlas/MMF-324/builtin-profiles   \n",
       "4                                    refs/pull/2104/merge   \n",
       "...                                                   ...   \n",
       "136978                               refs/pull/2866/merge   \n",
       "136979                   refs/heads/feature/stas/MMF-1128   \n",
       "136980                   refs/heads/feature/stas/MMF-1128   \n",
       "136981                               refs/pull/2895/merge   \n",
       "136982                               refs/pull/2895/merge   \n",
       "\n",
       "                                        commitcompare_url  \n",
       "0       https://github.com/SonarSource/sonarqube/compa...  \n",
       "1       https://github.com/SonarSource/sonarqube/compa...  \n",
       "2       https://github.com/SonarSource/sonarqube/compa...  \n",
       "3       https://github.com/SonarSource/sonarqube/compa...  \n",
       "4       https://github.com/SonarSource/sonarqube/pull/...  \n",
       "...                                                   ...  \n",
       "136978  https://github.com/SonarSource/sonarqube/pull/...  \n",
       "136979  https://github.com/SonarSource/sonarqube/compa...  \n",
       "136980  https://github.com/SonarSource/sonarqube/compa...  \n",
       "136981  https://github.com/SonarSource/sonarqube/pull/...  \n",
       "136982  https://github.com/SonarSource/sonarqube/pull/...  \n",
       "\n",
       "[136983 rows x 13 columns]"
      ]
     },
     "execution_count": 6,
     "metadata": {},
     "output_type": "execute_result"
    }
   ],
   "source": [
    "jobs = pd.read_csv(f\"{csv_folder}/allJobs.csv\", index_col=0)\n",
    "jobs[\"finished_at\"] = pd.to_datetime(jobs.finished_at)\n",
    "jobs[\"started_at\"] = pd.to_datetime(jobs.started_at)\n",
    "jobs[\"created_at\"] = pd.to_datetime(jobs.created_at)\n",
    "jobs"
   ]
  },
  {
   "cell_type": "markdown",
   "metadata": {},
   "source": [
    "### Columns"
   ]
  },
  {
   "cell_type": "code",
   "execution_count": 62,
   "metadata": {},
   "outputs": [
    {
     "data": {
      "text/plain": [
       "Index(['id', 'buildid', 'started_at', 'created_at', 'finished_at', 'number',\n",
       "       'state', 'updated_at', 'commitsha', 'commitid', 'commitmessage',\n",
       "       'commitref', 'commitcompare_url', 'started_at_day', 'started_at_month',\n",
       "       'started_at_year'],\n",
       "      dtype='object')"
      ]
     },
     "execution_count": 62,
     "metadata": {},
     "output_type": "execute_result"
    }
   ],
   "source": [
    "jobs.columns"
   ]
  },
  {
   "cell_type": "markdown",
   "metadata": {},
   "source": [
    "| Field          | Description                                                     |\n",
    "|----------------|-----------------------------------------------------------------|\n",
    "|commitref|Named reference the commit has in git.|\n"
   ]
  },
  {
   "cell_type": "markdown",
   "metadata": {},
   "source": [
    "### Shape"
   ]
  },
  {
   "cell_type": "code",
   "execution_count": 7,
   "metadata": {},
   "outputs": [
    {
     "data": {
      "text/plain": [
       "(136983, 13)"
      ]
     },
     "execution_count": 7,
     "metadata": {},
     "output_type": "execute_result"
    }
   ],
   "source": [
    "jobs.shape"
   ]
  },
  {
   "cell_type": "markdown",
   "metadata": {},
   "source": [
    "### Stats"
   ]
  },
  {
   "cell_type": "code",
   "execution_count": 8,
   "metadata": {
    "scrolled": true
   },
   "outputs": [
    {
     "data": {
      "text/html": [
       "<div>\n",
       "<style scoped>\n",
       "    .dataframe tbody tr th:only-of-type {\n",
       "        vertical-align: middle;\n",
       "    }\n",
       "\n",
       "    .dataframe tbody tr th {\n",
       "        vertical-align: top;\n",
       "    }\n",
       "\n",
       "    .dataframe thead th {\n",
       "        text-align: right;\n",
       "    }\n",
       "</style>\n",
       "<table border=\"1\" class=\"dataframe\">\n",
       "  <thead>\n",
       "    <tr style=\"text-align: right;\">\n",
       "      <th></th>\n",
       "      <th>id</th>\n",
       "      <th>buildid</th>\n",
       "      <th>number</th>\n",
       "      <th>commitid</th>\n",
       "    </tr>\n",
       "  </thead>\n",
       "  <tbody>\n",
       "    <tr>\n",
       "      <th>count</th>\n",
       "      <td>1.369830e+05</td>\n",
       "      <td>1.369830e+05</td>\n",
       "      <td>136983.000000</td>\n",
       "      <td>1.369830e+05</td>\n",
       "    </tr>\n",
       "    <tr>\n",
       "      <th>mean</th>\n",
       "      <td>1.605672e+08</td>\n",
       "      <td>1.605672e+08</td>\n",
       "      <td>14131.256792</td>\n",
       "      <td>4.639438e+07</td>\n",
       "    </tr>\n",
       "    <tr>\n",
       "      <th>std</th>\n",
       "      <td>9.339884e+07</td>\n",
       "      <td>9.339884e+07</td>\n",
       "      <td>10802.638198</td>\n",
       "      <td>2.808363e+07</td>\n",
       "    </tr>\n",
       "    <tr>\n",
       "      <th>min</th>\n",
       "      <td>5.473113e+07</td>\n",
       "      <td>5.473112e+07</td>\n",
       "      <td>1.100000</td>\n",
       "      <td>1.569590e+07</td>\n",
       "    </tr>\n",
       "    <tr>\n",
       "      <th>25%</th>\n",
       "      <td>8.808975e+07</td>\n",
       "      <td>8.808973e+07</td>\n",
       "      <td>5702.850000</td>\n",
       "      <td>2.505123e+07</td>\n",
       "    </tr>\n",
       "    <tr>\n",
       "      <th>50%</th>\n",
       "      <td>1.280068e+08</td>\n",
       "      <td>1.280068e+08</td>\n",
       "      <td>9894.400000</td>\n",
       "      <td>3.622591e+07</td>\n",
       "    </tr>\n",
       "    <tr>\n",
       "      <th>75%</th>\n",
       "      <td>2.212873e+08</td>\n",
       "      <td>2.212873e+08</td>\n",
       "      <td>21510.650000</td>\n",
       "      <td>6.380080e+07</td>\n",
       "    </tr>\n",
       "    <tr>\n",
       "      <th>max</th>\n",
       "      <td>7.313960e+08</td>\n",
       "      <td>7.313960e+08</td>\n",
       "      <td>39427.200000</td>\n",
       "      <td>2.259581e+08</td>\n",
       "    </tr>\n",
       "  </tbody>\n",
       "</table>\n",
       "</div>"
      ],
      "text/plain": [
       "                 id       buildid         number      commitid\n",
       "count  1.369830e+05  1.369830e+05  136983.000000  1.369830e+05\n",
       "mean   1.605672e+08  1.605672e+08   14131.256792  4.639438e+07\n",
       "std    9.339884e+07  9.339884e+07   10802.638198  2.808363e+07\n",
       "min    5.473113e+07  5.473112e+07       1.100000  1.569590e+07\n",
       "25%    8.808975e+07  8.808973e+07    5702.850000  2.505123e+07\n",
       "50%    1.280068e+08  1.280068e+08    9894.400000  3.622591e+07\n",
       "75%    2.212873e+08  2.212873e+08   21510.650000  6.380080e+07\n",
       "max    7.313960e+08  7.313960e+08   39427.200000  2.259581e+08"
      ]
     },
     "execution_count": 8,
     "metadata": {},
     "output_type": "execute_result"
    }
   ],
   "source": [
    "jobs.describe()"
   ]
  },
  {
   "cell_type": "code",
   "execution_count": 9,
   "metadata": {},
   "outputs": [
    {
     "data": {
      "text/html": [
       "<div>\n",
       "<style scoped>\n",
       "    .dataframe tbody tr th:only-of-type {\n",
       "        vertical-align: middle;\n",
       "    }\n",
       "\n",
       "    .dataframe tbody tr th {\n",
       "        vertical-align: top;\n",
       "    }\n",
       "\n",
       "    .dataframe thead th {\n",
       "        text-align: right;\n",
       "    }\n",
       "</style>\n",
       "<table border=\"1\" class=\"dataframe\">\n",
       "  <thead>\n",
       "    <tr style=\"text-align: right;\">\n",
       "      <th></th>\n",
       "      <th>state</th>\n",
       "      <th>updated_at</th>\n",
       "      <th>commitsha</th>\n",
       "      <th>commitmessage</th>\n",
       "      <th>commitref</th>\n",
       "      <th>commitcompare_url</th>\n",
       "    </tr>\n",
       "  </thead>\n",
       "  <tbody>\n",
       "    <tr>\n",
       "      <th>count</th>\n",
       "      <td>136983</td>\n",
       "      <td>136983</td>\n",
       "      <td>136983</td>\n",
       "      <td>136981</td>\n",
       "      <td>133102</td>\n",
       "      <td>136983</td>\n",
       "    </tr>\n",
       "    <tr>\n",
       "      <th>unique</th>\n",
       "      <td>4</td>\n",
       "      <td>136648</td>\n",
       "      <td>35379</td>\n",
       "      <td>12525</td>\n",
       "      <td>6897</td>\n",
       "      <td>27721</td>\n",
       "    </tr>\n",
       "    <tr>\n",
       "      <th>top</th>\n",
       "      <td>passed</td>\n",
       "      <td>2018-05-29T10:59:26.113Z</td>\n",
       "      <td>e4faa1fdb6c34ec8dcc65c5916daea0bb5c15dcd</td>\n",
       "      <td>Nightly build launched from the travis-schedul...</td>\n",
       "      <td>refs/heads/master</td>\n",
       "      <td>https://github.com/SonarSource/sonarqube/compa...</td>\n",
       "    </tr>\n",
       "    <tr>\n",
       "      <th>freq</th>\n",
       "      <td>98116</td>\n",
       "      <td>2</td>\n",
       "      <td>557</td>\n",
       "      <td>2070</td>\n",
       "      <td>24092</td>\n",
       "      <td>555</td>\n",
       "    </tr>\n",
       "  </tbody>\n",
       "</table>\n",
       "</div>"
      ],
      "text/plain": [
       "         state                updated_at  \\\n",
       "count   136983                    136983   \n",
       "unique       4                    136648   \n",
       "top     passed  2018-05-29T10:59:26.113Z   \n",
       "freq     98116                         2   \n",
       "\n",
       "                                       commitsha  \\\n",
       "count                                     136983   \n",
       "unique                                     35379   \n",
       "top     e4faa1fdb6c34ec8dcc65c5916daea0bb5c15dcd   \n",
       "freq                                         557   \n",
       "\n",
       "                                            commitmessage          commitref  \\\n",
       "count                                              136981             133102   \n",
       "unique                                              12525               6897   \n",
       "top     Nightly build launched from the travis-schedul...  refs/heads/master   \n",
       "freq                                                 2070              24092   \n",
       "\n",
       "                                        commitcompare_url  \n",
       "count                                              136983  \n",
       "unique                                              27721  \n",
       "top     https://github.com/SonarSource/sonarqube/compa...  \n",
       "freq                                                  555  "
      ]
     },
     "execution_count": 9,
     "metadata": {},
     "output_type": "execute_result"
    }
   ],
   "source": [
    "jobs.describe(include = ['O'])"
   ]
  },
  {
   "cell_type": "markdown",
   "metadata": {},
   "source": [
    "* Number field seems to be so composed: buildnumber.numberofjob. It goes indeed from 1.1 to 39427.2\n",
    "* The majority of jobs have the passed state\n",
    "* \"Nightly build launched from the travis\" is the most popular commitmessage"
   ]
  },
  {
   "cell_type": "markdown",
   "metadata": {},
   "source": [
    "**Missing values**"
   ]
  },
  {
   "cell_type": "code",
   "execution_count": 11,
   "metadata": {
    "scrolled": true
   },
   "outputs": [
    {
     "data": {
      "text/plain": [
       "id                      0\n",
       "buildid                 0\n",
       "started_at           9876\n",
       "created_at              0\n",
       "finished_at             1\n",
       "number                  0\n",
       "state                   0\n",
       "updated_at              0\n",
       "commitsha               0\n",
       "commitid                0\n",
       "commitmessage           2\n",
       "commitref            3881\n",
       "commitcompare_url       0\n",
       "dtype: int64"
      ]
     },
     "execution_count": 11,
     "metadata": {},
     "output_type": "execute_result"
    }
   ],
   "source": [
    "jobs.isna().sum()"
   ]
  },
  {
   "cell_type": "markdown",
   "metadata": {},
   "source": [
    "* Started at has many NaN (to be investigated)\n",
    "* Finished at has 1 NaN (to be investigated)\n",
    "* Commit message and commit ref also present missing values"
   ]
  },
  {
   "cell_type": "markdown",
   "metadata": {},
   "source": [
    "### Time range"
   ]
  },
  {
   "cell_type": "code",
   "execution_count": 12,
   "metadata": {},
   "outputs": [
    {
     "data": {
      "text/plain": [
       "Timestamp('2015-03-17 15:04:32+0000', tz='UTC')"
      ]
     },
     "execution_count": 12,
     "metadata": {},
     "output_type": "execute_result"
    }
   ],
   "source": [
    "jobs.started_at.min()"
   ]
  },
  {
   "cell_type": "code",
   "execution_count": 15,
   "metadata": {},
   "outputs": [
    {
     "data": {
      "text/plain": [
       "Timestamp('2020-09-29 20:09:13+0000', tz='UTC')"
      ]
     },
     "execution_count": 15,
     "metadata": {},
     "output_type": "execute_result"
    }
   ],
   "source": [
    "jobs.started_at.max()"
   ]
  },
  {
   "cell_type": "markdown",
   "metadata": {},
   "source": [
    "These values are the same as the ones from builds which validates the dataset"
   ]
  },
  {
   "cell_type": "markdown",
   "metadata": {},
   "source": [
    "**Missing value finished_at**"
   ]
  },
  {
   "cell_type": "code",
   "execution_count": 16,
   "metadata": {},
   "outputs": [
    {
     "data": {
      "text/html": [
       "<div>\n",
       "<style scoped>\n",
       "    .dataframe tbody tr th:only-of-type {\n",
       "        vertical-align: middle;\n",
       "    }\n",
       "\n",
       "    .dataframe tbody tr th {\n",
       "        vertical-align: top;\n",
       "    }\n",
       "\n",
       "    .dataframe thead th {\n",
       "        text-align: right;\n",
       "    }\n",
       "</style>\n",
       "<table border=\"1\" class=\"dataframe\">\n",
       "  <thead>\n",
       "    <tr style=\"text-align: right;\">\n",
       "      <th></th>\n",
       "      <th>id</th>\n",
       "      <th>buildid</th>\n",
       "      <th>started_at</th>\n",
       "      <th>created_at</th>\n",
       "      <th>finished_at</th>\n",
       "      <th>number</th>\n",
       "      <th>state</th>\n",
       "      <th>updated_at</th>\n",
       "      <th>commitsha</th>\n",
       "      <th>commitid</th>\n",
       "      <th>commitmessage</th>\n",
       "      <th>commitref</th>\n",
       "      <th>commitcompare_url</th>\n",
       "    </tr>\n",
       "  </thead>\n",
       "  <tbody>\n",
       "    <tr>\n",
       "      <th>61773</th>\n",
       "      <td>84464812</td>\n",
       "      <td>84464803</td>\n",
       "      <td>2015-10-09 09:19:05+00:00</td>\n",
       "      <td>2015-10-09 08:58:15.772000+00:00</td>\n",
       "      <td>NaT</td>\n",
       "      <td>5304.9</td>\n",
       "      <td>canceled</td>\n",
       "      <td>2018-05-29T13:51:07.954Z</td>\n",
       "      <td>b1328d82b828d9c6a1cab6d529b04f8fd2ef8f61</td>\n",
       "      <td>24038399</td>\n",
       "      <td>SONAR-6717 Restore issues actions API - WIP</td>\n",
       "      <td>refs/heads/feature/issue-attributes</td>\n",
       "      <td>https://github.com/SonarSource/sonarqube/compa...</td>\n",
       "    </tr>\n",
       "  </tbody>\n",
       "</table>\n",
       "</div>"
      ],
      "text/plain": [
       "             id   buildid                started_at  \\\n",
       "61773  84464812  84464803 2015-10-09 09:19:05+00:00   \n",
       "\n",
       "                            created_at finished_at  number     state  \\\n",
       "61773 2015-10-09 08:58:15.772000+00:00         NaT  5304.9  canceled   \n",
       "\n",
       "                     updated_at                                 commitsha  \\\n",
       "61773  2018-05-29T13:51:07.954Z  b1328d82b828d9c6a1cab6d529b04f8fd2ef8f61   \n",
       "\n",
       "       commitid                                commitmessage  \\\n",
       "61773  24038399  SONAR-6717 Restore issues actions API - WIP   \n",
       "\n",
       "                                 commitref  \\\n",
       "61773  refs/heads/feature/issue-attributes   \n",
       "\n",
       "                                       commitcompare_url  \n",
       "61773  https://github.com/SonarSource/sonarqube/compa...  "
      ]
     },
     "execution_count": 16,
     "metadata": {},
     "output_type": "execute_result"
    }
   ],
   "source": [
    "jobs[jobs.finished_at.isna()]"
   ]
  },
  {
   "cell_type": "markdown",
   "metadata": {},
   "source": [
    "**Missing value started_at**"
   ]
  },
  {
   "cell_type": "code",
   "execution_count": 17,
   "metadata": {},
   "outputs": [
    {
     "data": {
      "text/html": [
       "<div>\n",
       "<style scoped>\n",
       "    .dataframe tbody tr th:only-of-type {\n",
       "        vertical-align: middle;\n",
       "    }\n",
       "\n",
       "    .dataframe tbody tr th {\n",
       "        vertical-align: top;\n",
       "    }\n",
       "\n",
       "    .dataframe thead th {\n",
       "        text-align: right;\n",
       "    }\n",
       "</style>\n",
       "<table border=\"1\" class=\"dataframe\">\n",
       "  <thead>\n",
       "    <tr style=\"text-align: right;\">\n",
       "      <th></th>\n",
       "      <th>id</th>\n",
       "      <th>buildid</th>\n",
       "      <th>started_at</th>\n",
       "      <th>created_at</th>\n",
       "      <th>finished_at</th>\n",
       "      <th>number</th>\n",
       "      <th>state</th>\n",
       "      <th>updated_at</th>\n",
       "      <th>commitsha</th>\n",
       "      <th>commitid</th>\n",
       "      <th>commitmessage</th>\n",
       "      <th>commitref</th>\n",
       "      <th>commitcompare_url</th>\n",
       "    </tr>\n",
       "  </thead>\n",
       "  <tbody>\n",
       "    <tr>\n",
       "      <th>3</th>\n",
       "      <td>241952025</td>\n",
       "      <td>241952022</td>\n",
       "      <td>NaT</td>\n",
       "      <td>2017-06-12 09:32:52.237000+00:00</td>\n",
       "      <td>2017-06-12 09:37:24+00:00</td>\n",
       "      <td>25615.2</td>\n",
       "      <td>canceled</td>\n",
       "      <td>2018-06-02T14:51:25.669Z</td>\n",
       "      <td>464f5da96733c14818f4b4bfeb878951b859ee0c</td>\n",
       "      <td>70183628</td>\n",
       "      <td>SONAR-9304 Add comments to make tests clearer</td>\n",
       "      <td>refs/heads/feature/atlas/MMF-324/builtin-profiles</td>\n",
       "      <td>https://github.com/SonarSource/sonarqube/compa...</td>\n",
       "    </tr>\n",
       "    <tr>\n",
       "      <th>135</th>\n",
       "      <td>242340308</td>\n",
       "      <td>242340306</td>\n",
       "      <td>NaT</td>\n",
       "      <td>2017-06-13 09:08:09.372000+00:00</td>\n",
       "      <td>2017-06-13 09:11:47+00:00</td>\n",
       "      <td>25681.2</td>\n",
       "      <td>canceled</td>\n",
       "      <td>2018-06-02T14:59:27.316Z</td>\n",
       "      <td>32631611fab2f74c8492a21ff41f4e63fe2881a9</td>\n",
       "      <td>70299932</td>\n",
       "      <td>Improve isolation of UiTest</td>\n",
       "      <td>refs/heads/feature/stas/onboarding/login-form</td>\n",
       "      <td>https://github.com/SonarSource/sonarqube/compa...</td>\n",
       "    </tr>\n",
       "    <tr>\n",
       "      <th>184</th>\n",
       "      <td>242406829</td>\n",
       "      <td>242406828</td>\n",
       "      <td>NaT</td>\n",
       "      <td>2017-06-13 12:49:28.317000+00:00</td>\n",
       "      <td>2017-06-13 13:08:50+00:00</td>\n",
       "      <td>25706.1</td>\n",
       "      <td>canceled</td>\n",
       "      <td>2018-06-02T15:01:04.458Z</td>\n",
       "      <td>09f07b9b85a16f144743827dcee3f43574253d9e</td>\n",
       "      <td>70320629</td>\n",
       "      <td>Fix Selenese ITs that were using 'admin' user\\...</td>\n",
       "      <td>refs/heads/feature/stas/onboarding/on-first-login</td>\n",
       "      <td>https://github.com/SonarSource/sonarqube/compa...</td>\n",
       "    </tr>\n",
       "    <tr>\n",
       "      <th>185</th>\n",
       "      <td>242406830</td>\n",
       "      <td>242406828</td>\n",
       "      <td>NaT</td>\n",
       "      <td>2017-06-13 12:49:28.476000+00:00</td>\n",
       "      <td>2017-06-13 13:08:50+00:00</td>\n",
       "      <td>25706.2</td>\n",
       "      <td>canceled</td>\n",
       "      <td>2018-06-02T15:01:04.473Z</td>\n",
       "      <td>09f07b9b85a16f144743827dcee3f43574253d9e</td>\n",
       "      <td>70320629</td>\n",
       "      <td>Fix Selenese ITs that were using 'admin' user\\...</td>\n",
       "      <td>refs/heads/feature/stas/onboarding/on-first-login</td>\n",
       "      <td>https://github.com/SonarSource/sonarqube/compa...</td>\n",
       "    </tr>\n",
       "    <tr>\n",
       "      <th>186</th>\n",
       "      <td>242406847</td>\n",
       "      <td>242406846</td>\n",
       "      <td>NaT</td>\n",
       "      <td>2017-06-13 12:49:30.540000+00:00</td>\n",
       "      <td>2017-06-13 12:59:22+00:00</td>\n",
       "      <td>25707.1</td>\n",
       "      <td>canceled</td>\n",
       "      <td>2018-06-02T15:01:05.063Z</td>\n",
       "      <td>c6eb394b44ba39ea09b31258a2d78bd64c1b9c5b</td>\n",
       "      <td>70320638</td>\n",
       "      <td>Fix Selenese ITs that were using 'admin' user\\...</td>\n",
       "      <td>refs/pull/2162/merge</td>\n",
       "      <td>https://github.com/SonarSource/sonarqube/pull/...</td>\n",
       "    </tr>\n",
       "    <tr>\n",
       "      <th>...</th>\n",
       "      <td>...</td>\n",
       "      <td>...</td>\n",
       "      <td>...</td>\n",
       "      <td>...</td>\n",
       "      <td>...</td>\n",
       "      <td>...</td>\n",
       "      <td>...</td>\n",
       "      <td>...</td>\n",
       "      <td>...</td>\n",
       "      <td>...</td>\n",
       "      <td>...</td>\n",
       "      <td>...</td>\n",
       "      <td>...</td>\n",
       "    </tr>\n",
       "    <tr>\n",
       "      <th>136720</th>\n",
       "      <td>137749722</td>\n",
       "      <td>137749719</td>\n",
       "      <td>NaT</td>\n",
       "      <td>2016-06-15 09:46:25.005000+00:00</td>\n",
       "      <td>2016-06-15 09:47:21+00:00</td>\n",
       "      <td>10990.3</td>\n",
       "      <td>canceled</td>\n",
       "      <td>2018-05-30T21:07:54.941Z</td>\n",
       "      <td>dcdbe76c497e52e92b6b06c8e8ca2f068e5669b3</td>\n",
       "      <td>39027280</td>\n",
       "      <td>Remove useless code from UpgradeTest</td>\n",
       "      <td>refs/heads/feature/sb/upgrade-4.5</td>\n",
       "      <td>https://github.com/SonarSource/sonarqube/compa...</td>\n",
       "    </tr>\n",
       "    <tr>\n",
       "      <th>136721</th>\n",
       "      <td>137749723</td>\n",
       "      <td>137749719</td>\n",
       "      <td>NaT</td>\n",
       "      <td>2016-06-15 09:46:25.018000+00:00</td>\n",
       "      <td>2016-06-15 09:47:21+00:00</td>\n",
       "      <td>10990.4</td>\n",
       "      <td>canceled</td>\n",
       "      <td>2018-05-30T21:07:55.054Z</td>\n",
       "      <td>dcdbe76c497e52e92b6b06c8e8ca2f068e5669b3</td>\n",
       "      <td>39027280</td>\n",
       "      <td>Remove useless code from UpgradeTest</td>\n",
       "      <td>refs/heads/feature/sb/upgrade-4.5</td>\n",
       "      <td>https://github.com/SonarSource/sonarqube/compa...</td>\n",
       "    </tr>\n",
       "    <tr>\n",
       "      <th>136722</th>\n",
       "      <td>137749724</td>\n",
       "      <td>137749719</td>\n",
       "      <td>NaT</td>\n",
       "      <td>2016-06-15 09:46:25.030000+00:00</td>\n",
       "      <td>2016-06-15 09:47:21+00:00</td>\n",
       "      <td>10990.5</td>\n",
       "      <td>canceled</td>\n",
       "      <td>2018-05-30T21:07:55.088Z</td>\n",
       "      <td>dcdbe76c497e52e92b6b06c8e8ca2f068e5669b3</td>\n",
       "      <td>39027280</td>\n",
       "      <td>Remove useless code from UpgradeTest</td>\n",
       "      <td>refs/heads/feature/sb/upgrade-4.5</td>\n",
       "      <td>https://github.com/SonarSource/sonarqube/compa...</td>\n",
       "    </tr>\n",
       "    <tr>\n",
       "      <th>136723</th>\n",
       "      <td>137749725</td>\n",
       "      <td>137749719</td>\n",
       "      <td>NaT</td>\n",
       "      <td>2016-06-15 09:46:25.044000+00:00</td>\n",
       "      <td>2016-06-15 09:47:21+00:00</td>\n",
       "      <td>10990.6</td>\n",
       "      <td>canceled</td>\n",
       "      <td>2018-05-30T21:07:55.113Z</td>\n",
       "      <td>dcdbe76c497e52e92b6b06c8e8ca2f068e5669b3</td>\n",
       "      <td>39027280</td>\n",
       "      <td>Remove useless code from UpgradeTest</td>\n",
       "      <td>refs/heads/feature/sb/upgrade-4.5</td>\n",
       "      <td>https://github.com/SonarSource/sonarqube/compa...</td>\n",
       "    </tr>\n",
       "    <tr>\n",
       "      <th>136724</th>\n",
       "      <td>137749726</td>\n",
       "      <td>137749719</td>\n",
       "      <td>NaT</td>\n",
       "      <td>2016-06-15 09:46:25.057000+00:00</td>\n",
       "      <td>2016-06-15 09:47:21+00:00</td>\n",
       "      <td>10990.7</td>\n",
       "      <td>canceled</td>\n",
       "      <td>2018-05-30T21:07:55.125Z</td>\n",
       "      <td>dcdbe76c497e52e92b6b06c8e8ca2f068e5669b3</td>\n",
       "      <td>39027280</td>\n",
       "      <td>Remove useless code from UpgradeTest</td>\n",
       "      <td>refs/heads/feature/sb/upgrade-4.5</td>\n",
       "      <td>https://github.com/SonarSource/sonarqube/compa...</td>\n",
       "    </tr>\n",
       "  </tbody>\n",
       "</table>\n",
       "<p>9876 rows × 13 columns</p>\n",
       "</div>"
      ],
      "text/plain": [
       "               id    buildid started_at                       created_at  \\\n",
       "3       241952025  241952022        NaT 2017-06-12 09:32:52.237000+00:00   \n",
       "135     242340308  242340306        NaT 2017-06-13 09:08:09.372000+00:00   \n",
       "184     242406829  242406828        NaT 2017-06-13 12:49:28.317000+00:00   \n",
       "185     242406830  242406828        NaT 2017-06-13 12:49:28.476000+00:00   \n",
       "186     242406847  242406846        NaT 2017-06-13 12:49:30.540000+00:00   \n",
       "...           ...        ...        ...                              ...   \n",
       "136720  137749722  137749719        NaT 2016-06-15 09:46:25.005000+00:00   \n",
       "136721  137749723  137749719        NaT 2016-06-15 09:46:25.018000+00:00   \n",
       "136722  137749724  137749719        NaT 2016-06-15 09:46:25.030000+00:00   \n",
       "136723  137749725  137749719        NaT 2016-06-15 09:46:25.044000+00:00   \n",
       "136724  137749726  137749719        NaT 2016-06-15 09:46:25.057000+00:00   \n",
       "\n",
       "                     finished_at   number     state                updated_at  \\\n",
       "3      2017-06-12 09:37:24+00:00  25615.2  canceled  2018-06-02T14:51:25.669Z   \n",
       "135    2017-06-13 09:11:47+00:00  25681.2  canceled  2018-06-02T14:59:27.316Z   \n",
       "184    2017-06-13 13:08:50+00:00  25706.1  canceled  2018-06-02T15:01:04.458Z   \n",
       "185    2017-06-13 13:08:50+00:00  25706.2  canceled  2018-06-02T15:01:04.473Z   \n",
       "186    2017-06-13 12:59:22+00:00  25707.1  canceled  2018-06-02T15:01:05.063Z   \n",
       "...                          ...      ...       ...                       ...   \n",
       "136720 2016-06-15 09:47:21+00:00  10990.3  canceled  2018-05-30T21:07:54.941Z   \n",
       "136721 2016-06-15 09:47:21+00:00  10990.4  canceled  2018-05-30T21:07:55.054Z   \n",
       "136722 2016-06-15 09:47:21+00:00  10990.5  canceled  2018-05-30T21:07:55.088Z   \n",
       "136723 2016-06-15 09:47:21+00:00  10990.6  canceled  2018-05-30T21:07:55.113Z   \n",
       "136724 2016-06-15 09:47:21+00:00  10990.7  canceled  2018-05-30T21:07:55.125Z   \n",
       "\n",
       "                                       commitsha  commitid  \\\n",
       "3       464f5da96733c14818f4b4bfeb878951b859ee0c  70183628   \n",
       "135     32631611fab2f74c8492a21ff41f4e63fe2881a9  70299932   \n",
       "184     09f07b9b85a16f144743827dcee3f43574253d9e  70320629   \n",
       "185     09f07b9b85a16f144743827dcee3f43574253d9e  70320629   \n",
       "186     c6eb394b44ba39ea09b31258a2d78bd64c1b9c5b  70320638   \n",
       "...                                          ...       ...   \n",
       "136720  dcdbe76c497e52e92b6b06c8e8ca2f068e5669b3  39027280   \n",
       "136721  dcdbe76c497e52e92b6b06c8e8ca2f068e5669b3  39027280   \n",
       "136722  dcdbe76c497e52e92b6b06c8e8ca2f068e5669b3  39027280   \n",
       "136723  dcdbe76c497e52e92b6b06c8e8ca2f068e5669b3  39027280   \n",
       "136724  dcdbe76c497e52e92b6b06c8e8ca2f068e5669b3  39027280   \n",
       "\n",
       "                                            commitmessage  \\\n",
       "3           SONAR-9304 Add comments to make tests clearer   \n",
       "135                           Improve isolation of UiTest   \n",
       "184     Fix Selenese ITs that were using 'admin' user\\...   \n",
       "185     Fix Selenese ITs that were using 'admin' user\\...   \n",
       "186     Fix Selenese ITs that were using 'admin' user\\...   \n",
       "...                                                   ...   \n",
       "136720               Remove useless code from UpgradeTest   \n",
       "136721               Remove useless code from UpgradeTest   \n",
       "136722               Remove useless code from UpgradeTest   \n",
       "136723               Remove useless code from UpgradeTest   \n",
       "136724               Remove useless code from UpgradeTest   \n",
       "\n",
       "                                                commitref  \\\n",
       "3       refs/heads/feature/atlas/MMF-324/builtin-profiles   \n",
       "135         refs/heads/feature/stas/onboarding/login-form   \n",
       "184     refs/heads/feature/stas/onboarding/on-first-login   \n",
       "185     refs/heads/feature/stas/onboarding/on-first-login   \n",
       "186                                  refs/pull/2162/merge   \n",
       "...                                                   ...   \n",
       "136720                  refs/heads/feature/sb/upgrade-4.5   \n",
       "136721                  refs/heads/feature/sb/upgrade-4.5   \n",
       "136722                  refs/heads/feature/sb/upgrade-4.5   \n",
       "136723                  refs/heads/feature/sb/upgrade-4.5   \n",
       "136724                  refs/heads/feature/sb/upgrade-4.5   \n",
       "\n",
       "                                        commitcompare_url  \n",
       "3       https://github.com/SonarSource/sonarqube/compa...  \n",
       "135     https://github.com/SonarSource/sonarqube/compa...  \n",
       "184     https://github.com/SonarSource/sonarqube/compa...  \n",
       "185     https://github.com/SonarSource/sonarqube/compa...  \n",
       "186     https://github.com/SonarSource/sonarqube/pull/...  \n",
       "...                                                   ...  \n",
       "136720  https://github.com/SonarSource/sonarqube/compa...  \n",
       "136721  https://github.com/SonarSource/sonarqube/compa...  \n",
       "136722  https://github.com/SonarSource/sonarqube/compa...  \n",
       "136723  https://github.com/SonarSource/sonarqube/compa...  \n",
       "136724  https://github.com/SonarSource/sonarqube/compa...  \n",
       "\n",
       "[9876 rows x 13 columns]"
      ]
     },
     "execution_count": 17,
     "metadata": {},
     "output_type": "execute_result"
    }
   ],
   "source": [
    "jobs[jobs.started_at.isna()]"
   ]
  },
  {
   "cell_type": "code",
   "execution_count": 18,
   "metadata": {},
   "outputs": [
    {
     "data": {
      "text/plain": [
       "<AxesSubplot:xlabel='state', ylabel='count'>"
      ]
     },
     "execution_count": 18,
     "metadata": {},
     "output_type": "execute_result"
    },
    {
     "data": {
      "image/png": "[encoded data removed]",
      "text/plain": [
       "<Figure size 1080x360 with 1 Axes>"
      ]
     },
     "metadata": {
      "needs_background": "light"
     },
     "output_type": "display_data"
    }
   ],
   "source": [
    "sns.countplot(jobs[jobs.started_at.isna()].state)"
   ]
  },
  {
   "cell_type": "markdown",
   "metadata": {},
   "source": [
    "Missing values of started_at and finished_at are due to canceled jobs (or builds). This is therefore not an error in the data"
   ]
  },
  {
   "cell_type": "markdown",
   "metadata": {},
   "source": [
    "**Time distribution**"
   ]
  },
  {
   "cell_type": "code",
   "execution_count": 20,
   "metadata": {},
   "outputs": [],
   "source": [
    "jobs[\"started_at_day\"] = jobs.started_at.dt.day\n",
    "jobs[\"started_at_month\"] = jobs.started_at.dt.month\n",
    "jobs[\"started_at_year\"] = jobs.started_at.dt.year"
   ]
  },
  {
   "cell_type": "code",
   "execution_count": 52,
   "metadata": {},
   "outputs": [
    {
     "data": {
      "image/png": "[encoded data removed]",
      "text/plain": [
       "<Figure size 1080x360 with 1 Axes>"
      ]
     },
     "metadata": {
      "needs_background": "light"
     },
     "output_type": "display_data"
    }
   ],
   "source": [
    "time_group = [\"started_at_year\", \"started_at_month\"]\n",
    "x = jobs.groupby(time_group).id.count().reset_index().sort_values(by=time_group)\n",
    "ax = sns.barplot(x=x.index, y=x.id)\n",
    "ax.set_xticklabels(list(x.started_at_month.astype(int).astype(str) + \"/\" + x.started_at_year.astype(int).astype(str)),\n",
    "                  rotation=90)\n",
    "plt.show()"
   ]
  },
  {
   "cell_type": "markdown",
   "metadata": {},
   "source": [
    "There has been a decrease of number of jobs per month after 3/2018. This can possibly be due to the change identified in the builds dataset as well. The distribution is however different. There has been a decrease of number of jobs after the peak of 9/2015. Possibly this is due to new configuration of Travis which reduced the number of jobs per build."
   ]
  },
  {
   "cell_type": "markdown",
   "metadata": {},
   "source": [
    "### Most common commit message"
   ]
  },
  {
   "cell_type": "code",
   "execution_count": 35,
   "metadata": {},
   "outputs": [
    {
     "data": {
      "text/plain": [
       "Timestamp('2015-10-30 12:15:44+0000', tz='UTC')"
      ]
     },
     "execution_count": 35,
     "metadata": {},
     "output_type": "execute_result"
    }
   ],
   "source": [
    "jobs[jobs.commitmessage==jobs.commitmessage.mode()[0]].started_at.min()"
   ]
  },
  {
   "cell_type": "code",
   "execution_count": 40,
   "metadata": {},
   "outputs": [
    {
     "data": {
      "text/plain": [
       "Timestamp('2016-10-11 03:13:39+0000', tz='UTC')"
      ]
     },
     "execution_count": 40,
     "metadata": {},
     "output_type": "execute_result"
    }
   ],
   "source": [
    "jobs[jobs.commitmessage==jobs.commitmessage.mode()[0]].started_at.max()"
   ]
  },
  {
   "cell_type": "code",
   "execution_count": 56,
   "metadata": {
    "scrolled": true
   },
   "outputs": [
    {
     "data": {
      "image/png": "[encoded data removed]",
      "text/plain": [
       "<Figure size 1080x360 with 1 Axes>"
      ]
     },
     "metadata": {
      "needs_background": "light"
     },
     "output_type": "display_data"
    }
   ],
   "source": [
    "time_group = [\"started_at_year\", \"started_at_month\"]\n",
    "x = jobs.groupby(time_group).id.count().reset_index().sort_values(by=time_group)\n",
    "ax = sns.barplot(x=x.index, y=x.id)\n",
    "ax.set_xticklabels(list(x.started_at_month.astype(int).astype(str) + \"/\" + x.started_at_year.astype(int).astype(str)),\n",
    "                  rotation=90)\n",
    "min_date = jobs[jobs.commitmessage==jobs.commitmessage.mode()[0]].started_at.min()\n",
    "max_date = jobs[jobs.commitmessage==jobs.commitmessage.mode()[0]].started_at.max()\n",
    "plt.axvline(7, 0, 10, color=\"r\")\n",
    "plt.axvline(19, 0, 10, color=\"r\")\n",
    "plt.show()"
   ]
  },
  {
   "cell_type": "markdown",
   "metadata": {},
   "source": [
    "The influence of the commitmessage on the number of builds does not seem to be evident"
   ]
  },
  {
   "cell_type": "code",
   "execution_count": 58,
   "metadata": {},
   "outputs": [
    {
     "data": {
      "text/plain": [
       "219"
      ]
     },
     "execution_count": 58,
     "metadata": {},
     "output_type": "execute_result"
    }
   ],
   "source": [
    "jobs[jobs.commitmessage==jobs.commitmessage.mode()[0]].commitsha.nunique()"
   ]
  },
  {
   "cell_type": "code",
   "execution_count": 61,
   "metadata": {},
   "outputs": [
    {
     "data": {
      "text/plain": [
       "0"
      ]
     },
     "execution_count": 61,
     "metadata": {},
     "output_type": "execute_result"
    }
   ],
   "source": [
    "jobs[jobs.commitmessage==jobs.commitmessage.mode()[0]].commitref.nunique()"
   ]
  },
  {
   "cell_type": "markdown",
   "metadata": {},
   "source": [
    "This commit message is associated with 219 unique sha but no commitref"
   ]
  },
  {
   "cell_type": "markdown",
   "metadata": {},
   "source": [
    "### Commitref"
   ]
  },
  {
   "cell_type": "code",
   "execution_count": 65,
   "metadata": {},
   "outputs": [],
   "source": [
    "x = jobs[jobs.commitref.isna()]"
   ]
  },
  {
   "cell_type": "code",
   "execution_count": 68,
   "metadata": {},
   "outputs": [
    {
     "data": {
      "text/plain": [
       "Timestamp('2015-10-30 12:15:44+0000', tz='UTC')"
      ]
     },
     "execution_count": 68,
     "metadata": {},
     "output_type": "execute_result"
    }
   ],
   "source": [
    "x.started_at.min()"
   ]
  },
  {
   "cell_type": "code",
   "execution_count": 69,
   "metadata": {},
   "outputs": [
    {
     "data": {
      "text/plain": [
       "Timestamp('2017-05-23 19:34:46+0000', tz='UTC')"
      ]
     },
     "execution_count": 69,
     "metadata": {},
     "output_type": "execute_result"
    }
   ],
   "source": [
    "x.started_at.max()"
   ]
  },
  {
   "cell_type": "markdown",
   "metadata": {},
   "source": [
    "The lack of commitref seems to be confined between 10/2015 and 5/2017"
   ]
  },
  {
   "cell_type": "markdown",
   "metadata": {},
   "source": [
    "### Number of jobs per build"
   ]
  },
  {
   "cell_type": "code",
   "execution_count": 104,
   "metadata": {},
   "outputs": [
    {
     "data": {
      "text/html": [
       "<div>\n",
       "<style scoped>\n",
       "    .dataframe tbody tr th:only-of-type {\n",
       "        vertical-align: middle;\n",
       "    }\n",
       "\n",
       "    .dataframe tbody tr th {\n",
       "        vertical-align: top;\n",
       "    }\n",
       "\n",
       "    .dataframe thead th {\n",
       "        text-align: right;\n",
       "    }\n",
       "</style>\n",
       "<table border=\"1\" class=\"dataframe\">\n",
       "  <thead>\n",
       "    <tr style=\"text-align: right;\">\n",
       "      <th></th>\n",
       "      <th>number_build</th>\n",
       "      <th>pull_request_number</th>\n",
       "      <th>id_build</th>\n",
       "      <th>event_type</th>\n",
       "      <th>finished_at_build</th>\n",
       "      <th>pull_request_title</th>\n",
       "      <th>started_at_build</th>\n",
       "      <th>duration</th>\n",
       "      <th>state_build</th>\n",
       "      <th>started_at_day_build</th>\n",
       "      <th>started_at_month_build</th>\n",
       "      <th>started_at_year_build</th>\n",
       "      <th>id_job</th>\n",
       "      <th>buildid</th>\n",
       "      <th>started_at_job</th>\n",
       "      <th>created_at</th>\n",
       "      <th>finished_at_job</th>\n",
       "      <th>number_job</th>\n",
       "      <th>state_job</th>\n",
       "      <th>updated_at</th>\n",
       "      <th>commitsha</th>\n",
       "      <th>commitid</th>\n",
       "      <th>commitmessage</th>\n",
       "      <th>commitref</th>\n",
       "      <th>commitcompare_url</th>\n",
       "      <th>started_at_day_job</th>\n",
       "      <th>started_at_month_job</th>\n",
       "      <th>started_at_year_job</th>\n",
       "    </tr>\n",
       "  </thead>\n",
       "  <tbody>\n",
       "    <tr>\n",
       "      <th>0</th>\n",
       "      <td>6995</td>\n",
       "      <td>NaN</td>\n",
       "      <td>99118995</td>\n",
       "      <td>push</td>\n",
       "      <td>2015-12-28 16:34:08+00:00</td>\n",
       "      <td>NaN</td>\n",
       "      <td>2015-12-28 16:18:41+00:00</td>\n",
       "      <td>5361.0</td>\n",
       "      <td>failed</td>\n",
       "      <td>28.0</td>\n",
       "      <td>12.0</td>\n",
       "      <td>2015.0</td>\n",
       "      <td>99118996</td>\n",
       "      <td>99118995</td>\n",
       "      <td>2015-12-28 16:18:43+00:00</td>\n",
       "      <td>2015-12-28 16:18:33.261000+00:00</td>\n",
       "      <td>2015-12-28 16:29:34+00:00</td>\n",
       "      <td>6995.1</td>\n",
       "      <td>passed</td>\n",
       "      <td>2018-05-29T22:02:47.694Z</td>\n",
       "      <td>be413c15c08966da5740a126e1c5b52f75e6fc6e</td>\n",
       "      <td>28112504</td>\n",
       "      <td>improve code page rendering</td>\n",
       "      <td>refs/heads/master</td>\n",
       "      <td>https://github.com/SonarSource/sonarqube/compa...</td>\n",
       "      <td>28.0</td>\n",
       "      <td>12.0</td>\n",
       "      <td>2015.0</td>\n",
       "    </tr>\n",
       "    <tr>\n",
       "      <th>1</th>\n",
       "      <td>6995</td>\n",
       "      <td>NaN</td>\n",
       "      <td>99118995</td>\n",
       "      <td>push</td>\n",
       "      <td>2015-12-28 16:34:08+00:00</td>\n",
       "      <td>NaN</td>\n",
       "      <td>2015-12-28 16:18:41+00:00</td>\n",
       "      <td>5361.0</td>\n",
       "      <td>failed</td>\n",
       "      <td>28.0</td>\n",
       "      <td>12.0</td>\n",
       "      <td>2015.0</td>\n",
       "      <td>99118997</td>\n",
       "      <td>99118995</td>\n",
       "      <td>2015-12-28 16:18:41+00:00</td>\n",
       "      <td>2015-12-28 16:18:33.279000+00:00</td>\n",
       "      <td>2015-12-28 16:34:08+00:00</td>\n",
       "      <td>6995.2</td>\n",
       "      <td>passed</td>\n",
       "      <td>2018-05-29T22:02:47.753Z</td>\n",
       "      <td>be413c15c08966da5740a126e1c5b52f75e6fc6e</td>\n",
       "      <td>28112504</td>\n",
       "      <td>improve code page rendering</td>\n",
       "      <td>refs/heads/master</td>\n",
       "      <td>https://github.com/SonarSource/sonarqube/compa...</td>\n",
       "      <td>28.0</td>\n",
       "      <td>12.0</td>\n",
       "      <td>2015.0</td>\n",
       "    </tr>\n",
       "    <tr>\n",
       "      <th>2</th>\n",
       "      <td>6995</td>\n",
       "      <td>NaN</td>\n",
       "      <td>99118995</td>\n",
       "      <td>push</td>\n",
       "      <td>2015-12-28 16:34:08+00:00</td>\n",
       "      <td>NaN</td>\n",
       "      <td>2015-12-28 16:18:41+00:00</td>\n",
       "      <td>5361.0</td>\n",
       "      <td>failed</td>\n",
       "      <td>28.0</td>\n",
       "      <td>12.0</td>\n",
       "      <td>2015.0</td>\n",
       "      <td>99118998</td>\n",
       "      <td>99118995</td>\n",
       "      <td>2015-12-28 16:18:41+00:00</td>\n",
       "      <td>2015-12-28 16:18:33.295000+00:00</td>\n",
       "      <td>2015-12-28 16:33:47+00:00</td>\n",
       "      <td>6995.3</td>\n",
       "      <td>passed</td>\n",
       "      <td>2018-05-29T22:02:47.790Z</td>\n",
       "      <td>be413c15c08966da5740a126e1c5b52f75e6fc6e</td>\n",
       "      <td>28112504</td>\n",
       "      <td>improve code page rendering</td>\n",
       "      <td>refs/heads/master</td>\n",
       "      <td>https://github.com/SonarSource/sonarqube/compa...</td>\n",
       "      <td>28.0</td>\n",
       "      <td>12.0</td>\n",
       "      <td>2015.0</td>\n",
       "    </tr>\n",
       "    <tr>\n",
       "      <th>3</th>\n",
       "      <td>6995</td>\n",
       "      <td>NaN</td>\n",
       "      <td>99118995</td>\n",
       "      <td>push</td>\n",
       "      <td>2015-12-28 16:34:08+00:00</td>\n",
       "      <td>NaN</td>\n",
       "      <td>2015-12-28 16:18:41+00:00</td>\n",
       "      <td>5361.0</td>\n",
       "      <td>failed</td>\n",
       "      <td>28.0</td>\n",
       "      <td>12.0</td>\n",
       "      <td>2015.0</td>\n",
       "      <td>99118999</td>\n",
       "      <td>99118995</td>\n",
       "      <td>2015-12-28 16:18:43+00:00</td>\n",
       "      <td>2015-12-28 16:18:33.312000+00:00</td>\n",
       "      <td>2015-12-28 16:34:04+00:00</td>\n",
       "      <td>6995.4</td>\n",
       "      <td>passed</td>\n",
       "      <td>2018-05-29T22:02:47.798Z</td>\n",
       "      <td>be413c15c08966da5740a126e1c5b52f75e6fc6e</td>\n",
       "      <td>28112504</td>\n",
       "      <td>improve code page rendering</td>\n",
       "      <td>refs/heads/master</td>\n",
       "      <td>https://github.com/SonarSource/sonarqube/compa...</td>\n",
       "      <td>28.0</td>\n",
       "      <td>12.0</td>\n",
       "      <td>2015.0</td>\n",
       "    </tr>\n",
       "    <tr>\n",
       "      <th>4</th>\n",
       "      <td>6995</td>\n",
       "      <td>NaN</td>\n",
       "      <td>99118995</td>\n",
       "      <td>push</td>\n",
       "      <td>2015-12-28 16:34:08+00:00</td>\n",
       "      <td>NaN</td>\n",
       "      <td>2015-12-28 16:18:41+00:00</td>\n",
       "      <td>5361.0</td>\n",
       "      <td>failed</td>\n",
       "      <td>28.0</td>\n",
       "      <td>12.0</td>\n",
       "      <td>2015.0</td>\n",
       "      <td>99119000</td>\n",
       "      <td>99118995</td>\n",
       "      <td>2015-12-28 16:18:42+00:00</td>\n",
       "      <td>2015-12-28 16:18:33.332000+00:00</td>\n",
       "      <td>2015-12-28 16:31:37+00:00</td>\n",
       "      <td>6995.5</td>\n",
       "      <td>passed</td>\n",
       "      <td>2018-05-29T22:02:15.403Z</td>\n",
       "      <td>be413c15c08966da5740a126e1c5b52f75e6fc6e</td>\n",
       "      <td>28112504</td>\n",
       "      <td>improve code page rendering</td>\n",
       "      <td>refs/heads/master</td>\n",
       "      <td>https://github.com/SonarSource/sonarqube/compa...</td>\n",
       "      <td>28.0</td>\n",
       "      <td>12.0</td>\n",
       "      <td>2015.0</td>\n",
       "    </tr>\n",
       "  </tbody>\n",
       "</table>\n",
       "</div>"
      ],
      "text/plain": [
       "   number_build  pull_request_number  id_build event_type  \\\n",
       "0          6995                  NaN  99118995       push   \n",
       "1          6995                  NaN  99118995       push   \n",
       "2          6995                  NaN  99118995       push   \n",
       "3          6995                  NaN  99118995       push   \n",
       "4          6995                  NaN  99118995       push   \n",
       "\n",
       "          finished_at_build pull_request_title          started_at_build  \\\n",
       "0 2015-12-28 16:34:08+00:00                NaN 2015-12-28 16:18:41+00:00   \n",
       "1 2015-12-28 16:34:08+00:00                NaN 2015-12-28 16:18:41+00:00   \n",
       "2 2015-12-28 16:34:08+00:00                NaN 2015-12-28 16:18:41+00:00   \n",
       "3 2015-12-28 16:34:08+00:00                NaN 2015-12-28 16:18:41+00:00   \n",
       "4 2015-12-28 16:34:08+00:00                NaN 2015-12-28 16:18:41+00:00   \n",
       "\n",
       "   duration state_build  started_at_day_build  started_at_month_build  \\\n",
       "0    5361.0      failed                  28.0                    12.0   \n",
       "1    5361.0      failed                  28.0                    12.0   \n",
       "2    5361.0      failed                  28.0                    12.0   \n",
       "3    5361.0      failed                  28.0                    12.0   \n",
       "4    5361.0      failed                  28.0                    12.0   \n",
       "\n",
       "   started_at_year_build    id_job   buildid            started_at_job  \\\n",
       "0                 2015.0  99118996  99118995 2015-12-28 16:18:43+00:00   \n",
       "1                 2015.0  99118997  99118995 2015-12-28 16:18:41+00:00   \n",
       "2                 2015.0  99118998  99118995 2015-12-28 16:18:41+00:00   \n",
       "3                 2015.0  99118999  99118995 2015-12-28 16:18:43+00:00   \n",
       "4                 2015.0  99119000  99118995 2015-12-28 16:18:42+00:00   \n",
       "\n",
       "                        created_at           finished_at_job  number_job  \\\n",
       "0 2015-12-28 16:18:33.261000+00:00 2015-12-28 16:29:34+00:00      6995.1   \n",
       "1 2015-12-28 16:18:33.279000+00:00 2015-12-28 16:34:08+00:00      6995.2   \n",
       "2 2015-12-28 16:18:33.295000+00:00 2015-12-28 16:33:47+00:00      6995.3   \n",
       "3 2015-12-28 16:18:33.312000+00:00 2015-12-28 16:34:04+00:00      6995.4   \n",
       "4 2015-12-28 16:18:33.332000+00:00 2015-12-28 16:31:37+00:00      6995.5   \n",
       "\n",
       "  state_job                updated_at  \\\n",
       "0    passed  2018-05-29T22:02:47.694Z   \n",
       "1    passed  2018-05-29T22:02:47.753Z   \n",
       "2    passed  2018-05-29T22:02:47.790Z   \n",
       "3    passed  2018-05-29T22:02:47.798Z   \n",
       "4    passed  2018-05-29T22:02:15.403Z   \n",
       "\n",
       "                                  commitsha  commitid  \\\n",
       "0  be413c15c08966da5740a126e1c5b52f75e6fc6e  28112504   \n",
       "1  be413c15c08966da5740a126e1c5b52f75e6fc6e  28112504   \n",
       "2  be413c15c08966da5740a126e1c5b52f75e6fc6e  28112504   \n",
       "3  be413c15c08966da5740a126e1c5b52f75e6fc6e  28112504   \n",
       "4  be413c15c08966da5740a126e1c5b52f75e6fc6e  28112504   \n",
       "\n",
       "                 commitmessage          commitref  \\\n",
       "0  improve code page rendering  refs/heads/master   \n",
       "1  improve code page rendering  refs/heads/master   \n",
       "2  improve code page rendering  refs/heads/master   \n",
       "3  improve code page rendering  refs/heads/master   \n",
       "4  improve code page rendering  refs/heads/master   \n",
       "\n",
       "                                   commitcompare_url  started_at_day_job  \\\n",
       "0  https://github.com/SonarSource/sonarqube/compa...                28.0   \n",
       "1  https://github.com/SonarSource/sonarqube/compa...                28.0   \n",
       "2  https://github.com/SonarSource/sonarqube/compa...                28.0   \n",
       "3  https://github.com/SonarSource/sonarqube/compa...                28.0   \n",
       "4  https://github.com/SonarSource/sonarqube/compa...                28.0   \n",
       "\n",
       "   started_at_month_job  started_at_year_job  \n",
       "0                  12.0               2015.0  \n",
       "1                  12.0               2015.0  \n",
       "2                  12.0               2015.0  \n",
       "3                  12.0               2015.0  \n",
       "4                  12.0               2015.0  "
      ]
     },
     "execution_count": 104,
     "metadata": {},
     "output_type": "execute_result"
    }
   ],
   "source": [
    "build_job = builds.merge(jobs, left_on=\"id\", right_on=\"buildid\", suffixes=[\"_build\", \"_job\"])\n",
    "build_job.head()"
   ]
  },
  {
   "cell_type": "markdown",
   "metadata": {},
   "source": [
    "**Average**"
   ]
  },
  {
   "cell_type": "code",
   "execution_count": 127,
   "metadata": {},
   "outputs": [
    {
     "data": {
      "image/png": "[encoded data removed]",
      "text/plain": [
       "<Figure size 1080x360 with 1 Axes>"
      ]
     },
     "metadata": {
      "needs_background": "light"
     },
     "output_type": "display_data"
    }
   ],
   "source": [
    "time_group = [\"started_at_year_build\", \"started_at_month_build\"]\n",
    "x = build_job.groupby([\"id_build\"] + time_group).id_job.count().reset_index()\\\n",
    "    .groupby(time_group).mean().reset_index().sort_values(by=time_group)\n",
    "ax = sns.barplot(x=x.index, y=x.id_job)\n",
    "ax.set_xticklabels(list(x[time_group[1]].astype(int).astype(str) + \"/\" + x[time_group[0]].astype(int).astype(str)),\n",
    "                  rotation=90)\n",
    "plt.show()"
   ]
  },
  {
   "cell_type": "markdown",
   "metadata": {},
   "source": [
    "**Maximum**"
   ]
  },
  {
   "cell_type": "code",
   "execution_count": 130,
   "metadata": {
    "scrolled": false
   },
   "outputs": [
    {
     "data": {
      "image/png": "[encoded data removed]",
      "text/plain": [
       "<Figure size 1080x360 with 1 Axes>"
      ]
     },
     "metadata": {
      "needs_background": "light"
     },
     "output_type": "display_data"
    }
   ],
   "source": [
    "time_group = [\"started_at_year_build\", \"started_at_month_build\"]\n",
    "x = build_job.groupby([\"id_build\"] + time_group).id_job.count().reset_index()\\\n",
    "    .groupby(time_group).max().reset_index().sort_values(by=time_group)\n",
    "ax = sns.barplot(x=x.index, y=x.id_job)\n",
    "ax.set_xticklabels(list(x[time_group[1]].astype(int).astype(str) + \"/\" + x[time_group[0]].astype(int).astype(str)),\n",
    "                  rotation=90)\n",
    "plt.show()"
   ]
  },
  {
   "cell_type": "markdown",
   "metadata": {},
   "source": [
    "**Minimum**"
   ]
  },
  {
   "cell_type": "code",
   "execution_count": 131,
   "metadata": {},
   "outputs": [
    {
     "data": {
      "image/png": "[encoded data removed]",
      "text/plain": [
       "<Figure size 1080x360 with 1 Axes>"
      ]
     },
     "metadata": {
      "needs_background": "light"
     },
     "output_type": "display_data"
    }
   ],
   "source": [
    "time_group = [\"started_at_year_build\", \"started_at_month_build\"]\n",
    "x = build_job.groupby([\"id_build\"] + time_group).id_job.count().reset_index()\\\n",
    "    .groupby(time_group).min().reset_index().sort_values(by=time_group)\n",
    "ax = sns.barplot(x=x.index, y=x.id_job)\n",
    "ax.set_xticklabels(list(x[time_group[1]].astype(int).astype(str) + \"/\" + x[time_group[0]].astype(int).astype(str)),\n",
    "                  rotation=90)\n",
    "plt.show()"
   ]
  },
  {
   "cell_type": "markdown",
   "metadata": {},
   "source": [
    "* The average number of jobs per build has not been constant througout the years. It has been however stable around 2 after 7/2016. \n",
    "*Minimum values show similar behavior, somewhat stabilizing after 7/2016 \n",
    "* Maximum stabilizes a bit later, after 5/2017."
   ]
  },
  {
   "cell_type": "markdown",
   "metadata": {},
   "source": [
    "### State"
   ]
  },
  {
   "cell_type": "code",
   "execution_count": 132,
   "metadata": {},
   "outputs": [
    {
     "data": {
      "text/plain": [
       "<AxesSubplot:xlabel='state', ylabel='count'>"
      ]
     },
     "execution_count": 132,
     "metadata": {},
     "output_type": "execute_result"
    },
    {
     "data": {
      "image/png": "[encoded data removed]",
      "text/plain": [
       "<Figure size 1080x360 with 1 Axes>"
      ]
     },
     "metadata": {
      "needs_background": "light"
     },
     "output_type": "display_data"
    }
   ],
   "source": [
    "sns.countplot(jobs.state)"
   ]
  },
  {
   "cell_type": "code",
   "execution_count": 144,
   "metadata": {
    "scrolled": true
   },
   "outputs": [
    {
     "data": {
      "image/png": "[encoded data removed]",
      "text/plain": [
       "<Figure size 1440x1080 with 4 Axes>"
      ]
     },
     "metadata": {
      "needs_background": "light"
     },
     "output_type": "display_data"
    }
   ],
   "source": [
    "time_group = [\"started_at_year\", \"started_at_month\"]\n",
    "f, axes = plt.subplots(jobs.state.nunique(), 1, sharex=True, figsize=(20,15))\n",
    "for i, state in enumerate(jobs.state.unique()):\n",
    "    x = jobs[jobs.state == state].groupby(time_group).count().reset_index()\n",
    "    ax = sns.barplot(x=x.index, y=x.state, ax=axes[i])\n",
    "    ax.set_xticklabels(list(x[time_group[1]].astype(int).astype(str) + \"/\" + x[time_group[0]].astype(int).astype(str)),\n",
    "                  rotation=90)\n",
    "    ax.set_title(state)"
   ]
  },
  {
   "cell_type": "markdown",
   "metadata": {},
   "source": [
    "* Canceled and errored seems to have almost dissapeared after x\n",
    "* Canceled have had a spike right before x, maybe a sign of changes in the CI process"
   ]
  },
  {
   "cell_type": "markdown",
   "metadata": {},
   "source": [
    "**What is the state distribution for pull requests with many builds?**"
   ]
  },
  {
   "cell_type": "code",
   "execution_count": 145,
   "metadata": {},
   "outputs": [
    {
     "data": {
      "text/plain": [
       "<AxesSubplot:xlabel='state', ylabel='count'>"
      ]
     },
     "execution_count": 145,
     "metadata": {},
     "output_type": "execute_result"
    },
    {
     "data": {
      "image/png": "[encoded data removed]",
      "text/plain": [
       "<Figure size 1080x360 with 1 Axes>"
      ]
     },
     "metadata": {
      "needs_background": "light"
     },
     "output_type": "display_data"
    }
   ],
   "source": [
    "pr_build_count = builds.groupby(builds.pull_request_number).id.count()\n",
    "pr_build_tail =  list(pr_build_count[pr_build_count > 20].index)\n",
    "sns.countplot(builds[builds.pull_request_number.isin(pr_build_tail)].state)"
   ]
  },
  {
   "cell_type": "markdown",
   "metadata": {},
   "source": [
    "### Duration"
   ]
  },
  {
   "cell_type": "markdown",
   "metadata": {},
   "source": [
    "**Investigate NaN values**"
   ]
  },
  {
   "cell_type": "code",
   "execution_count": 146,
   "metadata": {},
   "outputs": [
    {
     "data": {
      "text/html": [
       "<div>\n",
       "<style scoped>\n",
       "    .dataframe tbody tr th:only-of-type {\n",
       "        vertical-align: middle;\n",
       "    }\n",
       "\n",
       "    .dataframe tbody tr th {\n",
       "        vertical-align: top;\n",
       "    }\n",
       "\n",
       "    .dataframe thead th {\n",
       "        text-align: right;\n",
       "    }\n",
       "</style>\n",
       "<table border=\"1\" class=\"dataframe\">\n",
       "  <thead>\n",
       "    <tr style=\"text-align: right;\">\n",
       "      <th></th>\n",
       "      <th>number</th>\n",
       "      <th>pull_request_number</th>\n",
       "      <th>id</th>\n",
       "      <th>event_type</th>\n",
       "      <th>finished_at</th>\n",
       "      <th>pull_request_title</th>\n",
       "      <th>started_at</th>\n",
       "      <th>duration</th>\n",
       "      <th>state</th>\n",
       "      <th>started_at_day</th>\n",
       "      <th>started_at_month</th>\n",
       "      <th>started_at_year</th>\n",
       "    </tr>\n",
       "  </thead>\n",
       "  <tbody>\n",
       "    <tr>\n",
       "      <th>730</th>\n",
       "      <td>6265</td>\n",
       "      <td>NaN</td>\n",
       "      <td>92082939</td>\n",
       "      <td>push</td>\n",
       "      <td>2015-11-27 13:29:53+00:00</td>\n",
       "      <td>NaN</td>\n",
       "      <td>2015-11-19 17:02:00+00:00</td>\n",
       "      <td>NaN</td>\n",
       "      <td>canceled</td>\n",
       "      <td>19.0</td>\n",
       "      <td>11.0</td>\n",
       "      <td>2015.0</td>\n",
       "    </tr>\n",
       "    <tr>\n",
       "      <th>5691</th>\n",
       "      <td>5304</td>\n",
       "      <td>NaN</td>\n",
       "      <td>84464803</td>\n",
       "      <td>push</td>\n",
       "      <td>NaT</td>\n",
       "      <td>NaN</td>\n",
       "      <td>2015-10-09 09:14:28+00:00</td>\n",
       "      <td>NaN</td>\n",
       "      <td>canceled</td>\n",
       "      <td>9.0</td>\n",
       "      <td>10.0</td>\n",
       "      <td>2015.0</td>\n",
       "    </tr>\n",
       "  </tbody>\n",
       "</table>\n",
       "</div>"
      ],
      "text/plain": [
       "      number  pull_request_number        id event_type  \\\n",
       "730     6265                  NaN  92082939       push   \n",
       "5691    5304                  NaN  84464803       push   \n",
       "\n",
       "                   finished_at pull_request_title                started_at  \\\n",
       "730  2015-11-27 13:29:53+00:00                NaN 2015-11-19 17:02:00+00:00   \n",
       "5691                       NaT                NaN 2015-10-09 09:14:28+00:00   \n",
       "\n",
       "      duration     state  started_at_day  started_at_month  started_at_year  \n",
       "730        NaN  canceled            19.0              11.0           2015.0  \n",
       "5691       NaN  canceled             9.0              10.0           2015.0  "
      ]
     },
     "execution_count": 146,
     "metadata": {},
     "output_type": "execute_result"
    }
   ],
   "source": [
    "builds[builds.duration.isna()]"
   ]
  },
  {
   "cell_type": "markdown",
   "metadata": {},
   "source": [
    "Both are canceled builds. Duration can be set to 0 instead"
   ]
  },
  {
   "cell_type": "code",
   "execution_count": 147,
   "metadata": {},
   "outputs": [],
   "source": [
    "builds[builds.duration.isna()] = 0"
   ]
  },
  {
   "cell_type": "markdown",
   "metadata": {},
   "source": [
    "**Investigate negative outliers**"
   ]
  },
  {
   "cell_type": "code",
   "execution_count": 148,
   "metadata": {},
   "outputs": [
    {
     "data": {
      "text/plain": [
       "<AxesSubplot:xlabel='state', ylabel='count'>"
      ]
     },
     "execution_count": 148,
     "metadata": {},
     "output_type": "execute_result"
    },
    {
     "data": {
      "image/png": "[encoded data removed]",
      "text/plain": [
       "<Figure size 1080x360 with 1 Axes>"
      ]
     },
     "metadata": {
      "needs_background": "light"
     },
     "output_type": "display_data"
    }
   ],
   "source": [
    "sns.countplot(builds[builds.duration < 0].state)"
   ]
  },
  {
   "cell_type": "markdown",
   "metadata": {},
   "source": [
    "All builds with negative duration are either in canceled or errored state"
   ]
  },
  {
   "cell_type": "code",
   "execution_count": 149,
   "metadata": {},
   "outputs": [
    {
     "data": {
      "text/plain": [
       "<AxesSubplot:xlabel='state', ylabel='count'>"
      ]
     },
     "execution_count": 149,
     "metadata": {},
     "output_type": "execute_result"
    },
    {
     "data": {
      "image/png": "[encoded data removed]",
      "text/plain": [
       "<Figure size 1080x360 with 1 Axes>"
      ]
     },
     "metadata": {
      "needs_background": "light"
     },
     "output_type": "display_data"
    }
   ],
   "source": [
    "sns.countplot(builds[builds.duration == 0].state)"
   ]
  },
  {
   "cell_type": "markdown",
   "metadata": {},
   "source": [
    "A more proper value is 0 for those builds (which some builds already have). Negative duration should not be allowed."
   ]
  },
  {
   "cell_type": "markdown",
   "metadata": {},
   "source": [
    "**Imputing negative outliers**"
   ]
  },
  {
   "cell_type": "code",
   "execution_count": 150,
   "metadata": {},
   "outputs": [],
   "source": [
    "builds[builds.duration < 0] = 0"
   ]
  },
  {
   "cell_type": "markdown",
   "metadata": {},
   "source": [
    "**Investigating positive outliers**"
   ]
  },
  {
   "cell_type": "code",
   "execution_count": 151,
   "metadata": {},
   "outputs": [
    {
     "data": {
      "text/plain": [
       "<AxesSubplot:>"
      ]
     },
     "execution_count": 151,
     "metadata": {},
     "output_type": "execute_result"
    },
    {
     "data": {
      "image/png": "[encoded data removed]",
      "text/plain": [
       "<Figure size 1080x360 with 1 Axes>"
      ]
     },
     "metadata": {
      "needs_background": "light"
     },
     "output_type": "display_data"
    }
   ],
   "source": [
    "sns.distplot(list(builds.duration.sort_values()))"
   ]
  },
  {
   "cell_type": "code",
   "execution_count": 152,
   "metadata": {
    "scrolled": true
   },
   "outputs": [
    {
     "data": {
      "text/plain": [
       "<AxesSubplot:>"
      ]
     },
     "execution_count": 152,
     "metadata": {},
     "output_type": "execute_result"
    },
    {
     "data": {
      "image/png": "[encoded data removed]",
      "text/plain": [
       "<Figure size 1080x360 with 1 Axes>"
      ]
     },
     "metadata": {
      "needs_background": "light"
     },
     "output_type": "display_data"
    }
   ],
   "source": [
    "sns.distplot(list(builds.duration.sort_values())[:-20])"
   ]
  },
  {
   "cell_type": "code",
   "execution_count": 153,
   "metadata": {
    "scrolled": false
   },
   "outputs": [
    {
     "data": {
      "text/plain": [
       "<AxesSubplot:xlabel='duration'>"
      ]
     },
     "execution_count": 153,
     "metadata": {},
     "output_type": "execute_result"
    },
    {
     "data": {
      "image/png": "[encoded data removed]",
      "text/plain": [
       "<Figure size 1080x360 with 1 Axes>"
      ]
     },
     "metadata": {
      "needs_background": "light"
     },
     "output_type": "display_data"
    }
   ],
   "source": [
    "sns.boxplot(builds.duration)"
   ]
  },
  {
   "cell_type": "code",
   "execution_count": 154,
   "metadata": {},
   "outputs": [
    {
     "data": {
      "text/plain": [
       "3939.0"
      ]
     },
     "execution_count": 154,
     "metadata": {},
     "output_type": "execute_result"
    }
   ],
   "source": [
    "boxplot_stats(builds.duration.dropna())[0][\"fliers\"].min()"
   ]
  },
  {
   "cell_type": "markdown",
   "metadata": {},
   "source": [
    "We detect the presence of many outliers, the smallest of which is 3939 seconds (more than an hour)"
   ]
  },
  {
   "cell_type": "markdown",
   "metadata": {},
   "source": [
    "**Distribution of outliers**"
   ]
  },
  {
   "cell_type": "code",
   "execution_count": 155,
   "metadata": {},
   "outputs": [],
   "source": [
    "duration_outliers = builds[builds.duration > 3939]"
   ]
  },
  {
   "cell_type": "code",
   "execution_count": 156,
   "metadata": {},
   "outputs": [
    {
     "data": {
      "text/plain": [
       "Text(0.5, 1.0, 'Year')"
      ]
     },
     "execution_count": 156,
     "metadata": {},
     "output_type": "execute_result"
    },
    {
     "data": {
      "image/png": "[encoded data removed]",
      "text/plain": [
       "<Figure size 1080x360 with 3 Axes>"
      ]
     },
     "metadata": {
      "needs_background": "light"
     },
     "output_type": "display_data"
    }
   ],
   "source": [
    "f, axes = plt.subplots(1,3)\n",
    "sns.countplot(duration_outliers.state, ax=axes[0])\n",
    "axes[0].set_title(\"State\")\n",
    "sns.countplot(duration_outliers.event_type, ax=axes[1])\n",
    "axes[1].set_title(\"Event type\")\n",
    "sns.countplot(duration_outliers.started_at_year, ax=axes[2])\n",
    "axes[2].set_title(\"Year\")"
   ]
  },
  {
   "cell_type": "markdown",
   "metadata": {},
   "source": [
    "* State and event type distribution seem to follow the distribution of the whole dataset\n",
    "* These outliers seem to be concentrated in the early years of the project on TravisCI. Maybe this is due to inexperience with CI processes and misconfigurations of builds"
   ]
  },
  {
   "cell_type": "markdown",
   "metadata": {},
   "source": [
    "### Pull request title"
   ]
  },
  {
   "cell_type": "markdown",
   "metadata": {},
   "source": [
    "Top most builded pull requests by title"
   ]
  },
  {
   "cell_type": "code",
   "execution_count": 158,
   "metadata": {},
   "outputs": [
    {
     "data": {
      "text/plain": [
       "pull_request_title\n",
       "Use Gradle instead of Maven                               103\n",
       "MMF-324 introduce concept of build-in Quality profiles     71\n",
       "MMF-753 start stop cluster improvements                    69\n",
       "Feature/branches                                           62\n",
       "MMF-1134 Pull Request as 1st class citizen                 61\n",
       "SONAR-10345 manage webhooks                                59\n",
       "SONAR-8092 generalise startup of es indexers               46\n",
       "Upgrade to ElasticSearch 5.5                               43\n",
       "MMF-659 faster global search with elastic search           42\n",
       "MMF-763 Revamped Issues page                               40\n",
       "Name: id, dtype: int64"
      ]
     },
     "execution_count": 158,
     "metadata": {},
     "output_type": "execute_result"
    }
   ],
   "source": [
    "builds.groupby(builds.pull_request_title).id.count().sort_values(ascending=False).head(10)"
   ]
  },
  {
   "cell_type": "code",
   "execution_count": null,
   "metadata": {},
   "outputs": [],
   "source": []
  }
 ],
 "metadata": {
  "kernelspec": {
   "display_name": "Python 3",
   "language": "python",
   "name": "python3"
  },
  "language_info": {
   "codemirror_mode": {
    "name": "ipython",
    "version": 3
   },
   "file_extension": ".py",
   "mimetype": "text/x-python",
   "name": "python",
   "nbconvert_exporter": "python",
   "pygments_lexer": "ipython3",
   "version": "3.8.2"
  }
 },
 "nbformat": 4,
 "nbformat_minor": 4
}
