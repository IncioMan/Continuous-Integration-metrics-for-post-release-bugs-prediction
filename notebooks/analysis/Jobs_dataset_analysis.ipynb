{
 "cells": [
  {
   "cell_type": "code",
   "execution_count": 2,
   "metadata": {},
   "outputs": [],
   "source": [
    "import pandas as pd\n",
    "import seaborn as sns\n",
    "import matplotlib\n",
    "import matplotlib.pyplot as plt\n",
    "from ast import literal_eval\n",
    "import pickle\n",
    "import pprint\n",
    "from matplotlib.cbook import boxplot_stats\n",
    "import numpy as np\n",
    "pp = pprint.PrettyPrinter(depth=6)\n",
    "matplotlib.rcParams['figure.figsize'] = (15.0, 5.0)\n",
    "pd.set_option('display.max_columns', 150)"
   ]
  },
  {
   "cell_type": "code",
   "execution_count": 3,
   "metadata": {},
   "outputs": [],
   "source": [
    "csv_folder = \"../../csv\"\n",
    "figure_folder = \"../../figures/jobs_analysis\""
   ]
  },
  {
   "cell_type": "markdown",
   "metadata": {},
   "source": [
    "### Impor builds df"
   ]
  },
  {
   "cell_type": "code",
   "execution_count": 12,
   "metadata": {},
   "outputs": [
    {
     "data": {
      "text/html": [
       "<div>\n",
       "<style scoped>\n",
       "    .dataframe tbody tr th:only-of-type {\n",
       "        vertical-align: middle;\n",
       "    }\n",
       "\n",
       "    .dataframe tbody tr th {\n",
       "        vertical-align: top;\n",
       "    }\n",
       "\n",
       "    .dataframe thead th {\n",
       "        text-align: right;\n",
       "    }\n",
       "</style>\n",
       "<table border=\"1\" class=\"dataframe\">\n",
       "  <thead>\n",
       "    <tr style=\"text-align: right;\">\n",
       "      <th></th>\n",
       "      <th>number</th>\n",
       "      <th>pull_request_number</th>\n",
       "      <th>id</th>\n",
       "      <th>event_type</th>\n",
       "      <th>finished_at</th>\n",
       "      <th>pull_request_title</th>\n",
       "      <th>started_at</th>\n",
       "      <th>duration</th>\n",
       "      <th>state</th>\n",
       "      <th>started_at_day</th>\n",
       "      <th>started_at_month</th>\n",
       "      <th>started_at_year</th>\n",
       "    </tr>\n",
       "  </thead>\n",
       "  <tbody>\n",
       "    <tr>\n",
       "      <th>0</th>\n",
       "      <td>6995</td>\n",
       "      <td>NaN</td>\n",
       "      <td>99118995</td>\n",
       "      <td>push</td>\n",
       "      <td>2015-12-28 16:34:08+00:00</td>\n",
       "      <td>NaN</td>\n",
       "      <td>2015-12-28 16:18:41+00:00</td>\n",
       "      <td>5361.0</td>\n",
       "      <td>failed</td>\n",
       "      <td>28.0</td>\n",
       "      <td>12.0</td>\n",
       "      <td>2015.0</td>\n",
       "    </tr>\n",
       "    <tr>\n",
       "      <th>1</th>\n",
       "      <td>6994</td>\n",
       "      <td>NaN</td>\n",
       "      <td>99100662</td>\n",
       "      <td>push</td>\n",
       "      <td>2015-12-28 14:36:03+00:00</td>\n",
       "      <td>NaN</td>\n",
       "      <td>2015-12-28 14:18:30+00:00</td>\n",
       "      <td>5953.0</td>\n",
       "      <td>passed</td>\n",
       "      <td>28.0</td>\n",
       "      <td>12.0</td>\n",
       "      <td>2015.0</td>\n",
       "    </tr>\n",
       "    <tr>\n",
       "      <th>2</th>\n",
       "      <td>6993</td>\n",
       "      <td>NaN</td>\n",
       "      <td>99093472</td>\n",
       "      <td>push</td>\n",
       "      <td>2015-12-28 13:27:51+00:00</td>\n",
       "      <td>NaN</td>\n",
       "      <td>2015-12-28 13:11:39+00:00</td>\n",
       "      <td>5166.0</td>\n",
       "      <td>passed</td>\n",
       "      <td>28.0</td>\n",
       "      <td>12.0</td>\n",
       "      <td>2015.0</td>\n",
       "    </tr>\n",
       "    <tr>\n",
       "      <th>3</th>\n",
       "      <td>6992</td>\n",
       "      <td>NaN</td>\n",
       "      <td>99086186</td>\n",
       "      <td>push</td>\n",
       "      <td>2015-12-28 12:18:41+00:00</td>\n",
       "      <td>NaN</td>\n",
       "      <td>2015-12-28 12:10:56+00:00</td>\n",
       "      <td>5243.0</td>\n",
       "      <td>passed</td>\n",
       "      <td>28.0</td>\n",
       "      <td>12.0</td>\n",
       "      <td>2015.0</td>\n",
       "    </tr>\n",
       "    <tr>\n",
       "      <th>4</th>\n",
       "      <td>6991</td>\n",
       "      <td>NaN</td>\n",
       "      <td>99078711</td>\n",
       "      <td>push</td>\n",
       "      <td>2015-12-28 10:56:34+00:00</td>\n",
       "      <td>NaN</td>\n",
       "      <td>2015-12-28 10:41:16+00:00</td>\n",
       "      <td>5045.0</td>\n",
       "      <td>passed</td>\n",
       "      <td>28.0</td>\n",
       "      <td>12.0</td>\n",
       "      <td>2015.0</td>\n",
       "    </tr>\n",
       "  </tbody>\n",
       "</table>\n",
       "</div>"
      ],
      "text/plain": [
       "   number  pull_request_number        id event_type               finished_at  \\\n",
       "0    6995                  NaN  99118995       push 2015-12-28 16:34:08+00:00   \n",
       "1    6994                  NaN  99100662       push 2015-12-28 14:36:03+00:00   \n",
       "2    6993                  NaN  99093472       push 2015-12-28 13:27:51+00:00   \n",
       "3    6992                  NaN  99086186       push 2015-12-28 12:18:41+00:00   \n",
       "4    6991                  NaN  99078711       push 2015-12-28 10:56:34+00:00   \n",
       "\n",
       "  pull_request_title                started_at  duration   state  \\\n",
       "0                NaN 2015-12-28 16:18:41+00:00    5361.0  failed   \n",
       "1                NaN 2015-12-28 14:18:30+00:00    5953.0  passed   \n",
       "2                NaN 2015-12-28 13:11:39+00:00    5166.0  passed   \n",
       "3                NaN 2015-12-28 12:10:56+00:00    5243.0  passed   \n",
       "4                NaN 2015-12-28 10:41:16+00:00    5045.0  passed   \n",
       "\n",
       "   started_at_day  started_at_month  started_at_year  \n",
       "0            28.0              12.0           2015.0  \n",
       "1            28.0              12.0           2015.0  \n",
       "2            28.0              12.0           2015.0  \n",
       "3            28.0              12.0           2015.0  \n",
       "4            28.0              12.0           2015.0  "
      ]
     },
     "execution_count": 12,
     "metadata": {},
     "output_type": "execute_result"
    }
   ],
   "source": [
    "builds = pd.read_csv(f\"{csv_folder}/builds_cleaned.csv\", index_col=0)\n",
    "builds[\"started_at\"] = pd.to_datetime(builds.started_at, errors=\"coerce\")\n",
    "builds[\"finished_at\"] = pd.to_datetime(builds.finished_at, errors=\"coerce\")\n",
    "builds.head()"
   ]
  },
  {
   "cell_type": "markdown",
   "metadata": {},
   "source": [
    "### Import jobs df"
   ]
  },
  {
   "cell_type": "code",
   "execution_count": 13,
   "metadata": {},
   "outputs": [
    {
     "data": {
      "text/html": [
       "<div>\n",
       "<style scoped>\n",
       "    .dataframe tbody tr th:only-of-type {\n",
       "        vertical-align: middle;\n",
       "    }\n",
       "\n",
       "    .dataframe tbody tr th {\n",
       "        vertical-align: top;\n",
       "    }\n",
       "\n",
       "    .dataframe thead th {\n",
       "        text-align: right;\n",
       "    }\n",
       "</style>\n",
       "<table border=\"1\" class=\"dataframe\">\n",
       "  <thead>\n",
       "    <tr style=\"text-align: right;\">\n",
       "      <th></th>\n",
       "      <th>id</th>\n",
       "      <th>buildid</th>\n",
       "      <th>started_at</th>\n",
       "      <th>created_at</th>\n",
       "      <th>finished_at</th>\n",
       "      <th>number</th>\n",
       "      <th>state</th>\n",
       "      <th>updated_at</th>\n",
       "      <th>commitsha</th>\n",
       "      <th>commitid</th>\n",
       "      <th>commitmessage</th>\n",
       "      <th>commitref</th>\n",
       "      <th>commitcompare_url</th>\n",
       "    </tr>\n",
       "  </thead>\n",
       "  <tbody>\n",
       "    <tr>\n",
       "      <th>0</th>\n",
       "      <td>241946101</td>\n",
       "      <td>241946099</td>\n",
       "      <td>2017-06-12 09:21:03+00:00</td>\n",
       "      <td>2017-06-12 09:13:51.063000+00:00</td>\n",
       "      <td>2017-06-12 09:21:43+00:00</td>\n",
       "      <td>25614.1</td>\n",
       "      <td>canceled</td>\n",
       "      <td>2018-06-02T14:51:19.734Z</td>\n",
       "      <td>2e4b539138fde6f664a865c81fb6ab0763f74bdb</td>\n",
       "      <td>70181895</td>\n",
       "      <td>SONAR-9304 Add test on organization deletion</td>\n",
       "      <td>refs/heads/feature/atlas/MMF-324/builtin-profiles</td>\n",
       "      <td>https://github.com/SonarSource/sonarqube/compa...</td>\n",
       "    </tr>\n",
       "    <tr>\n",
       "      <th>1</th>\n",
       "      <td>241946103</td>\n",
       "      <td>241946099</td>\n",
       "      <td>2017-06-12 09:22:43+00:00</td>\n",
       "      <td>2017-06-12 09:13:51.107000+00:00</td>\n",
       "      <td>2017-06-12 09:21:43+00:00</td>\n",
       "      <td>25614.2</td>\n",
       "      <td>canceled</td>\n",
       "      <td>2018-06-02T14:51:19.764Z</td>\n",
       "      <td>2e4b539138fde6f664a865c81fb6ab0763f74bdb</td>\n",
       "      <td>70181895</td>\n",
       "      <td>SONAR-9304 Add test on organization deletion</td>\n",
       "      <td>refs/heads/feature/atlas/MMF-324/builtin-profiles</td>\n",
       "      <td>https://github.com/SonarSource/sonarqube/compa...</td>\n",
       "    </tr>\n",
       "    <tr>\n",
       "      <th>2</th>\n",
       "      <td>241952024</td>\n",
       "      <td>241952022</td>\n",
       "      <td>2017-06-12 09:36:43+00:00</td>\n",
       "      <td>2017-06-12 09:32:52.227000+00:00</td>\n",
       "      <td>2017-06-12 09:37:23+00:00</td>\n",
       "      <td>25615.1</td>\n",
       "      <td>canceled</td>\n",
       "      <td>2018-06-02T14:51:25.661Z</td>\n",
       "      <td>464f5da96733c14818f4b4bfeb878951b859ee0c</td>\n",
       "      <td>70183628</td>\n",
       "      <td>SONAR-9304 Add comments to make tests clearer</td>\n",
       "      <td>refs/heads/feature/atlas/MMF-324/builtin-profiles</td>\n",
       "      <td>https://github.com/SonarSource/sonarqube/compa...</td>\n",
       "    </tr>\n",
       "    <tr>\n",
       "      <th>3</th>\n",
       "      <td>241952025</td>\n",
       "      <td>241952022</td>\n",
       "      <td>NaT</td>\n",
       "      <td>2017-06-12 09:32:52.237000+00:00</td>\n",
       "      <td>2017-06-12 09:37:24+00:00</td>\n",
       "      <td>25615.2</td>\n",
       "      <td>canceled</td>\n",
       "      <td>2018-06-02T14:51:25.669Z</td>\n",
       "      <td>464f5da96733c14818f4b4bfeb878951b859ee0c</td>\n",
       "      <td>70183628</td>\n",
       "      <td>SONAR-9304 Add comments to make tests clearer</td>\n",
       "      <td>refs/heads/feature/atlas/MMF-324/builtin-profiles</td>\n",
       "      <td>https://github.com/SonarSource/sonarqube/compa...</td>\n",
       "    </tr>\n",
       "    <tr>\n",
       "      <th>4</th>\n",
       "      <td>241952045</td>\n",
       "      <td>241952044</td>\n",
       "      <td>2017-06-12 09:42:16+00:00</td>\n",
       "      <td>2017-06-12 09:32:59.994000+00:00</td>\n",
       "      <td>2017-06-12 09:53:48+00:00</td>\n",
       "      <td>25616.1</td>\n",
       "      <td>passed</td>\n",
       "      <td>2018-06-02T14:51:26.125Z</td>\n",
       "      <td>7358e9a93e47ac9fcaebe960c00ab8bd28e9890e</td>\n",
       "      <td>70183633</td>\n",
       "      <td>SONAR-9304 Add comments to make tests clearer</td>\n",
       "      <td>refs/pull/2104/merge</td>\n",
       "      <td>https://github.com/SonarSource/sonarqube/pull/...</td>\n",
       "    </tr>\n",
       "    <tr>\n",
       "      <th>...</th>\n",
       "      <td>...</td>\n",
       "      <td>...</td>\n",
       "      <td>...</td>\n",
       "      <td>...</td>\n",
       "      <td>...</td>\n",
       "      <td>...</td>\n",
       "      <td>...</td>\n",
       "      <td>...</td>\n",
       "      <td>...</td>\n",
       "      <td>...</td>\n",
       "      <td>...</td>\n",
       "      <td>...</td>\n",
       "      <td>...</td>\n",
       "    </tr>\n",
       "    <tr>\n",
       "      <th>136978</th>\n",
       "      <td>315411337</td>\n",
       "      <td>315411335</td>\n",
       "      <td>2017-12-12 15:23:15+00:00</td>\n",
       "      <td>2017-12-12 15:22:41.091000+00:00</td>\n",
       "      <td>2017-12-12 15:26:39+00:00</td>\n",
       "      <td>34811.2</td>\n",
       "      <td>passed</td>\n",
       "      <td>2018-06-03T16:57:36.971Z</td>\n",
       "      <td>abd0650045b3fcc95ac8459a6fc2450a1bd889c0</td>\n",
       "      <td>93642638</td>\n",
       "      <td>SONAR-10134 Fix ITs on quality gates by settin...</td>\n",
       "      <td>refs/pull/2866/merge</td>\n",
       "      <td>https://github.com/SonarSource/sonarqube/pull/...</td>\n",
       "    </tr>\n",
       "    <tr>\n",
       "      <th>136979</th>\n",
       "      <td>315421139</td>\n",
       "      <td>315421138</td>\n",
       "      <td>2017-12-12 15:43:05+00:00</td>\n",
       "      <td>2017-12-12 15:42:34.642000+00:00</td>\n",
       "      <td>2017-12-12 15:44:59+00:00</td>\n",
       "      <td>34812.1</td>\n",
       "      <td>passed</td>\n",
       "      <td>2018-06-03T16:57:47.762Z</td>\n",
       "      <td>04d5e19040df59e2a4a1025514c9b8b7c42378f8</td>\n",
       "      <td>93645831</td>\n",
       "      <td>SONAR-10187 Provide more options to populate e...</td>\n",
       "      <td>refs/heads/feature/stas/MMF-1128</td>\n",
       "      <td>https://github.com/SonarSource/sonarqube/compa...</td>\n",
       "    </tr>\n",
       "    <tr>\n",
       "      <th>136980</th>\n",
       "      <td>315421140</td>\n",
       "      <td>315421138</td>\n",
       "      <td>2017-12-12 15:43:26+00:00</td>\n",
       "      <td>2017-12-12 15:42:34.682000+00:00</td>\n",
       "      <td>2017-12-12 15:44:25+00:00</td>\n",
       "      <td>34812.2</td>\n",
       "      <td>passed</td>\n",
       "      <td>2018-06-03T16:57:47.778Z</td>\n",
       "      <td>04d5e19040df59e2a4a1025514c9b8b7c42378f8</td>\n",
       "      <td>93645831</td>\n",
       "      <td>SONAR-10187 Provide more options to populate e...</td>\n",
       "      <td>refs/heads/feature/stas/MMF-1128</td>\n",
       "      <td>https://github.com/SonarSource/sonarqube/compa...</td>\n",
       "    </tr>\n",
       "    <tr>\n",
       "      <th>136981</th>\n",
       "      <td>315421147</td>\n",
       "      <td>315421146</td>\n",
       "      <td>2017-12-12 15:43:25+00:00</td>\n",
       "      <td>2017-12-12 15:42:40.583000+00:00</td>\n",
       "      <td>2017-12-12 16:01:05+00:00</td>\n",
       "      <td>34813.1</td>\n",
       "      <td>passed</td>\n",
       "      <td>2018-06-03T16:57:47.837Z</td>\n",
       "      <td>a5005e0ca38a67e7d70c255154990ed10be31020</td>\n",
       "      <td>93645838</td>\n",
       "      <td>SONAR-10187 Provide more options to populate e...</td>\n",
       "      <td>refs/pull/2895/merge</td>\n",
       "      <td>https://github.com/SonarSource/sonarqube/pull/...</td>\n",
       "    </tr>\n",
       "    <tr>\n",
       "      <th>136982</th>\n",
       "      <td>315421148</td>\n",
       "      <td>315421146</td>\n",
       "      <td>2017-12-12 15:43:23+00:00</td>\n",
       "      <td>2017-12-12 15:42:40.646000+00:00</td>\n",
       "      <td>2017-12-12 15:46:39+00:00</td>\n",
       "      <td>34813.2</td>\n",
       "      <td>passed</td>\n",
       "      <td>2018-06-03T16:57:47.977Z</td>\n",
       "      <td>a5005e0ca38a67e7d70c255154990ed10be31020</td>\n",
       "      <td>93645838</td>\n",
       "      <td>SONAR-10187 Provide more options to populate e...</td>\n",
       "      <td>refs/pull/2895/merge</td>\n",
       "      <td>https://github.com/SonarSource/sonarqube/pull/...</td>\n",
       "    </tr>\n",
       "  </tbody>\n",
       "</table>\n",
       "<p>136983 rows × 13 columns</p>\n",
       "</div>"
      ],
      "text/plain": [
       "               id    buildid                started_at  \\\n",
       "0       241946101  241946099 2017-06-12 09:21:03+00:00   \n",
       "1       241946103  241946099 2017-06-12 09:22:43+00:00   \n",
       "2       241952024  241952022 2017-06-12 09:36:43+00:00   \n",
       "3       241952025  241952022                       NaT   \n",
       "4       241952045  241952044 2017-06-12 09:42:16+00:00   \n",
       "...           ...        ...                       ...   \n",
       "136978  315411337  315411335 2017-12-12 15:23:15+00:00   \n",
       "136979  315421139  315421138 2017-12-12 15:43:05+00:00   \n",
       "136980  315421140  315421138 2017-12-12 15:43:26+00:00   \n",
       "136981  315421147  315421146 2017-12-12 15:43:25+00:00   \n",
       "136982  315421148  315421146 2017-12-12 15:43:23+00:00   \n",
       "\n",
       "                             created_at               finished_at   number  \\\n",
       "0      2017-06-12 09:13:51.063000+00:00 2017-06-12 09:21:43+00:00  25614.1   \n",
       "1      2017-06-12 09:13:51.107000+00:00 2017-06-12 09:21:43+00:00  25614.2   \n",
       "2      2017-06-12 09:32:52.227000+00:00 2017-06-12 09:37:23+00:00  25615.1   \n",
       "3      2017-06-12 09:32:52.237000+00:00 2017-06-12 09:37:24+00:00  25615.2   \n",
       "4      2017-06-12 09:32:59.994000+00:00 2017-06-12 09:53:48+00:00  25616.1   \n",
       "...                                 ...                       ...      ...   \n",
       "136978 2017-12-12 15:22:41.091000+00:00 2017-12-12 15:26:39+00:00  34811.2   \n",
       "136979 2017-12-12 15:42:34.642000+00:00 2017-12-12 15:44:59+00:00  34812.1   \n",
       "136980 2017-12-12 15:42:34.682000+00:00 2017-12-12 15:44:25+00:00  34812.2   \n",
       "136981 2017-12-12 15:42:40.583000+00:00 2017-12-12 16:01:05+00:00  34813.1   \n",
       "136982 2017-12-12 15:42:40.646000+00:00 2017-12-12 15:46:39+00:00  34813.2   \n",
       "\n",
       "           state                updated_at  \\\n",
       "0       canceled  2018-06-02T14:51:19.734Z   \n",
       "1       canceled  2018-06-02T14:51:19.764Z   \n",
       "2       canceled  2018-06-02T14:51:25.661Z   \n",
       "3       canceled  2018-06-02T14:51:25.669Z   \n",
       "4         passed  2018-06-02T14:51:26.125Z   \n",
       "...          ...                       ...   \n",
       "136978    passed  2018-06-03T16:57:36.971Z   \n",
       "136979    passed  2018-06-03T16:57:47.762Z   \n",
       "136980    passed  2018-06-03T16:57:47.778Z   \n",
       "136981    passed  2018-06-03T16:57:47.837Z   \n",
       "136982    passed  2018-06-03T16:57:47.977Z   \n",
       "\n",
       "                                       commitsha  commitid  \\\n",
       "0       2e4b539138fde6f664a865c81fb6ab0763f74bdb  70181895   \n",
       "1       2e4b539138fde6f664a865c81fb6ab0763f74bdb  70181895   \n",
       "2       464f5da96733c14818f4b4bfeb878951b859ee0c  70183628   \n",
       "3       464f5da96733c14818f4b4bfeb878951b859ee0c  70183628   \n",
       "4       7358e9a93e47ac9fcaebe960c00ab8bd28e9890e  70183633   \n",
       "...                                          ...       ...   \n",
       "136978  abd0650045b3fcc95ac8459a6fc2450a1bd889c0  93642638   \n",
       "136979  04d5e19040df59e2a4a1025514c9b8b7c42378f8  93645831   \n",
       "136980  04d5e19040df59e2a4a1025514c9b8b7c42378f8  93645831   \n",
       "136981  a5005e0ca38a67e7d70c255154990ed10be31020  93645838   \n",
       "136982  a5005e0ca38a67e7d70c255154990ed10be31020  93645838   \n",
       "\n",
       "                                            commitmessage  \\\n",
       "0            SONAR-9304 Add test on organization deletion   \n",
       "1            SONAR-9304 Add test on organization deletion   \n",
       "2           SONAR-9304 Add comments to make tests clearer   \n",
       "3           SONAR-9304 Add comments to make tests clearer   \n",
       "4           SONAR-9304 Add comments to make tests clearer   \n",
       "...                                                   ...   \n",
       "136978  SONAR-10134 Fix ITs on quality gates by settin...   \n",
       "136979  SONAR-10187 Provide more options to populate e...   \n",
       "136980  SONAR-10187 Provide more options to populate e...   \n",
       "136981  SONAR-10187 Provide more options to populate e...   \n",
       "136982  SONAR-10187 Provide more options to populate e...   \n",
       "\n",
       "                                                commitref  \\\n",
       "0       refs/heads/feature/atlas/MMF-324/builtin-profiles   \n",
       "1       refs/heads/feature/atlas/MMF-324/builtin-profiles   \n",
       "2       refs/heads/feature/atlas/MMF-324/builtin-profiles   \n",
       "3       refs/heads/feature/atlas/MMF-324/builtin-profiles   \n",
       "4                                    refs/pull/2104/merge   \n",
       "...                                                   ...   \n",
       "136978                               refs/pull/2866/merge   \n",
       "136979                   refs/heads/feature/stas/MMF-1128   \n",
       "136980                   refs/heads/feature/stas/MMF-1128   \n",
       "136981                               refs/pull/2895/merge   \n",
       "136982                               refs/pull/2895/merge   \n",
       "\n",
       "                                        commitcompare_url  \n",
       "0       https://github.com/SonarSource/sonarqube/compa...  \n",
       "1       https://github.com/SonarSource/sonarqube/compa...  \n",
       "2       https://github.com/SonarSource/sonarqube/compa...  \n",
       "3       https://github.com/SonarSource/sonarqube/compa...  \n",
       "4       https://github.com/SonarSource/sonarqube/pull/...  \n",
       "...                                                   ...  \n",
       "136978  https://github.com/SonarSource/sonarqube/pull/...  \n",
       "136979  https://github.com/SonarSource/sonarqube/compa...  \n",
       "136980  https://github.com/SonarSource/sonarqube/compa...  \n",
       "136981  https://github.com/SonarSource/sonarqube/pull/...  \n",
       "136982  https://github.com/SonarSource/sonarqube/pull/...  \n",
       "\n",
       "[136983 rows x 13 columns]"
      ]
     },
     "execution_count": 13,
     "metadata": {},
     "output_type": "execute_result"
    }
   ],
   "source": [
    "jobs = pd.read_csv(f\"{csv_folder}/allJobs.csv\", index_col=0)\n",
    "jobs[\"finished_at\"] = pd.to_datetime(jobs.finished_at)\n",
    "jobs[\"started_at\"] = pd.to_datetime(jobs.started_at)\n",
    "jobs[\"created_at\"] = pd.to_datetime(jobs.created_at)\n",
    "jobs"
   ]
  },
  {
   "cell_type": "code",
   "execution_count": 21,
   "metadata": {},
   "outputs": [
    {
     "data": {
      "text/html": [
       "<div>\n",
       "<style scoped>\n",
       "    .dataframe tbody tr th:only-of-type {\n",
       "        vertical-align: middle;\n",
       "    }\n",
       "\n",
       "    .dataframe tbody tr th {\n",
       "        vertical-align: top;\n",
       "    }\n",
       "\n",
       "    .dataframe thead th {\n",
       "        text-align: right;\n",
       "    }\n",
       "</style>\n",
       "<table border=\"1\" class=\"dataframe\">\n",
       "  <thead>\n",
       "    <tr style=\"text-align: right;\">\n",
       "      <th></th>\n",
       "      <th>number_build</th>\n",
       "      <th>pull_request_number</th>\n",
       "      <th>id_build</th>\n",
       "      <th>event_type</th>\n",
       "      <th>finished_at_build</th>\n",
       "      <th>pull_request_title</th>\n",
       "      <th>started_at_build</th>\n",
       "      <th>duration</th>\n",
       "      <th>state_build</th>\n",
       "      <th>started_at_day_build</th>\n",
       "      <th>started_at_month_build</th>\n",
       "      <th>started_at_year_build</th>\n",
       "      <th>id_job</th>\n",
       "      <th>buildid</th>\n",
       "      <th>started_at_job</th>\n",
       "      <th>created_at</th>\n",
       "      <th>finished_at_job</th>\n",
       "      <th>number_job</th>\n",
       "      <th>state_job</th>\n",
       "      <th>updated_at</th>\n",
       "      <th>commitsha</th>\n",
       "      <th>commitid</th>\n",
       "      <th>commitmessage</th>\n",
       "      <th>commitref</th>\n",
       "      <th>commitcompare_url</th>\n",
       "      <th>started_at_day_job</th>\n",
       "      <th>started_at_month_job</th>\n",
       "      <th>started_at_year_job</th>\n",
       "    </tr>\n",
       "  </thead>\n",
       "  <tbody>\n",
       "    <tr>\n",
       "      <th>0</th>\n",
       "      <td>6995</td>\n",
       "      <td>NaN</td>\n",
       "      <td>99118995</td>\n",
       "      <td>push</td>\n",
       "      <td>2015-12-28 16:34:08+00:00</td>\n",
       "      <td>NaN</td>\n",
       "      <td>2015-12-28 16:18:41+00:00</td>\n",
       "      <td>5361.0</td>\n",
       "      <td>failed</td>\n",
       "      <td>28.0</td>\n",
       "      <td>12.0</td>\n",
       "      <td>2015.0</td>\n",
       "      <td>99118996</td>\n",
       "      <td>99118995</td>\n",
       "      <td>2015-12-28 16:18:43+00:00</td>\n",
       "      <td>2015-12-28 16:18:33.261000+00:00</td>\n",
       "      <td>2015-12-28 16:29:34+00:00</td>\n",
       "      <td>6995.1</td>\n",
       "      <td>passed</td>\n",
       "      <td>2018-05-29T22:02:47.694Z</td>\n",
       "      <td>be413c15c08966da5740a126e1c5b52f75e6fc6e</td>\n",
       "      <td>28112504</td>\n",
       "      <td>improve code page rendering</td>\n",
       "      <td>refs/heads/master</td>\n",
       "      <td>https://github.com/SonarSource/sonarqube/compa...</td>\n",
       "      <td>28.0</td>\n",
       "      <td>12.0</td>\n",
       "      <td>2015.0</td>\n",
       "    </tr>\n",
       "    <tr>\n",
       "      <th>1</th>\n",
       "      <td>6995</td>\n",
       "      <td>NaN</td>\n",
       "      <td>99118995</td>\n",
       "      <td>push</td>\n",
       "      <td>2015-12-28 16:34:08+00:00</td>\n",
       "      <td>NaN</td>\n",
       "      <td>2015-12-28 16:18:41+00:00</td>\n",
       "      <td>5361.0</td>\n",
       "      <td>failed</td>\n",
       "      <td>28.0</td>\n",
       "      <td>12.0</td>\n",
       "      <td>2015.0</td>\n",
       "      <td>99118997</td>\n",
       "      <td>99118995</td>\n",
       "      <td>2015-12-28 16:18:41+00:00</td>\n",
       "      <td>2015-12-28 16:18:33.279000+00:00</td>\n",
       "      <td>2015-12-28 16:34:08+00:00</td>\n",
       "      <td>6995.2</td>\n",
       "      <td>passed</td>\n",
       "      <td>2018-05-29T22:02:47.753Z</td>\n",
       "      <td>be413c15c08966da5740a126e1c5b52f75e6fc6e</td>\n",
       "      <td>28112504</td>\n",
       "      <td>improve code page rendering</td>\n",
       "      <td>refs/heads/master</td>\n",
       "      <td>https://github.com/SonarSource/sonarqube/compa...</td>\n",
       "      <td>28.0</td>\n",
       "      <td>12.0</td>\n",
       "      <td>2015.0</td>\n",
       "    </tr>\n",
       "    <tr>\n",
       "      <th>2</th>\n",
       "      <td>6995</td>\n",
       "      <td>NaN</td>\n",
       "      <td>99118995</td>\n",
       "      <td>push</td>\n",
       "      <td>2015-12-28 16:34:08+00:00</td>\n",
       "      <td>NaN</td>\n",
       "      <td>2015-12-28 16:18:41+00:00</td>\n",
       "      <td>5361.0</td>\n",
       "      <td>failed</td>\n",
       "      <td>28.0</td>\n",
       "      <td>12.0</td>\n",
       "      <td>2015.0</td>\n",
       "      <td>99118998</td>\n",
       "      <td>99118995</td>\n",
       "      <td>2015-12-28 16:18:41+00:00</td>\n",
       "      <td>2015-12-28 16:18:33.295000+00:00</td>\n",
       "      <td>2015-12-28 16:33:47+00:00</td>\n",
       "      <td>6995.3</td>\n",
       "      <td>passed</td>\n",
       "      <td>2018-05-29T22:02:47.790Z</td>\n",
       "      <td>be413c15c08966da5740a126e1c5b52f75e6fc6e</td>\n",
       "      <td>28112504</td>\n",
       "      <td>improve code page rendering</td>\n",
       "      <td>refs/heads/master</td>\n",
       "      <td>https://github.com/SonarSource/sonarqube/compa...</td>\n",
       "      <td>28.0</td>\n",
       "      <td>12.0</td>\n",
       "      <td>2015.0</td>\n",
       "    </tr>\n",
       "    <tr>\n",
       "      <th>3</th>\n",
       "      <td>6995</td>\n",
       "      <td>NaN</td>\n",
       "      <td>99118995</td>\n",
       "      <td>push</td>\n",
       "      <td>2015-12-28 16:34:08+00:00</td>\n",
       "      <td>NaN</td>\n",
       "      <td>2015-12-28 16:18:41+00:00</td>\n",
       "      <td>5361.0</td>\n",
       "      <td>failed</td>\n",
       "      <td>28.0</td>\n",
       "      <td>12.0</td>\n",
       "      <td>2015.0</td>\n",
       "      <td>99118999</td>\n",
       "      <td>99118995</td>\n",
       "      <td>2015-12-28 16:18:43+00:00</td>\n",
       "      <td>2015-12-28 16:18:33.312000+00:00</td>\n",
       "      <td>2015-12-28 16:34:04+00:00</td>\n",
       "      <td>6995.4</td>\n",
       "      <td>passed</td>\n",
       "      <td>2018-05-29T22:02:47.798Z</td>\n",
       "      <td>be413c15c08966da5740a126e1c5b52f75e6fc6e</td>\n",
       "      <td>28112504</td>\n",
       "      <td>improve code page rendering</td>\n",
       "      <td>refs/heads/master</td>\n",
       "      <td>https://github.com/SonarSource/sonarqube/compa...</td>\n",
       "      <td>28.0</td>\n",
       "      <td>12.0</td>\n",
       "      <td>2015.0</td>\n",
       "    </tr>\n",
       "    <tr>\n",
       "      <th>4</th>\n",
       "      <td>6995</td>\n",
       "      <td>NaN</td>\n",
       "      <td>99118995</td>\n",
       "      <td>push</td>\n",
       "      <td>2015-12-28 16:34:08+00:00</td>\n",
       "      <td>NaN</td>\n",
       "      <td>2015-12-28 16:18:41+00:00</td>\n",
       "      <td>5361.0</td>\n",
       "      <td>failed</td>\n",
       "      <td>28.0</td>\n",
       "      <td>12.0</td>\n",
       "      <td>2015.0</td>\n",
       "      <td>99119000</td>\n",
       "      <td>99118995</td>\n",
       "      <td>2015-12-28 16:18:42+00:00</td>\n",
       "      <td>2015-12-28 16:18:33.332000+00:00</td>\n",
       "      <td>2015-12-28 16:31:37+00:00</td>\n",
       "      <td>6995.5</td>\n",
       "      <td>passed</td>\n",
       "      <td>2018-05-29T22:02:15.403Z</td>\n",
       "      <td>be413c15c08966da5740a126e1c5b52f75e6fc6e</td>\n",
       "      <td>28112504</td>\n",
       "      <td>improve code page rendering</td>\n",
       "      <td>refs/heads/master</td>\n",
       "      <td>https://github.com/SonarSource/sonarqube/compa...</td>\n",
       "      <td>28.0</td>\n",
       "      <td>12.0</td>\n",
       "      <td>2015.0</td>\n",
       "    </tr>\n",
       "  </tbody>\n",
       "</table>\n",
       "</div>"
      ],
      "text/plain": [
       "   number_build  pull_request_number  id_build event_type  \\\n",
       "0          6995                  NaN  99118995       push   \n",
       "1          6995                  NaN  99118995       push   \n",
       "2          6995                  NaN  99118995       push   \n",
       "3          6995                  NaN  99118995       push   \n",
       "4          6995                  NaN  99118995       push   \n",
       "\n",
       "          finished_at_build pull_request_title          started_at_build  \\\n",
       "0 2015-12-28 16:34:08+00:00                NaN 2015-12-28 16:18:41+00:00   \n",
       "1 2015-12-28 16:34:08+00:00                NaN 2015-12-28 16:18:41+00:00   \n",
       "2 2015-12-28 16:34:08+00:00                NaN 2015-12-28 16:18:41+00:00   \n",
       "3 2015-12-28 16:34:08+00:00                NaN 2015-12-28 16:18:41+00:00   \n",
       "4 2015-12-28 16:34:08+00:00                NaN 2015-12-28 16:18:41+00:00   \n",
       "\n",
       "   duration state_build  started_at_day_build  started_at_month_build  \\\n",
       "0    5361.0      failed                  28.0                    12.0   \n",
       "1    5361.0      failed                  28.0                    12.0   \n",
       "2    5361.0      failed                  28.0                    12.0   \n",
       "3    5361.0      failed                  28.0                    12.0   \n",
       "4    5361.0      failed                  28.0                    12.0   \n",
       "\n",
       "   started_at_year_build    id_job   buildid            started_at_job  \\\n",
       "0                 2015.0  99118996  99118995 2015-12-28 16:18:43+00:00   \n",
       "1                 2015.0  99118997  99118995 2015-12-28 16:18:41+00:00   \n",
       "2                 2015.0  99118998  99118995 2015-12-28 16:18:41+00:00   \n",
       "3                 2015.0  99118999  99118995 2015-12-28 16:18:43+00:00   \n",
       "4                 2015.0  99119000  99118995 2015-12-28 16:18:42+00:00   \n",
       "\n",
       "                        created_at           finished_at_job  number_job  \\\n",
       "0 2015-12-28 16:18:33.261000+00:00 2015-12-28 16:29:34+00:00      6995.1   \n",
       "1 2015-12-28 16:18:33.279000+00:00 2015-12-28 16:34:08+00:00      6995.2   \n",
       "2 2015-12-28 16:18:33.295000+00:00 2015-12-28 16:33:47+00:00      6995.3   \n",
       "3 2015-12-28 16:18:33.312000+00:00 2015-12-28 16:34:04+00:00      6995.4   \n",
       "4 2015-12-28 16:18:33.332000+00:00 2015-12-28 16:31:37+00:00      6995.5   \n",
       "\n",
       "  state_job                updated_at  \\\n",
       "0    passed  2018-05-29T22:02:47.694Z   \n",
       "1    passed  2018-05-29T22:02:47.753Z   \n",
       "2    passed  2018-05-29T22:02:47.790Z   \n",
       "3    passed  2018-05-29T22:02:47.798Z   \n",
       "4    passed  2018-05-29T22:02:15.403Z   \n",
       "\n",
       "                                  commitsha  commitid  \\\n",
       "0  be413c15c08966da5740a126e1c5b52f75e6fc6e  28112504   \n",
       "1  be413c15c08966da5740a126e1c5b52f75e6fc6e  28112504   \n",
       "2  be413c15c08966da5740a126e1c5b52f75e6fc6e  28112504   \n",
       "3  be413c15c08966da5740a126e1c5b52f75e6fc6e  28112504   \n",
       "4  be413c15c08966da5740a126e1c5b52f75e6fc6e  28112504   \n",
       "\n",
       "                 commitmessage          commitref  \\\n",
       "0  improve code page rendering  refs/heads/master   \n",
       "1  improve code page rendering  refs/heads/master   \n",
       "2  improve code page rendering  refs/heads/master   \n",
       "3  improve code page rendering  refs/heads/master   \n",
       "4  improve code page rendering  refs/heads/master   \n",
       "\n",
       "                                   commitcompare_url  started_at_day_job  \\\n",
       "0  https://github.com/SonarSource/sonarqube/compa...                28.0   \n",
       "1  https://github.com/SonarSource/sonarqube/compa...                28.0   \n",
       "2  https://github.com/SonarSource/sonarqube/compa...                28.0   \n",
       "3  https://github.com/SonarSource/sonarqube/compa...                28.0   \n",
       "4  https://github.com/SonarSource/sonarqube/compa...                28.0   \n",
       "\n",
       "   started_at_month_job  started_at_year_job  \n",
       "0                  12.0               2015.0  \n",
       "1                  12.0               2015.0  \n",
       "2                  12.0               2015.0  \n",
       "3                  12.0               2015.0  \n",
       "4                  12.0               2015.0  "
      ]
     },
     "execution_count": 21,
     "metadata": {},
     "output_type": "execute_result"
    }
   ],
   "source": [
    "build_job = builds.merge(jobs, left_on=\"id\", right_on=\"buildid\", suffixes=[\"_build\", \"_job\"])\n",
    "build_job.head()"
   ]
  },
  {
   "cell_type": "markdown",
   "metadata": {},
   "source": [
    "### Columns"
   ]
  },
  {
   "cell_type": "code",
   "execution_count": 9,
   "metadata": {},
   "outputs": [
    {
     "data": {
      "text/plain": [
       "Index(['id', 'buildid', 'started_at', 'created_at', 'finished_at', 'number',\n",
       "       'state', 'updated_at', 'commitsha', 'commitid', 'commitmessage',\n",
       "       'commitref', 'commitcompare_url'],\n",
       "      dtype='object')"
      ]
     },
     "execution_count": 9,
     "metadata": {},
     "output_type": "execute_result"
    }
   ],
   "source": [
    "jobs.columns"
   ]
  },
  {
   "cell_type": "markdown",
   "metadata": {},
   "source": [
    "| Field          | Description                                                     |\n",
    "|----------------|-----------------------------------------------------------------|\n",
    "|commitref|Named reference the commit has in git.|\n"
   ]
  },
  {
   "cell_type": "code",
   "execution_count": 11,
   "metadata": {},
   "outputs": [],
   "source": [
    "jobs = jobs[['id', 'buildid', 'started_at', 'created_at', 'finished_at', 'number',\n",
    "       'state', 'updated_at', 'commitsha','commitmessage','commitref']]"
   ]
  },
  {
   "cell_type": "markdown",
   "metadata": {},
   "source": [
    "### Shape"
   ]
  },
  {
   "cell_type": "code",
   "execution_count": 12,
   "metadata": {},
   "outputs": [
    {
     "data": {
      "text/plain": [
       "(136983, 11)"
      ]
     },
     "execution_count": 12,
     "metadata": {},
     "output_type": "execute_result"
    }
   ],
   "source": [
    "jobs.shape"
   ]
  },
  {
   "cell_type": "markdown",
   "metadata": {},
   "source": [
    "### Stats"
   ]
  },
  {
   "cell_type": "code",
   "execution_count": 9,
   "metadata": {
    "scrolled": true
   },
   "outputs": [
    {
     "data": {
      "text/html": [
       "<div>\n",
       "<style scoped>\n",
       "    .dataframe tbody tr th:only-of-type {\n",
       "        vertical-align: middle;\n",
       "    }\n",
       "\n",
       "    .dataframe tbody tr th {\n",
       "        vertical-align: top;\n",
       "    }\n",
       "\n",
       "    .dataframe thead th {\n",
       "        text-align: right;\n",
       "    }\n",
       "</style>\n",
       "<table border=\"1\" class=\"dataframe\">\n",
       "  <thead>\n",
       "    <tr style=\"text-align: right;\">\n",
       "      <th></th>\n",
       "      <th>id</th>\n",
       "      <th>buildid</th>\n",
       "      <th>number</th>\n",
       "      <th>commitid</th>\n",
       "    </tr>\n",
       "  </thead>\n",
       "  <tbody>\n",
       "    <tr>\n",
       "      <th>count</th>\n",
       "      <td>1.369830e+05</td>\n",
       "      <td>1.369830e+05</td>\n",
       "      <td>136983.000000</td>\n",
       "      <td>1.369830e+05</td>\n",
       "    </tr>\n",
       "    <tr>\n",
       "      <th>mean</th>\n",
       "      <td>1.605672e+08</td>\n",
       "      <td>1.605672e+08</td>\n",
       "      <td>14131.256792</td>\n",
       "      <td>4.639438e+07</td>\n",
       "    </tr>\n",
       "    <tr>\n",
       "      <th>std</th>\n",
       "      <td>9.339884e+07</td>\n",
       "      <td>9.339884e+07</td>\n",
       "      <td>10802.638198</td>\n",
       "      <td>2.808363e+07</td>\n",
       "    </tr>\n",
       "    <tr>\n",
       "      <th>min</th>\n",
       "      <td>5.473113e+07</td>\n",
       "      <td>5.473112e+07</td>\n",
       "      <td>1.100000</td>\n",
       "      <td>1.569590e+07</td>\n",
       "    </tr>\n",
       "    <tr>\n",
       "      <th>25%</th>\n",
       "      <td>8.808975e+07</td>\n",
       "      <td>8.808973e+07</td>\n",
       "      <td>5702.850000</td>\n",
       "      <td>2.505123e+07</td>\n",
       "    </tr>\n",
       "    <tr>\n",
       "      <th>50%</th>\n",
       "      <td>1.280068e+08</td>\n",
       "      <td>1.280068e+08</td>\n",
       "      <td>9894.400000</td>\n",
       "      <td>3.622591e+07</td>\n",
       "    </tr>\n",
       "    <tr>\n",
       "      <th>75%</th>\n",
       "      <td>2.212873e+08</td>\n",
       "      <td>2.212873e+08</td>\n",
       "      <td>21510.650000</td>\n",
       "      <td>6.380080e+07</td>\n",
       "    </tr>\n",
       "    <tr>\n",
       "      <th>max</th>\n",
       "      <td>7.313960e+08</td>\n",
       "      <td>7.313960e+08</td>\n",
       "      <td>39427.200000</td>\n",
       "      <td>2.259581e+08</td>\n",
       "    </tr>\n",
       "  </tbody>\n",
       "</table>\n",
       "</div>"
      ],
      "text/plain": [
       "                 id       buildid         number      commitid\n",
       "count  1.369830e+05  1.369830e+05  136983.000000  1.369830e+05\n",
       "mean   1.605672e+08  1.605672e+08   14131.256792  4.639438e+07\n",
       "std    9.339884e+07  9.339884e+07   10802.638198  2.808363e+07\n",
       "min    5.473113e+07  5.473112e+07       1.100000  1.569590e+07\n",
       "25%    8.808975e+07  8.808973e+07    5702.850000  2.505123e+07\n",
       "50%    1.280068e+08  1.280068e+08    9894.400000  3.622591e+07\n",
       "75%    2.212873e+08  2.212873e+08   21510.650000  6.380080e+07\n",
       "max    7.313960e+08  7.313960e+08   39427.200000  2.259581e+08"
      ]
     },
     "execution_count": 9,
     "metadata": {},
     "output_type": "execute_result"
    }
   ],
   "source": [
    "jobs.describe()"
   ]
  },
  {
   "cell_type": "code",
   "execution_count": 10,
   "metadata": {},
   "outputs": [
    {
     "data": {
      "text/html": [
       "<div>\n",
       "<style scoped>\n",
       "    .dataframe tbody tr th:only-of-type {\n",
       "        vertical-align: middle;\n",
       "    }\n",
       "\n",
       "    .dataframe tbody tr th {\n",
       "        vertical-align: top;\n",
       "    }\n",
       "\n",
       "    .dataframe thead th {\n",
       "        text-align: right;\n",
       "    }\n",
       "</style>\n",
       "<table border=\"1\" class=\"dataframe\">\n",
       "  <thead>\n",
       "    <tr style=\"text-align: right;\">\n",
       "      <th></th>\n",
       "      <th>state</th>\n",
       "      <th>updated_at</th>\n",
       "      <th>commitsha</th>\n",
       "      <th>commitmessage</th>\n",
       "      <th>commitref</th>\n",
       "      <th>commitcompare_url</th>\n",
       "    </tr>\n",
       "  </thead>\n",
       "  <tbody>\n",
       "    <tr>\n",
       "      <th>count</th>\n",
       "      <td>136983</td>\n",
       "      <td>136983</td>\n",
       "      <td>136983</td>\n",
       "      <td>136981</td>\n",
       "      <td>133102</td>\n",
       "      <td>136983</td>\n",
       "    </tr>\n",
       "    <tr>\n",
       "      <th>unique</th>\n",
       "      <td>4</td>\n",
       "      <td>136648</td>\n",
       "      <td>35379</td>\n",
       "      <td>12525</td>\n",
       "      <td>6897</td>\n",
       "      <td>27721</td>\n",
       "    </tr>\n",
       "    <tr>\n",
       "      <th>top</th>\n",
       "      <td>passed</td>\n",
       "      <td>2018-05-29T17:22:53.645Z</td>\n",
       "      <td>e4faa1fdb6c34ec8dcc65c5916daea0bb5c15dcd</td>\n",
       "      <td>Nightly build launched from the travis-schedul...</td>\n",
       "      <td>refs/heads/master</td>\n",
       "      <td>https://github.com/SonarSource/sonarqube/compa...</td>\n",
       "    </tr>\n",
       "    <tr>\n",
       "      <th>freq</th>\n",
       "      <td>98116</td>\n",
       "      <td>2</td>\n",
       "      <td>557</td>\n",
       "      <td>2070</td>\n",
       "      <td>24092</td>\n",
       "      <td>555</td>\n",
       "    </tr>\n",
       "  </tbody>\n",
       "</table>\n",
       "</div>"
      ],
      "text/plain": [
       "         state                updated_at  \\\n",
       "count   136983                    136983   \n",
       "unique       4                    136648   \n",
       "top     passed  2018-05-29T17:22:53.645Z   \n",
       "freq     98116                         2   \n",
       "\n",
       "                                       commitsha  \\\n",
       "count                                     136983   \n",
       "unique                                     35379   \n",
       "top     e4faa1fdb6c34ec8dcc65c5916daea0bb5c15dcd   \n",
       "freq                                         557   \n",
       "\n",
       "                                            commitmessage          commitref  \\\n",
       "count                                              136981             133102   \n",
       "unique                                              12525               6897   \n",
       "top     Nightly build launched from the travis-schedul...  refs/heads/master   \n",
       "freq                                                 2070              24092   \n",
       "\n",
       "                                        commitcompare_url  \n",
       "count                                              136983  \n",
       "unique                                              27721  \n",
       "top     https://github.com/SonarSource/sonarqube/compa...  \n",
       "freq                                                  555  "
      ]
     },
     "execution_count": 10,
     "metadata": {},
     "output_type": "execute_result"
    }
   ],
   "source": [
    "jobs.describe(include = ['O'])"
   ]
  },
  {
   "cell_type": "markdown",
   "metadata": {},
   "source": [
    "* Number field seems to be so composed: buildnumber.numberofjob. It goes indeed from 1.1 to 39427.2\n",
    "* The majority of jobs have the passed state\n",
    "* \"Nightly build launched from the travis\" is the most popular commitmessage"
   ]
  },
  {
   "cell_type": "markdown",
   "metadata": {},
   "source": [
    "**Missing values**"
   ]
  },
  {
   "cell_type": "code",
   "execution_count": 11,
   "metadata": {
    "scrolled": true
   },
   "outputs": [
    {
     "data": {
      "text/plain": [
       "id                      0\n",
       "buildid                 0\n",
       "started_at           9876\n",
       "created_at              0\n",
       "finished_at             1\n",
       "number                  0\n",
       "state                   0\n",
       "updated_at              0\n",
       "commitsha               0\n",
       "commitid                0\n",
       "commitmessage           2\n",
       "commitref            3881\n",
       "commitcompare_url       0\n",
       "dtype: int64"
      ]
     },
     "execution_count": 11,
     "metadata": {},
     "output_type": "execute_result"
    }
   ],
   "source": [
    "jobs.isna().sum()"
   ]
  },
  {
   "cell_type": "markdown",
   "metadata": {},
   "source": [
    "* Started at has many NaN (to be investigated)\n",
    "* Finished at has 1 NaN (to be investigated)\n",
    "* Commit message and commit ref also present missing values"
   ]
  },
  {
   "cell_type": "markdown",
   "metadata": {},
   "source": [
    "### Time range"
   ]
  },
  {
   "cell_type": "code",
   "execution_count": 12,
   "metadata": {},
   "outputs": [
    {
     "data": {
      "text/plain": [
       "Timestamp('2015-03-17 15:04:32+0000', tz='UTC')"
      ]
     },
     "execution_count": 12,
     "metadata": {},
     "output_type": "execute_result"
    }
   ],
   "source": [
    "jobs.started_at.min()"
   ]
  },
  {
   "cell_type": "code",
   "execution_count": 13,
   "metadata": {},
   "outputs": [
    {
     "data": {
      "text/plain": [
       "Timestamp('2020-09-29 20:09:13+0000', tz='UTC')"
      ]
     },
     "execution_count": 13,
     "metadata": {},
     "output_type": "execute_result"
    }
   ],
   "source": [
    "jobs.started_at.max()"
   ]
  },
  {
   "cell_type": "markdown",
   "metadata": {},
   "source": [
    "These values are the same as the ones from builds which validates the dataset"
   ]
  },
  {
   "cell_type": "markdown",
   "metadata": {},
   "source": [
    "**Time distribution**"
   ]
  },
  {
   "cell_type": "code",
   "execution_count": 16,
   "metadata": {},
   "outputs": [],
   "source": [
    "jobs[\"started_at_day\"] = jobs.started_at.dt.day\n",
    "jobs[\"started_at_month\"] = jobs.started_at.dt.month\n",
    "jobs[\"started_at_year\"] = jobs.started_at.dt.year"
   ]
  },
  {
   "cell_type": "code",
   "execution_count": 26,
   "metadata": {},
   "outputs": [
    {
     "data": {
      "image/png": "[encoded data removed]",
      "text/plain": [
       "<Figure size 1080x360 with 1 Axes>"
      ]
     },
     "metadata": {
      "needs_background": "light"
     },
     "output_type": "display_data"
    }
   ],
   "source": [
    "plt.figure()\n",
    "time_group = [\"started_at_year\", \"started_at_month\"]\n",
    "x = jobs.groupby(time_group).id.count().reset_index().sort_values(by=time_group)\n",
    "ax = sns.barplot(x=x.index, y=x.id)\n",
    "ax.set_xticklabels(list(x.started_at_month.astype(int).astype(str) + \"/\" + x.started_at_year.astype(int).astype(str)),\n",
    "                  rotation=90)\n",
    "ax.axvline(x=36, label=\"Last build for Gradle migration\")\n",
    "ax.set(ylabel=\"Number of job ids\")\n",
    "plt.legend()\n",
    "plt.savefig(f\"{figure_folder}/jobs_over_time.png\", transparent=True, bbox_inches='tight', pad_inches=0.2)\n",
    "plt.show()"
   ]
  },
  {
   "cell_type": "markdown",
   "metadata": {},
   "source": [
    "There has been a decrease of number of jobs per month after 3/2018. This can possibly be due to the change identified in the builds dataset as well. The distribution is however different. There has been a decrease of number of jobs after the peak of 9/2015. Possibly this is due to new configuration of Travis which reduced the number of jobs per build."
   ]
  },
  {
   "cell_type": "markdown",
   "metadata": {},
   "source": [
    "### Commitref"
   ]
  },
  {
   "cell_type": "code",
   "execution_count": 16,
   "metadata": {},
   "outputs": [],
   "source": [
    "x = jobs[jobs.commitref.isna()]"
   ]
  },
  {
   "cell_type": "code",
   "execution_count": 17,
   "metadata": {},
   "outputs": [
    {
     "data": {
      "text/plain": [
       "Timestamp('2015-10-30 12:15:44+0000', tz='UTC')"
      ]
     },
     "execution_count": 17,
     "metadata": {},
     "output_type": "execute_result"
    }
   ],
   "source": [
    "x.started_at.min()"
   ]
  },
  {
   "cell_type": "code",
   "execution_count": 18,
   "metadata": {},
   "outputs": [
    {
     "data": {
      "text/plain": [
       "Timestamp('2017-05-23 19:34:46+0000', tz='UTC')"
      ]
     },
     "execution_count": 18,
     "metadata": {},
     "output_type": "execute_result"
    }
   ],
   "source": [
    "x.started_at.max()"
   ]
  },
  {
   "cell_type": "markdown",
   "metadata": {},
   "source": [
    "The lack of commitref seems to be confined between 10/2015 and 5/2017"
   ]
  },
  {
   "cell_type": "code",
   "execution_count": 19,
   "metadata": {},
   "outputs": [
    {
     "data": {
      "text/html": [
       "<div>\n",
       "<style scoped>\n",
       "    .dataframe tbody tr th:only-of-type {\n",
       "        vertical-align: middle;\n",
       "    }\n",
       "\n",
       "    .dataframe tbody tr th {\n",
       "        vertical-align: top;\n",
       "    }\n",
       "\n",
       "    .dataframe thead th {\n",
       "        text-align: right;\n",
       "    }\n",
       "</style>\n",
       "<table border=\"1\" class=\"dataframe\">\n",
       "  <thead>\n",
       "    <tr style=\"text-align: right;\">\n",
       "      <th></th>\n",
       "      <th>id</th>\n",
       "      <th>buildid</th>\n",
       "      <th>started_at</th>\n",
       "      <th>created_at</th>\n",
       "      <th>finished_at</th>\n",
       "      <th>number</th>\n",
       "      <th>state</th>\n",
       "      <th>updated_at</th>\n",
       "      <th>commitsha</th>\n",
       "      <th>commitid</th>\n",
       "      <th>commitmessage</th>\n",
       "      <th>commitref</th>\n",
       "      <th>commitcompare_url</th>\n",
       "      <th>started_at_day</th>\n",
       "      <th>started_at_month</th>\n",
       "      <th>started_at_year</th>\n",
       "    </tr>\n",
       "  </thead>\n",
       "  <tbody>\n",
       "    <tr>\n",
       "      <th>2308</th>\n",
       "      <td>146279261</td>\n",
       "      <td>146279260</td>\n",
       "      <td>2016-07-21 03:39:01+00:00</td>\n",
       "      <td>2016-07-21 03:24:49.043000+00:00</td>\n",
       "      <td>2016-07-21 04:15:09+00:00</td>\n",
       "      <td>12014.1</td>\n",
       "      <td>passed</td>\n",
       "      <td>2018-05-31T03:29:31.334Z</td>\n",
       "      <td>ca4b66297fe5350b67c3baa9cebf75841fda9dcd</td>\n",
       "      <td>41510230</td>\n",
       "      <td>Nightly build launched from the travis-schedul...</td>\n",
       "      <td>NaN</td>\n",
       "      <td>https://github.com/SonarSource/sonarqube/compa...</td>\n",
       "      <td>21.0</td>\n",
       "      <td>7.0</td>\n",
       "      <td>2016.0</td>\n",
       "    </tr>\n",
       "    <tr>\n",
       "      <th>2309</th>\n",
       "      <td>146279262</td>\n",
       "      <td>146279260</td>\n",
       "      <td>2016-07-21 03:39:56+00:00</td>\n",
       "      <td>2016-07-21 03:24:49.057000+00:00</td>\n",
       "      <td>2016-07-21 03:45:38+00:00</td>\n",
       "      <td>12014.2</td>\n",
       "      <td>passed</td>\n",
       "      <td>2018-05-31T03:29:31.432Z</td>\n",
       "      <td>ca4b66297fe5350b67c3baa9cebf75841fda9dcd</td>\n",
       "      <td>41510230</td>\n",
       "      <td>Nightly build launched from the travis-schedul...</td>\n",
       "      <td>NaN</td>\n",
       "      <td>https://github.com/SonarSource/sonarqube/compa...</td>\n",
       "      <td>21.0</td>\n",
       "      <td>7.0</td>\n",
       "      <td>2016.0</td>\n",
       "    </tr>\n",
       "    <tr>\n",
       "      <th>2398</th>\n",
       "      <td>146548710</td>\n",
       "      <td>146548709</td>\n",
       "      <td>2016-07-22 03:13:54+00:00</td>\n",
       "      <td>2016-07-22 03:13:45.357000+00:00</td>\n",
       "      <td>2016-07-22 03:47:13+00:00</td>\n",
       "      <td>12047.1</td>\n",
       "      <td>passed</td>\n",
       "      <td>2018-05-31T03:39:07.551Z</td>\n",
       "      <td>1bb0e1cfd1aa5f2de1d20d6d9a10af3803dde057</td>\n",
       "      <td>41589327</td>\n",
       "      <td>Nightly build launched from the travis-schedul...</td>\n",
       "      <td>NaN</td>\n",
       "      <td>https://api.github.com/repos/SonarSource/sonar...</td>\n",
       "      <td>22.0</td>\n",
       "      <td>7.0</td>\n",
       "      <td>2016.0</td>\n",
       "    </tr>\n",
       "    <tr>\n",
       "      <th>2399</th>\n",
       "      <td>146548711</td>\n",
       "      <td>146548709</td>\n",
       "      <td>2016-07-22 03:13:53+00:00</td>\n",
       "      <td>2016-07-22 03:13:45.375000+00:00</td>\n",
       "      <td>2016-07-22 03:20:02+00:00</td>\n",
       "      <td>12047.2</td>\n",
       "      <td>passed</td>\n",
       "      <td>2018-05-31T03:39:07.602Z</td>\n",
       "      <td>1bb0e1cfd1aa5f2de1d20d6d9a10af3803dde057</td>\n",
       "      <td>41589327</td>\n",
       "      <td>Nightly build launched from the travis-schedul...</td>\n",
       "      <td>NaN</td>\n",
       "      <td>https://api.github.com/repos/SonarSource/sonar...</td>\n",
       "      <td>22.0</td>\n",
       "      <td>7.0</td>\n",
       "      <td>2016.0</td>\n",
       "    </tr>\n",
       "    <tr>\n",
       "      <th>2442</th>\n",
       "      <td>146804543</td>\n",
       "      <td>146804542</td>\n",
       "      <td>2016-07-23 03:25:12+00:00</td>\n",
       "      <td>2016-07-23 03:19:27.981000+00:00</td>\n",
       "      <td>2016-07-23 03:58:42+00:00</td>\n",
       "      <td>12064.1</td>\n",
       "      <td>failed</td>\n",
       "      <td>2018-05-31T03:46:02.040Z</td>\n",
       "      <td>d6f3a7089e255bca1a286b980ff49b9a7d72c96b</td>\n",
       "      <td>41664745</td>\n",
       "      <td>Nightly build launched from the travis-schedul...</td>\n",
       "      <td>NaN</td>\n",
       "      <td>https://api.github.com/repos/SonarSource/sonar...</td>\n",
       "      <td>23.0</td>\n",
       "      <td>7.0</td>\n",
       "      <td>2016.0</td>\n",
       "    </tr>\n",
       "  </tbody>\n",
       "</table>\n",
       "</div>"
      ],
      "text/plain": [
       "             id    buildid                started_at  \\\n",
       "2308  146279261  146279260 2016-07-21 03:39:01+00:00   \n",
       "2309  146279262  146279260 2016-07-21 03:39:56+00:00   \n",
       "2398  146548710  146548709 2016-07-22 03:13:54+00:00   \n",
       "2399  146548711  146548709 2016-07-22 03:13:53+00:00   \n",
       "2442  146804543  146804542 2016-07-23 03:25:12+00:00   \n",
       "\n",
       "                           created_at               finished_at   number  \\\n",
       "2308 2016-07-21 03:24:49.043000+00:00 2016-07-21 04:15:09+00:00  12014.1   \n",
       "2309 2016-07-21 03:24:49.057000+00:00 2016-07-21 03:45:38+00:00  12014.2   \n",
       "2398 2016-07-22 03:13:45.357000+00:00 2016-07-22 03:47:13+00:00  12047.1   \n",
       "2399 2016-07-22 03:13:45.375000+00:00 2016-07-22 03:20:02+00:00  12047.2   \n",
       "2442 2016-07-23 03:19:27.981000+00:00 2016-07-23 03:58:42+00:00  12064.1   \n",
       "\n",
       "       state                updated_at  \\\n",
       "2308  passed  2018-05-31T03:29:31.334Z   \n",
       "2309  passed  2018-05-31T03:29:31.432Z   \n",
       "2398  passed  2018-05-31T03:39:07.551Z   \n",
       "2399  passed  2018-05-31T03:39:07.602Z   \n",
       "2442  failed  2018-05-31T03:46:02.040Z   \n",
       "\n",
       "                                     commitsha  commitid  \\\n",
       "2308  ca4b66297fe5350b67c3baa9cebf75841fda9dcd  41510230   \n",
       "2309  ca4b66297fe5350b67c3baa9cebf75841fda9dcd  41510230   \n",
       "2398  1bb0e1cfd1aa5f2de1d20d6d9a10af3803dde057  41589327   \n",
       "2399  1bb0e1cfd1aa5f2de1d20d6d9a10af3803dde057  41589327   \n",
       "2442  d6f3a7089e255bca1a286b980ff49b9a7d72c96b  41664745   \n",
       "\n",
       "                                          commitmessage commitref  \\\n",
       "2308  Nightly build launched from the travis-schedul...       NaN   \n",
       "2309  Nightly build launched from the travis-schedul...       NaN   \n",
       "2398  Nightly build launched from the travis-schedul...       NaN   \n",
       "2399  Nightly build launched from the travis-schedul...       NaN   \n",
       "2442  Nightly build launched from the travis-schedul...       NaN   \n",
       "\n",
       "                                      commitcompare_url  started_at_day  \\\n",
       "2308  https://github.com/SonarSource/sonarqube/compa...            21.0   \n",
       "2309  https://github.com/SonarSource/sonarqube/compa...            21.0   \n",
       "2398  https://api.github.com/repos/SonarSource/sonar...            22.0   \n",
       "2399  https://api.github.com/repos/SonarSource/sonar...            22.0   \n",
       "2442  https://api.github.com/repos/SonarSource/sonar...            23.0   \n",
       "\n",
       "      started_at_month  started_at_year  \n",
       "2308               7.0           2016.0  \n",
       "2309               7.0           2016.0  \n",
       "2398               7.0           2016.0  \n",
       "2399               7.0           2016.0  \n",
       "2442               7.0           2016.0  "
      ]
     },
     "execution_count": 19,
     "metadata": {},
     "output_type": "execute_result"
    }
   ],
   "source": [
    "jobs[jobs.commitref.isna()].head()"
   ]
  },
  {
   "cell_type": "code",
   "execution_count": 20,
   "metadata": {},
   "outputs": [
    {
     "data": {
      "text/plain": [
       "Nightly build launched from the travis-scheduler job on AppVeyor    2070\n",
       "Print memory and CPU info                                            555\n",
       "BUILD: fix travis install                                            275\n",
       "Merge branch 'test/dr/travis-premium-vms-mt' into test/tv/ramfs      230\n",
       "set ramdisk size to 3584m                                            225\n",
       "Name: commitmessage, dtype: int64"
      ]
     },
     "execution_count": 20,
     "metadata": {},
     "output_type": "execute_result"
    }
   ],
   "source": [
    "jobs[jobs.commitref.isna()].commitmessage.value_counts().head(5)"
   ]
  },
  {
   "cell_type": "markdown",
   "metadata": {},
   "source": [
    "Looking at some of these jobs and their commit messages did not help, other than showing that this may have something to do with experiments on travis (*Nightly build launched from the travis-scheduler job on AppVeyor* being the most common message). \n",
    "\n",
    "An explanation of what git refs are can be found [here](https://www.atlassian.com/git/tutorials/refs-and-the-reflog). They are a more human friendly way of referring to commits. Branches and tags are examples of git refs. A possible explanation for missing git refs is that builds have been triggered in a different way other than directly from github and therefore could not fetch the git ref."
   ]
  },
  {
   "cell_type": "code",
   "execution_count": 21,
   "metadata": {
    "scrolled": false
   },
   "outputs": [
    {
     "data": {
      "text/plain": [
       "count     3881\n",
       "unique       1\n",
       "top        api\n",
       "freq      3881\n",
       "Name: event_type, dtype: object"
      ]
     },
     "execution_count": 21,
     "metadata": {},
     "output_type": "execute_result"
    }
   ],
   "source": [
    "build_job[build_job.commitref.isna()].event_type.describe()"
   ]
  },
  {
   "cell_type": "markdown",
   "metadata": {},
   "source": [
    "Yes, indeed all missing values for gitref are due to builds triggered from the apis."
   ]
  },
  {
   "cell_type": "markdown",
   "metadata": {},
   "source": [
    "#### Merge requests"
   ]
  },
  {
   "cell_type": "code",
   "execution_count": 22,
   "metadata": {},
   "outputs": [
    {
     "data": {
      "text/html": [
       "<div>\n",
       "<style scoped>\n",
       "    .dataframe tbody tr th:only-of-type {\n",
       "        vertical-align: middle;\n",
       "    }\n",
       "\n",
       "    .dataframe tbody tr th {\n",
       "        vertical-align: top;\n",
       "    }\n",
       "\n",
       "    .dataframe thead th {\n",
       "        text-align: right;\n",
       "    }\n",
       "</style>\n",
       "<table border=\"1\" class=\"dataframe\">\n",
       "  <thead>\n",
       "    <tr style=\"text-align: right;\">\n",
       "      <th></th>\n",
       "      <th>id</th>\n",
       "      <th>buildid</th>\n",
       "      <th>started_at</th>\n",
       "      <th>created_at</th>\n",
       "      <th>finished_at</th>\n",
       "      <th>number</th>\n",
       "      <th>state</th>\n",
       "      <th>updated_at</th>\n",
       "      <th>commitsha</th>\n",
       "      <th>commitid</th>\n",
       "      <th>commitmessage</th>\n",
       "      <th>commitref</th>\n",
       "      <th>commitcompare_url</th>\n",
       "      <th>started_at_day</th>\n",
       "      <th>started_at_month</th>\n",
       "      <th>started_at_year</th>\n",
       "    </tr>\n",
       "  </thead>\n",
       "  <tbody>\n",
       "    <tr>\n",
       "      <th>4</th>\n",
       "      <td>241952045</td>\n",
       "      <td>241952044</td>\n",
       "      <td>2017-06-12 09:42:16+00:00</td>\n",
       "      <td>2017-06-12 09:32:59.994000+00:00</td>\n",
       "      <td>2017-06-12 09:53:48+00:00</td>\n",
       "      <td>25616.1</td>\n",
       "      <td>passed</td>\n",
       "      <td>2018-06-02T14:51:26.125Z</td>\n",
       "      <td>7358e9a93e47ac9fcaebe960c00ab8bd28e9890e</td>\n",
       "      <td>70183633</td>\n",
       "      <td>SONAR-9304 Add comments to make tests clearer</td>\n",
       "      <td>refs/pull/2104/merge</td>\n",
       "      <td>https://github.com/SonarSource/sonarqube/pull/...</td>\n",
       "      <td>12.0</td>\n",
       "      <td>6.0</td>\n",
       "      <td>2017.0</td>\n",
       "    </tr>\n",
       "    <tr>\n",
       "      <th>5</th>\n",
       "      <td>241952046</td>\n",
       "      <td>241952044</td>\n",
       "      <td>2017-06-12 09:42:15+00:00</td>\n",
       "      <td>2017-06-12 09:33:00.012000+00:00</td>\n",
       "      <td>2017-06-12 09:46:56+00:00</td>\n",
       "      <td>25616.2</td>\n",
       "      <td>passed</td>\n",
       "      <td>2018-06-02T14:51:26.134Z</td>\n",
       "      <td>7358e9a93e47ac9fcaebe960c00ab8bd28e9890e</td>\n",
       "      <td>70183633</td>\n",
       "      <td>SONAR-9304 Add comments to make tests clearer</td>\n",
       "      <td>refs/pull/2104/merge</td>\n",
       "      <td>https://github.com/SonarSource/sonarqube/pull/...</td>\n",
       "      <td>12.0</td>\n",
       "      <td>6.0</td>\n",
       "      <td>2017.0</td>\n",
       "    </tr>\n",
       "    <tr>\n",
       "      <th>10</th>\n",
       "      <td>241956742</td>\n",
       "      <td>241956741</td>\n",
       "      <td>2017-06-12 09:50:26+00:00</td>\n",
       "      <td>2017-06-12 09:48:54.652000+00:00</td>\n",
       "      <td>2017-06-12 10:01:41+00:00</td>\n",
       "      <td>25619.1</td>\n",
       "      <td>passed</td>\n",
       "      <td>2018-06-02T14:51:48.061Z</td>\n",
       "      <td>0110c87fd42c510bb2c2f7a274d654a9fb07fb29</td>\n",
       "      <td>70185025</td>\n",
       "      <td>SONAR-9363 Create a step to choose the technology</td>\n",
       "      <td>refs/pull/2137/merge</td>\n",
       "      <td>https://github.com/SonarSource/sonarqube/pull/...</td>\n",
       "      <td>12.0</td>\n",
       "      <td>6.0</td>\n",
       "      <td>2017.0</td>\n",
       "    </tr>\n",
       "    <tr>\n",
       "      <th>11</th>\n",
       "      <td>241956743</td>\n",
       "      <td>241956741</td>\n",
       "      <td>2017-06-12 09:50:05+00:00</td>\n",
       "      <td>2017-06-12 09:48:54.668000+00:00</td>\n",
       "      <td>2017-06-12 09:56:17+00:00</td>\n",
       "      <td>25619.2</td>\n",
       "      <td>passed</td>\n",
       "      <td>2018-06-02T14:51:48.184Z</td>\n",
       "      <td>0110c87fd42c510bb2c2f7a274d654a9fb07fb29</td>\n",
       "      <td>70185025</td>\n",
       "      <td>SONAR-9363 Create a step to choose the technology</td>\n",
       "      <td>refs/pull/2137/merge</td>\n",
       "      <td>https://github.com/SonarSource/sonarqube/pull/...</td>\n",
       "      <td>12.0</td>\n",
       "      <td>6.0</td>\n",
       "      <td>2017.0</td>\n",
       "    </tr>\n",
       "    <tr>\n",
       "      <th>16</th>\n",
       "      <td>241974655</td>\n",
       "      <td>241974654</td>\n",
       "      <td>2017-06-12 10:51:36+00:00</td>\n",
       "      <td>2017-06-12 10:50:32.392000+00:00</td>\n",
       "      <td>2017-06-12 11:07:10+00:00</td>\n",
       "      <td>25622.1</td>\n",
       "      <td>passed</td>\n",
       "      <td>2018-06-02T14:52:14.919Z</td>\n",
       "      <td>baf18566bc2af9cab1c72b851ce9e08d3714c731</td>\n",
       "      <td>70190644</td>\n",
       "      <td>UI: SONAR-9355 Create onboarding tutorial (#2137)</td>\n",
       "      <td>refs/pull/2133/merge</td>\n",
       "      <td>https://github.com/SonarSource/sonarqube/pull/...</td>\n",
       "      <td>12.0</td>\n",
       "      <td>6.0</td>\n",
       "      <td>2017.0</td>\n",
       "    </tr>\n",
       "    <tr>\n",
       "      <th>...</th>\n",
       "      <td>...</td>\n",
       "      <td>...</td>\n",
       "      <td>...</td>\n",
       "      <td>...</td>\n",
       "      <td>...</td>\n",
       "      <td>...</td>\n",
       "      <td>...</td>\n",
       "      <td>...</td>\n",
       "      <td>...</td>\n",
       "      <td>...</td>\n",
       "      <td>...</td>\n",
       "      <td>...</td>\n",
       "      <td>...</td>\n",
       "      <td>...</td>\n",
       "      <td>...</td>\n",
       "      <td>...</td>\n",
       "    </tr>\n",
       "    <tr>\n",
       "      <th>136972</th>\n",
       "      <td>315405756</td>\n",
       "      <td>315405752</td>\n",
       "      <td>2017-12-12 15:12:33+00:00</td>\n",
       "      <td>2017-12-12 15:10:55.648000+00:00</td>\n",
       "      <td>2017-12-12 15:15:50+00:00</td>\n",
       "      <td>34808.2</td>\n",
       "      <td>passed</td>\n",
       "      <td>2018-06-03T16:57:40.899Z</td>\n",
       "      <td>d5d89b2374ccc4cb60fabf479ad884ff25936dd1</td>\n",
       "      <td>93640716</td>\n",
       "      <td>Fix unit test</td>\n",
       "      <td>refs/pull/2866/merge</td>\n",
       "      <td>https://github.com/SonarSource/sonarqube/pull/...</td>\n",
       "      <td>12.0</td>\n",
       "      <td>12.0</td>\n",
       "      <td>2017.0</td>\n",
       "    </tr>\n",
       "    <tr>\n",
       "      <th>136977</th>\n",
       "      <td>315411336</td>\n",
       "      <td>315411335</td>\n",
       "      <td>2017-12-12 15:23:11+00:00</td>\n",
       "      <td>2017-12-12 15:22:41.077000+00:00</td>\n",
       "      <td>2017-12-12 15:40:32+00:00</td>\n",
       "      <td>34811.1</td>\n",
       "      <td>passed</td>\n",
       "      <td>2018-06-03T16:57:36.963Z</td>\n",
       "      <td>abd0650045b3fcc95ac8459a6fc2450a1bd889c0</td>\n",
       "      <td>93642638</td>\n",
       "      <td>SONAR-10134 Fix ITs on quality gates by settin...</td>\n",
       "      <td>refs/pull/2866/merge</td>\n",
       "      <td>https://github.com/SonarSource/sonarqube/pull/...</td>\n",
       "      <td>12.0</td>\n",
       "      <td>12.0</td>\n",
       "      <td>2017.0</td>\n",
       "    </tr>\n",
       "    <tr>\n",
       "      <th>136978</th>\n",
       "      <td>315411337</td>\n",
       "      <td>315411335</td>\n",
       "      <td>2017-12-12 15:23:15+00:00</td>\n",
       "      <td>2017-12-12 15:22:41.091000+00:00</td>\n",
       "      <td>2017-12-12 15:26:39+00:00</td>\n",
       "      <td>34811.2</td>\n",
       "      <td>passed</td>\n",
       "      <td>2018-06-03T16:57:36.971Z</td>\n",
       "      <td>abd0650045b3fcc95ac8459a6fc2450a1bd889c0</td>\n",
       "      <td>93642638</td>\n",
       "      <td>SONAR-10134 Fix ITs on quality gates by settin...</td>\n",
       "      <td>refs/pull/2866/merge</td>\n",
       "      <td>https://github.com/SonarSource/sonarqube/pull/...</td>\n",
       "      <td>12.0</td>\n",
       "      <td>12.0</td>\n",
       "      <td>2017.0</td>\n",
       "    </tr>\n",
       "    <tr>\n",
       "      <th>136981</th>\n",
       "      <td>315421147</td>\n",
       "      <td>315421146</td>\n",
       "      <td>2017-12-12 15:43:25+00:00</td>\n",
       "      <td>2017-12-12 15:42:40.583000+00:00</td>\n",
       "      <td>2017-12-12 16:01:05+00:00</td>\n",
       "      <td>34813.1</td>\n",
       "      <td>passed</td>\n",
       "      <td>2018-06-03T16:57:47.837Z</td>\n",
       "      <td>a5005e0ca38a67e7d70c255154990ed10be31020</td>\n",
       "      <td>93645838</td>\n",
       "      <td>SONAR-10187 Provide more options to populate e...</td>\n",
       "      <td>refs/pull/2895/merge</td>\n",
       "      <td>https://github.com/SonarSource/sonarqube/pull/...</td>\n",
       "      <td>12.0</td>\n",
       "      <td>12.0</td>\n",
       "      <td>2017.0</td>\n",
       "    </tr>\n",
       "    <tr>\n",
       "      <th>136982</th>\n",
       "      <td>315421148</td>\n",
       "      <td>315421146</td>\n",
       "      <td>2017-12-12 15:43:23+00:00</td>\n",
       "      <td>2017-12-12 15:42:40.646000+00:00</td>\n",
       "      <td>2017-12-12 15:46:39+00:00</td>\n",
       "      <td>34813.2</td>\n",
       "      <td>passed</td>\n",
       "      <td>2018-06-03T16:57:47.977Z</td>\n",
       "      <td>a5005e0ca38a67e7d70c255154990ed10be31020</td>\n",
       "      <td>93645838</td>\n",
       "      <td>SONAR-10187 Provide more options to populate e...</td>\n",
       "      <td>refs/pull/2895/merge</td>\n",
       "      <td>https://github.com/SonarSource/sonarqube/pull/...</td>\n",
       "      <td>12.0</td>\n",
       "      <td>12.0</td>\n",
       "      <td>2017.0</td>\n",
       "    </tr>\n",
       "  </tbody>\n",
       "</table>\n",
       "<p>39983 rows × 16 columns</p>\n",
       "</div>"
      ],
      "text/plain": [
       "               id    buildid                started_at  \\\n",
       "4       241952045  241952044 2017-06-12 09:42:16+00:00   \n",
       "5       241952046  241952044 2017-06-12 09:42:15+00:00   \n",
       "10      241956742  241956741 2017-06-12 09:50:26+00:00   \n",
       "11      241956743  241956741 2017-06-12 09:50:05+00:00   \n",
       "16      241974655  241974654 2017-06-12 10:51:36+00:00   \n",
       "...           ...        ...                       ...   \n",
       "136972  315405756  315405752 2017-12-12 15:12:33+00:00   \n",
       "136977  315411336  315411335 2017-12-12 15:23:11+00:00   \n",
       "136978  315411337  315411335 2017-12-12 15:23:15+00:00   \n",
       "136981  315421147  315421146 2017-12-12 15:43:25+00:00   \n",
       "136982  315421148  315421146 2017-12-12 15:43:23+00:00   \n",
       "\n",
       "                             created_at               finished_at   number  \\\n",
       "4      2017-06-12 09:32:59.994000+00:00 2017-06-12 09:53:48+00:00  25616.1   \n",
       "5      2017-06-12 09:33:00.012000+00:00 2017-06-12 09:46:56+00:00  25616.2   \n",
       "10     2017-06-12 09:48:54.652000+00:00 2017-06-12 10:01:41+00:00  25619.1   \n",
       "11     2017-06-12 09:48:54.668000+00:00 2017-06-12 09:56:17+00:00  25619.2   \n",
       "16     2017-06-12 10:50:32.392000+00:00 2017-06-12 11:07:10+00:00  25622.1   \n",
       "...                                 ...                       ...      ...   \n",
       "136972 2017-12-12 15:10:55.648000+00:00 2017-12-12 15:15:50+00:00  34808.2   \n",
       "136977 2017-12-12 15:22:41.077000+00:00 2017-12-12 15:40:32+00:00  34811.1   \n",
       "136978 2017-12-12 15:22:41.091000+00:00 2017-12-12 15:26:39+00:00  34811.2   \n",
       "136981 2017-12-12 15:42:40.583000+00:00 2017-12-12 16:01:05+00:00  34813.1   \n",
       "136982 2017-12-12 15:42:40.646000+00:00 2017-12-12 15:46:39+00:00  34813.2   \n",
       "\n",
       "         state                updated_at  \\\n",
       "4       passed  2018-06-02T14:51:26.125Z   \n",
       "5       passed  2018-06-02T14:51:26.134Z   \n",
       "10      passed  2018-06-02T14:51:48.061Z   \n",
       "11      passed  2018-06-02T14:51:48.184Z   \n",
       "16      passed  2018-06-02T14:52:14.919Z   \n",
       "...        ...                       ...   \n",
       "136972  passed  2018-06-03T16:57:40.899Z   \n",
       "136977  passed  2018-06-03T16:57:36.963Z   \n",
       "136978  passed  2018-06-03T16:57:36.971Z   \n",
       "136981  passed  2018-06-03T16:57:47.837Z   \n",
       "136982  passed  2018-06-03T16:57:47.977Z   \n",
       "\n",
       "                                       commitsha  commitid  \\\n",
       "4       7358e9a93e47ac9fcaebe960c00ab8bd28e9890e  70183633   \n",
       "5       7358e9a93e47ac9fcaebe960c00ab8bd28e9890e  70183633   \n",
       "10      0110c87fd42c510bb2c2f7a274d654a9fb07fb29  70185025   \n",
       "11      0110c87fd42c510bb2c2f7a274d654a9fb07fb29  70185025   \n",
       "16      baf18566bc2af9cab1c72b851ce9e08d3714c731  70190644   \n",
       "...                                          ...       ...   \n",
       "136972  d5d89b2374ccc4cb60fabf479ad884ff25936dd1  93640716   \n",
       "136977  abd0650045b3fcc95ac8459a6fc2450a1bd889c0  93642638   \n",
       "136978  abd0650045b3fcc95ac8459a6fc2450a1bd889c0  93642638   \n",
       "136981  a5005e0ca38a67e7d70c255154990ed10be31020  93645838   \n",
       "136982  a5005e0ca38a67e7d70c255154990ed10be31020  93645838   \n",
       "\n",
       "                                            commitmessage  \\\n",
       "4           SONAR-9304 Add comments to make tests clearer   \n",
       "5           SONAR-9304 Add comments to make tests clearer   \n",
       "10      SONAR-9363 Create a step to choose the technology   \n",
       "11      SONAR-9363 Create a step to choose the technology   \n",
       "16      UI: SONAR-9355 Create onboarding tutorial (#2137)   \n",
       "...                                                   ...   \n",
       "136972                                      Fix unit test   \n",
       "136977  SONAR-10134 Fix ITs on quality gates by settin...   \n",
       "136978  SONAR-10134 Fix ITs on quality gates by settin...   \n",
       "136981  SONAR-10187 Provide more options to populate e...   \n",
       "136982  SONAR-10187 Provide more options to populate e...   \n",
       "\n",
       "                   commitref  \\\n",
       "4       refs/pull/2104/merge   \n",
       "5       refs/pull/2104/merge   \n",
       "10      refs/pull/2137/merge   \n",
       "11      refs/pull/2137/merge   \n",
       "16      refs/pull/2133/merge   \n",
       "...                      ...   \n",
       "136972  refs/pull/2866/merge   \n",
       "136977  refs/pull/2866/merge   \n",
       "136978  refs/pull/2866/merge   \n",
       "136981  refs/pull/2895/merge   \n",
       "136982  refs/pull/2895/merge   \n",
       "\n",
       "                                        commitcompare_url  started_at_day  \\\n",
       "4       https://github.com/SonarSource/sonarqube/pull/...            12.0   \n",
       "5       https://github.com/SonarSource/sonarqube/pull/...            12.0   \n",
       "10      https://github.com/SonarSource/sonarqube/pull/...            12.0   \n",
       "11      https://github.com/SonarSource/sonarqube/pull/...            12.0   \n",
       "16      https://github.com/SonarSource/sonarqube/pull/...            12.0   \n",
       "...                                                   ...             ...   \n",
       "136972  https://github.com/SonarSource/sonarqube/pull/...            12.0   \n",
       "136977  https://github.com/SonarSource/sonarqube/pull/...            12.0   \n",
       "136978  https://github.com/SonarSource/sonarqube/pull/...            12.0   \n",
       "136981  https://github.com/SonarSource/sonarqube/pull/...            12.0   \n",
       "136982  https://github.com/SonarSource/sonarqube/pull/...            12.0   \n",
       "\n",
       "        started_at_month  started_at_year  \n",
       "4                    6.0           2017.0  \n",
       "5                    6.0           2017.0  \n",
       "10                   6.0           2017.0  \n",
       "11                   6.0           2017.0  \n",
       "16                   6.0           2017.0  \n",
       "...                  ...              ...  \n",
       "136972              12.0           2017.0  \n",
       "136977              12.0           2017.0  \n",
       "136978              12.0           2017.0  \n",
       "136981              12.0           2017.0  \n",
       "136982              12.0           2017.0  \n",
       "\n",
       "[39983 rows x 16 columns]"
      ]
     },
     "execution_count": 22,
     "metadata": {},
     "output_type": "execute_result"
    }
   ],
   "source": [
    "jobs[jobs.commitref.str.contains(\"merge\").fillna(False)]"
   ]
  },
  {
   "cell_type": "markdown",
   "metadata": {},
   "source": [
    "### Most common commit message"
   ]
  },
  {
   "cell_type": "code",
   "execution_count": 23,
   "metadata": {},
   "outputs": [
    {
     "data": {
      "text/plain": [
       "'Nightly build launched from the travis-scheduler job on AppVeyor'"
      ]
     },
     "execution_count": 23,
     "metadata": {},
     "output_type": "execute_result"
    }
   ],
   "source": [
    "jobs.commitmessage.mode()[0]"
   ]
  },
  {
   "cell_type": "code",
   "execution_count": 24,
   "metadata": {},
   "outputs": [
    {
     "data": {
      "text/plain": [
       "Timestamp('2015-10-30 12:15:44+0000', tz='UTC')"
      ]
     },
     "execution_count": 24,
     "metadata": {},
     "output_type": "execute_result"
    }
   ],
   "source": [
    "jobs[jobs.commitmessage==jobs.commitmessage.mode()[0]].started_at.min()"
   ]
  },
  {
   "cell_type": "code",
   "execution_count": 25,
   "metadata": {},
   "outputs": [
    {
     "data": {
      "text/plain": [
       "Timestamp('2016-10-11 03:13:39+0000', tz='UTC')"
      ]
     },
     "execution_count": 25,
     "metadata": {},
     "output_type": "execute_result"
    }
   ],
   "source": [
    "jobs[jobs.commitmessage==jobs.commitmessage.mode()[0]].started_at.max()"
   ]
  },
  {
   "cell_type": "code",
   "execution_count": 26,
   "metadata": {
    "scrolled": true
   },
   "outputs": [
    {
     "data": {
      "image/png": "[encoded data removed]",
      "text/plain": [
       "<Figure size 1080x360 with 1 Axes>"
      ]
     },
     "metadata": {
      "needs_background": "light"
     },
     "output_type": "display_data"
    }
   ],
   "source": [
    "time_group = [\"started_at_year\", \"started_at_month\"]\n",
    "x = jobs.groupby(time_group).id.count().reset_index().sort_values(by=time_group)\n",
    "ax = sns.barplot(x=x.index, y=x.id)\n",
    "ax.set_xticklabels(list(x.started_at_month.astype(int).astype(str) + \"/\" + x.started_at_year.astype(int).astype(str)),\n",
    "                  rotation=90)\n",
    "min_date = jobs[jobs.commitmessage==jobs.commitmessage.mode()[0]].started_at.min()\n",
    "max_date = jobs[jobs.commitmessage==jobs.commitmessage.mode()[0]].started_at.max()\n",
    "plt.axvline(7, 0, 10, color=\"r\")\n",
    "plt.axvline(19, 0, 10, color=\"r\")\n",
    "plt.show()"
   ]
  },
  {
   "cell_type": "markdown",
   "metadata": {},
   "source": [
    "The influence of the commitmessage on the number of builds does not seem to be clear"
   ]
  },
  {
   "cell_type": "code",
   "execution_count": 27,
   "metadata": {},
   "outputs": [
    {
     "data": {
      "text/plain": [
       "219"
      ]
     },
     "execution_count": 27,
     "metadata": {},
     "output_type": "execute_result"
    }
   ],
   "source": [
    "jobs[jobs.commitmessage==jobs.commitmessage.mode()[0]].commitsha.nunique()"
   ]
  },
  {
   "cell_type": "code",
   "execution_count": 28,
   "metadata": {},
   "outputs": [
    {
     "data": {
      "text/plain": [
       "0"
      ]
     },
     "execution_count": 28,
     "metadata": {},
     "output_type": "execute_result"
    }
   ],
   "source": [
    "jobs[jobs.commitmessage==jobs.commitmessage.mode()[0]].commitref.nunique()"
   ]
  },
  {
   "cell_type": "markdown",
   "metadata": {},
   "source": [
    "This commit message is associated with 219 unique sha but no commitref. From previous investigation on commitref we know that this means builds triggered via APIs. *Nightly builds launched from the travis-scheduler job* seems to have been a recursive build."
   ]
  },
  {
   "cell_type": "markdown",
   "metadata": {},
   "source": [
    "### Number of jobs per build"
   ]
  },
  {
   "cell_type": "markdown",
   "metadata": {},
   "source": [
    "**Average**"
   ]
  },
  {
   "cell_type": "code",
   "execution_count": 27,
   "metadata": {},
   "outputs": [
    {
     "data": {
      "image/png": "[encoded data removed]",
      "text/plain": [
       "<Figure size 1080x360 with 1 Axes>"
      ]
     },
     "metadata": {
      "needs_background": "light"
     },
     "output_type": "display_data"
    }
   ],
   "source": [
    "plt.figure()\n",
    "time_group = [\"started_at_year_build\", \"started_at_month_build\"]\n",
    "x = build_job.groupby([\"id_build\"] + time_group).id_job.count().reset_index()\\\n",
    "    .groupby(time_group).mean().reset_index().sort_values(by=time_group)\n",
    "ax = sns.barplot(x=x.index, y=x.id_job)\n",
    "ax.set(ylabel=\"Average number of jobs per build\")\n",
    "ax.set_xticklabels(list(x[time_group[1]].astype(int).astype(str) + \"/\" + x[time_group[0]].astype(int).astype(str)),\n",
    "                  rotation=90)\n",
    "plt.savefig(f\"{figure_folder}/jobs_per_build_mean.png\", transparent=True, bbox_inches='tight', pad_inches=0.2)\n",
    "plt.show()"
   ]
  },
  {
   "cell_type": "markdown",
   "metadata": {},
   "source": [
    "**Maximum**"
   ]
  },
  {
   "cell_type": "code",
   "execution_count": 23,
   "metadata": {
    "scrolled": false
   },
   "outputs": [
    {
     "data": {
      "image/png": "[encoded data removed]",
      "text/plain": [
       "<Figure size 1080x360 with 1 Axes>"
      ]
     },
     "metadata": {
      "needs_background": "light"
     },
     "output_type": "display_data"
    }
   ],
   "source": [
    "time_group = [\"started_at_year_build\", \"started_at_month_build\"]\n",
    "x = build_job.groupby([\"id_build\"] + time_group).id_job.count().reset_index()\\\n",
    "    .groupby(time_group).max().reset_index().sort_values(by=time_group)\n",
    "ax = sns.barplot(x=x.index, y=x.id_job)\n",
    "ax.set_xticklabels(list(x[time_group[1]].astype(int).astype(str) + \"/\" + x[time_group[0]].astype(int).astype(str)),\n",
    "                  rotation=90)\n",
    "plt.show()"
   ]
  },
  {
   "cell_type": "markdown",
   "metadata": {},
   "source": [
    "**Minimum**"
   ]
  },
  {
   "cell_type": "code",
   "execution_count": 24,
   "metadata": {},
   "outputs": [
    {
     "data": {
      "image/png": "[encoded data removed]",
      "text/plain": [
       "<Figure size 1080x360 with 1 Axes>"
      ]
     },
     "metadata": {
      "needs_background": "light"
     },
     "output_type": "display_data"
    }
   ],
   "source": [
    "time_group = [\"started_at_year_build\", \"started_at_month_build\"]\n",
    "x = build_job.groupby([\"id_build\"] + time_group).id_job.count().reset_index()\\\n",
    "    .groupby(time_group).min().reset_index().sort_values(by=time_group)\n",
    "ax = sns.barplot(x=x.index, y=x.id_job)\n",
    "ax.set_xticklabels(list(x[time_group[1]].astype(int).astype(str) + \"/\" + x[time_group[0]].astype(int).astype(str)),\n",
    "                  rotation=90)\n",
    "plt.show()"
   ]
  },
  {
   "cell_type": "markdown",
   "metadata": {},
   "source": [
    "* The average number of jobs per build has not been constant througout the years. It has been however stable around 2 after 7/2016. \n",
    "*Minimum values show similar behavior, somewhat stabilizing after 7/2016 \n",
    "* Maximum stabilizes a bit later, after 5/2017."
   ]
  },
  {
   "cell_type": "markdown",
   "metadata": {},
   "source": [
    "### State"
   ]
  },
  {
   "cell_type": "code",
   "execution_count": 28,
   "metadata": {},
   "outputs": [
    {
     "name": "stderr",
     "output_type": "stream",
     "text": [
      "/Users/alexincerti/Library/Python/3.8/lib/python/site-packages/seaborn/_decorators.py:36: FutureWarning: Pass the following variable as a keyword arg: x. From version 0.12, the only valid positional argument will be `data`, and passing other arguments without an explicit keyword will result in an error or misinterpretation.\n",
      "  warnings.warn(\n"
     ]
    },
    {
     "data": {
      "text/plain": [
       "<AxesSubplot:xlabel='state', ylabel='count'>"
      ]
     },
     "execution_count": 28,
     "metadata": {},
     "output_type": "execute_result"
    },
    {
     "data": {
      "image/png": "[encoded data removed]",
      "text/plain": [
       "<Figure size 1080x360 with 1 Axes>"
      ]
     },
     "metadata": {
      "needs_background": "light"
     },
     "output_type": "display_data"
    }
   ],
   "source": [
    "sns.countplot(jobs.state)"
   ]
  },
  {
   "cell_type": "code",
   "execution_count": 29,
   "metadata": {
    "scrolled": false
   },
   "outputs": [
    {
     "data": {
      "image/png": "[encoded data removed]",
      "text/plain": [
       "<Figure size 1440x1080 with 4 Axes>"
      ]
     },
     "metadata": {
      "needs_background": "light"
     },
     "output_type": "display_data"
    }
   ],
   "source": [
    "time_group = [\"started_at_year\", \"started_at_month\"]\n",
    "f, axes = plt.subplots(jobs.state.nunique(), 1, sharex=True, figsize=(20,15))\n",
    "for i, state in enumerate(jobs.state.unique()):\n",
    "    x = jobs[jobs.state == state].groupby(time_group).count().reset_index()\n",
    "    ax = sns.barplot(x=x.index, y=x.state, ax=axes[i])\n",
    "    ax.set_xticklabels(list(x[time_group[1]].astype(int).astype(str) + \"/\" + x[time_group[0]].astype(int).astype(str)),\n",
    "                  rotation=90)\n",
    "    ax.set_title(state)"
   ]
  },
  {
   "cell_type": "markdown",
   "metadata": {},
   "source": [
    "* Canceled and errored seems to have almost dissapeared after x\n",
    "* Canceled have had a spike right before x, maybe a sign of changes in the CI process"
   ]
  },
  {
   "cell_type": "markdown",
   "metadata": {},
   "source": [
    "### Time"
   ]
  },
  {
   "cell_type": "markdown",
   "metadata": {},
   "source": [
    "**Started_at missing values**"
   ]
  },
  {
   "cell_type": "code",
   "execution_count": 32,
   "metadata": {},
   "outputs": [
    {
     "data": {
      "text/plain": [
       "canceled    9865\n",
       "passed         8\n",
       "failed         2\n",
       "errored        1\n",
       "Name: state, dtype: int64"
      ]
     },
     "execution_count": 32,
     "metadata": {},
     "output_type": "execute_result"
    }
   ],
   "source": [
    "jobs[jobs.started_at.isna()].state.value_counts()"
   ]
  },
  {
   "cell_type": "code",
   "execution_count": 31,
   "metadata": {},
   "outputs": [
    {
     "data": {
      "text/plain": [
       "0.9988861887403807"
      ]
     },
     "execution_count": 31,
     "metadata": {},
     "output_type": "execute_result"
    }
   ],
   "source": [
    "9865/9876"
   ]
  },
  {
   "cell_type": "code",
   "execution_count": null,
   "metadata": {},
   "outputs": [],
   "source": [
    "build_job[(build_job.started_at_job.isna()) & (build_job.state_job != \"canceled\")]"
   ]
  },
  {
   "cell_type": "markdown",
   "metadata": {},
   "source": [
    "* The started_at missing values are mainly due to canceled jobs (9865/9676)\n",
    "* In the remaining ones with NaN started_at it is not clear what may have caused this missing value. Some of the builds associated also are missing the started_at field (all in failed state), not all though.\n",
    "* It is therefore not clear how to address these missing values, and if they are errors or should be kept as they are"
   ]
  },
  {
   "cell_type": "markdown",
   "metadata": {},
   "source": [
    "**Finished_at missing values**"
   ]
  },
  {
   "cell_type": "code",
   "execution_count": null,
   "metadata": {
    "scrolled": true
   },
   "outputs": [],
   "source": [
    "jobs[jobs.finished_at.isna()]"
   ]
  },
  {
   "cell_type": "markdown",
   "metadata": {},
   "source": [
    "* The only finished_at missing value is a canceled job. This may be the reason"
   ]
  },
  {
   "cell_type": "markdown",
   "metadata": {},
   "source": [
    "**Started_at and created_at difference**"
   ]
  },
  {
   "cell_type": "markdown",
   "metadata": {},
   "source": [
    "Does started_at come before created_at?"
   ]
  },
  {
   "cell_type": "code",
   "execution_count": null,
   "metadata": {},
   "outputs": [],
   "source": [
    "jobs[\"started_created_difference_seconds\"] = (jobs.started_at - jobs.created_at) / np.timedelta64(1, 's')"
   ]
  },
  {
   "cell_type": "code",
   "execution_count": null,
   "metadata": {},
   "outputs": [],
   "source": [
    "(jobs.started_created_difference_seconds < 0).sum()"
   ]
  },
  {
   "cell_type": "code",
   "execution_count": null,
   "metadata": {},
   "outputs": [],
   "source": [
    "(jobs.started_created_difference_seconds > 0).sum()"
   ]
  },
  {
   "cell_type": "code",
   "execution_count": null,
   "metadata": {},
   "outputs": [],
   "source": [
    "(jobs.started_created_difference_seconds == 0).sum()"
   ]
  },
  {
   "cell_type": "markdown",
   "metadata": {},
   "source": [
    "In 126661 cases, jobs are created first and then started."
   ]
  },
  {
   "cell_type": "code",
   "execution_count": null,
   "metadata": {
    "scrolled": true
   },
   "outputs": [],
   "source": [
    "sns.boxplot(jobs.started_created_difference_seconds)"
   ]
  },
  {
   "cell_type": "markdown",
   "metadata": {},
   "source": [
    "**Highest difference job**"
   ]
  },
  {
   "cell_type": "code",
   "execution_count": null,
   "metadata": {},
   "outputs": [],
   "source": [
    "jobs.loc[jobs.started_created_difference_seconds.idxmax()]"
   ]
  },
  {
   "cell_type": "code",
   "execution_count": null,
   "metadata": {},
   "outputs": [],
   "source": [
    "jobs[jobs.started_created_difference_seconds> 1000000].commitref.unique()"
   ]
  },
  {
   "cell_type": "code",
   "execution_count": null,
   "metadata": {},
   "outputs": [],
   "source": [
    "jobs[jobs.started_created_difference_seconds> 1000000].commitsha.unique()"
   ]
  },
  {
   "cell_type": "markdown",
   "metadata": {},
   "source": [
    "**Distribution of outliers of started-created timestamps**"
   ]
  },
  {
   "cell_type": "code",
   "execution_count": null,
   "metadata": {},
   "outputs": [],
   "source": [
    "outlier_thredshold = boxplot_stats(jobs.started_created_difference_seconds.dropna())[0][\"fliers\"].min()"
   ]
  },
  {
   "cell_type": "code",
   "execution_count": null,
   "metadata": {},
   "outputs": [],
   "source": [
    "started_created_positive_ourliers = jobs[jobs.started_created_difference_seconds >= outlier_thredshold]"
   ]
  },
  {
   "cell_type": "markdown",
   "metadata": {},
   "source": [
    "**Positive difference outliers**"
   ]
  },
  {
   "cell_type": "code",
   "execution_count": null,
   "metadata": {},
   "outputs": [],
   "source": [
    "sns.countplot(started_created_positive_ourliers.state)"
   ]
  },
  {
   "cell_type": "markdown",
   "metadata": {},
   "source": [
    "**Negative difference outliers**"
   ]
  },
  {
   "cell_type": "code",
   "execution_count": null,
   "metadata": {
    "scrolled": true
   },
   "outputs": [],
   "source": [
    "sns.distplot(started_created_negative_ourliers.started_created_difference_seconds)"
   ]
  },
  {
   "cell_type": "code",
   "execution_count": null,
   "metadata": {},
   "outputs": [],
   "source": [
    "jobs[jobs.started_created_difference_seconds < 8].head()"
   ]
  },
  {
   "cell_type": "code",
   "execution_count": null,
   "metadata": {
    "scrolled": true
   },
   "outputs": [],
   "source": [
    "started_created_negative_ourliers = jobs[jobs.started_created_difference_seconds < 0]\n",
    "sns.countplot(started_created_negative_ourliers.state)"
   ]
  },
  {
   "cell_type": "markdown",
   "metadata": {},
   "source": [
    "* The distribution presents outliers\n",
    "* Some of the positive outliers (where started > created) present very high values (>1000000). They seem to affect only few specific commit messages and refs: maybe these tasks have been deprioritized and long lasting jobs which had to wait for all the other prioritized jobs to run\n",
    "* Negative outliers range from -15 to close to 0 seconds. This may be due to a small TravisCI delay in registering the job as created before starting it"
   ]
  },
  {
   "cell_type": "markdown",
   "metadata": {},
   "source": [
    "### Job duration"
   ]
  },
  {
   "cell_type": "code",
   "execution_count": 30,
   "metadata": {},
   "outputs": [],
   "source": [
    "jobs[\"started_finished_difference_seconds\"] = (jobs.finished_at - jobs.started_at) / np.timedelta64(1, 's')"
   ]
  },
  {
   "cell_type": "code",
   "execution_count": 31,
   "metadata": {},
   "outputs": [
    {
     "name": "stderr",
     "output_type": "stream",
     "text": [
      "/Users/alexincerti/Library/Python/3.8/lib/python/site-packages/seaborn/_decorators.py:36: FutureWarning: Pass the following variable as a keyword arg: x. From version 0.12, the only valid positional argument will be `data`, and passing other arguments without an explicit keyword will result in an error or misinterpretation.\n",
      "  warnings.warn(\n"
     ]
    },
    {
     "data": {
      "text/plain": [
       "<AxesSubplot:xlabel='started_finished_difference_seconds'>"
      ]
     },
     "execution_count": 31,
     "metadata": {},
     "output_type": "execute_result"
    },
    {
     "data": {
      "image/png": "[encoded data removed]",
      "text/plain": [
       "<Figure size 1080x360 with 1 Axes>"
      ]
     },
     "metadata": {
      "needs_background": "light"
     },
     "output_type": "display_data"
    }
   ],
   "source": [
    "sns.boxplot(jobs.started_finished_difference_seconds)"
   ]
  },
  {
   "cell_type": "markdown",
   "metadata": {},
   "source": [
    "No job should have negative duration"
   ]
  },
  {
   "cell_type": "code",
   "execution_count": 33,
   "metadata": {},
   "outputs": [],
   "source": [
    "negative_duration_job = jobs[jobs.started_finished_difference_seconds < 0]"
   ]
  },
  {
   "cell_type": "code",
   "execution_count": 36,
   "metadata": {},
   "outputs": [
    {
     "name": "stderr",
     "output_type": "stream",
     "text": [
      "/Users/alexincerti/Library/Python/3.8/lib/python/site-packages/seaborn/_decorators.py:36: FutureWarning: Pass the following variable as a keyword arg: x. From version 0.12, the only valid positional argument will be `data`, and passing other arguments without an explicit keyword will result in an error or misinterpretation.\n",
      "  warnings.warn(\n"
     ]
    },
    {
     "data": {
      "text/plain": [
       "<AxesSubplot:xlabel='state', ylabel='count'>"
      ]
     },
     "execution_count": 36,
     "metadata": {},
     "output_type": "execute_result"
    },
    {
     "data": {
      "image/png": "[encoded data removed]",
      "text/plain": [
       "<Figure size 1080x360 with 1 Axes>"
      ]
     },
     "metadata": {
      "needs_background": "light"
     },
     "output_type": "display_data"
    }
   ],
   "source": [
    "sns.countplot(negative_duration_job.state)"
   ]
  },
  {
   "cell_type": "code",
   "execution_count": 38,
   "metadata": {},
   "outputs": [
    {
     "data": {
      "text/html": [
       "<div>\n",
       "<style scoped>\n",
       "    .dataframe tbody tr th:only-of-type {\n",
       "        vertical-align: middle;\n",
       "    }\n",
       "\n",
       "    .dataframe tbody tr th {\n",
       "        vertical-align: top;\n",
       "    }\n",
       "\n",
       "    .dataframe thead th {\n",
       "        text-align: right;\n",
       "    }\n",
       "</style>\n",
       "<table border=\"1\" class=\"dataframe\">\n",
       "  <thead>\n",
       "    <tr style=\"text-align: right;\">\n",
       "      <th></th>\n",
       "      <th>id</th>\n",
       "      <th>buildid</th>\n",
       "      <th>started_at</th>\n",
       "      <th>created_at</th>\n",
       "      <th>finished_at</th>\n",
       "      <th>number</th>\n",
       "      <th>state</th>\n",
       "      <th>updated_at</th>\n",
       "      <th>commitsha</th>\n",
       "      <th>commitid</th>\n",
       "      <th>commitmessage</th>\n",
       "      <th>commitref</th>\n",
       "      <th>commitcompare_url</th>\n",
       "      <th>started_at_day</th>\n",
       "      <th>started_at_month</th>\n",
       "      <th>started_at_year</th>\n",
       "      <th>started_finished_difference_seconds</th>\n",
       "    </tr>\n",
       "  </thead>\n",
       "  <tbody>\n",
       "    <tr>\n",
       "      <th>4416</th>\n",
       "      <td>213008250</td>\n",
       "      <td>213008248</td>\n",
       "      <td>2017-03-20 14:37:52+00:00</td>\n",
       "      <td>2017-03-20 14:34:12.603000+00:00</td>\n",
       "      <td>2017-03-20 14:35:08+00:00</td>\n",
       "      <td>20236.2</td>\n",
       "      <td>passed</td>\n",
       "      <td>2018-06-02T03:29:34.311Z</td>\n",
       "      <td>89adbc0c9146aaf2fa5838c0e6759b4e65d4988c</td>\n",
       "      <td>61228300</td>\n",
       "      <td>SONAR-8857 inline QProfileService.activate</td>\n",
       "      <td>refs/heads/feature/daniel/SONAR-8857/deactivat...</td>\n",
       "      <td>https://github.com/SonarSource/sonarqube/compa...</td>\n",
       "      <td>20.0</td>\n",
       "      <td>3.0</td>\n",
       "      <td>2017.0</td>\n",
       "      <td>-164.0</td>\n",
       "    </tr>\n",
       "    <tr>\n",
       "      <th>5256</th>\n",
       "      <td>131680516</td>\n",
       "      <td>131680515</td>\n",
       "      <td>2016-05-20 12:13:19+00:00</td>\n",
       "      <td>2016-05-20 12:13:08.672000+00:00</td>\n",
       "      <td>2016-05-20 12:13:12+00:00</td>\n",
       "      <td>10483.1</td>\n",
       "      <td>passed</td>\n",
       "      <td>2018-05-30T15:29:22.555Z</td>\n",
       "      <td>3b5a012004c1fdaf192e479e2bbe4543578a8749</td>\n",
       "      <td>37294628</td>\n",
       "      <td>Fix copyright.txt and remove useless COPYING file</td>\n",
       "      <td>refs/heads/master</td>\n",
       "      <td>https://github.com/SonarSource/sonarqube/compa...</td>\n",
       "      <td>20.0</td>\n",
       "      <td>5.0</td>\n",
       "      <td>2016.0</td>\n",
       "      <td>-7.0</td>\n",
       "    </tr>\n",
       "  </tbody>\n",
       "</table>\n",
       "</div>"
      ],
      "text/plain": [
       "             id    buildid                started_at  \\\n",
       "4416  213008250  213008248 2017-03-20 14:37:52+00:00   \n",
       "5256  131680516  131680515 2016-05-20 12:13:19+00:00   \n",
       "\n",
       "                           created_at               finished_at   number  \\\n",
       "4416 2017-03-20 14:34:12.603000+00:00 2017-03-20 14:35:08+00:00  20236.2   \n",
       "5256 2016-05-20 12:13:08.672000+00:00 2016-05-20 12:13:12+00:00  10483.1   \n",
       "\n",
       "       state                updated_at  \\\n",
       "4416  passed  2018-06-02T03:29:34.311Z   \n",
       "5256  passed  2018-05-30T15:29:22.555Z   \n",
       "\n",
       "                                     commitsha  commitid  \\\n",
       "4416  89adbc0c9146aaf2fa5838c0e6759b4e65d4988c  61228300   \n",
       "5256  3b5a012004c1fdaf192e479e2bbe4543578a8749  37294628   \n",
       "\n",
       "                                          commitmessage  \\\n",
       "4416         SONAR-8857 inline QProfileService.activate   \n",
       "5256  Fix copyright.txt and remove useless COPYING file   \n",
       "\n",
       "                                              commitref  \\\n",
       "4416  refs/heads/feature/daniel/SONAR-8857/deactivat...   \n",
       "5256                                  refs/heads/master   \n",
       "\n",
       "                                      commitcompare_url  started_at_day  \\\n",
       "4416  https://github.com/SonarSource/sonarqube/compa...            20.0   \n",
       "5256  https://github.com/SonarSource/sonarqube/compa...            20.0   \n",
       "\n",
       "      started_at_month  started_at_year  started_finished_difference_seconds  \n",
       "4416               3.0           2017.0                               -164.0  \n",
       "5256               5.0           2016.0                                 -7.0  "
      ]
     },
     "execution_count": 38,
     "metadata": {},
     "output_type": "execute_result"
    }
   ],
   "source": [
    "negative_duration_job[negative_duration_job.state == \"passed\"].head(2)"
   ]
  },
  {
   "cell_type": "code",
   "execution_count": 43,
   "metadata": {},
   "outputs": [],
   "source": [
    "negative_duration_jobs_buildid = negative_duration_job.buildid"
   ]
  },
  {
   "cell_type": "code",
   "execution_count": 45,
   "metadata": {},
   "outputs": [
    {
     "name": "stderr",
     "output_type": "stream",
     "text": [
      "/Users/alexincerti/Library/Python/3.8/lib/python/site-packages/seaborn/_decorators.py:36: FutureWarning: Pass the following variable as a keyword arg: x. From version 0.12, the only valid positional argument will be `data`, and passing other arguments without an explicit keyword will result in an error or misinterpretation.\n",
      "  warnings.warn(\n"
     ]
    },
    {
     "data": {
      "text/plain": [
       "<AxesSubplot:xlabel='state', ylabel='count'>"
      ]
     },
     "execution_count": 45,
     "metadata": {},
     "output_type": "execute_result"
    },
    {
     "data": {
      "image/png": "[encoded data removed]",
      "text/plain": [
       "<Figure size 1080x360 with 1 Axes>"
      ]
     },
     "metadata": {
      "needs_background": "light"
     },
     "output_type": "display_data"
    }
   ],
   "source": [
    "sns.countplot(builds[builds.id.isin(negative_duration_jobs_buildid)].state)"
   ]
  },
  {
   "cell_type": "markdown",
   "metadata": {},
   "source": [
    "**Are jobs finished_at the same as the ones for the canceled builds?**"
   ]
  },
  {
   "cell_type": "code",
   "execution_count": 51,
   "metadata": {},
   "outputs": [
    {
     "data": {
      "text/html": [
       "<div>\n",
       "<style scoped>\n",
       "    .dataframe tbody tr th:only-of-type {\n",
       "        vertical-align: middle;\n",
       "    }\n",
       "\n",
       "    .dataframe tbody tr th {\n",
       "        vertical-align: top;\n",
       "    }\n",
       "\n",
       "    .dataframe thead th {\n",
       "        text-align: right;\n",
       "    }\n",
       "</style>\n",
       "<table border=\"1\" class=\"dataframe\">\n",
       "  <thead>\n",
       "    <tr style=\"text-align: right;\">\n",
       "      <th></th>\n",
       "      <th>id_job</th>\n",
       "      <th>buildid</th>\n",
       "      <th>started_at</th>\n",
       "      <th>created_at</th>\n",
       "      <th>finished_at_job</th>\n",
       "      <th>number</th>\n",
       "      <th>state</th>\n",
       "      <th>updated_at</th>\n",
       "      <th>commitsha</th>\n",
       "      <th>commitid</th>\n",
       "      <th>commitmessage</th>\n",
       "      <th>commitref</th>\n",
       "      <th>commitcompare_url</th>\n",
       "      <th>started_at_day</th>\n",
       "      <th>started_at_month</th>\n",
       "      <th>started_at_year</th>\n",
       "      <th>started_finished_difference_seconds</th>\n",
       "      <th>id_build</th>\n",
       "      <th>finished_at_build</th>\n",
       "    </tr>\n",
       "  </thead>\n",
       "  <tbody>\n",
       "    <tr>\n",
       "      <th>0</th>\n",
       "      <td>241946103</td>\n",
       "      <td>241946099</td>\n",
       "      <td>2017-06-12 09:22:43+00:00</td>\n",
       "      <td>2017-06-12 09:13:51.107000+00:00</td>\n",
       "      <td>2017-06-12 09:21:43+00:00</td>\n",
       "      <td>25614.2</td>\n",
       "      <td>canceled</td>\n",
       "      <td>2018-06-02T14:51:19.764Z</td>\n",
       "      <td>2e4b539138fde6f664a865c81fb6ab0763f74bdb</td>\n",
       "      <td>70181895</td>\n",
       "      <td>SONAR-9304 Add test on organization deletion</td>\n",
       "      <td>refs/heads/feature/atlas/MMF-324/builtin-profiles</td>\n",
       "      <td>https://github.com/SonarSource/sonarqube/compa...</td>\n",
       "      <td>12.0</td>\n",
       "      <td>6.0</td>\n",
       "      <td>2017.0</td>\n",
       "      <td>-60.0</td>\n",
       "      <td>241946099</td>\n",
       "      <td>2017-06-12 09:21:43+00:00</td>\n",
       "    </tr>\n",
       "    <tr>\n",
       "      <th>1</th>\n",
       "      <td>209801442</td>\n",
       "      <td>209801441</td>\n",
       "      <td>2017-03-10 16:13:46+00:00</td>\n",
       "      <td>2017-03-10 16:13:32.130000+00:00</td>\n",
       "      <td>2017-03-10 16:13:43+00:00</td>\n",
       "      <td>19737.1</td>\n",
       "      <td>canceled</td>\n",
       "      <td>2018-06-02T02:26:41.235Z</td>\n",
       "      <td>2ede936840467c48c984c5e928902b8b856db02b</td>\n",
       "      <td>60243245</td>\n",
       "      <td>SONAR-8930 When removing a user, remove him fr...</td>\n",
       "      <td>refs/heads/feature/jl/associate_new_users_to_d...</td>\n",
       "      <td>https://github.com/SonarSource/sonarqube/compa...</td>\n",
       "      <td>10.0</td>\n",
       "      <td>3.0</td>\n",
       "      <td>2017.0</td>\n",
       "      <td>-3.0</td>\n",
       "      <td>209801441</td>\n",
       "      <td>2017-03-10 16:13:43+00:00</td>\n",
       "    </tr>\n",
       "  </tbody>\n",
       "</table>\n",
       "</div>"
      ],
      "text/plain": [
       "      id_job    buildid                started_at  \\\n",
       "0  241946103  241946099 2017-06-12 09:22:43+00:00   \n",
       "1  209801442  209801441 2017-03-10 16:13:46+00:00   \n",
       "\n",
       "                        created_at           finished_at_job   number  \\\n",
       "0 2017-06-12 09:13:51.107000+00:00 2017-06-12 09:21:43+00:00  25614.2   \n",
       "1 2017-03-10 16:13:32.130000+00:00 2017-03-10 16:13:43+00:00  19737.1   \n",
       "\n",
       "      state                updated_at  \\\n",
       "0  canceled  2018-06-02T14:51:19.764Z   \n",
       "1  canceled  2018-06-02T02:26:41.235Z   \n",
       "\n",
       "                                  commitsha  commitid  \\\n",
       "0  2e4b539138fde6f664a865c81fb6ab0763f74bdb  70181895   \n",
       "1  2ede936840467c48c984c5e928902b8b856db02b  60243245   \n",
       "\n",
       "                                       commitmessage  \\\n",
       "0       SONAR-9304 Add test on organization deletion   \n",
       "1  SONAR-8930 When removing a user, remove him fr...   \n",
       "\n",
       "                                           commitref  \\\n",
       "0  refs/heads/feature/atlas/MMF-324/builtin-profiles   \n",
       "1  refs/heads/feature/jl/associate_new_users_to_d...   \n",
       "\n",
       "                                   commitcompare_url  started_at_day  \\\n",
       "0  https://github.com/SonarSource/sonarqube/compa...            12.0   \n",
       "1  https://github.com/SonarSource/sonarqube/compa...            10.0   \n",
       "\n",
       "   started_at_month  started_at_year  started_finished_difference_seconds  \\\n",
       "0               6.0           2017.0                                -60.0   \n",
       "1               3.0           2017.0                                 -3.0   \n",
       "\n",
       "    id_build         finished_at_build  \n",
       "0  241946099 2017-06-12 09:21:43+00:00  \n",
       "1  209801441 2017-03-10 16:13:43+00:00  "
      ]
     },
     "execution_count": 51,
     "metadata": {},
     "output_type": "execute_result"
    }
   ],
   "source": [
    "negative_duration_job_build_merged = negative_duration_job.merge(builds[[\"id\", \"finished_at\"]], left_on=\"buildid\", right_on=\"id\", suffixes=[\"_job\", \"_build\"])\n",
    "negative_duration_job_build_merged.head(2)"
   ]
  },
  {
   "cell_type": "code",
   "execution_count": 57,
   "metadata": {},
   "outputs": [
    {
     "data": {
      "text/html": [
       "<div>\n",
       "<style scoped>\n",
       "    .dataframe tbody tr th:only-of-type {\n",
       "        vertical-align: middle;\n",
       "    }\n",
       "\n",
       "    .dataframe tbody tr th {\n",
       "        vertical-align: top;\n",
       "    }\n",
       "\n",
       "    .dataframe thead th {\n",
       "        text-align: right;\n",
       "    }\n",
       "</style>\n",
       "<table border=\"1\" class=\"dataframe\">\n",
       "  <thead>\n",
       "    <tr style=\"text-align: right;\">\n",
       "      <th></th>\n",
       "      <th>id_job</th>\n",
       "      <th>buildid</th>\n",
       "      <th>started_at</th>\n",
       "      <th>created_at</th>\n",
       "      <th>finished_at_job</th>\n",
       "      <th>number</th>\n",
       "      <th>state</th>\n",
       "      <th>updated_at</th>\n",
       "      <th>commitsha</th>\n",
       "      <th>commitid</th>\n",
       "      <th>commitmessage</th>\n",
       "      <th>commitref</th>\n",
       "      <th>commitcompare_url</th>\n",
       "      <th>started_at_day</th>\n",
       "      <th>started_at_month</th>\n",
       "      <th>started_at_year</th>\n",
       "      <th>started_finished_difference_seconds</th>\n",
       "      <th>id_build</th>\n",
       "      <th>finished_at_build</th>\n",
       "    </tr>\n",
       "  </thead>\n",
       "  <tbody>\n",
       "    <tr>\n",
       "      <th>0</th>\n",
       "      <td>241946103</td>\n",
       "      <td>241946099</td>\n",
       "      <td>2017-06-12 09:22:43+00:00</td>\n",
       "      <td>2017-06-12 09:13:51.107000+00:00</td>\n",
       "      <td>2017-06-12 09:21:43+00:00</td>\n",
       "      <td>25614.2</td>\n",
       "      <td>canceled</td>\n",
       "      <td>2018-06-02T14:51:19.764Z</td>\n",
       "      <td>2e4b539138fde6f664a865c81fb6ab0763f74bdb</td>\n",
       "      <td>70181895</td>\n",
       "      <td>SONAR-9304 Add test on organization deletion</td>\n",
       "      <td>refs/heads/feature/atlas/MMF-324/builtin-profiles</td>\n",
       "      <td>https://github.com/SonarSource/sonarqube/compa...</td>\n",
       "      <td>12.0</td>\n",
       "      <td>6.0</td>\n",
       "      <td>2017.0</td>\n",
       "      <td>-60.0</td>\n",
       "      <td>241946099</td>\n",
       "      <td>2017-06-12 09:21:43+00:00</td>\n",
       "    </tr>\n",
       "    <tr>\n",
       "      <th>1</th>\n",
       "      <td>209801442</td>\n",
       "      <td>209801441</td>\n",
       "      <td>2017-03-10 16:13:46+00:00</td>\n",
       "      <td>2017-03-10 16:13:32.130000+00:00</td>\n",
       "      <td>2017-03-10 16:13:43+00:00</td>\n",
       "      <td>19737.1</td>\n",
       "      <td>canceled</td>\n",
       "      <td>2018-06-02T02:26:41.235Z</td>\n",
       "      <td>2ede936840467c48c984c5e928902b8b856db02b</td>\n",
       "      <td>60243245</td>\n",
       "      <td>SONAR-8930 When removing a user, remove him fr...</td>\n",
       "      <td>refs/heads/feature/jl/associate_new_users_to_d...</td>\n",
       "      <td>https://github.com/SonarSource/sonarqube/compa...</td>\n",
       "      <td>10.0</td>\n",
       "      <td>3.0</td>\n",
       "      <td>2017.0</td>\n",
       "      <td>-3.0</td>\n",
       "      <td>209801441</td>\n",
       "      <td>2017-03-10 16:13:43+00:00</td>\n",
       "    </tr>\n",
       "  </tbody>\n",
       "</table>\n",
       "</div>"
      ],
      "text/plain": [
       "      id_job    buildid                started_at  \\\n",
       "0  241946103  241946099 2017-06-12 09:22:43+00:00   \n",
       "1  209801442  209801441 2017-03-10 16:13:46+00:00   \n",
       "\n",
       "                        created_at           finished_at_job   number  \\\n",
       "0 2017-06-12 09:13:51.107000+00:00 2017-06-12 09:21:43+00:00  25614.2   \n",
       "1 2017-03-10 16:13:32.130000+00:00 2017-03-10 16:13:43+00:00  19737.1   \n",
       "\n",
       "      state                updated_at  \\\n",
       "0  canceled  2018-06-02T14:51:19.764Z   \n",
       "1  canceled  2018-06-02T02:26:41.235Z   \n",
       "\n",
       "                                  commitsha  commitid  \\\n",
       "0  2e4b539138fde6f664a865c81fb6ab0763f74bdb  70181895   \n",
       "1  2ede936840467c48c984c5e928902b8b856db02b  60243245   \n",
       "\n",
       "                                       commitmessage  \\\n",
       "0       SONAR-9304 Add test on organization deletion   \n",
       "1  SONAR-8930 When removing a user, remove him fr...   \n",
       "\n",
       "                                           commitref  \\\n",
       "0  refs/heads/feature/atlas/MMF-324/builtin-profiles   \n",
       "1  refs/heads/feature/jl/associate_new_users_to_d...   \n",
       "\n",
       "                                   commitcompare_url  started_at_day  \\\n",
       "0  https://github.com/SonarSource/sonarqube/compa...            12.0   \n",
       "1  https://github.com/SonarSource/sonarqube/compa...            10.0   \n",
       "\n",
       "   started_at_month  started_at_year  started_finished_difference_seconds  \\\n",
       "0               6.0           2017.0                                -60.0   \n",
       "1               3.0           2017.0                                 -3.0   \n",
       "\n",
       "    id_build         finished_at_build  \n",
       "0  241946099 2017-06-12 09:21:43+00:00  \n",
       "1  209801441 2017-03-10 16:13:43+00:00  "
      ]
     },
     "execution_count": 57,
     "metadata": {},
     "output_type": "execute_result"
    }
   ],
   "source": [
    "negative_duration_job_build_merged = negative_duration_job.merge(builds[[\"id\", \"finished_at\"]], left_on=\"buildid\", right_on=\"id\", suffixes=[\"_job\", \"_build\"])\n",
    "negative_duration_job_build_merged.head(2)"
   ]
  },
  {
   "cell_type": "code",
   "execution_count": 58,
   "metadata": {},
   "outputs": [
    {
     "data": {
      "text/plain": [
       "0.775623268698061"
      ]
     },
     "execution_count": 58,
     "metadata": {},
     "output_type": "execute_result"
    }
   ],
   "source": [
    "(negative_duration_job_build_merged.finished_at_build == \\\n",
    "                                  negative_duration_job_build_merged.finished_at_job)\\\n",
    ".sum() / len(negative_duration_job_build_merged)"
   ]
  },
  {
   "cell_type": "code",
   "execution_count": 59,
   "metadata": {},
   "outputs": [
    {
     "name": "stderr",
     "output_type": "stream",
     "text": [
      "/Users/alexincerti/Library/Python/3.8/lib/python/site-packages/seaborn/_decorators.py:36: FutureWarning: Pass the following variable as a keyword arg: x. From version 0.12, the only valid positional argument will be `data`, and passing other arguments without an explicit keyword will result in an error or misinterpretation.\n",
      "  warnings.warn(\n"
     ]
    },
    {
     "data": {
      "text/plain": [
       "<AxesSubplot:>"
      ]
     },
     "execution_count": 59,
     "metadata": {},
     "output_type": "execute_result"
    },
    {
     "data": {
      "image/png": "[encoded data removed]",
      "text/plain": [
       "<Figure size 1080x360 with 1 Axes>"
      ]
     },
     "metadata": {
      "needs_background": "light"
     },
     "output_type": "display_data"
    }
   ],
   "source": [
    "sns.boxplot((negative_duration_job_build_merged.finished_at_build - \\\n",
    "                                  negative_duration_job_build_merged.finished_at_job) / np.timedelta64(1, \"s\"))"
   ]
  },
  {
   "cell_type": "code",
   "execution_count": 64,
   "metadata": {},
   "outputs": [],
   "source": [
    "negative_duration_job_build_merged[\"finished_at_build_job_difference\"] = ((negative_duration_job_build_merged.finished_at_build - \\\n",
    "                                  negative_duration_job_build_merged.finished_at_job) / np.timedelta64(1, \"s\"))"
   ]
  },
  {
   "cell_type": "code",
   "execution_count": 67,
   "metadata": {},
   "outputs": [
    {
     "data": {
      "text/plain": [
       "id_job                                                                         193106385\n",
       "buildid                                                                        193106381\n",
       "started_at                                                     2017-01-18 16:49:59+00:00\n",
       "created_at                                              2017-01-18 16:48:46.564000+00:00\n",
       "finished_at_job                                                2017-01-18 16:49:57+00:00\n",
       "number                                                                           17038.4\n",
       "state                                                                           canceled\n",
       "updated_at                                                      2018-06-01T20:45:54.373Z\n",
       "commitsha                                       29a8d73d1b3fb39fd35c777bf07be40873391517\n",
       "commitid                                                                        55186085\n",
       "commitmessage                                                              Release 5.6.5\n",
       "commitref                                                                refs/tags/5.6.5\n",
       "commitcompare_url                      https://github.com/SonarSource/sonarqube/compa...\n",
       "started_at_day                                                                        18\n",
       "started_at_month                                                                       1\n",
       "started_at_year                                                                     2017\n",
       "started_finished_difference_seconds                                                   -2\n",
       "id_build                                                                       193106381\n",
       "finished_at_build                                              2017-01-18 17:06:01+00:00\n",
       "finished_at_build_job_difference                                                     964\n",
       "Name: 262, dtype: object"
      ]
     },
     "execution_count": 67,
     "metadata": {},
     "output_type": "execute_result"
    }
   ],
   "source": [
    "negative_duration_job_build_merged.loc[negative_duration_job_build_merged.finished_at_build_job_difference.idxmax()]"
   ]
  },
  {
   "cell_type": "markdown",
   "metadata": {},
   "source": [
    "* Jobs with negative duration are entirely due to canceled builds (and a few errored). In 77% of the cases builds were canceled at the finished_at time of the job, probably jobs were scheduled and run anyway giving a started_at greater than the finished one.\n",
    "* We know that jobs from canceled builds have unreliable started and finished timestamps"
   ]
  },
  {
   "cell_type": "markdown",
   "metadata": {},
   "source": [
    "**Canceld builds have all jobs with negative duration?** No"
   ]
  },
  {
   "cell_type": "code",
   "execution_count": 72,
   "metadata": {},
   "outputs": [
    {
     "name": "stderr",
     "output_type": "stream",
     "text": [
      "/Users/alexincerti/Library/Python/3.8/lib/python/site-packages/seaborn/_decorators.py:36: FutureWarning: Pass the following variable as a keyword arg: x. From version 0.12, the only valid positional argument will be `data`, and passing other arguments without an explicit keyword will result in an error or misinterpretation.\n",
      "  warnings.warn(\n"
     ]
    },
    {
     "data": {
      "text/plain": [
       "<AxesSubplot:xlabel='started_finished_difference_seconds'>"
      ]
     },
     "execution_count": 72,
     "metadata": {},
     "output_type": "execute_result"
    },
    {
     "data": {
      "image/png": "[encoded data removed]",
      "text/plain": [
       "<Figure size 1080x360 with 1 Axes>"
      ]
     },
     "metadata": {
      "needs_background": "light"
     },
     "output_type": "display_data"
    }
   ],
   "source": [
    "sns.boxplot(jobs[jobs.buildid.isin(builds[builds.state==\"canceled\"].id)].started_finished_difference_seconds)"
   ]
  },
  {
   "cell_type": "markdown",
   "metadata": {},
   "source": [
    "**Passed or failed builds have jobs with positive duration?**"
   ]
  },
  {
   "cell_type": "code",
   "execution_count": 73,
   "metadata": {},
   "outputs": [
    {
     "name": "stderr",
     "output_type": "stream",
     "text": [
      "/Users/alexincerti/Library/Python/3.8/lib/python/site-packages/seaborn/_decorators.py:36: FutureWarning: Pass the following variable as a keyword arg: x. From version 0.12, the only valid positional argument will be `data`, and passing other arguments without an explicit keyword will result in an error or misinterpretation.\n",
      "  warnings.warn(\n"
     ]
    },
    {
     "data": {
      "text/plain": [
       "<AxesSubplot:xlabel='started_finished_difference_seconds'>"
      ]
     },
     "execution_count": 73,
     "metadata": {},
     "output_type": "execute_result"
    },
    {
     "data": {
      "image/png": "[encoded data removed]",
      "text/plain": [
       "<Figure size 1080x360 with 1 Axes>"
      ]
     },
     "metadata": {
      "needs_background": "light"
     },
     "output_type": "display_data"
    }
   ],
   "source": [
    "sns.boxplot(jobs[jobs.buildid.isin(builds[builds.state.isin([\"passed\", \"failed\"])].id)].started_finished_difference_seconds)"
   ]
  },
  {
   "cell_type": "code",
   "execution_count": 74,
   "metadata": {},
   "outputs": [
    {
     "data": {
      "text/plain": [
       "4.0"
      ]
     },
     "execution_count": 74,
     "metadata": {},
     "output_type": "execute_result"
    }
   ],
   "source": [
    "jobs[jobs.buildid.isin(builds[builds.state.isin([\"passed\", \"failed\"])].id)].started_finished_difference_seconds.min()"
   ]
  },
  {
   "cell_type": "markdown",
   "metadata": {},
   "source": [
    "* We confirm that passed or failed builds have all jobs with positive duration"
   ]
  },
  {
   "cell_type": "markdown",
   "metadata": {},
   "source": [
    "### Commitmessage"
   ]
  },
  {
   "cell_type": "code",
   "execution_count": 274,
   "metadata": {},
   "outputs": [
    {
     "data": {
      "text/html": [
       "<div>\n",
       "<style scoped>\n",
       "    .dataframe tbody tr th:only-of-type {\n",
       "        vertical-align: middle;\n",
       "    }\n",
       "\n",
       "    .dataframe tbody tr th {\n",
       "        vertical-align: top;\n",
       "    }\n",
       "\n",
       "    .dataframe thead th {\n",
       "        text-align: right;\n",
       "    }\n",
       "</style>\n",
       "<table border=\"1\" class=\"dataframe\">\n",
       "  <thead>\n",
       "    <tr style=\"text-align: right;\">\n",
       "      <th></th>\n",
       "      <th>id</th>\n",
       "      <th>buildid</th>\n",
       "      <th>started_at</th>\n",
       "      <th>created_at</th>\n",
       "      <th>finished_at</th>\n",
       "      <th>number</th>\n",
       "      <th>state</th>\n",
       "      <th>updated_at</th>\n",
       "      <th>commitsha</th>\n",
       "      <th>commitid</th>\n",
       "      <th>commitmessage</th>\n",
       "      <th>commitref</th>\n",
       "      <th>commitcompare_url</th>\n",
       "      <th>started_at_day</th>\n",
       "      <th>started_at_month</th>\n",
       "      <th>started_at_year</th>\n",
       "      <th>started_created_difference_seconds</th>\n",
       "    </tr>\n",
       "  </thead>\n",
       "  <tbody>\n",
       "    <tr>\n",
       "      <th>59249</th>\n",
       "      <td>150234433</td>\n",
       "      <td>150234432</td>\n",
       "      <td>2016-08-06 07:29:11+00:00</td>\n",
       "      <td>2016-08-06 07:28:58.905000+00:00</td>\n",
       "      <td>2016-08-06 07:48:38+00:00</td>\n",
       "      <td>12274.1</td>\n",
       "      <td>passed</td>\n",
       "      <td>2018-05-31T05:25:54.414Z</td>\n",
       "      <td>c106e1771ef95d5e6d2b12364db46e5d8db6d099</td>\n",
       "      <td>42662386</td>\n",
       "      <td>NaN</td>\n",
       "      <td>refs/pull/1135/merge</td>\n",
       "      <td>https://github.com/SonarSource/sonarqube/pull/...</td>\n",
       "      <td>6.0</td>\n",
       "      <td>8.0</td>\n",
       "      <td>2016.0</td>\n",
       "      <td>12.095</td>\n",
       "    </tr>\n",
       "    <tr>\n",
       "      <th>59250</th>\n",
       "      <td>150234434</td>\n",
       "      <td>150234432</td>\n",
       "      <td>2016-08-06 07:29:11+00:00</td>\n",
       "      <td>2016-08-06 07:28:58.928000+00:00</td>\n",
       "      <td>2016-08-06 07:30:23+00:00</td>\n",
       "      <td>12274.2</td>\n",
       "      <td>passed</td>\n",
       "      <td>2018-05-31T05:25:54.560Z</td>\n",
       "      <td>c106e1771ef95d5e6d2b12364db46e5d8db6d099</td>\n",
       "      <td>42662386</td>\n",
       "      <td>NaN</td>\n",
       "      <td>refs/pull/1135/merge</td>\n",
       "      <td>https://github.com/SonarSource/sonarqube/pull/...</td>\n",
       "      <td>6.0</td>\n",
       "      <td>8.0</td>\n",
       "      <td>2016.0</td>\n",
       "      <td>12.072</td>\n",
       "    </tr>\n",
       "  </tbody>\n",
       "</table>\n",
       "</div>"
      ],
      "text/plain": [
       "              id    buildid                started_at  \\\n",
       "59249  150234433  150234432 2016-08-06 07:29:11+00:00   \n",
       "59250  150234434  150234432 2016-08-06 07:29:11+00:00   \n",
       "\n",
       "                            created_at               finished_at   number  \\\n",
       "59249 2016-08-06 07:28:58.905000+00:00 2016-08-06 07:48:38+00:00  12274.1   \n",
       "59250 2016-08-06 07:28:58.928000+00:00 2016-08-06 07:30:23+00:00  12274.2   \n",
       "\n",
       "        state                updated_at  \\\n",
       "59249  passed  2018-05-31T05:25:54.414Z   \n",
       "59250  passed  2018-05-31T05:25:54.560Z   \n",
       "\n",
       "                                      commitsha  commitid commitmessage  \\\n",
       "59249  c106e1771ef95d5e6d2b12364db46e5d8db6d099  42662386           NaN   \n",
       "59250  c106e1771ef95d5e6d2b12364db46e5d8db6d099  42662386           NaN   \n",
       "\n",
       "                  commitref  \\\n",
       "59249  refs/pull/1135/merge   \n",
       "59250  refs/pull/1135/merge   \n",
       "\n",
       "                                       commitcompare_url  started_at_day  \\\n",
       "59249  https://github.com/SonarSource/sonarqube/pull/...             6.0   \n",
       "59250  https://github.com/SonarSource/sonarqube/pull/...             6.0   \n",
       "\n",
       "       started_at_month  started_at_year  started_created_difference_seconds  \n",
       "59249               8.0           2016.0                              12.095  \n",
       "59250               8.0           2016.0                              12.072  "
      ]
     },
     "execution_count": 274,
     "metadata": {},
     "output_type": "execute_result"
    }
   ],
   "source": [
    "jobs[jobs.commitmessage.isna()]"
   ]
  },
  {
   "cell_type": "markdown",
   "metadata": {},
   "source": [
    "* We checked github for the commitsha but it does not exist anymore on Github\n",
    "* We checked the raw JSON response from TravisAPI and the commit appears to have a null commitmessage"
   ]
  }
 ],
 "metadata": {
  "kernelspec": {
   "display_name": "Python 3",
   "language": "python",
   "name": "python3"
  },
  "language_info": {
   "codemirror_mode": {
    "name": "ipython",
    "version": 3
   },
   "file_extension": ".py",
   "mimetype": "text/x-python",
   "name": "python",
   "nbconvert_exporter": "python",
   "pygments_lexer": "ipython3",
   "version": "3.8.2"
  }
 },
 "nbformat": 4,
 "nbformat_minor": 4
}
