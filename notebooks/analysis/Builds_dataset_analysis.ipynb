{
 "cells": [
  {
   "cell_type": "code",
   "execution_count": 120,
   "metadata": {},
   "outputs": [],
   "source": [
    "import pandas as pd\n",
    "import seaborn as sns\n",
    "import matplotlib\n",
    "import matplotlib.pyplot as plt\n",
    "from ast import literal_eval\n",
    "import pickle\n",
    "import pprint\n",
    "from matplotlib.cbook import boxplot_stats\n",
    "pp = pprint.PrettyPrinter(depth=6)\n",
    "matplotlib.rcParams['figure.figsize'] = (15.0, 5.0)\n",
    "pd.set_option('display.max_columns', 150)"
   ]
  },
  {
   "cell_type": "code",
   "execution_count": 121,
   "metadata": {},
   "outputs": [],
   "source": [
    "csv_folder = \"../../csv\""
   ]
  },
  {
   "cell_type": "code",
   "execution_count": 122,
   "metadata": {},
   "outputs": [
    {
     "data": {
      "text/html": [
       "<div>\n",
       "<style scoped>\n",
       "    .dataframe tbody tr th:only-of-type {\n",
       "        vertical-align: middle;\n",
       "    }\n",
       "\n",
       "    .dataframe tbody tr th {\n",
       "        vertical-align: top;\n",
       "    }\n",
       "\n",
       "    .dataframe thead th {\n",
       "        text-align: right;\n",
       "    }\n",
       "</style>\n",
       "<table border=\"1\" class=\"dataframe\">\n",
       "  <thead>\n",
       "    <tr style=\"text-align: right;\">\n",
       "      <th></th>\n",
       "      <th>number</th>\n",
       "      <th>pull_request_number</th>\n",
       "      <th>id</th>\n",
       "      <th>event_type</th>\n",
       "      <th>finished_at</th>\n",
       "      <th>pull_request_title</th>\n",
       "      <th>started_at</th>\n",
       "      <th>duration</th>\n",
       "      <th>state</th>\n",
       "    </tr>\n",
       "  </thead>\n",
       "  <tbody>\n",
       "    <tr>\n",
       "      <th>0</th>\n",
       "      <td>6995</td>\n",
       "      <td>NaN</td>\n",
       "      <td>99118995</td>\n",
       "      <td>push</td>\n",
       "      <td>2015-12-28 16:34:08+00:00</td>\n",
       "      <td>NaN</td>\n",
       "      <td>2015-12-28 16:18:41+00:00</td>\n",
       "      <td>5361.0</td>\n",
       "      <td>failed</td>\n",
       "    </tr>\n",
       "    <tr>\n",
       "      <th>1</th>\n",
       "      <td>6994</td>\n",
       "      <td>NaN</td>\n",
       "      <td>99100662</td>\n",
       "      <td>push</td>\n",
       "      <td>2015-12-28 14:36:03+00:00</td>\n",
       "      <td>NaN</td>\n",
       "      <td>2015-12-28 14:18:30+00:00</td>\n",
       "      <td>5953.0</td>\n",
       "      <td>passed</td>\n",
       "    </tr>\n",
       "    <tr>\n",
       "      <th>2</th>\n",
       "      <td>6993</td>\n",
       "      <td>NaN</td>\n",
       "      <td>99093472</td>\n",
       "      <td>push</td>\n",
       "      <td>2015-12-28 13:27:51+00:00</td>\n",
       "      <td>NaN</td>\n",
       "      <td>2015-12-28 13:11:39+00:00</td>\n",
       "      <td>5166.0</td>\n",
       "      <td>passed</td>\n",
       "    </tr>\n",
       "    <tr>\n",
       "      <th>3</th>\n",
       "      <td>6992</td>\n",
       "      <td>NaN</td>\n",
       "      <td>99086186</td>\n",
       "      <td>push</td>\n",
       "      <td>2015-12-28 12:18:41+00:00</td>\n",
       "      <td>NaN</td>\n",
       "      <td>2015-12-28 12:10:56+00:00</td>\n",
       "      <td>5243.0</td>\n",
       "      <td>passed</td>\n",
       "    </tr>\n",
       "    <tr>\n",
       "      <th>4</th>\n",
       "      <td>6991</td>\n",
       "      <td>NaN</td>\n",
       "      <td>99078711</td>\n",
       "      <td>push</td>\n",
       "      <td>2015-12-28 10:56:34+00:00</td>\n",
       "      <td>NaN</td>\n",
       "      <td>2015-12-28 10:41:16+00:00</td>\n",
       "      <td>5045.0</td>\n",
       "      <td>passed</td>\n",
       "    </tr>\n",
       "    <tr>\n",
       "      <th>...</th>\n",
       "      <td>...</td>\n",
       "      <td>...</td>\n",
       "      <td>...</td>\n",
       "      <td>...</td>\n",
       "      <td>...</td>\n",
       "      <td>...</td>\n",
       "      <td>...</td>\n",
       "      <td>...</td>\n",
       "      <td>...</td>\n",
       "    </tr>\n",
       "    <tr>\n",
       "      <th>126</th>\n",
       "      <td>12162</td>\n",
       "      <td>1121.0</td>\n",
       "      <td>148002763</td>\n",
       "      <td>pull_request</td>\n",
       "      <td>2016-07-28 11:22:06+00:00</td>\n",
       "      <td>Provide WS to manage project links</td>\n",
       "      <td>2016-07-28 10:59:31+00:00</td>\n",
       "      <td>1431.0</td>\n",
       "      <td>passed</td>\n",
       "    </tr>\n",
       "    <tr>\n",
       "      <th>127</th>\n",
       "      <td>12163</td>\n",
       "      <td>NaN</td>\n",
       "      <td>148005346</td>\n",
       "      <td>push</td>\n",
       "      <td>2016-07-28 11:33:17+00:00</td>\n",
       "      <td>NaN</td>\n",
       "      <td>2016-07-28 11:13:59+00:00</td>\n",
       "      <td>1232.0</td>\n",
       "      <td>passed</td>\n",
       "    </tr>\n",
       "    <tr>\n",
       "      <th>128</th>\n",
       "      <td>12164</td>\n",
       "      <td>1121.0</td>\n",
       "      <td>148005355</td>\n",
       "      <td>pull_request</td>\n",
       "      <td>2016-07-28 11:34:11+00:00</td>\n",
       "      <td>Provide WS to manage project links</td>\n",
       "      <td>2016-07-28 11:14:09+00:00</td>\n",
       "      <td>1279.0</td>\n",
       "      <td>passed</td>\n",
       "    </tr>\n",
       "    <tr>\n",
       "      <th>129</th>\n",
       "      <td>12165</td>\n",
       "      <td>1121.0</td>\n",
       "      <td>148010751</td>\n",
       "      <td>pull_request</td>\n",
       "      <td>2016-07-28 12:02:21+00:00</td>\n",
       "      <td>Provide WS to manage project links</td>\n",
       "      <td>2016-07-28 11:41:56+00:00</td>\n",
       "      <td>1338.0</td>\n",
       "      <td>passed</td>\n",
       "    </tr>\n",
       "    <tr>\n",
       "      <th>130</th>\n",
       "      <td>12166</td>\n",
       "      <td>NaN</td>\n",
       "      <td>148010754</td>\n",
       "      <td>push</td>\n",
       "      <td>2016-07-28 12:01:12+00:00</td>\n",
       "      <td>NaN</td>\n",
       "      <td>2016-07-28 11:41:56+00:00</td>\n",
       "      <td>1239.0</td>\n",
       "      <td>passed</td>\n",
       "    </tr>\n",
       "  </tbody>\n",
       "</table>\n",
       "<p>39514 rows × 9 columns</p>\n",
       "</div>"
      ],
      "text/plain": [
       "     number  pull_request_number         id    event_type  \\\n",
       "0      6995                  NaN   99118995          push   \n",
       "1      6994                  NaN   99100662          push   \n",
       "2      6993                  NaN   99093472          push   \n",
       "3      6992                  NaN   99086186          push   \n",
       "4      6991                  NaN   99078711          push   \n",
       "..      ...                  ...        ...           ...   \n",
       "126   12162               1121.0  148002763  pull_request   \n",
       "127   12163                  NaN  148005346          push   \n",
       "128   12164               1121.0  148005355  pull_request   \n",
       "129   12165               1121.0  148010751  pull_request   \n",
       "130   12166                  NaN  148010754          push   \n",
       "\n",
       "                  finished_at                  pull_request_title  \\\n",
       "0   2015-12-28 16:34:08+00:00                                 NaN   \n",
       "1   2015-12-28 14:36:03+00:00                                 NaN   \n",
       "2   2015-12-28 13:27:51+00:00                                 NaN   \n",
       "3   2015-12-28 12:18:41+00:00                                 NaN   \n",
       "4   2015-12-28 10:56:34+00:00                                 NaN   \n",
       "..                        ...                                 ...   \n",
       "126 2016-07-28 11:22:06+00:00  Provide WS to manage project links   \n",
       "127 2016-07-28 11:33:17+00:00                                 NaN   \n",
       "128 2016-07-28 11:34:11+00:00  Provide WS to manage project links   \n",
       "129 2016-07-28 12:02:21+00:00  Provide WS to manage project links   \n",
       "130 2016-07-28 12:01:12+00:00                                 NaN   \n",
       "\n",
       "                   started_at  duration   state  \n",
       "0   2015-12-28 16:18:41+00:00    5361.0  failed  \n",
       "1   2015-12-28 14:18:30+00:00    5953.0  passed  \n",
       "2   2015-12-28 13:11:39+00:00    5166.0  passed  \n",
       "3   2015-12-28 12:10:56+00:00    5243.0  passed  \n",
       "4   2015-12-28 10:41:16+00:00    5045.0  passed  \n",
       "..                        ...       ...     ...  \n",
       "126 2016-07-28 10:59:31+00:00    1431.0  passed  \n",
       "127 2016-07-28 11:13:59+00:00    1232.0  passed  \n",
       "128 2016-07-28 11:14:09+00:00    1279.0  passed  \n",
       "129 2016-07-28 11:41:56+00:00    1338.0  passed  \n",
       "130 2016-07-28 11:41:56+00:00    1239.0  passed  \n",
       "\n",
       "[39514 rows x 9 columns]"
      ]
     },
     "execution_count": 122,
     "metadata": {},
     "output_type": "execute_result"
    }
   ],
   "source": [
    "builds = pd.read_csv(f\"{csv_folder}/allBuilds.csv\", index_col=0)\n",
    "builds[\"finished_at\"] = pd.to_datetime(builds.finished_at)\n",
    "builds[\"started_at\"] = pd.to_datetime(builds.started_at)\n",
    "builds"
   ]
  },
  {
   "cell_type": "markdown",
   "metadata": {},
   "source": [
    "### Columns"
   ]
  },
  {
   "cell_type": "code",
   "execution_count": 123,
   "metadata": {},
   "outputs": [
    {
     "data": {
      "text/plain": [
       "Index(['number', 'pull_request_number', 'id', 'event_type', 'finished_at',\n",
       "       'pull_request_title', 'started_at', 'duration', 'state'],\n",
       "      dtype='object')"
      ]
     },
     "execution_count": 123,
     "metadata": {},
     "output_type": "execute_result"
    }
   ],
   "source": [
    "builds.columns"
   ]
  },
  {
   "cell_type": "markdown",
   "metadata": {},
   "source": [
    "### Shape"
   ]
  },
  {
   "cell_type": "code",
   "execution_count": 124,
   "metadata": {},
   "outputs": [
    {
     "data": {
      "text/plain": [
       "(39514, 9)"
      ]
     },
     "execution_count": 124,
     "metadata": {},
     "output_type": "execute_result"
    }
   ],
   "source": [
    "builds.shape"
   ]
  },
  {
   "cell_type": "markdown",
   "metadata": {},
   "source": [
    "### Stats"
   ]
  },
  {
   "cell_type": "code",
   "execution_count": 125,
   "metadata": {
    "scrolled": true
   },
   "outputs": [
    {
     "data": {
      "text/html": [
       "<div>\n",
       "<style scoped>\n",
       "    .dataframe tbody tr th:only-of-type {\n",
       "        vertical-align: middle;\n",
       "    }\n",
       "\n",
       "    .dataframe tbody tr th {\n",
       "        vertical-align: top;\n",
       "    }\n",
       "\n",
       "    .dataframe thead th {\n",
       "        text-align: right;\n",
       "    }\n",
       "</style>\n",
       "<table border=\"1\" class=\"dataframe\">\n",
       "  <thead>\n",
       "    <tr style=\"text-align: right;\">\n",
       "      <th></th>\n",
       "      <th>number</th>\n",
       "      <th>pull_request_number</th>\n",
       "      <th>id</th>\n",
       "      <th>duration</th>\n",
       "    </tr>\n",
       "  </thead>\n",
       "  <tbody>\n",
       "    <tr>\n",
       "      <th>count</th>\n",
       "      <td>39514.000000</td>\n",
       "      <td>12874.000000</td>\n",
       "      <td>3.951400e+04</td>\n",
       "      <td>39512.000000</td>\n",
       "    </tr>\n",
       "    <tr>\n",
       "      <th>mean</th>\n",
       "      <td>19700.828845</td>\n",
       "      <td>1835.283673</td>\n",
       "      <td>2.067872e+08</td>\n",
       "      <td>1583.936171</td>\n",
       "    </tr>\n",
       "    <tr>\n",
       "      <th>std</th>\n",
       "      <td>11372.944248</td>\n",
       "      <td>849.071851</td>\n",
       "      <td>1.001020e+08</td>\n",
       "      <td>3203.039479</td>\n",
       "    </tr>\n",
       "    <tr>\n",
       "      <th>min</th>\n",
       "      <td>1.000000</td>\n",
       "      <td>149.000000</td>\n",
       "      <td>5.473112e+07</td>\n",
       "      <td>-218596.000000</td>\n",
       "    </tr>\n",
       "    <tr>\n",
       "      <th>25%</th>\n",
       "      <td>9879.250000</td>\n",
       "      <td>1178.000000</td>\n",
       "      <td>1.277855e+08</td>\n",
       "      <td>208.000000</td>\n",
       "    </tr>\n",
       "    <tr>\n",
       "      <th>50%</th>\n",
       "      <td>19670.500000</td>\n",
       "      <td>1910.000000</td>\n",
       "      <td>2.096530e+08</td>\n",
       "      <td>1121.500000</td>\n",
       "    </tr>\n",
       "    <tr>\n",
       "      <th>75%</th>\n",
       "      <td>29548.750000</td>\n",
       "      <td>2540.000000</td>\n",
       "      <td>2.699600e+08</td>\n",
       "      <td>1698.000000</td>\n",
       "    </tr>\n",
       "    <tr>\n",
       "      <th>max</th>\n",
       "      <td>39427.000000</td>\n",
       "      <td>3250.000000</td>\n",
       "      <td>7.313960e+08</td>\n",
       "      <td>414912.000000</td>\n",
       "    </tr>\n",
       "  </tbody>\n",
       "</table>\n",
       "</div>"
      ],
      "text/plain": [
       "             number  pull_request_number            id       duration\n",
       "count  39514.000000         12874.000000  3.951400e+04   39512.000000\n",
       "mean   19700.828845          1835.283673  2.067872e+08    1583.936171\n",
       "std    11372.944248           849.071851  1.001020e+08    3203.039479\n",
       "min        1.000000           149.000000  5.473112e+07 -218596.000000\n",
       "25%     9879.250000          1178.000000  1.277855e+08     208.000000\n",
       "50%    19670.500000          1910.000000  2.096530e+08    1121.500000\n",
       "75%    29548.750000          2540.000000  2.699600e+08    1698.000000\n",
       "max    39427.000000          3250.000000  7.313960e+08  414912.000000"
      ]
     },
     "execution_count": 125,
     "metadata": {},
     "output_type": "execute_result"
    }
   ],
   "source": [
    "builds.describe()"
   ]
  },
  {
   "cell_type": "code",
   "execution_count": 126,
   "metadata": {},
   "outputs": [
    {
     "data": {
      "text/html": [
       "<div>\n",
       "<style scoped>\n",
       "    .dataframe tbody tr th:only-of-type {\n",
       "        vertical-align: middle;\n",
       "    }\n",
       "\n",
       "    .dataframe tbody tr th {\n",
       "        vertical-align: top;\n",
       "    }\n",
       "\n",
       "    .dataframe thead th {\n",
       "        text-align: right;\n",
       "    }\n",
       "</style>\n",
       "<table border=\"1\" class=\"dataframe\">\n",
       "  <thead>\n",
       "    <tr style=\"text-align: right;\">\n",
       "      <th></th>\n",
       "      <th>event_type</th>\n",
       "      <th>pull_request_title</th>\n",
       "      <th>state</th>\n",
       "    </tr>\n",
       "  </thead>\n",
       "  <tbody>\n",
       "    <tr>\n",
       "      <th>count</th>\n",
       "      <td>39514</td>\n",
       "      <td>12874</td>\n",
       "      <td>39514</td>\n",
       "    </tr>\n",
       "    <tr>\n",
       "      <th>unique</th>\n",
       "      <td>3</td>\n",
       "      <td>3066</td>\n",
       "      <td>4</td>\n",
       "    </tr>\n",
       "    <tr>\n",
       "      <th>top</th>\n",
       "      <td>push</td>\n",
       "      <td>Use Gradle instead of Maven</td>\n",
       "      <td>passed</td>\n",
       "    </tr>\n",
       "    <tr>\n",
       "      <th>freq</th>\n",
       "      <td>24522</td>\n",
       "      <td>103</td>\n",
       "      <td>23569</td>\n",
       "    </tr>\n",
       "  </tbody>\n",
       "</table>\n",
       "</div>"
      ],
      "text/plain": [
       "       event_type           pull_request_title   state\n",
       "count       39514                        12874   39514\n",
       "unique          3                         3066       4\n",
       "top          push  Use Gradle instead of Maven  passed\n",
       "freq        24522                          103   23569"
      ]
     },
     "execution_count": 126,
     "metadata": {},
     "output_type": "execute_result"
    }
   ],
   "source": [
    "builds.describe(include = ['O'])"
   ]
  },
  {
   "cell_type": "markdown",
   "metadata": {},
   "source": [
    "* There is a negative duration which may be an error\n",
    "* 75% of the builds happened in 2017\n",
    "* Others fields seem to have reasonalbe values\n",
    "* \"Use Gradle instead of Maven\" is the most common pull_request_title. The switch from maven to gradle has apparently required many tries\n",
    "* Most of the events are push\n",
    "* Most of the states are passed"
   ]
  },
  {
   "cell_type": "markdown",
   "metadata": {},
   "source": [
    "**Missing values**"
   ]
  },
  {
   "cell_type": "code",
   "execution_count": 127,
   "metadata": {
    "scrolled": true
   },
   "outputs": [
    {
     "data": {
      "text/plain": [
       "number                     0\n",
       "pull_request_number    26640\n",
       "id                         0\n",
       "event_type                 0\n",
       "finished_at                1\n",
       "pull_request_title     26640\n",
       "started_at              2128\n",
       "duration                   2\n",
       "state                      0\n",
       "dtype: int64"
      ]
     },
     "execution_count": 127,
     "metadata": {},
     "output_type": "execute_result"
    }
   ],
   "source": [
    "builds.isna().sum()"
   ]
  },
  {
   "cell_type": "markdown",
   "metadata": {},
   "source": [
    "* We do not worry about pull requests missing values as not all the builds are pull request related\n",
    "* Duration has 2 NaN (to be investigated)\n",
    "* Started at has many NaN (to be investigated)\n",
    "* Finished at has 1 NaN (to be investigated)"
   ]
  },
  {
   "cell_type": "markdown",
   "metadata": {},
   "source": [
    "### Time range"
   ]
  },
  {
   "cell_type": "code",
   "execution_count": 128,
   "metadata": {},
   "outputs": [
    {
     "data": {
      "text/plain": [
       "Timestamp('2015-03-17 15:04:32+0000', tz='UTC')"
      ]
     },
     "execution_count": 128,
     "metadata": {},
     "output_type": "execute_result"
    }
   ],
   "source": [
    "builds.started_at.min()"
   ]
  },
  {
   "cell_type": "code",
   "execution_count": 129,
   "metadata": {},
   "outputs": [
    {
     "data": {
      "text/plain": [
       "Timestamp('2020-09-29 20:09:07+0000', tz='UTC')"
      ]
     },
     "execution_count": 129,
     "metadata": {},
     "output_type": "execute_result"
    }
   ],
   "source": [
    "builds.started_at.max()"
   ]
  },
  {
   "cell_type": "markdown",
   "metadata": {},
   "source": [
    "**Missing value finished_at**"
   ]
  },
  {
   "cell_type": "code",
   "execution_count": 130,
   "metadata": {},
   "outputs": [
    {
     "data": {
      "text/html": [
       "<div>\n",
       "<style scoped>\n",
       "    .dataframe tbody tr th:only-of-type {\n",
       "        vertical-align: middle;\n",
       "    }\n",
       "\n",
       "    .dataframe tbody tr th {\n",
       "        vertical-align: top;\n",
       "    }\n",
       "\n",
       "    .dataframe thead th {\n",
       "        text-align: right;\n",
       "    }\n",
       "</style>\n",
       "<table border=\"1\" class=\"dataframe\">\n",
       "  <thead>\n",
       "    <tr style=\"text-align: right;\">\n",
       "      <th></th>\n",
       "      <th>number</th>\n",
       "      <th>pull_request_number</th>\n",
       "      <th>id</th>\n",
       "      <th>event_type</th>\n",
       "      <th>finished_at</th>\n",
       "      <th>pull_request_title</th>\n",
       "      <th>started_at</th>\n",
       "      <th>duration</th>\n",
       "      <th>state</th>\n",
       "    </tr>\n",
       "  </thead>\n",
       "  <tbody>\n",
       "    <tr>\n",
       "      <th>5691</th>\n",
       "      <td>5304</td>\n",
       "      <td>NaN</td>\n",
       "      <td>84464803</td>\n",
       "      <td>push</td>\n",
       "      <td>NaT</td>\n",
       "      <td>NaN</td>\n",
       "      <td>2015-10-09 09:14:28+00:00</td>\n",
       "      <td>NaN</td>\n",
       "      <td>canceled</td>\n",
       "    </tr>\n",
       "  </tbody>\n",
       "</table>\n",
       "</div>"
      ],
      "text/plain": [
       "      number  pull_request_number        id event_type finished_at  \\\n",
       "5691    5304                  NaN  84464803       push         NaT   \n",
       "\n",
       "     pull_request_title                started_at  duration     state  \n",
       "5691                NaN 2015-10-09 09:14:28+00:00       NaN  canceled  "
      ]
     },
     "execution_count": 130,
     "metadata": {},
     "output_type": "execute_result"
    }
   ],
   "source": [
    "builds[builds.finished_at.isna()]"
   ]
  },
  {
   "cell_type": "markdown",
   "metadata": {},
   "source": [
    "**Missing value started_at**"
   ]
  },
  {
   "cell_type": "code",
   "execution_count": 131,
   "metadata": {},
   "outputs": [
    {
     "data": {
      "text/html": [
       "<div>\n",
       "<style scoped>\n",
       "    .dataframe tbody tr th:only-of-type {\n",
       "        vertical-align: middle;\n",
       "    }\n",
       "\n",
       "    .dataframe tbody tr th {\n",
       "        vertical-align: top;\n",
       "    }\n",
       "\n",
       "    .dataframe thead th {\n",
       "        text-align: right;\n",
       "    }\n",
       "</style>\n",
       "<table border=\"1\" class=\"dataframe\">\n",
       "  <thead>\n",
       "    <tr style=\"text-align: right;\">\n",
       "      <th></th>\n",
       "      <th>number</th>\n",
       "      <th>pull_request_number</th>\n",
       "      <th>id</th>\n",
       "      <th>event_type</th>\n",
       "      <th>finished_at</th>\n",
       "      <th>pull_request_title</th>\n",
       "      <th>started_at</th>\n",
       "      <th>duration</th>\n",
       "      <th>state</th>\n",
       "    </tr>\n",
       "  </thead>\n",
       "  <tbody>\n",
       "    <tr>\n",
       "      <th>39</th>\n",
       "      <td>6956</td>\n",
       "      <td>698.0</td>\n",
       "      <td>98109984</td>\n",
       "      <td>pull_request</td>\n",
       "      <td>2015-12-21 12:55:52+00:00</td>\n",
       "      <td>SONAR-7129 WS api/components/tree</td>\n",
       "      <td>NaT</td>\n",
       "      <td>0.0</td>\n",
       "      <td>canceled</td>\n",
       "    </tr>\n",
       "    <tr>\n",
       "      <th>40</th>\n",
       "      <td>6955</td>\n",
       "      <td>NaN</td>\n",
       "      <td>98109967</td>\n",
       "      <td>push</td>\n",
       "      <td>2015-12-21 12:55:48+00:00</td>\n",
       "      <td>NaN</td>\n",
       "      <td>NaT</td>\n",
       "      <td>0.0</td>\n",
       "      <td>canceled</td>\n",
       "    </tr>\n",
       "    <tr>\n",
       "      <th>62</th>\n",
       "      <td>6933</td>\n",
       "      <td>NaN</td>\n",
       "      <td>97691793</td>\n",
       "      <td>push</td>\n",
       "      <td>2015-12-18 15:44:49+00:00</td>\n",
       "      <td>NaN</td>\n",
       "      <td>NaT</td>\n",
       "      <td>0.0</td>\n",
       "      <td>canceled</td>\n",
       "    </tr>\n",
       "    <tr>\n",
       "      <th>83</th>\n",
       "      <td>6912</td>\n",
       "      <td>697.0</td>\n",
       "      <td>97487849</td>\n",
       "      <td>pull_request</td>\n",
       "      <td>2015-12-17 16:49:02+00:00</td>\n",
       "      <td>Update Travis build to use JDK 7 for Dory anal...</td>\n",
       "      <td>NaT</td>\n",
       "      <td>0.0</td>\n",
       "      <td>canceled</td>\n",
       "    </tr>\n",
       "    <tr>\n",
       "      <th>84</th>\n",
       "      <td>6911</td>\n",
       "      <td>NaN</td>\n",
       "      <td>97487829</td>\n",
       "      <td>push</td>\n",
       "      <td>2015-12-17 16:49:35+00:00</td>\n",
       "      <td>NaN</td>\n",
       "      <td>NaT</td>\n",
       "      <td>0.0</td>\n",
       "      <td>canceled</td>\n",
       "    </tr>\n",
       "    <tr>\n",
       "      <th>...</th>\n",
       "      <td>...</td>\n",
       "      <td>...</td>\n",
       "      <td>...</td>\n",
       "      <td>...</td>\n",
       "      <td>...</td>\n",
       "      <td>...</td>\n",
       "      <td>...</td>\n",
       "      <td>...</td>\n",
       "      <td>...</td>\n",
       "    </tr>\n",
       "    <tr>\n",
       "      <th>53</th>\n",
       "      <td>12089</td>\n",
       "      <td>NaN</td>\n",
       "      <td>147165948</td>\n",
       "      <td>push</td>\n",
       "      <td>2016-07-25 11:48:05+00:00</td>\n",
       "      <td>NaN</td>\n",
       "      <td>NaT</td>\n",
       "      <td>0.0</td>\n",
       "      <td>canceled</td>\n",
       "    </tr>\n",
       "    <tr>\n",
       "      <th>83</th>\n",
       "      <td>12119</td>\n",
       "      <td>NaN</td>\n",
       "      <td>147486281</td>\n",
       "      <td>push</td>\n",
       "      <td>2016-07-26 14:21:51+00:00</td>\n",
       "      <td>NaN</td>\n",
       "      <td>NaT</td>\n",
       "      <td>0.0</td>\n",
       "      <td>canceled</td>\n",
       "    </tr>\n",
       "    <tr>\n",
       "      <th>84</th>\n",
       "      <td>12120</td>\n",
       "      <td>1118.0</td>\n",
       "      <td>147486321</td>\n",
       "      <td>pull_request</td>\n",
       "      <td>2016-07-26 14:22:09+00:00</td>\n",
       "      <td>Rewrite \"Quality Profiles\" project page</td>\n",
       "      <td>NaT</td>\n",
       "      <td>0.0</td>\n",
       "      <td>canceled</td>\n",
       "    </tr>\n",
       "    <tr>\n",
       "      <th>107</th>\n",
       "      <td>12143</td>\n",
       "      <td>NaN</td>\n",
       "      <td>147807772</td>\n",
       "      <td>push</td>\n",
       "      <td>2016-07-27 16:36:24+00:00</td>\n",
       "      <td>NaN</td>\n",
       "      <td>NaT</td>\n",
       "      <td>0.0</td>\n",
       "      <td>canceled</td>\n",
       "    </tr>\n",
       "    <tr>\n",
       "      <th>114</th>\n",
       "      <td>12150</td>\n",
       "      <td>NaN</td>\n",
       "      <td>147962165</td>\n",
       "      <td>push</td>\n",
       "      <td>2016-07-28 07:16:46+00:00</td>\n",
       "      <td>NaN</td>\n",
       "      <td>NaT</td>\n",
       "      <td>0.0</td>\n",
       "      <td>canceled</td>\n",
       "    </tr>\n",
       "  </tbody>\n",
       "</table>\n",
       "<p>2128 rows × 9 columns</p>\n",
       "</div>"
      ],
      "text/plain": [
       "     number  pull_request_number         id    event_type  \\\n",
       "39     6956                698.0   98109984  pull_request   \n",
       "40     6955                  NaN   98109967          push   \n",
       "62     6933                  NaN   97691793          push   \n",
       "83     6912                697.0   97487849  pull_request   \n",
       "84     6911                  NaN   97487829          push   \n",
       "..      ...                  ...        ...           ...   \n",
       "53    12089                  NaN  147165948          push   \n",
       "83    12119                  NaN  147486281          push   \n",
       "84    12120               1118.0  147486321  pull_request   \n",
       "107   12143                  NaN  147807772          push   \n",
       "114   12150                  NaN  147962165          push   \n",
       "\n",
       "                  finished_at  \\\n",
       "39  2015-12-21 12:55:52+00:00   \n",
       "40  2015-12-21 12:55:48+00:00   \n",
       "62  2015-12-18 15:44:49+00:00   \n",
       "83  2015-12-17 16:49:02+00:00   \n",
       "84  2015-12-17 16:49:35+00:00   \n",
       "..                        ...   \n",
       "53  2016-07-25 11:48:05+00:00   \n",
       "83  2016-07-26 14:21:51+00:00   \n",
       "84  2016-07-26 14:22:09+00:00   \n",
       "107 2016-07-27 16:36:24+00:00   \n",
       "114 2016-07-28 07:16:46+00:00   \n",
       "\n",
       "                                    pull_request_title started_at  duration  \\\n",
       "39                   SONAR-7129 WS api/components/tree        NaT       0.0   \n",
       "40                                                 NaN        NaT       0.0   \n",
       "62                                                 NaN        NaT       0.0   \n",
       "83   Update Travis build to use JDK 7 for Dory anal...        NaT       0.0   \n",
       "84                                                 NaN        NaT       0.0   \n",
       "..                                                 ...        ...       ...   \n",
       "53                                                 NaN        NaT       0.0   \n",
       "83                                                 NaN        NaT       0.0   \n",
       "84             Rewrite \"Quality Profiles\" project page        NaT       0.0   \n",
       "107                                                NaN        NaT       0.0   \n",
       "114                                                NaN        NaT       0.0   \n",
       "\n",
       "        state  \n",
       "39   canceled  \n",
       "40   canceled  \n",
       "62   canceled  \n",
       "83   canceled  \n",
       "84   canceled  \n",
       "..        ...  \n",
       "53   canceled  \n",
       "83   canceled  \n",
       "84   canceled  \n",
       "107  canceled  \n",
       "114  canceled  \n",
       "\n",
       "[2128 rows x 9 columns]"
      ]
     },
     "execution_count": 131,
     "metadata": {},
     "output_type": "execute_result"
    }
   ],
   "source": [
    "builds[builds.started_at.isna()]"
   ]
  },
  {
   "cell_type": "code",
   "execution_count": 132,
   "metadata": {},
   "outputs": [
    {
     "name": "stderr",
     "output_type": "stream",
     "text": [
      "/Users/alexincerti/Library/Python/3.8/lib/python/site-packages/seaborn/_decorators.py:36: FutureWarning: Pass the following variable as a keyword arg: x. From version 0.12, the only valid positional argument will be `data`, and passing other arguments without an explicit keyword will result in an error or misinterpretation.\n",
      "  warnings.warn(\n"
     ]
    },
    {
     "data": {
      "text/plain": [
       "<AxesSubplot:xlabel='state', ylabel='count'>"
      ]
     },
     "execution_count": 132,
     "metadata": {},
     "output_type": "execute_result"
    },
    {
     "data": {
      "image/png": "[encoded data removed]",
      "text/plain": [
       "<Figure size 1080x360 with 1 Axes>"
      ]
     },
     "metadata": {
      "needs_background": "light"
     },
     "output_type": "display_data"
    }
   ],
   "source": [
    "sns.countplot(builds[builds.started_at.isna()].state)"
   ]
  },
  {
   "cell_type": "markdown",
   "metadata": {},
   "source": [
    "Missing values of started_at and finished_at are due to canceled and failed builds. This is acceptable"
   ]
  },
  {
   "cell_type": "markdown",
   "metadata": {},
   "source": [
    "**Time distribution**"
   ]
  },
  {
   "cell_type": "code",
   "execution_count": 133,
   "metadata": {},
   "outputs": [],
   "source": [
    "builds[\"started_at_day\"] = builds.started_at.dt.day\n",
    "builds[\"started_at_month\"] = builds.started_at.dt.month\n",
    "builds[\"started_at_year\"] = builds.started_at.dt.year"
   ]
  },
  {
   "cell_type": "code",
   "execution_count": 134,
   "metadata": {},
   "outputs": [
    {
     "data": {
      "image/png": "[encoded data removed]",
      "text/plain": [
       "<Figure size 1080x360 with 1 Axes>"
      ]
     },
     "metadata": {
      "needs_background": "light"
     },
     "output_type": "display_data"
    }
   ],
   "source": [
    "time_group = [\"started_at_year\", \"started_at_month\"]\n",
    "x = builds.groupby(time_group).id.count().reset_index().sort_values(by=time_group)\n",
    "ax = sns.barplot(x=x.index, y=x.id)\n",
    "ax.set_xticklabels(list(x.started_at_month.astype(int).astype(str) + \"/\" + x.started_at_year.astype(int).astype(str)),\n",
    "                  rotation=90)\n",
    "plt.show()"
   ]
  },
  {
   "cell_type": "markdown",
   "metadata": {},
   "source": [
    "There has been a decrease of number of builds per month after 3/2018. This can possibly be due to change in configuration in travis CI"
   ]
  },
  {
   "cell_type": "markdown",
   "metadata": {},
   "source": [
    "**Is the change related to moving from Maven to Gradle?**"
   ]
  },
  {
   "cell_type": "code",
   "execution_count": 135,
   "metadata": {},
   "outputs": [
    {
     "data": {
      "text/plain": [
       "Timestamp('2018-03-09 10:55:42+0000', tz='UTC')"
      ]
     },
     "execution_count": 135,
     "metadata": {},
     "output_type": "execute_result"
    }
   ],
   "source": [
    "builds[builds.pull_request_title==\"Use Gradle instead of Maven\"].finished_at.max()"
   ]
  },
  {
   "cell_type": "markdown",
   "metadata": {},
   "source": [
    "It seems like this may be the case, as the last pr build about moving to Gradle happened exactly in 3/2018. This switch may signify a larger cleaning and restructuring of the Continuous Integration process."
   ]
  },
  {
   "cell_type": "markdown",
   "metadata": {},
   "source": [
    "### Event type"
   ]
  },
  {
   "cell_type": "code",
   "execution_count": 136,
   "metadata": {},
   "outputs": [
    {
     "name": "stderr",
     "output_type": "stream",
     "text": [
      "/Users/alexincerti/Library/Python/3.8/lib/python/site-packages/seaborn/_decorators.py:36: FutureWarning: Pass the following variable as a keyword arg: x. From version 0.12, the only valid positional argument will be `data`, and passing other arguments without an explicit keyword will result in an error or misinterpretation.\n",
      "  warnings.warn(\n"
     ]
    },
    {
     "data": {
      "text/plain": [
       "<AxesSubplot:xlabel='event_type', ylabel='count'>"
      ]
     },
     "execution_count": 136,
     "metadata": {},
     "output_type": "execute_result"
    },
    {
     "data": {
      "image/png": "[encoded data removed]",
      "text/plain": [
       "<Figure size 1080x360 with 1 Axes>"
      ]
     },
     "metadata": {
      "needs_background": "light"
     },
     "output_type": "display_data"
    }
   ],
   "source": [
    "sns.countplot(builds.event_type)"
   ]
  },
  {
   "cell_type": "markdown",
   "metadata": {},
   "source": [
    "Most of the builds have been triggered by a push event"
   ]
  },
  {
   "cell_type": "code",
   "execution_count": 137,
   "metadata": {},
   "outputs": [],
   "source": [
    "after_decrease = builds[(builds.started_at_month > 3) & (builds.started_at_year > 2018)]\n",
    "before_decrease = builds[~builds.index.isin(after_decrease.index)]"
   ]
  },
  {
   "cell_type": "code",
   "execution_count": 138,
   "metadata": {},
   "outputs": [
    {
     "name": "stderr",
     "output_type": "stream",
     "text": [
      "/Users/alexincerti/Library/Python/3.8/lib/python/site-packages/seaborn/_decorators.py:36: FutureWarning: Pass the following variable as a keyword arg: x. From version 0.12, the only valid positional argument will be `data`, and passing other arguments without an explicit keyword will result in an error or misinterpretation.\n",
      "  warnings.warn(\n",
      "/Users/alexincerti/Library/Python/3.8/lib/python/site-packages/seaborn/_decorators.py:36: FutureWarning: Pass the following variable as a keyword arg: x. From version 0.12, the only valid positional argument will be `data`, and passing other arguments without an explicit keyword will result in an error or misinterpretation.\n",
      "  warnings.warn(\n"
     ]
    },
    {
     "data": {
      "text/plain": [
       "Text(0.5, 1.0, 'After decrease')"
      ]
     },
     "execution_count": 138,
     "metadata": {},
     "output_type": "execute_result"
    },
    {
     "data": {
      "image/png": "[encoded data removed]",
      "text/plain": [
       "<Figure size 1080x360 with 2 Axes>"
      ]
     },
     "metadata": {
      "needs_background": "light"
     },
     "output_type": "display_data"
    }
   ],
   "source": [
    "f, axes = plt.subplots(1,2)\n",
    "sns.countplot(before_decrease.event_type, ax=axes[0])\n",
    "axes[0].set_title(\"Before decrease\")\n",
    "sns.countplot(after_decrease.event_type, ax=axes[1])\n",
    "axes[1].set_title(\"After decrease\")"
   ]
  },
  {
   "cell_type": "markdown",
   "metadata": {},
   "source": [
    "### Pull request number"
   ]
  },
  {
   "cell_type": "code",
   "execution_count": 139,
   "metadata": {},
   "outputs": [
    {
     "data": {
      "text/plain": [
       "3250.0"
      ]
     },
     "execution_count": 139,
     "metadata": {},
     "output_type": "execute_result"
    }
   ],
   "source": [
    "builds.pull_request_number.max()"
   ]
  },
  {
   "cell_type": "code",
   "execution_count": 140,
   "metadata": {},
   "outputs": [
    {
     "data": {
      "text/plain": [
       "149.0"
      ]
     },
     "execution_count": 140,
     "metadata": {},
     "output_type": "execute_result"
    }
   ],
   "source": [
    "builds.pull_request_number.min()"
   ]
  },
  {
   "cell_type": "code",
   "execution_count": 141,
   "metadata": {},
   "outputs": [
    {
     "data": {
      "text/plain": [
       "count    12874.000000\n",
       "mean      1835.283673\n",
       "std        849.071851\n",
       "min        149.000000\n",
       "25%       1178.000000\n",
       "50%       1910.000000\n",
       "75%       2540.000000\n",
       "max       3250.000000\n",
       "Name: pull_request_number, dtype: float64"
      ]
     },
     "execution_count": 141,
     "metadata": {},
     "output_type": "execute_result"
    }
   ],
   "source": [
    "builds.pull_request_number.describe()"
   ]
  },
  {
   "cell_type": "code",
   "execution_count": 142,
   "metadata": {},
   "outputs": [
    {
     "data": {
      "text/plain": [
       "3044"
      ]
     },
     "execution_count": 142,
     "metadata": {},
     "output_type": "execute_result"
    }
   ],
   "source": [
    "len(builds.pull_request_number.unique())"
   ]
  },
  {
   "cell_type": "code",
   "execution_count": 143,
   "metadata": {},
   "outputs": [
    {
     "data": {
      "text/plain": [
       "-57.0"
      ]
     },
     "execution_count": 143,
     "metadata": {},
     "output_type": "execute_result"
    }
   ],
   "source": [
    "len(builds.pull_request_number.unique()) - (builds.pull_request_number.max() - builds.pull_request_number.min())"
   ]
  },
  {
   "cell_type": "code",
   "execution_count": 144,
   "metadata": {},
   "outputs": [
    {
     "name": "stderr",
     "output_type": "stream",
     "text": [
      "/Users/alexincerti/Library/Python/3.8/lib/python/site-packages/seaborn/_decorators.py:36: FutureWarning: Pass the following variable as a keyword arg: x. From version 0.12, the only valid positional argument will be `data`, and passing other arguments without an explicit keyword will result in an error or misinterpretation.\n",
      "  warnings.warn(\n"
     ]
    },
    {
     "data": {
      "text/plain": [
       "Text(0, 0.5, 'Builds per pull request')"
      ]
     },
     "execution_count": 144,
     "metadata": {},
     "output_type": "execute_result"
    },
    {
     "data": {
      "image/png": "[encoded data removed]",
      "text/plain": [
       "<Figure size 1080x360 with 1 Axes>"
      ]
     },
     "metadata": {
      "needs_background": "light"
     },
     "output_type": "display_data"
    }
   ],
   "source": [
    "ax = sns.countplot(builds.groupby(builds.pull_request_number).id.count().values)\n",
    "ax.set_xlabel(\"Pull requests\")\n",
    "ax.set_ylabel(\"Builds per pull request\")"
   ]
  },
  {
   "cell_type": "markdown",
   "metadata": {},
   "source": [
    "* There are 3044 pull requests which triggered builds on TravisCI. \n",
    "* Given the highest pull request number and the smallest, there are 57 which did not trigger anything on TravisCI.\n",
    "* The distribution of number of builds per pr has a long tail. The majority stays in the range 1-10 but the number goes all the way up to 92"
   ]
  },
  {
   "cell_type": "markdown",
   "metadata": {},
   "source": [
    "### State"
   ]
  },
  {
   "cell_type": "code",
   "execution_count": 145,
   "metadata": {},
   "outputs": [
    {
     "name": "stderr",
     "output_type": "stream",
     "text": [
      "/Users/alexincerti/Library/Python/3.8/lib/python/site-packages/seaborn/_decorators.py:36: FutureWarning: Pass the following variable as a keyword arg: x. From version 0.12, the only valid positional argument will be `data`, and passing other arguments without an explicit keyword will result in an error or misinterpretation.\n",
      "  warnings.warn(\n"
     ]
    },
    {
     "data": {
      "text/plain": [
       "<AxesSubplot:xlabel='state', ylabel='count'>"
      ]
     },
     "execution_count": 145,
     "metadata": {},
     "output_type": "execute_result"
    },
    {
     "data": {
      "image/png": "[encoded data removed]",
      "text/plain": [
       "<Figure size 1080x360 with 1 Axes>"
      ]
     },
     "metadata": {
      "needs_background": "light"
     },
     "output_type": "display_data"
    }
   ],
   "source": [
    "sns.countplot(builds.state)"
   ]
  },
  {
   "cell_type": "code",
   "execution_count": 146,
   "metadata": {},
   "outputs": [
    {
     "name": "stderr",
     "output_type": "stream",
     "text": [
      "/Users/alexincerti/Library/Python/3.8/lib/python/site-packages/seaborn/_decorators.py:36: FutureWarning: Pass the following variable as a keyword arg: x. From version 0.12, the only valid positional argument will be `data`, and passing other arguments without an explicit keyword will result in an error or misinterpretation.\n",
      "  warnings.warn(\n",
      "/Users/alexincerti/Library/Python/3.8/lib/python/site-packages/seaborn/_decorators.py:36: FutureWarning: Pass the following variable as a keyword arg: x. From version 0.12, the only valid positional argument will be `data`, and passing other arguments without an explicit keyword will result in an error or misinterpretation.\n",
      "  warnings.warn(\n"
     ]
    },
    {
     "data": {
      "text/plain": [
       "Text(0.5, 1.0, 'After decrease')"
      ]
     },
     "execution_count": 146,
     "metadata": {},
     "output_type": "execute_result"
    },
    {
     "data": {
      "image/png": "[encoded data removed]",
      "text/plain": [
       "<Figure size 1080x360 with 2 Axes>"
      ]
     },
     "metadata": {
      "needs_background": "light"
     },
     "output_type": "display_data"
    }
   ],
   "source": [
    "f, axes = plt.subplots(1,2)\n",
    "sns.countplot(before_decrease.state, ax=axes[0])\n",
    "axes[0].set_title(\"Before decrease\")\n",
    "sns.countplot(after_decrease.state, ax=axes[1])\n",
    "axes[1].set_title(\"After decrease\")"
   ]
  },
  {
   "cell_type": "markdown",
   "metadata": {},
   "source": [
    "* After the decrease (3/2018) no canceled builds are present. This may hint at a more stable workflow implemented which triggeres fewer and only the needed builds."
   ]
  },
  {
   "cell_type": "markdown",
   "metadata": {},
   "source": [
    "**What is the state distribution for pull requests with many builds?**"
   ]
  },
  {
   "cell_type": "code",
   "execution_count": 147,
   "metadata": {},
   "outputs": [
    {
     "name": "stderr",
     "output_type": "stream",
     "text": [
      "/Users/alexincerti/Library/Python/3.8/lib/python/site-packages/seaborn/_decorators.py:36: FutureWarning: Pass the following variable as a keyword arg: x. From version 0.12, the only valid positional argument will be `data`, and passing other arguments without an explicit keyword will result in an error or misinterpretation.\n",
      "  warnings.warn(\n"
     ]
    },
    {
     "data": {
      "text/plain": [
       "<AxesSubplot:xlabel='state', ylabel='count'>"
      ]
     },
     "execution_count": 147,
     "metadata": {},
     "output_type": "execute_result"
    },
    {
     "data": {
      "image/png": "[encoded data removed]",
      "text/plain": [
       "<Figure size 1080x360 with 1 Axes>"
      ]
     },
     "metadata": {
      "needs_background": "light"
     },
     "output_type": "display_data"
    }
   ],
   "source": [
    "pr_build_count = builds.groupby(builds.pull_request_number).id.count()\n",
    "pr_build_tail =  list(pr_build_count[pr_build_count > 20].index)\n",
    "sns.countplot(builds[builds.pull_request_number.isin(pr_build_tail)].state)"
   ]
  },
  {
   "cell_type": "markdown",
   "metadata": {},
   "source": [
    "### Duration"
   ]
  },
  {
   "cell_type": "markdown",
   "metadata": {},
   "source": [
    "**Investigate NaN values**"
   ]
  },
  {
   "cell_type": "code",
   "execution_count": 148,
   "metadata": {},
   "outputs": [
    {
     "data": {
      "text/html": [
       "<div>\n",
       "<style scoped>\n",
       "    .dataframe tbody tr th:only-of-type {\n",
       "        vertical-align: middle;\n",
       "    }\n",
       "\n",
       "    .dataframe tbody tr th {\n",
       "        vertical-align: top;\n",
       "    }\n",
       "\n",
       "    .dataframe thead th {\n",
       "        text-align: right;\n",
       "    }\n",
       "</style>\n",
       "<table border=\"1\" class=\"dataframe\">\n",
       "  <thead>\n",
       "    <tr style=\"text-align: right;\">\n",
       "      <th></th>\n",
       "      <th>number</th>\n",
       "      <th>pull_request_number</th>\n",
       "      <th>id</th>\n",
       "      <th>event_type</th>\n",
       "      <th>finished_at</th>\n",
       "      <th>pull_request_title</th>\n",
       "      <th>started_at</th>\n",
       "      <th>duration</th>\n",
       "      <th>state</th>\n",
       "      <th>started_at_day</th>\n",
       "      <th>started_at_month</th>\n",
       "      <th>started_at_year</th>\n",
       "    </tr>\n",
       "  </thead>\n",
       "  <tbody>\n",
       "    <tr>\n",
       "      <th>730</th>\n",
       "      <td>6265</td>\n",
       "      <td>NaN</td>\n",
       "      <td>92082939</td>\n",
       "      <td>push</td>\n",
       "      <td>2015-11-27 13:29:53+00:00</td>\n",
       "      <td>NaN</td>\n",
       "      <td>2015-11-19 17:02:00+00:00</td>\n",
       "      <td>NaN</td>\n",
       "      <td>canceled</td>\n",
       "      <td>19.0</td>\n",
       "      <td>11.0</td>\n",
       "      <td>2015.0</td>\n",
       "    </tr>\n",
       "    <tr>\n",
       "      <th>5691</th>\n",
       "      <td>5304</td>\n",
       "      <td>NaN</td>\n",
       "      <td>84464803</td>\n",
       "      <td>push</td>\n",
       "      <td>NaT</td>\n",
       "      <td>NaN</td>\n",
       "      <td>2015-10-09 09:14:28+00:00</td>\n",
       "      <td>NaN</td>\n",
       "      <td>canceled</td>\n",
       "      <td>9.0</td>\n",
       "      <td>10.0</td>\n",
       "      <td>2015.0</td>\n",
       "    </tr>\n",
       "  </tbody>\n",
       "</table>\n",
       "</div>"
      ],
      "text/plain": [
       "      number  pull_request_number        id event_type  \\\n",
       "730     6265                  NaN  92082939       push   \n",
       "5691    5304                  NaN  84464803       push   \n",
       "\n",
       "                   finished_at pull_request_title                started_at  \\\n",
       "730  2015-11-27 13:29:53+00:00                NaN 2015-11-19 17:02:00+00:00   \n",
       "5691                       NaT                NaN 2015-10-09 09:14:28+00:00   \n",
       "\n",
       "      duration     state  started_at_day  started_at_month  started_at_year  \n",
       "730        NaN  canceled            19.0              11.0           2015.0  \n",
       "5691       NaN  canceled             9.0              10.0           2015.0  "
      ]
     },
     "execution_count": 148,
     "metadata": {},
     "output_type": "execute_result"
    }
   ],
   "source": [
    "builds[builds.duration.isna()]"
   ]
  },
  {
   "cell_type": "markdown",
   "metadata": {},
   "source": [
    "Both are canceled builds. Duration can be set to 0 instead"
   ]
  },
  {
   "cell_type": "code",
   "execution_count": 149,
   "metadata": {},
   "outputs": [
    {
     "name": "stderr",
     "output_type": "stream",
     "text": [
      "/Users/alexincerti/Library/Python/3.8/lib/python/site-packages/pandas/core/generic.py:5159: SettingWithCopyWarning: \n",
      "A value is trying to be set on a copy of a slice from a DataFrame.\n",
      "Try using .loc[row_indexer,col_indexer] = value instead\n",
      "\n",
      "See the caveats in the documentation: https://pandas.pydata.org/pandas-docs/stable/user_guide/indexing.html#returning-a-view-versus-a-copy\n",
      "  self[name] = value\n"
     ]
    }
   ],
   "source": [
    "builds[builds.duration.isna()].duration = 0"
   ]
  },
  {
   "cell_type": "markdown",
   "metadata": {},
   "source": [
    "**Investigate negative outliers**"
   ]
  },
  {
   "cell_type": "code",
   "execution_count": 150,
   "metadata": {},
   "outputs": [
    {
     "name": "stderr",
     "output_type": "stream",
     "text": [
      "/Users/alexincerti/Library/Python/3.8/lib/python/site-packages/seaborn/_decorators.py:36: FutureWarning: Pass the following variable as a keyword arg: x. From version 0.12, the only valid positional argument will be `data`, and passing other arguments without an explicit keyword will result in an error or misinterpretation.\n",
      "  warnings.warn(\n"
     ]
    },
    {
     "data": {
      "text/plain": [
       "<AxesSubplot:xlabel='state', ylabel='count'>"
      ]
     },
     "execution_count": 150,
     "metadata": {},
     "output_type": "execute_result"
    },
    {
     "data": {
      "image/png": "[encoded data removed]",
      "text/plain": [
       "<Figure size 1080x360 with 1 Axes>"
      ]
     },
     "metadata": {
      "needs_background": "light"
     },
     "output_type": "display_data"
    }
   ],
   "source": [
    "sns.countplot(builds[builds.duration < 0].state)"
   ]
  },
  {
   "cell_type": "markdown",
   "metadata": {},
   "source": [
    "All builds with negative duration are either in canceled or errored state"
   ]
  },
  {
   "cell_type": "code",
   "execution_count": 151,
   "metadata": {},
   "outputs": [
    {
     "name": "stderr",
     "output_type": "stream",
     "text": [
      "/Users/alexincerti/Library/Python/3.8/lib/python/site-packages/seaborn/_decorators.py:36: FutureWarning: Pass the following variable as a keyword arg: x. From version 0.12, the only valid positional argument will be `data`, and passing other arguments without an explicit keyword will result in an error or misinterpretation.\n",
      "  warnings.warn(\n"
     ]
    },
    {
     "data": {
      "text/plain": [
       "<AxesSubplot:xlabel='state', ylabel='count'>"
      ]
     },
     "execution_count": 151,
     "metadata": {},
     "output_type": "execute_result"
    },
    {
     "data": {
      "image/png": "[encoded data removed]",
      "text/plain": [
       "<Figure size 1080x360 with 1 Axes>"
      ]
     },
     "metadata": {
      "needs_background": "light"
     },
     "output_type": "display_data"
    }
   ],
   "source": [
    "sns.countplot(builds[builds.duration == 0].state)"
   ]
  },
  {
   "cell_type": "markdown",
   "metadata": {},
   "source": [
    "A more proper value is 0 for those builds (which some builds already have). Negative duration should not be allowed."
   ]
  },
  {
   "cell_type": "markdown",
   "metadata": {},
   "source": [
    "**Imputing negative outliers**"
   ]
  },
  {
   "cell_type": "code",
   "execution_count": 152,
   "metadata": {},
   "outputs": [],
   "source": [
    "builds[builds.duration < 0] = 0"
   ]
  },
  {
   "cell_type": "markdown",
   "metadata": {},
   "source": [
    "**Investigating positive outliers**"
   ]
  },
  {
   "cell_type": "code",
   "execution_count": 153,
   "metadata": {},
   "outputs": [
    {
     "name": "stderr",
     "output_type": "stream",
     "text": [
      "/Users/alexincerti/Library/Python/3.8/lib/python/site-packages/seaborn/distributions.py:2551: FutureWarning: `distplot` is a deprecated function and will be removed in a future version. Please adapt your code to use either `displot` (a figure-level function with similar flexibility) or `histplot` (an axes-level function for histograms).\n",
      "  warnings.warn(msg, FutureWarning)\n"
     ]
    },
    {
     "data": {
      "text/plain": [
       "<AxesSubplot:ylabel='Density'>"
      ]
     },
     "execution_count": 153,
     "metadata": {},
     "output_type": "execute_result"
    },
    {
     "data": {
      "image/png": "[encoded data removed]",
      "text/plain": [
       "<Figure size 1080x360 with 1 Axes>"
      ]
     },
     "metadata": {
      "needs_background": "light"
     },
     "output_type": "display_data"
    }
   ],
   "source": [
    "sns.distplot(list(builds.duration.sort_values()))"
   ]
  },
  {
   "cell_type": "code",
   "execution_count": 154,
   "metadata": {
    "scrolled": true
   },
   "outputs": [
    {
     "name": "stderr",
     "output_type": "stream",
     "text": [
      "/Users/alexincerti/Library/Python/3.8/lib/python/site-packages/seaborn/distributions.py:2551: FutureWarning: `distplot` is a deprecated function and will be removed in a future version. Please adapt your code to use either `displot` (a figure-level function with similar flexibility) or `histplot` (an axes-level function for histograms).\n",
      "  warnings.warn(msg, FutureWarning)\n"
     ]
    },
    {
     "data": {
      "text/plain": [
       "<AxesSubplot:ylabel='Density'>"
      ]
     },
     "execution_count": 154,
     "metadata": {},
     "output_type": "execute_result"
    },
    {
     "data": {
      "image/png": "[encoded data removed]",
      "text/plain": [
       "<Figure size 1080x360 with 1 Axes>"
      ]
     },
     "metadata": {
      "needs_background": "light"
     },
     "output_type": "display_data"
    }
   ],
   "source": [
    "sns.distplot(list(builds.duration.sort_values())[:-20])"
   ]
  },
  {
   "cell_type": "code",
   "execution_count": 155,
   "metadata": {
    "scrolled": false
   },
   "outputs": [
    {
     "name": "stderr",
     "output_type": "stream",
     "text": [
      "/Users/alexincerti/Library/Python/3.8/lib/python/site-packages/seaborn/_decorators.py:36: FutureWarning: Pass the following variable as a keyword arg: x. From version 0.12, the only valid positional argument will be `data`, and passing other arguments without an explicit keyword will result in an error or misinterpretation.\n",
      "  warnings.warn(\n"
     ]
    },
    {
     "data": {
      "text/plain": [
       "<AxesSubplot:xlabel='duration'>"
      ]
     },
     "execution_count": 155,
     "metadata": {},
     "output_type": "execute_result"
    },
    {
     "data": {
      "image/png": "[encoded data removed]",
      "text/plain": [
       "<Figure size 1080x360 with 1 Axes>"
      ]
     },
     "metadata": {
      "needs_background": "light"
     },
     "output_type": "display_data"
    }
   ],
   "source": [
    "sns.boxplot(builds.duration)"
   ]
  },
  {
   "cell_type": "code",
   "execution_count": 156,
   "metadata": {},
   "outputs": [
    {
     "data": {
      "text/plain": [
       "3939.0"
      ]
     },
     "execution_count": 156,
     "metadata": {},
     "output_type": "execute_result"
    }
   ],
   "source": [
    "boxplot_stats(builds.duration.dropna())[0][\"fliers\"].min()"
   ]
  },
  {
   "cell_type": "markdown",
   "metadata": {},
   "source": [
    "We detect the presence of many outliers, the smallest of which is 3939 seconds (more than an hour)"
   ]
  },
  {
   "cell_type": "markdown",
   "metadata": {},
   "source": [
    "**Distribution of outliers**"
   ]
  },
  {
   "cell_type": "code",
   "execution_count": 157,
   "metadata": {},
   "outputs": [],
   "source": [
    "duration_outliers = builds[builds.duration > 3939]"
   ]
  },
  {
   "cell_type": "code",
   "execution_count": 158,
   "metadata": {},
   "outputs": [
    {
     "name": "stderr",
     "output_type": "stream",
     "text": [
      "/Users/alexincerti/Library/Python/3.8/lib/python/site-packages/seaborn/_decorators.py:36: FutureWarning: Pass the following variable as a keyword arg: x. From version 0.12, the only valid positional argument will be `data`, and passing other arguments without an explicit keyword will result in an error or misinterpretation.\n",
      "  warnings.warn(\n",
      "/Users/alexincerti/Library/Python/3.8/lib/python/site-packages/seaborn/_decorators.py:36: FutureWarning: Pass the following variable as a keyword arg: x. From version 0.12, the only valid positional argument will be `data`, and passing other arguments without an explicit keyword will result in an error or misinterpretation.\n",
      "  warnings.warn(\n",
      "/Users/alexincerti/Library/Python/3.8/lib/python/site-packages/seaborn/_decorators.py:36: FutureWarning: Pass the following variable as a keyword arg: x. From version 0.12, the only valid positional argument will be `data`, and passing other arguments without an explicit keyword will result in an error or misinterpretation.\n",
      "  warnings.warn(\n"
     ]
    },
    {
     "data": {
      "text/plain": [
       "Text(0.5, 1.0, 'Year')"
      ]
     },
     "execution_count": 158,
     "metadata": {},
     "output_type": "execute_result"
    },
    {
     "data": {
      "image/png": "[encoded data removed]",
      "text/plain": [
       "<Figure size 1080x360 with 3 Axes>"
      ]
     },
     "metadata": {
      "needs_background": "light"
     },
     "output_type": "display_data"
    }
   ],
   "source": [
    "f, axes = plt.subplots(1,3)\n",
    "sns.countplot(duration_outliers.state, ax=axes[0])\n",
    "axes[0].set_title(\"State\")\n",
    "sns.countplot(duration_outliers.event_type, ax=axes[1])\n",
    "axes[1].set_title(\"Event type\")\n",
    "sns.countplot(duration_outliers.started_at_year, ax=axes[2])\n",
    "axes[2].set_title(\"Year\")"
   ]
  },
  {
   "cell_type": "markdown",
   "metadata": {},
   "source": [
    "* State and event type distribution seem to follow the distribution of the whole dataset\n",
    "* These outliers seem to be concentrated in the early years of the project on TravisCI. Maybe this is due to inexperience with CI processes and misconfigurations of builds"
   ]
  },
  {
   "cell_type": "markdown",
   "metadata": {},
   "source": [
    "### Pull request title"
   ]
  },
  {
   "cell_type": "markdown",
   "metadata": {},
   "source": [
    "Top most builded pull requests by title"
   ]
  },
  {
   "cell_type": "code",
   "execution_count": 159,
   "metadata": {
    "scrolled": true
   },
   "outputs": [
    {
     "data": {
      "text/plain": [
       "pull_request_title\n",
       "Use Gradle instead of Maven                               103\n",
       "MMF-324 introduce concept of build-in Quality profiles     71\n",
       "MMF-753 start stop cluster improvements                    69\n",
       "Feature/branches                                           62\n",
       "MMF-1134 Pull Request as 1st class citizen                 61\n",
       "SONAR-10345 manage webhooks                                59\n",
       "SONAR-8092 generalise startup of es indexers               46\n",
       "Upgrade to ElasticSearch 5.5                               43\n",
       "MMF-659 faster global search with elastic search           42\n",
       "MMF-763 Revamped Issues page                               40\n",
       "Name: id, dtype: int64"
      ]
     },
     "execution_count": 159,
     "metadata": {},
     "output_type": "execute_result"
    }
   ],
   "source": [
    "builds.groupby(builds.pull_request_title).id.count().sort_values(ascending=False).head(10)"
   ]
  },
  {
   "cell_type": "markdown",
   "metadata": {},
   "source": [
    "### Export clean dataset"
   ]
  },
  {
   "cell_type": "code",
   "execution_count": 161,
   "metadata": {},
   "outputs": [],
   "source": [
    "builds.to_csv(f\"{csv_folder}/builds_cleaned.csv\")"
   ]
  }
 ],
 "metadata": {
  "kernelspec": {
   "display_name": "Python 3",
   "language": "python",
   "name": "python3"
  },
  "language_info": {
   "codemirror_mode": {
    "name": "ipython",
    "version": 3
   },
   "file_extension": ".py",
   "mimetype": "text/x-python",
   "name": "python",
   "nbconvert_exporter": "python",
   "pygments_lexer": "ipython3",
   "version": "3.8.2"
  }
 },
 "nbformat": 4,
 "nbformat_minor": 4
}
