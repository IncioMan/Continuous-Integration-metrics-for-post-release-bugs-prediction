{
 "cells": [
  {
   "cell_type": "code",
   "execution_count": 1,
   "metadata": {},
   "outputs": [],
   "source": [
    "import pandas as pd\n",
    "import pickle\n",
    "import json\n",
    "import seaborn as sns\n",
    "import pprint\n",
    "import numpy as np\n",
    "import math\n",
    "import ast\n",
    "pp = pprint.PrettyPrinter(depth=6)\n",
    "import matplotlib\n",
    "import matplotlib.pyplot as plt\n",
    "from scipy import stats\n",
    "matplotlib.rcParams['figure.figsize'] = (14.0, 5.0)\n",
    "pd.set_option('display.max_columns', 120)\n",
    "pd.set_option('display.max_rows', 450)"
   ]
  },
  {
   "cell_type": "code",
   "execution_count": 2,
   "metadata": {},
   "outputs": [],
   "source": [
    "pkl_folder = \"../../pkl\"\n",
    "csv_folder = \"../../csv\"\n",
    "figure_folder = \"../../figures\""
   ]
  },
  {
   "cell_type": "markdown",
   "metadata": {},
   "source": [
    "# Goal"
   ]
  },
  {
   "cell_type": "markdown",
   "metadata": {},
   "source": [
    "Calculate ci metrics for each release and output a dataset with one entry for release and a list of metrics as features"
   ]
  },
  {
   "cell_type": "code",
   "execution_count": 3,
   "metadata": {},
   "outputs": [
    {
     "data": {
      "text/html": [
       "<div>\n",
       "<style scoped>\n",
       "    .dataframe tbody tr th:only-of-type {\n",
       "        vertical-align: middle;\n",
       "    }\n",
       "\n",
       "    .dataframe tbody tr th {\n",
       "        vertical-align: top;\n",
       "    }\n",
       "\n",
       "    .dataframe thead th {\n",
       "        text-align: right;\n",
       "    }\n",
       "</style>\n",
       "<table border=\"1\" class=\"dataframe\">\n",
       "  <thead>\n",
       "    <tr style=\"text-align: right;\">\n",
       "      <th></th>\n",
       "      <th>actual_release_date</th>\n",
       "      <th>Tag</th>\n",
       "      <th>Sha</th>\n",
       "      <th>Date</th>\n",
       "      <th>month</th>\n",
       "      <th>year</th>\n",
       "      <th>major_version</th>\n",
       "      <th>jira_version</th>\n",
       "    </tr>\n",
       "  </thead>\n",
       "  <tbody>\n",
       "    <tr>\n",
       "      <th>0</th>\n",
       "      <td>NaN</td>\n",
       "      <td>4.5.6</td>\n",
       "      <td>12d931e5a31e1692a428bbb34ba11cd63aebf998</td>\n",
       "      <td>2015-10-16 09:31:18</td>\n",
       "      <td>10</td>\n",
       "      <td>2015</td>\n",
       "      <td>4</td>\n",
       "      <td>4.5.6</td>\n",
       "    </tr>\n",
       "    <tr>\n",
       "      <th>1</th>\n",
       "      <td>NaN</td>\n",
       "      <td>4.5.7</td>\n",
       "      <td>e2afb0bff1b8be759789d2c1bc9348de6f519f83</td>\n",
       "      <td>2016-04-08 13:44:39</td>\n",
       "      <td>4</td>\n",
       "      <td>2016</td>\n",
       "      <td>4</td>\n",
       "      <td>4.5.7</td>\n",
       "    </tr>\n",
       "  </tbody>\n",
       "</table>\n",
       "</div>"
      ],
      "text/plain": [
       "  actual_release_date    Tag                                       Sha  \\\n",
       "0                 NaN  4.5.6  12d931e5a31e1692a428bbb34ba11cd63aebf998   \n",
       "1                 NaN  4.5.7  e2afb0bff1b8be759789d2c1bc9348de6f519f83   \n",
       "\n",
       "                 Date  month  year  major_version jira_version  \n",
       "0 2015-10-16 09:31:18     10  2015              4        4.5.6  \n",
       "1 2016-04-08 13:44:39      4  2016              4        4.5.7  "
      ]
     },
     "execution_count": 3,
     "metadata": {},
     "output_type": "execute_result"
    }
   ],
   "source": [
    "tags = pd.read_csv(f\"{csv_folder}/tags_updated.csv\", index_col=0)\n",
    "tags.Date = pd.to_datetime(tags.Date)\n",
    "tags.head(2)"
   ]
  },
  {
   "cell_type": "markdown",
   "metadata": {},
   "source": [
    "### Import builds and jobs"
   ]
  },
  {
   "cell_type": "code",
   "execution_count": 4,
   "metadata": {},
   "outputs": [
    {
     "data": {
      "text/html": [
       "<div>\n",
       "<style scoped>\n",
       "    .dataframe tbody tr th:only-of-type {\n",
       "        vertical-align: middle;\n",
       "    }\n",
       "\n",
       "    .dataframe tbody tr th {\n",
       "        vertical-align: top;\n",
       "    }\n",
       "\n",
       "    .dataframe thead th {\n",
       "        text-align: right;\n",
       "    }\n",
       "</style>\n",
       "<table border=\"1\" class=\"dataframe\">\n",
       "  <thead>\n",
       "    <tr style=\"text-align: right;\">\n",
       "      <th></th>\n",
       "      <th>number</th>\n",
       "      <th>pull_request_number</th>\n",
       "      <th>id</th>\n",
       "      <th>event_type</th>\n",
       "      <th>finished_at</th>\n",
       "      <th>pull_request_title</th>\n",
       "      <th>started_at</th>\n",
       "      <th>duration</th>\n",
       "      <th>state</th>\n",
       "      <th>started_at_day</th>\n",
       "      <th>started_at_month</th>\n",
       "      <th>started_at_year</th>\n",
       "    </tr>\n",
       "  </thead>\n",
       "  <tbody>\n",
       "    <tr>\n",
       "      <th>0</th>\n",
       "      <td>6995</td>\n",
       "      <td>NaN</td>\n",
       "      <td>99118995</td>\n",
       "      <td>push</td>\n",
       "      <td>2015-12-28 16:34:08+00:00</td>\n",
       "      <td>NaN</td>\n",
       "      <td>2015-12-28 16:18:41+00:00</td>\n",
       "      <td>5361.0</td>\n",
       "      <td>failed</td>\n",
       "      <td>28.0</td>\n",
       "      <td>12.0</td>\n",
       "      <td>2015.0</td>\n",
       "    </tr>\n",
       "    <tr>\n",
       "      <th>1</th>\n",
       "      <td>6994</td>\n",
       "      <td>NaN</td>\n",
       "      <td>99100662</td>\n",
       "      <td>push</td>\n",
       "      <td>2015-12-28 14:36:03+00:00</td>\n",
       "      <td>NaN</td>\n",
       "      <td>2015-12-28 14:18:30+00:00</td>\n",
       "      <td>5953.0</td>\n",
       "      <td>passed</td>\n",
       "      <td>28.0</td>\n",
       "      <td>12.0</td>\n",
       "      <td>2015.0</td>\n",
       "    </tr>\n",
       "  </tbody>\n",
       "</table>\n",
       "</div>"
      ],
      "text/plain": [
       "   number  pull_request_number        id event_type  \\\n",
       "0    6995                  NaN  99118995       push   \n",
       "1    6994                  NaN  99100662       push   \n",
       "\n",
       "                 finished_at pull_request_title                 started_at  \\\n",
       "0  2015-12-28 16:34:08+00:00                NaN  2015-12-28 16:18:41+00:00   \n",
       "1  2015-12-28 14:36:03+00:00                NaN  2015-12-28 14:18:30+00:00   \n",
       "\n",
       "   duration   state  started_at_day  started_at_month  started_at_year  \n",
       "0    5361.0  failed            28.0              12.0           2015.0  \n",
       "1    5953.0  passed            28.0              12.0           2015.0  "
      ]
     },
     "execution_count": 4,
     "metadata": {},
     "output_type": "execute_result"
    }
   ],
   "source": [
    "builds = pd.read_csv(f\"{csv_folder}/builds_cleaned.csv\", index_col=0)\n",
    "builds.head(2)"
   ]
  },
  {
   "cell_type": "code",
   "execution_count": 5,
   "metadata": {},
   "outputs": [
    {
     "data": {
      "text/plain": [
       "(136983, 13)"
      ]
     },
     "execution_count": 5,
     "metadata": {},
     "output_type": "execute_result"
    }
   ],
   "source": [
    "jobs = pd.read_csv(f\"{csv_folder}/allJobs.csv\", index_col=0)\n",
    "for datefield in [\"started_at\",\"created_at\",\"finished_at\",\"updated_at\"]:\n",
    "    jobs[f\"{datefield}\"] = pd.to_datetime(jobs[f\"{datefield}\"])\n",
    "jobs.shape"
   ]
  },
  {
   "cell_type": "code",
   "execution_count": 6,
   "metadata": {},
   "outputs": [
    {
     "data": {
      "text/plain": [
       "(39514, 6)"
      ]
     },
     "execution_count": 6,
     "metadata": {},
     "output_type": "execute_result"
    }
   ],
   "source": [
    "builds_sha = jobs[[\"buildid\", \"commitsha\",\"commitid\",\"commitmessage\",\"commitref\", \"started_at\"]]\n",
    "builds_sha = builds_sha.drop_duplicates(subset=[\"buildid\", \"commitsha\"],ignore_index=True)\n",
    "builds_sha.shape"
   ]
  },
  {
   "cell_type": "markdown",
   "metadata": {},
   "source": [
    "### Import tag comparison pairs"
   ]
  },
  {
   "cell_type": "code",
   "execution_count": 7,
   "metadata": {
    "scrolled": true
   },
   "outputs": [
    {
     "data": {
      "text/html": [
       "<div>\n",
       "<style scoped>\n",
       "    .dataframe tbody tr th:only-of-type {\n",
       "        vertical-align: middle;\n",
       "    }\n",
       "\n",
       "    .dataframe tbody tr th {\n",
       "        vertical-align: top;\n",
       "    }\n",
       "\n",
       "    .dataframe thead th {\n",
       "        text-align: right;\n",
       "    }\n",
       "</style>\n",
       "<table border=\"1\" class=\"dataframe\">\n",
       "  <thead>\n",
       "    <tr style=\"text-align: right;\">\n",
       "      <th></th>\n",
       "      <th>from_tag</th>\n",
       "      <th>to_tag</th>\n",
       "    </tr>\n",
       "  </thead>\n",
       "  <tbody>\n",
       "    <tr>\n",
       "      <th>3</th>\n",
       "      <td>5.1.2</td>\n",
       "      <td>5.2</td>\n",
       "    </tr>\n",
       "    <tr>\n",
       "      <th>4</th>\n",
       "      <td>5.2</td>\n",
       "      <td>5.3</td>\n",
       "    </tr>\n",
       "    <tr>\n",
       "      <th>5</th>\n",
       "      <td>5.3</td>\n",
       "      <td>5.4</td>\n",
       "    </tr>\n",
       "    <tr>\n",
       "      <th>6</th>\n",
       "      <td>5.4</td>\n",
       "      <td>5.5</td>\n",
       "    </tr>\n",
       "    <tr>\n",
       "      <th>7</th>\n",
       "      <td>5.5</td>\n",
       "      <td>5.6</td>\n",
       "    </tr>\n",
       "    <tr>\n",
       "      <th>8</th>\n",
       "      <td>5.6</td>\n",
       "      <td>5.6.1</td>\n",
       "    </tr>\n",
       "    <tr>\n",
       "      <th>9</th>\n",
       "      <td>5.6.1</td>\n",
       "      <td>5.6.2</td>\n",
       "    </tr>\n",
       "    <tr>\n",
       "      <th>10</th>\n",
       "      <td>5.6.1</td>\n",
       "      <td>6.0</td>\n",
       "    </tr>\n",
       "    <tr>\n",
       "      <th>11</th>\n",
       "      <td>5.6.2</td>\n",
       "      <td>5.6.3</td>\n",
       "    </tr>\n",
       "    <tr>\n",
       "      <th>12</th>\n",
       "      <td>5.6.3</td>\n",
       "      <td>5.6.4</td>\n",
       "    </tr>\n",
       "    <tr>\n",
       "      <th>13</th>\n",
       "      <td>5.6.4</td>\n",
       "      <td>5.6.5</td>\n",
       "    </tr>\n",
       "    <tr>\n",
       "      <th>14</th>\n",
       "      <td>5.6.5</td>\n",
       "      <td>5.6.6</td>\n",
       "    </tr>\n",
       "    <tr>\n",
       "      <th>15</th>\n",
       "      <td>5.6.6</td>\n",
       "      <td>5.6.7</td>\n",
       "    </tr>\n",
       "    <tr>\n",
       "      <th>16</th>\n",
       "      <td>6.0</td>\n",
       "      <td>6.1</td>\n",
       "    </tr>\n",
       "    <tr>\n",
       "      <th>17</th>\n",
       "      <td>6.1</td>\n",
       "      <td>6.1.1</td>\n",
       "    </tr>\n",
       "    <tr>\n",
       "      <th>18</th>\n",
       "      <td>6.1.1</td>\n",
       "      <td>6.2</td>\n",
       "    </tr>\n",
       "    <tr>\n",
       "      <th>19</th>\n",
       "      <td>6.2</td>\n",
       "      <td>6.3</td>\n",
       "    </tr>\n",
       "    <tr>\n",
       "      <th>20</th>\n",
       "      <td>6.3</td>\n",
       "      <td>6.3.1</td>\n",
       "    </tr>\n",
       "    <tr>\n",
       "      <th>21</th>\n",
       "      <td>6.3.1</td>\n",
       "      <td>6.3.2</td>\n",
       "    </tr>\n",
       "    <tr>\n",
       "      <th>22</th>\n",
       "      <td>6.3.2</td>\n",
       "      <td>6.4</td>\n",
       "    </tr>\n",
       "    <tr>\n",
       "      <th>23</th>\n",
       "      <td>6.4</td>\n",
       "      <td>6.5</td>\n",
       "    </tr>\n",
       "    <tr>\n",
       "      <th>24</th>\n",
       "      <td>6.5</td>\n",
       "      <td>6.6</td>\n",
       "    </tr>\n",
       "    <tr>\n",
       "      <th>25</th>\n",
       "      <td>6.6</td>\n",
       "      <td>6.7</td>\n",
       "    </tr>\n",
       "    <tr>\n",
       "      <th>26</th>\n",
       "      <td>6.7</td>\n",
       "      <td>6.7.1</td>\n",
       "    </tr>\n",
       "    <tr>\n",
       "      <th>27</th>\n",
       "      <td>6.7.1</td>\n",
       "      <td>7.0</td>\n",
       "    </tr>\n",
       "    <tr>\n",
       "      <th>28</th>\n",
       "      <td>6.7.1</td>\n",
       "      <td>6.7.2</td>\n",
       "    </tr>\n",
       "    <tr>\n",
       "      <th>29</th>\n",
       "      <td>6.7.2</td>\n",
       "      <td>6.7.3</td>\n",
       "    </tr>\n",
       "    <tr>\n",
       "      <th>30</th>\n",
       "      <td>6.7.3</td>\n",
       "      <td>6.7.4</td>\n",
       "    </tr>\n",
       "    <tr>\n",
       "      <th>31</th>\n",
       "      <td>6.7.4</td>\n",
       "      <td>6.7.5</td>\n",
       "    </tr>\n",
       "    <tr>\n",
       "      <th>32</th>\n",
       "      <td>6.7.5</td>\n",
       "      <td>6.7.6</td>\n",
       "    </tr>\n",
       "    <tr>\n",
       "      <th>33</th>\n",
       "      <td>6.7.6</td>\n",
       "      <td>6.7.7</td>\n",
       "    </tr>\n",
       "    <tr>\n",
       "      <th>34</th>\n",
       "      <td>7.0</td>\n",
       "      <td>7.1</td>\n",
       "    </tr>\n",
       "    <tr>\n",
       "      <th>35</th>\n",
       "      <td>7.1</td>\n",
       "      <td>7.2</td>\n",
       "    </tr>\n",
       "    <tr>\n",
       "      <th>36</th>\n",
       "      <td>7.2</td>\n",
       "      <td>7.3</td>\n",
       "    </tr>\n",
       "    <tr>\n",
       "      <th>37</th>\n",
       "      <td>7.3</td>\n",
       "      <td>7.4</td>\n",
       "    </tr>\n",
       "    <tr>\n",
       "      <th>38</th>\n",
       "      <td>7.4</td>\n",
       "      <td>7.5</td>\n",
       "    </tr>\n",
       "    <tr>\n",
       "      <th>39</th>\n",
       "      <td>7.5</td>\n",
       "      <td>7.6</td>\n",
       "    </tr>\n",
       "    <tr>\n",
       "      <th>40</th>\n",
       "      <td>7.6</td>\n",
       "      <td>7.7</td>\n",
       "    </tr>\n",
       "    <tr>\n",
       "      <th>41</th>\n",
       "      <td>7.7</td>\n",
       "      <td>7.8</td>\n",
       "    </tr>\n",
       "    <tr>\n",
       "      <th>42</th>\n",
       "      <td>7.8</td>\n",
       "      <td>7.9</td>\n",
       "    </tr>\n",
       "    <tr>\n",
       "      <th>43</th>\n",
       "      <td>7.9</td>\n",
       "      <td>7.9.1</td>\n",
       "    </tr>\n",
       "    <tr>\n",
       "      <th>44</th>\n",
       "      <td>7.9</td>\n",
       "      <td>8.0</td>\n",
       "    </tr>\n",
       "    <tr>\n",
       "      <th>45</th>\n",
       "      <td>7.9.1</td>\n",
       "      <td>7.9.2</td>\n",
       "    </tr>\n",
       "    <tr>\n",
       "      <th>46</th>\n",
       "      <td>7.9.2</td>\n",
       "      <td>7.9.3</td>\n",
       "    </tr>\n",
       "    <tr>\n",
       "      <th>47</th>\n",
       "      <td>7.9.3</td>\n",
       "      <td>7.9.4</td>\n",
       "    </tr>\n",
       "    <tr>\n",
       "      <th>48</th>\n",
       "      <td>8.0</td>\n",
       "      <td>8.1</td>\n",
       "    </tr>\n",
       "    <tr>\n",
       "      <th>49</th>\n",
       "      <td>8.1</td>\n",
       "      <td>8.2</td>\n",
       "    </tr>\n",
       "    <tr>\n",
       "      <th>50</th>\n",
       "      <td>8.2</td>\n",
       "      <td>8.3</td>\n",
       "    </tr>\n",
       "    <tr>\n",
       "      <th>51</th>\n",
       "      <td>8.3</td>\n",
       "      <td>8.3.1</td>\n",
       "    </tr>\n",
       "    <tr>\n",
       "      <th>52</th>\n",
       "      <td>8.3</td>\n",
       "      <td>8.4</td>\n",
       "    </tr>\n",
       "    <tr>\n",
       "      <th>53</th>\n",
       "      <td>8.4</td>\n",
       "      <td>8.4.1</td>\n",
       "    </tr>\n",
       "    <tr>\n",
       "      <th>54</th>\n",
       "      <td>8.4.1</td>\n",
       "      <td>8.4.2</td>\n",
       "    </tr>\n",
       "  </tbody>\n",
       "</table>\n",
       "</div>"
      ],
      "text/plain": [
       "   from_tag to_tag\n",
       "3     5.1.2    5.2\n",
       "4       5.2    5.3\n",
       "5       5.3    5.4\n",
       "6       5.4    5.5\n",
       "7       5.5    5.6\n",
       "8       5.6  5.6.1\n",
       "9     5.6.1  5.6.2\n",
       "10    5.6.1    6.0\n",
       "11    5.6.2  5.6.3\n",
       "12    5.6.3  5.6.4\n",
       "13    5.6.4  5.6.5\n",
       "14    5.6.5  5.6.6\n",
       "15    5.6.6  5.6.7\n",
       "16      6.0    6.1\n",
       "17      6.1  6.1.1\n",
       "18    6.1.1    6.2\n",
       "19      6.2    6.3\n",
       "20      6.3  6.3.1\n",
       "21    6.3.1  6.3.2\n",
       "22    6.3.2    6.4\n",
       "23      6.4    6.5\n",
       "24      6.5    6.6\n",
       "25      6.6    6.7\n",
       "26      6.7  6.7.1\n",
       "27    6.7.1    7.0\n",
       "28    6.7.1  6.7.2\n",
       "29    6.7.2  6.7.3\n",
       "30    6.7.3  6.7.4\n",
       "31    6.7.4  6.7.5\n",
       "32    6.7.5  6.7.6\n",
       "33    6.7.6  6.7.7\n",
       "34      7.0    7.1\n",
       "35      7.1    7.2\n",
       "36      7.2    7.3\n",
       "37      7.3    7.4\n",
       "38      7.4    7.5\n",
       "39      7.5    7.6\n",
       "40      7.6    7.7\n",
       "41      7.7    7.8\n",
       "42      7.8    7.9\n",
       "43      7.9  7.9.1\n",
       "44      7.9    8.0\n",
       "45    7.9.1  7.9.2\n",
       "46    7.9.2  7.9.3\n",
       "47    7.9.3  7.9.4\n",
       "48      8.0    8.1\n",
       "49      8.1    8.2\n",
       "50      8.2    8.3\n",
       "51      8.3  8.3.1\n",
       "52      8.3    8.4\n",
       "53      8.4  8.4.1\n",
       "54    8.4.1  8.4.2"
      ]
     },
     "execution_count": 7,
     "metadata": {},
     "output_type": "execute_result"
    }
   ],
   "source": [
    "tags_comparison = pd.read_csv(f\"{csv_folder}/tags_comparison_final_updated_no_rc_and_milestones.csv\", index_col=0)\n",
    "tags_comparison.from_commit_date = pd.to_datetime(tags_comparison.from_commit_date)\n",
    "tags_comparison.to_commit_date = pd.to_datetime(tags_comparison.to_commit_date)\n",
    "tags_comparison.from_author_date = pd.to_datetime(tags_comparison.from_author_date)\n",
    "tags_comparison.to_author_date = pd.to_datetime(tags_comparison.to_author_date)\n",
    "tags_comparison = tags_comparison[3:]\n",
    "tags_comparison[[\"from_tag\", \"to_tag\"]]"
   ]
  },
  {
   "cell_type": "markdown",
   "metadata": {},
   "source": [
    "## Import release commits"
   ]
  },
  {
   "cell_type": "code",
   "execution_count": 8,
   "metadata": {},
   "outputs": [],
   "source": [
    "def replace_tags_with_jira(df):\n",
    "    df = df.merge(tags[[\"Tag\",\"jira_version\"]], left_on=\"to_tag\", right_on=\"Tag\")\\\n",
    "    .drop(columns=[\"to_tag\", \"Tag\"]).rename(columns={\"jira_version\":\"to_tag\"})\n",
    "    df = df.merge(tags[[\"Tag\",\"jira_version\"]], left_on=\"from_tag\", right_on=\"Tag\")\\\n",
    "    .drop(columns=[\"from_tag\", \"Tag\"]).rename(columns={\"jira_version\":\"from_tag\"})\n",
    "    return df"
   ]
  },
  {
   "cell_type": "markdown",
   "metadata": {},
   "source": [
    "### Load jobs for releases"
   ]
  },
  {
   "cell_type": "code",
   "execution_count": 9,
   "metadata": {},
   "outputs": [],
   "source": [
    "builds_from_direct = pd.read_csv(f\"{csv_folder}/builds_per_release/builds_from_direct.csv\", index_col=0)"
   ]
  },
  {
   "cell_type": "code",
   "execution_count": 10,
   "metadata": {},
   "outputs": [],
   "source": [
    "builds_from_direct_prs = pd.read_csv(f\"{csv_folder}/builds_per_release/builds_from_direct_prs.csv\", index_col=0)"
   ]
  },
  {
   "cell_type": "code",
   "execution_count": 11,
   "metadata": {},
   "outputs": [],
   "source": [
    "builds_head_ref_before_pr = pd.read_csv(f\"{csv_folder}/builds_per_release/builds_head_ref_before_pr.csv\", index_col=0)"
   ]
  },
  {
   "cell_type": "code",
   "execution_count": 12,
   "metadata": {},
   "outputs": [],
   "source": [
    "builds_iterative_approach = pd.read_csv(f\"{csv_folder}/builds_per_release/builds_iterative_approach.csv\", index_col=0)"
   ]
  },
  {
   "cell_type": "code",
   "execution_count": 13,
   "metadata": {},
   "outputs": [],
   "source": [
    "builds_iterative_cherry_rebase =  pd.read_csv(f\"{csv_folder}/builds_per_release/builds_iterative_cherry_rebase.csv\", index_col=0)"
   ]
  },
  {
   "cell_type": "markdown",
   "metadata": {},
   "source": [
    "### Uniform types"
   ]
  },
  {
   "cell_type": "code",
   "execution_count": 14,
   "metadata": {},
   "outputs": [],
   "source": [
    "for df in [builds_from_direct, builds_from_direct_prs, builds_head_ref_before_pr,\\\n",
    "          builds_iterative_approach, builds_iterative_cherry_rebase, tags_comparison]:\n",
    "    df.to_tag = df.to_tag.astype(str)\n",
    "    df.from_tag = df.from_tag.astype(str)"
   ]
  },
  {
   "cell_type": "markdown",
   "metadata": {},
   "source": [
    "### Method 1"
   ]
  },
  {
   "cell_type": "code",
   "execution_count": 15,
   "metadata": {},
   "outputs": [],
   "source": [
    "method1 = builds_from_direct_prs.append(builds_from_direct)\n",
    "method1 = method1.drop_duplicates(ignore_index=True)"
   ]
  },
  {
   "cell_type": "code",
   "execution_count": 16,
   "metadata": {},
   "outputs": [
    {
     "data": {
      "text/plain": [
       "(15712, 3)"
      ]
     },
     "execution_count": 16,
     "metadata": {},
     "output_type": "execute_result"
    }
   ],
   "source": [
    "method1.shape"
   ]
  },
  {
   "cell_type": "code",
   "execution_count": 17,
   "metadata": {
    "scrolled": false
   },
   "outputs": [
    {
     "data": {
      "text/plain": [
       "<AxesSubplot:xlabel='to_tag'>"
      ]
     },
     "execution_count": 17,
     "metadata": {},
     "output_type": "execute_result"
    },
    {
     "data": {
      "image/png": "[encoded data removed]",
      "text/plain": [
       "<Figure size 1008x360 with 1 Axes>"
      ]
     },
     "metadata": {
      "needs_background": "light"
     },
     "output_type": "display_data"
    }
   ],
   "source": [
    "method1.groupby(\"to_tag\").buildid.count().plot(kind=\"bar\")"
   ]
  },
  {
   "cell_type": "markdown",
   "metadata": {},
   "source": [
    "### Method 2"
   ]
  },
  {
   "cell_type": "code",
   "execution_count": 18,
   "metadata": {},
   "outputs": [
    {
     "data": {
      "text/plain": [
       "(48202, 3)"
      ]
     },
     "execution_count": 18,
     "metadata": {},
     "output_type": "execute_result"
    }
   ],
   "source": [
    "method2 = builds_iterative_cherry_rebase\n",
    "method2.shape"
   ]
  },
  {
   "cell_type": "code",
   "execution_count": 19,
   "metadata": {},
   "outputs": [
    {
     "data": {
      "text/plain": [
       "<AxesSubplot:xlabel='to_tag'>"
      ]
     },
     "execution_count": 19,
     "metadata": {},
     "output_type": "execute_result"
    },
    {
     "data": {
      "image/png": "[encoded data removed]",
      "text/plain": [
       "<Figure size 1008x360 with 1 Axes>"
      ]
     },
     "metadata": {
      "needs_background": "light"
     },
     "output_type": "display_data"
    }
   ],
   "source": [
    "method2.groupby(\"to_tag\").buildid.count().plot(kind=\"bar\")"
   ]
  },
  {
   "cell_type": "code",
   "execution_count": 20,
   "metadata": {},
   "outputs": [
    {
     "data": {
      "text/plain": [
       "<AxesSubplot:xlabel='to_tag'>"
      ]
     },
     "execution_count": 20,
     "metadata": {},
     "output_type": "execute_result"
    },
    {
     "data": {
      "image/png": "[encoded data removed]",
      "text/plain": [
       "<Figure size 1008x360 with 1 Axes>"
      ]
     },
     "metadata": {
      "needs_background": "light"
     },
     "output_type": "display_data"
    }
   ],
   "source": [
    "df_methods = method2.groupby(\"to_tag\").buildid.count().reset_index()\n",
    "df_methods[\"dataset1\"] = method1.groupby(\"to_tag\").buildid.count().values\n",
    "df_methods[\"dataset2\"] = method2.groupby(\"to_tag\").buildid.count().values\n",
    "df_methods.set_index(\"to_tag\")[[\"dataset1\", \"dataset2\"]].plot(kind=\"bar\", logy=True)"
   ]
  },
  {
   "cell_type": "markdown",
   "metadata": {},
   "source": [
    "# Start"
   ]
  },
  {
   "cell_type": "code",
   "execution_count": 128,
   "metadata": {},
   "outputs": [],
   "source": [
    "def get_builds_from_commits(_commits):\n",
    "    _build_ids = jobs[jobs.commitsha.isin(_commits)].buildid\n",
    "    return builds[(builds.id.isin(_build_ids))]\n",
    "\n",
    "def get_builds_from_jobs_ids(_release_jobs_ids):\n",
    "    _build_ids = jobs[jobs.id.isin(_release_jobs_ids)].buildid\n",
    "    return builds[(builds.id.isin(_build_ids))]\n",
    "\n",
    "def get_builds_from_ids(_builds, _build_ids):\n",
    "    return _builds[(_builds.id.isin(_build_ids))]\n",
    "\n",
    "def get_job_ids_from_comparison_row(row, _jobs):\n",
    "    _x = _jobs\n",
    "    return _x[(_x.from_tag == row.from_tag) & (_x.to_tag == row.to_tag)].job_id\n",
    "\n",
    "def get_commits_from_comparison_row(row, commitsDf):\n",
    "    _x = commitsDf\n",
    "    return _x[(_x.from_tag == row.from_tag) & (_x.to_tag == row.to_tag)].commitsha"
   ]
  },
  {
   "cell_type": "markdown",
   "metadata": {},
   "source": [
    "### Prepare 2 dataframes for the 2 commits methodologies"
   ]
  },
  {
   "cell_type": "code",
   "execution_count": 27,
   "metadata": {},
   "outputs": [],
   "source": [
    "tc_direct_prs = tags_comparison.copy()\n",
    "tc_iterative_cherry_rebase = tags_comparison.copy()"
   ]
  },
  {
   "cell_type": "code",
   "execution_count": 28,
   "metadata": {},
   "outputs": [],
   "source": [
    "df_builds = [(tc_direct_prs, method1, \"dataset1\"),\n",
    "(tc_iterative_cherry_rebase, method2, \"dataset2\")]"
   ]
  },
  {
   "cell_type": "markdown",
   "metadata": {},
   "source": [
    "**Test**"
   ]
  },
  {
   "cell_type": "code",
   "execution_count": 133,
   "metadata": {},
   "outputs": [
    {
     "data": {
      "text/plain": [
       "47967    599155929\n",
       "47968    599572841\n",
       "47969    602471511\n",
       "47970    617883797\n",
       "47971    618731613\n",
       "47972    619791522\n",
       "47973    620294153\n",
       "47974    621283238\n",
       "47975    671604176\n",
       "Name: buildid, dtype: int64"
      ]
     },
     "execution_count": 133,
     "metadata": {},
     "output_type": "execute_result"
    }
   ],
   "source": [
    "_x =builds_iterative_approach\n",
    "_x[(_x.from_tag == \"7.9.1\") & (_x.to_tag == \"7.9.2\")].buildid"
   ]
  },
  {
   "cell_type": "markdown",
   "metadata": {},
   "source": [
    "### Builds metrics"
   ]
  },
  {
   "cell_type": "markdown",
   "metadata": {},
   "source": [
    "**Percentage of builds per state**"
   ]
  },
  {
   "cell_type": "code",
   "execution_count": 134,
   "metadata": {},
   "outputs": [],
   "source": [
    "def calculate_percentage_state_builds(row, release_builds, state):\n",
    "    _x = release_builds\n",
    "    _all_builds = _x[(_x.from_tag == row.from_tag) & (_x.to_tag == row.to_tag)].buildid\n",
    "    _all_builds = builds[builds.id.isin(_all_builds)]\n",
    "    _builds = _all_builds[(_all_builds.state.isin(state))]\n",
    "    if(len(_all_builds)==0):\n",
    "        return 0\n",
    "    return len(_builds)/len(_all_builds)"
   ]
  },
  {
   "cell_type": "code",
   "execution_count": 135,
   "metadata": {},
   "outputs": [],
   "source": [
    "for state in [\"passed\", \"canceled\", \"failed\", \"errored\"]:\n",
    "    for df, release_builds, method in df_builds:\n",
    "        df[f\"ratio_{state}_builds\"] = \\\n",
    "        df.apply(calculate_percentage_state_builds, args=(release_builds, [state]), axis=1)"
   ]
  },
  {
   "cell_type": "code",
   "execution_count": 136,
   "metadata": {},
   "outputs": [
    {
     "data": {
      "text/plain": [
       "<Figure size 1008x360 with 0 Axes>"
      ]
     },
     "metadata": {},
     "output_type": "display_data"
    },
    {
     "data": {
      "image/png": "[encoded data removed]",
      "text/plain": [
       "<Figure size 1008x504 with 2 Axes>"
      ]
     },
     "metadata": {
      "needs_background": "light"
     },
     "output_type": "display_data"
    }
   ],
   "source": [
    "plt.figure()\n",
    "fig, axes = plt.subplots(nrows=len(df_builds), ncols=1, sharex=True, figsize=(14.0, 7.0))\n",
    "for i, df_build in enumerate(df_builds):\n",
    "    cols = []\n",
    "    for state in [\"passed\", \"canceled\", \"failed\", \"errored\"]:\n",
    "        cols.append(f\"ratio_{state}_builds\")\n",
    "    ax = df_build[0].set_index(\"to_tag\").sort_index()[cols].plot(ax=axes[i], kind=\"bar\", color=[\"tab:green\",\"tab:orange\", \"tab:red\", \"tab:blue\"])\n",
    "    ax.set_title(df_build[2])\n",
    "    ax.set(xlabel=\"Releases\")\n",
    "plt.savefig(f\"{figure_folder}/ci-metrics/percentage_state_builds.png\", transparent=True, bbox_inches='tight', pad_inches=0.2)\n",
    "plt.show()"
   ]
  },
  {
   "cell_type": "markdown",
   "metadata": {},
   "source": [
    "**Number of builds per pull request**"
   ]
  },
  {
   "cell_type": "code",
   "execution_count": 137,
   "metadata": {},
   "outputs": [],
   "source": [
    "def calculate_percentage_pr_builds(row, release_builds):\n",
    "    _x = release_builds\n",
    "    _all_builds = _x[(_x.from_tag == row.from_tag) & (_x.to_tag == row.to_tag)].buildid\n",
    "    _all_builds = builds[builds.id.isin(_all_builds)]\n",
    "    _builds = _all_builds[(_all_builds.event_type == \"pull_request\")]\n",
    "    return len(_builds)/len(_all_builds)"
   ]
  },
  {
   "cell_type": "code",
   "execution_count": 138,
   "metadata": {},
   "outputs": [],
   "source": [
    "for df, release_builds, method in df_builds:\n",
    "    df[f\"ratio_pr_builds\"] = \\\n",
    "    df.apply(calculate_percentage_pr_builds, args=(release_builds,), axis=1)"
   ]
  },
  {
   "cell_type": "code",
   "execution_count": 139,
   "metadata": {},
   "outputs": [
    {
     "data": {
      "image/png": "[encoded data removed]",
      "text/plain": [
       "<Figure size 1008x504 with 2 Axes>"
      ]
     },
     "metadata": {
      "needs_background": "light"
     },
     "output_type": "display_data"
    }
   ],
   "source": [
    "fig, axes = plt.subplots(nrows=len(df_builds), ncols=1, sharex=True, sharey=True, figsize=(14.0, 7.0))\n",
    "for i, df_build in enumerate(df_builds):\n",
    "    ax = sns.barplot(x=df_build[0].set_index(\"to_tag\").sort_index()[\"ratio_pr_builds\"].index, \\\n",
    "                y=df_build[0][\"ratio_pr_builds\"].values, ax=axes[i])\n",
    "    ax.set_xticklabels(ax.get_xticklabels(),rotation=90)\n",
    "    ax.set_title(df_build[2])\n",
    "    if(i < len(df_builds) - 1):\n",
    "        ax.get_xaxis().set_visible(False)"
   ]
  },
  {
   "cell_type": "markdown",
   "metadata": {},
   "source": [
    "* 0% pull request builds may indicate mostly bug fixing done directly on the version branch. \n",
    "Indeed all the pairs with 0% do not represent major version upgrades"
   ]
  },
  {
   "cell_type": "markdown",
   "metadata": {},
   "source": [
    "**States of builds for pull requests**"
   ]
  },
  {
   "cell_type": "code",
   "execution_count": 140,
   "metadata": {},
   "outputs": [],
   "source": [
    "def calculate_percentage_pr_builds_in_state(row, release_builds, states=[]):\n",
    "    _x = release_builds\n",
    "    _all_builds = _x[(_x.from_tag == row.from_tag) & (_x.to_tag == row.to_tag)].buildid\n",
    "    _all_builds = builds[builds.id.isin(_all_builds)]\n",
    "    _builds = _all_builds[(_all_builds.event_type == \"pull_request\") & (_all_builds.state.isin(states))]\n",
    "    return len(_builds)/len(_all_builds)"
   ]
  },
  {
   "cell_type": "code",
   "execution_count": 141,
   "metadata": {},
   "outputs": [],
   "source": [
    "for df, release_builds, method in df_builds:\n",
    "    df[f\"ratio_pr_builds_failed\"] = \\\n",
    "    df.apply(calculate_percentage_pr_builds_in_state, args=(release_builds,[\"failed\"]), axis=1)"
   ]
  },
  {
   "cell_type": "code",
   "execution_count": 142,
   "metadata": {},
   "outputs": [
    {
     "data": {
      "image/png": "[encoded data removed]",
      "text/plain": [
       "<Figure size 1008x504 with 2 Axes>"
      ]
     },
     "metadata": {
      "needs_background": "light"
     },
     "output_type": "display_data"
    }
   ],
   "source": [
    "fig, axes = plt.subplots(nrows=len(df_builds), ncols=1, sharex=True, sharey=True, figsize=(14.0, 7.0))\n",
    "for i, df_build in enumerate(df_builds):\n",
    "    df_build[0].set_index(\"to_tag\").sort_index().\\\n",
    "        ratio_pr_builds_failed.plot(kind=\"bar\", ax=axes[i], color=[\"tab:blue\"])\n",
    "    axes[i].set_xticklabels(axes[i].get_xticklabels(),rotation=90)\n",
    "    axes[i].set_title(df_build[2])\n",
    "    if(i < len(df_builds) - 1):\n",
    "        axes[i].get_xaxis().set_visible(False)"
   ]
  },
  {
   "cell_type": "markdown",
   "metadata": {},
   "source": [
    "**Build duration for builds**"
   ]
  },
  {
   "cell_type": "code",
   "execution_count": 143,
   "metadata": {},
   "outputs": [],
   "source": [
    "def calculate_aggregator_build_duration(row, release_builds, aggregator, state=None):\n",
    "    _x = release_builds\n",
    "    _all_builds = _x[(_x.from_tag == row.from_tag) & (_x.to_tag == row.to_tag)].buildid\n",
    "    _all_builds = builds[builds.id.isin(_all_builds)]\n",
    "    if(not state):\n",
    "        _series = _all_builds.duration\n",
    "    else:\n",
    "        _series = _all_builds[_all_builds.state.isin(state)].duration\n",
    "    res = getattr(_series, aggregator)()\n",
    "    return res"
   ]
  },
  {
   "cell_type": "code",
   "execution_count": 144,
   "metadata": {},
   "outputs": [],
   "source": [
    "for agg in [\"mean\", \"median\", \"max\", \"min\"]:\n",
    "    for df, release_builds, method in df_builds:\n",
    "        df[f\"{agg}_not_errored_or_canceled_build_duration\"] = \\\n",
    "        df.apply(calculate_aggregator_build_duration, args=(release_builds,agg, [\"failed\", \"passed\"]), axis=1)\n",
    "        \n",
    "for agg in [\"mean\", \"median\", \"max\", \"min\"]:\n",
    "    for df, release_builds, method in df_builds:\n",
    "        df[f\"{agg}_failed_build_duration\"] = \\\n",
    "        df.apply(calculate_aggregator_build_duration, args=(release_builds,agg, [\"failed\"]), axis=1)\n",
    "\n",
    "for agg in [\"mean\", \"median\", \"max\", \"min\"]:\n",
    "    for df, release_builds, method in df_builds:\n",
    "        df[f\"{agg}_passed_build_duration\"] = \\\n",
    "        df.apply(calculate_aggregator_build_duration, args=(release_builds,agg, [\"passed\"]), axis=1)"
   ]
  },
  {
   "cell_type": "code",
   "execution_count": 145,
   "metadata": {},
   "outputs": [
    {
     "data": {
      "image/png": "[encoded data removed]",
      "text/plain": [
       "<Figure size 1008x504 with 2 Axes>"
      ]
     },
     "metadata": {
      "needs_background": "light"
     },
     "output_type": "display_data"
    }
   ],
   "source": [
    "fig, axes = plt.subplots(nrows=len(df_builds), ncols=1, sharex=True, sharey=True, figsize=(14.0, 7.0))\n",
    "for i, df_build in enumerate(df_builds):\n",
    "    ax = df_build[0].set_index(\"to_tag\").sort_index().\\\n",
    "        min_not_errored_or_canceled_build_duration.plot(kind=\"bar\", ax=axes[i], color=[\"tab:blue\"])\n",
    "    ax.set_xticklabels(ax.get_xticklabels(),rotation=90)\n",
    "    ax.set_title(df_build[2])\n",
    "    if(i < len(df_builds) - 1):\n",
    "        ax.get_xaxis().set_visible(False)"
   ]
  },
  {
   "cell_type": "markdown",
   "metadata": {},
   "source": [
    "**Number of builds per pull request**"
   ]
  },
  {
   "cell_type": "code",
   "execution_count": 146,
   "metadata": {},
   "outputs": [],
   "source": [
    "### Mean or median of number of jobs per pull request\n",
    "def calculate_aggregator_n_builds_per_pull_request(row, release_builds, aggregator):\n",
    "    _x = release_builds\n",
    "    _all_builds = _x[(_x.from_tag == row.from_tag) & (_x.to_tag == row.to_tag)].buildid\n",
    "    _all_builds = builds_commitref[builds_commitref.id.isin(_all_builds)]\n",
    "    _all_builds = _all_builds[(_all_builds.event_type == \"pull_request\")]\n",
    "    _series = _all_builds.groupby(\"commitref\").buildid.nunique()\n",
    "    res = getattr(_series, aggregator)()\n",
    "    return res if not np.isnan(res) else 0"
   ]
  },
  {
   "cell_type": "code",
   "execution_count": 147,
   "metadata": {},
   "outputs": [],
   "source": [
    "for agg in [\"mean\", \"median\", \"max\", \"min\"]:\n",
    "    for df, release_builds, method in df_builds:\n",
    "        df[f\"{agg}_n_builds_per_pull_request\"] = \\\n",
    "        df.apply(calculate_aggregator_n_builds_per_pull_request, args=(release_builds,agg), axis=1)"
   ]
  },
  {
   "cell_type": "code",
   "execution_count": 148,
   "metadata": {},
   "outputs": [
    {
     "data": {
      "image/png": "[encoded data removed]",
      "text/plain": [
       "<Figure size 1008x504 with 2 Axes>"
      ]
     },
     "metadata": {
      "needs_background": "light"
     },
     "output_type": "display_data"
    }
   ],
   "source": [
    "fig, axes = plt.subplots(nrows=len(df_builds), ncols=1, sharex=True, sharey=True, figsize=(14.0, 7.0))\n",
    "for i, df_build in enumerate(df_builds):\n",
    "    df_build[0].set_index(\"to_tag\").sort_index().\\\n",
    "        mean_n_builds_per_pull_request.plot(kind=\"bar\", ax=axes[i], color=[\"tab:blue\"])\n",
    "    ax.set_xticklabels(ax.get_xticklabels(),rotation=90)\n",
    "    ax.set_title(df_build[2])\n",
    "    if(i < len(df_builds) - 1):\n",
    "        ax.get_xaxis().set_visible(False)"
   ]
  },
  {
   "cell_type": "code",
   "execution_count": 149,
   "metadata": {},
   "outputs": [
    {
     "name": "stderr",
     "output_type": "stream",
     "text": [
      "<ipython-input-149-70162c70ee20>:7: SettingWithCopyWarning: \n",
      "A value is trying to be set on a copy of a slice from a DataFrame.\n",
      "Try using .loc[row_indexer,col_indexer] = value instead\n",
      "\n",
      "See the caveats in the documentation: https://pandas.pydata.org/pandas-docs/stable/user_guide/indexing.html#returning-a-view-versus-a-copy\n",
      "  tmp_df[method] = df[columns]\n",
      "<ipython-input-149-70162c70ee20>:7: SettingWithCopyWarning: \n",
      "A value is trying to be set on a copy of a slice from a DataFrame.\n",
      "Try using .loc[row_indexer,col_indexer] = value instead\n",
      "\n",
      "See the caveats in the documentation: https://pandas.pydata.org/pandas-docs/stable/user_guide/indexing.html#returning-a-view-versus-a-copy\n",
      "  tmp_df[method] = df[columns]\n",
      "<ipython-input-149-70162c70ee20>:7: SettingWithCopyWarning: \n",
      "A value is trying to be set on a copy of a slice from a DataFrame.\n",
      "Try using .loc[row_indexer,col_indexer] = value instead\n",
      "\n",
      "See the caveats in the documentation: https://pandas.pydata.org/pandas-docs/stable/user_guide/indexing.html#returning-a-view-versus-a-copy\n",
      "  tmp_df[method] = df[columns]\n",
      "<ipython-input-149-70162c70ee20>:7: SettingWithCopyWarning: \n",
      "A value is trying to be set on a copy of a slice from a DataFrame.\n",
      "Try using .loc[row_indexer,col_indexer] = value instead\n",
      "\n",
      "See the caveats in the documentation: https://pandas.pydata.org/pandas-docs/stable/user_guide/indexing.html#returning-a-view-versus-a-copy\n",
      "  tmp_df[method] = df[columns]\n"
     ]
    },
    {
     "data": {
      "image/png": "[encoded data removed]",
      "text/plain": [
       "<Figure size 1224x360 with 4 Axes>"
      ]
     },
     "metadata": {
      "needs_background": "light"
     },
     "output_type": "display_data"
    }
   ],
   "source": [
    "aggregators = [\"mean\", \"median\", \"max\", \"min\"]\n",
    "fig, axes = plt.subplots(nrows=1, ncols=len(aggregators), sharex=True, figsize=(17.0, 5.0))\n",
    "for i, agg in enumerate(aggregators):\n",
    "    tmp_df = tags_comparison[[\"to_tag\"]]\n",
    "    columns = f\"{agg}_n_builds_per_pull_request\"\n",
    "    for df, release_builds, method in df_builds:\n",
    "        tmp_df[method] = df[columns]\n",
    "    ax = sns.boxplot(data=tmp_df, ax=axes[i])\n",
    "    ax.set_title(columns)\n",
    "    ax.set_xticklabels(ax.get_xticklabels(),rotation=90)"
   ]
  },
  {
   "cell_type": "markdown",
   "metadata": {},
   "source": [
    "**Number of builds per commitmessage**"
   ]
  },
  {
   "cell_type": "markdown",
   "metadata": {},
   "source": [
    "### number of builds per pull request\n",
    "def calculate_aggregator_n_builds_per_commitmessage(row, commitsDf, aggregator):\n",
    "    _x = commitsDf\n",
    "    _commits = _x[(_x.from_tag == row.from_tag) & (_x.to_tag == row.to_tag)].commitsha\n",
    "    _jobs = jobs[jobs.commitsha.isin(_commits)]\n",
    "    _series = _jobs.groupby(\"commitmessage\").buildid.nunique()\n",
    "    res = getattr(_series, aggregator)()\n",
    "    return res if not np.isnan(res) else 0\n",
    "    \n",
    "def calculate_aggregator_n_builds_per_commitmessage_per_commit_pr(row, aggregator):\n",
    "    return calculate_aggregator_n_builds_per_commitmessage(row, tags_iterative_pr_commits, aggregator)\n",
    "def calculate_aggregator_n_builds_per_commitmessage_per_commit_direct(row, aggregator):\n",
    "    return calculate_aggregator_n_builds_per_commitmessage(row, tags_comparison_commits, aggregator)\n",
    "def calculate_aggregator_n_builds_per_commitmessage_per_commit_fix(row, aggregator):\n",
    "    return calculate_aggregator_n_builds_per_commitmessage(row, tags_fix_commits, aggregator)\n",
    "def calculate_aggregator_n_builds_per_commitmessage_per_commit_pr_and_fix(row, aggregator):\n",
    "    _tmp = tags_iterative_pr_commits.append(tags_fix_commits)\n",
    "    return calculate_aggregator_n_builds_per_commitmessage(row, _tmp, aggregator)"
   ]
  },
  {
   "cell_type": "markdown",
   "metadata": {},
   "source": [
    "for agg in [\"mean\", \"median\", \"max\", \"min\"]:\n",
    "    tags_comparison[f\"{agg}_n_builds_per_commitmessage\"] =\\\n",
    "    tags_comparison.apply(calculate_aggregator_n_builds_per_commitmessage_per_commit_pr_and_fix,\\\n",
    "                          args=(agg,), axis=1)"
   ]
  },
  {
   "cell_type": "markdown",
   "metadata": {
    "scrolled": false
   },
   "source": [
    "tags_comparison.max_n_builds_per_commitmessage.plot(kind=\"bar\")"
   ]
  },
  {
   "cell_type": "markdown",
   "metadata": {
    "scrolled": true
   },
   "source": [
    "tags_comparison[[\"mean_n_builds_per_commitmessage\", \"median_n_builds_per_commitmessage\"]].plot(kind=\"bar\")"
   ]
  },
  {
   "cell_type": "markdown",
   "metadata": {},
   "source": [
    "### Jobs metrics"
   ]
  },
  {
   "cell_type": "markdown",
   "metadata": {},
   "source": [
    "**Average job duration**"
   ]
  },
  {
   "cell_type": "markdown",
   "metadata": {},
   "source": [
    "jobs[\"duration\"] = (jobs.finished_at - jobs.started_at) / np.timedelta64(1, \"s\")"
   ]
  },
  {
   "cell_type": "markdown",
   "metadata": {},
   "source": [
    "### Mean or median of duration for jobs not from canceled or errored builds\n",
    "def calculate_average_job_duration(row, commitsDf):\n",
    "    _build_ids = builds[builds.state.isin([\"passed\", \"failed\"])].id\n",
    "    _x = commitsDf\n",
    "    _commits = _x[(_x.from_tag == row.from_tag) & (_x.to_tag == row.to_tag)].commitsha\n",
    "    _jobs = jobs[jobs.commitsha.isin(_commits) & jobs.buildid.isin(_build_ids)]\n",
    "    return _jobs.duration.mean()\n",
    "\n",
    "def calculate_average_job_duration_pr(row):\n",
    "    return calculate_average_job_duration(row, tags_iterative_pr_commits)\n",
    "def calculate_average_job_duration_direct(row):\n",
    "    return calculate_average_job_duration(row, tags_comparison_commits)\n",
    "def calculate_average_job_duration_fix(row):\n",
    "    return calculate_average_job_duration(row, tags_fix_commits)"
   ]
  },
  {
   "cell_type": "markdown",
   "metadata": {},
   "source": [
    "tags_comparison[\"mean_job_duration_builds_passed_or_failed\"] = tags_comparison.apply(calculate_average_job_duration_pr, axis=1)"
   ]
  },
  {
   "cell_type": "markdown",
   "metadata": {},
   "source": [
    "**Average failed jobs per commit**"
   ]
  },
  {
   "cell_type": "markdown",
   "metadata": {},
   "source": [
    "### Mean or median of duration for jobs not from canceled or errored builds\n",
    "def calculate_average_failed_job_per_commit(row, commitsDf):\n",
    "    _build_ids = builds[builds.state.isin([\"passed\", \"failed\"])].id\n",
    "    _x = commitsDf\n",
    "    _commits = _x[(_x.from_tag == row.from_tag) & (_x.to_tag == row.to_tag)].commitsha\n",
    "    _jobs = jobs[jobs.commitsha.isin(_commits) & jobs.buildid.isin(_build_ids)]\n",
    "    _jobs = _jobs[_jobs.state == \"failed\"]\n",
    "    return _jobs.groupby(\"commitsha\").state.count().mean()\n",
    "\n",
    "def calculate_average_failed_job_per_commit_pr(row):\n",
    "    return calculate_average_failed_job_per_commit(row, tags_iterative_pr_commits)\n",
    "def calculate_average_failed_job_per_commit_direct(row):\n",
    "    return calculate_average_failed_job_per_commit(row, tags_comparison_commits)\n",
    "def calculate_average_failed_job_per_commit_fix(row):\n",
    "    return calculate_average_failed_job_per_commit(row, tags_fix_commits)\n",
    "def calculate_average_failed_job_per_commit_pr_and_fix(row):\n",
    "    _tmp = tags_iterative_pr_commits.append(tags_fix_commits)\n",
    "    return calculate_average_failed_job_per_commit(row, _tmp)"
   ]
  },
  {
   "cell_type": "markdown",
   "metadata": {},
   "source": [
    "tags_comparison[\"average_failed_job_per_commit\"] = tags_comparison.apply(calculate_average_failed_job_per_commit_pr, axis=1)"
   ]
  },
  {
   "cell_type": "markdown",
   "metadata": {},
   "source": [
    "sns.barplot(x=tags_comparison[\"average_failed_job_per_commit\"].index, \\\n",
    "            y=tags_comparison[\"average_failed_job_per_commit\"].values)"
   ]
  },
  {
   "cell_type": "markdown",
   "metadata": {},
   "source": [
    "**Number of jobs canceled or errored**"
   ]
  },
  {
   "cell_type": "markdown",
   "metadata": {},
   "source": [
    "### Mean or median of duration for jobs not from canceled or errored builds\n",
    "def calculate_percentage_canceled_or_errored_job(row, commitsDf):\n",
    "    _x = commitsDf\n",
    "    _commits = _x[(_x.from_tag == row.from_tag) & (_x.to_tag == row.to_tag)].commitsha\n",
    "    _jobs = jobs[jobs.commitsha.isin(_commits)]\n",
    "    return len(_jobs[_jobs.state.isin([\"canceled\", \"errored\"])]) / len(_jobs)\n",
    "\n",
    "def calculate_percentage_canceled_or_errored_job_per_commit_pr(row):\n",
    "    return calculate_percentage_canceled_or_errored_job(row, tags_iterative_pr_commits)\n",
    "def calculate_percentage_canceled_or_errored_job_per_commit_direct(row):\n",
    "    return calculate_percentage_canceled_or_errored_job(row, tags_comparison_commits)\n",
    "def calculate_percentage_canceled_or_errored_job_per_commit_fix(row):\n",
    "    return calculate_percentage_canceled_or_errored_job(row, tags_fix_commits)\n",
    "def calculate_percentage_canceled_or_errored_job_per_commit_pr_and_fix(row):\n",
    "    _tmp = tags_iterative_pr_commits.append(tags_fix_commits)\n",
    "    return calculate_percentage_canceled_or_errored_job(row, _tmp)"
   ]
  },
  {
   "cell_type": "markdown",
   "metadata": {},
   "source": [
    "tags_comparison[\"percentage_canceled_or_errored_job\"] =\\\n",
    "tags_comparison.apply(calculate_percentage_canceled_or_errored_job_per_commit_pr_and_fix, axis=1)"
   ]
  },
  {
   "cell_type": "markdown",
   "metadata": {
    "scrolled": true
   },
   "source": [
    "sns.barplot(x=tags_comparison[\"percentage_canceled_or_errored_job\"].index, \\\n",
    "            y=tags_comparison[\"percentage_canceled_or_errored_job\"].values)"
   ]
  },
  {
   "cell_type": "markdown",
   "metadata": {},
   "source": [
    "**Is commitsha and commitref identical for all jobs associated with the same buildid?**"
   ]
  },
  {
   "cell_type": "markdown",
   "metadata": {
    "scrolled": true
   },
   "source": [
    "(jobs.groupby(\"buildid\").commitsha.nunique() > 1).sum()"
   ]
  },
  {
   "cell_type": "markdown",
   "metadata": {},
   "source": [
    "(jobs.groupby(\"buildid\").commitref.nunique() > 1).sum()"
   ]
  },
  {
   "cell_type": "markdown",
   "metadata": {},
   "source": [
    "Yes, therefore we can add this info to the build df"
   ]
  },
  {
   "cell_type": "markdown",
   "metadata": {},
   "source": [
    "### Log parsing metrics"
   ]
  },
  {
   "cell_type": "code",
   "execution_count": 280,
   "metadata": {},
   "outputs": [
    {
     "data": {
      "text/plain": [
       "(126835, 46)"
      ]
     },
     "execution_count": 280,
     "metadata": {},
     "output_type": "execute_result"
    }
   ],
   "source": [
    "log_parsed_metrics = pd.read_csv(f\"{csv_folder}/log_parsed_metrics_processed.csv\", index_col=0)\n",
    "log_parsed_metrics.shape"
   ]
  },
  {
   "cell_type": "code",
   "execution_count": 151,
   "metadata": {},
   "outputs": [
    {
     "data": {
      "text/html": [
       "<div>\n",
       "<style scoped>\n",
       "    .dataframe tbody tr th:only-of-type {\n",
       "        vertical-align: middle;\n",
       "    }\n",
       "\n",
       "    .dataframe tbody tr th {\n",
       "        vertical-align: top;\n",
       "    }\n",
       "\n",
       "    .dataframe thead th {\n",
       "        text-align: right;\n",
       "    }\n",
       "</style>\n",
       "<table border=\"1\" class=\"dataframe\">\n",
       "  <thead>\n",
       "    <tr style=\"text-align: right;\">\n",
       "      <th></th>\n",
       "      <th>job_id</th>\n",
       "      <th>build_target</th>\n",
       "      <th>build_tool</th>\n",
       "      <th>build_canceled_open_pr_on_branch</th>\n",
       "      <th>errors</th>\n",
       "      <th>failures</th>\n",
       "      <th>suspected_words</th>\n",
       "      <th>warnings</th>\n",
       "      <th>skipped_words</th>\n",
       "      <th>lines</th>\n",
       "      <th>words</th>\n",
       "      <th>exceptions</th>\n",
       "      <th>error_classes</th>\n",
       "      <th>tests_total</th>\n",
       "      <th>tests_passed</th>\n",
       "      <th>tests_failed</th>\n",
       "      <th>tests_skipped</th>\n",
       "      <th>failed_tasks</th>\n",
       "      <th>build_tool_str</th>\n",
       "      <th>n_exceptions</th>\n",
       "      <th>n_error_classes</th>\n",
       "      <th>n_build_tools</th>\n",
       "      <th>maven_build</th>\n",
       "      <th>gradle_build</th>\n",
       "      <th>mocha_build</th>\n",
       "      <th>jest_build</th>\n",
       "      <th>grunt_build</th>\n",
       "      <th>yarn_build</th>\n",
       "      <th>node_build</th>\n",
       "      <th>id</th>\n",
       "      <th>buildid</th>\n",
       "      <th>started_at</th>\n",
       "      <th>created_at</th>\n",
       "      <th>finished_at</th>\n",
       "      <th>number</th>\n",
       "      <th>state</th>\n",
       "      <th>updated_at</th>\n",
       "      <th>commitsha</th>\n",
       "      <th>commitid</th>\n",
       "      <th>commitmessage</th>\n",
       "      <th>commitref</th>\n",
       "      <th>commitcompare_url</th>\n",
       "      <th>year_month</th>\n",
       "      <th>errors_over_tests_total</th>\n",
       "      <th>failures_over_tests_total</th>\n",
       "      <th>skipped_over_tests_total</th>\n",
       "    </tr>\n",
       "  </thead>\n",
       "  <tbody>\n",
       "    <tr>\n",
       "      <th>0</th>\n",
       "      <td>346751001</td>\n",
       "      <td>WEB_TESTS</td>\n",
       "      <td>['yarn']</td>\n",
       "      <td>False</td>\n",
       "      <td>3.0</td>\n",
       "      <td>2.0</td>\n",
       "      <td>1.0</td>\n",
       "      <td>2.0</td>\n",
       "      <td>1.0</td>\n",
       "      <td>1045.0</td>\n",
       "      <td>3294.0</td>\n",
       "      <td>[]</td>\n",
       "      <td>[]</td>\n",
       "      <td>1120.0</td>\n",
       "      <td>1117.0</td>\n",
       "      <td>0.0</td>\n",
       "      <td>3.0</td>\n",
       "      <td>[]</td>\n",
       "      <td>['yarn']</td>\n",
       "      <td>0</td>\n",
       "      <td>0</td>\n",
       "      <td>1</td>\n",
       "      <td>False</td>\n",
       "      <td>False</td>\n",
       "      <td>False</td>\n",
       "      <td>False</td>\n",
       "      <td>False</td>\n",
       "      <td>True</td>\n",
       "      <td>False</td>\n",
       "      <td>346751001</td>\n",
       "      <td>346750998</td>\n",
       "      <td>2018-02-27 12:30:57+00:00</td>\n",
       "      <td>2018-02-27 12:30:21.579000+00:00</td>\n",
       "      <td>2018-02-27 12:34:24+00:00</td>\n",
       "      <td>37569.2</td>\n",
       "      <td>passed</td>\n",
       "      <td>2018-06-04 05:43:54.693000+00:00</td>\n",
       "      <td>7b245fbc45898ce11ab5cc0d60dc4f5621b94645</td>\n",
       "      <td>103144209</td>\n",
       "      <td>SONAR-10047 Use SearchSelect for tags in Bulk ...</td>\n",
       "      <td>refs/pull/3103/merge</td>\n",
       "      <td>https://github.com/SonarSource/sonarqube/pull/...</td>\n",
       "      <td>2018/02</td>\n",
       "      <td>0.002676</td>\n",
       "      <td>0.001784</td>\n",
       "      <td>0.000892</td>\n",
       "    </tr>\n",
       "    <tr>\n",
       "      <th>1</th>\n",
       "      <td>575471642</td>\n",
       "      <td>WEB_TESTS</td>\n",
       "      <td>['yarn', 'jest', 'gradle']</td>\n",
       "      <td>False</td>\n",
       "      <td>3.0</td>\n",
       "      <td>2.0</td>\n",
       "      <td>1.0</td>\n",
       "      <td>9.0</td>\n",
       "      <td>1.0</td>\n",
       "      <td>1362.0</td>\n",
       "      <td>3919.0</td>\n",
       "      <td>[]</td>\n",
       "      <td>[]</td>\n",
       "      <td>2006.0</td>\n",
       "      <td>2005.0</td>\n",
       "      <td>0.0</td>\n",
       "      <td>1.0</td>\n",
       "      <td>[]</td>\n",
       "      <td>['yarn', 'jest', 'gradle']</td>\n",
       "      <td>0</td>\n",
       "      <td>0</td>\n",
       "      <td>3</td>\n",
       "      <td>False</td>\n",
       "      <td>True</td>\n",
       "      <td>False</td>\n",
       "      <td>True</td>\n",
       "      <td>False</td>\n",
       "      <td>True</td>\n",
       "      <td>False</td>\n",
       "      <td>575471642</td>\n",
       "      <td>575471639</td>\n",
       "      <td>2019-08-22 18:21:52+00:00</td>\n",
       "      <td>2019-08-22 18:21:19.464000+00:00</td>\n",
       "      <td>2019-08-22 18:33:18+00:00</td>\n",
       "      <td>39085.2</td>\n",
       "      <td>passed</td>\n",
       "      <td>2019-08-22 18:33:18.698000+00:00</td>\n",
       "      <td>7c2a234b30826c8f98dabff8506b1f49884b83a5</td>\n",
       "      <td>174121400</td>\n",
       "      <td>DOCS Add instructions for Application to a Por...</td>\n",
       "      <td>refs/heads/master</td>\n",
       "      <td>https://github.com/SonarSource/sonarqube/compa...</td>\n",
       "      <td>2019/08</td>\n",
       "      <td>0.001495</td>\n",
       "      <td>0.000997</td>\n",
       "      <td>0.000498</td>\n",
       "    </tr>\n",
       "    <tr>\n",
       "      <th>2</th>\n",
       "      <td>721125402</td>\n",
       "      <td>WEB_TESTS</td>\n",
       "      <td>['yarn', 'gradle']</td>\n",
       "      <td>False</td>\n",
       "      <td>14.0</td>\n",
       "      <td>3.0</td>\n",
       "      <td>3.0</td>\n",
       "      <td>30.0</td>\n",
       "      <td>0.0</td>\n",
       "      <td>1426.0</td>\n",
       "      <td>4196.0</td>\n",
       "      <td>[]</td>\n",
       "      <td>[]</td>\n",
       "      <td>2412.0</td>\n",
       "      <td>2412.0</td>\n",
       "      <td>0.0</td>\n",
       "      <td>0.0</td>\n",
       "      <td>[]</td>\n",
       "      <td>['yarn', 'gradle']</td>\n",
       "      <td>0</td>\n",
       "      <td>0</td>\n",
       "      <td>2</td>\n",
       "      <td>False</td>\n",
       "      <td>True</td>\n",
       "      <td>False</td>\n",
       "      <td>False</td>\n",
       "      <td>False</td>\n",
       "      <td>True</td>\n",
       "      <td>False</td>\n",
       "      <td>721125402</td>\n",
       "      <td>721125400</td>\n",
       "      <td>2020-08-25 20:08:05+00:00</td>\n",
       "      <td>2020-08-25 20:06:58.581000+00:00</td>\n",
       "      <td>2020-08-25 20:18:58+00:00</td>\n",
       "      <td>39397.2</td>\n",
       "      <td>passed</td>\n",
       "      <td>2020-08-25 20:18:58.561000+00:00</td>\n",
       "      <td>60c64b2c9f95bb52d070758fa88a3881ae69b5e7</td>\n",
       "      <td>222268239</td>\n",
       "      <td>SONAR-13766 PostProjectAnalysisTask's 'descrip...</td>\n",
       "      <td>refs/heads/master</td>\n",
       "      <td>https://github.com/SonarSource/sonarqube/compa...</td>\n",
       "      <td>2020/08</td>\n",
       "      <td>0.005802</td>\n",
       "      <td>0.001243</td>\n",
       "      <td>0.000000</td>\n",
       "    </tr>\n",
       "  </tbody>\n",
       "</table>\n",
       "</div>"
      ],
      "text/plain": [
       "      job_id build_target                  build_tool  \\\n",
       "0  346751001    WEB_TESTS                    ['yarn']   \n",
       "1  575471642    WEB_TESTS  ['yarn', 'jest', 'gradle']   \n",
       "2  721125402    WEB_TESTS          ['yarn', 'gradle']   \n",
       "\n",
       "   build_canceled_open_pr_on_branch  errors  failures  suspected_words  \\\n",
       "0                             False     3.0       2.0              1.0   \n",
       "1                             False     3.0       2.0              1.0   \n",
       "2                             False    14.0       3.0              3.0   \n",
       "\n",
       "   warnings  skipped_words   lines   words exceptions error_classes  \\\n",
       "0       2.0            1.0  1045.0  3294.0         []            []   \n",
       "1       9.0            1.0  1362.0  3919.0         []            []   \n",
       "2      30.0            0.0  1426.0  4196.0         []            []   \n",
       "\n",
       "   tests_total  tests_passed  tests_failed  tests_skipped failed_tasks  \\\n",
       "0       1120.0        1117.0           0.0            3.0           []   \n",
       "1       2006.0        2005.0           0.0            1.0           []   \n",
       "2       2412.0        2412.0           0.0            0.0           []   \n",
       "\n",
       "               build_tool_str  n_exceptions  n_error_classes  n_build_tools  \\\n",
       "0                    ['yarn']             0                0              1   \n",
       "1  ['yarn', 'jest', 'gradle']             0                0              3   \n",
       "2          ['yarn', 'gradle']             0                0              2   \n",
       "\n",
       "   maven_build  gradle_build  mocha_build  jest_build  grunt_build  \\\n",
       "0        False         False        False       False        False   \n",
       "1        False          True        False        True        False   \n",
       "2        False          True        False       False        False   \n",
       "\n",
       "   yarn_build  node_build         id    buildid                 started_at  \\\n",
       "0        True       False  346751001  346750998  2018-02-27 12:30:57+00:00   \n",
       "1        True       False  575471642  575471639  2019-08-22 18:21:52+00:00   \n",
       "2        True       False  721125402  721125400  2020-08-25 20:08:05+00:00   \n",
       "\n",
       "                         created_at                finished_at   number  \\\n",
       "0  2018-02-27 12:30:21.579000+00:00  2018-02-27 12:34:24+00:00  37569.2   \n",
       "1  2019-08-22 18:21:19.464000+00:00  2019-08-22 18:33:18+00:00  39085.2   \n",
       "2  2020-08-25 20:06:58.581000+00:00  2020-08-25 20:18:58+00:00  39397.2   \n",
       "\n",
       "    state                        updated_at  \\\n",
       "0  passed  2018-06-04 05:43:54.693000+00:00   \n",
       "1  passed  2019-08-22 18:33:18.698000+00:00   \n",
       "2  passed  2020-08-25 20:18:58.561000+00:00   \n",
       "\n",
       "                                  commitsha   commitid  \\\n",
       "0  7b245fbc45898ce11ab5cc0d60dc4f5621b94645  103144209   \n",
       "1  7c2a234b30826c8f98dabff8506b1f49884b83a5  174121400   \n",
       "2  60c64b2c9f95bb52d070758fa88a3881ae69b5e7  222268239   \n",
       "\n",
       "                                       commitmessage             commitref  \\\n",
       "0  SONAR-10047 Use SearchSelect for tags in Bulk ...  refs/pull/3103/merge   \n",
       "1  DOCS Add instructions for Application to a Por...     refs/heads/master   \n",
       "2  SONAR-13766 PostProjectAnalysisTask's 'descrip...     refs/heads/master   \n",
       "\n",
       "                                   commitcompare_url year_month  \\\n",
       "0  https://github.com/SonarSource/sonarqube/pull/...    2018/02   \n",
       "1  https://github.com/SonarSource/sonarqube/compa...    2019/08   \n",
       "2  https://github.com/SonarSource/sonarqube/compa...    2020/08   \n",
       "\n",
       "   errors_over_tests_total  failures_over_tests_total  \\\n",
       "0                 0.002676                   0.001784   \n",
       "1                 0.001495                   0.000997   \n",
       "2                 0.005802                   0.001243   \n",
       "\n",
       "   skipped_over_tests_total  \n",
       "0                  0.000892  \n",
       "1                  0.000498  \n",
       "2                  0.000000  "
      ]
     },
     "execution_count": 151,
     "metadata": {},
     "output_type": "execute_result"
    }
   ],
   "source": [
    "log_parsed_metrics.head(3)"
   ]
  },
  {
   "cell_type": "code",
   "execution_count": 152,
   "metadata": {},
   "outputs": [
    {
     "data": {
      "text/plain": [
       "Index(['job_id', 'build_target', 'build_tool',\n",
       "       'build_canceled_open_pr_on_branch', 'errors', 'failures',\n",
       "       'suspected_words', 'warnings', 'skipped_words', 'lines', 'words',\n",
       "       'exceptions', 'error_classes', 'tests_total', 'tests_passed',\n",
       "       'tests_failed', 'tests_skipped', 'failed_tasks', 'build_tool_str',\n",
       "       'n_exceptions', 'n_error_classes', 'n_build_tools', 'maven_build',\n",
       "       'gradle_build', 'mocha_build', 'jest_build', 'grunt_build',\n",
       "       'yarn_build', 'node_build', 'id', 'buildid', 'started_at', 'created_at',\n",
       "       'finished_at', 'number', 'state', 'updated_at', 'commitsha', 'commitid',\n",
       "       'commitmessage', 'commitref', 'commitcompare_url', 'year_month',\n",
       "       'errors_over_tests_total', 'failures_over_tests_total',\n",
       "       'skipped_over_tests_total'],\n",
       "      dtype='object')"
      ]
     },
     "execution_count": 152,
     "metadata": {},
     "output_type": "execute_result"
    }
   ],
   "source": [
    "log_parsed_metrics.columns"
   ]
  },
  {
   "cell_type": "code",
   "execution_count": 154,
   "metadata": {},
   "outputs": [],
   "source": [
    "def calculate_aggregator_for_column(row, release_builds, column, aggregator):\n",
    "    _x = release_builds\n",
    "    _all_builds_ids = _x[(_x.from_tag == row.from_tag) & (_x.to_tag == row.to_tag)].buildid\n",
    "    _jobs = jobs[jobs.buildid.isin(_all_builds_ids)]\n",
    "    _series = log_parsed_metrics[log_parsed_metrics.job_id.isin(_jobs.id.unique())][column]\n",
    "    return getattr(_series, aggregator)()"
   ]
  },
  {
   "cell_type": "markdown",
   "metadata": {},
   "source": [
    "**Type build tools**"
   ]
  },
  {
   "cell_type": "code",
   "execution_count": 155,
   "metadata": {},
   "outputs": [
    {
     "data": {
      "text/plain": [
       "78289"
      ]
     },
     "execution_count": 155,
     "metadata": {},
     "output_type": "execute_result"
    }
   ],
   "source": [
    "_build_tools = log_parsed_metrics.build_tool\n",
    "_build_tools.apply(lambda x: \"maven\" in x).sum()"
   ]
  },
  {
   "cell_type": "code",
   "execution_count": 300,
   "metadata": {},
   "outputs": [],
   "source": [
    "def maven_or_gradle_release(row, release_builds):\n",
    "    _x = release_builds\n",
    "    _all_builds_ids = _x[(_x.from_tag == row.from_tag) & (_x.to_tag == row.to_tag)].buildid\n",
    "    _jobs_ids = jobs[jobs.buildid.isin(_all_builds_ids)].id\n",
    "    _build_tools = log_parsed_metrics[log_parsed_metrics.job_id.isin(_jobs_ids)].build_tool\n",
    "    gradle = _build_tools.apply(lambda x: \"gradle\" in x).sum()\n",
    "    maven = _build_tools.apply(lambda x: \"maven\" in x).sum()\n",
    "    return \"maven\" if maven > gradle else \"gradle\""
   ]
  },
  {
   "cell_type": "code",
   "execution_count": 301,
   "metadata": {},
   "outputs": [],
   "source": [
    "for df, release_builds, method in df_builds:\n",
    "    df[f\"java_build_tool\"] = \\\n",
    "    df.apply(maven_or_gradle_release, args=(release_builds,), axis=1)"
   ]
  },
  {
   "cell_type": "markdown",
   "metadata": {},
   "source": [
    "**Errors over tests**"
   ]
  },
  {
   "cell_type": "code",
   "execution_count": 159,
   "metadata": {},
   "outputs": [],
   "source": [
    "for agg in [\"mean\", \"median\", \"max\", \"min\"]:\n",
    "    for df, release_builds, method in df_builds:\n",
    "        df[f\"{agg}_errors_over_tests_total\"] = \\\n",
    "        df.apply(calculate_aggregator_for_column, args=(release_builds,\"errors_over_tests_total\", agg), axis=1)"
   ]
  },
  {
   "cell_type": "code",
   "execution_count": 160,
   "metadata": {},
   "outputs": [
    {
     "data": {
      "image/png": "[encoded data removed]",
      "text/plain": [
       "<Figure size 1008x504 with 2 Axes>"
      ]
     },
     "metadata": {
      "needs_background": "light"
     },
     "output_type": "display_data"
    }
   ],
   "source": [
    "fig, axes = plt.subplots(nrows=len(df_builds), ncols=1, sharex=True, sharey=True, figsize=(14.0, 7.0))\n",
    "for i, df_build in enumerate(df_builds):\n",
    "    df_build[0].set_index(\"to_tag\").sort_index().\\\n",
    "        max_errors_over_tests_total.plot(kind=\"bar\", ax=axes[i], color=[\"tab:blue\"])\n",
    "    ax.set_xticklabels(ax.get_xticklabels(),rotation=90)\n",
    "    ax.set_title(df_build[2])\n",
    "    if(i < len(df_builds) - 1):\n",
    "        ax.get_xaxis().set_visible(False)"
   ]
  },
  {
   "cell_type": "markdown",
   "metadata": {},
   "source": [
    "**Failed tests**"
   ]
  },
  {
   "cell_type": "code",
   "execution_count": 161,
   "metadata": {},
   "outputs": [],
   "source": [
    "for agg in [\"mean\", \"median\", \"max\", \"min\"]:\n",
    "    for df, release_builds, method in df_builds:\n",
    "        df[f\"{agg}_failed_tests\"] = \\\n",
    "        df.apply(calculate_aggregator_for_column, args=(release_builds,\"tests_failed\", agg), axis=1)"
   ]
  },
  {
   "cell_type": "markdown",
   "metadata": {},
   "source": [
    "**Skipped tests**"
   ]
  },
  {
   "cell_type": "code",
   "execution_count": 283,
   "metadata": {},
   "outputs": [],
   "source": [
    "for agg in [\"mean\", \"median\", \"max\", \"min\"]:\n",
    "    for df, release_builds, method in df_builds:\n",
    "        df[f\"{agg}_skipped_tests\"] = \\\n",
    "        df.apply(calculate_aggregator_for_column, args=(release_builds,\"tests_skipped\", agg), axis=1)"
   ]
  },
  {
   "cell_type": "markdown",
   "metadata": {},
   "source": [
    "**Total tests**"
   ]
  },
  {
   "cell_type": "code",
   "execution_count": 284,
   "metadata": {},
   "outputs": [],
   "source": [
    "for agg in [\"mean\", \"median\", \"max\", \"min\"]:\n",
    "    for df, release_builds, method in df_builds:\n",
    "        df[f\"{agg}_total_tests\"] = \\\n",
    "        df.apply(calculate_aggregator_for_column, args=(release_builds,\"tests_total\", agg), axis=1)"
   ]
  },
  {
   "cell_type": "markdown",
   "metadata": {},
   "source": [
    "**Passed tests**"
   ]
  },
  {
   "cell_type": "code",
   "execution_count": 285,
   "metadata": {},
   "outputs": [],
   "source": [
    "for agg in [\"mean\", \"median\", \"max\", \"min\"]:\n",
    "    for df, release_builds, method in df_builds:\n",
    "        df[f\"{agg}_passed_tests\"] = \\\n",
    "        df.apply(calculate_aggregator_for_column, args=(release_builds,\"tests_passed\", agg), axis=1)"
   ]
  },
  {
   "cell_type": "markdown",
   "metadata": {},
   "source": [
    "**Failures over total tests**"
   ]
  },
  {
   "cell_type": "code",
   "execution_count": 162,
   "metadata": {},
   "outputs": [],
   "source": [
    "for agg in [\"mean\", \"median\", \"max\", \"min\"]:\n",
    "    for df, release_builds, method in df_builds:\n",
    "        df[f\"{agg}_failures_over_tests_total\"] = \\\n",
    "        df.apply(calculate_aggregator_for_column, args=(release_builds,\"failures_over_tests_total\", agg), axis=1)"
   ]
  },
  {
   "cell_type": "markdown",
   "metadata": {},
   "source": [
    "**Skipped over tests**"
   ]
  },
  {
   "cell_type": "code",
   "execution_count": 164,
   "metadata": {},
   "outputs": [],
   "source": [
    "for agg in [\"mean\", \"median\", \"max\", \"min\"]:\n",
    "    for df, release_builds, method in df_builds:\n",
    "        df[f\"{agg}_skipped_over_tests_total\"] = \\\n",
    "        df.apply(calculate_aggregator_for_column, args=(release_builds,\"skipped_over_tests_total\", agg), axis=1)"
   ]
  },
  {
   "cell_type": "markdown",
   "metadata": {},
   "source": [
    "**Number of exceptions**"
   ]
  },
  {
   "cell_type": "code",
   "execution_count": 165,
   "metadata": {},
   "outputs": [],
   "source": [
    "for agg in [\"mean\", \"median\", \"max\", \"min\"]:\n",
    "    for df, release_builds, method in df_builds:\n",
    "        df[f\"{agg}_n_exceptions\"] = \\\n",
    "        df.apply(calculate_aggregator_for_column, args=(release_builds,\"n_exceptions\", agg), axis=1)"
   ]
  },
  {
   "cell_type": "markdown",
   "metadata": {},
   "source": [
    "**Number of warnings**"
   ]
  },
  {
   "cell_type": "code",
   "execution_count": 166,
   "metadata": {},
   "outputs": [],
   "source": [
    "for agg in [\"mean\", \"median\", \"max\", \"min\"]:\n",
    "    for df, release_builds, method in df_builds:\n",
    "        df[f\"{agg}_n_warnings\"] = \\\n",
    "        df.apply(calculate_aggregator_for_column, args=(release_builds,\"warnings\", agg), axis=1)"
   ]
  },
  {
   "cell_type": "markdown",
   "metadata": {},
   "source": [
    "**Number of error classes**\n"
   ]
  },
  {
   "cell_type": "code",
   "execution_count": 167,
   "metadata": {},
   "outputs": [],
   "source": [
    "for agg in [\"mean\", \"median\", \"max\", \"min\"]:\n",
    "    for df, release_builds, method in df_builds:\n",
    "        df[f\"{agg}_n_error_classes\"] = \\\n",
    "        df.apply(calculate_aggregator_for_column, args=(release_builds,\"n_error_classes\", agg), axis=1)"
   ]
  },
  {
   "cell_type": "markdown",
   "metadata": {},
   "source": [
    "### Build burst metrics"
   ]
  },
  {
   "cell_type": "code",
   "execution_count": 86,
   "metadata": {},
   "outputs": [
    {
     "data": {
      "text/html": [
       "<div>\n",
       "<style scoped>\n",
       "    .dataframe tbody tr th:only-of-type {\n",
       "        vertical-align: middle;\n",
       "    }\n",
       "\n",
       "    .dataframe tbody tr th {\n",
       "        vertical-align: top;\n",
       "    }\n",
       "\n",
       "    .dataframe thead th {\n",
       "        text-align: right;\n",
       "    }\n",
       "</style>\n",
       "<table border=\"1\" class=\"dataframe\">\n",
       "  <thead>\n",
       "    <tr style=\"text-align: right;\">\n",
       "      <th></th>\n",
       "      <th>buildid</th>\n",
       "      <th>commitref</th>\n",
       "      <th>commitsha</th>\n",
       "      <th>number</th>\n",
       "      <th>pull_request_number</th>\n",
       "      <th>id</th>\n",
       "      <th>event_type</th>\n",
       "      <th>finished_at</th>\n",
       "      <th>pull_request_title</th>\n",
       "      <th>started_at</th>\n",
       "      <th>duration</th>\n",
       "      <th>state</th>\n",
       "      <th>started_at_day</th>\n",
       "      <th>started_at_month</th>\n",
       "      <th>started_at_year</th>\n",
       "    </tr>\n",
       "  </thead>\n",
       "  <tbody>\n",
       "    <tr>\n",
       "      <th>0</th>\n",
       "      <td>241946099</td>\n",
       "      <td>refs/heads/feature/atlas/MMF-324/builtin-profiles</td>\n",
       "      <td>2e4b539138fde6f664a865c81fb6ab0763f74bdb</td>\n",
       "      <td>25614</td>\n",
       "      <td>NaN</td>\n",
       "      <td>241946099</td>\n",
       "      <td>push</td>\n",
       "      <td>2017-06-12 09:21:43+00:00</td>\n",
       "      <td>NaN</td>\n",
       "      <td>2017-06-12 09:21:03+00:00</td>\n",
       "      <td>40.0</td>\n",
       "      <td>canceled</td>\n",
       "      <td>12.0</td>\n",
       "      <td>6.0</td>\n",
       "      <td>2017.0</td>\n",
       "    </tr>\n",
       "    <tr>\n",
       "      <th>1</th>\n",
       "      <td>241952022</td>\n",
       "      <td>refs/heads/feature/atlas/MMF-324/builtin-profiles</td>\n",
       "      <td>464f5da96733c14818f4b4bfeb878951b859ee0c</td>\n",
       "      <td>25615</td>\n",
       "      <td>NaN</td>\n",
       "      <td>241952022</td>\n",
       "      <td>push</td>\n",
       "      <td>2017-06-12 09:37:24+00:00</td>\n",
       "      <td>NaN</td>\n",
       "      <td>2017-06-12 09:36:43+00:00</td>\n",
       "      <td>40.0</td>\n",
       "      <td>canceled</td>\n",
       "      <td>12.0</td>\n",
       "      <td>6.0</td>\n",
       "      <td>2017.0</td>\n",
       "    </tr>\n",
       "    <tr>\n",
       "      <th>2</th>\n",
       "      <td>241952044</td>\n",
       "      <td>refs/pull/2104/merge</td>\n",
       "      <td>7358e9a93e47ac9fcaebe960c00ab8bd28e9890e</td>\n",
       "      <td>25616</td>\n",
       "      <td>2104.0</td>\n",
       "      <td>241952044</td>\n",
       "      <td>pull_request</td>\n",
       "      <td>2017-06-12 09:53:48+00:00</td>\n",
       "      <td>MMF-324 introduce concept of build-in Quality ...</td>\n",
       "      <td>2017-06-12 09:42:15+00:00</td>\n",
       "      <td>973.0</td>\n",
       "      <td>passed</td>\n",
       "      <td>12.0</td>\n",
       "      <td>6.0</td>\n",
       "      <td>2017.0</td>\n",
       "    </tr>\n",
       "    <tr>\n",
       "      <th>3</th>\n",
       "      <td>241955852</td>\n",
       "      <td>refs/heads/feature/jl/onboarding</td>\n",
       "      <td>00e86fd06991a1e54e3b17eb82f2532f85de6489</td>\n",
       "      <td>25617</td>\n",
       "      <td>NaN</td>\n",
       "      <td>241955852</td>\n",
       "      <td>push</td>\n",
       "      <td>2017-06-12 09:56:41+00:00</td>\n",
       "      <td>NaN</td>\n",
       "      <td>2017-06-12 09:50:40+00:00</td>\n",
       "      <td>610.0</td>\n",
       "      <td>failed</td>\n",
       "      <td>12.0</td>\n",
       "      <td>6.0</td>\n",
       "      <td>2017.0</td>\n",
       "    </tr>\n",
       "    <tr>\n",
       "      <th>4</th>\n",
       "      <td>241956721</td>\n",
       "      <td>refs/heads/feature/stas/onboarding/tutorial</td>\n",
       "      <td>b34d8845506f0de01138e525d118fe292d204334</td>\n",
       "      <td>25618</td>\n",
       "      <td>NaN</td>\n",
       "      <td>241956721</td>\n",
       "      <td>push</td>\n",
       "      <td>2017-06-12 09:51:07+00:00</td>\n",
       "      <td>NaN</td>\n",
       "      <td>2017-06-12 09:50:27+00:00</td>\n",
       "      <td>64.0</td>\n",
       "      <td>canceled</td>\n",
       "      <td>12.0</td>\n",
       "      <td>6.0</td>\n",
       "      <td>2017.0</td>\n",
       "    </tr>\n",
       "  </tbody>\n",
       "</table>\n",
       "</div>"
      ],
      "text/plain": [
       "     buildid                                          commitref  \\\n",
       "0  241946099  refs/heads/feature/atlas/MMF-324/builtin-profiles   \n",
       "1  241952022  refs/heads/feature/atlas/MMF-324/builtin-profiles   \n",
       "2  241952044                               refs/pull/2104/merge   \n",
       "3  241955852                   refs/heads/feature/jl/onboarding   \n",
       "4  241956721        refs/heads/feature/stas/onboarding/tutorial   \n",
       "\n",
       "                                  commitsha  number  pull_request_number  \\\n",
       "0  2e4b539138fde6f664a865c81fb6ab0763f74bdb   25614                  NaN   \n",
       "1  464f5da96733c14818f4b4bfeb878951b859ee0c   25615                  NaN   \n",
       "2  7358e9a93e47ac9fcaebe960c00ab8bd28e9890e   25616               2104.0   \n",
       "3  00e86fd06991a1e54e3b17eb82f2532f85de6489   25617                  NaN   \n",
       "4  b34d8845506f0de01138e525d118fe292d204334   25618                  NaN   \n",
       "\n",
       "          id    event_type                finished_at  \\\n",
       "0  241946099          push  2017-06-12 09:21:43+00:00   \n",
       "1  241952022          push  2017-06-12 09:37:24+00:00   \n",
       "2  241952044  pull_request  2017-06-12 09:53:48+00:00   \n",
       "3  241955852          push  2017-06-12 09:56:41+00:00   \n",
       "4  241956721          push  2017-06-12 09:51:07+00:00   \n",
       "\n",
       "                                  pull_request_title  \\\n",
       "0                                                NaN   \n",
       "1                                                NaN   \n",
       "2  MMF-324 introduce concept of build-in Quality ...   \n",
       "3                                                NaN   \n",
       "4                                                NaN   \n",
       "\n",
       "                  started_at  duration     state  started_at_day  \\\n",
       "0  2017-06-12 09:21:03+00:00      40.0  canceled            12.0   \n",
       "1  2017-06-12 09:36:43+00:00      40.0  canceled            12.0   \n",
       "2  2017-06-12 09:42:15+00:00     973.0    passed            12.0   \n",
       "3  2017-06-12 09:50:40+00:00     610.0    failed            12.0   \n",
       "4  2017-06-12 09:50:27+00:00      64.0  canceled            12.0   \n",
       "\n",
       "   started_at_month  started_at_year  \n",
       "0               6.0           2017.0  \n",
       "1               6.0           2017.0  \n",
       "2               6.0           2017.0  \n",
       "3               6.0           2017.0  \n",
       "4               6.0           2017.0  "
      ]
     },
     "execution_count": 86,
     "metadata": {},
     "output_type": "execute_result"
    }
   ],
   "source": [
    "builds_commitref = jobs.drop_duplicates(subset=[\"buildid\", \"commitref\", \"commitsha\"], keep=\"first\")[[\"buildid\", \"commitref\", \"commitsha\"]]\\\n",
    ".merge(builds, left_on=\"buildid\", right_on=\"id\")\n",
    "builds_commitref.head(5)"
   ]
  },
  {
   "cell_type": "code",
   "execution_count": 197,
   "metadata": {},
   "outputs": [],
   "source": [
    "def detect_build_bursts(_builds, gap_size, burst_size, states):\n",
    "    positive_count = 0\n",
    "    #used to count the gap size\n",
    "    negative_count = 0\n",
    "    n_bursts = 0\n",
    "    burst_sizes = []\n",
    "    i = 0\n",
    "    for index, row in _builds.sort_values(by=\"started_at\").iterrows():\n",
    "        i+=1\n",
    "        #not part of the burst\n",
    "        if (not (row[\"state\"] in states)):\n",
    "            negative_count+=1\n",
    "            #check if burst is terminated\n",
    "            if(negative_count == gap_size):\n",
    "                if(positive_count >= burst_size):\n",
    "                    n_bursts+=1\n",
    "                    burst_sizes.append(positive_count)\n",
    "                negative_count = 0\n",
    "                positive_count = 0\n",
    "        #part of the burst\n",
    "        if(row[\"state\"] in states):\n",
    "            positive_count+=1\n",
    "            negative_count = 0\n",
    "            #end of the loop\n",
    "            if(i == len(_builds)):\n",
    "                if(positive_count >= burst_size):\n",
    "                    n_bursts+=1\n",
    "                    burst_sizes.append(positive_count)\n",
    "    return n_bursts, burst_sizes\n",
    "\n",
    "def build_burst_metrics(row, _release_builds, states):\n",
    "    _x = release_builds\n",
    "    _builds = _x[(_x.from_tag == row.from_tag) & (_x.to_tag == row.to_tag)].buildid\n",
    "    _builds = builds_commitref[builds_commitref.id.isin(_builds)]\n",
    "    res = {}\n",
    "    for gap_size in [1,2,3]:\n",
    "        for burst_size in [1,2,3]:\n",
    "            commitref_data=[]\n",
    "            for commitref in _builds.commitref.unique():\n",
    "                _ref_builds = _builds[_builds.commitref==commitref]\n",
    "                commitref_data.append(detect_build_bursts(_ref_builds, gap_size, burst_size, states))\n",
    "            bursts = np.array([])\n",
    "            bursts_sizes = np.array([])\n",
    "            for d in commitref_data:\n",
    "                bursts = np.append(bursts,d[0])\n",
    "                for v in d[1]:\n",
    "                    bursts_sizes = np.append(bursts_sizes,v)\n",
    "            if not gap_size in res:\n",
    "                res[gap_size] = {}\n",
    "            res[gap_size][burst_size] = (bursts, bursts_sizes)\n",
    "    return res\n",
    "\n",
    "def get_failed_burst_metrics(row, _release_builds):\n",
    "    return build_burst_metrics(row, _release_builds, [\"failed\"])\n",
    "\n",
    "def get_canceled_burst_metrics(row, _release_builds):\n",
    "    return build_burst_metrics(row, _release_builds, [\"canceled\"])\n",
    "\n",
    "def get_not_passed_burst_metrics(row, _release_builds):\n",
    "    return build_burst_metrics(row, _release_builds, [\"failed\", \"canceled\", \"errored\"])"
   ]
  },
  {
   "cell_type": "code",
   "execution_count": 198,
   "metadata": {},
   "outputs": [],
   "source": [
    "def burst_metrics_analysis(burst_metrics, type_str):\n",
    "    cols = [\"index\"]\n",
    "    data = []\n",
    "    for i, row in burst_metrics.items():\n",
    "        inner_data = [i]\n",
    "        for gap in row:\n",
    "            for burst_size in row[gap]:\n",
    "                bursts = row[gap][burst_size][0]\n",
    "                burst_sizes = row[gap][burst_size][1]\n",
    "                inner_data.append(bursts.mean())\n",
    "                inner_data.append(np.median(bursts))\n",
    "                inner_data.append(bursts.max())\n",
    "                inner_data.append(bursts.min())\n",
    "                if(i == 3):\n",
    "                    for metric in [\"mean\", \"median\", \"max\", \"min\"]:\n",
    "                        cols.append(f\"{type_str}_gp{gap}_bs{burst_size}_n_bursts_{metric}\")\n",
    "                inner_data.append(burst_sizes.mean())\n",
    "                inner_data.append(np.median(burst_sizes))\n",
    "                inner_data.append(np.max(burst_sizes, initial=0))\n",
    "                inner_data.append(np.min(burst_sizes, initial=0))\n",
    "                if(i == 3):\n",
    "                    for metric in [\"mean\", \"median\", \"max\", \"min\"]:\n",
    "                        cols.append(f\"{type_str}_gp{gap}_bs{burst_size}_burst_size_{metric}\")\n",
    "        data.append(tuple(inner_data))\n",
    "    return data, cols"
   ]
  },
  {
   "cell_type": "markdown",
   "metadata": {},
   "source": [
    "**Not passed burst metrics**"
   ]
  },
  {
   "cell_type": "markdown",
   "metadata": {},
   "source": [
    "not_passed_burst_metrics = {}\n",
    "for df, release_builds, method in df_builds:\n",
    "    metrics = df.apply(get_not_passed_burst_metrics,args=(release_builds,),axis=1)\n",
    "    not_passed_burst_metrics[method]=metrics"
   ]
  },
  {
   "cell_type": "markdown",
   "metadata": {},
   "source": [
    "df_release_bursts = [(),()]\n",
    "for i, (df, release_builds, method) in enumerate(df_builds):\n",
    "    data, cols = burst_metrics_analysis(not_passed_burst_metrics[method], \"not_passed\")\n",
    "    not_passed_burst_metrics_df = pd.DataFrame(data, columns=cols)\n",
    "    not_passed_burst_metrics_df.set_index(\"index\", inplace=True)\n",
    "    not_passed_burst_metrics_df.fillna(0, inplace=True)\n",
    "    df_release_bursts[i] = (df.join(not_passed_burst_metrics_df), release_builds, method)"
   ]
  },
  {
   "cell_type": "markdown",
   "metadata": {},
   "source": [
    "#checkpoint of calculation up until here\n",
    "for df_burst, release_builds, method in df_release_bursts: \n",
    "    df_burst.to_csv(f\"{csv_folder}/ci_metrics/{method}_not_passed_burst_metrics.csv\")"
   ]
  },
  {
   "cell_type": "markdown",
   "metadata": {},
   "source": [
    "#retrieve checkpoint of calculation up until here\n",
    "df_release_bursts = [(),()]\n",
    "for i, (df, release_builds, method) in enumerate(df_builds): \n",
    "    tmp = pd.read_csv(f\"{csv_folder}/ci_metrics/{method}_not_passed_burst_metrics.csv\", index_col=0)\n",
    "    df_release_bursts[i] = (tmp, release_builds, method)"
   ]
  },
  {
   "cell_type": "markdown",
   "metadata": {},
   "source": [
    "**Canceled burst metrics**"
   ]
  },
  {
   "cell_type": "markdown",
   "metadata": {},
   "source": [
    "cenceled_burst_metrics = {}\n",
    "for df, release_builds, method in df_release_bursts:\n",
    "    metrics = df.apply(get_canceled_burst_metrics,args=(release_builds,),axis=1)\n",
    "    cenceled_burst_metrics[method]=metrics"
   ]
  },
  {
   "cell_type": "markdown",
   "metadata": {},
   "source": [
    "for i, (df, release_builds, method) in enumerate(df_release_bursts):\n",
    "    data, cols = burst_metrics_analysis(not_passed_burst_metrics[method], \"canceled\")\n",
    "    not_passed_burst_metrics_df = pd.DataFrame(data, columns=cols)\n",
    "    not_passed_burst_metrics_df.set_index(\"index\", inplace=True)\n",
    "    not_passed_burst_metrics_df.fillna(0, inplace=True)\n",
    "    df_release_bursts[i] = (df.join(not_passed_burst_metrics_df), release_builds, method)"
   ]
  },
  {
   "cell_type": "markdown",
   "metadata": {},
   "source": [
    "#checkpoint of calculation up until here\n",
    "for df_burst, release_builds, method in df_release_bursts: \n",
    "    df_burst.to_csv(f\"{csv_folder}/ci_metrics/{method}_not_passed_+_canceled_burst_metrics.csv\")"
   ]
  },
  {
   "cell_type": "markdown",
   "metadata": {},
   "source": [
    "#retrieve checkpoint of calculation up until here\n",
    "df_release_bursts = [(),()]\n",
    "for i, (df, release_builds, method) in enumerate(df_builds): \n",
    "    tmp = pd.read_csv(f\"{csv_folder}/ci_metrics/{method}_not_passed_+_canceled_burst_metrics.csv\", index_col=0)\n",
    "    df_release_bursts[i] = (tmp, release_builds, method)"
   ]
  },
  {
   "cell_type": "markdown",
   "metadata": {},
   "source": [
    "**Failed burst metrics**"
   ]
  },
  {
   "cell_type": "markdown",
   "metadata": {},
   "source": [
    "failed_burst_metrics = {}\n",
    "for df, release_builds, method in df_release_bursts:\n",
    "    metrics = df.apply(get_failed_burst_metrics,args=(release_builds,),axis=1)\n",
    "    cenceled_burst_metrics[method]=metrics"
   ]
  },
  {
   "cell_type": "markdown",
   "metadata": {},
   "source": [
    "for i, (df, release_builds, method) in enumerate(df_release_bursts):\n",
    "    data, cols = burst_metrics_analysis(not_passed_burst_metrics[method], \"failed\")\n",
    "    not_passed_burst_metrics_df = pd.DataFrame(data, columns=cols)\n",
    "    not_passed_burst_metrics_df.set_index(\"index\", inplace=True)\n",
    "    not_passed_burst_metrics_df.fillna(0, inplace=True)\n",
    "    df_release_bursts[i] = (df.join(not_passed_burst_metrics_df), release_builds, method)"
   ]
  },
  {
   "cell_type": "markdown",
   "metadata": {},
   "source": [
    "#checkpoint of calculation up until here\n",
    "for df_burst, release_builds, method in df_release_bursts: \n",
    "    df_burst.to_csv(f\"{csv_folder}/ci_metrics/{method}_all_burst_metrics.csv\")"
   ]
  },
  {
   "cell_type": "code",
   "execution_count": 281,
   "metadata": {},
   "outputs": [],
   "source": [
    "#retrieve checkpoint of calculation up until here\n",
    "df_release_bursts = [(),()]\n",
    "for i, (df, release_builds, method) in enumerate(df_builds): \n",
    "    tmp = pd.read_csv(f\"{csv_folder}/ci_metrics/{method}_all_burst_metrics.csv\", index_col=0)\n",
    "    df_release_bursts[i] = (tmp, release_builds, method)"
   ]
  },
  {
   "cell_type": "markdown",
   "metadata": {},
   "source": [
    "**Software quality metrics**"
   ]
  },
  {
   "cell_type": "code",
   "execution_count": 289,
   "metadata": {},
   "outputs": [
    {
     "data": {
      "text/html": [
       "<div>\n",
       "<style scoped>\n",
       "    .dataframe tbody tr th:only-of-type {\n",
       "        vertical-align: middle;\n",
       "    }\n",
       "\n",
       "    .dataframe tbody tr th {\n",
       "        vertical-align: top;\n",
       "    }\n",
       "\n",
       "    .dataframe thead th {\n",
       "        text-align: right;\n",
       "    }\n",
       "</style>\n",
       "<table border=\"1\" class=\"dataframe\">\n",
       "  <thead>\n",
       "    <tr style=\"text-align: right;\">\n",
       "      <th></th>\n",
       "      <th>version_name</th>\n",
       "      <th>post_release_bugs</th>\n",
       "      <th>pre_release_bugs</th>\n",
       "      <th>dde</th>\n",
       "      <th>critical_post_release_bugs</th>\n",
       "      <th>minor_post_release_bugs</th>\n",
       "      <th>fix_time</th>\n",
       "    </tr>\n",
       "  </thead>\n",
       "  <tbody>\n",
       "    <tr>\n",
       "      <th>0</th>\n",
       "      <td>4.5.7</td>\n",
       "      <td>1.0</td>\n",
       "      <td>0.0</td>\n",
       "      <td>0.000000</td>\n",
       "      <td>0.0</td>\n",
       "      <td>0.0</td>\n",
       "      <td>434.28603</td>\n",
       "    </tr>\n",
       "    <tr>\n",
       "      <th>1</th>\n",
       "      <td>5.1</td>\n",
       "      <td>17.0</td>\n",
       "      <td>7.0</td>\n",
       "      <td>0.291667</td>\n",
       "      <td>0.0</td>\n",
       "      <td>1.0</td>\n",
       "      <td>76.54260</td>\n",
       "    </tr>\n",
       "  </tbody>\n",
       "</table>\n",
       "</div>"
      ],
      "text/plain": [
       "  version_name  post_release_bugs  pre_release_bugs       dde  \\\n",
       "0        4.5.7                1.0               0.0  0.000000   \n",
       "1          5.1               17.0               7.0  0.291667   \n",
       "\n",
       "   critical_post_release_bugs  minor_post_release_bugs   fix_time  \n",
       "0                         0.0                      0.0  434.28603  \n",
       "1                         0.0                      1.0   76.54260  "
      ]
     },
     "execution_count": 289,
     "metadata": {},
     "output_type": "execute_result"
    }
   ],
   "source": [
    "sw_quality_metrics= pd.read_csv(f\"{csv_folder}/tags_software_quality_metrics_no_rc_and_milestones.csv\", index_col=0)\n",
    "sw_quality_metrics.head(2)"
   ]
  },
  {
   "cell_type": "code",
   "execution_count": 290,
   "metadata": {},
   "outputs": [
    {
     "data": {
      "text/plain": [
       "Index(['version_name', 'post_release_bugs', 'pre_release_bugs', 'dde',\n",
       "       'critical_post_release_bugs', 'minor_post_release_bugs', 'fix_time'],\n",
       "      dtype='object')"
      ]
     },
     "execution_count": 290,
     "metadata": {},
     "output_type": "execute_result"
    }
   ],
   "source": [
    "sw_quality_metrics.columns"
   ]
  },
  {
   "cell_type": "markdown",
   "metadata": {},
   "source": [
    "**Merging**"
   ]
  },
  {
   "cell_type": "code",
   "execution_count": 291,
   "metadata": {},
   "outputs": [
    {
     "name": "stdout",
     "output_type": "stream",
     "text": [
      "(52, 294)\n",
      "(52, 294)\n"
     ]
    }
   ],
   "source": [
    "for i, (df, release_builds, method) in enumerate(df_release_bursts):\n",
    "    print(df.shape)"
   ]
  },
  {
   "cell_type": "code",
   "execution_count": 292,
   "metadata": {},
   "outputs": [],
   "source": [
    "#sw_quality_metrics"
   ]
  },
  {
   "cell_type": "code",
   "execution_count": 293,
   "metadata": {},
   "outputs": [
    {
     "data": {
      "text/plain": [
       "set()"
      ]
     },
     "execution_count": 293,
     "metadata": {},
     "output_type": "execute_result"
    }
   ],
   "source": [
    "set(df_release_bursts[0][0].to_tag).difference(sw_quality_metrics.version_name.values)"
   ]
  },
  {
   "cell_type": "code",
   "execution_count": 294,
   "metadata": {},
   "outputs": [
    {
     "data": {
      "text/plain": [
       "{'4.5.7', '5.1', '5.1.1', '5.1.2'}"
      ]
     },
     "execution_count": 294,
     "metadata": {},
     "output_type": "execute_result"
    }
   ],
   "source": [
    "set(sw_quality_metrics.version_name.values).difference(set(df_release_bursts[0][0].to_tag))"
   ]
  },
  {
   "cell_type": "code",
   "execution_count": 304,
   "metadata": {},
   "outputs": [],
   "source": [
    "df_release_bursts = df_builds"
   ]
  },
  {
   "cell_type": "code",
   "execution_count": 306,
   "metadata": {},
   "outputs": [],
   "source": [
    "df_builds_sw_metrics = [(),()]\n",
    "for i, (df, release_builds, method) in enumerate(df_release_bursts):\n",
    "    dataset_with_sw_metrics = df.merge(sw_quality_metrics, left_on=\"to_tag\", right_on=\"version_name\")\n",
    "    df_builds_sw_metrics[i] = (dataset_with_sw_metrics, release_builds, method)\n",
    "    dataset_with_sw_metrics.to_csv(f\"{csv_folder}/final_datasets/{method}_with_sw_metrics.csv\")"
   ]
  },
  {
   "cell_type": "markdown",
   "metadata": {},
   "source": [
    "# Analysis"
   ]
  },
  {
   "cell_type": "code",
   "execution_count": 21,
   "metadata": {},
   "outputs": [],
   "source": [
    "methods= [\"dataset1\", \"dataset2\"]"
   ]
  },
  {
   "cell_type": "code",
   "execution_count": 22,
   "metadata": {},
   "outputs": [],
   "source": [
    "df_metrics = {methods[0]: pd.read_csv(f\"{csv_folder}/final_datasets/{methods[0]}_with_sw_metrics.csv\", index_col=0),\n",
    "                methods[1]: pd.read_csv(f\"{csv_folder}/final_datasets/{methods[1]}_with_sw_metrics.csv\", index_col=0)}"
   ]
  },
  {
   "cell_type": "code",
   "execution_count": 270,
   "metadata": {},
   "outputs": [
    {
     "data": {
      "image/png": "[encoded data removed]",
      "text/plain": [
       "<Figure size 1008x360 with 1 Axes>"
      ]
     },
     "metadata": {
      "needs_background": "light"
     },
     "output_type": "display_data"
    },
    {
     "data": {
      "image/png": "[encoded data removed]",
      "text/plain": [
       "<Figure size 1008x360 with 1 Axes>"
      ]
     },
     "metadata": {
      "needs_background": "light"
     },
     "output_type": "display_data"
    }
   ],
   "source": [
    "for method, metrics in df_metrics.items():\n",
    "    ax = sns.boxplot(x=\"java_build_tool\", y=\"median_skipped_over_tests_total\",\n",
    "                 data=metrics)\n",
    "    plt.show()"
   ]
  },
  {
   "cell_type": "code",
   "execution_count": 271,
   "metadata": {},
   "outputs": [
    {
     "data": {
      "image/png": "[encoded data removed]",
      "text/plain": [
       "<Figure size 1008x360 with 1 Axes>"
      ]
     },
     "metadata": {
      "needs_background": "light"
     },
     "output_type": "display_data"
    },
    {
     "data": {
      "image/png": "[encoded data removed]",
      "text/plain": [
       "<Figure size 1008x360 with 1 Axes>"
      ]
     },
     "metadata": {
      "needs_background": "light"
     },
     "output_type": "display_data"
    }
   ],
   "source": [
    "for method, metrics in df_metrics.items():\n",
    "    ax = sns.boxplot(x=\"java_build_tool\", y=\"min_not_errored_or_canceled_build_duration\",\n",
    "                 data=metrics)\n",
    "    plt.show()"
   ]
  },
  {
   "cell_type": "code",
   "execution_count": 272,
   "metadata": {},
   "outputs": [
    {
     "data": {
      "image/png": "[encoded data removed]",
      "text/plain": [
       "<Figure size 1008x360 with 1 Axes>"
      ]
     },
     "metadata": {
      "needs_background": "light"
     },
     "output_type": "display_data"
    },
    {
     "data": {
      "image/png": "[encoded data removed]",
      "text/plain": [
       "<Figure size 1008x360 with 1 Axes>"
      ]
     },
     "metadata": {
      "needs_background": "light"
     },
     "output_type": "display_data"
    }
   ],
   "source": [
    "for method, metrics in df_metrics.items():\n",
    "    ax = sns.boxplot(x=\"java_build_tool\", y=\"post_release_bugs\",\n",
    "                 data=metrics)\n",
    "    plt.show()"
   ]
  },
  {
   "cell_type": "code",
   "execution_count": 273,
   "metadata": {
    "scrolled": false
   },
   "outputs": [
    {
     "data": {
      "text/plain": [
       "<Figure size 1008x360 with 0 Axes>"
      ]
     },
     "metadata": {},
     "output_type": "display_data"
    },
    {
     "data": {
      "image/png": "[encoded data removed]",
      "text/plain": [
       "<Figure size 936x576 with 6 Axes>"
      ]
     },
     "metadata": {
      "needs_background": "light"
     },
     "output_type": "display_data"
    }
   ],
   "source": [
    "plt.figure()\n",
    "fig, axes = plt.subplots(nrows=2, ncols=3, figsize=(13.0, 8.0))\n",
    "fig.tight_layout(h_pad=3, w_pad=3)\n",
    "fig.text(0.001, 0.5, 'Density', ha='center', va='center', rotation='vertical')\n",
    "axes = axes.flatten()\n",
    "metrics = df_metrics[methods[1]]\n",
    "for i, col in enumerate([\"median_skipped_over_tests_total\", \"min_not_errored_or_canceled_build_duration\", \"post_release_bugs\",\n",
    "                        \"ratio_passed_builds\", \"ratio_failed_builds\", \"median_n_exceptions\"]):\n",
    "    ax = sns.kdeplot(data=metrics, x=col, hue=\"java_build_tool\",  ax=axes[i])\n",
    "    ax.set(ylabel=\"\")\n",
    "plt.savefig(f\"{figure_folder}/ci-metrics/maven_gradle_metrics_dist.png\", transparent=True, bbox_inches='tight', pad_inches=0.2)\n",
    "plt.show()"
   ]
  },
  {
   "cell_type": "markdown",
   "metadata": {},
   "source": [
    "### Kolmogorov test"
   ]
  },
  {
   "cell_type": "code",
   "execution_count": 274,
   "metadata": {},
   "outputs": [],
   "source": [
    "from scipy import stats"
   ]
  },
  {
   "cell_type": "code",
   "execution_count": 275,
   "metadata": {},
   "outputs": [
    {
     "data": {
      "text/plain": [
       "KstestResult(statistic=0.15, pvalue=0.9055639149709901)"
      ]
     },
     "execution_count": 275,
     "metadata": {},
     "output_type": "execute_result"
    }
   ],
   "source": [
    "stats.ks_2samp(metrics[metrics.java_build_tool==\"gradle\"][\"post_release_bugs\"],\\\n",
    "             metrics[metrics.java_build_tool==\"maven\"][\"post_release_bugs\"])"
   ]
  },
  {
   "cell_type": "code",
   "execution_count": 23,
   "metadata": {},
   "outputs": [
    {
     "data": {
      "text/html": [
       "<div>\n",
       "<style scoped>\n",
       "    .dataframe tbody tr th:only-of-type {\n",
       "        vertical-align: middle;\n",
       "    }\n",
       "\n",
       "    .dataframe tbody tr th {\n",
       "        vertical-align: top;\n",
       "    }\n",
       "\n",
       "    .dataframe thead th {\n",
       "        text-align: right;\n",
       "    }\n",
       "</style>\n",
       "<table border=\"1\" class=\"dataframe\">\n",
       "  <thead>\n",
       "    <tr style=\"text-align: right;\">\n",
       "      <th></th>\n",
       "      <th>feature</th>\n",
       "      <th>statistic</th>\n",
       "      <th>pvalue</th>\n",
       "    </tr>\n",
       "  </thead>\n",
       "  <tbody>\n",
       "    <tr>\n",
       "      <th>0</th>\n",
       "      <td>from_author_date</td>\n",
       "      <td>0.88750</td>\n",
       "      <td>1.321487e-10</td>\n",
       "    </tr>\n",
       "    <tr>\n",
       "      <th>1</th>\n",
       "      <td>to_author_date</td>\n",
       "      <td>0.90625</td>\n",
       "      <td>3.731937e-11</td>\n",
       "    </tr>\n",
       "    <tr>\n",
       "      <th>4</th>\n",
       "      <td>from_sha</td>\n",
       "      <td>0.53125</td>\n",
       "      <td>1.033333e-03</td>\n",
       "    </tr>\n",
       "    <tr>\n",
       "      <th>5</th>\n",
       "      <td>to_sha</td>\n",
       "      <td>0.40000</td>\n",
       "      <td>2.827579e-02</td>\n",
       "    </tr>\n",
       "    <tr>\n",
       "      <th>9</th>\n",
       "      <td>from_commit_date</td>\n",
       "      <td>0.88750</td>\n",
       "      <td>1.321487e-10</td>\n",
       "    </tr>\n",
       "    <tr>\n",
       "      <th>10</th>\n",
       "      <td>to_commit_date</td>\n",
       "      <td>0.90625</td>\n",
       "      <td>3.731937e-11</td>\n",
       "    </tr>\n",
       "    <tr>\n",
       "      <th>13</th>\n",
       "      <td>to_tag</td>\n",
       "      <td>1.00000</td>\n",
       "      <td>1.587619e-14</td>\n",
       "    </tr>\n",
       "    <tr>\n",
       "      <th>14</th>\n",
       "      <td>from_tag</td>\n",
       "      <td>1.00000</td>\n",
       "      <td>1.587619e-14</td>\n",
       "    </tr>\n",
       "    <tr>\n",
       "      <th>15</th>\n",
       "      <td>ratio_passed_builds</td>\n",
       "      <td>0.53750</td>\n",
       "      <td>8.654880e-04</td>\n",
       "    </tr>\n",
       "    <tr>\n",
       "      <th>16</th>\n",
       "      <td>ratio_canceled_builds</td>\n",
       "      <td>0.79375</td>\n",
       "      <td>3.112395e-08</td>\n",
       "    </tr>\n",
       "    <tr>\n",
       "      <th>17</th>\n",
       "      <td>ratio_failed_builds</td>\n",
       "      <td>0.56875</td>\n",
       "      <td>3.292931e-04</td>\n",
       "    </tr>\n",
       "    <tr>\n",
       "      <th>19</th>\n",
       "      <td>ratio_pr_builds</td>\n",
       "      <td>0.96875</td>\n",
       "      <td>3.334000e-13</td>\n",
       "    </tr>\n",
       "    <tr>\n",
       "      <th>20</th>\n",
       "      <td>ratio_pr_builds_failed</td>\n",
       "      <td>0.75000</td>\n",
       "      <td>2.434213e-07</td>\n",
       "    </tr>\n",
       "    <tr>\n",
       "      <th>21</th>\n",
       "      <td>mean_not_errored_or_canceled_build_duration</td>\n",
       "      <td>0.38125</td>\n",
       "      <td>4.157826e-02</td>\n",
       "    </tr>\n",
       "    <tr>\n",
       "      <th>22</th>\n",
       "      <td>median_not_errored_or_canceled_build_duration</td>\n",
       "      <td>0.44375</td>\n",
       "      <td>1.060691e-02</td>\n",
       "    </tr>\n",
       "    <tr>\n",
       "      <th>23</th>\n",
       "      <td>max_not_errored_or_canceled_build_duration</td>\n",
       "      <td>0.45000</td>\n",
       "      <td>9.067884e-03</td>\n",
       "    </tr>\n",
       "    <tr>\n",
       "      <th>24</th>\n",
       "      <td>min_not_errored_or_canceled_build_duration</td>\n",
       "      <td>0.44375</td>\n",
       "      <td>1.060691e-02</td>\n",
       "    </tr>\n",
       "    <tr>\n",
       "      <th>25</th>\n",
       "      <td>mean_failed_build_duration</td>\n",
       "      <td>0.50000</td>\n",
       "      <td>2.500655e-03</td>\n",
       "    </tr>\n",
       "    <tr>\n",
       "      <th>26</th>\n",
       "      <td>median_failed_build_duration</td>\n",
       "      <td>0.50000</td>\n",
       "      <td>2.500655e-03</td>\n",
       "    </tr>\n",
       "    <tr>\n",
       "      <th>27</th>\n",
       "      <td>max_failed_build_duration</td>\n",
       "      <td>0.50000</td>\n",
       "      <td>2.500655e-03</td>\n",
       "    </tr>\n",
       "    <tr>\n",
       "      <th>28</th>\n",
       "      <td>min_failed_build_duration</td>\n",
       "      <td>0.50000</td>\n",
       "      <td>2.500655e-03</td>\n",
       "    </tr>\n",
       "    <tr>\n",
       "      <th>29</th>\n",
       "      <td>mean_passed_build_duration</td>\n",
       "      <td>0.38125</td>\n",
       "      <td>4.157826e-02</td>\n",
       "    </tr>\n",
       "    <tr>\n",
       "      <th>30</th>\n",
       "      <td>median_passed_build_duration</td>\n",
       "      <td>0.47500</td>\n",
       "      <td>4.902688e-03</td>\n",
       "    </tr>\n",
       "    <tr>\n",
       "      <th>31</th>\n",
       "      <td>max_passed_build_duration</td>\n",
       "      <td>0.45000</td>\n",
       "      <td>9.067884e-03</td>\n",
       "    </tr>\n",
       "    <tr>\n",
       "      <th>32</th>\n",
       "      <td>min_passed_build_duration</td>\n",
       "      <td>0.44375</td>\n",
       "      <td>1.060691e-02</td>\n",
       "    </tr>\n",
       "    <tr>\n",
       "      <th>33</th>\n",
       "      <td>mean_n_builds_per_pull_request</td>\n",
       "      <td>0.91875</td>\n",
       "      <td>1.319123e-11</td>\n",
       "    </tr>\n",
       "    <tr>\n",
       "      <th>34</th>\n",
       "      <td>median_n_builds_per_pull_request</td>\n",
       "      <td>0.86875</td>\n",
       "      <td>4.013508e-10</td>\n",
       "    </tr>\n",
       "    <tr>\n",
       "      <th>35</th>\n",
       "      <td>max_n_builds_per_pull_request</td>\n",
       "      <td>0.91875</td>\n",
       "      <td>1.319123e-11</td>\n",
       "    </tr>\n",
       "    <tr>\n",
       "      <th>36</th>\n",
       "      <td>min_n_builds_per_pull_request</td>\n",
       "      <td>0.86875</td>\n",
       "      <td>4.013508e-10</td>\n",
       "    </tr>\n",
       "    <tr>\n",
       "      <th>37</th>\n",
       "      <td>java_build_tool</td>\n",
       "      <td>1.00000</td>\n",
       "      <td>1.587619e-14</td>\n",
       "    </tr>\n",
       "    <tr>\n",
       "      <th>39</th>\n",
       "      <td>median_errors_over_tests_total</td>\n",
       "      <td>0.50625</td>\n",
       "      <td>2.129156e-03</td>\n",
       "    </tr>\n",
       "    <tr>\n",
       "      <th>41</th>\n",
       "      <td>min_errors_over_tests_total</td>\n",
       "      <td>0.76250</td>\n",
       "      <td>1.464127e-07</td>\n",
       "    </tr>\n",
       "    <tr>\n",
       "      <th>44</th>\n",
       "      <td>max_failed_tests</td>\n",
       "      <td>0.37500</td>\n",
       "      <td>4.715877e-02</td>\n",
       "    </tr>\n",
       "    <tr>\n",
       "      <th>46</th>\n",
       "      <td>mean_failures_over_tests_total</td>\n",
       "      <td>0.64375</td>\n",
       "      <td>2.440405e-05</td>\n",
       "    </tr>\n",
       "    <tr>\n",
       "      <th>47</th>\n",
       "      <td>median_failures_over_tests_total</td>\n",
       "      <td>0.55000</td>\n",
       "      <td>5.881456e-04</td>\n",
       "    </tr>\n",
       "    <tr>\n",
       "      <th>48</th>\n",
       "      <td>max_failures_over_tests_total</td>\n",
       "      <td>0.40000</td>\n",
       "      <td>2.827579e-02</td>\n",
       "    </tr>\n",
       "    <tr>\n",
       "      <th>49</th>\n",
       "      <td>min_failures_over_tests_total</td>\n",
       "      <td>0.64375</td>\n",
       "      <td>2.440405e-05</td>\n",
       "    </tr>\n",
       "    <tr>\n",
       "      <th>51</th>\n",
       "      <td>median_skipped_over_tests_total</td>\n",
       "      <td>0.39375</td>\n",
       "      <td>3.216212e-02</td>\n",
       "    </tr>\n",
       "    <tr>\n",
       "      <th>52</th>\n",
       "      <td>max_skipped_over_tests_total</td>\n",
       "      <td>0.57500</td>\n",
       "      <td>2.689449e-04</td>\n",
       "    </tr>\n",
       "    <tr>\n",
       "      <th>54</th>\n",
       "      <td>mean_n_exceptions</td>\n",
       "      <td>0.95000</td>\n",
       "      <td>8.255618e-13</td>\n",
       "    </tr>\n",
       "    <tr>\n",
       "      <th>56</th>\n",
       "      <td>max_n_exceptions</td>\n",
       "      <td>0.96875</td>\n",
       "      <td>3.334000e-13</td>\n",
       "    </tr>\n",
       "    <tr>\n",
       "      <th>58</th>\n",
       "      <td>mean_n_warnings</td>\n",
       "      <td>0.93750</td>\n",
       "      <td>4.143241e-12</td>\n",
       "    </tr>\n",
       "    <tr>\n",
       "      <th>59</th>\n",
       "      <td>median_n_warnings</td>\n",
       "      <td>0.40000</td>\n",
       "      <td>2.827579e-02</td>\n",
       "    </tr>\n",
       "    <tr>\n",
       "      <th>60</th>\n",
       "      <td>max_n_warnings</td>\n",
       "      <td>0.96875</td>\n",
       "      <td>3.334000e-13</td>\n",
       "    </tr>\n",
       "    <tr>\n",
       "      <th>61</th>\n",
       "      <td>min_n_warnings</td>\n",
       "      <td>0.51875</td>\n",
       "      <td>1.482255e-03</td>\n",
       "    </tr>\n",
       "    <tr>\n",
       "      <th>62</th>\n",
       "      <td>mean_n_error_classes</td>\n",
       "      <td>0.93750</td>\n",
       "      <td>4.143241e-12</td>\n",
       "    </tr>\n",
       "    <tr>\n",
       "      <th>64</th>\n",
       "      <td>max_n_error_classes</td>\n",
       "      <td>0.96875</td>\n",
       "      <td>3.334000e-13</td>\n",
       "    </tr>\n",
       "    <tr>\n",
       "      <th>68</th>\n",
       "      <td>not_passed_gp1_bs1_n_bursts_max</td>\n",
       "      <td>0.46875</td>\n",
       "      <td>5.695401e-03</td>\n",
       "    </tr>\n",
       "    <tr>\n",
       "      <th>70</th>\n",
       "      <td>not_passed_gp1_bs1_burst_size_mean</td>\n",
       "      <td>0.38125</td>\n",
       "      <td>4.157826e-02</td>\n",
       "    </tr>\n",
       "    <tr>\n",
       "      <th>72</th>\n",
       "      <td>not_passed_gp1_bs1_burst_size_max</td>\n",
       "      <td>0.38125</td>\n",
       "      <td>4.157826e-02</td>\n",
       "    </tr>\n",
       "    <tr>\n",
       "      <th>76</th>\n",
       "      <td>not_passed_gp1_bs2_n_bursts_max</td>\n",
       "      <td>0.38750</td>\n",
       "      <td>3.670044e-02</td>\n",
       "    </tr>\n",
       "    <tr>\n",
       "      <th>78</th>\n",
       "      <td>not_passed_gp1_bs2_burst_size_mean</td>\n",
       "      <td>0.37500</td>\n",
       "      <td>4.715877e-02</td>\n",
       "    </tr>\n",
       "    <tr>\n",
       "      <th>80</th>\n",
       "      <td>not_passed_gp1_bs2_burst_size_max</td>\n",
       "      <td>0.38125</td>\n",
       "      <td>4.157826e-02</td>\n",
       "    </tr>\n",
       "    <tr>\n",
       "      <th>82</th>\n",
       "      <td>not_passed_gp1_bs3_n_bursts_mean</td>\n",
       "      <td>0.37500</td>\n",
       "      <td>4.715877e-02</td>\n",
       "    </tr>\n",
       "    <tr>\n",
       "      <th>84</th>\n",
       "      <td>not_passed_gp1_bs3_n_bursts_max</td>\n",
       "      <td>0.37500</td>\n",
       "      <td>4.715877e-02</td>\n",
       "    </tr>\n",
       "    <tr>\n",
       "      <th>86</th>\n",
       "      <td>not_passed_gp1_bs3_burst_size_mean</td>\n",
       "      <td>0.38125</td>\n",
       "      <td>4.157826e-02</td>\n",
       "    </tr>\n",
       "    <tr>\n",
       "      <th>87</th>\n",
       "      <td>not_passed_gp1_bs3_burst_size_median</td>\n",
       "      <td>0.37500</td>\n",
       "      <td>4.715877e-02</td>\n",
       "    </tr>\n",
       "    <tr>\n",
       "      <th>88</th>\n",
       "      <td>not_passed_gp1_bs3_burst_size_max</td>\n",
       "      <td>0.38125</td>\n",
       "      <td>4.157826e-02</td>\n",
       "    </tr>\n",
       "    <tr>\n",
       "      <th>90</th>\n",
       "      <td>not_passed_gp2_bs1_n_bursts_mean</td>\n",
       "      <td>0.40000</td>\n",
       "      <td>2.827579e-02</td>\n",
       "    </tr>\n",
       "    <tr>\n",
       "      <th>92</th>\n",
       "      <td>not_passed_gp2_bs1_n_bursts_max</td>\n",
       "      <td>0.43750</td>\n",
       "      <td>1.222840e-02</td>\n",
       "    </tr>\n",
       "    <tr>\n",
       "      <th>96</th>\n",
       "      <td>not_passed_gp2_bs1_burst_size_max</td>\n",
       "      <td>0.37500</td>\n",
       "      <td>4.715877e-02</td>\n",
       "    </tr>\n",
       "    <tr>\n",
       "      <th>102</th>\n",
       "      <td>not_passed_gp2_bs2_burst_size_mean</td>\n",
       "      <td>0.37500</td>\n",
       "      <td>4.715877e-02</td>\n",
       "    </tr>\n",
       "    <tr>\n",
       "      <th>104</th>\n",
       "      <td>not_passed_gp2_bs2_burst_size_max</td>\n",
       "      <td>0.37500</td>\n",
       "      <td>4.715877e-02</td>\n",
       "    </tr>\n",
       "    <tr>\n",
       "      <th>106</th>\n",
       "      <td>not_passed_gp2_bs3_n_bursts_mean</td>\n",
       "      <td>0.37500</td>\n",
       "      <td>4.715877e-02</td>\n",
       "    </tr>\n",
       "    <tr>\n",
       "      <th>108</th>\n",
       "      <td>not_passed_gp2_bs3_n_bursts_max</td>\n",
       "      <td>0.37500</td>\n",
       "      <td>4.715877e-02</td>\n",
       "    </tr>\n",
       "    <tr>\n",
       "      <th>110</th>\n",
       "      <td>not_passed_gp2_bs3_burst_size_mean</td>\n",
       "      <td>0.37500</td>\n",
       "      <td>4.715877e-02</td>\n",
       "    </tr>\n",
       "    <tr>\n",
       "      <th>111</th>\n",
       "      <td>not_passed_gp2_bs3_burst_size_median</td>\n",
       "      <td>0.37500</td>\n",
       "      <td>4.715877e-02</td>\n",
       "    </tr>\n",
       "    <tr>\n",
       "      <th>112</th>\n",
       "      <td>not_passed_gp2_bs3_burst_size_max</td>\n",
       "      <td>0.37500</td>\n",
       "      <td>4.715877e-02</td>\n",
       "    </tr>\n",
       "    <tr>\n",
       "      <th>114</th>\n",
       "      <td>not_passed_gp3_bs1_n_bursts_mean</td>\n",
       "      <td>0.40000</td>\n",
       "      <td>2.827579e-02</td>\n",
       "    </tr>\n",
       "    <tr>\n",
       "      <th>116</th>\n",
       "      <td>not_passed_gp3_bs1_n_bursts_max</td>\n",
       "      <td>0.41875</td>\n",
       "      <td>1.876279e-02</td>\n",
       "    </tr>\n",
       "    <tr>\n",
       "      <th>124</th>\n",
       "      <td>not_passed_gp3_bs2_n_bursts_max</td>\n",
       "      <td>0.40625</td>\n",
       "      <td>2.473648e-02</td>\n",
       "    </tr>\n",
       "    <tr>\n",
       "      <th>140</th>\n",
       "      <td>canceled_gp1_bs1_n_bursts_max</td>\n",
       "      <td>0.46875</td>\n",
       "      <td>5.695401e-03</td>\n",
       "    </tr>\n",
       "    <tr>\n",
       "      <th>142</th>\n",
       "      <td>canceled_gp1_bs1_burst_size_mean</td>\n",
       "      <td>0.38125</td>\n",
       "      <td>4.157826e-02</td>\n",
       "    </tr>\n",
       "    <tr>\n",
       "      <th>144</th>\n",
       "      <td>canceled_gp1_bs1_burst_size_max</td>\n",
       "      <td>0.38125</td>\n",
       "      <td>4.157826e-02</td>\n",
       "    </tr>\n",
       "    <tr>\n",
       "      <th>148</th>\n",
       "      <td>canceled_gp1_bs2_n_bursts_max</td>\n",
       "      <td>0.38750</td>\n",
       "      <td>3.670044e-02</td>\n",
       "    </tr>\n",
       "    <tr>\n",
       "      <th>150</th>\n",
       "      <td>canceled_gp1_bs2_burst_size_mean</td>\n",
       "      <td>0.37500</td>\n",
       "      <td>4.715877e-02</td>\n",
       "    </tr>\n",
       "    <tr>\n",
       "      <th>152</th>\n",
       "      <td>canceled_gp1_bs2_burst_size_max</td>\n",
       "      <td>0.38125</td>\n",
       "      <td>4.157826e-02</td>\n",
       "    </tr>\n",
       "    <tr>\n",
       "      <th>154</th>\n",
       "      <td>canceled_gp1_bs3_n_bursts_mean</td>\n",
       "      <td>0.37500</td>\n",
       "      <td>4.715877e-02</td>\n",
       "    </tr>\n",
       "    <tr>\n",
       "      <th>156</th>\n",
       "      <td>canceled_gp1_bs3_n_bursts_max</td>\n",
       "      <td>0.37500</td>\n",
       "      <td>4.715877e-02</td>\n",
       "    </tr>\n",
       "    <tr>\n",
       "      <th>158</th>\n",
       "      <td>canceled_gp1_bs3_burst_size_mean</td>\n",
       "      <td>0.38125</td>\n",
       "      <td>4.157826e-02</td>\n",
       "    </tr>\n",
       "    <tr>\n",
       "      <th>159</th>\n",
       "      <td>canceled_gp1_bs3_burst_size_median</td>\n",
       "      <td>0.37500</td>\n",
       "      <td>4.715877e-02</td>\n",
       "    </tr>\n",
       "    <tr>\n",
       "      <th>160</th>\n",
       "      <td>canceled_gp1_bs3_burst_size_max</td>\n",
       "      <td>0.38125</td>\n",
       "      <td>4.157826e-02</td>\n",
       "    </tr>\n",
       "    <tr>\n",
       "      <th>162</th>\n",
       "      <td>canceled_gp2_bs1_n_bursts_mean</td>\n",
       "      <td>0.40000</td>\n",
       "      <td>2.827579e-02</td>\n",
       "    </tr>\n",
       "    <tr>\n",
       "      <th>164</th>\n",
       "      <td>canceled_gp2_bs1_n_bursts_max</td>\n",
       "      <td>0.43750</td>\n",
       "      <td>1.222840e-02</td>\n",
       "    </tr>\n",
       "    <tr>\n",
       "      <th>168</th>\n",
       "      <td>canceled_gp2_bs1_burst_size_max</td>\n",
       "      <td>0.37500</td>\n",
       "      <td>4.715877e-02</td>\n",
       "    </tr>\n",
       "    <tr>\n",
       "      <th>174</th>\n",
       "      <td>canceled_gp2_bs2_burst_size_mean</td>\n",
       "      <td>0.37500</td>\n",
       "      <td>4.715877e-02</td>\n",
       "    </tr>\n",
       "    <tr>\n",
       "      <th>176</th>\n",
       "      <td>canceled_gp2_bs2_burst_size_max</td>\n",
       "      <td>0.37500</td>\n",
       "      <td>4.715877e-02</td>\n",
       "    </tr>\n",
       "    <tr>\n",
       "      <th>178</th>\n",
       "      <td>canceled_gp2_bs3_n_bursts_mean</td>\n",
       "      <td>0.37500</td>\n",
       "      <td>4.715877e-02</td>\n",
       "    </tr>\n",
       "    <tr>\n",
       "      <th>180</th>\n",
       "      <td>canceled_gp2_bs3_n_bursts_max</td>\n",
       "      <td>0.37500</td>\n",
       "      <td>4.715877e-02</td>\n",
       "    </tr>\n",
       "    <tr>\n",
       "      <th>182</th>\n",
       "      <td>canceled_gp2_bs3_burst_size_mean</td>\n",
       "      <td>0.37500</td>\n",
       "      <td>4.715877e-02</td>\n",
       "    </tr>\n",
       "    <tr>\n",
       "      <th>183</th>\n",
       "      <td>canceled_gp2_bs3_burst_size_median</td>\n",
       "      <td>0.37500</td>\n",
       "      <td>4.715877e-02</td>\n",
       "    </tr>\n",
       "    <tr>\n",
       "      <th>184</th>\n",
       "      <td>canceled_gp2_bs3_burst_size_max</td>\n",
       "      <td>0.37500</td>\n",
       "      <td>4.715877e-02</td>\n",
       "    </tr>\n",
       "    <tr>\n",
       "      <th>186</th>\n",
       "      <td>canceled_gp3_bs1_n_bursts_mean</td>\n",
       "      <td>0.40000</td>\n",
       "      <td>2.827579e-02</td>\n",
       "    </tr>\n",
       "    <tr>\n",
       "      <th>188</th>\n",
       "      <td>canceled_gp3_bs1_n_bursts_max</td>\n",
       "      <td>0.41875</td>\n",
       "      <td>1.876279e-02</td>\n",
       "    </tr>\n",
       "    <tr>\n",
       "      <th>196</th>\n",
       "      <td>canceled_gp3_bs2_n_bursts_max</td>\n",
       "      <td>0.40625</td>\n",
       "      <td>2.473648e-02</td>\n",
       "    </tr>\n",
       "    <tr>\n",
       "      <th>212</th>\n",
       "      <td>failed_gp1_bs1_n_bursts_max</td>\n",
       "      <td>0.46875</td>\n",
       "      <td>5.695401e-03</td>\n",
       "    </tr>\n",
       "    <tr>\n",
       "      <th>214</th>\n",
       "      <td>failed_gp1_bs1_burst_size_mean</td>\n",
       "      <td>0.38125</td>\n",
       "      <td>4.157826e-02</td>\n",
       "    </tr>\n",
       "    <tr>\n",
       "      <th>216</th>\n",
       "      <td>failed_gp1_bs1_burst_size_max</td>\n",
       "      <td>0.38125</td>\n",
       "      <td>4.157826e-02</td>\n",
       "    </tr>\n",
       "    <tr>\n",
       "      <th>220</th>\n",
       "      <td>failed_gp1_bs2_n_bursts_max</td>\n",
       "      <td>0.38750</td>\n",
       "      <td>3.670044e-02</td>\n",
       "    </tr>\n",
       "    <tr>\n",
       "      <th>222</th>\n",
       "      <td>failed_gp1_bs2_burst_size_mean</td>\n",
       "      <td>0.37500</td>\n",
       "      <td>4.715877e-02</td>\n",
       "    </tr>\n",
       "    <tr>\n",
       "      <th>224</th>\n",
       "      <td>failed_gp1_bs2_burst_size_max</td>\n",
       "      <td>0.38125</td>\n",
       "      <td>4.157826e-02</td>\n",
       "    </tr>\n",
       "    <tr>\n",
       "      <th>226</th>\n",
       "      <td>failed_gp1_bs3_n_bursts_mean</td>\n",
       "      <td>0.37500</td>\n",
       "      <td>4.715877e-02</td>\n",
       "    </tr>\n",
       "    <tr>\n",
       "      <th>228</th>\n",
       "      <td>failed_gp1_bs3_n_bursts_max</td>\n",
       "      <td>0.37500</td>\n",
       "      <td>4.715877e-02</td>\n",
       "    </tr>\n",
       "    <tr>\n",
       "      <th>230</th>\n",
       "      <td>failed_gp1_bs3_burst_size_mean</td>\n",
       "      <td>0.38125</td>\n",
       "      <td>4.157826e-02</td>\n",
       "    </tr>\n",
       "    <tr>\n",
       "      <th>231</th>\n",
       "      <td>failed_gp1_bs3_burst_size_median</td>\n",
       "      <td>0.37500</td>\n",
       "      <td>4.715877e-02</td>\n",
       "    </tr>\n",
       "    <tr>\n",
       "      <th>232</th>\n",
       "      <td>failed_gp1_bs3_burst_size_max</td>\n",
       "      <td>0.38125</td>\n",
       "      <td>4.157826e-02</td>\n",
       "    </tr>\n",
       "    <tr>\n",
       "      <th>234</th>\n",
       "      <td>failed_gp2_bs1_n_bursts_mean</td>\n",
       "      <td>0.40000</td>\n",
       "      <td>2.827579e-02</td>\n",
       "    </tr>\n",
       "    <tr>\n",
       "      <th>236</th>\n",
       "      <td>failed_gp2_bs1_n_bursts_max</td>\n",
       "      <td>0.43750</td>\n",
       "      <td>1.222840e-02</td>\n",
       "    </tr>\n",
       "    <tr>\n",
       "      <th>240</th>\n",
       "      <td>failed_gp2_bs1_burst_size_max</td>\n",
       "      <td>0.37500</td>\n",
       "      <td>4.715877e-02</td>\n",
       "    </tr>\n",
       "    <tr>\n",
       "      <th>246</th>\n",
       "      <td>failed_gp2_bs2_burst_size_mean</td>\n",
       "      <td>0.37500</td>\n",
       "      <td>4.715877e-02</td>\n",
       "    </tr>\n",
       "    <tr>\n",
       "      <th>248</th>\n",
       "      <td>failed_gp2_bs2_burst_size_max</td>\n",
       "      <td>0.37500</td>\n",
       "      <td>4.715877e-02</td>\n",
       "    </tr>\n",
       "    <tr>\n",
       "      <th>250</th>\n",
       "      <td>failed_gp2_bs3_n_bursts_mean</td>\n",
       "      <td>0.37500</td>\n",
       "      <td>4.715877e-02</td>\n",
       "    </tr>\n",
       "    <tr>\n",
       "      <th>252</th>\n",
       "      <td>failed_gp2_bs3_n_bursts_max</td>\n",
       "      <td>0.37500</td>\n",
       "      <td>4.715877e-02</td>\n",
       "    </tr>\n",
       "    <tr>\n",
       "      <th>254</th>\n",
       "      <td>failed_gp2_bs3_burst_size_mean</td>\n",
       "      <td>0.37500</td>\n",
       "      <td>4.715877e-02</td>\n",
       "    </tr>\n",
       "    <tr>\n",
       "      <th>255</th>\n",
       "      <td>failed_gp2_bs3_burst_size_median</td>\n",
       "      <td>0.37500</td>\n",
       "      <td>4.715877e-02</td>\n",
       "    </tr>\n",
       "    <tr>\n",
       "      <th>256</th>\n",
       "      <td>failed_gp2_bs3_burst_size_max</td>\n",
       "      <td>0.37500</td>\n",
       "      <td>4.715877e-02</td>\n",
       "    </tr>\n",
       "    <tr>\n",
       "      <th>258</th>\n",
       "      <td>failed_gp3_bs1_n_bursts_mean</td>\n",
       "      <td>0.40000</td>\n",
       "      <td>2.827579e-02</td>\n",
       "    </tr>\n",
       "    <tr>\n",
       "      <th>260</th>\n",
       "      <td>failed_gp3_bs1_n_bursts_max</td>\n",
       "      <td>0.41875</td>\n",
       "      <td>1.876279e-02</td>\n",
       "    </tr>\n",
       "    <tr>\n",
       "      <th>268</th>\n",
       "      <td>failed_gp3_bs2_n_bursts_max</td>\n",
       "      <td>0.40625</td>\n",
       "      <td>2.473648e-02</td>\n",
       "    </tr>\n",
       "    <tr>\n",
       "      <th>282</th>\n",
       "      <td>mean_skipped_tests</td>\n",
       "      <td>0.41250</td>\n",
       "      <td>2.161467e-02</td>\n",
       "    </tr>\n",
       "    <tr>\n",
       "      <th>284</th>\n",
       "      <td>max_skipped_tests</td>\n",
       "      <td>0.60625</td>\n",
       "      <td>9.373257e-05</td>\n",
       "    </tr>\n",
       "    <tr>\n",
       "      <th>286</th>\n",
       "      <td>mean_total_tests</td>\n",
       "      <td>0.88750</td>\n",
       "      <td>1.321487e-10</td>\n",
       "    </tr>\n",
       "    <tr>\n",
       "      <th>288</th>\n",
       "      <td>max_total_tests</td>\n",
       "      <td>1.00000</td>\n",
       "      <td>1.587619e-14</td>\n",
       "    </tr>\n",
       "    <tr>\n",
       "      <th>290</th>\n",
       "      <td>mean_passed_tests</td>\n",
       "      <td>0.88750</td>\n",
       "      <td>1.321487e-10</td>\n",
       "    </tr>\n",
       "    <tr>\n",
       "      <th>292</th>\n",
       "      <td>max_passed_tests</td>\n",
       "      <td>1.00000</td>\n",
       "      <td>1.587619e-14</td>\n",
       "    </tr>\n",
       "    <tr>\n",
       "      <th>294</th>\n",
       "      <td>version_name</td>\n",
       "      <td>1.00000</td>\n",
       "      <td>1.587619e-14</td>\n",
       "    </tr>\n",
       "  </tbody>\n",
       "</table>\n",
       "</div>"
      ],
      "text/plain": [
       "                                           feature  statistic        pvalue\n",
       "0                                 from_author_date    0.88750  1.321487e-10\n",
       "1                                   to_author_date    0.90625  3.731937e-11\n",
       "4                                         from_sha    0.53125  1.033333e-03\n",
       "5                                           to_sha    0.40000  2.827579e-02\n",
       "9                                 from_commit_date    0.88750  1.321487e-10\n",
       "10                                  to_commit_date    0.90625  3.731937e-11\n",
       "13                                          to_tag    1.00000  1.587619e-14\n",
       "14                                        from_tag    1.00000  1.587619e-14\n",
       "15                             ratio_passed_builds    0.53750  8.654880e-04\n",
       "16                           ratio_canceled_builds    0.79375  3.112395e-08\n",
       "17                             ratio_failed_builds    0.56875  3.292931e-04\n",
       "19                                 ratio_pr_builds    0.96875  3.334000e-13\n",
       "20                          ratio_pr_builds_failed    0.75000  2.434213e-07\n",
       "21     mean_not_errored_or_canceled_build_duration    0.38125  4.157826e-02\n",
       "22   median_not_errored_or_canceled_build_duration    0.44375  1.060691e-02\n",
       "23      max_not_errored_or_canceled_build_duration    0.45000  9.067884e-03\n",
       "24      min_not_errored_or_canceled_build_duration    0.44375  1.060691e-02\n",
       "25                      mean_failed_build_duration    0.50000  2.500655e-03\n",
       "26                    median_failed_build_duration    0.50000  2.500655e-03\n",
       "27                       max_failed_build_duration    0.50000  2.500655e-03\n",
       "28                       min_failed_build_duration    0.50000  2.500655e-03\n",
       "29                      mean_passed_build_duration    0.38125  4.157826e-02\n",
       "30                    median_passed_build_duration    0.47500  4.902688e-03\n",
       "31                       max_passed_build_duration    0.45000  9.067884e-03\n",
       "32                       min_passed_build_duration    0.44375  1.060691e-02\n",
       "33                  mean_n_builds_per_pull_request    0.91875  1.319123e-11\n",
       "34                median_n_builds_per_pull_request    0.86875  4.013508e-10\n",
       "35                   max_n_builds_per_pull_request    0.91875  1.319123e-11\n",
       "36                   min_n_builds_per_pull_request    0.86875  4.013508e-10\n",
       "37                                 java_build_tool    1.00000  1.587619e-14\n",
       "39                  median_errors_over_tests_total    0.50625  2.129156e-03\n",
       "41                     min_errors_over_tests_total    0.76250  1.464127e-07\n",
       "44                                max_failed_tests    0.37500  4.715877e-02\n",
       "46                  mean_failures_over_tests_total    0.64375  2.440405e-05\n",
       "47                median_failures_over_tests_total    0.55000  5.881456e-04\n",
       "48                   max_failures_over_tests_total    0.40000  2.827579e-02\n",
       "49                   min_failures_over_tests_total    0.64375  2.440405e-05\n",
       "51                 median_skipped_over_tests_total    0.39375  3.216212e-02\n",
       "52                    max_skipped_over_tests_total    0.57500  2.689449e-04\n",
       "54                               mean_n_exceptions    0.95000  8.255618e-13\n",
       "56                                max_n_exceptions    0.96875  3.334000e-13\n",
       "58                                 mean_n_warnings    0.93750  4.143241e-12\n",
       "59                               median_n_warnings    0.40000  2.827579e-02\n",
       "60                                  max_n_warnings    0.96875  3.334000e-13\n",
       "61                                  min_n_warnings    0.51875  1.482255e-03\n",
       "62                            mean_n_error_classes    0.93750  4.143241e-12\n",
       "64                             max_n_error_classes    0.96875  3.334000e-13\n",
       "68                 not_passed_gp1_bs1_n_bursts_max    0.46875  5.695401e-03\n",
       "70              not_passed_gp1_bs1_burst_size_mean    0.38125  4.157826e-02\n",
       "72               not_passed_gp1_bs1_burst_size_max    0.38125  4.157826e-02\n",
       "76                 not_passed_gp1_bs2_n_bursts_max    0.38750  3.670044e-02\n",
       "78              not_passed_gp1_bs2_burst_size_mean    0.37500  4.715877e-02\n",
       "80               not_passed_gp1_bs2_burst_size_max    0.38125  4.157826e-02\n",
       "82                not_passed_gp1_bs3_n_bursts_mean    0.37500  4.715877e-02\n",
       "84                 not_passed_gp1_bs3_n_bursts_max    0.37500  4.715877e-02\n",
       "86              not_passed_gp1_bs3_burst_size_mean    0.38125  4.157826e-02\n",
       "87            not_passed_gp1_bs3_burst_size_median    0.37500  4.715877e-02\n",
       "88               not_passed_gp1_bs3_burst_size_max    0.38125  4.157826e-02\n",
       "90                not_passed_gp2_bs1_n_bursts_mean    0.40000  2.827579e-02\n",
       "92                 not_passed_gp2_bs1_n_bursts_max    0.43750  1.222840e-02\n",
       "96               not_passed_gp2_bs1_burst_size_max    0.37500  4.715877e-02\n",
       "102             not_passed_gp2_bs2_burst_size_mean    0.37500  4.715877e-02\n",
       "104              not_passed_gp2_bs2_burst_size_max    0.37500  4.715877e-02\n",
       "106               not_passed_gp2_bs3_n_bursts_mean    0.37500  4.715877e-02\n",
       "108                not_passed_gp2_bs3_n_bursts_max    0.37500  4.715877e-02\n",
       "110             not_passed_gp2_bs3_burst_size_mean    0.37500  4.715877e-02\n",
       "111           not_passed_gp2_bs3_burst_size_median    0.37500  4.715877e-02\n",
       "112              not_passed_gp2_bs3_burst_size_max    0.37500  4.715877e-02\n",
       "114               not_passed_gp3_bs1_n_bursts_mean    0.40000  2.827579e-02\n",
       "116                not_passed_gp3_bs1_n_bursts_max    0.41875  1.876279e-02\n",
       "124                not_passed_gp3_bs2_n_bursts_max    0.40625  2.473648e-02\n",
       "140                  canceled_gp1_bs1_n_bursts_max    0.46875  5.695401e-03\n",
       "142               canceled_gp1_bs1_burst_size_mean    0.38125  4.157826e-02\n",
       "144                canceled_gp1_bs1_burst_size_max    0.38125  4.157826e-02\n",
       "148                  canceled_gp1_bs2_n_bursts_max    0.38750  3.670044e-02\n",
       "150               canceled_gp1_bs2_burst_size_mean    0.37500  4.715877e-02\n",
       "152                canceled_gp1_bs2_burst_size_max    0.38125  4.157826e-02\n",
       "154                 canceled_gp1_bs3_n_bursts_mean    0.37500  4.715877e-02\n",
       "156                  canceled_gp1_bs3_n_bursts_max    0.37500  4.715877e-02\n",
       "158               canceled_gp1_bs3_burst_size_mean    0.38125  4.157826e-02\n",
       "159             canceled_gp1_bs3_burst_size_median    0.37500  4.715877e-02\n",
       "160                canceled_gp1_bs3_burst_size_max    0.38125  4.157826e-02\n",
       "162                 canceled_gp2_bs1_n_bursts_mean    0.40000  2.827579e-02\n",
       "164                  canceled_gp2_bs1_n_bursts_max    0.43750  1.222840e-02\n",
       "168                canceled_gp2_bs1_burst_size_max    0.37500  4.715877e-02\n",
       "174               canceled_gp2_bs2_burst_size_mean    0.37500  4.715877e-02\n",
       "176                canceled_gp2_bs2_burst_size_max    0.37500  4.715877e-02\n",
       "178                 canceled_gp2_bs3_n_bursts_mean    0.37500  4.715877e-02\n",
       "180                  canceled_gp2_bs3_n_bursts_max    0.37500  4.715877e-02\n",
       "182               canceled_gp2_bs3_burst_size_mean    0.37500  4.715877e-02\n",
       "183             canceled_gp2_bs3_burst_size_median    0.37500  4.715877e-02\n",
       "184                canceled_gp2_bs3_burst_size_max    0.37500  4.715877e-02\n",
       "186                 canceled_gp3_bs1_n_bursts_mean    0.40000  2.827579e-02\n",
       "188                  canceled_gp3_bs1_n_bursts_max    0.41875  1.876279e-02\n",
       "196                  canceled_gp3_bs2_n_bursts_max    0.40625  2.473648e-02\n",
       "212                    failed_gp1_bs1_n_bursts_max    0.46875  5.695401e-03\n",
       "214                 failed_gp1_bs1_burst_size_mean    0.38125  4.157826e-02\n",
       "216                  failed_gp1_bs1_burst_size_max    0.38125  4.157826e-02\n",
       "220                    failed_gp1_bs2_n_bursts_max    0.38750  3.670044e-02\n",
       "222                 failed_gp1_bs2_burst_size_mean    0.37500  4.715877e-02\n",
       "224                  failed_gp1_bs2_burst_size_max    0.38125  4.157826e-02\n",
       "226                   failed_gp1_bs3_n_bursts_mean    0.37500  4.715877e-02\n",
       "228                    failed_gp1_bs3_n_bursts_max    0.37500  4.715877e-02\n",
       "230                 failed_gp1_bs3_burst_size_mean    0.38125  4.157826e-02\n",
       "231               failed_gp1_bs3_burst_size_median    0.37500  4.715877e-02\n",
       "232                  failed_gp1_bs3_burst_size_max    0.38125  4.157826e-02\n",
       "234                   failed_gp2_bs1_n_bursts_mean    0.40000  2.827579e-02\n",
       "236                    failed_gp2_bs1_n_bursts_max    0.43750  1.222840e-02\n",
       "240                  failed_gp2_bs1_burst_size_max    0.37500  4.715877e-02\n",
       "246                 failed_gp2_bs2_burst_size_mean    0.37500  4.715877e-02\n",
       "248                  failed_gp2_bs2_burst_size_max    0.37500  4.715877e-02\n",
       "250                   failed_gp2_bs3_n_bursts_mean    0.37500  4.715877e-02\n",
       "252                    failed_gp2_bs3_n_bursts_max    0.37500  4.715877e-02\n",
       "254                 failed_gp2_bs3_burst_size_mean    0.37500  4.715877e-02\n",
       "255               failed_gp2_bs3_burst_size_median    0.37500  4.715877e-02\n",
       "256                  failed_gp2_bs3_burst_size_max    0.37500  4.715877e-02\n",
       "258                   failed_gp3_bs1_n_bursts_mean    0.40000  2.827579e-02\n",
       "260                    failed_gp3_bs1_n_bursts_max    0.41875  1.876279e-02\n",
       "268                    failed_gp3_bs2_n_bursts_max    0.40625  2.473648e-02\n",
       "282                             mean_skipped_tests    0.41250  2.161467e-02\n",
       "284                              max_skipped_tests    0.60625  9.373257e-05\n",
       "286                               mean_total_tests    0.88750  1.321487e-10\n",
       "288                                max_total_tests    1.00000  1.587619e-14\n",
       "290                              mean_passed_tests    0.88750  1.321487e-10\n",
       "292                               max_passed_tests    1.00000  1.587619e-14\n",
       "294                                   version_name    1.00000  1.587619e-14"
      ]
     },
     "execution_count": 23,
     "metadata": {},
     "output_type": "execute_result"
    }
   ],
   "source": [
    "data = []\n",
    "metrics = df_metrics[methods[0]]\n",
    "for col in metrics.columns:\n",
    "    res = stats.ks_2samp(metrics[metrics.java_build_tool==\"gradle\"][col],\\\n",
    "                 metrics[metrics.java_build_tool==\"maven\"][col])\n",
    "    data.append((col, res.statistic, res.pvalue))\n",
    "res = pd.DataFrame(data, columns=[\"feature\", \"statistic\", \"pvalue\"])\n",
    "res[res.pvalue < 0.05]"
   ]
  },
  {
   "cell_type": "code",
   "execution_count": 277,
   "metadata": {},
   "outputs": [
    {
     "data": {
      "image/png": "[encoded data removed]",
      "text/plain": [
       "<Figure size 1008x360 with 1 Axes>"
      ]
     },
     "metadata": {
      "needs_background": "light"
     },
     "output_type": "display_data"
    },
    {
     "data": {
      "image/png": "[encoded data removed]",
      "text/plain": [
       "<Figure size 1008x360 with 1 Axes>"
      ]
     },
     "metadata": {
      "needs_background": "light"
     },
     "output_type": "display_data"
    }
   ],
   "source": [
    "for method, metrics in df_metrics.items():\n",
    "    ax = sns.boxplot(x=\"java_build_tool\", y=\"ratio_failed_builds\",\n",
    "                 data=metrics)\n",
    "    plt.show()"
   ]
  },
  {
   "cell_type": "code",
   "execution_count": 278,
   "metadata": {},
   "outputs": [
    {
     "data": {
      "image/png": "[encoded data removed]",
      "text/plain": [
       "<Figure size 1008x360 with 1 Axes>"
      ]
     },
     "metadata": {
      "needs_background": "light"
     },
     "output_type": "display_data"
    },
    {
     "data": {
      "image/png": "[encoded data removed]",
      "text/plain": [
       "<Figure size 1008x360 with 1 Axes>"
      ]
     },
     "metadata": {
      "needs_background": "light"
     },
     "output_type": "display_data"
    }
   ],
   "source": [
    "for method, metrics in df_metrics.items():\n",
    "    ax = sns.boxplot(x=\"java_build_tool\", y=\"failed_gp2_bs1_burst_size_mean\",\n",
    "                 data=metrics)\n",
    "    plt.show()"
   ]
  },
  {
   "cell_type": "markdown",
   "metadata": {},
   "source": [
    "**Correlation of features with other metrics**"
   ]
  },
  {
   "cell_type": "code",
   "execution_count": 219,
   "metadata": {},
   "outputs": [],
   "source": [
    "# example of correlation feature selection for numerical data\n",
    "from sklearn.datasets import make_regression\n",
    "from sklearn.model_selection import train_test_split\n",
    "from sklearn.feature_selection import SelectKBest\n",
    "from sklearn.feature_selection import f_regression, RFECV\n",
    "from sklearn.model_selection import KFold, LeaveOneOut, GridSearchCV\n",
    "from sklearn.linear_model import LinearRegression, LogisticRegression\n",
    "from sklearn.tree import DecisionTreeRegressor\n",
    "from sklearn.svm import SVC\n",
    "from sklearn.ensemble import RandomForestRegressor, RandomForestClassifier\n",
    "from sklearn.preprocessing import PolynomialFeatures\n",
    "from sklearn.model_selection import cross_val_score\n",
    "from sklearn.tree import DecisionTreeRegressor, DecisionTreeClassifier\n",
    "from sklearn.dummy import DummyRegressor\n",
    "from sklearn.isotonic import IsotonicRegression\n",
    "from sklearn.dummy import DummyClassifier\n",
    "from sklearn.metrics import mean_absolute_error\n",
    "from sklearn.metrics import r2_score, roc_auc_score\n",
    "from sklearn.metrics import accuracy_score, confusion_matrix\n",
    "from sklearn.metrics import f1_score, precision_score, make_scorer\n",
    "from sklearn.svm import SVR\n",
    "from sklearn.preprocessing import StandardScaler\n",
    "from sklearn.neighbors import KNeighborsClassifier, KNeighborsRegressor\n",
    "from sklearn.model_selection import RandomizedSearchCV\n",
    "from sklearn.naive_bayes import GaussianNB\n",
    "from sklearn.decomposition import PCA\n",
    "from scipy.stats import ranksums"
   ]
  },
  {
   "cell_type": "code",
   "execution_count": 226,
   "metadata": {},
   "outputs": [],
   "source": [
    "def two_layer_cross_validate(model, params_grid, x, y, seed, n_splits, scoring=None):\n",
    "    inner_cv = KFold(n_splits=n_splits, shuffle=True, random_state=seed)\n",
    "    outer_cv = KFold(n_splits=n_splits, shuffle=True, random_state=seed)\n",
    "\n",
    "    # Non_nested parameter search and scoring\n",
    "    clf = GridSearchCV(estimator=model, param_grid=params_grid, cv=inner_cv)\n",
    "    \"\"\"clf.fit(method_x_train[methods[1]], method_y_train[methods[1]])\n",
    "    non_nested_scores[i] = clf.best_score_\n",
    "    \"\"\"\n",
    "    # Nested CV with parameter optimization\n",
    "    return cross_val_score(clf, x, y, cv=outer_cv, scoring=scoring)"
   ]
  },
  {
   "cell_type": "code",
   "execution_count": 195,
   "metadata": {},
   "outputs": [],
   "source": [
    "#load comparison with the extra info\n",
    "tags_comparison_commits = \\\n",
    "pd.read_csv(f\"{csv_folder}/tags_comparison_commits_no_rc_and_milestones_with_commitmessages_and_files_changed_changes.csv\", index_col=0)"
   ]
  },
  {
   "cell_type": "code",
   "execution_count": 198,
   "metadata": {},
   "outputs": [],
   "source": [
    "tags_comparison_commits[\"total_changes\"] = tags_comparison_commits.insertions + tags_comparison_commits.deletions"
   ]
  },
  {
   "cell_type": "code",
   "execution_count": 245,
   "metadata": {},
   "outputs": [],
   "source": [
    "buildsha = df_builds[0][1].merge(jobs[[\"buildid\",\"commitsha\"]])"
   ]
  },
  {
   "cell_type": "code",
   "execution_count": 246,
   "metadata": {},
   "outputs": [],
   "source": [
    "buildsha = buildsha.merge(tags_comparison_commits[[\"ahead_sha\", \"total_changes\", \"insertions\", \"deletions\"]], left_on=\"commitsha\", right_on=\"ahead_sha\")"
   ]
  },
  {
   "cell_type": "code",
   "execution_count": 247,
   "metadata": {},
   "outputs": [],
   "source": [
    "commits = buildsha.groupby([\"from_tag\",\"to_tag\"]).commitsha.count().reset_index()"
   ]
  },
  {
   "cell_type": "code",
   "execution_count": 253,
   "metadata": {},
   "outputs": [],
   "source": [
    "changes = buildsha.groupby([\"from_tag\",\"to_tag\"]).total_changes.sum().reset_index()\n",
    "changes[\"max_deleted_lines\"] = buildsha.groupby([\"from_tag\",\"to_tag\"]).deletions.max().values\n",
    "changes[\"max_inserted_lines\"] = buildsha.groupby([\"from_tag\",\"to_tag\"]).insertions.max().values"
   ]
  },
  {
   "cell_type": "markdown",
   "metadata": {},
   "source": [
    "**Complete dataset**"
   ]
  },
  {
   "cell_type": "code",
   "execution_count": 254,
   "metadata": {},
   "outputs": [
    {
     "data": {
      "text/html": [
       "<div>\n",
       "<style scoped>\n",
       "    .dataframe tbody tr th:only-of-type {\n",
       "        vertical-align: middle;\n",
       "    }\n",
       "\n",
       "    .dataframe tbody tr th {\n",
       "        vertical-align: top;\n",
       "    }\n",
       "\n",
       "    .dataframe thead th {\n",
       "        text-align: right;\n",
       "    }\n",
       "</style>\n",
       "<table border=\"1\" class=\"dataframe\">\n",
       "  <thead>\n",
       "    <tr style=\"text-align: right;\">\n",
       "      <th></th>\n",
       "      <th>commitsha</th>\n",
       "      <th>max_n_builds_per_pull_request</th>\n",
       "      <th>ratio_errored_builds</th>\n",
       "      <th>max_failed_tests</th>\n",
       "      <th>failed_gp2_bs3_n_bursts_max</th>\n",
       "      <th>post_release_bugs</th>\n",
       "    </tr>\n",
       "  </thead>\n",
       "  <tbody>\n",
       "    <tr>\n",
       "      <th>commitsha</th>\n",
       "      <td>1.000000</td>\n",
       "      <td>0.652617</td>\n",
       "      <td>0.164160</td>\n",
       "      <td>0.537256</td>\n",
       "      <td>0.759536</td>\n",
       "      <td>0.477273</td>\n",
       "    </tr>\n",
       "    <tr>\n",
       "      <th>max_n_builds_per_pull_request</th>\n",
       "      <td>0.652617</td>\n",
       "      <td>1.000000</td>\n",
       "      <td>0.137258</td>\n",
       "      <td>0.645009</td>\n",
       "      <td>0.651890</td>\n",
       "      <td>0.359524</td>\n",
       "    </tr>\n",
       "    <tr>\n",
       "      <th>ratio_errored_builds</th>\n",
       "      <td>0.164160</td>\n",
       "      <td>0.137258</td>\n",
       "      <td>1.000000</td>\n",
       "      <td>0.184288</td>\n",
       "      <td>0.190476</td>\n",
       "      <td>0.087729</td>\n",
       "    </tr>\n",
       "    <tr>\n",
       "      <th>max_failed_tests</th>\n",
       "      <td>0.537256</td>\n",
       "      <td>0.645009</td>\n",
       "      <td>0.184288</td>\n",
       "      <td>1.000000</td>\n",
       "      <td>0.563723</td>\n",
       "      <td>0.623745</td>\n",
       "    </tr>\n",
       "    <tr>\n",
       "      <th>failed_gp2_bs3_n_bursts_max</th>\n",
       "      <td>0.759536</td>\n",
       "      <td>0.651890</td>\n",
       "      <td>0.190476</td>\n",
       "      <td>0.563723</td>\n",
       "      <td>1.000000</td>\n",
       "      <td>0.588341</td>\n",
       "    </tr>\n",
       "    <tr>\n",
       "      <th>post_release_bugs</th>\n",
       "      <td>0.477273</td>\n",
       "      <td>0.359524</td>\n",
       "      <td>0.087729</td>\n",
       "      <td>0.623745</td>\n",
       "      <td>0.588341</td>\n",
       "      <td>1.000000</td>\n",
       "    </tr>\n",
       "  </tbody>\n",
       "</table>\n",
       "</div>"
      ],
      "text/plain": [
       "                               commitsha  max_n_builds_per_pull_request  \\\n",
       "commitsha                       1.000000                       0.652617   \n",
       "max_n_builds_per_pull_request   0.652617                       1.000000   \n",
       "ratio_errored_builds            0.164160                       0.137258   \n",
       "max_failed_tests                0.537256                       0.645009   \n",
       "failed_gp2_bs3_n_bursts_max     0.759536                       0.651890   \n",
       "post_release_bugs               0.477273                       0.359524   \n",
       "\n",
       "                               ratio_errored_builds  max_failed_tests  \\\n",
       "commitsha                                  0.164160          0.537256   \n",
       "max_n_builds_per_pull_request              0.137258          0.645009   \n",
       "ratio_errored_builds                       1.000000          0.184288   \n",
       "max_failed_tests                           0.184288          1.000000   \n",
       "failed_gp2_bs3_n_bursts_max                0.190476          0.563723   \n",
       "post_release_bugs                          0.087729          0.623745   \n",
       "\n",
       "                               failed_gp2_bs3_n_bursts_max  post_release_bugs  \n",
       "commitsha                                         0.759536           0.477273  \n",
       "max_n_builds_per_pull_request                     0.651890           0.359524  \n",
       "ratio_errored_builds                              0.190476           0.087729  \n",
       "max_failed_tests                                  0.563723           0.623745  \n",
       "failed_gp2_bs3_n_bursts_max                       1.000000           0.588341  \n",
       "post_release_bugs                                 0.588341           1.000000  "
      ]
     },
     "execution_count": 254,
     "metadata": {},
     "output_type": "execute_result"
    }
   ],
   "source": [
    "complete = pd.concat([commits,df_metrics[methods[0]][[\"max_n_builds_per_pull_request\",\"ratio_errored_builds\",\n",
    "                                                      \"max_failed_tests\", \"failed_gp2_bs3_n_bursts_max\"]], df_metrics[methods[0]].post_release_bugs], axis=1)\n",
    "complete.corr(method=\"spearman\")"
   ]
  },
  {
   "cell_type": "code",
   "execution_count": 255,
   "metadata": {},
   "outputs": [],
   "source": [
    "complete[\"binary\"] = complete.post_release_bugs < complete.post_release_bugs.median()"
   ]
  },
  {
   "cell_type": "code",
   "execution_count": 256,
   "metadata": {},
   "outputs": [],
   "source": [
    "complete[\"\"] = \"\""
   ]
  },
  {
   "cell_type": "code",
   "execution_count": 257,
   "metadata": {},
   "outputs": [
    {
     "data": {
      "image/png": "[encoded data removed]",
      "text/plain": [
       "<Figure size 1008x360 with 1 Axes>"
      ]
     },
     "metadata": {
      "needs_background": "light"
     },
     "output_type": "display_data"
    }
   ],
   "source": [
    "tmp = complete.drop(columns=[\"from_tag\", \"to_tag\", \"\", \"binary\"])\n",
    "tmp[tmp.columns] = StandardScaler().fit_transform(tmp)\n",
    "tmp = pd.concat([tmp, complete.binary, complete[\"\"]], axis=1)\n",
    "tmp = tmp[tmp.commitsha<-0.2]\n",
    "ax = sns.stripplot(x=\"commitsha\",\\\n",
    "                     y=\"\",hue=\"binary\", data=tmp, jitter=0.4)"
   ]
  },
  {
   "cell_type": "code",
   "execution_count": 258,
   "metadata": {},
   "outputs": [
    {
     "data": {
      "text/plain": [
       "<AxesSubplot:xlabel='max_n_builds_per_pull_request'>"
      ]
     },
     "execution_count": 258,
     "metadata": {},
     "output_type": "execute_result"
    },
    {
     "data": {
      "image/png": "[encoded data removed]",
      "text/plain": [
       "<Figure size 1008x360 with 1 Axes>"
      ]
     },
     "metadata": {
      "needs_background": "light"
     },
     "output_type": "display_data"
    }
   ],
   "source": [
    "from sklearn.preprocessing import StandardScaler\n",
    "tmp = complete.drop(columns=[\"from_tag\", \"to_tag\", \"\", \"binary\"])\n",
    "tmp[tmp.columns] = StandardScaler().fit_transform(tmp)\n",
    "#tmp = tmp[tmp.max_n_builds_per_pull_request < 2]\n",
    "tmp = pd.concat([tmp, complete.binary, complete[\"\"]], axis=1)\n",
    "sns.stripplot(x=\"max_n_builds_per_pull_request\",\\\n",
    "                     y=\"\",hue=\"binary\", data=tmp, jitter=0.4)"
   ]
  },
  {
   "cell_type": "markdown",
   "metadata": {},
   "source": [
    "**Maven**"
   ]
  },
  {
   "cell_type": "code",
   "execution_count": 259,
   "metadata": {},
   "outputs": [
    {
     "data": {
      "text/html": [
       "<div>\n",
       "<style scoped>\n",
       "    .dataframe tbody tr th:only-of-type {\n",
       "        vertical-align: middle;\n",
       "    }\n",
       "\n",
       "    .dataframe tbody tr th {\n",
       "        vertical-align: top;\n",
       "    }\n",
       "\n",
       "    .dataframe thead th {\n",
       "        text-align: right;\n",
       "    }\n",
       "</style>\n",
       "<table border=\"1\" class=\"dataframe\">\n",
       "  <thead>\n",
       "    <tr style=\"text-align: right;\">\n",
       "      <th></th>\n",
       "      <th>commitsha</th>\n",
       "      <th>total_changes</th>\n",
       "      <th>max_deleted_lines</th>\n",
       "      <th>max_inserted_lines</th>\n",
       "      <th>max_n_builds_per_pull_request</th>\n",
       "      <th>max_failed_tests</th>\n",
       "      <th>mean_failed_tests</th>\n",
       "      <th>failed_gp1_bs2_burst_size_mean</th>\n",
       "      <th>failed_gp2_bs3_n_bursts_max</th>\n",
       "      <th>post_release_bugs</th>\n",
       "      <th>binary</th>\n",
       "    </tr>\n",
       "  </thead>\n",
       "  <tbody>\n",
       "    <tr>\n",
       "      <th>commitsha</th>\n",
       "      <td>1.000000</td>\n",
       "      <td>0.953446</td>\n",
       "      <td>0.739566</td>\n",
       "      <td>0.748419</td>\n",
       "      <td>0.556740</td>\n",
       "      <td>0.601747</td>\n",
       "      <td>0.372892</td>\n",
       "      <td>0.584417</td>\n",
       "      <td>0.801119</td>\n",
       "      <td>0.677317</td>\n",
       "      <td>-0.670144</td>\n",
       "    </tr>\n",
       "    <tr>\n",
       "      <th>total_changes</th>\n",
       "      <td>0.953446</td>\n",
       "      <td>1.000000</td>\n",
       "      <td>0.824328</td>\n",
       "      <td>0.863532</td>\n",
       "      <td>0.610724</td>\n",
       "      <td>0.594700</td>\n",
       "      <td>0.367702</td>\n",
       "      <td>0.608229</td>\n",
       "      <td>0.826160</td>\n",
       "      <td>0.638582</td>\n",
       "      <td>-0.643067</td>\n",
       "    </tr>\n",
       "    <tr>\n",
       "      <th>max_deleted_lines</th>\n",
       "      <td>0.739566</td>\n",
       "      <td>0.824328</td>\n",
       "      <td>1.000000</td>\n",
       "      <td>0.898074</td>\n",
       "      <td>0.758938</td>\n",
       "      <td>0.574696</td>\n",
       "      <td>0.394974</td>\n",
       "      <td>0.591936</td>\n",
       "      <td>0.805156</td>\n",
       "      <td>0.529180</td>\n",
       "      <td>-0.562405</td>\n",
       "    </tr>\n",
       "    <tr>\n",
       "      <th>max_inserted_lines</th>\n",
       "      <td>0.748419</td>\n",
       "      <td>0.863532</td>\n",
       "      <td>0.898074</td>\n",
       "      <td>1.000000</td>\n",
       "      <td>0.712332</td>\n",
       "      <td>0.537449</td>\n",
       "      <td>0.345865</td>\n",
       "      <td>0.518196</td>\n",
       "      <td>0.755565</td>\n",
       "      <td>0.515598</td>\n",
       "      <td>-0.568659</td>\n",
       "    </tr>\n",
       "    <tr>\n",
       "      <th>max_n_builds_per_pull_request</th>\n",
       "      <td>0.556740</td>\n",
       "      <td>0.610724</td>\n",
       "      <td>0.758938</td>\n",
       "      <td>0.712332</td>\n",
       "      <td>1.000000</td>\n",
       "      <td>0.789004</td>\n",
       "      <td>0.629065</td>\n",
       "      <td>0.650957</td>\n",
       "      <td>0.756979</td>\n",
       "      <td>0.697041</td>\n",
       "      <td>-0.756145</td>\n",
       "    </tr>\n",
       "    <tr>\n",
       "      <th>max_failed_tests</th>\n",
       "      <td>0.601747</td>\n",
       "      <td>0.594700</td>\n",
       "      <td>0.574696</td>\n",
       "      <td>0.537449</td>\n",
       "      <td>0.789004</td>\n",
       "      <td>1.000000</td>\n",
       "      <td>0.899869</td>\n",
       "      <td>0.507989</td>\n",
       "      <td>0.671573</td>\n",
       "      <td>0.758432</td>\n",
       "      <td>-0.715686</td>\n",
       "    </tr>\n",
       "    <tr>\n",
       "      <th>mean_failed_tests</th>\n",
       "      <td>0.372892</td>\n",
       "      <td>0.367702</td>\n",
       "      <td>0.394974</td>\n",
       "      <td>0.345865</td>\n",
       "      <td>0.629065</td>\n",
       "      <td>0.899869</td>\n",
       "      <td>1.000000</td>\n",
       "      <td>0.318061</td>\n",
       "      <td>0.436977</td>\n",
       "      <td>0.611030</td>\n",
       "      <td>-0.520206</td>\n",
       "    </tr>\n",
       "    <tr>\n",
       "      <th>failed_gp1_bs2_burst_size_mean</th>\n",
       "      <td>0.584417</td>\n",
       "      <td>0.608229</td>\n",
       "      <td>0.591936</td>\n",
       "      <td>0.518196</td>\n",
       "      <td>0.650957</td>\n",
       "      <td>0.507989</td>\n",
       "      <td>0.318061</td>\n",
       "      <td>1.000000</td>\n",
       "      <td>0.777792</td>\n",
       "      <td>0.553781</td>\n",
       "      <td>-0.576071</td>\n",
       "    </tr>\n",
       "    <tr>\n",
       "      <th>failed_gp2_bs3_n_bursts_max</th>\n",
       "      <td>0.801119</td>\n",
       "      <td>0.826160</td>\n",
       "      <td>0.805156</td>\n",
       "      <td>0.755565</td>\n",
       "      <td>0.756979</td>\n",
       "      <td>0.671573</td>\n",
       "      <td>0.436977</td>\n",
       "      <td>0.777792</td>\n",
       "      <td>1.000000</td>\n",
       "      <td>0.783514</td>\n",
       "      <td>-0.774186</td>\n",
       "    </tr>\n",
       "    <tr>\n",
       "      <th>post_release_bugs</th>\n",
       "      <td>0.677317</td>\n",
       "      <td>0.638582</td>\n",
       "      <td>0.529180</td>\n",
       "      <td>0.515598</td>\n",
       "      <td>0.697041</td>\n",
       "      <td>0.758432</td>\n",
       "      <td>0.611030</td>\n",
       "      <td>0.553781</td>\n",
       "      <td>0.783514</td>\n",
       "      <td>1.000000</td>\n",
       "      <td>-0.871980</td>\n",
       "    </tr>\n",
       "    <tr>\n",
       "      <th>binary</th>\n",
       "      <td>-0.670144</td>\n",
       "      <td>-0.643067</td>\n",
       "      <td>-0.562405</td>\n",
       "      <td>-0.568659</td>\n",
       "      <td>-0.756145</td>\n",
       "      <td>-0.715686</td>\n",
       "      <td>-0.520206</td>\n",
       "      <td>-0.576071</td>\n",
       "      <td>-0.774186</td>\n",
       "      <td>-0.871980</td>\n",
       "      <td>1.000000</td>\n",
       "    </tr>\n",
       "  </tbody>\n",
       "</table>\n",
       "</div>"
      ],
      "text/plain": [
       "                                commitsha  total_changes  max_deleted_lines  \\\n",
       "commitsha                        1.000000       0.953446           0.739566   \n",
       "total_changes                    0.953446       1.000000           0.824328   \n",
       "max_deleted_lines                0.739566       0.824328           1.000000   \n",
       "max_inserted_lines               0.748419       0.863532           0.898074   \n",
       "max_n_builds_per_pull_request    0.556740       0.610724           0.758938   \n",
       "max_failed_tests                 0.601747       0.594700           0.574696   \n",
       "mean_failed_tests                0.372892       0.367702           0.394974   \n",
       "failed_gp1_bs2_burst_size_mean   0.584417       0.608229           0.591936   \n",
       "failed_gp2_bs3_n_bursts_max      0.801119       0.826160           0.805156   \n",
       "post_release_bugs                0.677317       0.638582           0.529180   \n",
       "binary                          -0.670144      -0.643067          -0.562405   \n",
       "\n",
       "                                max_inserted_lines  \\\n",
       "commitsha                                 0.748419   \n",
       "total_changes                             0.863532   \n",
       "max_deleted_lines                         0.898074   \n",
       "max_inserted_lines                        1.000000   \n",
       "max_n_builds_per_pull_request             0.712332   \n",
       "max_failed_tests                          0.537449   \n",
       "mean_failed_tests                         0.345865   \n",
       "failed_gp1_bs2_burst_size_mean            0.518196   \n",
       "failed_gp2_bs3_n_bursts_max               0.755565   \n",
       "post_release_bugs                         0.515598   \n",
       "binary                                   -0.568659   \n",
       "\n",
       "                                max_n_builds_per_pull_request  \\\n",
       "commitsha                                            0.556740   \n",
       "total_changes                                        0.610724   \n",
       "max_deleted_lines                                    0.758938   \n",
       "max_inserted_lines                                   0.712332   \n",
       "max_n_builds_per_pull_request                        1.000000   \n",
       "max_failed_tests                                     0.789004   \n",
       "mean_failed_tests                                    0.629065   \n",
       "failed_gp1_bs2_burst_size_mean                       0.650957   \n",
       "failed_gp2_bs3_n_bursts_max                          0.756979   \n",
       "post_release_bugs                                    0.697041   \n",
       "binary                                              -0.756145   \n",
       "\n",
       "                                max_failed_tests  mean_failed_tests  \\\n",
       "commitsha                               0.601747           0.372892   \n",
       "total_changes                           0.594700           0.367702   \n",
       "max_deleted_lines                       0.574696           0.394974   \n",
       "max_inserted_lines                      0.537449           0.345865   \n",
       "max_n_builds_per_pull_request           0.789004           0.629065   \n",
       "max_failed_tests                        1.000000           0.899869   \n",
       "mean_failed_tests                       0.899869           1.000000   \n",
       "failed_gp1_bs2_burst_size_mean          0.507989           0.318061   \n",
       "failed_gp2_bs3_n_bursts_max             0.671573           0.436977   \n",
       "post_release_bugs                       0.758432           0.611030   \n",
       "binary                                 -0.715686          -0.520206   \n",
       "\n",
       "                                failed_gp1_bs2_burst_size_mean  \\\n",
       "commitsha                                             0.584417   \n",
       "total_changes                                         0.608229   \n",
       "max_deleted_lines                                     0.591936   \n",
       "max_inserted_lines                                    0.518196   \n",
       "max_n_builds_per_pull_request                         0.650957   \n",
       "max_failed_tests                                      0.507989   \n",
       "mean_failed_tests                                     0.318061   \n",
       "failed_gp1_bs2_burst_size_mean                        1.000000   \n",
       "failed_gp2_bs3_n_bursts_max                           0.777792   \n",
       "post_release_bugs                                     0.553781   \n",
       "binary                                               -0.576071   \n",
       "\n",
       "                                failed_gp2_bs3_n_bursts_max  \\\n",
       "commitsha                                          0.801119   \n",
       "total_changes                                      0.826160   \n",
       "max_deleted_lines                                  0.805156   \n",
       "max_inserted_lines                                 0.755565   \n",
       "max_n_builds_per_pull_request                      0.756979   \n",
       "max_failed_tests                                   0.671573   \n",
       "mean_failed_tests                                  0.436977   \n",
       "failed_gp1_bs2_burst_size_mean                     0.777792   \n",
       "failed_gp2_bs3_n_bursts_max                        1.000000   \n",
       "post_release_bugs                                  0.783514   \n",
       "binary                                            -0.774186   \n",
       "\n",
       "                                post_release_bugs    binary  \n",
       "commitsha                                0.677317 -0.670144  \n",
       "total_changes                            0.638582 -0.643067  \n",
       "max_deleted_lines                        0.529180 -0.562405  \n",
       "max_inserted_lines                       0.515598 -0.568659  \n",
       "max_n_builds_per_pull_request            0.697041 -0.756145  \n",
       "max_failed_tests                         0.758432 -0.715686  \n",
       "mean_failed_tests                        0.611030 -0.520206  \n",
       "failed_gp1_bs2_burst_size_mean           0.553781 -0.576071  \n",
       "failed_gp2_bs3_n_bursts_max              0.783514 -0.774186  \n",
       "post_release_bugs                        1.000000 -0.871980  \n",
       "binary                                  -0.871980  1.000000  "
      ]
     },
     "execution_count": 259,
     "metadata": {},
     "output_type": "execute_result"
    }
   ],
   "source": [
    "maven = pd.concat([commits,changes,df_metrics[methods[0]][[\"max_n_builds_per_pull_request\",\"max_failed_tests\",\n",
    "                                                           \"mean_failed_tests\",\n",
    "                                                           \"failed_gp1_bs2_burst_size_mean\", \"failed_gp2_bs3_n_bursts_max\"]],\n",
    "                   df_metrics[methods[0]].post_release_bugs], axis=1)\n",
    "maven = maven[:32]\n",
    "maven[\"binary\"] = maven.post_release_bugs < maven.post_release_bugs.median()\n",
    "maven.corr(method=\"spearman\")"
   ]
  },
  {
   "cell_type": "code",
   "execution_count": 260,
   "metadata": {},
   "outputs": [
    {
     "data": {
      "text/html": [
       "<div>\n",
       "<style scoped>\n",
       "    .dataframe tbody tr th:only-of-type {\n",
       "        vertical-align: middle;\n",
       "    }\n",
       "\n",
       "    .dataframe tbody tr th {\n",
       "        vertical-align: top;\n",
       "    }\n",
       "\n",
       "    .dataframe thead th {\n",
       "        text-align: right;\n",
       "    }\n",
       "</style>\n",
       "<table border=\"1\" class=\"dataframe\">\n",
       "  <thead>\n",
       "    <tr style=\"text-align: right;\">\n",
       "      <th></th>\n",
       "      <th>commitsha</th>\n",
       "      <th>total_changes</th>\n",
       "      <th>max_deleted_lines</th>\n",
       "      <th>max_inserted_lines</th>\n",
       "      <th>max_n_builds_per_pull_request</th>\n",
       "      <th>max_failed_tests</th>\n",
       "      <th>mean_failed_tests</th>\n",
       "      <th>failed_gp1_bs2_burst_size_mean</th>\n",
       "      <th>failed_gp2_bs3_n_bursts_max</th>\n",
       "      <th>post_release_bugs</th>\n",
       "      <th>binary</th>\n",
       "    </tr>\n",
       "  </thead>\n",
       "  <tbody>\n",
       "    <tr>\n",
       "      <th>commitsha</th>\n",
       "      <td>1.000000</td>\n",
       "      <td>0.958457</td>\n",
       "      <td>0.609946</td>\n",
       "      <td>0.533303</td>\n",
       "      <td>0.120697</td>\n",
       "      <td>-0.017902</td>\n",
       "      <td>0.086184</td>\n",
       "      <td>0.375764</td>\n",
       "      <td>0.915230</td>\n",
       "      <td>0.462634</td>\n",
       "      <td>-0.370733</td>\n",
       "    </tr>\n",
       "    <tr>\n",
       "      <th>total_changes</th>\n",
       "      <td>0.958457</td>\n",
       "      <td>1.000000</td>\n",
       "      <td>0.739160</td>\n",
       "      <td>0.491111</td>\n",
       "      <td>0.129914</td>\n",
       "      <td>-0.034805</td>\n",
       "      <td>0.077594</td>\n",
       "      <td>0.335790</td>\n",
       "      <td>0.865777</td>\n",
       "      <td>0.370043</td>\n",
       "      <td>-0.342934</td>\n",
       "    </tr>\n",
       "    <tr>\n",
       "      <th>max_deleted_lines</th>\n",
       "      <td>0.609946</td>\n",
       "      <td>0.739160</td>\n",
       "      <td>1.000000</td>\n",
       "      <td>0.617657</td>\n",
       "      <td>0.271779</td>\n",
       "      <td>-0.054943</td>\n",
       "      <td>-0.052577</td>\n",
       "      <td>0.257464</td>\n",
       "      <td>0.457331</td>\n",
       "      <td>0.189751</td>\n",
       "      <td>-0.369471</td>\n",
       "    </tr>\n",
       "    <tr>\n",
       "      <th>max_inserted_lines</th>\n",
       "      <td>0.533303</td>\n",
       "      <td>0.491111</td>\n",
       "      <td>0.617657</td>\n",
       "      <td>1.000000</td>\n",
       "      <td>0.271622</td>\n",
       "      <td>-0.046030</td>\n",
       "      <td>-0.025884</td>\n",
       "      <td>0.254339</td>\n",
       "      <td>0.539483</td>\n",
       "      <td>0.188556</td>\n",
       "      <td>-0.261353</td>\n",
       "    </tr>\n",
       "    <tr>\n",
       "      <th>max_n_builds_per_pull_request</th>\n",
       "      <td>0.120697</td>\n",
       "      <td>0.129914</td>\n",
       "      <td>0.271779</td>\n",
       "      <td>0.271622</td>\n",
       "      <td>1.000000</td>\n",
       "      <td>0.676264</td>\n",
       "      <td>0.417955</td>\n",
       "      <td>0.352937</td>\n",
       "      <td>0.243000</td>\n",
       "      <td>0.367629</td>\n",
       "      <td>-0.655956</td>\n",
       "    </tr>\n",
       "    <tr>\n",
       "      <th>max_failed_tests</th>\n",
       "      <td>-0.017902</td>\n",
       "      <td>-0.034805</td>\n",
       "      <td>-0.054943</td>\n",
       "      <td>-0.046030</td>\n",
       "      <td>0.676264</td>\n",
       "      <td>1.000000</td>\n",
       "      <td>0.667780</td>\n",
       "      <td>0.173285</td>\n",
       "      <td>0.005279</td>\n",
       "      <td>0.042093</td>\n",
       "      <td>-0.320107</td>\n",
       "    </tr>\n",
       "    <tr>\n",
       "      <th>mean_failed_tests</th>\n",
       "      <td>0.086184</td>\n",
       "      <td>0.077594</td>\n",
       "      <td>-0.052577</td>\n",
       "      <td>-0.025884</td>\n",
       "      <td>0.417955</td>\n",
       "      <td>0.667780</td>\n",
       "      <td>1.000000</td>\n",
       "      <td>0.014709</td>\n",
       "      <td>0.147704</td>\n",
       "      <td>0.119436</td>\n",
       "      <td>-0.221301</td>\n",
       "    </tr>\n",
       "    <tr>\n",
       "      <th>failed_gp1_bs2_burst_size_mean</th>\n",
       "      <td>0.375764</td>\n",
       "      <td>0.335790</td>\n",
       "      <td>0.257464</td>\n",
       "      <td>0.254339</td>\n",
       "      <td>0.352937</td>\n",
       "      <td>0.173285</td>\n",
       "      <td>0.014709</td>\n",
       "      <td>1.000000</td>\n",
       "      <td>0.409650</td>\n",
       "      <td>0.385582</td>\n",
       "      <td>-0.426441</td>\n",
       "    </tr>\n",
       "    <tr>\n",
       "      <th>failed_gp2_bs3_n_bursts_max</th>\n",
       "      <td>0.915230</td>\n",
       "      <td>0.865777</td>\n",
       "      <td>0.457331</td>\n",
       "      <td>0.539483</td>\n",
       "      <td>0.243000</td>\n",
       "      <td>0.005279</td>\n",
       "      <td>0.147704</td>\n",
       "      <td>0.409650</td>\n",
       "      <td>1.000000</td>\n",
       "      <td>0.556836</td>\n",
       "      <td>-0.442137</td>\n",
       "    </tr>\n",
       "    <tr>\n",
       "      <th>post_release_bugs</th>\n",
       "      <td>0.462634</td>\n",
       "      <td>0.370043</td>\n",
       "      <td>0.189751</td>\n",
       "      <td>0.188556</td>\n",
       "      <td>0.367629</td>\n",
       "      <td>0.042093</td>\n",
       "      <td>0.119436</td>\n",
       "      <td>0.385582</td>\n",
       "      <td>0.556836</td>\n",
       "      <td>1.000000</td>\n",
       "      <td>-0.736276</td>\n",
       "    </tr>\n",
       "    <tr>\n",
       "      <th>binary</th>\n",
       "      <td>-0.370733</td>\n",
       "      <td>-0.342934</td>\n",
       "      <td>-0.369471</td>\n",
       "      <td>-0.261353</td>\n",
       "      <td>-0.655956</td>\n",
       "      <td>-0.320107</td>\n",
       "      <td>-0.221301</td>\n",
       "      <td>-0.426441</td>\n",
       "      <td>-0.442137</td>\n",
       "      <td>-0.736276</td>\n",
       "      <td>1.000000</td>\n",
       "    </tr>\n",
       "  </tbody>\n",
       "</table>\n",
       "</div>"
      ],
      "text/plain": [
       "                                commitsha  total_changes  max_deleted_lines  \\\n",
       "commitsha                        1.000000       0.958457           0.609946   \n",
       "total_changes                    0.958457       1.000000           0.739160   \n",
       "max_deleted_lines                0.609946       0.739160           1.000000   \n",
       "max_inserted_lines               0.533303       0.491111           0.617657   \n",
       "max_n_builds_per_pull_request    0.120697       0.129914           0.271779   \n",
       "max_failed_tests                -0.017902      -0.034805          -0.054943   \n",
       "mean_failed_tests                0.086184       0.077594          -0.052577   \n",
       "failed_gp1_bs2_burst_size_mean   0.375764       0.335790           0.257464   \n",
       "failed_gp2_bs3_n_bursts_max      0.915230       0.865777           0.457331   \n",
       "post_release_bugs                0.462634       0.370043           0.189751   \n",
       "binary                          -0.370733      -0.342934          -0.369471   \n",
       "\n",
       "                                max_inserted_lines  \\\n",
       "commitsha                                 0.533303   \n",
       "total_changes                             0.491111   \n",
       "max_deleted_lines                         0.617657   \n",
       "max_inserted_lines                        1.000000   \n",
       "max_n_builds_per_pull_request             0.271622   \n",
       "max_failed_tests                         -0.046030   \n",
       "mean_failed_tests                        -0.025884   \n",
       "failed_gp1_bs2_burst_size_mean            0.254339   \n",
       "failed_gp2_bs3_n_bursts_max               0.539483   \n",
       "post_release_bugs                         0.188556   \n",
       "binary                                   -0.261353   \n",
       "\n",
       "                                max_n_builds_per_pull_request  \\\n",
       "commitsha                                            0.120697   \n",
       "total_changes                                        0.129914   \n",
       "max_deleted_lines                                    0.271779   \n",
       "max_inserted_lines                                   0.271622   \n",
       "max_n_builds_per_pull_request                        1.000000   \n",
       "max_failed_tests                                     0.676264   \n",
       "mean_failed_tests                                    0.417955   \n",
       "failed_gp1_bs2_burst_size_mean                       0.352937   \n",
       "failed_gp2_bs3_n_bursts_max                          0.243000   \n",
       "post_release_bugs                                    0.367629   \n",
       "binary                                              -0.655956   \n",
       "\n",
       "                                max_failed_tests  mean_failed_tests  \\\n",
       "commitsha                              -0.017902           0.086184   \n",
       "total_changes                          -0.034805           0.077594   \n",
       "max_deleted_lines                      -0.054943          -0.052577   \n",
       "max_inserted_lines                     -0.046030          -0.025884   \n",
       "max_n_builds_per_pull_request           0.676264           0.417955   \n",
       "max_failed_tests                        1.000000           0.667780   \n",
       "mean_failed_tests                       0.667780           1.000000   \n",
       "failed_gp1_bs2_burst_size_mean          0.173285           0.014709   \n",
       "failed_gp2_bs3_n_bursts_max             0.005279           0.147704   \n",
       "post_release_bugs                       0.042093           0.119436   \n",
       "binary                                 -0.320107          -0.221301   \n",
       "\n",
       "                                failed_gp1_bs2_burst_size_mean  \\\n",
       "commitsha                                             0.375764   \n",
       "total_changes                                         0.335790   \n",
       "max_deleted_lines                                     0.257464   \n",
       "max_inserted_lines                                    0.254339   \n",
       "max_n_builds_per_pull_request                         0.352937   \n",
       "max_failed_tests                                      0.173285   \n",
       "mean_failed_tests                                     0.014709   \n",
       "failed_gp1_bs2_burst_size_mean                        1.000000   \n",
       "failed_gp2_bs3_n_bursts_max                           0.409650   \n",
       "post_release_bugs                                     0.385582   \n",
       "binary                                               -0.426441   \n",
       "\n",
       "                                failed_gp2_bs3_n_bursts_max  \\\n",
       "commitsha                                          0.915230   \n",
       "total_changes                                      0.865777   \n",
       "max_deleted_lines                                  0.457331   \n",
       "max_inserted_lines                                 0.539483   \n",
       "max_n_builds_per_pull_request                      0.243000   \n",
       "max_failed_tests                                   0.005279   \n",
       "mean_failed_tests                                  0.147704   \n",
       "failed_gp1_bs2_burst_size_mean                     0.409650   \n",
       "failed_gp2_bs3_n_bursts_max                        1.000000   \n",
       "post_release_bugs                                  0.556836   \n",
       "binary                                            -0.442137   \n",
       "\n",
       "                                post_release_bugs    binary  \n",
       "commitsha                                0.462634 -0.370733  \n",
       "total_changes                            0.370043 -0.342934  \n",
       "max_deleted_lines                        0.189751 -0.369471  \n",
       "max_inserted_lines                       0.188556 -0.261353  \n",
       "max_n_builds_per_pull_request            0.367629 -0.655956  \n",
       "max_failed_tests                         0.042093 -0.320107  \n",
       "mean_failed_tests                        0.119436 -0.221301  \n",
       "failed_gp1_bs2_burst_size_mean           0.385582 -0.426441  \n",
       "failed_gp2_bs3_n_bursts_max              0.556836 -0.442137  \n",
       "post_release_bugs                        1.000000 -0.736276  \n",
       "binary                                  -0.736276  1.000000  "
      ]
     },
     "execution_count": 260,
     "metadata": {},
     "output_type": "execute_result"
    }
   ],
   "source": [
    "maven.corr()"
   ]
  },
  {
   "cell_type": "code",
   "execution_count": 224,
   "metadata": {},
   "outputs": [
    {
     "data": {
      "text/plain": [
       "<AxesSubplot:xlabel='commitsha', ylabel='max_n_builds_per_pull_request'>"
      ]
     },
     "execution_count": 224,
     "metadata": {},
     "output_type": "execute_result"
    },
    {
     "data": {
      "image/png": "[encoded data removed]",
      "text/plain": [
       "<Figure size 1008x360 with 1 Axes>"
      ]
     },
     "metadata": {
      "needs_background": "light"
     },
     "output_type": "display_data"
    }
   ],
   "source": [
    "maven.plot.scatter(x='commitsha', y='max_n_builds_per_pull_request')"
   ]
  },
  {
   "cell_type": "code",
   "execution_count": 262,
   "metadata": {},
   "outputs": [],
   "source": [
    "min_samples_leaf = [1,2,3,4]\n",
    "max_depth = [1,2,3,4]\n",
    "dt_params_grid = {'min_samples_leaf': min_samples_leaf,\n",
    "               \"max_depth\" : max_depth\n",
    "              }\n",
    "\n",
    "maven_bin_1 = list()\n",
    "method = methods[0]\n",
    "x = maven[[\"total_changes\", \"max_inserted_lines\", \"max_deleted_lines\"]]\n",
    "y = maven.binary\n",
    "model = DecisionTreeClassifier()\n",
    "for i in range(30):\n",
    "    maven_bin_1 = maven_bin_1 + list(two_layer_cross_validate(model, dt_params_grid, x, y, i, 4, \"accuracy\"))"
   ]
  },
  {
   "cell_type": "code",
   "execution_count": 263,
   "metadata": {},
   "outputs": [
    {
     "data": {
      "text/plain": [
       "<AxesSubplot:>"
      ]
     },
     "execution_count": 263,
     "metadata": {},
     "output_type": "execute_result"
    },
    {
     "data": {
      "image/png": "[encoded data removed]",
      "text/plain": [
       "<Figure size 1008x360 with 1 Axes>"
      ]
     },
     "metadata": {
      "needs_background": "light"
     },
     "output_type": "display_data"
    }
   ],
   "source": [
    "sns.boxplot(x=maven_bin_1)"
   ]
  },
  {
   "cell_type": "code",
   "execution_count": 265,
   "metadata": {},
   "outputs": [],
   "source": [
    "knn_params_grid = {'n_neighbors': [int(x) for x in np.linspace(start = 1, stop = 10, num = 5)],\n",
    "              'p': [1,2,3]}\n",
    "model = KNeighborsRegressor()\n",
    "maven_bin_knn = list()\n",
    "method = methods[0]\n",
    "x = maven[[\"total_changes\", \"max_inserted_lines\", \"max_deleted_lines\"]]\n",
    "y = maven.binary\n",
    "model = KNeighborsClassifier()\n",
    "for i in range(30):\n",
    "    maven_bin_knn = maven_bin_knn + list(two_layer_cross_validate(model, knn_params_grid, x, y, i, 4, \"accuracy\"))"
   ]
  },
  {
   "cell_type": "code",
   "execution_count": 266,
   "metadata": {},
   "outputs": [
    {
     "data": {
      "text/plain": [
       "<AxesSubplot:>"
      ]
     },
     "execution_count": 266,
     "metadata": {},
     "output_type": "execute_result"
    },
    {
     "data": {
      "image/png": "[encoded data removed]",
      "text/plain": [
       "<Figure size 1008x360 with 1 Axes>"
      ]
     },
     "metadata": {
      "needs_background": "light"
     },
     "output_type": "display_data"
    }
   ],
   "source": [
    "sns.boxplot(x=maven_bin_knn)"
   ]
  },
  {
   "cell_type": "code",
   "execution_count": 217,
   "metadata": {},
   "outputs": [],
   "source": [
    "from math import log2\n",
    "x.commitsha = x.commitsha.apply(lambda x: log2(x))"
   ]
  },
  {
   "cell_type": "code",
   "execution_count": 64,
   "metadata": {},
   "outputs": [
    {
     "data": {
      "text/html": [
       "<div>\n",
       "<style scoped>\n",
       "    .dataframe tbody tr th:only-of-type {\n",
       "        vertical-align: middle;\n",
       "    }\n",
       "\n",
       "    .dataframe tbody tr th {\n",
       "        vertical-align: top;\n",
       "    }\n",
       "\n",
       "    .dataframe thead th {\n",
       "        text-align: right;\n",
       "    }\n",
       "</style>\n",
       "<table border=\"1\" class=\"dataframe\">\n",
       "  <thead>\n",
       "    <tr style=\"text-align: right;\">\n",
       "      <th></th>\n",
       "      <th>commitsha</th>\n",
       "      <th>max_n_builds_per_pull_request</th>\n",
       "      <th>post_release_bugs</th>\n",
       "    </tr>\n",
       "  </thead>\n",
       "  <tbody>\n",
       "    <tr>\n",
       "      <th>commitsha</th>\n",
       "      <td>1.000000</td>\n",
       "      <td>0.532848</td>\n",
       "      <td>0.627476</td>\n",
       "    </tr>\n",
       "    <tr>\n",
       "      <th>max_n_builds_per_pull_request</th>\n",
       "      <td>0.532848</td>\n",
       "      <td>1.000000</td>\n",
       "      <td>0.367629</td>\n",
       "    </tr>\n",
       "    <tr>\n",
       "      <th>post_release_bugs</th>\n",
       "      <td>0.627476</td>\n",
       "      <td>0.367629</td>\n",
       "      <td>1.000000</td>\n",
       "    </tr>\n",
       "  </tbody>\n",
       "</table>\n",
       "</div>"
      ],
      "text/plain": [
       "                               commitsha  max_n_builds_per_pull_request  \\\n",
       "commitsha                       1.000000                       0.532848   \n",
       "max_n_builds_per_pull_request   0.532848                       1.000000   \n",
       "post_release_bugs               0.627476                       0.367629   \n",
       "\n",
       "                               post_release_bugs  \n",
       "commitsha                               0.627476  \n",
       "max_n_builds_per_pull_request           0.367629  \n",
       "post_release_bugs                       1.000000  "
      ]
     },
     "execution_count": 64,
     "metadata": {},
     "output_type": "execute_result"
    }
   ],
   "source": [
    "x[:32].corr()"
   ]
  },
  {
   "cell_type": "code",
   "execution_count": 66,
   "metadata": {},
   "outputs": [
    {
     "data": {
      "text/plain": [
       "<AxesSubplot:xlabel='commitsha', ylabel='post_release_bugs'>"
      ]
     },
     "execution_count": 66,
     "metadata": {},
     "output_type": "execute_result"
    },
    {
     "data": {
      "image/png": "[encoded data removed]",
      "text/plain": [
       "<Figure size 1008x360 with 1 Axes>"
      ]
     },
     "metadata": {
      "needs_background": "light"
     },
     "output_type": "display_data"
    }
   ],
   "source": [
    "x[:32][[\"commitsha\", \"post_release_bugs\"]].plot.scatter(x='commitsha', y='post_release_bugs')"
   ]
  },
  {
   "cell_type": "markdown",
   "metadata": {},
   "source": [
    "**Gradle**"
   ]
  },
  {
   "cell_type": "code",
   "execution_count": 271,
   "metadata": {},
   "outputs": [
    {
     "data": {
      "text/html": [
       "<div>\n",
       "<style scoped>\n",
       "    .dataframe tbody tr th:only-of-type {\n",
       "        vertical-align: middle;\n",
       "    }\n",
       "\n",
       "    .dataframe tbody tr th {\n",
       "        vertical-align: top;\n",
       "    }\n",
       "\n",
       "    .dataframe thead th {\n",
       "        text-align: right;\n",
       "    }\n",
       "</style>\n",
       "<table border=\"1\" class=\"dataframe\">\n",
       "  <thead>\n",
       "    <tr style=\"text-align: right;\">\n",
       "      <th></th>\n",
       "      <th>commitsha</th>\n",
       "      <th>total_changes</th>\n",
       "      <th>max_deleted_lines</th>\n",
       "      <th>max_inserted_lines</th>\n",
       "      <th>mean_failures_over_tests_total</th>\n",
       "      <th>mean_skipped_over_tests_total</th>\n",
       "      <th>median_passed_build_duration</th>\n",
       "      <th>max_passed_build_duration</th>\n",
       "      <th>max_skipped_over_tests_total</th>\n",
       "      <th>max_failed_build_duration</th>\n",
       "      <th>min_failed_build_duration</th>\n",
       "      <th>median_not_errored_or_canceled_build_duration</th>\n",
       "      <th>post_release_bugs</th>\n",
       "    </tr>\n",
       "  </thead>\n",
       "  <tbody>\n",
       "    <tr>\n",
       "      <th>commitsha</th>\n",
       "      <td>1.000000</td>\n",
       "      <td>0.727112</td>\n",
       "      <td>0.538349</td>\n",
       "      <td>0.489702</td>\n",
       "      <td>0.044006</td>\n",
       "      <td>-0.310515</td>\n",
       "      <td>-0.406014</td>\n",
       "      <td>0.000491</td>\n",
       "      <td>-0.171161</td>\n",
       "      <td>0.305911</td>\n",
       "      <td>-0.390102</td>\n",
       "      <td>-0.393631</td>\n",
       "      <td>-0.062532</td>\n",
       "    </tr>\n",
       "    <tr>\n",
       "      <th>total_changes</th>\n",
       "      <td>0.727112</td>\n",
       "      <td>1.000000</td>\n",
       "      <td>0.767434</td>\n",
       "      <td>0.925413</td>\n",
       "      <td>-0.002177</td>\n",
       "      <td>-0.375846</td>\n",
       "      <td>-0.487921</td>\n",
       "      <td>-0.138404</td>\n",
       "      <td>-0.297432</td>\n",
       "      <td>0.317684</td>\n",
       "      <td>-0.326012</td>\n",
       "      <td>-0.468191</td>\n",
       "      <td>0.099624</td>\n",
       "    </tr>\n",
       "    <tr>\n",
       "      <th>max_deleted_lines</th>\n",
       "      <td>0.538349</td>\n",
       "      <td>0.767434</td>\n",
       "      <td>1.000000</td>\n",
       "      <td>0.694061</td>\n",
       "      <td>0.020465</td>\n",
       "      <td>-0.337227</td>\n",
       "      <td>-0.215460</td>\n",
       "      <td>0.194006</td>\n",
       "      <td>-0.261340</td>\n",
       "      <td>0.658458</td>\n",
       "      <td>-0.019302</td>\n",
       "      <td>-0.213531</td>\n",
       "      <td>-0.054974</td>\n",
       "    </tr>\n",
       "    <tr>\n",
       "      <th>max_inserted_lines</th>\n",
       "      <td>0.489702</td>\n",
       "      <td>0.925413</td>\n",
       "      <td>0.694061</td>\n",
       "      <td>1.000000</td>\n",
       "      <td>0.013004</td>\n",
       "      <td>-0.355436</td>\n",
       "      <td>-0.496144</td>\n",
       "      <td>-0.273214</td>\n",
       "      <td>-0.305312</td>\n",
       "      <td>0.304819</td>\n",
       "      <td>-0.195887</td>\n",
       "      <td>-0.474847</td>\n",
       "      <td>0.208134</td>\n",
       "    </tr>\n",
       "    <tr>\n",
       "      <th>mean_failures_over_tests_total</th>\n",
       "      <td>0.044006</td>\n",
       "      <td>-0.002177</td>\n",
       "      <td>0.020465</td>\n",
       "      <td>0.013004</td>\n",
       "      <td>1.000000</td>\n",
       "      <td>0.397336</td>\n",
       "      <td>0.405414</td>\n",
       "      <td>0.237211</td>\n",
       "      <td>0.300742</td>\n",
       "      <td>0.495287</td>\n",
       "      <td>-0.278758</td>\n",
       "      <td>0.428995</td>\n",
       "      <td>-0.620389</td>\n",
       "    </tr>\n",
       "    <tr>\n",
       "      <th>mean_skipped_over_tests_total</th>\n",
       "      <td>-0.310515</td>\n",
       "      <td>-0.375846</td>\n",
       "      <td>-0.337227</td>\n",
       "      <td>-0.355436</td>\n",
       "      <td>0.397336</td>\n",
       "      <td>1.000000</td>\n",
       "      <td>0.528190</td>\n",
       "      <td>0.258650</td>\n",
       "      <td>0.912945</td>\n",
       "      <td>0.213729</td>\n",
       "      <td>0.742725</td>\n",
       "      <td>0.562944</td>\n",
       "      <td>-0.538941</td>\n",
       "    </tr>\n",
       "    <tr>\n",
       "      <th>median_passed_build_duration</th>\n",
       "      <td>-0.406014</td>\n",
       "      <td>-0.487921</td>\n",
       "      <td>-0.215460</td>\n",
       "      <td>-0.496144</td>\n",
       "      <td>0.405414</td>\n",
       "      <td>0.528190</td>\n",
       "      <td>1.000000</td>\n",
       "      <td>0.789959</td>\n",
       "      <td>0.454042</td>\n",
       "      <td>0.414885</td>\n",
       "      <td>0.689919</td>\n",
       "      <td>0.977834</td>\n",
       "      <td>-0.736679</td>\n",
       "    </tr>\n",
       "    <tr>\n",
       "      <th>max_passed_build_duration</th>\n",
       "      <td>0.000491</td>\n",
       "      <td>-0.138404</td>\n",
       "      <td>0.194006</td>\n",
       "      <td>-0.273214</td>\n",
       "      <td>0.237211</td>\n",
       "      <td>0.258650</td>\n",
       "      <td>0.789959</td>\n",
       "      <td>1.000000</td>\n",
       "      <td>0.335530</td>\n",
       "      <td>0.468876</td>\n",
       "      <td>0.537677</td>\n",
       "      <td>0.785773</td>\n",
       "      <td>-0.713210</td>\n",
       "    </tr>\n",
       "    <tr>\n",
       "      <th>max_skipped_over_tests_total</th>\n",
       "      <td>-0.171161</td>\n",
       "      <td>-0.297432</td>\n",
       "      <td>-0.261340</td>\n",
       "      <td>-0.305312</td>\n",
       "      <td>0.300742</td>\n",
       "      <td>0.912945</td>\n",
       "      <td>0.454042</td>\n",
       "      <td>0.335530</td>\n",
       "      <td>1.000000</td>\n",
       "      <td>0.434122</td>\n",
       "      <td>0.501526</td>\n",
       "      <td>0.474515</td>\n",
       "      <td>-0.512462</td>\n",
       "    </tr>\n",
       "    <tr>\n",
       "      <th>max_failed_build_duration</th>\n",
       "      <td>0.305911</td>\n",
       "      <td>0.317684</td>\n",
       "      <td>0.658458</td>\n",
       "      <td>0.304819</td>\n",
       "      <td>0.495287</td>\n",
       "      <td>0.213729</td>\n",
       "      <td>0.414885</td>\n",
       "      <td>0.468876</td>\n",
       "      <td>0.434122</td>\n",
       "      <td>1.000000</td>\n",
       "      <td>-0.101199</td>\n",
       "      <td>0.390021</td>\n",
       "      <td>-0.475661</td>\n",
       "    </tr>\n",
       "    <tr>\n",
       "      <th>min_failed_build_duration</th>\n",
       "      <td>-0.390102</td>\n",
       "      <td>-0.326012</td>\n",
       "      <td>-0.019302</td>\n",
       "      <td>-0.195887</td>\n",
       "      <td>-0.278758</td>\n",
       "      <td>0.742725</td>\n",
       "      <td>0.689919</td>\n",
       "      <td>0.537677</td>\n",
       "      <td>0.501526</td>\n",
       "      <td>-0.101199</td>\n",
       "      <td>1.000000</td>\n",
       "      <td>0.630011</td>\n",
       "      <td>-0.227683</td>\n",
       "    </tr>\n",
       "    <tr>\n",
       "      <th>median_not_errored_or_canceled_build_duration</th>\n",
       "      <td>-0.393631</td>\n",
       "      <td>-0.468191</td>\n",
       "      <td>-0.213531</td>\n",
       "      <td>-0.474847</td>\n",
       "      <td>0.428995</td>\n",
       "      <td>0.562944</td>\n",
       "      <td>0.977834</td>\n",
       "      <td>0.785773</td>\n",
       "      <td>0.474515</td>\n",
       "      <td>0.390021</td>\n",
       "      <td>0.630011</td>\n",
       "      <td>1.000000</td>\n",
       "      <td>-0.777922</td>\n",
       "    </tr>\n",
       "    <tr>\n",
       "      <th>post_release_bugs</th>\n",
       "      <td>-0.062532</td>\n",
       "      <td>0.099624</td>\n",
       "      <td>-0.054974</td>\n",
       "      <td>0.208134</td>\n",
       "      <td>-0.620389</td>\n",
       "      <td>-0.538941</td>\n",
       "      <td>-0.736679</td>\n",
       "      <td>-0.713210</td>\n",
       "      <td>-0.512462</td>\n",
       "      <td>-0.475661</td>\n",
       "      <td>-0.227683</td>\n",
       "      <td>-0.777922</td>\n",
       "      <td>1.000000</td>\n",
       "    </tr>\n",
       "  </tbody>\n",
       "</table>\n",
       "</div>"
      ],
      "text/plain": [
       "                                               commitsha  total_changes  \\\n",
       "commitsha                                       1.000000       0.727112   \n",
       "total_changes                                   0.727112       1.000000   \n",
       "max_deleted_lines                               0.538349       0.767434   \n",
       "max_inserted_lines                              0.489702       0.925413   \n",
       "mean_failures_over_tests_total                  0.044006      -0.002177   \n",
       "mean_skipped_over_tests_total                  -0.310515      -0.375846   \n",
       "median_passed_build_duration                   -0.406014      -0.487921   \n",
       "max_passed_build_duration                       0.000491      -0.138404   \n",
       "max_skipped_over_tests_total                   -0.171161      -0.297432   \n",
       "max_failed_build_duration                       0.305911       0.317684   \n",
       "min_failed_build_duration                      -0.390102      -0.326012   \n",
       "median_not_errored_or_canceled_build_duration  -0.393631      -0.468191   \n",
       "post_release_bugs                              -0.062532       0.099624   \n",
       "\n",
       "                                               max_deleted_lines  \\\n",
       "commitsha                                               0.538349   \n",
       "total_changes                                           0.767434   \n",
       "max_deleted_lines                                       1.000000   \n",
       "max_inserted_lines                                      0.694061   \n",
       "mean_failures_over_tests_total                          0.020465   \n",
       "mean_skipped_over_tests_total                          -0.337227   \n",
       "median_passed_build_duration                           -0.215460   \n",
       "max_passed_build_duration                               0.194006   \n",
       "max_skipped_over_tests_total                           -0.261340   \n",
       "max_failed_build_duration                               0.658458   \n",
       "min_failed_build_duration                              -0.019302   \n",
       "median_not_errored_or_canceled_build_duration          -0.213531   \n",
       "post_release_bugs                                      -0.054974   \n",
       "\n",
       "                                               max_inserted_lines  \\\n",
       "commitsha                                                0.489702   \n",
       "total_changes                                            0.925413   \n",
       "max_deleted_lines                                        0.694061   \n",
       "max_inserted_lines                                       1.000000   \n",
       "mean_failures_over_tests_total                           0.013004   \n",
       "mean_skipped_over_tests_total                           -0.355436   \n",
       "median_passed_build_duration                            -0.496144   \n",
       "max_passed_build_duration                               -0.273214   \n",
       "max_skipped_over_tests_total                            -0.305312   \n",
       "max_failed_build_duration                                0.304819   \n",
       "min_failed_build_duration                               -0.195887   \n",
       "median_not_errored_or_canceled_build_duration           -0.474847   \n",
       "post_release_bugs                                        0.208134   \n",
       "\n",
       "                                               mean_failures_over_tests_total  \\\n",
       "commitsha                                                            0.044006   \n",
       "total_changes                                                       -0.002177   \n",
       "max_deleted_lines                                                    0.020465   \n",
       "max_inserted_lines                                                   0.013004   \n",
       "mean_failures_over_tests_total                                       1.000000   \n",
       "mean_skipped_over_tests_total                                        0.397336   \n",
       "median_passed_build_duration                                         0.405414   \n",
       "max_passed_build_duration                                            0.237211   \n",
       "max_skipped_over_tests_total                                         0.300742   \n",
       "max_failed_build_duration                                            0.495287   \n",
       "min_failed_build_duration                                           -0.278758   \n",
       "median_not_errored_or_canceled_build_duration                        0.428995   \n",
       "post_release_bugs                                                   -0.620389   \n",
       "\n",
       "                                               mean_skipped_over_tests_total  \\\n",
       "commitsha                                                          -0.310515   \n",
       "total_changes                                                      -0.375846   \n",
       "max_deleted_lines                                                  -0.337227   \n",
       "max_inserted_lines                                                 -0.355436   \n",
       "mean_failures_over_tests_total                                      0.397336   \n",
       "mean_skipped_over_tests_total                                       1.000000   \n",
       "median_passed_build_duration                                        0.528190   \n",
       "max_passed_build_duration                                           0.258650   \n",
       "max_skipped_over_tests_total                                        0.912945   \n",
       "max_failed_build_duration                                           0.213729   \n",
       "min_failed_build_duration                                           0.742725   \n",
       "median_not_errored_or_canceled_build_duration                       0.562944   \n",
       "post_release_bugs                                                  -0.538941   \n",
       "\n",
       "                                               median_passed_build_duration  \\\n",
       "commitsha                                                         -0.406014   \n",
       "total_changes                                                     -0.487921   \n",
       "max_deleted_lines                                                 -0.215460   \n",
       "max_inserted_lines                                                -0.496144   \n",
       "mean_failures_over_tests_total                                     0.405414   \n",
       "mean_skipped_over_tests_total                                      0.528190   \n",
       "median_passed_build_duration                                       1.000000   \n",
       "max_passed_build_duration                                          0.789959   \n",
       "max_skipped_over_tests_total                                       0.454042   \n",
       "max_failed_build_duration                                          0.414885   \n",
       "min_failed_build_duration                                          0.689919   \n",
       "median_not_errored_or_canceled_build_duration                      0.977834   \n",
       "post_release_bugs                                                 -0.736679   \n",
       "\n",
       "                                               max_passed_build_duration  \\\n",
       "commitsha                                                       0.000491   \n",
       "total_changes                                                  -0.138404   \n",
       "max_deleted_lines                                               0.194006   \n",
       "max_inserted_lines                                             -0.273214   \n",
       "mean_failures_over_tests_total                                  0.237211   \n",
       "mean_skipped_over_tests_total                                   0.258650   \n",
       "median_passed_build_duration                                    0.789959   \n",
       "max_passed_build_duration                                       1.000000   \n",
       "max_skipped_over_tests_total                                    0.335530   \n",
       "max_failed_build_duration                                       0.468876   \n",
       "min_failed_build_duration                                       0.537677   \n",
       "median_not_errored_or_canceled_build_duration                   0.785773   \n",
       "post_release_bugs                                              -0.713210   \n",
       "\n",
       "                                               max_skipped_over_tests_total  \\\n",
       "commitsha                                                         -0.171161   \n",
       "total_changes                                                     -0.297432   \n",
       "max_deleted_lines                                                 -0.261340   \n",
       "max_inserted_lines                                                -0.305312   \n",
       "mean_failures_over_tests_total                                     0.300742   \n",
       "mean_skipped_over_tests_total                                      0.912945   \n",
       "median_passed_build_duration                                       0.454042   \n",
       "max_passed_build_duration                                          0.335530   \n",
       "max_skipped_over_tests_total                                       1.000000   \n",
       "max_failed_build_duration                                          0.434122   \n",
       "min_failed_build_duration                                          0.501526   \n",
       "median_not_errored_or_canceled_build_duration                      0.474515   \n",
       "post_release_bugs                                                 -0.512462   \n",
       "\n",
       "                                               max_failed_build_duration  \\\n",
       "commitsha                                                       0.305911   \n",
       "total_changes                                                   0.317684   \n",
       "max_deleted_lines                                               0.658458   \n",
       "max_inserted_lines                                              0.304819   \n",
       "mean_failures_over_tests_total                                  0.495287   \n",
       "mean_skipped_over_tests_total                                   0.213729   \n",
       "median_passed_build_duration                                    0.414885   \n",
       "max_passed_build_duration                                       0.468876   \n",
       "max_skipped_over_tests_total                                    0.434122   \n",
       "max_failed_build_duration                                       1.000000   \n",
       "min_failed_build_duration                                      -0.101199   \n",
       "median_not_errored_or_canceled_build_duration                   0.390021   \n",
       "post_release_bugs                                              -0.475661   \n",
       "\n",
       "                                               min_failed_build_duration  \\\n",
       "commitsha                                                      -0.390102   \n",
       "total_changes                                                  -0.326012   \n",
       "max_deleted_lines                                              -0.019302   \n",
       "max_inserted_lines                                             -0.195887   \n",
       "mean_failures_over_tests_total                                 -0.278758   \n",
       "mean_skipped_over_tests_total                                   0.742725   \n",
       "median_passed_build_duration                                    0.689919   \n",
       "max_passed_build_duration                                       0.537677   \n",
       "max_skipped_over_tests_total                                    0.501526   \n",
       "max_failed_build_duration                                      -0.101199   \n",
       "min_failed_build_duration                                       1.000000   \n",
       "median_not_errored_or_canceled_build_duration                   0.630011   \n",
       "post_release_bugs                                              -0.227683   \n",
       "\n",
       "                                               median_not_errored_or_canceled_build_duration  \\\n",
       "commitsha                                                                          -0.393631   \n",
       "total_changes                                                                      -0.468191   \n",
       "max_deleted_lines                                                                  -0.213531   \n",
       "max_inserted_lines                                                                 -0.474847   \n",
       "mean_failures_over_tests_total                                                      0.428995   \n",
       "mean_skipped_over_tests_total                                                       0.562944   \n",
       "median_passed_build_duration                                                        0.977834   \n",
       "max_passed_build_duration                                                           0.785773   \n",
       "max_skipped_over_tests_total                                                        0.474515   \n",
       "max_failed_build_duration                                                           0.390021   \n",
       "min_failed_build_duration                                                           0.630011   \n",
       "median_not_errored_or_canceled_build_duration                                       1.000000   \n",
       "post_release_bugs                                                                  -0.777922   \n",
       "\n",
       "                                               post_release_bugs  \n",
       "commitsha                                              -0.062532  \n",
       "total_changes                                           0.099624  \n",
       "max_deleted_lines                                      -0.054974  \n",
       "max_inserted_lines                                      0.208134  \n",
       "mean_failures_over_tests_total                         -0.620389  \n",
       "mean_skipped_over_tests_total                          -0.538941  \n",
       "median_passed_build_duration                           -0.736679  \n",
       "max_passed_build_duration                              -0.713210  \n",
       "max_skipped_over_tests_total                           -0.512462  \n",
       "max_failed_build_duration                              -0.475661  \n",
       "min_failed_build_duration                              -0.227683  \n",
       "median_not_errored_or_canceled_build_duration          -0.777922  \n",
       "post_release_bugs                                       1.000000  "
      ]
     },
     "execution_count": 271,
     "metadata": {},
     "output_type": "execute_result"
    }
   ],
   "source": [
    "gradle = pd.concat([commits,changes,df_metrics[methods[0]][[\"mean_failures_over_tests_total\",\n",
    "                                                            \"mean_skipped_over_tests_total\",\n",
    "                                                            \"median_passed_build_duration\",\n",
    "                                                            \"max_passed_build_duration\",\n",
    "                                                            \"max_skipped_over_tests_total\",\n",
    "                                                            \"max_failed_build_duration\",\n",
    "                                                            \"min_failed_build_duration\",\n",
    "                                                   \"median_not_errored_or_canceled_build_duration\"]], df_metrics[methods[0]].post_release_bugs], axis=1)\n",
    "gradle = gradle[-20:]\n",
    "gradle.corr()"
   ]
  },
  {
   "cell_type": "code",
   "execution_count": 176,
   "metadata": {},
   "outputs": [],
   "source": [
    "gradle[\"binary\"] = gradle.post_release_bugs < gradle.post_release_bugs.median()"
   ]
  },
  {
   "cell_type": "code",
   "execution_count": 184,
   "metadata": {},
   "outputs": [
    {
     "data": {
      "text/plain": [
       "<AxesSubplot:xlabel='post_release_bugs', ylabel='mean_skipped_over_tests_total'>"
      ]
     },
     "execution_count": 184,
     "metadata": {},
     "output_type": "execute_result"
    },
    {
     "data": {
      "image/png": "[encoded data removed]",
      "text/plain": [
       "<Figure size 1008x360 with 1 Axes>"
      ]
     },
     "metadata": {
      "needs_background": "light"
     },
     "output_type": "display_data"
    }
   ],
   "source": [
    "gradle.plot.scatter(x='post_release_bugs', y='mean_skipped_over_tests_total')"
   ]
  },
  {
   "cell_type": "code",
   "execution_count": 178,
   "metadata": {},
   "outputs": [],
   "source": [
    "gradle[\"\"] = \"\""
   ]
  },
  {
   "cell_type": "code",
   "execution_count": 185,
   "metadata": {},
   "outputs": [
    {
     "data": {
      "image/png": "[encoded data removed]",
      "text/plain": [
       "<Figure size 1008x360 with 1 Axes>"
      ]
     },
     "metadata": {
      "needs_background": "light"
     },
     "output_type": "display_data"
    }
   ],
   "source": [
    "tmp = gradle.drop(columns=[\"from_tag\", \"to_tag\", \"\", \"binary\"])\n",
    "tmp[tmp.columns] = StandardScaler().fit_transform(tmp)\n",
    "tmp = pd.concat([tmp, gradle.binary, gradle[\"\"]], axis=1)\n",
    "#tmp = tmp[tmp.commitsha<-0.2]\n",
    "ax = sns.stripplot(x=\"mean_skipped_over_tests_total\",\\\n",
    "                     y=\"\",hue=\"binary\", data=tmp, jitter=0.4)"
   ]
  },
  {
   "cell_type": "code",
   "execution_count": 186,
   "metadata": {},
   "outputs": [
    {
     "data": {
      "text/plain": [
       "<AxesSubplot:xlabel='median_not_errored_or_canceled_build_duration', ylabel='mean_skipped_over_tests_total'>"
      ]
     },
     "execution_count": 186,
     "metadata": {},
     "output_type": "execute_result"
    },
    {
     "data": {
      "image/png": "[encoded data removed]",
      "text/plain": [
       "<Figure size 1008x360 with 1 Axes>"
      ]
     },
     "metadata": {
      "needs_background": "light"
     },
     "output_type": "display_data"
    }
   ],
   "source": [
    "gradle.plot.scatter(x='median_not_errored_or_canceled_build_duration', y='mean_skipped_over_tests_total')"
   ]
  },
  {
   "cell_type": "code",
   "execution_count": 187,
   "metadata": {},
   "outputs": [
    {
     "data": {
      "text/html": [
       "<div>\n",
       "<style scoped>\n",
       "    .dataframe tbody tr th:only-of-type {\n",
       "        vertical-align: middle;\n",
       "    }\n",
       "\n",
       "    .dataframe tbody tr th {\n",
       "        vertical-align: top;\n",
       "    }\n",
       "\n",
       "    .dataframe thead th {\n",
       "        text-align: right;\n",
       "    }\n",
       "</style>\n",
       "<table border=\"1\" class=\"dataframe\">\n",
       "  <thead>\n",
       "    <tr style=\"text-align: right;\">\n",
       "      <th></th>\n",
       "      <th>median_not_errored_or_canceled_build_duration</th>\n",
       "      <th>mean_skipped_over_tests_total</th>\n",
       "    </tr>\n",
       "  </thead>\n",
       "  <tbody>\n",
       "    <tr>\n",
       "      <th>median_not_errored_or_canceled_build_duration</th>\n",
       "      <td>1.000000</td>\n",
       "      <td>0.562944</td>\n",
       "    </tr>\n",
       "    <tr>\n",
       "      <th>mean_skipped_over_tests_total</th>\n",
       "      <td>0.562944</td>\n",
       "      <td>1.000000</td>\n",
       "    </tr>\n",
       "  </tbody>\n",
       "</table>\n",
       "</div>"
      ],
      "text/plain": [
       "                                               median_not_errored_or_canceled_build_duration  \\\n",
       "median_not_errored_or_canceled_build_duration                                       1.000000   \n",
       "mean_skipped_over_tests_total                                                       0.562944   \n",
       "\n",
       "                                               mean_skipped_over_tests_total  \n",
       "median_not_errored_or_canceled_build_duration                       0.562944  \n",
       "mean_skipped_over_tests_total                                       1.000000  "
      ]
     },
     "execution_count": 187,
     "metadata": {},
     "output_type": "execute_result"
    }
   ],
   "source": [
    "gradle[['median_not_errored_or_canceled_build_duration', 'mean_skipped_over_tests_total']].corr()"
   ]
  },
  {
   "cell_type": "code",
   "execution_count": null,
   "metadata": {},
   "outputs": [],
   "source": []
  }
 ],
 "metadata": {
  "kernelspec": {
   "display_name": "Python 3",
   "language": "python",
   "name": "python3"
  },
  "language_info": {
   "codemirror_mode": {
    "name": "ipython",
    "version": 3
   },
   "file_extension": ".py",
   "mimetype": "text/x-python",
   "name": "python",
   "nbconvert_exporter": "python",
   "pygments_lexer": "ipython3",
   "version": "3.8.2"
  }
 },
 "nbformat": 4,
 "nbformat_minor": 4
}
