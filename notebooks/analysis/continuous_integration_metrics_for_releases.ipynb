{
 "cells": [
  {
   "cell_type": "code",
   "execution_count": 417,
   "metadata": {},
   "outputs": [],
   "source": [
    "import pandas as pd\n",
    "import pickle\n",
    "import json\n",
    "import seaborn as sns\n",
    "import pprint\n",
    "import numpy as np\n",
    "import math\n",
    "import ast\n",
    "pp = pprint.PrettyPrinter(depth=6)\n",
    "import matplotlib\n",
    "import matplotlib.pyplot as plt\n",
    "from scipy import stats\n",
    "matplotlib.rcParams['figure.figsize'] = (14.0, 5.0)\n",
    "pd.set_option('display.max_columns', 120)\n",
    "pd.set_option('display.max_rows', 450)"
   ]
  },
  {
   "cell_type": "code",
   "execution_count": 418,
   "metadata": {},
   "outputs": [],
   "source": [
    "pkl_folder = \"../../pkl\"\n",
    "csv_folder = \"../../csv\"\n",
    "figure_folder = \"../../figures\""
   ]
  },
  {
   "cell_type": "markdown",
   "metadata": {},
   "source": [
    "# Goal"
   ]
  },
  {
   "cell_type": "markdown",
   "metadata": {},
   "source": [
    "Calculate ci metrics for each release and output a dataset with one entry for release and a list of metrics as features"
   ]
  },
  {
   "cell_type": "code",
   "execution_count": 419,
   "metadata": {},
   "outputs": [
    {
     "data": {
      "text/html": [
       "<div>\n",
       "<style scoped>\n",
       "    .dataframe tbody tr th:only-of-type {\n",
       "        vertical-align: middle;\n",
       "    }\n",
       "\n",
       "    .dataframe tbody tr th {\n",
       "        vertical-align: top;\n",
       "    }\n",
       "\n",
       "    .dataframe thead th {\n",
       "        text-align: right;\n",
       "    }\n",
       "</style>\n",
       "<table border=\"1\" class=\"dataframe\">\n",
       "  <thead>\n",
       "    <tr style=\"text-align: right;\">\n",
       "      <th></th>\n",
       "      <th>actual_release_date</th>\n",
       "      <th>Tag</th>\n",
       "      <th>Sha</th>\n",
       "      <th>Date</th>\n",
       "      <th>month</th>\n",
       "      <th>year</th>\n",
       "      <th>major_version</th>\n",
       "      <th>jira_version</th>\n",
       "    </tr>\n",
       "  </thead>\n",
       "  <tbody>\n",
       "    <tr>\n",
       "      <th>0</th>\n",
       "      <td>NaN</td>\n",
       "      <td>4.5.6</td>\n",
       "      <td>12d931e5a31e1692a428bbb34ba11cd63aebf998</td>\n",
       "      <td>2015-10-16 09:31:18</td>\n",
       "      <td>10</td>\n",
       "      <td>2015</td>\n",
       "      <td>4</td>\n",
       "      <td>4.5.6</td>\n",
       "    </tr>\n",
       "    <tr>\n",
       "      <th>1</th>\n",
       "      <td>NaN</td>\n",
       "      <td>4.5.7</td>\n",
       "      <td>e2afb0bff1b8be759789d2c1bc9348de6f519f83</td>\n",
       "      <td>2016-04-08 13:44:39</td>\n",
       "      <td>4</td>\n",
       "      <td>2016</td>\n",
       "      <td>4</td>\n",
       "      <td>4.5.7</td>\n",
       "    </tr>\n",
       "  </tbody>\n",
       "</table>\n",
       "</div>"
      ],
      "text/plain": [
       "  actual_release_date    Tag                                       Sha  \\\n",
       "0                 NaN  4.5.6  12d931e5a31e1692a428bbb34ba11cd63aebf998   \n",
       "1                 NaN  4.5.7  e2afb0bff1b8be759789d2c1bc9348de6f519f83   \n",
       "\n",
       "                 Date  month  year  major_version jira_version  \n",
       "0 2015-10-16 09:31:18     10  2015              4        4.5.6  \n",
       "1 2016-04-08 13:44:39      4  2016              4        4.5.7  "
      ]
     },
     "execution_count": 419,
     "metadata": {},
     "output_type": "execute_result"
    }
   ],
   "source": [
    "tags = pd.read_csv(f\"{csv_folder}/tags_updated.csv\", index_col=0)\n",
    "tags.Date = pd.to_datetime(tags.Date)\n",
    "tags.head(2)"
   ]
  },
  {
   "cell_type": "markdown",
   "metadata": {},
   "source": [
    "### Import builds and jobs"
   ]
  },
  {
   "cell_type": "code",
   "execution_count": 420,
   "metadata": {},
   "outputs": [
    {
     "data": {
      "text/html": [
       "<div>\n",
       "<style scoped>\n",
       "    .dataframe tbody tr th:only-of-type {\n",
       "        vertical-align: middle;\n",
       "    }\n",
       "\n",
       "    .dataframe tbody tr th {\n",
       "        vertical-align: top;\n",
       "    }\n",
       "\n",
       "    .dataframe thead th {\n",
       "        text-align: right;\n",
       "    }\n",
       "</style>\n",
       "<table border=\"1\" class=\"dataframe\">\n",
       "  <thead>\n",
       "    <tr style=\"text-align: right;\">\n",
       "      <th></th>\n",
       "      <th>number</th>\n",
       "      <th>pull_request_number</th>\n",
       "      <th>id</th>\n",
       "      <th>event_type</th>\n",
       "      <th>finished_at</th>\n",
       "      <th>pull_request_title</th>\n",
       "      <th>started_at</th>\n",
       "      <th>duration</th>\n",
       "      <th>state</th>\n",
       "      <th>started_at_day</th>\n",
       "      <th>started_at_month</th>\n",
       "      <th>started_at_year</th>\n",
       "    </tr>\n",
       "  </thead>\n",
       "  <tbody>\n",
       "    <tr>\n",
       "      <th>0</th>\n",
       "      <td>6995</td>\n",
       "      <td>NaN</td>\n",
       "      <td>99118995</td>\n",
       "      <td>push</td>\n",
       "      <td>2015-12-28 16:34:08+00:00</td>\n",
       "      <td>NaN</td>\n",
       "      <td>2015-12-28 16:18:41+00:00</td>\n",
       "      <td>5361.0</td>\n",
       "      <td>failed</td>\n",
       "      <td>28.0</td>\n",
       "      <td>12.0</td>\n",
       "      <td>2015.0</td>\n",
       "    </tr>\n",
       "    <tr>\n",
       "      <th>1</th>\n",
       "      <td>6994</td>\n",
       "      <td>NaN</td>\n",
       "      <td>99100662</td>\n",
       "      <td>push</td>\n",
       "      <td>2015-12-28 14:36:03+00:00</td>\n",
       "      <td>NaN</td>\n",
       "      <td>2015-12-28 14:18:30+00:00</td>\n",
       "      <td>5953.0</td>\n",
       "      <td>passed</td>\n",
       "      <td>28.0</td>\n",
       "      <td>12.0</td>\n",
       "      <td>2015.0</td>\n",
       "    </tr>\n",
       "  </tbody>\n",
       "</table>\n",
       "</div>"
      ],
      "text/plain": [
       "   number  pull_request_number        id event_type  \\\n",
       "0    6995                  NaN  99118995       push   \n",
       "1    6994                  NaN  99100662       push   \n",
       "\n",
       "                 finished_at pull_request_title                 started_at  \\\n",
       "0  2015-12-28 16:34:08+00:00                NaN  2015-12-28 16:18:41+00:00   \n",
       "1  2015-12-28 14:36:03+00:00                NaN  2015-12-28 14:18:30+00:00   \n",
       "\n",
       "   duration   state  started_at_day  started_at_month  started_at_year  \n",
       "0    5361.0  failed            28.0              12.0           2015.0  \n",
       "1    5953.0  passed            28.0              12.0           2015.0  "
      ]
     },
     "execution_count": 420,
     "metadata": {},
     "output_type": "execute_result"
    }
   ],
   "source": [
    "builds = pd.read_csv(f\"{csv_folder}/builds_cleaned.csv\", index_col=0)\n",
    "builds.head(2)"
   ]
  },
  {
   "cell_type": "code",
   "execution_count": 421,
   "metadata": {},
   "outputs": [
    {
     "data": {
      "text/plain": [
       "(136983, 13)"
      ]
     },
     "execution_count": 421,
     "metadata": {},
     "output_type": "execute_result"
    }
   ],
   "source": [
    "jobs = pd.read_csv(f\"{csv_folder}/allJobs.csv\", index_col=0)\n",
    "for datefield in [\"started_at\",\"created_at\",\"finished_at\",\"updated_at\"]:\n",
    "    jobs[f\"{datefield}\"] = pd.to_datetime(jobs[f\"{datefield}\"])\n",
    "jobs.shape"
   ]
  },
  {
   "cell_type": "markdown",
   "metadata": {},
   "source": [
    "### Import tag comparison pairs"
   ]
  },
  {
   "cell_type": "code",
   "execution_count": 422,
   "metadata": {
    "scrolled": true
   },
   "outputs": [
    {
     "data": {
      "text/html": [
       "<div>\n",
       "<style scoped>\n",
       "    .dataframe tbody tr th:only-of-type {\n",
       "        vertical-align: middle;\n",
       "    }\n",
       "\n",
       "    .dataframe tbody tr th {\n",
       "        vertical-align: top;\n",
       "    }\n",
       "\n",
       "    .dataframe thead th {\n",
       "        text-align: right;\n",
       "    }\n",
       "</style>\n",
       "<table border=\"1\" class=\"dataframe\">\n",
       "  <thead>\n",
       "    <tr style=\"text-align: right;\">\n",
       "      <th></th>\n",
       "      <th>from_tag</th>\n",
       "      <th>to_tag</th>\n",
       "    </tr>\n",
       "  </thead>\n",
       "  <tbody>\n",
       "    <tr>\n",
       "      <th>3</th>\n",
       "      <td>5.1.2</td>\n",
       "      <td>5.2</td>\n",
       "    </tr>\n",
       "    <tr>\n",
       "      <th>4</th>\n",
       "      <td>5.2</td>\n",
       "      <td>5.3</td>\n",
       "    </tr>\n",
       "    <tr>\n",
       "      <th>5</th>\n",
       "      <td>5.3</td>\n",
       "      <td>5.4</td>\n",
       "    </tr>\n",
       "    <tr>\n",
       "      <th>6</th>\n",
       "      <td>5.4</td>\n",
       "      <td>5.5</td>\n",
       "    </tr>\n",
       "    <tr>\n",
       "      <th>7</th>\n",
       "      <td>5.5</td>\n",
       "      <td>5.6</td>\n",
       "    </tr>\n",
       "    <tr>\n",
       "      <th>8</th>\n",
       "      <td>5.6</td>\n",
       "      <td>5.6.1</td>\n",
       "    </tr>\n",
       "    <tr>\n",
       "      <th>9</th>\n",
       "      <td>5.6.1</td>\n",
       "      <td>5.6.2</td>\n",
       "    </tr>\n",
       "    <tr>\n",
       "      <th>10</th>\n",
       "      <td>5.6.1</td>\n",
       "      <td>6.0</td>\n",
       "    </tr>\n",
       "    <tr>\n",
       "      <th>11</th>\n",
       "      <td>5.6.2</td>\n",
       "      <td>5.6.3</td>\n",
       "    </tr>\n",
       "    <tr>\n",
       "      <th>12</th>\n",
       "      <td>5.6.3</td>\n",
       "      <td>5.6.4</td>\n",
       "    </tr>\n",
       "    <tr>\n",
       "      <th>13</th>\n",
       "      <td>5.6.4</td>\n",
       "      <td>5.6.5</td>\n",
       "    </tr>\n",
       "    <tr>\n",
       "      <th>14</th>\n",
       "      <td>5.6.5</td>\n",
       "      <td>5.6.6</td>\n",
       "    </tr>\n",
       "    <tr>\n",
       "      <th>15</th>\n",
       "      <td>5.6.6</td>\n",
       "      <td>5.6.7</td>\n",
       "    </tr>\n",
       "    <tr>\n",
       "      <th>16</th>\n",
       "      <td>6.0</td>\n",
       "      <td>6.1</td>\n",
       "    </tr>\n",
       "    <tr>\n",
       "      <th>17</th>\n",
       "      <td>6.1</td>\n",
       "      <td>6.1.1</td>\n",
       "    </tr>\n",
       "    <tr>\n",
       "      <th>18</th>\n",
       "      <td>6.1.1</td>\n",
       "      <td>6.2</td>\n",
       "    </tr>\n",
       "    <tr>\n",
       "      <th>19</th>\n",
       "      <td>6.2</td>\n",
       "      <td>6.3</td>\n",
       "    </tr>\n",
       "    <tr>\n",
       "      <th>20</th>\n",
       "      <td>6.3</td>\n",
       "      <td>6.3.1</td>\n",
       "    </tr>\n",
       "    <tr>\n",
       "      <th>21</th>\n",
       "      <td>6.3.1</td>\n",
       "      <td>6.3.2</td>\n",
       "    </tr>\n",
       "    <tr>\n",
       "      <th>22</th>\n",
       "      <td>6.3.2</td>\n",
       "      <td>6.4</td>\n",
       "    </tr>\n",
       "    <tr>\n",
       "      <th>23</th>\n",
       "      <td>6.4</td>\n",
       "      <td>6.5</td>\n",
       "    </tr>\n",
       "    <tr>\n",
       "      <th>24</th>\n",
       "      <td>6.5</td>\n",
       "      <td>6.6</td>\n",
       "    </tr>\n",
       "    <tr>\n",
       "      <th>25</th>\n",
       "      <td>6.6</td>\n",
       "      <td>6.7</td>\n",
       "    </tr>\n",
       "    <tr>\n",
       "      <th>26</th>\n",
       "      <td>6.7</td>\n",
       "      <td>6.7.1</td>\n",
       "    </tr>\n",
       "    <tr>\n",
       "      <th>27</th>\n",
       "      <td>6.7.1</td>\n",
       "      <td>6.7.2</td>\n",
       "    </tr>\n",
       "    <tr>\n",
       "      <th>28</th>\n",
       "      <td>6.7.1</td>\n",
       "      <td>7.0</td>\n",
       "    </tr>\n",
       "    <tr>\n",
       "      <th>29</th>\n",
       "      <td>6.7.2</td>\n",
       "      <td>6.7.3</td>\n",
       "    </tr>\n",
       "    <tr>\n",
       "      <th>30</th>\n",
       "      <td>6.7.3</td>\n",
       "      <td>6.7.4</td>\n",
       "    </tr>\n",
       "    <tr>\n",
       "      <th>31</th>\n",
       "      <td>6.7.4</td>\n",
       "      <td>6.7.5</td>\n",
       "    </tr>\n",
       "    <tr>\n",
       "      <th>32</th>\n",
       "      <td>6.7.5</td>\n",
       "      <td>6.7.6</td>\n",
       "    </tr>\n",
       "    <tr>\n",
       "      <th>33</th>\n",
       "      <td>6.7.6</td>\n",
       "      <td>6.7.7</td>\n",
       "    </tr>\n",
       "    <tr>\n",
       "      <th>34</th>\n",
       "      <td>7.0</td>\n",
       "      <td>7.1</td>\n",
       "    </tr>\n",
       "    <tr>\n",
       "      <th>35</th>\n",
       "      <td>7.1</td>\n",
       "      <td>7.2</td>\n",
       "    </tr>\n",
       "    <tr>\n",
       "      <th>36</th>\n",
       "      <td>7.2</td>\n",
       "      <td>7.3</td>\n",
       "    </tr>\n",
       "    <tr>\n",
       "      <th>37</th>\n",
       "      <td>7.3</td>\n",
       "      <td>7.4</td>\n",
       "    </tr>\n",
       "    <tr>\n",
       "      <th>38</th>\n",
       "      <td>7.4</td>\n",
       "      <td>7.5</td>\n",
       "    </tr>\n",
       "    <tr>\n",
       "      <th>39</th>\n",
       "      <td>7.5</td>\n",
       "      <td>7.6</td>\n",
       "    </tr>\n",
       "    <tr>\n",
       "      <th>40</th>\n",
       "      <td>7.6</td>\n",
       "      <td>7.7</td>\n",
       "    </tr>\n",
       "    <tr>\n",
       "      <th>41</th>\n",
       "      <td>7.7</td>\n",
       "      <td>7.8</td>\n",
       "    </tr>\n",
       "    <tr>\n",
       "      <th>42</th>\n",
       "      <td>7.8</td>\n",
       "      <td>7.9</td>\n",
       "    </tr>\n",
       "    <tr>\n",
       "      <th>43</th>\n",
       "      <td>7.9</td>\n",
       "      <td>7.9.1</td>\n",
       "    </tr>\n",
       "    <tr>\n",
       "      <th>44</th>\n",
       "      <td>7.9</td>\n",
       "      <td>8.0</td>\n",
       "    </tr>\n",
       "    <tr>\n",
       "      <th>45</th>\n",
       "      <td>7.9.1</td>\n",
       "      <td>7.9.3</td>\n",
       "    </tr>\n",
       "    <tr>\n",
       "      <th>46</th>\n",
       "      <td>7.9.3</td>\n",
       "      <td>7.9.4</td>\n",
       "    </tr>\n",
       "    <tr>\n",
       "      <th>47</th>\n",
       "      <td>8.0</td>\n",
       "      <td>8.1</td>\n",
       "    </tr>\n",
       "    <tr>\n",
       "      <th>48</th>\n",
       "      <td>8.1</td>\n",
       "      <td>8.2</td>\n",
       "    </tr>\n",
       "    <tr>\n",
       "      <th>49</th>\n",
       "      <td>8.2</td>\n",
       "      <td>8.3</td>\n",
       "    </tr>\n",
       "    <tr>\n",
       "      <th>50</th>\n",
       "      <td>8.3</td>\n",
       "      <td>8.3.1</td>\n",
       "    </tr>\n",
       "    <tr>\n",
       "      <th>51</th>\n",
       "      <td>8.3</td>\n",
       "      <td>8.4</td>\n",
       "    </tr>\n",
       "    <tr>\n",
       "      <th>52</th>\n",
       "      <td>8.4</td>\n",
       "      <td>8.4.1</td>\n",
       "    </tr>\n",
       "    <tr>\n",
       "      <th>53</th>\n",
       "      <td>8.4.1</td>\n",
       "      <td>8.4.2</td>\n",
       "    </tr>\n",
       "  </tbody>\n",
       "</table>\n",
       "</div>"
      ],
      "text/plain": [
       "   from_tag to_tag\n",
       "3     5.1.2    5.2\n",
       "4       5.2    5.3\n",
       "5       5.3    5.4\n",
       "6       5.4    5.5\n",
       "7       5.5    5.6\n",
       "8       5.6  5.6.1\n",
       "9     5.6.1  5.6.2\n",
       "10    5.6.1    6.0\n",
       "11    5.6.2  5.6.3\n",
       "12    5.6.3  5.6.4\n",
       "13    5.6.4  5.6.5\n",
       "14    5.6.5  5.6.6\n",
       "15    5.6.6  5.6.7\n",
       "16      6.0    6.1\n",
       "17      6.1  6.1.1\n",
       "18    6.1.1    6.2\n",
       "19      6.2    6.3\n",
       "20      6.3  6.3.1\n",
       "21    6.3.1  6.3.2\n",
       "22    6.3.2    6.4\n",
       "23      6.4    6.5\n",
       "24      6.5    6.6\n",
       "25      6.6    6.7\n",
       "26      6.7  6.7.1\n",
       "27    6.7.1  6.7.2\n",
       "28    6.7.1    7.0\n",
       "29    6.7.2  6.7.3\n",
       "30    6.7.3  6.7.4\n",
       "31    6.7.4  6.7.5\n",
       "32    6.7.5  6.7.6\n",
       "33    6.7.6  6.7.7\n",
       "34      7.0    7.1\n",
       "35      7.1    7.2\n",
       "36      7.2    7.3\n",
       "37      7.3    7.4\n",
       "38      7.4    7.5\n",
       "39      7.5    7.6\n",
       "40      7.6    7.7\n",
       "41      7.7    7.8\n",
       "42      7.8    7.9\n",
       "43      7.9  7.9.1\n",
       "44      7.9    8.0\n",
       "45    7.9.1  7.9.3\n",
       "46    7.9.3  7.9.4\n",
       "47      8.0    8.1\n",
       "48      8.1    8.2\n",
       "49      8.2    8.3\n",
       "50      8.3  8.3.1\n",
       "51      8.3    8.4\n",
       "52      8.4  8.4.1\n",
       "53    8.4.1  8.4.2"
      ]
     },
     "execution_count": 422,
     "metadata": {},
     "output_type": "execute_result"
    }
   ],
   "source": [
    "tags_comparison = pd.read_csv(f\"{csv_folder}/tags_comparison_final_updated_no_rc_and_milestones.csv\", index_col=0)\n",
    "tags_comparison.from_commit_date = pd.to_datetime(tags_comparison.from_commit_date)\n",
    "tags_comparison.to_commit_date = pd.to_datetime(tags_comparison.to_commit_date)\n",
    "tags_comparison.from_author_date = pd.to_datetime(tags_comparison.from_author_date)\n",
    "tags_comparison.to_author_date = pd.to_datetime(tags_comparison.to_author_date)\n",
    "tags_comparison = tags_comparison[3:]\n",
    "tags_comparison[[\"from_tag\", \"to_tag\"]]"
   ]
  },
  {
   "cell_type": "markdown",
   "metadata": {},
   "source": [
    "## Import release commits"
   ]
  },
  {
   "cell_type": "code",
   "execution_count": 423,
   "metadata": {},
   "outputs": [],
   "source": [
    "def replace_tags_with_jira(df):\n",
    "    df = df.merge(tags[[\"Tag\",\"jira_version\"]], left_on=\"to_tag\", right_on=\"Tag\")\\\n",
    "    .drop(columns=[\"to_tag\", \"Tag\"]).rename(columns={\"jira_version\":\"to_tag\"})\n",
    "    df = df.merge(tags[[\"Tag\",\"jira_version\"]], left_on=\"from_tag\", right_on=\"Tag\")\\\n",
    "    .drop(columns=[\"from_tag\", \"Tag\"]).rename(columns={\"jira_version\":\"from_tag\"})\n",
    "    return df"
   ]
  },
  {
   "cell_type": "markdown",
   "metadata": {},
   "source": [
    "### Load jobs for releases"
   ]
  },
  {
   "cell_type": "code",
   "execution_count": 434,
   "metadata": {},
   "outputs": [],
   "source": [
    "jobs_from_direct = pd.read_csv(f\"{csv_folder}/jobs_per_releases/jobs_from_direct.csv\", index_col=0)"
   ]
  },
  {
   "cell_type": "code",
   "execution_count": 435,
   "metadata": {},
   "outputs": [],
   "source": [
    "jobs_from_direct_prs = pd.read_csv(f\"{csv_folder}/jobs_per_releases/jobs_from_direct_prs.csv\", index_col=0)"
   ]
  },
  {
   "cell_type": "code",
   "execution_count": 436,
   "metadata": {},
   "outputs": [],
   "source": [
    "jobs_head_ref_before_pr = pd.read_csv(f\"{csv_folder}/jobs_per_releases/jobs_head_ref_before_pr.csv\", index_col=0)"
   ]
  },
  {
   "cell_type": "code",
   "execution_count": 437,
   "metadata": {},
   "outputs": [],
   "source": [
    "jobs_iterative_approach = pd.read_csv(f\"{csv_folder}/jobs_per_releases/jobs_iterative_approach.csv\", index_col=0)"
   ]
  },
  {
   "cell_type": "code",
   "execution_count": 438,
   "metadata": {},
   "outputs": [],
   "source": [
    "jobs_iterative_cherry_rebase =  pd.read_csv(f\"{csv_folder}/jobs_per_releases/jobs_iterative_cherry_rebase.csv\", index_col=0)"
   ]
  },
  {
   "cell_type": "markdown",
   "metadata": {},
   "source": [
    "### Uniform types"
   ]
  },
  {
   "cell_type": "code",
   "execution_count": 439,
   "metadata": {},
   "outputs": [],
   "source": [
    "for df in [jobs_from_direct, jobs_from_direct_prs, jobs_head_ref_before_pr,\\\n",
    "          jobs_iterative_approach, jobs_iterative_cherry_rebase, tags_comparison]:\n",
    "    df.to_tag = df.to_tag.astype(str)\n",
    "    df.from_tag = df.from_tag.astype(str)"
   ]
  },
  {
   "cell_type": "markdown",
   "metadata": {},
   "source": [
    "### Method 1"
   ]
  },
  {
   "cell_type": "code",
   "execution_count": 440,
   "metadata": {},
   "outputs": [],
   "source": [
    "method1 = jobs_from_direct_prs.append(jobs_from_direct)\n",
    "method1 = method1.drop_duplicates(ignore_index=True)"
   ]
  },
  {
   "cell_type": "code",
   "execution_count": 441,
   "metadata": {},
   "outputs": [
    {
     "data": {
      "text/plain": [
       "(61586, 3)"
      ]
     },
     "execution_count": 441,
     "metadata": {},
     "output_type": "execute_result"
    }
   ],
   "source": [
    "method1.shape"
   ]
  },
  {
   "cell_type": "code",
   "execution_count": 442,
   "metadata": {},
   "outputs": [
    {
     "data": {
      "text/plain": [
       "<AxesSubplot:xlabel='to_tag'>"
      ]
     },
     "execution_count": 442,
     "metadata": {},
     "output_type": "execute_result"
    },
    {
     "data": {
      "image/png": "[encoded data removed]",
      "text/plain": [
       "<Figure size 1008x360 with 1 Axes>"
      ]
     },
     "metadata": {
      "needs_background": "light"
     },
     "output_type": "display_data"
    }
   ],
   "source": [
    "method1.groupby(\"to_tag\").job_id.count().plot(kind=\"bar\")"
   ]
  },
  {
   "cell_type": "markdown",
   "metadata": {},
   "source": [
    "### Method 2"
   ]
  },
  {
   "cell_type": "code",
   "execution_count": 443,
   "metadata": {},
   "outputs": [
    {
     "data": {
      "text/plain": [
       "(210338, 3)"
      ]
     },
     "execution_count": 443,
     "metadata": {},
     "output_type": "execute_result"
    }
   ],
   "source": [
    "method2 = jobs_iterative_cherry_rebase\n",
    "method2.shape"
   ]
  },
  {
   "cell_type": "code",
   "execution_count": 444,
   "metadata": {},
   "outputs": [
    {
     "data": {
      "text/plain": [
       "<AxesSubplot:xlabel='to_tag'>"
      ]
     },
     "execution_count": 444,
     "metadata": {},
     "output_type": "execute_result"
    },
    {
     "data": {
      "image/png": "[encoded data removed]",
      "text/plain": [
       "<Figure size 1008x360 with 1 Axes>"
      ]
     },
     "metadata": {
      "needs_background": "light"
     },
     "output_type": "display_data"
    }
   ],
   "source": [
    "method2.groupby(\"to_tag\").job_id.count().plot(kind=\"bar\")"
   ]
  },
  {
   "cell_type": "code",
   "execution_count": 445,
   "metadata": {},
   "outputs": [
    {
     "data": {
      "text/plain": [
       "<AxesSubplot:xlabel='to_tag'>"
      ]
     },
     "execution_count": 445,
     "metadata": {},
     "output_type": "execute_result"
    },
    {
     "data": {
      "image/png": "[encoded data removed]",
      "text/plain": [
       "<Figure size 1008x360 with 1 Axes>"
      ]
     },
     "metadata": {
      "needs_background": "light"
     },
     "output_type": "display_data"
    }
   ],
   "source": [
    "df_methods = method3.groupby(\"to_tag\").job_id.count().reset_index()\n",
    "df_methods[\"method1\"] = method1.groupby(\"to_tag\").job_id.count().values\n",
    "df_methods[\"method2\"] = method2.groupby(\"to_tag\").job_id.count().values\n",
    "df_methods.set_index(\"to_tag\")[[\"method1\", \"method2\"]].plot(kind=\"bar\", logy=True)"
   ]
  },
  {
   "cell_type": "markdown",
   "metadata": {},
   "source": [
    "# Start"
   ]
  },
  {
   "cell_type": "code",
   "execution_count": 446,
   "metadata": {},
   "outputs": [],
   "source": [
    "def get_builds_from_commits(_commits):\n",
    "    _build_ids = jobs[jobs.commitsha.isin(_commits)].buildid\n",
    "    return builds[(builds.id.isin(_build_ids))]\n",
    "\n",
    "def get_builds_from_jobs_ids(_release_jobs_ids):\n",
    "    _build_ids = jobs[jobs.id.isin(_release_jobs_ids)].buildid\n",
    "    return builds[(builds.id.isin(_build_ids))]\n",
    "\n",
    "def get_builds_from_ids(_builds, _build_ids):\n",
    "    return _builds[(_builds.id.isin(_build_ids))]\n",
    "\n",
    "def get_job_ids_from_comparison_row(row, _jobs):\n",
    "    _x = _jobs\n",
    "    return _x[(_x.from_tag == row.from_tag) & (_x.to_tag == row.to_tag)].job_id\n",
    "\n",
    "def get_commits_from_comparison_row(row, commitsDf):\n",
    "    _x = commitsDf\n",
    "    return _x[(_x.from_tag == row.from_tag) & (_x.to_tag == row.to_tag)].commitsha"
   ]
  },
  {
   "cell_type": "markdown",
   "metadata": {},
   "source": [
    "### Prepare 3 dataframes for the 3 commits methodologies"
   ]
  },
  {
   "cell_type": "code",
   "execution_count": 447,
   "metadata": {},
   "outputs": [],
   "source": [
    "tc_direct_prs = tags_comparison.copy()\n",
    "tc_iterative_cherry_rebase = tags_comparison.copy()"
   ]
  },
  {
   "cell_type": "code",
   "execution_count": 448,
   "metadata": {},
   "outputs": [],
   "source": [
    "df_jobs = [(tc_direct_prs, method1, \"direct_and_pr\"),\n",
    "(tc_iterative_cherry_rebase, method2, \"iterative_pr_head_ref_cherry_picked\")]"
   ]
  },
  {
   "cell_type": "markdown",
   "metadata": {},
   "source": [
    "**Test**"
   ]
  },
  {
   "cell_type": "code",
   "execution_count": 449,
   "metadata": {},
   "outputs": [
    {
     "data": {
      "text/plain": [
       "0        64092090\n",
       "1        64092619\n",
       "2        64094999\n",
       "3        64095045\n",
       "4        64095411\n",
       "           ...   \n",
       "21074    69417321\n",
       "21075    69417322\n",
       "21076    69417323\n",
       "21077    69417324\n",
       "21078    69417325\n",
       "Name: job_id, Length: 21079, dtype: int64"
      ]
     },
     "execution_count": 449,
     "metadata": {},
     "output_type": "execute_result"
    }
   ],
   "source": [
    "_x =jobs_iterative_approach\n",
    "_x[(_x.from_tag == \"5.1.2\") & (_x.to_tag == \"5.2\")].job_id"
   ]
  },
  {
   "cell_type": "markdown",
   "metadata": {},
   "source": [
    "### Builds metrics"
   ]
  },
  {
   "cell_type": "markdown",
   "metadata": {},
   "source": [
    "**Percentage of builds per state**"
   ]
  },
  {
   "cell_type": "code",
   "execution_count": 450,
   "metadata": {},
   "outputs": [],
   "source": [
    "def calculate_percentage_state_builds(row, release_jobs, state):\n",
    "    _x = release_jobs\n",
    "    _jobs_ids = _x[(_x.from_tag == row.from_tag) & (_x.to_tag == row.to_tag)].job_id\n",
    "    _all_builds = get_builds_from_jobs_ids(_jobs_ids)\n",
    "    _builds = _all_builds[(_all_builds.state.isin(state))]\n",
    "    if(len(_all_builds)==0):\n",
    "        return 0\n",
    "    return len(_builds)/len(_all_builds)"
   ]
  },
  {
   "cell_type": "code",
   "execution_count": 451,
   "metadata": {},
   "outputs": [],
   "source": [
    "for state in [\"passed\", \"canceled\", \"failed\", \"errored\"]:\n",
    "    for df, release_jobs, method in df_jobs:\n",
    "        df[f\"ratio_{state}_builds\"] = \\\n",
    "        df.apply(calculate_percentage_state_builds, args=(release_jobs, [state]), axis=1)"
   ]
  },
  {
   "cell_type": "code",
   "execution_count": 452,
   "metadata": {},
   "outputs": [
    {
     "data": {
      "text/plain": [
       "<Figure size 1008x360 with 0 Axes>"
      ]
     },
     "metadata": {},
     "output_type": "display_data"
    },
    {
     "data": {
      "image/png": "[encoded data removed]",
      "text/plain": [
       "<Figure size 1008x504 with 2 Axes>"
      ]
     },
     "metadata": {
      "needs_background": "light"
     },
     "output_type": "display_data"
    }
   ],
   "source": [
    "plt.figure()\n",
    "fig, axes = plt.subplots(nrows=len(df_jobs), ncols=1, sharex=True, figsize=(14.0, 7.0))\n",
    "for i, df_job in enumerate(df_jobs):\n",
    "    cols = []\n",
    "    for state in [\"passed\", \"canceled\", \"failed\", \"errored\"]:\n",
    "        cols.append(f\"ratio_{state}_builds\")\n",
    "    ax = df_job[0].set_index(\"to_tag\")[cols].plot(ax=axes[i], kind=\"bar\", color=[\"tab:green\",\"tab:orange\", \"tab:red\", \"tab:blue\"])\n",
    "    ax.set_title(df_job[2])\n",
    "plt.savefig(f\"{figure_folder}/ci-metrics/percentage_state_builds.png\", transparent=True, bbox_inches='tight', pad_inches=0.2)\n",
    "plt.show()"
   ]
  },
  {
   "cell_type": "markdown",
   "metadata": {},
   "source": [
    "**Number of builds per pull request**"
   ]
  },
  {
   "cell_type": "code",
   "execution_count": 453,
   "metadata": {},
   "outputs": [],
   "source": [
    "def calculate_percentage_pr_builds(row, release_jobs):\n",
    "    _x = release_jobs\n",
    "    _jobs_ids = _x[(_x.from_tag == row.from_tag) & (_x.to_tag == row.to_tag)].job_id\n",
    "    _all_builds = get_builds_from_jobs_ids(_jobs_ids)\n",
    "    _builds = _all_builds[(_all_builds.event_type == \"pull_request\")]\n",
    "    return len(_builds)/len(_all_builds)"
   ]
  },
  {
   "cell_type": "code",
   "execution_count": 454,
   "metadata": {},
   "outputs": [],
   "source": [
    "for df, release_jobs, method in df_jobs:\n",
    "    df[f\"ratio_pr_builds\"] = \\\n",
    "    df.apply(calculate_percentage_pr_builds, args=(release_jobs,), axis=1)"
   ]
  },
  {
   "cell_type": "code",
   "execution_count": 455,
   "metadata": {},
   "outputs": [
    {
     "data": {
      "image/png": "[encoded data removed]",
      "text/plain": [
       "<Figure size 1008x504 with 2 Axes>"
      ]
     },
     "metadata": {
      "needs_background": "light"
     },
     "output_type": "display_data"
    }
   ],
   "source": [
    "fig, axes = plt.subplots(nrows=len(df_jobs), ncols=1, sharex=True, sharey=True, figsize=(14.0, 7.0))\n",
    "for i, df_job in enumerate(df_jobs):\n",
    "    ax = sns.barplot(x=df_job[0].set_index(\"to_tag\")[\"ratio_pr_builds\"].index, \\\n",
    "                y=df_job[0][\"ratio_pr_builds\"].values, ax=axes[i])\n",
    "    ax.set_xticklabels(ax.get_xticklabels(),rotation=90)\n",
    "    ax.set_title(df_job[2])\n",
    "    if(i < len(df_jobs) - 1):\n",
    "        ax.get_xaxis().set_visible(False)"
   ]
  },
  {
   "cell_type": "markdown",
   "metadata": {},
   "source": [
    "* 0% pull request builds may indicate mostly bug fixing done directly on the version branch. \n",
    "Indeed all the pairs with 0% do not represent major version upgrades"
   ]
  },
  {
   "cell_type": "markdown",
   "metadata": {},
   "source": [
    "**Build duration for passed builds**"
   ]
  },
  {
   "cell_type": "code",
   "execution_count": 456,
   "metadata": {},
   "outputs": [],
   "source": [
    "### Mean or median of duration for jobs not from canceled or errored builds\n",
    "def calculate_aggregator_build_duration(row, release_jobs, aggregator, state=None):\n",
    "    _x = release_jobs\n",
    "    _jobs_ids = _x[(_x.from_tag == row.from_tag) & (_x.to_tag == row.to_tag)].job_id\n",
    "    _all_builds = get_builds_from_jobs_ids(_jobs_ids)\n",
    "    if(not state):\n",
    "        _series = _all_builds.duration\n",
    "    else:\n",
    "        _series = _all_builds[_all_builds.state.isin(state)].duration\n",
    "    res = getattr(_series, aggregator)()\n",
    "    return res"
   ]
  },
  {
   "cell_type": "code",
   "execution_count": 457,
   "metadata": {},
   "outputs": [],
   "source": [
    "for agg in [\"mean\", \"median\", \"max\", \"min\"]:\n",
    "    for df, release_jobs, method in df_jobs:\n",
    "        df[f\"{agg}_all_build_duration\"] = \\\n",
    "        df.apply(calculate_aggregator_build_duration, args=(release_jobs,agg), axis=1)\n",
    "        \n",
    "for agg in [\"mean\", \"median\", \"max\", \"min\"]:\n",
    "    for df, release_jobs, method in df_jobs:\n",
    "        df[f\"{agg}_failed_build_duration\"] = \\\n",
    "        df.apply(calculate_aggregator_build_duration, args=(release_jobs,agg, [\"failed\"]), axis=1)\n",
    "\n",
    "for agg in [\"mean\", \"median\", \"max\", \"min\"]:\n",
    "    for df, release_jobs, method in df_jobs:\n",
    "        df[f\"{agg}_passed_build_duration\"] = \\\n",
    "        df.apply(calculate_aggregator_build_duration, args=(release_jobs,agg, [\"passed\"]), axis=1)"
   ]
  },
  {
   "cell_type": "code",
   "execution_count": 458,
   "metadata": {},
   "outputs": [
    {
     "data": {
      "image/png": "[encoded data removed]",
      "text/plain": [
       "<Figure size 1008x504 with 2 Axes>"
      ]
     },
     "metadata": {
      "needs_background": "light"
     },
     "output_type": "display_data"
    }
   ],
   "source": [
    "fig, axes = plt.subplots(nrows=len(df_jobs), ncols=1, sharex=True, sharey=True, figsize=(14.0, 7.0))\n",
    "for i, df_job in enumerate(df_jobs):\n",
    "    df_job[0].set_index(\"to_tag\").\\\n",
    "        median_failed_build_duration.plot(kind=\"bar\", ax=axes[i], color=[\"tab:blue\"])\n",
    "    ax.set_xticklabels(ax.get_xticklabels(),rotation=90)\n",
    "    ax.set_title(df_job[2])\n",
    "    if(i < len(df_jobs) - 1):\n",
    "        ax.get_xaxis().set_visible(False)"
   ]
  },
  {
   "cell_type": "markdown",
   "metadata": {},
   "source": [
    "**Number of builds per pull request**"
   ]
  },
  {
   "cell_type": "code",
   "execution_count": 459,
   "metadata": {},
   "outputs": [],
   "source": [
    "### Mean or median of number of jobs per pull request\n",
    "def calculate_aggregator_n_builds_per_pull_request(row, release_jobs, aggregator):\n",
    "    _x = release_jobs\n",
    "    _jobs_ids = _x[(_x.from_tag == row.from_tag) & (_x.to_tag == row.to_tag)].job_id\n",
    "    _jobs = jobs[jobs.id.isin(_jobs_ids)]\n",
    "    _series = _jobs.groupby(\"commitref\").buildid.nunique()\n",
    "    res = getattr(_series, aggregator)()\n",
    "    return res if not np.isnan(res) else 0"
   ]
  },
  {
   "cell_type": "code",
   "execution_count": 460,
   "metadata": {},
   "outputs": [],
   "source": [
    "for agg in [\"mean\", \"median\", \"max\", \"min\"]:\n",
    "    for df, release_jobs, method in df_jobs:\n",
    "        df[f\"{agg}_n_builds_per_pull_request\"] = \\\n",
    "        df.apply(calculate_aggregator_n_builds_per_pull_request, args=(release_jobs,agg), axis=1)"
   ]
  },
  {
   "cell_type": "code",
   "execution_count": 461,
   "metadata": {},
   "outputs": [
    {
     "data": {
      "image/png": "[encoded data removed]",
      "text/plain": [
       "<Figure size 1008x504 with 2 Axes>"
      ]
     },
     "metadata": {
      "needs_background": "light"
     },
     "output_type": "display_data"
    }
   ],
   "source": [
    "fig, axes = plt.subplots(nrows=len(df_jobs), ncols=1, sharex=True, sharey=True, figsize=(14.0, 7.0))\n",
    "for i, df_job in enumerate(df_jobs):\n",
    "    df_job[0].set_index(\"to_tag\").\\\n",
    "        mean_n_builds_per_pull_request.plot(kind=\"bar\", ax=axes[i], color=[\"tab:blue\"])\n",
    "    ax.set_xticklabels(ax.get_xticklabels(),rotation=90)\n",
    "    ax.set_title(df_job[2])\n",
    "    if(i < len(df_jobs) - 1):\n",
    "        ax.get_xaxis().set_visible(False)"
   ]
  },
  {
   "cell_type": "code",
   "execution_count": 462,
   "metadata": {},
   "outputs": [
    {
     "name": "stderr",
     "output_type": "stream",
     "text": [
      "<ipython-input-462-cd09b00dd578>:7: SettingWithCopyWarning: \n",
      "A value is trying to be set on a copy of a slice from a DataFrame.\n",
      "Try using .loc[row_indexer,col_indexer] = value instead\n",
      "\n",
      "See the caveats in the documentation: https://pandas.pydata.org/pandas-docs/stable/user_guide/indexing.html#returning-a-view-versus-a-copy\n",
      "  tmp_df[method] = df[columns]\n",
      "<ipython-input-462-cd09b00dd578>:7: SettingWithCopyWarning: \n",
      "A value is trying to be set on a copy of a slice from a DataFrame.\n",
      "Try using .loc[row_indexer,col_indexer] = value instead\n",
      "\n",
      "See the caveats in the documentation: https://pandas.pydata.org/pandas-docs/stable/user_guide/indexing.html#returning-a-view-versus-a-copy\n",
      "  tmp_df[method] = df[columns]\n",
      "<ipython-input-462-cd09b00dd578>:7: SettingWithCopyWarning: \n",
      "A value is trying to be set on a copy of a slice from a DataFrame.\n",
      "Try using .loc[row_indexer,col_indexer] = value instead\n",
      "\n",
      "See the caveats in the documentation: https://pandas.pydata.org/pandas-docs/stable/user_guide/indexing.html#returning-a-view-versus-a-copy\n",
      "  tmp_df[method] = df[columns]\n",
      "<ipython-input-462-cd09b00dd578>:7: SettingWithCopyWarning: \n",
      "A value is trying to be set on a copy of a slice from a DataFrame.\n",
      "Try using .loc[row_indexer,col_indexer] = value instead\n",
      "\n",
      "See the caveats in the documentation: https://pandas.pydata.org/pandas-docs/stable/user_guide/indexing.html#returning-a-view-versus-a-copy\n",
      "  tmp_df[method] = df[columns]\n"
     ]
    },
    {
     "data": {
      "image/png": "[encoded data removed]",
      "text/plain": [
       "<Figure size 1224x360 with 4 Axes>"
      ]
     },
     "metadata": {
      "needs_background": "light"
     },
     "output_type": "display_data"
    }
   ],
   "source": [
    "aggregators = [\"mean\", \"median\", \"max\", \"min\"]\n",
    "fig, axes = plt.subplots(nrows=1, ncols=len(aggregators), sharex=True, figsize=(17.0, 5.0))\n",
    "for i, agg in enumerate(aggregators):\n",
    "    tmp_df = tags_comparison[[\"to_tag\"]]\n",
    "    columns = f\"{agg}_n_builds_per_pull_request\"\n",
    "    for df, release_jobs, method in df_jobs:\n",
    "        tmp_df[method] = df[columns]\n",
    "    ax = sns.boxplot(data=tmp_df, ax=axes[i])\n",
    "    ax.set_title(columns)\n",
    "    ax.set_xticklabels(ax.get_xticklabels(),rotation=90)"
   ]
  },
  {
   "cell_type": "markdown",
   "metadata": {},
   "source": [
    "**Number of builds per commitmessage**"
   ]
  },
  {
   "cell_type": "markdown",
   "metadata": {},
   "source": [
    "### number of builds per pull request\n",
    "def calculate_aggregator_n_builds_per_commitmessage(row, commitsDf, aggregator):\n",
    "    _x = commitsDf\n",
    "    _commits = _x[(_x.from_tag == row.from_tag) & (_x.to_tag == row.to_tag)].commitsha\n",
    "    _jobs = jobs[jobs.commitsha.isin(_commits)]\n",
    "    _series = _jobs.groupby(\"commitmessage\").buildid.nunique()\n",
    "    res = getattr(_series, aggregator)()\n",
    "    return res if not np.isnan(res) else 0\n",
    "    \n",
    "def calculate_aggregator_n_builds_per_commitmessage_per_commit_pr(row, aggregator):\n",
    "    return calculate_aggregator_n_builds_per_commitmessage(row, tags_iterative_pr_commits, aggregator)\n",
    "def calculate_aggregator_n_builds_per_commitmessage_per_commit_direct(row, aggregator):\n",
    "    return calculate_aggregator_n_builds_per_commitmessage(row, tags_comparison_commits, aggregator)\n",
    "def calculate_aggregator_n_builds_per_commitmessage_per_commit_fix(row, aggregator):\n",
    "    return calculate_aggregator_n_builds_per_commitmessage(row, tags_fix_commits, aggregator)\n",
    "def calculate_aggregator_n_builds_per_commitmessage_per_commit_pr_and_fix(row, aggregator):\n",
    "    _tmp = tags_iterative_pr_commits.append(tags_fix_commits)\n",
    "    return calculate_aggregator_n_builds_per_commitmessage(row, _tmp, aggregator)"
   ]
  },
  {
   "cell_type": "markdown",
   "metadata": {},
   "source": [
    "for agg in [\"mean\", \"median\", \"max\", \"min\"]:\n",
    "    tags_comparison[f\"{agg}_n_builds_per_commitmessage\"] =\\\n",
    "    tags_comparison.apply(calculate_aggregator_n_builds_per_commitmessage_per_commit_pr_and_fix,\\\n",
    "                          args=(agg,), axis=1)"
   ]
  },
  {
   "cell_type": "markdown",
   "metadata": {
    "scrolled": false
   },
   "source": [
    "tags_comparison.max_n_builds_per_commitmessage.plot(kind=\"bar\")"
   ]
  },
  {
   "cell_type": "markdown",
   "metadata": {
    "scrolled": true
   },
   "source": [
    "tags_comparison[[\"mean_n_builds_per_commitmessage\", \"median_n_builds_per_commitmessage\"]].plot(kind=\"bar\")"
   ]
  },
  {
   "cell_type": "markdown",
   "metadata": {},
   "source": [
    "### Jobs metrics"
   ]
  },
  {
   "cell_type": "markdown",
   "metadata": {},
   "source": [
    "**Average job duration**"
   ]
  },
  {
   "cell_type": "markdown",
   "metadata": {},
   "source": [
    "jobs[\"duration\"] = (jobs.finished_at - jobs.started_at) / np.timedelta64(1, \"s\")"
   ]
  },
  {
   "cell_type": "markdown",
   "metadata": {},
   "source": [
    "### Mean or median of duration for jobs not from canceled or errored builds\n",
    "def calculate_average_job_duration(row, commitsDf):\n",
    "    _build_ids = builds[builds.state.isin([\"passed\", \"failed\"])].id\n",
    "    _x = commitsDf\n",
    "    _commits = _x[(_x.from_tag == row.from_tag) & (_x.to_tag == row.to_tag)].commitsha\n",
    "    _jobs = jobs[jobs.commitsha.isin(_commits) & jobs.buildid.isin(_build_ids)]\n",
    "    return _jobs.duration.mean()\n",
    "\n",
    "def calculate_average_job_duration_pr(row):\n",
    "    return calculate_average_job_duration(row, tags_iterative_pr_commits)\n",
    "def calculate_average_job_duration_direct(row):\n",
    "    return calculate_average_job_duration(row, tags_comparison_commits)\n",
    "def calculate_average_job_duration_fix(row):\n",
    "    return calculate_average_job_duration(row, tags_fix_commits)"
   ]
  },
  {
   "cell_type": "markdown",
   "metadata": {},
   "source": [
    "tags_comparison[\"mean_job_duration_builds_passed_or_failed\"] = tags_comparison.apply(calculate_average_job_duration_pr, axis=1)"
   ]
  },
  {
   "cell_type": "markdown",
   "metadata": {},
   "source": [
    "**Average failed jobs per commit**"
   ]
  },
  {
   "cell_type": "markdown",
   "metadata": {},
   "source": [
    "### Mean or median of duration for jobs not from canceled or errored builds\n",
    "def calculate_average_failed_job_per_commit(row, commitsDf):\n",
    "    _build_ids = builds[builds.state.isin([\"passed\", \"failed\"])].id\n",
    "    _x = commitsDf\n",
    "    _commits = _x[(_x.from_tag == row.from_tag) & (_x.to_tag == row.to_tag)].commitsha\n",
    "    _jobs = jobs[jobs.commitsha.isin(_commits) & jobs.buildid.isin(_build_ids)]\n",
    "    _jobs = _jobs[_jobs.state == \"failed\"]\n",
    "    return _jobs.groupby(\"commitsha\").state.count().mean()\n",
    "\n",
    "def calculate_average_failed_job_per_commit_pr(row):\n",
    "    return calculate_average_failed_job_per_commit(row, tags_iterative_pr_commits)\n",
    "def calculate_average_failed_job_per_commit_direct(row):\n",
    "    return calculate_average_failed_job_per_commit(row, tags_comparison_commits)\n",
    "def calculate_average_failed_job_per_commit_fix(row):\n",
    "    return calculate_average_failed_job_per_commit(row, tags_fix_commits)\n",
    "def calculate_average_failed_job_per_commit_pr_and_fix(row):\n",
    "    _tmp = tags_iterative_pr_commits.append(tags_fix_commits)\n",
    "    return calculate_average_failed_job_per_commit(row, _tmp)"
   ]
  },
  {
   "cell_type": "markdown",
   "metadata": {},
   "source": [
    "tags_comparison[\"average_failed_job_per_commit\"] = tags_comparison.apply(calculate_average_failed_job_per_commit_pr, axis=1)"
   ]
  },
  {
   "cell_type": "markdown",
   "metadata": {},
   "source": [
    "sns.barplot(x=tags_comparison[\"average_failed_job_per_commit\"].index, \\\n",
    "            y=tags_comparison[\"average_failed_job_per_commit\"].values)"
   ]
  },
  {
   "cell_type": "markdown",
   "metadata": {},
   "source": [
    "**Number of jobs canceled or errored**"
   ]
  },
  {
   "cell_type": "markdown",
   "metadata": {},
   "source": [
    "### Mean or median of duration for jobs not from canceled or errored builds\n",
    "def calculate_percentage_canceled_or_errored_job(row, commitsDf):\n",
    "    _x = commitsDf\n",
    "    _commits = _x[(_x.from_tag == row.from_tag) & (_x.to_tag == row.to_tag)].commitsha\n",
    "    _jobs = jobs[jobs.commitsha.isin(_commits)]\n",
    "    return len(_jobs[_jobs.state.isin([\"canceled\", \"errored\"])]) / len(_jobs)\n",
    "\n",
    "def calculate_percentage_canceled_or_errored_job_per_commit_pr(row):\n",
    "    return calculate_percentage_canceled_or_errored_job(row, tags_iterative_pr_commits)\n",
    "def calculate_percentage_canceled_or_errored_job_per_commit_direct(row):\n",
    "    return calculate_percentage_canceled_or_errored_job(row, tags_comparison_commits)\n",
    "def calculate_percentage_canceled_or_errored_job_per_commit_fix(row):\n",
    "    return calculate_percentage_canceled_or_errored_job(row, tags_fix_commits)\n",
    "def calculate_percentage_canceled_or_errored_job_per_commit_pr_and_fix(row):\n",
    "    _tmp = tags_iterative_pr_commits.append(tags_fix_commits)\n",
    "    return calculate_percentage_canceled_or_errored_job(row, _tmp)"
   ]
  },
  {
   "cell_type": "markdown",
   "metadata": {},
   "source": [
    "tags_comparison[\"percentage_canceled_or_errored_job\"] =\\\n",
    "tags_comparison.apply(calculate_percentage_canceled_or_errored_job_per_commit_pr_and_fix, axis=1)"
   ]
  },
  {
   "cell_type": "markdown",
   "metadata": {
    "scrolled": true
   },
   "source": [
    "sns.barplot(x=tags_comparison[\"percentage_canceled_or_errored_job\"].index, \\\n",
    "            y=tags_comparison[\"percentage_canceled_or_errored_job\"].values)"
   ]
  },
  {
   "cell_type": "markdown",
   "metadata": {},
   "source": [
    "**Is commitsha and commitref identical for all jobs associated with the same buildid?**"
   ]
  },
  {
   "cell_type": "markdown",
   "metadata": {
    "scrolled": true
   },
   "source": [
    "(jobs.groupby(\"buildid\").commitsha.nunique() > 1).sum()"
   ]
  },
  {
   "cell_type": "markdown",
   "metadata": {},
   "source": [
    "(jobs.groupby(\"buildid\").commitref.nunique() > 1).sum()"
   ]
  },
  {
   "cell_type": "markdown",
   "metadata": {},
   "source": [
    "Yes, therefore we can add this info to the build df"
   ]
  },
  {
   "cell_type": "markdown",
   "metadata": {},
   "source": [
    "### Log parsing metrics"
   ]
  },
  {
   "cell_type": "code",
   "execution_count": 484,
   "metadata": {},
   "outputs": [],
   "source": [
    "log_parsed_metrics = pd.read_csv(f\"{csv_folder}/log_parsed_metrics_processed.csv\", index_col=0)"
   ]
  },
  {
   "cell_type": "code",
   "execution_count": 485,
   "metadata": {},
   "outputs": [
    {
     "data": {
      "text/html": [
       "<div>\n",
       "<style scoped>\n",
       "    .dataframe tbody tr th:only-of-type {\n",
       "        vertical-align: middle;\n",
       "    }\n",
       "\n",
       "    .dataframe tbody tr th {\n",
       "        vertical-align: top;\n",
       "    }\n",
       "\n",
       "    .dataframe thead th {\n",
       "        text-align: right;\n",
       "    }\n",
       "</style>\n",
       "<table border=\"1\" class=\"dataframe\">\n",
       "  <thead>\n",
       "    <tr style=\"text-align: right;\">\n",
       "      <th></th>\n",
       "      <th>job_id</th>\n",
       "      <th>build_target</th>\n",
       "      <th>build_tool</th>\n",
       "      <th>build_canceled_open_pr_on_branch</th>\n",
       "      <th>errors</th>\n",
       "      <th>failures</th>\n",
       "      <th>suspected_words</th>\n",
       "      <th>warnings</th>\n",
       "      <th>skipped_words</th>\n",
       "      <th>lines</th>\n",
       "      <th>words</th>\n",
       "      <th>exceptions</th>\n",
       "      <th>error_classes</th>\n",
       "      <th>tests_total</th>\n",
       "      <th>tests_passed</th>\n",
       "      <th>tests_failed</th>\n",
       "      <th>tests_skipped</th>\n",
       "      <th>failed_tasks</th>\n",
       "      <th>build_tool_str</th>\n",
       "      <th>n_exceptions</th>\n",
       "      <th>n_error_classes</th>\n",
       "      <th>n_build_tools</th>\n",
       "      <th>maven_build</th>\n",
       "      <th>gradle_build</th>\n",
       "      <th>mocha_build</th>\n",
       "      <th>jest_build</th>\n",
       "      <th>grunt_build</th>\n",
       "      <th>yarn_build</th>\n",
       "      <th>node_build</th>\n",
       "      <th>id</th>\n",
       "      <th>buildid</th>\n",
       "      <th>started_at</th>\n",
       "      <th>created_at</th>\n",
       "      <th>finished_at</th>\n",
       "      <th>number</th>\n",
       "      <th>state</th>\n",
       "      <th>updated_at</th>\n",
       "      <th>commitsha</th>\n",
       "      <th>commitid</th>\n",
       "      <th>commitmessage</th>\n",
       "      <th>commitref</th>\n",
       "      <th>commitcompare_url</th>\n",
       "      <th>year_month</th>\n",
       "      <th>errors_over_tests_total</th>\n",
       "      <th>failures_over_tests_total</th>\n",
       "      <th>skipped_over_tests_total</th>\n",
       "    </tr>\n",
       "  </thead>\n",
       "  <tbody>\n",
       "    <tr>\n",
       "      <th>0</th>\n",
       "      <td>346751001</td>\n",
       "      <td>WEB_TESTS</td>\n",
       "      <td>['yarn']</td>\n",
       "      <td>False</td>\n",
       "      <td>3.0</td>\n",
       "      <td>2.0</td>\n",
       "      <td>1.0</td>\n",
       "      <td>2.0</td>\n",
       "      <td>1.0</td>\n",
       "      <td>1045.0</td>\n",
       "      <td>3294.0</td>\n",
       "      <td>[]</td>\n",
       "      <td>[]</td>\n",
       "      <td>1120.0</td>\n",
       "      <td>1117.0</td>\n",
       "      <td>0.0</td>\n",
       "      <td>3.0</td>\n",
       "      <td>[]</td>\n",
       "      <td>['yarn']</td>\n",
       "      <td>0</td>\n",
       "      <td>0</td>\n",
       "      <td>1</td>\n",
       "      <td>False</td>\n",
       "      <td>False</td>\n",
       "      <td>False</td>\n",
       "      <td>False</td>\n",
       "      <td>False</td>\n",
       "      <td>True</td>\n",
       "      <td>False</td>\n",
       "      <td>346751001</td>\n",
       "      <td>346750998</td>\n",
       "      <td>2018-02-27 12:30:57+00:00</td>\n",
       "      <td>2018-02-27 12:30:21.579000+00:00</td>\n",
       "      <td>2018-02-27 12:34:24+00:00</td>\n",
       "      <td>37569.2</td>\n",
       "      <td>passed</td>\n",
       "      <td>2018-06-04 05:43:54.693000+00:00</td>\n",
       "      <td>7b245fbc45898ce11ab5cc0d60dc4f5621b94645</td>\n",
       "      <td>103144209</td>\n",
       "      <td>SONAR-10047 Use SearchSelect for tags in Bulk ...</td>\n",
       "      <td>refs/pull/3103/merge</td>\n",
       "      <td>https://github.com/SonarSource/sonarqube/pull/...</td>\n",
       "      <td>2018/02</td>\n",
       "      <td>0.002676</td>\n",
       "      <td>0.001784</td>\n",
       "      <td>0.000892</td>\n",
       "    </tr>\n",
       "    <tr>\n",
       "      <th>1</th>\n",
       "      <td>575471642</td>\n",
       "      <td>WEB_TESTS</td>\n",
       "      <td>['yarn', 'jest', 'gradle']</td>\n",
       "      <td>False</td>\n",
       "      <td>3.0</td>\n",
       "      <td>2.0</td>\n",
       "      <td>1.0</td>\n",
       "      <td>9.0</td>\n",
       "      <td>1.0</td>\n",
       "      <td>1362.0</td>\n",
       "      <td>3919.0</td>\n",
       "      <td>[]</td>\n",
       "      <td>[]</td>\n",
       "      <td>2006.0</td>\n",
       "      <td>2005.0</td>\n",
       "      <td>0.0</td>\n",
       "      <td>1.0</td>\n",
       "      <td>[]</td>\n",
       "      <td>['yarn', 'jest', 'gradle']</td>\n",
       "      <td>0</td>\n",
       "      <td>0</td>\n",
       "      <td>3</td>\n",
       "      <td>False</td>\n",
       "      <td>True</td>\n",
       "      <td>False</td>\n",
       "      <td>True</td>\n",
       "      <td>False</td>\n",
       "      <td>True</td>\n",
       "      <td>False</td>\n",
       "      <td>575471642</td>\n",
       "      <td>575471639</td>\n",
       "      <td>2019-08-22 18:21:52+00:00</td>\n",
       "      <td>2019-08-22 18:21:19.464000+00:00</td>\n",
       "      <td>2019-08-22 18:33:18+00:00</td>\n",
       "      <td>39085.2</td>\n",
       "      <td>passed</td>\n",
       "      <td>2019-08-22 18:33:18.698000+00:00</td>\n",
       "      <td>7c2a234b30826c8f98dabff8506b1f49884b83a5</td>\n",
       "      <td>174121400</td>\n",
       "      <td>DOCS Add instructions for Application to a Por...</td>\n",
       "      <td>refs/heads/master</td>\n",
       "      <td>https://github.com/SonarSource/sonarqube/compa...</td>\n",
       "      <td>2019/08</td>\n",
       "      <td>0.001495</td>\n",
       "      <td>0.000997</td>\n",
       "      <td>0.000498</td>\n",
       "    </tr>\n",
       "    <tr>\n",
       "      <th>2</th>\n",
       "      <td>721125402</td>\n",
       "      <td>WEB_TESTS</td>\n",
       "      <td>['yarn', 'gradle']</td>\n",
       "      <td>False</td>\n",
       "      <td>14.0</td>\n",
       "      <td>3.0</td>\n",
       "      <td>3.0</td>\n",
       "      <td>30.0</td>\n",
       "      <td>0.0</td>\n",
       "      <td>1426.0</td>\n",
       "      <td>4196.0</td>\n",
       "      <td>[]</td>\n",
       "      <td>[]</td>\n",
       "      <td>2412.0</td>\n",
       "      <td>2412.0</td>\n",
       "      <td>0.0</td>\n",
       "      <td>0.0</td>\n",
       "      <td>[]</td>\n",
       "      <td>['yarn', 'gradle']</td>\n",
       "      <td>0</td>\n",
       "      <td>0</td>\n",
       "      <td>2</td>\n",
       "      <td>False</td>\n",
       "      <td>True</td>\n",
       "      <td>False</td>\n",
       "      <td>False</td>\n",
       "      <td>False</td>\n",
       "      <td>True</td>\n",
       "      <td>False</td>\n",
       "      <td>721125402</td>\n",
       "      <td>721125400</td>\n",
       "      <td>2020-08-25 20:08:05+00:00</td>\n",
       "      <td>2020-08-25 20:06:58.581000+00:00</td>\n",
       "      <td>2020-08-25 20:18:58+00:00</td>\n",
       "      <td>39397.2</td>\n",
       "      <td>passed</td>\n",
       "      <td>2020-08-25 20:18:58.561000+00:00</td>\n",
       "      <td>60c64b2c9f95bb52d070758fa88a3881ae69b5e7</td>\n",
       "      <td>222268239</td>\n",
       "      <td>SONAR-13766 PostProjectAnalysisTask's 'descrip...</td>\n",
       "      <td>refs/heads/master</td>\n",
       "      <td>https://github.com/SonarSource/sonarqube/compa...</td>\n",
       "      <td>2020/08</td>\n",
       "      <td>0.005802</td>\n",
       "      <td>0.001243</td>\n",
       "      <td>0.000000</td>\n",
       "    </tr>\n",
       "  </tbody>\n",
       "</table>\n",
       "</div>"
      ],
      "text/plain": [
       "      job_id build_target                  build_tool  \\\n",
       "0  346751001    WEB_TESTS                    ['yarn']   \n",
       "1  575471642    WEB_TESTS  ['yarn', 'jest', 'gradle']   \n",
       "2  721125402    WEB_TESTS          ['yarn', 'gradle']   \n",
       "\n",
       "   build_canceled_open_pr_on_branch  errors  failures  suspected_words  \\\n",
       "0                             False     3.0       2.0              1.0   \n",
       "1                             False     3.0       2.0              1.0   \n",
       "2                             False    14.0       3.0              3.0   \n",
       "\n",
       "   warnings  skipped_words   lines   words exceptions error_classes  \\\n",
       "0       2.0            1.0  1045.0  3294.0         []            []   \n",
       "1       9.0            1.0  1362.0  3919.0         []            []   \n",
       "2      30.0            0.0  1426.0  4196.0         []            []   \n",
       "\n",
       "   tests_total  tests_passed  tests_failed  tests_skipped failed_tasks  \\\n",
       "0       1120.0        1117.0           0.0            3.0           []   \n",
       "1       2006.0        2005.0           0.0            1.0           []   \n",
       "2       2412.0        2412.0           0.0            0.0           []   \n",
       "\n",
       "               build_tool_str  n_exceptions  n_error_classes  n_build_tools  \\\n",
       "0                    ['yarn']             0                0              1   \n",
       "1  ['yarn', 'jest', 'gradle']             0                0              3   \n",
       "2          ['yarn', 'gradle']             0                0              2   \n",
       "\n",
       "   maven_build  gradle_build  mocha_build  jest_build  grunt_build  \\\n",
       "0        False         False        False       False        False   \n",
       "1        False          True        False        True        False   \n",
       "2        False          True        False       False        False   \n",
       "\n",
       "   yarn_build  node_build         id    buildid                 started_at  \\\n",
       "0        True       False  346751001  346750998  2018-02-27 12:30:57+00:00   \n",
       "1        True       False  575471642  575471639  2019-08-22 18:21:52+00:00   \n",
       "2        True       False  721125402  721125400  2020-08-25 20:08:05+00:00   \n",
       "\n",
       "                         created_at                finished_at   number  \\\n",
       "0  2018-02-27 12:30:21.579000+00:00  2018-02-27 12:34:24+00:00  37569.2   \n",
       "1  2019-08-22 18:21:19.464000+00:00  2019-08-22 18:33:18+00:00  39085.2   \n",
       "2  2020-08-25 20:06:58.581000+00:00  2020-08-25 20:18:58+00:00  39397.2   \n",
       "\n",
       "    state                        updated_at  \\\n",
       "0  passed  2018-06-04 05:43:54.693000+00:00   \n",
       "1  passed  2019-08-22 18:33:18.698000+00:00   \n",
       "2  passed  2020-08-25 20:18:58.561000+00:00   \n",
       "\n",
       "                                  commitsha   commitid  \\\n",
       "0  7b245fbc45898ce11ab5cc0d60dc4f5621b94645  103144209   \n",
       "1  7c2a234b30826c8f98dabff8506b1f49884b83a5  174121400   \n",
       "2  60c64b2c9f95bb52d070758fa88a3881ae69b5e7  222268239   \n",
       "\n",
       "                                       commitmessage             commitref  \\\n",
       "0  SONAR-10047 Use SearchSelect for tags in Bulk ...  refs/pull/3103/merge   \n",
       "1  DOCS Add instructions for Application to a Por...     refs/heads/master   \n",
       "2  SONAR-13766 PostProjectAnalysisTask's 'descrip...     refs/heads/master   \n",
       "\n",
       "                                   commitcompare_url year_month  \\\n",
       "0  https://github.com/SonarSource/sonarqube/pull/...    2018/02   \n",
       "1  https://github.com/SonarSource/sonarqube/compa...    2019/08   \n",
       "2  https://github.com/SonarSource/sonarqube/compa...    2020/08   \n",
       "\n",
       "   errors_over_tests_total  failures_over_tests_total  \\\n",
       "0                 0.002676                   0.001784   \n",
       "1                 0.001495                   0.000997   \n",
       "2                 0.005802                   0.001243   \n",
       "\n",
       "   skipped_over_tests_total  \n",
       "0                  0.000892  \n",
       "1                  0.000498  \n",
       "2                  0.000000  "
      ]
     },
     "execution_count": 485,
     "metadata": {},
     "output_type": "execute_result"
    }
   ],
   "source": [
    "log_parsed_metrics.head(3)"
   ]
  },
  {
   "cell_type": "code",
   "execution_count": 486,
   "metadata": {},
   "outputs": [
    {
     "data": {
      "text/plain": [
       "Index(['job_id', 'build_target', 'build_tool',\n",
       "       'build_canceled_open_pr_on_branch', 'errors', 'failures',\n",
       "       'suspected_words', 'warnings', 'skipped_words', 'lines', 'words',\n",
       "       'exceptions', 'error_classes', 'tests_total', 'tests_passed',\n",
       "       'tests_failed', 'tests_skipped', 'failed_tasks', 'build_tool_str',\n",
       "       'n_exceptions', 'n_error_classes', 'n_build_tools', 'maven_build',\n",
       "       'gradle_build', 'mocha_build', 'jest_build', 'grunt_build',\n",
       "       'yarn_build', 'node_build', 'id', 'buildid', 'started_at', 'created_at',\n",
       "       'finished_at', 'number', 'state', 'updated_at', 'commitsha', 'commitid',\n",
       "       'commitmessage', 'commitref', 'commitcompare_url', 'year_month',\n",
       "       'errors_over_tests_total', 'failures_over_tests_total',\n",
       "       'skipped_over_tests_total'],\n",
       "      dtype='object')"
      ]
     },
     "execution_count": 486,
     "metadata": {},
     "output_type": "execute_result"
    }
   ],
   "source": [
    "log_parsed_metrics.columns"
   ]
  },
  {
   "cell_type": "code",
   "execution_count": 487,
   "metadata": {},
   "outputs": [],
   "source": [
    "def calculate_aggregator_for_column(row, release_jobs, column, aggregator):\n",
    "    _x = release_jobs\n",
    "    _jobs_ids = _x[(_x.from_tag == row.from_tag) & (_x.to_tag == row.to_tag)].job_id\n",
    "    _jobs = jobs[jobs.id.isin(_jobs_ids)]\n",
    "    _series = log_parsed_metrics[log_parsed_metrics.job_id.isin(_jobs.id.unique())][column]\n",
    "    return getattr(_series, aggregator)()"
   ]
  },
  {
   "cell_type": "markdown",
   "metadata": {},
   "source": [
    "**Errors over tests**"
   ]
  },
  {
   "cell_type": "code",
   "execution_count": 488,
   "metadata": {},
   "outputs": [],
   "source": [
    "for agg in [\"mean\", \"median\", \"max\", \"min\"]:\n",
    "    for df, release_jobs, method in df_jobs:\n",
    "        df[f\"{agg}_errors_over_tests_total\"] = \\\n",
    "        df.apply(calculate_aggregator_for_column, args=(release_jobs,\"errors_over_tests_total\", agg), axis=1)"
   ]
  },
  {
   "cell_type": "code",
   "execution_count": 490,
   "metadata": {},
   "outputs": [
    {
     "data": {
      "image/png": "[encoded data removed]",
      "text/plain": [
       "<Figure size 1008x504 with 2 Axes>"
      ]
     },
     "metadata": {
      "needs_background": "light"
     },
     "output_type": "display_data"
    }
   ],
   "source": [
    "fig, axes = plt.subplots(nrows=len(df_jobs), ncols=1, sharex=True, sharey=True, figsize=(14.0, 7.0))\n",
    "for i, df_job in enumerate(df_jobs):\n",
    "    df_job[0].set_index(\"to_tag\").\\\n",
    "        max_errors_over_tests_total.plot(kind=\"bar\", ax=axes[i], color=[\"tab:blue\"])\n",
    "    ax.set_xticklabels(ax.get_xticklabels(),rotation=90)\n",
    "    ax.set_title(df_job[2])\n",
    "    if(i < len(df_jobs) - 1):\n",
    "        ax.get_xaxis().set_visible(False)"
   ]
  },
  {
   "cell_type": "markdown",
   "metadata": {},
   "source": [
    "**Failed tests**"
   ]
  },
  {
   "cell_type": "code",
   "execution_count": 491,
   "metadata": {},
   "outputs": [],
   "source": [
    "for agg in [\"mean\", \"median\", \"max\", \"min\"]:\n",
    "    for df, release_jobs, method in df_jobs:\n",
    "        df[f\"{agg}_failed_tests\"] = \\\n",
    "        df.apply(calculate_aggregator_for_column, args=(release_jobs,\"tests_failed\", agg), axis=1)"
   ]
  },
  {
   "cell_type": "markdown",
   "metadata": {},
   "source": [
    "**Failures over total tests**"
   ]
  },
  {
   "cell_type": "code",
   "execution_count": 492,
   "metadata": {},
   "outputs": [],
   "source": [
    "for agg in [\"mean\", \"median\", \"max\", \"min\"]:\n",
    "    for df, release_jobs, method in df_jobs:\n",
    "        df[f\"{agg}_failures_over_tests_total\"] = \\\n",
    "        df.apply(calculate_aggregator_for_column, args=(release_jobs,\"failures_over_tests_total\", agg), axis=1)"
   ]
  },
  {
   "cell_type": "markdown",
   "metadata": {},
   "source": [
    "**Skipped over tests**"
   ]
  },
  {
   "cell_type": "code",
   "execution_count": 493,
   "metadata": {},
   "outputs": [],
   "source": [
    "for agg in [\"mean\", \"median\", \"max\", \"min\"]:\n",
    "    for df, release_jobs, method in df_jobs:\n",
    "        df[f\"{agg}_skipped_over_tests_total\"] = \\\n",
    "        df.apply(calculate_aggregator_for_column, args=(release_jobs,\"skipped_over_tests_total\", agg), axis=1)"
   ]
  },
  {
   "cell_type": "markdown",
   "metadata": {},
   "source": [
    "**Number of exceptions**"
   ]
  },
  {
   "cell_type": "code",
   "execution_count": 494,
   "metadata": {},
   "outputs": [],
   "source": [
    "for agg in [\"mean\", \"median\", \"max\", \"min\"]:\n",
    "    for df, release_jobs, method in df_jobs:\n",
    "        df[f\"{agg}_n_exceptions\"] = \\\n",
    "        df.apply(calculate_aggregator_for_column, args=(release_jobs,\"n_exceptions\", agg), axis=1)"
   ]
  },
  {
   "cell_type": "markdown",
   "metadata": {},
   "source": [
    "**Number of warnings**"
   ]
  },
  {
   "cell_type": "code",
   "execution_count": 495,
   "metadata": {},
   "outputs": [],
   "source": [
    "for agg in [\"mean\", \"median\", \"max\", \"min\"]:\n",
    "    for df, release_jobs, method in df_jobs:\n",
    "        df[f\"{agg}_n_warnings\"] = \\\n",
    "        df.apply(calculate_aggregator_for_column, args=(release_jobs,\"warnings\", agg), axis=1)"
   ]
  },
  {
   "cell_type": "markdown",
   "metadata": {},
   "source": [
    "**Number of error classes**\n"
   ]
  },
  {
   "cell_type": "code",
   "execution_count": 496,
   "metadata": {},
   "outputs": [],
   "source": [
    "for agg in [\"mean\", \"median\", \"max\", \"min\"]:\n",
    "    for df, release_jobs, method in df_jobs:\n",
    "        df[f\"{agg}_n_error_classes\"] = \\\n",
    "        df.apply(calculate_aggregator_for_column, args=(release_jobs,\"n_error_classes\", agg), axis=1)"
   ]
  },
  {
   "cell_type": "markdown",
   "metadata": {},
   "source": [
    "### Build burst metrics"
   ]
  },
  {
   "cell_type": "code",
   "execution_count": 374,
   "metadata": {},
   "outputs": [
    {
     "data": {
      "text/html": [
       "<div>\n",
       "<style scoped>\n",
       "    .dataframe tbody tr th:only-of-type {\n",
       "        vertical-align: middle;\n",
       "    }\n",
       "\n",
       "    .dataframe tbody tr th {\n",
       "        vertical-align: top;\n",
       "    }\n",
       "\n",
       "    .dataframe thead th {\n",
       "        text-align: right;\n",
       "    }\n",
       "</style>\n",
       "<table border=\"1\" class=\"dataframe\">\n",
       "  <thead>\n",
       "    <tr style=\"text-align: right;\">\n",
       "      <th></th>\n",
       "      <th>buildid</th>\n",
       "      <th>commitref</th>\n",
       "      <th>commitsha</th>\n",
       "      <th>number</th>\n",
       "      <th>pull_request_number</th>\n",
       "      <th>id</th>\n",
       "      <th>event_type</th>\n",
       "      <th>finished_at</th>\n",
       "      <th>pull_request_title</th>\n",
       "      <th>started_at</th>\n",
       "      <th>duration</th>\n",
       "      <th>state</th>\n",
       "      <th>started_at_day</th>\n",
       "      <th>started_at_month</th>\n",
       "      <th>started_at_year</th>\n",
       "    </tr>\n",
       "  </thead>\n",
       "  <tbody>\n",
       "    <tr>\n",
       "      <th>0</th>\n",
       "      <td>241946099</td>\n",
       "      <td>refs/heads/feature/atlas/MMF-324/builtin-profiles</td>\n",
       "      <td>2e4b539138fde6f664a865c81fb6ab0763f74bdb</td>\n",
       "      <td>25614</td>\n",
       "      <td>NaN</td>\n",
       "      <td>241946099</td>\n",
       "      <td>push</td>\n",
       "      <td>2017-06-12 09:21:43+00:00</td>\n",
       "      <td>NaN</td>\n",
       "      <td>2017-06-12 09:21:03+00:00</td>\n",
       "      <td>40.0</td>\n",
       "      <td>canceled</td>\n",
       "      <td>12.0</td>\n",
       "      <td>6.0</td>\n",
       "      <td>2017.0</td>\n",
       "    </tr>\n",
       "    <tr>\n",
       "      <th>1</th>\n",
       "      <td>241952022</td>\n",
       "      <td>refs/heads/feature/atlas/MMF-324/builtin-profiles</td>\n",
       "      <td>464f5da96733c14818f4b4bfeb878951b859ee0c</td>\n",
       "      <td>25615</td>\n",
       "      <td>NaN</td>\n",
       "      <td>241952022</td>\n",
       "      <td>push</td>\n",
       "      <td>2017-06-12 09:37:24+00:00</td>\n",
       "      <td>NaN</td>\n",
       "      <td>2017-06-12 09:36:43+00:00</td>\n",
       "      <td>40.0</td>\n",
       "      <td>canceled</td>\n",
       "      <td>12.0</td>\n",
       "      <td>6.0</td>\n",
       "      <td>2017.0</td>\n",
       "    </tr>\n",
       "    <tr>\n",
       "      <th>2</th>\n",
       "      <td>241952044</td>\n",
       "      <td>refs/pull/2104/merge</td>\n",
       "      <td>7358e9a93e47ac9fcaebe960c00ab8bd28e9890e</td>\n",
       "      <td>25616</td>\n",
       "      <td>2104.0</td>\n",
       "      <td>241952044</td>\n",
       "      <td>pull_request</td>\n",
       "      <td>2017-06-12 09:53:48+00:00</td>\n",
       "      <td>MMF-324 introduce concept of build-in Quality ...</td>\n",
       "      <td>2017-06-12 09:42:15+00:00</td>\n",
       "      <td>973.0</td>\n",
       "      <td>passed</td>\n",
       "      <td>12.0</td>\n",
       "      <td>6.0</td>\n",
       "      <td>2017.0</td>\n",
       "    </tr>\n",
       "    <tr>\n",
       "      <th>3</th>\n",
       "      <td>241955852</td>\n",
       "      <td>refs/heads/feature/jl/onboarding</td>\n",
       "      <td>00e86fd06991a1e54e3b17eb82f2532f85de6489</td>\n",
       "      <td>25617</td>\n",
       "      <td>NaN</td>\n",
       "      <td>241955852</td>\n",
       "      <td>push</td>\n",
       "      <td>2017-06-12 09:56:41+00:00</td>\n",
       "      <td>NaN</td>\n",
       "      <td>2017-06-12 09:50:40+00:00</td>\n",
       "      <td>610.0</td>\n",
       "      <td>failed</td>\n",
       "      <td>12.0</td>\n",
       "      <td>6.0</td>\n",
       "      <td>2017.0</td>\n",
       "    </tr>\n",
       "    <tr>\n",
       "      <th>4</th>\n",
       "      <td>241956721</td>\n",
       "      <td>refs/heads/feature/stas/onboarding/tutorial</td>\n",
       "      <td>b34d8845506f0de01138e525d118fe292d204334</td>\n",
       "      <td>25618</td>\n",
       "      <td>NaN</td>\n",
       "      <td>241956721</td>\n",
       "      <td>push</td>\n",
       "      <td>2017-06-12 09:51:07+00:00</td>\n",
       "      <td>NaN</td>\n",
       "      <td>2017-06-12 09:50:27+00:00</td>\n",
       "      <td>64.0</td>\n",
       "      <td>canceled</td>\n",
       "      <td>12.0</td>\n",
       "      <td>6.0</td>\n",
       "      <td>2017.0</td>\n",
       "    </tr>\n",
       "    <tr>\n",
       "      <th>5</th>\n",
       "      <td>241956741</td>\n",
       "      <td>refs/pull/2137/merge</td>\n",
       "      <td>0110c87fd42c510bb2c2f7a274d654a9fb07fb29</td>\n",
       "      <td>25619</td>\n",
       "      <td>2137.0</td>\n",
       "      <td>241956741</td>\n",
       "      <td>pull_request</td>\n",
       "      <td>2017-06-12 10:01:41+00:00</td>\n",
       "      <td>UI: SONAR-9355 Create onboarding tutorial</td>\n",
       "      <td>2017-06-12 09:50:05+00:00</td>\n",
       "      <td>1047.0</td>\n",
       "      <td>passed</td>\n",
       "      <td>12.0</td>\n",
       "      <td>6.0</td>\n",
       "      <td>2017.0</td>\n",
       "    </tr>\n",
       "    <tr>\n",
       "      <th>6</th>\n",
       "      <td>241963248</td>\n",
       "      <td>refs/heads/feature/jl/onboarding</td>\n",
       "      <td>8823b927339cbb7110f02c42bd12a04ea658897d</td>\n",
       "      <td>25620</td>\n",
       "      <td>NaN</td>\n",
       "      <td>241963248</td>\n",
       "      <td>push</td>\n",
       "      <td>2017-06-12 10:19:03+00:00</td>\n",
       "      <td>NaN</td>\n",
       "      <td>2017-06-12 10:08:56+00:00</td>\n",
       "      <td>885.0</td>\n",
       "      <td>passed</td>\n",
       "      <td>12.0</td>\n",
       "      <td>6.0</td>\n",
       "      <td>2017.0</td>\n",
       "    </tr>\n",
       "    <tr>\n",
       "      <th>7</th>\n",
       "      <td>241974640</td>\n",
       "      <td>refs/heads/feature/lambda/onboarding</td>\n",
       "      <td>fc4e2b219f729fd10dba979629ca79eeff0d726c</td>\n",
       "      <td>25621</td>\n",
       "      <td>NaN</td>\n",
       "      <td>241974640</td>\n",
       "      <td>push</td>\n",
       "      <td>2017-06-12 10:52:06+00:00</td>\n",
       "      <td>NaN</td>\n",
       "      <td>2017-06-12 10:51:28+00:00</td>\n",
       "      <td>75.0</td>\n",
       "      <td>canceled</td>\n",
       "      <td>12.0</td>\n",
       "      <td>6.0</td>\n",
       "      <td>2017.0</td>\n",
       "    </tr>\n",
       "    <tr>\n",
       "      <th>8</th>\n",
       "      <td>241974654</td>\n",
       "      <td>refs/pull/2133/merge</td>\n",
       "      <td>baf18566bc2af9cab1c72b851ce9e08d3714c731</td>\n",
       "      <td>25622</td>\n",
       "      <td>2133.0</td>\n",
       "      <td>241974654</td>\n",
       "      <td>pull_request</td>\n",
       "      <td>2017-06-12 11:07:10+00:00</td>\n",
       "      <td>MMF-886 Better first-time developer experience</td>\n",
       "      <td>2017-06-12 10:51:36+00:00</td>\n",
       "      <td>1360.0</td>\n",
       "      <td>passed</td>\n",
       "      <td>12.0</td>\n",
       "      <td>6.0</td>\n",
       "      <td>2017.0</td>\n",
       "    </tr>\n",
       "    <tr>\n",
       "      <th>9</th>\n",
       "      <td>241975118</td>\n",
       "      <td>refs/pull/2161/merge</td>\n",
       "      <td>939b617446ccc889408ea39ecf00e396443dcedb</td>\n",
       "      <td>25623</td>\n",
       "      <td>2161.0</td>\n",
       "      <td>241975118</td>\n",
       "      <td>pull_request</td>\n",
       "      <td>2017-06-12 11:10:44+00:00</td>\n",
       "      <td>SONAR-9356 Show onboarding tutorial only once ...</td>\n",
       "      <td>2017-06-12 10:54:03+00:00</td>\n",
       "      <td>1463.0</td>\n",
       "      <td>passed</td>\n",
       "      <td>12.0</td>\n",
       "      <td>6.0</td>\n",
       "      <td>2017.0</td>\n",
       "    </tr>\n",
       "    <tr>\n",
       "      <th>10</th>\n",
       "      <td>241989339</td>\n",
       "      <td>refs/heads/feature/lambda/onboarding</td>\n",
       "      <td>e1b11e79bd127d879476b363275624608c4ed81c</td>\n",
       "      <td>25624</td>\n",
       "      <td>NaN</td>\n",
       "      <td>241989339</td>\n",
       "      <td>push</td>\n",
       "      <td>2017-06-12 11:49:38+00:00</td>\n",
       "      <td>NaN</td>\n",
       "      <td>2017-06-12 11:48:47+00:00</td>\n",
       "      <td>95.0</td>\n",
       "      <td>canceled</td>\n",
       "      <td>12.0</td>\n",
       "      <td>6.0</td>\n",
       "      <td>2017.0</td>\n",
       "    </tr>\n",
       "    <tr>\n",
       "      <th>11</th>\n",
       "      <td>241989357</td>\n",
       "      <td>refs/pull/2133/merge</td>\n",
       "      <td>0793b261d974b65ec8edc2cc20de7f2d445f7555</td>\n",
       "      <td>25625</td>\n",
       "      <td>2133.0</td>\n",
       "      <td>241989357</td>\n",
       "      <td>pull_request</td>\n",
       "      <td>2017-06-12 11:59:35+00:00</td>\n",
       "      <td>MMF-886 Better first-time developer experience</td>\n",
       "      <td>2017-06-12 11:48:46+00:00</td>\n",
       "      <td>930.0</td>\n",
       "      <td>passed</td>\n",
       "      <td>12.0</td>\n",
       "      <td>6.0</td>\n",
       "      <td>2017.0</td>\n",
       "    </tr>\n",
       "    <tr>\n",
       "      <th>12</th>\n",
       "      <td>241990944</td>\n",
       "      <td>refs/heads/feature/jl/onboarding</td>\n",
       "      <td>573e456855915527ac5034bcefd2df196122ac3e</td>\n",
       "      <td>25626</td>\n",
       "      <td>NaN</td>\n",
       "      <td>241990944</td>\n",
       "      <td>push</td>\n",
       "      <td>2017-06-12 11:57:40+00:00</td>\n",
       "      <td>NaN</td>\n",
       "      <td>2017-06-12 11:56:57+00:00</td>\n",
       "      <td>79.0</td>\n",
       "      <td>canceled</td>\n",
       "      <td>12.0</td>\n",
       "      <td>6.0</td>\n",
       "      <td>2017.0</td>\n",
       "    </tr>\n",
       "    <tr>\n",
       "      <th>13</th>\n",
       "      <td>241990954</td>\n",
       "      <td>refs/pull/2161/merge</td>\n",
       "      <td>ec4b2a72dc3254beeef8af722893f8918be53cb7</td>\n",
       "      <td>25627</td>\n",
       "      <td>2161.0</td>\n",
       "      <td>241990954</td>\n",
       "      <td>pull_request</td>\n",
       "      <td>2017-06-12 12:04:19+00:00</td>\n",
       "      <td>SONAR-9356 Show onboarding tutorial only once ...</td>\n",
       "      <td>2017-06-12 11:57:34+00:00</td>\n",
       "      <td>706.0</td>\n",
       "      <td>failed</td>\n",
       "      <td>12.0</td>\n",
       "      <td>6.0</td>\n",
       "      <td>2017.0</td>\n",
       "    </tr>\n",
       "    <tr>\n",
       "      <th>14</th>\n",
       "      <td>241995832</td>\n",
       "      <td>refs/heads/feature/jl/onboarding</td>\n",
       "      <td>a47375bc461c5a7ba85ebcd2ff7854edb3a0dd16</td>\n",
       "      <td>25628</td>\n",
       "      <td>NaN</td>\n",
       "      <td>241995832</td>\n",
       "      <td>push</td>\n",
       "      <td>2017-06-12 12:11:56+00:00</td>\n",
       "      <td>NaN</td>\n",
       "      <td>2017-06-12 12:11:06+00:00</td>\n",
       "      <td>93.0</td>\n",
       "      <td>canceled</td>\n",
       "      <td>12.0</td>\n",
       "      <td>6.0</td>\n",
       "      <td>2017.0</td>\n",
       "    </tr>\n",
       "    <tr>\n",
       "      <th>15</th>\n",
       "      <td>241995841</td>\n",
       "      <td>refs/pull/2161/merge</td>\n",
       "      <td>5f482ef7a30d560fae1471b6f4dd946b25757cdb</td>\n",
       "      <td>25629</td>\n",
       "      <td>2161.0</td>\n",
       "      <td>241995841</td>\n",
       "      <td>pull_request</td>\n",
       "      <td>2017-06-12 12:23:17+00:00</td>\n",
       "      <td>SONAR-9356 Show onboarding tutorial only once ...</td>\n",
       "      <td>2017-06-12 12:11:09+00:00</td>\n",
       "      <td>993.0</td>\n",
       "      <td>passed</td>\n",
       "      <td>12.0</td>\n",
       "      <td>6.0</td>\n",
       "      <td>2017.0</td>\n",
       "    </tr>\n",
       "    <tr>\n",
       "      <th>16</th>\n",
       "      <td>242001790</td>\n",
       "      <td>refs/heads/feature/atlas/MMF-324/builtin-profiles</td>\n",
       "      <td>6e1b985fcfebfe1a4178fe6cc0a7852534eb56c1</td>\n",
       "      <td>25630</td>\n",
       "      <td>NaN</td>\n",
       "      <td>242001790</td>\n",
       "      <td>push</td>\n",
       "      <td>2017-06-12 12:33:32+00:00</td>\n",
       "      <td>NaN</td>\n",
       "      <td>2017-06-12 12:32:52+00:00</td>\n",
       "      <td>62.0</td>\n",
       "      <td>canceled</td>\n",
       "      <td>12.0</td>\n",
       "      <td>6.0</td>\n",
       "      <td>2017.0</td>\n",
       "    </tr>\n",
       "    <tr>\n",
       "      <th>17</th>\n",
       "      <td>242001806</td>\n",
       "      <td>refs/pull/2104/merge</td>\n",
       "      <td>0b284e73ea86f4373e198549afbc27f12513d2e4</td>\n",
       "      <td>25631</td>\n",
       "      <td>2104.0</td>\n",
       "      <td>242001806</td>\n",
       "      <td>pull_request</td>\n",
       "      <td>2017-06-12 12:44:03+00:00</td>\n",
       "      <td>MMF-324 introduce concept of build-in Quality ...</td>\n",
       "      <td>2017-06-12 12:32:56+00:00</td>\n",
       "      <td>972.0</td>\n",
       "      <td>passed</td>\n",
       "      <td>12.0</td>\n",
       "      <td>6.0</td>\n",
       "      <td>2017.0</td>\n",
       "    </tr>\n",
       "    <tr>\n",
       "      <th>18</th>\n",
       "      <td>242002316</td>\n",
       "      <td>refs/heads/feature/lambda/onboarding</td>\n",
       "      <td>e5fee23e15c48930bb67919c09d165cc71bfc6d7</td>\n",
       "      <td>25632</td>\n",
       "      <td>NaN</td>\n",
       "      <td>242002316</td>\n",
       "      <td>push</td>\n",
       "      <td>2017-06-12 12:35:11+00:00</td>\n",
       "      <td>NaN</td>\n",
       "      <td>2017-06-12 12:34:17+00:00</td>\n",
       "      <td>86.0</td>\n",
       "      <td>canceled</td>\n",
       "      <td>12.0</td>\n",
       "      <td>6.0</td>\n",
       "      <td>2017.0</td>\n",
       "    </tr>\n",
       "    <tr>\n",
       "      <th>19</th>\n",
       "      <td>242002336</td>\n",
       "      <td>refs/pull/2133/merge</td>\n",
       "      <td>e8dd738c9a0ecdc01b1dac248ed8fbe10042872d</td>\n",
       "      <td>25633</td>\n",
       "      <td>2133.0</td>\n",
       "      <td>242002336</td>\n",
       "      <td>pull_request</td>\n",
       "      <td>2017-06-12 12:45:23+00:00</td>\n",
       "      <td>MMF-886 Better first-time developer experience</td>\n",
       "      <td>2017-06-12 12:34:33+00:00</td>\n",
       "      <td>1016.0</td>\n",
       "      <td>passed</td>\n",
       "      <td>12.0</td>\n",
       "      <td>6.0</td>\n",
       "      <td>2017.0</td>\n",
       "    </tr>\n",
       "    <tr>\n",
       "      <th>20</th>\n",
       "      <td>242002817</td>\n",
       "      <td>refs/heads/feature/atlas/MMF-324/builtin-profiles</td>\n",
       "      <td>9a300a546ae99168251c033ed06c595b299dcfce</td>\n",
       "      <td>25634</td>\n",
       "      <td>NaN</td>\n",
       "      <td>242002817</td>\n",
       "      <td>push</td>\n",
       "      <td>2017-06-12 12:36:35+00:00</td>\n",
       "      <td>NaN</td>\n",
       "      <td>2017-06-12 12:35:52+00:00</td>\n",
       "      <td>86.0</td>\n",
       "      <td>canceled</td>\n",
       "      <td>12.0</td>\n",
       "      <td>6.0</td>\n",
       "      <td>2017.0</td>\n",
       "    </tr>\n",
       "    <tr>\n",
       "      <th>21</th>\n",
       "      <td>242002827</td>\n",
       "      <td>refs/pull/2104/merge</td>\n",
       "      <td>b492c6f375c836235b390a35b3c3caed77a89b47</td>\n",
       "      <td>25635</td>\n",
       "      <td>2104.0</td>\n",
       "      <td>242002827</td>\n",
       "      <td>pull_request</td>\n",
       "      <td>2017-06-12 12:47:22+00:00</td>\n",
       "      <td>MMF-324 introduce concept of build-in Quality ...</td>\n",
       "      <td>2017-06-12 12:35:54+00:00</td>\n",
       "      <td>965.0</td>\n",
       "      <td>passed</td>\n",
       "      <td>12.0</td>\n",
       "      <td>6.0</td>\n",
       "      <td>2017.0</td>\n",
       "    </tr>\n",
       "    <tr>\n",
       "      <th>22</th>\n",
       "      <td>242007975</td>\n",
       "      <td>refs/heads/feature/stas/onboarding/on-first-login</td>\n",
       "      <td>461f9a35e21be94a34ff2f42c230113c22ee5994</td>\n",
       "      <td>25636</td>\n",
       "      <td>NaN</td>\n",
       "      <td>242007975</td>\n",
       "      <td>push</td>\n",
       "      <td>2017-06-12 12:53:13+00:00</td>\n",
       "      <td>NaN</td>\n",
       "      <td>2017-06-12 12:52:33+00:00</td>\n",
       "      <td>77.0</td>\n",
       "      <td>canceled</td>\n",
       "      <td>12.0</td>\n",
       "      <td>6.0</td>\n",
       "      <td>2017.0</td>\n",
       "    </tr>\n",
       "    <tr>\n",
       "      <th>23</th>\n",
       "      <td>242008093</td>\n",
       "      <td>refs/pull/2162/merge</td>\n",
       "      <td>49263c2af1222008652719412cfe8d75a841cbe6</td>\n",
       "      <td>25637</td>\n",
       "      <td>2162.0</td>\n",
       "      <td>242008093</td>\n",
       "      <td>pull_request</td>\n",
       "      <td>2017-06-12 13:09:57+00:00</td>\n",
       "      <td>SONAR-9424 Show onboarding tutorial on first l...</td>\n",
       "      <td>2017-06-12 12:52:43+00:00</td>\n",
       "      <td>1615.0</td>\n",
       "      <td>passed</td>\n",
       "      <td>12.0</td>\n",
       "      <td>6.0</td>\n",
       "      <td>2017.0</td>\n",
       "    </tr>\n",
       "    <tr>\n",
       "      <th>24</th>\n",
       "      <td>242012612</td>\n",
       "      <td>refs/heads/feature/jl/onboarding</td>\n",
       "      <td>9ba4dde2cad5e16512c6bba59153efad28b2978a</td>\n",
       "      <td>25638</td>\n",
       "      <td>NaN</td>\n",
       "      <td>242012612</td>\n",
       "      <td>push</td>\n",
       "      <td>2017-06-12 13:07:01+00:00</td>\n",
       "      <td>NaN</td>\n",
       "      <td>2017-06-12 13:06:12+00:00</td>\n",
       "      <td>98.0</td>\n",
       "      <td>canceled</td>\n",
       "      <td>12.0</td>\n",
       "      <td>6.0</td>\n",
       "      <td>2017.0</td>\n",
       "    </tr>\n",
       "    <tr>\n",
       "      <th>25</th>\n",
       "      <td>242012633</td>\n",
       "      <td>refs/pull/2161/merge</td>\n",
       "      <td>daad1ad43f4f288e80e22a8b9ce436890d232177</td>\n",
       "      <td>25639</td>\n",
       "      <td>2161.0</td>\n",
       "      <td>242012633</td>\n",
       "      <td>pull_request</td>\n",
       "      <td>2017-06-12 13:18:05+00:00</td>\n",
       "      <td>SONAR-9356 Show onboarding tutorial only once ...</td>\n",
       "      <td>2017-06-12 13:06:08+00:00</td>\n",
       "      <td>1179.0</td>\n",
       "      <td>passed</td>\n",
       "      <td>12.0</td>\n",
       "      <td>6.0</td>\n",
       "      <td>2017.0</td>\n",
       "    </tr>\n",
       "    <tr>\n",
       "      <th>26</th>\n",
       "      <td>242019365</td>\n",
       "      <td>refs/heads/feature/jl/onboarding</td>\n",
       "      <td>5ac9974e02712fbd7052b076e28d14104988ba0a</td>\n",
       "      <td>25640</td>\n",
       "      <td>NaN</td>\n",
       "      <td>242019365</td>\n",
       "      <td>push</td>\n",
       "      <td>2017-06-12 13:27:55+00:00</td>\n",
       "      <td>NaN</td>\n",
       "      <td>2017-06-12 13:27:08+00:00</td>\n",
       "      <td>94.0</td>\n",
       "      <td>canceled</td>\n",
       "      <td>12.0</td>\n",
       "      <td>6.0</td>\n",
       "      <td>2017.0</td>\n",
       "    </tr>\n",
       "    <tr>\n",
       "      <th>27</th>\n",
       "      <td>242019394</td>\n",
       "      <td>refs/pull/2161/merge</td>\n",
       "      <td>921c3e2ecca7789b9b3d971b443e8a6fa575a7f2</td>\n",
       "      <td>25641</td>\n",
       "      <td>2161.0</td>\n",
       "      <td>242019394</td>\n",
       "      <td>pull_request</td>\n",
       "      <td>2017-06-12 13:34:44+00:00</td>\n",
       "      <td>SONAR-9356 Show onboarding tutorial only once ...</td>\n",
       "      <td>2017-06-12 13:27:13+00:00</td>\n",
       "      <td>872.0</td>\n",
       "      <td>failed</td>\n",
       "      <td>12.0</td>\n",
       "      <td>6.0</td>\n",
       "      <td>2017.0</td>\n",
       "    </tr>\n",
       "    <tr>\n",
       "      <th>28</th>\n",
       "      <td>242024729</td>\n",
       "      <td>refs/heads/feature/jl/onboarding</td>\n",
       "      <td>487757cd9df582f405e290ef8f77aed517b370e7</td>\n",
       "      <td>25642</td>\n",
       "      <td>NaN</td>\n",
       "      <td>242024729</td>\n",
       "      <td>push</td>\n",
       "      <td>2017-06-12 13:43:05+00:00</td>\n",
       "      <td>NaN</td>\n",
       "      <td>2017-06-12 13:42:15+00:00</td>\n",
       "      <td>99.0</td>\n",
       "      <td>canceled</td>\n",
       "      <td>12.0</td>\n",
       "      <td>6.0</td>\n",
       "      <td>2017.0</td>\n",
       "    </tr>\n",
       "    <tr>\n",
       "      <th>29</th>\n",
       "      <td>242024738</td>\n",
       "      <td>refs/pull/2161/merge</td>\n",
       "      <td>c10bddd041f8d1451b8c0502fc59608d2eab7a2c</td>\n",
       "      <td>25643</td>\n",
       "      <td>2161.0</td>\n",
       "      <td>242024738</td>\n",
       "      <td>pull_request</td>\n",
       "      <td>2017-06-12 13:53:21+00:00</td>\n",
       "      <td>SONAR-9356 Show onboarding tutorial only once ...</td>\n",
       "      <td>2017-06-12 13:42:22+00:00</td>\n",
       "      <td>1048.0</td>\n",
       "      <td>passed</td>\n",
       "      <td>12.0</td>\n",
       "      <td>6.0</td>\n",
       "      <td>2017.0</td>\n",
       "    </tr>\n",
       "    <tr>\n",
       "      <th>30</th>\n",
       "      <td>242033171</td>\n",
       "      <td>refs/pull/2104/merge</td>\n",
       "      <td>28edb2f9f5e9997ecf6571698ca69036440ae766</td>\n",
       "      <td>25644</td>\n",
       "      <td>2104.0</td>\n",
       "      <td>242033171</td>\n",
       "      <td>pull_request</td>\n",
       "      <td>2017-06-12 14:13:51+00:00</td>\n",
       "      <td>MMF-324 introduce concept of build-in Quality ...</td>\n",
       "      <td>2017-06-12 14:02:06+00:00</td>\n",
       "      <td>985.0</td>\n",
       "      <td>passed</td>\n",
       "      <td>12.0</td>\n",
       "      <td>6.0</td>\n",
       "      <td>2017.0</td>\n",
       "    </tr>\n",
       "    <tr>\n",
       "      <th>31</th>\n",
       "      <td>242033227</td>\n",
       "      <td>refs/heads/feature/atlas/MMF-324/builtin-profiles</td>\n",
       "      <td>86537cda53a7e89e2bab3042909d013987773048</td>\n",
       "      <td>25645</td>\n",
       "      <td>NaN</td>\n",
       "      <td>242033227</td>\n",
       "      <td>push</td>\n",
       "      <td>2017-06-12 14:02:49+00:00</td>\n",
       "      <td>NaN</td>\n",
       "      <td>2017-06-12 14:02:06+00:00</td>\n",
       "      <td>82.0</td>\n",
       "      <td>canceled</td>\n",
       "      <td>12.0</td>\n",
       "      <td>6.0</td>\n",
       "      <td>2017.0</td>\n",
       "    </tr>\n",
       "    <tr>\n",
       "      <th>32</th>\n",
       "      <td>242033597</td>\n",
       "      <td>refs/heads/feature/atlas/MMF-324/builtin-profiles</td>\n",
       "      <td>935029bbd379f12250049e2670ee83dfcbab7c33</td>\n",
       "      <td>25646</td>\n",
       "      <td>NaN</td>\n",
       "      <td>242033597</td>\n",
       "      <td>push</td>\n",
       "      <td>2017-06-12 14:02:53+00:00</td>\n",
       "      <td>NaN</td>\n",
       "      <td>2017-06-12 14:02:14+00:00</td>\n",
       "      <td>77.0</td>\n",
       "      <td>canceled</td>\n",
       "      <td>12.0</td>\n",
       "      <td>6.0</td>\n",
       "      <td>2017.0</td>\n",
       "    </tr>\n",
       "    <tr>\n",
       "      <th>33</th>\n",
       "      <td>242033612</td>\n",
       "      <td>refs/pull/2104/merge</td>\n",
       "      <td>1361c9b16cb5e7194a22af9ebe8c5e20f218e1e6</td>\n",
       "      <td>25647</td>\n",
       "      <td>2104.0</td>\n",
       "      <td>242033612</td>\n",
       "      <td>pull_request</td>\n",
       "      <td>2017-06-12 17:53:03+00:00</td>\n",
       "      <td>MMF-324 introduce concept of build-in Quality ...</td>\n",
       "      <td>2017-06-12 17:45:36+00:00</td>\n",
       "      <td>749.0</td>\n",
       "      <td>failed</td>\n",
       "      <td>12.0</td>\n",
       "      <td>6.0</td>\n",
       "      <td>2017.0</td>\n",
       "    </tr>\n",
       "    <tr>\n",
       "      <th>34</th>\n",
       "      <td>242042259</td>\n",
       "      <td>refs/heads/feature/stas/onboarding/on-first-login</td>\n",
       "      <td>ff3679ea9bd08d9491722b1d018761c8932794b1</td>\n",
       "      <td>25648</td>\n",
       "      <td>NaN</td>\n",
       "      <td>242042259</td>\n",
       "      <td>push</td>\n",
       "      <td>2017-06-12 14:27:25+00:00</td>\n",
       "      <td>NaN</td>\n",
       "      <td>2017-06-12 14:26:47+00:00</td>\n",
       "      <td>72.0</td>\n",
       "      <td>canceled</td>\n",
       "      <td>12.0</td>\n",
       "      <td>6.0</td>\n",
       "      <td>2017.0</td>\n",
       "    </tr>\n",
       "    <tr>\n",
       "      <th>35</th>\n",
       "      <td>242042262</td>\n",
       "      <td>refs/pull/2162/merge</td>\n",
       "      <td>fb8caa02caa1796b0fc7f2bd020134d02fc39a94</td>\n",
       "      <td>25649</td>\n",
       "      <td>2162.0</td>\n",
       "      <td>242042262</td>\n",
       "      <td>pull_request</td>\n",
       "      <td>2017-06-12 14:38:15+00:00</td>\n",
       "      <td>SONAR-9424 Show onboarding tutorial on first l...</td>\n",
       "      <td>2017-06-12 14:26:49+00:00</td>\n",
       "      <td>1127.0</td>\n",
       "      <td>passed</td>\n",
       "      <td>12.0</td>\n",
       "      <td>6.0</td>\n",
       "      <td>2017.0</td>\n",
       "    </tr>\n",
       "    <tr>\n",
       "      <th>36</th>\n",
       "      <td>242048095</td>\n",
       "      <td>refs/heads/feature/jl/onboarding</td>\n",
       "      <td>7a440ade37a0cdbc96095cd098b8237685e878e9</td>\n",
       "      <td>25650</td>\n",
       "      <td>NaN</td>\n",
       "      <td>242048095</td>\n",
       "      <td>push</td>\n",
       "      <td>2017-06-12 14:42:11+00:00</td>\n",
       "      <td>NaN</td>\n",
       "      <td>2017-06-12 14:41:20+00:00</td>\n",
       "      <td>100.0</td>\n",
       "      <td>canceled</td>\n",
       "      <td>12.0</td>\n",
       "      <td>6.0</td>\n",
       "      <td>2017.0</td>\n",
       "    </tr>\n",
       "    <tr>\n",
       "      <th>37</th>\n",
       "      <td>242048147</td>\n",
       "      <td>refs/pull/2161/merge</td>\n",
       "      <td>6b7919397173da43ed5574924169729871498457</td>\n",
       "      <td>25651</td>\n",
       "      <td>2161.0</td>\n",
       "      <td>242048147</td>\n",
       "      <td>pull_request</td>\n",
       "      <td>2017-06-12 14:53:17+00:00</td>\n",
       "      <td>SONAR-9356 Show onboarding tutorial only once ...</td>\n",
       "      <td>2017-06-12 14:41:01+00:00</td>\n",
       "      <td>1209.0</td>\n",
       "      <td>passed</td>\n",
       "      <td>12.0</td>\n",
       "      <td>6.0</td>\n",
       "      <td>2017.0</td>\n",
       "    </tr>\n",
       "    <tr>\n",
       "      <th>38</th>\n",
       "      <td>242051624</td>\n",
       "      <td>refs/heads/feature/atlas/MMF-324/builtin-profiles</td>\n",
       "      <td>5fd98082fb236476059a71cb234d360c033450e3</td>\n",
       "      <td>25652</td>\n",
       "      <td>NaN</td>\n",
       "      <td>242051624</td>\n",
       "      <td>push</td>\n",
       "      <td>2017-06-12 14:51:28+00:00</td>\n",
       "      <td>NaN</td>\n",
       "      <td>2017-06-12 14:50:48+00:00</td>\n",
       "      <td>79.0</td>\n",
       "      <td>canceled</td>\n",
       "      <td>12.0</td>\n",
       "      <td>6.0</td>\n",
       "      <td>2017.0</td>\n",
       "    </tr>\n",
       "    <tr>\n",
       "      <th>39</th>\n",
       "      <td>242051629</td>\n",
       "      <td>refs/pull/2104/merge</td>\n",
       "      <td>f15c0172ac9f6f82df95dd8fa336b6331fa506d5</td>\n",
       "      <td>25653</td>\n",
       "      <td>2104.0</td>\n",
       "      <td>242051629</td>\n",
       "      <td>pull_request</td>\n",
       "      <td>2017-06-12 14:55:34+00:00</td>\n",
       "      <td>MMF-324 introduce concept of build-in Quality ...</td>\n",
       "      <td>2017-06-12 14:50:47+00:00</td>\n",
       "      <td>492.0</td>\n",
       "      <td>failed</td>\n",
       "      <td>12.0</td>\n",
       "      <td>6.0</td>\n",
       "      <td>2017.0</td>\n",
       "    </tr>\n",
       "  </tbody>\n",
       "</table>\n",
       "</div>"
      ],
      "text/plain": [
       "      buildid                                          commitref  \\\n",
       "0   241946099  refs/heads/feature/atlas/MMF-324/builtin-profiles   \n",
       "1   241952022  refs/heads/feature/atlas/MMF-324/builtin-profiles   \n",
       "2   241952044                               refs/pull/2104/merge   \n",
       "3   241955852                   refs/heads/feature/jl/onboarding   \n",
       "4   241956721        refs/heads/feature/stas/onboarding/tutorial   \n",
       "5   241956741                               refs/pull/2137/merge   \n",
       "6   241963248                   refs/heads/feature/jl/onboarding   \n",
       "7   241974640               refs/heads/feature/lambda/onboarding   \n",
       "8   241974654                               refs/pull/2133/merge   \n",
       "9   241975118                               refs/pull/2161/merge   \n",
       "10  241989339               refs/heads/feature/lambda/onboarding   \n",
       "11  241989357                               refs/pull/2133/merge   \n",
       "12  241990944                   refs/heads/feature/jl/onboarding   \n",
       "13  241990954                               refs/pull/2161/merge   \n",
       "14  241995832                   refs/heads/feature/jl/onboarding   \n",
       "15  241995841                               refs/pull/2161/merge   \n",
       "16  242001790  refs/heads/feature/atlas/MMF-324/builtin-profiles   \n",
       "17  242001806                               refs/pull/2104/merge   \n",
       "18  242002316               refs/heads/feature/lambda/onboarding   \n",
       "19  242002336                               refs/pull/2133/merge   \n",
       "20  242002817  refs/heads/feature/atlas/MMF-324/builtin-profiles   \n",
       "21  242002827                               refs/pull/2104/merge   \n",
       "22  242007975  refs/heads/feature/stas/onboarding/on-first-login   \n",
       "23  242008093                               refs/pull/2162/merge   \n",
       "24  242012612                   refs/heads/feature/jl/onboarding   \n",
       "25  242012633                               refs/pull/2161/merge   \n",
       "26  242019365                   refs/heads/feature/jl/onboarding   \n",
       "27  242019394                               refs/pull/2161/merge   \n",
       "28  242024729                   refs/heads/feature/jl/onboarding   \n",
       "29  242024738                               refs/pull/2161/merge   \n",
       "30  242033171                               refs/pull/2104/merge   \n",
       "31  242033227  refs/heads/feature/atlas/MMF-324/builtin-profiles   \n",
       "32  242033597  refs/heads/feature/atlas/MMF-324/builtin-profiles   \n",
       "33  242033612                               refs/pull/2104/merge   \n",
       "34  242042259  refs/heads/feature/stas/onboarding/on-first-login   \n",
       "35  242042262                               refs/pull/2162/merge   \n",
       "36  242048095                   refs/heads/feature/jl/onboarding   \n",
       "37  242048147                               refs/pull/2161/merge   \n",
       "38  242051624  refs/heads/feature/atlas/MMF-324/builtin-profiles   \n",
       "39  242051629                               refs/pull/2104/merge   \n",
       "\n",
       "                                   commitsha  number  pull_request_number  \\\n",
       "0   2e4b539138fde6f664a865c81fb6ab0763f74bdb   25614                  NaN   \n",
       "1   464f5da96733c14818f4b4bfeb878951b859ee0c   25615                  NaN   \n",
       "2   7358e9a93e47ac9fcaebe960c00ab8bd28e9890e   25616               2104.0   \n",
       "3   00e86fd06991a1e54e3b17eb82f2532f85de6489   25617                  NaN   \n",
       "4   b34d8845506f0de01138e525d118fe292d204334   25618                  NaN   \n",
       "5   0110c87fd42c510bb2c2f7a274d654a9fb07fb29   25619               2137.0   \n",
       "6   8823b927339cbb7110f02c42bd12a04ea658897d   25620                  NaN   \n",
       "7   fc4e2b219f729fd10dba979629ca79eeff0d726c   25621                  NaN   \n",
       "8   baf18566bc2af9cab1c72b851ce9e08d3714c731   25622               2133.0   \n",
       "9   939b617446ccc889408ea39ecf00e396443dcedb   25623               2161.0   \n",
       "10  e1b11e79bd127d879476b363275624608c4ed81c   25624                  NaN   \n",
       "11  0793b261d974b65ec8edc2cc20de7f2d445f7555   25625               2133.0   \n",
       "12  573e456855915527ac5034bcefd2df196122ac3e   25626                  NaN   \n",
       "13  ec4b2a72dc3254beeef8af722893f8918be53cb7   25627               2161.0   \n",
       "14  a47375bc461c5a7ba85ebcd2ff7854edb3a0dd16   25628                  NaN   \n",
       "15  5f482ef7a30d560fae1471b6f4dd946b25757cdb   25629               2161.0   \n",
       "16  6e1b985fcfebfe1a4178fe6cc0a7852534eb56c1   25630                  NaN   \n",
       "17  0b284e73ea86f4373e198549afbc27f12513d2e4   25631               2104.0   \n",
       "18  e5fee23e15c48930bb67919c09d165cc71bfc6d7   25632                  NaN   \n",
       "19  e8dd738c9a0ecdc01b1dac248ed8fbe10042872d   25633               2133.0   \n",
       "20  9a300a546ae99168251c033ed06c595b299dcfce   25634                  NaN   \n",
       "21  b492c6f375c836235b390a35b3c3caed77a89b47   25635               2104.0   \n",
       "22  461f9a35e21be94a34ff2f42c230113c22ee5994   25636                  NaN   \n",
       "23  49263c2af1222008652719412cfe8d75a841cbe6   25637               2162.0   \n",
       "24  9ba4dde2cad5e16512c6bba59153efad28b2978a   25638                  NaN   \n",
       "25  daad1ad43f4f288e80e22a8b9ce436890d232177   25639               2161.0   \n",
       "26  5ac9974e02712fbd7052b076e28d14104988ba0a   25640                  NaN   \n",
       "27  921c3e2ecca7789b9b3d971b443e8a6fa575a7f2   25641               2161.0   \n",
       "28  487757cd9df582f405e290ef8f77aed517b370e7   25642                  NaN   \n",
       "29  c10bddd041f8d1451b8c0502fc59608d2eab7a2c   25643               2161.0   \n",
       "30  28edb2f9f5e9997ecf6571698ca69036440ae766   25644               2104.0   \n",
       "31  86537cda53a7e89e2bab3042909d013987773048   25645                  NaN   \n",
       "32  935029bbd379f12250049e2670ee83dfcbab7c33   25646                  NaN   \n",
       "33  1361c9b16cb5e7194a22af9ebe8c5e20f218e1e6   25647               2104.0   \n",
       "34  ff3679ea9bd08d9491722b1d018761c8932794b1   25648                  NaN   \n",
       "35  fb8caa02caa1796b0fc7f2bd020134d02fc39a94   25649               2162.0   \n",
       "36  7a440ade37a0cdbc96095cd098b8237685e878e9   25650                  NaN   \n",
       "37  6b7919397173da43ed5574924169729871498457   25651               2161.0   \n",
       "38  5fd98082fb236476059a71cb234d360c033450e3   25652                  NaN   \n",
       "39  f15c0172ac9f6f82df95dd8fa336b6331fa506d5   25653               2104.0   \n",
       "\n",
       "           id    event_type                finished_at  \\\n",
       "0   241946099          push  2017-06-12 09:21:43+00:00   \n",
       "1   241952022          push  2017-06-12 09:37:24+00:00   \n",
       "2   241952044  pull_request  2017-06-12 09:53:48+00:00   \n",
       "3   241955852          push  2017-06-12 09:56:41+00:00   \n",
       "4   241956721          push  2017-06-12 09:51:07+00:00   \n",
       "5   241956741  pull_request  2017-06-12 10:01:41+00:00   \n",
       "6   241963248          push  2017-06-12 10:19:03+00:00   \n",
       "7   241974640          push  2017-06-12 10:52:06+00:00   \n",
       "8   241974654  pull_request  2017-06-12 11:07:10+00:00   \n",
       "9   241975118  pull_request  2017-06-12 11:10:44+00:00   \n",
       "10  241989339          push  2017-06-12 11:49:38+00:00   \n",
       "11  241989357  pull_request  2017-06-12 11:59:35+00:00   \n",
       "12  241990944          push  2017-06-12 11:57:40+00:00   \n",
       "13  241990954  pull_request  2017-06-12 12:04:19+00:00   \n",
       "14  241995832          push  2017-06-12 12:11:56+00:00   \n",
       "15  241995841  pull_request  2017-06-12 12:23:17+00:00   \n",
       "16  242001790          push  2017-06-12 12:33:32+00:00   \n",
       "17  242001806  pull_request  2017-06-12 12:44:03+00:00   \n",
       "18  242002316          push  2017-06-12 12:35:11+00:00   \n",
       "19  242002336  pull_request  2017-06-12 12:45:23+00:00   \n",
       "20  242002817          push  2017-06-12 12:36:35+00:00   \n",
       "21  242002827  pull_request  2017-06-12 12:47:22+00:00   \n",
       "22  242007975          push  2017-06-12 12:53:13+00:00   \n",
       "23  242008093  pull_request  2017-06-12 13:09:57+00:00   \n",
       "24  242012612          push  2017-06-12 13:07:01+00:00   \n",
       "25  242012633  pull_request  2017-06-12 13:18:05+00:00   \n",
       "26  242019365          push  2017-06-12 13:27:55+00:00   \n",
       "27  242019394  pull_request  2017-06-12 13:34:44+00:00   \n",
       "28  242024729          push  2017-06-12 13:43:05+00:00   \n",
       "29  242024738  pull_request  2017-06-12 13:53:21+00:00   \n",
       "30  242033171  pull_request  2017-06-12 14:13:51+00:00   \n",
       "31  242033227          push  2017-06-12 14:02:49+00:00   \n",
       "32  242033597          push  2017-06-12 14:02:53+00:00   \n",
       "33  242033612  pull_request  2017-06-12 17:53:03+00:00   \n",
       "34  242042259          push  2017-06-12 14:27:25+00:00   \n",
       "35  242042262  pull_request  2017-06-12 14:38:15+00:00   \n",
       "36  242048095          push  2017-06-12 14:42:11+00:00   \n",
       "37  242048147  pull_request  2017-06-12 14:53:17+00:00   \n",
       "38  242051624          push  2017-06-12 14:51:28+00:00   \n",
       "39  242051629  pull_request  2017-06-12 14:55:34+00:00   \n",
       "\n",
       "                                   pull_request_title  \\\n",
       "0                                                 NaN   \n",
       "1                                                 NaN   \n",
       "2   MMF-324 introduce concept of build-in Quality ...   \n",
       "3                                                 NaN   \n",
       "4                                                 NaN   \n",
       "5           UI: SONAR-9355 Create onboarding tutorial   \n",
       "6                                                 NaN   \n",
       "7                                                 NaN   \n",
       "8      MMF-886 Better first-time developer experience   \n",
       "9   SONAR-9356 Show onboarding tutorial only once ...   \n",
       "10                                                NaN   \n",
       "11     MMF-886 Better first-time developer experience   \n",
       "12                                                NaN   \n",
       "13  SONAR-9356 Show onboarding tutorial only once ...   \n",
       "14                                                NaN   \n",
       "15  SONAR-9356 Show onboarding tutorial only once ...   \n",
       "16                                                NaN   \n",
       "17  MMF-324 introduce concept of build-in Quality ...   \n",
       "18                                                NaN   \n",
       "19     MMF-886 Better first-time developer experience   \n",
       "20                                                NaN   \n",
       "21  MMF-324 introduce concept of build-in Quality ...   \n",
       "22                                                NaN   \n",
       "23  SONAR-9424 Show onboarding tutorial on first l...   \n",
       "24                                                NaN   \n",
       "25  SONAR-9356 Show onboarding tutorial only once ...   \n",
       "26                                                NaN   \n",
       "27  SONAR-9356 Show onboarding tutorial only once ...   \n",
       "28                                                NaN   \n",
       "29  SONAR-9356 Show onboarding tutorial only once ...   \n",
       "30  MMF-324 introduce concept of build-in Quality ...   \n",
       "31                                                NaN   \n",
       "32                                                NaN   \n",
       "33  MMF-324 introduce concept of build-in Quality ...   \n",
       "34                                                NaN   \n",
       "35  SONAR-9424 Show onboarding tutorial on first l...   \n",
       "36                                                NaN   \n",
       "37  SONAR-9356 Show onboarding tutorial only once ...   \n",
       "38                                                NaN   \n",
       "39  MMF-324 introduce concept of build-in Quality ...   \n",
       "\n",
       "                   started_at  duration     state  started_at_day  \\\n",
       "0   2017-06-12 09:21:03+00:00      40.0  canceled            12.0   \n",
       "1   2017-06-12 09:36:43+00:00      40.0  canceled            12.0   \n",
       "2   2017-06-12 09:42:15+00:00     973.0    passed            12.0   \n",
       "3   2017-06-12 09:50:40+00:00     610.0    failed            12.0   \n",
       "4   2017-06-12 09:50:27+00:00      64.0  canceled            12.0   \n",
       "5   2017-06-12 09:50:05+00:00    1047.0    passed            12.0   \n",
       "6   2017-06-12 10:08:56+00:00     885.0    passed            12.0   \n",
       "7   2017-06-12 10:51:28+00:00      75.0  canceled            12.0   \n",
       "8   2017-06-12 10:51:36+00:00    1360.0    passed            12.0   \n",
       "9   2017-06-12 10:54:03+00:00    1463.0    passed            12.0   \n",
       "10  2017-06-12 11:48:47+00:00      95.0  canceled            12.0   \n",
       "11  2017-06-12 11:48:46+00:00     930.0    passed            12.0   \n",
       "12  2017-06-12 11:56:57+00:00      79.0  canceled            12.0   \n",
       "13  2017-06-12 11:57:34+00:00     706.0    failed            12.0   \n",
       "14  2017-06-12 12:11:06+00:00      93.0  canceled            12.0   \n",
       "15  2017-06-12 12:11:09+00:00     993.0    passed            12.0   \n",
       "16  2017-06-12 12:32:52+00:00      62.0  canceled            12.0   \n",
       "17  2017-06-12 12:32:56+00:00     972.0    passed            12.0   \n",
       "18  2017-06-12 12:34:17+00:00      86.0  canceled            12.0   \n",
       "19  2017-06-12 12:34:33+00:00    1016.0    passed            12.0   \n",
       "20  2017-06-12 12:35:52+00:00      86.0  canceled            12.0   \n",
       "21  2017-06-12 12:35:54+00:00     965.0    passed            12.0   \n",
       "22  2017-06-12 12:52:33+00:00      77.0  canceled            12.0   \n",
       "23  2017-06-12 12:52:43+00:00    1615.0    passed            12.0   \n",
       "24  2017-06-12 13:06:12+00:00      98.0  canceled            12.0   \n",
       "25  2017-06-12 13:06:08+00:00    1179.0    passed            12.0   \n",
       "26  2017-06-12 13:27:08+00:00      94.0  canceled            12.0   \n",
       "27  2017-06-12 13:27:13+00:00     872.0    failed            12.0   \n",
       "28  2017-06-12 13:42:15+00:00      99.0  canceled            12.0   \n",
       "29  2017-06-12 13:42:22+00:00    1048.0    passed            12.0   \n",
       "30  2017-06-12 14:02:06+00:00     985.0    passed            12.0   \n",
       "31  2017-06-12 14:02:06+00:00      82.0  canceled            12.0   \n",
       "32  2017-06-12 14:02:14+00:00      77.0  canceled            12.0   \n",
       "33  2017-06-12 17:45:36+00:00     749.0    failed            12.0   \n",
       "34  2017-06-12 14:26:47+00:00      72.0  canceled            12.0   \n",
       "35  2017-06-12 14:26:49+00:00    1127.0    passed            12.0   \n",
       "36  2017-06-12 14:41:20+00:00     100.0  canceled            12.0   \n",
       "37  2017-06-12 14:41:01+00:00    1209.0    passed            12.0   \n",
       "38  2017-06-12 14:50:48+00:00      79.0  canceled            12.0   \n",
       "39  2017-06-12 14:50:47+00:00     492.0    failed            12.0   \n",
       "\n",
       "    started_at_month  started_at_year  \n",
       "0                6.0           2017.0  \n",
       "1                6.0           2017.0  \n",
       "2                6.0           2017.0  \n",
       "3                6.0           2017.0  \n",
       "4                6.0           2017.0  \n",
       "5                6.0           2017.0  \n",
       "6                6.0           2017.0  \n",
       "7                6.0           2017.0  \n",
       "8                6.0           2017.0  \n",
       "9                6.0           2017.0  \n",
       "10               6.0           2017.0  \n",
       "11               6.0           2017.0  \n",
       "12               6.0           2017.0  \n",
       "13               6.0           2017.0  \n",
       "14               6.0           2017.0  \n",
       "15               6.0           2017.0  \n",
       "16               6.0           2017.0  \n",
       "17               6.0           2017.0  \n",
       "18               6.0           2017.0  \n",
       "19               6.0           2017.0  \n",
       "20               6.0           2017.0  \n",
       "21               6.0           2017.0  \n",
       "22               6.0           2017.0  \n",
       "23               6.0           2017.0  \n",
       "24               6.0           2017.0  \n",
       "25               6.0           2017.0  \n",
       "26               6.0           2017.0  \n",
       "27               6.0           2017.0  \n",
       "28               6.0           2017.0  \n",
       "29               6.0           2017.0  \n",
       "30               6.0           2017.0  \n",
       "31               6.0           2017.0  \n",
       "32               6.0           2017.0  \n",
       "33               6.0           2017.0  \n",
       "34               6.0           2017.0  \n",
       "35               6.0           2017.0  \n",
       "36               6.0           2017.0  \n",
       "37               6.0           2017.0  \n",
       "38               6.0           2017.0  \n",
       "39               6.0           2017.0  "
      ]
     },
     "execution_count": 374,
     "metadata": {},
     "output_type": "execute_result"
    }
   ],
   "source": [
    "builds_commitref = jobs.drop_duplicates(subset=[\"buildid\", \"commitref\", \"commitsha\"], keep=\"first\")[[\"buildid\", \"commitref\", \"commitsha\"]]\\\n",
    ".merge(builds, left_on=\"buildid\", right_on=\"id\")\n",
    "builds_commitref.head(40)"
   ]
  },
  {
   "cell_type": "code",
   "execution_count": 377,
   "metadata": {},
   "outputs": [],
   "source": [
    "def detect_build_bursts(_builds, gap_size, burst_size, states):\n",
    "    positive_count = 0\n",
    "    negative_count = 0\n",
    "    n_bursts = 0\n",
    "    burst_sizes = []\n",
    "    i = 0\n",
    "    for index, row in _builds.sort_values(by=\"started_at\").iterrows():\n",
    "        i+=1\n",
    "        if((i == len(_builds)) | (not (row.state in states))):\n",
    "            negative_count+=1\n",
    "            if(negative_count == gap_size):\n",
    "                if(positive_count >= burst_size):\n",
    "                    n_bursts+=1\n",
    "                    burst_sizes.append(positive_count)\n",
    "                negative_count = 0\n",
    "                positive_count = 0\n",
    "        if(row.state in states):\n",
    "            positive_count+=1\n",
    "    return n_bursts, burst_sizes\n",
    "\n",
    "def build_burst_metrics(row, _release_jobs, states):\n",
    "    _job_ids = get_job_ids_from_comparison_row(row, _release_jobs)\n",
    "    _builds = get_builds_from_jobs_ids(_job_ids)\n",
    "    _builds = builds_commitref[builds_commitref.id.isin(_builds.id)]\n",
    "    res = {}\n",
    "    for gap_size in [1,2,3]:\n",
    "        for burst_size in [1,2,3]:\n",
    "            commitref_data=[]\n",
    "            for commitref in _builds.commitref.unique():\n",
    "                _ref_builds = _builds[_builds.commitref==commitref]\n",
    "                commitref_data.append(detect_build_bursts(_ref_builds, gap_size, burst_size, states))\n",
    "            bursts = np.array([])\n",
    "            bursts_sizes = np.array([])\n",
    "            for d in commitref_data:\n",
    "                bursts = np.append(bursts,d[0])\n",
    "                for v in d[1]:\n",
    "                    bursts_sizes = np.append(bursts_sizes,v)\n",
    "            if not gap_size in res:\n",
    "                res[gap_size] = {}\n",
    "            res[gap_size][burst_size] = (bursts, bursts_sizes)\n",
    "    return res\n",
    "\n",
    "def get_failed_burst_metrics(row, _release_jobs):\n",
    "    return build_burst_metrics(row, _release_jobs, [\"failed\"])\n",
    "\n",
    "def get_canceled_burst_metrics(row, _release_jobs):\n",
    "    return build_burst_metrics(row, _release_jobs, [\"canceled\"])\n",
    "\n",
    "def get_not_passed_burst_metrics(row, _release_jobs):\n",
    "    return build_burst_metrics(row, _release_jobs, [\"failed\", \"canceled\", \"errored\"])"
   ]
  },
  {
   "cell_type": "code",
   "execution_count": 396,
   "metadata": {},
   "outputs": [],
   "source": [
    "def burst_metrics_analysis(burst_metrics, type_str):\n",
    "    cols = [\"index\"]\n",
    "    data = []\n",
    "    for i, row in burst_metrics.items():\n",
    "        inner_data = [i]\n",
    "        for gap in row:\n",
    "            for burst_size in row[gap]:\n",
    "                bursts = row[gap][burst_size][0]\n",
    "                burst_sizes = row[gap][burst_size][1]\n",
    "                inner_data.append(bursts.mean())\n",
    "                inner_data.append(np.median(bursts))\n",
    "                inner_data.append(bursts.max())\n",
    "                inner_data.append(bursts.min())\n",
    "                if(i == 3):\n",
    "                    for metric in [\"mean\", \"median\", \"max\", \"min\"]:\n",
    "                        cols.append(f\"{type_str}_gp{gap}_bs{burst_size}_n_bursts_{metric}\")\n",
    "                inner_data.append(burst_sizes.mean())\n",
    "                inner_data.append(np.median(burst_sizes))\n",
    "                inner_data.append(np.max(burst_sizes, initial=0))\n",
    "                inner_data.append(np.min(burst_sizes, initial=0))\n",
    "                if(i == 3):\n",
    "                    for metric in [\"mean\", \"median\", \"max\", \"min\"]:\n",
    "                        cols.append(f\"{type_str}_gp{gap}_bs{burst_size}_burst_size_{metric}\")\n",
    "        data.append(tuple(inner_data))\n",
    "    return data, cols"
   ]
  },
  {
   "cell_type": "markdown",
   "metadata": {},
   "source": [
    "**Not passed burst metrics**"
   ]
  },
  {
   "cell_type": "markdown",
   "metadata": {},
   "source": [
    "not_passed_burst_metrics = {}\n",
    "for df, release_jobs, method in df_jobs:\n",
    "    metrics = df.apply(get_not_passed_burst_metrics,args=(release_jobs,),axis=1)\n",
    "    not_passed_burst_metrics[method]=metrics"
   ]
  },
  {
   "cell_type": "markdown",
   "metadata": {},
   "source": [
    "df_jobs_bursts = [(),()]\n",
    "for i, (df, release_jobs, method) in enumerate(df_jobs):\n",
    "    data, cols = burst_metrics_analysis(not_passed_burst_metrics[\"iterative_pr_head_ref_cherry_picked\"], \"not_passed\")\n",
    "    not_passed_burst_metrics_df = pd.DataFrame(data, columns=cols)\n",
    "    not_passed_burst_metrics_df.set_index(\"index\", inplace=True)\n",
    "    not_passed_burst_metrics_df.fillna(0, inplace=True)\n",
    "    df_jobs_bursts[i] = (df.join(not_passed_burst_metrics_df), release_jobs, method)"
   ]
  },
  {
   "cell_type": "markdown",
   "metadata": {},
   "source": [
    "#checkpoint of calculation up until here\n",
    "for df_burst, release_jobs, method in df_jobs_bursts: \n",
    "    df_burst.to_csv(f\"{csv_folder}/ci_metrics/{method}_not_passed_burst_metrics.csv\")"
   ]
  },
  {
   "cell_type": "markdown",
   "metadata": {},
   "source": [
    "#retrieve checkpoint of calculation up until here\n",
    "df_jobs_bursts = [(),()]\n",
    "for i, (df, release_jobs, method) in enumerate(df_jobs): \n",
    "    tmp = pd.read_csv(f\"{csv_folder}/ci_metrics/{method}_not_passed_burst_metrics.csv\", index_col=0)\n",
    "    df_jobs_bursts[i] = (tmp, release_jobs, method)"
   ]
  },
  {
   "cell_type": "markdown",
   "metadata": {},
   "source": [
    "**Canceled burst metrics**"
   ]
  },
  {
   "cell_type": "markdown",
   "metadata": {},
   "source": [
    "cenceled_burst_metrics = {}\n",
    "for df, release_jobs, method in df_jobs_bursts:\n",
    "    metrics = df.apply(get_canceled_burst_metrics,args=(release_jobs,),axis=1)\n",
    "    cenceled_burst_metrics[method]=metrics"
   ]
  },
  {
   "cell_type": "code",
   "execution_count": 472,
   "metadata": {},
   "outputs": [
    {
     "name": "stderr",
     "output_type": "stream",
     "text": [
      "<ipython-input-396-81977db1af73>:17: RuntimeWarning: Mean of empty slice.\n",
      "  inner_data.append(burst_sizes.mean())\n",
      "/Users/alexincerti/Library/Python/3.8/lib/python/site-packages/numpy/core/_methods.py:170: RuntimeWarning: invalid value encountered in double_scalars\n",
      "  ret = ret.dtype.type(ret / rcount)\n",
      "/Users/alexincerti/Library/Python/3.8/lib/python/site-packages/numpy/core/fromnumeric.py:3372: RuntimeWarning: Mean of empty slice.\n",
      "  return _methods._mean(a, axis=axis, dtype=dtype,\n"
     ]
    }
   ],
   "source": [
    "for i, (df, release_jobs, method) in enumerate(df_jobs_bursts):\n",
    "    data, cols = burst_metrics_analysis(not_passed_burst_metrics[\"iterative_pr_head_ref_cherry_picked\"], \"canceled\")\n",
    "    not_passed_burst_metrics_df = pd.DataFrame(data, columns=cols)\n",
    "    not_passed_burst_metrics_df.set_index(\"index\", inplace=True)\n",
    "    not_passed_burst_metrics_df.fillna(0, inplace=True)\n",
    "    df_jobs_bursts[i] = (df.join(not_passed_burst_metrics_df), release_jobs, method)"
   ]
  },
  {
   "cell_type": "markdown",
   "metadata": {},
   "source": [
    "#checkpoint of calculation up until here\n",
    "for df_burst, release_jobs, method in df_jobs_bursts: \n",
    "    df_burst.to_csv(f\"{csv_folder}/ci_metrics/{method}_not_passed_+_canceled_burst_metrics.csv\")"
   ]
  },
  {
   "cell_type": "markdown",
   "metadata": {},
   "source": [
    "#retrieve checkpoint of calculation up until here\n",
    "df_jobs_bursts = [(),()]\n",
    "for i, (df, release_jobs, method) in enumerate(df_jobs): \n",
    "    tmp = pd.read_csv(f\"{csv_folder}/ci_metrics/{method}_not_passed_+_canceled_burst_metrics.csv\", index_col=0)\n",
    "    df_jobs_bursts[i] = (tmp, release_jobs, method)"
   ]
  },
  {
   "cell_type": "markdown",
   "metadata": {},
   "source": [
    "**Failed burst metrics**"
   ]
  },
  {
   "cell_type": "markdown",
   "metadata": {},
   "source": [
    "failed_burst_metrics = {}\n",
    "for df, release_jobs, method in df_jobs_bursts:\n",
    "    metrics = df.apply(get_failed_burst_metrics,args=(release_jobs,),axis=1)\n",
    "    cenceled_burst_metrics[method]=metrics"
   ]
  },
  {
   "cell_type": "markdown",
   "metadata": {},
   "source": [
    "for i, (df, release_jobs, method) in enumerate(df_jobs_bursts):\n",
    "    data, cols = burst_metrics_analysis(not_passed_burst_metrics[\"iterative_pr_head_ref_cherry_picked\"], \"failed\")\n",
    "    not_passed_burst_metrics_df = pd.DataFrame(data, columns=cols)\n",
    "    not_passed_burst_metrics_df.set_index(\"index\", inplace=True)\n",
    "    not_passed_burst_metrics_df.fillna(0, inplace=True)\n",
    "    df_jobs_bursts[i] = (df.join(not_passed_burst_metrics_df), release_jobs, method)"
   ]
  },
  {
   "cell_type": "markdown",
   "metadata": {},
   "source": [
    "#checkpoint of calculation up until here\n",
    "for df_burst, release_jobs, method in df_jobs_bursts: \n",
    "    df_burst.to_csv(f\"{csv_folder}/ci_metrics/{method}_all_burst_metrics.csv\")"
   ]
  },
  {
   "cell_type": "markdown",
   "metadata": {},
   "source": [
    "#retrieve checkpoint of calculation up until here\n",
    "df_jobs_bursts = [(),()]\n",
    "for i, (df, release_jobs, method) in enumerate(df_jobs): \n",
    "    tmp = pd.read_csv(f\"{csv_folder}/ci_metrics/{method}_all_burst_metrics.csv\", index_col=0)\n",
    "    df_jobs_bursts[i] = (tmp, release_jobs, method)"
   ]
  },
  {
   "cell_type": "markdown",
   "metadata": {},
   "source": [
    "**Software quality metrics**"
   ]
  },
  {
   "cell_type": "code",
   "execution_count": 499,
   "metadata": {},
   "outputs": [
    {
     "data": {
      "text/html": [
       "<div>\n",
       "<style scoped>\n",
       "    .dataframe tbody tr th:only-of-type {\n",
       "        vertical-align: middle;\n",
       "    }\n",
       "\n",
       "    .dataframe tbody tr th {\n",
       "        vertical-align: top;\n",
       "    }\n",
       "\n",
       "    .dataframe thead th {\n",
       "        text-align: right;\n",
       "    }\n",
       "</style>\n",
       "<table border=\"1\" class=\"dataframe\">\n",
       "  <thead>\n",
       "    <tr style=\"text-align: right;\">\n",
       "      <th></th>\n",
       "      <th>version_name</th>\n",
       "      <th>post_release_bugs</th>\n",
       "      <th>pre_release_bugs</th>\n",
       "      <th>pre_release_after_tagging_bugs</th>\n",
       "      <th>dde</th>\n",
       "      <th>critical_post_release_bugs</th>\n",
       "      <th>minor_post_release_bugs</th>\n",
       "      <th>fix_time</th>\n",
       "    </tr>\n",
       "  </thead>\n",
       "  <tbody>\n",
       "    <tr>\n",
       "      <th>0</th>\n",
       "      <td>4.5.7</td>\n",
       "      <td>1</td>\n",
       "      <td>0.0</td>\n",
       "      <td>0.0</td>\n",
       "      <td>0.000000</td>\n",
       "      <td>0.0</td>\n",
       "      <td>0.0</td>\n",
       "      <td>-434.28603</td>\n",
       "    </tr>\n",
       "    <tr>\n",
       "      <th>1</th>\n",
       "      <td>5.1</td>\n",
       "      <td>24</td>\n",
       "      <td>2.0</td>\n",
       "      <td>4.0</td>\n",
       "      <td>0.076923</td>\n",
       "      <td>0.0</td>\n",
       "      <td>2.0</td>\n",
       "      <td>-60.53169</td>\n",
       "    </tr>\n",
       "  </tbody>\n",
       "</table>\n",
       "</div>"
      ],
      "text/plain": [
       "  version_name  post_release_bugs  pre_release_bugs  \\\n",
       "0        4.5.7                  1               0.0   \n",
       "1          5.1                 24               2.0   \n",
       "\n",
       "   pre_release_after_tagging_bugs       dde  critical_post_release_bugs  \\\n",
       "0                             0.0  0.000000                         0.0   \n",
       "1                             4.0  0.076923                         0.0   \n",
       "\n",
       "   minor_post_release_bugs   fix_time  \n",
       "0                      0.0 -434.28603  \n",
       "1                      2.0  -60.53169  "
      ]
     },
     "execution_count": 499,
     "metadata": {},
     "output_type": "execute_result"
    }
   ],
   "source": [
    "sw_quality_metrics= pd.read_csv(f\"{csv_folder}/tags_software_quality_metrics_no_rc_and_milestones.csv\", index_col=0)\n",
    "sw_quality_metrics.head(2)"
   ]
  },
  {
   "cell_type": "code",
   "execution_count": 500,
   "metadata": {},
   "outputs": [
    {
     "data": {
      "text/plain": [
       "Index(['version_name', 'post_release_bugs', 'pre_release_bugs',\n",
       "       'pre_release_after_tagging_bugs', 'dde', 'critical_post_release_bugs',\n",
       "       'minor_post_release_bugs', 'fix_time'],\n",
       "      dtype='object')"
      ]
     },
     "execution_count": 500,
     "metadata": {},
     "output_type": "execute_result"
    }
   ],
   "source": [
    "sw_quality_metrics.columns"
   ]
  },
  {
   "cell_type": "markdown",
   "metadata": {},
   "source": [
    "**Merging**"
   ]
  },
  {
   "cell_type": "code",
   "execution_count": 503,
   "metadata": {},
   "outputs": [],
   "source": [
    "df_jobs_sw_metrics = [(),()]\n",
    "for i, (df, release_jobs, method) in enumerate(df_jobs):\n",
    "    dataset_with_sw_metrics = df.merge(sw_quality_metrics, left_on=\"to_tag\", right_on=\"version_name\")\n",
    "    df_jobs_sw_metrics[i] = (dataset_with_sw_metrics, release_jobs, method)\n",
    "    dataset_with_sw_metrics.to_csv(f\"{csv_folder}/final_datasets/{method}_with_sw_metrics.csv\")"
   ]
  },
  {
   "cell_type": "markdown",
   "metadata": {},
   "source": [
    "**Extracting the dependent variables** "
   ]
  },
  {
   "cell_type": "code",
   "execution_count": 177,
   "metadata": {},
   "outputs": [],
   "source": [
    "tags_comparison_with_metrics_y=tags_comparison_with_metrics[[\"post_release_bugs\", \"fix_time\", \"dde\", \"critical_post_release_bugs\", \"minor_post_release_bugs\"]]"
   ]
  },
  {
   "cell_type": "code",
   "execution_count": 178,
   "metadata": {},
   "outputs": [
    {
     "data": {
      "text/plain": [
       "Index(['post_release_bugs', 'fix_time', 'dde', 'critical_post_release_bugs',\n",
       "       'minor_post_release_bugs'],\n",
       "      dtype='object')"
      ]
     },
     "execution_count": 178,
     "metadata": {},
     "output_type": "execute_result"
    }
   ],
   "source": [
    "tags_comparison_with_metrics_y.columns"
   ]
  },
  {
   "cell_type": "markdown",
   "metadata": {},
   "source": [
    "**Extracting the independent variables**"
   ]
  },
  {
   "cell_type": "code",
   "execution_count": 179,
   "metadata": {},
   "outputs": [],
   "source": [
    "tags_comparison_with_metrics_x = tags_comparison_with_metrics.drop(columns=['from_author_date', 'to_author_date', 'ahead_by', 'behind_by',\n",
    "       'from_sha', 'to_sha', 'ahead_behind_sum', 'diff_author_dates',\n",
    "       'diff_author_days', 'from_commit_date','to_commit_date', 'diff_commit_dates', 'diff_commit_days', 'to_tag',\n",
    "       'from_tag'])\n",
    "tags_comparison_with_metrics_x = tags_comparison_with_metrics_x.drop(columns=['version_name','post_release_bugs', 'dde', 'critical_post_release_bugs',\n",
    "       'minor_post_release_bugs', 'fix_time'])"
   ]
  },
  {
   "cell_type": "code",
   "execution_count": 180,
   "metadata": {},
   "outputs": [
    {
     "data": {
      "text/plain": [
       "Index(['ratio_passed_builds', 'ratio_canceled_builds', 'ratio_failed_builds',\n",
       "       'ratio_errored_builds', 'ratio_pr_builds', 'mean_all_build_duration',\n",
       "       'median_all_build_duration', 'max_all_build_duration',\n",
       "       'min_all_build_duration', 'mean_failed_build_duration',\n",
       "       ...\n",
       "       'canceled_gp3_bs3_n_bursts_mean', 'canceled_gp3_bs3_n_bursts_median',\n",
       "       'canceled_gp3_bs3_n_bursts_max', 'canceled_gp3_bs3_n_bursts_min',\n",
       "       'canceled_gp3_bs3_burst_size_mean',\n",
       "       'canceled_gp3_bs3_burst_size_median', 'canceled_gp3_bs3_burst_size_max',\n",
       "       'canceled_gp3_bs3_burst_size_min', 'pre_release_bugs',\n",
       "       'pre_release_after_tagging_bugs'],\n",
       "      dtype='object', length=267)"
      ]
     },
     "execution_count": 180,
     "metadata": {},
     "output_type": "execute_result"
    }
   ],
   "source": [
    "tags_comparison_with_metrics_x.columns"
   ]
  },
  {
   "cell_type": "markdown",
   "metadata": {},
   "source": [
    "**Correlation**"
   ]
  },
  {
   "cell_type": "code",
   "execution_count": 181,
   "metadata": {},
   "outputs": [],
   "source": [
    "corr_x = tags_comparison_with_metrics_x.corr()"
   ]
  },
  {
   "cell_type": "code",
   "execution_count": 182,
   "metadata": {
    "scrolled": false
   },
   "outputs": [
    {
     "data": {
      "text/plain": [
       "canceled_gp1_bs3_n_bursts_mean    0.811390\n",
       "canceled_gp2_bs2_n_bursts_mean    0.812558\n",
       "canceled_gp2_bs3_n_bursts_mean    0.903717\n",
       "canceled_gp3_bs3_n_bursts_mean    1.000000\n",
       "Name: canceled_gp3_bs3_n_bursts_mean, dtype: float64"
      ]
     },
     "execution_count": 182,
     "metadata": {},
     "output_type": "execute_result"
    }
   ],
   "source": [
    "corr_x.loc[\"canceled_gp3_bs3_n_bursts_mean\"][corr_x.loc[\"canceled_gp3_bs3_n_bursts_mean\"] > 0.8]"
   ]
  },
  {
   "cell_type": "markdown",
   "metadata": {},
   "source": [
    "**Check for normal distribution**"
   ]
  },
  {
   "cell_type": "code",
   "execution_count": 183,
   "metadata": {},
   "outputs": [],
   "source": [
    "alpha = 0.05"
   ]
  },
  {
   "cell_type": "code",
   "execution_count": 184,
   "metadata": {},
   "outputs": [],
   "source": [
    "k2, p_val = stats.normaltest(tags_comparison_with_metrics_x)"
   ]
  },
  {
   "cell_type": "code",
   "execution_count": 185,
   "metadata": {},
   "outputs": [],
   "source": [
    "cols = tags_comparison_with_metrics_x.columns"
   ]
  },
  {
   "cell_type": "code",
   "execution_count": 186,
   "metadata": {},
   "outputs": [
    {
     "data": {
      "text/plain": [
       "Index(['mean_n_builds_per_pull_request', 'mean_n_exceptions',\n",
       "       'canceled_gp2_bs1_n_bursts_mean'],\n",
       "      dtype='object')"
      ]
     },
     "execution_count": 186,
     "metadata": {},
     "output_type": "execute_result"
    }
   ],
   "source": [
    "cols[p_val > alpha]"
   ]
  },
  {
   "cell_type": "markdown",
   "metadata": {},
   "source": [
    "### Spearman correlation with Number of post release bugs\n",
    "https://statistics.laerd.com/statistical-guides/spearmans-rank-order-correlation-statistical-guide-2.php#:~:text=The%20Spearman%20correlation%20coefficient%2C%20rs%2C%20can%20take%20values%20from,the%20association%20between%20the%20ranks."
   ]
  },
  {
   "cell_type": "code",
   "execution_count": 187,
   "metadata": {},
   "outputs": [
    {
     "name": "stderr",
     "output_type": "stream",
     "text": [
      "/Users/alexincerti/Library/Python/3.8/lib/python/site-packages/scipy/stats/stats.py:4196: SpearmanRConstantInputWarning: An input array is constant; the correlation coefficent is not defined.\n",
      "  warnings.warn(SpearmanRConstantInputWarning())\n"
     ]
    }
   ],
   "source": [
    "data = []\n",
    "for col in tags_comparison_with_metrics_x.columns.values:\n",
    "    corr, p_val = stats.spearmanr(tags_comparison_with_metrics_x[f\"{col}\"],tags_comparison_with_metrics_y.post_release_bugs)\n",
    "    data.append((col, corr, p_val))\n",
    "spearman_corr_post_release_bugs_df = pd.DataFrame(data, columns=[\"metric\", \"corr\", \"p_val\"])"
   ]
  },
  {
   "cell_type": "markdown",
   "metadata": {},
   "source": [
    "top_spearm = spearman_corr_post_release_bugs_df[spearman_corr_post_release_bugs_df.p_val< 0.05].sort_values(by=\"corr\", ascending=False)\n",
    "print(top_spearm[~top_spearm.metric.str.contains(\"pre_release\")].head(10).to_latex(index=False))"
   ]
  },
  {
   "cell_type": "markdown",
   "metadata": {},
   "source": [
    "print( top_spearm[(~top_spearm.metric.str.contains(\"pre_release\")) & (~top_spearm.metric.str.contains(\"burst\"))].head(10).to_latex(index=False))"
   ]
  },
  {
   "cell_type": "code",
   "execution_count": 212,
   "metadata": {},
   "outputs": [
    {
     "data": {
      "text/html": [
       "<div>\n",
       "<style scoped>\n",
       "    .dataframe tbody tr th:only-of-type {\n",
       "        vertical-align: middle;\n",
       "    }\n",
       "\n",
       "    .dataframe tbody tr th {\n",
       "        vertical-align: top;\n",
       "    }\n",
       "\n",
       "    .dataframe thead th {\n",
       "        text-align: right;\n",
       "    }\n",
       "</style>\n",
       "<table border=\"1\" class=\"dataframe\">\n",
       "  <thead>\n",
       "    <tr style=\"text-align: right;\">\n",
       "      <th></th>\n",
       "      <th>metric</th>\n",
       "      <th>corr</th>\n",
       "      <th>p_val</th>\n",
       "    </tr>\n",
       "  </thead>\n",
       "  <tbody>\n",
       "    <tr>\n",
       "      <th>27</th>\n",
       "      <td>max_failed_tests</td>\n",
       "      <td>0.576088</td>\n",
       "      <td>0.000015</td>\n",
       "    </tr>\n",
       "    <tr>\n",
       "      <th>25</th>\n",
       "      <td>mean_failed_tests</td>\n",
       "      <td>0.547622</td>\n",
       "      <td>0.000047</td>\n",
       "    </tr>\n",
       "    <tr>\n",
       "      <th>31</th>\n",
       "      <td>max_failures_over_tests_total</td>\n",
       "      <td>0.441308</td>\n",
       "      <td>0.001503</td>\n",
       "    </tr>\n",
       "    <tr>\n",
       "      <th>39</th>\n",
       "      <td>max_n_exceptions</td>\n",
       "      <td>0.422700</td>\n",
       "      <td>0.002480</td>\n",
       "    </tr>\n",
       "    <tr>\n",
       "      <th>47</th>\n",
       "      <td>max_n_error_classes</td>\n",
       "      <td>0.409754</td>\n",
       "      <td>0.003458</td>\n",
       "    </tr>\n",
       "    <tr>\n",
       "      <th>19</th>\n",
       "      <td>max_n_builds_per_pull_request</td>\n",
       "      <td>0.370912</td>\n",
       "      <td>0.008699</td>\n",
       "    </tr>\n",
       "    <tr>\n",
       "      <th>35</th>\n",
       "      <td>max_skipped_over_tests_total</td>\n",
       "      <td>0.360732</td>\n",
       "      <td>0.010887</td>\n",
       "    </tr>\n",
       "    <tr>\n",
       "      <th>23</th>\n",
       "      <td>max_errors_over_tests_total</td>\n",
       "      <td>0.352604</td>\n",
       "      <td>0.012959</td>\n",
       "    </tr>\n",
       "    <tr>\n",
       "      <th>43</th>\n",
       "      <td>max_n_warnings</td>\n",
       "      <td>0.346307</td>\n",
       "      <td>0.014788</td>\n",
       "    </tr>\n",
       "    <tr>\n",
       "      <th>7</th>\n",
       "      <td>max_all_build_duration</td>\n",
       "      <td>0.315716</td>\n",
       "      <td>0.027118</td>\n",
       "    </tr>\n",
       "  </tbody>\n",
       "</table>\n",
       "</div>"
      ],
      "text/plain": [
       "                           metric      corr     p_val\n",
       "27               max_failed_tests  0.576088  0.000015\n",
       "25              mean_failed_tests  0.547622  0.000047\n",
       "31  max_failures_over_tests_total  0.441308  0.001503\n",
       "39               max_n_exceptions  0.422700  0.002480\n",
       "47            max_n_error_classes  0.409754  0.003458\n",
       "19  max_n_builds_per_pull_request  0.370912  0.008699\n",
       "35   max_skipped_over_tests_total  0.360732  0.010887\n",
       "23    max_errors_over_tests_total  0.352604  0.012959\n",
       "43                 max_n_warnings  0.346307  0.014788\n",
       "7          max_all_build_duration  0.315716  0.027118"
      ]
     },
     "execution_count": 212,
     "metadata": {},
     "output_type": "execute_result"
    }
   ],
   "source": [
    "top_spearm[(~top_spearm.metric.str.contains(\"pre_release\")) & (~top_spearm.metric.str.contains(\"burst\"))].head(10)"
   ]
  },
  {
   "cell_type": "code",
   "execution_count": 207,
   "metadata": {},
   "outputs": [
    {
     "data": {
      "text/plain": [
       "<AxesSubplot:xlabel='post_release_bugs', ylabel='max_failed_tests'>"
      ]
     },
     "execution_count": 207,
     "metadata": {},
     "output_type": "execute_result"
    },
    {
     "data": {
      "image/png": "[encoded data removed]",
      "text/plain": [
       "<Figure size 1008x360 with 1 Axes>"
      ]
     },
     "metadata": {
      "needs_background": "light"
     },
     "output_type": "display_data"
    }
   ],
   "source": [
    "x = pd.DataFrame({\"post_release_bugs\": tags_comparison_with_metrics.post_release_bugs.rank(),\n",
    "                  \"max_failed_tests\": tags_comparison_with_metrics.max_failed_tests.rank()})\n",
    "x.plot.scatter(x=\"post_release_bugs\", y=\"max_failed_tests\", c='DarkBlue')"
   ]
  },
  {
   "cell_type": "code",
   "execution_count": 210,
   "metadata": {},
   "outputs": [
    {
     "data": {
      "text/plain": [
       "<AxesSubplot:xlabel='post_release_bugs', ylabel='canceled_gp3_bs3_n_bursts_max'>"
      ]
     },
     "execution_count": 210,
     "metadata": {},
     "output_type": "execute_result"
    },
    {
     "data": {
      "image/png": "[encoded data removed]",
      "text/plain": [
       "<Figure size 1008x360 with 1 Axes>"
      ]
     },
     "metadata": {
      "needs_background": "light"
     },
     "output_type": "display_data"
    }
   ],
   "source": [
    "x = pd.DataFrame({\"post_release_bugs\": tags_comparison_with_metrics.post_release_bugs.rank(),\n",
    "                  \"canceled_gp3_bs3_n_bursts_max\": tags_comparison_with_metrics.canceled_gp3_bs3_n_bursts_max.rank()})\n",
    "x.plot.scatter(x=\"post_release_bugs\", y=\"canceled_gp3_bs3_n_bursts_max\", c='DarkBlue')"
   ]
  },
  {
   "cell_type": "markdown",
   "metadata": {},
   "source": [
    "### Spearman correlation with Fix Time"
   ]
  },
  {
   "cell_type": "code",
   "execution_count": null,
   "metadata": {},
   "outputs": [],
   "source": [
    "data = []\n",
    "for col in tags_comparison_with_metrics_x.columns.values:\n",
    "    corr, p_val = stats.spearmanr(tags_comparison_with_metrics_x[f\"{col}\"],tags_comparison_with_metrics_y.fix_time)\n",
    "    data.append((col, corr, p_val))\n",
    "spearman_corr_fix_time_df = pd.DataFrame(data, columns=[\"metric\", \"corr\", \"p_val\"])"
   ]
  },
  {
   "cell_type": "code",
   "execution_count": null,
   "metadata": {},
   "outputs": [],
   "source": [
    "spearman_corr_fix_time_df[spearman_corr_fix_time_df.p_val< 0.05].sort_values(by=\"corr\", ascending=False)"
   ]
  },
  {
   "cell_type": "markdown",
   "metadata": {},
   "source": [
    "### Spearman correlation with DDE"
   ]
  },
  {
   "cell_type": "code",
   "execution_count": null,
   "metadata": {},
   "outputs": [],
   "source": [
    "data = []\n",
    "for col in tags_comparison_with_metrics_x.columns.values:\n",
    "    corr, p_val = stats.spearmanr(tags_comparison_x[f\"{col}\"],tags_comparison_with_metrics_y.dde)\n",
    "    data.append((col, corr, p_val))\n",
    "spearman_corr_dde_df = pd.DataFrame(data, columns=[\"metric\", \"corr\", \"p_val\"])"
   ]
  },
  {
   "cell_type": "code",
   "execution_count": null,
   "metadata": {},
   "outputs": [],
   "source": [
    "spearman_corr_dde_df[spearman_corr_dde_df.p_val< 0.05].sort_values(by=\"corr\", ascending=False)"
   ]
  },
  {
   "cell_type": "markdown",
   "metadata": {},
   "source": [
    "## Features types"
   ]
  },
  {
   "cell_type": "code",
   "execution_count": null,
   "metadata": {},
   "outputs": [],
   "source": []
  },
  {
   "cell_type": "markdown",
   "metadata": {},
   "source": [
    "## ML"
   ]
  },
  {
   "cell_type": "code",
   "execution_count": 217,
   "metadata": {},
   "outputs": [],
   "source": [
    "X_train = tags_comparison_with_metrics_x"
   ]
  },
  {
   "cell_type": "code",
   "execution_count": 218,
   "metadata": {},
   "outputs": [],
   "source": [
    "from sklearn import preprocessing"
   ]
  },
  {
   "cell_type": "code",
   "execution_count": 220,
   "metadata": {},
   "outputs": [],
   "source": [
    "scaler = preprocessing.StandardScaler().fit(X_train)"
   ]
  },
  {
   "cell_type": "code",
   "execution_count": 221,
   "metadata": {},
   "outputs": [
    {
     "data": {
      "text/plain": [
       "array([[-3.62850881, -0.90083371,  5.75420084, ...,  0.        ,\n",
       "        -0.62284655, -0.50167092],\n",
       "       [-0.40151633, -0.55895307,  0.84634212, ...,  0.        ,\n",
       "         0.11256263,  2.01238447],\n",
       "       [-0.51611015,  0.16448049,  0.37963883, ...,  0.        ,\n",
       "         0.48026722,  0.05700806],\n",
       "       ...,\n",
       "       [ 1.59945034, -0.90083371, -0.94170058, ...,  0.        ,\n",
       "        -0.62284655, -0.50167092],\n",
       "       [ 1.59945034, -0.90083371, -0.94170058, ...,  0.        ,\n",
       "         0.48026722,  0.05700806],\n",
       "       [ 1.59945034, -0.90083371, -0.94170058, ...,  0.        ,\n",
       "        -0.62284655, -0.50167092]])"
      ]
     },
     "execution_count": 221,
     "metadata": {},
     "output_type": "execute_result"
    }
   ],
   "source": [
    "scaler.transform(X_train)"
   ]
  },
  {
   "cell_type": "code",
   "execution_count": null,
   "metadata": {},
   "outputs": [],
   "source": []
  }
 ],
 "metadata": {
  "kernelspec": {
   "display_name": "Python 3",
   "language": "python",
   "name": "python3"
  },
  "language_info": {
   "codemirror_mode": {
    "name": "ipython",
    "version": 3
   },
   "file_extension": ".py",
   "mimetype": "text/x-python",
   "name": "python",
   "nbconvert_exporter": "python",
   "pygments_lexer": "ipython3",
   "version": "3.8.2"
  }
 },
 "nbformat": 4,
 "nbformat_minor": 4
}
