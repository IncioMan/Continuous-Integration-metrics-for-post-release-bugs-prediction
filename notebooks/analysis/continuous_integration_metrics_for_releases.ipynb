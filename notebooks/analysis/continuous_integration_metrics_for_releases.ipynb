{
 "cells": [
  {
   "cell_type": "code",
   "execution_count": 143,
   "metadata": {},
   "outputs": [],
   "source": [
    "import pandas as pd\n",
    "import pickle\n",
    "import json\n",
    "import seaborn as sns\n",
    "import pprint\n",
    "import numpy as np\n",
    "import math\n",
    "pp = pprint.PrettyPrinter(depth=6)\n",
    "import matplotlib\n",
    "import matplotlib.pyplot as plt\n",
    "matplotlib.rcParams['figure.figsize'] = (15.0, 5.0)\n",
    "pd.set_option('display.max_columns', 120)\n",
    "pd.set_option('display.max_rows', 450)"
   ]
  },
  {
   "cell_type": "code",
   "execution_count": 144,
   "metadata": {},
   "outputs": [],
   "source": [
    "pkl_folder = \"../../pkl\"\n",
    "csv_folder = \"../../csv\""
   ]
  },
  {
   "cell_type": "markdown",
   "metadata": {},
   "source": [
    "# Goal"
   ]
  },
  {
   "cell_type": "markdown",
   "metadata": {},
   "source": [
    "Calculate ci metrics for each release and output a dataset with one entry for release and a list of metrics as features"
   ]
  },
  {
   "cell_type": "code",
   "execution_count": 145,
   "metadata": {},
   "outputs": [
    {
     "data": {
      "text/html": [
       "<div>\n",
       "<style scoped>\n",
       "    .dataframe tbody tr th:only-of-type {\n",
       "        vertical-align: middle;\n",
       "    }\n",
       "\n",
       "    .dataframe tbody tr th {\n",
       "        vertical-align: top;\n",
       "    }\n",
       "\n",
       "    .dataframe thead th {\n",
       "        text-align: right;\n",
       "    }\n",
       "</style>\n",
       "<table border=\"1\" class=\"dataframe\">\n",
       "  <thead>\n",
       "    <tr style=\"text-align: right;\">\n",
       "      <th></th>\n",
       "      <th>actual_release_date</th>\n",
       "      <th>Tag</th>\n",
       "      <th>Sha</th>\n",
       "      <th>Date</th>\n",
       "      <th>month</th>\n",
       "      <th>year</th>\n",
       "      <th>major_version</th>\n",
       "      <th>jira_version</th>\n",
       "    </tr>\n",
       "  </thead>\n",
       "  <tbody>\n",
       "    <tr>\n",
       "      <th>0</th>\n",
       "      <td>NaN</td>\n",
       "      <td>4.5.6</td>\n",
       "      <td>12d931e5a31e1692a428bbb34ba11cd63aebf998</td>\n",
       "      <td>2015-10-16 09:31:18</td>\n",
       "      <td>10</td>\n",
       "      <td>2015</td>\n",
       "      <td>4</td>\n",
       "      <td>4.5.6</td>\n",
       "    </tr>\n",
       "    <tr>\n",
       "      <th>1</th>\n",
       "      <td>NaN</td>\n",
       "      <td>4.5.7</td>\n",
       "      <td>e2afb0bff1b8be759789d2c1bc9348de6f519f83</td>\n",
       "      <td>2016-04-08 13:44:39</td>\n",
       "      <td>4</td>\n",
       "      <td>2016</td>\n",
       "      <td>4</td>\n",
       "      <td>4.5.7</td>\n",
       "    </tr>\n",
       "  </tbody>\n",
       "</table>\n",
       "</div>"
      ],
      "text/plain": [
       "  actual_release_date    Tag                                       Sha  \\\n",
       "0                 NaN  4.5.6  12d931e5a31e1692a428bbb34ba11cd63aebf998   \n",
       "1                 NaN  4.5.7  e2afb0bff1b8be759789d2c1bc9348de6f519f83   \n",
       "\n",
       "                 Date  month  year  major_version jira_version  \n",
       "0 2015-10-16 09:31:18     10  2015              4        4.5.6  \n",
       "1 2016-04-08 13:44:39      4  2016              4        4.5.7  "
      ]
     },
     "execution_count": 145,
     "metadata": {},
     "output_type": "execute_result"
    }
   ],
   "source": [
    "tags = pd.read_csv(f\"{csv_folder}/tags_updated.csv\", index_col=0)\n",
    "tags.Date = pd.to_datetime(tagsDf.Date)\n",
    "tags.head(2)"
   ]
  },
  {
   "cell_type": "markdown",
   "metadata": {},
   "source": [
    "### Import builds and jobs"
   ]
  },
  {
   "cell_type": "code",
   "execution_count": 146,
   "metadata": {},
   "outputs": [
    {
     "data": {
      "text/html": [
       "<div>\n",
       "<style scoped>\n",
       "    .dataframe tbody tr th:only-of-type {\n",
       "        vertical-align: middle;\n",
       "    }\n",
       "\n",
       "    .dataframe tbody tr th {\n",
       "        vertical-align: top;\n",
       "    }\n",
       "\n",
       "    .dataframe thead th {\n",
       "        text-align: right;\n",
       "    }\n",
       "</style>\n",
       "<table border=\"1\" class=\"dataframe\">\n",
       "  <thead>\n",
       "    <tr style=\"text-align: right;\">\n",
       "      <th></th>\n",
       "      <th>number</th>\n",
       "      <th>pull_request_number</th>\n",
       "      <th>id</th>\n",
       "      <th>event_type</th>\n",
       "      <th>finished_at</th>\n",
       "      <th>pull_request_title</th>\n",
       "      <th>started_at</th>\n",
       "      <th>duration</th>\n",
       "      <th>state</th>\n",
       "      <th>started_at_day</th>\n",
       "      <th>started_at_month</th>\n",
       "      <th>started_at_year</th>\n",
       "    </tr>\n",
       "  </thead>\n",
       "  <tbody>\n",
       "    <tr>\n",
       "      <th>0</th>\n",
       "      <td>6995</td>\n",
       "      <td>NaN</td>\n",
       "      <td>99118995</td>\n",
       "      <td>push</td>\n",
       "      <td>2015-12-28 16:34:08+00:00</td>\n",
       "      <td>NaN</td>\n",
       "      <td>2015-12-28 16:18:41+00:00</td>\n",
       "      <td>5361.0</td>\n",
       "      <td>failed</td>\n",
       "      <td>28.0</td>\n",
       "      <td>12.0</td>\n",
       "      <td>2015.0</td>\n",
       "    </tr>\n",
       "    <tr>\n",
       "      <th>1</th>\n",
       "      <td>6994</td>\n",
       "      <td>NaN</td>\n",
       "      <td>99100662</td>\n",
       "      <td>push</td>\n",
       "      <td>2015-12-28 14:36:03+00:00</td>\n",
       "      <td>NaN</td>\n",
       "      <td>2015-12-28 14:18:30+00:00</td>\n",
       "      <td>5953.0</td>\n",
       "      <td>passed</td>\n",
       "      <td>28.0</td>\n",
       "      <td>12.0</td>\n",
       "      <td>2015.0</td>\n",
       "    </tr>\n",
       "  </tbody>\n",
       "</table>\n",
       "</div>"
      ],
      "text/plain": [
       "   number  pull_request_number        id event_type  \\\n",
       "0    6995                  NaN  99118995       push   \n",
       "1    6994                  NaN  99100662       push   \n",
       "\n",
       "                 finished_at pull_request_title                 started_at  \\\n",
       "0  2015-12-28 16:34:08+00:00                NaN  2015-12-28 16:18:41+00:00   \n",
       "1  2015-12-28 14:36:03+00:00                NaN  2015-12-28 14:18:30+00:00   \n",
       "\n",
       "   duration   state  started_at_day  started_at_month  started_at_year  \n",
       "0    5361.0  failed            28.0              12.0           2015.0  \n",
       "1    5953.0  passed            28.0              12.0           2015.0  "
      ]
     },
     "execution_count": 146,
     "metadata": {},
     "output_type": "execute_result"
    }
   ],
   "source": [
    "builds = pd.read_csv(f\"{csv_folder}/builds_cleaned.csv\", index_col=0)\n",
    "builds.head(2)"
   ]
  },
  {
   "cell_type": "code",
   "execution_count": 147,
   "metadata": {},
   "outputs": [
    {
     "data": {
      "text/html": [
       "<div>\n",
       "<style scoped>\n",
       "    .dataframe tbody tr th:only-of-type {\n",
       "        vertical-align: middle;\n",
       "    }\n",
       "\n",
       "    .dataframe tbody tr th {\n",
       "        vertical-align: top;\n",
       "    }\n",
       "\n",
       "    .dataframe thead th {\n",
       "        text-align: right;\n",
       "    }\n",
       "</style>\n",
       "<table border=\"1\" class=\"dataframe\">\n",
       "  <thead>\n",
       "    <tr style=\"text-align: right;\">\n",
       "      <th></th>\n",
       "      <th>id</th>\n",
       "      <th>buildid</th>\n",
       "      <th>started_at</th>\n",
       "      <th>created_at</th>\n",
       "      <th>finished_at</th>\n",
       "      <th>number</th>\n",
       "      <th>state</th>\n",
       "      <th>updated_at</th>\n",
       "      <th>commitsha</th>\n",
       "      <th>commitid</th>\n",
       "      <th>commitmessage</th>\n",
       "      <th>commitref</th>\n",
       "      <th>commitcompare_url</th>\n",
       "    </tr>\n",
       "  </thead>\n",
       "  <tbody>\n",
       "    <tr>\n",
       "      <th>0</th>\n",
       "      <td>241946101</td>\n",
       "      <td>241946099</td>\n",
       "      <td>2017-06-12 09:21:03+00:00</td>\n",
       "      <td>2017-06-12 09:13:51.063000+00:00</td>\n",
       "      <td>2017-06-12 09:21:43+00:00</td>\n",
       "      <td>25614.1</td>\n",
       "      <td>canceled</td>\n",
       "      <td>2018-06-02 14:51:19.734000+00:00</td>\n",
       "      <td>2e4b539138fde6f664a865c81fb6ab0763f74bdb</td>\n",
       "      <td>70181895</td>\n",
       "      <td>SONAR-9304 Add test on organization deletion</td>\n",
       "      <td>refs/heads/feature/atlas/MMF-324/builtin-profiles</td>\n",
       "      <td>https://github.com/SonarSource/sonarqube/compa...</td>\n",
       "    </tr>\n",
       "    <tr>\n",
       "      <th>1</th>\n",
       "      <td>241946103</td>\n",
       "      <td>241946099</td>\n",
       "      <td>2017-06-12 09:22:43+00:00</td>\n",
       "      <td>2017-06-12 09:13:51.107000+00:00</td>\n",
       "      <td>2017-06-12 09:21:43+00:00</td>\n",
       "      <td>25614.2</td>\n",
       "      <td>canceled</td>\n",
       "      <td>2018-06-02 14:51:19.764000+00:00</td>\n",
       "      <td>2e4b539138fde6f664a865c81fb6ab0763f74bdb</td>\n",
       "      <td>70181895</td>\n",
       "      <td>SONAR-9304 Add test on organization deletion</td>\n",
       "      <td>refs/heads/feature/atlas/MMF-324/builtin-profiles</td>\n",
       "      <td>https://github.com/SonarSource/sonarqube/compa...</td>\n",
       "    </tr>\n",
       "  </tbody>\n",
       "</table>\n",
       "</div>"
      ],
      "text/plain": [
       "          id    buildid                started_at  \\\n",
       "0  241946101  241946099 2017-06-12 09:21:03+00:00   \n",
       "1  241946103  241946099 2017-06-12 09:22:43+00:00   \n",
       "\n",
       "                        created_at               finished_at   number  \\\n",
       "0 2017-06-12 09:13:51.063000+00:00 2017-06-12 09:21:43+00:00  25614.1   \n",
       "1 2017-06-12 09:13:51.107000+00:00 2017-06-12 09:21:43+00:00  25614.2   \n",
       "\n",
       "      state                       updated_at  \\\n",
       "0  canceled 2018-06-02 14:51:19.734000+00:00   \n",
       "1  canceled 2018-06-02 14:51:19.764000+00:00   \n",
       "\n",
       "                                  commitsha  commitid  \\\n",
       "0  2e4b539138fde6f664a865c81fb6ab0763f74bdb  70181895   \n",
       "1  2e4b539138fde6f664a865c81fb6ab0763f74bdb  70181895   \n",
       "\n",
       "                                  commitmessage  \\\n",
       "0  SONAR-9304 Add test on organization deletion   \n",
       "1  SONAR-9304 Add test on organization deletion   \n",
       "\n",
       "                                           commitref  \\\n",
       "0  refs/heads/feature/atlas/MMF-324/builtin-profiles   \n",
       "1  refs/heads/feature/atlas/MMF-324/builtin-profiles   \n",
       "\n",
       "                                   commitcompare_url  \n",
       "0  https://github.com/SonarSource/sonarqube/compa...  \n",
       "1  https://github.com/SonarSource/sonarqube/compa...  "
      ]
     },
     "execution_count": 147,
     "metadata": {},
     "output_type": "execute_result"
    }
   ],
   "source": [
    "jobs = pd.read_csv(f\"{csv_folder}/allJobs.csv\", index_col=0)\n",
    "for datefield in [\"started_at\",\"created_at\",\"finished_at\",\"updated_at\"]:\n",
    "    jobs[f\"{datefield}\"] = pd.to_datetime(jobs[f\"{datefield}\"])\n",
    "jobs.head(2)"
   ]
  },
  {
   "cell_type": "markdown",
   "metadata": {},
   "source": [
    "### Import tag comparison pairs"
   ]
  },
  {
   "cell_type": "code",
   "execution_count": 148,
   "metadata": {
    "scrolled": true
   },
   "outputs": [
    {
     "data": {
      "text/html": [
       "<div>\n",
       "<style scoped>\n",
       "    .dataframe tbody tr th:only-of-type {\n",
       "        vertical-align: middle;\n",
       "    }\n",
       "\n",
       "    .dataframe tbody tr th {\n",
       "        vertical-align: top;\n",
       "    }\n",
       "\n",
       "    .dataframe thead th {\n",
       "        text-align: right;\n",
       "    }\n",
       "</style>\n",
       "<table border=\"1\" class=\"dataframe\">\n",
       "  <thead>\n",
       "    <tr style=\"text-align: right;\">\n",
       "      <th></th>\n",
       "      <th>from_tag</th>\n",
       "      <th>to_tag</th>\n",
       "    </tr>\n",
       "  </thead>\n",
       "  <tbody>\n",
       "    <tr>\n",
       "      <th>2</th>\n",
       "      <td>5.1.1</td>\n",
       "      <td>5.1.2</td>\n",
       "    </tr>\n",
       "    <tr>\n",
       "      <th>3</th>\n",
       "      <td>5.1.2</td>\n",
       "      <td>5.2</td>\n",
       "    </tr>\n",
       "    <tr>\n",
       "      <th>4</th>\n",
       "      <td>5.2</td>\n",
       "      <td>5.3</td>\n",
       "    </tr>\n",
       "    <tr>\n",
       "      <th>5</th>\n",
       "      <td>5.3</td>\n",
       "      <td>5.4</td>\n",
       "    </tr>\n",
       "    <tr>\n",
       "      <th>6</th>\n",
       "      <td>5.4</td>\n",
       "      <td>5.5</td>\n",
       "    </tr>\n",
       "    <tr>\n",
       "      <th>7</th>\n",
       "      <td>5.5</td>\n",
       "      <td>5.6</td>\n",
       "    </tr>\n",
       "    <tr>\n",
       "      <th>8</th>\n",
       "      <td>5.6</td>\n",
       "      <td>5.6.1</td>\n",
       "    </tr>\n",
       "    <tr>\n",
       "      <th>9</th>\n",
       "      <td>5.6.1</td>\n",
       "      <td>5.6.2</td>\n",
       "    </tr>\n",
       "    <tr>\n",
       "      <th>10</th>\n",
       "      <td>5.6.1</td>\n",
       "      <td>6.0</td>\n",
       "    </tr>\n",
       "    <tr>\n",
       "      <th>11</th>\n",
       "      <td>5.6.2</td>\n",
       "      <td>5.6.3</td>\n",
       "    </tr>\n",
       "    <tr>\n",
       "      <th>12</th>\n",
       "      <td>5.6.3</td>\n",
       "      <td>5.6.4</td>\n",
       "    </tr>\n",
       "    <tr>\n",
       "      <th>13</th>\n",
       "      <td>5.6.4</td>\n",
       "      <td>5.6.5</td>\n",
       "    </tr>\n",
       "    <tr>\n",
       "      <th>14</th>\n",
       "      <td>5.6.5</td>\n",
       "      <td>5.6.6</td>\n",
       "    </tr>\n",
       "    <tr>\n",
       "      <th>15</th>\n",
       "      <td>5.6.6</td>\n",
       "      <td>5.6.7</td>\n",
       "    </tr>\n",
       "    <tr>\n",
       "      <th>16</th>\n",
       "      <td>6.0</td>\n",
       "      <td>6.1</td>\n",
       "    </tr>\n",
       "    <tr>\n",
       "      <th>17</th>\n",
       "      <td>6.1</td>\n",
       "      <td>6.1.1</td>\n",
       "    </tr>\n",
       "    <tr>\n",
       "      <th>18</th>\n",
       "      <td>6.1.1</td>\n",
       "      <td>6.2</td>\n",
       "    </tr>\n",
       "    <tr>\n",
       "      <th>19</th>\n",
       "      <td>6.2</td>\n",
       "      <td>6.3</td>\n",
       "    </tr>\n",
       "    <tr>\n",
       "      <th>20</th>\n",
       "      <td>6.3</td>\n",
       "      <td>6.3.1</td>\n",
       "    </tr>\n",
       "    <tr>\n",
       "      <th>21</th>\n",
       "      <td>6.3.1</td>\n",
       "      <td>6.3.2</td>\n",
       "    </tr>\n",
       "    <tr>\n",
       "      <th>22</th>\n",
       "      <td>6.3.2</td>\n",
       "      <td>6.4</td>\n",
       "    </tr>\n",
       "    <tr>\n",
       "      <th>23</th>\n",
       "      <td>6.4</td>\n",
       "      <td>6.5</td>\n",
       "    </tr>\n",
       "    <tr>\n",
       "      <th>24</th>\n",
       "      <td>6.5</td>\n",
       "      <td>6.6</td>\n",
       "    </tr>\n",
       "    <tr>\n",
       "      <th>25</th>\n",
       "      <td>6.6</td>\n",
       "      <td>6.7</td>\n",
       "    </tr>\n",
       "    <tr>\n",
       "      <th>26</th>\n",
       "      <td>6.7</td>\n",
       "      <td>6.7.1</td>\n",
       "    </tr>\n",
       "    <tr>\n",
       "      <th>27</th>\n",
       "      <td>6.7.1</td>\n",
       "      <td>6.7.2</td>\n",
       "    </tr>\n",
       "    <tr>\n",
       "      <th>28</th>\n",
       "      <td>6.7.1</td>\n",
       "      <td>7.0</td>\n",
       "    </tr>\n",
       "    <tr>\n",
       "      <th>29</th>\n",
       "      <td>6.7.2</td>\n",
       "      <td>6.7.3</td>\n",
       "    </tr>\n",
       "    <tr>\n",
       "      <th>30</th>\n",
       "      <td>6.7.3</td>\n",
       "      <td>6.7.4</td>\n",
       "    </tr>\n",
       "    <tr>\n",
       "      <th>31</th>\n",
       "      <td>6.7.4</td>\n",
       "      <td>6.7.5</td>\n",
       "    </tr>\n",
       "    <tr>\n",
       "      <th>32</th>\n",
       "      <td>6.7.5</td>\n",
       "      <td>6.7.6</td>\n",
       "    </tr>\n",
       "    <tr>\n",
       "      <th>33</th>\n",
       "      <td>6.7.6</td>\n",
       "      <td>6.7.7</td>\n",
       "    </tr>\n",
       "    <tr>\n",
       "      <th>34</th>\n",
       "      <td>7.0</td>\n",
       "      <td>7.1</td>\n",
       "    </tr>\n",
       "    <tr>\n",
       "      <th>35</th>\n",
       "      <td>7.1</td>\n",
       "      <td>7.2</td>\n",
       "    </tr>\n",
       "    <tr>\n",
       "      <th>36</th>\n",
       "      <td>7.2</td>\n",
       "      <td>7.3</td>\n",
       "    </tr>\n",
       "    <tr>\n",
       "      <th>37</th>\n",
       "      <td>7.3</td>\n",
       "      <td>7.4</td>\n",
       "    </tr>\n",
       "    <tr>\n",
       "      <th>38</th>\n",
       "      <td>7.4</td>\n",
       "      <td>7.5</td>\n",
       "    </tr>\n",
       "    <tr>\n",
       "      <th>39</th>\n",
       "      <td>7.5</td>\n",
       "      <td>7.6</td>\n",
       "    </tr>\n",
       "    <tr>\n",
       "      <th>40</th>\n",
       "      <td>7.6</td>\n",
       "      <td>7.7</td>\n",
       "    </tr>\n",
       "    <tr>\n",
       "      <th>41</th>\n",
       "      <td>7.7</td>\n",
       "      <td>7.8</td>\n",
       "    </tr>\n",
       "    <tr>\n",
       "      <th>42</th>\n",
       "      <td>7.8</td>\n",
       "      <td>7.9</td>\n",
       "    </tr>\n",
       "    <tr>\n",
       "      <th>43</th>\n",
       "      <td>7.9</td>\n",
       "      <td>7.9.1</td>\n",
       "    </tr>\n",
       "    <tr>\n",
       "      <th>44</th>\n",
       "      <td>7.9</td>\n",
       "      <td>8.0</td>\n",
       "    </tr>\n",
       "    <tr>\n",
       "      <th>45</th>\n",
       "      <td>7.9.1</td>\n",
       "      <td>7.9.3</td>\n",
       "    </tr>\n",
       "    <tr>\n",
       "      <th>46</th>\n",
       "      <td>7.9.3</td>\n",
       "      <td>7.9.4</td>\n",
       "    </tr>\n",
       "    <tr>\n",
       "      <th>47</th>\n",
       "      <td>8.0</td>\n",
       "      <td>8.1</td>\n",
       "    </tr>\n",
       "    <tr>\n",
       "      <th>48</th>\n",
       "      <td>8.1</td>\n",
       "      <td>8.2</td>\n",
       "    </tr>\n",
       "    <tr>\n",
       "      <th>49</th>\n",
       "      <td>8.2</td>\n",
       "      <td>8.3</td>\n",
       "    </tr>\n",
       "    <tr>\n",
       "      <th>50</th>\n",
       "      <td>8.3</td>\n",
       "      <td>8.3.1</td>\n",
       "    </tr>\n",
       "    <tr>\n",
       "      <th>51</th>\n",
       "      <td>8.3</td>\n",
       "      <td>8.4</td>\n",
       "    </tr>\n",
       "    <tr>\n",
       "      <th>52</th>\n",
       "      <td>8.4</td>\n",
       "      <td>8.4.1</td>\n",
       "    </tr>\n",
       "    <tr>\n",
       "      <th>53</th>\n",
       "      <td>8.4.1</td>\n",
       "      <td>8.4.2</td>\n",
       "    </tr>\n",
       "  </tbody>\n",
       "</table>\n",
       "</div>"
      ],
      "text/plain": [
       "   from_tag to_tag\n",
       "2     5.1.1  5.1.2\n",
       "3     5.1.2    5.2\n",
       "4       5.2    5.3\n",
       "5       5.3    5.4\n",
       "6       5.4    5.5\n",
       "7       5.5    5.6\n",
       "8       5.6  5.6.1\n",
       "9     5.6.1  5.6.2\n",
       "10    5.6.1    6.0\n",
       "11    5.6.2  5.6.3\n",
       "12    5.6.3  5.6.4\n",
       "13    5.6.4  5.6.5\n",
       "14    5.6.5  5.6.6\n",
       "15    5.6.6  5.6.7\n",
       "16      6.0    6.1\n",
       "17      6.1  6.1.1\n",
       "18    6.1.1    6.2\n",
       "19      6.2    6.3\n",
       "20      6.3  6.3.1\n",
       "21    6.3.1  6.3.2\n",
       "22    6.3.2    6.4\n",
       "23      6.4    6.5\n",
       "24      6.5    6.6\n",
       "25      6.6    6.7\n",
       "26      6.7  6.7.1\n",
       "27    6.7.1  6.7.2\n",
       "28    6.7.1    7.0\n",
       "29    6.7.2  6.7.3\n",
       "30    6.7.3  6.7.4\n",
       "31    6.7.4  6.7.5\n",
       "32    6.7.5  6.7.6\n",
       "33    6.7.6  6.7.7\n",
       "34      7.0    7.1\n",
       "35      7.1    7.2\n",
       "36      7.2    7.3\n",
       "37      7.3    7.4\n",
       "38      7.4    7.5\n",
       "39      7.5    7.6\n",
       "40      7.6    7.7\n",
       "41      7.7    7.8\n",
       "42      7.8    7.9\n",
       "43      7.9  7.9.1\n",
       "44      7.9    8.0\n",
       "45    7.9.1  7.9.3\n",
       "46    7.9.3  7.9.4\n",
       "47      8.0    8.1\n",
       "48      8.1    8.2\n",
       "49      8.2    8.3\n",
       "50      8.3  8.3.1\n",
       "51      8.3    8.4\n",
       "52      8.4  8.4.1\n",
       "53    8.4.1  8.4.2"
      ]
     },
     "execution_count": 148,
     "metadata": {},
     "output_type": "execute_result"
    }
   ],
   "source": [
    "tags_comparison = pd.read_csv(f\"{csv_folder}/tags_comparison_final_updated_no_rc_and_milestones.csv\", index_col=0)\n",
    "tags_comparison.from_commit_date = pd.to_datetime(tags_comparison.from_commit_date)\n",
    "tags_comparison.to_commit_date = pd.to_datetime(tags_comparison.to_commit_date)\n",
    "tags_comparison.from_author_date = pd.to_datetime(tags_comparison.from_author_date)\n",
    "tags_comparison.to_author_date = pd.to_datetime(tags_comparison.to_author_date)\n",
    "tags_comparison = tags_comparison[2:]\n",
    "tags_comparison[[\"from_tag\", \"to_tag\"]]"
   ]
  },
  {
   "cell_type": "markdown",
   "metadata": {},
   "source": [
    "## Import release commits"
   ]
  },
  {
   "cell_type": "code",
   "execution_count": 149,
   "metadata": {},
   "outputs": [],
   "source": [
    "def replace_tags_with_jira(df):\n",
    "    df = df.merge(tags[[\"Tag\",\"jira_version\"]], left_on=\"to_tag\", right_on=\"Tag\")\\\n",
    "    .drop(columns=[\"to_tag\", \"Tag\"]).rename(columns={\"jira_version\":\"to_tag\"})\n",
    "    df = df.merge(tags[[\"Tag\",\"jira_version\"]], left_on=\"from_tag\", right_on=\"Tag\")\\\n",
    "    .drop(columns=[\"from_tag\", \"Tag\"]).rename(columns={\"jira_version\":\"from_tag\"})\n",
    "    return df"
   ]
  },
  {
   "cell_type": "markdown",
   "metadata": {},
   "source": [
    "### Import tags difference commits (git log tag1...tag2) (1)"
   ]
  },
  {
   "cell_type": "code",
   "execution_count": 150,
   "metadata": {},
   "outputs": [
    {
     "data": {
      "text/html": [
       "<div>\n",
       "<style scoped>\n",
       "    .dataframe tbody tr th:only-of-type {\n",
       "        vertical-align: middle;\n",
       "    }\n",
       "\n",
       "    .dataframe tbody tr th {\n",
       "        vertical-align: top;\n",
       "    }\n",
       "\n",
       "    .dataframe thead th {\n",
       "        text-align: right;\n",
       "    }\n",
       "</style>\n",
       "<table border=\"1\" class=\"dataframe\">\n",
       "  <thead>\n",
       "    <tr style=\"text-align: right;\">\n",
       "      <th></th>\n",
       "      <th>from_tag</th>\n",
       "      <th>to_tag</th>\n",
       "      <th>ahead_sha</th>\n",
       "    </tr>\n",
       "  </thead>\n",
       "  <tbody>\n",
       "    <tr>\n",
       "      <th>15603</th>\n",
       "      <td>8.4.1.35646</td>\n",
       "      <td>8.4.2.36762</td>\n",
       "      <td>7721c3eeab3202e91fb9c87dfaec4ba3a7b4d0df</td>\n",
       "    </tr>\n",
       "    <tr>\n",
       "      <th>15604</th>\n",
       "      <td>8.4.1.35646</td>\n",
       "      <td>8.4.2.36762</td>\n",
       "      <td>fd2cb0c84d052b9ea773503be71a3bb3cda13cd6</td>\n",
       "    </tr>\n",
       "  </tbody>\n",
       "</table>\n",
       "</div>"
      ],
      "text/plain": [
       "          from_tag       to_tag                                 ahead_sha\n",
       "15603  8.4.1.35646  8.4.2.36762  7721c3eeab3202e91fb9c87dfaec4ba3a7b4d0df\n",
       "15604  8.4.1.35646  8.4.2.36762  fd2cb0c84d052b9ea773503be71a3bb3cda13cd6"
      ]
     },
     "execution_count": 150,
     "metadata": {},
     "output_type": "execute_result"
    }
   ],
   "source": [
    "tags_comparison_commits = pd.read_csv(f\"{csv_folder}/tags_comparison_commits_no_rc_and_milestones.csv\", index_col=0)\n",
    "tags_comparison_commits.tail(2)"
   ]
  },
  {
   "cell_type": "code",
   "execution_count": 151,
   "metadata": {},
   "outputs": [
    {
     "data": {
      "text/html": [
       "<div>\n",
       "<style scoped>\n",
       "    .dataframe tbody tr th:only-of-type {\n",
       "        vertical-align: middle;\n",
       "    }\n",
       "\n",
       "    .dataframe tbody tr th {\n",
       "        vertical-align: top;\n",
       "    }\n",
       "\n",
       "    .dataframe thead th {\n",
       "        text-align: right;\n",
       "    }\n",
       "</style>\n",
       "<table border=\"1\" class=\"dataframe\">\n",
       "  <thead>\n",
       "    <tr style=\"text-align: right;\">\n",
       "      <th></th>\n",
       "      <th>commitsha</th>\n",
       "      <th>to_tag</th>\n",
       "      <th>from_tag</th>\n",
       "    </tr>\n",
       "  </thead>\n",
       "  <tbody>\n",
       "    <tr>\n",
       "      <th>15603</th>\n",
       "      <td>7721c3eeab3202e91fb9c87dfaec4ba3a7b4d0df</td>\n",
       "      <td>8.4.2</td>\n",
       "      <td>8.4.1</td>\n",
       "    </tr>\n",
       "    <tr>\n",
       "      <th>15604</th>\n",
       "      <td>fd2cb0c84d052b9ea773503be71a3bb3cda13cd6</td>\n",
       "      <td>8.4.2</td>\n",
       "      <td>8.4.1</td>\n",
       "    </tr>\n",
       "  </tbody>\n",
       "</table>\n",
       "</div>"
      ],
      "text/plain": [
       "                                      commitsha to_tag from_tag\n",
       "15603  7721c3eeab3202e91fb9c87dfaec4ba3a7b4d0df  8.4.2    8.4.1\n",
       "15604  fd2cb0c84d052b9ea773503be71a3bb3cda13cd6  8.4.2    8.4.1"
      ]
     },
     "execution_count": 151,
     "metadata": {},
     "output_type": "execute_result"
    }
   ],
   "source": [
    "tags_comparison_commits  = replace_tags_with_jira(tags_comparison_commits)\n",
    "tags_comparison_commits.rename(columns={\"ahead_sha\": \"commitsha\"}, inplace=True)\n",
    "tags_comparison_commits.tail(2)"
   ]
  },
  {
   "cell_type": "code",
   "execution_count": 152,
   "metadata": {},
   "outputs": [
    {
     "data": {
      "text/plain": [
       "(15605, 3)"
      ]
     },
     "execution_count": 152,
     "metadata": {},
     "output_type": "execute_result"
    }
   ],
   "source": [
    "tags_comparison_commits.shape"
   ]
  },
  {
   "cell_type": "markdown",
   "metadata": {},
   "source": [
    "### Import tags commits (1) + iterative PRs"
   ]
  },
  {
   "cell_type": "code",
   "execution_count": 153,
   "metadata": {},
   "outputs": [
    {
     "data": {
      "text/html": [
       "<div>\n",
       "<style scoped>\n",
       "    .dataframe tbody tr th:only-of-type {\n",
       "        vertical-align: middle;\n",
       "    }\n",
       "\n",
       "    .dataframe tbody tr th {\n",
       "        vertical-align: top;\n",
       "    }\n",
       "\n",
       "    .dataframe thead th {\n",
       "        text-align: right;\n",
       "    }\n",
       "</style>\n",
       "<table border=\"1\" class=\"dataframe\">\n",
       "  <thead>\n",
       "    <tr style=\"text-align: right;\">\n",
       "      <th></th>\n",
       "      <th>from_tag</th>\n",
       "      <th>to_tag</th>\n",
       "      <th>commitsha</th>\n",
       "    </tr>\n",
       "  </thead>\n",
       "  <tbody>\n",
       "    <tr>\n",
       "      <th>122451</th>\n",
       "      <td>8.4.1.35646</td>\n",
       "      <td>8.4.2.36762</td>\n",
       "      <td>ed1a72601c559e86ccd96004c99157421b6bcb20</td>\n",
       "    </tr>\n",
       "    <tr>\n",
       "      <th>122452</th>\n",
       "      <td>8.4.1.35646</td>\n",
       "      <td>8.4.2.36762</td>\n",
       "      <td>7721c3eeab3202e91fb9c87dfaec4ba3a7b4d0df</td>\n",
       "    </tr>\n",
       "  </tbody>\n",
       "</table>\n",
       "</div>"
      ],
      "text/plain": [
       "           from_tag       to_tag                                 commitsha\n",
       "122451  8.4.1.35646  8.4.2.36762  ed1a72601c559e86ccd96004c99157421b6bcb20\n",
       "122452  8.4.1.35646  8.4.2.36762  7721c3eeab3202e91fb9c87dfaec4ba3a7b4d0df"
      ]
     },
     "execution_count": 153,
     "metadata": {},
     "output_type": "execute_result"
    }
   ],
   "source": [
    "tags_iterative_pr_commits = pd.read_csv(f\"{csv_folder}/commits_for_tags/tags_pairs_iterative_commits.csv\", index_col=0)\n",
    "tags_iterative_pr_commits.tail(2)"
   ]
  },
  {
   "cell_type": "code",
   "execution_count": 154,
   "metadata": {},
   "outputs": [
    {
     "data": {
      "text/html": [
       "<div>\n",
       "<style scoped>\n",
       "    .dataframe tbody tr th:only-of-type {\n",
       "        vertical-align: middle;\n",
       "    }\n",
       "\n",
       "    .dataframe tbody tr th {\n",
       "        vertical-align: top;\n",
       "    }\n",
       "\n",
       "    .dataframe thead th {\n",
       "        text-align: right;\n",
       "    }\n",
       "</style>\n",
       "<table border=\"1\" class=\"dataframe\">\n",
       "  <thead>\n",
       "    <tr style=\"text-align: right;\">\n",
       "      <th></th>\n",
       "      <th>commitsha</th>\n",
       "      <th>to_tag</th>\n",
       "      <th>from_tag</th>\n",
       "    </tr>\n",
       "  </thead>\n",
       "  <tbody>\n",
       "    <tr>\n",
       "      <th>122451</th>\n",
       "      <td>ed1a72601c559e86ccd96004c99157421b6bcb20</td>\n",
       "      <td>8.4.2</td>\n",
       "      <td>8.4.1</td>\n",
       "    </tr>\n",
       "    <tr>\n",
       "      <th>122452</th>\n",
       "      <td>7721c3eeab3202e91fb9c87dfaec4ba3a7b4d0df</td>\n",
       "      <td>8.4.2</td>\n",
       "      <td>8.4.1</td>\n",
       "    </tr>\n",
       "  </tbody>\n",
       "</table>\n",
       "</div>"
      ],
      "text/plain": [
       "                                       commitsha to_tag from_tag\n",
       "122451  ed1a72601c559e86ccd96004c99157421b6bcb20  8.4.2    8.4.1\n",
       "122452  7721c3eeab3202e91fb9c87dfaec4ba3a7b4d0df  8.4.2    8.4.1"
      ]
     },
     "execution_count": 154,
     "metadata": {},
     "output_type": "execute_result"
    }
   ],
   "source": [
    "tags_iterative_pr_commits  = replace_tags_with_jira(tags_iterative_pr_commits)\n",
    "tags_iterative_pr_commits.tail(2)"
   ]
  },
  {
   "cell_type": "code",
   "execution_count": 155,
   "metadata": {},
   "outputs": [
    {
     "data": {
      "text/plain": [
       "(122453, 3)"
      ]
     },
     "execution_count": 155,
     "metadata": {},
     "output_type": "execute_result"
    }
   ],
   "source": [
    "tags_iterative_pr_commits.shape"
   ]
  },
  {
   "cell_type": "markdown",
   "metadata": {},
   "source": [
    "### Import tags commits the ones nor in (1) or (2) assigned using Jira FixVersion for the issue in commitmessage"
   ]
  },
  {
   "cell_type": "code",
   "execution_count": 156,
   "metadata": {},
   "outputs": [
    {
     "data": {
      "text/html": [
       "<div>\n",
       "<style scoped>\n",
       "    .dataframe tbody tr th:only-of-type {\n",
       "        vertical-align: middle;\n",
       "    }\n",
       "\n",
       "    .dataframe tbody tr th {\n",
       "        vertical-align: top;\n",
       "    }\n",
       "\n",
       "    .dataframe thead th {\n",
       "        text-align: right;\n",
       "    }\n",
       "</style>\n",
       "<table border=\"1\" class=\"dataframe\">\n",
       "  <thead>\n",
       "    <tr style=\"text-align: right;\">\n",
       "      <th></th>\n",
       "      <th>from_tag</th>\n",
       "      <th>to_tag</th>\n",
       "      <th>commitsha</th>\n",
       "    </tr>\n",
       "  </thead>\n",
       "  <tbody>\n",
       "    <tr>\n",
       "      <th>3245</th>\n",
       "      <td>8.4</td>\n",
       "      <td>8.4.1</td>\n",
       "      <td>34a0bc1a4e14e13a7d40a410b268d6ea7b0f3a40</td>\n",
       "    </tr>\n",
       "    <tr>\n",
       "      <th>3246</th>\n",
       "      <td>8.4.1</td>\n",
       "      <td>8.4.2</td>\n",
       "      <td>df64c184d1427f74592459b42093e8b0b6878c98</td>\n",
       "    </tr>\n",
       "  </tbody>\n",
       "</table>\n",
       "</div>"
      ],
      "text/plain": [
       "     from_tag to_tag                                 commitsha\n",
       "3245      8.4  8.4.1  34a0bc1a4e14e13a7d40a410b268d6ea7b0f3a40\n",
       "3246    8.4.1  8.4.2  df64c184d1427f74592459b42093e8b0b6878c98"
      ]
     },
     "execution_count": 156,
     "metadata": {},
     "output_type": "execute_result"
    }
   ],
   "source": [
    "tags_fix_commits = pd.read_csv(f\"{csv_folder}/commits_for_tags/tags_fix_commits.csv\", index_col=0)\n",
    "tags_fix_commits.tail(2)"
   ]
  },
  {
   "cell_type": "code",
   "execution_count": 157,
   "metadata": {},
   "outputs": [
    {
     "data": {
      "text/plain": [
       "(3247, 3)"
      ]
     },
     "execution_count": 157,
     "metadata": {},
     "output_type": "execute_result"
    }
   ],
   "source": [
    "tags_fix_commits.shape"
   ]
  },
  {
   "cell_type": "markdown",
   "metadata": {},
   "source": [
    "# Start"
   ]
  },
  {
   "cell_type": "code",
   "execution_count": 252,
   "metadata": {},
   "outputs": [],
   "source": [
    "def get_builds_from_commits(_commits):\n",
    "    _build_ids = jobs[jobs.commitsha.isin(_commits)].buildid\n",
    "    return builds[(builds.id.isin(_build_ids))]"
   ]
  },
  {
   "cell_type": "markdown",
   "metadata": {},
   "source": [
    "### Builds metrics"
   ]
  },
  {
   "cell_type": "markdown",
   "metadata": {},
   "source": [
    "**Number of jobs per build**"
   ]
  },
  {
   "cell_type": "code",
   "execution_count": 235,
   "metadata": {},
   "outputs": [],
   "source": [
    "### Mean or median of duration for jobs not from canceled or errored builds\n",
    "def calculate_average_n_job_per_build(row, commitsDf):\n",
    "    _x = commitsDf\n",
    "    _commits = _x[(_x.from_tag == row.from_tag) & (_x.to_tag == row.to_tag)].commitsha\n",
    "    _jobs = jobs[jobs.commitsha.isin(_commits)]\n",
    "    return _jobs.groupby(\"buildid\").id.count().mean()\n",
    "\n",
    "def calculate_average_n_job_per_build_pr(row):\n",
    "    return calculate_average_n_job_per_build(row, tags_iterative_pr_commits)\n",
    "def calculate_average_n_job_per_build_direct(row):\n",
    "    return calculate_average_n_job_per_build(row, tags_comparison_commits)\n",
    "def calculate_average_n_job_per_build_fix(row):\n",
    "    return calculate_average_n_job_per_build(row, tags_fix_commits)\n",
    "def calculate_average_n_job_per_build_pr_and_fix(row):\n",
    "    _tmp = tags_iterative_pr_commits.append(tags_fix_commits)\n",
    "    return calculate_average_n_job_per_build(row, _tmp)"
   ]
  },
  {
   "cell_type": "code",
   "execution_count": 236,
   "metadata": {},
   "outputs": [],
   "source": [
    "tags_comparison[\"average_n_job_per_build\"] = tags_comparison.apply(calculate_average_n_job_per_build_pr_and_fix, axis=1)"
   ]
  },
  {
   "cell_type": "code",
   "execution_count": 237,
   "metadata": {},
   "outputs": [
    {
     "data": {
      "text/plain": [
       "<AxesSubplot:>"
      ]
     },
     "execution_count": 237,
     "metadata": {},
     "output_type": "execute_result"
    },
    {
     "data": {
      "image/png": "[encoded data removed]",
      "text/plain": [
       "<Figure size 1080x360 with 1 Axes>"
      ]
     },
     "metadata": {
      "needs_background": "light"
     },
     "output_type": "display_data"
    }
   ],
   "source": [
    "sns.barplot(x=tags_comparison[\"average_n_job_per_build\"].index, \\\n",
    "            y=tags_comparison[\"average_n_job_per_build\"].values)"
   ]
  },
  {
   "cell_type": "markdown",
   "metadata": {},
   "source": [
    "**Number of builds per pull request**"
   ]
  },
  {
   "cell_type": "code",
   "execution_count": 247,
   "metadata": {},
   "outputs": [],
   "source": [
    "### Mean or median of duration for jobs not from canceled or errored builds\n",
    "def calculate_percentage_pr_builds(row, commitsDf):\n",
    "    _x = commitsDf\n",
    "    _commits = _x[(_x.from_tag == row.from_tag) & (_x.to_tag == row.to_tag)].commitsha\n",
    "    _all_builds = get_builds_from_commits(_commits)\n",
    "    _builds = _all_builds[(_all_builds.event_type == \"pull_request\")]\n",
    "    return len(_builds)/len(_all_builds)\n",
    "\n",
    "def calculate_percentage_pr_builds_pr(row):\n",
    "    return calculate_percentage_pr_builds(row, tags_iterative_pr_commits)\n",
    "def calculate_percentage_pr_builds_direct(row):\n",
    "    return calculate_percentage_pr_builds(row, tags_comparison_commits)\n",
    "def calculate_percentage_pr_builds_fix(row):\n",
    "    return calculate_percentage_pr_builds(row, tags_fix_commits)\n",
    "def calculate_percentage_pr_builds_pr_and_fix(row):\n",
    "    _tmp = tags_iterative_pr_commits.append(tags_fix_commits)\n",
    "    return calculate_percentage_pr_builds(row, _tmp)"
   ]
  },
  {
   "cell_type": "code",
   "execution_count": 248,
   "metadata": {},
   "outputs": [],
   "source": [
    "tags_comparison[\"percentage_pr_builds\"] = tags_comparison.apply(calculate_percentage_pr_builds_pr_and_fix, axis=1)"
   ]
  },
  {
   "cell_type": "code",
   "execution_count": 249,
   "metadata": {},
   "outputs": [
    {
     "data": {
      "text/plain": [
       "<AxesSubplot:>"
      ]
     },
     "execution_count": 249,
     "metadata": {},
     "output_type": "execute_result"
    },
    {
     "data": {
      "image/png": "[encoded data removed]",
      "text/plain": [
       "<Figure size 1080x360 with 1 Axes>"
      ]
     },
     "metadata": {
      "needs_background": "light"
     },
     "output_type": "display_data"
    }
   ],
   "source": [
    "sns.barplot(x=tags_comparison[\"percentage_pr_builds\"].index, \\\n",
    "            y=tags_comparison[\"percentage_pr_builds\"].values)"
   ]
  },
  {
   "cell_type": "code",
   "execution_count": 250,
   "metadata": {},
   "outputs": [
    {
     "data": {
      "text/html": [
       "<div>\n",
       "<style scoped>\n",
       "    .dataframe tbody tr th:only-of-type {\n",
       "        vertical-align: middle;\n",
       "    }\n",
       "\n",
       "    .dataframe tbody tr th {\n",
       "        vertical-align: top;\n",
       "    }\n",
       "\n",
       "    .dataframe thead th {\n",
       "        text-align: right;\n",
       "    }\n",
       "</style>\n",
       "<table border=\"1\" class=\"dataframe\">\n",
       "  <thead>\n",
       "    <tr style=\"text-align: right;\">\n",
       "      <th></th>\n",
       "      <th>from_author_date</th>\n",
       "      <th>to_author_date</th>\n",
       "      <th>ahead_by</th>\n",
       "      <th>behind_by</th>\n",
       "      <th>from_sha</th>\n",
       "      <th>to_sha</th>\n",
       "      <th>ahead_behind_sum</th>\n",
       "      <th>diff_author_dates</th>\n",
       "      <th>diff_author_days</th>\n",
       "      <th>from_commit_date</th>\n",
       "      <th>to_commit_date</th>\n",
       "      <th>diff_commit_dates</th>\n",
       "      <th>diff_commit_days</th>\n",
       "      <th>to_tag</th>\n",
       "      <th>from_tag</th>\n",
       "      <th>mean_job_duration_builds_passed_or_failed</th>\n",
       "      <th>average_failed_job_per_commit</th>\n",
       "      <th>median_n_job_per_pull_request</th>\n",
       "      <th>median_n_job_per_pull_request_2</th>\n",
       "      <th>median_n_job_per_commitmessage</th>\n",
       "      <th>percentage_canceled_or_errored_job</th>\n",
       "      <th>average_n_job_per_build</th>\n",
       "      <th>average_n_build_per_pr</th>\n",
       "      <th>percentage_pr_builds</th>\n",
       "    </tr>\n",
       "  </thead>\n",
       "  <tbody>\n",
       "    <tr>\n",
       "      <th>26</th>\n",
       "      <td>2017-11-07 15:03:37</td>\n",
       "      <td>2017-12-20 16:32:02</td>\n",
       "      <td>25</td>\n",
       "      <td>0</td>\n",
       "      <td>5d031d9d2ac3f69b4b9bc600d50563b1886c7d8b</td>\n",
       "      <td>426519346f51f7b980a76f9050f983110550509d</td>\n",
       "      <td>25</td>\n",
       "      <td>43 days 01:28:25</td>\n",
       "      <td>43.0614</td>\n",
       "      <td>2017-11-07 16:03:37</td>\n",
       "      <td>2017-12-20 17:32:02</td>\n",
       "      <td>43 days 01:28:25</td>\n",
       "      <td>43.0614</td>\n",
       "      <td>6.7.1</td>\n",
       "      <td>6.7</td>\n",
       "      <td>454.87931</td>\n",
       "      <td>1.75</td>\n",
       "      <td>2.0</td>\n",
       "      <td>NaN</td>\n",
       "      <td>6.0</td>\n",
       "      <td>0.104348</td>\n",
       "      <td>2.0</td>\n",
       "      <td>0.4</td>\n",
       "      <td>0.4</td>\n",
       "    </tr>\n",
       "  </tbody>\n",
       "</table>\n",
       "</div>"
      ],
      "text/plain": [
       "      from_author_date      to_author_date  ahead_by  behind_by  \\\n",
       "26 2017-11-07 15:03:37 2017-12-20 16:32:02        25          0   \n",
       "\n",
       "                                    from_sha  \\\n",
       "26  5d031d9d2ac3f69b4b9bc600d50563b1886c7d8b   \n",
       "\n",
       "                                      to_sha  ahead_behind_sum  \\\n",
       "26  426519346f51f7b980a76f9050f983110550509d                25   \n",
       "\n",
       "   diff_author_dates  diff_author_days    from_commit_date  \\\n",
       "26  43 days 01:28:25           43.0614 2017-11-07 16:03:37   \n",
       "\n",
       "        to_commit_date diff_commit_dates  diff_commit_days to_tag from_tag  \\\n",
       "26 2017-12-20 17:32:02  43 days 01:28:25           43.0614  6.7.1      6.7   \n",
       "\n",
       "    mean_job_duration_builds_passed_or_failed  average_failed_job_per_commit  \\\n",
       "26                                  454.87931                           1.75   \n",
       "\n",
       "    median_n_job_per_pull_request  median_n_job_per_pull_request_2  \\\n",
       "26                            2.0                              NaN   \n",
       "\n",
       "    median_n_job_per_commitmessage  percentage_canceled_or_errored_job  \\\n",
       "26                             6.0                            0.104348   \n",
       "\n",
       "    average_n_job_per_build  average_n_build_per_pr  percentage_pr_builds  \n",
       "26                      2.0                     0.4                   0.4  "
      ]
     },
     "execution_count": 250,
     "metadata": {},
     "output_type": "execute_result"
    }
   ],
   "source": [
    "tags_comparison[tags_comparison.percentage_pr_builds == 0.4]"
   ]
  },
  {
   "cell_type": "code",
   "execution_count": 251,
   "metadata": {},
   "outputs": [
    {
     "data": {
      "text/html": [
       "<div>\n",
       "<style scoped>\n",
       "    .dataframe tbody tr th:only-of-type {\n",
       "        vertical-align: middle;\n",
       "    }\n",
       "\n",
       "    .dataframe tbody tr th {\n",
       "        vertical-align: top;\n",
       "    }\n",
       "\n",
       "    .dataframe thead th {\n",
       "        text-align: right;\n",
       "    }\n",
       "</style>\n",
       "<table border=\"1\" class=\"dataframe\">\n",
       "  <thead>\n",
       "    <tr style=\"text-align: right;\">\n",
       "      <th></th>\n",
       "      <th>from_tag</th>\n",
       "      <th>to_tag</th>\n",
       "    </tr>\n",
       "  </thead>\n",
       "  <tbody>\n",
       "    <tr>\n",
       "      <th>17</th>\n",
       "      <td>6.1</td>\n",
       "      <td>6.1.1</td>\n",
       "    </tr>\n",
       "    <tr>\n",
       "      <th>37</th>\n",
       "      <td>7.3</td>\n",
       "      <td>7.4</td>\n",
       "    </tr>\n",
       "    <tr>\n",
       "      <th>38</th>\n",
       "      <td>7.4</td>\n",
       "      <td>7.5</td>\n",
       "    </tr>\n",
       "    <tr>\n",
       "      <th>42</th>\n",
       "      <td>7.8</td>\n",
       "      <td>7.9</td>\n",
       "    </tr>\n",
       "    <tr>\n",
       "      <th>45</th>\n",
       "      <td>7.9.1</td>\n",
       "      <td>7.9.3</td>\n",
       "    </tr>\n",
       "    <tr>\n",
       "      <th>46</th>\n",
       "      <td>7.9.3</td>\n",
       "      <td>7.9.4</td>\n",
       "    </tr>\n",
       "    <tr>\n",
       "      <th>47</th>\n",
       "      <td>8.0</td>\n",
       "      <td>8.1</td>\n",
       "    </tr>\n",
       "    <tr>\n",
       "      <th>48</th>\n",
       "      <td>8.1</td>\n",
       "      <td>8.2</td>\n",
       "    </tr>\n",
       "    <tr>\n",
       "      <th>49</th>\n",
       "      <td>8.2</td>\n",
       "      <td>8.3</td>\n",
       "    </tr>\n",
       "    <tr>\n",
       "      <th>50</th>\n",
       "      <td>8.3</td>\n",
       "      <td>8.3.1</td>\n",
       "    </tr>\n",
       "    <tr>\n",
       "      <th>51</th>\n",
       "      <td>8.3</td>\n",
       "      <td>8.4</td>\n",
       "    </tr>\n",
       "    <tr>\n",
       "      <th>52</th>\n",
       "      <td>8.4</td>\n",
       "      <td>8.4.1</td>\n",
       "    </tr>\n",
       "    <tr>\n",
       "      <th>53</th>\n",
       "      <td>8.4.1</td>\n",
       "      <td>8.4.2</td>\n",
       "    </tr>\n",
       "  </tbody>\n",
       "</table>\n",
       "</div>"
      ],
      "text/plain": [
       "   from_tag to_tag\n",
       "17      6.1  6.1.1\n",
       "37      7.3    7.4\n",
       "38      7.4    7.5\n",
       "42      7.8    7.9\n",
       "45    7.9.1  7.9.3\n",
       "46    7.9.3  7.9.4\n",
       "47      8.0    8.1\n",
       "48      8.1    8.2\n",
       "49      8.2    8.3\n",
       "50      8.3  8.3.1\n",
       "51      8.3    8.4\n",
       "52      8.4  8.4.1\n",
       "53    8.4.1  8.4.2"
      ]
     },
     "execution_count": 251,
     "metadata": {},
     "output_type": "execute_result"
    }
   ],
   "source": [
    "tags_comparison[tags_comparison.percentage_pr_builds == 0][[\"from_tag\", \"to_tag\"]]"
   ]
  },
  {
   "cell_type": "markdown",
   "metadata": {},
   "source": [
    "* 0% pull request builds may indicate mostly bug fixing done directly on the version branch. \n",
    "Indeed all the pairs with 0% do not represent major version upgrades"
   ]
  },
  {
   "cell_type": "markdown",
   "metadata": {},
   "source": [
    "**Average build duration**"
   ]
  },
  {
   "cell_type": "code",
   "execution_count": 267,
   "metadata": {},
   "outputs": [],
   "source": [
    "### Mean or median of duration for jobs not from canceled or errored builds\n",
    "def calculate_average_build_duration(row, commitsDf, state=None):\n",
    "    _x = commitsDf\n",
    "    _commits = _x[(_x.from_tag == row.from_tag) & (_x.to_tag == row.to_tag)].commitsha\n",
    "    _all_builds = get_builds_from_commits(_commits)\n",
    "    if(not state):\n",
    "        return _all_builds.duration.mean()\n",
    "    return _all_builds[_all_builds.state==state].duration.mean()\n",
    "\n",
    "def calculate_average_build_duration_pr(row):\n",
    "    return calculate_average_build_duration(row, tags_iterative_pr_commits)\n",
    "def calculate_average_build_duration_direct(row):\n",
    "    return calculate_average_build_duration(row, tags_comparison_commits)\n",
    "def calculate_average_build_duration_fix(row):\n",
    "    return calculate_average_build_duration(row, tags_fix_commits)\n",
    "def calculate_average_build_duration_pr_and_fix(row):\n",
    "    _tmp = tags_iterative_pr_commits.append(tags_fix_commits)\n",
    "    return calculate_average_build_duration(row, _tmp)\n",
    "def calculate_average_passed_build_duration_pr_and_fix(row):\n",
    "    _tmp = tags_iterative_pr_commits.append(tags_fix_commits)\n",
    "    return calculate_average_build_duration(row, _tmp, \"passed\")"
   ]
  },
  {
   "cell_type": "code",
   "execution_count": 268,
   "metadata": {},
   "outputs": [],
   "source": [
    "tags_comparison[\"average_build_duration\"] = tags_comparison.apply(calculate_average_build_duration_pr_and_fix, axis=1)"
   ]
  },
  {
   "cell_type": "code",
   "execution_count": 275,
   "metadata": {},
   "outputs": [
    {
     "data": {
      "image/png": "[encoded data removed]",
      "text/plain": [
       "<Figure size 1080x360 with 1 Axes>"
      ]
     },
     "metadata": {
      "needs_background": "light"
     },
     "output_type": "display_data"
    }
   ],
   "source": [
    "sns.barplot(x=tags_comparison[\"average_build_duration\"].index, \\\n",
    "            y=tags_comparison[\"average_build_duration\"].values)\n",
    "plt.show()"
   ]
  },
  {
   "cell_type": "code",
   "execution_count": 276,
   "metadata": {},
   "outputs": [],
   "source": [
    "tags_comparison[\"average_passed_build_duration\"] = tags_comparison.apply(calculate_average_passed_build_duration_pr_and_fix, axis=1)"
   ]
  },
  {
   "cell_type": "code",
   "execution_count": 277,
   "metadata": {},
   "outputs": [
    {
     "data": {
      "image/png": "[encoded data removed]",
      "text/plain": [
       "<Figure size 1080x360 with 1 Axes>"
      ]
     },
     "metadata": {
      "needs_background": "light"
     },
     "output_type": "display_data"
    }
   ],
   "source": [
    "sns.barplot(x=tags_comparison[\"average_passed_build_duration\"].index, \\\n",
    "            y=tags_comparison[\"average_passed_build_duration\"].values)\n",
    "plt.show()"
   ]
  },
  {
   "cell_type": "markdown",
   "metadata": {},
   "source": [
    "### Jobs metrics"
   ]
  },
  {
   "cell_type": "markdown",
   "metadata": {},
   "source": [
    "**Average job duration**"
   ]
  },
  {
   "cell_type": "code",
   "execution_count": 159,
   "metadata": {},
   "outputs": [],
   "source": [
    "jobs[\"duration\"] = (jobs.finished_at - jobs.started_at) / np.timedelta64(1, \"s\")"
   ]
  },
  {
   "cell_type": "code",
   "execution_count": 170,
   "metadata": {},
   "outputs": [],
   "source": [
    "### Mean or median of duration for jobs not from canceled or errored builds\n",
    "def calculate_average_job_duration(row, commitsDf):\n",
    "    _build_ids = builds[builds.state.isin([\"passed\", \"failed\"])].id\n",
    "    _x = commitsDf\n",
    "    _commits = _x[(_x.from_tag == row.from_tag) & (_x.to_tag == row.to_tag)].commitsha\n",
    "    _jobs = jobs[jobs.commitsha.isin(_commits) & jobs.buildid.isin(_build_ids)]\n",
    "    return _jobs.duration.mean()\n",
    "\n",
    "def calculate_average_job_duration_pr(row):\n",
    "    return calculate_average_job_duration(row, tags_iterative_pr_commits)\n",
    "def calculate_average_job_duration_direct(row):\n",
    "    return calculate_average_job_duration(row, tags_comparison_commits)\n",
    "def calculate_average_job_duration_fix(row):\n",
    "    return calculate_average_job_duration(row, tags_fix_commits)"
   ]
  },
  {
   "cell_type": "code",
   "execution_count": 171,
   "metadata": {},
   "outputs": [],
   "source": [
    "tags_comparison[\"mean_job_duration_builds_passed_or_failed\"] = tags_comparison.apply(calculate_average_job_duration_pr, axis=1)"
   ]
  },
  {
   "cell_type": "markdown",
   "metadata": {},
   "source": [
    "**Average failed jobs per commit**"
   ]
  },
  {
   "cell_type": "code",
   "execution_count": 176,
   "metadata": {},
   "outputs": [],
   "source": [
    "### Mean or median of duration for jobs not from canceled or errored builds\n",
    "def calculate_average_failed_job_per_commit(row, commitsDf):\n",
    "    _build_ids = builds[builds.state.isin([\"passed\", \"failed\"])].id\n",
    "    _x = commitsDf\n",
    "    _commits = _x[(_x.from_tag == row.from_tag) & (_x.to_tag == row.to_tag)].commitsha\n",
    "    _jobs = jobs[jobs.commitsha.isin(_commits) & jobs.buildid.isin(_build_ids)]\n",
    "    _jobs = _jobs[_jobs.state == \"failed\"]\n",
    "    return _jobs.groupby(\"commitsha\").state.count().mean()\n",
    "\n",
    "def calculate_average_failed_job_per_commit_pr(row):\n",
    "    return calculate_average_failed_job_per_commit(row, tags_iterative_pr_commits)\n",
    "def calculate_average_failed_job_per_commit_direct(row):\n",
    "    return calculate_average_failed_job_per_commit(row, tags_comparison_commits)\n",
    "def calculate_average_failed_job_per_commit_fix(row):\n",
    "    return calculate_average_failed_job_per_commit(row, tags_fix_commits)\n",
    "def calculate_average_failed_job_per_commit_pr_and_fix(row):\n",
    "    _tmp = tags_iterative_pr_commits.append(tags_fix_commits)\n",
    "    return calculate_average_failed_job_per_commit(row, _tmp)"
   ]
  },
  {
   "cell_type": "code",
   "execution_count": 179,
   "metadata": {},
   "outputs": [],
   "source": [
    "tags_comparison[\"average_failed_job_per_commit\"] = tags_comparison.apply(calculate_average_failed_job_per_commit_pr, axis=1)"
   ]
  },
  {
   "cell_type": "code",
   "execution_count": 206,
   "metadata": {},
   "outputs": [
    {
     "data": {
      "text/plain": [
       "<AxesSubplot:>"
      ]
     },
     "execution_count": 206,
     "metadata": {},
     "output_type": "execute_result"
    },
    {
     "data": {
      "image/png": "[encoded data removed]",
      "text/plain": [
       "<Figure size 1080x360 with 1 Axes>"
      ]
     },
     "metadata": {
      "needs_background": "light"
     },
     "output_type": "display_data"
    }
   ],
   "source": [
    "sns.barplot(x=tags_comparison[\"average_failed_job_per_commit\"].index, \\\n",
    "            y=tags_comparison[\"average_failed_job_per_commit\"].values)"
   ]
  },
  {
   "cell_type": "markdown",
   "metadata": {},
   "source": [
    "**Number of jobs per pull request**"
   ]
  },
  {
   "cell_type": "code",
   "execution_count": 196,
   "metadata": {},
   "outputs": [],
   "source": [
    "### Mean or median of number of jobs per pull request\n",
    "def calculate_median_n_job_per_pull_request(row, commitsDf):\n",
    "    _x = commitsDf\n",
    "    _commits = _x[(_x.from_tag == row.from_tag) & (_x.to_tag == row.to_tag)].commitsha\n",
    "    _jobs = jobs[jobs.commitsha.isin(_commits) & jobs.commitref.str.contains(\"refs/pull/\")]\n",
    "    return _jobs.groupby(\"commitref\").id.count().median()\n",
    "    \n",
    "def calculate_median_n_job_per_pull_request_per_commit_pr(row):\n",
    "    return calculate_median_n_job_per_pull_request(row, tags_iterative_pr_commits)\n",
    "def calculate_median_n_job_per_pull_request_per_commit_direct(row):\n",
    "    return calculate_median_n_job_per_pull_request(row, tags_comparison_commits)\n",
    "def calculate_median_n_job_per_pull_request_per_commit_fix(row):\n",
    "    return calculate_median_n_job_per_pull_request(row, tags_fix_commits)\n",
    "def calculate_median_n_job_per_pull_request_per_commit_pr_and_fix(row):\n",
    "    _tmp = tags_iterative_pr_commits.append(tags_fix_commits)\n",
    "    return calculate_median_n_job_per_pull_request(row, _tmp)"
   ]
  },
  {
   "cell_type": "code",
   "execution_count": 200,
   "metadata": {},
   "outputs": [],
   "source": [
    "tags_comparison[\"median_n_job_per_pull_request\"] =\\\n",
    "tags_comparison.apply(calculate_median_n_job_per_pull_request_commit_pr_and_fix, axis=1)"
   ]
  },
  {
   "cell_type": "code",
   "execution_count": 205,
   "metadata": {},
   "outputs": [
    {
     "data": {
      "text/plain": [
       "<AxesSubplot:>"
      ]
     },
     "execution_count": 205,
     "metadata": {},
     "output_type": "execute_result"
    },
    {
     "data": {
      "image/png": "[encoded data removed]",
      "text/plain": [
       "<Figure size 1080x360 with 1 Axes>"
      ]
     },
     "metadata": {
      "needs_background": "light"
     },
     "output_type": "display_data"
    }
   ],
   "source": [
    "sns.barplot(x=tags_comparison[\"median_n_job_per_pull_request\"].index, \\\n",
    "            y=tags_comparison[\"median_n_job_per_pull_request\"].values)"
   ]
  },
  {
   "cell_type": "markdown",
   "metadata": {},
   "source": [
    "**Median number of jobs per commitmessage (if starting with SONAR-)**"
   ]
  },
  {
   "cell_type": "code",
   "execution_count": 219,
   "metadata": {},
   "outputs": [],
   "source": [
    "### Mean or median of number of jobs per pull request\n",
    "def calculate_median_n_job_per_commitmessage(row, commitsDf):\n",
    "    _x = commitsDf\n",
    "    _commits = _x[(_x.from_tag == row.from_tag) & (_x.to_tag == row.to_tag)].commitsha\n",
    "    _jobs = jobs[jobs.commitsha.isin(_commits)]\n",
    "    return _jobs.groupby(\"commitmessage\").id.count().median()\n",
    "    \n",
    "def calculate_median_n_job_per_commitmessage_per_commit_pr(row):\n",
    "    return calculate_median_n_job_per_commitmessage(row, tags_iterative_pr_commits)\n",
    "def calculate_median_n_job_per_commitmessage_per_commit_direct(row):\n",
    "    return calculate_median_n_job_per_commitmessage(row, tags_comparison_commits)\n",
    "def calculate_median_n_job_per_commitmessage_per_commit_fix(row):\n",
    "    return calculate_median_n_job_per_commitmessage(row, tags_fix_commits)\n",
    "def calculate_median_n_job_per_commitmessage_per_commit_pr_and_fix(row):\n",
    "    _tmp = tags_iterative_pr_commits.append(tags_fix_commits)\n",
    "    return calculate_median_n_job_per_commitmessage(row, _tmp)"
   ]
  },
  {
   "cell_type": "code",
   "execution_count": 220,
   "metadata": {},
   "outputs": [],
   "source": [
    "tags_comparison[\"median_n_job_per_commitmessage\"] =\\\n",
    "tags_comparison.apply(calculate_median_n_job_per_commitmessage_per_commit_pr_and_fix, axis=1)"
   ]
  },
  {
   "cell_type": "code",
   "execution_count": 221,
   "metadata": {
    "scrolled": true
   },
   "outputs": [
    {
     "data": {
      "text/plain": [
       "<AxesSubplot:>"
      ]
     },
     "execution_count": 221,
     "metadata": {},
     "output_type": "execute_result"
    },
    {
     "data": {
      "image/png": "[encoded data removed]",
      "text/plain": [
       "<Figure size 1080x360 with 1 Axes>"
      ]
     },
     "metadata": {
      "needs_background": "light"
     },
     "output_type": "display_data"
    }
   ],
   "source": [
    "sns.barplot(x=tags_comparison[\"median_n_job_per_commitmessage\"].index, \\\n",
    "            y=tags_comparison[\"median_n_job_per_commitmessage\"].values)"
   ]
  },
  {
   "cell_type": "markdown",
   "metadata": {},
   "source": [
    "**Number of jobs canceled or errored**"
   ]
  },
  {
   "cell_type": "code",
   "execution_count": 222,
   "metadata": {},
   "outputs": [],
   "source": [
    "### Mean or median of duration for jobs not from canceled or errored builds\n",
    "def calculate_percentage_canceled_or_errored_job(row, commitsDf):\n",
    "    _x = commitsDf\n",
    "    _commits = _x[(_x.from_tag == row.from_tag) & (_x.to_tag == row.to_tag)].commitsha\n",
    "    _jobs = jobs[jobs.commitsha.isin(_commits)]\n",
    "    return len(_jobs[_jobs.state.isin([\"canceled\", \"errored\"])]) / len(_jobs)\n",
    "\n",
    "def calculate_percentage_canceled_or_errored_job_per_commit_pr(row):\n",
    "    return calculate_percentage_canceled_or_errored_job(row, tags_iterative_pr_commits)\n",
    "def calculate_percentage_canceled_or_errored_job_per_commit_direct(row):\n",
    "    return calculate_percentage_canceled_or_errored_job(row, tags_comparison_commits)\n",
    "def calculate_percentage_canceled_or_errored_job_per_commit_fix(row):\n",
    "    return calculate_percentage_canceled_or_errored_job(row, tags_fix_commits)\n",
    "def calculate_percentage_canceled_or_errored_job_per_commit_pr_and_fix(row):\n",
    "    _tmp = tags_iterative_pr_commits.append(tags_fix_commits)\n",
    "    return calculate_percentage_canceled_or_errored_job(row, _tmp)"
   ]
  },
  {
   "cell_type": "code",
   "execution_count": 223,
   "metadata": {},
   "outputs": [],
   "source": [
    "tags_comparison[\"percentage_canceled_or_errored_job\"] =\\\n",
    "tags_comparison.apply(calculate_percentage_canceled_or_errored_job_per_commit_pr_and_fix, axis=1)"
   ]
  },
  {
   "cell_type": "code",
   "execution_count": 224,
   "metadata": {
    "scrolled": true
   },
   "outputs": [
    {
     "data": {
      "text/plain": [
       "<AxesSubplot:>"
      ]
     },
     "execution_count": 224,
     "metadata": {},
     "output_type": "execute_result"
    },
    {
     "data": {
      "image/png": "[encoded data removed]",
      "text/plain": [
       "<Figure size 1080x360 with 1 Axes>"
      ]
     },
     "metadata": {
      "needs_background": "light"
     },
     "output_type": "display_data"
    }
   ],
   "source": [
    "sns.barplot(x=tags_comparison[\"percentage_canceled_or_errored_job\"].index, \\\n",
    "            y=tags_comparison[\"percentage_canceled_or_errored_job\"].values)"
   ]
  },
  {
   "cell_type": "code",
   "execution_count": 279,
   "metadata": {},
   "outputs": [
    {
     "data": {
      "text/plain": [
       "Index(['from_author_date', 'to_author_date', 'ahead_by', 'behind_by',\n",
       "       'from_sha', 'to_sha', 'ahead_behind_sum', 'diff_author_dates',\n",
       "       'diff_author_days', 'from_commit_date', 'to_commit_date',\n",
       "       'diff_commit_dates', 'diff_commit_days', 'to_tag', 'from_tag',\n",
       "       'mean_job_duration_builds_passed_or_failed',\n",
       "       'average_failed_job_per_commit', 'median_n_job_per_pull_request',\n",
       "       'median_n_job_per_pull_request_2', 'median_n_job_per_commitmessage',\n",
       "       'percentage_canceled_or_errored_job', 'average_n_job_per_build',\n",
       "       'average_n_build_per_pr', 'percentage_pr_builds', 'build_duration',\n",
       "       'average_build_duration', 'average_passed_build_duration'],\n",
       "      dtype='object')"
      ]
     },
     "execution_count": 279,
     "metadata": {},
     "output_type": "execute_result"
    }
   ],
   "source": [
    "tags_comparison.columns"
   ]
  },
  {
   "cell_type": "code",
   "execution_count": null,
   "metadata": {},
   "outputs": [],
   "source": []
  }
 ],
 "metadata": {
  "kernelspec": {
   "display_name": "Python 3",
   "language": "python",
   "name": "python3"
  },
  "language_info": {
   "codemirror_mode": {
    "name": "ipython",
    "version": 3
   },
   "file_extension": ".py",
   "mimetype": "text/x-python",
   "name": "python",
   "nbconvert_exporter": "python",
   "pygments_lexer": "ipython3",
   "version": "3.8.2"
  }
 },
 "nbformat": 4,
 "nbformat_minor": 4
}
