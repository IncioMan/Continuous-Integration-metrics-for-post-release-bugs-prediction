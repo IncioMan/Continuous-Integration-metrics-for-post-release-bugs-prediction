{
 "cells": [
  {
   "cell_type": "code",
   "execution_count": 108,
   "metadata": {},
   "outputs": [],
   "source": [
    "import pandas as pd\n",
    "import pickle\n",
    "import json\n",
    "import seaborn as sns\n",
    "import pprint\n",
    "import numpy as np\n",
    "import math\n",
    "import ast\n",
    "pp = pprint.PrettyPrinter(depth=6)\n",
    "import matplotlib\n",
    "import matplotlib.pyplot as plt\n",
    "from scipy import stats\n",
    "matplotlib.rcParams['figure.figsize'] = (14.0, 5.0)\n",
    "pd.set_option('display.max_columns', 120)\n",
    "pd.set_option('display.max_rows', 450)"
   ]
  },
  {
   "cell_type": "code",
   "execution_count": 109,
   "metadata": {},
   "outputs": [],
   "source": [
    "pkl_folder = \"../../pkl\"\n",
    "csv_folder = \"../../csv\"\n",
    "figure_folder = \"../../figures\""
   ]
  },
  {
   "cell_type": "markdown",
   "metadata": {},
   "source": [
    "# Goal"
   ]
  },
  {
   "cell_type": "markdown",
   "metadata": {},
   "source": [
    "Calculate ci metrics for each release and output a dataset with one entry for release and a list of metrics as features"
   ]
  },
  {
   "cell_type": "code",
   "execution_count": 110,
   "metadata": {},
   "outputs": [
    {
     "data": {
      "text/html": [
       "<div>\n",
       "<style scoped>\n",
       "    .dataframe tbody tr th:only-of-type {\n",
       "        vertical-align: middle;\n",
       "    }\n",
       "\n",
       "    .dataframe tbody tr th {\n",
       "        vertical-align: top;\n",
       "    }\n",
       "\n",
       "    .dataframe thead th {\n",
       "        text-align: right;\n",
       "    }\n",
       "</style>\n",
       "<table border=\"1\" class=\"dataframe\">\n",
       "  <thead>\n",
       "    <tr style=\"text-align: right;\">\n",
       "      <th></th>\n",
       "      <th>actual_release_date</th>\n",
       "      <th>Tag</th>\n",
       "      <th>Sha</th>\n",
       "      <th>Date</th>\n",
       "      <th>month</th>\n",
       "      <th>year</th>\n",
       "      <th>major_version</th>\n",
       "      <th>jira_version</th>\n",
       "    </tr>\n",
       "  </thead>\n",
       "  <tbody>\n",
       "    <tr>\n",
       "      <th>0</th>\n",
       "      <td>NaN</td>\n",
       "      <td>4.5.6</td>\n",
       "      <td>12d931e5a31e1692a428bbb34ba11cd63aebf998</td>\n",
       "      <td>2015-10-16 09:31:18</td>\n",
       "      <td>10</td>\n",
       "      <td>2015</td>\n",
       "      <td>4</td>\n",
       "      <td>4.5.6</td>\n",
       "    </tr>\n",
       "    <tr>\n",
       "      <th>1</th>\n",
       "      <td>NaN</td>\n",
       "      <td>4.5.7</td>\n",
       "      <td>e2afb0bff1b8be759789d2c1bc9348de6f519f83</td>\n",
       "      <td>2016-04-08 13:44:39</td>\n",
       "      <td>4</td>\n",
       "      <td>2016</td>\n",
       "      <td>4</td>\n",
       "      <td>4.5.7</td>\n",
       "    </tr>\n",
       "  </tbody>\n",
       "</table>\n",
       "</div>"
      ],
      "text/plain": [
       "  actual_release_date    Tag                                       Sha  \\\n",
       "0                 NaN  4.5.6  12d931e5a31e1692a428bbb34ba11cd63aebf998   \n",
       "1                 NaN  4.5.7  e2afb0bff1b8be759789d2c1bc9348de6f519f83   \n",
       "\n",
       "                 Date  month  year  major_version jira_version  \n",
       "0 2015-10-16 09:31:18     10  2015              4        4.5.6  \n",
       "1 2016-04-08 13:44:39      4  2016              4        4.5.7  "
      ]
     },
     "execution_count": 110,
     "metadata": {},
     "output_type": "execute_result"
    }
   ],
   "source": [
    "tags = pd.read_csv(f\"{csv_folder}/tags_updated.csv\", index_col=0)\n",
    "tags.Date = pd.to_datetime(tags.Date)\n",
    "tags.head(2)"
   ]
  },
  {
   "cell_type": "markdown",
   "metadata": {},
   "source": [
    "### Import builds and jobs"
   ]
  },
  {
   "cell_type": "code",
   "execution_count": 111,
   "metadata": {},
   "outputs": [
    {
     "data": {
      "text/html": [
       "<div>\n",
       "<style scoped>\n",
       "    .dataframe tbody tr th:only-of-type {\n",
       "        vertical-align: middle;\n",
       "    }\n",
       "\n",
       "    .dataframe tbody tr th {\n",
       "        vertical-align: top;\n",
       "    }\n",
       "\n",
       "    .dataframe thead th {\n",
       "        text-align: right;\n",
       "    }\n",
       "</style>\n",
       "<table border=\"1\" class=\"dataframe\">\n",
       "  <thead>\n",
       "    <tr style=\"text-align: right;\">\n",
       "      <th></th>\n",
       "      <th>number</th>\n",
       "      <th>pull_request_number</th>\n",
       "      <th>id</th>\n",
       "      <th>event_type</th>\n",
       "      <th>finished_at</th>\n",
       "      <th>pull_request_title</th>\n",
       "      <th>started_at</th>\n",
       "      <th>duration</th>\n",
       "      <th>state</th>\n",
       "      <th>started_at_day</th>\n",
       "      <th>started_at_month</th>\n",
       "      <th>started_at_year</th>\n",
       "    </tr>\n",
       "  </thead>\n",
       "  <tbody>\n",
       "    <tr>\n",
       "      <th>0</th>\n",
       "      <td>6995</td>\n",
       "      <td>NaN</td>\n",
       "      <td>99118995</td>\n",
       "      <td>push</td>\n",
       "      <td>2015-12-28 16:34:08+00:00</td>\n",
       "      <td>NaN</td>\n",
       "      <td>2015-12-28 16:18:41+00:00</td>\n",
       "      <td>5361.0</td>\n",
       "      <td>failed</td>\n",
       "      <td>28.0</td>\n",
       "      <td>12.0</td>\n",
       "      <td>2015.0</td>\n",
       "    </tr>\n",
       "    <tr>\n",
       "      <th>1</th>\n",
       "      <td>6994</td>\n",
       "      <td>NaN</td>\n",
       "      <td>99100662</td>\n",
       "      <td>push</td>\n",
       "      <td>2015-12-28 14:36:03+00:00</td>\n",
       "      <td>NaN</td>\n",
       "      <td>2015-12-28 14:18:30+00:00</td>\n",
       "      <td>5953.0</td>\n",
       "      <td>passed</td>\n",
       "      <td>28.0</td>\n",
       "      <td>12.0</td>\n",
       "      <td>2015.0</td>\n",
       "    </tr>\n",
       "  </tbody>\n",
       "</table>\n",
       "</div>"
      ],
      "text/plain": [
       "   number  pull_request_number        id event_type  \\\n",
       "0    6995                  NaN  99118995       push   \n",
       "1    6994                  NaN  99100662       push   \n",
       "\n",
       "                 finished_at pull_request_title                 started_at  \\\n",
       "0  2015-12-28 16:34:08+00:00                NaN  2015-12-28 16:18:41+00:00   \n",
       "1  2015-12-28 14:36:03+00:00                NaN  2015-12-28 14:18:30+00:00   \n",
       "\n",
       "   duration   state  started_at_day  started_at_month  started_at_year  \n",
       "0    5361.0  failed            28.0              12.0           2015.0  \n",
       "1    5953.0  passed            28.0              12.0           2015.0  "
      ]
     },
     "execution_count": 111,
     "metadata": {},
     "output_type": "execute_result"
    }
   ],
   "source": [
    "builds = pd.read_csv(f\"{csv_folder}/builds_cleaned.csv\", index_col=0)\n",
    "builds.head(2)"
   ]
  },
  {
   "cell_type": "code",
   "execution_count": 112,
   "metadata": {},
   "outputs": [
    {
     "data": {
      "text/plain": [
       "(136983, 13)"
      ]
     },
     "execution_count": 112,
     "metadata": {},
     "output_type": "execute_result"
    }
   ],
   "source": [
    "jobs = pd.read_csv(f\"{csv_folder}/allJobs.csv\", index_col=0)\n",
    "for datefield in [\"started_at\",\"created_at\",\"finished_at\",\"updated_at\"]:\n",
    "    jobs[f\"{datefield}\"] = pd.to_datetime(jobs[f\"{datefield}\"])\n",
    "jobs.shape"
   ]
  },
  {
   "cell_type": "code",
   "execution_count": 113,
   "metadata": {},
   "outputs": [
    {
     "data": {
      "text/plain": [
       "(39514, 6)"
      ]
     },
     "execution_count": 113,
     "metadata": {},
     "output_type": "execute_result"
    }
   ],
   "source": [
    "builds_sha = jobs[[\"buildid\", \"commitsha\",\"commitid\",\"commitmessage\",\"commitref\", \"started_at\"]]\n",
    "builds_sha = builds_sha.drop_duplicates(subset=[\"buildid\", \"commitsha\"],ignore_index=True)\n",
    "builds_sha.shape"
   ]
  },
  {
   "cell_type": "markdown",
   "metadata": {},
   "source": [
    "### Import tag comparison pairs"
   ]
  },
  {
   "cell_type": "code",
   "execution_count": 114,
   "metadata": {
    "scrolled": true
   },
   "outputs": [
    {
     "data": {
      "text/html": [
       "<div>\n",
       "<style scoped>\n",
       "    .dataframe tbody tr th:only-of-type {\n",
       "        vertical-align: middle;\n",
       "    }\n",
       "\n",
       "    .dataframe tbody tr th {\n",
       "        vertical-align: top;\n",
       "    }\n",
       "\n",
       "    .dataframe thead th {\n",
       "        text-align: right;\n",
       "    }\n",
       "</style>\n",
       "<table border=\"1\" class=\"dataframe\">\n",
       "  <thead>\n",
       "    <tr style=\"text-align: right;\">\n",
       "      <th></th>\n",
       "      <th>from_tag</th>\n",
       "      <th>to_tag</th>\n",
       "    </tr>\n",
       "  </thead>\n",
       "  <tbody>\n",
       "    <tr>\n",
       "      <th>3</th>\n",
       "      <td>5.1.2</td>\n",
       "      <td>5.2</td>\n",
       "    </tr>\n",
       "    <tr>\n",
       "      <th>4</th>\n",
       "      <td>5.2</td>\n",
       "      <td>5.3</td>\n",
       "    </tr>\n",
       "    <tr>\n",
       "      <th>5</th>\n",
       "      <td>5.3</td>\n",
       "      <td>5.4</td>\n",
       "    </tr>\n",
       "    <tr>\n",
       "      <th>6</th>\n",
       "      <td>5.4</td>\n",
       "      <td>5.5</td>\n",
       "    </tr>\n",
       "    <tr>\n",
       "      <th>7</th>\n",
       "      <td>5.5</td>\n",
       "      <td>5.6</td>\n",
       "    </tr>\n",
       "    <tr>\n",
       "      <th>8</th>\n",
       "      <td>5.6</td>\n",
       "      <td>5.6.1</td>\n",
       "    </tr>\n",
       "    <tr>\n",
       "      <th>9</th>\n",
       "      <td>5.6.1</td>\n",
       "      <td>5.6.2</td>\n",
       "    </tr>\n",
       "    <tr>\n",
       "      <th>10</th>\n",
       "      <td>5.6.1</td>\n",
       "      <td>6.0</td>\n",
       "    </tr>\n",
       "    <tr>\n",
       "      <th>11</th>\n",
       "      <td>5.6.2</td>\n",
       "      <td>5.6.3</td>\n",
       "    </tr>\n",
       "    <tr>\n",
       "      <th>12</th>\n",
       "      <td>5.6.3</td>\n",
       "      <td>5.6.4</td>\n",
       "    </tr>\n",
       "    <tr>\n",
       "      <th>13</th>\n",
       "      <td>5.6.4</td>\n",
       "      <td>5.6.5</td>\n",
       "    </tr>\n",
       "    <tr>\n",
       "      <th>14</th>\n",
       "      <td>5.6.5</td>\n",
       "      <td>5.6.6</td>\n",
       "    </tr>\n",
       "    <tr>\n",
       "      <th>15</th>\n",
       "      <td>5.6.6</td>\n",
       "      <td>5.6.7</td>\n",
       "    </tr>\n",
       "    <tr>\n",
       "      <th>16</th>\n",
       "      <td>6.0</td>\n",
       "      <td>6.1</td>\n",
       "    </tr>\n",
       "    <tr>\n",
       "      <th>17</th>\n",
       "      <td>6.1</td>\n",
       "      <td>6.1.1</td>\n",
       "    </tr>\n",
       "    <tr>\n",
       "      <th>18</th>\n",
       "      <td>6.1.1</td>\n",
       "      <td>6.2</td>\n",
       "    </tr>\n",
       "    <tr>\n",
       "      <th>19</th>\n",
       "      <td>6.2</td>\n",
       "      <td>6.3</td>\n",
       "    </tr>\n",
       "    <tr>\n",
       "      <th>20</th>\n",
       "      <td>6.3</td>\n",
       "      <td>6.3.1</td>\n",
       "    </tr>\n",
       "    <tr>\n",
       "      <th>21</th>\n",
       "      <td>6.3.1</td>\n",
       "      <td>6.3.2</td>\n",
       "    </tr>\n",
       "    <tr>\n",
       "      <th>22</th>\n",
       "      <td>6.3.2</td>\n",
       "      <td>6.4</td>\n",
       "    </tr>\n",
       "    <tr>\n",
       "      <th>23</th>\n",
       "      <td>6.4</td>\n",
       "      <td>6.5</td>\n",
       "    </tr>\n",
       "    <tr>\n",
       "      <th>24</th>\n",
       "      <td>6.5</td>\n",
       "      <td>6.6</td>\n",
       "    </tr>\n",
       "    <tr>\n",
       "      <th>25</th>\n",
       "      <td>6.6</td>\n",
       "      <td>6.7</td>\n",
       "    </tr>\n",
       "    <tr>\n",
       "      <th>26</th>\n",
       "      <td>6.7</td>\n",
       "      <td>6.7.1</td>\n",
       "    </tr>\n",
       "    <tr>\n",
       "      <th>27</th>\n",
       "      <td>6.7.1</td>\n",
       "      <td>7.0</td>\n",
       "    </tr>\n",
       "    <tr>\n",
       "      <th>28</th>\n",
       "      <td>6.7.1</td>\n",
       "      <td>6.7.2</td>\n",
       "    </tr>\n",
       "    <tr>\n",
       "      <th>29</th>\n",
       "      <td>6.7.2</td>\n",
       "      <td>6.7.3</td>\n",
       "    </tr>\n",
       "    <tr>\n",
       "      <th>30</th>\n",
       "      <td>6.7.3</td>\n",
       "      <td>6.7.4</td>\n",
       "    </tr>\n",
       "    <tr>\n",
       "      <th>31</th>\n",
       "      <td>6.7.4</td>\n",
       "      <td>6.7.5</td>\n",
       "    </tr>\n",
       "    <tr>\n",
       "      <th>32</th>\n",
       "      <td>6.7.5</td>\n",
       "      <td>6.7.6</td>\n",
       "    </tr>\n",
       "    <tr>\n",
       "      <th>33</th>\n",
       "      <td>6.7.6</td>\n",
       "      <td>6.7.7</td>\n",
       "    </tr>\n",
       "    <tr>\n",
       "      <th>34</th>\n",
       "      <td>7.0</td>\n",
       "      <td>7.1</td>\n",
       "    </tr>\n",
       "    <tr>\n",
       "      <th>35</th>\n",
       "      <td>7.1</td>\n",
       "      <td>7.2</td>\n",
       "    </tr>\n",
       "    <tr>\n",
       "      <th>36</th>\n",
       "      <td>7.2</td>\n",
       "      <td>7.3</td>\n",
       "    </tr>\n",
       "    <tr>\n",
       "      <th>37</th>\n",
       "      <td>7.3</td>\n",
       "      <td>7.4</td>\n",
       "    </tr>\n",
       "    <tr>\n",
       "      <th>38</th>\n",
       "      <td>7.4</td>\n",
       "      <td>7.5</td>\n",
       "    </tr>\n",
       "    <tr>\n",
       "      <th>39</th>\n",
       "      <td>7.5</td>\n",
       "      <td>7.6</td>\n",
       "    </tr>\n",
       "    <tr>\n",
       "      <th>40</th>\n",
       "      <td>7.6</td>\n",
       "      <td>7.7</td>\n",
       "    </tr>\n",
       "    <tr>\n",
       "      <th>41</th>\n",
       "      <td>7.7</td>\n",
       "      <td>7.8</td>\n",
       "    </tr>\n",
       "    <tr>\n",
       "      <th>42</th>\n",
       "      <td>7.8</td>\n",
       "      <td>7.9</td>\n",
       "    </tr>\n",
       "    <tr>\n",
       "      <th>43</th>\n",
       "      <td>7.9</td>\n",
       "      <td>7.9.1</td>\n",
       "    </tr>\n",
       "    <tr>\n",
       "      <th>44</th>\n",
       "      <td>7.9</td>\n",
       "      <td>8.0</td>\n",
       "    </tr>\n",
       "    <tr>\n",
       "      <th>45</th>\n",
       "      <td>7.9.1</td>\n",
       "      <td>7.9.2</td>\n",
       "    </tr>\n",
       "    <tr>\n",
       "      <th>46</th>\n",
       "      <td>7.9.2</td>\n",
       "      <td>7.9.3</td>\n",
       "    </tr>\n",
       "    <tr>\n",
       "      <th>47</th>\n",
       "      <td>7.9.3</td>\n",
       "      <td>7.9.4</td>\n",
       "    </tr>\n",
       "    <tr>\n",
       "      <th>48</th>\n",
       "      <td>8.0</td>\n",
       "      <td>8.1</td>\n",
       "    </tr>\n",
       "    <tr>\n",
       "      <th>49</th>\n",
       "      <td>8.1</td>\n",
       "      <td>8.2</td>\n",
       "    </tr>\n",
       "    <tr>\n",
       "      <th>50</th>\n",
       "      <td>8.2</td>\n",
       "      <td>8.3</td>\n",
       "    </tr>\n",
       "    <tr>\n",
       "      <th>51</th>\n",
       "      <td>8.3</td>\n",
       "      <td>8.3.1</td>\n",
       "    </tr>\n",
       "    <tr>\n",
       "      <th>52</th>\n",
       "      <td>8.3</td>\n",
       "      <td>8.4</td>\n",
       "    </tr>\n",
       "    <tr>\n",
       "      <th>53</th>\n",
       "      <td>8.4</td>\n",
       "      <td>8.4.1</td>\n",
       "    </tr>\n",
       "    <tr>\n",
       "      <th>54</th>\n",
       "      <td>8.4.1</td>\n",
       "      <td>8.4.2</td>\n",
       "    </tr>\n",
       "  </tbody>\n",
       "</table>\n",
       "</div>"
      ],
      "text/plain": [
       "   from_tag to_tag\n",
       "3     5.1.2    5.2\n",
       "4       5.2    5.3\n",
       "5       5.3    5.4\n",
       "6       5.4    5.5\n",
       "7       5.5    5.6\n",
       "8       5.6  5.6.1\n",
       "9     5.6.1  5.6.2\n",
       "10    5.6.1    6.0\n",
       "11    5.6.2  5.6.3\n",
       "12    5.6.3  5.6.4\n",
       "13    5.6.4  5.6.5\n",
       "14    5.6.5  5.6.6\n",
       "15    5.6.6  5.6.7\n",
       "16      6.0    6.1\n",
       "17      6.1  6.1.1\n",
       "18    6.1.1    6.2\n",
       "19      6.2    6.3\n",
       "20      6.3  6.3.1\n",
       "21    6.3.1  6.3.2\n",
       "22    6.3.2    6.4\n",
       "23      6.4    6.5\n",
       "24      6.5    6.6\n",
       "25      6.6    6.7\n",
       "26      6.7  6.7.1\n",
       "27    6.7.1    7.0\n",
       "28    6.7.1  6.7.2\n",
       "29    6.7.2  6.7.3\n",
       "30    6.7.3  6.7.4\n",
       "31    6.7.4  6.7.5\n",
       "32    6.7.5  6.7.6\n",
       "33    6.7.6  6.7.7\n",
       "34      7.0    7.1\n",
       "35      7.1    7.2\n",
       "36      7.2    7.3\n",
       "37      7.3    7.4\n",
       "38      7.4    7.5\n",
       "39      7.5    7.6\n",
       "40      7.6    7.7\n",
       "41      7.7    7.8\n",
       "42      7.8    7.9\n",
       "43      7.9  7.9.1\n",
       "44      7.9    8.0\n",
       "45    7.9.1  7.9.2\n",
       "46    7.9.2  7.9.3\n",
       "47    7.9.3  7.9.4\n",
       "48      8.0    8.1\n",
       "49      8.1    8.2\n",
       "50      8.2    8.3\n",
       "51      8.3  8.3.1\n",
       "52      8.3    8.4\n",
       "53      8.4  8.4.1\n",
       "54    8.4.1  8.4.2"
      ]
     },
     "execution_count": 114,
     "metadata": {},
     "output_type": "execute_result"
    }
   ],
   "source": [
    "tags_comparison = pd.read_csv(f\"{csv_folder}/tags_comparison_final_updated_no_rc_and_milestones.csv\", index_col=0)\n",
    "tags_comparison.from_commit_date = pd.to_datetime(tags_comparison.from_commit_date)\n",
    "tags_comparison.to_commit_date = pd.to_datetime(tags_comparison.to_commit_date)\n",
    "tags_comparison.from_author_date = pd.to_datetime(tags_comparison.from_author_date)\n",
    "tags_comparison.to_author_date = pd.to_datetime(tags_comparison.to_author_date)\n",
    "tags_comparison = tags_comparison[3:]\n",
    "tags_comparison[[\"from_tag\", \"to_tag\"]]"
   ]
  },
  {
   "cell_type": "markdown",
   "metadata": {},
   "source": [
    "## Import release commits"
   ]
  },
  {
   "cell_type": "code",
   "execution_count": 115,
   "metadata": {},
   "outputs": [],
   "source": [
    "def replace_tags_with_jira(df):\n",
    "    df = df.merge(tags[[\"Tag\",\"jira_version\"]], left_on=\"to_tag\", right_on=\"Tag\")\\\n",
    "    .drop(columns=[\"to_tag\", \"Tag\"]).rename(columns={\"jira_version\":\"to_tag\"})\n",
    "    df = df.merge(tags[[\"Tag\",\"jira_version\"]], left_on=\"from_tag\", right_on=\"Tag\")\\\n",
    "    .drop(columns=[\"from_tag\", \"Tag\"]).rename(columns={\"jira_version\":\"from_tag\"})\n",
    "    return df"
   ]
  },
  {
   "cell_type": "markdown",
   "metadata": {},
   "source": [
    "### Load jobs for releases"
   ]
  },
  {
   "cell_type": "code",
   "execution_count": 116,
   "metadata": {},
   "outputs": [],
   "source": [
    "builds_from_direct = pd.read_csv(f\"{csv_folder}/builds_per_release/builds_from_direct.csv\", index_col=0)"
   ]
  },
  {
   "cell_type": "code",
   "execution_count": 117,
   "metadata": {},
   "outputs": [],
   "source": [
    "builds_from_direct_prs = pd.read_csv(f\"{csv_folder}/builds_per_release/builds_from_direct_prs.csv\", index_col=0)"
   ]
  },
  {
   "cell_type": "code",
   "execution_count": 118,
   "metadata": {},
   "outputs": [],
   "source": [
    "builds_head_ref_before_pr = pd.read_csv(f\"{csv_folder}/builds_per_release/builds_head_ref_before_pr.csv\", index_col=0)"
   ]
  },
  {
   "cell_type": "code",
   "execution_count": 119,
   "metadata": {},
   "outputs": [],
   "source": [
    "builds_iterative_approach = pd.read_csv(f\"{csv_folder}/builds_per_release/builds_iterative_approach.csv\", index_col=0)"
   ]
  },
  {
   "cell_type": "code",
   "execution_count": 120,
   "metadata": {},
   "outputs": [],
   "source": [
    "builds_iterative_cherry_rebase =  pd.read_csv(f\"{csv_folder}/builds_per_release/builds_iterative_cherry_rebase.csv\", index_col=0)"
   ]
  },
  {
   "cell_type": "markdown",
   "metadata": {},
   "source": [
    "### Uniform types"
   ]
  },
  {
   "cell_type": "code",
   "execution_count": 121,
   "metadata": {},
   "outputs": [],
   "source": [
    "for df in [builds_from_direct, builds_from_direct_prs, builds_head_ref_before_pr,\\\n",
    "          builds_iterative_approach, builds_iterative_cherry_rebase, tags_comparison]:\n",
    "    df.to_tag = df.to_tag.astype(str)\n",
    "    df.from_tag = df.from_tag.astype(str)"
   ]
  },
  {
   "cell_type": "markdown",
   "metadata": {},
   "source": [
    "### Method 1"
   ]
  },
  {
   "cell_type": "code",
   "execution_count": 122,
   "metadata": {},
   "outputs": [],
   "source": [
    "method1 = builds_from_direct_prs.append(builds_from_direct)\n",
    "method1 = method1.drop_duplicates(ignore_index=True)"
   ]
  },
  {
   "cell_type": "code",
   "execution_count": 123,
   "metadata": {},
   "outputs": [
    {
     "data": {
      "text/plain": [
       "(15712, 3)"
      ]
     },
     "execution_count": 123,
     "metadata": {},
     "output_type": "execute_result"
    }
   ],
   "source": [
    "method1.shape"
   ]
  },
  {
   "cell_type": "code",
   "execution_count": 124,
   "metadata": {
    "scrolled": false
   },
   "outputs": [
    {
     "data": {
      "text/plain": [
       "<AxesSubplot:xlabel='to_tag'>"
      ]
     },
     "execution_count": 124,
     "metadata": {},
     "output_type": "execute_result"
    },
    {
     "data": {
      "image/png": "[encoded data removed]",
      "text/plain": [
       "<Figure size 1008x360 with 1 Axes>"
      ]
     },
     "metadata": {
      "needs_background": "light"
     },
     "output_type": "display_data"
    }
   ],
   "source": [
    "method1.groupby(\"to_tag\").buildid.count().plot(kind=\"bar\")"
   ]
  },
  {
   "cell_type": "markdown",
   "metadata": {},
   "source": [
    "### Method 2"
   ]
  },
  {
   "cell_type": "code",
   "execution_count": 125,
   "metadata": {},
   "outputs": [
    {
     "data": {
      "text/plain": [
       "(48202, 3)"
      ]
     },
     "execution_count": 125,
     "metadata": {},
     "output_type": "execute_result"
    }
   ],
   "source": [
    "method2 = builds_iterative_cherry_rebase\n",
    "method2.shape"
   ]
  },
  {
   "cell_type": "code",
   "execution_count": 126,
   "metadata": {},
   "outputs": [
    {
     "data": {
      "text/plain": [
       "<AxesSubplot:xlabel='to_tag'>"
      ]
     },
     "execution_count": 126,
     "metadata": {},
     "output_type": "execute_result"
    },
    {
     "data": {
      "image/png": "[encoded data removed]",
      "text/plain": [
       "<Figure size 1008x360 with 1 Axes>"
      ]
     },
     "metadata": {
      "needs_background": "light"
     },
     "output_type": "display_data"
    }
   ],
   "source": [
    "method2.groupby(\"to_tag\").buildid.count().plot(kind=\"bar\")"
   ]
  },
  {
   "cell_type": "code",
   "execution_count": 127,
   "metadata": {},
   "outputs": [
    {
     "data": {
      "text/plain": [
       "<AxesSubplot:xlabel='to_tag'>"
      ]
     },
     "execution_count": 127,
     "metadata": {},
     "output_type": "execute_result"
    },
    {
     "data": {
      "image/png": "[encoded data removed]",
      "text/plain": [
       "<Figure size 1008x360 with 1 Axes>"
      ]
     },
     "metadata": {
      "needs_background": "light"
     },
     "output_type": "display_data"
    }
   ],
   "source": [
    "df_methods = method2.groupby(\"to_tag\").buildid.count().reset_index()\n",
    "df_methods[\"dataset1\"] = method1.groupby(\"to_tag\").buildid.count().values\n",
    "df_methods[\"dataset2\"] = method2.groupby(\"to_tag\").buildid.count().values\n",
    "df_methods.set_index(\"to_tag\")[[\"dataset1\", \"dataset2\"]].plot(kind=\"bar\", logy=True)"
   ]
  },
  {
   "cell_type": "markdown",
   "metadata": {},
   "source": [
    "# Start"
   ]
  },
  {
   "cell_type": "code",
   "execution_count": 128,
   "metadata": {},
   "outputs": [],
   "source": [
    "def get_builds_from_commits(_commits):\n",
    "    _build_ids = jobs[jobs.commitsha.isin(_commits)].buildid\n",
    "    return builds[(builds.id.isin(_build_ids))]\n",
    "\n",
    "def get_builds_from_jobs_ids(_release_jobs_ids):\n",
    "    _build_ids = jobs[jobs.id.isin(_release_jobs_ids)].buildid\n",
    "    return builds[(builds.id.isin(_build_ids))]\n",
    "\n",
    "def get_builds_from_ids(_builds, _build_ids):\n",
    "    return _builds[(_builds.id.isin(_build_ids))]\n",
    "\n",
    "def get_job_ids_from_comparison_row(row, _jobs):\n",
    "    _x = _jobs\n",
    "    return _x[(_x.from_tag == row.from_tag) & (_x.to_tag == row.to_tag)].job_id\n",
    "\n",
    "def get_commits_from_comparison_row(row, commitsDf):\n",
    "    _x = commitsDf\n",
    "    return _x[(_x.from_tag == row.from_tag) & (_x.to_tag == row.to_tag)].commitsha"
   ]
  },
  {
   "cell_type": "markdown",
   "metadata": {},
   "source": [
    "### Prepare 2 dataframes for the 2 commits methodologies"
   ]
  },
  {
   "cell_type": "code",
   "execution_count": 129,
   "metadata": {},
   "outputs": [],
   "source": [
    "tc_direct_prs = tags_comparison.copy()\n",
    "tc_iterative_cherry_rebase = tags_comparison.copy()"
   ]
  },
  {
   "cell_type": "code",
   "execution_count": 130,
   "metadata": {},
   "outputs": [],
   "source": [
    "df_builds = [(tc_direct_prs, method1, \"dataset1\"),\n",
    "(tc_iterative_cherry_rebase, method2, \"dataset2\")]"
   ]
  },
  {
   "cell_type": "markdown",
   "metadata": {},
   "source": [
    "**Test**"
   ]
  },
  {
   "cell_type": "code",
   "execution_count": 133,
   "metadata": {},
   "outputs": [
    {
     "data": {
      "text/plain": [
       "47967    599155929\n",
       "47968    599572841\n",
       "47969    602471511\n",
       "47970    617883797\n",
       "47971    618731613\n",
       "47972    619791522\n",
       "47973    620294153\n",
       "47974    621283238\n",
       "47975    671604176\n",
       "Name: buildid, dtype: int64"
      ]
     },
     "execution_count": 133,
     "metadata": {},
     "output_type": "execute_result"
    }
   ],
   "source": [
    "_x =builds_iterative_approach\n",
    "_x[(_x.from_tag == \"7.9.1\") & (_x.to_tag == \"7.9.2\")].buildid"
   ]
  },
  {
   "cell_type": "markdown",
   "metadata": {},
   "source": [
    "### Builds metrics"
   ]
  },
  {
   "cell_type": "markdown",
   "metadata": {},
   "source": [
    "**Percentage of builds per state**"
   ]
  },
  {
   "cell_type": "code",
   "execution_count": 134,
   "metadata": {},
   "outputs": [],
   "source": [
    "def calculate_percentage_state_builds(row, release_builds, state):\n",
    "    _x = release_builds\n",
    "    _all_builds = _x[(_x.from_tag == row.from_tag) & (_x.to_tag == row.to_tag)].buildid\n",
    "    _all_builds = builds[builds.id.isin(_all_builds)]\n",
    "    _builds = _all_builds[(_all_builds.state.isin(state))]\n",
    "    if(len(_all_builds)==0):\n",
    "        return 0\n",
    "    return len(_builds)/len(_all_builds)"
   ]
  },
  {
   "cell_type": "code",
   "execution_count": 135,
   "metadata": {},
   "outputs": [],
   "source": [
    "for state in [\"passed\", \"canceled\", \"failed\", \"errored\"]:\n",
    "    for df, release_builds, method in df_builds:\n",
    "        df[f\"ratio_{state}_builds\"] = \\\n",
    "        df.apply(calculate_percentage_state_builds, args=(release_builds, [state]), axis=1)"
   ]
  },
  {
   "cell_type": "code",
   "execution_count": 136,
   "metadata": {},
   "outputs": [
    {
     "data": {
      "text/plain": [
       "<Figure size 1008x360 with 0 Axes>"
      ]
     },
     "metadata": {},
     "output_type": "display_data"
    },
    {
     "data": {
      "image/png": "[encoded data removed]",
      "text/plain": [
       "<Figure size 1008x504 with 2 Axes>"
      ]
     },
     "metadata": {
      "needs_background": "light"
     },
     "output_type": "display_data"
    }
   ],
   "source": [
    "plt.figure()\n",
    "fig, axes = plt.subplots(nrows=len(df_builds), ncols=1, sharex=True, figsize=(14.0, 7.0))\n",
    "for i, df_build in enumerate(df_builds):\n",
    "    cols = []\n",
    "    for state in [\"passed\", \"canceled\", \"failed\", \"errored\"]:\n",
    "        cols.append(f\"ratio_{state}_builds\")\n",
    "    ax = df_build[0].set_index(\"to_tag\").sort_index()[cols].plot(ax=axes[i], kind=\"bar\", color=[\"tab:green\",\"tab:orange\", \"tab:red\", \"tab:blue\"])\n",
    "    ax.set_title(df_build[2])\n",
    "    ax.set(xlabel=\"Releases\")\n",
    "plt.savefig(f\"{figure_folder}/ci-metrics/percentage_state_builds.png\", transparent=True, bbox_inches='tight', pad_inches=0.2)\n",
    "plt.show()"
   ]
  },
  {
   "cell_type": "markdown",
   "metadata": {},
   "source": [
    "**Number of builds per pull request**"
   ]
  },
  {
   "cell_type": "code",
   "execution_count": 137,
   "metadata": {},
   "outputs": [],
   "source": [
    "def calculate_percentage_pr_builds(row, release_builds):\n",
    "    _x = release_builds\n",
    "    _all_builds = _x[(_x.from_tag == row.from_tag) & (_x.to_tag == row.to_tag)].buildid\n",
    "    _all_builds = builds[builds.id.isin(_all_builds)]\n",
    "    _builds = _all_builds[(_all_builds.event_type == \"pull_request\")]\n",
    "    return len(_builds)/len(_all_builds)"
   ]
  },
  {
   "cell_type": "code",
   "execution_count": 138,
   "metadata": {},
   "outputs": [],
   "source": [
    "for df, release_builds, method in df_builds:\n",
    "    df[f\"ratio_pr_builds\"] = \\\n",
    "    df.apply(calculate_percentage_pr_builds, args=(release_builds,), axis=1)"
   ]
  },
  {
   "cell_type": "code",
   "execution_count": 139,
   "metadata": {},
   "outputs": [
    {
     "data": {
      "image/png": "[encoded data removed]",
      "text/plain": [
       "<Figure size 1008x504 with 2 Axes>"
      ]
     },
     "metadata": {
      "needs_background": "light"
     },
     "output_type": "display_data"
    }
   ],
   "source": [
    "fig, axes = plt.subplots(nrows=len(df_builds), ncols=1, sharex=True, sharey=True, figsize=(14.0, 7.0))\n",
    "for i, df_build in enumerate(df_builds):\n",
    "    ax = sns.barplot(x=df_build[0].set_index(\"to_tag\").sort_index()[\"ratio_pr_builds\"].index, \\\n",
    "                y=df_build[0][\"ratio_pr_builds\"].values, ax=axes[i])\n",
    "    ax.set_xticklabels(ax.get_xticklabels(),rotation=90)\n",
    "    ax.set_title(df_build[2])\n",
    "    if(i < len(df_builds) - 1):\n",
    "        ax.get_xaxis().set_visible(False)"
   ]
  },
  {
   "cell_type": "markdown",
   "metadata": {},
   "source": [
    "* 0% pull request builds may indicate mostly bug fixing done directly on the version branch. \n",
    "Indeed all the pairs with 0% do not represent major version upgrades"
   ]
  },
  {
   "cell_type": "markdown",
   "metadata": {},
   "source": [
    "**States of builds for pull requests**"
   ]
  },
  {
   "cell_type": "code",
   "execution_count": 140,
   "metadata": {},
   "outputs": [],
   "source": [
    "def calculate_percentage_pr_builds_in_state(row, release_builds, states=[]):\n",
    "    _x = release_builds\n",
    "    _all_builds = _x[(_x.from_tag == row.from_tag) & (_x.to_tag == row.to_tag)].buildid\n",
    "    _all_builds = builds[builds.id.isin(_all_builds)]\n",
    "    _builds = _all_builds[(_all_builds.event_type == \"pull_request\") & (_all_builds.state.isin(states))]\n",
    "    return len(_builds)/len(_all_builds)"
   ]
  },
  {
   "cell_type": "code",
   "execution_count": 141,
   "metadata": {},
   "outputs": [],
   "source": [
    "for df, release_builds, method in df_builds:\n",
    "    df[f\"ratio_pr_builds_failed\"] = \\\n",
    "    df.apply(calculate_percentage_pr_builds_in_state, args=(release_builds,[\"failed\"]), axis=1)"
   ]
  },
  {
   "cell_type": "code",
   "execution_count": 142,
   "metadata": {},
   "outputs": [
    {
     "data": {
      "image/png": "[encoded data removed]",
      "text/plain": [
       "<Figure size 1008x504 with 2 Axes>"
      ]
     },
     "metadata": {
      "needs_background": "light"
     },
     "output_type": "display_data"
    }
   ],
   "source": [
    "fig, axes = plt.subplots(nrows=len(df_builds), ncols=1, sharex=True, sharey=True, figsize=(14.0, 7.0))\n",
    "for i, df_build in enumerate(df_builds):\n",
    "    df_build[0].set_index(\"to_tag\").sort_index().\\\n",
    "        ratio_pr_builds_failed.plot(kind=\"bar\", ax=axes[i], color=[\"tab:blue\"])\n",
    "    axes[i].set_xticklabels(axes[i].get_xticklabels(),rotation=90)\n",
    "    axes[i].set_title(df_build[2])\n",
    "    if(i < len(df_builds) - 1):\n",
    "        axes[i].get_xaxis().set_visible(False)"
   ]
  },
  {
   "cell_type": "markdown",
   "metadata": {},
   "source": [
    "**Build duration for builds**"
   ]
  },
  {
   "cell_type": "code",
   "execution_count": 143,
   "metadata": {},
   "outputs": [],
   "source": [
    "def calculate_aggregator_build_duration(row, release_builds, aggregator, state=None):\n",
    "    _x = release_builds\n",
    "    _all_builds = _x[(_x.from_tag == row.from_tag) & (_x.to_tag == row.to_tag)].buildid\n",
    "    _all_builds = builds[builds.id.isin(_all_builds)]\n",
    "    if(not state):\n",
    "        _series = _all_builds.duration\n",
    "    else:\n",
    "        _series = _all_builds[_all_builds.state.isin(state)].duration\n",
    "    res = getattr(_series, aggregator)()\n",
    "    return res"
   ]
  },
  {
   "cell_type": "code",
   "execution_count": 144,
   "metadata": {},
   "outputs": [],
   "source": [
    "for agg in [\"mean\", \"median\", \"max\", \"min\"]:\n",
    "    for df, release_builds, method in df_builds:\n",
    "        df[f\"{agg}_not_errored_or_canceled_build_duration\"] = \\\n",
    "        df.apply(calculate_aggregator_build_duration, args=(release_builds,agg, [\"failed\", \"passed\"]), axis=1)\n",
    "        \n",
    "for agg in [\"mean\", \"median\", \"max\", \"min\"]:\n",
    "    for df, release_builds, method in df_builds:\n",
    "        df[f\"{agg}_failed_build_duration\"] = \\\n",
    "        df.apply(calculate_aggregator_build_duration, args=(release_builds,agg, [\"failed\"]), axis=1)\n",
    "\n",
    "for agg in [\"mean\", \"median\", \"max\", \"min\"]:\n",
    "    for df, release_builds, method in df_builds:\n",
    "        df[f\"{agg}_passed_build_duration\"] = \\\n",
    "        df.apply(calculate_aggregator_build_duration, args=(release_builds,agg, [\"passed\"]), axis=1)"
   ]
  },
  {
   "cell_type": "code",
   "execution_count": 145,
   "metadata": {},
   "outputs": [
    {
     "data": {
      "image/png": "[encoded data removed]",
      "text/plain": [
       "<Figure size 1008x504 with 2 Axes>"
      ]
     },
     "metadata": {
      "needs_background": "light"
     },
     "output_type": "display_data"
    }
   ],
   "source": [
    "fig, axes = plt.subplots(nrows=len(df_builds), ncols=1, sharex=True, sharey=True, figsize=(14.0, 7.0))\n",
    "for i, df_build in enumerate(df_builds):\n",
    "    ax = df_build[0].set_index(\"to_tag\").sort_index().\\\n",
    "        min_not_errored_or_canceled_build_duration.plot(kind=\"bar\", ax=axes[i], color=[\"tab:blue\"])\n",
    "    ax.set_xticklabels(ax.get_xticklabels(),rotation=90)\n",
    "    ax.set_title(df_build[2])\n",
    "    if(i < len(df_builds) - 1):\n",
    "        ax.get_xaxis().set_visible(False)"
   ]
  },
  {
   "cell_type": "markdown",
   "metadata": {},
   "source": [
    "**Number of builds per pull request**"
   ]
  },
  {
   "cell_type": "code",
   "execution_count": 146,
   "metadata": {},
   "outputs": [],
   "source": [
    "### Mean or median of number of jobs per pull request\n",
    "def calculate_aggregator_n_builds_per_pull_request(row, release_builds, aggregator):\n",
    "    _x = release_builds\n",
    "    _all_builds = _x[(_x.from_tag == row.from_tag) & (_x.to_tag == row.to_tag)].buildid\n",
    "    _all_builds = builds_commitref[builds_commitref.id.isin(_all_builds)]\n",
    "    _all_builds = _all_builds[(_all_builds.event_type == \"pull_request\")]\n",
    "    _series = _all_builds.groupby(\"commitref\").buildid.nunique()\n",
    "    res = getattr(_series, aggregator)()\n",
    "    return res if not np.isnan(res) else 0"
   ]
  },
  {
   "cell_type": "code",
   "execution_count": 147,
   "metadata": {},
   "outputs": [],
   "source": [
    "for agg in [\"mean\", \"median\", \"max\", \"min\"]:\n",
    "    for df, release_builds, method in df_builds:\n",
    "        df[f\"{agg}_n_builds_per_pull_request\"] = \\\n",
    "        df.apply(calculate_aggregator_n_builds_per_pull_request, args=(release_builds,agg), axis=1)"
   ]
  },
  {
   "cell_type": "code",
   "execution_count": 148,
   "metadata": {},
   "outputs": [
    {
     "data": {
      "image/png": "[encoded data removed]",
      "text/plain": [
       "<Figure size 1008x504 with 2 Axes>"
      ]
     },
     "metadata": {
      "needs_background": "light"
     },
     "output_type": "display_data"
    }
   ],
   "source": [
    "fig, axes = plt.subplots(nrows=len(df_builds), ncols=1, sharex=True, sharey=True, figsize=(14.0, 7.0))\n",
    "for i, df_build in enumerate(df_builds):\n",
    "    df_build[0].set_index(\"to_tag\").sort_index().\\\n",
    "        mean_n_builds_per_pull_request.plot(kind=\"bar\", ax=axes[i], color=[\"tab:blue\"])\n",
    "    ax.set_xticklabels(ax.get_xticklabels(),rotation=90)\n",
    "    ax.set_title(df_build[2])\n",
    "    if(i < len(df_builds) - 1):\n",
    "        ax.get_xaxis().set_visible(False)"
   ]
  },
  {
   "cell_type": "code",
   "execution_count": 149,
   "metadata": {},
   "outputs": [
    {
     "name": "stderr",
     "output_type": "stream",
     "text": [
      "<ipython-input-149-70162c70ee20>:7: SettingWithCopyWarning: \n",
      "A value is trying to be set on a copy of a slice from a DataFrame.\n",
      "Try using .loc[row_indexer,col_indexer] = value instead\n",
      "\n",
      "See the caveats in the documentation: https://pandas.pydata.org/pandas-docs/stable/user_guide/indexing.html#returning-a-view-versus-a-copy\n",
      "  tmp_df[method] = df[columns]\n",
      "<ipython-input-149-70162c70ee20>:7: SettingWithCopyWarning: \n",
      "A value is trying to be set on a copy of a slice from a DataFrame.\n",
      "Try using .loc[row_indexer,col_indexer] = value instead\n",
      "\n",
      "See the caveats in the documentation: https://pandas.pydata.org/pandas-docs/stable/user_guide/indexing.html#returning-a-view-versus-a-copy\n",
      "  tmp_df[method] = df[columns]\n",
      "<ipython-input-149-70162c70ee20>:7: SettingWithCopyWarning: \n",
      "A value is trying to be set on a copy of a slice from a DataFrame.\n",
      "Try using .loc[row_indexer,col_indexer] = value instead\n",
      "\n",
      "See the caveats in the documentation: https://pandas.pydata.org/pandas-docs/stable/user_guide/indexing.html#returning-a-view-versus-a-copy\n",
      "  tmp_df[method] = df[columns]\n",
      "<ipython-input-149-70162c70ee20>:7: SettingWithCopyWarning: \n",
      "A value is trying to be set on a copy of a slice from a DataFrame.\n",
      "Try using .loc[row_indexer,col_indexer] = value instead\n",
      "\n",
      "See the caveats in the documentation: https://pandas.pydata.org/pandas-docs/stable/user_guide/indexing.html#returning-a-view-versus-a-copy\n",
      "  tmp_df[method] = df[columns]\n"
     ]
    },
    {
     "data": {
      "image/png": "[encoded data removed]",
      "text/plain": [
       "<Figure size 1224x360 with 4 Axes>"
      ]
     },
     "metadata": {
      "needs_background": "light"
     },
     "output_type": "display_data"
    }
   ],
   "source": [
    "aggregators = [\"mean\", \"median\", \"max\", \"min\"]\n",
    "fig, axes = plt.subplots(nrows=1, ncols=len(aggregators), sharex=True, figsize=(17.0, 5.0))\n",
    "for i, agg in enumerate(aggregators):\n",
    "    tmp_df = tags_comparison[[\"to_tag\"]]\n",
    "    columns = f\"{agg}_n_builds_per_pull_request\"\n",
    "    for df, release_builds, method in df_builds:\n",
    "        tmp_df[method] = df[columns]\n",
    "    ax = sns.boxplot(data=tmp_df, ax=axes[i])\n",
    "    ax.set_title(columns)\n",
    "    ax.set_xticklabels(ax.get_xticklabels(),rotation=90)"
   ]
  },
  {
   "cell_type": "markdown",
   "metadata": {},
   "source": [
    "**Number of builds per commitmessage**"
   ]
  },
  {
   "cell_type": "markdown",
   "metadata": {},
   "source": [
    "### number of builds per pull request\n",
    "def calculate_aggregator_n_builds_per_commitmessage(row, commitsDf, aggregator):\n",
    "    _x = commitsDf\n",
    "    _commits = _x[(_x.from_tag == row.from_tag) & (_x.to_tag == row.to_tag)].commitsha\n",
    "    _jobs = jobs[jobs.commitsha.isin(_commits)]\n",
    "    _series = _jobs.groupby(\"commitmessage\").buildid.nunique()\n",
    "    res = getattr(_series, aggregator)()\n",
    "    return res if not np.isnan(res) else 0\n",
    "    \n",
    "def calculate_aggregator_n_builds_per_commitmessage_per_commit_pr(row, aggregator):\n",
    "    return calculate_aggregator_n_builds_per_commitmessage(row, tags_iterative_pr_commits, aggregator)\n",
    "def calculate_aggregator_n_builds_per_commitmessage_per_commit_direct(row, aggregator):\n",
    "    return calculate_aggregator_n_builds_per_commitmessage(row, tags_comparison_commits, aggregator)\n",
    "def calculate_aggregator_n_builds_per_commitmessage_per_commit_fix(row, aggregator):\n",
    "    return calculate_aggregator_n_builds_per_commitmessage(row, tags_fix_commits, aggregator)\n",
    "def calculate_aggregator_n_builds_per_commitmessage_per_commit_pr_and_fix(row, aggregator):\n",
    "    _tmp = tags_iterative_pr_commits.append(tags_fix_commits)\n",
    "    return calculate_aggregator_n_builds_per_commitmessage(row, _tmp, aggregator)"
   ]
  },
  {
   "cell_type": "markdown",
   "metadata": {},
   "source": [
    "for agg in [\"mean\", \"median\", \"max\", \"min\"]:\n",
    "    tags_comparison[f\"{agg}_n_builds_per_commitmessage\"] =\\\n",
    "    tags_comparison.apply(calculate_aggregator_n_builds_per_commitmessage_per_commit_pr_and_fix,\\\n",
    "                          args=(agg,), axis=1)"
   ]
  },
  {
   "cell_type": "markdown",
   "metadata": {
    "scrolled": false
   },
   "source": [
    "tags_comparison.max_n_builds_per_commitmessage.plot(kind=\"bar\")"
   ]
  },
  {
   "cell_type": "markdown",
   "metadata": {
    "scrolled": true
   },
   "source": [
    "tags_comparison[[\"mean_n_builds_per_commitmessage\", \"median_n_builds_per_commitmessage\"]].plot(kind=\"bar\")"
   ]
  },
  {
   "cell_type": "markdown",
   "metadata": {},
   "source": [
    "### Jobs metrics"
   ]
  },
  {
   "cell_type": "markdown",
   "metadata": {},
   "source": [
    "**Average job duration**"
   ]
  },
  {
   "cell_type": "markdown",
   "metadata": {},
   "source": [
    "jobs[\"duration\"] = (jobs.finished_at - jobs.started_at) / np.timedelta64(1, \"s\")"
   ]
  },
  {
   "cell_type": "markdown",
   "metadata": {},
   "source": [
    "### Mean or median of duration for jobs not from canceled or errored builds\n",
    "def calculate_average_job_duration(row, commitsDf):\n",
    "    _build_ids = builds[builds.state.isin([\"passed\", \"failed\"])].id\n",
    "    _x = commitsDf\n",
    "    _commits = _x[(_x.from_tag == row.from_tag) & (_x.to_tag == row.to_tag)].commitsha\n",
    "    _jobs = jobs[jobs.commitsha.isin(_commits) & jobs.buildid.isin(_build_ids)]\n",
    "    return _jobs.duration.mean()\n",
    "\n",
    "def calculate_average_job_duration_pr(row):\n",
    "    return calculate_average_job_duration(row, tags_iterative_pr_commits)\n",
    "def calculate_average_job_duration_direct(row):\n",
    "    return calculate_average_job_duration(row, tags_comparison_commits)\n",
    "def calculate_average_job_duration_fix(row):\n",
    "    return calculate_average_job_duration(row, tags_fix_commits)"
   ]
  },
  {
   "cell_type": "markdown",
   "metadata": {},
   "source": [
    "tags_comparison[\"mean_job_duration_builds_passed_or_failed\"] = tags_comparison.apply(calculate_average_job_duration_pr, axis=1)"
   ]
  },
  {
   "cell_type": "markdown",
   "metadata": {},
   "source": [
    "**Average failed jobs per commit**"
   ]
  },
  {
   "cell_type": "markdown",
   "metadata": {},
   "source": [
    "### Mean or median of duration for jobs not from canceled or errored builds\n",
    "def calculate_average_failed_job_per_commit(row, commitsDf):\n",
    "    _build_ids = builds[builds.state.isin([\"passed\", \"failed\"])].id\n",
    "    _x = commitsDf\n",
    "    _commits = _x[(_x.from_tag == row.from_tag) & (_x.to_tag == row.to_tag)].commitsha\n",
    "    _jobs = jobs[jobs.commitsha.isin(_commits) & jobs.buildid.isin(_build_ids)]\n",
    "    _jobs = _jobs[_jobs.state == \"failed\"]\n",
    "    return _jobs.groupby(\"commitsha\").state.count().mean()\n",
    "\n",
    "def calculate_average_failed_job_per_commit_pr(row):\n",
    "    return calculate_average_failed_job_per_commit(row, tags_iterative_pr_commits)\n",
    "def calculate_average_failed_job_per_commit_direct(row):\n",
    "    return calculate_average_failed_job_per_commit(row, tags_comparison_commits)\n",
    "def calculate_average_failed_job_per_commit_fix(row):\n",
    "    return calculate_average_failed_job_per_commit(row, tags_fix_commits)\n",
    "def calculate_average_failed_job_per_commit_pr_and_fix(row):\n",
    "    _tmp = tags_iterative_pr_commits.append(tags_fix_commits)\n",
    "    return calculate_average_failed_job_per_commit(row, _tmp)"
   ]
  },
  {
   "cell_type": "markdown",
   "metadata": {},
   "source": [
    "tags_comparison[\"average_failed_job_per_commit\"] = tags_comparison.apply(calculate_average_failed_job_per_commit_pr, axis=1)"
   ]
  },
  {
   "cell_type": "markdown",
   "metadata": {},
   "source": [
    "sns.barplot(x=tags_comparison[\"average_failed_job_per_commit\"].index, \\\n",
    "            y=tags_comparison[\"average_failed_job_per_commit\"].values)"
   ]
  },
  {
   "cell_type": "markdown",
   "metadata": {},
   "source": [
    "**Number of jobs canceled or errored**"
   ]
  },
  {
   "cell_type": "markdown",
   "metadata": {},
   "source": [
    "### Mean or median of duration for jobs not from canceled or errored builds\n",
    "def calculate_percentage_canceled_or_errored_job(row, commitsDf):\n",
    "    _x = commitsDf\n",
    "    _commits = _x[(_x.from_tag == row.from_tag) & (_x.to_tag == row.to_tag)].commitsha\n",
    "    _jobs = jobs[jobs.commitsha.isin(_commits)]\n",
    "    return len(_jobs[_jobs.state.isin([\"canceled\", \"errored\"])]) / len(_jobs)\n",
    "\n",
    "def calculate_percentage_canceled_or_errored_job_per_commit_pr(row):\n",
    "    return calculate_percentage_canceled_or_errored_job(row, tags_iterative_pr_commits)\n",
    "def calculate_percentage_canceled_or_errored_job_per_commit_direct(row):\n",
    "    return calculate_percentage_canceled_or_errored_job(row, tags_comparison_commits)\n",
    "def calculate_percentage_canceled_or_errored_job_per_commit_fix(row):\n",
    "    return calculate_percentage_canceled_or_errored_job(row, tags_fix_commits)\n",
    "def calculate_percentage_canceled_or_errored_job_per_commit_pr_and_fix(row):\n",
    "    _tmp = tags_iterative_pr_commits.append(tags_fix_commits)\n",
    "    return calculate_percentage_canceled_or_errored_job(row, _tmp)"
   ]
  },
  {
   "cell_type": "markdown",
   "metadata": {},
   "source": [
    "tags_comparison[\"percentage_canceled_or_errored_job\"] =\\\n",
    "tags_comparison.apply(calculate_percentage_canceled_or_errored_job_per_commit_pr_and_fix, axis=1)"
   ]
  },
  {
   "cell_type": "markdown",
   "metadata": {
    "scrolled": true
   },
   "source": [
    "sns.barplot(x=tags_comparison[\"percentage_canceled_or_errored_job\"].index, \\\n",
    "            y=tags_comparison[\"percentage_canceled_or_errored_job\"].values)"
   ]
  },
  {
   "cell_type": "markdown",
   "metadata": {},
   "source": [
    "**Is commitsha and commitref identical for all jobs associated with the same buildid?**"
   ]
  },
  {
   "cell_type": "markdown",
   "metadata": {
    "scrolled": true
   },
   "source": [
    "(jobs.groupby(\"buildid\").commitsha.nunique() > 1).sum()"
   ]
  },
  {
   "cell_type": "markdown",
   "metadata": {},
   "source": [
    "(jobs.groupby(\"buildid\").commitref.nunique() > 1).sum()"
   ]
  },
  {
   "cell_type": "markdown",
   "metadata": {},
   "source": [
    "Yes, therefore we can add this info to the build df"
   ]
  },
  {
   "cell_type": "markdown",
   "metadata": {},
   "source": [
    "### Log parsing metrics"
   ]
  },
  {
   "cell_type": "code",
   "execution_count": 150,
   "metadata": {},
   "outputs": [],
   "source": [
    "log_parsed_metrics = pd.read_csv(f\"{csv_folder}/log_parsed_metrics_processed.csv\", index_col=0)"
   ]
  },
  {
   "cell_type": "code",
   "execution_count": 151,
   "metadata": {},
   "outputs": [
    {
     "data": {
      "text/html": [
       "<div>\n",
       "<style scoped>\n",
       "    .dataframe tbody tr th:only-of-type {\n",
       "        vertical-align: middle;\n",
       "    }\n",
       "\n",
       "    .dataframe tbody tr th {\n",
       "        vertical-align: top;\n",
       "    }\n",
       "\n",
       "    .dataframe thead th {\n",
       "        text-align: right;\n",
       "    }\n",
       "</style>\n",
       "<table border=\"1\" class=\"dataframe\">\n",
       "  <thead>\n",
       "    <tr style=\"text-align: right;\">\n",
       "      <th></th>\n",
       "      <th>job_id</th>\n",
       "      <th>build_target</th>\n",
       "      <th>build_tool</th>\n",
       "      <th>build_canceled_open_pr_on_branch</th>\n",
       "      <th>errors</th>\n",
       "      <th>failures</th>\n",
       "      <th>suspected_words</th>\n",
       "      <th>warnings</th>\n",
       "      <th>skipped_words</th>\n",
       "      <th>lines</th>\n",
       "      <th>words</th>\n",
       "      <th>exceptions</th>\n",
       "      <th>error_classes</th>\n",
       "      <th>tests_total</th>\n",
       "      <th>tests_passed</th>\n",
       "      <th>tests_failed</th>\n",
       "      <th>tests_skipped</th>\n",
       "      <th>failed_tasks</th>\n",
       "      <th>build_tool_str</th>\n",
       "      <th>n_exceptions</th>\n",
       "      <th>n_error_classes</th>\n",
       "      <th>n_build_tools</th>\n",
       "      <th>maven_build</th>\n",
       "      <th>gradle_build</th>\n",
       "      <th>mocha_build</th>\n",
       "      <th>jest_build</th>\n",
       "      <th>grunt_build</th>\n",
       "      <th>yarn_build</th>\n",
       "      <th>node_build</th>\n",
       "      <th>id</th>\n",
       "      <th>buildid</th>\n",
       "      <th>started_at</th>\n",
       "      <th>created_at</th>\n",
       "      <th>finished_at</th>\n",
       "      <th>number</th>\n",
       "      <th>state</th>\n",
       "      <th>updated_at</th>\n",
       "      <th>commitsha</th>\n",
       "      <th>commitid</th>\n",
       "      <th>commitmessage</th>\n",
       "      <th>commitref</th>\n",
       "      <th>commitcompare_url</th>\n",
       "      <th>year_month</th>\n",
       "      <th>errors_over_tests_total</th>\n",
       "      <th>failures_over_tests_total</th>\n",
       "      <th>skipped_over_tests_total</th>\n",
       "    </tr>\n",
       "  </thead>\n",
       "  <tbody>\n",
       "    <tr>\n",
       "      <th>0</th>\n",
       "      <td>346751001</td>\n",
       "      <td>WEB_TESTS</td>\n",
       "      <td>['yarn']</td>\n",
       "      <td>False</td>\n",
       "      <td>3.0</td>\n",
       "      <td>2.0</td>\n",
       "      <td>1.0</td>\n",
       "      <td>2.0</td>\n",
       "      <td>1.0</td>\n",
       "      <td>1045.0</td>\n",
       "      <td>3294.0</td>\n",
       "      <td>[]</td>\n",
       "      <td>[]</td>\n",
       "      <td>1120.0</td>\n",
       "      <td>1117.0</td>\n",
       "      <td>0.0</td>\n",
       "      <td>3.0</td>\n",
       "      <td>[]</td>\n",
       "      <td>['yarn']</td>\n",
       "      <td>0</td>\n",
       "      <td>0</td>\n",
       "      <td>1</td>\n",
       "      <td>False</td>\n",
       "      <td>False</td>\n",
       "      <td>False</td>\n",
       "      <td>False</td>\n",
       "      <td>False</td>\n",
       "      <td>True</td>\n",
       "      <td>False</td>\n",
       "      <td>346751001</td>\n",
       "      <td>346750998</td>\n",
       "      <td>2018-02-27 12:30:57+00:00</td>\n",
       "      <td>2018-02-27 12:30:21.579000+00:00</td>\n",
       "      <td>2018-02-27 12:34:24+00:00</td>\n",
       "      <td>37569.2</td>\n",
       "      <td>passed</td>\n",
       "      <td>2018-06-04 05:43:54.693000+00:00</td>\n",
       "      <td>7b245fbc45898ce11ab5cc0d60dc4f5621b94645</td>\n",
       "      <td>103144209</td>\n",
       "      <td>SONAR-10047 Use SearchSelect for tags in Bulk ...</td>\n",
       "      <td>refs/pull/3103/merge</td>\n",
       "      <td>https://github.com/SonarSource/sonarqube/pull/...</td>\n",
       "      <td>2018/02</td>\n",
       "      <td>0.002676</td>\n",
       "      <td>0.001784</td>\n",
       "      <td>0.000892</td>\n",
       "    </tr>\n",
       "    <tr>\n",
       "      <th>1</th>\n",
       "      <td>575471642</td>\n",
       "      <td>WEB_TESTS</td>\n",
       "      <td>['yarn', 'jest', 'gradle']</td>\n",
       "      <td>False</td>\n",
       "      <td>3.0</td>\n",
       "      <td>2.0</td>\n",
       "      <td>1.0</td>\n",
       "      <td>9.0</td>\n",
       "      <td>1.0</td>\n",
       "      <td>1362.0</td>\n",
       "      <td>3919.0</td>\n",
       "      <td>[]</td>\n",
       "      <td>[]</td>\n",
       "      <td>2006.0</td>\n",
       "      <td>2005.0</td>\n",
       "      <td>0.0</td>\n",
       "      <td>1.0</td>\n",
       "      <td>[]</td>\n",
       "      <td>['yarn', 'jest', 'gradle']</td>\n",
       "      <td>0</td>\n",
       "      <td>0</td>\n",
       "      <td>3</td>\n",
       "      <td>False</td>\n",
       "      <td>True</td>\n",
       "      <td>False</td>\n",
       "      <td>True</td>\n",
       "      <td>False</td>\n",
       "      <td>True</td>\n",
       "      <td>False</td>\n",
       "      <td>575471642</td>\n",
       "      <td>575471639</td>\n",
       "      <td>2019-08-22 18:21:52+00:00</td>\n",
       "      <td>2019-08-22 18:21:19.464000+00:00</td>\n",
       "      <td>2019-08-22 18:33:18+00:00</td>\n",
       "      <td>39085.2</td>\n",
       "      <td>passed</td>\n",
       "      <td>2019-08-22 18:33:18.698000+00:00</td>\n",
       "      <td>7c2a234b30826c8f98dabff8506b1f49884b83a5</td>\n",
       "      <td>174121400</td>\n",
       "      <td>DOCS Add instructions for Application to a Por...</td>\n",
       "      <td>refs/heads/master</td>\n",
       "      <td>https://github.com/SonarSource/sonarqube/compa...</td>\n",
       "      <td>2019/08</td>\n",
       "      <td>0.001495</td>\n",
       "      <td>0.000997</td>\n",
       "      <td>0.000498</td>\n",
       "    </tr>\n",
       "    <tr>\n",
       "      <th>2</th>\n",
       "      <td>721125402</td>\n",
       "      <td>WEB_TESTS</td>\n",
       "      <td>['yarn', 'gradle']</td>\n",
       "      <td>False</td>\n",
       "      <td>14.0</td>\n",
       "      <td>3.0</td>\n",
       "      <td>3.0</td>\n",
       "      <td>30.0</td>\n",
       "      <td>0.0</td>\n",
       "      <td>1426.0</td>\n",
       "      <td>4196.0</td>\n",
       "      <td>[]</td>\n",
       "      <td>[]</td>\n",
       "      <td>2412.0</td>\n",
       "      <td>2412.0</td>\n",
       "      <td>0.0</td>\n",
       "      <td>0.0</td>\n",
       "      <td>[]</td>\n",
       "      <td>['yarn', 'gradle']</td>\n",
       "      <td>0</td>\n",
       "      <td>0</td>\n",
       "      <td>2</td>\n",
       "      <td>False</td>\n",
       "      <td>True</td>\n",
       "      <td>False</td>\n",
       "      <td>False</td>\n",
       "      <td>False</td>\n",
       "      <td>True</td>\n",
       "      <td>False</td>\n",
       "      <td>721125402</td>\n",
       "      <td>721125400</td>\n",
       "      <td>2020-08-25 20:08:05+00:00</td>\n",
       "      <td>2020-08-25 20:06:58.581000+00:00</td>\n",
       "      <td>2020-08-25 20:18:58+00:00</td>\n",
       "      <td>39397.2</td>\n",
       "      <td>passed</td>\n",
       "      <td>2020-08-25 20:18:58.561000+00:00</td>\n",
       "      <td>60c64b2c9f95bb52d070758fa88a3881ae69b5e7</td>\n",
       "      <td>222268239</td>\n",
       "      <td>SONAR-13766 PostProjectAnalysisTask's 'descrip...</td>\n",
       "      <td>refs/heads/master</td>\n",
       "      <td>https://github.com/SonarSource/sonarqube/compa...</td>\n",
       "      <td>2020/08</td>\n",
       "      <td>0.005802</td>\n",
       "      <td>0.001243</td>\n",
       "      <td>0.000000</td>\n",
       "    </tr>\n",
       "  </tbody>\n",
       "</table>\n",
       "</div>"
      ],
      "text/plain": [
       "      job_id build_target                  build_tool  \\\n",
       "0  346751001    WEB_TESTS                    ['yarn']   \n",
       "1  575471642    WEB_TESTS  ['yarn', 'jest', 'gradle']   \n",
       "2  721125402    WEB_TESTS          ['yarn', 'gradle']   \n",
       "\n",
       "   build_canceled_open_pr_on_branch  errors  failures  suspected_words  \\\n",
       "0                             False     3.0       2.0              1.0   \n",
       "1                             False     3.0       2.0              1.0   \n",
       "2                             False    14.0       3.0              3.0   \n",
       "\n",
       "   warnings  skipped_words   lines   words exceptions error_classes  \\\n",
       "0       2.0            1.0  1045.0  3294.0         []            []   \n",
       "1       9.0            1.0  1362.0  3919.0         []            []   \n",
       "2      30.0            0.0  1426.0  4196.0         []            []   \n",
       "\n",
       "   tests_total  tests_passed  tests_failed  tests_skipped failed_tasks  \\\n",
       "0       1120.0        1117.0           0.0            3.0           []   \n",
       "1       2006.0        2005.0           0.0            1.0           []   \n",
       "2       2412.0        2412.0           0.0            0.0           []   \n",
       "\n",
       "               build_tool_str  n_exceptions  n_error_classes  n_build_tools  \\\n",
       "0                    ['yarn']             0                0              1   \n",
       "1  ['yarn', 'jest', 'gradle']             0                0              3   \n",
       "2          ['yarn', 'gradle']             0                0              2   \n",
       "\n",
       "   maven_build  gradle_build  mocha_build  jest_build  grunt_build  \\\n",
       "0        False         False        False       False        False   \n",
       "1        False          True        False        True        False   \n",
       "2        False          True        False       False        False   \n",
       "\n",
       "   yarn_build  node_build         id    buildid                 started_at  \\\n",
       "0        True       False  346751001  346750998  2018-02-27 12:30:57+00:00   \n",
       "1        True       False  575471642  575471639  2019-08-22 18:21:52+00:00   \n",
       "2        True       False  721125402  721125400  2020-08-25 20:08:05+00:00   \n",
       "\n",
       "                         created_at                finished_at   number  \\\n",
       "0  2018-02-27 12:30:21.579000+00:00  2018-02-27 12:34:24+00:00  37569.2   \n",
       "1  2019-08-22 18:21:19.464000+00:00  2019-08-22 18:33:18+00:00  39085.2   \n",
       "2  2020-08-25 20:06:58.581000+00:00  2020-08-25 20:18:58+00:00  39397.2   \n",
       "\n",
       "    state                        updated_at  \\\n",
       "0  passed  2018-06-04 05:43:54.693000+00:00   \n",
       "1  passed  2019-08-22 18:33:18.698000+00:00   \n",
       "2  passed  2020-08-25 20:18:58.561000+00:00   \n",
       "\n",
       "                                  commitsha   commitid  \\\n",
       "0  7b245fbc45898ce11ab5cc0d60dc4f5621b94645  103144209   \n",
       "1  7c2a234b30826c8f98dabff8506b1f49884b83a5  174121400   \n",
       "2  60c64b2c9f95bb52d070758fa88a3881ae69b5e7  222268239   \n",
       "\n",
       "                                       commitmessage             commitref  \\\n",
       "0  SONAR-10047 Use SearchSelect for tags in Bulk ...  refs/pull/3103/merge   \n",
       "1  DOCS Add instructions for Application to a Por...     refs/heads/master   \n",
       "2  SONAR-13766 PostProjectAnalysisTask's 'descrip...     refs/heads/master   \n",
       "\n",
       "                                   commitcompare_url year_month  \\\n",
       "0  https://github.com/SonarSource/sonarqube/pull/...    2018/02   \n",
       "1  https://github.com/SonarSource/sonarqube/compa...    2019/08   \n",
       "2  https://github.com/SonarSource/sonarqube/compa...    2020/08   \n",
       "\n",
       "   errors_over_tests_total  failures_over_tests_total  \\\n",
       "0                 0.002676                   0.001784   \n",
       "1                 0.001495                   0.000997   \n",
       "2                 0.005802                   0.001243   \n",
       "\n",
       "   skipped_over_tests_total  \n",
       "0                  0.000892  \n",
       "1                  0.000498  \n",
       "2                  0.000000  "
      ]
     },
     "execution_count": 151,
     "metadata": {},
     "output_type": "execute_result"
    }
   ],
   "source": [
    "log_parsed_metrics.head(3)"
   ]
  },
  {
   "cell_type": "code",
   "execution_count": 152,
   "metadata": {},
   "outputs": [
    {
     "data": {
      "text/plain": [
       "Index(['job_id', 'build_target', 'build_tool',\n",
       "       'build_canceled_open_pr_on_branch', 'errors', 'failures',\n",
       "       'suspected_words', 'warnings', 'skipped_words', 'lines', 'words',\n",
       "       'exceptions', 'error_classes', 'tests_total', 'tests_passed',\n",
       "       'tests_failed', 'tests_skipped', 'failed_tasks', 'build_tool_str',\n",
       "       'n_exceptions', 'n_error_classes', 'n_build_tools', 'maven_build',\n",
       "       'gradle_build', 'mocha_build', 'jest_build', 'grunt_build',\n",
       "       'yarn_build', 'node_build', 'id', 'buildid', 'started_at', 'created_at',\n",
       "       'finished_at', 'number', 'state', 'updated_at', 'commitsha', 'commitid',\n",
       "       'commitmessage', 'commitref', 'commitcompare_url', 'year_month',\n",
       "       'errors_over_tests_total', 'failures_over_tests_total',\n",
       "       'skipped_over_tests_total'],\n",
       "      dtype='object')"
      ]
     },
     "execution_count": 152,
     "metadata": {},
     "output_type": "execute_result"
    }
   ],
   "source": [
    "log_parsed_metrics.columns"
   ]
  },
  {
   "cell_type": "code",
   "execution_count": 154,
   "metadata": {},
   "outputs": [],
   "source": [
    "def calculate_aggregator_for_column(row, release_builds, column, aggregator):\n",
    "    _x = release_builds\n",
    "    _all_builds_ids = _x[(_x.from_tag == row.from_tag) & (_x.to_tag == row.to_tag)].buildid\n",
    "    _jobs = jobs[jobs.buildid.isin(_all_builds_ids)]\n",
    "    _series = log_parsed_metrics[log_parsed_metrics.job_id.isin(_jobs.id.unique())][column]\n",
    "    return getattr(_series, aggregator)()"
   ]
  },
  {
   "cell_type": "markdown",
   "metadata": {},
   "source": [
    "**Type build tools**"
   ]
  },
  {
   "cell_type": "code",
   "execution_count": 155,
   "metadata": {},
   "outputs": [
    {
     "data": {
      "text/plain": [
       "78289"
      ]
     },
     "execution_count": 155,
     "metadata": {},
     "output_type": "execute_result"
    }
   ],
   "source": [
    "_build_tools = log_parsed_metrics.build_tool\n",
    "_build_tools.apply(lambda x: \"maven\" in x).sum()"
   ]
  },
  {
   "cell_type": "code",
   "execution_count": 264,
   "metadata": {},
   "outputs": [],
   "source": [
    "def maven_or_gradle_release(row, release_builds):\n",
    "    _x = release_builds\n",
    "    _all_builds_ids = _x[(_x.from_tag == row.from_tag) & (_x.to_tag == row.to_tag)].buildid\n",
    "    _jobs_ids = jobs[jobs.buildid.isin(_all_builds_ids)].id\n",
    "    _build_tools = log_parsed_metrics[log_parsed_metrics.job_id.isin(_jobs_ids)].build_tool\n",
    "    gradle = _build_tools.apply(lambda x: \"gradle\" in x).sum()\n",
    "    maven = _build_tools.apply(lambda x: \"maven\" in x).sum()\n",
    "    return \"maven\" if maven > gradle else \"gradle\""
   ]
  },
  {
   "cell_type": "code",
   "execution_count": 265,
   "metadata": {},
   "outputs": [],
   "source": [
    "for df, release_builds, method in df_builds:\n",
    "    df[f\"java_build_tool\"] = \\\n",
    "    df.apply(maven_or_gradle_release, args=(release_builds,), axis=1)"
   ]
  },
  {
   "cell_type": "markdown",
   "metadata": {},
   "source": [
    "**Errors over tests**"
   ]
  },
  {
   "cell_type": "code",
   "execution_count": 159,
   "metadata": {},
   "outputs": [],
   "source": [
    "for agg in [\"mean\", \"median\", \"max\", \"min\"]:\n",
    "    for df, release_builds, method in df_builds:\n",
    "        df[f\"{agg}_errors_over_tests_total\"] = \\\n",
    "        df.apply(calculate_aggregator_for_column, args=(release_builds,\"errors_over_tests_total\", agg), axis=1)"
   ]
  },
  {
   "cell_type": "code",
   "execution_count": 160,
   "metadata": {},
   "outputs": [
    {
     "data": {
      "image/png": "[encoded data removed]",
      "text/plain": [
       "<Figure size 1008x504 with 2 Axes>"
      ]
     },
     "metadata": {
      "needs_background": "light"
     },
     "output_type": "display_data"
    }
   ],
   "source": [
    "fig, axes = plt.subplots(nrows=len(df_builds), ncols=1, sharex=True, sharey=True, figsize=(14.0, 7.0))\n",
    "for i, df_build in enumerate(df_builds):\n",
    "    df_build[0].set_index(\"to_tag\").sort_index().\\\n",
    "        max_errors_over_tests_total.plot(kind=\"bar\", ax=axes[i], color=[\"tab:blue\"])\n",
    "    ax.set_xticklabels(ax.get_xticklabels(),rotation=90)\n",
    "    ax.set_title(df_build[2])\n",
    "    if(i < len(df_builds) - 1):\n",
    "        ax.get_xaxis().set_visible(False)"
   ]
  },
  {
   "cell_type": "markdown",
   "metadata": {},
   "source": [
    "**Failed tests**"
   ]
  },
  {
   "cell_type": "code",
   "execution_count": 161,
   "metadata": {},
   "outputs": [],
   "source": [
    "for agg in [\"mean\", \"median\", \"max\", \"min\"]:\n",
    "    for df, release_builds, method in df_builds:\n",
    "        df[f\"{agg}_failed_tests\"] = \\\n",
    "        df.apply(calculate_aggregator_for_column, args=(release_builds,\"tests_failed\", agg), axis=1)"
   ]
  },
  {
   "cell_type": "markdown",
   "metadata": {},
   "source": [
    "**Failures over total tests**"
   ]
  },
  {
   "cell_type": "code",
   "execution_count": 162,
   "metadata": {},
   "outputs": [],
   "source": [
    "for agg in [\"mean\", \"median\", \"max\", \"min\"]:\n",
    "    for df, release_builds, method in df_builds:\n",
    "        df[f\"{agg}_failures_over_tests_total\"] = \\\n",
    "        df.apply(calculate_aggregator_for_column, args=(release_builds,\"failures_over_tests_total\", agg), axis=1)"
   ]
  },
  {
   "cell_type": "markdown",
   "metadata": {},
   "source": [
    "**Skipped over tests**"
   ]
  },
  {
   "cell_type": "code",
   "execution_count": 164,
   "metadata": {},
   "outputs": [],
   "source": [
    "for agg in [\"mean\", \"median\", \"max\", \"min\"]:\n",
    "    for df, release_builds, method in df_builds:\n",
    "        df[f\"{agg}_skipped_over_tests_total\"] = \\\n",
    "        df.apply(calculate_aggregator_for_column, args=(release_builds,\"skipped_over_tests_total\", agg), axis=1)"
   ]
  },
  {
   "cell_type": "markdown",
   "metadata": {},
   "source": [
    "**Number of exceptions**"
   ]
  },
  {
   "cell_type": "code",
   "execution_count": 165,
   "metadata": {},
   "outputs": [],
   "source": [
    "for agg in [\"mean\", \"median\", \"max\", \"min\"]:\n",
    "    for df, release_builds, method in df_builds:\n",
    "        df[f\"{agg}_n_exceptions\"] = \\\n",
    "        df.apply(calculate_aggregator_for_column, args=(release_builds,\"n_exceptions\", agg), axis=1)"
   ]
  },
  {
   "cell_type": "markdown",
   "metadata": {},
   "source": [
    "**Number of warnings**"
   ]
  },
  {
   "cell_type": "code",
   "execution_count": 166,
   "metadata": {},
   "outputs": [],
   "source": [
    "for agg in [\"mean\", \"median\", \"max\", \"min\"]:\n",
    "    for df, release_builds, method in df_builds:\n",
    "        df[f\"{agg}_n_warnings\"] = \\\n",
    "        df.apply(calculate_aggregator_for_column, args=(release_builds,\"warnings\", agg), axis=1)"
   ]
  },
  {
   "cell_type": "markdown",
   "metadata": {},
   "source": [
    "**Number of error classes**\n"
   ]
  },
  {
   "cell_type": "code",
   "execution_count": 167,
   "metadata": {},
   "outputs": [],
   "source": [
    "for agg in [\"mean\", \"median\", \"max\", \"min\"]:\n",
    "    for df, release_builds, method in df_builds:\n",
    "        df[f\"{agg}_n_error_classes\"] = \\\n",
    "        df.apply(calculate_aggregator_for_column, args=(release_builds,\"n_error_classes\", agg), axis=1)"
   ]
  },
  {
   "cell_type": "markdown",
   "metadata": {},
   "source": [
    "### Build burst metrics"
   ]
  },
  {
   "cell_type": "code",
   "execution_count": 86,
   "metadata": {},
   "outputs": [
    {
     "data": {
      "text/html": [
       "<div>\n",
       "<style scoped>\n",
       "    .dataframe tbody tr th:only-of-type {\n",
       "        vertical-align: middle;\n",
       "    }\n",
       "\n",
       "    .dataframe tbody tr th {\n",
       "        vertical-align: top;\n",
       "    }\n",
       "\n",
       "    .dataframe thead th {\n",
       "        text-align: right;\n",
       "    }\n",
       "</style>\n",
       "<table border=\"1\" class=\"dataframe\">\n",
       "  <thead>\n",
       "    <tr style=\"text-align: right;\">\n",
       "      <th></th>\n",
       "      <th>buildid</th>\n",
       "      <th>commitref</th>\n",
       "      <th>commitsha</th>\n",
       "      <th>number</th>\n",
       "      <th>pull_request_number</th>\n",
       "      <th>id</th>\n",
       "      <th>event_type</th>\n",
       "      <th>finished_at</th>\n",
       "      <th>pull_request_title</th>\n",
       "      <th>started_at</th>\n",
       "      <th>duration</th>\n",
       "      <th>state</th>\n",
       "      <th>started_at_day</th>\n",
       "      <th>started_at_month</th>\n",
       "      <th>started_at_year</th>\n",
       "    </tr>\n",
       "  </thead>\n",
       "  <tbody>\n",
       "    <tr>\n",
       "      <th>0</th>\n",
       "      <td>241946099</td>\n",
       "      <td>refs/heads/feature/atlas/MMF-324/builtin-profiles</td>\n",
       "      <td>2e4b539138fde6f664a865c81fb6ab0763f74bdb</td>\n",
       "      <td>25614</td>\n",
       "      <td>NaN</td>\n",
       "      <td>241946099</td>\n",
       "      <td>push</td>\n",
       "      <td>2017-06-12 09:21:43+00:00</td>\n",
       "      <td>NaN</td>\n",
       "      <td>2017-06-12 09:21:03+00:00</td>\n",
       "      <td>40.0</td>\n",
       "      <td>canceled</td>\n",
       "      <td>12.0</td>\n",
       "      <td>6.0</td>\n",
       "      <td>2017.0</td>\n",
       "    </tr>\n",
       "    <tr>\n",
       "      <th>1</th>\n",
       "      <td>241952022</td>\n",
       "      <td>refs/heads/feature/atlas/MMF-324/builtin-profiles</td>\n",
       "      <td>464f5da96733c14818f4b4bfeb878951b859ee0c</td>\n",
       "      <td>25615</td>\n",
       "      <td>NaN</td>\n",
       "      <td>241952022</td>\n",
       "      <td>push</td>\n",
       "      <td>2017-06-12 09:37:24+00:00</td>\n",
       "      <td>NaN</td>\n",
       "      <td>2017-06-12 09:36:43+00:00</td>\n",
       "      <td>40.0</td>\n",
       "      <td>canceled</td>\n",
       "      <td>12.0</td>\n",
       "      <td>6.0</td>\n",
       "      <td>2017.0</td>\n",
       "    </tr>\n",
       "    <tr>\n",
       "      <th>2</th>\n",
       "      <td>241952044</td>\n",
       "      <td>refs/pull/2104/merge</td>\n",
       "      <td>7358e9a93e47ac9fcaebe960c00ab8bd28e9890e</td>\n",
       "      <td>25616</td>\n",
       "      <td>2104.0</td>\n",
       "      <td>241952044</td>\n",
       "      <td>pull_request</td>\n",
       "      <td>2017-06-12 09:53:48+00:00</td>\n",
       "      <td>MMF-324 introduce concept of build-in Quality ...</td>\n",
       "      <td>2017-06-12 09:42:15+00:00</td>\n",
       "      <td>973.0</td>\n",
       "      <td>passed</td>\n",
       "      <td>12.0</td>\n",
       "      <td>6.0</td>\n",
       "      <td>2017.0</td>\n",
       "    </tr>\n",
       "    <tr>\n",
       "      <th>3</th>\n",
       "      <td>241955852</td>\n",
       "      <td>refs/heads/feature/jl/onboarding</td>\n",
       "      <td>00e86fd06991a1e54e3b17eb82f2532f85de6489</td>\n",
       "      <td>25617</td>\n",
       "      <td>NaN</td>\n",
       "      <td>241955852</td>\n",
       "      <td>push</td>\n",
       "      <td>2017-06-12 09:56:41+00:00</td>\n",
       "      <td>NaN</td>\n",
       "      <td>2017-06-12 09:50:40+00:00</td>\n",
       "      <td>610.0</td>\n",
       "      <td>failed</td>\n",
       "      <td>12.0</td>\n",
       "      <td>6.0</td>\n",
       "      <td>2017.0</td>\n",
       "    </tr>\n",
       "    <tr>\n",
       "      <th>4</th>\n",
       "      <td>241956721</td>\n",
       "      <td>refs/heads/feature/stas/onboarding/tutorial</td>\n",
       "      <td>b34d8845506f0de01138e525d118fe292d204334</td>\n",
       "      <td>25618</td>\n",
       "      <td>NaN</td>\n",
       "      <td>241956721</td>\n",
       "      <td>push</td>\n",
       "      <td>2017-06-12 09:51:07+00:00</td>\n",
       "      <td>NaN</td>\n",
       "      <td>2017-06-12 09:50:27+00:00</td>\n",
       "      <td>64.0</td>\n",
       "      <td>canceled</td>\n",
       "      <td>12.0</td>\n",
       "      <td>6.0</td>\n",
       "      <td>2017.0</td>\n",
       "    </tr>\n",
       "  </tbody>\n",
       "</table>\n",
       "</div>"
      ],
      "text/plain": [
       "     buildid                                          commitref  \\\n",
       "0  241946099  refs/heads/feature/atlas/MMF-324/builtin-profiles   \n",
       "1  241952022  refs/heads/feature/atlas/MMF-324/builtin-profiles   \n",
       "2  241952044                               refs/pull/2104/merge   \n",
       "3  241955852                   refs/heads/feature/jl/onboarding   \n",
       "4  241956721        refs/heads/feature/stas/onboarding/tutorial   \n",
       "\n",
       "                                  commitsha  number  pull_request_number  \\\n",
       "0  2e4b539138fde6f664a865c81fb6ab0763f74bdb   25614                  NaN   \n",
       "1  464f5da96733c14818f4b4bfeb878951b859ee0c   25615                  NaN   \n",
       "2  7358e9a93e47ac9fcaebe960c00ab8bd28e9890e   25616               2104.0   \n",
       "3  00e86fd06991a1e54e3b17eb82f2532f85de6489   25617                  NaN   \n",
       "4  b34d8845506f0de01138e525d118fe292d204334   25618                  NaN   \n",
       "\n",
       "          id    event_type                finished_at  \\\n",
       "0  241946099          push  2017-06-12 09:21:43+00:00   \n",
       "1  241952022          push  2017-06-12 09:37:24+00:00   \n",
       "2  241952044  pull_request  2017-06-12 09:53:48+00:00   \n",
       "3  241955852          push  2017-06-12 09:56:41+00:00   \n",
       "4  241956721          push  2017-06-12 09:51:07+00:00   \n",
       "\n",
       "                                  pull_request_title  \\\n",
       "0                                                NaN   \n",
       "1                                                NaN   \n",
       "2  MMF-324 introduce concept of build-in Quality ...   \n",
       "3                                                NaN   \n",
       "4                                                NaN   \n",
       "\n",
       "                  started_at  duration     state  started_at_day  \\\n",
       "0  2017-06-12 09:21:03+00:00      40.0  canceled            12.0   \n",
       "1  2017-06-12 09:36:43+00:00      40.0  canceled            12.0   \n",
       "2  2017-06-12 09:42:15+00:00     973.0    passed            12.0   \n",
       "3  2017-06-12 09:50:40+00:00     610.0    failed            12.0   \n",
       "4  2017-06-12 09:50:27+00:00      64.0  canceled            12.0   \n",
       "\n",
       "   started_at_month  started_at_year  \n",
       "0               6.0           2017.0  \n",
       "1               6.0           2017.0  \n",
       "2               6.0           2017.0  \n",
       "3               6.0           2017.0  \n",
       "4               6.0           2017.0  "
      ]
     },
     "execution_count": 86,
     "metadata": {},
     "output_type": "execute_result"
    }
   ],
   "source": [
    "builds_commitref = jobs.drop_duplicates(subset=[\"buildid\", \"commitref\", \"commitsha\"], keep=\"first\")[[\"buildid\", \"commitref\", \"commitsha\"]]\\\n",
    ".merge(builds, left_on=\"buildid\", right_on=\"id\")\n",
    "builds_commitref.head(5)"
   ]
  },
  {
   "cell_type": "code",
   "execution_count": 197,
   "metadata": {},
   "outputs": [],
   "source": [
    "def detect_build_bursts(_builds, gap_size, burst_size, states):\n",
    "    positive_count = 0\n",
    "    #used to count the gap size\n",
    "    negative_count = 0\n",
    "    n_bursts = 0\n",
    "    burst_sizes = []\n",
    "    i = 0\n",
    "    for index, row in _builds.sort_values(by=\"started_at\").iterrows():\n",
    "        i+=1\n",
    "        #not part of the burst\n",
    "        if (not (row[\"state\"] in states)):\n",
    "            negative_count+=1\n",
    "            #check if burst is terminated\n",
    "            if(negative_count == gap_size):\n",
    "                if(positive_count >= burst_size):\n",
    "                    n_bursts+=1\n",
    "                    burst_sizes.append(positive_count)\n",
    "                negative_count = 0\n",
    "                positive_count = 0\n",
    "        #part of the burst\n",
    "        if(row[\"state\"] in states):\n",
    "            positive_count+=1\n",
    "            negative_count = 0\n",
    "            #end of the loop\n",
    "            if(i == len(_builds)):\n",
    "                if(positive_count >= burst_size):\n",
    "                    n_bursts+=1\n",
    "                    burst_sizes.append(positive_count)\n",
    "    return n_bursts, burst_sizes\n",
    "\n",
    "def build_burst_metrics(row, _release_builds, states):\n",
    "    _x = release_builds\n",
    "    _builds = _x[(_x.from_tag == row.from_tag) & (_x.to_tag == row.to_tag)].buildid\n",
    "    _builds = builds_commitref[builds_commitref.id.isin(_builds)]\n",
    "    res = {}\n",
    "    for gap_size in [1,2,3]:\n",
    "        for burst_size in [1,2,3]:\n",
    "            commitref_data=[]\n",
    "            for commitref in _builds.commitref.unique():\n",
    "                _ref_builds = _builds[_builds.commitref==commitref]\n",
    "                commitref_data.append(detect_build_bursts(_ref_builds, gap_size, burst_size, states))\n",
    "            bursts = np.array([])\n",
    "            bursts_sizes = np.array([])\n",
    "            for d in commitref_data:\n",
    "                bursts = np.append(bursts,d[0])\n",
    "                for v in d[1]:\n",
    "                    bursts_sizes = np.append(bursts_sizes,v)\n",
    "            if not gap_size in res:\n",
    "                res[gap_size] = {}\n",
    "            res[gap_size][burst_size] = (bursts, bursts_sizes)\n",
    "    return res\n",
    "\n",
    "def get_failed_burst_metrics(row, _release_builds):\n",
    "    return build_burst_metrics(row, _release_builds, [\"failed\"])\n",
    "\n",
    "def get_canceled_burst_metrics(row, _release_builds):\n",
    "    return build_burst_metrics(row, _release_builds, [\"canceled\"])\n",
    "\n",
    "def get_not_passed_burst_metrics(row, _release_builds):\n",
    "    return build_burst_metrics(row, _release_builds, [\"failed\", \"canceled\", \"errored\"])"
   ]
  },
  {
   "cell_type": "code",
   "execution_count": 198,
   "metadata": {},
   "outputs": [],
   "source": [
    "def burst_metrics_analysis(burst_metrics, type_str):\n",
    "    cols = [\"index\"]\n",
    "    data = []\n",
    "    for i, row in burst_metrics.items():\n",
    "        inner_data = [i]\n",
    "        for gap in row:\n",
    "            for burst_size in row[gap]:\n",
    "                bursts = row[gap][burst_size][0]\n",
    "                burst_sizes = row[gap][burst_size][1]\n",
    "                inner_data.append(bursts.mean())\n",
    "                inner_data.append(np.median(bursts))\n",
    "                inner_data.append(bursts.max())\n",
    "                inner_data.append(bursts.min())\n",
    "                if(i == 3):\n",
    "                    for metric in [\"mean\", \"median\", \"max\", \"min\"]:\n",
    "                        cols.append(f\"{type_str}_gp{gap}_bs{burst_size}_n_bursts_{metric}\")\n",
    "                inner_data.append(burst_sizes.mean())\n",
    "                inner_data.append(np.median(burst_sizes))\n",
    "                inner_data.append(np.max(burst_sizes, initial=0))\n",
    "                inner_data.append(np.min(burst_sizes, initial=0))\n",
    "                if(i == 3):\n",
    "                    for metric in [\"mean\", \"median\", \"max\", \"min\"]:\n",
    "                        cols.append(f\"{type_str}_gp{gap}_bs{burst_size}_burst_size_{metric}\")\n",
    "        data.append(tuple(inner_data))\n",
    "    return data, cols"
   ]
  },
  {
   "cell_type": "markdown",
   "metadata": {},
   "source": [
    "**Not passed burst metrics**"
   ]
  },
  {
   "cell_type": "markdown",
   "metadata": {},
   "source": [
    "not_passed_burst_metrics = {}\n",
    "for df, release_builds, method in df_builds:\n",
    "    metrics = df.apply(get_not_passed_burst_metrics,args=(release_builds,),axis=1)\n",
    "    not_passed_burst_metrics[method]=metrics"
   ]
  },
  {
   "cell_type": "markdown",
   "metadata": {},
   "source": [
    "df_release_bursts = [(),()]\n",
    "for i, (df, release_builds, method) in enumerate(df_builds):\n",
    "    data, cols = burst_metrics_analysis(not_passed_burst_metrics[method], \"not_passed\")\n",
    "    not_passed_burst_metrics_df = pd.DataFrame(data, columns=cols)\n",
    "    not_passed_burst_metrics_df.set_index(\"index\", inplace=True)\n",
    "    not_passed_burst_metrics_df.fillna(0, inplace=True)\n",
    "    df_release_bursts[i] = (df.join(not_passed_burst_metrics_df), release_builds, method)"
   ]
  },
  {
   "cell_type": "markdown",
   "metadata": {},
   "source": [
    "#checkpoint of calculation up until here\n",
    "for df_burst, release_builds, method in df_release_bursts: \n",
    "    df_burst.to_csv(f\"{csv_folder}/ci_metrics/{method}_not_passed_burst_metrics.csv\")"
   ]
  },
  {
   "cell_type": "markdown",
   "metadata": {},
   "source": [
    "#retrieve checkpoint of calculation up until here\n",
    "df_release_bursts = [(),()]\n",
    "for i, (df, release_builds, method) in enumerate(df_builds): \n",
    "    tmp = pd.read_csv(f\"{csv_folder}/ci_metrics/{method}_not_passed_burst_metrics.csv\", index_col=0)\n",
    "    df_release_bursts[i] = (tmp, release_builds, method)"
   ]
  },
  {
   "cell_type": "markdown",
   "metadata": {},
   "source": [
    "**Canceled burst metrics**"
   ]
  },
  {
   "cell_type": "markdown",
   "metadata": {},
   "source": [
    "cenceled_burst_metrics = {}\n",
    "for df, release_builds, method in df_release_bursts:\n",
    "    metrics = df.apply(get_canceled_burst_metrics,args=(release_builds,),axis=1)\n",
    "    cenceled_burst_metrics[method]=metrics"
   ]
  },
  {
   "cell_type": "markdown",
   "metadata": {},
   "source": [
    "for i, (df, release_builds, method) in enumerate(df_release_bursts):\n",
    "    data, cols = burst_metrics_analysis(not_passed_burst_metrics[method], \"canceled\")\n",
    "    not_passed_burst_metrics_df = pd.DataFrame(data, columns=cols)\n",
    "    not_passed_burst_metrics_df.set_index(\"index\", inplace=True)\n",
    "    not_passed_burst_metrics_df.fillna(0, inplace=True)\n",
    "    df_release_bursts[i] = (df.join(not_passed_burst_metrics_df), release_builds, method)"
   ]
  },
  {
   "cell_type": "markdown",
   "metadata": {},
   "source": [
    "#checkpoint of calculation up until here\n",
    "for df_burst, release_builds, method in df_release_bursts: \n",
    "    df_burst.to_csv(f\"{csv_folder}/ci_metrics/{method}_not_passed_+_canceled_burst_metrics.csv\")"
   ]
  },
  {
   "cell_type": "markdown",
   "metadata": {},
   "source": [
    "#retrieve checkpoint of calculation up until here\n",
    "df_release_bursts = [(),()]\n",
    "for i, (df, release_builds, method) in enumerate(df_builds): \n",
    "    tmp = pd.read_csv(f\"{csv_folder}/ci_metrics/{method}_not_passed_+_canceled_burst_metrics.csv\", index_col=0)\n",
    "    df_release_bursts[i] = (tmp, release_builds, method)"
   ]
  },
  {
   "cell_type": "markdown",
   "metadata": {},
   "source": [
    "**Failed burst metrics**"
   ]
  },
  {
   "cell_type": "markdown",
   "metadata": {},
   "source": [
    "failed_burst_metrics = {}\n",
    "for df, release_builds, method in df_release_bursts:\n",
    "    metrics = df.apply(get_failed_burst_metrics,args=(release_builds,),axis=1)\n",
    "    cenceled_burst_metrics[method]=metrics"
   ]
  },
  {
   "cell_type": "markdown",
   "metadata": {},
   "source": [
    "for i, (df, release_builds, method) in enumerate(df_release_bursts):\n",
    "    data, cols = burst_metrics_analysis(not_passed_burst_metrics[method], \"failed\")\n",
    "    not_passed_burst_metrics_df = pd.DataFrame(data, columns=cols)\n",
    "    not_passed_burst_metrics_df.set_index(\"index\", inplace=True)\n",
    "    not_passed_burst_metrics_df.fillna(0, inplace=True)\n",
    "    df_release_bursts[i] = (df.join(not_passed_burst_metrics_df), release_builds, method)"
   ]
  },
  {
   "cell_type": "markdown",
   "metadata": {},
   "source": [
    "#checkpoint of calculation up until here\n",
    "for df_burst, release_builds, method in df_release_bursts: \n",
    "    df_burst.to_csv(f\"{csv_folder}/ci_metrics/{method}_all_burst_metrics.csv\")"
   ]
  },
  {
   "cell_type": "code",
   "execution_count": 217,
   "metadata": {},
   "outputs": [],
   "source": [
    "#retrieve checkpoint of calculation up until here\n",
    "df_release_bursts = [(),()]\n",
    "for i, (df, release_builds, method) in enumerate(df_builds): \n",
    "    tmp = pd.read_csv(f\"{csv_folder}/ci_metrics/{method}_all_burst_metrics.csv\", index_col=0)\n",
    "    df_release_bursts[i] = (tmp, release_builds, method)"
   ]
  },
  {
   "cell_type": "markdown",
   "metadata": {},
   "source": [
    "**Software quality metrics**"
   ]
  },
  {
   "cell_type": "code",
   "execution_count": 218,
   "metadata": {},
   "outputs": [
    {
     "data": {
      "text/html": [
       "<div>\n",
       "<style scoped>\n",
       "    .dataframe tbody tr th:only-of-type {\n",
       "        vertical-align: middle;\n",
       "    }\n",
       "\n",
       "    .dataframe tbody tr th {\n",
       "        vertical-align: top;\n",
       "    }\n",
       "\n",
       "    .dataframe thead th {\n",
       "        text-align: right;\n",
       "    }\n",
       "</style>\n",
       "<table border=\"1\" class=\"dataframe\">\n",
       "  <thead>\n",
       "    <tr style=\"text-align: right;\">\n",
       "      <th></th>\n",
       "      <th>version_name</th>\n",
       "      <th>post_release_bugs</th>\n",
       "      <th>pre_release_bugs</th>\n",
       "      <th>dde</th>\n",
       "      <th>critical_post_release_bugs</th>\n",
       "      <th>minor_post_release_bugs</th>\n",
       "      <th>fix_time</th>\n",
       "    </tr>\n",
       "  </thead>\n",
       "  <tbody>\n",
       "    <tr>\n",
       "      <th>0</th>\n",
       "      <td>4.5.7</td>\n",
       "      <td>1.0</td>\n",
       "      <td>0.0</td>\n",
       "      <td>0.000000</td>\n",
       "      <td>0.0</td>\n",
       "      <td>0.0</td>\n",
       "      <td>434.28603</td>\n",
       "    </tr>\n",
       "    <tr>\n",
       "      <th>1</th>\n",
       "      <td>5.1</td>\n",
       "      <td>17.0</td>\n",
       "      <td>7.0</td>\n",
       "      <td>0.291667</td>\n",
       "      <td>0.0</td>\n",
       "      <td>1.0</td>\n",
       "      <td>76.54260</td>\n",
       "    </tr>\n",
       "  </tbody>\n",
       "</table>\n",
       "</div>"
      ],
      "text/plain": [
       "  version_name  post_release_bugs  pre_release_bugs       dde  \\\n",
       "0        4.5.7                1.0               0.0  0.000000   \n",
       "1          5.1               17.0               7.0  0.291667   \n",
       "\n",
       "   critical_post_release_bugs  minor_post_release_bugs   fix_time  \n",
       "0                         0.0                      0.0  434.28603  \n",
       "1                         0.0                      1.0   76.54260  "
      ]
     },
     "execution_count": 218,
     "metadata": {},
     "output_type": "execute_result"
    }
   ],
   "source": [
    "sw_quality_metrics= pd.read_csv(f\"{csv_folder}/tags_software_quality_metrics_no_rc_and_milestones.csv\", index_col=0)\n",
    "sw_quality_metrics.head(2)"
   ]
  },
  {
   "cell_type": "code",
   "execution_count": 219,
   "metadata": {},
   "outputs": [
    {
     "data": {
      "text/plain": [
       "Index(['version_name', 'post_release_bugs', 'pre_release_bugs', 'dde',\n",
       "       'critical_post_release_bugs', 'minor_post_release_bugs', 'fix_time'],\n",
       "      dtype='object')"
      ]
     },
     "execution_count": 219,
     "metadata": {},
     "output_type": "execute_result"
    }
   ],
   "source": [
    "sw_quality_metrics.columns"
   ]
  },
  {
   "cell_type": "markdown",
   "metadata": {},
   "source": [
    "**Merging**"
   ]
  },
  {
   "cell_type": "code",
   "execution_count": 220,
   "metadata": {},
   "outputs": [
    {
     "name": "stdout",
     "output_type": "stream",
     "text": [
      "(52, 282)\n",
      "(52, 282)\n"
     ]
    }
   ],
   "source": [
    "for i, (df, release_builds, method) in enumerate(df_release_bursts):\n",
    "    print(df.shape)"
   ]
  },
  {
   "cell_type": "code",
   "execution_count": 221,
   "metadata": {},
   "outputs": [],
   "source": [
    "#sw_quality_metrics"
   ]
  },
  {
   "cell_type": "code",
   "execution_count": 223,
   "metadata": {},
   "outputs": [
    {
     "data": {
      "text/plain": [
       "set()"
      ]
     },
     "execution_count": 223,
     "metadata": {},
     "output_type": "execute_result"
    }
   ],
   "source": [
    "set(df_release_bursts[0][0].to_tag).difference(sw_quality_metrics.version_name.values)"
   ]
  },
  {
   "cell_type": "code",
   "execution_count": 224,
   "metadata": {},
   "outputs": [
    {
     "data": {
      "text/plain": [
       "{'4.5.7', '5.1', '5.1.1', '5.1.2'}"
      ]
     },
     "execution_count": 224,
     "metadata": {},
     "output_type": "execute_result"
    }
   ],
   "source": [
    "set(sw_quality_metrics.version_name.values).difference(set(df_release_bursts[0][0].to_tag))"
   ]
  },
  {
   "cell_type": "code",
   "execution_count": 266,
   "metadata": {},
   "outputs": [],
   "source": [
    "df_release_bursts = df_builds"
   ]
  },
  {
   "cell_type": "code",
   "execution_count": 267,
   "metadata": {},
   "outputs": [],
   "source": [
    "df_builds_sw_metrics = [(),()]\n",
    "for i, (df, release_builds, method) in enumerate(df_release_bursts):\n",
    "    dataset_with_sw_metrics = df.merge(sw_quality_metrics, left_on=\"to_tag\", right_on=\"version_name\")\n",
    "    df_builds_sw_metrics[i] = (dataset_with_sw_metrics, release_builds, method)\n",
    "    dataset_with_sw_metrics.to_csv(f\"{csv_folder}/final_datasets/{method}_with_sw_metrics.csv\")"
   ]
  },
  {
   "cell_type": "markdown",
   "metadata": {},
   "source": [
    "# Analysis"
   ]
  },
  {
   "cell_type": "code",
   "execution_count": 268,
   "metadata": {},
   "outputs": [],
   "source": [
    "methods= [\"dataset1\", \"dataset2\"]"
   ]
  },
  {
   "cell_type": "code",
   "execution_count": 269,
   "metadata": {},
   "outputs": [],
   "source": [
    "df_metrics = {methods[0]: pd.read_csv(f\"{csv_folder}/final_datasets/{methods[0]}_with_sw_metrics.csv\", index_col=0),\n",
    "                methods[1]: pd.read_csv(f\"{csv_folder}/final_datasets/{methods[1]}_with_sw_metrics.csv\", index_col=0)}"
   ]
  },
  {
   "cell_type": "code",
   "execution_count": 270,
   "metadata": {},
   "outputs": [
    {
     "data": {
      "image/png": "[encoded data removed]",
      "text/plain": [
       "<Figure size 1008x360 with 1 Axes>"
      ]
     },
     "metadata": {
      "needs_background": "light"
     },
     "output_type": "display_data"
    },
    {
     "data": {
      "image/png": "[encoded data removed]",
      "text/plain": [
       "<Figure size 1008x360 with 1 Axes>"
      ]
     },
     "metadata": {
      "needs_background": "light"
     },
     "output_type": "display_data"
    }
   ],
   "source": [
    "for method, metrics in df_metrics.items():\n",
    "    ax = sns.boxplot(x=\"java_build_tool\", y=\"median_skipped_over_tests_total\",\n",
    "                 data=metrics)\n",
    "    plt.show()"
   ]
  },
  {
   "cell_type": "code",
   "execution_count": 271,
   "metadata": {},
   "outputs": [
    {
     "data": {
      "image/png": "[encoded data removed]",
      "text/plain": [
       "<Figure size 1008x360 with 1 Axes>"
      ]
     },
     "metadata": {
      "needs_background": "light"
     },
     "output_type": "display_data"
    },
    {
     "data": {
      "image/png": "[encoded data removed]",
      "text/plain": [
       "<Figure size 1008x360 with 1 Axes>"
      ]
     },
     "metadata": {
      "needs_background": "light"
     },
     "output_type": "display_data"
    }
   ],
   "source": [
    "for method, metrics in df_metrics.items():\n",
    "    ax = sns.boxplot(x=\"java_build_tool\", y=\"min_not_errored_or_canceled_build_duration\",\n",
    "                 data=metrics)\n",
    "    plt.show()"
   ]
  },
  {
   "cell_type": "code",
   "execution_count": 272,
   "metadata": {},
   "outputs": [
    {
     "data": {
      "image/png": "[encoded data removed]",
      "text/plain": [
       "<Figure size 1008x360 with 1 Axes>"
      ]
     },
     "metadata": {
      "needs_background": "light"
     },
     "output_type": "display_data"
    },
    {
     "data": {
      "image/png": "[encoded data removed]",
      "text/plain": [
       "<Figure size 1008x360 with 1 Axes>"
      ]
     },
     "metadata": {
      "needs_background": "light"
     },
     "output_type": "display_data"
    }
   ],
   "source": [
    "for method, metrics in df_metrics.items():\n",
    "    ax = sns.boxplot(x=\"java_build_tool\", y=\"post_release_bugs\",\n",
    "                 data=metrics)\n",
    "    plt.show()"
   ]
  },
  {
   "cell_type": "code",
   "execution_count": 273,
   "metadata": {
    "scrolled": false
   },
   "outputs": [
    {
     "data": {
      "text/plain": [
       "<Figure size 1008x360 with 0 Axes>"
      ]
     },
     "metadata": {},
     "output_type": "display_data"
    },
    {
     "data": {
      "image/png": "[encoded data removed]",
      "text/plain": [
       "<Figure size 936x576 with 6 Axes>"
      ]
     },
     "metadata": {
      "needs_background": "light"
     },
     "output_type": "display_data"
    }
   ],
   "source": [
    "plt.figure()\n",
    "fig, axes = plt.subplots(nrows=2, ncols=3, figsize=(13.0, 8.0))\n",
    "fig.tight_layout(h_pad=3, w_pad=3)\n",
    "fig.text(0.001, 0.5, 'Density', ha='center', va='center', rotation='vertical')\n",
    "axes = axes.flatten()\n",
    "metrics = df_metrics[methods[1]]\n",
    "for i, col in enumerate([\"median_skipped_over_tests_total\", \"min_not_errored_or_canceled_build_duration\", \"post_release_bugs\",\n",
    "                        \"ratio_passed_builds\", \"ratio_failed_builds\", \"median_n_exceptions\"]):\n",
    "    ax = sns.kdeplot(data=metrics, x=col, hue=\"java_build_tool\",  ax=axes[i])\n",
    "    ax.set(ylabel=\"\")\n",
    "plt.savefig(f\"{figure_folder}/ci-metrics/maven_gradle_metrics_dist.png\", transparent=True, bbox_inches='tight', pad_inches=0.2)\n",
    "plt.show()"
   ]
  },
  {
   "cell_type": "markdown",
   "metadata": {},
   "source": [
    "### Kolmogorov test"
   ]
  },
  {
   "cell_type": "code",
   "execution_count": 274,
   "metadata": {},
   "outputs": [],
   "source": [
    "from scipy import stats"
   ]
  },
  {
   "cell_type": "code",
   "execution_count": 275,
   "metadata": {},
   "outputs": [
    {
     "data": {
      "text/plain": [
       "KstestResult(statistic=0.15, pvalue=0.9055639149709901)"
      ]
     },
     "execution_count": 275,
     "metadata": {},
     "output_type": "execute_result"
    }
   ],
   "source": [
    "stats.ks_2samp(metrics[metrics.java_build_tool==\"gradle\"][\"post_release_bugs\"],\\\n",
    "             metrics[metrics.java_build_tool==\"maven\"][\"post_release_bugs\"])"
   ]
  },
  {
   "cell_type": "code",
   "execution_count": 276,
   "metadata": {},
   "outputs": [
    {
     "data": {
      "text/html": [
       "<div>\n",
       "<style scoped>\n",
       "    .dataframe tbody tr th:only-of-type {\n",
       "        vertical-align: middle;\n",
       "    }\n",
       "\n",
       "    .dataframe tbody tr th {\n",
       "        vertical-align: top;\n",
       "    }\n",
       "\n",
       "    .dataframe thead th {\n",
       "        text-align: right;\n",
       "    }\n",
       "</style>\n",
       "<table border=\"1\" class=\"dataframe\">\n",
       "  <thead>\n",
       "    <tr style=\"text-align: right;\">\n",
       "      <th></th>\n",
       "      <th>feature</th>\n",
       "      <th>statistic</th>\n",
       "      <th>pvalue</th>\n",
       "    </tr>\n",
       "  </thead>\n",
       "  <tbody>\n",
       "    <tr>\n",
       "      <th>2</th>\n",
       "      <td>ahead_by</td>\n",
       "      <td>0.26875</td>\n",
       "      <td>0.281327</td>\n",
       "    </tr>\n",
       "    <tr>\n",
       "      <th>3</th>\n",
       "      <td>behind_by</td>\n",
       "      <td>0.10000</td>\n",
       "      <td>0.998094</td>\n",
       "    </tr>\n",
       "    <tr>\n",
       "      <th>6</th>\n",
       "      <td>ahead_behind_sum</td>\n",
       "      <td>0.26875</td>\n",
       "      <td>0.281327</td>\n",
       "    </tr>\n",
       "    <tr>\n",
       "      <th>7</th>\n",
       "      <td>diff_author_dates</td>\n",
       "      <td>0.27500</td>\n",
       "      <td>0.259001</td>\n",
       "    </tr>\n",
       "    <tr>\n",
       "      <th>8</th>\n",
       "      <td>diff_author_days</td>\n",
       "      <td>0.21250</td>\n",
       "      <td>0.561659</td>\n",
       "    </tr>\n",
       "    <tr>\n",
       "      <th>11</th>\n",
       "      <td>diff_commit_dates</td>\n",
       "      <td>0.30625</td>\n",
       "      <td>0.161785</td>\n",
       "    </tr>\n",
       "    <tr>\n",
       "      <th>12</th>\n",
       "      <td>diff_commit_days</td>\n",
       "      <td>0.16875</td>\n",
       "      <td>0.816544</td>\n",
       "    </tr>\n",
       "    <tr>\n",
       "      <th>18</th>\n",
       "      <td>ratio_errored_builds</td>\n",
       "      <td>0.33125</td>\n",
       "      <td>0.105548</td>\n",
       "    </tr>\n",
       "    <tr>\n",
       "      <th>38</th>\n",
       "      <td>mean_errors_over_tests_total</td>\n",
       "      <td>0.36875</td>\n",
       "      <td>0.053409</td>\n",
       "    </tr>\n",
       "    <tr>\n",
       "      <th>40</th>\n",
       "      <td>max_errors_over_tests_total</td>\n",
       "      <td>0.35625</td>\n",
       "      <td>0.067793</td>\n",
       "    </tr>\n",
       "    <tr>\n",
       "      <th>42</th>\n",
       "      <td>mean_failed_tests</td>\n",
       "      <td>0.35625</td>\n",
       "      <td>0.067793</td>\n",
       "    </tr>\n",
       "    <tr>\n",
       "      <th>43</th>\n",
       "      <td>median_failed_tests</td>\n",
       "      <td>0.05000</td>\n",
       "      <td>1.000000</td>\n",
       "    </tr>\n",
       "    <tr>\n",
       "      <th>45</th>\n",
       "      <td>min_failed_tests</td>\n",
       "      <td>0.00000</td>\n",
       "      <td>1.000000</td>\n",
       "    </tr>\n",
       "    <tr>\n",
       "      <th>50</th>\n",
       "      <td>mean_skipped_over_tests_total</td>\n",
       "      <td>0.30000</td>\n",
       "      <td>0.176926</td>\n",
       "    </tr>\n",
       "    <tr>\n",
       "      <th>53</th>\n",
       "      <td>min_skipped_over_tests_total</td>\n",
       "      <td>0.20000</td>\n",
       "      <td>0.635869</td>\n",
       "    </tr>\n",
       "    <tr>\n",
       "      <th>55</th>\n",
       "      <td>median_n_exceptions</td>\n",
       "      <td>0.21875</td>\n",
       "      <td>0.526596</td>\n",
       "    </tr>\n",
       "    <tr>\n",
       "      <th>57</th>\n",
       "      <td>min_n_exceptions</td>\n",
       "      <td>0.00000</td>\n",
       "      <td>1.000000</td>\n",
       "    </tr>\n",
       "    <tr>\n",
       "      <th>63</th>\n",
       "      <td>median_n_error_classes</td>\n",
       "      <td>0.06250</td>\n",
       "      <td>1.000000</td>\n",
       "    </tr>\n",
       "    <tr>\n",
       "      <th>65</th>\n",
       "      <td>min_n_error_classes</td>\n",
       "      <td>0.00000</td>\n",
       "      <td>1.000000</td>\n",
       "    </tr>\n",
       "    <tr>\n",
       "      <th>66</th>\n",
       "      <td>not_passed_gp1_bs1_n_bursts_mean</td>\n",
       "      <td>0.35625</td>\n",
       "      <td>0.067793</td>\n",
       "    </tr>\n",
       "    <tr>\n",
       "      <th>67</th>\n",
       "      <td>not_passed_gp1_bs1_n_bursts_median</td>\n",
       "      <td>0.15000</td>\n",
       "      <td>0.905564</td>\n",
       "    </tr>\n",
       "    <tr>\n",
       "      <th>69</th>\n",
       "      <td>not_passed_gp1_bs1_n_bursts_min</td>\n",
       "      <td>0.35000</td>\n",
       "      <td>0.075875</td>\n",
       "    </tr>\n",
       "    <tr>\n",
       "      <th>71</th>\n",
       "      <td>not_passed_gp1_bs1_burst_size_median</td>\n",
       "      <td>0.26875</td>\n",
       "      <td>0.281327</td>\n",
       "    </tr>\n",
       "    <tr>\n",
       "      <th>73</th>\n",
       "      <td>not_passed_gp1_bs1_burst_size_min</td>\n",
       "      <td>0.00000</td>\n",
       "      <td>1.000000</td>\n",
       "    </tr>\n",
       "    <tr>\n",
       "      <th>74</th>\n",
       "      <td>not_passed_gp1_bs2_n_bursts_mean</td>\n",
       "      <td>0.35000</td>\n",
       "      <td>0.075875</td>\n",
       "    </tr>\n",
       "    <tr>\n",
       "      <th>75</th>\n",
       "      <td>not_passed_gp1_bs2_n_bursts_median</td>\n",
       "      <td>0.15000</td>\n",
       "      <td>0.905564</td>\n",
       "    </tr>\n",
       "    <tr>\n",
       "      <th>77</th>\n",
       "      <td>not_passed_gp1_bs2_n_bursts_min</td>\n",
       "      <td>0.10000</td>\n",
       "      <td>0.998094</td>\n",
       "    </tr>\n",
       "    <tr>\n",
       "      <th>79</th>\n",
       "      <td>not_passed_gp1_bs2_burst_size_median</td>\n",
       "      <td>0.33125</td>\n",
       "      <td>0.105548</td>\n",
       "    </tr>\n",
       "    <tr>\n",
       "      <th>81</th>\n",
       "      <td>not_passed_gp1_bs2_burst_size_min</td>\n",
       "      <td>0.00000</td>\n",
       "      <td>1.000000</td>\n",
       "    </tr>\n",
       "    <tr>\n",
       "      <th>83</th>\n",
       "      <td>not_passed_gp1_bs3_n_bursts_median</td>\n",
       "      <td>0.15000</td>\n",
       "      <td>0.905564</td>\n",
       "    </tr>\n",
       "    <tr>\n",
       "      <th>85</th>\n",
       "      <td>not_passed_gp1_bs3_n_bursts_min</td>\n",
       "      <td>0.10000</td>\n",
       "      <td>0.998094</td>\n",
       "    </tr>\n",
       "    <tr>\n",
       "      <th>89</th>\n",
       "      <td>not_passed_gp1_bs3_burst_size_min</td>\n",
       "      <td>0.00000</td>\n",
       "      <td>1.000000</td>\n",
       "    </tr>\n",
       "    <tr>\n",
       "      <th>91</th>\n",
       "      <td>not_passed_gp2_bs1_n_bursts_median</td>\n",
       "      <td>0.15000</td>\n",
       "      <td>0.905564</td>\n",
       "    </tr>\n",
       "    <tr>\n",
       "      <th>93</th>\n",
       "      <td>not_passed_gp2_bs1_n_bursts_min</td>\n",
       "      <td>0.30000</td>\n",
       "      <td>0.176926</td>\n",
       "    </tr>\n",
       "    <tr>\n",
       "      <th>94</th>\n",
       "      <td>not_passed_gp2_bs1_burst_size_mean</td>\n",
       "      <td>0.36250</td>\n",
       "      <td>0.059890</td>\n",
       "    </tr>\n",
       "    <tr>\n",
       "      <th>95</th>\n",
       "      <td>not_passed_gp2_bs1_burst_size_median</td>\n",
       "      <td>0.25000</td>\n",
       "      <td>0.362764</td>\n",
       "    </tr>\n",
       "    <tr>\n",
       "      <th>97</th>\n",
       "      <td>not_passed_gp2_bs1_burst_size_min</td>\n",
       "      <td>0.00000</td>\n",
       "      <td>1.000000</td>\n",
       "    </tr>\n",
       "    <tr>\n",
       "      <th>98</th>\n",
       "      <td>not_passed_gp2_bs2_n_bursts_mean</td>\n",
       "      <td>0.36250</td>\n",
       "      <td>0.059890</td>\n",
       "    </tr>\n",
       "    <tr>\n",
       "      <th>99</th>\n",
       "      <td>not_passed_gp2_bs2_n_bursts_median</td>\n",
       "      <td>0.15000</td>\n",
       "      <td>0.905564</td>\n",
       "    </tr>\n",
       "    <tr>\n",
       "      <th>100</th>\n",
       "      <td>not_passed_gp2_bs2_n_bursts_max</td>\n",
       "      <td>0.36250</td>\n",
       "      <td>0.059890</td>\n",
       "    </tr>\n",
       "    <tr>\n",
       "      <th>101</th>\n",
       "      <td>not_passed_gp2_bs2_n_bursts_min</td>\n",
       "      <td>0.10000</td>\n",
       "      <td>0.998094</td>\n",
       "    </tr>\n",
       "    <tr>\n",
       "      <th>103</th>\n",
       "      <td>not_passed_gp2_bs2_burst_size_median</td>\n",
       "      <td>0.36250</td>\n",
       "      <td>0.059890</td>\n",
       "    </tr>\n",
       "    <tr>\n",
       "      <th>105</th>\n",
       "      <td>not_passed_gp2_bs2_burst_size_min</td>\n",
       "      <td>0.00000</td>\n",
       "      <td>1.000000</td>\n",
       "    </tr>\n",
       "    <tr>\n",
       "      <th>107</th>\n",
       "      <td>not_passed_gp2_bs3_n_bursts_median</td>\n",
       "      <td>0.15000</td>\n",
       "      <td>0.905564</td>\n",
       "    </tr>\n",
       "    <tr>\n",
       "      <th>109</th>\n",
       "      <td>not_passed_gp2_bs3_n_bursts_min</td>\n",
       "      <td>0.10000</td>\n",
       "      <td>0.998094</td>\n",
       "    </tr>\n",
       "    <tr>\n",
       "      <th>113</th>\n",
       "      <td>not_passed_gp2_bs3_burst_size_min</td>\n",
       "      <td>0.00000</td>\n",
       "      <td>1.000000</td>\n",
       "    </tr>\n",
       "    <tr>\n",
       "      <th>115</th>\n",
       "      <td>not_passed_gp3_bs1_n_bursts_median</td>\n",
       "      <td>0.15000</td>\n",
       "      <td>0.905564</td>\n",
       "    </tr>\n",
       "    <tr>\n",
       "      <th>117</th>\n",
       "      <td>not_passed_gp3_bs1_n_bursts_min</td>\n",
       "      <td>0.30000</td>\n",
       "      <td>0.176926</td>\n",
       "    </tr>\n",
       "    <tr>\n",
       "      <th>118</th>\n",
       "      <td>not_passed_gp3_bs1_burst_size_mean</td>\n",
       "      <td>0.36875</td>\n",
       "      <td>0.053409</td>\n",
       "    </tr>\n",
       "    <tr>\n",
       "      <th>119</th>\n",
       "      <td>not_passed_gp3_bs1_burst_size_median</td>\n",
       "      <td>0.25000</td>\n",
       "      <td>0.362764</td>\n",
       "    </tr>\n",
       "    <tr>\n",
       "      <th>120</th>\n",
       "      <td>not_passed_gp3_bs1_burst_size_max</td>\n",
       "      <td>0.36250</td>\n",
       "      <td>0.059890</td>\n",
       "    </tr>\n",
       "    <tr>\n",
       "      <th>121</th>\n",
       "      <td>not_passed_gp3_bs1_burst_size_min</td>\n",
       "      <td>0.00000</td>\n",
       "      <td>1.000000</td>\n",
       "    </tr>\n",
       "    <tr>\n",
       "      <th>122</th>\n",
       "      <td>not_passed_gp3_bs2_n_bursts_mean</td>\n",
       "      <td>0.36250</td>\n",
       "      <td>0.059890</td>\n",
       "    </tr>\n",
       "    <tr>\n",
       "      <th>123</th>\n",
       "      <td>not_passed_gp3_bs2_n_bursts_median</td>\n",
       "      <td>0.20000</td>\n",
       "      <td>0.635869</td>\n",
       "    </tr>\n",
       "    <tr>\n",
       "      <th>125</th>\n",
       "      <td>not_passed_gp3_bs2_n_bursts_min</td>\n",
       "      <td>0.10000</td>\n",
       "      <td>0.998094</td>\n",
       "    </tr>\n",
       "    <tr>\n",
       "      <th>126</th>\n",
       "      <td>not_passed_gp3_bs2_burst_size_mean</td>\n",
       "      <td>0.36250</td>\n",
       "      <td>0.059890</td>\n",
       "    </tr>\n",
       "    <tr>\n",
       "      <th>127</th>\n",
       "      <td>not_passed_gp3_bs2_burst_size_median</td>\n",
       "      <td>0.36250</td>\n",
       "      <td>0.059890</td>\n",
       "    </tr>\n",
       "    <tr>\n",
       "      <th>128</th>\n",
       "      <td>not_passed_gp3_bs2_burst_size_max</td>\n",
       "      <td>0.36250</td>\n",
       "      <td>0.059890</td>\n",
       "    </tr>\n",
       "    <tr>\n",
       "      <th>129</th>\n",
       "      <td>not_passed_gp3_bs2_burst_size_min</td>\n",
       "      <td>0.00000</td>\n",
       "      <td>1.000000</td>\n",
       "    </tr>\n",
       "    <tr>\n",
       "      <th>130</th>\n",
       "      <td>not_passed_gp3_bs3_n_bursts_mean</td>\n",
       "      <td>0.34375</td>\n",
       "      <td>0.085080</td>\n",
       "    </tr>\n",
       "    <tr>\n",
       "      <th>131</th>\n",
       "      <td>not_passed_gp3_bs3_n_bursts_median</td>\n",
       "      <td>0.15000</td>\n",
       "      <td>0.905564</td>\n",
       "    </tr>\n",
       "    <tr>\n",
       "      <th>132</th>\n",
       "      <td>not_passed_gp3_bs3_n_bursts_max</td>\n",
       "      <td>0.34375</td>\n",
       "      <td>0.085080</td>\n",
       "    </tr>\n",
       "    <tr>\n",
       "      <th>133</th>\n",
       "      <td>not_passed_gp3_bs3_n_bursts_min</td>\n",
       "      <td>0.10000</td>\n",
       "      <td>0.998094</td>\n",
       "    </tr>\n",
       "    <tr>\n",
       "      <th>134</th>\n",
       "      <td>not_passed_gp3_bs3_burst_size_mean</td>\n",
       "      <td>0.34375</td>\n",
       "      <td>0.085080</td>\n",
       "    </tr>\n",
       "    <tr>\n",
       "      <th>135</th>\n",
       "      <td>not_passed_gp3_bs3_burst_size_median</td>\n",
       "      <td>0.34375</td>\n",
       "      <td>0.085080</td>\n",
       "    </tr>\n",
       "    <tr>\n",
       "      <th>136</th>\n",
       "      <td>not_passed_gp3_bs3_burst_size_max</td>\n",
       "      <td>0.34375</td>\n",
       "      <td>0.085080</td>\n",
       "    </tr>\n",
       "    <tr>\n",
       "      <th>137</th>\n",
       "      <td>not_passed_gp3_bs3_burst_size_min</td>\n",
       "      <td>0.00000</td>\n",
       "      <td>1.000000</td>\n",
       "    </tr>\n",
       "    <tr>\n",
       "      <th>138</th>\n",
       "      <td>canceled_gp1_bs1_n_bursts_mean</td>\n",
       "      <td>0.35625</td>\n",
       "      <td>0.067793</td>\n",
       "    </tr>\n",
       "    <tr>\n",
       "      <th>139</th>\n",
       "      <td>canceled_gp1_bs1_n_bursts_median</td>\n",
       "      <td>0.15000</td>\n",
       "      <td>0.905564</td>\n",
       "    </tr>\n",
       "    <tr>\n",
       "      <th>141</th>\n",
       "      <td>canceled_gp1_bs1_n_bursts_min</td>\n",
       "      <td>0.35000</td>\n",
       "      <td>0.075875</td>\n",
       "    </tr>\n",
       "    <tr>\n",
       "      <th>143</th>\n",
       "      <td>canceled_gp1_bs1_burst_size_median</td>\n",
       "      <td>0.26875</td>\n",
       "      <td>0.281327</td>\n",
       "    </tr>\n",
       "    <tr>\n",
       "      <th>145</th>\n",
       "      <td>canceled_gp1_bs1_burst_size_min</td>\n",
       "      <td>0.00000</td>\n",
       "      <td>1.000000</td>\n",
       "    </tr>\n",
       "    <tr>\n",
       "      <th>146</th>\n",
       "      <td>canceled_gp1_bs2_n_bursts_mean</td>\n",
       "      <td>0.35000</td>\n",
       "      <td>0.075875</td>\n",
       "    </tr>\n",
       "    <tr>\n",
       "      <th>147</th>\n",
       "      <td>canceled_gp1_bs2_n_bursts_median</td>\n",
       "      <td>0.15000</td>\n",
       "      <td>0.905564</td>\n",
       "    </tr>\n",
       "    <tr>\n",
       "      <th>149</th>\n",
       "      <td>canceled_gp1_bs2_n_bursts_min</td>\n",
       "      <td>0.10000</td>\n",
       "      <td>0.998094</td>\n",
       "    </tr>\n",
       "    <tr>\n",
       "      <th>151</th>\n",
       "      <td>canceled_gp1_bs2_burst_size_median</td>\n",
       "      <td>0.33125</td>\n",
       "      <td>0.105548</td>\n",
       "    </tr>\n",
       "    <tr>\n",
       "      <th>153</th>\n",
       "      <td>canceled_gp1_bs2_burst_size_min</td>\n",
       "      <td>0.00000</td>\n",
       "      <td>1.000000</td>\n",
       "    </tr>\n",
       "    <tr>\n",
       "      <th>155</th>\n",
       "      <td>canceled_gp1_bs3_n_bursts_median</td>\n",
       "      <td>0.15000</td>\n",
       "      <td>0.905564</td>\n",
       "    </tr>\n",
       "    <tr>\n",
       "      <th>157</th>\n",
       "      <td>canceled_gp1_bs3_n_bursts_min</td>\n",
       "      <td>0.10000</td>\n",
       "      <td>0.998094</td>\n",
       "    </tr>\n",
       "    <tr>\n",
       "      <th>161</th>\n",
       "      <td>canceled_gp1_bs3_burst_size_min</td>\n",
       "      <td>0.00000</td>\n",
       "      <td>1.000000</td>\n",
       "    </tr>\n",
       "    <tr>\n",
       "      <th>163</th>\n",
       "      <td>canceled_gp2_bs1_n_bursts_median</td>\n",
       "      <td>0.15000</td>\n",
       "      <td>0.905564</td>\n",
       "    </tr>\n",
       "    <tr>\n",
       "      <th>165</th>\n",
       "      <td>canceled_gp2_bs1_n_bursts_min</td>\n",
       "      <td>0.30000</td>\n",
       "      <td>0.176926</td>\n",
       "    </tr>\n",
       "    <tr>\n",
       "      <th>166</th>\n",
       "      <td>canceled_gp2_bs1_burst_size_mean</td>\n",
       "      <td>0.36250</td>\n",
       "      <td>0.059890</td>\n",
       "    </tr>\n",
       "    <tr>\n",
       "      <th>167</th>\n",
       "      <td>canceled_gp2_bs1_burst_size_median</td>\n",
       "      <td>0.25000</td>\n",
       "      <td>0.362764</td>\n",
       "    </tr>\n",
       "    <tr>\n",
       "      <th>169</th>\n",
       "      <td>canceled_gp2_bs1_burst_size_min</td>\n",
       "      <td>0.00000</td>\n",
       "      <td>1.000000</td>\n",
       "    </tr>\n",
       "    <tr>\n",
       "      <th>170</th>\n",
       "      <td>canceled_gp2_bs2_n_bursts_mean</td>\n",
       "      <td>0.36250</td>\n",
       "      <td>0.059890</td>\n",
       "    </tr>\n",
       "    <tr>\n",
       "      <th>171</th>\n",
       "      <td>canceled_gp2_bs2_n_bursts_median</td>\n",
       "      <td>0.15000</td>\n",
       "      <td>0.905564</td>\n",
       "    </tr>\n",
       "    <tr>\n",
       "      <th>172</th>\n",
       "      <td>canceled_gp2_bs2_n_bursts_max</td>\n",
       "      <td>0.36250</td>\n",
       "      <td>0.059890</td>\n",
       "    </tr>\n",
       "    <tr>\n",
       "      <th>173</th>\n",
       "      <td>canceled_gp2_bs2_n_bursts_min</td>\n",
       "      <td>0.10000</td>\n",
       "      <td>0.998094</td>\n",
       "    </tr>\n",
       "    <tr>\n",
       "      <th>175</th>\n",
       "      <td>canceled_gp2_bs2_burst_size_median</td>\n",
       "      <td>0.36250</td>\n",
       "      <td>0.059890</td>\n",
       "    </tr>\n",
       "    <tr>\n",
       "      <th>177</th>\n",
       "      <td>canceled_gp2_bs2_burst_size_min</td>\n",
       "      <td>0.00000</td>\n",
       "      <td>1.000000</td>\n",
       "    </tr>\n",
       "    <tr>\n",
       "      <th>179</th>\n",
       "      <td>canceled_gp2_bs3_n_bursts_median</td>\n",
       "      <td>0.15000</td>\n",
       "      <td>0.905564</td>\n",
       "    </tr>\n",
       "    <tr>\n",
       "      <th>181</th>\n",
       "      <td>canceled_gp2_bs3_n_bursts_min</td>\n",
       "      <td>0.10000</td>\n",
       "      <td>0.998094</td>\n",
       "    </tr>\n",
       "    <tr>\n",
       "      <th>185</th>\n",
       "      <td>canceled_gp2_bs3_burst_size_min</td>\n",
       "      <td>0.00000</td>\n",
       "      <td>1.000000</td>\n",
       "    </tr>\n",
       "    <tr>\n",
       "      <th>187</th>\n",
       "      <td>canceled_gp3_bs1_n_bursts_median</td>\n",
       "      <td>0.15000</td>\n",
       "      <td>0.905564</td>\n",
       "    </tr>\n",
       "    <tr>\n",
       "      <th>189</th>\n",
       "      <td>canceled_gp3_bs1_n_bursts_min</td>\n",
       "      <td>0.30000</td>\n",
       "      <td>0.176926</td>\n",
       "    </tr>\n",
       "    <tr>\n",
       "      <th>190</th>\n",
       "      <td>canceled_gp3_bs1_burst_size_mean</td>\n",
       "      <td>0.36875</td>\n",
       "      <td>0.053409</td>\n",
       "    </tr>\n",
       "    <tr>\n",
       "      <th>191</th>\n",
       "      <td>canceled_gp3_bs1_burst_size_median</td>\n",
       "      <td>0.25000</td>\n",
       "      <td>0.362764</td>\n",
       "    </tr>\n",
       "    <tr>\n",
       "      <th>192</th>\n",
       "      <td>canceled_gp3_bs1_burst_size_max</td>\n",
       "      <td>0.36250</td>\n",
       "      <td>0.059890</td>\n",
       "    </tr>\n",
       "    <tr>\n",
       "      <th>193</th>\n",
       "      <td>canceled_gp3_bs1_burst_size_min</td>\n",
       "      <td>0.00000</td>\n",
       "      <td>1.000000</td>\n",
       "    </tr>\n",
       "    <tr>\n",
       "      <th>194</th>\n",
       "      <td>canceled_gp3_bs2_n_bursts_mean</td>\n",
       "      <td>0.36250</td>\n",
       "      <td>0.059890</td>\n",
       "    </tr>\n",
       "    <tr>\n",
       "      <th>195</th>\n",
       "      <td>canceled_gp3_bs2_n_bursts_median</td>\n",
       "      <td>0.20000</td>\n",
       "      <td>0.635869</td>\n",
       "    </tr>\n",
       "    <tr>\n",
       "      <th>197</th>\n",
       "      <td>canceled_gp3_bs2_n_bursts_min</td>\n",
       "      <td>0.10000</td>\n",
       "      <td>0.998094</td>\n",
       "    </tr>\n",
       "    <tr>\n",
       "      <th>198</th>\n",
       "      <td>canceled_gp3_bs2_burst_size_mean</td>\n",
       "      <td>0.36250</td>\n",
       "      <td>0.059890</td>\n",
       "    </tr>\n",
       "    <tr>\n",
       "      <th>199</th>\n",
       "      <td>canceled_gp3_bs2_burst_size_median</td>\n",
       "      <td>0.36250</td>\n",
       "      <td>0.059890</td>\n",
       "    </tr>\n",
       "    <tr>\n",
       "      <th>200</th>\n",
       "      <td>canceled_gp3_bs2_burst_size_max</td>\n",
       "      <td>0.36250</td>\n",
       "      <td>0.059890</td>\n",
       "    </tr>\n",
       "    <tr>\n",
       "      <th>201</th>\n",
       "      <td>canceled_gp3_bs2_burst_size_min</td>\n",
       "      <td>0.00000</td>\n",
       "      <td>1.000000</td>\n",
       "    </tr>\n",
       "    <tr>\n",
       "      <th>202</th>\n",
       "      <td>canceled_gp3_bs3_n_bursts_mean</td>\n",
       "      <td>0.34375</td>\n",
       "      <td>0.085080</td>\n",
       "    </tr>\n",
       "    <tr>\n",
       "      <th>203</th>\n",
       "      <td>canceled_gp3_bs3_n_bursts_median</td>\n",
       "      <td>0.15000</td>\n",
       "      <td>0.905564</td>\n",
       "    </tr>\n",
       "    <tr>\n",
       "      <th>204</th>\n",
       "      <td>canceled_gp3_bs3_n_bursts_max</td>\n",
       "      <td>0.34375</td>\n",
       "      <td>0.085080</td>\n",
       "    </tr>\n",
       "    <tr>\n",
       "      <th>205</th>\n",
       "      <td>canceled_gp3_bs3_n_bursts_min</td>\n",
       "      <td>0.10000</td>\n",
       "      <td>0.998094</td>\n",
       "    </tr>\n",
       "    <tr>\n",
       "      <th>206</th>\n",
       "      <td>canceled_gp3_bs3_burst_size_mean</td>\n",
       "      <td>0.34375</td>\n",
       "      <td>0.085080</td>\n",
       "    </tr>\n",
       "    <tr>\n",
       "      <th>207</th>\n",
       "      <td>canceled_gp3_bs3_burst_size_median</td>\n",
       "      <td>0.34375</td>\n",
       "      <td>0.085080</td>\n",
       "    </tr>\n",
       "    <tr>\n",
       "      <th>208</th>\n",
       "      <td>canceled_gp3_bs3_burst_size_max</td>\n",
       "      <td>0.34375</td>\n",
       "      <td>0.085080</td>\n",
       "    </tr>\n",
       "    <tr>\n",
       "      <th>209</th>\n",
       "      <td>canceled_gp3_bs3_burst_size_min</td>\n",
       "      <td>0.00000</td>\n",
       "      <td>1.000000</td>\n",
       "    </tr>\n",
       "    <tr>\n",
       "      <th>210</th>\n",
       "      <td>failed_gp1_bs1_n_bursts_mean</td>\n",
       "      <td>0.35625</td>\n",
       "      <td>0.067793</td>\n",
       "    </tr>\n",
       "    <tr>\n",
       "      <th>211</th>\n",
       "      <td>failed_gp1_bs1_n_bursts_median</td>\n",
       "      <td>0.15000</td>\n",
       "      <td>0.905564</td>\n",
       "    </tr>\n",
       "    <tr>\n",
       "      <th>213</th>\n",
       "      <td>failed_gp1_bs1_n_bursts_min</td>\n",
       "      <td>0.35000</td>\n",
       "      <td>0.075875</td>\n",
       "    </tr>\n",
       "    <tr>\n",
       "      <th>215</th>\n",
       "      <td>failed_gp1_bs1_burst_size_median</td>\n",
       "      <td>0.26875</td>\n",
       "      <td>0.281327</td>\n",
       "    </tr>\n",
       "    <tr>\n",
       "      <th>217</th>\n",
       "      <td>failed_gp1_bs1_burst_size_min</td>\n",
       "      <td>0.00000</td>\n",
       "      <td>1.000000</td>\n",
       "    </tr>\n",
       "    <tr>\n",
       "      <th>218</th>\n",
       "      <td>failed_gp1_bs2_n_bursts_mean</td>\n",
       "      <td>0.35000</td>\n",
       "      <td>0.075875</td>\n",
       "    </tr>\n",
       "    <tr>\n",
       "      <th>219</th>\n",
       "      <td>failed_gp1_bs2_n_bursts_median</td>\n",
       "      <td>0.15000</td>\n",
       "      <td>0.905564</td>\n",
       "    </tr>\n",
       "    <tr>\n",
       "      <th>221</th>\n",
       "      <td>failed_gp1_bs2_n_bursts_min</td>\n",
       "      <td>0.10000</td>\n",
       "      <td>0.998094</td>\n",
       "    </tr>\n",
       "    <tr>\n",
       "      <th>223</th>\n",
       "      <td>failed_gp1_bs2_burst_size_median</td>\n",
       "      <td>0.33125</td>\n",
       "      <td>0.105548</td>\n",
       "    </tr>\n",
       "    <tr>\n",
       "      <th>225</th>\n",
       "      <td>failed_gp1_bs2_burst_size_min</td>\n",
       "      <td>0.00000</td>\n",
       "      <td>1.000000</td>\n",
       "    </tr>\n",
       "    <tr>\n",
       "      <th>227</th>\n",
       "      <td>failed_gp1_bs3_n_bursts_median</td>\n",
       "      <td>0.15000</td>\n",
       "      <td>0.905564</td>\n",
       "    </tr>\n",
       "    <tr>\n",
       "      <th>229</th>\n",
       "      <td>failed_gp1_bs3_n_bursts_min</td>\n",
       "      <td>0.10000</td>\n",
       "      <td>0.998094</td>\n",
       "    </tr>\n",
       "    <tr>\n",
       "      <th>233</th>\n",
       "      <td>failed_gp1_bs3_burst_size_min</td>\n",
       "      <td>0.00000</td>\n",
       "      <td>1.000000</td>\n",
       "    </tr>\n",
       "    <tr>\n",
       "      <th>235</th>\n",
       "      <td>failed_gp2_bs1_n_bursts_median</td>\n",
       "      <td>0.15000</td>\n",
       "      <td>0.905564</td>\n",
       "    </tr>\n",
       "    <tr>\n",
       "      <th>237</th>\n",
       "      <td>failed_gp2_bs1_n_bursts_min</td>\n",
       "      <td>0.30000</td>\n",
       "      <td>0.176926</td>\n",
       "    </tr>\n",
       "    <tr>\n",
       "      <th>238</th>\n",
       "      <td>failed_gp2_bs1_burst_size_mean</td>\n",
       "      <td>0.36250</td>\n",
       "      <td>0.059890</td>\n",
       "    </tr>\n",
       "    <tr>\n",
       "      <th>239</th>\n",
       "      <td>failed_gp2_bs1_burst_size_median</td>\n",
       "      <td>0.25000</td>\n",
       "      <td>0.362764</td>\n",
       "    </tr>\n",
       "    <tr>\n",
       "      <th>241</th>\n",
       "      <td>failed_gp2_bs1_burst_size_min</td>\n",
       "      <td>0.00000</td>\n",
       "      <td>1.000000</td>\n",
       "    </tr>\n",
       "    <tr>\n",
       "      <th>242</th>\n",
       "      <td>failed_gp2_bs2_n_bursts_mean</td>\n",
       "      <td>0.36250</td>\n",
       "      <td>0.059890</td>\n",
       "    </tr>\n",
       "    <tr>\n",
       "      <th>243</th>\n",
       "      <td>failed_gp2_bs2_n_bursts_median</td>\n",
       "      <td>0.15000</td>\n",
       "      <td>0.905564</td>\n",
       "    </tr>\n",
       "    <tr>\n",
       "      <th>244</th>\n",
       "      <td>failed_gp2_bs2_n_bursts_max</td>\n",
       "      <td>0.36250</td>\n",
       "      <td>0.059890</td>\n",
       "    </tr>\n",
       "    <tr>\n",
       "      <th>245</th>\n",
       "      <td>failed_gp2_bs2_n_bursts_min</td>\n",
       "      <td>0.10000</td>\n",
       "      <td>0.998094</td>\n",
       "    </tr>\n",
       "    <tr>\n",
       "      <th>247</th>\n",
       "      <td>failed_gp2_bs2_burst_size_median</td>\n",
       "      <td>0.36250</td>\n",
       "      <td>0.059890</td>\n",
       "    </tr>\n",
       "    <tr>\n",
       "      <th>249</th>\n",
       "      <td>failed_gp2_bs2_burst_size_min</td>\n",
       "      <td>0.00000</td>\n",
       "      <td>1.000000</td>\n",
       "    </tr>\n",
       "    <tr>\n",
       "      <th>251</th>\n",
       "      <td>failed_gp2_bs3_n_bursts_median</td>\n",
       "      <td>0.15000</td>\n",
       "      <td>0.905564</td>\n",
       "    </tr>\n",
       "    <tr>\n",
       "      <th>253</th>\n",
       "      <td>failed_gp2_bs3_n_bursts_min</td>\n",
       "      <td>0.10000</td>\n",
       "      <td>0.998094</td>\n",
       "    </tr>\n",
       "    <tr>\n",
       "      <th>257</th>\n",
       "      <td>failed_gp2_bs3_burst_size_min</td>\n",
       "      <td>0.00000</td>\n",
       "      <td>1.000000</td>\n",
       "    </tr>\n",
       "    <tr>\n",
       "      <th>259</th>\n",
       "      <td>failed_gp3_bs1_n_bursts_median</td>\n",
       "      <td>0.15000</td>\n",
       "      <td>0.905564</td>\n",
       "    </tr>\n",
       "    <tr>\n",
       "      <th>261</th>\n",
       "      <td>failed_gp3_bs1_n_bursts_min</td>\n",
       "      <td>0.30000</td>\n",
       "      <td>0.176926</td>\n",
       "    </tr>\n",
       "    <tr>\n",
       "      <th>262</th>\n",
       "      <td>failed_gp3_bs1_burst_size_mean</td>\n",
       "      <td>0.36875</td>\n",
       "      <td>0.053409</td>\n",
       "    </tr>\n",
       "    <tr>\n",
       "      <th>263</th>\n",
       "      <td>failed_gp3_bs1_burst_size_median</td>\n",
       "      <td>0.25000</td>\n",
       "      <td>0.362764</td>\n",
       "    </tr>\n",
       "    <tr>\n",
       "      <th>264</th>\n",
       "      <td>failed_gp3_bs1_burst_size_max</td>\n",
       "      <td>0.36250</td>\n",
       "      <td>0.059890</td>\n",
       "    </tr>\n",
       "    <tr>\n",
       "      <th>265</th>\n",
       "      <td>failed_gp3_bs1_burst_size_min</td>\n",
       "      <td>0.00000</td>\n",
       "      <td>1.000000</td>\n",
       "    </tr>\n",
       "    <tr>\n",
       "      <th>266</th>\n",
       "      <td>failed_gp3_bs2_n_bursts_mean</td>\n",
       "      <td>0.36250</td>\n",
       "      <td>0.059890</td>\n",
       "    </tr>\n",
       "    <tr>\n",
       "      <th>267</th>\n",
       "      <td>failed_gp3_bs2_n_bursts_median</td>\n",
       "      <td>0.20000</td>\n",
       "      <td>0.635869</td>\n",
       "    </tr>\n",
       "    <tr>\n",
       "      <th>269</th>\n",
       "      <td>failed_gp3_bs2_n_bursts_min</td>\n",
       "      <td>0.10000</td>\n",
       "      <td>0.998094</td>\n",
       "    </tr>\n",
       "    <tr>\n",
       "      <th>270</th>\n",
       "      <td>failed_gp3_bs2_burst_size_mean</td>\n",
       "      <td>0.36250</td>\n",
       "      <td>0.059890</td>\n",
       "    </tr>\n",
       "    <tr>\n",
       "      <th>271</th>\n",
       "      <td>failed_gp3_bs2_burst_size_median</td>\n",
       "      <td>0.36250</td>\n",
       "      <td>0.059890</td>\n",
       "    </tr>\n",
       "    <tr>\n",
       "      <th>272</th>\n",
       "      <td>failed_gp3_bs2_burst_size_max</td>\n",
       "      <td>0.36250</td>\n",
       "      <td>0.059890</td>\n",
       "    </tr>\n",
       "    <tr>\n",
       "      <th>273</th>\n",
       "      <td>failed_gp3_bs2_burst_size_min</td>\n",
       "      <td>0.00000</td>\n",
       "      <td>1.000000</td>\n",
       "    </tr>\n",
       "    <tr>\n",
       "      <th>274</th>\n",
       "      <td>failed_gp3_bs3_n_bursts_mean</td>\n",
       "      <td>0.34375</td>\n",
       "      <td>0.085080</td>\n",
       "    </tr>\n",
       "    <tr>\n",
       "      <th>275</th>\n",
       "      <td>failed_gp3_bs3_n_bursts_median</td>\n",
       "      <td>0.15000</td>\n",
       "      <td>0.905564</td>\n",
       "    </tr>\n",
       "    <tr>\n",
       "      <th>276</th>\n",
       "      <td>failed_gp3_bs3_n_bursts_max</td>\n",
       "      <td>0.34375</td>\n",
       "      <td>0.085080</td>\n",
       "    </tr>\n",
       "    <tr>\n",
       "      <th>277</th>\n",
       "      <td>failed_gp3_bs3_n_bursts_min</td>\n",
       "      <td>0.10000</td>\n",
       "      <td>0.998094</td>\n",
       "    </tr>\n",
       "    <tr>\n",
       "      <th>278</th>\n",
       "      <td>failed_gp3_bs3_burst_size_mean</td>\n",
       "      <td>0.34375</td>\n",
       "      <td>0.085080</td>\n",
       "    </tr>\n",
       "    <tr>\n",
       "      <th>279</th>\n",
       "      <td>failed_gp3_bs3_burst_size_median</td>\n",
       "      <td>0.34375</td>\n",
       "      <td>0.085080</td>\n",
       "    </tr>\n",
       "    <tr>\n",
       "      <th>280</th>\n",
       "      <td>failed_gp3_bs3_burst_size_max</td>\n",
       "      <td>0.34375</td>\n",
       "      <td>0.085080</td>\n",
       "    </tr>\n",
       "    <tr>\n",
       "      <th>281</th>\n",
       "      <td>failed_gp3_bs3_burst_size_min</td>\n",
       "      <td>0.00000</td>\n",
       "      <td>1.000000</td>\n",
       "    </tr>\n",
       "    <tr>\n",
       "      <th>283</th>\n",
       "      <td>post_release_bugs</td>\n",
       "      <td>0.15000</td>\n",
       "      <td>0.905564</td>\n",
       "    </tr>\n",
       "    <tr>\n",
       "      <th>284</th>\n",
       "      <td>pre_release_bugs</td>\n",
       "      <td>0.20625</td>\n",
       "      <td>0.596363</td>\n",
       "    </tr>\n",
       "    <tr>\n",
       "      <th>285</th>\n",
       "      <td>dde</td>\n",
       "      <td>0.21250</td>\n",
       "      <td>0.561659</td>\n",
       "    </tr>\n",
       "    <tr>\n",
       "      <th>286</th>\n",
       "      <td>critical_post_release_bugs</td>\n",
       "      <td>0.18125</td>\n",
       "      <td>0.745703</td>\n",
       "    </tr>\n",
       "    <tr>\n",
       "      <th>287</th>\n",
       "      <td>minor_post_release_bugs</td>\n",
       "      <td>0.23125</td>\n",
       "      <td>0.455275</td>\n",
       "    </tr>\n",
       "    <tr>\n",
       "      <th>288</th>\n",
       "      <td>fix_time</td>\n",
       "      <td>0.28750</td>\n",
       "      <td>0.215639</td>\n",
       "    </tr>\n",
       "  </tbody>\n",
       "</table>\n",
       "</div>"
      ],
      "text/plain": [
       "                                  feature  statistic    pvalue\n",
       "2                                ahead_by    0.26875  0.281327\n",
       "3                               behind_by    0.10000  0.998094\n",
       "6                        ahead_behind_sum    0.26875  0.281327\n",
       "7                       diff_author_dates    0.27500  0.259001\n",
       "8                        diff_author_days    0.21250  0.561659\n",
       "11                      diff_commit_dates    0.30625  0.161785\n",
       "12                       diff_commit_days    0.16875  0.816544\n",
       "18                   ratio_errored_builds    0.33125  0.105548\n",
       "38           mean_errors_over_tests_total    0.36875  0.053409\n",
       "40            max_errors_over_tests_total    0.35625  0.067793\n",
       "42                      mean_failed_tests    0.35625  0.067793\n",
       "43                    median_failed_tests    0.05000  1.000000\n",
       "45                       min_failed_tests    0.00000  1.000000\n",
       "50          mean_skipped_over_tests_total    0.30000  0.176926\n",
       "53           min_skipped_over_tests_total    0.20000  0.635869\n",
       "55                    median_n_exceptions    0.21875  0.526596\n",
       "57                       min_n_exceptions    0.00000  1.000000\n",
       "63                 median_n_error_classes    0.06250  1.000000\n",
       "65                    min_n_error_classes    0.00000  1.000000\n",
       "66       not_passed_gp1_bs1_n_bursts_mean    0.35625  0.067793\n",
       "67     not_passed_gp1_bs1_n_bursts_median    0.15000  0.905564\n",
       "69        not_passed_gp1_bs1_n_bursts_min    0.35000  0.075875\n",
       "71   not_passed_gp1_bs1_burst_size_median    0.26875  0.281327\n",
       "73      not_passed_gp1_bs1_burst_size_min    0.00000  1.000000\n",
       "74       not_passed_gp1_bs2_n_bursts_mean    0.35000  0.075875\n",
       "75     not_passed_gp1_bs2_n_bursts_median    0.15000  0.905564\n",
       "77        not_passed_gp1_bs2_n_bursts_min    0.10000  0.998094\n",
       "79   not_passed_gp1_bs2_burst_size_median    0.33125  0.105548\n",
       "81      not_passed_gp1_bs2_burst_size_min    0.00000  1.000000\n",
       "83     not_passed_gp1_bs3_n_bursts_median    0.15000  0.905564\n",
       "85        not_passed_gp1_bs3_n_bursts_min    0.10000  0.998094\n",
       "89      not_passed_gp1_bs3_burst_size_min    0.00000  1.000000\n",
       "91     not_passed_gp2_bs1_n_bursts_median    0.15000  0.905564\n",
       "93        not_passed_gp2_bs1_n_bursts_min    0.30000  0.176926\n",
       "94     not_passed_gp2_bs1_burst_size_mean    0.36250  0.059890\n",
       "95   not_passed_gp2_bs1_burst_size_median    0.25000  0.362764\n",
       "97      not_passed_gp2_bs1_burst_size_min    0.00000  1.000000\n",
       "98       not_passed_gp2_bs2_n_bursts_mean    0.36250  0.059890\n",
       "99     not_passed_gp2_bs2_n_bursts_median    0.15000  0.905564\n",
       "100       not_passed_gp2_bs2_n_bursts_max    0.36250  0.059890\n",
       "101       not_passed_gp2_bs2_n_bursts_min    0.10000  0.998094\n",
       "103  not_passed_gp2_bs2_burst_size_median    0.36250  0.059890\n",
       "105     not_passed_gp2_bs2_burst_size_min    0.00000  1.000000\n",
       "107    not_passed_gp2_bs3_n_bursts_median    0.15000  0.905564\n",
       "109       not_passed_gp2_bs3_n_bursts_min    0.10000  0.998094\n",
       "113     not_passed_gp2_bs3_burst_size_min    0.00000  1.000000\n",
       "115    not_passed_gp3_bs1_n_bursts_median    0.15000  0.905564\n",
       "117       not_passed_gp3_bs1_n_bursts_min    0.30000  0.176926\n",
       "118    not_passed_gp3_bs1_burst_size_mean    0.36875  0.053409\n",
       "119  not_passed_gp3_bs1_burst_size_median    0.25000  0.362764\n",
       "120     not_passed_gp3_bs1_burst_size_max    0.36250  0.059890\n",
       "121     not_passed_gp3_bs1_burst_size_min    0.00000  1.000000\n",
       "122      not_passed_gp3_bs2_n_bursts_mean    0.36250  0.059890\n",
       "123    not_passed_gp3_bs2_n_bursts_median    0.20000  0.635869\n",
       "125       not_passed_gp3_bs2_n_bursts_min    0.10000  0.998094\n",
       "126    not_passed_gp3_bs2_burst_size_mean    0.36250  0.059890\n",
       "127  not_passed_gp3_bs2_burst_size_median    0.36250  0.059890\n",
       "128     not_passed_gp3_bs2_burst_size_max    0.36250  0.059890\n",
       "129     not_passed_gp3_bs2_burst_size_min    0.00000  1.000000\n",
       "130      not_passed_gp3_bs3_n_bursts_mean    0.34375  0.085080\n",
       "131    not_passed_gp3_bs3_n_bursts_median    0.15000  0.905564\n",
       "132       not_passed_gp3_bs3_n_bursts_max    0.34375  0.085080\n",
       "133       not_passed_gp3_bs3_n_bursts_min    0.10000  0.998094\n",
       "134    not_passed_gp3_bs3_burst_size_mean    0.34375  0.085080\n",
       "135  not_passed_gp3_bs3_burst_size_median    0.34375  0.085080\n",
       "136     not_passed_gp3_bs3_burst_size_max    0.34375  0.085080\n",
       "137     not_passed_gp3_bs3_burst_size_min    0.00000  1.000000\n",
       "138        canceled_gp1_bs1_n_bursts_mean    0.35625  0.067793\n",
       "139      canceled_gp1_bs1_n_bursts_median    0.15000  0.905564\n",
       "141         canceled_gp1_bs1_n_bursts_min    0.35000  0.075875\n",
       "143    canceled_gp1_bs1_burst_size_median    0.26875  0.281327\n",
       "145       canceled_gp1_bs1_burst_size_min    0.00000  1.000000\n",
       "146        canceled_gp1_bs2_n_bursts_mean    0.35000  0.075875\n",
       "147      canceled_gp1_bs2_n_bursts_median    0.15000  0.905564\n",
       "149         canceled_gp1_bs2_n_bursts_min    0.10000  0.998094\n",
       "151    canceled_gp1_bs2_burst_size_median    0.33125  0.105548\n",
       "153       canceled_gp1_bs2_burst_size_min    0.00000  1.000000\n",
       "155      canceled_gp1_bs3_n_bursts_median    0.15000  0.905564\n",
       "157         canceled_gp1_bs3_n_bursts_min    0.10000  0.998094\n",
       "161       canceled_gp1_bs3_burst_size_min    0.00000  1.000000\n",
       "163      canceled_gp2_bs1_n_bursts_median    0.15000  0.905564\n",
       "165         canceled_gp2_bs1_n_bursts_min    0.30000  0.176926\n",
       "166      canceled_gp2_bs1_burst_size_mean    0.36250  0.059890\n",
       "167    canceled_gp2_bs1_burst_size_median    0.25000  0.362764\n",
       "169       canceled_gp2_bs1_burst_size_min    0.00000  1.000000\n",
       "170        canceled_gp2_bs2_n_bursts_mean    0.36250  0.059890\n",
       "171      canceled_gp2_bs2_n_bursts_median    0.15000  0.905564\n",
       "172         canceled_gp2_bs2_n_bursts_max    0.36250  0.059890\n",
       "173         canceled_gp2_bs2_n_bursts_min    0.10000  0.998094\n",
       "175    canceled_gp2_bs2_burst_size_median    0.36250  0.059890\n",
       "177       canceled_gp2_bs2_burst_size_min    0.00000  1.000000\n",
       "179      canceled_gp2_bs3_n_bursts_median    0.15000  0.905564\n",
       "181         canceled_gp2_bs3_n_bursts_min    0.10000  0.998094\n",
       "185       canceled_gp2_bs3_burst_size_min    0.00000  1.000000\n",
       "187      canceled_gp3_bs1_n_bursts_median    0.15000  0.905564\n",
       "189         canceled_gp3_bs1_n_bursts_min    0.30000  0.176926\n",
       "190      canceled_gp3_bs1_burst_size_mean    0.36875  0.053409\n",
       "191    canceled_gp3_bs1_burst_size_median    0.25000  0.362764\n",
       "192       canceled_gp3_bs1_burst_size_max    0.36250  0.059890\n",
       "193       canceled_gp3_bs1_burst_size_min    0.00000  1.000000\n",
       "194        canceled_gp3_bs2_n_bursts_mean    0.36250  0.059890\n",
       "195      canceled_gp3_bs2_n_bursts_median    0.20000  0.635869\n",
       "197         canceled_gp3_bs2_n_bursts_min    0.10000  0.998094\n",
       "198      canceled_gp3_bs2_burst_size_mean    0.36250  0.059890\n",
       "199    canceled_gp3_bs2_burst_size_median    0.36250  0.059890\n",
       "200       canceled_gp3_bs2_burst_size_max    0.36250  0.059890\n",
       "201       canceled_gp3_bs2_burst_size_min    0.00000  1.000000\n",
       "202        canceled_gp3_bs3_n_bursts_mean    0.34375  0.085080\n",
       "203      canceled_gp3_bs3_n_bursts_median    0.15000  0.905564\n",
       "204         canceled_gp3_bs3_n_bursts_max    0.34375  0.085080\n",
       "205         canceled_gp3_bs3_n_bursts_min    0.10000  0.998094\n",
       "206      canceled_gp3_bs3_burst_size_mean    0.34375  0.085080\n",
       "207    canceled_gp3_bs3_burst_size_median    0.34375  0.085080\n",
       "208       canceled_gp3_bs3_burst_size_max    0.34375  0.085080\n",
       "209       canceled_gp3_bs3_burst_size_min    0.00000  1.000000\n",
       "210          failed_gp1_bs1_n_bursts_mean    0.35625  0.067793\n",
       "211        failed_gp1_bs1_n_bursts_median    0.15000  0.905564\n",
       "213           failed_gp1_bs1_n_bursts_min    0.35000  0.075875\n",
       "215      failed_gp1_bs1_burst_size_median    0.26875  0.281327\n",
       "217         failed_gp1_bs1_burst_size_min    0.00000  1.000000\n",
       "218          failed_gp1_bs2_n_bursts_mean    0.35000  0.075875\n",
       "219        failed_gp1_bs2_n_bursts_median    0.15000  0.905564\n",
       "221           failed_gp1_bs2_n_bursts_min    0.10000  0.998094\n",
       "223      failed_gp1_bs2_burst_size_median    0.33125  0.105548\n",
       "225         failed_gp1_bs2_burst_size_min    0.00000  1.000000\n",
       "227        failed_gp1_bs3_n_bursts_median    0.15000  0.905564\n",
       "229           failed_gp1_bs3_n_bursts_min    0.10000  0.998094\n",
       "233         failed_gp1_bs3_burst_size_min    0.00000  1.000000\n",
       "235        failed_gp2_bs1_n_bursts_median    0.15000  0.905564\n",
       "237           failed_gp2_bs1_n_bursts_min    0.30000  0.176926\n",
       "238        failed_gp2_bs1_burst_size_mean    0.36250  0.059890\n",
       "239      failed_gp2_bs1_burst_size_median    0.25000  0.362764\n",
       "241         failed_gp2_bs1_burst_size_min    0.00000  1.000000\n",
       "242          failed_gp2_bs2_n_bursts_mean    0.36250  0.059890\n",
       "243        failed_gp2_bs2_n_bursts_median    0.15000  0.905564\n",
       "244           failed_gp2_bs2_n_bursts_max    0.36250  0.059890\n",
       "245           failed_gp2_bs2_n_bursts_min    0.10000  0.998094\n",
       "247      failed_gp2_bs2_burst_size_median    0.36250  0.059890\n",
       "249         failed_gp2_bs2_burst_size_min    0.00000  1.000000\n",
       "251        failed_gp2_bs3_n_bursts_median    0.15000  0.905564\n",
       "253           failed_gp2_bs3_n_bursts_min    0.10000  0.998094\n",
       "257         failed_gp2_bs3_burst_size_min    0.00000  1.000000\n",
       "259        failed_gp3_bs1_n_bursts_median    0.15000  0.905564\n",
       "261           failed_gp3_bs1_n_bursts_min    0.30000  0.176926\n",
       "262        failed_gp3_bs1_burst_size_mean    0.36875  0.053409\n",
       "263      failed_gp3_bs1_burst_size_median    0.25000  0.362764\n",
       "264         failed_gp3_bs1_burst_size_max    0.36250  0.059890\n",
       "265         failed_gp3_bs1_burst_size_min    0.00000  1.000000\n",
       "266          failed_gp3_bs2_n_bursts_mean    0.36250  0.059890\n",
       "267        failed_gp3_bs2_n_bursts_median    0.20000  0.635869\n",
       "269           failed_gp3_bs2_n_bursts_min    0.10000  0.998094\n",
       "270        failed_gp3_bs2_burst_size_mean    0.36250  0.059890\n",
       "271      failed_gp3_bs2_burst_size_median    0.36250  0.059890\n",
       "272         failed_gp3_bs2_burst_size_max    0.36250  0.059890\n",
       "273         failed_gp3_bs2_burst_size_min    0.00000  1.000000\n",
       "274          failed_gp3_bs3_n_bursts_mean    0.34375  0.085080\n",
       "275        failed_gp3_bs3_n_bursts_median    0.15000  0.905564\n",
       "276           failed_gp3_bs3_n_bursts_max    0.34375  0.085080\n",
       "277           failed_gp3_bs3_n_bursts_min    0.10000  0.998094\n",
       "278        failed_gp3_bs3_burst_size_mean    0.34375  0.085080\n",
       "279      failed_gp3_bs3_burst_size_median    0.34375  0.085080\n",
       "280         failed_gp3_bs3_burst_size_max    0.34375  0.085080\n",
       "281         failed_gp3_bs3_burst_size_min    0.00000  1.000000\n",
       "283                     post_release_bugs    0.15000  0.905564\n",
       "284                      pre_release_bugs    0.20625  0.596363\n",
       "285                                   dde    0.21250  0.561659\n",
       "286            critical_post_release_bugs    0.18125  0.745703\n",
       "287               minor_post_release_bugs    0.23125  0.455275\n",
       "288                              fix_time    0.28750  0.215639"
      ]
     },
     "execution_count": 276,
     "metadata": {},
     "output_type": "execute_result"
    }
   ],
   "source": [
    "data = []\n",
    "metrics = df_metrics[methods[0]]\n",
    "for col in metrics.columns:\n",
    "    res = stats.ks_2samp(metrics[metrics.java_build_tool==\"gradle\"][col],\\\n",
    "                 metrics[metrics.java_build_tool==\"maven\"][col])\n",
    "    data.append((col, res.statistic, res.pvalue))\n",
    "res = pd.DataFrame(data, columns=[\"feature\", \"statistic\", \"pvalue\"])\n",
    "res[res.pvalue > 0.05]"
   ]
  },
  {
   "cell_type": "code",
   "execution_count": 277,
   "metadata": {},
   "outputs": [
    {
     "data": {
      "image/png": "[encoded data removed]",
      "text/plain": [
       "<Figure size 1008x360 with 1 Axes>"
      ]
     },
     "metadata": {
      "needs_background": "light"
     },
     "output_type": "display_data"
    },
    {
     "data": {
      "image/png": "[encoded data removed]",
      "text/plain": [
       "<Figure size 1008x360 with 1 Axes>"
      ]
     },
     "metadata": {
      "needs_background": "light"
     },
     "output_type": "display_data"
    }
   ],
   "source": [
    "for method, metrics in df_metrics.items():\n",
    "    ax = sns.boxplot(x=\"java_build_tool\", y=\"ratio_failed_builds\",\n",
    "                 data=metrics)\n",
    "    plt.show()"
   ]
  },
  {
   "cell_type": "code",
   "execution_count": 278,
   "metadata": {},
   "outputs": [
    {
     "data": {
      "image/png": "[encoded data removed]",
      "text/plain": [
       "<Figure size 1008x360 with 1 Axes>"
      ]
     },
     "metadata": {
      "needs_background": "light"
     },
     "output_type": "display_data"
    },
    {
     "data": {
      "image/png": "[encoded data removed]",
      "text/plain": [
       "<Figure size 1008x360 with 1 Axes>"
      ]
     },
     "metadata": {
      "needs_background": "light"
     },
     "output_type": "display_data"
    }
   ],
   "source": [
    "for method, metrics in df_metrics.items():\n",
    "    ax = sns.boxplot(x=\"java_build_tool\", y=\"failed_gp2_bs1_burst_size_mean\",\n",
    "                 data=metrics)\n",
    "    plt.show()"
   ]
  },
  {
   "cell_type": "code",
   "execution_count": null,
   "metadata": {},
   "outputs": [],
   "source": []
  }
 ],
 "metadata": {
  "kernelspec": {
   "display_name": "Python 3",
   "language": "python",
   "name": "python3"
  }
 },
 "nbformat": 4,
 "nbformat_minor": 4
}
