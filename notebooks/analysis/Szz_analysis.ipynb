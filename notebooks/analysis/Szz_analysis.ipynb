{
 "cells": [
  {
   "cell_type": "code",
   "execution_count": 35,
   "metadata": {},
   "outputs": [],
   "source": [
    "import pandas as pd\n",
    "import pickle\n",
    "import json\n",
    "import seaborn as sns\n",
    "import pprint\n",
    "import json\n",
    "import glob\n",
    "import os\n",
    "pp = pprint.PrettyPrinter(depth=6)\n",
    "import matplotlib\n",
    "import matplotlib.pyplot as plt\n",
    "matplotlib.rcParams['figure.figsize'] = (15.0, 5.0)\n",
    "pd.set_option('display.max_columns', 120)"
   ]
  },
  {
   "cell_type": "code",
   "execution_count": 4,
   "metadata": {},
   "outputs": [],
   "source": [
    "szz_folder = \"../../szz\""
   ]
  },
  {
   "cell_type": "markdown",
   "metadata": {},
   "source": [
    "## Szz Unleashed 1 try\n",
    "* python3 fetch_jira_bugs/fetch.py --issue-code SONAR --jira-project jira.sonarsource.com\n",
    "* python3 fetch_jira_bugs/git_log_to_array.py --repo-path ../sonarqube --from-commit b326bfd875b0b41\n",
    "* java -jar build/libs/szz_find_bug_introducers-0.1.jar -i ../issue_list.json -r ../../sonarqube/"
   ]
  },
  {
   "cell_type": "code",
   "execution_count": 7,
   "metadata": {},
   "outputs": [],
   "source": [
    "szz_files = glob.glob(f\"{szz_folder}/szz_unleashed_1/*.json\")"
   ]
  },
  {
   "cell_type": "markdown",
   "metadata": {},
   "source": [
    "### Bug fixing commits"
   ]
  },
  {
   "cell_type": "code",
   "execution_count": 19,
   "metadata": {},
   "outputs": [],
   "source": [
    "data = {}\n",
    "for szz_file in szz_files:\n",
    "    with open(szz_file, \"r\") as f:\n",
    "        data.update(json.load(f))"
   ]
  },
  {
   "cell_type": "code",
   "execution_count": 25,
   "metadata": {},
   "outputs": [],
   "source": [
    "fields =[ 'creationdate',\n",
    " 'resolutiondate',\n",
    " 'commitdate',\n",
    " 'hash']"
   ]
  },
  {
   "cell_type": "code",
   "execution_count": 29,
   "metadata": {},
   "outputs": [
    {
     "data": {
      "text/html": [
       "<div>\n",
       "<style scoped>\n",
       "    .dataframe tbody tr th:only-of-type {\n",
       "        vertical-align: middle;\n",
       "    }\n",
       "\n",
       "    .dataframe tbody tr th {\n",
       "        vertical-align: top;\n",
       "    }\n",
       "\n",
       "    .dataframe thead th {\n",
       "        text-align: right;\n",
       "    }\n",
       "</style>\n",
       "<table border=\"1\" class=\"dataframe\">\n",
       "  <thead>\n",
       "    <tr style=\"text-align: right;\">\n",
       "      <th></th>\n",
       "      <th>issue_name</th>\n",
       "      <th>creationdate</th>\n",
       "      <th>resolutiondate</th>\n",
       "      <th>commitdate</th>\n",
       "      <th>hash</th>\n",
       "    </tr>\n",
       "  </thead>\n",
       "  <tbody>\n",
       "    <tr>\n",
       "      <th>0</th>\n",
       "      <td>SONAR-13766</td>\n",
       "      <td>2020-08-17 15:43:29 +0200</td>\n",
       "      <td>2020-08-25 16:12:26 +0200</td>\n",
       "      <td>2020-08-17 16:10:03 -0500</td>\n",
       "      <td>60c64b2c9f95bb52d070758fa88a3881ae69b5e7</td>\n",
       "    </tr>\n",
       "    <tr>\n",
       "      <th>1</th>\n",
       "      <td>SONAR-12677</td>\n",
       "      <td>2019-11-05 12:25:52 +0100</td>\n",
       "      <td>2019-11-12 15:15:54 +0100</td>\n",
       "      <td>2019-11-06 17:01:34 +0100</td>\n",
       "      <td>8c0b3350b714e835e91d89f958eefa531533070a</td>\n",
       "    </tr>\n",
       "    <tr>\n",
       "      <th>2</th>\n",
       "      <td>SONAR-11103</td>\n",
       "      <td>2018-08-02 17:41:21 +0200</td>\n",
       "      <td>2019-01-11 10:26:34 +0100</td>\n",
       "      <td>2019-01-10 15:13:33 +0100</td>\n",
       "      <td>27249ed2abb99bc945cc8b0917f33b50ae96f786</td>\n",
       "    </tr>\n",
       "    <tr>\n",
       "      <th>3</th>\n",
       "      <td>SONAR-11467</td>\n",
       "      <td>2018-11-09 15:02:37 +0100</td>\n",
       "      <td>2018-12-05 09:12:34 +0100</td>\n",
       "      <td>2018-12-04 15:30:20 +0100</td>\n",
       "      <td>a08697f54c9f0b98c1a811c22135b9ae303df05e</td>\n",
       "    </tr>\n",
       "    <tr>\n",
       "      <th>4</th>\n",
       "      <td>SONAR-11225</td>\n",
       "      <td>2018-09-04 11:19:01 +0200</td>\n",
       "      <td>2019-01-10 17:10:55 +0100</td>\n",
       "      <td>2019-01-10 15:54:51 +0100</td>\n",
       "      <td>355a3b65066e968e3669a97892df81ef15770a55</td>\n",
       "    </tr>\n",
       "    <tr>\n",
       "      <th>...</th>\n",
       "      <td>...</td>\n",
       "      <td>...</td>\n",
       "      <td>...</td>\n",
       "      <td>...</td>\n",
       "      <td>...</td>\n",
       "    </tr>\n",
       "    <tr>\n",
       "      <th>426</th>\n",
       "      <td>SONAR-6877</td>\n",
       "      <td>2015-09-29 09:06:17 +0200</td>\n",
       "      <td>2015-11-09 10:25:36 +0100</td>\n",
       "      <td>2015-09-29 14:01:50 +0200</td>\n",
       "      <td>e314496d2198c3d827dd7baa7ec1c8fe5a4f6fb1</td>\n",
       "    </tr>\n",
       "    <tr>\n",
       "      <th>427</th>\n",
       "      <td>SONAR-12092</td>\n",
       "      <td>2019-05-07 15:08:07 +0200</td>\n",
       "      <td>2019-06-24 14:14:55 +0200</td>\n",
       "      <td>2019-06-21 15:44:00 +0200</td>\n",
       "      <td>36a2571ece01e51f104523ed98f43e6f27f03f75</td>\n",
       "    </tr>\n",
       "    <tr>\n",
       "      <th>428</th>\n",
       "      <td>SONAR-6873</td>\n",
       "      <td>2015-09-29 07:34:57 +0200</td>\n",
       "      <td>2015-10-02 13:04:36 +0200</td>\n",
       "      <td>2015-09-28 17:27:35 +0200</td>\n",
       "      <td>3f40e0bcabc43f283e69782dd1b30d7203841188</td>\n",
       "    </tr>\n",
       "    <tr>\n",
       "      <th>429</th>\n",
       "      <td>SONAR-11914</td>\n",
       "      <td>2019-04-02 21:07:31 +0200</td>\n",
       "      <td>2020-06-19 16:41:06 +0200</td>\n",
       "      <td>2020-06-19 10:47:02 +0200</td>\n",
       "      <td>b3840f39050b6a805c321748c84726038ccb3f6a</td>\n",
       "    </tr>\n",
       "    <tr>\n",
       "      <th>430</th>\n",
       "      <td>SONAR-10708</td>\n",
       "      <td>2018-05-22 10:51:28 +0200</td>\n",
       "      <td>2018-10-11 10:45:14 +0200</td>\n",
       "      <td>2018-10-10 17:21:35 +0200</td>\n",
       "      <td>440c8093d3f5b7128aaf93775b91984430990f4a</td>\n",
       "    </tr>\n",
       "  </tbody>\n",
       "</table>\n",
       "<p>431 rows × 5 columns</p>\n",
       "</div>"
      ],
      "text/plain": [
       "      issue_name               creationdate             resolutiondate  \\\n",
       "0    SONAR-13766  2020-08-17 15:43:29 +0200  2020-08-25 16:12:26 +0200   \n",
       "1    SONAR-12677  2019-11-05 12:25:52 +0100  2019-11-12 15:15:54 +0100   \n",
       "2    SONAR-11103  2018-08-02 17:41:21 +0200  2019-01-11 10:26:34 +0100   \n",
       "3    SONAR-11467  2018-11-09 15:02:37 +0100  2018-12-05 09:12:34 +0100   \n",
       "4    SONAR-11225  2018-09-04 11:19:01 +0200  2019-01-10 17:10:55 +0100   \n",
       "..           ...                        ...                        ...   \n",
       "426   SONAR-6877  2015-09-29 09:06:17 +0200  2015-11-09 10:25:36 +0100   \n",
       "427  SONAR-12092  2019-05-07 15:08:07 +0200  2019-06-24 14:14:55 +0200   \n",
       "428   SONAR-6873  2015-09-29 07:34:57 +0200  2015-10-02 13:04:36 +0200   \n",
       "429  SONAR-11914  2019-04-02 21:07:31 +0200  2020-06-19 16:41:06 +0200   \n",
       "430  SONAR-10708  2018-05-22 10:51:28 +0200  2018-10-11 10:45:14 +0200   \n",
       "\n",
       "                    commitdate                                      hash  \n",
       "0    2020-08-17 16:10:03 -0500  60c64b2c9f95bb52d070758fa88a3881ae69b5e7  \n",
       "1    2019-11-06 17:01:34 +0100  8c0b3350b714e835e91d89f958eefa531533070a  \n",
       "2    2019-01-10 15:13:33 +0100  27249ed2abb99bc945cc8b0917f33b50ae96f786  \n",
       "3    2018-12-04 15:30:20 +0100  a08697f54c9f0b98c1a811c22135b9ae303df05e  \n",
       "4    2019-01-10 15:54:51 +0100  355a3b65066e968e3669a97892df81ef15770a55  \n",
       "..                         ...                                       ...  \n",
       "426  2015-09-29 14:01:50 +0200  e314496d2198c3d827dd7baa7ec1c8fe5a4f6fb1  \n",
       "427  2019-06-21 15:44:00 +0200  36a2571ece01e51f104523ed98f43e6f27f03f75  \n",
       "428  2015-09-28 17:27:35 +0200  3f40e0bcabc43f283e69782dd1b30d7203841188  \n",
       "429  2020-06-19 10:47:02 +0200  b3840f39050b6a805c321748c84726038ccb3f6a  \n",
       "430  2018-10-10 17:21:35 +0200  440c8093d3f5b7128aaf93775b91984430990f4a  \n",
       "\n",
       "[431 rows x 5 columns]"
      ]
     },
     "execution_count": 29,
     "metadata": {},
     "output_type": "execute_result"
    }
   ],
   "source": [
    "tuples = []\n",
    "for key in data.keys():\n",
    "    inner_tuple = []\n",
    "    inner_tuple.append(key)\n",
    "    for field in fields:\n",
    "        inner_tuple.append(data[key][field])\n",
    "    tuples.append(tuple(inner_tuple))\n",
    "issues_fixing_commit = pd.DataFrame(tuples, columns=[\"issue_name\"]+fields)\n",
    "issues_fixing_commit"
   ]
  },
  {
   "cell_type": "markdown",
   "metadata": {},
   "source": [
    "### Bug inducing commits"
   ]
  },
  {
   "cell_type": "code",
   "execution_count": 63,
   "metadata": {},
   "outputs": [],
   "source": [
    "szz_inducing_folders = list(filter(lambda path: True if os.path.isdir(path) else False, glob.glob(f\"{szz_folder}/szz_unleashed_1/results/*\")))\n",
    "szz_inducing_files = list(filter(lambda path: True if (os.path.isfile(path) and (\"fix_and_introducers_pairs\" in path)) else False, glob.glob(f\"{szz_folder}/szz_unleashed_1/results/*\")))"
   ]
  },
  {
   "cell_type": "code",
   "execution_count": 64,
   "metadata": {},
   "outputs": [
    {
     "data": {
      "text/plain": [
       "['../../szz/szz_unleashed_1/results/fix_and_introducers_pairs.json']"
      ]
     },
     "execution_count": 64,
     "metadata": {},
     "output_type": "execute_result"
    }
   ],
   "source": [
    "szz_inducing_files"
   ]
  },
  {
   "cell_type": "code",
   "execution_count": 67,
   "metadata": {},
   "outputs": [],
   "source": [
    "fix_and_introducers_pairs = {}\n",
    "\n",
    "for file in szz_inducing_files:\n",
    "    with open(file, \"r\") as f:\n",
    "        fix_and_introducers_pairs.update(json.load(f))\n",
    "\n",
    "for folder in szz_inducing_folders:\n",
    "    with open(f\"{folder}/fix_and_introducers_pairs.json\", \"r\") as f:\n",
    "        fix_and_introducers_pairs.update(json.load(f))"
   ]
  },
  {
   "cell_type": "code",
   "execution_count": 69,
   "metadata": {},
   "outputs": [],
   "source": [
    "fix_and_introducers_pairs_tuples = []\n",
    "for key in fix_and_introducers_pairs.keys():\n",
    "    fix_and_introducers_pairs_tuples.append((key, fix_and_introducers_pairs[key]))\n",
    "fix_and_introducers = pd.DataFrame(fix_and_introducers_pairs_tuples, columns=[\"fixing_commit\", \"inducing_commit\"])"
   ]
  },
  {
   "cell_type": "code",
   "execution_count": 76,
   "metadata": {},
   "outputs": [
    {
     "data": {
      "text/plain": [
       "373"
      ]
     },
     "execution_count": 76,
     "metadata": {},
     "output_type": "execute_result"
    }
   ],
   "source": [
    "len(set(issues_fixing_commit.hash).intersection(set(fix_and_introducers.fixing_commit)))"
   ]
  },
  {
   "cell_type": "code",
   "execution_count": 77,
   "metadata": {},
   "outputs": [
    {
     "data": {
      "text/html": [
       "<div>\n",
       "<style scoped>\n",
       "    .dataframe tbody tr th:only-of-type {\n",
       "        vertical-align: middle;\n",
       "    }\n",
       "\n",
       "    .dataframe tbody tr th {\n",
       "        vertical-align: top;\n",
       "    }\n",
       "\n",
       "    .dataframe thead th {\n",
       "        text-align: right;\n",
       "    }\n",
       "</style>\n",
       "<table border=\"1\" class=\"dataframe\">\n",
       "  <thead>\n",
       "    <tr style=\"text-align: right;\">\n",
       "      <th></th>\n",
       "      <th>fixing_commit</th>\n",
       "      <th>inducing_commit</th>\n",
       "    </tr>\n",
       "  </thead>\n",
       "  <tbody>\n",
       "    <tr>\n",
       "      <th>0</th>\n",
       "      <td>4e162555b40c43254f5b4e76470763bd6e706367</td>\n",
       "      <td>bc9b9edb7c887a74c47c59d615c48ae7024ab392</td>\n",
       "    </tr>\n",
       "    <tr>\n",
       "      <th>1</th>\n",
       "      <td>d6393623490fb38fa14c7e3a4a72bbcdbc47b835</td>\n",
       "      <td>1fd5d8abd320428e1e8e4cd1b3ebf793678b10f2</td>\n",
       "    </tr>\n",
       "    <tr>\n",
       "      <th>2</th>\n",
       "      <td>18f20eed6127994e54d2fcc7f9772fdcafcfd25d</td>\n",
       "      <td>f6df5fd53b68e63731fdec370778f827cddd6a7b</td>\n",
       "    </tr>\n",
       "    <tr>\n",
       "      <th>3</th>\n",
       "      <td>3383b0f376ddbfc348ecedc6fefc72adba929286</td>\n",
       "      <td>d82358c63d0fb979fb3cc27429a42ec833dc161a</td>\n",
       "    </tr>\n",
       "    <tr>\n",
       "      <th>4</th>\n",
       "      <td>63a3a432ef8a6127aa690b2bda2abab3c0ff82a5</td>\n",
       "      <td>6c37e7a9c7ef1b048c2067250235e24b386f4fc9</td>\n",
       "    </tr>\n",
       "    <tr>\n",
       "      <th>...</th>\n",
       "      <td>...</td>\n",
       "      <td>...</td>\n",
       "    </tr>\n",
       "    <tr>\n",
       "      <th>373</th>\n",
       "      <td>cfabfcbc0c4dc65000a2d1aca4212f7b1e720889</td>\n",
       "      <td>fede6d0a2378ce959e7cb1afdf221a92e22b8a6f</td>\n",
       "    </tr>\n",
       "    <tr>\n",
       "      <th>374</th>\n",
       "      <td>37915e1548b5a706b0aed606ee3250e3496850b0</td>\n",
       "      <td>e606937326a6f2c9d83d7d2509d73bb237a94356</td>\n",
       "    </tr>\n",
       "    <tr>\n",
       "      <th>375</th>\n",
       "      <td>1d2eb3b5ac8a23c5c4aa1b1ede5ce3f24840ce8a</td>\n",
       "      <td>abac7619c39e0e24aa86bb1150ce00b4063fa241</td>\n",
       "    </tr>\n",
       "    <tr>\n",
       "      <th>376</th>\n",
       "      <td>73e1d5bb27a020277499fe0be5d059184c59c233</td>\n",
       "      <td>6c37e7a9c7ef1b048c2067250235e24b386f4fc9</td>\n",
       "    </tr>\n",
       "    <tr>\n",
       "      <th>377</th>\n",
       "      <td>9c3628f7f4d5745c010cb2f958129495fdcda632</td>\n",
       "      <td>db9ccd217314f45a612028ffcf64daff0169f370</td>\n",
       "    </tr>\n",
       "  </tbody>\n",
       "</table>\n",
       "<p>378 rows × 2 columns</p>\n",
       "</div>"
      ],
      "text/plain": [
       "                                fixing_commit  \\\n",
       "0    4e162555b40c43254f5b4e76470763bd6e706367   \n",
       "1    d6393623490fb38fa14c7e3a4a72bbcdbc47b835   \n",
       "2    18f20eed6127994e54d2fcc7f9772fdcafcfd25d   \n",
       "3    3383b0f376ddbfc348ecedc6fefc72adba929286   \n",
       "4    63a3a432ef8a6127aa690b2bda2abab3c0ff82a5   \n",
       "..                                        ...   \n",
       "373  cfabfcbc0c4dc65000a2d1aca4212f7b1e720889   \n",
       "374  37915e1548b5a706b0aed606ee3250e3496850b0   \n",
       "375  1d2eb3b5ac8a23c5c4aa1b1ede5ce3f24840ce8a   \n",
       "376  73e1d5bb27a020277499fe0be5d059184c59c233   \n",
       "377  9c3628f7f4d5745c010cb2f958129495fdcda632   \n",
       "\n",
       "                              inducing_commit  \n",
       "0    bc9b9edb7c887a74c47c59d615c48ae7024ab392  \n",
       "1    1fd5d8abd320428e1e8e4cd1b3ebf793678b10f2  \n",
       "2    f6df5fd53b68e63731fdec370778f827cddd6a7b  \n",
       "3    d82358c63d0fb979fb3cc27429a42ec833dc161a  \n",
       "4    6c37e7a9c7ef1b048c2067250235e24b386f4fc9  \n",
       "..                                        ...  \n",
       "373  fede6d0a2378ce959e7cb1afdf221a92e22b8a6f  \n",
       "374  e606937326a6f2c9d83d7d2509d73bb237a94356  \n",
       "375  abac7619c39e0e24aa86bb1150ce00b4063fa241  \n",
       "376  6c37e7a9c7ef1b048c2067250235e24b386f4fc9  \n",
       "377  db9ccd217314f45a612028ffcf64daff0169f370  \n",
       "\n",
       "[378 rows x 2 columns]"
      ]
     },
     "execution_count": 77,
     "metadata": {},
     "output_type": "execute_result"
    }
   ],
   "source": [
    "fix_and_introducers"
   ]
  },
  {
   "cell_type": "code",
   "execution_count": null,
   "metadata": {},
   "outputs": [],
   "source": [
    "{\"4e162555b40c43254f5b4e76470763bd6e706367\": \"87d444ab3bf860db5d39843d689ff9d330c18384\"}"
   ]
  }
 ],
 "metadata": {
  "kernelspec": {
   "display_name": "Python 3",
   "language": "python",
   "name": "python3"
  },
  "language_info": {
   "codemirror_mode": {
    "name": "ipython",
    "version": 3
   },
   "file_extension": ".py",
   "mimetype": "text/x-python",
   "name": "python",
   "nbconvert_exporter": "python",
   "pygments_lexer": "ipython3",
   "version": "3.8.2"
  }
 },
 "nbformat": 4,
 "nbformat_minor": 4
}
