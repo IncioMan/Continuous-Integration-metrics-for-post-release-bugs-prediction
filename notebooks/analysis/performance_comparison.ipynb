{
 "cells": [
  {
   "cell_type": "code",
   "execution_count": 80,
   "metadata": {},
   "outputs": [],
   "source": [
    "import pandas as pd\n",
    "import matplotlib.pyplot as plt"
   ]
  },
  {
   "cell_type": "code",
   "execution_count": 24,
   "metadata": {},
   "outputs": [],
   "source": [
    "pkl_folder = \"../../pkl\"\n",
    "csv_folder = \"../../csv\"\n",
    "figure_folder = \"../../figures\""
   ]
  },
  {
   "cell_type": "code",
   "execution_count": 31,
   "metadata": {},
   "outputs": [],
   "source": [
    "maven = pd.read_csv(f\"{csv_folder}/models_performance/maven.csv\", index_col=0).add_suffix('_maven')\n",
    "gradle = pd.read_csv(f\"{csv_folder}/models_performance/gradle.csv\", index_col=0).add_suffix('_gradle')\n",
    "complete = pd.read_csv(f\"{csv_folder}/models_performance/complete.csv\", index_col=0).add_suffix('_complete')"
   ]
  },
  {
   "cell_type": "code",
   "execution_count": 34,
   "metadata": {},
   "outputs": [
    {
     "name": "stdout",
     "output_type": "stream",
     "text": [
      "(120, 4)\n",
      "(120, 4)\n",
      "(120, 4)\n"
     ]
    }
   ],
   "source": [
    "frames = [maven,gradle,complete]\n",
    "for frame in frames:\n",
    "    print(frame.shape)"
   ]
  },
  {
   "cell_type": "code",
   "execution_count": 44,
   "metadata": {},
   "outputs": [],
   "source": [
    "results = pd.concat(frames,axis=1)"
   ]
  },
  {
   "cell_type": "code",
   "execution_count": 45,
   "metadata": {},
   "outputs": [
    {
     "data": {
      "text/html": [
       "<div>\n",
       "<style scoped>\n",
       "    .dataframe tbody tr th:only-of-type {\n",
       "        vertical-align: middle;\n",
       "    }\n",
       "\n",
       "    .dataframe tbody tr th {\n",
       "        vertical-align: top;\n",
       "    }\n",
       "\n",
       "    .dataframe thead th {\n",
       "        text-align: right;\n",
       "    }\n",
       "</style>\n",
       "<table border=\"1\" class=\"dataframe\">\n",
       "  <thead>\n",
       "    <tr style=\"text-align: right;\">\n",
       "      <th></th>\n",
       "      <th>reg_dataset1_maven</th>\n",
       "      <th>reg_dataset2_maven</th>\n",
       "      <th>bin_dataset1_maven</th>\n",
       "      <th>bin_dataset2_maven</th>\n",
       "      <th>reg_dataset1_gradle</th>\n",
       "      <th>reg_dataset2_gradle</th>\n",
       "      <th>bin_dataset1_gradle</th>\n",
       "      <th>bin_dataset2_gradle</th>\n",
       "      <th>reg_dataset1_complete</th>\n",
       "      <th>reg_dataset2_complete</th>\n",
       "      <th>bin_dataset1_complete</th>\n",
       "      <th>bin_dataset2_complete</th>\n",
       "    </tr>\n",
       "  </thead>\n",
       "  <tbody>\n",
       "    <tr>\n",
       "      <th>0</th>\n",
       "      <td>0.442661</td>\n",
       "      <td>0.416227</td>\n",
       "      <td>1.000</td>\n",
       "      <td>0.875</td>\n",
       "      <td>0.232701</td>\n",
       "      <td>0.619694</td>\n",
       "      <td>0.571429</td>\n",
       "      <td>0.571429</td>\n",
       "      <td>0.263095</td>\n",
       "      <td>0.312500</td>\n",
       "      <td>0.636364</td>\n",
       "      <td>0.727273</td>\n",
       "    </tr>\n",
       "    <tr>\n",
       "      <th>1</th>\n",
       "      <td>0.717444</td>\n",
       "      <td>0.600857</td>\n",
       "      <td>0.875</td>\n",
       "      <td>0.875</td>\n",
       "      <td>0.321399</td>\n",
       "      <td>-0.551560</td>\n",
       "      <td>0.857143</td>\n",
       "      <td>0.857143</td>\n",
       "      <td>0.522969</td>\n",
       "      <td>0.437438</td>\n",
       "      <td>0.545455</td>\n",
       "      <td>0.727273</td>\n",
       "    </tr>\n",
       "    <tr>\n",
       "      <th>2</th>\n",
       "      <td>0.341068</td>\n",
       "      <td>0.509217</td>\n",
       "      <td>0.875</td>\n",
       "      <td>0.875</td>\n",
       "      <td>0.700280</td>\n",
       "      <td>-0.263288</td>\n",
       "      <td>0.333333</td>\n",
       "      <td>0.333333</td>\n",
       "      <td>-0.550497</td>\n",
       "      <td>0.040641</td>\n",
       "      <td>0.700000</td>\n",
       "      <td>0.700000</td>\n",
       "    </tr>\n",
       "    <tr>\n",
       "      <th>3</th>\n",
       "      <td>0.268293</td>\n",
       "      <td>-1.165235</td>\n",
       "      <td>0.875</td>\n",
       "      <td>1.000</td>\n",
       "      <td>0.642865</td>\n",
       "      <td>-0.306490</td>\n",
       "      <td>0.571429</td>\n",
       "      <td>0.571429</td>\n",
       "      <td>-0.691057</td>\n",
       "      <td>-1.376215</td>\n",
       "      <td>0.700000</td>\n",
       "      <td>0.900000</td>\n",
       "    </tr>\n",
       "    <tr>\n",
       "      <th>4</th>\n",
       "      <td>0.218851</td>\n",
       "      <td>0.327263</td>\n",
       "      <td>1.000</td>\n",
       "      <td>1.000</td>\n",
       "      <td>0.565084</td>\n",
       "      <td>0.399689</td>\n",
       "      <td>0.571429</td>\n",
       "      <td>0.571429</td>\n",
       "      <td>0.459532</td>\n",
       "      <td>-0.304283</td>\n",
       "      <td>0.500000</td>\n",
       "      <td>0.600000</td>\n",
       "    </tr>\n",
       "    <tr>\n",
       "      <th>...</th>\n",
       "      <td>...</td>\n",
       "      <td>...</td>\n",
       "      <td>...</td>\n",
       "      <td>...</td>\n",
       "      <td>...</td>\n",
       "      <td>...</td>\n",
       "      <td>...</td>\n",
       "      <td>...</td>\n",
       "      <td>...</td>\n",
       "      <td>...</td>\n",
       "      <td>...</td>\n",
       "      <td>...</td>\n",
       "    </tr>\n",
       "    <tr>\n",
       "      <th>115</th>\n",
       "      <td>0.258616</td>\n",
       "      <td>0.255902</td>\n",
       "      <td>0.875</td>\n",
       "      <td>0.875</td>\n",
       "      <td>-2.229976</td>\n",
       "      <td>0.069169</td>\n",
       "      <td>0.714286</td>\n",
       "      <td>0.714286</td>\n",
       "      <td>-0.682219</td>\n",
       "      <td>-0.469250</td>\n",
       "      <td>0.727273</td>\n",
       "      <td>0.636364</td>\n",
       "    </tr>\n",
       "    <tr>\n",
       "      <th>116</th>\n",
       "      <td>0.349836</td>\n",
       "      <td>0.402399</td>\n",
       "      <td>1.000</td>\n",
       "      <td>1.000</td>\n",
       "      <td>0.720242</td>\n",
       "      <td>0.760839</td>\n",
       "      <td>0.833333</td>\n",
       "      <td>0.833333</td>\n",
       "      <td>0.210363</td>\n",
       "      <td>0.142646</td>\n",
       "      <td>0.272727</td>\n",
       "      <td>0.818182</td>\n",
       "    </tr>\n",
       "    <tr>\n",
       "      <th>117</th>\n",
       "      <td>0.286245</td>\n",
       "      <td>0.576405</td>\n",
       "      <td>0.875</td>\n",
       "      <td>0.875</td>\n",
       "      <td>0.128988</td>\n",
       "      <td>0.641441</td>\n",
       "      <td>0.714286</td>\n",
       "      <td>0.714286</td>\n",
       "      <td>0.271664</td>\n",
       "      <td>0.248478</td>\n",
       "      <td>0.700000</td>\n",
       "      <td>0.700000</td>\n",
       "    </tr>\n",
       "    <tr>\n",
       "      <th>118</th>\n",
       "      <td>0.005914</td>\n",
       "      <td>0.457443</td>\n",
       "      <td>0.875</td>\n",
       "      <td>0.875</td>\n",
       "      <td>-0.830643</td>\n",
       "      <td>0.714821</td>\n",
       "      <td>0.571429</td>\n",
       "      <td>0.571429</td>\n",
       "      <td>0.217772</td>\n",
       "      <td>0.432710</td>\n",
       "      <td>0.700000</td>\n",
       "      <td>0.700000</td>\n",
       "    </tr>\n",
       "    <tr>\n",
       "      <th>119</th>\n",
       "      <td>0.282166</td>\n",
       "      <td>0.514907</td>\n",
       "      <td>0.875</td>\n",
       "      <td>1.000</td>\n",
       "      <td>0.503876</td>\n",
       "      <td>0.084127</td>\n",
       "      <td>0.666667</td>\n",
       "      <td>0.666667</td>\n",
       "      <td>0.804863</td>\n",
       "      <td>-0.427573</td>\n",
       "      <td>0.500000</td>\n",
       "      <td>0.800000</td>\n",
       "    </tr>\n",
       "  </tbody>\n",
       "</table>\n",
       "<p>120 rows × 12 columns</p>\n",
       "</div>"
      ],
      "text/plain": [
       "     reg_dataset1_maven  reg_dataset2_maven  bin_dataset1_maven  \\\n",
       "0              0.442661            0.416227               1.000   \n",
       "1              0.717444            0.600857               0.875   \n",
       "2              0.341068            0.509217               0.875   \n",
       "3              0.268293           -1.165235               0.875   \n",
       "4              0.218851            0.327263               1.000   \n",
       "..                  ...                 ...                 ...   \n",
       "115            0.258616            0.255902               0.875   \n",
       "116            0.349836            0.402399               1.000   \n",
       "117            0.286245            0.576405               0.875   \n",
       "118            0.005914            0.457443               0.875   \n",
       "119            0.282166            0.514907               0.875   \n",
       "\n",
       "     bin_dataset2_maven  reg_dataset1_gradle  reg_dataset2_gradle  \\\n",
       "0                 0.875             0.232701             0.619694   \n",
       "1                 0.875             0.321399            -0.551560   \n",
       "2                 0.875             0.700280            -0.263288   \n",
       "3                 1.000             0.642865            -0.306490   \n",
       "4                 1.000             0.565084             0.399689   \n",
       "..                  ...                  ...                  ...   \n",
       "115               0.875            -2.229976             0.069169   \n",
       "116               1.000             0.720242             0.760839   \n",
       "117               0.875             0.128988             0.641441   \n",
       "118               0.875            -0.830643             0.714821   \n",
       "119               1.000             0.503876             0.084127   \n",
       "\n",
       "     bin_dataset1_gradle  bin_dataset2_gradle  reg_dataset1_complete  \\\n",
       "0               0.571429             0.571429               0.263095   \n",
       "1               0.857143             0.857143               0.522969   \n",
       "2               0.333333             0.333333              -0.550497   \n",
       "3               0.571429             0.571429              -0.691057   \n",
       "4               0.571429             0.571429               0.459532   \n",
       "..                   ...                  ...                    ...   \n",
       "115             0.714286             0.714286              -0.682219   \n",
       "116             0.833333             0.833333               0.210363   \n",
       "117             0.714286             0.714286               0.271664   \n",
       "118             0.571429             0.571429               0.217772   \n",
       "119             0.666667             0.666667               0.804863   \n",
       "\n",
       "     reg_dataset2_complete  bin_dataset1_complete  bin_dataset2_complete  \n",
       "0                 0.312500               0.636364               0.727273  \n",
       "1                 0.437438               0.545455               0.727273  \n",
       "2                 0.040641               0.700000               0.700000  \n",
       "3                -1.376215               0.700000               0.900000  \n",
       "4                -0.304283               0.500000               0.600000  \n",
       "..                     ...                    ...                    ...  \n",
       "115              -0.469250               0.727273               0.636364  \n",
       "116               0.142646               0.272727               0.818182  \n",
       "117               0.248478               0.700000               0.700000  \n",
       "118               0.432710               0.700000               0.700000  \n",
       "119              -0.427573               0.500000               0.800000  \n",
       "\n",
       "[120 rows x 12 columns]"
      ]
     },
     "execution_count": 45,
     "metadata": {},
     "output_type": "execute_result"
    }
   ],
   "source": [
    "results"
   ]
  },
  {
   "cell_type": "code",
   "execution_count": 52,
   "metadata": {},
   "outputs": [
    {
     "data": {
      "text/plain": [
       "reg_dataset1_maven       0.385777\n",
       "reg_dataset1_gradle      0.503142\n",
       "reg_dataset1_complete    0.191622\n",
       "dtype: float64"
      ]
     },
     "execution_count": 52,
     "metadata": {},
     "output_type": "execute_result"
    }
   ],
   "source": [
    "results[[col for col in results.columns if col.startswith(\"reg_dataset1\")]].median()"
   ]
  },
  {
   "cell_type": "code",
   "execution_count": 51,
   "metadata": {},
   "outputs": [
    {
     "data": {
      "text/plain": [
       "reg_dataset2_maven       0.303527\n",
       "reg_dataset2_gradle      0.512905\n",
       "reg_dataset2_complete    0.103439\n",
       "dtype: float64"
      ]
     },
     "execution_count": 51,
     "metadata": {},
     "output_type": "execute_result"
    }
   ],
   "source": [
    "results[[col for col in results.columns if col.startswith(\"reg_dataset2\")]].median()"
   ]
  },
  {
   "cell_type": "code",
   "execution_count": 53,
   "metadata": {},
   "outputs": [
    {
     "data": {
      "text/plain": [
       "bin_dataset1_maven       0.875000\n",
       "bin_dataset1_gradle      0.714286\n",
       "bin_dataset1_complete    0.636364\n",
       "dtype: float64"
      ]
     },
     "execution_count": 53,
     "metadata": {},
     "output_type": "execute_result"
    }
   ],
   "source": [
    "results[[col for col in results.columns if col.startswith(\"bin_dataset1\")]].median()"
   ]
  },
  {
   "cell_type": "code",
   "execution_count": 54,
   "metadata": {},
   "outputs": [
    {
     "data": {
      "text/plain": [
       "bin_dataset2_maven       0.875000\n",
       "bin_dataset2_gradle      0.714286\n",
       "bin_dataset2_complete    0.700000\n",
       "dtype: float64"
      ]
     },
     "execution_count": 54,
     "metadata": {},
     "output_type": "execute_result"
    }
   ],
   "source": [
    "results[[col for col in results.columns if col.startswith(\"bin_dataset2\")]].median()"
   ]
  },
  {
   "cell_type": "code",
   "execution_count": 55,
   "metadata": {},
   "outputs": [],
   "source": [
    "from scipy import stats"
   ]
  },
  {
   "cell_type": "code",
   "execution_count": 64,
   "metadata": {},
   "outputs": [
    {
     "name": "stdout",
     "output_type": "stream",
     "text": [
      "bin_dataset1_complete NormaltestResult(statistic=2.740548006595402, pvalue=0.2540373429459395)\n",
      "bin_dataset2_complete NormaltestResult(statistic=0.47987865839756244, pvalue=0.786675587856942)\n"
     ]
    }
   ],
   "source": [
    "for col in results.columns:\n",
    "    val, p = stats.normaltest(results[col])\n",
    "    if(p>0.05):\n",
    "        print(col, stats.normaltest(results[col]))"
   ]
  },
  {
   "cell_type": "code",
   "execution_count": 65,
   "metadata": {},
   "outputs": [
    {
     "data": {
      "text/plain": [
       "<AxesSubplot:ylabel='Density'>"
      ]
     },
     "execution_count": 65,
     "metadata": {},
     "output_type": "execute_result"
    },
    {
     "data": {
      "image/png": "[encoded data removed]",
      "text/plain": [
       "<Figure size 432x288 with 1 Axes>"
      ]
     },
     "metadata": {
      "needs_background": "light"
     },
     "output_type": "display_data"
    }
   ],
   "source": [
    "results.bin_dataset2_complete.plot(kind=\"kde\")"
   ]
  },
  {
   "cell_type": "code",
   "execution_count": 72,
   "metadata": {},
   "outputs": [
    {
     "data": {
      "image/png": "[encoded data removed]",
      "text/plain": [
       "<Figure size 432x288 with 1 Axes>"
      ]
     },
     "metadata": {
      "needs_background": "light"
     },
     "output_type": "display_data"
    }
   ],
   "source": [
    "ax = results[[col for col in results.columns if col.startswith(\"reg_dataset1\")]].plot(kind=\"box\", showfliers=False)"
   ]
  },
  {
   "cell_type": "code",
   "execution_count": 103,
   "metadata": {},
   "outputs": [
    {
     "data": {
      "text/html": [
       "<div>\n",
       "<style scoped>\n",
       "    .dataframe tbody tr th:only-of-type {\n",
       "        vertical-align: middle;\n",
       "    }\n",
       "\n",
       "    .dataframe tbody tr th {\n",
       "        vertical-align: top;\n",
       "    }\n",
       "\n",
       "    .dataframe thead th {\n",
       "        text-align: right;\n",
       "    }\n",
       "</style>\n",
       "<table border=\"1\" class=\"dataframe\">\n",
       "  <thead>\n",
       "    <tr style=\"text-align: right;\">\n",
       "      <th></th>\n",
       "      <th>reg_dataset1_maven</th>\n",
       "      <th>reg_dataset2_maven</th>\n",
       "      <th>bin_dataset1_maven</th>\n",
       "      <th>bin_dataset2_maven</th>\n",
       "      <th>reg_dataset1_gradle</th>\n",
       "      <th>reg_dataset2_gradle</th>\n",
       "      <th>bin_dataset1_gradle</th>\n",
       "      <th>bin_dataset2_gradle</th>\n",
       "      <th>reg_dataset1_complete</th>\n",
       "      <th>reg_dataset2_complete</th>\n",
       "      <th>bin_dataset1_complete</th>\n",
       "      <th>bin_dataset2_complete</th>\n",
       "    </tr>\n",
       "  </thead>\n",
       "  <tbody>\n",
       "    <tr>\n",
       "      <th>count</th>\n",
       "      <td>120.000000</td>\n",
       "      <td>120.000000</td>\n",
       "      <td>120.000000</td>\n",
       "      <td>120.000000</td>\n",
       "      <td>120.000000</td>\n",
       "      <td>120.000000</td>\n",
       "      <td>120.000000</td>\n",
       "      <td>120.000000</td>\n",
       "      <td>120.000000</td>\n",
       "      <td>120.000000</td>\n",
       "      <td>120.000000</td>\n",
       "      <td>120.000000</td>\n",
       "    </tr>\n",
       "    <tr>\n",
       "      <th>mean</th>\n",
       "      <td>0.082673</td>\n",
       "      <td>-0.039568</td>\n",
       "      <td>0.896875</td>\n",
       "      <td>0.904167</td>\n",
       "      <td>0.157119</td>\n",
       "      <td>0.135442</td>\n",
       "      <td>0.700397</td>\n",
       "      <td>0.700397</td>\n",
       "      <td>-0.003579</td>\n",
       "      <td>-0.246240</td>\n",
       "      <td>0.633106</td>\n",
       "      <td>0.706894</td>\n",
       "    </tr>\n",
       "    <tr>\n",
       "      <th>std</th>\n",
       "      <td>1.007062</td>\n",
       "      <td>1.096916</td>\n",
       "      <td>0.096774</td>\n",
       "      <td>0.088364</td>\n",
       "      <td>1.143920</td>\n",
       "      <td>1.676151</td>\n",
       "      <td>0.175224</td>\n",
       "      <td>0.175224</td>\n",
       "      <td>0.596684</td>\n",
       "      <td>0.967050</td>\n",
       "      <td>0.123111</td>\n",
       "      <td>0.122768</td>\n",
       "    </tr>\n",
       "    <tr>\n",
       "      <th>min</th>\n",
       "      <td>-5.585999</td>\n",
       "      <td>-5.660871</td>\n",
       "      <td>0.625000</td>\n",
       "      <td>0.625000</td>\n",
       "      <td>-7.530096</td>\n",
       "      <td>-14.317308</td>\n",
       "      <td>0.142857</td>\n",
       "      <td>0.142857</td>\n",
       "      <td>-1.906955</td>\n",
       "      <td>-3.958115</td>\n",
       "      <td>0.272727</td>\n",
       "      <td>0.363636</td>\n",
       "    </tr>\n",
       "    <tr>\n",
       "      <th>25%</th>\n",
       "      <td>0.117431</td>\n",
       "      <td>-0.086492</td>\n",
       "      <td>0.875000</td>\n",
       "      <td>0.875000</td>\n",
       "      <td>0.220168</td>\n",
       "      <td>0.237968</td>\n",
       "      <td>0.642857</td>\n",
       "      <td>0.642857</td>\n",
       "      <td>-0.336842</td>\n",
       "      <td>-0.309249</td>\n",
       "      <td>0.545455</td>\n",
       "      <td>0.600000</td>\n",
       "    </tr>\n",
       "    <tr>\n",
       "      <th>50%</th>\n",
       "      <td>0.385777</td>\n",
       "      <td>0.303527</td>\n",
       "      <td>0.875000</td>\n",
       "      <td>0.875000</td>\n",
       "      <td>0.503142</td>\n",
       "      <td>0.512905</td>\n",
       "      <td>0.714286</td>\n",
       "      <td>0.714286</td>\n",
       "      <td>0.191622</td>\n",
       "      <td>0.103439</td>\n",
       "      <td>0.636364</td>\n",
       "      <td>0.700000</td>\n",
       "    </tr>\n",
       "    <tr>\n",
       "      <th>75%</th>\n",
       "      <td>0.580344</td>\n",
       "      <td>0.517717</td>\n",
       "      <td>1.000000</td>\n",
       "      <td>1.000000</td>\n",
       "      <td>0.678688</td>\n",
       "      <td>0.660292</td>\n",
       "      <td>0.833333</td>\n",
       "      <td>0.833333</td>\n",
       "      <td>0.447755</td>\n",
       "      <td>0.286181</td>\n",
       "      <td>0.700000</td>\n",
       "      <td>0.800000</td>\n",
       "    </tr>\n",
       "    <tr>\n",
       "      <th>max</th>\n",
       "      <td>0.943708</td>\n",
       "      <td>0.954004</td>\n",
       "      <td>1.000000</td>\n",
       "      <td>1.000000</td>\n",
       "      <td>0.940118</td>\n",
       "      <td>0.874435</td>\n",
       "      <td>1.000000</td>\n",
       "      <td>1.000000</td>\n",
       "      <td>0.810464</td>\n",
       "      <td>0.659556</td>\n",
       "      <td>0.900000</td>\n",
       "      <td>1.000000</td>\n",
       "    </tr>\n",
       "  </tbody>\n",
       "</table>\n",
       "</div>"
      ],
      "text/plain": [
       "       reg_dataset1_maven  reg_dataset2_maven  bin_dataset1_maven  \\\n",
       "count          120.000000          120.000000          120.000000   \n",
       "mean             0.082673           -0.039568            0.896875   \n",
       "std              1.007062            1.096916            0.096774   \n",
       "min             -5.585999           -5.660871            0.625000   \n",
       "25%              0.117431           -0.086492            0.875000   \n",
       "50%              0.385777            0.303527            0.875000   \n",
       "75%              0.580344            0.517717            1.000000   \n",
       "max              0.943708            0.954004            1.000000   \n",
       "\n",
       "       bin_dataset2_maven  reg_dataset1_gradle  reg_dataset2_gradle  \\\n",
       "count          120.000000           120.000000           120.000000   \n",
       "mean             0.904167             0.157119             0.135442   \n",
       "std              0.088364             1.143920             1.676151   \n",
       "min              0.625000            -7.530096           -14.317308   \n",
       "25%              0.875000             0.220168             0.237968   \n",
       "50%              0.875000             0.503142             0.512905   \n",
       "75%              1.000000             0.678688             0.660292   \n",
       "max              1.000000             0.940118             0.874435   \n",
       "\n",
       "       bin_dataset1_gradle  bin_dataset2_gradle  reg_dataset1_complete  \\\n",
       "count           120.000000           120.000000             120.000000   \n",
       "mean              0.700397             0.700397              -0.003579   \n",
       "std               0.175224             0.175224               0.596684   \n",
       "min               0.142857             0.142857              -1.906955   \n",
       "25%               0.642857             0.642857              -0.336842   \n",
       "50%               0.714286             0.714286               0.191622   \n",
       "75%               0.833333             0.833333               0.447755   \n",
       "max               1.000000             1.000000               0.810464   \n",
       "\n",
       "       reg_dataset2_complete  bin_dataset1_complete  bin_dataset2_complete  \n",
       "count             120.000000             120.000000             120.000000  \n",
       "mean               -0.246240               0.633106               0.706894  \n",
       "std                 0.967050               0.123111               0.122768  \n",
       "min                -3.958115               0.272727               0.363636  \n",
       "25%                -0.309249               0.545455               0.600000  \n",
       "50%                 0.103439               0.636364               0.700000  \n",
       "75%                 0.286181               0.700000               0.800000  \n",
       "max                 0.659556               0.900000               1.000000  "
      ]
     },
     "execution_count": 103,
     "metadata": {},
     "output_type": "execute_result"
    }
   ],
   "source": [
    "\n",
    "results.describe()"
   ]
  },
  {
   "cell_type": "code",
   "execution_count": 102,
   "metadata": {},
   "outputs": [
    {
     "data": {
      "image/png": "[encoded data removed]",
      "text/plain": [
       "<Figure size 1008x720 with 6 Axes>"
      ]
     },
     "metadata": {
      "needs_background": "light"
     },
     "output_type": "display_data"
    }
   ],
   "source": [
    "fig, axes = plt.subplots(figsize=(14,10), nrows=2, ncols=3)\n",
    "axes = axes.flatten()\n",
    "pairs = {\"binary maven\": [\"bin_dataset1_maven\",\"bin_dataset2_maven\"],\n",
    "         \"binary gradle\":[\"bin_dataset1_gradle\",\"bin_dataset2_gradle\"],\n",
    "         \"binary complete\":[\"bin_dataset1_complete\",\"bin_dataset2_complete\"],\n",
    "         \"regression maven\":[\"reg_dataset1_maven\",\"reg_dataset2_maven\"],\n",
    "         \"regression gradle\":[\"reg_dataset1_gradle\",\"reg_dataset2_gradle\"],\n",
    "         \"regression complete\":[\"reg_dataset1_complete\",\"reg_dataset2_complete\"]}\n",
    "for i, pair in enumerate(pairs):\n",
    "    df = results[pairs[pair]]\n",
    "    df.columns = [\"dataset1\", \"dataset2\"]\n",
    "    ax = df.plot(kind=\"box\", showfliers=False, ax=axes[i])\n",
    "    ax.set_title(pair)\n",
    "plt.savefig(f\"{figure_folder}/machine_learning_results/performance_comparison/dataset1_vs_2.png\", transparent=True, bbox_inches='tight', pad_inches=0.2)"
   ]
  },
  {
   "cell_type": "code",
   "execution_count": null,
   "metadata": {},
   "outputs": [],
   "source": []
  }
 ],
 "metadata": {
  "kernelspec": {
   "display_name": "Python 3",
   "language": "python",
   "name": "python3"
  },
  "language_info": {
   "codemirror_mode": {
    "name": "ipython",
    "version": 3
   },
   "file_extension": ".py",
   "mimetype": "text/x-python",
   "name": "python",
   "nbconvert_exporter": "python",
   "pygments_lexer": "ipython3",
   "version": "3.8.2"
  }
 },
 "nbformat": 4,
 "nbformat_minor": 4
}
